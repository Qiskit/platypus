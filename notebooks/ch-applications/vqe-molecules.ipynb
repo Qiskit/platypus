{
 "cells": [
  {
   "cell_type": "markdown",
   "metadata": {
    "tags": [
     "remove_cell"
    ]
   },
   "source": [
    "# Simulating Molecules using VQE"
   ]
  },
  {
   "cell_type": "markdown",
   "metadata": {},
   "source": [
    "In this tutorial, we introduce the Variational Quantum Eigensolver (VQE), motivate its use, explain the necessary theory, and demonstrate its implementation in finding the ground state energy of molecules."
   ]
  },
  {
   "cell_type": "markdown",
   "metadata": {},
   "source": [
    "## Introduction\n",
    "\n",
    "In many applications it is important to find the minimum eigenvalue of a matrix. For example, in chemistry, the minimum eigenvalue of a Hermitian matrix characterizing the molecule is the ground state energy of that system. In the future, the quantum phase estimation algorithm may be used to find the minimum eigenvalue. However, its implementation on useful problems requires circuit depths exceeding the limits of hardware available in the NISQ era. Thus, in 2014, Peruzzo *et al.* proposed VQE to estimate the ground state energy of a molecule using much shallower circuits [1]. \n",
    "\n",
    "Formally stated, given a Hermitian matrix $H$ with an unknown minimum eigenvalue $\\lambda_{\\text{min}}$, associated with the eigenstate $|\\psi_{\\text{min}}\\rangle$, VQE provides an estimate $\\lambda_{\\theta}$ bounding $\\lambda_{\\text{min}}$:\n",
    "\n",
    "$$\n",
    "\\begin{aligned}\n",
    "    \\lambda_{\\text{min}} \\le \\lambda_{\\theta} \\equiv \\langle \\psi(\\theta) |H|\\psi(\\theta) \\rangle\n",
    "\\end{aligned}  \n",
    "$$\n",
    "\n",
    "where $|\\psi(\\theta)\\rangle$ is the eigenstate associated with $\\lambda_{\\theta}$. By applying a parameterized circuit, represented by $U(\\theta)$, to some arbitrary starting state $|\\psi\\rangle$, the algorithm obtains an estimate $U(\\theta)|\\psi\\rangle \\equiv |\\psi(\\theta)\\rangle$ on $|\\psi_{\\text{min}}\\rangle$. The estimate is iteratively optimized by a classical controller changing the parameter $\\theta$ minimizing the expectation value of $\\langle \\psi(\\theta) |H|\\psi(\\theta) \\rangle$.\n",
    "\n"
   ]
  },
  {
   "cell_type": "markdown",
   "metadata": {},
   "source": [
    "## The Variational Method of Quantum Mechanics\n",
    "\n",
    "### Mathematical Background\n",
    "\n",
    "VQE is an application of the variational method of quantum mechanics. To better understand the variational method, some preliminary mathematical background is provided. An eigenvector, $|\\psi_i\\rangle$, of a matrix $A$ is invariant under transformation by $A$ up to a scalar multiplicative constant (the eigenvalue $\\lambda_i$). That is,\n",
    "\n",
    "$$\n",
    "\\begin{aligned}\n",
    "    A |\\psi_i\\rangle = \\lambda_i |\\psi_i\\rangle\n",
    "\\end{aligned}\n",
    "$$\n",
    "\n",
    "Furthermore, a matrix $H$ is Hermitian when it is equal to its own conjugate transpose.\n",
    "\n",
    "$$\n",
    "\\begin{aligned}\n",
    "    H = H^{\\dagger}\n",
    "\\end{aligned}\n",
    "$$\n",
    "\n",
    "The spectral theorem states that the eigenvalues of a Hermitian matrix must be real. Thus, any eigenvalue of $H$ has the property that `{latex} \\lambda_i = \\lambda_i^*`. As any measurable quantity must be real, Hermitian matrices are suitable for describing the Hamiltonians of quantum systems. Moreover, $H$ may be expressed as\n",
    "\n",
    "$$\n",
    "\\begin{aligned}\n",
    "    H = \\sum_{i = 1}^{N} \\lambda_i |\\psi_i\\rangle \\langle \\psi_i |\n",
    "\\end{aligned}\n",
    "$$\n",
    "\n",
    "where each $\\lambda_i$ is the eigenvalue corresponding to the eigenvector $|\\psi_i\\rangle$. Furthermore, the expectation value of the observable $H$ on an arbitrary quantum state $|\\psi\\rangle$ is given by \n",
    "\n",
    "$$\n",
    "\\begin{aligned}\n",
    "    \\langle H \\rangle_{\\psi} &\\equiv \\langle \\psi | H | \\psi \\rangle\n",
    "\\end{aligned}\n",
    "$$\n",
    "\n",
    "Substituting $H$ with its representation as a weighted sum of its eigenvectors,\n",
    "\n",
    "$$\n",
    "\\begin{aligned}\n",
    "    \\langle H \\rangle_{\\psi} = \\langle \\psi | H | \\psi \\rangle &= \\langle \\psi | \\left(\\sum_{i = 1}^{N} \\lambda_i |\\psi_i\\rangle \\langle \\psi_i |\\right) |\\psi\\rangle\\\\\n",
    "    &= \\sum_{i = 1}^{N} \\lambda_i \\langle \\psi | \\psi_i\\rangle \\langle \\psi_i | \\psi\\rangle \\\\\n",
    "    &= \\sum_{i = 1}^{N} \\lambda_i | \\langle \\psi_i | \\psi\\rangle |^2\n",
    "\\end{aligned}\n",
    "$$\n",
    "\n",
    "\n",
    "The last equation demonstrates that the expectation value of an observable on any state can be expressed as a linear combination using the eigenvalues associated with $H$ as the weights. Moreover, each of the weights in the linear combination is greater than or equal to 0, as $| \\langle \\psi_i | \\psi\\rangle |^2 \\ge 0$ and so it is clear that\n",
    "\n",
    "$$\n",
    "\\begin{aligned}\n",
    "    \\lambda_{\\text{min}} \\le \\langle H \\rangle_{\\psi} = \\langle \\psi | H | \\psi \\rangle = \\sum_{i = 1}^{N} \\lambda_i | \\langle \\psi_i | \\psi\\rangle |^2\n",
    "\\end{aligned}\n",
    "$$\n",
    "\n",
    "The above equation is known as the **variational method** (in some texts it is also known as the variational principle) [2]. It is important to note that this implies that the expectation value of any wave function will always be at least the minimum eigenvalue associated with $H$. Moreover, the expectation value of the eigenstate $|\\psi_{\\text{min}}\\rangle$ is given by `{latex} \\langle \\psi_{\\text{min}}|H|\\psi_{\\text{min}}\\rangle = \\langle \\psi_{\\text{min}}|\\lambda_{\\text{min}}|\\psi_{\\text{min}}\\rangle = \\lambda_{\\text{min}}`. Thus, as expected, `{latex} \\langle H \\rangle_{\\psi_{\\text{min}}}=\\lambda_{\\text{min}}`.\n",
    "\n",
    "### Bounding the Ground State\n",
    "\n",
    "When the Hamiltonian of a system is described by the Hermitian matrix $H$ the ground state energy of that system, $E_{gs}$, is the smallest eigenvalue associated with $H$. Selecting any wave function $|\\psi \\rangle$ (called an *ansatz*) as an initial guess for $|\\psi_{\\text{min}}\\rangle$, calculating its expectation value, $\\langle H \\rangle_{\\psi}$, and iteratively updating the wave function, we can get arbitrarily tight bounds on the ground state energy of a Hamiltonian."
   ]
  },
  {
   "cell_type": "markdown",
   "metadata": {},
   "source": [
    "## The Variational Quantum Eigensolver\n",
    "\n",
    "### Variational Forms\n",
    "\n",
    "A systematic approach to varying the ansatz is required to implement the variational method on a quantum computer. VQE does so through the use of a parameterized circuit with a fixed form. Such a circuit is often called a *variational form*, and its action may be represented by the linear transformation $U(\\theta)$. A variational form is applied to a starting state $|\\psi\\rangle$ (such as the vacuum state $|0\\rangle$, or the Hartree Fock state) and generates an output state $U(\\theta)|\\psi\\rangle\\equiv |\\psi(\\theta)\\rangle$. Iterative optimization over $|\\psi(\\theta)\\rangle$ aims to yield an expectation value `{latex} \\langle \\psi(\\theta)|H|\\psi(\\theta)\\rangle \\approx E_{gs} \\equiv \\lambda_{\\text{min}}`. Ideally, $|\\psi(\\theta)\\rangle$ will be close to $|\\psi_{\\text{min}}\\rangle$ (where 'closeness' is characterized by either state fidelity, or Manhattan distance) although in practice, useful bounds on $E_{gs}$ can be obtained even if this is not the case.\n",
    "\n",
    "Moreover, a fixed variational form with a polynomial number of parameters can only generate transformations to a polynomially sized subspace of all the states in an exponentially sized Hilbert space. Consequently, various variational forms exist. Some, such as Ry and RyRz are heuristically designed, without consideration of the target domain. Others, such as UCCSD, utilize domain specific knowledge to generate close approximations based on the problem's structure. The structure of common variational forms is discussed in greater depth later in this document. \n",
    "\n",
    "### Simple Variational Forms\n",
    "\n",
    "When constructing a variational form we must balance two opposing goals. Ideally, our $n$ qubit variational form would be able to generate any possible state $|\\psi\\rangle$ where $|\\psi\\rangle \\in \\mathbb{C}^N$ and $N=2^n$. However, we would like the variational form to use as few parameters as possible. Here, we aim to give intuition for the construction of variational forms satisfying our first goal, while disregarding the second goal for the sake of simplicity. \n",
    "\n",
    "Consider the case where $n=1$. The U3 gate takes three parameters, $\\theta, \\phi$ and $\\lambda$, and represents the following transformation:\n",
    "\n",
    "$$\n",
    "\\begin{aligned}\n",
    "    U3(\\theta, \\phi, \\lambda) = \\begin{pmatrix}\\cos(\\frac{\\theta}{2}) & -e^{i\\lambda}\\sin(\\frac{\\theta}{2}) \\\\ e^{i\\phi}\\sin(\\frac{\\theta}{2}) & e^{i\\lambda + i\\phi}\\cos(\\frac{\\theta}{2}) \\end{pmatrix}\n",
    "\\end{aligned}\n",
    "$$\n",
    "\n",
    "Up to a global phase, any possible single qubit transformation may be implemented by appropriately setting these parameters. Consequently, for the single qubit case, a variational form capable of generating any possible state is given by the circuit:\n",
    "\n",
    "![image1](./images/U3_var_form.png)\n",
    "\n",
    "\n",
    "Moreover, this universal 'variational form' only has 3 parameters and thus can be efficiently optimized. It is worth emphasizing that the ability to generate an arbitrary state ensures that during the optimization process, the variational form does not limit the set of attainable states over which the expectation value of $H$ can be taken. Ideally, this ensures that the minimum expectation value is limited only by the capabilities of the classical optimizer. \n",
    "\n",
    "A less trivial universal variational form may be derived for the 2 qubit case, where two body interactions, and thus entanglement, must be considered to achieve universality. Based on the work presented by *Shende et al.* [3] the following is an example of a universal parameterized 2 qubit circuit:\n",
    "\n",
    "![image2](./images/two_qubit_var_form.png)\n",
    "     \n",
    "Allow the transformation performed by the above circuit to be represented by $U(\\theta)$. When optimized, the expectation value of $H$ is minimized when $U(\\theta)|\\psi\\rangle \\equiv |\\psi(\\theta)\\rangle \\approx |\\psi_{\\text{min}}\\rangle$. By formulation, $U(\\theta)$ may produce a transformation to any possible state, and so this variational form may obtain an arbitrarily tight bound on two qubit ground state energies, only limited by the capabilities of the classical optimizer.\n",
    "\n",
    "### Parameter Optimization\n",
    "\n",
    "Once an efficiently parameterized variational form has been selected, in accordance with the variational method, its parameters must be optimized to minimize the expectation value of the target Hamiltonian. The parameter optimization process has various challenges. For example, quantum hardware has various types of noise and so objective function evaluation (energy calculation) may not necessarily reflect the true objective function. Additionally, some optimizers perform a number of objective function evaluations dependent on cardinality of the parameter set. An appropriate optimizer should be selected by considering the requirements of an application.\n",
    "\n",
    "A popular optimization strategy is gradient descent where each parameter is updated in the direction yielding the largest local change in energy. Consequently, the number of evaluations performed depends on the number of optimization parameters present. This allows the algorithm to quickly find a local optimum in the search space. However, this optimization strategy often gets stuck at poor local optima, and is relatively expensive in terms of the number of circuit evaluations performed. While an intuitive optimization strategy, it is not recommended for use in VQE.\n",
    "\n",
    "An appropriate optimizer for optimizing a noisy objective function is the *Simultaneous Perturbation Stochastic Approximation* optimizer (SPSA). SPSA approximates the gradient of the objective function with only two measurements. It does so by concurrently perturbing all the parameters in a random fashion, in contrast to gradient descent where each parameter is perturbed independently. When utilizing VQE in either a noisy simulator or on real hardware, SPSA is recommended as the classical optimizer.\n",
    "\n",
    "When noise is not present in the cost function evaluation (such as when using VQE with the `statevector` simulator), a wide variety of classical optimizers may be useful. Two such optimizers supported by Qiskit Aqua are the *Sequential Least Squares Programming* optimizer (SLSQP) and the *Constrained Optimization by Linear Approximation* optimizer (COBYLA). It is worth noting that COBYLA only performs one objective function evaluation per optimization iteration (and thus the number of evaluations is independent of the parameter set's cardinality). Therefore, if the objective function is noise-free and minimizing the number of performed evaluations is desirable, it is recommended to try COBYLA. \n",
    "\n",
    "### Example with a Single Qubit Variational Form\n",
    "\n",
    "We will now use the simple single qubit variational form to solve a problem similar to ground state energy estimation. Specifically, given a random probability vector $\\vec{x}$, we want to determine a parameterization for our single qubit variational form that outputs a probability distribution close to $\\vec{x}$ (where closeness is the Manhattan distance between the two probability vectors).\n",
    "\n",
    "We first create the random probability distribution in Python:"
   ]
  },
  {
   "cell_type": "code",
   "execution_count": 95,
   "metadata": {},
   "outputs": [],
   "source": [
    "# pylint: disable=missing-function-docstring\n",
    "import numpy as np\n",
    "np.random.seed(999999)\n",
    "p0 = np.random.random()\n",
    "target_distr = {0: p0, 1: 1-p0}"
   ]
  },
  {
   "cell_type": "markdown",
   "metadata": {},
   "source": [
    "We subsequently create a function that takes the parameters of our single U3 variational form as arguments and returns the corresponding quantum circuit:"
   ]
  },
  {
   "cell_type": "code",
   "execution_count": 96,
   "metadata": {},
   "outputs": [],
   "source": [
    "from qiskit import QuantumCircuit, ClassicalRegister, QuantumRegister\n",
    "def get_var_form(params):\n",
    "    qr = QuantumRegister(1, name=\"q\")\n",
    "    cr = ClassicalRegister(1, name='c')\n",
    "    qc = QuantumCircuit(qr, cr)\n",
    "    qc.u(params[0], params[1], params[2], qr[0])\n",
    "    qc.measure(qr, cr[0])\n",
    "    return qc"
   ]
  },
  {
   "cell_type": "markdown",
   "metadata": {},
   "source": [
    "Now we specify the objective function which takes as input a list of the variational form's parameters, and returns the cost associated with those parameters:"
   ]
  },
  {
   "cell_type": "code",
   "execution_count": 97,
   "metadata": {},
   "outputs": [],
   "source": [
    "from qiskit import Aer\n",
    "backend = Aer.get_backend(\"aer_simulator\")\n",
    "\n",
    "def counts_to_distr(counts):\n",
    "    \"\"\"Convert Qiskit result counts to dict with integers as\n",
    "    keys, and pseudo-probabilities as values.\"\"\"\n",
    "    n_shots = sum(counts.values())\n",
    "    return {int(k, 2): v/n_shots for k, v in counts.items()}\n",
    "\n",
    "def objective_function(params):\n",
    "    \"\"\"Compares the output distribution of our circuit with\n",
    "    parameters `params` to the target distribution.\"\"\"\n",
    "    # Create circuit instance with paramters and simulate it\n",
    "    qc = get_var_form(params)\n",
    "    result = backend.run(qc).result()\n",
    "    # Get the counts for each measured state, and convert\n",
    "    # those counts into a probability dict\n",
    "    output_distr = counts_to_distr(result.get_counts())\n",
    "    # Calculate the cost as the distance between the output\n",
    "    # distribution and the target distribution\n",
    "    cost = sum(\n",
    "        abs(target_distr.get(i, 0) - output_distr.get(i, 0))\n",
    "        for i in range(2**qc.num_qubits)\n",
    "    )\n",
    "    return cost"
   ]
  },
  {
   "cell_type": "markdown",
   "metadata": {},
   "source": [
    "Finally, we create an instance of the COBYLA optimizer, and run the algorithm. Note that the output varies from run to run due to random noise. Moreover, while close, the obtained distribution will not be exactly the same as the target distribution."
   ]
  },
  {
   "cell_type": "code",
   "execution_count": 98,
   "metadata": {},
   "outputs": [
    {
     "name": "stdout",
     "output_type": "stream",
     "text": [
      "Parameters Found: [ 1.96722266  1.84159169 -0.37090971]\n",
      "Target Distribution: {0: 0.308979188922057, 1: 0.691020811077943}\n",
      "Obtained Distribution: {1: 0.6993, 0: 0.3007}\n",
      "Cost: 0.005088497155885996\n"
     ]
    }
   ],
   "source": [
    "from qiskit.algorithms.optimizers import COBYLA\n",
    "optimizer = COBYLA(maxiter=500, tol=0.0001)\n",
    "\n",
    "# Create the initial parameters (noting that our\n",
    "# single qubit variational form has 3 parameters)\n",
    "params = np.random.rand(3)\n",
    "result = optimizer.minimize(\n",
    "    fun=objective_function,\n",
    "    x0=params)\n",
    "\n",
    "# Obtain the output distribution using the final parameters\n",
    "qc = get_var_form(result.x)\n",
    "counts = backend.run(qc, shots=10000).result().get_counts()\n",
    "output_distr = counts_to_distr(counts)\n",
    "\n",
    "print(\"Parameters Found:\", result.x)\n",
    "print(\"Target Distribution:\", target_distr)\n",
    "print(\"Obtained Distribution:\", output_distr)\n",
    "print(\"Cost:\", objective_function(result.x))"
   ]
  },
  {
   "cell_type": "markdown",
   "metadata": {},
   "source": [
    "### Structure of Common Variational Forms\n",
    "\n",
    "As already discussed, it's impossible for a polynomially parameterized variational form to generate a transformation to any state. Variational forms can be grouped into two categories, depending on how they deal with this limitation. The first category of variational forms use domain or application specific knowledge to limit the set of possible output states. The second approach uses a heuristic circuit without prior domain or application specific knowledge. \n",
    "\n",
    "The first category of variational forms exploit characteristics of the problem domain to restrict the set of transformations that may be required. For example, when calculating the ground state energy of a molecule, the number of particles in the system is known *a priori*. Therefore, if a starting state with the correct number of particles is used, by limiting the variational form to only producing particle preserving transformations, the number of parameters required to span the new transformation subspace can be greatly reduced. Indeed, by utilizing similar information from Coupled-Cluster theory, the variational form UCCSD can obtain very accurate results for molecular ground state energy estimation when starting from the Hartree Fock state. Another example illustrating the exploitation of domain-specific knowledge follows from considering the set of circuits realizable on real quantum hardware. Extant quantum computers, such as those based on super conducting qubits, have limited qubit connectivity. That is, it's impossible to implement 2-qubit gates on arbitrary qubit pairs (without inserting swap gates). Thus, variational forms have been constructed for specific quantum computer architectures where the circuits are specifically tuned to maximally exploit the natively available connectivity and gates of a given quantum device. Such a variational form was used in 2017 to successfully implement VQE for the estimation of the ground state energies of molecules as large as BeH$_2$ on an IBM quantum computer [4].\n",
    "\n",
    "In the second approach, gates are layered such that good approximations on a wide range of states may be obtained. Qiskit supports three such variational forms: RyRz, Ry and SwapRz (we will only discuss the first two). All of these variational forms accept multiple user-specified configurations. Three essential configurations are the number of qubits in the system, the depth setting, and the entanglement setting. A single layer of a variational form specifies a certain pattern of single qubit rotations and CX gates. The depth setting says how many times the variational form should repeat this pattern. By increasing the depth setting, at the cost of increasing the number of parameters that must be optimized, the set of states the variational form can generate increases. Finally, the entanglement setting selects the configuration, and implicitly the number, of CX gates. For example, when the entanglement setting is linear, CX gates are applied to adjacent qubit pairs in order (and thus $n-1$ CX gates are added per layer). When the entanglement setting is full, a CX gate is applied to each qubit pair in each layer. The circuits for RyRz corresponding to `entanglement=\"full\"` and `entanglement=\"linear\"` can be seen by executing the following code snippet:"
   ]
  },
  {
   "cell_type": "code",
   "execution_count": 99,
   "metadata": {},
   "outputs": [
    {
     "name": "stdout",
     "output_type": "stream",
     "text": [
      "linear entanglement:\n"
     ]
    },
    {
     "data": {
      "text/html": [
       "<pre style=\"word-wrap: normal;white-space: pre;background: #fff0;line-height: 1.1;font-family: &quot;Courier New&quot;,Courier,monospace\">     ┌──────────┐┌──────────┐     ┌──────────┐┌───────────┐                          ┌───────────┐┌───────────┐                          ┌───────────┐┌───────────┐                          \n",
       "q_0: ┤ Ry(θ[0]) ├┤ Rz(θ[4]) ├──■──┤ Ry(θ[8]) ├┤ Rz(θ[12]) ├───────────────────■──────┤ Ry(θ[16]) ├┤ Rz(θ[20]) ├───────────────────■──────┤ Ry(θ[24]) ├┤ Rz(θ[28]) ├──────────────────────────\n",
       "     ├──────────┤├──────────┤┌─┴─┐└──────────┘└┬──────────┤┌───────────┐    ┌─┴─┐    └───────────┘├───────────┤┌───────────┐    ┌─┴─┐    └───────────┘├───────────┤┌───────────┐             \n",
       "q_1: ┤ Ry(θ[1]) ├┤ Rz(θ[5]) ├┤ X ├─────■───────┤ Ry(θ[9]) ├┤ Rz(θ[13]) ├────┤ X ├──────────■──────┤ Ry(θ[17]) ├┤ Rz(θ[21]) ├────┤ X ├──────────■──────┤ Ry(θ[25]) ├┤ Rz(θ[29]) ├─────────────\n",
       "     ├──────────┤├──────────┤└───┘   ┌─┴─┐     └──────────┘├───────────┤┌───┴───┴───┐    ┌─┴─┐    └───────────┘├───────────┤┌───┴───┴───┐    ┌─┴─┐    └───────────┘├───────────┤┌───────────┐\n",
       "q_2: ┤ Ry(θ[2]) ├┤ Rz(θ[6]) ├────────┤ X ├──────────■──────┤ Ry(θ[10]) ├┤ Rz(θ[14]) ├────┤ X ├──────────■──────┤ Ry(θ[18]) ├┤ Rz(θ[22]) ├────┤ X ├──────────■──────┤ Ry(θ[26]) ├┤ Rz(θ[30]) ├\n",
       "     ├──────────┤├──────────┤        └───┘        ┌─┴─┐    ├───────────┤├───────────┤    └───┘        ┌─┴─┐    ├───────────┤├───────────┤    └───┘        ┌─┴─┐    ├───────────┤├───────────┤\n",
       "q_3: ┤ Ry(θ[3]) ├┤ Rz(θ[7]) ├─────────────────────┤ X ├────┤ Ry(θ[11]) ├┤ Rz(θ[15]) ├─────────────────┤ X ├────┤ Ry(θ[19]) ├┤ Rz(θ[23]) ├─────────────────┤ X ├────┤ Ry(θ[27]) ├┤ Rz(θ[31]) ├\n",
       "     └──────────┘└──────────┘                     └───┘    └───────────┘└───────────┘                 └───┘    └───────────┘└───────────┘                 └───┘    └───────────┘└───────────┘</pre>"
      ],
      "text/plain": [
       "     ┌──────────┐┌──────────┐     ┌──────────┐┌───────────┐                          ┌───────────┐┌───────────┐                          ┌───────────┐┌───────────┐                          \n",
       "q_0: ┤ Ry(θ[0]) ├┤ Rz(θ[4]) ├──■──┤ Ry(θ[8]) ├┤ Rz(θ[12]) ├───────────────────■──────┤ Ry(θ[16]) ├┤ Rz(θ[20]) ├───────────────────■──────┤ Ry(θ[24]) ├┤ Rz(θ[28]) ├──────────────────────────\n",
       "     ├──────────┤├──────────┤┌─┴─┐└──────────┘└┬──────────┤┌───────────┐    ┌─┴─┐    └───────────┘├───────────┤┌───────────┐    ┌─┴─┐    └───────────┘├───────────┤┌───────────┐             \n",
       "q_1: ┤ Ry(θ[1]) ├┤ Rz(θ[5]) ├┤ X ├─────■───────┤ Ry(θ[9]) ├┤ Rz(θ[13]) ├────┤ X ├──────────■──────┤ Ry(θ[17]) ├┤ Rz(θ[21]) ├────┤ X ├──────────■──────┤ Ry(θ[25]) ├┤ Rz(θ[29]) ├─────────────\n",
       "     ├──────────┤├──────────┤└───┘   ┌─┴─┐     └──────────┘├───────────┤┌───┴───┴───┐    ┌─┴─┐    └───────────┘├───────────┤┌───┴───┴───┐    ┌─┴─┐    └───────────┘├───────────┤┌───────────┐\n",
       "q_2: ┤ Ry(θ[2]) ├┤ Rz(θ[6]) ├────────┤ X ├──────────■──────┤ Ry(θ[10]) ├┤ Rz(θ[14]) ├────┤ X ├──────────■──────┤ Ry(θ[18]) ├┤ Rz(θ[22]) ├────┤ X ├──────────■──────┤ Ry(θ[26]) ├┤ Rz(θ[30]) ├\n",
       "     ├──────────┤├──────────┤        └───┘        ┌─┴─┐    ├───────────┤├───────────┤    └───┘        ┌─┴─┐    ├───────────┤├───────────┤    └───┘        ┌─┴─┐    ├───────────┤├───────────┤\n",
       "q_3: ┤ Ry(θ[3]) ├┤ Rz(θ[7]) ├─────────────────────┤ X ├────┤ Ry(θ[11]) ├┤ Rz(θ[15]) ├─────────────────┤ X ├────┤ Ry(θ[19]) ├┤ Rz(θ[23]) ├─────────────────┤ X ├────┤ Ry(θ[27]) ├┤ Rz(θ[31]) ├\n",
       "     └──────────┘└──────────┘                     └───┘    └───────────┘└───────────┘                 └───┘    └───────────┘└───────────┘                 └───┘    └───────────┘└───────────┘"
      ]
     },
     "metadata": {},
     "output_type": "display_data"
    },
    {
     "name": "stdout",
     "output_type": "stream",
     "text": [
      "full entanglement:\n"
     ]
    },
    {
     "data": {
      "text/html": [
       "<pre style=\"word-wrap: normal;white-space: pre;background: #fff0;line-height: 1.1;font-family: &quot;Courier New&quot;,Courier,monospace\">     ┌──────────┐┌──────────┐                    ┌──────────┐┌───────────┐                                         ┌───────────┐┌───────────┐                                         ┌───────────┐┌───────────┐                          \n",
       "q_0: ┤ Ry(θ[0]) ├┤ Rz(θ[4]) ├──■────■─────────■──┤ Ry(θ[8]) ├┤ Rz(θ[12]) ├───────────────────■────────■─────────■──┤ Ry(θ[16]) ├┤ Rz(θ[20]) ├───────────────────■────────■─────────■──┤ Ry(θ[24]) ├┤ Rz(θ[28]) ├──────────────────────────\n",
       "     ├──────────┤├──────────┤┌─┴─┐  │         │  └──────────┘└┬──────────┤┌───────────┐    ┌─┴─┐      │         │  └───────────┘├───────────┤┌───────────┐    ┌─┴─┐      │         │  └───────────┘├───────────┤┌───────────┐             \n",
       "q_1: ┤ Ry(θ[1]) ├┤ Rz(θ[5]) ├┤ X ├──┼────■────┼───────■───────┤ Ry(θ[9]) ├┤ Rz(θ[13]) ├────┤ X ├──────┼────■────┼────────■──────┤ Ry(θ[17]) ├┤ Rz(θ[21]) ├────┤ X ├──────┼────■────┼────────■──────┤ Ry(θ[25]) ├┤ Rz(θ[29]) ├─────────────\n",
       "     ├──────────┤├──────────┤└───┘┌─┴─┐┌─┴─┐  │       │       └──────────┘├───────────┤┌───┴───┴───┐┌─┴─┐┌─┴─┐  │        │      └───────────┘├───────────┤┌───┴───┴───┐┌─┴─┐┌─┴─┐  │        │      └───────────┘├───────────┤┌───────────┐\n",
       "q_2: ┤ Ry(θ[2]) ├┤ Rz(θ[6]) ├─────┤ X ├┤ X ├──┼───────┼────────────■──────┤ Ry(θ[10]) ├┤ Rz(θ[14]) ├┤ X ├┤ X ├──┼────────┼────────────■──────┤ Ry(θ[18]) ├┤ Rz(θ[22]) ├┤ X ├┤ X ├──┼────────┼────────────■──────┤ Ry(θ[26]) ├┤ Rz(θ[30]) ├\n",
       "     ├──────────┤├──────────┤     └───┘└───┘┌─┴─┐   ┌─┴─┐        ┌─┴─┐    ├───────────┤├───────────┤└───┘└───┘┌─┴─┐    ┌─┴─┐        ┌─┴─┐    ├───────────┤├───────────┤└───┘└───┘┌─┴─┐    ┌─┴─┐        ┌─┴─┐    ├───────────┤├───────────┤\n",
       "q_3: ┤ Ry(θ[3]) ├┤ Rz(θ[7]) ├───────────────┤ X ├───┤ X ├────────┤ X ├────┤ Ry(θ[11]) ├┤ Rz(θ[15]) ├──────────┤ X ├────┤ X ├────────┤ X ├────┤ Ry(θ[19]) ├┤ Rz(θ[23]) ├──────────┤ X ├────┤ X ├────────┤ X ├────┤ Ry(θ[27]) ├┤ Rz(θ[31]) ├\n",
       "     └──────────┘└──────────┘               └───┘   └───┘        └───┘    └───────────┘└───────────┘          └───┘    └───┘        └───┘    └───────────┘└───────────┘          └───┘    └───┘        └───┘    └───────────┘└───────────┘</pre>"
      ],
      "text/plain": [
       "     ┌──────────┐┌──────────┐                    ┌──────────┐┌───────────┐                                         ┌───────────┐┌───────────┐                                         ┌───────────┐┌───────────┐                          \n",
       "q_0: ┤ Ry(θ[0]) ├┤ Rz(θ[4]) ├──■────■─────────■──┤ Ry(θ[8]) ├┤ Rz(θ[12]) ├───────────────────■────────■─────────■──┤ Ry(θ[16]) ├┤ Rz(θ[20]) ├───────────────────■────────■─────────■──┤ Ry(θ[24]) ├┤ Rz(θ[28]) ├──────────────────────────\n",
       "     ├──────────┤├──────────┤┌─┴─┐  │         │  └──────────┘└┬──────────┤┌───────────┐    ┌─┴─┐      │         │  └───────────┘├───────────┤┌───────────┐    ┌─┴─┐      │         │  └───────────┘├───────────┤┌───────────┐             \n",
       "q_1: ┤ Ry(θ[1]) ├┤ Rz(θ[5]) ├┤ X ├──┼────■────┼───────■───────┤ Ry(θ[9]) ├┤ Rz(θ[13]) ├────┤ X ├──────┼────■────┼────────■──────┤ Ry(θ[17]) ├┤ Rz(θ[21]) ├────┤ X ├──────┼────■────┼────────■──────┤ Ry(θ[25]) ├┤ Rz(θ[29]) ├─────────────\n",
       "     ├──────────┤├──────────┤└───┘┌─┴─┐┌─┴─┐  │       │       └──────────┘├───────────┤┌───┴───┴───┐┌─┴─┐┌─┴─┐  │        │      └───────────┘├───────────┤┌───┴───┴───┐┌─┴─┐┌─┴─┐  │        │      └───────────┘├───────────┤┌───────────┐\n",
       "q_2: ┤ Ry(θ[2]) ├┤ Rz(θ[6]) ├─────┤ X ├┤ X ├──┼───────┼────────────■──────┤ Ry(θ[10]) ├┤ Rz(θ[14]) ├┤ X ├┤ X ├──┼────────┼────────────■──────┤ Ry(θ[18]) ├┤ Rz(θ[22]) ├┤ X ├┤ X ├──┼────────┼────────────■──────┤ Ry(θ[26]) ├┤ Rz(θ[30]) ├\n",
       "     ├──────────┤├──────────┤     └───┘└───┘┌─┴─┐   ┌─┴─┐        ┌─┴─┐    ├───────────┤├───────────┤└───┘└───┘┌─┴─┐    ┌─┴─┐        ┌─┴─┐    ├───────────┤├───────────┤└───┘└───┘┌─┴─┐    ┌─┴─┐        ┌─┴─┐    ├───────────┤├───────────┤\n",
       "q_3: ┤ Ry(θ[3]) ├┤ Rz(θ[7]) ├───────────────┤ X ├───┤ X ├────────┤ X ├────┤ Ry(θ[11]) ├┤ Rz(θ[15]) ├──────────┤ X ├────┤ X ├────────┤ X ├────┤ Ry(θ[19]) ├┤ Rz(θ[23]) ├──────────┤ X ├────┤ X ├────────┤ X ├────┤ Ry(θ[27]) ├┤ Rz(θ[31]) ├\n",
       "     └──────────┘└──────────┘               └───┘   └───┘        └───┘    └───────────┘└───────────┘          └───┘    └───┘        └───┘    └───────────┘└───────────┘          └───┘    └───┘        └───┘    └───────────┘└───────────┘"
      ]
     },
     "metadata": {},
     "output_type": "display_data"
    }
   ],
   "source": [
    "from qiskit.circuit.library import EfficientSU2\n",
    "entanglements = [\"linear\", \"full\"]\n",
    "for entanglement in entanglements:\n",
    "    form = EfficientSU2(num_qubits=4, entanglement=entanglement)\n",
    "    print(f\"{entanglement} entanglement:\")\n",
    "    # We initialize all parameters to 0 for this demonstration\n",
    "    display(form.decompose().draw(fold=-1))"
   ]
  },
  {
   "cell_type": "markdown",
   "metadata": {},
   "source": [
    "Assume the depth setting is set to $d$. Then, RyRz has $2n\\times (d+1)$ parameters and Ry (not shown) has $n\\times (d+1)$ parameters."
   ]
  },
  {
   "cell_type": "markdown",
   "metadata": {},
   "source": [
    "## VQE Implementation in Qiskit\n",
    "\n",
    "This section illustrates an implementation of VQE using the programmatic approach. Qiskit also enables a declarative implementation, however, it reveals less information about the underlying algorithm. This code, specifically the preparation of qubit operators, is based on the code found in the Qiskit Tutorials repository (and as of July 2019, may be found at: https://github.com/Qiskit/qiskit-tutorials ).\n",
    "\n",
    "The following libraries must first be imported. \n"
   ]
  },
  {
   "cell_type": "code",
   "execution_count": 100,
   "metadata": {},
   "outputs": [],
   "source": [
    "# pylint: disable=line-too-long\n",
    "import matplotlib.pyplot as plt\n",
    "import qiskit\n",
    "import qiskit.providers.aer.noise\n",
    "from qiskit.algorithms import VQE\n",
    "import qiskit_nature\n",
    "import qiskit_nature.problems.second_quantization\n",
    "import qiskit_nature.drivers.second_quantization\n",
    "import qiskit_nature.transformers.second_quantization.electronic\n",
    "import qiskit_nature.algorithms\n",
    "from qiskit_nature.drivers import Molecule"
   ]
  },
  {
   "cell_type": "markdown",
   "metadata": {},
   "source": [
    "### Running VQE on the `statevector` Simulator\n",
    "\n",
    "We demonstrate the calculation of the ground state energy for LiH at various interatomic distances. A driver for the molecule must be created at each such distance. Note that in this experiment, to reduce the number of qubits used, we freeze the core and remove two unoccupied orbitals. First, we define a function that takes an interatomic distance and returns the appropriate qubit operator, $H$, as well as some other information about the operator."
   ]
  },
  {
   "cell_type": "code",
   "execution_count": 101,
   "metadata": {},
   "outputs": [],
   "source": [
    "def get_qubit_op(molecule,remove_orbitals):\n",
    "    driver = qiskit_nature.drivers.second_quantization.ElectronicStructureMoleculeDriver(\n",
    "        molecule=molecule,\n",
    "        basis=\"sto3g\",\n",
    "        driver_type=qiskit_nature.drivers.second_quantization.ElectronicStructureDriverType.PYSCF)\n",
    "\n",
    "    # Define Problem, Use freeze core approximation, remove orbitals.\n",
    "    problem = qiskit_nature.problems.second_quantization.ElectronicStructureProblem(\n",
    "        driver,\n",
    "        remove_orbitals)\n",
    "\n",
    "    second_q_ops = problem.second_q_ops()  # Get 2nd Quant OP\n",
    "    num_spin_orbitals = problem.num_spin_orbitals\n",
    "    num_particles = problem.num_particles\n",
    "\n",
    "    mapper = qiskit_nature.mappers.second_quantization.ParityMapper()  # Set Mapper\n",
    "    hamiltonian = second_q_ops[0]  # Set Hamiltonian\n",
    "    # Do two qubit reduction\n",
    "    converter = qiskit_nature.converters.second_quantization.QubitConverter(mapper,two_qubit_reduction=True)\n",
    "    reducer = qiskit.opflow.TwoQubitReduction(num_particles)\n",
    "    qubit_op = converter.convert(hamiltonian)\n",
    "    qubit_op = reducer.convert(qubit_op)\n",
    "\n",
    "    return qubit_op, num_particles, num_spin_orbitals, problem, converter"
   ]
  },
  {
   "cell_type": "markdown",
   "metadata": {},
   "source": [
    "First, the exact ground state energy is calculated using the qubit operator and a classical exact eigensolver. Subsequently, the initial state $|\\psi\\rangle$ is created, which the VQE instance uses to produce the final ansatz $\\min_{\\theta}(|\\psi(\\theta)\\rangle)$. The exact result and the VQE result at each interatomic distance is stored. Observe that the result given by `vqe.run(backend)['energy'] + shift` is equivalent the quantity $\\min_{\\theta}\\left(\\langle \\psi(\\theta)|H|\\psi(\\theta)\\rangle\\right)$, where the minimum is not necessarily the global minimum. \n",
    "\n",
    "When initializing the VQE instance with `VQE(qubit_op, var_form, optimizer, 'matrix')` the expectation value of $H$ on $|\\psi(\\theta)\\rangle$ is directly calculated through matrix multiplication. However, when using an actual quantum device, or a true simulator such as the `qasm_simulator` with `VQE(qubit_op, var_form, optimizer, 'paulis')` the calculation of the expectation value is more complicated. A Hamiltonian may be represented as a sum of a Pauli strings, with each Pauli term acting on a qubit as specified by the mapping being used. Each Pauli string has a corresponding circuit appended to the circuit corresponding to $|\\psi(\\theta)\\rangle$. Subsequently, each of these circuits is executed, and all of the results are used to determine the expectation value of $H$ on $|\\psi(\\theta)\\rangle$. In the following example, we initialize the VQE instance with `matrix` mode, and so the expectation value is directly calculated through matrix multiplication. \n",
    "\n",
    "Note that the following code snippet may take a few minutes to run to completion. "
   ]
  },
  {
   "cell_type": "code",
   "execution_count": 102,
   "metadata": {
    "tags": [
     "output_scroll"
    ]
   },
   "outputs": [
    {
     "name": "stdout",
     "output_type": "stream",
     "text": [
      "Interatomic Distance: 0.5 VQE Result: -7.04751 Exact Energy: -7.04791\n",
      "Interatomic Distance: 0.7 VQE Result: -7.50392 Exact Energy: -7.50400\n",
      "Interatomic Distance: 0.9 VQE Result: -7.72278 Exact Energy: -7.72283\n",
      "Interatomic Distance: 1.1 VQE Result: -7.82516 Exact Energy: -7.82520\n",
      "Interatomic Distance: 1.3 VQE Result: -7.86886 Exact Energy: -7.86890\n",
      "Interatomic Distance: 1.5 VQE Result: -7.88210 Exact Energy: -7.88214\n",
      "Interatomic Distance: 1.7 VQE Result: -7.87917 Exact Energy: -7.87920\n",
      "Interatomic Distance: 1.9 VQE Result: -7.86788 Exact Energy: -7.86799\n",
      "Interatomic Distance: 2.1 VQE Result: -7.85312 Exact Energy: -7.85320\n",
      "Interatomic Distance: 2.3 VQE Result: -7.83763 Exact Energy: -7.83772\n",
      "Interatomic Distance: 2.5 VQE Result: -7.82324 Exact Energy: -7.82343\n",
      "Interatomic Distance: 2.7 VQE Result: -7.81116 Exact Energy: -7.81142\n",
      "Interatomic Distance: 2.9 VQE Result: -7.80195 Exact Energy: -7.80215\n",
      "Interatomic Distance: 3.1 VQE Result: -7.79516 Exact Energy: -7.79545\n",
      "Interatomic Distance: 3.3 VQE Result: -7.78973 Exact Energy: -7.79085\n",
      "Interatomic Distance: 3.5 VQE Result: -7.78572 Exact Energy: -7.78776\n",
      "Interatomic Distance: 3.7 VQE Result: -7.78351 Exact Energy: -7.78573\n",
      "Interatomic Distance: 3.9 VQE Result: -7.78245 Exact Energy: -7.78441\n",
      "All energies have been calculated\n"
     ]
    }
   ],
   "source": [
    "def exact_solver(problem, converter):\n",
    "    solver = qiskit_nature.algorithms.NumPyMinimumEigensolverFactory()\n",
    "    calc = qiskit_nature.algorithms.GroundStateEigensolver(converter, solver)\n",
    "    result = calc.solve(problem)\n",
    "    return result\n",
    "\n",
    "backend = qiskit.BasicAer.get_backend(\"statevector_simulator\")\n",
    "distances = np.arange(0.5, 4.0, 0.2)\n",
    "exact_energies = []\n",
    "vqe_energies = []\n",
    "optimizer = qiskit.algorithms.optimizers.SLSQP(maxiter=5)\n",
    "\n",
    "# pylint: disable=undefined-loop-variable\n",
    "for dist in distances:\n",
    "    # Define Molecule\n",
    "    molecule = Molecule(\n",
    "        # Coordinates in Angstrom\n",
    "        geometry=[\n",
    "            [\"Li\", [0.0, 0.0, 0.0]],\n",
    "            [\"H\", [dist, 0.0, 0.0]]\n",
    "        ],\n",
    "        multiplicity=1,  # = 2*spin + 1\n",
    "        charge=0,\n",
    "    )\n",
    "    (qubit_op, num_particles, num_spin_orbitals,\n",
    "                             problem, converter) = get_qubit_op(molecule,\n",
    "                                                                [qiskit_nature.transformers.second_quantization.electronic.FreezeCoreTransformer(\n",
    "                                                                    freeze_core=True,\n",
    "                                                                    remove_orbitals=[-3,-2])])\n",
    "    result = exact_solver(problem,converter)\n",
    "    exact_energies.append(result.total_energies[0].real)\n",
    "    init_state = qiskit_nature.circuit.library.HartreeFock(num_spin_orbitals, num_particles, converter)\n",
    "    var_form = qiskit_nature.circuit.library.UCCSD(converter,\n",
    "                     num_particles,\n",
    "                     num_spin_orbitals,\n",
    "                     initial_state=init_state)\n",
    "    vqe = VQE(var_form, optimizer, quantum_instance=backend)\n",
    "    vqe_calc = vqe.compute_minimum_eigenvalue(qubit_op)\n",
    "    vqe_result = problem.interpret(vqe_calc).total_energies[0].real\n",
    "    vqe_energies.append(vqe_result)\n",
    "    print(f\"Interatomic Distance: {np.round(dist, 2)}\",\n",
    "          f\"VQE Result: {vqe_result:.5f}\",\n",
    "          f\"Exact Energy: {exact_energies[-1]:.5f}\")\n",
    "\n",
    "print(\"All energies have been calculated\")"
   ]
  },
  {
   "cell_type": "code",
   "execution_count": 103,
   "metadata": {},
   "outputs": [
    {
     "data": {
      "image/png": "[encoded data removed]",
      "text/plain": [
       "<Figure size 640x480 with 1 Axes>"
      ]
     },
     "metadata": {},
     "output_type": "display_data"
    }
   ],
   "source": [
    "plt.plot(distances, exact_energies, label=\"Exact Energy\")\n",
    "plt.plot(distances, vqe_energies, label=\"VQE Energy\")\n",
    "plt.xlabel('Atomic distance (Angstrom)')\n",
    "plt.ylabel('Energy')\n",
    "plt.legend()\n",
    "plt.show()"
   ]
  },
  {
   "cell_type": "markdown",
   "metadata": {},
   "source": [
    "Note that the VQE results are very close to the exact results, and so the exact energy curve is hidden by the VQE curve."
   ]
  },
  {
   "cell_type": "markdown",
   "metadata": {},
   "source": [
    "### Running VQE on a Noisy Simulator\n",
    "\n",
    "Here, we calculate the ground state energy for H$_2$ using a noisy simulator and error mitigation. \n",
    "\n",
    "First, we prepare the qubit operator representing the molecule's Hamiltonian:"
   ]
  },
  {
   "cell_type": "code",
   "execution_count": 104,
   "metadata": {},
   "outputs": [],
   "source": [
    "molecule = Molecule(\n",
    "    geometry=[[\"H\", [0.0, 0.0, -0.3625]],\n",
    "              [\"H\", [0.0, 0.0, 0.3625]]],\n",
    "    multiplicity=1,charge=0)\n",
    "\n",
    "(qubit_op, num_particles, num_spin_orbitals,\n",
    "                             problem, converter) = get_qubit_op(molecule, None)"
   ]
  },
  {
   "cell_type": "markdown",
   "metadata": {},
   "source": [
    "Now, we load a device coupling map and noise model from the IBMQ provider and create a quantum instance, enabling error mitigation:"
   ]
  },
  {
   "cell_type": "code",
   "execution_count": 105,
   "metadata": {
    "tags": [
     "uses-hardware"
    ]
   },
   "outputs": [],
   "source": [
    "from qiskit.providers.fake_provider import FakeManila\n",
    "backend = Aer.get_backend('aer_simulator')\n",
    "device = FakeManila()\n",
    "NOISE_MODEL = qiskit.providers.aer.noise.NoiseModel.from_backend(device)\n",
    "coupling_map = device.configuration().coupling_map\n",
    "qi = qiskit.utils.QuantumInstance(backend,\n",
    "                    coupling_map=coupling_map,\n",
    "                    noise_model=NOISE_MODEL,\n",
    "                    measurement_error_mitigation_cls=qiskit.utils.mitigation.CompleteMeasFitter)"
   ]
  },
  {
   "cell_type": "markdown",
   "metadata": {},
   "source": [
    "Finally, we must configure the optimizer, the variational form, and the VQE instance. As the effects of noise increase as the number of two qubit gates circuit depth increase, we use a heuristic variational form (RYRZ) rather than UCCSD. RYRZ has a much shallower circuit than UCCSD and uses substantially fewer two qubit gates.\n",
    "\n",
    "The following code may take a few minutes to run to completion."
   ]
  },
  {
   "cell_type": "code",
   "execution_count": 106,
   "metadata": {
    "tags": [
     "uses-hardware"
    ]
   },
   "outputs": [
    {
     "name": "stdout",
     "output_type": "stream",
     "text": [
      "Exact Result: [-1.13722138]\n",
      "VQE Result: [-1.09300913]\n"
     ]
    }
   ],
   "source": [
    "result = exact_solver(problem,converter)\n",
    "exact_energies.append(result.total_energies)\n",
    "\n",
    "print(\"Exact Result:\", result.total_energies)\n",
    "optimizer = qiskit.algorithms.optimizers.SPSA(maxiter=100)\n",
    "var_form = EfficientSU2(qubit_op.num_qubits, entanglement=\"linear\")\n",
    "vqe = VQE(var_form, optimizer=optimizer,quantum_instance=qi)\n",
    "vqe_calc=vqe.compute_minimum_eigenvalue(qubit_op)\n",
    "vqe_result=np.real(problem.interpret(vqe_calc).total_energies)\n",
    "print(\"VQE Result:\", vqe_result)"
   ]
  },
  {
   "cell_type": "markdown",
   "metadata": {},
   "source": [
    "When noise mitigation is enabled, even though the result does not fall within chemical accuracy (defined as being within 0.0016 Hartree of the exact result), it is fairly close to the exact solution. "
   ]
  },
  {
   "cell_type": "markdown",
   "metadata": {},
   "source": [
    "## Problems\n",
    "\n",
    "1. You are given a Hamiltonian $H$ with the promise that its ground state is close to a maximally entangled $n$ qubit state. Explain which variational form (or forms) is likely to efficiently and accurately learn the ground state energy of $H$. You may also answer by creating your own variational form, and explaining why it is appropriate for use with this Hamiltonian. \n",
    "2. Calculate the number of circuit evaluations performed per optimization iteration, when using the COBYLA optimizer, the `qasm_simulator` with 1000 shots, and a Hamiltonian with 60 Pauli strings.\n",
    "3. Use VQE to estimate the ground state energy of BeH$_2$ with an interatomic distance of $1.3$Å. You may re-use the function `get_qubit_op(dist)` by replacing `atom=\"Li .0 .0 .0; H .0 .0 \" + str(dist)` with `atom=\"Be .0 .0 .0; H .0 .0 -\" + str(dist) + \"; H .0 .0 \" + str(dist)` and invoking the function with `get_qubit_op(1.3)`. Note that removing the unoccupied orbitals does not preserve chemical precision for this molecule. However, to get the number of qubits  required down to 6 (and thereby allowing efficient simulation on most laptops), the loss of precision is acceptable. While beyond the scope of this exercise, the interested reader may use qubit tapering operations to reduce the number of required qubits to 7, without losing any chemical precision."
   ]
  },
  {
   "cell_type": "markdown",
   "metadata": {},
   "source": [
    "## References\n",
    "\n",
    "1. Peruzzo, Alberto, et al. \"A variational eigenvalue solver on a photonic quantum processor.\" *Nature communications* 5 (2014): 4213.\n",
    "2. Griffiths, David J., and Darrell F. Schroeter. Introduction to quantum mechanics. *Cambridge University Press*, 2018.\n",
    "3. Shende, Vivek V., Igor L. Markov, and Stephen S. Bullock. \"Minimal universal two-qubit cnot-based circuits.\" arXiv preprint quant-ph/0308033 (2003).\n",
    "4. Kandala, Abhinav, et al. \"Hardware-efficient variational quantum eigensolver for small molecules and quantum magnets.\" Nature 549.7671 (2017): 242."
   ]
  },
  {
   "cell_type": "code",
   "execution_count": 107,
   "metadata": {},
   "outputs": [
    {
     "data": {
      "text/html": [
       "<h3>Version Information</h3><table><tr><th>Qiskit Software</th><th>Version</th></tr><tr><td><code>qiskit-terra</code></td><td>0.22.0</td></tr><tr><td><code>qiskit-aer</code></td><td>0.11.0</td></tr><tr><td><code>qiskit-ibmq-provider</code></td><td>0.19.2</td></tr><tr><td><code>qiskit</code></td><td>0.39.0</td></tr><tr><td><code>qiskit-nature</code></td><td>0.4.1</td></tr><tr><td><code>qiskit-finance</code></td><td>0.3.2</td></tr><tr><td><code>qiskit-optimization</code></td><td>0.4.0</td></tr><tr><td><code>qiskit-machine-learning</code></td><td>0.4.0</td></tr><tr><th>System information</th></tr><tr><td>Python version</td><td>3.9.7</td></tr><tr><td>Python compiler</td><td>Clang 11.0.3 (clang-1103.0.32.62)</td></tr><tr><td>Python build</td><td>default, Sep  1 2021 04:00:27</td></tr><tr><td>OS</td><td>Darwin</td></tr><tr><td>CPUs</td><td>8</td></tr><tr><td>Memory (Gb)</td><td>16.0</td></tr><tr><td colspan='2'>Tue Jan 17 20:45:43 2023 CST</td></tr></table>"
      ],
      "text/plain": [
       "<IPython.core.display.HTML object>"
      ]
     },
     "metadata": {},
     "output_type": "display_data"
    }
   ],
   "source": [
    "# pylint: disable=unused-import\n",
    "import qiskit.tools.jupyter\n",
    "%qiskit_version_table"
   ]
  }
 ],
 "metadata": {
  "kernelspec": {
   "display_name": "Python 3",
   "language": "python",
   "name": "python3"
  },
  "language_info": {
   "codemirror_mode": {
    "name": "ipython",
    "version": 3
   },
   "file_extension": ".py",
   "mimetype": "text/x-python",
   "name": "python",
   "nbconvert_exporter": "python",
   "pygments_lexer": "ipython3",
   "version": "3.9.7"
  },
  "vscode": {
   "interpreter": {
    "hash": "f22a20af907fde35ff19e1e892fdb271353fb19b11c7ebd774491472e685293c"
   }
  }
 },
 "nbformat": 4,
 "nbformat_minor": 4
}
