{
 "cells": [
  {
   "attachments": {},
   "cell_type": "markdown",
   "metadata": {
    "gloss": {
     "reference": {
      "text": "The initial, fixed start for our problem. Typically this refers to $|0\rangle$, but we can configure it to a variety of states that suitably encode our problem.",
      "title": "Reference state"
     }
    }
   },
   "source": [
    "## Reference states\n",
    "\n",
    "In this lesson, we will explore how we can initialize our system with a [*reference state*](gloss:reference) to help our variational algorithm converge faster. First, we will learn how to construct a reference state manually, and then explore several standard options that can be used in a variational algorithm.\n",
    "\n",
    "![Reference Workflow](images/reference_workflow.png)"
   ]
  },
  {
   "attachments": {},
   "cell_type": "markdown",
   "metadata": {},
   "source": [
    "## Default state\n",
    "\n",
    "A *reference state* $|\\rho\\rangle$ refers to the initial fixed start for our problem. To prepare a reference state, we need to apply the appropriate unitary $U_R$ at the start of our quantum circuit, such that $|\\rho\\rangle = U_R |0\\rangle$. If you have an educated guess or a datapoint from an existing optimal solution, the variational algorithm will likely converge faster if you start with that *initial state*.\n",
    "\n",
    "The simplest possible reference state is the default state, where we use the starting state of an $n$-qubit quantum circuit: $|0\\rangle^{\\otimes n}$. For the default state, our unitary operator $U_R \\equiv I$. Due to its simplicity, the default state is a valid reference state used in many scenarios."
   ]
  },
  {
   "attachments": {},
   "cell_type": "markdown",
   "metadata": {},
   "source": [
    "## Classical reference state\n",
    "\n",
    "Suppose you have a $3$-qubit system and you want to start in the state $|001\\rangle$ instead of the default state $|000\\rangle$. This is an example of a purely classical reference state, and to construct it, you simply need to apply an [X gate](https://qiskit.org/documentation/stubs/qiskit.circuit.library.XGate.html) to qubit $0$ (following Qiskit's qubit ordering), as $|001\\rangle = X_0 |000\\rangle$.\n",
    "\n",
    "In this case, our unitary operator is $U_R \\equiv X_0$, which leads to the reference state $|\\rho\\rangle \\equiv |001\\rangle$."
   ]
  },
  {
   "cell_type": "code",
   "execution_count": null,
   "metadata": {},
   "outputs": [],
   "source": [
    "from qiskit import QuantumCircuit\n",
    "\n",
    "qc = QuantumCircuit(3)\n",
    "qc.x(0)\n",
    "\n",
    "qc.draw(\"mpl\")"
   ]
  },
  {
   "attachments": {},
   "cell_type": "markdown",
   "metadata": {},
   "source": [
    "## Quantum reference state\n",
    "\n",
    "Suppose you aim to start with a more complex state that involves superposition and/or entanglement, such as $\\frac{1}{\\sqrt{2}}(|100\\rangle+|111\\rangle)$.\n",
    "\n",
    "To obtain this state from $|000\\rangle$, one approach is to use a [Hadamard gate](https://qiskit.org/documentation/stubs/qiskit.circuit.library.HGate.html) on qubit $0$ ($H_0$), a [CNOT (CX)](https://qiskit.org/documentation/stubs/qiskit.circuit.library.CXGate.html) gate with qubit $0$ as the control qubit and qubit $1$ as the target qubit ($CNOT_{01}$), and finally an $X$ gate applied to qubit $2$ ($X_2$).\n",
    "\n",
    "In this scenario, our unitary operator is $U_{R} \\equiv X_2CNOT_{01}H_0|000\\rangle$, and our reference state is $|\\rho\\rangle \\equiv \\frac{1}{\\sqrt{2}}(|100\\rangle+|111\\rangle)$."
   ]
  },
  {
   "cell_type": "code",
   "execution_count": null,
   "metadata": {},
   "outputs": [],
   "source": [
    "qc = QuantumCircuit(3)\n",
    "qc.h(0)\n",
    "qc.cx(0,1)\n",
    "qc.x(2)\n",
    "\n",
    "qc.draw(\"mpl\")"
   ]
  },
  {
   "attachments": {},
   "cell_type": "markdown",
   "metadata": {},
   "source": [
    "## Constructing Reference States using template circuits\n",
    "\n",
    "We can also use various template circuits, such as [`TwoLocal`](https://qiskit.org/documentation/stubs/qiskit.circuit.library.TwoLocal.html) which allows for expressing multiple tunable parameters and entanglements with ease. We will cover these template circuits in more detail in the next lesson, but we can use them for our reference states *if* we bind the parameters.:"
   ]
  },
  {
   "cell_type": "code",
   "execution_count": null,
   "metadata": {},
   "outputs": [],
   "source": [
    "from qiskit.circuit.library import TwoLocal\n",
    "from math import pi\n",
    "\n",
    "reference_circuit = TwoLocal(2, \"rx\", \"cz\", entanglement=\"linear\", reps=1)\n",
    "theta_list = [pi/2, pi/3, pi/3, pi/2]\n",
    "\n",
    "reference_circuit = reference_circuit.bind_parameters(theta_list)\n",
    "\n",
    "reference_circuit.decompose().draw('mpl')"
   ]
  },
  {
   "attachments": {},
   "cell_type": "markdown",
   "metadata": {},
   "source": [
    "## Application-specific reference states"
   ]
  },
  {
   "attachments": {},
   "cell_type": "markdown",
   "metadata": {},
   "source": [
    "### Quantum Chemistry\n",
    "\n",
    "In Quantum Chemistry, the *Hartree-Fock* state is an approximation of the ground state of an atom or molecule. If our goal is to create a variational algorithm to find the exact ground state, we can use this known classical approximation as a reference state to help our algorithm converge faster. In this example, we generate an Electronic Structure Problem for $H_{2}$ and use the problem's `num_spatial_orbitals` and `num_particles` to create our initial state."
   ]
  },
  {
   "cell_type": "code",
   "execution_count": null,
   "metadata": {},
   "outputs": [],
   "source": [
    "from qiskit_nature.units import DistanceUnit\n",
    "from qiskit_nature.second_q.drivers import PySCFDriver\n",
    "from qiskit_nature.second_q.circuit.library import HartreeFock\n",
    "from qiskit_nature.second_q.mappers import JordanWignerMapper, QubitConverter\n",
    "\n",
    "driver = PySCFDriver(\n",
    "    atom=\"H 0 0 0; H 0 0 0.735\",\n",
    "    basis=\"sto3g\",\n",
    "    charge=0,\n",
    "    spin=0,\n",
    "    unit=DistanceUnit.ANGSTROM,\n",
    ")\n",
    "\n",
    "h2_problem = driver.run()\n",
    "\n",
    "converter = QubitConverter(JordanWignerMapper())\n",
    "\n",
    "h2_reference_state = HartreeFock(\n",
    "    h2_problem.num_spatial_orbitals,\n",
    "    h2_problem.num_particles,\n",
    "    converter\n",
    ")\n",
    "\n",
    "h2_reference_state.decompose().draw('mpl')"
   ]
  },
  {
   "attachments": {},
   "cell_type": "markdown",
   "metadata": {},
   "source": [
    "### Quantum Machine Learning\n",
    "\n",
    "In the context of a [variational quantum classifier (VQC)](https://learn.qiskit.org/course/machine-learning/variational-classification), the training data is encoded into a quantum state with a parameterized circuit known as a *feature map*, where each parameter value represents a data point from the training dataset. The [ZZFeatureMap](https://qiskit.org/documentation/stubs/qiskit.circuit.library.ZZFeatureMap.html) is a type of parameterized circuit that can be utilized to pass our data points ($x$) to this feature map."
   ]
  },
  {
   "cell_type": "code",
   "execution_count": null,
   "metadata": {},
   "outputs": [],
   "source": [
    "from qiskit.circuit.library import ZZFeatureMap\n",
    "\n",
    "data = [0.1, 0.2]\n",
    "\n",
    "zz_feature_map_reference = ZZFeatureMap(feature_dimension=2, reps=2)\n",
    "zz_feature_map_reference = zz_feature_map_reference.bind_parameters(data)\n",
    "zz_feature_map_reference.decompose().draw('mpl')"
   ]
  },
  {
   "attachments": {},
   "cell_type": "markdown",
   "metadata": {},
   "source": [
    "With this lesson, you learned how to initialize your system using:\n",
    "\n",
    "- Default reference state\n",
    "- Classical reference states\n",
    "- Quantum reference states\n",
    "- Application-specific reference states\n",
    "\n",
    "Our high-level variational workload looks as follows:\n",
    "\n",
    "![Reference Circuit](images/reference_circuit.png)\n",
    "\n",
    "While reference states are fixed, initial starting points, we can use a *variational form* to define an *ansatz* to represent a collection of parametrized states for our variational algorithm to explore."
   ]
  }
 ],
 "metadata": {
  "kernelspec": {
   "display_name": "Python 3",
   "language": "python",
   "name": "python3"
  },
  "language_info": {
   "codemirror_mode": {
    "name": "ipython",
    "version": 3
   },
   "file_extension": ".py",
   "mimetype": "text/x-python",
   "name": "python",
   "nbconvert_exporter": "python",
   "pygments_lexer": "ipython3",
   "version": "3.9"
  }
 },
 "nbformat": 4,
 "nbformat_minor": 2
}
