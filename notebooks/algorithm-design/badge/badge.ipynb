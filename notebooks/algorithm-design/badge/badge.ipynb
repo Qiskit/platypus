{
 "cells": [
  {
   "attachments": {},
   "cell_type": "markdown",
   "metadata": {},
   "source": [
    "## Earn your badge\n",
    "\n",
    "Congratulations on completing the Variational Algorithm Design course. Please complete the following 1 minute survey before proceeding to your assessment and badge!\n",
    "\n",
    "<iframe class=\"airtable-embed\" src=\"https://airtable.com/embed/shrQPowy7jMqFRsQ0?backgroundColor=blue\" frameborder=\"0\" onmousewheel=\"\" width=\"100%\" height=\"533\" style=\"background: transparent; border: 1px solid #ccc;\"></iframe>"
   ]
  },
  {
   "attachments": {},
   "cell_type": "markdown",
   "metadata": {},
   "source": [
    "## Link to badged assessment\n",
    "\n",
    "[This assessment](https://challenges.quantum-computing.ibm.com/algorithm-design) is open-book and will test conceptual and practical knowledge from this course. Feel free to refer back to this course at any time!"
   ]
  }
 ],
 "metadata": {
  "kernelspec": {
   "display_name": "Python 3",
   "language": "python",
   "name": "python3"
  },
  "language_info": {
   "codemirror_mode": {
    "name": "ipython",
    "version": 3
   },
   "file_extension": ".py",
   "mimetype": "text/x-python",
   "name": "python",
   "nbconvert_exporter": "python",
   "pygments_lexer": "ipython3",
   "version": "3.9"
  }
 },
 "nbformat": 4,
 "nbformat_minor": 2
}
