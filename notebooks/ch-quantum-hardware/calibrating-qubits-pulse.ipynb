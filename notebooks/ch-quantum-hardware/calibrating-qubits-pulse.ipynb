{
 "cells": [
  {
   "cell_type": "markdown",
   "metadata": {
    "tags": [
     "remove_cell"
    ]
   },
   "source": [
    "# Calibrating qubits using Qiskit Pulse"
   ]
  },
  {
   "cell_type": "markdown",
   "metadata": {},
   "source": [
    "Qiskit is an open-source framework for programming quantum computers (Ref. [1](#refs)). Using Qiskit, quantum circuits can be built, simulated and executed on quantum devices.\n",
    "\n",
    "Qiskit Pulse provides a language for specifying pulse level control (i.e. control of the continuous time dynamics of input signals) of a general quantum device independent of the specific hardware implementation (Ref. [2](#refs)). \n",
    "\n",
    "In this tutorial, we show how to implement typical single-qubit calibration and characterization experiments using Qiskit and Qiskit Pulse. These are typically the first round of experiments that would be done in the lab immediately after a device has been fabricated and installed into a system. The presentation is pedagogical, and allows students to explore two-level-system dynamics experimentally. All units are returned as standard SI (i.e., Hz, sec, etc.).\n",
    "\n",
    "Each experiment gives us more information about the system, which is typically used in subsequent experiments. For this reason, this notebook has to be mostly executed in order."
   ]
  },
  {
   "cell_type": "markdown",
   "metadata": {},
   "source": [
    "## Contents\n",
    "\n",
    "1. [Getting Started](#importing)\n",
    "2. [Finding the qubit Frequency using a Frequency Sweep](#frequencysweep)\n",
    "3. [Calibrating and using a $\\pi$ Pulse](#calib)    \n",
    "  3.1 [Calibrating $\\pi$ Pulses using a Rabi Experiment](#rabi)    \n",
    "  3.2 [Determining 0 vs 1](#zerovone)    \n",
    "  3.3 [Measuring $T_1$ using Inversion Recovery](#T1)    \n",
    "4. [Determining qubit Coherence](#det_co)    \n",
    "  4.1 [Measuring the qubit Frequency Precisely using a Ramsey Experiment](#ramsey)    \n",
    "  4.2 [Measuring $T_2$ using Hahn Echoes](#hahn)    \n",
    "5. [References](#refs)"
   ]
  },
  {
   "cell_type": "markdown",
   "metadata": {},
   "source": [
    "## 1. Getting Started <a id=\"importing\"></a>\n",
    "\n",
    "We'll first get our basic dependencies set up and ready to go. Since we want to use real, noisy devices for our calibration experiments in this notebook, we need to load our IBMQ account and set the appropriate backend."
   ]
  },
  {
   "cell_type": "code",
   "execution_count": 1,
   "metadata": {
    "tags": [
     "uses-hardware"
    ]
   },
   "outputs": [],
   "source": [
    "import warnings\n",
    "warnings.filterwarnings('ignore')\n",
    "from qiskit.tools.jupyter import *"
   ]
  },
  {
   "cell_type": "code",
   "execution_count": 2,
   "metadata": {
    "tags": [
     "uses-hardware"
    ]
   },
   "outputs": [],
   "source": [
    "from qiskit import IBMQ\n",
    "IBMQ.load_account()\n",
    "provider = IBMQ.get_provider(hub='ibm-q-internal')\n",
    "backend = provider.get_backend('ibmq_manila')"
   ]
  },
  {
   "cell_type": "markdown",
   "metadata": {},
   "source": [
    "We verify that the backend supports Pulse features by checking the backend configuration. The config provides us with general information about the structure of the backend setup."
   ]
  },
  {
   "cell_type": "code",
   "execution_count": 3,
   "metadata": {
    "tags": [
     "uses-hardware"
    ]
   },
   "outputs": [],
   "source": [
    "backend_config = backend.configuration()"
   ]
  },
  {
   "cell_type": "markdown",
   "metadata": {},
   "source": [
    "For instance, we can find the sampling time for the backend pulses within the backend configuration. This will be a very useful value to us as we build and execute our calibration routines."
   ]
  },
  {
   "cell_type": "code",
   "execution_count": 4,
   "metadata": {
    "tags": [
     "uses-hardware"
    ]
   },
   "outputs": [
    {
     "name": "stdout",
     "output_type": "stream",
     "text": [
      "Sampling time: 0.2222222222222222 ns\n"
     ]
    }
   ],
   "source": [
    "dt = backend_config.dt\n",
    "print(f\"Sampling time: {dt*1e9} ns\")    # The configuration returns dt in seconds, so multiply by\n",
    "                                        # 1e9 to get nanoseconds"
   ]
  },
  {
   "cell_type": "markdown",
   "metadata": {},
   "source": [
    "We can also find timing constraints in the backend configuration.\n",
    "\n",
    "The position of the measurement pulse is constrained to be an integral multiple of `acquire_alignment`, and the position of the gate is constrained to be an integral multiple of` pulse_alignment`.\n",
    "\n",
    "In the case of the T1 experiment introduced later, since there is only measurement after delay, it is sufficient to follow `acquire_alignment`. On the other hand, in an experiment where gates and delays are repeated, such as the Ramsey experiment, it is necessary to select the delay so that it is the minimum common multiple of `acquire_alignment` and` pulse_alignment`.\n",
    "\n",
    "We can use `granurality` to determine the length of the pulse."
   ]
  },
  {
   "cell_type": "code",
   "execution_count": 5,
   "metadata": {},
   "outputs": [
    {
     "data": {
      "text/plain": [
       "{'acquire_alignment': 16,\n",
       " 'granularity': 16,\n",
       " 'min_length': 64,\n",
       " 'pulse_alignment': 16}"
      ]
     },
     "execution_count": 5,
     "metadata": {},
     "output_type": "execute_result"
    }
   ],
   "source": [
    "backend.configuration().timing_constraints"
   ]
  },
  {
   "cell_type": "code",
   "execution_count": 6,
   "metadata": {},
   "outputs": [],
   "source": [
    "acquire_alignment = backend.configuration().timing_constraints['acquire_alignment']\n",
    "granularity = backend.configuration().timing_constraints['granularity']\n",
    "pulse_alignment = backend.configuration().timing_constraints['pulse_alignment']"
   ]
  },
  {
   "cell_type": "code",
   "execution_count": 7,
   "metadata": {},
   "outputs": [
    {
     "name": "stdout",
     "output_type": "stream",
     "text": [
      "Least common multiple of acquire_alignment and pulse_alignment: 16\n"
     ]
    }
   ],
   "source": [
    "import numpy as np\n",
    "\n",
    "lcm = np.lcm(acquire_alignment, pulse_alignment)\n",
    "print(f\"Least common multiple of acquire_alignment and pulse_alignment: {lcm}\")"
   ]
  },
  {
   "cell_type": "markdown",
   "metadata": {},
   "source": [
    "The backend defaults provide a starting point for how to use the backend. It contains estimates for qubit frequencies and default programs to enact basic quantum operators. We can access them with the following:"
   ]
  },
  {
   "cell_type": "code",
   "execution_count": 8,
   "metadata": {
    "tags": [
     "uses-hardware"
    ]
   },
   "outputs": [],
   "source": [
    "backend_defaults = backend.defaults()"
   ]
  },
  {
   "cell_type": "markdown",
   "metadata": {},
   "source": [
    "## 2. Finding the qubit Frequency using a Frequency Sweep <a id=\"frequencysweep\"></a>\n",
    "\n",
    "We begin by searching for the qubit frequency. The qubit frequency is the difference in energy between the ground and excited states, which we label the $\\vert0\\rangle$ and $\\vert1\\rangle$ states, respectively. This frequency will be crucial for creating pulses which enact particular quantum operators on the qubit -- the final goal of our calibration!\n",
    "\n",
    "With superconducting qubits, higher energy levels are also available, but we fabricate the systems to be anharmonic so that we can control which transition we are exciting. That way, we are able to isolate two energy levels and treat each qubit as a basic two-level system, ignoring higher energy states.\n",
    "\n",
    "In a typical lab setting, the qubit frequency can be found by sweeping a range of frequencies and looking for signs of absorption using a tool known as a Network Analyzer. This measurement gives a rough estimate of the qubit frequency. Later on, we will see how to do a more precise measurement using a Ramsey pulse sequence."
   ]
  },
  {
   "cell_type": "markdown",
   "metadata": {},
   "source": [
    "First, we define the frequency range that will be swept in search of the qubit. Since this can be arbitrarily broad, we restrict ourselves to a window of 40 MHz around the estimated qubit frequency in `backend_defaults`. We step the frequency in units of 1 MHz."
   ]
  },
  {
   "cell_type": "code",
   "execution_count": 9,
   "metadata": {
    "tags": [
     "uses-hardware"
    ]
   },
   "outputs": [
    {
     "name": "stdout",
     "output_type": "stream",
     "text": [
      "Qubit 0 has an estimated frequency of 4.9622957311288625 GHz.\n",
      "The sweep will go from 4.942295731128862 GHz to 4.982295731128862 GHz in steps of 1.0 MHz.\n"
     ]
    }
   ],
   "source": [
    "# unit conversion factors -> all backend properties returned in SI (Hz, sec, etc.)\n",
    "GHz = 1.0e9 # Gigahertz\n",
    "MHz = 1.0e6 # Megahertz\n",
    "us = 1.0e-6 # Microseconds\n",
    "ns = 1.0e-9 # Nanoseconds\n",
    "\n",
    "# We will find the qubit frequency for the following qubit.\n",
    "qubit = 0\n",
    "\n",
    "# The sweep will be centered around the estimated qubit frequency.\n",
    "center_frequency_Hz = backend_defaults.qubit_freq_est[qubit]        # The default frequency is given in Hz\n",
    "                                                                    # warning: this will change in a future release\n",
    "print(f\"Qubit {qubit} has an estimated frequency of {center_frequency_Hz / GHz} GHz.\")\n",
    "\n",
    "# scale factor to remove factors of 10 from the data\n",
    "scale_factor = 1e-7\n",
    "\n",
    "# We will sweep 40 MHz around the estimated frequency\n",
    "frequency_span_Hz = 40 * MHz\n",
    "# in steps of 1 MHz.\n",
    "frequency_step_Hz = 1 * MHz\n",
    "\n",
    "# We will sweep 20 MHz above and 20 MHz below the estimated frequency\n",
    "frequency_min = center_frequency_Hz - frequency_span_Hz / 2\n",
    "frequency_max = center_frequency_Hz + frequency_span_Hz / 2\n",
    "# Construct an np array of the frequencies for our experiment\n",
    "frequencies_GHz = np.arange(frequency_min / GHz, \n",
    "                            frequency_max / GHz, \n",
    "                            frequency_step_Hz / GHz)\n",
    "\n",
    "print(f\"The sweep will go from {frequency_min / GHz} GHz to {frequency_max / GHz} GHz \\\n",
    "in steps of {frequency_step_Hz / MHz} MHz.\")"
   ]
  },
  {
   "cell_type": "markdown",
   "metadata": {},
   "source": [
    "We will create a pulse schedule by defining this frequency as a parameter using the parameter class.\n",
    "First, we will set the required values duration, sigma, and channel.\n",
    "\n",
    "Then we will set the pulse flow so that the specified pulses are executed sequentially.\n",
    "We will define the pulse frequency, the pulse used in the experiment, and the measurement pulse.\n",
    "Here, the pulse used in the experiment specifies the drive pulse, which is a Gaussian pulse.\n",
    "\n",
    "At each frequency, we will send a drive pulse of that frequency to the qubit and measure immediately after the pulse. "
   ]
  },
  {
   "cell_type": "code",
   "execution_count": 10,
   "metadata": {},
   "outputs": [],
   "source": [
    "def get_closest_multiple_of(vaule, base_number):\n",
    "    return int(vaule + base_number/2) - (int(vaule + base_number/2) % base_number)"
   ]
  },
  {
   "cell_type": "markdown",
   "metadata": {},
   "source": [
    "We prepare a function to determine the length of the pulse."
   ]
  },
  {
   "cell_type": "code",
   "execution_count": 11,
   "metadata": {},
   "outputs": [],
   "source": [
    "# samples need to be multiples of 16\n",
    "def get_closest_multiple_of_16(num):\n",
    "    return get_closest_multiple_of(num, granularity)"
   ]
  },
  {
   "cell_type": "markdown",
   "metadata": {},
   "source": [
    "We prepare a function to adjust the length of the delay."
   ]
  },
  {
   "cell_type": "code",
   "execution_count": 12,
   "metadata": {},
   "outputs": [],
   "source": [
    "# Convert seconds to dt\n",
    "def get_dt_from(sec):\n",
    "    return get_closest_multiple_of(sec/dt, lcm)"
   ]
  },
  {
   "cell_type": "code",
   "execution_count": 13,
   "metadata": {
    "tags": [
     "uses-hardware"
    ]
   },
   "outputs": [],
   "source": [
    "from qiskit import pulse                  # This is where we access all of our Pulse features!\n",
    "from qiskit.circuit import Parameter      # This is Parameter Class for variable parameters.\n",
    "from qiskit.circuit import QuantumCircuit, Gate\n",
    "\n",
    "# Drive pulse parameters (us = microseconds)\n",
    "drive_sigma_sec = 0.015 * us                           # This determines the actual width of the gaussian\n",
    "drive_duration_sec = drive_sigma_sec * 8                # This is a truncating parameter, because gaussians don't have \n",
    "                                                        # a natural finite length\n",
    "drive_amp = 0.05\n",
    "\n",
    "# Create the base schedule\n",
    "# Start with drive pulse acting on the drive channel\n",
    "freq = Parameter('freq')\n",
    "with pulse.build(backend=backend, default_alignment='sequential', name='Frequency sweep') as sweep_sched:\n",
    "    drive_duration = get_closest_multiple_of_16(pulse.seconds_to_samples(drive_duration_sec))\n",
    "    drive_sigma = pulse.seconds_to_samples(drive_sigma_sec)\n",
    "    drive_chan = pulse.drive_channel(qubit)\n",
    "    pulse.set_frequency(freq, drive_chan)\n",
    "    # Drive pulse samples\n",
    "    pulse.play(pulse.Gaussian(duration=drive_duration,\n",
    "                              sigma=drive_sigma,\n",
    "                              amp=drive_amp,\n",
    "                              name='freq_sweep_excitation_pulse'), drive_chan)"
   ]
  },
  {
   "cell_type": "code",
   "execution_count": 14,
   "metadata": {},
   "outputs": [],
   "source": [
    "sweep_gate = Gate(\"sweep\", 1, [freq])\n",
    "\n",
    "qc_sweep = QuantumCircuit(1, 1)\n",
    "\n",
    "qc_sweep.append(sweep_gate, [0])\n",
    "qc_sweep.measure(0, 0)\n",
    "qc_sweep.add_calibration(sweep_gate, (0,), sweep_sched, [freq])\n",
    "\n",
    "# Create the frequency settings for the sweep (MUST BE IN HZ)\n",
    "frequencies_Hz = frequencies_GHz*GHz\n",
    "exp_sweep_circs = [qc_sweep.assign_parameters({freq: f}, inplace=False) for f in frequencies_Hz]"
   ]
  },
  {
   "cell_type": "markdown",
   "metadata": {},
   "source": [
    "As a sanity check, it's always a good idea to look at the pulse schedule. This is done using `schedule.draw()` as shown below. "
   ]
  },
  {
   "cell_type": "code",
   "execution_count": 15,
   "metadata": {},
   "outputs": [
    {
     "data": {
      "image/svg+xml": [
       "<?xml version=\"1.0\" encoding=\"UTF-8\"?><!DOCTYPE svg  PUBLIC '-//W3C//DTD SVG 1.1//EN'  'http://www.w3.org/Graphics/SVG/1.1/DTD/svg11.dtd'><svg width=\"814.04pt\" height=\"289.3pt\" version=\"1.1\" viewBox=\"0 0 814.04 289.3\" xmlns=\"http://www.w3.org/2000/svg\" xmlns:xlink=\"http://www.w3.org/1999/xlink\"><defs><style type=\"text/css\">*{stroke-linejoin: round; stroke-linecap: butt}</style></defs><path d=\"m0 289.3h814.04v-289.3h-814.04z\" fill=\"#ffffff\"/><path d=\"m62.353 242.07h725.4v-219.93h-725.4z\" fill=\"#f2f3f4\"/><path d=\"m62.353 101.73h246.52v0h478.88\" clip-path=\"url(#p2ec6f4562f)\" fill=\"none\" stroke=\"#000000\" stroke-linecap=\"square\"/><path d=\"m62.353 186.63h246.52v0h478.88\" clip-path=\"url(#p2ec6f4562f)\" fill=\"none\" stroke=\"#000000\" stroke-linecap=\"square\"/><defs><path id=\"me7288fcf9c\" d=\"m0 0v3.5\" stroke=\"#343a3f\" stroke-width=\".8\"/></defs><use x=\"95.325852\" y=\"242.068224\" fill=\"#343a3f\" stroke=\"#343a3f\" stroke-width=\".8\" xlink:href=\"#me7288fcf9c\"/><g transform=\"translate(90.554 260.47) scale(.15 -.15)\" fill=\"#343a3f\"><defs><path id=\"DejaVuSans-30\" transform=\"scale(.015625)\" d=\"m2034 4250q-487 0-733-480-245-479-245-1442 0-959 245-1439 246-480 733-480 491 0 736 480 246 480 246 1439 0 963-246 1442-245 480-736 480zm0 500q785 0 1199-621 414-620 414-1801 0-1178-414-1799-414-620-1199-620-784 0-1198 620-414 621-414 1799 0 1181 414 1801 414 621 1198 621z\"/></defs><use xlink:href=\"#DejaVuSans-30\"/></g><use x=\"233.811307\" y=\"242.068224\" fill=\"#343a3f\" stroke=\"#343a3f\" stroke-width=\".8\" xlink:href=\"#me7288fcf9c\"/><g transform=\"translate(219.5 260.47) scale(.15 -.15)\" fill=\"#343a3f\"><defs><path id=\"DejaVuSans-31\" transform=\"scale(.015625)\" d=\"m794 531h1031v3560l-1122-225v575l1116 225h631v-4135h1031v-531h-2687v531z\"/><path id=\"DejaVuSans-35\" transform=\"scale(.015625)\" d=\"m691 4666h2478v-532h-1900v-1143q137 47 274 70 138 23 276 23 781 0 1237-428 457-428 457-1159 0-753-469-1171-469-417-1322-417-294 0-599 50-304 50-629 150v635q281-153 581-228t634-75q541 0 856 284 316 284 316 772 0 487-316 771-315 285-856 285-253 0-505-56-251-56-513-175v2344z\"/></defs><use xlink:href=\"#DejaVuSans-31\"/><use x=\"63.623047\" xlink:href=\"#DejaVuSans-35\"/><use x=\"127.246094\" xlink:href=\"#DejaVuSans-30\"/></g><use x=\"372.296761\" y=\"242.068224\" fill=\"#343a3f\" stroke=\"#343a3f\" stroke-width=\".8\" xlink:href=\"#me7288fcf9c\"/><g transform=\"translate(353.21 260.47) scale(.15 -.15)\" fill=\"#343a3f\"><defs><path id=\"DejaVuSans-36\" transform=\"scale(.015625)\" d=\"m2113 2584q-425 0-674-291-248-290-248-796 0-503 248-796 249-292 674-292t673 292q248 293 248 796 0 506-248 796-248 291-673 291zm1253 1979v-575q-238 112-480 171-242 60-480 60-625 0-955-422-329-422-376-1275 184 272 462 417 279 145 613 145 703 0 1111-427 408-426 408-1160 0-719-425-1154-425-434-1131-434-810 0-1238 620-428 621-428 1799 0 1106 525 1764t1409 658q238 0 480-47t505-140z\"/></defs><use xlink:href=\"#DejaVuSans-35\"/><use x=\"63.623047\" xlink:href=\"#DejaVuSans-30\"/><use x=\"127.246094\" xlink:href=\"#DejaVuSans-35\"/><use x=\"190.869141\" xlink:href=\"#DejaVuSans-36\"/></g><use x=\"510.782216\" y=\"242.068224\" fill=\"#343a3f\" stroke=\"#343a3f\" stroke-width=\".8\" xlink:href=\"#me7288fcf9c\"/><g transform=\"translate(491.69 260.47) scale(.15 -.15)\" fill=\"#343a3f\"><defs><path id=\"DejaVuSans-32\" transform=\"scale(.015625)\" d=\"m1228 531h2203v-531h-2962v531q359 372 979 998 621 627 780 809 303 340 423 576 121 236 121 464 0 372-261 606-261 235-680 235-297 0-627-103-329-103-704-313v638q381 153 712 231 332 78 607 78 725 0 1156-363 431-362 431-968 0-288-108-546-107-257-392-607-78-91-497-524-418-433-1181-1211z\"/><path id=\"DejaVuSans-37\" transform=\"scale(.015625)\" d=\"m525 4666h3e3v-269l-1694-4397h-659l1594 4134h-2241v532z\"/></defs><use xlink:href=\"#DejaVuSans-35\"/><use x=\"63.623047\" xlink:href=\"#DejaVuSans-32\"/><use x=\"127.246094\" xlink:href=\"#DejaVuSans-30\"/><use x=\"190.869141\" xlink:href=\"#DejaVuSans-37\"/></g><use x=\"649.26767\" y=\"242.068224\" fill=\"#343a3f\" stroke=\"#343a3f\" stroke-width=\".8\" xlink:href=\"#me7288fcf9c\"/><g transform=\"translate(630.18 260.47) scale(.15 -.15)\" fill=\"#343a3f\"><defs><path id=\"DejaVuSans-33\" transform=\"scale(.015625)\" d=\"m2597 2516q453-97 707-404 255-306 255-756 0-690-475-1069-475-378-1350-378-293 0-604 58t-642 174v609q262-153 574-231 313-78 654-78 593 0 904 234t311 681q0 413-289 645-289 233-804 233h-544v519h569q465 0 712 186t247 536q0 359-255 551-254 193-729 193-260 0-557-57-297-56-653-174v562q360 100 674 150t592 50q719 0 1137-327 419-326 419-882 0-388-222-655t-631-370z\"/></defs><use xlink:href=\"#DejaVuSans-35\"/><use x=\"63.623047\" xlink:href=\"#DejaVuSans-33\"/><use x=\"127.246094\" xlink:href=\"#DejaVuSans-35\"/><use x=\"190.869141\" xlink:href=\"#DejaVuSans-37\"/></g><use x=\"787.753125\" y=\"242.068224\" fill=\"#343a3f\" stroke=\"#343a3f\" stroke-width=\".8\" xlink:href=\"#me7288fcf9c\"/><g transform=\"translate(768.67 260.47) scale(.15 -.15)\" fill=\"#343a3f\"><defs><path id=\"DejaVuSans-38\" transform=\"scale(.015625)\" d=\"m2034 2216q-450 0-708-241-257-241-257-662 0-422 257-663 258-241 708-241t709 242q260 243 260 662 0 421-258 662-257 241-711 241zm-631 268q-406 100-633 378-226 279-226 679 0 559 398 884 399 325 1092 325 697 0 1094-325t397-884q0-400-227-679-226-278-629-378 456-106 710-416 255-309 255-755 0-679-414-1042-414-362-1186-362-771 0-1186 362-414 363-414 1042 0 446 256 755 257 310 713 416zm-231 997q0-362 226-565 227-203 636-203 407 0 636 203 230 203 230 565 0 363-230 566-229 203-636 203-409 0-636-203-226-203-226-566z\"/></defs><use xlink:href=\"#DejaVuSans-35\"/><use x=\"63.623047\" xlink:href=\"#DejaVuSans-35\"/><use x=\"127.246094\" xlink:href=\"#DejaVuSans-30\"/><use x=\"190.869141\" xlink:href=\"#DejaVuSans-38\"/></g><g transform=\"translate(389.81 278.98) scale(.15 -.15)\" fill=\"#343a3f\"><defs><path id=\"DejaVuSans-54\" transform=\"scale(.015625)\" d=\"m-19 4666h3947v-532h-1656v-4134h-634v4134h-1657v532z\"/><path id=\"DejaVuSans-69\" transform=\"scale(.015625)\" d=\"m603 3500h575v-3500h-575v3500zm0 1363h575v-729h-575v729z\"/><path id=\"DejaVuSans-6d\" transform=\"scale(.015625)\" d=\"m3328 2828q216 388 516 572t706 184q547 0 844-383 297-382 297-1088v-2113h-578v2094q0 503-179 746-178 244-543 244-447 0-707-297-259-296-259-809v-1978h-578v2094q0 506-178 748t-550 242q-441 0-701-298-259-298-259-808v-1978h-578v3500h578v-544q197 322 472 475t653 153q382 0 649-194 267-193 395-562z\"/><path id=\"DejaVuSans-65\" transform=\"scale(.015625)\" d=\"m3597 1894v-281h-2644q38-594 358-905t892-311q331 0 642 81t618 244v-544q-310-131-635-200t-659-69q-838 0-1327 487-489 488-489 1320 0 859 464 1363 464 505 1252 505 706 0 1117-455 411-454 411-1235zm-575 169q-6 471-264 752-258 282-683 282-481 0-770-272t-333-766l2050 4z\"/><path id=\"DejaVuSans-28\" transform=\"scale(.015625)\" d=\"m1984 4856q-418-718-622-1422-203-703-203-1425 0-721 205-1429t620-1424h-500q-468 735-701 1444t-233 1409q0 697 231 1403 232 707 703 1444h500z\"/><path id=\"DejaVuSans-6e\" transform=\"scale(.015625)\" d=\"m3513 2113v-2113h-575v2094q0 497-194 743-194 247-581 247-466 0-735-297-269-296-269-809v-1978h-578v3500h578v-544q207 316 486 472 280 156 646 156 603 0 912-373 310-373 310-1098z\"/><path id=\"DejaVuSans-73\" transform=\"scale(.015625)\" d=\"m2834 3397v-544q-243 125-506 187-262 63-544 63-428 0-642-131t-214-394q0-200 153-314t616-217l197-44q612-131 870-370t258-667q0-488-386-773-386-284-1061-284-281 0-586 55t-642 164v594q319-166 628-249 309-82 613-82 406 0 624 139 219 139 219 392 0 234-158 359-157 125-692 241l-200 47q-534 112-772 345-237 233-237 639 0 494 350 762 350 269 994 269 318 0 599-47 282-46 519-140z\"/><path id=\"DejaVuSans-29\" transform=\"scale(.015625)\" d=\"m513 4856h500q468-737 701-1444 233-706 233-1403 0-700-233-1409t-701-1444h-500q415 716 620 1424t205 1429q0 722-205 1425-205 704-620 1422z\"/></defs><use xlink:href=\"#DejaVuSans-54\"/><use x=\"57.958984\" xlink:href=\"#DejaVuSans-69\"/><use x=\"85.742188\" xlink:href=\"#DejaVuSans-6d\"/><use x=\"183.154297\" xlink:href=\"#DejaVuSans-65\"/><use x=\"244.677734\" xlink:href=\"#DejaVuSans-20\"/><use x=\"276.464844\" xlink:href=\"#DejaVuSans-28\"/><use x=\"315.478516\" xlink:href=\"#DejaVuSans-6e\"/><use x=\"378.857422\" xlink:href=\"#DejaVuSans-73\"/><use x=\"430.957031\" xlink:href=\"#DejaVuSans-29\"/></g><defs><path id=\"m5521b460e7\" d=\"m95.326-187.57v-0.001255l0.81818-0.002853v-0.001063h0.20455v-0.001125h0.20454v-0.001188h0.20454v-0.001256h0.20455v-0.001328h0.20454v-0.001402h0.20455v-0.001481h0.20454v-0.001564h0.20455v-0.001651h0.20454v-0.001743h0.20455v-0.001839h0.20454v-0.001939h0.20455v-0.002046h0.20454v-0.002157h0.20454v-0.002274h0.20455v-0.002397h0.20454v-0.002525h0.20455v-0.002661h0.20454v-0.002801h0.20455v-0.00295h0.20454v-0.003106h0.20455v-0.003268h0.20454v-0.003439h0.20455v-0.003617h0.20454v-0.003804h0.20454v-4e-3h0.20455v-0.004204h0.20454v-0.004419h0.20455v-0.004642h0.20454v-0.004876h0.20455v-0.005121h0.20454v-0.005376h0.20455v-0.005643h0.20454v-0.005922h0.20455v-0.006213h0.20454v-0.006517h0.20454v-0.006833h0.20455v-0.007165h0.20454v-0.007509h0.20455v-0.007869h0.20454v-0.008243h0.20455v-0.008634h0.20454v-0.009041h0.20455v-0.009464h0.20454v-0.009905h0.20455v-0.010365h0.20454v-0.010843h0.20454v-0.011339h0.20455v-0.011857h0.20454v-0.012394h0.20455v-0.012953h0.20454v-0.013533h0.20455v-0.014137h0.20454v-0.014764h0.20455v-0.015414h0.20454v-0.016089h0.20455v-0.01679h0.20454v-0.017517h0.20454v-0.01827h0.20455v-0.019053h0.20454v-0.019863h0.20455v-0.020702h0.20454v-0.021573h0.20455v-0.022473h0.20454v-0.023406h0.20455v-0.024371h0.20454v-0.02537h0.20455v-0.026404h0.20454v-0.027472h0.20454v-0.028577h0.20455v-0.029719h0.20454v-0.030899h0.20455v-0.032118h0.20454v-0.033376h0.20455v-0.034675h0.20454v-0.036016h0.20455v-0.037399h0.20454v-0.038826h0.20455v-0.040296h0.20454v-0.041813h0.20454v-0.043376h0.20455v-0.044985h0.20454v-0.046642h0.20455v-0.048349h0.20454v-0.050105h0.20455v-0.051912h0.20454v-0.053771h0.20455v-0.055681h0.20454v-0.057646h0.20455v-0.059664h0.20454v-0.061738h0.20454v-0.063866h0.20455v-0.066053h0.20454v-0.068295h0.20455v-0.070597h0.20454v-0.072958h0.20455v-0.075377h0.20454v-0.077857h0.20455v-0.080398h0.20454v-0.083001h0.20455v-0.085665h0.20454v-0.088393h0.20454v-0.091184h0.20455v-0.094038h0.20454v-0.096957h0.20455v-0.099941h0.20454v-0.10299h0.20455v-0.1061h0.20454v-0.10928h0.20455v-0.11253h0.20454v-0.11584h0.20455v-0.11921h0.20454v-0.12266h0.20454v-0.12617h0.20455v-0.12974h0.20454v-0.13338h0.20455v-0.13709h0.20454v-0.14086h0.20455v-0.1447h0.20454v-0.1486h0.20455v-0.15257h0.20454v-0.1566h0.20455v-0.1607h0.20454v-0.16485h0.20454v-0.16907h0.20455v-0.17335h0.20454v-0.17769h0.20455v-0.18209h0.20454v-0.18655h0.20455v-0.19106h0.20454v-0.19563h0.20455v-0.20025h0.20454v-0.20493h0.20455v-0.20966h0.20454v-0.21443h0.20454v-0.21926h0.20455v-0.22413h0.20454v-0.22904h0.20455v-0.234h0.20454v-0.23899h0.20455v-0.24402h0.20454v-0.24909h0.20455v-0.2542h0.20454v-0.25933h0.20455v-0.26449h0.20454v-0.26967h0.20454v-0.27488h0.20455v-0.28011h0.20454v-0.28535h0.20455v-0.2906h0.20454v-0.29587h0.20455v-0.30114h0.20454v-0.30642h0.20455v-0.3117h0.20454v-0.31697h0.20455v-0.32223h0.20454v-0.32749h0.20454v-0.33272h0.20455v-0.33794h0.20454v-0.34314h0.20455v-0.34831h0.20454v-0.35345h0.20455v-0.35855h0.20454v-0.36361h0.20455v-0.36863h0.20454v-0.3736h0.20455v-0.37852h0.20454v-0.38338h0.20454v-0.38818h0.20455v-0.39291h0.20454v-0.39757h0.20455v-0.40216h0.20454v-0.40666h0.20455v-0.41107h0.20454v-0.4154h0.20455v-0.41963h0.20454v-0.42376h0.20455v-0.42779h0.20454v-0.4317h0.20454v-0.4355h0.20455v-0.43918h0.20454v-0.44274h0.20455v-0.44616h0.20454v-0.44945h0.20455v-0.45261h0.20454v-0.45562h0.20455v-0.45847h0.20454v-0.46118h0.20455v-0.46373h0.20454v-0.46611h0.20454v-0.46833h0.20455v-0.47038h0.20454v-0.47225h0.20455v-0.47394h0.20454v-0.47545h0.20455v-0.47676h0.20454v-0.47789h0.20455v-0.47882h0.20454v-0.47955h0.20455v-0.48007h0.20454v-0.48039h0.20454v-0.48049h0.20455v-0.48039h0.20454v-0.48006h0.20455v-0.47952h0.20454v-0.47875h0.20455v-0.47776h0.20454v-0.47653h0.20455v-0.47508h0.20454v-0.4734h0.20455v-0.47148h0.20454v-0.46932h0.20454v-0.46693h0.20455v-0.46429h0.20454v-0.46142h0.20455v-0.4583h0.20454v-0.45495h0.20455v-0.45135h0.20454v-0.4475h0.20455v-0.44342h0.20454v-0.43908h0.20455v-0.43451h0.20454v-0.42969h0.20454v-0.42464h0.20455v-0.41933h0.20454v-0.41379h0.20455v-0.40802h0.20454v-0.402h0.20455v-0.39575h0.20454v-0.38927h0.20455v-0.38255h0.20454v-0.37561h0.20455v-0.36844h0.20454v-0.36105h0.20454v-0.35344h0.20455v-0.34562h0.20454v-0.33758h0.20455v-0.32933h0.20454v-0.32088h0.20455v-0.31223h0.20454v-0.30338h0.20455v-0.29434h0.20454v-0.28512h0.20455v-0.27572h0.20454v-0.26614h0.20454v-0.25639h0.20455v-0.24647h0.20454v-0.2364h0.20455v-0.22617h0.20454v-0.2158h0.20455v-0.20528h0.20454v-0.19464h0.20455v-0.18386h0.20454v-0.17297h0.20455v-0.16196h0.20454v-0.15084h0.20454v-0.13963h0.20455v-0.12832h0.20454v-0.11693h0.20455v-0.10546h0.20454v-0.093918h0.20455v-0.082316h0.20454v-0.070659h0.20455v-0.058955h0.20454v-0.047211h0.20455v-0.035435h0.20454v-0.023637h0.20454v-0.011823h0.40909v0.011823h0.20455v0.023637h0.20454v0.035435h0.20455v0.047211h0.20454v0.058955h0.20455v0.070659h0.20454v0.082316h0.20455v0.093918h0.20454v0.10546h0.20454v0.11693h0.20455v0.12832h0.20454v0.13963h0.20455v0.15084h0.20454v0.16196h0.20455v0.17297h0.20454v0.18386h0.20455v0.19464h0.20454v0.20528h0.20455v0.2158h0.20454v0.22617h0.20454v0.2364h0.20455v0.24647h0.20454v0.25639h0.20455v0.26614h0.20454v0.27572h0.20455v0.28512h0.20454v0.29434h0.20455v0.30338h0.20454v0.31223h0.20455v0.32088h0.20454v0.32933h0.20454v0.33758h0.20455v0.34562h0.20454v0.35344h0.20455v0.36105h0.20454v0.36844h0.20455v0.37561h0.20454v0.38255h0.20455v0.38927h0.20454v0.39575h0.20455v0.402h0.20454v0.40802h0.20454v0.41379h0.20455v0.41933h0.20454v0.42464h0.20455v0.42969h0.20454v0.43451h0.20455v0.43908h0.20454v0.44342h0.20455v0.4475h0.20454v0.45135h0.20455v0.45495h0.20454v0.4583h0.20454v0.46142h0.20455v0.46429h0.20454v0.46693h0.20455v0.46932h0.20454v0.47148h0.20455v0.4734h0.20454v0.47508h0.20455v0.47653h0.20454v0.47776h0.20455v0.47875h0.20454v0.47952h0.20454v0.48006h0.20455v0.48039h0.20454v0.48049h0.20455v0.48039h0.20454v0.48007h0.20455v0.47955h0.20454v0.47882h0.20455v0.47789h0.20454v0.47676h0.20455v0.47545h0.20454v0.47394h0.20454v0.47225h0.20455v0.47038h0.20454v0.46833h0.20455v0.46611h0.20454v0.46373h0.20455v0.46118h0.20454v0.45847h0.20455v0.45562h0.20454v0.45261h0.20455v0.44945h0.20454v0.44616h0.20454v0.44274h0.20455v0.43918h0.20454v0.4355h0.20455v0.4317h0.20454v0.42779h0.20455v0.42376h0.20454v0.41963h0.20455v0.4154h0.20454v0.41107h0.20455v0.40666h0.20454v0.40216h0.20454v0.39757h0.20455v0.39291h0.20454v0.38818h0.20455v0.38338h0.20454v0.37852h0.20455v0.3736h0.20454v0.36863h0.20455v0.36361h0.20454v0.35855h0.20455v0.35345h0.20454v0.34831h0.20454v0.34314h0.20455v0.33794h0.20454v0.33272h0.20455v0.32749h0.20454v0.32223h0.20455v0.31697h0.20454v0.3117h0.20455v0.30642h0.20454v0.30114h0.20455v0.29587h0.20454v0.2906h0.20454v0.28535h0.20455v0.28011h0.20454v0.27488h0.20455v0.26967h0.20454v0.26449h0.20455v0.25933h0.20454v0.2542h0.20455v0.24909h0.20454v0.24402h0.20455v0.23899h0.20454v0.234h0.20454v0.22904h0.20455v0.22413h0.20454v0.21926h0.20455v0.21443h0.20454v0.20966h0.20455v0.20493h0.20454v0.20025h0.20455v0.19563h0.20454v0.19106h0.20455v0.18655h0.20454v0.18209h0.20454v0.17769h0.20455v0.17335h0.20454v0.16907h0.20455v0.16485h0.20454v0.1607h0.20455v0.1566h0.20454v0.15257h0.20455v0.1486h0.20454v0.1447h0.20455v0.14086h0.20454v0.13709h0.20454v0.13338h0.20455v0.12974h0.20454v0.12617h0.20455v0.12266h0.20454v0.11921h0.20455v0.11584h0.20454v0.11253h0.20455v0.10928h0.20454v0.1061h0.20455v0.10299h0.20454v0.099941h0.20454v0.096957h0.20455v0.094038h0.20454v0.091184h0.20455v0.088393h0.20454v0.085665h0.20455v0.083001h0.20454v0.080398h0.20455v0.077857h0.20454v0.075377h0.20455v0.072958h0.20454v0.070597h0.20454v0.068295h0.20455v0.066053h0.20454v0.063866h0.20455v0.061738h0.20454v0.059664h0.20455v0.057646h0.20454v0.055681h0.20455v0.053771h0.20454v0.051912h0.20455v0.050105h0.20454v0.048349h0.20454v0.046642h0.20455v0.044985h0.20454v0.043376h0.20455v0.041813h0.20454v0.040296h0.20455v0.038826h0.20454v0.037399h0.20455v0.036016h0.20454v0.034675h0.20455v0.033376h0.20454v0.032118h0.20454v0.030899h0.20455v0.029719h0.20454v0.028577h0.20455v0.027472h0.20454v0.026404h0.20455v0.02537h0.20454v0.024371h0.20455v0.023406h0.20454v0.022473h0.20455v0.021573h0.20454v0.020702h0.20454v0.019863h0.20455v0.019053h0.20454v0.01827h0.20455v0.017517h0.20454v0.01679h0.20455v0.016089h0.20454v0.015414h0.20455v0.014764h0.20454v0.014137h0.20455v0.013533h0.20454v0.012953h0.20454v0.012394h0.20455v0.011857h0.20454v0.011339h0.20455v0.010843h0.20454v0.010365h0.20455v0.009905h0.20454v0.009464h0.20455v0.009041h0.20454v0.008634h0.20455v0.008243h0.20454v0.007869h0.20454v0.007509h0.20455v0.007165h0.20454v0.006833h0.20455v0.006517h0.20454v0.006213h0.20455v0.005922h0.20454v0.005643h0.20455v0.005376h0.20454v0.005121h0.20455v0.004876h0.20454v0.004642h0.20454v0.004419h0.20455v0.004204h0.20454v4e-3h0.20455v0.003804h0.20454v0.003617h0.20455v0.003439h0.20454v0.003268h0.20455v0.003106h0.20454v0.00295h0.20455v0.002801h0.20454v0.002661h0.20454v0.002525h0.20455v0.002397h0.20454v0.002274h0.20455v0.002157h0.20454v0.002046h0.20455v0.001939h0.20454v0.001839h0.20455v0.001743h0.20454v0.001651h0.20455v0.001564h0.20454v0.001481h0.20454v0.001402h0.20455v0.001328h0.20454v0.001256h0.20455v0.001188h0.20454v0.001125h0.20455v0.001063l0.81818 0.002853v0.001255h-0.81818-0.20455-0.20454-0.20455-0.20454-0.20455-0.20454-0.20454-0.20455-0.20454-0.20455-0.20454-0.20455-0.20454-0.20455-0.20454-0.20455-0.20454-0.20454-0.20455-0.20454-0.20455-0.20454-0.20455-0.20454-0.20455-0.20454-0.20455-0.20454-0.20454-0.20455-0.20454-0.20455-0.20454-0.20455-0.20454-0.20455-0.20454-0.20455-0.20454-0.20454-0.20455-0.20454-0.20455-0.20454-0.20455-0.20454-0.20455-0.20454-0.20455-0.20454-0.20454-0.20455-0.20454-0.20455-0.20454-0.20455-0.20454-0.20455-0.20454-0.20455-0.20454-0.20454-0.20455-0.20454-0.20455-0.20454-0.20455-0.20454-0.20455-0.20454-0.20455-0.20454-0.20454-0.20455-0.20454-0.20455-0.20454-0.20455-0.20454-0.20455-0.20454-0.20455-0.20454-0.20454-0.20455-0.20454-0.20455-0.20454-0.20455-0.20454-0.20455-0.20454-0.20455-0.20454-0.20454-0.20455-0.20454-0.20455-0.20454-0.20455-0.20454-0.20455-0.20454-0.20455-0.20454-0.20454-0.20455-0.20454-0.20455-0.20454-0.20455-0.20454-0.20455-0.20454-0.20455-0.20454-0.20454-0.20455-0.20454-0.20455-0.20454-0.20455-0.20454-0.20455-0.20454-0.20455-0.20454-0.20454-0.20455-0.20454-0.20455-0.20454-0.20455-0.20454-0.20455-0.20454-0.20455-0.20454-0.20454-0.20455-0.20454-0.20455-0.20454-0.20455-0.20454-0.20455-0.20454-0.20455-0.20454-0.20454-0.20455-0.20454-0.20455-0.20454-0.20455-0.20454-0.20455-0.20454-0.20455-0.20454-0.20454-0.20455-0.20454-0.20455-0.20454-0.20455-0.20454-0.20455-0.20454-0.20455-0.20454-0.20454-0.20455-0.20454-0.20455-0.20454-0.20455-0.20454-0.20455-0.20454-0.20455-0.20454-0.20454-0.20455-0.20454-0.20455-0.20454-0.20455-0.20454-0.20455-0.20454-0.20455-0.20454-0.20454-0.20455-0.20454-0.20455-0.20454-0.20455-0.20454-0.20455-0.20454-0.20455-0.20454-0.20454-0.20455-0.20454-0.20455-0.20454-0.20455-0.20454-0.20455-0.20454-0.20455-0.20454-0.20454-0.20455-0.20454-0.20455-0.20454-0.20455-0.20454-0.20455-0.20454-0.20455-0.20454-0.20454-0.20455-0.20454-0.20455-0.20454-0.20455-0.20454-0.20455-0.20454-0.20455-0.20454-0.20454-0.20455-0.20454-0.20455-0.20454-0.20455-0.20454-0.20455-0.20454-0.20455-0.20454-0.20454-0.20455-0.20454-0.20455-0.20454-0.20455-0.20454-0.20455-0.20454-0.20455-0.20454-0.20454-0.20455-0.20454-0.20455-0.20454-0.20455-0.20454-0.20455-0.40909-0.20454-0.20454-0.20455-0.20454-0.20455-0.20454-0.20455-0.20454-0.20455-0.20454-0.20455-0.20454-0.20454-0.20455-0.20454-0.20455-0.20454-0.20455-0.20454-0.20455-0.20454-0.20455-0.20454-0.20454-0.20455-0.20454-0.20455-0.20454-0.20455-0.20454-0.20455-0.20454-0.20455-0.20454-0.20454-0.20455-0.20454-0.20455-0.20454-0.20455-0.20454-0.20455-0.20454-0.20455-0.20454-0.20454-0.20455-0.20454-0.20455-0.20454-0.20455-0.20454-0.20455-0.20454-0.20455-0.20454-0.20454-0.20455-0.20454-0.20455-0.20454-0.20455-0.20454-0.20455-0.20454-0.20455-0.20454-0.20454-0.20455-0.20454-0.20455-0.20454-0.20455-0.20454-0.20455-0.20454-0.20455-0.20454-0.20454-0.20455-0.20454-0.20455-0.20454-0.20455-0.20454-0.20455-0.20454-0.20455-0.20454-0.20454-0.20455-0.20454-0.20455-0.20454-0.20455-0.20454-0.20455-0.20454-0.20455-0.20454-0.20454-0.20455-0.20454-0.20455-0.20454-0.20455-0.20454-0.20455-0.20454-0.20455-0.20454-0.20454-0.20455-0.20454-0.20455-0.20454-0.20455-0.20454-0.20455-0.20454-0.20455-0.20454-0.20454-0.20455-0.20454-0.20455-0.20454-0.20455-0.20454-0.20455-0.20454-0.20455-0.20454-0.20454-0.20455-0.20454-0.20455-0.20454-0.20455-0.20454-0.20455-0.20454-0.20455-0.20454-0.20454-0.20455-0.20454-0.20455-0.20454-0.20455-0.20454-0.20455-0.20454-0.20455-0.20454-0.20454-0.20455-0.20454-0.20455-0.20454-0.20455-0.20454-0.20455-0.20454-0.20455-0.20454-0.20454-0.20455-0.20454-0.20455-0.20454-0.20455-0.20454-0.20455-0.20454-0.20455-0.20454-0.20454-0.20455-0.20454-0.20455-0.20454-0.20455-0.20454-0.20455-0.20454-0.20455-0.20454-0.20454-0.20455-0.20454-0.20455-0.20454-0.20455-0.20454-0.20455-0.20454-0.20455-0.20454-0.20454-0.20455-0.20454-0.20455-0.20454-0.20455-0.20454-0.20455-0.20454-0.20455-0.20454-0.20454-0.20455-0.20454-0.20455-0.20454-0.20455-0.20454-0.20455-0.20454-0.20455-0.20454-0.20454-0.20455-0.20454-0.20455-0.20454-0.20455-0.20454-0.20455-0.20454-0.20455-0.20454-0.20454-0.20455-0.20454-0.20455-0.20454-0.20455-0.20454-0.20455-0.20454-0.20455-0.20454-0.20454-0.20455-0.20454-0.20455-0.20454-0.20455-0.20454-0.20455-0.20454-0.20455-0.20454-0.20454-0.20455-0.20454-0.20455-0.20454-0.20455-0.20454-0.20455-0.20454-0.20455-0.20454-0.20454-0.20455-0.81818z\"/></defs><g clip-path=\"url(#p2ec6f4562f)\"><use y=\"289.302599\" fill=\"#648fff\" fill-opacity=\".3\" xlink:href=\"#m5521b460e7\"/></g><defs><path id=\"mccd2ac2ce4\" d=\"m95.326-187.57h111.27-111.27z\"/></defs><g clip-path=\"url(#p2ec6f4562f)\"><use y=\"289.302599\" fill=\"#002999\" fill-opacity=\".3\" xlink:href=\"#mccd2ac2ce4\"/></g><defs><path id=\"m34c776695b\" d=\"m206.6-102.67v-0.38518h0.20454v-0.26438h0.20454v-0.27053h0.20455v-0.27673h0.20454v-0.28299h0.20455v-0.2893h0.20454v-0.29566h0.20455v-0.30206h0.20454v-0.30851h0.20455v-0.315h0.20454v-0.32152h0.20455v-0.32807h0.20454v-0.33465h0.20454v-0.34126h0.20455v-0.34788h0.20454v-0.35451h0.20455v-0.36116h0.20454v-0.36781h0.20455v-0.37447h0.20454v-0.38112h0.20455v-0.38776h0.20454v-0.39438h0.20455v-0.40099h0.20454v-0.40757h0.20454v-0.41412h0.20455v-0.42063h0.20454v-0.4271h0.20455v-0.43353h0.20454v-0.4399h0.20455v-0.4462h0.20454v-0.45245h0.20455v-0.45862h0.20454v-0.46471h0.20455v-0.47072h0.20454v-0.47663h0.20454v-0.48245h0.20455v-0.48816h0.20454v-0.49376h0.20455v-0.49925h0.20454v-0.50461h0.20455v-0.50984h0.20454v-0.51492h0.20455v-0.51987h0.20454v-0.52466h0.20455v-0.5293h0.20454v-0.53377h0.20454v-0.53806h0.20455v-0.54218h0.20454v-0.54612h0.20455v-0.54986h0.20454v-0.55341h0.20455v-0.55675h0.20454v-0.55988h0.20455v-0.56279h0.20454v-0.56548h0.20455v-0.56793h0.20454v-0.57016h0.20454v-0.57214h0.20455v-0.57387h0.20454v-0.57535h0.20455v-0.57658h0.20454v-0.57754h0.20455v-0.57823h0.20454v-0.57865h0.20455v-0.57879h0.20454v-0.57865h0.20455v-0.57822h0.20454v-0.5775h0.20454v-0.57648h0.20455v-0.57517h0.20454v-0.57355h0.20455v-0.57163h0.20454v-0.5694h0.20455v-0.56686h0.20454v-0.56401h0.20455v-0.56085h0.20454v-0.55736h0.20455v-0.55356h0.20454v-0.54944h0.20454v-0.545h0.20455v-0.54023h0.20454v-0.53515h0.20455v-0.52974h0.20454v-0.52401h0.20455v-0.51797h0.20454v-0.5116h0.20455v-0.50491h0.20454v-0.49791h0.20455v-0.49059h0.20454v-0.48296h0.20454v-0.47502h0.20455v-0.46678h0.20454v-0.45823h0.20455v-0.44938h0.20454v-0.44023h0.20455v-0.43079h0.20454v-0.42106h0.20455v-0.41105h0.20454v-0.40077h0.20455v-0.39021h0.20454v-0.37938h0.20454v-0.3683h0.20455v-0.35696h0.20454v-0.34537h0.20455v-0.33355h0.20454v-0.32149h0.20455v-0.3092h0.20454v-0.2967h0.20455v-0.28399h0.20454v-0.27108h0.20455v-0.25798h0.20454v-0.24469h0.20454v-0.23122h0.20455v-0.21759h0.20454v-0.20381h0.20455v-0.18988h0.20454v-0.1758h0.20455v-0.16161h0.20454v-0.14729h0.20455v-0.13287h0.20454v-0.11835h0.20455v-0.10375h0.20454v-0.089069h0.20454v-0.074324h0.20455v-0.059524h0.20454v-0.044682h0.20455v-0.029805h0.20454v-0.014909h0.20455v-0.001864h76.091 76.091v0.001864h0.20454v0.014909h0.20455v0.029805h0.20454v0.044682h0.20455v0.059524h0.20454v0.074324h0.20455v0.089069h0.20454v0.10375h0.20455v0.11835h0.20454v0.13287h0.20454v0.14729h0.20455v0.16161h0.20454v0.1758h0.20455v0.18988h0.20454v0.20381h0.20455v0.21759h0.20454v0.23122h0.20455v0.24469h0.20454v0.25798h0.20455v0.27108h0.20454v0.28399h0.20454v0.2967h0.20455v0.3092h0.20454v0.32149h0.20455v0.33355h0.20454v0.34537h0.20455v0.35696h0.20454v0.3683h0.20455v0.37938h0.20454v0.39021h0.20455v0.40077h0.20454v0.41105h0.20454v0.42106h0.20455v0.43079h0.20454v0.44023h0.20455v0.44938h0.20454v0.45823h0.20455v0.46678h0.20454v0.47502h0.20455v0.48296h0.20454v0.49059h0.20455v0.49791h0.20454v0.50491h0.20454v0.5116h0.20455v0.51797h0.20454v0.52401h0.20455v0.52974h0.20454v0.53515h0.20455v0.54023h0.20454v0.545h0.20455v0.54944h0.20454v0.55356h0.20455v0.55736h0.20454v0.56085h0.20454v0.56401h0.20455v0.56686h0.20454v0.5694h0.20455v0.57163h0.20454v0.57355h0.20455v0.57517h0.20454v0.57648h0.20455v0.5775h0.20454v0.57822h0.20455v0.57865h0.20454v0.57879h0.20454v0.57865h0.20455v0.57823h0.20454v0.57754h0.20455v0.57658h0.20454v0.57535h0.20455v0.57387h0.20454v0.57214h0.20455v0.57016h0.20454v0.56793h0.20455v0.56548h0.20454v0.56279h0.20454v0.55988h0.20455v0.55675h0.20454v0.55341h0.20455v0.54986h0.20454v0.54612h0.20455v0.54218h0.20454v0.53806h0.20455v0.53377h0.20454v0.5293h0.20455v0.52466h0.20454v0.51987h0.20454v0.51492h0.20455v0.50984h0.20454v0.50461h0.20455v0.49925h0.20454v0.49376h0.20455v0.48816h0.20454v0.48245h0.20455v0.47663h0.20454v0.47072h0.20455v0.46471h0.20454v0.45862h0.20454v0.45245h0.20455v0.4462h0.20454v0.4399h0.20455v0.43353h0.20454v0.4271h0.20455v0.42063h0.20454v0.41412h0.20455v0.40757h0.20454v0.40099h0.20455v0.39438h0.20454v0.38776h0.20454v0.38112h0.20455v0.37447h0.20454v0.36781h0.20455v0.36116h0.20454v0.35451h0.20455v0.34788h0.20454v0.34126h0.20455v0.33465h0.20454v0.32807h0.20455v0.32152h0.20454v0.315h0.20454v0.30851h0.20455v0.30206h0.20454v0.29566h0.20455v0.2893h0.20454v0.28299h0.20455v0.27673h0.20454v0.27053h0.20455v0.26438h0.20454v0.38518h-0.20454-0.20455-0.20454-0.20455-0.20454-0.20455-0.20454-0.20455-0.20454-0.20454-0.20455-0.20454-0.20455-0.20454-0.20455-0.20454-0.20455-0.20454-0.20455-0.20454-0.20454-0.20455-0.20454-0.20455-0.20454-0.20455-0.20454-0.20455-0.20454-0.20455-0.20454-0.20454-0.20455-0.20454-0.20455-0.20454-0.20455-0.20454-0.20455-0.20454-0.20455-0.20454-0.20454-0.20455-0.20454-0.20455-0.20454-0.20455-0.20454-0.20455-0.20454-0.20455-0.20454-0.20454-0.20455-0.20454-0.20455-0.20454-0.20455-0.20454-0.20455-0.20454-0.20455-0.20454-0.20454-0.20455-0.20454-0.20455-0.20454-0.20455-0.20454-0.20455-0.20454-0.20455-0.20454-0.20454-0.20455-0.20454-0.20455-0.20454-0.20455-0.20454-0.20455-0.20454-0.20455-0.20454-0.20454-0.20455-0.20454-0.20455-0.20454-0.20455-0.20454-0.20455-0.20454-0.20455-0.20454-0.20454-0.20455-0.20454-0.20455-0.20454-0.20455-0.20454-0.20455-0.20454-0.20455-0.20454-0.20454-0.20455-0.20454-0.20455-0.20454-0.20455-0.20454-0.20455-0.20454-0.20455-0.20454-0.20454-0.20455-0.20454-0.20455-0.20454-0.20455-0.20454-0.20455-0.20454-76.091-76.091-0.20455-0.20454-0.20455-0.20454-0.20455-0.20454-0.20454-0.20455-0.20454-0.20455-0.20454-0.20455-0.20454-0.20455-0.20454-0.20455-0.20454-0.20454-0.20455-0.20454-0.20455-0.20454-0.20455-0.20454-0.20455-0.20454-0.20455-0.20454-0.20454-0.20455-0.20454-0.20455-0.20454-0.20455-0.20454-0.20455-0.20454-0.20455-0.20454-0.20454-0.20455-0.20454-0.20455-0.20454-0.20455-0.20454-0.20455-0.20454-0.20455-0.20454-0.20454-0.20455-0.20454-0.20455-0.20454-0.20455-0.20454-0.20455-0.20454-0.20455-0.20454-0.20454-0.20455-0.20454-0.20455-0.20454-0.20455-0.20454-0.20455-0.20454-0.20455-0.20454-0.20454-0.20455-0.20454-0.20455-0.20454-0.20455-0.20454-0.20455-0.20454-0.20455-0.20454-0.20454-0.20455-0.20454-0.20455-0.20454-0.20455-0.20454-0.20455-0.20454-0.20455-0.20454-0.20454-0.20455-0.20454-0.20455-0.20454-0.20455-0.20454-0.20455-0.20454-0.20455-0.20454-0.20454-0.20455-0.20454-0.20455-0.20454-0.20455-0.20454-0.20455-0.20454-0.20455-0.20454-0.20454-0.20455-0.20454-0.20455-0.20454-0.20455-0.20454-0.20455-0.20454-0.20455-0.20454-0.20454z\"/></defs><g clip-path=\"url(#p2ec6f4562f)\"><use y=\"289.302599\" fill=\"#dc267f\" fill-opacity=\".3\" xlink:href=\"#m34c776695b\"/></g><defs><path id=\"m36515555af\" d=\"m206.6-102.67v0.20981h0.20454v0.14401h0.20454v0.14736h0.20455v0.15074h0.20454v0.15415h0.20455v0.15758h0.20454v0.16105h0.20455v0.16454h0.20454v0.16805h0.20455v0.17158h0.20454v0.17513h0.20455v0.1787h0.20454v0.18229h0.20454v0.18588h0.20455v0.18949h0.20454v0.19311h0.20455v0.19673h0.20454v0.20035h0.20455v0.20398h0.20454v0.2076h0.20455v0.21121h0.20454v0.21482h0.20455v0.21842h0.20454v0.222h0.20454v0.22557h0.20455v0.22912h0.20454v0.23265h0.20455v0.23614h0.20454v0.23961h0.20455v0.24305h0.20454v0.24645h0.20455v0.24981h0.20454v0.25313h0.20455v0.2564h0.20454v0.25962h0.20454v0.2628h0.20455v0.26591h0.20454v0.26896h0.20455v0.27194h0.20454v0.27486h0.20455v0.27771h0.20454v0.28048h0.20455v0.28318h0.20454v0.28579h0.20455v0.28831h0.20454v0.29075h0.20454v0.29309h0.20455v0.29533h0.20454v0.29747h0.20455v0.29951h0.20454v0.30144h0.20455v0.30326h0.20454v0.30497h0.20455v0.30655h0.20454v0.30802h0.20455v0.30936h0.20454v0.31057h0.20454v0.31165h0.20455v0.31259h0.20454v0.3134h0.20455v0.31407h0.20454v0.31459h0.20455v0.31497h0.20454v0.31519h0.20455v0.31527h0.20454v0.31519h0.20455v0.31496h0.20454v0.31457h0.20454v0.31401h0.20455v0.3133h0.20454v0.31242h0.20455v0.31137h0.20454v0.31016h0.20455v0.30878h0.20454v0.30722h0.20455v0.3055h0.20454v0.3036h0.20455v0.30153h0.20454v0.29928h0.20454v0.29686h0.20455v0.29427h0.20454v0.2915h0.20455v0.28855h0.20454v0.28544h0.20455v0.28214h0.20454v0.27867h0.20455v0.27503h0.20454v0.27122h0.20455v0.26723h0.20454v0.26307h0.20454v0.25875h0.20455v0.25426h0.20454v0.2496h0.20455v0.24478h0.20454v0.2398h0.20455v0.23466h0.20454v0.22936h0.20455v0.2239h0.20454v0.2183h0.20455v0.21255h0.20454v0.20665h0.20454v0.20062h0.20455v0.19444h0.20454v0.18813h0.20455v0.18169h0.20454v0.17512h0.20455v0.16843h0.20454v0.16162h0.20455v0.15469h0.20454v0.14766h0.20455v0.14052h0.20454v0.13328h0.20454v0.12595h0.20455v0.11852h0.20454v0.11102h0.20455v0.10343h0.20454v0.095762h0.20455v0.088029h0.20454v0.080231h0.20455v0.072376h0.20454v0.064468h0.20455v0.056513h0.20454v0.048516h0.20454v0.040485h0.20455v0.032423h0.20454v0.024338h0.20455v0.016236h0.20454v0.00812h0.20455v0.001016h76.091 76.091v-0.001016h0.20454v-0.00812h0.20455v-0.016236h0.20454v-0.024338h0.20455v-0.032423h0.20454v-0.040485h0.20455v-0.048516h0.20454v-0.056513h0.20455v-0.064468h0.20454v-0.072376h0.20454v-0.080231h0.20455v-0.088029h0.20454v-0.095762h0.20455v-0.10343h0.20454v-0.11102h0.20455v-0.11852h0.20454v-0.12595h0.20455v-0.13328h0.20454v-0.14052h0.20455v-0.14766h0.20454v-0.15469h0.20454v-0.16162h0.20455v-0.16843h0.20454v-0.17512h0.20455v-0.18169h0.20454v-0.18813h0.20455v-0.19444h0.20454v-0.20062h0.20455v-0.20665h0.20454v-0.21255h0.20455v-0.2183h0.20454v-0.2239h0.20454v-0.22936h0.20455v-0.23466h0.20454v-0.2398h0.20455v-0.24478h0.20454v-0.2496h0.20455v-0.25426h0.20454v-0.25875h0.20455v-0.26307h0.20454v-0.26723h0.20455v-0.27122h0.20454v-0.27503h0.20454v-0.27867h0.20455v-0.28214h0.20454v-0.28544h0.20455v-0.28855h0.20454v-0.2915h0.20455v-0.29427h0.20454v-0.29686h0.20455v-0.29928h0.20454v-0.30153h0.20455v-0.3036h0.20454v-0.3055h0.20454v-0.30722h0.20455v-0.30878h0.20454v-0.31016h0.20455v-0.31137h0.20454v-0.31242h0.20455v-0.3133h0.20454v-0.31401h0.20455v-0.31457h0.20454v-0.31496h0.20455v-0.31519h0.20454v-0.31527h0.20454v-0.31519h0.20455v-0.31497h0.20454v-0.31459h0.20455v-0.31407h0.20454v-0.3134h0.20455v-0.31259h0.20454v-0.31165h0.20455v-0.31057h0.20454v-0.30936h0.20455v-0.30802h0.20454v-0.30655h0.20454v-0.30497h0.20455v-0.30326h0.20454v-0.30144h0.20455v-0.29951h0.20454v-0.29747h0.20455v-0.29533h0.20454v-0.29309h0.20455v-0.29075h0.20454v-0.28831h0.20455v-0.28579h0.20454v-0.28318h0.20454v-0.28048h0.20455v-0.27771h0.20454v-0.27486h0.20455v-0.27194h0.20454v-0.26896h0.20455v-0.26591h0.20454v-0.2628h0.20455v-0.25962h0.20454v-0.2564h0.20455v-0.25313h0.20454v-0.24981h0.20454v-0.24645h0.20455v-0.24305h0.20454v-0.23961h0.20455v-0.23614h0.20454v-0.23265h0.20455v-0.22912h0.20454v-0.22557h0.20455v-0.222h0.20454v-0.21842h0.20455v-0.21482h0.20454v-0.21121h0.20454v-0.2076h0.20455v-0.20398h0.20454v-0.20035h0.20455v-0.19673h0.20454v-0.19311h0.20455v-0.18949h0.20454v-0.18588h0.20455v-0.18229h0.20454v-0.1787h0.20455v-0.17513h0.20454v-0.17158h0.20454v-0.16805h0.20455v-0.16454h0.20454v-0.16105h0.20455v-0.15758h0.20454v-0.15415h0.20455v-0.15074h0.20454v-0.14736h0.20455v-0.14401h0.20454v-0.20981h-0.20454-0.20455-0.20454-0.20455-0.20454-0.20455-0.20454-0.20455-0.20454-0.20454-0.20455-0.20454-0.20455-0.20454-0.20455-0.20454-0.20455-0.20454-0.20455-0.20454-0.20454-0.20455-0.20454-0.20455-0.20454-0.20455-0.20454-0.20455-0.20454-0.20455-0.20454-0.20454-0.20455-0.20454-0.20455-0.20454-0.20455-0.20454-0.20455-0.20454-0.20455-0.20454-0.20454-0.20455-0.20454-0.20455-0.20454-0.20455-0.20454-0.20455-0.20454-0.20455-0.20454-0.20454-0.20455-0.20454-0.20455-0.20454-0.20455-0.20454-0.20455-0.20454-0.20455-0.20454-0.20454-0.20455-0.20454-0.20455-0.20454-0.20455-0.20454-0.20455-0.20454-0.20455-0.20454-0.20454-0.20455-0.20454-0.20455-0.20454-0.20455-0.20454-0.20455-0.20454-0.20455-0.20454-0.20454-0.20455-0.20454-0.20455-0.20454-0.20455-0.20454-0.20455-0.20454-0.20455-0.20454-0.20454-0.20455-0.20454-0.20455-0.20454-0.20455-0.20454-0.20455-0.20454-0.20455-0.20454-0.20454-0.20455-0.20454-0.20455-0.20454-0.20455-0.20454-0.20455-0.20454-0.20455-0.20454-0.20454-0.20455-0.20454-0.20455-0.20454-0.20455-0.20454-0.20455-0.20454-76.091-76.091-0.20455-0.20454-0.20455-0.20454-0.20455-0.20454-0.20454-0.20455-0.20454-0.20455-0.20454-0.20455-0.20454-0.20455-0.20454-0.20455-0.20454-0.20454-0.20455-0.20454-0.20455-0.20454-0.20455-0.20454-0.20455-0.20454-0.20455-0.20454-0.20454-0.20455-0.20454-0.20455-0.20454-0.20455-0.20454-0.20455-0.20454-0.20455-0.20454-0.20454-0.20455-0.20454-0.20455-0.20454-0.20455-0.20454-0.20455-0.20454-0.20455-0.20454-0.20454-0.20455-0.20454-0.20455-0.20454-0.20455-0.20454-0.20455-0.20454-0.20455-0.20454-0.20454-0.20455-0.20454-0.20455-0.20454-0.20455-0.20454-0.20455-0.20454-0.20455-0.20454-0.20454-0.20455-0.20454-0.20455-0.20454-0.20455-0.20454-0.20455-0.20454-0.20455-0.20454-0.20454-0.20455-0.20454-0.20455-0.20454-0.20455-0.20454-0.20455-0.20454-0.20455-0.20454-0.20454-0.20455-0.20454-0.20455-0.20454-0.20455-0.20454-0.20455-0.20454-0.20455-0.20454-0.20454-0.20455-0.20454-0.20455-0.20454-0.20455-0.20454-0.20455-0.20454-0.20455-0.20454-0.20454-0.20455-0.20454-0.20455-0.20454-0.20455-0.20454-0.20455-0.20454-0.20455-0.20454-0.20454z\"/></defs><g clip-path=\"url(#p2ec6f4562f)\"><use y=\"289.302599\" fill=\"#760019\" fill-opacity=\".3\" xlink:href=\"#m36515555af\"/></g><path d=\"m62.353 242.07v-219.93\" fill=\"none\" stroke=\"#343a3f\" stroke-linecap=\"square\" stroke-width=\".8\"/><path d=\"m62.353 242.07h725.4\" fill=\"none\" stroke=\"#343a3f\" stroke-linecap=\"square\" stroke-width=\".8\"/><path d=\"m308.87 242.07v-219.93\" clip-path=\"url(#p2ec6f4562f)\" fill=\"none\" stroke=\"#f2f3f4\" stroke-linecap=\"square\" stroke-width=\"6\"/><g transform=\"translate(86.926 107.25) scale(.2 -.2)\"><defs><path id=\"DejaVuSans-21ba\" transform=\"scale(.015625)\" d=\"m1606 3334q-212-206-312-459-103-253-103-544 0-281 103-534t309-459q188-185 456-307 232-103 528-103 297 0 541 103 256 110 456 307 207 206 310 459t103 534q0 291-103 544-106 253-313 459l-109 110v-1031h-531v1737l200 200h1737v-531h-1031l109-110q282-281 428-631 144-350 144-747 0-387-144-737-150-353-428-631-262-260-625-422-322-144-737-144-400 0-738 144-350 150-625 422-278 278-428 631-144 350-144 737 0 397 144 747 141 335 428 631l375-375z\"/></defs><use transform=\"translate(0 .03125)\" xlink:href=\"#DejaVuSans-21ba\"/></g><g transform=\"translate(42.406 73.203) scale(.12 -.12)\"><defs><path id=\"DejaVuSans-394\" transform=\"scale(.015625)\" d=\"m2188 4044-1282-3519h2566l-1284 3519zm-2138-4044 1781 4666h716l1778-4666h-4275z\"/><path id=\"DejaVuSans-Oblique-66\" transform=\"scale(.015625)\" d=\"m3059 4863-90-479h-550q-313 0-455-123t-211-452l-62-309h947l-85-447h-947l-593-3053h-579l597 3053h-550l82 447h550l46 244q119 619 417 869 299 250 940 250h543z\"/><path id=\"DejaVuSans-3d\" transform=\"scale(.015625)\" d=\"m678 2906h4006v-525h-4006v525zm0-1275h4006v-531h-4006v531z\"/><path id=\"DejaVuSans-2212\" transform=\"scale(.015625)\" d=\"m678 2272h4006v-531h-4006v531z\"/><path id=\"DejaVuSans-2e\" transform=\"scale(.015625)\" d=\"m684 794h660v-794h-660v794z\"/><path id=\"DejaVuSans-4d\" transform=\"scale(.015625)\" d=\"m628 4666h941l1190-3175 1197 3175h941v-4666h-616v4097l-1203-3200h-634l-1203 3200v-4097h-613v4666z\"/><path id=\"DejaVuSans-48\" transform=\"scale(.015625)\" d=\"m628 4666h631v-1913h2294v1913h631v-4666h-631v2222h-2294v-2222h-631v4666z\"/><path id=\"DejaVuSans-7a\" transform=\"scale(.015625)\" d=\"m353 3500h2731v-525l-2162-2516h2162v-459h-2809v525l2163 2516h-2085v459z\"/></defs><use transform=\"translate(0 .015625)\" xlink:href=\"#DejaVuSans-394\"/><use transform=\"translate(68.408 .015625)\" xlink:href=\"#DejaVuSans-Oblique-66\"/><use transform=\"translate(123.1 .015625)\" xlink:href=\"#DejaVuSans-3d\"/><use transform=\"translate(245.85 .015625)\" xlink:href=\"#DejaVuSans-2212\"/><use transform=\"translate(349.12 .015625)\" xlink:href=\"#DejaVuSans-32\"/><use transform=\"translate(412.74 .015625)\" xlink:href=\"#DejaVuSans-30\"/><use transform=\"translate(476.37 .015625)\" xlink:href=\"#DejaVuSans-2e\"/><use transform=\"translate(508.15 .015625)\" xlink:href=\"#DejaVuSans-30\"/><use transform=\"translate(571.78 .015625)\" xlink:href=\"#DejaVuSans-30\"/><use transform=\"translate(667.87 .015625)\" xlink:href=\"#DejaVuSans-4d\"/><use transform=\"translate(754.15 .015625)\" xlink:href=\"#DejaVuSans-48\"/><use transform=\"translate(829.35 .015625)\" xlink:href=\"#DejaVuSans-7a\"/></g><g transform=\"translate(65.175 120.79) scale(.12 -.12)\" fill=\"#222222\"><defs><path id=\"DejaVuSans-66\" transform=\"scale(.015625)\" d=\"m2375 4863v-479h-550q-309 0-430-125-120-125-120-450v-309h947v-447h-947v-3053h-578v3053h-550v447h550v244q0 584 272 851 272 268 862 268h544z\"/><path id=\"DejaVuSans-72\" transform=\"scale(.015625)\" d=\"m2631 2963q-97 56-211 82-114 27-251 27-488 0-749-317t-261-911v-1844h-578v3500h578v-544q182 319 472 473 291 155 707 155 59 0 131-8 72-7 159-23l3-590z\"/><path id=\"DejaVuSans-71\" transform=\"scale(.015625)\" d=\"m947 1747q0-634 261-995t717-361 718 361q263 361 263 995t-263 995q-262 361-718 361t-717-361-261-995zm1959-1222q-181-312-458-464-276-152-664-152-634 0-1033 506-398 507-398 1332t398 1331q399 506 1033 506 388 0 664-152 277-151 458-463v531h575v-4831h-575v1856z\"/><path id=\"DejaVuSans-5f\" transform=\"scale(.015625)\" d=\"m3263-1063v-446h-3326v446h3326z\"/><path id=\"DejaVuSans-77\" transform=\"scale(.015625)\" d=\"m269 3500h575l719-2731 715 2731h678l719-2731 716 2731h575l-916-3500h-678l-753 2869-756-2869h-679l-915 3500z\"/><path id=\"DejaVuSans-70\" transform=\"scale(.015625)\" d=\"m1159 525v-1856h-578v4831h578v-531q182 312 458 463 277 152 661 152 638 0 1036-506 399-506 399-1331t-399-1332q-398-506-1036-506-384 0-661 152-276 152-458 464zm1957 1222q0 634-261 995t-717 361q-457 0-718-361t-261-995 261-995 718-361q456 0 717 361t261 995z\"/><path id=\"DejaVuSans-78\" transform=\"scale(.015625)\" d=\"m3513 3500-1266-1703 1331-1797h-678l-1019 1375-1018-1375h-679l1360 1831-1244 1669h678l928-1247 928 1247h679z\"/><path id=\"DejaVuSans-63\" transform=\"scale(.015625)\" d=\"m3122 3366v-538q-244 135-489 202t-495 67q-560 0-870-355-309-354-309-995t309-996q310-354 870-354 250 0 495 67t489 202v-532q-241-112-499-168-257-57-548-57-791 0-1257 497-465 497-465 1341 0 856 470 1346 471 491 1290 491 265 0 518-55 253-54 491-163z\"/><path id=\"DejaVuSans-74\" transform=\"scale(.015625)\" d=\"m1172 4494v-994h1184v-447h-1184v-1900q0-428 117-550t477-122h590v-481h-590q-666 0-919 248-253 249-253 905v1900h-422v447h422v994h578z\"/><path id=\"DejaVuSans-61\" transform=\"scale(.015625)\" d=\"m2194 1759q-697 0-966-159t-269-544q0-306 202-486 202-179 548-179 479 0 768 339t289 901v128h-572zm1147 238v-1997h-575v531q-197-318-491-470t-719-152q-537 0-855 302-317 302-317 808 0 590 395 890 396 300 1180 300h807v57q0 397-261 614t-733 217q-300 0-585-72-284-72-546-216v532q315 122 612 182 297 61 578 61 760 0 1135-394 375-393 375-1193z\"/><path id=\"DejaVuSans-6f\" transform=\"scale(.015625)\" d=\"m1959 3097q-462 0-731-361t-269-989 267-989q268-361 733-361 460 0 728 362 269 363 269 988 0 622-269 986-268 364-728 364zm0 487q750 0 1178-488 429-487 429-1349 0-859-429-1349-428-489-1178-489-753 0-1180 489-426 490-426 1349 0 862 426 1349 427 488 1180 488z\"/><path id=\"DejaVuSans-75\" transform=\"scale(.015625)\" d=\"m544 1381v2119h575v-2097q0-497 193-746 194-248 582-248 465 0 735 297 271 297 271 810v1984h575v-3500h-575v538q-209-319-486-474-276-155-642-155-603 0-916 375-312 375-312 1097zm1447 2203z\"/><path id=\"DejaVuSans-6c\" transform=\"scale(.015625)\" d=\"m603 4863h575v-4863h-575v4863z\"/></defs><use xlink:href=\"#DejaVuSans-66\"/><use x=\"35.205078\" xlink:href=\"#DejaVuSans-72\"/><use x=\"74.068359\" xlink:href=\"#DejaVuSans-65\"/><use x=\"135.591797\" xlink:href=\"#DejaVuSans-71\"/><use x=\"199.068359\" xlink:href=\"#DejaVuSans-5f\"/><use x=\"249.068359\" xlink:href=\"#DejaVuSans-73\"/><use x=\"301.167969\" xlink:href=\"#DejaVuSans-77\"/><use x=\"382.955078\" xlink:href=\"#DejaVuSans-65\"/><use x=\"444.478516\" xlink:href=\"#DejaVuSans-65\"/><use x=\"506.001953\" xlink:href=\"#DejaVuSans-70\"/><use x=\"569.478516\" xlink:href=\"#DejaVuSans-5f\"/><use x=\"619.478516\" xlink:href=\"#DejaVuSans-65\"/><use x=\"679.251953\" xlink:href=\"#DejaVuSans-78\"/><use x=\"736.681641\" xlink:href=\"#DejaVuSans-63\"/><use x=\"791.662109\" xlink:href=\"#DejaVuSans-69\"/><use x=\"819.445312\" xlink:href=\"#DejaVuSans-74\"/><use x=\"858.654297\" xlink:href=\"#DejaVuSans-61\"/><use x=\"919.933594\" xlink:href=\"#DejaVuSans-74\"/><use x=\"959.142578\" xlink:href=\"#DejaVuSans-69\"/><use x=\"986.925781\" xlink:href=\"#DejaVuSans-6f\"/><use x=\"1048.107422\" xlink:href=\"#DejaVuSans-6e\"/><use x=\"1111.486328\" xlink:href=\"#DejaVuSans-5f\"/><use x=\"1161.486328\" xlink:href=\"#DejaVuSans-70\"/><use x=\"1224.962891\" xlink:href=\"#DejaVuSans-75\"/><use x=\"1288.341797\" xlink:href=\"#DejaVuSans-6c\"/><use x=\"1316.125\" xlink:href=\"#DejaVuSans-73\"/><use x=\"1368.224609\" xlink:href=\"#DejaVuSans-65\"/></g><g transform=\"translate(41.259 105.87) scale(.15 -.15)\"><defs><path id=\"DejaVuSans-44\" transform=\"scale(.015625)\" d=\"m1259 4147v-3628h763q966 0 1414 437 448 438 448 1382 0 937-448 1373t-1414 436h-763zm-631 519h1297q1356 0 1990-564 635-564 635-1764 0-1207-638-1773-637-565-1987-565h-1297v4666z\"/></defs><use xlink:href=\"#DejaVuSans-44\"/><use x=\"77.001953\" xlink:href=\"#DejaVuSans-30\"/></g><g transform=\"translate(7.2 120.96) scale(.12 -.12)\"><defs><path id=\"DejaVuSans-34\" transform=\"scale(.015625)\" d=\"m2419 4116-1594-2491h1594v2491zm-166 550h794v-3041h666v-525h-666v-1100h-628v1100h-2106v609l1940 2957z\"/><path id=\"DejaVuSans-39\" transform=\"scale(.015625)\" d=\"m703 97v575q238-113 481-172 244-59 479-59 625 0 954 420 330 420 377 1277-181-269-460-413-278-144-615-144-700 0-1108 423-408 424-408 1159 0 718 425 1152 425 435 1131 435 810 0 1236-621 427-620 427-1801 0-1103-524-1761-523-658-1407-658-238 0-482 47-243 47-506 141zm1256 1978q425 0 673 290 249 291 249 798 0 503-249 795-248 292-673 292t-673-292-248-795q0-507 248-798 248-290 673-290z\"/><path id=\"DejaVuSans-47\" transform=\"scale(.015625)\" d=\"m3809 666v1253h-1031v519h1656v-2004q-365-259-806-392-440-133-940-133-1094 0-1712 639-617 640-617 1780 0 1144 617 1783 618 639 1712 639 456 0 867-113 411-112 758-331v-672q-350 297-744 447t-828 150q-857 0-1287-478-429-478-429-1425 0-944 429-1422 430-478 1287-478 334 0 596 58 263 58 472 180z\"/></defs><use xlink:href=\"#DejaVuSans-34\"/><use x=\"63.623047\" xlink:href=\"#DejaVuSans-2e\"/><use x=\"95.410156\" xlink:href=\"#DejaVuSans-39\"/><use x=\"159.033203\" xlink:href=\"#DejaVuSans-36\"/><use x=\"222.65625\" xlink:href=\"#DejaVuSans-20\"/><use x=\"254.443359\" xlink:href=\"#DejaVuSans-47\"/><use x=\"331.933594\" xlink:href=\"#DejaVuSans-48\"/><use x=\"407.128906\" xlink:href=\"#DejaVuSans-7a\"/></g><g transform=\"translate(313.92 97.591) rotate(180) scale(.15 -.15)\" fill=\"#343a3f\"><defs><path id=\"DejaVuSans-2f\" transform=\"scale(.015625)\" d=\"m1625 4666h531l-1625-5260h-531l1625 5260z\"/></defs><use xlink:href=\"#DejaVuSans-2f\"/><use x=\"33.691406\" xlink:href=\"#DejaVuSans-2f\"/></g><g transform=\"translate(291.03 205.59) scale(.12 -.12)\" fill=\"#222222\"><use xlink:href=\"#DejaVuSans-4d\"/><use x=\"86.279297\" xlink:href=\"#DejaVuSans-5f\"/><use x=\"136.279297\" xlink:href=\"#DejaVuSans-6d\"/><use x=\"233.691406\" xlink:href=\"#DejaVuSans-30\"/></g><g transform=\"translate(565.76 205.86) scale(.12 -.12)\" fill=\"#222222\"><defs><path id=\"DejaVuSans-79\" transform=\"scale(.015625)\" d=\"m2059-325q-243-625-475-815-231-191-618-191h-460v481h338q237 0 368 113 132 112 291 531l103 262-1415 3444h609l1094-2737 1094 2737h609l-1538-3825z\"/></defs><use xlink:href=\"#DejaVuSans-44\"/><use x=\"77.001953\" xlink:href=\"#DejaVuSans-65\"/><use x=\"138.525391\" xlink:href=\"#DejaVuSans-6c\"/><use x=\"166.308594\" xlink:href=\"#DejaVuSans-61\"/><use x=\"227.587891\" xlink:href=\"#DejaVuSans-79\"/></g><g transform=\"translate(39.867 190.77) scale(.15 -.15)\"><use xlink:href=\"#DejaVuSans-4d\"/><use x=\"86.279297\" xlink:href=\"#DejaVuSans-30\"/></g><g transform=\"translate(7.2 205.86) scale(.12 -.12)\"><use xlink:href=\"#DejaVuSans-37\"/><use x=\"63.623047\" xlink:href=\"#DejaVuSans-2e\"/><use x=\"95.410156\" xlink:href=\"#DejaVuSans-31\"/><use x=\"159.033203\" xlink:href=\"#DejaVuSans-36\"/><use x=\"222.65625\" xlink:href=\"#DejaVuSans-20\"/><use x=\"254.443359\" xlink:href=\"#DejaVuSans-47\"/><use x=\"331.933594\" xlink:href=\"#DejaVuSans-48\"/><use x=\"407.128906\" xlink:href=\"#DejaVuSans-7a\"/></g><g transform=\"translate(313.92 182.49) rotate(180) scale(.15 -.15)\" fill=\"#343a3f\"><use xlink:href=\"#DejaVuSans-2f\"/><use x=\"33.691406\" xlink:href=\"#DejaVuSans-2f\"/></g><g transform=\"translate(62.353 18.598) scale(.15 -.15)\"><defs><path id=\"DejaVuSans-4e\" transform=\"scale(.015625)\" d=\"m628 4666h850l2069-3903v3903h612v-4666h-850l-2068 3903v-3903h-613v4666z\"/><path id=\"DejaVuSans-3a\" transform=\"scale(.015625)\" d=\"m750 794h659v-794h-659v794zm0 2515h659v-793h-659v793z\"/><path id=\"DejaVuSans-2d\" transform=\"scale(.015625)\" d=\"m313 2009h1684v-512h-1684v512z\"/><path id=\"DejaVuSans-2c\" transform=\"scale(.015625)\" d=\"m750 794h659v-538l-512-1e3h-403l256 1e3v538z\"/><path id=\"DejaVuSans-42\" transform=\"scale(.015625)\" d=\"m1259 2228v-1709h1013q509 0 754 211 246 211 246 645 0 438-246 645-245 208-754 208h-1013zm0 1919v-1406h935q462 0 688 173 227 174 227 530 0 353-227 528-226 175-688 175h-935zm-631 519h1613q722 0 1112-300 391-300 391-853 0-429-200-682t-588-315q466-100 724-418 258-317 258-792 0-625-425-966-425-340-1210-340h-1675v4666z\"/><path id=\"DejaVuSans-6b\" transform=\"scale(.015625)\" d=\"m581 4863h578v-2872l1716 1509h734l-1856-1637 1935-1863h-750l-1779 1709v-1709h-578v4863z\"/><path id=\"DejaVuSans-64\" transform=\"scale(.015625)\" d=\"m2906 2969v1894h575v-4863h-575v525q-181-312-458-464-276-152-664-152-634 0-1033 506-398 507-398 1332t398 1331q399 506 1033 506 388 0 664-152 277-151 458-463zm-1959-1222q0-634 261-995t717-361 718 361q263 361 263 995t-263 995q-262 361-718 361t-717-361-261-995z\"/><path id=\"DejaVuSans-62\" transform=\"scale(.015625)\" d=\"m3116 1747q0 634-261 995t-717 361q-457 0-718-361t-261-995 261-995 718-361q456 0 717 361t261 995zm-1957 1222q182 312 458 463 277 152 661 152 638 0 1036-506 399-506 399-1331t-399-1332q-398-506-1036-506-384 0-661 152-276 152-458 464v-525h-578v4863h578v-1894z\"/></defs><use xlink:href=\"#DejaVuSans-4e\"/><use x=\"74.804688\" xlink:href=\"#DejaVuSans-61\"/><use x=\"136.083984\" xlink:href=\"#DejaVuSans-6d\"/><use x=\"233.496094\" xlink:href=\"#DejaVuSans-65\"/><use x=\"295.019531\" xlink:href=\"#DejaVuSans-3a\"/><use x=\"328.710938\" xlink:href=\"#DejaVuSans-20\"/><use x=\"360.498047\" xlink:href=\"#DejaVuSans-63\"/><use x=\"415.478516\" xlink:href=\"#DejaVuSans-69\"/><use x=\"443.261719\" xlink:href=\"#DejaVuSans-72\"/><use x=\"482.125\" xlink:href=\"#DejaVuSans-63\"/><use x=\"537.105469\" xlink:href=\"#DejaVuSans-75\"/><use x=\"600.484375\" xlink:href=\"#DejaVuSans-69\"/><use x=\"628.267578\" xlink:href=\"#DejaVuSans-74\"/><use x=\"667.476562\" xlink:href=\"#DejaVuSans-2d\"/><use x=\"703.560547\" xlink:href=\"#DejaVuSans-38\"/><use x=\"767.183594\" xlink:href=\"#DejaVuSans-37\"/><use x=\"830.806641\" xlink:href=\"#DejaVuSans-2c\"/><use x=\"862.59375\" xlink:href=\"#DejaVuSans-20\"/><use x=\"894.380859\" xlink:href=\"#DejaVuSans-44\"/><use x=\"971.382812\" xlink:href=\"#DejaVuSans-75\"/><use x=\"1034.761719\" xlink:href=\"#DejaVuSans-72\"/><use x=\"1075.875\" xlink:href=\"#DejaVuSans-61\"/><use x=\"1137.154297\" xlink:href=\"#DejaVuSans-74\"/><use x=\"1176.363281\" xlink:href=\"#DejaVuSans-69\"/><use x=\"1204.146484\" xlink:href=\"#DejaVuSans-6f\"/><use x=\"1265.328125\" xlink:href=\"#DejaVuSans-6e\"/><use x=\"1328.707031\" xlink:href=\"#DejaVuSans-3a\"/><use x=\"1362.398438\" xlink:href=\"#DejaVuSans-20\"/><use x=\"1394.185547\" xlink:href=\"#DejaVuSans-35\"/><use x=\"1457.808594\" xlink:href=\"#DejaVuSans-34\"/><use x=\"1521.431641\" xlink:href=\"#DejaVuSans-37\"/><use x=\"1585.054688\" xlink:href=\"#DejaVuSans-32\"/><use x=\"1648.677734\" xlink:href=\"#DejaVuSans-2e\"/><use x=\"1680.464844\" xlink:href=\"#DejaVuSans-30\"/><use x=\"1744.087891\" xlink:href=\"#DejaVuSans-20\"/><use x=\"1775.875\" xlink:href=\"#DejaVuSans-6e\"/><use x=\"1839.253906\" xlink:href=\"#DejaVuSans-73\"/><use x=\"1891.353516\" xlink:href=\"#DejaVuSans-2c\"/><use x=\"1923.140625\" xlink:href=\"#DejaVuSans-20\"/><use x=\"1954.927734\" xlink:href=\"#DejaVuSans-42\"/><use x=\"2023.53125\" xlink:href=\"#DejaVuSans-61\"/><use x=\"2084.810547\" xlink:href=\"#DejaVuSans-63\"/><use x=\"2139.791016\" xlink:href=\"#DejaVuSans-6b\"/><use x=\"2194.076172\" xlink:href=\"#DejaVuSans-65\"/><use x=\"2255.599609\" xlink:href=\"#DejaVuSans-6e\"/><use x=\"2318.978516\" xlink:href=\"#DejaVuSans-64\"/><use x=\"2382.455078\" xlink:href=\"#DejaVuSans-3a\"/><use x=\"2416.146484\" xlink:href=\"#DejaVuSans-20\"/><use x=\"2447.933594\" xlink:href=\"#DejaVuSans-69\"/><use x=\"2475.716797\" xlink:href=\"#DejaVuSans-62\"/><use x=\"2539.193359\" xlink:href=\"#DejaVuSans-6d\"/><use x=\"2636.605469\" xlink:href=\"#DejaVuSans-71\"/><use x=\"2700.082031\" xlink:href=\"#DejaVuSans-5f\"/><use x=\"2750.082031\" xlink:href=\"#DejaVuSans-6d\"/><use x=\"2847.494141\" xlink:href=\"#DejaVuSans-61\"/><use x=\"2908.773438\" xlink:href=\"#DejaVuSans-6e\"/><use x=\"2972.152344\" xlink:href=\"#DejaVuSans-69\"/><use x=\"2999.935547\" xlink:href=\"#DejaVuSans-6c\"/><use x=\"3027.71875\" xlink:href=\"#DejaVuSans-61\"/></g><defs><clipPath id=\"p2ec6f4562f\"><rect x=\"62.353\" y=\"22.134\" width=\"725.4\" height=\"219.93\"/></clipPath></defs></svg>"
      ],
      "text/plain": [
       "<Figure size 1300x396.706 with 1 Axes>"
      ]
     },
     "execution_count": 15,
     "metadata": {},
     "output_type": "execute_result"
    }
   ],
   "source": [
    "from qiskit import schedule\n",
    "\n",
    "sweep_schedule = schedule(exp_sweep_circs[0], backend)\n",
    "sweep_schedule.draw(backend=backend)"
   ]
  },
  {
   "cell_type": "markdown",
   "metadata": {},
   "source": [
    "We request that each schedule (each point in our frequency sweep) is repeated `num_shots_per_frequency` times in order to get a good estimate of the qubit response.\n",
    "\n",
    "We also specify measurement settings. `meas_level=0` returns raw data (an array of complex values per shot), `meas_level=1` returns kerneled data (one complex value per shot), and `meas_level=2` returns classified data (a 0 or 1 bit per shot). We choose `meas_level=1` to replicate what we would be working with if we were in the lab, and hadn't yet calibrated the discriminator to classify 0s and 1s. We ask for the `'avg'` of the results, rather than each shot individually."
   ]
  },
  {
   "cell_type": "markdown",
   "metadata": {},
   "source": [
    "You may see yet another unit change warning, we can safely ignore this. Finally, we can run the assembled program on the backend using:"
   ]
  },
  {
   "cell_type": "code",
   "execution_count": 16,
   "metadata": {
    "tags": [
     "uses-hardware"
    ]
   },
   "outputs": [],
   "source": [
    "num_shots_per_frequency = 1024\n",
    "\n",
    "# job = backend.run(exp_sweep_circs, \n",
    "#                   meas_level=1, \n",
    "#                   meas_return='avg', \n",
    "#                   shots=num_shots_per_frequency)\n",
    "job = backend.retrieve_job('638f86c4db0f0dd7139244af')"
   ]
  },
  {
   "cell_type": "markdown",
   "metadata": {},
   "source": [
    "It is always a good idea to monitor the job status by using `job_monitor()`"
   ]
  },
  {
   "cell_type": "code",
   "execution_count": 17,
   "metadata": {
    "tags": [
     "uses-hardware"
    ]
   },
   "outputs": [
    {
     "name": "stdout",
     "output_type": "stream",
     "text": [
      "\r",
      "Job Status: job has successfully run\n"
     ]
    }
   ],
   "source": [
    "from qiskit.tools.monitor import job_monitor\n",
    "job_monitor(job)"
   ]
  },
  {
   "cell_type": "markdown",
   "metadata": {},
   "source": [
    "Once the job is run, the results can be retrieved using:"
   ]
  },
  {
   "cell_type": "code",
   "execution_count": 18,
   "metadata": {
    "tags": [
     "uses-hardware"
    ]
   },
   "outputs": [],
   "source": [
    "frequency_sweep_results = job.result(timeout=120) # timeout parameter set to 120 seconds"
   ]
  },
  {
   "cell_type": "markdown",
   "metadata": {},
   "source": [
    "We will extract the results and plot them using `matplotlib`:"
   ]
  },
  {
   "cell_type": "code",
   "execution_count": 19,
   "metadata": {
    "tags": [
     "uses-hardware"
    ]
   },
   "outputs": [
    {
     "data": {
      "image/svg+xml": [
       "<?xml version=\"1.0\" encoding=\"UTF-8\"?><!DOCTYPE svg  PUBLIC '-//W3C//DTD SVG 1.1//EN'  'http://www.w3.org/Graphics/SVG/1.1/DTD/svg11.dtd'><svg width=\"416.48pt\" height=\"310.87pt\" version=\"1.1\" viewBox=\"0 0 416.48 310.87\" xmlns=\"http://www.w3.org/2000/svg\" xmlns:xlink=\"http://www.w3.org/1999/xlink\"><defs><style type=\"text/css\">*{stroke-linejoin: round; stroke-linecap: butt}</style></defs><path d=\"m0 310.87h416.48v-310.87h-416.48z\" fill=\"#ffffff\"/><path d=\"m52.161 273.31h357.12v-266.11h-357.12z\" fill=\"#ffffff\"/><defs><path id=\"m8ad3d846bc\" d=\"m0 3c0.79561 0 1.5587-0.3161 2.1213-0.87868 0.56258-0.56258 0.87868-1.3257 0.87868-2.1213s-0.3161-1.5587-0.87868-2.1213c-0.56258-0.56258-1.3257-0.87868-2.1213-0.87868s-1.5587 0.3161-2.1213 0.87868c-0.56258 0.56258-0.87868 1.3257-0.87868 2.1213s0.3161 1.5587 0.87868 2.1213c0.56258 0.56258 1.3257 0.87868 2.1213 0.87868z\" stroke=\"#000000\"/></defs><g clip-path=\"url(#p8c074294bc)\" stroke=\"#000000\"><use x=\"52.160937\" y=\"261.216\" xlink:href=\"#m8ad3d846bc\"/><use x=\"61.088937\" y=\"257.727027\" xlink:href=\"#m8ad3d846bc\"/><use x=\"70.016937\" y=\"256.535707\" xlink:href=\"#m8ad3d846bc\"/><use x=\"78.944937\" y=\"241.7724\" xlink:href=\"#m8ad3d846bc\"/><use x=\"87.872937\" y=\"242.025997\" xlink:href=\"#m8ad3d846bc\"/><use x=\"96.800937\" y=\"233.709815\" xlink:href=\"#m8ad3d846bc\"/><use x=\"105.728937\" y=\"229.688108\" xlink:href=\"#m8ad3d846bc\"/><use x=\"114.656937\" y=\"211.983018\" xlink:href=\"#m8ad3d846bc\"/><use x=\"123.584937\" y=\"210.556425\" xlink:href=\"#m8ad3d846bc\"/><use x=\"132.512937\" y=\"171.65605\" xlink:href=\"#m8ad3d846bc\"/><use x=\"141.440937\" y=\"158.193889\" xlink:href=\"#m8ad3d846bc\"/><use x=\"150.368937\" y=\"140.905288\" xlink:href=\"#m8ad3d846bc\"/><use x=\"159.296937\" y=\"132.847594\" xlink:href=\"#m8ad3d846bc\"/><use x=\"168.224937\" y=\"104.747756\" xlink:href=\"#m8ad3d846bc\"/><use x=\"177.152937\" y=\"84.397693\" xlink:href=\"#m8ad3d846bc\"/><use x=\"186.080938\" y=\"64.988879\" xlink:href=\"#m8ad3d846bc\"/><use x=\"195.008938\" y=\"46.25886\" xlink:href=\"#m8ad3d846bc\"/><use x=\"203.936938\" y=\"46.024491\" xlink:href=\"#m8ad3d846bc\"/><use x=\"212.864938\" y=\"33.647776\" xlink:href=\"#m8ad3d846bc\"/><use x=\"221.792938\" y=\"19.296\" xlink:href=\"#m8ad3d846bc\"/><use x=\"230.720938\" y=\"28.455457\" xlink:href=\"#m8ad3d846bc\"/><use x=\"239.648938\" y=\"27.338155\" xlink:href=\"#m8ad3d846bc\"/><use x=\"248.576938\" y=\"32.289139\" xlink:href=\"#m8ad3d846bc\"/><use x=\"257.504938\" y=\"39.524558\" xlink:href=\"#m8ad3d846bc\"/><use x=\"266.432938\" y=\"56.837641\" xlink:href=\"#m8ad3d846bc\"/><use x=\"275.360938\" y=\"74.995714\" xlink:href=\"#m8ad3d846bc\"/><use x=\"284.288938\" y=\"92.24598\" xlink:href=\"#m8ad3d846bc\"/><use x=\"293.216938\" y=\"108.80806\" xlink:href=\"#m8ad3d846bc\"/><use x=\"302.144938\" y=\"130.515563\" xlink:href=\"#m8ad3d846bc\"/><use x=\"311.072938\" y=\"139.297855\" xlink:href=\"#m8ad3d846bc\"/><use x=\"320.000938\" y=\"166.854432\" xlink:href=\"#m8ad3d846bc\"/><use x=\"328.928938\" y=\"185.545595\" xlink:href=\"#m8ad3d846bc\"/><use x=\"337.856938\" y=\"191.028815\" xlink:href=\"#m8ad3d846bc\"/><use x=\"346.784938\" y=\"212.698741\" xlink:href=\"#m8ad3d846bc\"/><use x=\"355.712938\" y=\"227.650303\" xlink:href=\"#m8ad3d846bc\"/><use x=\"364.640938\" y=\"232.610364\" xlink:href=\"#m8ad3d846bc\"/><use x=\"373.568938\" y=\"237.998471\" xlink:href=\"#m8ad3d846bc\"/><use x=\"382.496938\" y=\"250.592915\" xlink:href=\"#m8ad3d846bc\"/><use x=\"391.424937\" y=\"257.297384\" xlink:href=\"#m8ad3d846bc\"/><use x=\"400.352937\" y=\"257.737125\" xlink:href=\"#m8ad3d846bc\"/><use x=\"409.280937\" y=\"258.096811\" xlink:href=\"#m8ad3d846bc\"/></g><defs><path id=\"m50a3553157\" d=\"m0 0v3.5\" stroke=\"#343a3f\" stroke-width=\".8\"/></defs><use x=\"76.30465\" y=\"273.312\" fill=\"#343a3f\" stroke=\"#343a3f\" stroke-width=\".8\" xlink:href=\"#m50a3553157\"/><g transform=\"translate(61.991 287.91) scale(.1 -.1)\" fill=\"#343a3f\"><defs><path id=\"DejaVuSans-34\" transform=\"scale(.015625)\" d=\"m2419 4116-1594-2491h1594v2491zm-166 550h794v-3041h666v-525h-666v-1100h-628v1100h-2106v609l1940 2957z\"/><path id=\"DejaVuSans-2e\" transform=\"scale(.015625)\" d=\"m684 794h660v-794h-660v794z\"/><path id=\"DejaVuSans-39\" transform=\"scale(.015625)\" d=\"m703 97v575q238-113 481-172 244-59 479-59 625 0 954 420 330 420 377 1277-181-269-460-413-278-144-615-144-700 0-1108 423-408 424-408 1159 0 718 425 1152 425 435 1131 435 810 0 1236-621 427-620 427-1801 0-1103-524-1761-523-658-1407-658-238 0-482 47-243 47-506 141zm1256 1978q425 0 673 290 249 291 249 798 0 503-249 795-248 292-673 292t-673-292-248-795q0-507 248-798 248-290 673-290z\"/><path id=\"DejaVuSans-35\" transform=\"scale(.015625)\" d=\"m691 4666h2478v-532h-1900v-1143q137 47 274 70 138 23 276 23 781 0 1237-428 457-428 457-1159 0-753-469-1171-469-417-1322-417-294 0-599 50-304 50-629 150v635q281-153 581-228t634-75q541 0 856 284 316 284 316 772 0 487-316 771-315 285-856 285-253 0-505-56-251-56-513-175v2344z\"/></defs><use xlink:href=\"#DejaVuSans-34\"/><use x=\"63.623047\" xlink:href=\"#DejaVuSans-2e\"/><use x=\"95.410156\" xlink:href=\"#DejaVuSans-39\"/><use x=\"159.033203\" xlink:href=\"#DejaVuSans-34\"/><use x=\"222.65625\" xlink:href=\"#DejaVuSans-35\"/></g><use x=\"120.94465\" y=\"273.312\" fill=\"#343a3f\" stroke=\"#343a3f\" stroke-width=\".8\" xlink:href=\"#m50a3553157\"/><g transform=\"translate(106.63 287.91) scale(.1 -.1)\" fill=\"#343a3f\"><defs><path id=\"DejaVuSans-30\" transform=\"scale(.015625)\" d=\"m2034 4250q-487 0-733-480-245-479-245-1442 0-959 245-1439 246-480 733-480 491 0 736 480 246 480 246 1439 0 963-246 1442-245 480-736 480zm0 500q785 0 1199-621 414-620 414-1801 0-1178-414-1799-414-620-1199-620-784 0-1198 620-414 621-414 1799 0 1181 414 1801 414 621 1198 621z\"/></defs><use xlink:href=\"#DejaVuSans-34\"/><use x=\"63.623047\" xlink:href=\"#DejaVuSans-2e\"/><use x=\"95.410156\" xlink:href=\"#DejaVuSans-39\"/><use x=\"159.033203\" xlink:href=\"#DejaVuSans-35\"/><use x=\"222.65625\" xlink:href=\"#DejaVuSans-30\"/></g><use x=\"165.58465\" y=\"273.312\" fill=\"#343a3f\" stroke=\"#343a3f\" stroke-width=\".8\" xlink:href=\"#m50a3553157\"/><g transform=\"translate(151.27 287.91) scale(.1 -.1)\" fill=\"#343a3f\"><use xlink:href=\"#DejaVuSans-34\"/><use x=\"63.623047\" xlink:href=\"#DejaVuSans-2e\"/><use x=\"95.410156\" xlink:href=\"#DejaVuSans-39\"/><use x=\"159.033203\" xlink:href=\"#DejaVuSans-35\"/><use x=\"222.65625\" xlink:href=\"#DejaVuSans-35\"/></g><use x=\"210.22465\" y=\"273.312\" fill=\"#343a3f\" stroke=\"#343a3f\" stroke-width=\".8\" xlink:href=\"#m50a3553157\"/><g transform=\"translate(195.91 287.91) scale(.1 -.1)\" fill=\"#343a3f\"><defs><path id=\"DejaVuSans-36\" transform=\"scale(.015625)\" d=\"m2113 2584q-425 0-674-291-248-290-248-796 0-503 248-796 249-292 674-292t673 292q248 293 248 796 0 506-248 796-248 291-673 291zm1253 1979v-575q-238 112-480 171-242 60-480 60-625 0-955-422-329-422-376-1275 184 272 462 417 279 145 613 145 703 0 1111-427 408-426 408-1160 0-719-425-1154-425-434-1131-434-810 0-1238 620-428 621-428 1799 0 1106 525 1764t1409 658q238 0 480-47t505-140z\"/></defs><use xlink:href=\"#DejaVuSans-34\"/><use x=\"63.623047\" xlink:href=\"#DejaVuSans-2e\"/><use x=\"95.410156\" xlink:href=\"#DejaVuSans-39\"/><use x=\"159.033203\" xlink:href=\"#DejaVuSans-36\"/><use x=\"222.65625\" xlink:href=\"#DejaVuSans-30\"/></g><use x=\"254.86465\" y=\"273.312\" fill=\"#343a3f\" stroke=\"#343a3f\" stroke-width=\".8\" xlink:href=\"#m50a3553157\"/><g transform=\"translate(240.55 287.91) scale(.1 -.1)\" fill=\"#343a3f\"><use xlink:href=\"#DejaVuSans-34\"/><use x=\"63.623047\" xlink:href=\"#DejaVuSans-2e\"/><use x=\"95.410156\" xlink:href=\"#DejaVuSans-39\"/><use x=\"159.033203\" xlink:href=\"#DejaVuSans-36\"/><use x=\"222.65625\" xlink:href=\"#DejaVuSans-35\"/></g><use x=\"299.50465\" y=\"273.312\" fill=\"#343a3f\" stroke=\"#343a3f\" stroke-width=\".8\" xlink:href=\"#m50a3553157\"/><g transform=\"translate(285.19 287.91) scale(.1 -.1)\" fill=\"#343a3f\"><defs><path id=\"DejaVuSans-37\" transform=\"scale(.015625)\" d=\"m525 4666h3e3v-269l-1694-4397h-659l1594 4134h-2241v532z\"/></defs><use xlink:href=\"#DejaVuSans-34\"/><use x=\"63.623047\" xlink:href=\"#DejaVuSans-2e\"/><use x=\"95.410156\" xlink:href=\"#DejaVuSans-39\"/><use x=\"159.033203\" xlink:href=\"#DejaVuSans-37\"/><use x=\"222.65625\" xlink:href=\"#DejaVuSans-30\"/></g><use x=\"344.14465\" y=\"273.312\" fill=\"#343a3f\" stroke=\"#343a3f\" stroke-width=\".8\" xlink:href=\"#m50a3553157\"/><g transform=\"translate(329.83 287.91) scale(.1 -.1)\" fill=\"#343a3f\"><use xlink:href=\"#DejaVuSans-34\"/><use x=\"63.623047\" xlink:href=\"#DejaVuSans-2e\"/><use x=\"95.410156\" xlink:href=\"#DejaVuSans-39\"/><use x=\"159.033203\" xlink:href=\"#DejaVuSans-37\"/><use x=\"222.65625\" xlink:href=\"#DejaVuSans-35\"/></g><use x=\"388.78465\" y=\"273.312\" fill=\"#343a3f\" stroke=\"#343a3f\" stroke-width=\".8\" xlink:href=\"#m50a3553157\"/><g transform=\"translate(374.47 287.91) scale(.1 -.1)\" fill=\"#343a3f\"><defs><path id=\"DejaVuSans-38\" transform=\"scale(.015625)\" d=\"m2034 2216q-450 0-708-241-257-241-257-662 0-422 257-663 258-241 708-241t709 242q260 243 260 662 0 421-258 662-257 241-711 241zm-631 268q-406 100-633 378-226 279-226 679 0 559 398 884 399 325 1092 325 697 0 1094-325t397-884q0-400-227-679-226-278-629-378 456-106 710-416 255-309 255-755 0-679-414-1042-414-362-1186-362-771 0-1186 362-414 363-414 1042 0 446 256 755 257 310 713 416zm-231 997q0-362 226-565 227-203 636-203 407 0 636 203 230 203 230 565 0 363-230 566-229 203-636 203-409 0-636-203-226-203-226-566z\"/></defs><use xlink:href=\"#DejaVuSans-34\"/><use x=\"63.623047\" xlink:href=\"#DejaVuSans-2e\"/><use x=\"95.410156\" xlink:href=\"#DejaVuSans-39\"/><use x=\"159.033203\" xlink:href=\"#DejaVuSans-38\"/><use x=\"222.65625\" xlink:href=\"#DejaVuSans-30\"/></g><g transform=\"translate(189.14 301.59) scale(.1 -.1)\" fill=\"#343a3f\"><defs><path id=\"DejaVuSans-46\" transform=\"scale(.015625)\" d=\"m628 4666h2681v-532h-2050v-1375h1850v-531h-1850v-2228h-631v4666z\"/><path id=\"DejaVuSans-72\" transform=\"scale(.015625)\" d=\"m2631 2963q-97 56-211 82-114 27-251 27-488 0-749-317t-261-911v-1844h-578v3500h578v-544q182 319 472 473 291 155 707 155 59 0 131-8 72-7 159-23l3-590z\"/><path id=\"DejaVuSans-65\" transform=\"scale(.015625)\" d=\"m3597 1894v-281h-2644q38-594 358-905t892-311q331 0 642 81t618 244v-544q-310-131-635-200t-659-69q-838 0-1327 487-489 488-489 1320 0 859 464 1363 464 505 1252 505 706 0 1117-455 411-454 411-1235zm-575 169q-6 471-264 752-258 282-683 282-481 0-770-272t-333-766l2050 4z\"/><path id=\"DejaVuSans-71\" transform=\"scale(.015625)\" d=\"m947 1747q0-634 261-995t717-361 718 361q263 361 263 995t-263 995q-262 361-718 361t-717-361-261-995zm1959-1222q-181-312-458-464-276-152-664-152-634 0-1033 506-398 507-398 1332t398 1331q399 506 1033 506 388 0 664-152 277-151 458-463v531h575v-4831h-575v1856z\"/><path id=\"DejaVuSans-75\" transform=\"scale(.015625)\" d=\"m544 1381v2119h575v-2097q0-497 193-746 194-248 582-248 465 0 735 297 271 297 271 810v1984h575v-3500h-575v538q-209-319-486-474-276-155-642-155-603 0-916 375-312 375-312 1097zm1447 2203z\"/><path id=\"DejaVuSans-6e\" transform=\"scale(.015625)\" d=\"m3513 2113v-2113h-575v2094q0 497-194 743-194 247-581 247-466 0-735-297-269-296-269-809v-1978h-578v3500h578v-544q207 316 486 472 280 156 646 156 603 0 912-373 310-373 310-1098z\"/><path id=\"DejaVuSans-63\" transform=\"scale(.015625)\" d=\"m3122 3366v-538q-244 135-489 202t-495 67q-560 0-870-355-309-354-309-995t309-996q310-354 870-354 250 0 495 67t489 202v-532q-241-112-499-168-257-57-548-57-791 0-1257 497-465 497-465 1341 0 856 470 1346 471 491 1290 491 265 0 518-55 253-54 491-163z\"/><path id=\"DejaVuSans-79\" transform=\"scale(.015625)\" d=\"m2059-325q-243-625-475-815-231-191-618-191h-460v481h338q237 0 368 113 132 112 291 531l103 262-1415 3444h609l1094-2737 1094 2737h609l-1538-3825z\"/><path id=\"DejaVuSans-5b\" transform=\"scale(.015625)\" d=\"m550 4863h1325v-447h-750v-4813h750v-447h-1325v5707z\"/><path id=\"DejaVuSans-47\" transform=\"scale(.015625)\" d=\"m3809 666v1253h-1031v519h1656v-2004q-365-259-806-392-440-133-940-133-1094 0-1712 639-617 640-617 1780 0 1144 617 1783 618 639 1712 639 456 0 867-113 411-112 758-331v-672q-350 297-744 447t-828 150q-857 0-1287-478-429-478-429-1425 0-944 429-1422 430-478 1287-478 334 0 596 58 263 58 472 180z\"/><path id=\"DejaVuSans-48\" transform=\"scale(.015625)\" d=\"m628 4666h631v-1913h2294v1913h631v-4666h-631v2222h-2294v-2222h-631v4666z\"/><path id=\"DejaVuSans-7a\" transform=\"scale(.015625)\" d=\"m353 3500h2731v-525l-2162-2516h2162v-459h-2809v525l2163 2516h-2085v459z\"/><path id=\"DejaVuSans-5d\" transform=\"scale(.015625)\" d=\"m1947 4863v-5707h-1325v447h747v4813h-747v447h1325z\"/></defs><use xlink:href=\"#DejaVuSans-46\"/><use x=\"50.269531\" xlink:href=\"#DejaVuSans-72\"/><use x=\"89.132812\" xlink:href=\"#DejaVuSans-65\"/><use x=\"150.65625\" xlink:href=\"#DejaVuSans-71\"/><use x=\"214.132812\" xlink:href=\"#DejaVuSans-75\"/><use x=\"277.511719\" xlink:href=\"#DejaVuSans-65\"/><use x=\"339.035156\" xlink:href=\"#DejaVuSans-6e\"/><use x=\"402.414062\" xlink:href=\"#DejaVuSans-63\"/><use x=\"457.394531\" xlink:href=\"#DejaVuSans-79\"/><use x=\"516.574219\" xlink:href=\"#DejaVuSans-20\"/><use x=\"548.361328\" xlink:href=\"#DejaVuSans-5b\"/><use x=\"587.375\" xlink:href=\"#DejaVuSans-47\"/><use x=\"664.865234\" xlink:href=\"#DejaVuSans-48\"/><use x=\"740.060547\" xlink:href=\"#DejaVuSans-7a\"/><use x=\"792.550781\" xlink:href=\"#DejaVuSans-5d\"/></g><defs><path id=\"m60c84853a2\" d=\"m0 0h-3.5\" stroke=\"#343a3f\" stroke-width=\".8\"/></defs><use x=\"52.160938\" y=\"239.829797\" fill=\"#343a3f\" stroke=\"#343a3f\" stroke-width=\".8\" xlink:href=\"#m60c84853a2\"/><g transform=\"translate(20.878 243.63) scale(.1 -.1)\" fill=\"#343a3f\"><defs><path id=\"DejaVuSans-2212\" transform=\"scale(.015625)\" d=\"m678 2272h4006v-531h-4006v531z\"/><path id=\"DejaVuSans-32\" transform=\"scale(.015625)\" d=\"m1228 531h2203v-531h-2962v531q359 372 979 998 621 627 780 809 303 340 423 576 121 236 121 464 0 372-261 606-261 235-680 235-297 0-627-103-329-103-704-313v638q381 153 712 231 332 78 607 78 725 0 1156-363 431-362 431-968 0-288-108-546-107-257-392-607-78-91-497-524-418-433-1181-1211z\"/></defs><use xlink:href=\"#DejaVuSans-2212\"/><use x=\"83.789062\" xlink:href=\"#DejaVuSans-32\"/><use x=\"147.412109\" xlink:href=\"#DejaVuSans-2e\"/><use x=\"179.199219\" xlink:href=\"#DejaVuSans-30\"/></g><use x=\"52.160938\" y=\"190.522658\" fill=\"#343a3f\" stroke=\"#343a3f\" stroke-width=\".8\" xlink:href=\"#m60c84853a2\"/><g transform=\"translate(20.878 194.32) scale(.1 -.1)\" fill=\"#343a3f\"><defs><path id=\"DejaVuSans-31\" transform=\"scale(.015625)\" d=\"m794 531h1031v3560l-1122-225v575l1116 225h631v-4135h1031v-531h-2687v531z\"/></defs><use xlink:href=\"#DejaVuSans-2212\"/><use x=\"83.789062\" xlink:href=\"#DejaVuSans-31\"/><use x=\"147.412109\" xlink:href=\"#DejaVuSans-2e\"/><use x=\"179.199219\" xlink:href=\"#DejaVuSans-35\"/></g><use x=\"52.160938\" y=\"141.215518\" fill=\"#343a3f\" stroke=\"#343a3f\" stroke-width=\".8\" xlink:href=\"#m60c84853a2\"/><g transform=\"translate(20.878 145.01) scale(.1 -.1)\" fill=\"#343a3f\"><use xlink:href=\"#DejaVuSans-2212\"/><use x=\"83.789062\" xlink:href=\"#DejaVuSans-31\"/><use x=\"147.412109\" xlink:href=\"#DejaVuSans-2e\"/><use x=\"179.199219\" xlink:href=\"#DejaVuSans-30\"/></g><use x=\"52.160938\" y=\"91.908379\" fill=\"#343a3f\" stroke=\"#343a3f\" stroke-width=\".8\" xlink:href=\"#m60c84853a2\"/><g transform=\"translate(20.878 95.708) scale(.1 -.1)\" fill=\"#343a3f\"><use xlink:href=\"#DejaVuSans-2212\"/><use x=\"83.789062\" xlink:href=\"#DejaVuSans-30\"/><use x=\"147.412109\" xlink:href=\"#DejaVuSans-2e\"/><use x=\"179.199219\" xlink:href=\"#DejaVuSans-35\"/></g><use x=\"52.160938\" y=\"42.601239\" fill=\"#343a3f\" stroke=\"#343a3f\" stroke-width=\".8\" xlink:href=\"#m60c84853a2\"/><g transform=\"translate(29.258 46.4) scale(.1 -.1)\" fill=\"#343a3f\"><use xlink:href=\"#DejaVuSans-30\"/><use x=\"63.623047\" xlink:href=\"#DejaVuSans-2e\"/><use x=\"95.410156\" xlink:href=\"#DejaVuSans-30\"/></g><g transform=\"translate(14.798 195.96) rotate(-90) scale(.1 -.1)\" fill=\"#343a3f\"><defs><path id=\"DejaVuSans-4d\" transform=\"scale(.015625)\" d=\"m628 4666h941l1190-3175 1197 3175h941v-4666h-616v4097l-1203-3200h-634l-1203 3200v-4097h-613v4666z\"/><path id=\"DejaVuSans-61\" transform=\"scale(.015625)\" d=\"m2194 1759q-697 0-966-159t-269-544q0-306 202-486 202-179 548-179 479 0 768 339t289 901v128h-572zm1147 238v-1997h-575v531q-197-318-491-470t-719-152q-537 0-855 302-317 302-317 808 0 590 395 890 396 300 1180 300h807v57q0 397-261 614t-733 217q-300 0-585-72-284-72-546-216v532q315 122 612 182 297 61 578 61 760 0 1135-394 375-393 375-1193z\"/><path id=\"DejaVuSans-73\" transform=\"scale(.015625)\" d=\"m2834 3397v-544q-243 125-506 187-262 63-544 63-428 0-642-131t-214-394q0-200 153-314t616-217l197-44q612-131 870-370t258-667q0-488-386-773-386-284-1061-284-281 0-586 55t-642 164v594q319-166 628-249 309-82 613-82 406 0 624 139 219 139 219 392 0 234-158 359-157 125-692 241l-200 47q-534 112-772 345-237 233-237 639 0 494 350 762 350 269 994 269 318 0 599-47 282-46 519-140z\"/><path id=\"DejaVuSans-64\" transform=\"scale(.015625)\" d=\"m2906 2969v1894h575v-4863h-575v525q-181-312-458-464-276-152-664-152-634 0-1033 506-398 507-398 1332t398 1331q399 506 1033 506 388 0 664-152 277-151 458-463zm-1959-1222q0-634 261-995t717-361 718 361q263 361 263 995t-263 995q-262 361-718 361t-717-361-261-995z\"/><path id=\"DejaVuSans-69\" transform=\"scale(.015625)\" d=\"m603 3500h575v-3500h-575v3500zm0 1363h575v-729h-575v729z\"/><path id=\"DejaVuSans-67\" transform=\"scale(.015625)\" d=\"m2906 1791q0 625-258 968-257 344-723 344-462 0-720-344-258-343-258-968 0-622 258-966t720-344q466 0 723 344 258 344 258 966zm575-1357q0-893-397-1329-396-436-1215-436-303 0-572 45t-522 139v559q253-137 500-202 247-66 503-66 566 0 847 295t281 892v285q-178-310-456-463t-666-153q-643 0-1037 490-394 491-394 1301 0 812 394 1302 394 491 1037 491 388 0 666-153t456-462v531h575v-3066z\"/><path id=\"DejaVuSans-6c\" transform=\"scale(.015625)\" d=\"m603 4863h575v-4863h-575v4863z\"/></defs><use xlink:href=\"#DejaVuSans-4d\"/><use x=\"86.279297\" xlink:href=\"#DejaVuSans-65\"/><use x=\"147.802734\" xlink:href=\"#DejaVuSans-61\"/><use x=\"209.082031\" xlink:href=\"#DejaVuSans-73\"/><use x=\"261.181641\" xlink:href=\"#DejaVuSans-75\"/><use x=\"324.560547\" xlink:href=\"#DejaVuSans-72\"/><use x=\"363.423828\" xlink:href=\"#DejaVuSans-65\"/><use x=\"424.947266\" xlink:href=\"#DejaVuSans-64\"/><use x=\"488.423828\" xlink:href=\"#DejaVuSans-20\"/><use x=\"520.210938\" xlink:href=\"#DejaVuSans-73\"/><use x=\"572.310547\" xlink:href=\"#DejaVuSans-69\"/><use x=\"600.09375\" xlink:href=\"#DejaVuSans-67\"/><use x=\"663.570312\" xlink:href=\"#DejaVuSans-6e\"/><use x=\"726.949219\" xlink:href=\"#DejaVuSans-61\"/><use x=\"788.228516\" xlink:href=\"#DejaVuSans-6c\"/><use x=\"816.011719\" xlink:href=\"#DejaVuSans-20\"/><use x=\"847.798828\" xlink:href=\"#DejaVuSans-5b\"/><use x=\"886.8125\" xlink:href=\"#DejaVuSans-61\"/><use x=\"948.091797\" xlink:href=\"#DejaVuSans-2e\"/><use x=\"979.878906\" xlink:href=\"#DejaVuSans-75\"/><use x=\"1043.257812\" xlink:href=\"#DejaVuSans-2e\"/><use x=\"1075.044922\" xlink:href=\"#DejaVuSans-5d\"/></g><path d=\"m52.161 273.31v-266.11\" fill=\"none\" stroke=\"#343a3f\" stroke-linecap=\"square\" stroke-width=\".8\"/><path d=\"m52.161 273.31h357.12\" fill=\"none\" stroke=\"#343a3f\" stroke-linecap=\"square\" stroke-width=\".8\"/><defs><clipPath id=\"p8c074294bc\"><rect x=\"52.161\" y=\"7.2\" width=\"357.12\" height=\"266.11\"/></clipPath></defs></svg>"
      ],
      "text/plain": [
       "<Figure size 640x480 with 1 Axes>"
      ]
     },
     "metadata": {},
     "output_type": "display_data"
    }
   ],
   "source": [
    "import matplotlib.pyplot as plt\n",
    "\n",
    "sweep_values = []\n",
    "for i in range(len(frequency_sweep_results.results)):\n",
    "    # Get the results from the ith experiment\n",
    "    res = frequency_sweep_results.get_memory(i)*scale_factor\n",
    "    # Get the results for `qubit` from this experiment\n",
    "    sweep_values.append(res[qubit])\n",
    "\n",
    "plt.scatter(frequencies_GHz, np.real(sweep_values), color='black') # plot real part of sweep values\n",
    "plt.xlim([min(frequencies_GHz), max(frequencies_GHz)])\n",
    "plt.xlabel(\"Frequency [GHz]\")\n",
    "plt.ylabel(\"Measured signal [a.u.]\")\n",
    "plt.show()"
   ]
  },
  {
   "cell_type": "markdown",
   "metadata": {},
   "source": [
    "As you can see above, the peak near the center corresponds to the location of the qubit frequency. The signal shows power-broadening, which is a signature that we are able to drive the qubit off-resonance as we get close to the center frequency. To get the value of the peak frequency, we will fit the values to a resonance response curve, which is typically a Lorentzian shape."
   ]
  },
  {
   "cell_type": "code",
   "execution_count": 20,
   "metadata": {
    "tags": [
     "uses-hardware"
    ]
   },
   "outputs": [],
   "source": [
    "from scipy.optimize import curve_fit\n",
    "\n",
    "def fit_function(x_values, y_values, function, init_params):\n",
    "    fitparams, conv = curve_fit(function, x_values, y_values, init_params)\n",
    "    y_fit = function(x_values, *fitparams)\n",
    "    \n",
    "    return fitparams, y_fit"
   ]
  },
  {
   "cell_type": "code",
   "execution_count": 21,
   "metadata": {
    "tags": [
     "uses-hardware"
    ]
   },
   "outputs": [],
   "source": [
    "fit_params, y_fit = fit_function(frequencies_GHz,\n",
    "                                 np.real(sweep_values), \n",
    "                                 lambda x, A, q_freq, B, C: (A / np.pi) * (B / ((x - q_freq)**2 + B**2)) + C,\n",
    "                                 [1, 4.975, 1, -2] # initial parameters for curve_fit\n",
    "                                )"
   ]
  },
  {
   "cell_type": "code",
   "execution_count": 22,
   "metadata": {
    "tags": [
     "uses-hardware"
    ]
   },
   "outputs": [
    {
     "data": {
      "image/svg+xml": [
       "<?xml version=\"1.0\" encoding=\"UTF-8\"?><!DOCTYPE svg  PUBLIC '-//W3C//DTD SVG 1.1//EN'  'http://www.w3.org/Graphics/SVG/1.1/DTD/svg11.dtd'><svg width=\"416.48pt\" height=\"310.87pt\" version=\"1.1\" viewBox=\"0 0 416.48 310.87\" xmlns=\"http://www.w3.org/2000/svg\" xmlns:xlink=\"http://www.w3.org/1999/xlink\"><defs><style type=\"text/css\">*{stroke-linejoin: round; stroke-linecap: butt}</style></defs><path d=\"m0 310.87h416.48v-310.87h-416.48z\" fill=\"#ffffff\"/><path d=\"m52.161 273.31h357.12v-266.11h-357.12z\" fill=\"#ffffff\"/><defs><path id=\"mf6014985b6\" d=\"m0 3c0.79561 0 1.5587-0.3161 2.1213-0.87868 0.56258-0.56258 0.87868-1.3257 0.87868-2.1213s-0.3161-1.5587-0.87868-2.1213c-0.56258-0.56258-1.3257-0.87868-2.1213-0.87868s-1.5587 0.3161-2.1213 0.87868c-0.56258 0.56258-0.87868 1.3257-0.87868 2.1213s0.3161 1.5587 0.87868 2.1213c0.56258 0.56258 1.3257 0.87868 2.1213 0.87868z\" stroke=\"#000000\"/></defs><g clip-path=\"url(#pe8fe9b6917)\" stroke=\"#000000\"><use x=\"52.160937\" y=\"253.621736\" xlink:href=\"#mf6014985b6\"/><use x=\"61.088937\" y=\"250.242287\" xlink:href=\"#mf6014985b6\"/><use x=\"70.016937\" y=\"249.088365\" xlink:href=\"#mf6014985b6\"/><use x=\"78.944937\" y=\"234.788503\" xlink:href=\"#mf6014985b6\"/><use x=\"87.872937\" y=\"235.034138\" xlink:href=\"#mf6014985b6\"/><use x=\"96.800937\" y=\"226.979015\" xlink:href=\"#mf6014985b6\"/><use x=\"105.728937\" y=\"223.083556\" xlink:href=\"#mf6014985b6\"/><use x=\"114.656937\" y=\"205.934258\" xlink:href=\"#mf6014985b6\"/><use x=\"123.584937\" y=\"204.552448\" xlink:href=\"#mf6014985b6\"/><use x=\"132.512937\" y=\"166.873219\" xlink:href=\"#mf6014985b6\"/><use x=\"141.440937\" y=\"153.833658\" xlink:href=\"#mf6014985b6\"/><use x=\"150.368937\" y=\"137.087773\" xlink:href=\"#mf6014985b6\"/><use x=\"159.296937\" y=\"129.283024\" xlink:href=\"#mf6014985b6\"/><use x=\"168.224937\" y=\"102.065285\" xlink:href=\"#mf6014985b6\"/><use x=\"177.152937\" y=\"82.354045\" xlink:href=\"#mf6014985b6\"/><use x=\"186.080938\" y=\"63.554505\" xlink:href=\"#mf6014985b6\"/><use x=\"195.008938\" y=\"45.412451\" xlink:href=\"#mf6014985b6\"/><use x=\"203.936938\" y=\"45.18544\" xlink:href=\"#mf6014985b6\"/><use x=\"212.864938\" y=\"33.19725\" xlink:href=\"#mf6014985b6\"/><use x=\"221.792938\" y=\"19.296\" xlink:href=\"#mf6014985b6\"/><use x=\"230.720938\" y=\"28.167927\" xlink:href=\"#mf6014985b6\"/><use x=\"239.648938\" y=\"27.085698\" xlink:href=\"#mf6014985b6\"/><use x=\"248.576938\" y=\"31.881264\" xlink:href=\"#mf6014985b6\"/><use x=\"257.504938\" y=\"38.88955\" xlink:href=\"#mf6014985b6\"/><use x=\"266.432938\" y=\"55.659148\" xlink:href=\"#mf6014985b6\"/><use x=\"275.360938\" y=\"73.247209\" xlink:href=\"#mf6014985b6\"/><use x=\"284.288938\" y=\"89.955961\" xlink:href=\"#mf6014985b6\"/><use x=\"293.216938\" y=\"105.998131\" xlink:href=\"#mf6014985b6\"/><use x=\"302.144938\" y=\"127.024199\" xlink:href=\"#mf6014985b6\"/><use x=\"311.072938\" y=\"135.530801\" xlink:href=\"#mf6014985b6\"/><use x=\"320.000938\" y=\"162.222332\" xlink:href=\"#mf6014985b6\"/><use x=\"328.928938\" y=\"180.326749\" xlink:href=\"#mf6014985b6\"/><use x=\"337.856938\" y=\"185.637842\" xlink:href=\"#mf6014985b6\"/><use x=\"346.784938\" y=\"206.627513\" xlink:href=\"#mf6014985b6\"/><use x=\"355.712938\" y=\"221.109721\" xlink:href=\"#mf6014985b6\"/><use x=\"364.640938\" y=\"225.914078\" xlink:href=\"#mf6014985b6\"/><use x=\"373.568938\" y=\"231.133043\" xlink:href=\"#mf6014985b6\"/><use x=\"382.496938\" y=\"243.332127\" xlink:href=\"#mf6014985b6\"/><use x=\"391.424937\" y=\"249.826132\" xlink:href=\"#mf6014985b6\"/><use x=\"400.352937\" y=\"250.252069\" xlink:href=\"#mf6014985b6\"/><use x=\"409.280937\" y=\"250.600463\" xlink:href=\"#mf6014985b6\"/></g><defs><path id=\"m4fce959a74\" d=\"m0 0v3.5\" stroke=\"#343a3f\" stroke-width=\".8\"/></defs><use x=\"76.30465\" y=\"273.312\" fill=\"#343a3f\" stroke=\"#343a3f\" stroke-width=\".8\" xlink:href=\"#m4fce959a74\"/><g transform=\"translate(61.991 287.91) scale(.1 -.1)\" fill=\"#343a3f\"><defs><path id=\"DejaVuSans-34\" transform=\"scale(.015625)\" d=\"m2419 4116-1594-2491h1594v2491zm-166 550h794v-3041h666v-525h-666v-1100h-628v1100h-2106v609l1940 2957z\"/><path id=\"DejaVuSans-2e\" transform=\"scale(.015625)\" d=\"m684 794h660v-794h-660v794z\"/><path id=\"DejaVuSans-39\" transform=\"scale(.015625)\" d=\"m703 97v575q238-113 481-172 244-59 479-59 625 0 954 420 330 420 377 1277-181-269-460-413-278-144-615-144-700 0-1108 423-408 424-408 1159 0 718 425 1152 425 435 1131 435 810 0 1236-621 427-620 427-1801 0-1103-524-1761-523-658-1407-658-238 0-482 47-243 47-506 141zm1256 1978q425 0 673 290 249 291 249 798 0 503-249 795-248 292-673 292t-673-292-248-795q0-507 248-798 248-290 673-290z\"/><path id=\"DejaVuSans-35\" transform=\"scale(.015625)\" d=\"m691 4666h2478v-532h-1900v-1143q137 47 274 70 138 23 276 23 781 0 1237-428 457-428 457-1159 0-753-469-1171-469-417-1322-417-294 0-599 50-304 50-629 150v635q281-153 581-228t634-75q541 0 856 284 316 284 316 772 0 487-316 771-315 285-856 285-253 0-505-56-251-56-513-175v2344z\"/></defs><use xlink:href=\"#DejaVuSans-34\"/><use x=\"63.623047\" xlink:href=\"#DejaVuSans-2e\"/><use x=\"95.410156\" xlink:href=\"#DejaVuSans-39\"/><use x=\"159.033203\" xlink:href=\"#DejaVuSans-34\"/><use x=\"222.65625\" xlink:href=\"#DejaVuSans-35\"/></g><use x=\"120.94465\" y=\"273.312\" fill=\"#343a3f\" stroke=\"#343a3f\" stroke-width=\".8\" xlink:href=\"#m4fce959a74\"/><g transform=\"translate(106.63 287.91) scale(.1 -.1)\" fill=\"#343a3f\"><defs><path id=\"DejaVuSans-30\" transform=\"scale(.015625)\" d=\"m2034 4250q-487 0-733-480-245-479-245-1442 0-959 245-1439 246-480 733-480 491 0 736 480 246 480 246 1439 0 963-246 1442-245 480-736 480zm0 500q785 0 1199-621 414-620 414-1801 0-1178-414-1799-414-620-1199-620-784 0-1198 620-414 621-414 1799 0 1181 414 1801 414 621 1198 621z\"/></defs><use xlink:href=\"#DejaVuSans-34\"/><use x=\"63.623047\" xlink:href=\"#DejaVuSans-2e\"/><use x=\"95.410156\" xlink:href=\"#DejaVuSans-39\"/><use x=\"159.033203\" xlink:href=\"#DejaVuSans-35\"/><use x=\"222.65625\" xlink:href=\"#DejaVuSans-30\"/></g><use x=\"165.58465\" y=\"273.312\" fill=\"#343a3f\" stroke=\"#343a3f\" stroke-width=\".8\" xlink:href=\"#m4fce959a74\"/><g transform=\"translate(151.27 287.91) scale(.1 -.1)\" fill=\"#343a3f\"><use xlink:href=\"#DejaVuSans-34\"/><use x=\"63.623047\" xlink:href=\"#DejaVuSans-2e\"/><use x=\"95.410156\" xlink:href=\"#DejaVuSans-39\"/><use x=\"159.033203\" xlink:href=\"#DejaVuSans-35\"/><use x=\"222.65625\" xlink:href=\"#DejaVuSans-35\"/></g><use x=\"210.22465\" y=\"273.312\" fill=\"#343a3f\" stroke=\"#343a3f\" stroke-width=\".8\" xlink:href=\"#m4fce959a74\"/><g transform=\"translate(195.91 287.91) scale(.1 -.1)\" fill=\"#343a3f\"><defs><path id=\"DejaVuSans-36\" transform=\"scale(.015625)\" d=\"m2113 2584q-425 0-674-291-248-290-248-796 0-503 248-796 249-292 674-292t673 292q248 293 248 796 0 506-248 796-248 291-673 291zm1253 1979v-575q-238 112-480 171-242 60-480 60-625 0-955-422-329-422-376-1275 184 272 462 417 279 145 613 145 703 0 1111-427 408-426 408-1160 0-719-425-1154-425-434-1131-434-810 0-1238 620-428 621-428 1799 0 1106 525 1764t1409 658q238 0 480-47t505-140z\"/></defs><use xlink:href=\"#DejaVuSans-34\"/><use x=\"63.623047\" xlink:href=\"#DejaVuSans-2e\"/><use x=\"95.410156\" xlink:href=\"#DejaVuSans-39\"/><use x=\"159.033203\" xlink:href=\"#DejaVuSans-36\"/><use x=\"222.65625\" xlink:href=\"#DejaVuSans-30\"/></g><use x=\"254.86465\" y=\"273.312\" fill=\"#343a3f\" stroke=\"#343a3f\" stroke-width=\".8\" xlink:href=\"#m4fce959a74\"/><g transform=\"translate(240.55 287.91) scale(.1 -.1)\" fill=\"#343a3f\"><use xlink:href=\"#DejaVuSans-34\"/><use x=\"63.623047\" xlink:href=\"#DejaVuSans-2e\"/><use x=\"95.410156\" xlink:href=\"#DejaVuSans-39\"/><use x=\"159.033203\" xlink:href=\"#DejaVuSans-36\"/><use x=\"222.65625\" xlink:href=\"#DejaVuSans-35\"/></g><use x=\"299.50465\" y=\"273.312\" fill=\"#343a3f\" stroke=\"#343a3f\" stroke-width=\".8\" xlink:href=\"#m4fce959a74\"/><g transform=\"translate(285.19 287.91) scale(.1 -.1)\" fill=\"#343a3f\"><defs><path id=\"DejaVuSans-37\" transform=\"scale(.015625)\" d=\"m525 4666h3e3v-269l-1694-4397h-659l1594 4134h-2241v532z\"/></defs><use xlink:href=\"#DejaVuSans-34\"/><use x=\"63.623047\" xlink:href=\"#DejaVuSans-2e\"/><use x=\"95.410156\" xlink:href=\"#DejaVuSans-39\"/><use x=\"159.033203\" xlink:href=\"#DejaVuSans-37\"/><use x=\"222.65625\" xlink:href=\"#DejaVuSans-30\"/></g><use x=\"344.14465\" y=\"273.312\" fill=\"#343a3f\" stroke=\"#343a3f\" stroke-width=\".8\" xlink:href=\"#m4fce959a74\"/><g transform=\"translate(329.83 287.91) scale(.1 -.1)\" fill=\"#343a3f\"><use xlink:href=\"#DejaVuSans-34\"/><use x=\"63.623047\" xlink:href=\"#DejaVuSans-2e\"/><use x=\"95.410156\" xlink:href=\"#DejaVuSans-39\"/><use x=\"159.033203\" xlink:href=\"#DejaVuSans-37\"/><use x=\"222.65625\" xlink:href=\"#DejaVuSans-35\"/></g><use x=\"388.78465\" y=\"273.312\" fill=\"#343a3f\" stroke=\"#343a3f\" stroke-width=\".8\" xlink:href=\"#m4fce959a74\"/><g transform=\"translate(374.47 287.91) scale(.1 -.1)\" fill=\"#343a3f\"><defs><path id=\"DejaVuSans-38\" transform=\"scale(.015625)\" d=\"m2034 2216q-450 0-708-241-257-241-257-662 0-422 257-663 258-241 708-241t709 242q260 243 260 662 0 421-258 662-257 241-711 241zm-631 268q-406 100-633 378-226 279-226 679 0 559 398 884 399 325 1092 325 697 0 1094-325t397-884q0-400-227-679-226-278-629-378 456-106 710-416 255-309 255-755 0-679-414-1042-414-362-1186-362-771 0-1186 362-414 363-414 1042 0 446 256 755 257 310 713 416zm-231 997q0-362 226-565 227-203 636-203 407 0 636 203 230 203 230 565 0 363-230 566-229 203-636 203-409 0-636-203-226-203-226-566z\"/></defs><use xlink:href=\"#DejaVuSans-34\"/><use x=\"63.623047\" xlink:href=\"#DejaVuSans-2e\"/><use x=\"95.410156\" xlink:href=\"#DejaVuSans-39\"/><use x=\"159.033203\" xlink:href=\"#DejaVuSans-38\"/><use x=\"222.65625\" xlink:href=\"#DejaVuSans-30\"/></g><g transform=\"translate(189.14 301.59) scale(.1 -.1)\" fill=\"#343a3f\"><defs><path id=\"DejaVuSans-46\" transform=\"scale(.015625)\" d=\"m628 4666h2681v-532h-2050v-1375h1850v-531h-1850v-2228h-631v4666z\"/><path id=\"DejaVuSans-72\" transform=\"scale(.015625)\" d=\"m2631 2963q-97 56-211 82-114 27-251 27-488 0-749-317t-261-911v-1844h-578v3500h578v-544q182 319 472 473 291 155 707 155 59 0 131-8 72-7 159-23l3-590z\"/><path id=\"DejaVuSans-65\" transform=\"scale(.015625)\" d=\"m3597 1894v-281h-2644q38-594 358-905t892-311q331 0 642 81t618 244v-544q-310-131-635-200t-659-69q-838 0-1327 487-489 488-489 1320 0 859 464 1363 464 505 1252 505 706 0 1117-455 411-454 411-1235zm-575 169q-6 471-264 752-258 282-683 282-481 0-770-272t-333-766l2050 4z\"/><path id=\"DejaVuSans-71\" transform=\"scale(.015625)\" d=\"m947 1747q0-634 261-995t717-361 718 361q263 361 263 995t-263 995q-262 361-718 361t-717-361-261-995zm1959-1222q-181-312-458-464-276-152-664-152-634 0-1033 506-398 507-398 1332t398 1331q399 506 1033 506 388 0 664-152 277-151 458-463v531h575v-4831h-575v1856z\"/><path id=\"DejaVuSans-75\" transform=\"scale(.015625)\" d=\"m544 1381v2119h575v-2097q0-497 193-746 194-248 582-248 465 0 735 297 271 297 271 810v1984h575v-3500h-575v538q-209-319-486-474-276-155-642-155-603 0-916 375-312 375-312 1097zm1447 2203z\"/><path id=\"DejaVuSans-6e\" transform=\"scale(.015625)\" d=\"m3513 2113v-2113h-575v2094q0 497-194 743-194 247-581 247-466 0-735-297-269-296-269-809v-1978h-578v3500h578v-544q207 316 486 472 280 156 646 156 603 0 912-373 310-373 310-1098z\"/><path id=\"DejaVuSans-63\" transform=\"scale(.015625)\" d=\"m3122 3366v-538q-244 135-489 202t-495 67q-560 0-870-355-309-354-309-995t309-996q310-354 870-354 250 0 495 67t489 202v-532q-241-112-499-168-257-57-548-57-791 0-1257 497-465 497-465 1341 0 856 470 1346 471 491 1290 491 265 0 518-55 253-54 491-163z\"/><path id=\"DejaVuSans-79\" transform=\"scale(.015625)\" d=\"m2059-325q-243-625-475-815-231-191-618-191h-460v481h338q237 0 368 113 132 112 291 531l103 262-1415 3444h609l1094-2737 1094 2737h609l-1538-3825z\"/><path id=\"DejaVuSans-5b\" transform=\"scale(.015625)\" d=\"m550 4863h1325v-447h-750v-4813h750v-447h-1325v5707z\"/><path id=\"DejaVuSans-47\" transform=\"scale(.015625)\" d=\"m3809 666v1253h-1031v519h1656v-2004q-365-259-806-392-440-133-940-133-1094 0-1712 639-617 640-617 1780 0 1144 617 1783 618 639 1712 639 456 0 867-113 411-112 758-331v-672q-350 297-744 447t-828 150q-857 0-1287-478-429-478-429-1425 0-944 429-1422 430-478 1287-478 334 0 596 58 263 58 472 180z\"/><path id=\"DejaVuSans-48\" transform=\"scale(.015625)\" d=\"m628 4666h631v-1913h2294v1913h631v-4666h-631v2222h-2294v-2222h-631v4666z\"/><path id=\"DejaVuSans-7a\" transform=\"scale(.015625)\" d=\"m353 3500h2731v-525l-2162-2516h2162v-459h-2809v525l2163 2516h-2085v459z\"/><path id=\"DejaVuSans-5d\" transform=\"scale(.015625)\" d=\"m1947 4863v-5707h-1325v447h747v4813h-747v447h1325z\"/></defs><use xlink:href=\"#DejaVuSans-46\"/><use x=\"50.269531\" xlink:href=\"#DejaVuSans-72\"/><use x=\"89.132812\" xlink:href=\"#DejaVuSans-65\"/><use x=\"150.65625\" xlink:href=\"#DejaVuSans-71\"/><use x=\"214.132812\" xlink:href=\"#DejaVuSans-75\"/><use x=\"277.511719\" xlink:href=\"#DejaVuSans-65\"/><use x=\"339.035156\" xlink:href=\"#DejaVuSans-6e\"/><use x=\"402.414062\" xlink:href=\"#DejaVuSans-63\"/><use x=\"457.394531\" xlink:href=\"#DejaVuSans-79\"/><use x=\"516.574219\" xlink:href=\"#DejaVuSans-20\"/><use x=\"548.361328\" xlink:href=\"#DejaVuSans-5b\"/><use x=\"587.375\" xlink:href=\"#DejaVuSans-47\"/><use x=\"664.865234\" xlink:href=\"#DejaVuSans-48\"/><use x=\"740.060547\" xlink:href=\"#DejaVuSans-7a\"/><use x=\"792.550781\" xlink:href=\"#DejaVuSans-5d\"/></g><defs><path id=\"m28a6b5dffb\" d=\"m0 0h-3.5\" stroke=\"#343a3f\" stroke-width=\".8\"/></defs><use x=\"52.160938\" y=\"232.906881\" fill=\"#343a3f\" stroke=\"#343a3f\" stroke-width=\".8\" xlink:href=\"#m28a6b5dffb\"/><g transform=\"translate(20.878 236.71) scale(.1 -.1)\" fill=\"#343a3f\"><defs><path id=\"DejaVuSans-2212\" transform=\"scale(.015625)\" d=\"m678 2272h4006v-531h-4006v531z\"/><path id=\"DejaVuSans-32\" transform=\"scale(.015625)\" d=\"m1228 531h2203v-531h-2962v531q359 372 979 998 621 627 780 809 303 340 423 576 121 236 121 464 0 372-261 606-261 235-680 235-297 0-627-103-329-103-704-313v638q381 153 712 231 332 78 607 78 725 0 1156-363 431-362 431-968 0-288-108-546-107-257-392-607-78-91-497-524-418-433-1181-1211z\"/></defs><use xlink:href=\"#DejaVuSans-2212\"/><use x=\"83.789062\" xlink:href=\"#DejaVuSans-32\"/><use x=\"147.412109\" xlink:href=\"#DejaVuSans-2e\"/><use x=\"179.199219\" xlink:href=\"#DejaVuSans-30\"/></g><use x=\"52.160938\" y=\"185.147573\" fill=\"#343a3f\" stroke=\"#343a3f\" stroke-width=\".8\" xlink:href=\"#m28a6b5dffb\"/><g transform=\"translate(20.878 188.95) scale(.1 -.1)\" fill=\"#343a3f\"><defs><path id=\"DejaVuSans-31\" transform=\"scale(.015625)\" d=\"m794 531h1031v3560l-1122-225v575l1116 225h631v-4135h1031v-531h-2687v531z\"/></defs><use xlink:href=\"#DejaVuSans-2212\"/><use x=\"83.789062\" xlink:href=\"#DejaVuSans-31\"/><use x=\"147.412109\" xlink:href=\"#DejaVuSans-2e\"/><use x=\"179.199219\" xlink:href=\"#DejaVuSans-35\"/></g><use x=\"52.160938\" y=\"137.388265\" fill=\"#343a3f\" stroke=\"#343a3f\" stroke-width=\".8\" xlink:href=\"#m28a6b5dffb\"/><g transform=\"translate(20.878 141.19) scale(.1 -.1)\" fill=\"#343a3f\"><use xlink:href=\"#DejaVuSans-2212\"/><use x=\"83.789062\" xlink:href=\"#DejaVuSans-31\"/><use x=\"147.412109\" xlink:href=\"#DejaVuSans-2e\"/><use x=\"179.199219\" xlink:href=\"#DejaVuSans-30\"/></g><use x=\"52.160938\" y=\"89.628957\" fill=\"#343a3f\" stroke=\"#343a3f\" stroke-width=\".8\" xlink:href=\"#m28a6b5dffb\"/><g transform=\"translate(20.878 93.428) scale(.1 -.1)\" fill=\"#343a3f\"><use xlink:href=\"#DejaVuSans-2212\"/><use x=\"83.789062\" xlink:href=\"#DejaVuSans-30\"/><use x=\"147.412109\" xlink:href=\"#DejaVuSans-2e\"/><use x=\"179.199219\" xlink:href=\"#DejaVuSans-35\"/></g><use x=\"52.160938\" y=\"41.869649\" fill=\"#343a3f\" stroke=\"#343a3f\" stroke-width=\".8\" xlink:href=\"#m28a6b5dffb\"/><g transform=\"translate(29.258 45.669) scale(.1 -.1)\" fill=\"#343a3f\"><use xlink:href=\"#DejaVuSans-30\"/><use x=\"63.623047\" xlink:href=\"#DejaVuSans-2e\"/><use x=\"95.410156\" xlink:href=\"#DejaVuSans-30\"/></g><g transform=\"translate(14.798 196.53) rotate(-90) scale(.1 -.1)\" fill=\"#343a3f\"><defs><path id=\"DejaVuSans-4d\" transform=\"scale(.015625)\" d=\"m628 4666h941l1190-3175 1197 3175h941v-4666h-616v4097l-1203-3200h-634l-1203 3200v-4097h-613v4666z\"/><path id=\"DejaVuSans-61\" transform=\"scale(.015625)\" d=\"m2194 1759q-697 0-966-159t-269-544q0-306 202-486 202-179 548-179 479 0 768 339t289 901v128h-572zm1147 238v-1997h-575v531q-197-318-491-470t-719-152q-537 0-855 302-317 302-317 808 0 590 395 890 396 300 1180 300h807v57q0 397-261 614t-733 217q-300 0-585-72-284-72-546-216v532q315 122 612 182 297 61 578 61 760 0 1135-394 375-393 375-1193z\"/><path id=\"DejaVuSans-73\" transform=\"scale(.015625)\" d=\"m2834 3397v-544q-243 125-506 187-262 63-544 63-428 0-642-131t-214-394q0-200 153-314t616-217l197-44q612-131 870-370t258-667q0-488-386-773-386-284-1061-284-281 0-586 55t-642 164v594q319-166 628-249 309-82 613-82 406 0 624 139 219 139 219 392 0 234-158 359-157 125-692 241l-200 47q-534 112-772 345-237 233-237 639 0 494 350 762 350 269 994 269 318 0 599-47 282-46 519-140z\"/><path id=\"DejaVuSans-64\" transform=\"scale(.015625)\" d=\"m2906 2969v1894h575v-4863h-575v525q-181-312-458-464-276-152-664-152-634 0-1033 506-398 507-398 1332t398 1331q399 506 1033 506 388 0 664-152 277-151 458-463zm-1959-1222q0-634 261-995t717-361 718 361q263 361 263 995t-263 995q-262 361-718 361t-717-361-261-995z\"/><path id=\"DejaVuSans-53\" transform=\"scale(.015625)\" d=\"m3425 4513v-616q-359 172-678 256-319 85-616 85-515 0-795-200t-280-569q0-310 186-468 186-157 705-254l381-78q706-135 1042-474t336-907q0-679-455-1029-454-350-1332-350-331 0-705 75-373 75-773 222v650q384-215 753-325 369-109 725-109 540 0 834 212 294 213 294 607 0 343-211 537t-692 291l-385 75q-706 140-1022 440-315 300-315 835 0 619 436 975t1201 356q329 0 669-60 341-59 697-177z\"/><path id=\"DejaVuSans-69\" transform=\"scale(.015625)\" d=\"m603 3500h575v-3500h-575v3500zm0 1363h575v-729h-575v729z\"/><path id=\"DejaVuSans-67\" transform=\"scale(.015625)\" d=\"m2906 1791q0 625-258 968-257 344-723 344-462 0-720-344-258-343-258-968 0-622 258-966t720-344q466 0 723 344 258 344 258 966zm575-1357q0-893-397-1329-396-436-1215-436-303 0-572 45t-522 139v559q253-137 500-202 247-66 503-66 566 0 847 295t281 892v285q-178-310-456-463t-666-153q-643 0-1037 490-394 491-394 1301 0 812 394 1302 394 491 1037 491 388 0 666-153t456-462v531h575v-3066z\"/><path id=\"DejaVuSans-6c\" transform=\"scale(.015625)\" d=\"m603 4863h575v-4863h-575v4863z\"/></defs><use xlink:href=\"#DejaVuSans-4d\"/><use x=\"86.279297\" xlink:href=\"#DejaVuSans-65\"/><use x=\"147.802734\" xlink:href=\"#DejaVuSans-61\"/><use x=\"209.082031\" xlink:href=\"#DejaVuSans-73\"/><use x=\"261.181641\" xlink:href=\"#DejaVuSans-75\"/><use x=\"324.560547\" xlink:href=\"#DejaVuSans-72\"/><use x=\"363.423828\" xlink:href=\"#DejaVuSans-65\"/><use x=\"424.947266\" xlink:href=\"#DejaVuSans-64\"/><use x=\"488.423828\" xlink:href=\"#DejaVuSans-20\"/><use x=\"520.210938\" xlink:href=\"#DejaVuSans-53\"/><use x=\"583.6875\" xlink:href=\"#DejaVuSans-69\"/><use x=\"611.470703\" xlink:href=\"#DejaVuSans-67\"/><use x=\"674.947266\" xlink:href=\"#DejaVuSans-6e\"/><use x=\"738.326172\" xlink:href=\"#DejaVuSans-61\"/><use x=\"799.605469\" xlink:href=\"#DejaVuSans-6c\"/><use x=\"827.388672\" xlink:href=\"#DejaVuSans-20\"/><use x=\"859.175781\" xlink:href=\"#DejaVuSans-5b\"/><use x=\"898.189453\" xlink:href=\"#DejaVuSans-61\"/><use x=\"959.46875\" xlink:href=\"#DejaVuSans-2e\"/><use x=\"991.255859\" xlink:href=\"#DejaVuSans-75\"/><use x=\"1054.634766\" xlink:href=\"#DejaVuSans-2e\"/><use x=\"1086.421875\" xlink:href=\"#DejaVuSans-5d\"/></g><path d=\"m52.161 260.36 8.928-6.1727 8.928-6.8429 8.928-7.593 8.928-8.4294 8.928-9.3568 8.928-10.377 8.928-11.485 8.928-12.669 8.928-13.902 8.928-15.14 8.928-16.314 8.928-17.322 8.928-18.028 8.928-18.262 8.928-17.832 8.928-16.554 8.928-14.296 8.928-11.028 8.928-6.872 8.928-2.1131 8.928 2.8392 8.928 7.5324 8.928 11.571 8.928 14.694 8.928 16.803 8.928 17.945 8.928 18.265 8.928 17.949 8.928 17.189 8.928 16.148 8.928 14.96 8.928 13.718 8.928 12.49 8.928 11.316 8.928 10.22 8.928 9.214 8.928 8.3002 8.928 7.4769 8.928 6.7391 8.928 6.08\" clip-path=\"url(#pe8fe9b6917)\" fill=\"none\" stroke=\"#ff0000\" stroke-linecap=\"square\"/><path d=\"m52.161 273.31v-266.11\" fill=\"none\" stroke=\"#343a3f\" stroke-linecap=\"square\" stroke-width=\".8\"/><path d=\"m52.161 273.31h357.12\" fill=\"none\" stroke=\"#343a3f\" stroke-linecap=\"square\" stroke-width=\".8\"/><defs><clipPath id=\"pe8fe9b6917\"><rect x=\"52.161\" y=\"7.2\" width=\"357.12\" height=\"266.11\"/></clipPath></defs></svg>"
      ],
      "text/plain": [
       "<Figure size 640x480 with 1 Axes>"
      ]
     },
     "metadata": {},
     "output_type": "display_data"
    }
   ],
   "source": [
    "plt.scatter(frequencies_GHz, np.real(sweep_values), color='black')\n",
    "plt.plot(frequencies_GHz, y_fit, color='red')\n",
    "plt.xlim([min(frequencies_GHz), max(frequencies_GHz)])\n",
    "\n",
    "plt.xlabel(\"Frequency [GHz]\")\n",
    "plt.ylabel(\"Measured Signal [a.u.]\")\n",
    "plt.show()"
   ]
  },
  {
   "cell_type": "code",
   "execution_count": 23,
   "metadata": {
    "tags": [
     "uses-hardware"
    ]
   },
   "outputs": [
    {
     "name": "stdout",
     "output_type": "stream",
     "text": [
      "We've updated our qubit frequency estimate from 4.9623 GHz to 4.96222 GHz.\n"
     ]
    }
   ],
   "source": [
    "A, rough_qubit_frequency, B, C = fit_params\n",
    "rough_qubit_frequency = rough_qubit_frequency*GHz # make sure qubit freq is in Hz\n",
    "print(f\"We've updated our qubit frequency estimate from \"\n",
    "      f\"{round(backend_defaults.qubit_freq_est[qubit] / GHz, 5)} GHz to {round(rough_qubit_frequency/GHz, 5)} GHz.\")"
   ]
  },
  {
   "cell_type": "markdown",
   "metadata": {},
   "source": [
    "## 3. Calibrating and using a $\\pi$ Pulse <a id=\"calib\"></a>\n",
    "\n",
    "### 3.1 Calibrating $\\pi$ Pulses using a Rabi Experiment <a id=\"rabi\"></a>\n",
    "\n",
    "Once we know the frequency of our qubit, the next step is to determine the strength of a $\\pi$ pulse. Strictly speaking of the qubit as a two-level system, a $\\pi$ pulse is one that takes the qubit from $\\vert0\\rangle$ to $\\vert1\\rangle$, and vice versa. This is also called the $X$ or $X180$ gate, or bit-flip operator. We already know the microwave frequency needed to drive this transition from the previous frequency sweep experiment, and we now seek the amplitude needed to achieve a $\\pi$ rotation from $\\vert0\\rangle$ to $\\vert1\\rangle$. The desired rotation is shown on the Bloch sphere in the figure below -- you can see that the $\\pi$ pulse gets its name from the angle it sweeps over on a Bloch sphere."
   ]
  },
  {
   "cell_type": "markdown",
   "metadata": {},
   "source": [
    "<img src=\"images/zero_to_one_X180.png\">"
   ]
  },
  {
   "cell_type": "markdown",
   "metadata": {},
   "source": [
    "We will change the drive amplitude in small increments and measuring the state of the qubit each time. We expect to see oscillations which are commonly named Rabi oscillations, as the qubit goes from $\\vert0\\rangle$ to $\\vert1\\rangle$ and back."
   ]
  },
  {
   "cell_type": "code",
   "execution_count": 24,
   "metadata": {
    "tags": [
     "uses-hardware"
    ]
   },
   "outputs": [],
   "source": [
    "# This experiment uses these values from the previous experiment:\n",
    "# `qubit`,and\n",
    "# `rough_qubit_frequency`.\n",
    "\n",
    "# Rabi experiment parameters\n",
    "num_rabi_points = 50\n",
    "\n",
    "# Drive amplitude values to iterate over: 50 amplitudes evenly spaced from 0 to 0.75\n",
    "drive_amp_min = 0\n",
    "drive_amp_max = 0.75\n",
    "drive_amps = np.linspace(drive_amp_min, drive_amp_max, num_rabi_points)"
   ]
  },
  {
   "cell_type": "code",
   "execution_count": 25,
   "metadata": {
    "tags": [
     "uses-hardware"
    ]
   },
   "outputs": [],
   "source": [
    "# Build the Rabi experiments:\n",
    "#    A drive pulse at the qubit frequency, followed by a measurement,\n",
    "#    where we vary the drive amplitude each time.\n",
    "\n",
    "drive_amp = Parameter('drive_amp')\n",
    "with pulse.build(backend=backend, default_alignment='sequential', name='Rabi Experiment') as rabi_sched:\n",
    "    drive_duration = get_closest_multiple_of_16(pulse.seconds_to_samples(drive_duration_sec))\n",
    "    drive_sigma = pulse.seconds_to_samples(drive_sigma_sec)\n",
    "    drive_chan = pulse.drive_channel(qubit)\n",
    "    pulse.set_frequency(rough_qubit_frequency, drive_chan)\n",
    "    pulse.play(pulse.Gaussian(duration=drive_duration,\n",
    "                              amp=drive_amp,\n",
    "                              sigma=drive_sigma,\n",
    "                              name='Rabi Pulse'), drive_chan)"
   ]
  },
  {
   "cell_type": "code",
   "execution_count": 26,
   "metadata": {},
   "outputs": [],
   "source": [
    "rabi_gate = Gate(\"rabi\", 1, [drive_amp])\n",
    "\n",
    "qc_rabi = QuantumCircuit(1, 1)\n",
    "\n",
    "qc_rabi.append(rabi_gate, [0])\n",
    "qc_rabi.measure(0, 0)\n",
    "qc_rabi.add_calibration(rabi_gate, (0,), rabi_sched, [drive_amp])\n",
    "\n",
    "exp_rabi_circs = [qc_rabi.assign_parameters({drive_amp: a}, inplace=False) for a in drive_amps]"
   ]
  },
  {
   "cell_type": "markdown",
   "metadata": {},
   "source": [
    "The schedule will look essentially the same as the frequency sweep experiment. The only difference is that we are running a set of experiments which vary the amplitude of the drive pulse, rather than its modulation frequency."
   ]
  },
  {
   "cell_type": "code",
   "execution_count": 27,
   "metadata": {},
   "outputs": [
    {
     "data": {
      "image/svg+xml": [
       "<?xml version=\"1.0\" encoding=\"UTF-8\"?><!DOCTYPE svg  PUBLIC '-//W3C//DTD SVG 1.1//EN'  'http://www.w3.org/Graphics/SVG/1.1/DTD/svg11.dtd'><svg width=\"814.04pt\" height=\"289.3pt\" version=\"1.1\" viewBox=\"0 0 814.04 289.3\" xmlns=\"http://www.w3.org/2000/svg\" xmlns:xlink=\"http://www.w3.org/1999/xlink\"><defs><style type=\"text/css\">*{stroke-linejoin: round; stroke-linecap: butt}</style></defs><path d=\"m0 289.3h814.04v-289.3h-814.04z\" fill=\"#ffffff\"/><path d=\"m62.353 242.07h725.4v-219.93h-725.4z\" fill=\"#f2f3f4\"/><path d=\"m62.353 101.73h246.52v0h478.88\" clip-path=\"url(#p684757f85c)\" fill=\"none\" stroke=\"#000000\" stroke-linecap=\"square\"/><path d=\"m62.353 186.63h246.52v0h478.88\" clip-path=\"url(#p684757f85c)\" fill=\"none\" stroke=\"#000000\" stroke-linecap=\"square\"/><defs><path id=\"mfba055f306\" d=\"m0 0v3.5\" stroke=\"#343a3f\" stroke-width=\".8\"/></defs><use x=\"95.325852\" y=\"242.068224\" fill=\"#343a3f\" stroke=\"#343a3f\" stroke-width=\".8\" xlink:href=\"#mfba055f306\"/><g transform=\"translate(90.554 260.47) scale(.15 -.15)\" fill=\"#343a3f\"><defs><path id=\"DejaVuSans-30\" transform=\"scale(.015625)\" d=\"m2034 4250q-487 0-733-480-245-479-245-1442 0-959 245-1439 246-480 733-480 491 0 736 480 246 480 246 1439 0 963-246 1442-245 480-736 480zm0 500q785 0 1199-621 414-620 414-1801 0-1178-414-1799-414-620-1199-620-784 0-1198 620-414 621-414 1799 0 1181 414 1801 414 621 1198 621z\"/></defs><use xlink:href=\"#DejaVuSans-30\"/></g><use x=\"233.811307\" y=\"242.068224\" fill=\"#343a3f\" stroke=\"#343a3f\" stroke-width=\".8\" xlink:href=\"#mfba055f306\"/><g transform=\"translate(219.5 260.47) scale(.15 -.15)\" fill=\"#343a3f\"><defs><path id=\"DejaVuSans-31\" transform=\"scale(.015625)\" d=\"m794 531h1031v3560l-1122-225v575l1116 225h631v-4135h1031v-531h-2687v531z\"/><path id=\"DejaVuSans-35\" transform=\"scale(.015625)\" d=\"m691 4666h2478v-532h-1900v-1143q137 47 274 70 138 23 276 23 781 0 1237-428 457-428 457-1159 0-753-469-1171-469-417-1322-417-294 0-599 50-304 50-629 150v635q281-153 581-228t634-75q541 0 856 284 316 284 316 772 0 487-316 771-315 285-856 285-253 0-505-56-251-56-513-175v2344z\"/></defs><use xlink:href=\"#DejaVuSans-31\"/><use x=\"63.623047\" xlink:href=\"#DejaVuSans-35\"/><use x=\"127.246094\" xlink:href=\"#DejaVuSans-30\"/></g><use x=\"372.296761\" y=\"242.068224\" fill=\"#343a3f\" stroke=\"#343a3f\" stroke-width=\".8\" xlink:href=\"#mfba055f306\"/><g transform=\"translate(353.21 260.47) scale(.15 -.15)\" fill=\"#343a3f\"><defs><path id=\"DejaVuSans-36\" transform=\"scale(.015625)\" d=\"m2113 2584q-425 0-674-291-248-290-248-796 0-503 248-796 249-292 674-292t673 292q248 293 248 796 0 506-248 796-248 291-673 291zm1253 1979v-575q-238 112-480 171-242 60-480 60-625 0-955-422-329-422-376-1275 184 272 462 417 279 145 613 145 703 0 1111-427 408-426 408-1160 0-719-425-1154-425-434-1131-434-810 0-1238 620-428 621-428 1799 0 1106 525 1764t1409 658q238 0 480-47t505-140z\"/></defs><use xlink:href=\"#DejaVuSans-35\"/><use x=\"63.623047\" xlink:href=\"#DejaVuSans-30\"/><use x=\"127.246094\" xlink:href=\"#DejaVuSans-35\"/><use x=\"190.869141\" xlink:href=\"#DejaVuSans-36\"/></g><use x=\"510.782216\" y=\"242.068224\" fill=\"#343a3f\" stroke=\"#343a3f\" stroke-width=\".8\" xlink:href=\"#mfba055f306\"/><g transform=\"translate(491.69 260.47) scale(.15 -.15)\" fill=\"#343a3f\"><defs><path id=\"DejaVuSans-32\" transform=\"scale(.015625)\" d=\"m1228 531h2203v-531h-2962v531q359 372 979 998 621 627 780 809 303 340 423 576 121 236 121 464 0 372-261 606-261 235-680 235-297 0-627-103-329-103-704-313v638q381 153 712 231 332 78 607 78 725 0 1156-363 431-362 431-968 0-288-108-546-107-257-392-607-78-91-497-524-418-433-1181-1211z\"/><path id=\"DejaVuSans-37\" transform=\"scale(.015625)\" d=\"m525 4666h3e3v-269l-1694-4397h-659l1594 4134h-2241v532z\"/></defs><use xlink:href=\"#DejaVuSans-35\"/><use x=\"63.623047\" xlink:href=\"#DejaVuSans-32\"/><use x=\"127.246094\" xlink:href=\"#DejaVuSans-30\"/><use x=\"190.869141\" xlink:href=\"#DejaVuSans-37\"/></g><use x=\"649.26767\" y=\"242.068224\" fill=\"#343a3f\" stroke=\"#343a3f\" stroke-width=\".8\" xlink:href=\"#mfba055f306\"/><g transform=\"translate(630.18 260.47) scale(.15 -.15)\" fill=\"#343a3f\"><defs><path id=\"DejaVuSans-33\" transform=\"scale(.015625)\" d=\"m2597 2516q453-97 707-404 255-306 255-756 0-690-475-1069-475-378-1350-378-293 0-604 58t-642 174v609q262-153 574-231 313-78 654-78 593 0 904 234t311 681q0 413-289 645-289 233-804 233h-544v519h569q465 0 712 186t247 536q0 359-255 551-254 193-729 193-260 0-557-57-297-56-653-174v562q360 100 674 150t592 50q719 0 1137-327 419-326 419-882 0-388-222-655t-631-370z\"/></defs><use xlink:href=\"#DejaVuSans-35\"/><use x=\"63.623047\" xlink:href=\"#DejaVuSans-33\"/><use x=\"127.246094\" xlink:href=\"#DejaVuSans-35\"/><use x=\"190.869141\" xlink:href=\"#DejaVuSans-37\"/></g><use x=\"787.753125\" y=\"242.068224\" fill=\"#343a3f\" stroke=\"#343a3f\" stroke-width=\".8\" xlink:href=\"#mfba055f306\"/><g transform=\"translate(768.67 260.47) scale(.15 -.15)\" fill=\"#343a3f\"><defs><path id=\"DejaVuSans-38\" transform=\"scale(.015625)\" d=\"m2034 2216q-450 0-708-241-257-241-257-662 0-422 257-663 258-241 708-241t709 242q260 243 260 662 0 421-258 662-257 241-711 241zm-631 268q-406 100-633 378-226 279-226 679 0 559 398 884 399 325 1092 325 697 0 1094-325t397-884q0-400-227-679-226-278-629-378 456-106 710-416 255-309 255-755 0-679-414-1042-414-362-1186-362-771 0-1186 362-414 363-414 1042 0 446 256 755 257 310 713 416zm-231 997q0-362 226-565 227-203 636-203 407 0 636 203 230 203 230 565 0 363-230 566-229 203-636 203-409 0-636-203-226-203-226-566z\"/></defs><use xlink:href=\"#DejaVuSans-35\"/><use x=\"63.623047\" xlink:href=\"#DejaVuSans-35\"/><use x=\"127.246094\" xlink:href=\"#DejaVuSans-30\"/><use x=\"190.869141\" xlink:href=\"#DejaVuSans-38\"/></g><g transform=\"translate(389.81 278.98) scale(.15 -.15)\" fill=\"#343a3f\"><defs><path id=\"DejaVuSans-54\" transform=\"scale(.015625)\" d=\"m-19 4666h3947v-532h-1656v-4134h-634v4134h-1657v532z\"/><path id=\"DejaVuSans-69\" transform=\"scale(.015625)\" d=\"m603 3500h575v-3500h-575v3500zm0 1363h575v-729h-575v729z\"/><path id=\"DejaVuSans-6d\" transform=\"scale(.015625)\" d=\"m3328 2828q216 388 516 572t706 184q547 0 844-383 297-382 297-1088v-2113h-578v2094q0 503-179 746-178 244-543 244-447 0-707-297-259-296-259-809v-1978h-578v2094q0 506-178 748t-550 242q-441 0-701-298-259-298-259-808v-1978h-578v3500h578v-544q197 322 472 475t653 153q382 0 649-194 267-193 395-562z\"/><path id=\"DejaVuSans-65\" transform=\"scale(.015625)\" d=\"m3597 1894v-281h-2644q38-594 358-905t892-311q331 0 642 81t618 244v-544q-310-131-635-200t-659-69q-838 0-1327 487-489 488-489 1320 0 859 464 1363 464 505 1252 505 706 0 1117-455 411-454 411-1235zm-575 169q-6 471-264 752-258 282-683 282-481 0-770-272t-333-766l2050 4z\"/><path id=\"DejaVuSans-28\" transform=\"scale(.015625)\" d=\"m1984 4856q-418-718-622-1422-203-703-203-1425 0-721 205-1429t620-1424h-500q-468 735-701 1444t-233 1409q0 697 231 1403 232 707 703 1444h500z\"/><path id=\"DejaVuSans-6e\" transform=\"scale(.015625)\" d=\"m3513 2113v-2113h-575v2094q0 497-194 743-194 247-581 247-466 0-735-297-269-296-269-809v-1978h-578v3500h578v-544q207 316 486 472 280 156 646 156 603 0 912-373 310-373 310-1098z\"/><path id=\"DejaVuSans-73\" transform=\"scale(.015625)\" d=\"m2834 3397v-544q-243 125-506 187-262 63-544 63-428 0-642-131t-214-394q0-200 153-314t616-217l197-44q612-131 870-370t258-667q0-488-386-773-386-284-1061-284-281 0-586 55t-642 164v594q319-166 628-249 309-82 613-82 406 0 624 139 219 139 219 392 0 234-158 359-157 125-692 241l-200 47q-534 112-772 345-237 233-237 639 0 494 350 762 350 269 994 269 318 0 599-47 282-46 519-140z\"/><path id=\"DejaVuSans-29\" transform=\"scale(.015625)\" d=\"m513 4856h500q468-737 701-1444 233-706 233-1403 0-700-233-1409t-701-1444h-500q415 716 620 1424t205 1429q0 722-205 1425-205 704-620 1422z\"/></defs><use xlink:href=\"#DejaVuSans-54\"/><use x=\"57.958984\" xlink:href=\"#DejaVuSans-69\"/><use x=\"85.742188\" xlink:href=\"#DejaVuSans-6d\"/><use x=\"183.154297\" xlink:href=\"#DejaVuSans-65\"/><use x=\"244.677734\" xlink:href=\"#DejaVuSans-20\"/><use x=\"276.464844\" xlink:href=\"#DejaVuSans-28\"/><use x=\"315.478516\" xlink:href=\"#DejaVuSans-6e\"/><use x=\"378.857422\" xlink:href=\"#DejaVuSans-73\"/><use x=\"430.957031\" xlink:href=\"#DejaVuSans-29\"/></g><defs><path id=\"m8e18a4bc7c\" d=\"m95.326-187.57v-0.001255h0.20455v-8.98e-4h0.20454v-9.5e-4h0.20455v-0.001005h0.20454v-0.001063h0.20455v-0.001125h0.20454v-0.001188h0.20454v-0.001256h0.20455v-0.001328h0.20454v-0.001402h0.20455v-0.001481h0.20454v-0.001564h0.20455v-0.001651h0.20454v-0.001743h0.20455v-0.001839h0.20454v-0.001939h0.20455v-0.002046h0.20454v-0.002157h0.20454v-0.002274h0.20455v-0.002397h0.20454v-0.002525h0.20455v-0.002661h0.20454v-0.002801h0.20455v-0.00295h0.20454v-0.003106h0.20455v-0.003268h0.20454v-0.003439h0.20455v-0.003617h0.20454v-0.003804h0.20454v-4e-3h0.20455v-0.004204h0.20454v-0.004419h0.20455v-0.004642h0.20454v-0.004876h0.20455v-0.005121h0.20454v-0.005376h0.20455v-0.005643h0.20454v-0.005922h0.20455v-0.006213h0.20454v-0.006517h0.20454v-0.006833h0.20455v-0.007165h0.20454v-0.007509h0.20455v-0.007869h0.20454v-0.008243h0.20455v-0.008634h0.20454v-0.009041h0.20455v-0.009464h0.20454v-0.009905h0.20455v-0.010365h0.20454v-0.010843h0.20454v-0.011339h0.20455v-0.011857h0.20454v-0.012394h0.20455v-0.012953h0.20454v-0.013533h0.20455v-0.014137h0.20454v-0.014764h0.20455v-0.015414h0.20454v-0.016089h0.20455v-0.01679h0.20454v-0.017517h0.20454v-0.01827h0.20455v-0.019053h0.20454v-0.019863h0.20455v-0.020702h0.20454v-0.021573h0.20455v-0.022473h0.20454v-0.023406h0.20455v-0.024371h0.20454v-0.02537h0.20455v-0.026404h0.20454v-0.027472h0.20454v-0.028577h0.20455v-0.029719h0.20454v-0.030899h0.20455v-0.032118h0.20454v-0.033376h0.20455v-0.034675h0.20454v-0.036016h0.20455v-0.037399h0.20454v-0.038826h0.20455v-0.040296h0.20454v-0.041813h0.20454v-0.043376h0.20455v-0.044985h0.20454v-0.046642h0.20455v-0.048349h0.20454v-0.050105h0.20455v-0.051912h0.20454v-0.053771h0.20455v-0.055681h0.20454v-0.057646h0.20455v-0.059664h0.20454v-0.061738h0.20454v-0.063866h0.20455v-0.066053h0.20454v-0.068295h0.20455v-0.070597h0.20454v-0.072958h0.20455v-0.075377h0.20454v-0.077857h0.20455v-0.080398h0.20454v-0.083001h0.20455v-0.085665h0.20454v-0.088393h0.20454v-0.091184h0.20455v-0.094038h0.20454v-0.096957h0.20455v-0.099941h0.20454v-0.10299h0.20455v-0.1061h0.20454v-0.10928h0.20455v-0.11253h0.20454v-0.11584h0.20455v-0.11921h0.20454v-0.12266h0.20454v-0.12617h0.20455v-0.12974h0.20454v-0.13338h0.20455v-0.13709h0.20454v-0.14086h0.20455v-0.1447h0.20454v-0.1486h0.20455v-0.15257h0.20454v-0.1566h0.20455v-0.1607h0.20454v-0.16485h0.20454v-0.16907h0.20455v-0.17335h0.20454v-0.17769h0.20455v-0.18209h0.20454v-0.18655h0.20455v-0.19106h0.20454v-0.19563h0.20455v-0.20025h0.20454v-0.20493h0.20455v-0.20966h0.20454v-0.21443h0.20454v-0.21926h0.20455v-0.22413h0.20454v-0.22904h0.20455v-0.234h0.20454v-0.23899h0.20455v-0.24402h0.20454v-0.24909h0.20455v-0.2542h0.20454v-0.25933h0.20455v-0.26449h0.20454v-0.26967h0.20454v-0.27488h0.20455v-0.28011h0.20454v-0.28535h0.20455v-0.2906h0.20454v-0.29587h0.20455v-0.30114h0.20454v-0.30642h0.20455v-0.3117h0.20454v-0.31697h0.20455v-0.32223h0.20454v-0.32749h0.20454v-0.33272h0.20455v-0.33794h0.20454v-0.34314h0.20455v-0.34831h0.20454v-0.35345h0.20455v-0.35855h0.20454v-0.36361h0.20455v-0.36863h0.20454v-0.3736h0.20455v-0.37852h0.20454v-0.38338h0.20454v-0.38818h0.20455v-0.39291h0.20454v-0.39757h0.20455v-0.40216h0.20454v-0.40666h0.20455v-0.41107h0.20454v-0.4154h0.20455v-0.41963h0.20454v-0.42376h0.20455v-0.42779h0.20454v-0.4317h0.20454v-0.4355h0.20455v-0.43918h0.20454v-0.44274h0.20455v-0.44616h0.20454v-0.44945h0.20455v-0.45261h0.20454v-0.45562h0.20455v-0.45847h0.20454v-0.46118h0.20455v-0.46373h0.20454v-0.46611h0.20454v-0.46833h0.20455v-0.47038h0.20454v-0.47225h0.20455v-0.47394h0.20454v-0.47545h0.20455v-0.47676h0.20454v-0.47789h0.20455v-0.47882h0.20454v-0.47955h0.20455v-0.48007h0.20454v-0.48039h0.20454v-0.48049h0.20455v-0.48039h0.20454v-0.48006h0.20455v-0.47952h0.20454v-0.47875h0.20455v-0.47776h0.20454v-0.47653h0.20455v-0.47508h0.20454v-0.4734h0.20455v-0.47148h0.20454v-0.46932h0.20454v-0.46693h0.20455v-0.46429h0.20454v-0.46142h0.20455v-0.4583h0.20454v-0.45495h0.20455v-0.45135h0.20454v-0.4475h0.20455v-0.44342h0.20454v-0.43908h0.20455v-0.43451h0.20454v-0.42969h0.20454v-0.42464h0.20455v-0.41933h0.20454v-0.41379h0.20455v-0.40802h0.20454v-0.402h0.20455v-0.39575h0.20454v-0.38927h0.20455v-0.38255h0.20454v-0.37561h0.20455v-0.36844h0.20454v-0.36105h0.20454v-0.35344h0.20455v-0.34562h0.20454v-0.33758h0.20455v-0.32933h0.20454v-0.32088h0.20455v-0.31223h0.20454v-0.30338h0.20455v-0.29434h0.20454v-0.28512h0.20455v-0.27572h0.20454v-0.26614h0.20454v-0.25639h0.20455v-0.24647h0.20454v-0.2364h0.20455v-0.22617h0.20454v-0.2158h0.20455v-0.20528h0.20454v-0.19464h0.20455v-0.18386h0.20454v-0.17297h0.20455v-0.16196h0.20454v-0.15084h0.20454v-0.13963h0.20455v-0.12832h0.20454v-0.11693h0.20455v-0.10546h0.20454v-0.093918h0.20455v-0.082316h0.20454v-0.070659h0.20455v-0.058955h0.20454v-0.047211h0.20455v-0.035435h0.20454v-0.023637h0.20454v-0.011823h0.40909v0.011823h0.20455v0.023637h0.20454v0.035435h0.20455v0.047211h0.20454v0.058955h0.20455v0.070659h0.20454v0.082316h0.20455v0.093918h0.20454v0.10546h0.20454v0.11693h0.20455v0.12832h0.20454v0.13963h0.20455v0.15084h0.20454v0.16196h0.20455v0.17297h0.20454v0.18386h0.20455v0.19464h0.20454v0.20528h0.20455v0.2158h0.20454v0.22617h0.20454v0.2364h0.20455v0.24647h0.20454v0.25639h0.20455v0.26614h0.20454v0.27572h0.20455v0.28512h0.20454v0.29434h0.20455v0.30338h0.20454v0.31223h0.20455v0.32088h0.20454v0.32933h0.20454v0.33758h0.20455v0.34562h0.20454v0.35344h0.20455v0.36105h0.20454v0.36844h0.20455v0.37561h0.20454v0.38255h0.20455v0.38927h0.20454v0.39575h0.20455v0.402h0.20454v0.40802h0.20454v0.41379h0.20455v0.41933h0.20454v0.42464h0.20455v0.42969h0.20454v0.43451h0.20455v0.43908h0.20454v0.44342h0.20455v0.4475h0.20454v0.45135h0.20455v0.45495h0.20454v0.4583h0.20454v0.46142h0.20455v0.46429h0.20454v0.46693h0.20455v0.46932h0.20454v0.47148h0.20455v0.4734h0.20454v0.47508h0.20455v0.47653h0.20454v0.47776h0.20455v0.47875h0.20454v0.47952h0.20454v0.48006h0.20455v0.48039h0.20454v0.48049h0.20455v0.48039h0.20454v0.48007h0.20455v0.47955h0.20454v0.47882h0.20455v0.47789h0.20454v0.47676h0.20455v0.47545h0.20454v0.47394h0.20454v0.47225h0.20455v0.47038h0.20454v0.46833h0.20455v0.46611h0.20454v0.46373h0.20455v0.46118h0.20454v0.45847h0.20455v0.45562h0.20454v0.45261h0.20455v0.44945h0.20454v0.44616h0.20454v0.44274h0.20455v0.43918h0.20454v0.4355h0.20455v0.4317h0.20454v0.42779h0.20455v0.42376h0.20454v0.41963h0.20455v0.4154h0.20454v0.41107h0.20455v0.40666h0.20454v0.40216h0.20454v0.39757h0.20455v0.39291h0.20454v0.38818h0.20455v0.38338h0.20454v0.37852h0.20455v0.3736h0.20454v0.36863h0.20455v0.36361h0.20454v0.35855h0.20455v0.35345h0.20454v0.34831h0.20454v0.34314h0.20455v0.33794h0.20454v0.33272h0.20455v0.32749h0.20454v0.32223h0.20455v0.31697h0.20454v0.3117h0.20455v0.30642h0.20454v0.30114h0.20455v0.29587h0.20454v0.2906h0.20454v0.28535h0.20455v0.28011h0.20454v0.27488h0.20455v0.26967h0.20454v0.26449h0.20455v0.25933h0.20454v0.2542h0.20455v0.24909h0.20454v0.24402h0.20455v0.23899h0.20454v0.234h0.20454v0.22904h0.20455v0.22413h0.20454v0.21926h0.20455v0.21443h0.20454v0.20966h0.20455v0.20493h0.20454v0.20025h0.20455v0.19563h0.20454v0.19106h0.20455v0.18655h0.20454v0.18209h0.20454v0.17769h0.20455v0.17335h0.20454v0.16907h0.20455v0.16485h0.20454v0.1607h0.20455v0.1566h0.20454v0.15257h0.20455v0.1486h0.20454v0.1447h0.20455v0.14086h0.20454v0.13709h0.20454v0.13338h0.20455v0.12974h0.20454v0.12617h0.20455v0.12266h0.20454v0.11921h0.20455v0.11584h0.20454v0.11253h0.20455v0.10928h0.20454v0.1061h0.20455v0.10299h0.20454v0.099941h0.20454v0.096957h0.20455v0.094038h0.20454v0.091184h0.20455v0.088393h0.20454v0.085665h0.20455v0.083001h0.20454v0.080398h0.20455v0.077857h0.20454v0.075377h0.20455v0.072958h0.20454v0.070597h0.20454v0.068295h0.20455v0.066053h0.20454v0.063866h0.20455v0.061738h0.20454v0.059664h0.20455v0.057646h0.20454v0.055681h0.20455v0.053771h0.20454v0.051912h0.20455v0.050105h0.20454v0.048349h0.20454v0.046642h0.20455v0.044985h0.20454v0.043376h0.20455v0.041813h0.20454v0.040296h0.20455v0.038826h0.20454v0.037399h0.20455v0.036016h0.20454v0.034675h0.20455v0.033376h0.20454v0.032118h0.20454v0.030899h0.20455v0.029719h0.20454v0.028577h0.20455v0.027472h0.20454v0.026404h0.20455v0.02537h0.20454v0.024371h0.20455v0.023406h0.20454v0.022473h0.20455v0.021573h0.20454v0.020702h0.20454v0.019863h0.20455v0.019053h0.20454v0.01827h0.20455v0.017517h0.20454v0.01679h0.20455v0.016089h0.20454v0.015414h0.20455v0.014764h0.20454v0.014137h0.20455v0.013533h0.20454v0.012953h0.20454v0.012394h0.20455v0.011857h0.20454v0.011339h0.20455v0.010843h0.20454v0.010365h0.20455v0.009905h0.20454v0.009464h0.20455v0.009041h0.20454v0.008634h0.20455v0.008243h0.20454v0.007869h0.20454v0.007509h0.20455v0.007165h0.20454v0.006833h0.20455v0.006517h0.20454v0.006213h0.20455v0.005922h0.20454v0.005643h0.20455v0.005376h0.20454v0.005121h0.20455v0.004876h0.20454v0.004642h0.20454v0.004419h0.20455v0.004204h0.20454v4e-3h0.20455v0.003804h0.20454v0.003617h0.20455v0.003439h0.20454v0.003268h0.20455v0.003106h0.20454v0.00295h0.20455v0.002801h0.20454v0.002661h0.20454v0.002525h0.20455v0.002397h0.20454v0.002274h0.20455v0.002157h0.20454v0.002046h0.20455v0.001939h0.20454v0.001839h0.20455v0.001743h0.20454v0.001651h0.20455v0.001564h0.20454v0.001481h0.20454v0.001402h0.20455v0.001328h0.20454v0.001256h0.20455v0.001188h0.20454v0.001125h0.20455v0.001063h0.20454v0.001005h0.20455v9.5e-4h0.20454v8.98e-4h0.20455v0.001255h-0.20455-0.20454-0.20455-0.20454-0.20455-0.20454-0.20455-0.20454-0.20455-0.20454-0.20454-0.20455-0.20454-0.20455-0.20454-0.20455-0.20454-0.20455-0.20454-0.20455-0.20454-0.20454-0.20455-0.20454-0.20455-0.20454-0.20455-0.20454-0.20455-0.20454-0.20455-0.20454-0.20454-0.20455-0.20454-0.20455-0.20454-0.20455-0.20454-0.20455-0.20454-0.20455-0.20454-0.20454-0.20455-0.20454-0.20455-0.20454-0.20455-0.20454-0.20455-0.20454-0.20455-0.20454-0.20454-0.20455-0.20454-0.20455-0.20454-0.20455-0.20454-0.20455-0.20454-0.20455-0.20454-0.20454-0.20455-0.20454-0.20455-0.20454-0.20455-0.20454-0.20455-0.20454-0.20455-0.20454-0.20454-0.20455-0.20454-0.20455-0.20454-0.20455-0.20454-0.20455-0.20454-0.20455-0.20454-0.20454-0.20455-0.20454-0.20455-0.20454-0.20455-0.20454-0.20455-0.20454-0.20455-0.20454-0.20454-0.20455-0.20454-0.20455-0.20454-0.20455-0.20454-0.20455-0.20454-0.20455-0.20454-0.20454-0.20455-0.20454-0.20455-0.20454-0.20455-0.20454-0.20455-0.20454-0.20455-0.20454-0.20454-0.20455-0.20454-0.20455-0.20454-0.20455-0.20454-0.20455-0.20454-0.20455-0.20454-0.20454-0.20455-0.20454-0.20455-0.20454-0.20455-0.20454-0.20455-0.20454-0.20455-0.20454-0.20454-0.20455-0.20454-0.20455-0.20454-0.20455-0.20454-0.20455-0.20454-0.20455-0.20454-0.20454-0.20455-0.20454-0.20455-0.20454-0.20455-0.20454-0.20455-0.20454-0.20455-0.20454-0.20454-0.20455-0.20454-0.20455-0.20454-0.20455-0.20454-0.20455-0.20454-0.20455-0.20454-0.20454-0.20455-0.20454-0.20455-0.20454-0.20455-0.20454-0.20455-0.20454-0.20455-0.20454-0.20454-0.20455-0.20454-0.20455-0.20454-0.20455-0.20454-0.20455-0.20454-0.20455-0.20454-0.20454-0.20455-0.20454-0.20455-0.20454-0.20455-0.20454-0.20455-0.20454-0.20455-0.20454-0.20454-0.20455-0.20454-0.20455-0.20454-0.20455-0.20454-0.20455-0.20454-0.20455-0.20454-0.20454-0.20455-0.20454-0.20455-0.20454-0.20455-0.20454-0.20455-0.20454-0.20455-0.20454-0.20454-0.20455-0.20454-0.20455-0.20454-0.20455-0.20454-0.20455-0.20454-0.20455-0.20454-0.20454-0.20455-0.20454-0.20455-0.20454-0.20455-0.20454-0.20455-0.20454-0.20455-0.20454-0.20454-0.20455-0.20454-0.20455-0.20454-0.20455-0.20454-0.20455-0.20454-0.20455-0.20454-0.20454-0.20455-0.20454-0.20455-0.20454-0.20455-0.20454-0.20455-0.40909-0.20454-0.20454-0.20455-0.20454-0.20455-0.20454-0.20455-0.20454-0.20455-0.20454-0.20455-0.20454-0.20454-0.20455-0.20454-0.20455-0.20454-0.20455-0.20454-0.20455-0.20454-0.20455-0.20454-0.20454-0.20455-0.20454-0.20455-0.20454-0.20455-0.20454-0.20455-0.20454-0.20455-0.20454-0.20454-0.20455-0.20454-0.20455-0.20454-0.20455-0.20454-0.20455-0.20454-0.20455-0.20454-0.20454-0.20455-0.20454-0.20455-0.20454-0.20455-0.20454-0.20455-0.20454-0.20455-0.20454-0.20454-0.20455-0.20454-0.20455-0.20454-0.20455-0.20454-0.20455-0.20454-0.20455-0.20454-0.20454-0.20455-0.20454-0.20455-0.20454-0.20455-0.20454-0.20455-0.20454-0.20455-0.20454-0.20454-0.20455-0.20454-0.20455-0.20454-0.20455-0.20454-0.20455-0.20454-0.20455-0.20454-0.20454-0.20455-0.20454-0.20455-0.20454-0.20455-0.20454-0.20455-0.20454-0.20455-0.20454-0.20454-0.20455-0.20454-0.20455-0.20454-0.20455-0.20454-0.20455-0.20454-0.20455-0.20454-0.20454-0.20455-0.20454-0.20455-0.20454-0.20455-0.20454-0.20455-0.20454-0.20455-0.20454-0.20454-0.20455-0.20454-0.20455-0.20454-0.20455-0.20454-0.20455-0.20454-0.20455-0.20454-0.20454-0.20455-0.20454-0.20455-0.20454-0.20455-0.20454-0.20455-0.20454-0.20455-0.20454-0.20454-0.20455-0.20454-0.20455-0.20454-0.20455-0.20454-0.20455-0.20454-0.20455-0.20454-0.20454-0.20455-0.20454-0.20455-0.20454-0.20455-0.20454-0.20455-0.20454-0.20455-0.20454-0.20454-0.20455-0.20454-0.20455-0.20454-0.20455-0.20454-0.20455-0.20454-0.20455-0.20454-0.20454-0.20455-0.20454-0.20455-0.20454-0.20455-0.20454-0.20455-0.20454-0.20455-0.20454-0.20454-0.20455-0.20454-0.20455-0.20454-0.20455-0.20454-0.20455-0.20454-0.20455-0.20454-0.20454-0.20455-0.20454-0.20455-0.20454-0.20455-0.20454-0.20455-0.20454-0.20455-0.20454-0.20454-0.20455-0.20454-0.20455-0.20454-0.20455-0.20454-0.20455-0.20454-0.20455-0.20454-0.20454-0.20455-0.20454-0.20455-0.20454-0.20455-0.20454-0.20455-0.20454-0.20455-0.20454-0.20454-0.20455-0.20454-0.20455-0.20454-0.20455-0.20454-0.20455-0.20454-0.20455-0.20454-0.20454-0.20455-0.20454-0.20455-0.20454-0.20455-0.20454-0.20455-0.20454-0.20455-0.20454-0.20454-0.20455-0.20454-0.20455-0.20454-0.20455-0.20454-0.20455-0.20454-0.20455-0.20454-0.20454-0.20455-0.20454-0.20455-0.20454-0.20455z\"/></defs><g clip-path=\"url(#p684757f85c)\"><use y=\"289.302599\" fill=\"#648fff\" fill-opacity=\".3\" xlink:href=\"#m8e18a4bc7c\"/></g><defs><path id=\"md93aa62f23\" d=\"m95.326-187.57h111.27-111.27z\"/></defs><g clip-path=\"url(#p684757f85c)\"><use y=\"289.302599\" fill=\"#002999\" fill-opacity=\".3\" xlink:href=\"#md93aa62f23\"/></g><defs><path id=\"m37b3baf97d\" d=\"m206.6-102.67v-0.38518h0.20454v-0.26438h0.20454v-0.27053h0.20455v-0.27673h0.20454v-0.28299h0.20455v-0.2893h0.20454v-0.29566h0.20455v-0.30206h0.20454v-0.30851h0.20455v-0.315h0.20454v-0.32152h0.20455v-0.32807h0.20454v-0.33465h0.20454v-0.34126h0.20455v-0.34788h0.20454v-0.35451h0.20455v-0.36116h0.20454v-0.36781h0.20455v-0.37447h0.20454v-0.38112h0.20455v-0.38776h0.20454v-0.39438h0.20455v-0.40099h0.20454v-0.40757h0.20454v-0.41412h0.20455v-0.42063h0.20454v-0.4271h0.20455v-0.43353h0.20454v-0.4399h0.20455v-0.4462h0.20454v-0.45245h0.20455v-0.45862h0.20454v-0.46471h0.20455v-0.47072h0.20454v-0.47663h0.20454v-0.48245h0.20455v-0.48816h0.20454v-0.49376h0.20455v-0.49925h0.20454v-0.50461h0.20455v-0.50984h0.20454v-0.51492h0.20455v-0.51987h0.20454v-0.52466h0.20455v-0.5293h0.20454v-0.53377h0.20454v-0.53806h0.20455v-0.54218h0.20454v-0.54612h0.20455v-0.54986h0.20454v-0.55341h0.20455v-0.55675h0.20454v-0.55988h0.20455v-0.56279h0.20454v-0.56548h0.20455v-0.56793h0.20454v-0.57016h0.20454v-0.57214h0.20455v-0.57387h0.20454v-0.57535h0.20455v-0.57658h0.20454v-0.57754h0.20455v-0.57823h0.20454v-0.57865h0.20455v-0.57879h0.20454v-0.57865h0.20455v-0.57822h0.20454v-0.5775h0.20454v-0.57648h0.20455v-0.57517h0.20454v-0.57355h0.20455v-0.57163h0.20454v-0.5694h0.20455v-0.56686h0.20454v-0.56401h0.20455v-0.56085h0.20454v-0.55736h0.20455v-0.55356h0.20454v-0.54944h0.20454v-0.545h0.20455v-0.54023h0.20454v-0.53515h0.20455v-0.52974h0.20454v-0.52401h0.20455v-0.51797h0.20454v-0.5116h0.20455v-0.50491h0.20454v-0.49791h0.20455v-0.49059h0.20454v-0.48296h0.20454v-0.47502h0.20455v-0.46678h0.20454v-0.45823h0.20455v-0.44938h0.20454v-0.44023h0.20455v-0.43079h0.20454v-0.42106h0.20455v-0.41105h0.20454v-0.40077h0.20455v-0.39021h0.20454v-0.37938h0.20454v-0.3683h0.20455v-0.35696h0.20454v-0.34537h0.20455v-0.33355h0.20454v-0.32149h0.20455v-0.3092h0.20454v-0.2967h0.20455v-0.28399h0.20454v-0.27108h0.20455v-0.25798h0.20454v-0.24469h0.20454v-0.23122h0.20455v-0.21759h0.20454v-0.20381h0.20455v-0.18988h0.20454v-0.1758h0.20455v-0.16161h0.20454v-0.14729h0.20455v-0.13287h0.20454v-0.11835h0.20455v-0.10375h0.20454v-0.089069h0.20454v-0.074324h0.20455v-0.059524h0.20454v-0.044682h0.20455v-0.029805h0.20454v-0.014909h0.20455v-0.001864h76.091 76.091v0.001864h0.20454v0.014909h0.20455v0.029805h0.20454v0.044682h0.20455v0.059524h0.20454v0.074324h0.20455v0.089069h0.20454v0.10375h0.20455v0.11835h0.20454v0.13287h0.20454v0.14729h0.20455v0.16161h0.20454v0.1758h0.20455v0.18988h0.20454v0.20381h0.20455v0.21759h0.20454v0.23122h0.20455v0.24469h0.20454v0.25798h0.20455v0.27108h0.20454v0.28399h0.20454v0.2967h0.20455v0.3092h0.20454v0.32149h0.20455v0.33355h0.20454v0.34537h0.20455v0.35696h0.20454v0.3683h0.20455v0.37938h0.20454v0.39021h0.20455v0.40077h0.20454v0.41105h0.20454v0.42106h0.20455v0.43079h0.20454v0.44023h0.20455v0.44938h0.20454v0.45823h0.20455v0.46678h0.20454v0.47502h0.20455v0.48296h0.20454v0.49059h0.20455v0.49791h0.20454v0.50491h0.20454v0.5116h0.20455v0.51797h0.20454v0.52401h0.20455v0.52974h0.20454v0.53515h0.20455v0.54023h0.20454v0.545h0.20455v0.54944h0.20454v0.55356h0.20455v0.55736h0.20454v0.56085h0.20454v0.56401h0.20455v0.56686h0.20454v0.5694h0.20455v0.57163h0.20454v0.57355h0.20455v0.57517h0.20454v0.57648h0.20455v0.5775h0.20454v0.57822h0.20455v0.57865h0.20454v0.57879h0.20454v0.57865h0.20455v0.57823h0.20454v0.57754h0.20455v0.57658h0.20454v0.57535h0.20455v0.57387h0.20454v0.57214h0.20455v0.57016h0.20454v0.56793h0.20455v0.56548h0.20454v0.56279h0.20454v0.55988h0.20455v0.55675h0.20454v0.55341h0.20455v0.54986h0.20454v0.54612h0.20455v0.54218h0.20454v0.53806h0.20455v0.53377h0.20454v0.5293h0.20455v0.52466h0.20454v0.51987h0.20454v0.51492h0.20455v0.50984h0.20454v0.50461h0.20455v0.49925h0.20454v0.49376h0.20455v0.48816h0.20454v0.48245h0.20455v0.47663h0.20454v0.47072h0.20455v0.46471h0.20454v0.45862h0.20454v0.45245h0.20455v0.4462h0.20454v0.4399h0.20455v0.43353h0.20454v0.4271h0.20455v0.42063h0.20454v0.41412h0.20455v0.40757h0.20454v0.40099h0.20455v0.39438h0.20454v0.38776h0.20454v0.38112h0.20455v0.37447h0.20454v0.36781h0.20455v0.36116h0.20454v0.35451h0.20455v0.34788h0.20454v0.34126h0.20455v0.33465h0.20454v0.32807h0.20455v0.32152h0.20454v0.315h0.20454v0.30851h0.20455v0.30206h0.20454v0.29566h0.20455v0.2893h0.20454v0.28299h0.20455v0.27673h0.20454v0.27053h0.20455v0.26438h0.20454v0.38518h-0.20454-0.20455-0.20454-0.20455-0.20454-0.20455-0.20454-0.20455-0.20454-0.20454-0.20455-0.20454-0.20455-0.20454-0.20455-0.20454-0.20455-0.20454-0.20455-0.20454-0.20454-0.20455-0.20454-0.20455-0.20454-0.20455-0.20454-0.20455-0.20454-0.20455-0.20454-0.20454-0.20455-0.20454-0.20455-0.20454-0.20455-0.20454-0.20455-0.20454-0.20455-0.20454-0.20454-0.20455-0.20454-0.20455-0.20454-0.20455-0.20454-0.20455-0.20454-0.20455-0.20454-0.20454-0.20455-0.20454-0.20455-0.20454-0.20455-0.20454-0.20455-0.20454-0.20455-0.20454-0.20454-0.20455-0.20454-0.20455-0.20454-0.20455-0.20454-0.20455-0.20454-0.20455-0.20454-0.20454-0.20455-0.20454-0.20455-0.20454-0.20455-0.20454-0.20455-0.20454-0.20455-0.20454-0.20454-0.20455-0.20454-0.20455-0.20454-0.20455-0.20454-0.20455-0.20454-0.20455-0.20454-0.20454-0.20455-0.20454-0.20455-0.20454-0.20455-0.20454-0.20455-0.20454-0.20455-0.20454-0.20454-0.20455-0.20454-0.20455-0.20454-0.20455-0.20454-0.20455-0.20454-0.20455-0.20454-0.20454-0.20455-0.20454-0.20455-0.20454-0.20455-0.20454-0.20455-0.20454-76.091-76.091-0.20455-0.20454-0.20455-0.20454-0.20455-0.20454-0.20454-0.20455-0.20454-0.20455-0.20454-0.20455-0.20454-0.20455-0.20454-0.20455-0.20454-0.20454-0.20455-0.20454-0.20455-0.20454-0.20455-0.20454-0.20455-0.20454-0.20455-0.20454-0.20454-0.20455-0.20454-0.20455-0.20454-0.20455-0.20454-0.20455-0.20454-0.20455-0.20454-0.20454-0.20455-0.20454-0.20455-0.20454-0.20455-0.20454-0.20455-0.20454-0.20455-0.20454-0.20454-0.20455-0.20454-0.20455-0.20454-0.20455-0.20454-0.20455-0.20454-0.20455-0.20454-0.20454-0.20455-0.20454-0.20455-0.20454-0.20455-0.20454-0.20455-0.20454-0.20455-0.20454-0.20454-0.20455-0.20454-0.20455-0.20454-0.20455-0.20454-0.20455-0.20454-0.20455-0.20454-0.20454-0.20455-0.20454-0.20455-0.20454-0.20455-0.20454-0.20455-0.20454-0.20455-0.20454-0.20454-0.20455-0.20454-0.20455-0.20454-0.20455-0.20454-0.20455-0.20454-0.20455-0.20454-0.20454-0.20455-0.20454-0.20455-0.20454-0.20455-0.20454-0.20455-0.20454-0.20455-0.20454-0.20454-0.20455-0.20454-0.20455-0.20454-0.20455-0.20454-0.20455-0.20454-0.20455-0.20454-0.20454z\"/></defs><g clip-path=\"url(#p684757f85c)\"><use y=\"289.302599\" fill=\"#dc267f\" fill-opacity=\".3\" xlink:href=\"#m37b3baf97d\"/></g><defs><path id=\"m0edf582104\" d=\"m206.6-102.67v0.20981h0.20454v0.14401h0.20454v0.14736h0.20455v0.15074h0.20454v0.15415h0.20455v0.15758h0.20454v0.16105h0.20455v0.16454h0.20454v0.16805h0.20455v0.17158h0.20454v0.17513h0.20455v0.1787h0.20454v0.18229h0.20454v0.18588h0.20455v0.18949h0.20454v0.19311h0.20455v0.19673h0.20454v0.20035h0.20455v0.20398h0.20454v0.2076h0.20455v0.21121h0.20454v0.21482h0.20455v0.21842h0.20454v0.222h0.20454v0.22557h0.20455v0.22912h0.20454v0.23265h0.20455v0.23614h0.20454v0.23961h0.20455v0.24305h0.20454v0.24645h0.20455v0.24981h0.20454v0.25313h0.20455v0.2564h0.20454v0.25962h0.20454v0.2628h0.20455v0.26591h0.20454v0.26896h0.20455v0.27194h0.20454v0.27486h0.20455v0.27771h0.20454v0.28048h0.20455v0.28318h0.20454v0.28579h0.20455v0.28831h0.20454v0.29075h0.20454v0.29309h0.20455v0.29533h0.20454v0.29747h0.20455v0.29951h0.20454v0.30144h0.20455v0.30326h0.20454v0.30497h0.20455v0.30655h0.20454v0.30802h0.20455v0.30936h0.20454v0.31057h0.20454v0.31165h0.20455v0.31259h0.20454v0.3134h0.20455v0.31407h0.20454v0.31459h0.20455v0.31497h0.20454v0.31519h0.20455v0.31527h0.20454v0.31519h0.20455v0.31496h0.20454v0.31457h0.20454v0.31401h0.20455v0.3133h0.20454v0.31242h0.20455v0.31137h0.20454v0.31016h0.20455v0.30878h0.20454v0.30722h0.20455v0.3055h0.20454v0.3036h0.20455v0.30153h0.20454v0.29928h0.20454v0.29686h0.20455v0.29427h0.20454v0.2915h0.20455v0.28855h0.20454v0.28544h0.20455v0.28214h0.20454v0.27867h0.20455v0.27503h0.20454v0.27122h0.20455v0.26723h0.20454v0.26307h0.20454v0.25875h0.20455v0.25426h0.20454v0.2496h0.20455v0.24478h0.20454v0.2398h0.20455v0.23466h0.20454v0.22936h0.20455v0.2239h0.20454v0.2183h0.20455v0.21255h0.20454v0.20665h0.20454v0.20062h0.20455v0.19444h0.20454v0.18813h0.20455v0.18169h0.20454v0.17512h0.20455v0.16843h0.20454v0.16162h0.20455v0.15469h0.20454v0.14766h0.20455v0.14052h0.20454v0.13328h0.20454v0.12595h0.20455v0.11852h0.20454v0.11102h0.20455v0.10343h0.20454v0.095762h0.20455v0.088029h0.20454v0.080231h0.20455v0.072376h0.20454v0.064468h0.20455v0.056513h0.20454v0.048516h0.20454v0.040485h0.20455v0.032423h0.20454v0.024338h0.20455v0.016236h0.20454v0.00812h0.20455v0.001016h76.091 76.091v-0.001016h0.20454v-0.00812h0.20455v-0.016236h0.20454v-0.024338h0.20455v-0.032423h0.20454v-0.040485h0.20455v-0.048516h0.20454v-0.056513h0.20455v-0.064468h0.20454v-0.072376h0.20454v-0.080231h0.20455v-0.088029h0.20454v-0.095762h0.20455v-0.10343h0.20454v-0.11102h0.20455v-0.11852h0.20454v-0.12595h0.20455v-0.13328h0.20454v-0.14052h0.20455v-0.14766h0.20454v-0.15469h0.20454v-0.16162h0.20455v-0.16843h0.20454v-0.17512h0.20455v-0.18169h0.20454v-0.18813h0.20455v-0.19444h0.20454v-0.20062h0.20455v-0.20665h0.20454v-0.21255h0.20455v-0.2183h0.20454v-0.2239h0.20454v-0.22936h0.20455v-0.23466h0.20454v-0.2398h0.20455v-0.24478h0.20454v-0.2496h0.20455v-0.25426h0.20454v-0.25875h0.20455v-0.26307h0.20454v-0.26723h0.20455v-0.27122h0.20454v-0.27503h0.20454v-0.27867h0.20455v-0.28214h0.20454v-0.28544h0.20455v-0.28855h0.20454v-0.2915h0.20455v-0.29427h0.20454v-0.29686h0.20455v-0.29928h0.20454v-0.30153h0.20455v-0.3036h0.20454v-0.3055h0.20454v-0.30722h0.20455v-0.30878h0.20454v-0.31016h0.20455v-0.31137h0.20454v-0.31242h0.20455v-0.3133h0.20454v-0.31401h0.20455v-0.31457h0.20454v-0.31496h0.20455v-0.31519h0.20454v-0.31527h0.20454v-0.31519h0.20455v-0.31497h0.20454v-0.31459h0.20455v-0.31407h0.20454v-0.3134h0.20455v-0.31259h0.20454v-0.31165h0.20455v-0.31057h0.20454v-0.30936h0.20455v-0.30802h0.20454v-0.30655h0.20454v-0.30497h0.20455v-0.30326h0.20454v-0.30144h0.20455v-0.29951h0.20454v-0.29747h0.20455v-0.29533h0.20454v-0.29309h0.20455v-0.29075h0.20454v-0.28831h0.20455v-0.28579h0.20454v-0.28318h0.20454v-0.28048h0.20455v-0.27771h0.20454v-0.27486h0.20455v-0.27194h0.20454v-0.26896h0.20455v-0.26591h0.20454v-0.2628h0.20455v-0.25962h0.20454v-0.2564h0.20455v-0.25313h0.20454v-0.24981h0.20454v-0.24645h0.20455v-0.24305h0.20454v-0.23961h0.20455v-0.23614h0.20454v-0.23265h0.20455v-0.22912h0.20454v-0.22557h0.20455v-0.222h0.20454v-0.21842h0.20455v-0.21482h0.20454v-0.21121h0.20454v-0.2076h0.20455v-0.20398h0.20454v-0.20035h0.20455v-0.19673h0.20454v-0.19311h0.20455v-0.18949h0.20454v-0.18588h0.20455v-0.18229h0.20454v-0.1787h0.20455v-0.17513h0.20454v-0.17158h0.20454v-0.16805h0.20455v-0.16454h0.20454v-0.16105h0.20455v-0.15758h0.20454v-0.15415h0.20455v-0.15074h0.20454v-0.14736h0.20455v-0.14401h0.20454v-0.20981h-0.20454-0.20455-0.20454-0.20455-0.20454-0.20455-0.20454-0.20455-0.20454-0.20454-0.20455-0.20454-0.20455-0.20454-0.20455-0.20454-0.20455-0.20454-0.20455-0.20454-0.20454-0.20455-0.20454-0.20455-0.20454-0.20455-0.20454-0.20455-0.20454-0.20455-0.20454-0.20454-0.20455-0.20454-0.20455-0.20454-0.20455-0.20454-0.20455-0.20454-0.20455-0.20454-0.20454-0.20455-0.20454-0.20455-0.20454-0.20455-0.20454-0.20455-0.20454-0.20455-0.20454-0.20454-0.20455-0.20454-0.20455-0.20454-0.20455-0.20454-0.20455-0.20454-0.20455-0.20454-0.20454-0.20455-0.20454-0.20455-0.20454-0.20455-0.20454-0.20455-0.20454-0.20455-0.20454-0.20454-0.20455-0.20454-0.20455-0.20454-0.20455-0.20454-0.20455-0.20454-0.20455-0.20454-0.20454-0.20455-0.20454-0.20455-0.20454-0.20455-0.20454-0.20455-0.20454-0.20455-0.20454-0.20454-0.20455-0.20454-0.20455-0.20454-0.20455-0.20454-0.20455-0.20454-0.20455-0.20454-0.20454-0.20455-0.20454-0.20455-0.20454-0.20455-0.20454-0.20455-0.20454-0.20455-0.20454-0.20454-0.20455-0.20454-0.20455-0.20454-0.20455-0.20454-0.20455-0.20454-76.091-76.091-0.20455-0.20454-0.20455-0.20454-0.20455-0.20454-0.20454-0.20455-0.20454-0.20455-0.20454-0.20455-0.20454-0.20455-0.20454-0.20455-0.20454-0.20454-0.20455-0.20454-0.20455-0.20454-0.20455-0.20454-0.20455-0.20454-0.20455-0.20454-0.20454-0.20455-0.20454-0.20455-0.20454-0.20455-0.20454-0.20455-0.20454-0.20455-0.20454-0.20454-0.20455-0.20454-0.20455-0.20454-0.20455-0.20454-0.20455-0.20454-0.20455-0.20454-0.20454-0.20455-0.20454-0.20455-0.20454-0.20455-0.20454-0.20455-0.20454-0.20455-0.20454-0.20454-0.20455-0.20454-0.20455-0.20454-0.20455-0.20454-0.20455-0.20454-0.20455-0.20454-0.20454-0.20455-0.20454-0.20455-0.20454-0.20455-0.20454-0.20455-0.20454-0.20455-0.20454-0.20454-0.20455-0.20454-0.20455-0.20454-0.20455-0.20454-0.20455-0.20454-0.20455-0.20454-0.20454-0.20455-0.20454-0.20455-0.20454-0.20455-0.20454-0.20455-0.20454-0.20455-0.20454-0.20454-0.20455-0.20454-0.20455-0.20454-0.20455-0.20454-0.20455-0.20454-0.20455-0.20454-0.20454-0.20455-0.20454-0.20455-0.20454-0.20455-0.20454-0.20455-0.20454-0.20455-0.20454-0.20454z\"/></defs><g clip-path=\"url(#p684757f85c)\"><use y=\"289.302599\" fill=\"#760019\" fill-opacity=\".3\" xlink:href=\"#m0edf582104\"/></g><path d=\"m62.353 242.07v-219.93\" fill=\"none\" stroke=\"#343a3f\" stroke-linecap=\"square\" stroke-width=\".8\"/><path d=\"m62.353 242.07h725.4\" fill=\"none\" stroke=\"#343a3f\" stroke-linecap=\"square\" stroke-width=\".8\"/><path d=\"m308.87 242.07v-219.93\" clip-path=\"url(#p684757f85c)\" fill=\"none\" stroke=\"#f2f3f4\" stroke-linecap=\"square\" stroke-width=\"6\"/><g transform=\"translate(86.926 107.25) scale(.2 -.2)\"><defs><path id=\"DejaVuSans-21ba\" transform=\"scale(.015625)\" d=\"m1606 3334q-212-206-312-459-103-253-103-544 0-281 103-534t309-459q188-185 456-307 232-103 528-103 297 0 541 103 256 110 456 307 207 206 310 459t103 534q0 291-103 544-106 253-313 459l-109 110v-1031h-531v1737l200 200h1737v-531h-1031l109-110q282-281 428-631 144-350 144-747 0-387-144-737-150-353-428-631-262-260-625-422-322-144-737-144-400 0-738 144-350 150-625 422-278 278-428 631-144 350-144 737 0 397 144 747 141 335 428 631l375-375z\"/></defs><use transform=\"translate(0 .03125)\" xlink:href=\"#DejaVuSans-21ba\"/></g><g transform=\"translate(46.186 73.203) scale(.12 -.12)\"><defs><path id=\"DejaVuSans-394\" transform=\"scale(.015625)\" d=\"m2188 4044-1282-3519h2566l-1284 3519zm-2138-4044 1781 4666h716l1778-4666h-4275z\"/><path id=\"DejaVuSans-Oblique-66\" transform=\"scale(.015625)\" d=\"m3059 4863-90-479h-550q-313 0-455-123t-211-452l-62-309h947l-85-447h-947l-593-3053h-579l597 3053h-550l82 447h550l46 244q119 619 417 869 299 250 940 250h543z\"/><path id=\"DejaVuSans-3d\" transform=\"scale(.015625)\" d=\"m678 2906h4006v-525h-4006v525zm0-1275h4006v-531h-4006v531z\"/><path id=\"DejaVuSans-2212\" transform=\"scale(.015625)\" d=\"m678 2272h4006v-531h-4006v531z\"/><path id=\"DejaVuSans-2e\" transform=\"scale(.015625)\" d=\"m684 794h660v-794h-660v794z\"/><path id=\"DejaVuSans-4d\" transform=\"scale(.015625)\" d=\"m628 4666h941l1190-3175 1197 3175h941v-4666h-616v4097l-1203-3200h-634l-1203 3200v-4097h-613v4666z\"/><path id=\"DejaVuSans-48\" transform=\"scale(.015625)\" d=\"m628 4666h631v-1913h2294v1913h631v-4666h-631v2222h-2294v-2222h-631v4666z\"/><path id=\"DejaVuSans-7a\" transform=\"scale(.015625)\" d=\"m353 3500h2731v-525l-2162-2516h2162v-459h-2809v525l2163 2516h-2085v459z\"/></defs><use transform=\"translate(0 .015625)\" xlink:href=\"#DejaVuSans-394\"/><use transform=\"translate(68.408 .015625)\" xlink:href=\"#DejaVuSans-Oblique-66\"/><use transform=\"translate(123.1 .015625)\" xlink:href=\"#DejaVuSans-3d\"/><use transform=\"translate(245.85 .015625)\" xlink:href=\"#DejaVuSans-2212\"/><use transform=\"translate(349.12 .015625)\" xlink:href=\"#DejaVuSans-30\"/><use transform=\"translate(412.74 .015625)\" xlink:href=\"#DejaVuSans-2e\"/><use transform=\"translate(444.53 .015625)\" xlink:href=\"#DejaVuSans-30\"/><use transform=\"translate(508.15 .015625)\" xlink:href=\"#DejaVuSans-37\"/><use transform=\"translate(604.25 .015625)\" xlink:href=\"#DejaVuSans-4d\"/><use transform=\"translate(690.53 .015625)\" xlink:href=\"#DejaVuSans-48\"/><use transform=\"translate(765.72 .015625)\" xlink:href=\"#DejaVuSans-7a\"/></g><g transform=\"translate(120.07 120.96) scale(.12 -.12)\" fill=\"#222222\"><defs><path id=\"DejaVuSans-52\" transform=\"scale(.015625)\" d=\"m2841 2188q203-69 395-294t386-619l641-1275h-679l-596 1197q-232 469-449 622t-592 153h-688v-1972h-631v4666h1425q800 0 1194-335 394-334 394-1009 0-441-205-732-205-290-595-402zm-1582 1959v-1656h794q456 0 689 211t233 620-233 617-689 208h-794z\"/><path id=\"DejaVuSans-61\" transform=\"scale(.015625)\" d=\"m2194 1759q-697 0-966-159t-269-544q0-306 202-486 202-179 548-179 479 0 768 339t289 901v128h-572zm1147 238v-1997h-575v531q-197-318-491-470t-719-152q-537 0-855 302-317 302-317 808 0 590 395 890 396 300 1180 300h807v57q0 397-261 614t-733 217q-300 0-585-72-284-72-546-216v532q315 122 612 182 297 61 578 61 760 0 1135-394 375-393 375-1193z\"/><path id=\"DejaVuSans-62\" transform=\"scale(.015625)\" d=\"m3116 1747q0 634-261 995t-717 361q-457 0-718-361t-261-995 261-995 718-361q456 0 717 361t261 995zm-1957 1222q182 312 458 463 277 152 661 152 638 0 1036-506 399-506 399-1331t-399-1332q-398-506-1036-506-384 0-661 152-276 152-458 464v-525h-578v4863h578v-1894z\"/><path id=\"DejaVuSans-50\" transform=\"scale(.015625)\" d=\"m1259 4147v-1753h794q441 0 681 228 241 228 241 650 0 419-241 647-240 228-681 228h-794zm-631 519h1425q785 0 1186-355 402-355 402-1039 0-691-402-1044-401-353-1186-353h-794v-1875h-631v4666z\"/><path id=\"DejaVuSans-75\" transform=\"scale(.015625)\" d=\"m544 1381v2119h575v-2097q0-497 193-746 194-248 582-248 465 0 735 297 271 297 271 810v1984h575v-3500h-575v538q-209-319-486-474-276-155-642-155-603 0-916 375-312 375-312 1097zm1447 2203z\"/><path id=\"DejaVuSans-6c\" transform=\"scale(.015625)\" d=\"m603 4863h575v-4863h-575v4863z\"/></defs><use xlink:href=\"#DejaVuSans-52\"/><use x=\"67.232422\" xlink:href=\"#DejaVuSans-61\"/><use x=\"128.511719\" xlink:href=\"#DejaVuSans-62\"/><use x=\"191.988281\" xlink:href=\"#DejaVuSans-69\"/><use x=\"219.771484\" xlink:href=\"#DejaVuSans-20\"/><use x=\"251.558594\" xlink:href=\"#DejaVuSans-50\"/><use x=\"310.111328\" xlink:href=\"#DejaVuSans-75\"/><use x=\"373.490234\" xlink:href=\"#DejaVuSans-6c\"/><use x=\"401.273438\" xlink:href=\"#DejaVuSans-73\"/><use x=\"453.373047\" xlink:href=\"#DejaVuSans-65\"/></g><g transform=\"translate(41.259 105.87) scale(.15 -.15)\"><defs><path id=\"DejaVuSans-44\" transform=\"scale(.015625)\" d=\"m1259 4147v-3628h763q966 0 1414 437 448 438 448 1382 0 937-448 1373t-1414 436h-763zm-631 519h1297q1356 0 1990-564 635-564 635-1764 0-1207-638-1773-637-565-1987-565h-1297v4666z\"/></defs><use xlink:href=\"#DejaVuSans-44\"/><use x=\"77.001953\" xlink:href=\"#DejaVuSans-30\"/></g><g transform=\"translate(7.2 120.96) scale(.12 -.12)\"><defs><path id=\"DejaVuSans-34\" transform=\"scale(.015625)\" d=\"m2419 4116-1594-2491h1594v2491zm-166 550h794v-3041h666v-525h-666v-1100h-628v1100h-2106v609l1940 2957z\"/><path id=\"DejaVuSans-39\" transform=\"scale(.015625)\" d=\"m703 97v575q238-113 481-172 244-59 479-59 625 0 954 420 330 420 377 1277-181-269-460-413-278-144-615-144-700 0-1108 423-408 424-408 1159 0 718 425 1152 425 435 1131 435 810 0 1236-621 427-620 427-1801 0-1103-524-1761-523-658-1407-658-238 0-482 47-243 47-506 141zm1256 1978q425 0 673 290 249 291 249 798 0 503-249 795-248 292-673 292t-673-292-248-795q0-507 248-798 248-290 673-290z\"/><path id=\"DejaVuSans-47\" transform=\"scale(.015625)\" d=\"m3809 666v1253h-1031v519h1656v-2004q-365-259-806-392-440-133-940-133-1094 0-1712 639-617 640-617 1780 0 1144 617 1783 618 639 1712 639 456 0 867-113 411-112 758-331v-672q-350 297-744 447t-828 150q-857 0-1287-478-429-478-429-1425 0-944 429-1422 430-478 1287-478 334 0 596 58 263 58 472 180z\"/></defs><use xlink:href=\"#DejaVuSans-34\"/><use x=\"63.623047\" xlink:href=\"#DejaVuSans-2e\"/><use x=\"95.410156\" xlink:href=\"#DejaVuSans-39\"/><use x=\"159.033203\" xlink:href=\"#DejaVuSans-36\"/><use x=\"222.65625\" xlink:href=\"#DejaVuSans-20\"/><use x=\"254.443359\" xlink:href=\"#DejaVuSans-47\"/><use x=\"331.933594\" xlink:href=\"#DejaVuSans-48\"/><use x=\"407.128906\" xlink:href=\"#DejaVuSans-7a\"/></g><g transform=\"translate(313.92 97.591) rotate(180) scale(.15 -.15)\" fill=\"#343a3f\"><defs><path id=\"DejaVuSans-2f\" transform=\"scale(.015625)\" d=\"m1625 4666h531l-1625-5260h-531l1625 5260z\"/></defs><use xlink:href=\"#DejaVuSans-2f\"/><use x=\"33.691406\" xlink:href=\"#DejaVuSans-2f\"/></g><g transform=\"translate(291.03 205.59) scale(.12 -.12)\" fill=\"#222222\"><defs><path id=\"DejaVuSans-5f\" transform=\"scale(.015625)\" d=\"m3263-1063v-446h-3326v446h3326z\"/></defs><use xlink:href=\"#DejaVuSans-4d\"/><use x=\"86.279297\" xlink:href=\"#DejaVuSans-5f\"/><use x=\"136.279297\" xlink:href=\"#DejaVuSans-6d\"/><use x=\"233.691406\" xlink:href=\"#DejaVuSans-30\"/></g><g transform=\"translate(565.76 205.86) scale(.12 -.12)\" fill=\"#222222\"><defs><path id=\"DejaVuSans-79\" transform=\"scale(.015625)\" d=\"m2059-325q-243-625-475-815-231-191-618-191h-460v481h338q237 0 368 113 132 112 291 531l103 262-1415 3444h609l1094-2737 1094 2737h609l-1538-3825z\"/></defs><use xlink:href=\"#DejaVuSans-44\"/><use x=\"77.001953\" xlink:href=\"#DejaVuSans-65\"/><use x=\"138.525391\" xlink:href=\"#DejaVuSans-6c\"/><use x=\"166.308594\" xlink:href=\"#DejaVuSans-61\"/><use x=\"227.587891\" xlink:href=\"#DejaVuSans-79\"/></g><g transform=\"translate(39.867 190.77) scale(.15 -.15)\"><use xlink:href=\"#DejaVuSans-4d\"/><use x=\"86.279297\" xlink:href=\"#DejaVuSans-30\"/></g><g transform=\"translate(7.2 205.86) scale(.12 -.12)\"><use xlink:href=\"#DejaVuSans-37\"/><use x=\"63.623047\" xlink:href=\"#DejaVuSans-2e\"/><use x=\"95.410156\" xlink:href=\"#DejaVuSans-31\"/><use x=\"159.033203\" xlink:href=\"#DejaVuSans-36\"/><use x=\"222.65625\" xlink:href=\"#DejaVuSans-20\"/><use x=\"254.443359\" xlink:href=\"#DejaVuSans-47\"/><use x=\"331.933594\" xlink:href=\"#DejaVuSans-48\"/><use x=\"407.128906\" xlink:href=\"#DejaVuSans-7a\"/></g><g transform=\"translate(313.92 182.49) rotate(180) scale(.15 -.15)\" fill=\"#343a3f\"><use xlink:href=\"#DejaVuSans-2f\"/><use x=\"33.691406\" xlink:href=\"#DejaVuSans-2f\"/></g><g transform=\"translate(62.353 18.598) scale(.15 -.15)\"><defs><path id=\"DejaVuSans-4e\" transform=\"scale(.015625)\" d=\"m628 4666h850l2069-3903v3903h612v-4666h-850l-2068 3903v-3903h-613v4666z\"/><path id=\"DejaVuSans-3a\" transform=\"scale(.015625)\" d=\"m750 794h659v-794h-659v794zm0 2515h659v-793h-659v793z\"/><path id=\"DejaVuSans-63\" transform=\"scale(.015625)\" d=\"m3122 3366v-538q-244 135-489 202t-495 67q-560 0-870-355-309-354-309-995t309-996q310-354 870-354 250 0 495 67t489 202v-532q-241-112-499-168-257-57-548-57-791 0-1257 497-465 497-465 1341 0 856 470 1346 471 491 1290 491 265 0 518-55 253-54 491-163z\"/><path id=\"DejaVuSans-72\" transform=\"scale(.015625)\" d=\"m2631 2963q-97 56-211 82-114 27-251 27-488 0-749-317t-261-911v-1844h-578v3500h578v-544q182 319 472 473 291 155 707 155 59 0 131-8 72-7 159-23l3-590z\"/><path id=\"DejaVuSans-74\" transform=\"scale(.015625)\" d=\"m1172 4494v-994h1184v-447h-1184v-1900q0-428 117-550t477-122h590v-481h-590q-666 0-919 248-253 249-253 905v1900h-422v447h422v994h578z\"/><path id=\"DejaVuSans-2d\" transform=\"scale(.015625)\" d=\"m313 2009h1684v-512h-1684v512z\"/><path id=\"DejaVuSans-2c\" transform=\"scale(.015625)\" d=\"m750 794h659v-538l-512-1e3h-403l256 1e3v538z\"/><path id=\"DejaVuSans-6f\" transform=\"scale(.015625)\" d=\"m1959 3097q-462 0-731-361t-269-989 267-989q268-361 733-361 460 0 728 362 269 363 269 988 0 622-269 986-268 364-728 364zm0 487q750 0 1178-488 429-487 429-1349 0-859-429-1349-428-489-1178-489-753 0-1180 489-426 490-426 1349 0 862 426 1349 427 488 1180 488z\"/><path id=\"DejaVuSans-42\" transform=\"scale(.015625)\" d=\"m1259 2228v-1709h1013q509 0 754 211 246 211 246 645 0 438-246 645-245 208-754 208h-1013zm0 1919v-1406h935q462 0 688 173 227 174 227 530 0 353-227 528-226 175-688 175h-935zm-631 519h1613q722 0 1112-300 391-300 391-853 0-429-200-682t-588-315q466-100 724-418 258-317 258-792 0-625-425-966-425-340-1210-340h-1675v4666z\"/><path id=\"DejaVuSans-6b\" transform=\"scale(.015625)\" d=\"m581 4863h578v-2872l1716 1509h734l-1856-1637 1935-1863h-750l-1779 1709v-1709h-578v4863z\"/><path id=\"DejaVuSans-64\" transform=\"scale(.015625)\" d=\"m2906 2969v1894h575v-4863h-575v525q-181-312-458-464-276-152-664-152-634 0-1033 506-398 507-398 1332t398 1331q399 506 1033 506 388 0 664-152 277-151 458-463zm-1959-1222q0-634 261-995t717-361 718 361q263 361 263 995t-263 995q-262 361-718 361t-717-361-261-995z\"/><path id=\"DejaVuSans-71\" transform=\"scale(.015625)\" d=\"m947 1747q0-634 261-995t717-361 718 361q263 361 263 995t-263 995q-262 361-718 361t-717-361-261-995zm1959-1222q-181-312-458-464-276-152-664-152-634 0-1033 506-398 507-398 1332t398 1331q399 506 1033 506 388 0 664-152 277-151 458-463v531h575v-4831h-575v1856z\"/></defs><use xlink:href=\"#DejaVuSans-4e\"/><use x=\"74.804688\" xlink:href=\"#DejaVuSans-61\"/><use x=\"136.083984\" xlink:href=\"#DejaVuSans-6d\"/><use x=\"233.496094\" xlink:href=\"#DejaVuSans-65\"/><use x=\"295.019531\" xlink:href=\"#DejaVuSans-3a\"/><use x=\"328.710938\" xlink:href=\"#DejaVuSans-20\"/><use x=\"360.498047\" xlink:href=\"#DejaVuSans-63\"/><use x=\"415.478516\" xlink:href=\"#DejaVuSans-69\"/><use x=\"443.261719\" xlink:href=\"#DejaVuSans-72\"/><use x=\"482.125\" xlink:href=\"#DejaVuSans-63\"/><use x=\"537.105469\" xlink:href=\"#DejaVuSans-75\"/><use x=\"600.484375\" xlink:href=\"#DejaVuSans-69\"/><use x=\"628.267578\" xlink:href=\"#DejaVuSans-74\"/><use x=\"667.476562\" xlink:href=\"#DejaVuSans-2d\"/><use x=\"703.560547\" xlink:href=\"#DejaVuSans-31\"/><use x=\"767.183594\" xlink:href=\"#DejaVuSans-37\"/><use x=\"830.806641\" xlink:href=\"#DejaVuSans-38\"/><use x=\"894.429688\" xlink:href=\"#DejaVuSans-2c\"/><use x=\"926.216797\" xlink:href=\"#DejaVuSans-20\"/><use x=\"958.003906\" xlink:href=\"#DejaVuSans-44\"/><use x=\"1035.005859\" xlink:href=\"#DejaVuSans-75\"/><use x=\"1098.384766\" xlink:href=\"#DejaVuSans-72\"/><use x=\"1139.498047\" xlink:href=\"#DejaVuSans-61\"/><use x=\"1200.777344\" xlink:href=\"#DejaVuSans-74\"/><use x=\"1239.986328\" xlink:href=\"#DejaVuSans-69\"/><use x=\"1267.769531\" xlink:href=\"#DejaVuSans-6f\"/><use x=\"1328.951172\" xlink:href=\"#DejaVuSans-6e\"/><use x=\"1392.330078\" xlink:href=\"#DejaVuSans-3a\"/><use x=\"1426.021484\" xlink:href=\"#DejaVuSans-20\"/><use x=\"1457.808594\" xlink:href=\"#DejaVuSans-35\"/><use x=\"1521.431641\" xlink:href=\"#DejaVuSans-34\"/><use x=\"1585.054688\" xlink:href=\"#DejaVuSans-37\"/><use x=\"1648.677734\" xlink:href=\"#DejaVuSans-32\"/><use x=\"1712.300781\" xlink:href=\"#DejaVuSans-2e\"/><use x=\"1744.087891\" xlink:href=\"#DejaVuSans-30\"/><use x=\"1807.710938\" xlink:href=\"#DejaVuSans-20\"/><use x=\"1839.498047\" xlink:href=\"#DejaVuSans-6e\"/><use x=\"1902.876953\" xlink:href=\"#DejaVuSans-73\"/><use x=\"1954.976562\" xlink:href=\"#DejaVuSans-2c\"/><use x=\"1986.763672\" xlink:href=\"#DejaVuSans-20\"/><use x=\"2018.550781\" xlink:href=\"#DejaVuSans-42\"/><use x=\"2087.154297\" xlink:href=\"#DejaVuSans-61\"/><use x=\"2148.433594\" xlink:href=\"#DejaVuSans-63\"/><use x=\"2203.414062\" xlink:href=\"#DejaVuSans-6b\"/><use x=\"2257.699219\" xlink:href=\"#DejaVuSans-65\"/><use x=\"2319.222656\" xlink:href=\"#DejaVuSans-6e\"/><use x=\"2382.601562\" xlink:href=\"#DejaVuSans-64\"/><use x=\"2446.078125\" xlink:href=\"#DejaVuSans-3a\"/><use x=\"2479.769531\" xlink:href=\"#DejaVuSans-20\"/><use x=\"2511.556641\" xlink:href=\"#DejaVuSans-69\"/><use x=\"2539.339844\" xlink:href=\"#DejaVuSans-62\"/><use x=\"2602.816406\" xlink:href=\"#DejaVuSans-6d\"/><use x=\"2700.228516\" xlink:href=\"#DejaVuSans-71\"/><use x=\"2763.705078\" xlink:href=\"#DejaVuSans-5f\"/><use x=\"2813.705078\" xlink:href=\"#DejaVuSans-6d\"/><use x=\"2911.117188\" xlink:href=\"#DejaVuSans-61\"/><use x=\"2972.396484\" xlink:href=\"#DejaVuSans-6e\"/><use x=\"3035.775391\" xlink:href=\"#DejaVuSans-69\"/><use x=\"3063.558594\" xlink:href=\"#DejaVuSans-6c\"/><use x=\"3091.341797\" xlink:href=\"#DejaVuSans-61\"/></g><defs><clipPath id=\"p684757f85c\"><rect x=\"62.353\" y=\"22.134\" width=\"725.4\" height=\"219.93\"/></clipPath></defs></svg>"
      ],
      "text/plain": [
       "<Figure size 1300x396.706 with 1 Axes>"
      ]
     },
     "execution_count": 27,
     "metadata": {},
     "output_type": "execute_result"
    }
   ],
   "source": [
    "rabi_schedule = schedule(exp_rabi_circs[-1], backend)\n",
    "rabi_schedule.draw(backend=backend)"
   ]
  },
  {
   "cell_type": "code",
   "execution_count": 28,
   "metadata": {
    "tags": [
     "uses-hardware"
    ]
   },
   "outputs": [],
   "source": [
    "num_shots_per_point = 1024\n",
    "\n",
    "# job = backend.run(exp_rabi_circs, \n",
    "#                   meas_level=1, \n",
    "#                   meas_return='avg', \n",
    "#                   shots=num_shots_per_point)\n",
    "\n",
    "# job_monitor(job)\n",
    "job = backend.retrieve_job('63905924db0f0dd8b192495e')"
   ]
  },
  {
   "cell_type": "code",
   "execution_count": 29,
   "metadata": {
    "tags": [
     "uses-hardware"
    ]
   },
   "outputs": [],
   "source": [
    "rabi_results = job.result(timeout=120)"
   ]
  },
  {
   "cell_type": "markdown",
   "metadata": {},
   "source": [
    "Now that we have our results, we will extract them and fit them to a sinusoidal curve. For the range of drive amplitudes we selected, we expect that we will rotate the qubit several times completely around the Bloch sphere, starting from $|0\\rangle$. The amplitude of this sinusoid tells us the fraction of the shots at that Rabi drive amplitude which yielded the $|1\\rangle$ state.  We want to find the drive amplitude needed for the signal to oscillate from a maximum (all $|0\\rangle$ state) to a minimum (all $|1\\rangle$ state) -- this gives the calibrated amplitude that enacts a $\\pi$ pulse."
   ]
  },
  {
   "cell_type": "code",
   "execution_count": 30,
   "metadata": {
    "tags": [
     "uses-hardware"
    ]
   },
   "outputs": [],
   "source": [
    "# center data around 0\n",
    "def baseline_remove(values):\n",
    "    return np.array(values) - np.mean(values)"
   ]
  },
  {
   "cell_type": "code",
   "execution_count": 31,
   "metadata": {
    "tags": [
     "uses-hardware"
    ]
   },
   "outputs": [
    {
     "data": {
      "image/svg+xml": [
       "<?xml version=\"1.0\" encoding=\"UTF-8\"?><!DOCTYPE svg  PUBLIC '-//W3C//DTD SVG 1.1//EN'  'http://www.w3.org/Graphics/SVG/1.1/DTD/svg11.dtd'><svg width=\"406.94pt\" height=\"310.87pt\" version=\"1.1\" viewBox=\"0 0 406.94 310.87\" xmlns=\"http://www.w3.org/2000/svg\" xmlns:xlink=\"http://www.w3.org/1999/xlink\"><defs><style type=\"text/css\">*{stroke-linejoin: round; stroke-linecap: butt}</style></defs><path d=\"m0 310.87h406.94v-310.87h-406.94z\" fill=\"#ffffff\"/><path d=\"m42.62 273.31h357.12v-266.11h-357.12z\" fill=\"#ffffff\"/><defs><path id=\"ma971c074aa\" d=\"m0 3c0.79561 0 1.5587-0.3161 2.1213-0.87868 0.56258-0.56258 0.87868-1.3257 0.87868-2.1213s-0.3161-1.5587-0.87868-2.1213c-0.56258-0.56258-1.3257-0.87868-2.1213-0.87868s-1.5587 0.3161-2.1213 0.87868c-0.56258 0.56258-0.87868 1.3257-0.87868 2.1213s0.3161 1.5587 0.87868 2.1213c0.56258 0.56258 1.3257 0.87868 2.1213 0.87868z\" stroke=\"#000000\"/></defs><g clip-path=\"url(#p83eb0f1116)\" stroke=\"#000000\"><use x=\"58.85304\" y=\"261.216\" xlink:href=\"#ma971c074aa\"/><use x=\"65.478643\" y=\"245.654004\" xlink:href=\"#ma971c074aa\"/><use x=\"72.104246\" y=\"200.393466\" xlink:href=\"#ma971c074aa\"/><use x=\"78.729849\" y=\"142.379098\" xlink:href=\"#ma971c074aa\"/><use x=\"85.355452\" y=\"84.06373\" xlink:href=\"#ma971c074aa\"/><use x=\"91.981055\" y=\"36.852392\" xlink:href=\"#ma971c074aa\"/><use x=\"98.606658\" y=\"19.445307\" xlink:href=\"#ma971c074aa\"/><use x=\"105.232261\" y=\"35.830323\" xlink:href=\"#ma971c074aa\"/><use x=\"111.857864\" y=\"83.715401\" xlink:href=\"#ma971c074aa\"/><use x=\"118.483466\" y=\"143.07976\" xlink:href=\"#ma971c074aa\"/><use x=\"125.109069\" y=\"203.103806\" xlink:href=\"#ma971c074aa\"/><use x=\"131.734672\" y=\"243.080764\" xlink:href=\"#ma971c074aa\"/><use x=\"138.360275\" y=\"257.525192\" xlink:href=\"#ma971c074aa\"/><use x=\"144.985878\" y=\"245.41965\" xlink:href=\"#ma971c074aa\"/><use x=\"151.611481\" y=\"200.278243\" xlink:href=\"#ma971c074aa\"/><use x=\"158.237084\" y=\"129.020778\" xlink:href=\"#ma971c074aa\"/><use x=\"164.862687\" y=\"78.198044\" xlink:href=\"#ma971c074aa\"/><use x=\"171.48829\" y=\"35.805192\" xlink:href=\"#ma971c074aa\"/><use x=\"178.113893\" y=\"19.296\" xlink:href=\"#ma971c074aa\"/><use x=\"184.739496\" y=\"34.121794\" xlink:href=\"#ma971c074aa\"/><use x=\"191.365099\" y=\"80.068003\" xlink:href=\"#ma971c074aa\"/><use x=\"197.990702\" y=\"137.047299\" xlink:href=\"#ma971c074aa\"/><use x=\"204.616305\" y=\"199.231283\" xlink:href=\"#ma971c074aa\"/><use x=\"211.241908\" y=\"239.287859\" xlink:href=\"#ma971c074aa\"/><use x=\"217.867511\" y=\"259.092838\" xlink:href=\"#ma971c074aa\"/><use x=\"224.493114\" y=\"242.30505\" xlink:href=\"#ma971c074aa\"/><use x=\"231.118717\" y=\"197.786686\" xlink:href=\"#ma971c074aa\"/><use x=\"237.74432\" y=\"145.664547\" xlink:href=\"#ma971c074aa\"/><use x=\"244.369923\" y=\"82.181568\" xlink:href=\"#ma971c074aa\"/><use x=\"250.995526\" y=\"41.636489\" xlink:href=\"#ma971c074aa\"/><use x=\"257.621129\" y=\"23.809497\" xlink:href=\"#ma971c074aa\"/><use x=\"264.246732\" y=\"35.014669\" xlink:href=\"#ma971c074aa\"/><use x=\"270.872335\" y=\"67.107359\" xlink:href=\"#ma971c074aa\"/><use x=\"277.497938\" y=\"128.988315\" xlink:href=\"#ma971c074aa\"/><use x=\"284.123541\" y=\"184.669421\" xlink:href=\"#ma971c074aa\"/><use x=\"290.749144\" y=\"237.088138\" xlink:href=\"#ma971c074aa\"/><use x=\"297.374747\" y=\"256.138199\" xlink:href=\"#ma971c074aa\"/><use x=\"304.00035\" y=\"251.139477\" xlink:href=\"#ma971c074aa\"/><use x=\"310.625953\" y=\"217.036927\" xlink:href=\"#ma971c074aa\"/><use x=\"317.251556\" y=\"160.142243\" xlink:href=\"#ma971c074aa\"/><use x=\"323.877159\" y=\"106.283284\" xlink:href=\"#ma971c074aa\"/><use x=\"330.502761\" y=\"59.357055\" xlink:href=\"#ma971c074aa\"/><use x=\"337.128364\" y=\"22.117847\" xlink:href=\"#ma971c074aa\"/><use x=\"343.753967\" y=\"19.800271\" xlink:href=\"#ma971c074aa\"/><use x=\"350.37957\" y=\"42.48193\" xlink:href=\"#ma971c074aa\"/><use x=\"357.005173\" y=\"85.794679\" xlink:href=\"#ma971c074aa\"/><use x=\"363.630776\" y=\"154.244427\" xlink:href=\"#ma971c074aa\"/><use x=\"370.256379\" y=\"203.499574\" xlink:href=\"#ma971c074aa\"/><use x=\"376.881982\" y=\"238.57033\" xlink:href=\"#ma971c074aa\"/><use x=\"383.507585\" y=\"259.465236\" xlink:href=\"#ma971c074aa\"/></g><defs><path id=\"m6b961f6dc8\" d=\"m0 0v3.5\" stroke=\"#343a3f\" stroke-width=\".8\"/></defs><use x=\"58.85304\" y=\"273.312\" fill=\"#343a3f\" stroke=\"#343a3f\" stroke-width=\".8\" xlink:href=\"#m6b961f6dc8\"/><g transform=\"translate(50.901 287.91) scale(.1 -.1)\" fill=\"#343a3f\"><defs><path id=\"DejaVuSans-30\" transform=\"scale(.015625)\" d=\"m2034 4250q-487 0-733-480-245-479-245-1442 0-959 245-1439 246-480 733-480 491 0 736 480 246 480 246 1439 0 963-246 1442-245 480-736 480zm0 500q785 0 1199-621 414-620 414-1801 0-1178-414-1799-414-620-1199-620-784 0-1198 620-414 621-414 1799 0 1181 414 1801 414 621 1198 621z\"/><path id=\"DejaVuSans-2e\" transform=\"scale(.015625)\" d=\"m684 794h660v-794h-660v794z\"/></defs><use xlink:href=\"#DejaVuSans-30\"/><use x=\"63.623047\" xlink:href=\"#DejaVuSans-2e\"/><use x=\"95.410156\" xlink:href=\"#DejaVuSans-30\"/></g><use x=\"102.140313\" y=\"273.312\" fill=\"#343a3f\" stroke=\"#343a3f\" stroke-width=\".8\" xlink:href=\"#m6b961f6dc8\"/><g transform=\"translate(94.189 287.91) scale(.1 -.1)\" fill=\"#343a3f\"><defs><path id=\"DejaVuSans-31\" transform=\"scale(.015625)\" d=\"m794 531h1031v3560l-1122-225v575l1116 225h631v-4135h1031v-531h-2687v531z\"/></defs><use xlink:href=\"#DejaVuSans-30\"/><use x=\"63.623047\" xlink:href=\"#DejaVuSans-2e\"/><use x=\"95.410156\" xlink:href=\"#DejaVuSans-31\"/></g><use x=\"145.427585\" y=\"273.312\" fill=\"#343a3f\" stroke=\"#343a3f\" stroke-width=\".8\" xlink:href=\"#m6b961f6dc8\"/><g transform=\"translate(137.48 287.91) scale(.1 -.1)\" fill=\"#343a3f\"><defs><path id=\"DejaVuSans-32\" transform=\"scale(.015625)\" d=\"m1228 531h2203v-531h-2962v531q359 372 979 998 621 627 780 809 303 340 423 576 121 236 121 464 0 372-261 606-261 235-680 235-297 0-627-103-329-103-704-313v638q381 153 712 231 332 78 607 78 725 0 1156-363 431-362 431-968 0-288-108-546-107-257-392-607-78-91-497-524-418-433-1181-1211z\"/></defs><use xlink:href=\"#DejaVuSans-30\"/><use x=\"63.623047\" xlink:href=\"#DejaVuSans-2e\"/><use x=\"95.410156\" xlink:href=\"#DejaVuSans-32\"/></g><use x=\"188.714858\" y=\"273.312\" fill=\"#343a3f\" stroke=\"#343a3f\" stroke-width=\".8\" xlink:href=\"#m6b961f6dc8\"/><g transform=\"translate(180.76 287.91) scale(.1 -.1)\" fill=\"#343a3f\"><defs><path id=\"DejaVuSans-33\" transform=\"scale(.015625)\" d=\"m2597 2516q453-97 707-404 255-306 255-756 0-690-475-1069-475-378-1350-378-293 0-604 58t-642 174v609q262-153 574-231 313-78 654-78 593 0 904 234t311 681q0 413-289 645-289 233-804 233h-544v519h569q465 0 712 186t247 536q0 359-255 551-254 193-729 193-260 0-557-57-297-56-653-174v562q360 100 674 150t592 50q719 0 1137-327 419-326 419-882 0-388-222-655t-631-370z\"/></defs><use xlink:href=\"#DejaVuSans-30\"/><use x=\"63.623047\" xlink:href=\"#DejaVuSans-2e\"/><use x=\"95.410156\" xlink:href=\"#DejaVuSans-33\"/></g><use x=\"232.002131\" y=\"273.312\" fill=\"#343a3f\" stroke=\"#343a3f\" stroke-width=\".8\" xlink:href=\"#m6b961f6dc8\"/><g transform=\"translate(224.05 287.91) scale(.1 -.1)\" fill=\"#343a3f\"><defs><path id=\"DejaVuSans-34\" transform=\"scale(.015625)\" d=\"m2419 4116-1594-2491h1594v2491zm-166 550h794v-3041h666v-525h-666v-1100h-628v1100h-2106v609l1940 2957z\"/></defs><use xlink:href=\"#DejaVuSans-30\"/><use x=\"63.623047\" xlink:href=\"#DejaVuSans-2e\"/><use x=\"95.410156\" xlink:href=\"#DejaVuSans-34\"/></g><use x=\"275.289403\" y=\"273.312\" fill=\"#343a3f\" stroke=\"#343a3f\" stroke-width=\".8\" xlink:href=\"#m6b961f6dc8\"/><g transform=\"translate(267.34 287.91) scale(.1 -.1)\" fill=\"#343a3f\"><defs><path id=\"DejaVuSans-35\" transform=\"scale(.015625)\" d=\"m691 4666h2478v-532h-1900v-1143q137 47 274 70 138 23 276 23 781 0 1237-428 457-428 457-1159 0-753-469-1171-469-417-1322-417-294 0-599 50-304 50-629 150v635q281-153 581-228t634-75q541 0 856 284 316 284 316 772 0 487-316 771-315 285-856 285-253 0-505-56-251-56-513-175v2344z\"/></defs><use xlink:href=\"#DejaVuSans-30\"/><use x=\"63.623047\" xlink:href=\"#DejaVuSans-2e\"/><use x=\"95.410156\" xlink:href=\"#DejaVuSans-35\"/></g><use x=\"318.576676\" y=\"273.312\" fill=\"#343a3f\" stroke=\"#343a3f\" stroke-width=\".8\" xlink:href=\"#m6b961f6dc8\"/><g transform=\"translate(310.63 287.91) scale(.1 -.1)\" fill=\"#343a3f\"><defs><path id=\"DejaVuSans-36\" transform=\"scale(.015625)\" d=\"m2113 2584q-425 0-674-291-248-290-248-796 0-503 248-796 249-292 674-292t673 292q248 293 248 796 0 506-248 796-248 291-673 291zm1253 1979v-575q-238 112-480 171-242 60-480 60-625 0-955-422-329-422-376-1275 184 272 462 417 279 145 613 145 703 0 1111-427 408-426 408-1160 0-719-425-1154-425-434-1131-434-810 0-1238 620-428 621-428 1799 0 1106 525 1764t1409 658q238 0 480-47t505-140z\"/></defs><use xlink:href=\"#DejaVuSans-30\"/><use x=\"63.623047\" xlink:href=\"#DejaVuSans-2e\"/><use x=\"95.410156\" xlink:href=\"#DejaVuSans-36\"/></g><use x=\"361.863949\" y=\"273.312\" fill=\"#343a3f\" stroke=\"#343a3f\" stroke-width=\".8\" xlink:href=\"#m6b961f6dc8\"/><g transform=\"translate(353.91 287.91) scale(.1 -.1)\" fill=\"#343a3f\"><defs><path id=\"DejaVuSans-37\" transform=\"scale(.015625)\" d=\"m525 4666h3e3v-269l-1694-4397h-659l1594 4134h-2241v532z\"/></defs><use xlink:href=\"#DejaVuSans-30\"/><use x=\"63.623047\" xlink:href=\"#DejaVuSans-2e\"/><use x=\"95.410156\" xlink:href=\"#DejaVuSans-37\"/></g><g transform=\"translate(180.25 301.59) scale(.1 -.1)\" fill=\"#343a3f\"><defs><path id=\"DejaVuSans-44\" transform=\"scale(.015625)\" d=\"m1259 4147v-3628h763q966 0 1414 437 448 438 448 1382 0 937-448 1373t-1414 436h-763zm-631 519h1297q1356 0 1990-564 635-564 635-1764 0-1207-638-1773-637-565-1987-565h-1297v4666z\"/><path id=\"DejaVuSans-72\" transform=\"scale(.015625)\" d=\"m2631 2963q-97 56-211 82-114 27-251 27-488 0-749-317t-261-911v-1844h-578v3500h578v-544q182 319 472 473 291 155 707 155 59 0 131-8 72-7 159-23l3-590z\"/><path id=\"DejaVuSans-69\" transform=\"scale(.015625)\" d=\"m603 3500h575v-3500h-575v3500zm0 1363h575v-729h-575v729z\"/><path id=\"DejaVuSans-76\" transform=\"scale(.015625)\" d=\"m191 3500h609l1094-2937 1094 2937h609l-1313-3500h-781l-1312 3500z\"/><path id=\"DejaVuSans-65\" transform=\"scale(.015625)\" d=\"m3597 1894v-281h-2644q38-594 358-905t892-311q331 0 642 81t618 244v-544q-310-131-635-200t-659-69q-838 0-1327 487-489 488-489 1320 0 859 464 1363 464 505 1252 505 706 0 1117-455 411-454 411-1235zm-575 169q-6 471-264 752-258 282-683 282-481 0-770-272t-333-766l2050 4z\"/><path id=\"DejaVuSans-61\" transform=\"scale(.015625)\" d=\"m2194 1759q-697 0-966-159t-269-544q0-306 202-486 202-179 548-179 479 0 768 339t289 901v128h-572zm1147 238v-1997h-575v531q-197-318-491-470t-719-152q-537 0-855 302-317 302-317 808 0 590 395 890 396 300 1180 300h807v57q0 397-261 614t-733 217q-300 0-585-72-284-72-546-216v532q315 122 612 182 297 61 578 61 760 0 1135-394 375-393 375-1193z\"/><path id=\"DejaVuSans-6d\" transform=\"scale(.015625)\" d=\"m3328 2828q216 388 516 572t706 184q547 0 844-383 297-382 297-1088v-2113h-578v2094q0 503-179 746-178 244-543 244-447 0-707-297-259-296-259-809v-1978h-578v2094q0 506-178 748t-550 242q-441 0-701-298-259-298-259-808v-1978h-578v3500h578v-544q197 322 472 475t653 153q382 0 649-194 267-193 395-562z\"/><path id=\"DejaVuSans-70\" transform=\"scale(.015625)\" d=\"m1159 525v-1856h-578v4831h578v-531q182 312 458 463 277 152 661 152 638 0 1036-506 399-506 399-1331t-399-1332q-398-506-1036-506-384 0-661 152-276 152-458 464zm1957 1222q0 634-261 995t-717 361q-457 0-718-361t-261-995 261-995 718-361q456 0 717 361t261 995z\"/><path id=\"DejaVuSans-5b\" transform=\"scale(.015625)\" d=\"m550 4863h1325v-447h-750v-4813h750v-447h-1325v5707z\"/><path id=\"DejaVuSans-75\" transform=\"scale(.015625)\" d=\"m544 1381v2119h575v-2097q0-497 193-746 194-248 582-248 465 0 735 297 271 297 271 810v1984h575v-3500h-575v538q-209-319-486-474-276-155-642-155-603 0-916 375-312 375-312 1097zm1447 2203z\"/><path id=\"DejaVuSans-5d\" transform=\"scale(.015625)\" d=\"m1947 4863v-5707h-1325v447h747v4813h-747v447h1325z\"/></defs><use xlink:href=\"#DejaVuSans-44\"/><use x=\"77.001953\" xlink:href=\"#DejaVuSans-72\"/><use x=\"118.115234\" xlink:href=\"#DejaVuSans-69\"/><use x=\"145.898438\" xlink:href=\"#DejaVuSans-76\"/><use x=\"205.078125\" xlink:href=\"#DejaVuSans-65\"/><use x=\"266.601562\" xlink:href=\"#DejaVuSans-20\"/><use x=\"298.388672\" xlink:href=\"#DejaVuSans-61\"/><use x=\"359.667969\" xlink:href=\"#DejaVuSans-6d\"/><use x=\"457.080078\" xlink:href=\"#DejaVuSans-70\"/><use x=\"520.556641\" xlink:href=\"#DejaVuSans-20\"/><use x=\"552.34375\" xlink:href=\"#DejaVuSans-5b\"/><use x=\"591.357422\" xlink:href=\"#DejaVuSans-61\"/><use x=\"652.636719\" xlink:href=\"#DejaVuSans-2e\"/><use x=\"684.423828\" xlink:href=\"#DejaVuSans-75\"/><use x=\"747.802734\" xlink:href=\"#DejaVuSans-2e\"/><use x=\"779.589844\" xlink:href=\"#DejaVuSans-5d\"/></g><defs><path id=\"m5cd8be8e94\" d=\"m0 0h-3.5\" stroke=\"#343a3f\" stroke-width=\".8\"/></defs><use x=\"42.620313\" y=\"248.272979\" fill=\"#343a3f\" stroke=\"#343a3f\" stroke-width=\".8\" xlink:href=\"#m5cd8be8e94\"/><g transform=\"translate(20.878 252.07) scale(.1 -.1)\" fill=\"#343a3f\"><defs><path id=\"DejaVuSans-2212\" transform=\"scale(.015625)\" d=\"m678 2272h4006v-531h-4006v531z\"/></defs><use xlink:href=\"#DejaVuSans-2212\"/><use x=\"83.789062\" xlink:href=\"#DejaVuSans-32\"/></g><use x=\"42.620313\" y=\"194.891784\" fill=\"#343a3f\" stroke=\"#343a3f\" stroke-width=\".8\" xlink:href=\"#m5cd8be8e94\"/><g transform=\"translate(20.878 198.69) scale(.1 -.1)\" fill=\"#343a3f\"><use xlink:href=\"#DejaVuSans-2212\"/><use x=\"83.789062\" xlink:href=\"#DejaVuSans-31\"/></g><use x=\"42.620313\" y=\"141.510589\" fill=\"#343a3f\" stroke=\"#343a3f\" stroke-width=\".8\" xlink:href=\"#m5cd8be8e94\"/><g transform=\"translate(29.258 145.31) scale(.1 -.1)\" fill=\"#343a3f\"><use xlink:href=\"#DejaVuSans-30\"/></g><use x=\"42.620313\" y=\"88.129394\" fill=\"#343a3f\" stroke=\"#343a3f\" stroke-width=\".8\" xlink:href=\"#m5cd8be8e94\"/><g transform=\"translate(29.258 91.929) scale(.1 -.1)\" fill=\"#343a3f\"><use xlink:href=\"#DejaVuSans-31\"/></g><use x=\"42.620313\" y=\"34.748199\" fill=\"#343a3f\" stroke=\"#343a3f\" stroke-width=\".8\" xlink:href=\"#m5cd8be8e94\"/><g transform=\"translate(29.258 38.547) scale(.1 -.1)\" fill=\"#343a3f\"><use xlink:href=\"#DejaVuSans-32\"/></g><g transform=\"translate(14.798 195.96) rotate(-90) scale(.1 -.1)\" fill=\"#343a3f\"><defs><path id=\"DejaVuSans-4d\" transform=\"scale(.015625)\" d=\"m628 4666h941l1190-3175 1197 3175h941v-4666h-616v4097l-1203-3200h-634l-1203 3200v-4097h-613v4666z\"/><path id=\"DejaVuSans-73\" transform=\"scale(.015625)\" d=\"m2834 3397v-544q-243 125-506 187-262 63-544 63-428 0-642-131t-214-394q0-200 153-314t616-217l197-44q612-131 870-370t258-667q0-488-386-773-386-284-1061-284-281 0-586 55t-642 164v594q319-166 628-249 309-82 613-82 406 0 624 139 219 139 219 392 0 234-158 359-157 125-692 241l-200 47q-534 112-772 345-237 233-237 639 0 494 350 762 350 269 994 269 318 0 599-47 282-46 519-140z\"/><path id=\"DejaVuSans-64\" transform=\"scale(.015625)\" d=\"m2906 2969v1894h575v-4863h-575v525q-181-312-458-464-276-152-664-152-634 0-1033 506-398 507-398 1332t398 1331q399 506 1033 506 388 0 664-152 277-151 458-463zm-1959-1222q0-634 261-995t717-361 718 361q263 361 263 995t-263 995q-262 361-718 361t-717-361-261-995z\"/><path id=\"DejaVuSans-67\" transform=\"scale(.015625)\" d=\"m2906 1791q0 625-258 968-257 344-723 344-462 0-720-344-258-343-258-968 0-622 258-966t720-344q466 0 723 344 258 344 258 966zm575-1357q0-893-397-1329-396-436-1215-436-303 0-572 45t-522 139v559q253-137 500-202 247-66 503-66 566 0 847 295t281 892v285q-178-310-456-463t-666-153q-643 0-1037 490-394 491-394 1301 0 812 394 1302 394 491 1037 491 388 0 666-153t456-462v531h575v-3066z\"/><path id=\"DejaVuSans-6e\" transform=\"scale(.015625)\" d=\"m3513 2113v-2113h-575v2094q0 497-194 743-194 247-581 247-466 0-735-297-269-296-269-809v-1978h-578v3500h578v-544q207 316 486 472 280 156 646 156 603 0 912-373 310-373 310-1098z\"/><path id=\"DejaVuSans-6c\" transform=\"scale(.015625)\" d=\"m603 4863h575v-4863h-575v4863z\"/></defs><use xlink:href=\"#DejaVuSans-4d\"/><use x=\"86.279297\" xlink:href=\"#DejaVuSans-65\"/><use x=\"147.802734\" xlink:href=\"#DejaVuSans-61\"/><use x=\"209.082031\" xlink:href=\"#DejaVuSans-73\"/><use x=\"261.181641\" xlink:href=\"#DejaVuSans-75\"/><use x=\"324.560547\" xlink:href=\"#DejaVuSans-72\"/><use x=\"363.423828\" xlink:href=\"#DejaVuSans-65\"/><use x=\"424.947266\" xlink:href=\"#DejaVuSans-64\"/><use x=\"488.423828\" xlink:href=\"#DejaVuSans-20\"/><use x=\"520.210938\" xlink:href=\"#DejaVuSans-73\"/><use x=\"572.310547\" xlink:href=\"#DejaVuSans-69\"/><use x=\"600.09375\" xlink:href=\"#DejaVuSans-67\"/><use x=\"663.570312\" xlink:href=\"#DejaVuSans-6e\"/><use x=\"726.949219\" xlink:href=\"#DejaVuSans-61\"/><use x=\"788.228516\" xlink:href=\"#DejaVuSans-6c\"/><use x=\"816.011719\" xlink:href=\"#DejaVuSans-20\"/><use x=\"847.798828\" xlink:href=\"#DejaVuSans-5b\"/><use x=\"886.8125\" xlink:href=\"#DejaVuSans-61\"/><use x=\"948.091797\" xlink:href=\"#DejaVuSans-2e\"/><use x=\"979.878906\" xlink:href=\"#DejaVuSans-75\"/><use x=\"1043.257812\" xlink:href=\"#DejaVuSans-2e\"/><use x=\"1075.044922\" xlink:href=\"#DejaVuSans-5d\"/></g><path d=\"m42.62 273.31v-266.11\" fill=\"none\" stroke=\"#343a3f\" stroke-linecap=\"square\" stroke-width=\".8\"/><path d=\"m42.62 273.31h357.12\" fill=\"none\" stroke=\"#343a3f\" stroke-linecap=\"square\" stroke-width=\".8\"/><defs><clipPath id=\"p83eb0f1116\"><rect x=\"42.62\" y=\"7.2\" width=\"357.12\" height=\"266.11\"/></clipPath></defs></svg>"
      ],
      "text/plain": [
       "<Figure size 640x480 with 1 Axes>"
      ]
     },
     "metadata": {},
     "output_type": "display_data"
    }
   ],
   "source": [
    "rabi_values = []\n",
    "for i in range(num_rabi_points):\n",
    "    # Get the results for `qubit` from the ith experiment\n",
    "    rabi_values.append(rabi_results.get_memory(i)[qubit] * scale_factor)\n",
    "\n",
    "rabi_values = np.real(baseline_remove(rabi_values))\n",
    "\n",
    "plt.xlabel(\"Drive amp [a.u.]\")\n",
    "plt.ylabel(\"Measured signal [a.u.]\")\n",
    "plt.scatter(drive_amps, rabi_values, color='black') # plot real part of Rabi values\n",
    "plt.show()"
   ]
  },
  {
   "cell_type": "code",
   "execution_count": 32,
   "metadata": {
    "tags": [
     "uses-hardware"
    ]
   },
   "outputs": [
    {
     "data": {
      "image/svg+xml": [
       "<?xml version=\"1.0\" encoding=\"UTF-8\"?><!DOCTYPE svg  PUBLIC '-//W3C//DTD SVG 1.1//EN'  'http://www.w3.org/Graphics/SVG/1.1/DTD/svg11.dtd'><svg width=\"411.78pt\" height=\"315.71pt\" version=\"1.1\" viewBox=\"0 0 411.78 315.71\" xmlns=\"http://www.w3.org/2000/svg\" xmlns:xlink=\"http://www.w3.org/1999/xlink\"><defs><style type=\"text/css\">*{stroke-linejoin: round; stroke-linecap: butt}</style></defs><path d=\"m0 315.71h411.78v-315.71h-411.78z\" fill=\"#ffffff\"/><path d=\"m47.459 273.31h357.12v-266.11h-357.12z\" fill=\"#ffffff\"/><defs><path id=\"m42b79662cb\" d=\"m0 3c0.79561 0 1.5587-0.3161 2.1213-0.87868 0.56258-0.56258 0.87868-1.3257 0.87868-2.1213s-0.3161-1.5587-0.87868-2.1213c-0.56258-0.56258-1.3257-0.87868-2.1213-0.87868s-1.5587 0.3161-2.1213 0.87868c-0.56258 0.56258-0.87868 1.3257-0.87868 2.1213s0.3161 1.5587 0.87868 2.1213c0.56258 0.56258 1.3257 0.87868 2.1213 0.87868z\" stroke=\"#000000\"/></defs><g clip-path=\"url(#p623f714645)\" stroke=\"#000000\"><use x=\"63.692102\" y=\"261.216\" xlink:href=\"#m42b79662cb\"/><use x=\"70.317705\" y=\"245.654004\" xlink:href=\"#m42b79662cb\"/><use x=\"76.943308\" y=\"200.393466\" xlink:href=\"#m42b79662cb\"/><use x=\"83.568911\" y=\"142.379098\" xlink:href=\"#m42b79662cb\"/><use x=\"90.194514\" y=\"84.06373\" xlink:href=\"#m42b79662cb\"/><use x=\"96.820117\" y=\"36.852392\" xlink:href=\"#m42b79662cb\"/><use x=\"103.44572\" y=\"19.445307\" xlink:href=\"#m42b79662cb\"/><use x=\"110.071323\" y=\"35.830323\" xlink:href=\"#m42b79662cb\"/><use x=\"116.696926\" y=\"83.715401\" xlink:href=\"#m42b79662cb\"/><use x=\"123.322529\" y=\"143.07976\" xlink:href=\"#m42b79662cb\"/><use x=\"129.948132\" y=\"203.103806\" xlink:href=\"#m42b79662cb\"/><use x=\"136.573735\" y=\"243.080764\" xlink:href=\"#m42b79662cb\"/><use x=\"143.199338\" y=\"257.525192\" xlink:href=\"#m42b79662cb\"/><use x=\"149.824941\" y=\"245.41965\" xlink:href=\"#m42b79662cb\"/><use x=\"156.450544\" y=\"200.278243\" xlink:href=\"#m42b79662cb\"/><use x=\"163.076147\" y=\"129.020778\" xlink:href=\"#m42b79662cb\"/><use x=\"169.70175\" y=\"78.198044\" xlink:href=\"#m42b79662cb\"/><use x=\"176.327353\" y=\"35.805192\" xlink:href=\"#m42b79662cb\"/><use x=\"182.952956\" y=\"19.296\" xlink:href=\"#m42b79662cb\"/><use x=\"189.578559\" y=\"34.121794\" xlink:href=\"#m42b79662cb\"/><use x=\"196.204162\" y=\"80.068003\" xlink:href=\"#m42b79662cb\"/><use x=\"202.829765\" y=\"137.047299\" xlink:href=\"#m42b79662cb\"/><use x=\"209.455368\" y=\"199.231283\" xlink:href=\"#m42b79662cb\"/><use x=\"216.080971\" y=\"239.287859\" xlink:href=\"#m42b79662cb\"/><use x=\"222.706574\" y=\"259.092838\" xlink:href=\"#m42b79662cb\"/><use x=\"229.332176\" y=\"242.30505\" xlink:href=\"#m42b79662cb\"/><use x=\"235.957779\" y=\"197.786686\" xlink:href=\"#m42b79662cb\"/><use x=\"242.583382\" y=\"145.664547\" xlink:href=\"#m42b79662cb\"/><use x=\"249.208985\" y=\"82.181568\" xlink:href=\"#m42b79662cb\"/><use x=\"255.834588\" y=\"41.636489\" xlink:href=\"#m42b79662cb\"/><use x=\"262.460191\" y=\"23.809497\" xlink:href=\"#m42b79662cb\"/><use x=\"269.085794\" y=\"35.014669\" xlink:href=\"#m42b79662cb\"/><use x=\"275.711397\" y=\"67.107359\" xlink:href=\"#m42b79662cb\"/><use x=\"282.337\" y=\"128.988315\" xlink:href=\"#m42b79662cb\"/><use x=\"288.962603\" y=\"184.669421\" xlink:href=\"#m42b79662cb\"/><use x=\"295.588206\" y=\"237.088138\" xlink:href=\"#m42b79662cb\"/><use x=\"302.213809\" y=\"256.138199\" xlink:href=\"#m42b79662cb\"/><use x=\"308.839412\" y=\"251.139477\" xlink:href=\"#m42b79662cb\"/><use x=\"315.465015\" y=\"217.036927\" xlink:href=\"#m42b79662cb\"/><use x=\"322.090618\" y=\"160.142243\" xlink:href=\"#m42b79662cb\"/><use x=\"328.716221\" y=\"106.283284\" xlink:href=\"#m42b79662cb\"/><use x=\"335.341824\" y=\"59.357055\" xlink:href=\"#m42b79662cb\"/><use x=\"341.967427\" y=\"22.117847\" xlink:href=\"#m42b79662cb\"/><use x=\"348.59303\" y=\"19.800271\" xlink:href=\"#m42b79662cb\"/><use x=\"355.218633\" y=\"42.48193\" xlink:href=\"#m42b79662cb\"/><use x=\"361.844236\" y=\"85.794679\" xlink:href=\"#m42b79662cb\"/><use x=\"368.469839\" y=\"154.244427\" xlink:href=\"#m42b79662cb\"/><use x=\"375.095442\" y=\"203.499574\" xlink:href=\"#m42b79662cb\"/><use x=\"381.721045\" y=\"238.57033\" xlink:href=\"#m42b79662cb\"/><use x=\"388.346648\" y=\"259.465236\" xlink:href=\"#m42b79662cb\"/></g><defs><path id=\"mf21504c840\" d=\"m0 0v3.5\" stroke=\"#343a3f\" stroke-width=\".8\"/></defs><use x=\"63.692102\" y=\"273.312\" fill=\"#343a3f\" stroke=\"#343a3f\" stroke-width=\".8\" xlink:href=\"#mf21504c840\"/><g transform=\"translate(55.741 287.91) scale(.1 -.1)\" fill=\"#343a3f\"><defs><path id=\"DejaVuSans-30\" transform=\"scale(.015625)\" d=\"m2034 4250q-487 0-733-480-245-479-245-1442 0-959 245-1439 246-480 733-480 491 0 736 480 246 480 246 1439 0 963-246 1442-245 480-736 480zm0 500q785 0 1199-621 414-620 414-1801 0-1178-414-1799-414-620-1199-620-784 0-1198 620-414 621-414 1799 0 1181 414 1801 414 621 1198 621z\"/><path id=\"DejaVuSans-2e\" transform=\"scale(.015625)\" d=\"m684 794h660v-794h-660v794z\"/></defs><use xlink:href=\"#DejaVuSans-30\"/><use x=\"63.623047\" xlink:href=\"#DejaVuSans-2e\"/><use x=\"95.410156\" xlink:href=\"#DejaVuSans-30\"/></g><use x=\"106.979375\" y=\"273.312\" fill=\"#343a3f\" stroke=\"#343a3f\" stroke-width=\".8\" xlink:href=\"#mf21504c840\"/><g transform=\"translate(99.028 287.91) scale(.1 -.1)\" fill=\"#343a3f\"><defs><path id=\"DejaVuSans-31\" transform=\"scale(.015625)\" d=\"m794 531h1031v3560l-1122-225v575l1116 225h631v-4135h1031v-531h-2687v531z\"/></defs><use xlink:href=\"#DejaVuSans-30\"/><use x=\"63.623047\" xlink:href=\"#DejaVuSans-2e\"/><use x=\"95.410156\" xlink:href=\"#DejaVuSans-31\"/></g><use x=\"150.266648\" y=\"273.312\" fill=\"#343a3f\" stroke=\"#343a3f\" stroke-width=\".8\" xlink:href=\"#mf21504c840\"/><g transform=\"translate(142.32 287.91) scale(.1 -.1)\" fill=\"#343a3f\"><defs><path id=\"DejaVuSans-32\" transform=\"scale(.015625)\" d=\"m1228 531h2203v-531h-2962v531q359 372 979 998 621 627 780 809 303 340 423 576 121 236 121 464 0 372-261 606-261 235-680 235-297 0-627-103-329-103-704-313v638q381 153 712 231 332 78 607 78 725 0 1156-363 431-362 431-968 0-288-108-546-107-257-392-607-78-91-497-524-418-433-1181-1211z\"/></defs><use xlink:href=\"#DejaVuSans-30\"/><use x=\"63.623047\" xlink:href=\"#DejaVuSans-2e\"/><use x=\"95.410156\" xlink:href=\"#DejaVuSans-32\"/></g><use x=\"193.55392\" y=\"273.312\" fill=\"#343a3f\" stroke=\"#343a3f\" stroke-width=\".8\" xlink:href=\"#mf21504c840\"/><g transform=\"translate(185.6 287.91) scale(.1 -.1)\" fill=\"#343a3f\"><defs><path id=\"DejaVuSans-33\" transform=\"scale(.015625)\" d=\"m2597 2516q453-97 707-404 255-306 255-756 0-690-475-1069-475-378-1350-378-293 0-604 58t-642 174v609q262-153 574-231 313-78 654-78 593 0 904 234t311 681q0 413-289 645-289 233-804 233h-544v519h569q465 0 712 186t247 536q0 359-255 551-254 193-729 193-260 0-557-57-297-56-653-174v562q360 100 674 150t592 50q719 0 1137-327 419-326 419-882 0-388-222-655t-631-370z\"/></defs><use xlink:href=\"#DejaVuSans-30\"/><use x=\"63.623047\" xlink:href=\"#DejaVuSans-2e\"/><use x=\"95.410156\" xlink:href=\"#DejaVuSans-33\"/></g><use x=\"236.841193\" y=\"273.312\" fill=\"#343a3f\" stroke=\"#343a3f\" stroke-width=\".8\" xlink:href=\"#mf21504c840\"/><g transform=\"translate(228.89 287.91) scale(.1 -.1)\" fill=\"#343a3f\"><defs><path id=\"DejaVuSans-34\" transform=\"scale(.015625)\" d=\"m2419 4116-1594-2491h1594v2491zm-166 550h794v-3041h666v-525h-666v-1100h-628v1100h-2106v609l1940 2957z\"/></defs><use xlink:href=\"#DejaVuSans-30\"/><use x=\"63.623047\" xlink:href=\"#DejaVuSans-2e\"/><use x=\"95.410156\" xlink:href=\"#DejaVuSans-34\"/></g><use x=\"280.128466\" y=\"273.312\" fill=\"#343a3f\" stroke=\"#343a3f\" stroke-width=\".8\" xlink:href=\"#mf21504c840\"/><g transform=\"translate(272.18 287.91) scale(.1 -.1)\" fill=\"#343a3f\"><defs><path id=\"DejaVuSans-35\" transform=\"scale(.015625)\" d=\"m691 4666h2478v-532h-1900v-1143q137 47 274 70 138 23 276 23 781 0 1237-428 457-428 457-1159 0-753-469-1171-469-417-1322-417-294 0-599 50-304 50-629 150v635q281-153 581-228t634-75q541 0 856 284 316 284 316 772 0 487-316 771-315 285-856 285-253 0-505-56-251-56-513-175v2344z\"/></defs><use xlink:href=\"#DejaVuSans-30\"/><use x=\"63.623047\" xlink:href=\"#DejaVuSans-2e\"/><use x=\"95.410156\" xlink:href=\"#DejaVuSans-35\"/></g><use x=\"323.415739\" y=\"273.312\" fill=\"#343a3f\" stroke=\"#343a3f\" stroke-width=\".8\" xlink:href=\"#mf21504c840\"/><g transform=\"translate(315.46 287.91) scale(.1 -.1)\" fill=\"#343a3f\"><defs><path id=\"DejaVuSans-36\" transform=\"scale(.015625)\" d=\"m2113 2584q-425 0-674-291-248-290-248-796 0-503 248-796 249-292 674-292t673 292q248 293 248 796 0 506-248 796-248 291-673 291zm1253 1979v-575q-238 112-480 171-242 60-480 60-625 0-955-422-329-422-376-1275 184 272 462 417 279 145 613 145 703 0 1111-427 408-426 408-1160 0-719-425-1154-425-434-1131-434-810 0-1238 620-428 621-428 1799 0 1106 525 1764t1409 658q238 0 480-47t505-140z\"/></defs><use xlink:href=\"#DejaVuSans-30\"/><use x=\"63.623047\" xlink:href=\"#DejaVuSans-2e\"/><use x=\"95.410156\" xlink:href=\"#DejaVuSans-36\"/></g><use x=\"366.703011\" y=\"273.312\" fill=\"#343a3f\" stroke=\"#343a3f\" stroke-width=\".8\" xlink:href=\"#mf21504c840\"/><g transform=\"translate(358.75 287.91) scale(.1 -.1)\" fill=\"#343a3f\"><defs><path id=\"DejaVuSans-37\" transform=\"scale(.015625)\" d=\"m525 4666h3e3v-269l-1694-4397h-659l1594 4134h-2241v532z\"/></defs><use xlink:href=\"#DejaVuSans-30\"/><use x=\"63.623047\" xlink:href=\"#DejaVuSans-2e\"/><use x=\"95.410156\" xlink:href=\"#DejaVuSans-37\"/></g><g transform=\"translate(164.62 305.39) scale(.15 -.15)\" fill=\"#343a3f\"><defs><path id=\"DejaVuSans-44\" transform=\"scale(.015625)\" d=\"m1259 4147v-3628h763q966 0 1414 437 448 438 448 1382 0 937-448 1373t-1414 436h-763zm-631 519h1297q1356 0 1990-564 635-564 635-1764 0-1207-638-1773-637-565-1987-565h-1297v4666z\"/><path id=\"DejaVuSans-72\" transform=\"scale(.015625)\" d=\"m2631 2963q-97 56-211 82-114 27-251 27-488 0-749-317t-261-911v-1844h-578v3500h578v-544q182 319 472 473 291 155 707 155 59 0 131-8 72-7 159-23l3-590z\"/><path id=\"DejaVuSans-69\" transform=\"scale(.015625)\" d=\"m603 3500h575v-3500h-575v3500zm0 1363h575v-729h-575v729z\"/><path id=\"DejaVuSans-76\" transform=\"scale(.015625)\" d=\"m191 3500h609l1094-2937 1094 2937h609l-1313-3500h-781l-1312 3500z\"/><path id=\"DejaVuSans-65\" transform=\"scale(.015625)\" d=\"m3597 1894v-281h-2644q38-594 358-905t892-311q331 0 642 81t618 244v-544q-310-131-635-200t-659-69q-838 0-1327 487-489 488-489 1320 0 859 464 1363 464 505 1252 505 706 0 1117-455 411-454 411-1235zm-575 169q-6 471-264 752-258 282-683 282-481 0-770-272t-333-766l2050 4z\"/><path id=\"DejaVuSans-61\" transform=\"scale(.015625)\" d=\"m2194 1759q-697 0-966-159t-269-544q0-306 202-486 202-179 548-179 479 0 768 339t289 901v128h-572zm1147 238v-1997h-575v531q-197-318-491-470t-719-152q-537 0-855 302-317 302-317 808 0 590 395 890 396 300 1180 300h807v57q0 397-261 614t-733 217q-300 0-585-72-284-72-546-216v532q315 122 612 182 297 61 578 61 760 0 1135-394 375-393 375-1193z\"/><path id=\"DejaVuSans-6d\" transform=\"scale(.015625)\" d=\"m3328 2828q216 388 516 572t706 184q547 0 844-383 297-382 297-1088v-2113h-578v2094q0 503-179 746-178 244-543 244-447 0-707-297-259-296-259-809v-1978h-578v2094q0 506-178 748t-550 242q-441 0-701-298-259-298-259-808v-1978h-578v3500h578v-544q197 322 472 475t653 153q382 0 649-194 267-193 395-562z\"/><path id=\"DejaVuSans-70\" transform=\"scale(.015625)\" d=\"m1159 525v-1856h-578v4831h578v-531q182 312 458 463 277 152 661 152 638 0 1036-506 399-506 399-1331t-399-1332q-398-506-1036-506-384 0-661 152-276 152-458 464zm1957 1222q0 634-261 995t-717 361q-457 0-718-361t-261-995 261-995 718-361q456 0 717 361t261 995z\"/><path id=\"DejaVuSans-5b\" transform=\"scale(.015625)\" d=\"m550 4863h1325v-447h-750v-4813h750v-447h-1325v5707z\"/><path id=\"DejaVuSans-75\" transform=\"scale(.015625)\" d=\"m544 1381v2119h575v-2097q0-497 193-746 194-248 582-248 465 0 735 297 271 297 271 810v1984h575v-3500h-575v538q-209-319-486-474-276-155-642-155-603 0-916 375-312 375-312 1097zm1447 2203z\"/><path id=\"DejaVuSans-5d\" transform=\"scale(.015625)\" d=\"m1947 4863v-5707h-1325v447h747v4813h-747v447h1325z\"/></defs><use xlink:href=\"#DejaVuSans-44\"/><use x=\"77.001953\" xlink:href=\"#DejaVuSans-72\"/><use x=\"118.115234\" xlink:href=\"#DejaVuSans-69\"/><use x=\"145.898438\" xlink:href=\"#DejaVuSans-76\"/><use x=\"205.078125\" xlink:href=\"#DejaVuSans-65\"/><use x=\"266.601562\" xlink:href=\"#DejaVuSans-20\"/><use x=\"298.388672\" xlink:href=\"#DejaVuSans-61\"/><use x=\"359.667969\" xlink:href=\"#DejaVuSans-6d\"/><use x=\"457.080078\" xlink:href=\"#DejaVuSans-70\"/><use x=\"520.556641\" xlink:href=\"#DejaVuSans-20\"/><use x=\"552.34375\" xlink:href=\"#DejaVuSans-5b\"/><use x=\"591.357422\" xlink:href=\"#DejaVuSans-61\"/><use x=\"652.636719\" xlink:href=\"#DejaVuSans-2e\"/><use x=\"684.423828\" xlink:href=\"#DejaVuSans-75\"/><use x=\"747.802734\" xlink:href=\"#DejaVuSans-2e\"/><use x=\"779.589844\" xlink:href=\"#DejaVuSans-5d\"/></g><defs><path id=\"m3ad01a4d2e\" d=\"m0 0h-3.5\" stroke=\"#343a3f\" stroke-width=\".8\"/></defs><use x=\"47.459375\" y=\"248.272979\" fill=\"#343a3f\" stroke=\"#343a3f\" stroke-width=\".8\" xlink:href=\"#m3ad01a4d2e\"/><g transform=\"translate(25.717 252.07) scale(.1 -.1)\" fill=\"#343a3f\"><defs><path id=\"DejaVuSans-2212\" transform=\"scale(.015625)\" d=\"m678 2272h4006v-531h-4006v531z\"/></defs><use xlink:href=\"#DejaVuSans-2212\"/><use x=\"83.789062\" xlink:href=\"#DejaVuSans-32\"/></g><use x=\"47.459375\" y=\"194.891784\" fill=\"#343a3f\" stroke=\"#343a3f\" stroke-width=\".8\" xlink:href=\"#m3ad01a4d2e\"/><g transform=\"translate(25.717 198.69) scale(.1 -.1)\" fill=\"#343a3f\"><use xlink:href=\"#DejaVuSans-2212\"/><use x=\"83.789062\" xlink:href=\"#DejaVuSans-31\"/></g><use x=\"47.459375\" y=\"141.510589\" fill=\"#343a3f\" stroke=\"#343a3f\" stroke-width=\".8\" xlink:href=\"#m3ad01a4d2e\"/><g transform=\"translate(34.097 145.31) scale(.1 -.1)\" fill=\"#343a3f\"><use xlink:href=\"#DejaVuSans-30\"/></g><use x=\"47.459375\" y=\"88.129394\" fill=\"#343a3f\" stroke=\"#343a3f\" stroke-width=\".8\" xlink:href=\"#m3ad01a4d2e\"/><g transform=\"translate(34.097 91.929) scale(.1 -.1)\" fill=\"#343a3f\"><use xlink:href=\"#DejaVuSans-31\"/></g><use x=\"47.459375\" y=\"34.748199\" fill=\"#343a3f\" stroke=\"#343a3f\" stroke-width=\".8\" xlink:href=\"#m3ad01a4d2e\"/><g transform=\"translate(34.097 38.547) scale(.1 -.1)\" fill=\"#343a3f\"><use xlink:href=\"#DejaVuSans-32\"/></g><g transform=\"translate(18.598 223.81) rotate(-90) scale(.15 -.15)\" fill=\"#343a3f\"><defs><path id=\"DejaVuSans-4d\" transform=\"scale(.015625)\" d=\"m628 4666h941l1190-3175 1197 3175h941v-4666h-616v4097l-1203-3200h-634l-1203 3200v-4097h-613v4666z\"/><path id=\"DejaVuSans-73\" transform=\"scale(.015625)\" d=\"m2834 3397v-544q-243 125-506 187-262 63-544 63-428 0-642-131t-214-394q0-200 153-314t616-217l197-44q612-131 870-370t258-667q0-488-386-773-386-284-1061-284-281 0-586 55t-642 164v594q319-166 628-249 309-82 613-82 406 0 624 139 219 139 219 392 0 234-158 359-157 125-692 241l-200 47q-534 112-772 345-237 233-237 639 0 494 350 762 350 269 994 269 318 0 599-47 282-46 519-140z\"/><path id=\"DejaVuSans-64\" transform=\"scale(.015625)\" d=\"m2906 2969v1894h575v-4863h-575v525q-181-312-458-464-276-152-664-152-634 0-1033 506-398 507-398 1332t398 1331q399 506 1033 506 388 0 664-152 277-151 458-463zm-1959-1222q0-634 261-995t717-361 718 361q263 361 263 995t-263 995q-262 361-718 361t-717-361-261-995z\"/><path id=\"DejaVuSans-67\" transform=\"scale(.015625)\" d=\"m2906 1791q0 625-258 968-257 344-723 344-462 0-720-344-258-343-258-968 0-622 258-966t720-344q466 0 723 344 258 344 258 966zm575-1357q0-893-397-1329-396-436-1215-436-303 0-572 45t-522 139v559q253-137 500-202 247-66 503-66 566 0 847 295t281 892v285q-178-310-456-463t-666-153q-643 0-1037 490-394 491-394 1301 0 812 394 1302 394 491 1037 491 388 0 666-153t456-462v531h575v-3066z\"/><path id=\"DejaVuSans-6e\" transform=\"scale(.015625)\" d=\"m3513 2113v-2113h-575v2094q0 497-194 743-194 247-581 247-466 0-735-297-269-296-269-809v-1978h-578v3500h578v-544q207 316 486 472 280 156 646 156 603 0 912-373 310-373 310-1098z\"/><path id=\"DejaVuSans-6c\" transform=\"scale(.015625)\" d=\"m603 4863h575v-4863h-575v4863z\"/></defs><use xlink:href=\"#DejaVuSans-4d\"/><use x=\"86.279297\" xlink:href=\"#DejaVuSans-65\"/><use x=\"147.802734\" xlink:href=\"#DejaVuSans-61\"/><use x=\"209.082031\" xlink:href=\"#DejaVuSans-73\"/><use x=\"261.181641\" xlink:href=\"#DejaVuSans-75\"/><use x=\"324.560547\" xlink:href=\"#DejaVuSans-72\"/><use x=\"363.423828\" xlink:href=\"#DejaVuSans-65\"/><use x=\"424.947266\" xlink:href=\"#DejaVuSans-64\"/><use x=\"488.423828\" xlink:href=\"#DejaVuSans-20\"/><use x=\"520.210938\" xlink:href=\"#DejaVuSans-73\"/><use x=\"572.310547\" xlink:href=\"#DejaVuSans-69\"/><use x=\"600.09375\" xlink:href=\"#DejaVuSans-67\"/><use x=\"663.570312\" xlink:href=\"#DejaVuSans-6e\"/><use x=\"726.949219\" xlink:href=\"#DejaVuSans-61\"/><use x=\"788.228516\" xlink:href=\"#DejaVuSans-6c\"/><use x=\"816.011719\" xlink:href=\"#DejaVuSans-20\"/><use x=\"847.798828\" xlink:href=\"#DejaVuSans-5b\"/><use x=\"886.8125\" xlink:href=\"#DejaVuSans-61\"/><use x=\"948.091797\" xlink:href=\"#DejaVuSans-2e\"/><use x=\"979.878906\" xlink:href=\"#DejaVuSans-75\"/><use x=\"1043.257812\" xlink:href=\"#DejaVuSans-2e\"/><use x=\"1075.044922\" xlink:href=\"#DejaVuSans-5d\"/></g><path d=\"m63.692 256.86 6.6256-22.1 6.6256-46.971 6.6256-59.672 6.6256-56.911 6.6256-39.404 6.6256-11.687 6.6256 19.058 6.6256 44.865 6.6256 59.047 6.6256 57.929 6.6256 41.802 6.6256 14.843 6.6256-15.962 6.6256-42.631 6.6256-58.254 6.6256-58.783 6.6256-44.08 6.6256-17.957 6.6256 12.82 6.6256 40.274 6.6256 57.294 6.6256 59.468 6.6256 46.233 6.6256 21.019 6.6256-9.641 6.6256-37.803 6.6256-56.17 6.6256-59.983 6.6256-48.254 6.6256-24.022 6.6256 6.4348 6.6256 35.224 6.6256 54.886 6.6256 60.327 6.6256 50.137 6.6256 26.955 6.6256-3.2102 6.6256-32.544 6.6256-53.445 6.6256-60.499 6.6256-51.876 6.6256-29.812 6.6256-0.023533 6.6256 29.771 6.6256 51.852 6.6256 60.497 6.6256 53.467 6.6256 32.584 6.6256 3.2572\" clip-path=\"url(#p623f714645)\" fill=\"none\" stroke=\"#ff0000\" stroke-linecap=\"square\"/><path d=\"m104.13 273.31v-266.11\" clip-path=\"url(#p623f714645)\" fill=\"none\" stroke=\"#ff0000\" stroke-dasharray=\"3.7,1.6\"/><path d=\"m144.58 273.31v-266.11\" clip-path=\"url(#p623f714645)\" fill=\"none\" stroke=\"#ff0000\" stroke-dasharray=\"3.7,1.6\"/><path d=\"m47.459 273.31v-266.11\" fill=\"none\" stroke=\"#343a3f\" stroke-linecap=\"square\" stroke-width=\".8\"/><path d=\"m47.459 273.31h357.12\" fill=\"none\" stroke=\"#343a3f\" stroke-linecap=\"square\" stroke-width=\".8\"/><g fill=\"none\" stroke=\"#ff0000\" stroke-linecap=\"round\"><path d=\"m107.25 141.51q17.101 0 34.203 0\"/><path d=\"m111.25 143.51-4-2 4-2\"/><path d=\"m137.45 139.51 4 2-4 2\"/></g><g transform=\"translate(91.148 136.17) scale(.1 -.1)\" fill=\"#ff0000\"><defs><path id=\"DejaVuSans-Oblique-3c0\" transform=\"scale(.015625)\" d=\"m584 3500h3354l-113-575h-441l-418-2150q-44-225 15-325 57-97 228-97 47 0 116 10 72 6 94 9l-81-416q-116-40-235-59-122-19-237-19-375 0-478 203-104 207 3 757l406 2087h-1291l-568-2925h-588l569 2925h-447l112 575z\"/></defs><use transform=\"translate(0 .3125)\" xlink:href=\"#DejaVuSans-Oblique-3c0\"/></g><defs><clipPath id=\"p623f714645\"><rect x=\"47.459\" y=\"7.2\" width=\"357.12\" height=\"266.11\"/></clipPath></defs></svg>"
      ],
      "text/plain": [
       "<Figure size 640x480 with 1 Axes>"
      ]
     },
     "metadata": {},
     "output_type": "display_data"
    }
   ],
   "source": [
    "fit_params, y_fit = fit_function(drive_amps,\n",
    "                                 rabi_values, \n",
    "                                 lambda x, A, B, drive_period, phi: (A*np.cos(2*np.pi*x/drive_period - phi) + B),\n",
    "                                 [2, 0, 0.2, 0])\n",
    "\n",
    "plt.scatter(drive_amps, rabi_values, color='black')\n",
    "plt.plot(drive_amps, y_fit, color='red')\n",
    "\n",
    "drive_period = fit_params[2] # get period of rabi oscillation\n",
    "\n",
    "plt.axvline(drive_period/2, color='red', linestyle='--')\n",
    "plt.axvline(drive_period, color='red', linestyle='--')\n",
    "plt.annotate(\"\", xy=(drive_period, 0), xytext=(drive_period/2,0), arrowprops=dict(arrowstyle=\"<->\", color='red'))\n",
    "plt.annotate(\"$\\pi$\", xy=(drive_period/2-0.03, 0.1), color='red')\n",
    "\n",
    "plt.xlabel(\"Drive amp [a.u.]\", fontsize=15)\n",
    "plt.ylabel(\"Measured signal [a.u.]\", fontsize=15)\n",
    "plt.show()"
   ]
  },
  {
   "cell_type": "code",
   "execution_count": 33,
   "metadata": {
    "tags": [
     "uses-hardware"
    ]
   },
   "outputs": [
    {
     "name": "stdout",
     "output_type": "stream",
     "text": [
      "Pi Amplitude = 0.09342650821167793\n"
     ]
    }
   ],
   "source": [
    "pi_amp = abs(drive_period / 2)\n",
    "print(f\"Pi Amplitude = {pi_amp}\")"
   ]
  },
  {
   "cell_type": "markdown",
   "metadata": {},
   "source": [
    "### Our $\\pi$ pulse!\n",
    "Let's define our pulse, with the amplitude we just found, so we can use it in later experiments."
   ]
  },
  {
   "cell_type": "code",
   "execution_count": 34,
   "metadata": {},
   "outputs": [],
   "source": [
    "with pulse.build(backend) as pi_pulse:\n",
    "    drive_duration = get_closest_multiple_of_16(pulse.seconds_to_samples(drive_duration_sec))\n",
    "    drive_sigma = pulse.seconds_to_samples(drive_sigma_sec)\n",
    "    drive_chan = pulse.drive_channel(qubit)\n",
    "    pulse.play(pulse.Gaussian(duration=drive_duration,\n",
    "                              amp=pi_amp,\n",
    "                              sigma=drive_sigma,\n",
    "                              name='pi_pulse'), drive_chan)"
   ]
  },
  {
   "cell_type": "markdown",
   "metadata": {},
   "source": [
    "### 3.2 Determining 0 vs 1 <a id=\"zerovone\"></a>"
   ]
  },
  {
   "cell_type": "markdown",
   "metadata": {},
   "source": [
    "Once our $\\pi$ pulses have been calibrated, we can now create the state $\\vert1\\rangle$ with good probability. We can use this to find out what the states $\\vert0\\rangle$ and $\\vert1\\rangle$ look like in our measurements, by repeatedly preparing them and plotting the measured signal. This is what we use to build a discriminator, which is simply a function which takes a measured and kerneled complex value (`meas_level=1`) and classifies it as a 0 or a 1 (`meas_level=2`)."
   ]
  },
  {
   "cell_type": "code",
   "execution_count": 35,
   "metadata": {},
   "outputs": [
    {
     "data": {
      "text/plain": [
       "<qiskit.circuit.instructionset.InstructionSet at 0x13c098b80>"
      ]
     },
     "execution_count": 35,
     "metadata": {},
     "output_type": "execute_result"
    }
   ],
   "source": [
    "# Ground state \n",
    "qc_gnd = QuantumCircuit(1, 1)\n",
    "qc_gnd.measure(0, 0)"
   ]
  },
  {
   "cell_type": "code",
   "execution_count": 36,
   "metadata": {},
   "outputs": [
    {
     "data": {
      "image/svg+xml": [
       "<?xml version=\"1.0\" encoding=\"UTF-8\"?><!DOCTYPE svg  PUBLIC '-//W3C//DTD SVG 1.1//EN'  'http://www.w3.org/Graphics/SVG/1.1/DTD/svg11.dtd'><svg width=\"814.04pt\" height=\"197.83pt\" version=\"1.1\" viewBox=\"0 0 814.04 197.83\" xmlns=\"http://www.w3.org/2000/svg\" xmlns:xlink=\"http://www.w3.org/1999/xlink\"><defs><style type=\"text/css\">*{stroke-linejoin: round; stroke-linecap: butt}</style></defs><path d=\"m0 197.83h814.04v-197.83h-814.04z\" fill=\"#ffffff\"/><path d=\"m62.353 150.59h725.4v-128.46h-725.4z\" fill=\"#f2f3f4\"/><path d=\"m62.353 97.855h156.01v0h569.39\" clip-path=\"url(#p8c07dba97c)\" fill=\"none\" stroke=\"#000000\" stroke-linecap=\"square\"/><defs><path id=\"mceb64b8ada\" d=\"m0 0v3.5\" stroke=\"#343a3f\" stroke-width=\".8\"/></defs><use x=\"95.325852\" y=\"150.592224\" fill=\"#343a3f\" stroke=\"#343a3f\" stroke-width=\".8\" xlink:href=\"#mceb64b8ada\"/><g transform=\"translate(90.554 168.99) scale(.15 -.15)\" fill=\"#343a3f\"><defs><path id=\"DejaVuSans-30\" transform=\"scale(.015625)\" d=\"m2034 4250q-487 0-733-480-245-479-245-1442 0-959 245-1439 246-480 733-480 491 0 736 480 246 480 246 1439 0 963-246 1442-245 480-736 480zm0 500q785 0 1199-621 414-620 414-1801 0-1178-414-1799-414-620-1199-620-784 0-1198 620-414 621-414 1799 0 1181 414 1801 414 621 1198 621z\"/></defs><use xlink:href=\"#DejaVuSans-30\"/></g><use x=\"233.811307\" y=\"150.592224\" fill=\"#343a3f\" stroke=\"#343a3f\" stroke-width=\".8\" xlink:href=\"#mceb64b8ada\"/><g transform=\"translate(214.72 168.99) scale(.15 -.15)\" fill=\"#343a3f\"><defs><path id=\"DejaVuSans-34\" transform=\"scale(.015625)\" d=\"m2419 4116-1594-2491h1594v2491zm-166 550h794v-3041h666v-525h-666v-1100h-628v1100h-2106v609l1940 2957z\"/><path id=\"DejaVuSans-38\" transform=\"scale(.015625)\" d=\"m2034 2216q-450 0-708-241-257-241-257-662 0-422 257-663 258-241 708-241t709 242q260 243 260 662 0 421-258 662-257 241-711 241zm-631 268q-406 100-633 378-226 279-226 679 0 559 398 884 399 325 1092 325 697 0 1094-325t397-884q0-400-227-679-226-278-629-378 456-106 710-416 255-309 255-755 0-679-414-1042-414-362-1186-362-771 0-1186 362-414 363-414 1042 0 446 256 755 257 310 713 416zm-231 997q0-362 226-565 227-203 636-203 407 0 636 203 230 203 230 565 0 363-230 566-229 203-636 203-409 0-636-203-226-203-226-566z\"/><path id=\"DejaVuSans-31\" transform=\"scale(.015625)\" d=\"m794 531h1031v3560l-1122-225v575l1116 225h631v-4135h1031v-531h-2687v531z\"/></defs><use xlink:href=\"#DejaVuSans-34\"/><use x=\"63.623047\" xlink:href=\"#DejaVuSans-38\"/><use x=\"127.246094\" xlink:href=\"#DejaVuSans-38\"/><use x=\"190.869141\" xlink:href=\"#DejaVuSans-31\"/></g><use x=\"372.296761\" y=\"150.592224\" fill=\"#343a3f\" stroke=\"#343a3f\" stroke-width=\".8\" xlink:href=\"#mceb64b8ada\"/><g transform=\"translate(353.21 168.99) scale(.15 -.15)\" fill=\"#343a3f\"><defs><path id=\"DejaVuSans-35\" transform=\"scale(.015625)\" d=\"m691 4666h2478v-532h-1900v-1143q137 47 274 70 138 23 276 23 781 0 1237-428 457-428 457-1159 0-753-469-1171-469-417-1322-417-294 0-599 50-304 50-629 150v635q281-153 581-228t634-75q541 0 856 284 316 284 316 772 0 487-316 771-315 285-856 285-253 0-505-56-251-56-513-175v2344z\"/><path id=\"DejaVuSans-36\" transform=\"scale(.015625)\" d=\"m2113 2584q-425 0-674-291-248-290-248-796 0-503 248-796 249-292 674-292t673 292q248 293 248 796 0 506-248 796-248 291-673 291zm1253 1979v-575q-238 112-480 171-242 60-480 60-625 0-955-422-329-422-376-1275 184 272 462 417 279 145 613 145 703 0 1111-427 408-426 408-1160 0-719-425-1154-425-434-1131-434-810 0-1238 620-428 621-428 1799 0 1106 525 1764t1409 658q238 0 480-47t505-140z\"/></defs><use xlink:href=\"#DejaVuSans-35\"/><use x=\"63.623047\" xlink:href=\"#DejaVuSans-30\"/><use x=\"127.246094\" xlink:href=\"#DejaVuSans-30\"/><use x=\"190.869141\" xlink:href=\"#DejaVuSans-36\"/></g><use x=\"510.782216\" y=\"150.592224\" fill=\"#343a3f\" stroke=\"#343a3f\" stroke-width=\".8\" xlink:href=\"#mceb64b8ada\"/><g transform=\"translate(491.69 168.99) scale(.15 -.15)\" fill=\"#343a3f\"><defs><path id=\"DejaVuSans-33\" transform=\"scale(.015625)\" d=\"m2597 2516q453-97 707-404 255-306 255-756 0-690-475-1069-475-378-1350-378-293 0-604 58t-642 174v609q262-153 574-231 313-78 654-78 593 0 904 234t311 681q0 413-289 645-289 233-804 233h-544v519h569q465 0 712 186t247 536q0 359-255 551-254 193-729 193-260 0-557-57-297-56-653-174v562q360 100 674 150t592 50q719 0 1137-327 419-326 419-882 0-388-222-655t-631-370z\"/></defs><use xlink:href=\"#DejaVuSans-35\"/><use x=\"63.623047\" xlink:href=\"#DejaVuSans-31\"/><use x=\"127.246094\" xlink:href=\"#DejaVuSans-33\"/><use x=\"190.869141\" xlink:href=\"#DejaVuSans-31\"/></g><use x=\"649.26767\" y=\"150.592224\" fill=\"#343a3f\" stroke=\"#343a3f\" stroke-width=\".8\" xlink:href=\"#mceb64b8ada\"/><g transform=\"translate(630.18 168.99) scale(.15 -.15)\" fill=\"#343a3f\"><defs><path id=\"DejaVuSans-32\" transform=\"scale(.015625)\" d=\"m1228 531h2203v-531h-2962v531q359 372 979 998 621 627 780 809 303 340 423 576 121 236 121 464 0 372-261 606-261 235-680 235-297 0-627-103-329-103-704-313v638q381 153 712 231 332 78 607 78 725 0 1156-363 431-362 431-968 0-288-108-546-107-257-392-607-78-91-497-524-418-433-1181-1211z\"/></defs><use xlink:href=\"#DejaVuSans-35\"/><use x=\"63.623047\" xlink:href=\"#DejaVuSans-32\"/><use x=\"127.246094\" xlink:href=\"#DejaVuSans-35\"/><use x=\"190.869141\" xlink:href=\"#DejaVuSans-36\"/></g><use x=\"787.753125\" y=\"150.592224\" fill=\"#343a3f\" stroke=\"#343a3f\" stroke-width=\".8\" xlink:href=\"#mceb64b8ada\"/><g transform=\"translate(768.67 168.99) scale(.15 -.15)\" fill=\"#343a3f\"><use xlink:href=\"#DejaVuSans-35\"/><use x=\"63.623047\" xlink:href=\"#DejaVuSans-33\"/><use x=\"127.246094\" xlink:href=\"#DejaVuSans-38\"/><use x=\"190.869141\" xlink:href=\"#DejaVuSans-31\"/></g><g transform=\"translate(389.81 187.51) scale(.15 -.15)\" fill=\"#343a3f\"><defs><path id=\"DejaVuSans-54\" transform=\"scale(.015625)\" d=\"m-19 4666h3947v-532h-1656v-4134h-634v4134h-1657v532z\"/><path id=\"DejaVuSans-69\" transform=\"scale(.015625)\" d=\"m603 3500h575v-3500h-575v3500zm0 1363h575v-729h-575v729z\"/><path id=\"DejaVuSans-6d\" transform=\"scale(.015625)\" d=\"m3328 2828q216 388 516 572t706 184q547 0 844-383 297-382 297-1088v-2113h-578v2094q0 503-179 746-178 244-543 244-447 0-707-297-259-296-259-809v-1978h-578v2094q0 506-178 748t-550 242q-441 0-701-298-259-298-259-808v-1978h-578v3500h578v-544q197 322 472 475t653 153q382 0 649-194 267-193 395-562z\"/><path id=\"DejaVuSans-65\" transform=\"scale(.015625)\" d=\"m3597 1894v-281h-2644q38-594 358-905t892-311q331 0 642 81t618 244v-544q-310-131-635-200t-659-69q-838 0-1327 487-489 488-489 1320 0 859 464 1363 464 505 1252 505 706 0 1117-455 411-454 411-1235zm-575 169q-6 471-264 752-258 282-683 282-481 0-770-272t-333-766l2050 4z\"/><path id=\"DejaVuSans-28\" transform=\"scale(.015625)\" d=\"m1984 4856q-418-718-622-1422-203-703-203-1425 0-721 205-1429t620-1424h-500q-468 735-701 1444t-233 1409q0 697 231 1403 232 707 703 1444h500z\"/><path id=\"DejaVuSans-6e\" transform=\"scale(.015625)\" d=\"m3513 2113v-2113h-575v2094q0 497-194 743-194 247-581 247-466 0-735-297-269-296-269-809v-1978h-578v3500h578v-544q207 316 486 472 280 156 646 156 603 0 912-373 310-373 310-1098z\"/><path id=\"DejaVuSans-73\" transform=\"scale(.015625)\" d=\"m2834 3397v-544q-243 125-506 187-262 63-544 63-428 0-642-131t-214-394q0-200 153-314t616-217l197-44q612-131 870-370t258-667q0-488-386-773-386-284-1061-284-281 0-586 55t-642 164v594q319-166 628-249 309-82 613-82 406 0 624 139 219 139 219 392 0 234-158 359-157 125-692 241l-200 47q-534 112-772 345-237 233-237 639 0 494 350 762 350 269 994 269 318 0 599-47 282-46 519-140z\"/><path id=\"DejaVuSans-29\" transform=\"scale(.015625)\" d=\"m513 4856h500q468-737 701-1444 233-706 233-1403 0-700-233-1409t-701-1444h-500q415 716 620 1424t205 1429q0 722-205 1425-205 704-620 1422z\"/></defs><use xlink:href=\"#DejaVuSans-54\"/><use x=\"57.958984\" xlink:href=\"#DejaVuSans-69\"/><use x=\"85.742188\" xlink:href=\"#DejaVuSans-6d\"/><use x=\"183.154297\" xlink:href=\"#DejaVuSans-65\"/><use x=\"244.677734\" xlink:href=\"#DejaVuSans-20\"/><use x=\"276.464844\" xlink:href=\"#DejaVuSans-28\"/><use x=\"315.478516\" xlink:href=\"#DejaVuSans-6e\"/><use x=\"378.857422\" xlink:href=\"#DejaVuSans-73\"/><use x=\"430.957031\" xlink:href=\"#DejaVuSans-29\"/></g><defs><path id=\"m28c573f34b\" d=\"m95.326-99.972v-0.36643h0.24606v-0.25151h0.24607v-0.25736h0.24606v-0.26326h0.24606v-0.26921h0.24606v-0.27522h0.24606v-0.28126h0.24606v-0.28736h0.24606v-0.29349h0.24606v-0.29966h0.24607v-0.30587h0.24606v-0.3121h0.24606v-0.31836h0.24606v-0.32464h0.24606v-0.33094h0.24606v-0.33726h0.24606v-0.34358h0.24606v-0.34991h0.24607v-0.35624h0.24606v-0.36256h0.24606v-0.36888h0.24606v-0.37518h0.24606v-0.38146h0.24606v-0.38773h0.24606v-0.39396h0.24606v-0.40015h0.24607v-0.40631h0.24606v-0.41242h0.24606v-0.41848h0.24606v-0.42448h0.24606v-0.43042h0.24606v-0.43629h0.24606v-0.44209h0.24607v-0.4478h0.24606v-0.45343h0.24606v-0.45896h0.24606v-0.4644h0.24606v-0.46973h0.24606v-0.47494h0.24606v-0.48004h0.24606v-0.48501h0.24607v-0.48986h0.24606v-0.49456h0.24606v-0.49912h0.24606v-0.50353h0.24606v-0.50778h0.24606v-0.51187h0.24606v-0.51579h0.24606v-0.51953h0.24607v-0.52309h0.24606v-0.52646h0.24606v-0.52964h0.24606v-0.53262h0.24606v-0.53539h0.24606v-0.53794h0.24606v-0.54028h0.24606v-0.5424h0.24607v-0.54428h0.24606v-0.54593h0.24606v-0.54734h0.24606v-0.54851h0.24606v-0.54942h0.24606v-0.55008h0.24606v-0.55048h0.24607v-0.55061h0.24606v-0.55048h0.24606v-0.55007h0.24606v-0.54938h0.24606v-0.54842h0.24606v-0.54717h0.24606v-0.54563h0.24606v-0.5438h0.24607v-0.54168h0.24606v-0.53927h0.24606v-0.53656h0.24606v-0.53354h0.24606v-0.53023h0.24606v-0.52661h0.24606v-0.52269h0.24606v-0.51846h0.24607v-0.51393h0.24606v-0.5091h0.24606v-0.50395h0.24606v-0.4985h0.24606v-0.49275h0.24606v-0.48669h0.24606v-0.48033h0.24606v-0.47367h0.24607v-0.46671h0.24606v-0.45945h0.24606v-0.4519h0.24606v-0.44405h0.24606v-0.43592h0.24606v-0.4275h0.24606v-0.4188h0.24607v-0.40982h0.24606v-0.40056h0.24606v-0.39104h0.24606v-0.38126h0.24606v-0.37121h0.24606v-0.36091h0.24606v-0.35037h0.24606v-0.33958h0.24607v-0.32856h0.24606v-0.31731h0.24606v-0.30584h0.24606v-0.29415h0.24606v-0.28226h0.24606v-0.27017h0.24606v-0.25788h0.24606v-0.24542h0.24607v-0.23277h0.24606v-0.21997h0.24606v-0.207h0.24606v-0.19388h0.24606v-0.18063h0.24606v-0.16725h0.24606v-0.15374h0.24606v-0.14012h0.24607v-0.1264h0.24606v-0.11259h0.24606v-0.098698h0.24606v-0.084732h0.24606v-0.070706h0.24606v-0.056626h0.24606v-0.042506h0.24607v-0.028355h0.24606v-0.014183h0.24606v-0.001773h91.536 91.536v0.001773h0.24606v0.014183h0.24606v0.028355h0.24606v0.042506h0.24606v0.056626h0.24606v0.070706h0.24606v0.084732h0.24607v0.098698h0.24606v0.11259h0.24606v0.1264h0.24606v0.14012h0.24606v0.15374h0.24606v0.16725h0.24606v0.18063h0.24606v0.19388h0.24607v0.207h0.24606v0.21997h0.24606v0.23277h0.24606v0.24542h0.24606v0.25788h0.24606v0.27017h0.24606v0.28226h0.24607v0.29415h0.24606v0.30584h0.24606v0.31731h0.24606v0.32856h0.24606v0.33958h0.24606v0.35037h0.24606v0.36091h0.24606v0.37121h0.24607v0.38126h0.24606v0.39104h0.24606v0.40056h0.24606v0.40982h0.24606v0.4188h0.24606v0.4275h0.24606v0.43592h0.24606v0.44405h0.24607v0.4519h0.24606v0.45945h0.24606v0.46671h0.24606v0.47367h0.24606v0.48033h0.24606v0.48669h0.24606v0.49275h0.24606v0.4985h0.24607v0.50395h0.24606v0.5091h0.24606v0.51393h0.24606v0.51846h0.24606v0.52269h0.24606v0.52661h0.24606v0.53023h0.24607v0.53354h0.24606v0.53656h0.24606v0.53927h0.24606v0.54168h0.24606v0.5438h0.24606v0.54563h0.24606v0.54717h0.24606v0.54842h0.24607v0.54938h0.24606v0.55007h0.24606v0.55048h0.24606v0.55061h0.24606v0.55048h0.24606v0.55008h0.24606v0.54942h0.24606v0.54851h0.24607v0.54734h0.24606v0.54593h0.24606v0.54428h0.24606v0.5424h0.24606v0.54028h0.24606v0.53794h0.24606v0.53539h0.24606v0.53262h0.24607v0.52964h0.24606v0.52646h0.24606v0.52309h0.24606v0.51953h0.24606v0.51579h0.24606v0.51187h0.24606v0.50778h0.24607v0.50353h0.24606v0.49912h0.24606v0.49456h0.24606v0.48986h0.24606v0.48501h0.24606v0.48004h0.24606v0.47494h0.24606v0.46973h0.24607v0.4644h0.24606v0.45896h0.24606v0.45343h0.24606v0.4478h0.24606v0.44209h0.24606v0.43629h0.24606v0.43042h0.24606v0.42448h0.24607v0.41848h0.24606v0.41242h0.24606v0.40631h0.24606v0.40015h0.24606v0.39396h0.24606v0.38773h0.24606v0.38146h0.24606v0.37518h0.24607v0.36888h0.24606v0.36256h0.24606v0.35624h0.24606v0.34991h0.24606v0.34358h0.24606v0.33726h0.24606v0.33094h0.24606v0.32464h0.24607v0.31836h0.24606v0.3121h0.24606v0.30587h0.24606v0.29966h0.24606v0.29349h0.24606v0.28736h0.24606v0.28126h0.24607v0.27522h0.24606v0.26921h0.24606v0.26326h0.24606v0.25736h0.24606v0.25151h0.24606v0.36643h-0.24606-0.24606-0.24606-0.24606-0.24606-0.24607-0.24606-0.24606-0.24606-0.24606-0.24606-0.24606-0.24607-0.24606-0.24606-0.24606-0.24606-0.24606-0.24606-0.24606-0.24607-0.24606-0.24606-0.24606-0.24606-0.24606-0.24606-0.24606-0.24607-0.24606-0.24606-0.24606-0.24606-0.24606-0.24606-0.24606-0.24607-0.24606-0.24606-0.24606-0.24606-0.24606-0.24606-0.24606-0.24607-0.24606-0.24606-0.24606-0.24606-0.24606-0.24606-0.24607-0.24606-0.24606-0.24606-0.24606-0.24606-0.24606-0.24606-0.24607-0.24606-0.24606-0.24606-0.24606-0.24606-0.24606-0.24606-0.24607-0.24606-0.24606-0.24606-0.24606-0.24606-0.24606-0.24606-0.24607-0.24606-0.24606-0.24606-0.24606-0.24606-0.24606-0.24607-0.24606-0.24606-0.24606-0.24606-0.24606-0.24606-0.24606-0.24607-0.24606-0.24606-0.24606-0.24606-0.24606-0.24606-0.24606-0.24607-0.24606-0.24606-0.24606-0.24606-0.24606-0.24606-0.24606-0.24607-0.24606-0.24606-0.24606-0.24606-0.24606-0.24606-0.24607-0.24606-0.24606-0.24606-0.24606-0.24606-0.24606-0.24606-0.24607-0.24606-0.24606-0.24606-0.24606-0.24606-0.24606-91.536-91.536-0.24606-0.24606-0.24607-0.24606-0.24606-0.24606-0.24606-0.24606-0.24606-0.24607-0.24606-0.24606-0.24606-0.24606-0.24606-0.24606-0.24606-0.24607-0.24606-0.24606-0.24606-0.24606-0.24606-0.24606-0.24606-0.24607-0.24606-0.24606-0.24606-0.24606-0.24606-0.24606-0.24606-0.24607-0.24606-0.24606-0.24606-0.24606-0.24606-0.24606-0.24607-0.24606-0.24606-0.24606-0.24606-0.24606-0.24606-0.24606-0.24607-0.24606-0.24606-0.24606-0.24606-0.24606-0.24606-0.24606-0.24607-0.24606-0.24606-0.24606-0.24606-0.24606-0.24606-0.24606-0.24607-0.24606-0.24606-0.24606-0.24606-0.24606-0.24606-0.24607-0.24606-0.24606-0.24606-0.24606-0.24606-0.24606-0.24606-0.24607-0.24606-0.24606-0.24606-0.24606-0.24606-0.24606-0.24606-0.24607-0.24606-0.24606-0.24606-0.24606-0.24606-0.24606-0.24606-0.24607-0.24606-0.24606-0.24606-0.24606-0.24606-0.24606-0.24607-0.24606-0.24606-0.24606-0.24606-0.24606-0.24606-0.24606-0.24607-0.24606-0.24606-0.24606-0.24606-0.24606-0.24606-0.24606-0.24607-0.24606-0.24606-0.24606-0.24606-0.24606-0.24606-0.24606-0.24607-0.24606z\"/></defs><g clip-path=\"url(#p8c07dba97c)\"><use y=\"197.826599\" fill=\"#dc267f\" fill-opacity=\".3\" xlink:href=\"#m28c573f34b\"/></g><defs><path id=\"mc450a79b51\" d=\"m95.326-99.972v0.1996h0.24606v0.137h0.24607v0.14018h0.24606v0.1434h0.24606v0.14664h0.24606v0.14991h0.24606v0.15321h0.24606v0.15653h0.24606v0.15987h0.24606v0.16323h0.24607v0.16661h0.24606v0.17h0.24606v0.17341h0.24606v0.17683h0.24606v0.18027h0.24606v0.1837h0.24606v0.18715h0.24606v0.1906h0.24607v0.19404h0.24606v0.19749h0.24606v0.20093h0.24606v0.20436h0.24606v0.20779h0.24606v0.2112h0.24606v0.21459h0.24606v0.21797h0.24607v0.22132h0.24606v0.22465h0.24606v0.22795h0.24606v0.23122h0.24606v0.23445h0.24606v0.23765h0.24606v0.24081h0.24607v0.24392h0.24606v0.24699h0.24606v0.25h0.24606v0.25296h0.24606v0.25586h0.24606v0.2587h0.24606v0.26148h0.24606v0.26419h0.24607v0.26683h0.24606v0.26939h0.24606v0.27187h0.24606v0.27428h0.24606v0.27659h0.24606v0.27882h0.24606v0.28095h0.24606v0.28299h0.24607v0.28493h0.24606v0.28677h0.24606v0.2885h0.24606v0.29012h0.24606v0.29163h0.24606v0.29302h0.24606v0.2943h0.24606v0.29545h0.24607v0.29648h0.24606v0.29737h0.24606v0.29814h0.24606v0.29878h0.24606v0.29927h0.24606v0.29963h0.24606v0.29985h0.24607v0.29992h0.24606v0.29985h0.24606v0.29963h0.24606v0.29925h0.24606v0.29873h0.24606v0.29805h0.24606v0.29721h0.24606v0.29621h0.24607v0.29506h0.24606v0.29374h0.24606v0.29226h0.24606v0.29062h0.24606v0.28882h0.24606v0.28685h0.24606v0.28471h0.24606v0.28241h0.24607v0.27994h0.24606v0.27731h0.24606v0.27451h0.24606v0.27154h0.24606v0.2684h0.24606v0.2651h0.24606v0.26164h0.24606v0.25801h0.24607v0.25422h0.24606v0.25027h0.24606v0.24615h0.24606v0.24188h0.24606v0.23745h0.24606v0.23286h0.24606v0.22812h0.24607v0.22323h0.24606v0.21819h0.24606v0.213h0.24606v0.20767h0.24606v0.2022h0.24606v0.19659h0.24606v0.19085h0.24606v0.18497h0.24607v0.17897h0.24606v0.17284h0.24606v0.16659h0.24606v0.16023h0.24606v0.15375h0.24606v0.14716h0.24606v0.14047h0.24606v0.13368h0.24607v0.12679h0.24606v0.11982h0.24606v0.11276h0.24606v0.10561h0.24606v0.09839h0.24606v0.0911h0.24606v0.083743h0.24606v0.076326h0.24607v0.068852h0.24606v0.061329h0.24606v0.053762h0.24606v0.046154h0.24606v0.038514h0.24606v0.030845h0.24606v0.023153h0.24607v0.015445h0.24606v0.007726h0.24606v9.65e-4h91.536 91.536v-9.65e-4h0.24606v-0.007726h0.24606v-0.015445h0.24606v-0.023153h0.24606v-0.030845h0.24606v-0.038514h0.24606v-0.046154h0.24607v-0.053762h0.24606v-0.061329h0.24606v-0.068852h0.24606v-0.076326h0.24606v-0.083743h0.24606v-0.0911h0.24606v-0.09839h0.24606v-0.10561h0.24607v-0.11276h0.24606v-0.11982h0.24606v-0.12679h0.24606v-0.13368h0.24606v-0.14047h0.24606v-0.14716h0.24606v-0.15375h0.24607v-0.16023h0.24606v-0.16659h0.24606v-0.17284h0.24606v-0.17897h0.24606v-0.18497h0.24606v-0.19085h0.24606v-0.19659h0.24606v-0.2022h0.24607v-0.20767h0.24606v-0.213h0.24606v-0.21819h0.24606v-0.22323h0.24606v-0.22812h0.24606v-0.23286h0.24606v-0.23745h0.24606v-0.24188h0.24607v-0.24615h0.24606v-0.25027h0.24606v-0.25422h0.24606v-0.25801h0.24606v-0.26164h0.24606v-0.2651h0.24606v-0.2684h0.24606v-0.27154h0.24607v-0.27451h0.24606v-0.27731h0.24606v-0.27994h0.24606v-0.28241h0.24606v-0.28471h0.24606v-0.28685h0.24606v-0.28882h0.24607v-0.29062h0.24606v-0.29226h0.24606v-0.29374h0.24606v-0.29506h0.24606v-0.29621h0.24606v-0.29721h0.24606v-0.29805h0.24606v-0.29873h0.24607v-0.29925h0.24606v-0.29963h0.24606v-0.29985h0.24606v-0.29992h0.24606v-0.29985h0.24606v-0.29963h0.24606v-0.29927h0.24606v-0.29878h0.24607v-0.29814h0.24606v-0.29737h0.24606v-0.29648h0.24606v-0.29545h0.24606v-0.2943h0.24606v-0.29302h0.24606v-0.29163h0.24606v-0.29012h0.24607v-0.2885h0.24606v-0.28677h0.24606v-0.28493h0.24606v-0.28299h0.24606v-0.28095h0.24606v-0.27882h0.24606v-0.27659h0.24607v-0.27428h0.24606v-0.27187h0.24606v-0.26939h0.24606v-0.26683h0.24606v-0.26419h0.24606v-0.26148h0.24606v-0.2587h0.24606v-0.25586h0.24607v-0.25296h0.24606v-0.25h0.24606v-0.24699h0.24606v-0.24392h0.24606v-0.24081h0.24606v-0.23765h0.24606v-0.23445h0.24606v-0.23122h0.24607v-0.22795h0.24606v-0.22465h0.24606v-0.22132h0.24606v-0.21797h0.24606v-0.21459h0.24606v-0.2112h0.24606v-0.20779h0.24606v-0.20436h0.24607v-0.20093h0.24606v-0.19749h0.24606v-0.19404h0.24606v-0.1906h0.24606v-0.18715h0.24606v-0.1837h0.24606v-0.18027h0.24606v-0.17683h0.24607v-0.17341h0.24606v-0.17h0.24606v-0.16661h0.24606v-0.16323h0.24606v-0.15987h0.24606v-0.15653h0.24606v-0.15321h0.24607v-0.14991h0.24606v-0.14664h0.24606v-0.1434h0.24606v-0.14018h0.24606v-0.137h0.24606v-0.1996h-0.24606-0.24606-0.24606-0.24606-0.24606-0.24607-0.24606-0.24606-0.24606-0.24606-0.24606-0.24606-0.24607-0.24606-0.24606-0.24606-0.24606-0.24606-0.24606-0.24606-0.24607-0.24606-0.24606-0.24606-0.24606-0.24606-0.24606-0.24606-0.24607-0.24606-0.24606-0.24606-0.24606-0.24606-0.24606-0.24606-0.24607-0.24606-0.24606-0.24606-0.24606-0.24606-0.24606-0.24606-0.24607-0.24606-0.24606-0.24606-0.24606-0.24606-0.24606-0.24607-0.24606-0.24606-0.24606-0.24606-0.24606-0.24606-0.24606-0.24607-0.24606-0.24606-0.24606-0.24606-0.24606-0.24606-0.24606-0.24607-0.24606-0.24606-0.24606-0.24606-0.24606-0.24606-0.24606-0.24607-0.24606-0.24606-0.24606-0.24606-0.24606-0.24606-0.24607-0.24606-0.24606-0.24606-0.24606-0.24606-0.24606-0.24606-0.24607-0.24606-0.24606-0.24606-0.24606-0.24606-0.24606-0.24606-0.24607-0.24606-0.24606-0.24606-0.24606-0.24606-0.24606-0.24606-0.24607-0.24606-0.24606-0.24606-0.24606-0.24606-0.24606-0.24607-0.24606-0.24606-0.24606-0.24606-0.24606-0.24606-0.24606-0.24607-0.24606-0.24606-0.24606-0.24606-0.24606-0.24606-91.536-91.536-0.24606-0.24606-0.24607-0.24606-0.24606-0.24606-0.24606-0.24606-0.24606-0.24607-0.24606-0.24606-0.24606-0.24606-0.24606-0.24606-0.24606-0.24607-0.24606-0.24606-0.24606-0.24606-0.24606-0.24606-0.24606-0.24607-0.24606-0.24606-0.24606-0.24606-0.24606-0.24606-0.24606-0.24607-0.24606-0.24606-0.24606-0.24606-0.24606-0.24606-0.24607-0.24606-0.24606-0.24606-0.24606-0.24606-0.24606-0.24606-0.24607-0.24606-0.24606-0.24606-0.24606-0.24606-0.24606-0.24606-0.24607-0.24606-0.24606-0.24606-0.24606-0.24606-0.24606-0.24606-0.24607-0.24606-0.24606-0.24606-0.24606-0.24606-0.24606-0.24607-0.24606-0.24606-0.24606-0.24606-0.24606-0.24606-0.24606-0.24607-0.24606-0.24606-0.24606-0.24606-0.24606-0.24606-0.24606-0.24607-0.24606-0.24606-0.24606-0.24606-0.24606-0.24606-0.24606-0.24607-0.24606-0.24606-0.24606-0.24606-0.24606-0.24606-0.24607-0.24606-0.24606-0.24606-0.24606-0.24606-0.24606-0.24606-0.24607-0.24606-0.24606-0.24606-0.24606-0.24606-0.24606-0.24606-0.24607-0.24606-0.24606-0.24606-0.24606-0.24606-0.24606-0.24606-0.24607-0.24606z\"/></defs><g clip-path=\"url(#p8c07dba97c)\"><use y=\"197.826599\" fill=\"#760019\" fill-opacity=\".3\" xlink:href=\"#mc450a79b51\"/></g><path d=\"m62.353 150.59v-128.46\" fill=\"none\" stroke=\"#343a3f\" stroke-linecap=\"square\" stroke-width=\".8\"/><path d=\"m62.353 150.59h725.4\" fill=\"none\" stroke=\"#343a3f\" stroke-linecap=\"square\" stroke-width=\".8\"/><path d=\"m218.36 150.59v-128.46\" clip-path=\"url(#p8c07dba97c)\" fill=\"none\" stroke=\"#f2f3f4\" stroke-linecap=\"square\" stroke-width=\"6\"/><g transform=\"translate(200.52 116.04) scale(.12 -.12)\" fill=\"#222222\"><defs><path id=\"DejaVuSans-4d\" transform=\"scale(.015625)\" d=\"m628 4666h941l1190-3175 1197 3175h941v-4666h-616v4097l-1203-3200h-634l-1203 3200v-4097h-613v4666z\"/><path id=\"DejaVuSans-5f\" transform=\"scale(.015625)\" d=\"m3263-1063v-446h-3326v446h3326z\"/></defs><use xlink:href=\"#DejaVuSans-4d\"/><use x=\"86.279297\" xlink:href=\"#DejaVuSans-5f\"/><use x=\"136.279297\" xlink:href=\"#DejaVuSans-6d\"/><use x=\"233.691406\" xlink:href=\"#DejaVuSans-30\"/></g><g transform=\"translate(530.88 116.31) scale(.12 -.12)\" fill=\"#222222\"><defs><path id=\"DejaVuSans-44\" transform=\"scale(.015625)\" d=\"m1259 4147v-3628h763q966 0 1414 437 448 438 448 1382 0 937-448 1373t-1414 436h-763zm-631 519h1297q1356 0 1990-564 635-564 635-1764 0-1207-638-1773-637-565-1987-565h-1297v4666z\"/><path id=\"DejaVuSans-6c\" transform=\"scale(.015625)\" d=\"m603 4863h575v-4863h-575v4863z\"/><path id=\"DejaVuSans-61\" transform=\"scale(.015625)\" d=\"m2194 1759q-697 0-966-159t-269-544q0-306 202-486 202-179 548-179 479 0 768 339t289 901v128h-572zm1147 238v-1997h-575v531q-197-318-491-470t-719-152q-537 0-855 302-317 302-317 808 0 590 395 890 396 300 1180 300h807v57q0 397-261 614t-733 217q-300 0-585-72-284-72-546-216v532q315 122 612 182 297 61 578 61 760 0 1135-394 375-393 375-1193z\"/><path id=\"DejaVuSans-79\" transform=\"scale(.015625)\" d=\"m2059-325q-243-625-475-815-231-191-618-191h-460v481h338q237 0 368 113 132 112 291 531l103 262-1415 3444h609l1094-2737 1094 2737h609l-1538-3825z\"/></defs><use xlink:href=\"#DejaVuSans-44\"/><use x=\"77.001953\" xlink:href=\"#DejaVuSans-65\"/><use x=\"138.525391\" xlink:href=\"#DejaVuSans-6c\"/><use x=\"166.308594\" xlink:href=\"#DejaVuSans-61\"/><use x=\"227.587891\" xlink:href=\"#DejaVuSans-79\"/></g><g transform=\"translate(39.867 101.99) scale(.15 -.15)\"><use xlink:href=\"#DejaVuSans-4d\"/><use x=\"86.279297\" xlink:href=\"#DejaVuSans-30\"/></g><g transform=\"translate(7.2 116.31) scale(.12 -.12)\"><defs><path id=\"DejaVuSans-37\" transform=\"scale(.015625)\" d=\"m525 4666h3e3v-269l-1694-4397h-659l1594 4134h-2241v532z\"/><path id=\"DejaVuSans-2e\" transform=\"scale(.015625)\" d=\"m684 794h660v-794h-660v794z\"/><path id=\"DejaVuSans-47\" transform=\"scale(.015625)\" d=\"m3809 666v1253h-1031v519h1656v-2004q-365-259-806-392-440-133-940-133-1094 0-1712 639-617 640-617 1780 0 1144 617 1783 618 639 1712 639 456 0 867-113 411-112 758-331v-672q-350 297-744 447t-828 150q-857 0-1287-478-429-478-429-1425 0-944 429-1422 430-478 1287-478 334 0 596 58 263 58 472 180z\"/><path id=\"DejaVuSans-48\" transform=\"scale(.015625)\" d=\"m628 4666h631v-1913h2294v1913h631v-4666h-631v2222h-2294v-2222h-631v4666z\"/><path id=\"DejaVuSans-7a\" transform=\"scale(.015625)\" d=\"m353 3500h2731v-525l-2162-2516h2162v-459h-2809v525l2163 2516h-2085v459z\"/></defs><use xlink:href=\"#DejaVuSans-37\"/><use x=\"63.623047\" xlink:href=\"#DejaVuSans-2e\"/><use x=\"95.410156\" xlink:href=\"#DejaVuSans-31\"/><use x=\"159.033203\" xlink:href=\"#DejaVuSans-36\"/><use x=\"222.65625\" xlink:href=\"#DejaVuSans-20\"/><use x=\"254.443359\" xlink:href=\"#DejaVuSans-47\"/><use x=\"331.933594\" xlink:href=\"#DejaVuSans-48\"/><use x=\"407.128906\" xlink:href=\"#DejaVuSans-7a\"/></g><g transform=\"translate(223.41 93.716) rotate(180) scale(.15 -.15)\" fill=\"#343a3f\"><defs><path id=\"DejaVuSans-2f\" transform=\"scale(.015625)\" d=\"m1625 4666h531l-1625-5260h-531l1625 5260z\"/></defs><use xlink:href=\"#DejaVuSans-2f\"/><use x=\"33.691406\" xlink:href=\"#DejaVuSans-2f\"/></g><g transform=\"translate(62.353 18.598) scale(.15 -.15)\"><defs><path id=\"DejaVuSans-4e\" transform=\"scale(.015625)\" d=\"m628 4666h850l2069-3903v3903h612v-4666h-850l-2068 3903v-3903h-613v4666z\"/><path id=\"DejaVuSans-3a\" transform=\"scale(.015625)\" d=\"m750 794h659v-794h-659v794zm0 2515h659v-793h-659v793z\"/><path id=\"DejaVuSans-63\" transform=\"scale(.015625)\" d=\"m3122 3366v-538q-244 135-489 202t-495 67q-560 0-870-355-309-354-309-995t309-996q310-354 870-354 250 0 495 67t489 202v-532q-241-112-499-168-257-57-548-57-791 0-1257 497-465 497-465 1341 0 856 470 1346 471 491 1290 491 265 0 518-55 253-54 491-163z\"/><path id=\"DejaVuSans-72\" transform=\"scale(.015625)\" d=\"m2631 2963q-97 56-211 82-114 27-251 27-488 0-749-317t-261-911v-1844h-578v3500h578v-544q182 319 472 473 291 155 707 155 59 0 131-8 72-7 159-23l3-590z\"/><path id=\"DejaVuSans-75\" transform=\"scale(.015625)\" d=\"m544 1381v2119h575v-2097q0-497 193-746 194-248 582-248 465 0 735 297 271 297 271 810v1984h575v-3500h-575v538q-209-319-486-474-276-155-642-155-603 0-916 375-312 375-312 1097zm1447 2203z\"/><path id=\"DejaVuSans-74\" transform=\"scale(.015625)\" d=\"m1172 4494v-994h1184v-447h-1184v-1900q0-428 117-550t477-122h590v-481h-590q-666 0-919 248-253 249-253 905v1900h-422v447h422v994h578z\"/><path id=\"DejaVuSans-2d\" transform=\"scale(.015625)\" d=\"m313 2009h1684v-512h-1684v512z\"/><path id=\"DejaVuSans-2c\" transform=\"scale(.015625)\" d=\"m750 794h659v-538l-512-1e3h-403l256 1e3v538z\"/><path id=\"DejaVuSans-6f\" transform=\"scale(.015625)\" d=\"m1959 3097q-462 0-731-361t-269-989 267-989q268-361 733-361 460 0 728 362 269 363 269 988 0 622-269 986-268 364-728 364zm0 487q750 0 1178-488 429-487 429-1349 0-859-429-1349-428-489-1178-489-753 0-1180 489-426 490-426 1349 0 862 426 1349 427 488 1180 488z\"/><path id=\"DejaVuSans-42\" transform=\"scale(.015625)\" d=\"m1259 2228v-1709h1013q509 0 754 211 246 211 246 645 0 438-246 645-245 208-754 208h-1013zm0 1919v-1406h935q462 0 688 173 227 174 227 530 0 353-227 528-226 175-688 175h-935zm-631 519h1613q722 0 1112-300 391-300 391-853 0-429-200-682t-588-315q466-100 724-418 258-317 258-792 0-625-425-966-425-340-1210-340h-1675v4666z\"/><path id=\"DejaVuSans-6b\" transform=\"scale(.015625)\" d=\"m581 4863h578v-2872l1716 1509h734l-1856-1637 1935-1863h-750l-1779 1709v-1709h-578v4863z\"/><path id=\"DejaVuSans-64\" transform=\"scale(.015625)\" d=\"m2906 2969v1894h575v-4863h-575v525q-181-312-458-464-276-152-664-152-634 0-1033 506-398 507-398 1332t398 1331q399 506 1033 506 388 0 664-152 277-151 458-463zm-1959-1222q0-634 261-995t717-361 718 361q263 361 263 995t-263 995q-262 361-718 361t-717-361-261-995z\"/><path id=\"DejaVuSans-62\" transform=\"scale(.015625)\" d=\"m3116 1747q0 634-261 995t-717 361q-457 0-718-361t-261-995 261-995 718-361q456 0 717 361t261 995zm-1957 1222q182 312 458 463 277 152 661 152 638 0 1036-506 399-506 399-1331t-399-1332q-398-506-1036-506-384 0-661 152-276 152-458 464v-525h-578v4863h578v-1894z\"/><path id=\"DejaVuSans-71\" transform=\"scale(.015625)\" d=\"m947 1747q0-634 261-995t717-361 718 361q263 361 263 995t-263 995q-262 361-718 361t-717-361-261-995zm1959-1222q-181-312-458-464-276-152-664-152-634 0-1033 506-398 507-398 1332t398 1331q399 506 1033 506 388 0 664-152 277-151 458-463v531h575v-4831h-575v1856z\"/></defs><use xlink:href=\"#DejaVuSans-4e\"/><use x=\"74.804688\" xlink:href=\"#DejaVuSans-61\"/><use x=\"136.083984\" xlink:href=\"#DejaVuSans-6d\"/><use x=\"233.496094\" xlink:href=\"#DejaVuSans-65\"/><use x=\"295.019531\" xlink:href=\"#DejaVuSans-3a\"/><use x=\"328.710938\" xlink:href=\"#DejaVuSans-20\"/><use x=\"360.498047\" xlink:href=\"#DejaVuSans-63\"/><use x=\"415.478516\" xlink:href=\"#DejaVuSans-69\"/><use x=\"443.261719\" xlink:href=\"#DejaVuSans-72\"/><use x=\"482.125\" xlink:href=\"#DejaVuSans-63\"/><use x=\"537.105469\" xlink:href=\"#DejaVuSans-75\"/><use x=\"600.484375\" xlink:href=\"#DejaVuSans-69\"/><use x=\"628.267578\" xlink:href=\"#DejaVuSans-74\"/><use x=\"667.476562\" xlink:href=\"#DejaVuSans-2d\"/><use x=\"703.560547\" xlink:href=\"#DejaVuSans-31\"/><use x=\"767.183594\" xlink:href=\"#DejaVuSans-37\"/><use x=\"830.806641\" xlink:href=\"#DejaVuSans-38\"/><use x=\"894.429688\" xlink:href=\"#DejaVuSans-2c\"/><use x=\"926.216797\" xlink:href=\"#DejaVuSans-20\"/><use x=\"958.003906\" xlink:href=\"#DejaVuSans-44\"/><use x=\"1035.005859\" xlink:href=\"#DejaVuSans-75\"/><use x=\"1098.384766\" xlink:href=\"#DejaVuSans-72\"/><use x=\"1139.498047\" xlink:href=\"#DejaVuSans-61\"/><use x=\"1200.777344\" xlink:href=\"#DejaVuSans-74\"/><use x=\"1239.986328\" xlink:href=\"#DejaVuSans-69\"/><use x=\"1267.769531\" xlink:href=\"#DejaVuSans-6f\"/><use x=\"1328.951172\" xlink:href=\"#DejaVuSans-6e\"/><use x=\"1392.330078\" xlink:href=\"#DejaVuSans-3a\"/><use x=\"1426.021484\" xlink:href=\"#DejaVuSans-20\"/><use x=\"1457.808594\" xlink:href=\"#DejaVuSans-35\"/><use x=\"1521.431641\" xlink:href=\"#DejaVuSans-33\"/><use x=\"1585.054688\" xlink:href=\"#DejaVuSans-35\"/><use x=\"1648.677734\" xlink:href=\"#DejaVuSans-31\"/><use x=\"1712.300781\" xlink:href=\"#DejaVuSans-2e\"/><use x=\"1744.087891\" xlink:href=\"#DejaVuSans-31\"/><use x=\"1807.710938\" xlink:href=\"#DejaVuSans-20\"/><use x=\"1839.498047\" xlink:href=\"#DejaVuSans-6e\"/><use x=\"1902.876953\" xlink:href=\"#DejaVuSans-73\"/><use x=\"1954.976562\" xlink:href=\"#DejaVuSans-2c\"/><use x=\"1986.763672\" xlink:href=\"#DejaVuSans-20\"/><use x=\"2018.550781\" xlink:href=\"#DejaVuSans-42\"/><use x=\"2087.154297\" xlink:href=\"#DejaVuSans-61\"/><use x=\"2148.433594\" xlink:href=\"#DejaVuSans-63\"/><use x=\"2203.414062\" xlink:href=\"#DejaVuSans-6b\"/><use x=\"2257.699219\" xlink:href=\"#DejaVuSans-65\"/><use x=\"2319.222656\" xlink:href=\"#DejaVuSans-6e\"/><use x=\"2382.601562\" xlink:href=\"#DejaVuSans-64\"/><use x=\"2446.078125\" xlink:href=\"#DejaVuSans-3a\"/><use x=\"2479.769531\" xlink:href=\"#DejaVuSans-20\"/><use x=\"2511.556641\" xlink:href=\"#DejaVuSans-69\"/><use x=\"2539.339844\" xlink:href=\"#DejaVuSans-62\"/><use x=\"2602.816406\" xlink:href=\"#DejaVuSans-6d\"/><use x=\"2700.228516\" xlink:href=\"#DejaVuSans-71\"/><use x=\"2763.705078\" xlink:href=\"#DejaVuSans-5f\"/><use x=\"2813.705078\" xlink:href=\"#DejaVuSans-6d\"/><use x=\"2911.117188\" xlink:href=\"#DejaVuSans-61\"/><use x=\"2972.396484\" xlink:href=\"#DejaVuSans-6e\"/><use x=\"3035.775391\" xlink:href=\"#DejaVuSans-69\"/><use x=\"3063.558594\" xlink:href=\"#DejaVuSans-6c\"/><use x=\"3091.341797\" xlink:href=\"#DejaVuSans-61\"/></g><defs><clipPath id=\"p8c07dba97c\"><rect x=\"62.353\" y=\"22.134\" width=\"725.4\" height=\"128.46\"/></clipPath></defs></svg>"
      ],
      "text/plain": [
       "<Figure size 1300x231.706 with 1 Axes>"
      ]
     },
     "execution_count": 36,
     "metadata": {},
     "output_type": "execute_result"
    }
   ],
   "source": [
    "gnd_schedule = schedule(qc_gnd, backend)\n",
    "gnd_schedule.draw(backend=backend)"
   ]
  },
  {
   "cell_type": "code",
   "execution_count": 37,
   "metadata": {},
   "outputs": [],
   "source": [
    "# Excited state\n",
    "with pulse.build(backend=backend, default_alignment='sequential', name='excited state') as exc_schedule:\n",
    "    drive_chan = pulse.drive_channel(qubit)\n",
    "    pulse.set_frequency(rough_qubit_frequency, drive_chan)\n",
    "    pulse.call(pi_pulse)"
   ]
  },
  {
   "cell_type": "code",
   "execution_count": 38,
   "metadata": {},
   "outputs": [],
   "source": [
    "qc_exc = QuantumCircuit(1, 1)\n",
    "qc_exc.x(0)\n",
    "qc_exc.measure(0, 0)\n",
    "\n",
    "qc_exc.add_calibration(\"x\", (0,), exc_schedule, [])"
   ]
  },
  {
   "cell_type": "code",
   "execution_count": 39,
   "metadata": {},
   "outputs": [
    {
     "data": {
      "image/svg+xml": [
       "<?xml version=\"1.0\" encoding=\"UTF-8\"?><!DOCTYPE svg  PUBLIC '-//W3C//DTD SVG 1.1//EN'  'http://www.w3.org/Graphics/SVG/1.1/DTD/svg11.dtd'><svg width=\"814.04pt\" height=\"289.3pt\" version=\"1.1\" viewBox=\"0 0 814.04 289.3\" xmlns=\"http://www.w3.org/2000/svg\" xmlns:xlink=\"http://www.w3.org/1999/xlink\"><defs><style type=\"text/css\">*{stroke-linejoin: round; stroke-linecap: butt}</style></defs><path d=\"m0 289.3h814.04v-289.3h-814.04z\" fill=\"#ffffff\"/><path d=\"m62.353 242.07h725.4v-219.93h-725.4z\" fill=\"#f2f3f4\"/><path d=\"m62.353 101.73h246.52v0h478.88\" clip-path=\"url(#p91cd5b00aa)\" fill=\"none\" stroke=\"#000000\" stroke-linecap=\"square\"/><path d=\"m62.353 186.63h246.52v0h478.88\" clip-path=\"url(#p91cd5b00aa)\" fill=\"none\" stroke=\"#000000\" stroke-linecap=\"square\"/><defs><path id=\"maed4efea0a\" d=\"m0 0v3.5\" stroke=\"#343a3f\" stroke-width=\".8\"/></defs><use x=\"95.325852\" y=\"242.068224\" fill=\"#343a3f\" stroke=\"#343a3f\" stroke-width=\".8\" xlink:href=\"#maed4efea0a\"/><g transform=\"translate(90.554 260.47) scale(.15 -.15)\" fill=\"#343a3f\"><defs><path id=\"DejaVuSans-30\" transform=\"scale(.015625)\" d=\"m2034 4250q-487 0-733-480-245-479-245-1442 0-959 245-1439 246-480 733-480 491 0 736 480 246 480 246 1439 0 963-246 1442-245 480-736 480zm0 500q785 0 1199-621 414-620 414-1801 0-1178-414-1799-414-620-1199-620-784 0-1198 620-414 621-414 1799 0 1181 414 1801 414 621 1198 621z\"/></defs><use xlink:href=\"#DejaVuSans-30\"/></g><use x=\"233.811307\" y=\"242.068224\" fill=\"#343a3f\" stroke=\"#343a3f\" stroke-width=\".8\" xlink:href=\"#maed4efea0a\"/><g transform=\"translate(219.5 260.47) scale(.15 -.15)\" fill=\"#343a3f\"><defs><path id=\"DejaVuSans-31\" transform=\"scale(.015625)\" d=\"m794 531h1031v3560l-1122-225v575l1116 225h631v-4135h1031v-531h-2687v531z\"/><path id=\"DejaVuSans-35\" transform=\"scale(.015625)\" d=\"m691 4666h2478v-532h-1900v-1143q137 47 274 70 138 23 276 23 781 0 1237-428 457-428 457-1159 0-753-469-1171-469-417-1322-417-294 0-599 50-304 50-629 150v635q281-153 581-228t634-75q541 0 856 284 316 284 316 772 0 487-316 771-315 285-856 285-253 0-505-56-251-56-513-175v2344z\"/></defs><use xlink:href=\"#DejaVuSans-31\"/><use x=\"63.623047\" xlink:href=\"#DejaVuSans-35\"/><use x=\"127.246094\" xlink:href=\"#DejaVuSans-30\"/></g><use x=\"372.296761\" y=\"242.068224\" fill=\"#343a3f\" stroke=\"#343a3f\" stroke-width=\".8\" xlink:href=\"#maed4efea0a\"/><g transform=\"translate(353.21 260.47) scale(.15 -.15)\" fill=\"#343a3f\"><defs><path id=\"DejaVuSans-36\" transform=\"scale(.015625)\" d=\"m2113 2584q-425 0-674-291-248-290-248-796 0-503 248-796 249-292 674-292t673 292q248 293 248 796 0 506-248 796-248 291-673 291zm1253 1979v-575q-238 112-480 171-242 60-480 60-625 0-955-422-329-422-376-1275 184 272 462 417 279 145 613 145 703 0 1111-427 408-426 408-1160 0-719-425-1154-425-434-1131-434-810 0-1238 620-428 621-428 1799 0 1106 525 1764t1409 658q238 0 480-47t505-140z\"/></defs><use xlink:href=\"#DejaVuSans-35\"/><use x=\"63.623047\" xlink:href=\"#DejaVuSans-30\"/><use x=\"127.246094\" xlink:href=\"#DejaVuSans-35\"/><use x=\"190.869141\" xlink:href=\"#DejaVuSans-36\"/></g><use x=\"510.782216\" y=\"242.068224\" fill=\"#343a3f\" stroke=\"#343a3f\" stroke-width=\".8\" xlink:href=\"#maed4efea0a\"/><g transform=\"translate(491.69 260.47) scale(.15 -.15)\" fill=\"#343a3f\"><defs><path id=\"DejaVuSans-32\" transform=\"scale(.015625)\" d=\"m1228 531h2203v-531h-2962v531q359 372 979 998 621 627 780 809 303 340 423 576 121 236 121 464 0 372-261 606-261 235-680 235-297 0-627-103-329-103-704-313v638q381 153 712 231 332 78 607 78 725 0 1156-363 431-362 431-968 0-288-108-546-107-257-392-607-78-91-497-524-418-433-1181-1211z\"/><path id=\"DejaVuSans-37\" transform=\"scale(.015625)\" d=\"m525 4666h3e3v-269l-1694-4397h-659l1594 4134h-2241v532z\"/></defs><use xlink:href=\"#DejaVuSans-35\"/><use x=\"63.623047\" xlink:href=\"#DejaVuSans-32\"/><use x=\"127.246094\" xlink:href=\"#DejaVuSans-30\"/><use x=\"190.869141\" xlink:href=\"#DejaVuSans-37\"/></g><use x=\"649.26767\" y=\"242.068224\" fill=\"#343a3f\" stroke=\"#343a3f\" stroke-width=\".8\" xlink:href=\"#maed4efea0a\"/><g transform=\"translate(630.18 260.47) scale(.15 -.15)\" fill=\"#343a3f\"><defs><path id=\"DejaVuSans-33\" transform=\"scale(.015625)\" d=\"m2597 2516q453-97 707-404 255-306 255-756 0-690-475-1069-475-378-1350-378-293 0-604 58t-642 174v609q262-153 574-231 313-78 654-78 593 0 904 234t311 681q0 413-289 645-289 233-804 233h-544v519h569q465 0 712 186t247 536q0 359-255 551-254 193-729 193-260 0-557-57-297-56-653-174v562q360 100 674 150t592 50q719 0 1137-327 419-326 419-882 0-388-222-655t-631-370z\"/></defs><use xlink:href=\"#DejaVuSans-35\"/><use x=\"63.623047\" xlink:href=\"#DejaVuSans-33\"/><use x=\"127.246094\" xlink:href=\"#DejaVuSans-35\"/><use x=\"190.869141\" xlink:href=\"#DejaVuSans-37\"/></g><use x=\"787.753125\" y=\"242.068224\" fill=\"#343a3f\" stroke=\"#343a3f\" stroke-width=\".8\" xlink:href=\"#maed4efea0a\"/><g transform=\"translate(768.67 260.47) scale(.15 -.15)\" fill=\"#343a3f\"><defs><path id=\"DejaVuSans-38\" transform=\"scale(.015625)\" d=\"m2034 2216q-450 0-708-241-257-241-257-662 0-422 257-663 258-241 708-241t709 242q260 243 260 662 0 421-258 662-257 241-711 241zm-631 268q-406 100-633 378-226 279-226 679 0 559 398 884 399 325 1092 325 697 0 1094-325t397-884q0-400-227-679-226-278-629-378 456-106 710-416 255-309 255-755 0-679-414-1042-414-362-1186-362-771 0-1186 362-414 363-414 1042 0 446 256 755 257 310 713 416zm-231 997q0-362 226-565 227-203 636-203 407 0 636 203 230 203 230 565 0 363-230 566-229 203-636 203-409 0-636-203-226-203-226-566z\"/></defs><use xlink:href=\"#DejaVuSans-35\"/><use x=\"63.623047\" xlink:href=\"#DejaVuSans-35\"/><use x=\"127.246094\" xlink:href=\"#DejaVuSans-30\"/><use x=\"190.869141\" xlink:href=\"#DejaVuSans-38\"/></g><g transform=\"translate(389.81 278.98) scale(.15 -.15)\" fill=\"#343a3f\"><defs><path id=\"DejaVuSans-54\" transform=\"scale(.015625)\" d=\"m-19 4666h3947v-532h-1656v-4134h-634v4134h-1657v532z\"/><path id=\"DejaVuSans-69\" transform=\"scale(.015625)\" d=\"m603 3500h575v-3500h-575v3500zm0 1363h575v-729h-575v729z\"/><path id=\"DejaVuSans-6d\" transform=\"scale(.015625)\" d=\"m3328 2828q216 388 516 572t706 184q547 0 844-383 297-382 297-1088v-2113h-578v2094q0 503-179 746-178 244-543 244-447 0-707-297-259-296-259-809v-1978h-578v2094q0 506-178 748t-550 242q-441 0-701-298-259-298-259-808v-1978h-578v3500h578v-544q197 322 472 475t653 153q382 0 649-194 267-193 395-562z\"/><path id=\"DejaVuSans-65\" transform=\"scale(.015625)\" d=\"m3597 1894v-281h-2644q38-594 358-905t892-311q331 0 642 81t618 244v-544q-310-131-635-200t-659-69q-838 0-1327 487-489 488-489 1320 0 859 464 1363 464 505 1252 505 706 0 1117-455 411-454 411-1235zm-575 169q-6 471-264 752-258 282-683 282-481 0-770-272t-333-766l2050 4z\"/><path id=\"DejaVuSans-28\" transform=\"scale(.015625)\" d=\"m1984 4856q-418-718-622-1422-203-703-203-1425 0-721 205-1429t620-1424h-500q-468 735-701 1444t-233 1409q0 697 231 1403 232 707 703 1444h500z\"/><path id=\"DejaVuSans-6e\" transform=\"scale(.015625)\" d=\"m3513 2113v-2113h-575v2094q0 497-194 743-194 247-581 247-466 0-735-297-269-296-269-809v-1978h-578v3500h578v-544q207 316 486 472 280 156 646 156 603 0 912-373 310-373 310-1098z\"/><path id=\"DejaVuSans-73\" transform=\"scale(.015625)\" d=\"m2834 3397v-544q-243 125-506 187-262 63-544 63-428 0-642-131t-214-394q0-200 153-314t616-217l197-44q612-131 870-370t258-667q0-488-386-773-386-284-1061-284-281 0-586 55t-642 164v594q319-166 628-249 309-82 613-82 406 0 624 139 219 139 219 392 0 234-158 359-157 125-692 241l-200 47q-534 112-772 345-237 233-237 639 0 494 350 762 350 269 994 269 318 0 599-47 282-46 519-140z\"/><path id=\"DejaVuSans-29\" transform=\"scale(.015625)\" d=\"m513 4856h500q468-737 701-1444 233-706 233-1403 0-700-233-1409t-701-1444h-500q415 716 620 1424t205 1429q0 722-205 1425-205 704-620 1422z\"/></defs><use xlink:href=\"#DejaVuSans-54\"/><use x=\"57.958984\" xlink:href=\"#DejaVuSans-69\"/><use x=\"85.742188\" xlink:href=\"#DejaVuSans-6d\"/><use x=\"183.154297\" xlink:href=\"#DejaVuSans-65\"/><use x=\"244.677734\" xlink:href=\"#DejaVuSans-20\"/><use x=\"276.464844\" xlink:href=\"#DejaVuSans-28\"/><use x=\"315.478516\" xlink:href=\"#DejaVuSans-6e\"/><use x=\"378.857422\" xlink:href=\"#DejaVuSans-73\"/><use x=\"430.957031\" xlink:href=\"#DejaVuSans-29\"/></g><defs><path id=\"m0d68cc4aa9\" d=\"m95.326-187.57v-0.001255h0.20455v-8.98e-4h0.20454v-9.5e-4h0.20455v-0.001005h0.20454v-0.001063h0.20455v-0.001125h0.20454v-0.001188h0.20454v-0.001256h0.20455v-0.001328h0.20454v-0.001402h0.20455v-0.001481h0.20454v-0.001564h0.20455v-0.001651h0.20454v-0.001743h0.20455v-0.001839h0.20454v-0.001939h0.20455v-0.002046h0.20454v-0.002157h0.20454v-0.002274h0.20455v-0.002397h0.20454v-0.002525h0.20455v-0.002661h0.20454v-0.002801h0.20455v-0.00295h0.20454v-0.003106h0.20455v-0.003268h0.20454v-0.003439h0.20455v-0.003617h0.20454v-0.003804h0.20454v-4e-3h0.20455v-0.004204h0.20454v-0.004419h0.20455v-0.004642h0.20454v-0.004876h0.20455v-0.005121h0.20454v-0.005376h0.20455v-0.005643h0.20454v-0.005922h0.20455v-0.006213h0.20454v-0.006517h0.20454v-0.006833h0.20455v-0.007165h0.20454v-0.007509h0.20455v-0.007869h0.20454v-0.008243h0.20455v-0.008634h0.20454v-0.009041h0.20455v-0.009464h0.20454v-0.009905h0.20455v-0.010365h0.20454v-0.010843h0.20454v-0.011339h0.20455v-0.011857h0.20454v-0.012394h0.20455v-0.012953h0.20454v-0.013533h0.20455v-0.014137h0.20454v-0.014764h0.20455v-0.015414h0.20454v-0.016089h0.20455v-0.01679h0.20454v-0.017517h0.20454v-0.01827h0.20455v-0.019053h0.20454v-0.019863h0.20455v-0.020702h0.20454v-0.021573h0.20455v-0.022473h0.20454v-0.023406h0.20455v-0.024371h0.20454v-0.02537h0.20455v-0.026404h0.20454v-0.027472h0.20454v-0.028577h0.20455v-0.029719h0.20454v-0.030899h0.20455v-0.032118h0.20454v-0.033376h0.20455v-0.034675h0.20454v-0.036016h0.20455v-0.037399h0.20454v-0.038826h0.20455v-0.040296h0.20454v-0.041813h0.20454v-0.043376h0.20455v-0.044985h0.20454v-0.046642h0.20455v-0.048349h0.20454v-0.050105h0.20455v-0.051912h0.20454v-0.053771h0.20455v-0.055681h0.20454v-0.057646h0.20455v-0.059664h0.20454v-0.061738h0.20454v-0.063866h0.20455v-0.066053h0.20454v-0.068295h0.20455v-0.070597h0.20454v-0.072958h0.20455v-0.075377h0.20454v-0.077857h0.20455v-0.080398h0.20454v-0.083001h0.20455v-0.085665h0.20454v-0.088393h0.20454v-0.091184h0.20455v-0.094038h0.20454v-0.096957h0.20455v-0.099941h0.20454v-0.10299h0.20455v-0.1061h0.20454v-0.10928h0.20455v-0.11253h0.20454v-0.11584h0.20455v-0.11921h0.20454v-0.12266h0.20454v-0.12617h0.20455v-0.12974h0.20454v-0.13338h0.20455v-0.13709h0.20454v-0.14086h0.20455v-0.1447h0.20454v-0.1486h0.20455v-0.15257h0.20454v-0.1566h0.20455v-0.1607h0.20454v-0.16485h0.20454v-0.16907h0.20455v-0.17335h0.20454v-0.17769h0.20455v-0.18209h0.20454v-0.18655h0.20455v-0.19106h0.20454v-0.19563h0.20455v-0.20025h0.20454v-0.20493h0.20455v-0.20966h0.20454v-0.21443h0.20454v-0.21926h0.20455v-0.22413h0.20454v-0.22904h0.20455v-0.234h0.20454v-0.23899h0.20455v-0.24402h0.20454v-0.24909h0.20455v-0.2542h0.20454v-0.25933h0.20455v-0.26449h0.20454v-0.26967h0.20454v-0.27488h0.20455v-0.28011h0.20454v-0.28535h0.20455v-0.2906h0.20454v-0.29587h0.20455v-0.30114h0.20454v-0.30642h0.20455v-0.3117h0.20454v-0.31697h0.20455v-0.32223h0.20454v-0.32749h0.20454v-0.33272h0.20455v-0.33794h0.20454v-0.34314h0.20455v-0.34831h0.20454v-0.35345h0.20455v-0.35855h0.20454v-0.36361h0.20455v-0.36863h0.20454v-0.3736h0.20455v-0.37852h0.20454v-0.38338h0.20454v-0.38818h0.20455v-0.39291h0.20454v-0.39757h0.20455v-0.40216h0.20454v-0.40666h0.20455v-0.41107h0.20454v-0.4154h0.20455v-0.41963h0.20454v-0.42376h0.20455v-0.42779h0.20454v-0.4317h0.20454v-0.4355h0.20455v-0.43918h0.20454v-0.44274h0.20455v-0.44616h0.20454v-0.44945h0.20455v-0.45261h0.20454v-0.45562h0.20455v-0.45847h0.20454v-0.46118h0.20455v-0.46373h0.20454v-0.46611h0.20454v-0.46833h0.20455v-0.47038h0.20454v-0.47225h0.20455v-0.47394h0.20454v-0.47545h0.20455v-0.47676h0.20454v-0.47789h0.20455v-0.47882h0.20454v-0.47955h0.20455v-0.48007h0.20454v-0.48039h0.20454v-0.48049h0.20455v-0.48039h0.20454v-0.48006h0.20455v-0.47952h0.20454v-0.47875h0.20455v-0.47776h0.20454v-0.47653h0.20455v-0.47508h0.20454v-0.4734h0.20455v-0.47148h0.20454v-0.46932h0.20454v-0.46693h0.20455v-0.46429h0.20454v-0.46142h0.20455v-0.4583h0.20454v-0.45495h0.20455v-0.45135h0.20454v-0.4475h0.20455v-0.44342h0.20454v-0.43908h0.20455v-0.43451h0.20454v-0.42969h0.20454v-0.42464h0.20455v-0.41933h0.20454v-0.41379h0.20455v-0.40802h0.20454v-0.402h0.20455v-0.39575h0.20454v-0.38927h0.20455v-0.38255h0.20454v-0.37561h0.20455v-0.36844h0.20454v-0.36105h0.20454v-0.35344h0.20455v-0.34562h0.20454v-0.33758h0.20455v-0.32933h0.20454v-0.32088h0.20455v-0.31223h0.20454v-0.30338h0.20455v-0.29434h0.20454v-0.28512h0.20455v-0.27572h0.20454v-0.26614h0.20454v-0.25639h0.20455v-0.24647h0.20454v-0.2364h0.20455v-0.22617h0.20454v-0.2158h0.20455v-0.20528h0.20454v-0.19464h0.20455v-0.18386h0.20454v-0.17297h0.20455v-0.16196h0.20454v-0.15084h0.20454v-0.13963h0.20455v-0.12832h0.20454v-0.11693h0.20455v-0.10546h0.20454v-0.093918h0.20455v-0.082316h0.20454v-0.070659h0.20455v-0.058955h0.20454v-0.047211h0.20455v-0.035435h0.20454v-0.023637h0.20454v-0.011823h0.40909v0.011823h0.20455v0.023637h0.20454v0.035435h0.20455v0.047211h0.20454v0.058955h0.20455v0.070659h0.20454v0.082316h0.20455v0.093918h0.20454v0.10546h0.20454v0.11693h0.20455v0.12832h0.20454v0.13963h0.20455v0.15084h0.20454v0.16196h0.20455v0.17297h0.20454v0.18386h0.20455v0.19464h0.20454v0.20528h0.20455v0.2158h0.20454v0.22617h0.20454v0.2364h0.20455v0.24647h0.20454v0.25639h0.20455v0.26614h0.20454v0.27572h0.20455v0.28512h0.20454v0.29434h0.20455v0.30338h0.20454v0.31223h0.20455v0.32088h0.20454v0.32933h0.20454v0.33758h0.20455v0.34562h0.20454v0.35344h0.20455v0.36105h0.20454v0.36844h0.20455v0.37561h0.20454v0.38255h0.20455v0.38927h0.20454v0.39575h0.20455v0.402h0.20454v0.40802h0.20454v0.41379h0.20455v0.41933h0.20454v0.42464h0.20455v0.42969h0.20454v0.43451h0.20455v0.43908h0.20454v0.44342h0.20455v0.4475h0.20454v0.45135h0.20455v0.45495h0.20454v0.4583h0.20454v0.46142h0.20455v0.46429h0.20454v0.46693h0.20455v0.46932h0.20454v0.47148h0.20455v0.4734h0.20454v0.47508h0.20455v0.47653h0.20454v0.47776h0.20455v0.47875h0.20454v0.47952h0.20454v0.48006h0.20455v0.48039h0.20454v0.48049h0.20455v0.48039h0.20454v0.48007h0.20455v0.47955h0.20454v0.47882h0.20455v0.47789h0.20454v0.47676h0.20455v0.47545h0.20454v0.47394h0.20454v0.47225h0.20455v0.47038h0.20454v0.46833h0.20455v0.46611h0.20454v0.46373h0.20455v0.46118h0.20454v0.45847h0.20455v0.45562h0.20454v0.45261h0.20455v0.44945h0.20454v0.44616h0.20454v0.44274h0.20455v0.43918h0.20454v0.4355h0.20455v0.4317h0.20454v0.42779h0.20455v0.42376h0.20454v0.41963h0.20455v0.4154h0.20454v0.41107h0.20455v0.40666h0.20454v0.40216h0.20454v0.39757h0.20455v0.39291h0.20454v0.38818h0.20455v0.38338h0.20454v0.37852h0.20455v0.3736h0.20454v0.36863h0.20455v0.36361h0.20454v0.35855h0.20455v0.35345h0.20454v0.34831h0.20454v0.34314h0.20455v0.33794h0.20454v0.33272h0.20455v0.32749h0.20454v0.32223h0.20455v0.31697h0.20454v0.3117h0.20455v0.30642h0.20454v0.30114h0.20455v0.29587h0.20454v0.2906h0.20454v0.28535h0.20455v0.28011h0.20454v0.27488h0.20455v0.26967h0.20454v0.26449h0.20455v0.25933h0.20454v0.2542h0.20455v0.24909h0.20454v0.24402h0.20455v0.23899h0.20454v0.234h0.20454v0.22904h0.20455v0.22413h0.20454v0.21926h0.20455v0.21443h0.20454v0.20966h0.20455v0.20493h0.20454v0.20025h0.20455v0.19563h0.20454v0.19106h0.20455v0.18655h0.20454v0.18209h0.20454v0.17769h0.20455v0.17335h0.20454v0.16907h0.20455v0.16485h0.20454v0.1607h0.20455v0.1566h0.20454v0.15257h0.20455v0.1486h0.20454v0.1447h0.20455v0.14086h0.20454v0.13709h0.20454v0.13338h0.20455v0.12974h0.20454v0.12617h0.20455v0.12266h0.20454v0.11921h0.20455v0.11584h0.20454v0.11253h0.20455v0.10928h0.20454v0.1061h0.20455v0.10299h0.20454v0.099941h0.20454v0.096957h0.20455v0.094038h0.20454v0.091184h0.20455v0.088393h0.20454v0.085665h0.20455v0.083001h0.20454v0.080398h0.20455v0.077857h0.20454v0.075377h0.20455v0.072958h0.20454v0.070597h0.20454v0.068295h0.20455v0.066053h0.20454v0.063866h0.20455v0.061738h0.20454v0.059664h0.20455v0.057646h0.20454v0.055681h0.20455v0.053771h0.20454v0.051912h0.20455v0.050105h0.20454v0.048349h0.20454v0.046642h0.20455v0.044985h0.20454v0.043376h0.20455v0.041813h0.20454v0.040296h0.20455v0.038826h0.20454v0.037399h0.20455v0.036016h0.20454v0.034675h0.20455v0.033376h0.20454v0.032118h0.20454v0.030899h0.20455v0.029719h0.20454v0.028577h0.20455v0.027472h0.20454v0.026404h0.20455v0.02537h0.20454v0.024371h0.20455v0.023406h0.20454v0.022473h0.20455v0.021573h0.20454v0.020702h0.20454v0.019863h0.20455v0.019053h0.20454v0.01827h0.20455v0.017517h0.20454v0.01679h0.20455v0.016089h0.20454v0.015414h0.20455v0.014764h0.20454v0.014137h0.20455v0.013533h0.20454v0.012953h0.20454v0.012394h0.20455v0.011857h0.20454v0.011339h0.20455v0.010843h0.20454v0.010365h0.20455v0.009905h0.20454v0.009464h0.20455v0.009041h0.20454v0.008634h0.20455v0.008243h0.20454v0.007869h0.20454v0.007509h0.20455v0.007165h0.20454v0.006833h0.20455v0.006517h0.20454v0.006213h0.20455v0.005922h0.20454v0.005643h0.20455v0.005376h0.20454v0.005121h0.20455v0.004876h0.20454v0.004642h0.20454v0.004419h0.20455v0.004204h0.20454v4e-3h0.20455v0.003804h0.20454v0.003617h0.20455v0.003439h0.20454v0.003268h0.20455v0.003106h0.20454v0.00295h0.20455v0.002801h0.20454v0.002661h0.20454v0.002525h0.20455v0.002397h0.20454v0.002274h0.20455v0.002157h0.20454v0.002046h0.20455v0.001939h0.20454v0.001839h0.20455v0.001743h0.20454v0.001651h0.20455v0.001564h0.20454v0.001481h0.20454v0.001402h0.20455v0.001328h0.20454v0.001256h0.20455v0.001188h0.20454v0.001125h0.20455v0.001063h0.20454v0.001005h0.20455v9.5e-4h0.20454v8.98e-4h0.20455v0.001255h-0.20455-0.20454-0.20455-0.20454-0.20455-0.20454-0.20455-0.20454-0.20455-0.20454-0.20454-0.20455-0.20454-0.20455-0.20454-0.20455-0.20454-0.20455-0.20454-0.20455-0.20454-0.20454-0.20455-0.20454-0.20455-0.20454-0.20455-0.20454-0.20455-0.20454-0.20455-0.20454-0.20454-0.20455-0.20454-0.20455-0.20454-0.20455-0.20454-0.20455-0.20454-0.20455-0.20454-0.20454-0.20455-0.20454-0.20455-0.20454-0.20455-0.20454-0.20455-0.20454-0.20455-0.20454-0.20454-0.20455-0.20454-0.20455-0.20454-0.20455-0.20454-0.20455-0.20454-0.20455-0.20454-0.20454-0.20455-0.20454-0.20455-0.20454-0.20455-0.20454-0.20455-0.20454-0.20455-0.20454-0.20454-0.20455-0.20454-0.20455-0.20454-0.20455-0.20454-0.20455-0.20454-0.20455-0.20454-0.20454-0.20455-0.20454-0.20455-0.20454-0.20455-0.20454-0.20455-0.20454-0.20455-0.20454-0.20454-0.20455-0.20454-0.20455-0.20454-0.20455-0.20454-0.20455-0.20454-0.20455-0.20454-0.20454-0.20455-0.20454-0.20455-0.20454-0.20455-0.20454-0.20455-0.20454-0.20455-0.20454-0.20454-0.20455-0.20454-0.20455-0.20454-0.20455-0.20454-0.20455-0.20454-0.20455-0.20454-0.20454-0.20455-0.20454-0.20455-0.20454-0.20455-0.20454-0.20455-0.20454-0.20455-0.20454-0.20454-0.20455-0.20454-0.20455-0.20454-0.20455-0.20454-0.20455-0.20454-0.20455-0.20454-0.20454-0.20455-0.20454-0.20455-0.20454-0.20455-0.20454-0.20455-0.20454-0.20455-0.20454-0.20454-0.20455-0.20454-0.20455-0.20454-0.20455-0.20454-0.20455-0.20454-0.20455-0.20454-0.20454-0.20455-0.20454-0.20455-0.20454-0.20455-0.20454-0.20455-0.20454-0.20455-0.20454-0.20454-0.20455-0.20454-0.20455-0.20454-0.20455-0.20454-0.20455-0.20454-0.20455-0.20454-0.20454-0.20455-0.20454-0.20455-0.20454-0.20455-0.20454-0.20455-0.20454-0.20455-0.20454-0.20454-0.20455-0.20454-0.20455-0.20454-0.20455-0.20454-0.20455-0.20454-0.20455-0.20454-0.20454-0.20455-0.20454-0.20455-0.20454-0.20455-0.20454-0.20455-0.20454-0.20455-0.20454-0.20454-0.20455-0.20454-0.20455-0.20454-0.20455-0.20454-0.20455-0.20454-0.20455-0.20454-0.20454-0.20455-0.20454-0.20455-0.20454-0.20455-0.20454-0.20455-0.20454-0.20455-0.20454-0.20454-0.20455-0.20454-0.20455-0.20454-0.20455-0.20454-0.20455-0.20454-0.20455-0.20454-0.20454-0.20455-0.20454-0.20455-0.20454-0.20455-0.20454-0.20455-0.40909-0.20454-0.20454-0.20455-0.20454-0.20455-0.20454-0.20455-0.20454-0.20455-0.20454-0.20455-0.20454-0.20454-0.20455-0.20454-0.20455-0.20454-0.20455-0.20454-0.20455-0.20454-0.20455-0.20454-0.20454-0.20455-0.20454-0.20455-0.20454-0.20455-0.20454-0.20455-0.20454-0.20455-0.20454-0.20454-0.20455-0.20454-0.20455-0.20454-0.20455-0.20454-0.20455-0.20454-0.20455-0.20454-0.20454-0.20455-0.20454-0.20455-0.20454-0.20455-0.20454-0.20455-0.20454-0.20455-0.20454-0.20454-0.20455-0.20454-0.20455-0.20454-0.20455-0.20454-0.20455-0.20454-0.20455-0.20454-0.20454-0.20455-0.20454-0.20455-0.20454-0.20455-0.20454-0.20455-0.20454-0.20455-0.20454-0.20454-0.20455-0.20454-0.20455-0.20454-0.20455-0.20454-0.20455-0.20454-0.20455-0.20454-0.20454-0.20455-0.20454-0.20455-0.20454-0.20455-0.20454-0.20455-0.20454-0.20455-0.20454-0.20454-0.20455-0.20454-0.20455-0.20454-0.20455-0.20454-0.20455-0.20454-0.20455-0.20454-0.20454-0.20455-0.20454-0.20455-0.20454-0.20455-0.20454-0.20455-0.20454-0.20455-0.20454-0.20454-0.20455-0.20454-0.20455-0.20454-0.20455-0.20454-0.20455-0.20454-0.20455-0.20454-0.20454-0.20455-0.20454-0.20455-0.20454-0.20455-0.20454-0.20455-0.20454-0.20455-0.20454-0.20454-0.20455-0.20454-0.20455-0.20454-0.20455-0.20454-0.20455-0.20454-0.20455-0.20454-0.20454-0.20455-0.20454-0.20455-0.20454-0.20455-0.20454-0.20455-0.20454-0.20455-0.20454-0.20454-0.20455-0.20454-0.20455-0.20454-0.20455-0.20454-0.20455-0.20454-0.20455-0.20454-0.20454-0.20455-0.20454-0.20455-0.20454-0.20455-0.20454-0.20455-0.20454-0.20455-0.20454-0.20454-0.20455-0.20454-0.20455-0.20454-0.20455-0.20454-0.20455-0.20454-0.20455-0.20454-0.20454-0.20455-0.20454-0.20455-0.20454-0.20455-0.20454-0.20455-0.20454-0.20455-0.20454-0.20454-0.20455-0.20454-0.20455-0.20454-0.20455-0.20454-0.20455-0.20454-0.20455-0.20454-0.20454-0.20455-0.20454-0.20455-0.20454-0.20455-0.20454-0.20455-0.20454-0.20455-0.20454-0.20454-0.20455-0.20454-0.20455-0.20454-0.20455-0.20454-0.20455-0.20454-0.20455-0.20454-0.20454-0.20455-0.20454-0.20455-0.20454-0.20455-0.20454-0.20455-0.20454-0.20455-0.20454-0.20454-0.20455-0.20454-0.20455-0.20454-0.20455-0.20454-0.20455-0.20454-0.20455-0.20454-0.20454-0.20455-0.20454-0.20455-0.20454-0.20455z\"/></defs><g clip-path=\"url(#p91cd5b00aa)\"><use y=\"289.302599\" fill=\"#648fff\" fill-opacity=\".3\" xlink:href=\"#m0d68cc4aa9\"/></g><defs><path id=\"mfad757995e\" d=\"m95.326-187.57h111.27-111.27z\"/></defs><g clip-path=\"url(#p91cd5b00aa)\"><use y=\"289.302599\" fill=\"#002999\" fill-opacity=\".3\" xlink:href=\"#mfad757995e\"/></g><defs><path id=\"m9e314b99bf\" d=\"m206.6-102.67v-0.38518h0.20454v-0.26438h0.20454v-0.27053h0.20455v-0.27673h0.20454v-0.28299h0.20455v-0.2893h0.20454v-0.29566h0.20455v-0.30206h0.20454v-0.30851h0.20455v-0.315h0.20454v-0.32152h0.20455v-0.32807h0.20454v-0.33465h0.20454v-0.34126h0.20455v-0.34788h0.20454v-0.35451h0.20455v-0.36116h0.20454v-0.36781h0.20455v-0.37447h0.20454v-0.38112h0.20455v-0.38776h0.20454v-0.39438h0.20455v-0.40099h0.20454v-0.40757h0.20454v-0.41412h0.20455v-0.42063h0.20454v-0.4271h0.20455v-0.43353h0.20454v-0.4399h0.20455v-0.4462h0.20454v-0.45245h0.20455v-0.45862h0.20454v-0.46471h0.20455v-0.47072h0.20454v-0.47663h0.20454v-0.48245h0.20455v-0.48816h0.20454v-0.49376h0.20455v-0.49925h0.20454v-0.50461h0.20455v-0.50984h0.20454v-0.51492h0.20455v-0.51987h0.20454v-0.52466h0.20455v-0.5293h0.20454v-0.53377h0.20454v-0.53806h0.20455v-0.54218h0.20454v-0.54612h0.20455v-0.54986h0.20454v-0.55341h0.20455v-0.55675h0.20454v-0.55988h0.20455v-0.56279h0.20454v-0.56548h0.20455v-0.56793h0.20454v-0.57016h0.20454v-0.57214h0.20455v-0.57387h0.20454v-0.57535h0.20455v-0.57658h0.20454v-0.57754h0.20455v-0.57823h0.20454v-0.57865h0.20455v-0.57879h0.20454v-0.57865h0.20455v-0.57822h0.20454v-0.5775h0.20454v-0.57648h0.20455v-0.57517h0.20454v-0.57355h0.20455v-0.57163h0.20454v-0.5694h0.20455v-0.56686h0.20454v-0.56401h0.20455v-0.56085h0.20454v-0.55736h0.20455v-0.55356h0.20454v-0.54944h0.20454v-0.545h0.20455v-0.54023h0.20454v-0.53515h0.20455v-0.52974h0.20454v-0.52401h0.20455v-0.51797h0.20454v-0.5116h0.20455v-0.50491h0.20454v-0.49791h0.20455v-0.49059h0.20454v-0.48296h0.20454v-0.47502h0.20455v-0.46678h0.20454v-0.45823h0.20455v-0.44938h0.20454v-0.44023h0.20455v-0.43079h0.20454v-0.42106h0.20455v-0.41105h0.20454v-0.40077h0.20455v-0.39021h0.20454v-0.37938h0.20454v-0.3683h0.20455v-0.35696h0.20454v-0.34537h0.20455v-0.33355h0.20454v-0.32149h0.20455v-0.3092h0.20454v-0.2967h0.20455v-0.28399h0.20454v-0.27108h0.20455v-0.25798h0.20454v-0.24469h0.20454v-0.23122h0.20455v-0.21759h0.20454v-0.20381h0.20455v-0.18988h0.20454v-0.1758h0.20455v-0.16161h0.20454v-0.14729h0.20455v-0.13287h0.20454v-0.11835h0.20455v-0.10375h0.20454v-0.089069h0.20454v-0.074324h0.20455v-0.059524h0.20454v-0.044682h0.20455v-0.029805h0.20454v-0.014909h0.20455v-0.001864h76.091 76.091v0.001864h0.20454v0.014909h0.20455v0.029805h0.20454v0.044682h0.20455v0.059524h0.20454v0.074324h0.20455v0.089069h0.20454v0.10375h0.20455v0.11835h0.20454v0.13287h0.20454v0.14729h0.20455v0.16161h0.20454v0.1758h0.20455v0.18988h0.20454v0.20381h0.20455v0.21759h0.20454v0.23122h0.20455v0.24469h0.20454v0.25798h0.20455v0.27108h0.20454v0.28399h0.20454v0.2967h0.20455v0.3092h0.20454v0.32149h0.20455v0.33355h0.20454v0.34537h0.20455v0.35696h0.20454v0.3683h0.20455v0.37938h0.20454v0.39021h0.20455v0.40077h0.20454v0.41105h0.20454v0.42106h0.20455v0.43079h0.20454v0.44023h0.20455v0.44938h0.20454v0.45823h0.20455v0.46678h0.20454v0.47502h0.20455v0.48296h0.20454v0.49059h0.20455v0.49791h0.20454v0.50491h0.20454v0.5116h0.20455v0.51797h0.20454v0.52401h0.20455v0.52974h0.20454v0.53515h0.20455v0.54023h0.20454v0.545h0.20455v0.54944h0.20454v0.55356h0.20455v0.55736h0.20454v0.56085h0.20454v0.56401h0.20455v0.56686h0.20454v0.5694h0.20455v0.57163h0.20454v0.57355h0.20455v0.57517h0.20454v0.57648h0.20455v0.5775h0.20454v0.57822h0.20455v0.57865h0.20454v0.57879h0.20454v0.57865h0.20455v0.57823h0.20454v0.57754h0.20455v0.57658h0.20454v0.57535h0.20455v0.57387h0.20454v0.57214h0.20455v0.57016h0.20454v0.56793h0.20455v0.56548h0.20454v0.56279h0.20454v0.55988h0.20455v0.55675h0.20454v0.55341h0.20455v0.54986h0.20454v0.54612h0.20455v0.54218h0.20454v0.53806h0.20455v0.53377h0.20454v0.5293h0.20455v0.52466h0.20454v0.51987h0.20454v0.51492h0.20455v0.50984h0.20454v0.50461h0.20455v0.49925h0.20454v0.49376h0.20455v0.48816h0.20454v0.48245h0.20455v0.47663h0.20454v0.47072h0.20455v0.46471h0.20454v0.45862h0.20454v0.45245h0.20455v0.4462h0.20454v0.4399h0.20455v0.43353h0.20454v0.4271h0.20455v0.42063h0.20454v0.41412h0.20455v0.40757h0.20454v0.40099h0.20455v0.39438h0.20454v0.38776h0.20454v0.38112h0.20455v0.37447h0.20454v0.36781h0.20455v0.36116h0.20454v0.35451h0.20455v0.34788h0.20454v0.34126h0.20455v0.33465h0.20454v0.32807h0.20455v0.32152h0.20454v0.315h0.20454v0.30851h0.20455v0.30206h0.20454v0.29566h0.20455v0.2893h0.20454v0.28299h0.20455v0.27673h0.20454v0.27053h0.20455v0.26438h0.20454v0.38518h-0.20454-0.20455-0.20454-0.20455-0.20454-0.20455-0.20454-0.20455-0.20454-0.20454-0.20455-0.20454-0.20455-0.20454-0.20455-0.20454-0.20455-0.20454-0.20455-0.20454-0.20454-0.20455-0.20454-0.20455-0.20454-0.20455-0.20454-0.20455-0.20454-0.20455-0.20454-0.20454-0.20455-0.20454-0.20455-0.20454-0.20455-0.20454-0.20455-0.20454-0.20455-0.20454-0.20454-0.20455-0.20454-0.20455-0.20454-0.20455-0.20454-0.20455-0.20454-0.20455-0.20454-0.20454-0.20455-0.20454-0.20455-0.20454-0.20455-0.20454-0.20455-0.20454-0.20455-0.20454-0.20454-0.20455-0.20454-0.20455-0.20454-0.20455-0.20454-0.20455-0.20454-0.20455-0.20454-0.20454-0.20455-0.20454-0.20455-0.20454-0.20455-0.20454-0.20455-0.20454-0.20455-0.20454-0.20454-0.20455-0.20454-0.20455-0.20454-0.20455-0.20454-0.20455-0.20454-0.20455-0.20454-0.20454-0.20455-0.20454-0.20455-0.20454-0.20455-0.20454-0.20455-0.20454-0.20455-0.20454-0.20454-0.20455-0.20454-0.20455-0.20454-0.20455-0.20454-0.20455-0.20454-0.20455-0.20454-0.20454-0.20455-0.20454-0.20455-0.20454-0.20455-0.20454-0.20455-0.20454-76.091-76.091-0.20455-0.20454-0.20455-0.20454-0.20455-0.20454-0.20454-0.20455-0.20454-0.20455-0.20454-0.20455-0.20454-0.20455-0.20454-0.20455-0.20454-0.20454-0.20455-0.20454-0.20455-0.20454-0.20455-0.20454-0.20455-0.20454-0.20455-0.20454-0.20454-0.20455-0.20454-0.20455-0.20454-0.20455-0.20454-0.20455-0.20454-0.20455-0.20454-0.20454-0.20455-0.20454-0.20455-0.20454-0.20455-0.20454-0.20455-0.20454-0.20455-0.20454-0.20454-0.20455-0.20454-0.20455-0.20454-0.20455-0.20454-0.20455-0.20454-0.20455-0.20454-0.20454-0.20455-0.20454-0.20455-0.20454-0.20455-0.20454-0.20455-0.20454-0.20455-0.20454-0.20454-0.20455-0.20454-0.20455-0.20454-0.20455-0.20454-0.20455-0.20454-0.20455-0.20454-0.20454-0.20455-0.20454-0.20455-0.20454-0.20455-0.20454-0.20455-0.20454-0.20455-0.20454-0.20454-0.20455-0.20454-0.20455-0.20454-0.20455-0.20454-0.20455-0.20454-0.20455-0.20454-0.20454-0.20455-0.20454-0.20455-0.20454-0.20455-0.20454-0.20455-0.20454-0.20455-0.20454-0.20454-0.20455-0.20454-0.20455-0.20454-0.20455-0.20454-0.20455-0.20454-0.20455-0.20454-0.20454z\"/></defs><g clip-path=\"url(#p91cd5b00aa)\"><use y=\"289.302599\" fill=\"#dc267f\" fill-opacity=\".3\" xlink:href=\"#m9e314b99bf\"/></g><defs><path id=\"md40406bbe6\" d=\"m206.6-102.67v0.20981h0.20454v0.14401h0.20454v0.14736h0.20455v0.15074h0.20454v0.15415h0.20455v0.15758h0.20454v0.16105h0.20455v0.16454h0.20454v0.16805h0.20455v0.17158h0.20454v0.17513h0.20455v0.1787h0.20454v0.18229h0.20454v0.18588h0.20455v0.18949h0.20454v0.19311h0.20455v0.19673h0.20454v0.20035h0.20455v0.20398h0.20454v0.2076h0.20455v0.21121h0.20454v0.21482h0.20455v0.21842h0.20454v0.222h0.20454v0.22557h0.20455v0.22912h0.20454v0.23265h0.20455v0.23614h0.20454v0.23961h0.20455v0.24305h0.20454v0.24645h0.20455v0.24981h0.20454v0.25313h0.20455v0.2564h0.20454v0.25962h0.20454v0.2628h0.20455v0.26591h0.20454v0.26896h0.20455v0.27194h0.20454v0.27486h0.20455v0.27771h0.20454v0.28048h0.20455v0.28318h0.20454v0.28579h0.20455v0.28831h0.20454v0.29075h0.20454v0.29309h0.20455v0.29533h0.20454v0.29747h0.20455v0.29951h0.20454v0.30144h0.20455v0.30326h0.20454v0.30497h0.20455v0.30655h0.20454v0.30802h0.20455v0.30936h0.20454v0.31057h0.20454v0.31165h0.20455v0.31259h0.20454v0.3134h0.20455v0.31407h0.20454v0.31459h0.20455v0.31497h0.20454v0.31519h0.20455v0.31527h0.20454v0.31519h0.20455v0.31496h0.20454v0.31457h0.20454v0.31401h0.20455v0.3133h0.20454v0.31242h0.20455v0.31137h0.20454v0.31016h0.20455v0.30878h0.20454v0.30722h0.20455v0.3055h0.20454v0.3036h0.20455v0.30153h0.20454v0.29928h0.20454v0.29686h0.20455v0.29427h0.20454v0.2915h0.20455v0.28855h0.20454v0.28544h0.20455v0.28214h0.20454v0.27867h0.20455v0.27503h0.20454v0.27122h0.20455v0.26723h0.20454v0.26307h0.20454v0.25875h0.20455v0.25426h0.20454v0.2496h0.20455v0.24478h0.20454v0.2398h0.20455v0.23466h0.20454v0.22936h0.20455v0.2239h0.20454v0.2183h0.20455v0.21255h0.20454v0.20665h0.20454v0.20062h0.20455v0.19444h0.20454v0.18813h0.20455v0.18169h0.20454v0.17512h0.20455v0.16843h0.20454v0.16162h0.20455v0.15469h0.20454v0.14766h0.20455v0.14052h0.20454v0.13328h0.20454v0.12595h0.20455v0.11852h0.20454v0.11102h0.20455v0.10343h0.20454v0.095762h0.20455v0.088029h0.20454v0.080231h0.20455v0.072376h0.20454v0.064468h0.20455v0.056513h0.20454v0.048516h0.20454v0.040485h0.20455v0.032423h0.20454v0.024338h0.20455v0.016236h0.20454v0.00812h0.20455v0.001016h76.091 76.091v-0.001016h0.20454v-0.00812h0.20455v-0.016236h0.20454v-0.024338h0.20455v-0.032423h0.20454v-0.040485h0.20455v-0.048516h0.20454v-0.056513h0.20455v-0.064468h0.20454v-0.072376h0.20454v-0.080231h0.20455v-0.088029h0.20454v-0.095762h0.20455v-0.10343h0.20454v-0.11102h0.20455v-0.11852h0.20454v-0.12595h0.20455v-0.13328h0.20454v-0.14052h0.20455v-0.14766h0.20454v-0.15469h0.20454v-0.16162h0.20455v-0.16843h0.20454v-0.17512h0.20455v-0.18169h0.20454v-0.18813h0.20455v-0.19444h0.20454v-0.20062h0.20455v-0.20665h0.20454v-0.21255h0.20455v-0.2183h0.20454v-0.2239h0.20454v-0.22936h0.20455v-0.23466h0.20454v-0.2398h0.20455v-0.24478h0.20454v-0.2496h0.20455v-0.25426h0.20454v-0.25875h0.20455v-0.26307h0.20454v-0.26723h0.20455v-0.27122h0.20454v-0.27503h0.20454v-0.27867h0.20455v-0.28214h0.20454v-0.28544h0.20455v-0.28855h0.20454v-0.2915h0.20455v-0.29427h0.20454v-0.29686h0.20455v-0.29928h0.20454v-0.30153h0.20455v-0.3036h0.20454v-0.3055h0.20454v-0.30722h0.20455v-0.30878h0.20454v-0.31016h0.20455v-0.31137h0.20454v-0.31242h0.20455v-0.3133h0.20454v-0.31401h0.20455v-0.31457h0.20454v-0.31496h0.20455v-0.31519h0.20454v-0.31527h0.20454v-0.31519h0.20455v-0.31497h0.20454v-0.31459h0.20455v-0.31407h0.20454v-0.3134h0.20455v-0.31259h0.20454v-0.31165h0.20455v-0.31057h0.20454v-0.30936h0.20455v-0.30802h0.20454v-0.30655h0.20454v-0.30497h0.20455v-0.30326h0.20454v-0.30144h0.20455v-0.29951h0.20454v-0.29747h0.20455v-0.29533h0.20454v-0.29309h0.20455v-0.29075h0.20454v-0.28831h0.20455v-0.28579h0.20454v-0.28318h0.20454v-0.28048h0.20455v-0.27771h0.20454v-0.27486h0.20455v-0.27194h0.20454v-0.26896h0.20455v-0.26591h0.20454v-0.2628h0.20455v-0.25962h0.20454v-0.2564h0.20455v-0.25313h0.20454v-0.24981h0.20454v-0.24645h0.20455v-0.24305h0.20454v-0.23961h0.20455v-0.23614h0.20454v-0.23265h0.20455v-0.22912h0.20454v-0.22557h0.20455v-0.222h0.20454v-0.21842h0.20455v-0.21482h0.20454v-0.21121h0.20454v-0.2076h0.20455v-0.20398h0.20454v-0.20035h0.20455v-0.19673h0.20454v-0.19311h0.20455v-0.18949h0.20454v-0.18588h0.20455v-0.18229h0.20454v-0.1787h0.20455v-0.17513h0.20454v-0.17158h0.20454v-0.16805h0.20455v-0.16454h0.20454v-0.16105h0.20455v-0.15758h0.20454v-0.15415h0.20455v-0.15074h0.20454v-0.14736h0.20455v-0.14401h0.20454v-0.20981h-0.20454-0.20455-0.20454-0.20455-0.20454-0.20455-0.20454-0.20455-0.20454-0.20454-0.20455-0.20454-0.20455-0.20454-0.20455-0.20454-0.20455-0.20454-0.20455-0.20454-0.20454-0.20455-0.20454-0.20455-0.20454-0.20455-0.20454-0.20455-0.20454-0.20455-0.20454-0.20454-0.20455-0.20454-0.20455-0.20454-0.20455-0.20454-0.20455-0.20454-0.20455-0.20454-0.20454-0.20455-0.20454-0.20455-0.20454-0.20455-0.20454-0.20455-0.20454-0.20455-0.20454-0.20454-0.20455-0.20454-0.20455-0.20454-0.20455-0.20454-0.20455-0.20454-0.20455-0.20454-0.20454-0.20455-0.20454-0.20455-0.20454-0.20455-0.20454-0.20455-0.20454-0.20455-0.20454-0.20454-0.20455-0.20454-0.20455-0.20454-0.20455-0.20454-0.20455-0.20454-0.20455-0.20454-0.20454-0.20455-0.20454-0.20455-0.20454-0.20455-0.20454-0.20455-0.20454-0.20455-0.20454-0.20454-0.20455-0.20454-0.20455-0.20454-0.20455-0.20454-0.20455-0.20454-0.20455-0.20454-0.20454-0.20455-0.20454-0.20455-0.20454-0.20455-0.20454-0.20455-0.20454-0.20455-0.20454-0.20454-0.20455-0.20454-0.20455-0.20454-0.20455-0.20454-0.20455-0.20454-76.091-76.091-0.20455-0.20454-0.20455-0.20454-0.20455-0.20454-0.20454-0.20455-0.20454-0.20455-0.20454-0.20455-0.20454-0.20455-0.20454-0.20455-0.20454-0.20454-0.20455-0.20454-0.20455-0.20454-0.20455-0.20454-0.20455-0.20454-0.20455-0.20454-0.20454-0.20455-0.20454-0.20455-0.20454-0.20455-0.20454-0.20455-0.20454-0.20455-0.20454-0.20454-0.20455-0.20454-0.20455-0.20454-0.20455-0.20454-0.20455-0.20454-0.20455-0.20454-0.20454-0.20455-0.20454-0.20455-0.20454-0.20455-0.20454-0.20455-0.20454-0.20455-0.20454-0.20454-0.20455-0.20454-0.20455-0.20454-0.20455-0.20454-0.20455-0.20454-0.20455-0.20454-0.20454-0.20455-0.20454-0.20455-0.20454-0.20455-0.20454-0.20455-0.20454-0.20455-0.20454-0.20454-0.20455-0.20454-0.20455-0.20454-0.20455-0.20454-0.20455-0.20454-0.20455-0.20454-0.20454-0.20455-0.20454-0.20455-0.20454-0.20455-0.20454-0.20455-0.20454-0.20455-0.20454-0.20454-0.20455-0.20454-0.20455-0.20454-0.20455-0.20454-0.20455-0.20454-0.20455-0.20454-0.20454-0.20455-0.20454-0.20455-0.20454-0.20455-0.20454-0.20455-0.20454-0.20455-0.20454-0.20454z\"/></defs><g clip-path=\"url(#p91cd5b00aa)\"><use y=\"289.302599\" fill=\"#760019\" fill-opacity=\".3\" xlink:href=\"#md40406bbe6\"/></g><path d=\"m62.353 242.07v-219.93\" fill=\"none\" stroke=\"#343a3f\" stroke-linecap=\"square\" stroke-width=\".8\"/><path d=\"m62.353 242.07h725.4\" fill=\"none\" stroke=\"#343a3f\" stroke-linecap=\"square\" stroke-width=\".8\"/><path d=\"m308.87 242.07v-219.93\" clip-path=\"url(#p91cd5b00aa)\" fill=\"none\" stroke=\"#f2f3f4\" stroke-linecap=\"square\" stroke-width=\"6\"/><g transform=\"translate(86.926 107.25) scale(.2 -.2)\"><defs><path id=\"DejaVuSans-21ba\" transform=\"scale(.015625)\" d=\"m1606 3334q-212-206-312-459-103-253-103-544 0-281 103-534t309-459q188-185 456-307 232-103 528-103 297 0 541 103 256 110 456 307 207 206 310 459t103 534q0 291-103 544-106 253-313 459l-109 110v-1031h-531v1737l200 200h1737v-531h-1031l109-110q282-281 428-631 144-350 144-747 0-387-144-737-150-353-428-631-262-260-625-422-322-144-737-144-400 0-738 144-350 150-625 422-278 278-428 631-144 350-144 737 0 397 144 747 141 335 428 631l375-375z\"/></defs><use transform=\"translate(0 .03125)\" xlink:href=\"#DejaVuSans-21ba\"/></g><g transform=\"translate(46.186 73.203) scale(.12 -.12)\"><defs><path id=\"DejaVuSans-394\" transform=\"scale(.015625)\" d=\"m2188 4044-1282-3519h2566l-1284 3519zm-2138-4044 1781 4666h716l1778-4666h-4275z\"/><path id=\"DejaVuSans-Oblique-66\" transform=\"scale(.015625)\" d=\"m3059 4863-90-479h-550q-313 0-455-123t-211-452l-62-309h947l-85-447h-947l-593-3053h-579l597 3053h-550l82 447h550l46 244q119 619 417 869 299 250 940 250h543z\"/><path id=\"DejaVuSans-3d\" transform=\"scale(.015625)\" d=\"m678 2906h4006v-525h-4006v525zm0-1275h4006v-531h-4006v531z\"/><path id=\"DejaVuSans-2212\" transform=\"scale(.015625)\" d=\"m678 2272h4006v-531h-4006v531z\"/><path id=\"DejaVuSans-2e\" transform=\"scale(.015625)\" d=\"m684 794h660v-794h-660v794z\"/><path id=\"DejaVuSans-4d\" transform=\"scale(.015625)\" d=\"m628 4666h941l1190-3175 1197 3175h941v-4666h-616v4097l-1203-3200h-634l-1203 3200v-4097h-613v4666z\"/><path id=\"DejaVuSans-48\" transform=\"scale(.015625)\" d=\"m628 4666h631v-1913h2294v1913h631v-4666h-631v2222h-2294v-2222h-631v4666z\"/><path id=\"DejaVuSans-7a\" transform=\"scale(.015625)\" d=\"m353 3500h2731v-525l-2162-2516h2162v-459h-2809v525l2163 2516h-2085v459z\"/></defs><use transform=\"translate(0 .015625)\" xlink:href=\"#DejaVuSans-394\"/><use transform=\"translate(68.408 .015625)\" xlink:href=\"#DejaVuSans-Oblique-66\"/><use transform=\"translate(123.1 .015625)\" xlink:href=\"#DejaVuSans-3d\"/><use transform=\"translate(245.85 .015625)\" xlink:href=\"#DejaVuSans-2212\"/><use transform=\"translate(349.12 .015625)\" xlink:href=\"#DejaVuSans-30\"/><use transform=\"translate(412.74 .015625)\" xlink:href=\"#DejaVuSans-2e\"/><use transform=\"translate(444.53 .015625)\" xlink:href=\"#DejaVuSans-30\"/><use transform=\"translate(508.15 .015625)\" xlink:href=\"#DejaVuSans-37\"/><use transform=\"translate(604.25 .015625)\" xlink:href=\"#DejaVuSans-4d\"/><use transform=\"translate(690.53 .015625)\" xlink:href=\"#DejaVuSans-48\"/><use transform=\"translate(765.72 .015625)\" xlink:href=\"#DejaVuSans-7a\"/></g><g transform=\"translate(126.39 120.79) scale(.12 -.12)\" fill=\"#222222\"><defs><path id=\"DejaVuSans-70\" transform=\"scale(.015625)\" d=\"m1159 525v-1856h-578v4831h578v-531q182 312 458 463 277 152 661 152 638 0 1036-506 399-506 399-1331t-399-1332q-398-506-1036-506-384 0-661 152-276 152-458 464zm1957 1222q0 634-261 995t-717 361q-457 0-718-361t-261-995 261-995 718-361q456 0 717 361t261 995z\"/><path id=\"DejaVuSans-5f\" transform=\"scale(.015625)\" d=\"m3263-1063v-446h-3326v446h3326z\"/><path id=\"DejaVuSans-75\" transform=\"scale(.015625)\" d=\"m544 1381v2119h575v-2097q0-497 193-746 194-248 582-248 465 0 735 297 271 297 271 810v1984h575v-3500h-575v538q-209-319-486-474-276-155-642-155-603 0-916 375-312 375-312 1097zm1447 2203z\"/><path id=\"DejaVuSans-6c\" transform=\"scale(.015625)\" d=\"m603 4863h575v-4863h-575v4863z\"/></defs><use xlink:href=\"#DejaVuSans-70\"/><use x=\"63.476562\" xlink:href=\"#DejaVuSans-69\"/><use x=\"91.259766\" xlink:href=\"#DejaVuSans-5f\"/><use x=\"141.259766\" xlink:href=\"#DejaVuSans-70\"/><use x=\"204.736328\" xlink:href=\"#DejaVuSans-75\"/><use x=\"268.115234\" xlink:href=\"#DejaVuSans-6c\"/><use x=\"295.898438\" xlink:href=\"#DejaVuSans-73\"/><use x=\"347.998047\" xlink:href=\"#DejaVuSans-65\"/></g><g transform=\"translate(41.259 105.87) scale(.15 -.15)\"><defs><path id=\"DejaVuSans-44\" transform=\"scale(.015625)\" d=\"m1259 4147v-3628h763q966 0 1414 437 448 438 448 1382 0 937-448 1373t-1414 436h-763zm-631 519h1297q1356 0 1990-564 635-564 635-1764 0-1207-638-1773-637-565-1987-565h-1297v4666z\"/></defs><use xlink:href=\"#DejaVuSans-44\"/><use x=\"77.001953\" xlink:href=\"#DejaVuSans-30\"/></g><g transform=\"translate(7.2 120.96) scale(.12 -.12)\"><defs><path id=\"DejaVuSans-34\" transform=\"scale(.015625)\" d=\"m2419 4116-1594-2491h1594v2491zm-166 550h794v-3041h666v-525h-666v-1100h-628v1100h-2106v609l1940 2957z\"/><path id=\"DejaVuSans-39\" transform=\"scale(.015625)\" d=\"m703 97v575q238-113 481-172 244-59 479-59 625 0 954 420 330 420 377 1277-181-269-460-413-278-144-615-144-700 0-1108 423-408 424-408 1159 0 718 425 1152 425 435 1131 435 810 0 1236-621 427-620 427-1801 0-1103-524-1761-523-658-1407-658-238 0-482 47-243 47-506 141zm1256 1978q425 0 673 290 249 291 249 798 0 503-249 795-248 292-673 292t-673-292-248-795q0-507 248-798 248-290 673-290z\"/><path id=\"DejaVuSans-47\" transform=\"scale(.015625)\" d=\"m3809 666v1253h-1031v519h1656v-2004q-365-259-806-392-440-133-940-133-1094 0-1712 639-617 640-617 1780 0 1144 617 1783 618 639 1712 639 456 0 867-113 411-112 758-331v-672q-350 297-744 447t-828 150q-857 0-1287-478-429-478-429-1425 0-944 429-1422 430-478 1287-478 334 0 596 58 263 58 472 180z\"/></defs><use xlink:href=\"#DejaVuSans-34\"/><use x=\"63.623047\" xlink:href=\"#DejaVuSans-2e\"/><use x=\"95.410156\" xlink:href=\"#DejaVuSans-39\"/><use x=\"159.033203\" xlink:href=\"#DejaVuSans-36\"/><use x=\"222.65625\" xlink:href=\"#DejaVuSans-20\"/><use x=\"254.443359\" xlink:href=\"#DejaVuSans-47\"/><use x=\"331.933594\" xlink:href=\"#DejaVuSans-48\"/><use x=\"407.128906\" xlink:href=\"#DejaVuSans-7a\"/></g><g transform=\"translate(313.92 97.591) rotate(180) scale(.15 -.15)\" fill=\"#343a3f\"><defs><path id=\"DejaVuSans-2f\" transform=\"scale(.015625)\" d=\"m1625 4666h531l-1625-5260h-531l1625 5260z\"/></defs><use xlink:href=\"#DejaVuSans-2f\"/><use x=\"33.691406\" xlink:href=\"#DejaVuSans-2f\"/></g><g transform=\"translate(291.03 205.59) scale(.12 -.12)\" fill=\"#222222\"><use xlink:href=\"#DejaVuSans-4d\"/><use x=\"86.279297\" xlink:href=\"#DejaVuSans-5f\"/><use x=\"136.279297\" xlink:href=\"#DejaVuSans-6d\"/><use x=\"233.691406\" xlink:href=\"#DejaVuSans-30\"/></g><g transform=\"translate(565.76 205.86) scale(.12 -.12)\" fill=\"#222222\"><defs><path id=\"DejaVuSans-61\" transform=\"scale(.015625)\" d=\"m2194 1759q-697 0-966-159t-269-544q0-306 202-486 202-179 548-179 479 0 768 339t289 901v128h-572zm1147 238v-1997h-575v531q-197-318-491-470t-719-152q-537 0-855 302-317 302-317 808 0 590 395 890 396 300 1180 300h807v57q0 397-261 614t-733 217q-300 0-585-72-284-72-546-216v532q315 122 612 182 297 61 578 61 760 0 1135-394 375-393 375-1193z\"/><path id=\"DejaVuSans-79\" transform=\"scale(.015625)\" d=\"m2059-325q-243-625-475-815-231-191-618-191h-460v481h338q237 0 368 113 132 112 291 531l103 262-1415 3444h609l1094-2737 1094 2737h609l-1538-3825z\"/></defs><use xlink:href=\"#DejaVuSans-44\"/><use x=\"77.001953\" xlink:href=\"#DejaVuSans-65\"/><use x=\"138.525391\" xlink:href=\"#DejaVuSans-6c\"/><use x=\"166.308594\" xlink:href=\"#DejaVuSans-61\"/><use x=\"227.587891\" xlink:href=\"#DejaVuSans-79\"/></g><g transform=\"translate(39.867 190.77) scale(.15 -.15)\"><use xlink:href=\"#DejaVuSans-4d\"/><use x=\"86.279297\" xlink:href=\"#DejaVuSans-30\"/></g><g transform=\"translate(7.2 205.86) scale(.12 -.12)\"><use xlink:href=\"#DejaVuSans-37\"/><use x=\"63.623047\" xlink:href=\"#DejaVuSans-2e\"/><use x=\"95.410156\" xlink:href=\"#DejaVuSans-31\"/><use x=\"159.033203\" xlink:href=\"#DejaVuSans-36\"/><use x=\"222.65625\" xlink:href=\"#DejaVuSans-20\"/><use x=\"254.443359\" xlink:href=\"#DejaVuSans-47\"/><use x=\"331.933594\" xlink:href=\"#DejaVuSans-48\"/><use x=\"407.128906\" xlink:href=\"#DejaVuSans-7a\"/></g><g transform=\"translate(313.92 182.49) rotate(180) scale(.15 -.15)\" fill=\"#343a3f\"><use xlink:href=\"#DejaVuSans-2f\"/><use x=\"33.691406\" xlink:href=\"#DejaVuSans-2f\"/></g><g transform=\"translate(62.353 18.598) scale(.15 -.15)\"><defs><path id=\"DejaVuSans-4e\" transform=\"scale(.015625)\" d=\"m628 4666h850l2069-3903v3903h612v-4666h-850l-2068 3903v-3903h-613v4666z\"/><path id=\"DejaVuSans-3a\" transform=\"scale(.015625)\" d=\"m750 794h659v-794h-659v794zm0 2515h659v-793h-659v793z\"/><path id=\"DejaVuSans-63\" transform=\"scale(.015625)\" d=\"m3122 3366v-538q-244 135-489 202t-495 67q-560 0-870-355-309-354-309-995t309-996q310-354 870-354 250 0 495 67t489 202v-532q-241-112-499-168-257-57-548-57-791 0-1257 497-465 497-465 1341 0 856 470 1346 471 491 1290 491 265 0 518-55 253-54 491-163z\"/><path id=\"DejaVuSans-72\" transform=\"scale(.015625)\" d=\"m2631 2963q-97 56-211 82-114 27-251 27-488 0-749-317t-261-911v-1844h-578v3500h578v-544q182 319 472 473 291 155 707 155 59 0 131-8 72-7 159-23l3-590z\"/><path id=\"DejaVuSans-74\" transform=\"scale(.015625)\" d=\"m1172 4494v-994h1184v-447h-1184v-1900q0-428 117-550t477-122h590v-481h-590q-666 0-919 248-253 249-253 905v1900h-422v447h422v994h578z\"/><path id=\"DejaVuSans-2d\" transform=\"scale(.015625)\" d=\"m313 2009h1684v-512h-1684v512z\"/><path id=\"DejaVuSans-2c\" transform=\"scale(.015625)\" d=\"m750 794h659v-538l-512-1e3h-403l256 1e3v538z\"/><path id=\"DejaVuSans-6f\" transform=\"scale(.015625)\" d=\"m1959 3097q-462 0-731-361t-269-989 267-989q268-361 733-361 460 0 728 362 269 363 269 988 0 622-269 986-268 364-728 364zm0 487q750 0 1178-488 429-487 429-1349 0-859-429-1349-428-489-1178-489-753 0-1180 489-426 490-426 1349 0 862 426 1349 427 488 1180 488z\"/><path id=\"DejaVuSans-42\" transform=\"scale(.015625)\" d=\"m1259 2228v-1709h1013q509 0 754 211 246 211 246 645 0 438-246 645-245 208-754 208h-1013zm0 1919v-1406h935q462 0 688 173 227 174 227 530 0 353-227 528-226 175-688 175h-935zm-631 519h1613q722 0 1112-300 391-300 391-853 0-429-200-682t-588-315q466-100 724-418 258-317 258-792 0-625-425-966-425-340-1210-340h-1675v4666z\"/><path id=\"DejaVuSans-6b\" transform=\"scale(.015625)\" d=\"m581 4863h578v-2872l1716 1509h734l-1856-1637 1935-1863h-750l-1779 1709v-1709h-578v4863z\"/><path id=\"DejaVuSans-64\" transform=\"scale(.015625)\" d=\"m2906 2969v1894h575v-4863h-575v525q-181-312-458-464-276-152-664-152-634 0-1033 506-398 507-398 1332t398 1331q399 506 1033 506 388 0 664-152 277-151 458-463zm-1959-1222q0-634 261-995t717-361 718 361q263 361 263 995t-263 995q-262 361-718 361t-717-361-261-995z\"/><path id=\"DejaVuSans-62\" transform=\"scale(.015625)\" d=\"m3116 1747q0 634-261 995t-717 361q-457 0-718-361t-261-995 261-995 718-361q456 0 717 361t261 995zm-1957 1222q182 312 458 463 277 152 661 152 638 0 1036-506 399-506 399-1331t-399-1332q-398-506-1036-506-384 0-661 152-276 152-458 464v-525h-578v4863h578v-1894z\"/><path id=\"DejaVuSans-71\" transform=\"scale(.015625)\" d=\"m947 1747q0-634 261-995t717-361 718 361q263 361 263 995t-263 995q-262 361-718 361t-717-361-261-995zm1959-1222q-181-312-458-464-276-152-664-152-634 0-1033 506-398 507-398 1332t398 1331q399 506 1033 506 388 0 664-152 277-151 458-463v531h575v-4831h-575v1856z\"/></defs><use xlink:href=\"#DejaVuSans-4e\"/><use x=\"74.804688\" xlink:href=\"#DejaVuSans-61\"/><use x=\"136.083984\" xlink:href=\"#DejaVuSans-6d\"/><use x=\"233.496094\" xlink:href=\"#DejaVuSans-65\"/><use x=\"295.019531\" xlink:href=\"#DejaVuSans-3a\"/><use x=\"328.710938\" xlink:href=\"#DejaVuSans-20\"/><use x=\"360.498047\" xlink:href=\"#DejaVuSans-63\"/><use x=\"415.478516\" xlink:href=\"#DejaVuSans-69\"/><use x=\"443.261719\" xlink:href=\"#DejaVuSans-72\"/><use x=\"482.125\" xlink:href=\"#DejaVuSans-63\"/><use x=\"537.105469\" xlink:href=\"#DejaVuSans-75\"/><use x=\"600.484375\" xlink:href=\"#DejaVuSans-69\"/><use x=\"628.267578\" xlink:href=\"#DejaVuSans-74\"/><use x=\"667.476562\" xlink:href=\"#DejaVuSans-2d\"/><use x=\"703.560547\" xlink:href=\"#DejaVuSans-31\"/><use x=\"767.183594\" xlink:href=\"#DejaVuSans-37\"/><use x=\"830.806641\" xlink:href=\"#DejaVuSans-39\"/><use x=\"894.429688\" xlink:href=\"#DejaVuSans-2c\"/><use x=\"926.216797\" xlink:href=\"#DejaVuSans-20\"/><use x=\"958.003906\" xlink:href=\"#DejaVuSans-44\"/><use x=\"1035.005859\" xlink:href=\"#DejaVuSans-75\"/><use x=\"1098.384766\" xlink:href=\"#DejaVuSans-72\"/><use x=\"1139.498047\" xlink:href=\"#DejaVuSans-61\"/><use x=\"1200.777344\" xlink:href=\"#DejaVuSans-74\"/><use x=\"1239.986328\" xlink:href=\"#DejaVuSans-69\"/><use x=\"1267.769531\" xlink:href=\"#DejaVuSans-6f\"/><use x=\"1328.951172\" xlink:href=\"#DejaVuSans-6e\"/><use x=\"1392.330078\" xlink:href=\"#DejaVuSans-3a\"/><use x=\"1426.021484\" xlink:href=\"#DejaVuSans-20\"/><use x=\"1457.808594\" xlink:href=\"#DejaVuSans-35\"/><use x=\"1521.431641\" xlink:href=\"#DejaVuSans-34\"/><use x=\"1585.054688\" xlink:href=\"#DejaVuSans-37\"/><use x=\"1648.677734\" xlink:href=\"#DejaVuSans-32\"/><use x=\"1712.300781\" xlink:href=\"#DejaVuSans-2e\"/><use x=\"1744.087891\" xlink:href=\"#DejaVuSans-30\"/><use x=\"1807.710938\" xlink:href=\"#DejaVuSans-20\"/><use x=\"1839.498047\" xlink:href=\"#DejaVuSans-6e\"/><use x=\"1902.876953\" xlink:href=\"#DejaVuSans-73\"/><use x=\"1954.976562\" xlink:href=\"#DejaVuSans-2c\"/><use x=\"1986.763672\" xlink:href=\"#DejaVuSans-20\"/><use x=\"2018.550781\" xlink:href=\"#DejaVuSans-42\"/><use x=\"2087.154297\" xlink:href=\"#DejaVuSans-61\"/><use x=\"2148.433594\" xlink:href=\"#DejaVuSans-63\"/><use x=\"2203.414062\" xlink:href=\"#DejaVuSans-6b\"/><use x=\"2257.699219\" xlink:href=\"#DejaVuSans-65\"/><use x=\"2319.222656\" xlink:href=\"#DejaVuSans-6e\"/><use x=\"2382.601562\" xlink:href=\"#DejaVuSans-64\"/><use x=\"2446.078125\" xlink:href=\"#DejaVuSans-3a\"/><use x=\"2479.769531\" xlink:href=\"#DejaVuSans-20\"/><use x=\"2511.556641\" xlink:href=\"#DejaVuSans-69\"/><use x=\"2539.339844\" xlink:href=\"#DejaVuSans-62\"/><use x=\"2602.816406\" xlink:href=\"#DejaVuSans-6d\"/><use x=\"2700.228516\" xlink:href=\"#DejaVuSans-71\"/><use x=\"2763.705078\" xlink:href=\"#DejaVuSans-5f\"/><use x=\"2813.705078\" xlink:href=\"#DejaVuSans-6d\"/><use x=\"2911.117188\" xlink:href=\"#DejaVuSans-61\"/><use x=\"2972.396484\" xlink:href=\"#DejaVuSans-6e\"/><use x=\"3035.775391\" xlink:href=\"#DejaVuSans-69\"/><use x=\"3063.558594\" xlink:href=\"#DejaVuSans-6c\"/><use x=\"3091.341797\" xlink:href=\"#DejaVuSans-61\"/></g><defs><clipPath id=\"p91cd5b00aa\"><rect x=\"62.353\" y=\"22.134\" width=\"725.4\" height=\"219.93\"/></clipPath></defs></svg>"
      ],
      "text/plain": [
       "<Figure size 1300x396.706 with 1 Axes>"
      ]
     },
     "execution_count": 39,
     "metadata": {},
     "output_type": "execute_result"
    }
   ],
   "source": [
    "exec_schedule = schedule(qc_exc, backend)\n",
    "exec_schedule.draw(backend=backend)"
   ]
  },
  {
   "cell_type": "markdown",
   "metadata": {},
   "source": [
    "We assemble the ground and excited state preparation schedules. Each of these will run `num_shots` times. We choose `meas_level=1` this time, because we do not want the results already classified for us as $|0\\rangle$ or $|1\\rangle$. Instead, we want kerneled data: raw acquired data that has gone through a kernel function to yield a single complex value for each shot. (You can think of a kernel as a dot product applied to the raw measurement data.)"
   ]
  },
  {
   "cell_type": "code",
   "execution_count": null,
   "metadata": {
    "tags": [
     "uses-hardware"
    ]
   },
   "outputs": [
    {
     "name": "stdout",
     "output_type": "stream",
     "text": [
      "Job Status: job is queued (9)     "
     ]
    }
   ],
   "source": [
    "# # Execution settings\n",
    "# num_shots = 1024\n",
    "\n",
    "# job = backend.run([qc_gnd, qc_exc], \n",
    "#                   meas_level=1, \n",
    "#                   meas_return='single', \n",
    "#                   shots=num_shots)\n",
    "#job = backend.retrieve_job('6391276dec40c21c43f6119c') #internal\n",
    "job = backend.retrieve_job('6391dec8ec40c24657f61938') #open\n",
    "job_monitor(job)"
   ]
  },
  {
   "cell_type": "code",
   "execution_count": null,
   "metadata": {
    "tags": [
     "uses-hardware"
    ]
   },
   "outputs": [],
   "source": [
    "gnd_exc_results = job.result(timeout=120)"
   ]
  },
  {
   "cell_type": "markdown",
   "metadata": {},
   "source": [
    "Now that we have the results, we can visualize the two populations which we have prepared on a simple scatter plot, showing results from the ground state program in blue and results from the excited state preparation program in red. Note: If the populations irregularly shaped (not approximately circular), try re-running the notebook."
   ]
  },
  {
   "cell_type": "code",
   "execution_count": null,
   "metadata": {
    "tags": [
     "uses-hardware"
    ]
   },
   "outputs": [],
   "source": [
    "gnd_results = gnd_exc_results.get_memory(0)[:, qubit]*scale_factor\n",
    "exc_results = gnd_exc_results.get_memory(1)[:, qubit]*scale_factor\n",
    "\n",
    "plt.figure()\n",
    "\n",
    "# Plot all the results\n",
    "# All results from the ground state are plotted in blue\n",
    "plt.scatter(np.real(gnd_results), np.imag(gnd_results), \n",
    "                s=5, cmap='viridis', c='blue', alpha=0.5, label='state_0')\n",
    "# All results from the excited state are plotted in red\n",
    "plt.scatter(np.real(exc_results), np.imag(exc_results), \n",
    "                s=5, cmap='viridis', c='red', alpha=0.5, label='state_1')\n",
    "\n",
    "plt.axis('square')\n",
    "\n",
    "# Plot a large dot for the average result of the 0 and 1 states.\n",
    "mean_gnd = np.mean(gnd_results) # takes mean of both real and imaginary parts\n",
    "mean_exc = np.mean(exc_results)\n",
    "plt.scatter(np.real(mean_gnd), np.imag(mean_gnd), \n",
    "            s=200, cmap='viridis', c='black',alpha=1.0, label='state_0_mean')\n",
    "plt.scatter(np.real(mean_exc), np.imag(mean_exc), \n",
    "            s=200, cmap='viridis', c='black',alpha=1.0, label='state_1_mean')\n",
    "\n",
    "plt.ylabel('I [a.u.]', fontsize=15)\n",
    "plt.xlabel('Q [a.u.]', fontsize=15)\n",
    "plt.title(\"0-1 discrimination\", fontsize=15)\n",
    "\n",
    "plt.show()"
   ]
  },
  {
   "cell_type": "markdown",
   "metadata": {},
   "source": [
    "We can clearly see that the two populations of $|0\\rangle$ and $|1\\rangle$ form their own clusters. Kerneled measurement results (from `meas_level=1`) are classified (into `meas_level=2`) by applying a discriminator which optimally separates these two clusters. Optimal separation is simply a line in the IQ plane, equidistant from the average results we plotted above in the large dot, and normal to the line connecting the two dots.\n",
    "\n",
    "We can set up a quick classifier function by returning 0 if a given point is closer to the mean of the ground state results, and returning 1 if the point is closer to the average excited state results."
   ]
  },
  {
   "cell_type": "code",
   "execution_count": null,
   "metadata": {},
   "outputs": [],
   "source": [
    "import math\n",
    "\n",
    "def classify(point: complex):\n",
    "    \"\"\"Classify the given state as |0> or |1>.\"\"\"\n",
    "    def distance(a, b):\n",
    "        return math.sqrt((np.real(a) - np.real(b))**2 + (np.imag(a) - np.imag(b))**2)\n",
    "    return int(distance(point, mean_exc) < distance(point, mean_gnd))\n"
   ]
  },
  {
   "cell_type": "markdown",
   "metadata": {},
   "source": [
    "### 3.3 Measuring $T_1$ using Inversion Recovery <a id=\"T1\"></a>\n",
    "The $T_1$ time of a qubit is the time it takes for a qubit to decay from the excited state to the ground state. It is important because it limits the duration of meaningful programs we can run on the quantum computer.\n",
    "\n",
    "Measuring $T_1$ is similar to our previous experiments, and uses the $\\pi$ pulse we've calibrated. We again apply a single drive pulse, our $\\pi$ pulse, then apply a measure pulse. However, this time we do not apply the measurement immediately. We insert a delay, and vary that delay between experiments. When we plot the measured signal against delay time, we will see a signal that decays exponentially as the qubit relaxes in energy. The decay time is the $T_1$, or relaxation time, of the qubit!"
   ]
  },
  {
   "cell_type": "code",
   "execution_count": null,
   "metadata": {
    "tags": [
     "uses-hardware"
    ]
   },
   "outputs": [],
   "source": [
    "# T1 experiment parameters\n",
    "time_max_sec = 450 * us\n",
    "time_step_sec = 6.5 * us\n",
    "delay_times_sec = np.arange(1 * us, time_max_sec, time_step_sec)\n",
    "\n",
    "# We will use the same `pi_pulse` and qubit frequency that we calibrated and used before"
   ]
  },
  {
   "cell_type": "code",
   "execution_count": null,
   "metadata": {},
   "outputs": [],
   "source": [
    "delay = Parameter('delay')\n",
    "qc_t1 = QuantumCircuit(1, 1)\n",
    "\n",
    "qc_t1.x(0)\n",
    "qc_t1.delay(delay, 0)\n",
    "qc_t1.measure(0, 0)\n",
    "qc_t1.add_calibration(\"x\", (0,), pi_pulse)\n",
    "\n",
    "exp_t1_circs = [qc_t1.assign_parameters({delay: get_dt_from(d)}, inplace=False) for d in delay_times_sec]"
   ]
  },
  {
   "cell_type": "markdown",
   "metadata": {},
   "source": [
    "We can check out our $T_1$ schedule, too. To really get a sense of this experiment, try looking at a couple of the schedules by running the next cell multiple times, with different values of `sched_idx`. You will see the measurement pulse start later as you increase `sched_idx`."
   ]
  },
  {
   "cell_type": "code",
   "execution_count": null,
   "metadata": {},
   "outputs": [],
   "source": [
    "sched_idx = -1\n",
    "t1_schedule = schedule(exp_t1_circs[sched_idx], backend)\n",
    "t1_schedule.draw(backend=backend)"
   ]
  },
  {
   "cell_type": "code",
   "execution_count": null,
   "metadata": {
    "tags": [
     "uses-hardware"
    ]
   },
   "outputs": [],
   "source": [
    "# Execution settings\n",
    "num_shots = 256\n",
    "\n",
    "job = backend.run(exp_t1_circs, \n",
    "                  meas_level=1, \n",
    "                  meas_return='single', \n",
    "                  shots=num_shots)\n",
    "\n",
    "job_monitor(job)"
   ]
  },
  {
   "cell_type": "code",
   "execution_count": null,
   "metadata": {
    "tags": [
     "uses-hardware"
    ]
   },
   "outputs": [],
   "source": [
    "t1_results = job.result(timeout=120)"
   ]
  },
  {
   "cell_type": "code",
   "execution_count": null,
   "metadata": {},
   "outputs": [],
   "source": [
    "t1_values = []\n",
    "\n",
    "for i in range(len(delay_times_sec)):\n",
    "    iq_data = t1_results.get_memory(i)[:,qubit] * scale_factor\n",
    "    t1_values.append(sum(map(classify, iq_data)) / num_shots)\n",
    "\n",
    "plt.scatter(delay_times_sec/us, t1_values, color='black') \n",
    "plt.title(\"$T_1$ Experiment\", fontsize=15)\n",
    "plt.xlabel('Delay before measurement [$\\mu$s]', fontsize=15)\n",
    "plt.ylabel('Signal [a.u.]', fontsize=15)\n",
    "plt.show()"
   ]
  },
  {
   "cell_type": "markdown",
   "metadata": {},
   "source": [
    "We can then fit the data to a decaying exponential, giving us T1!"
   ]
  },
  {
   "cell_type": "code",
   "execution_count": null,
   "metadata": {
    "tags": [
     "uses-hardware"
    ]
   },
   "outputs": [],
   "source": [
    "# Fit the data\n",
    "fit_params, y_fit = fit_function(delay_times_sec/us, t1_values, \n",
    "            lambda x, A, C, T1: (A * np.exp(-x / T1) + C),\n",
    "            [-3, 3, 100]\n",
    "            )\n",
    "\n",
    "_, _, T1 = fit_params\n",
    "\n",
    "plt.scatter(delay_times_sec/us, t1_values, color='black')\n",
    "plt.plot(delay_times_sec/us, y_fit, color='red', label=f\"T1 = {T1:.2f} us\")\n",
    "plt.xlim(0, np.max(delay_times_sec/us))\n",
    "plt.title(\"$T_1$ Experiment\", fontsize=15)\n",
    "plt.xlabel('Delay before measurement [$\\mu$s]', fontsize=15)\n",
    "plt.ylabel('Signal [a.u.]', fontsize=15)\n",
    "plt.legend()\n",
    "plt.show()"
   ]
  },
  {
   "cell_type": "markdown",
   "metadata": {},
   "source": [
    "# 4. Determining qubit Coherence <a id=\"det_co\"></a>\n",
    "\n",
    "### 4.1 Measuring the qubit Frequency Precisely using a Ramsey Experiment <a id=\"ramsey\"></a>\n",
    "\n",
    "Now, we determine the qubit frequency to better precision. This is done using a Ramsey pulse sequence. In this pulse sequence, we first apply a $\\pi/2$ (\"pi over two\") pulse, wait some time $\\Delta t$, and then apply another $\\pi/2$ pulse. Since we are measuring the signal from the qubit at the same frequency as the pulses, we should observe oscillations at the difference in frequency between the applied pulses and the qubit."
   ]
  },
  {
   "cell_type": "code",
   "execution_count": null,
   "metadata": {
    "tags": [
     "uses-hardware"
    ]
   },
   "outputs": [],
   "source": [
    "# Ramsey experiment parameters\n",
    "time_max_sec = 1.8 * us\n",
    "time_step_sec = 0.025 * us\n",
    "delay_times_sec = np.arange(0.1 * us, time_max_sec, time_step_sec)\n",
    "\n",
    "# Drive parameters\n",
    "# The drive amplitude for pi/2 is simply half the amplitude of the pi pulse\n",
    "drive_amp = pi_amp / 2\n",
    "\n",
    "# x_90 is a concise way to say pi_over_2; i.e., an X rotation of 90 degrees\n",
    "with pulse.build(backend) as x90_pulse:\n",
    "    drive_duration = get_closest_multiple_of_16(pulse.seconds_to_samples(drive_duration_sec))\n",
    "    drive_sigma = pulse.seconds_to_samples(drive_sigma_sec)\n",
    "    drive_chan = pulse.drive_channel(qubit)\n",
    "    pulse.play(pulse.Gaussian(duration=drive_duration,\n",
    "                              amp=drive_amp,\n",
    "                              sigma=drive_sigma,\n",
    "                              name='x90_pulse'), drive_chan)"
   ]
  },
  {
   "cell_type": "markdown",
   "metadata": {},
   "source": [
    "Here, we will apply a commonly used experimental trick. We will drive the pulses off-resonance by a known amount, which we will call `detuning_MHz`. The measured Ramsey signal should show oscillations with frequency near `detuning_MHz`, with a small offset. This small offset is exactly how far away `rough_qubit_frequency` was from the qubit frequency. "
   ]
  },
  {
   "cell_type": "code",
   "execution_count": null,
   "metadata": {},
   "outputs": [],
   "source": [
    "detuning_MHz = 2 \n",
    "ramsey_frequency = round(rough_qubit_frequency + detuning_MHz * MHz, 6) # need ramsey freq in Hz"
   ]
  },
  {
   "cell_type": "code",
   "execution_count": null,
   "metadata": {
    "tags": [
     "uses-hardware"
    ]
   },
   "outputs": [],
   "source": [
    "# create schedules for Ramsey experiment \n",
    "delay = Parameter('delay')\n",
    "with pulse.build(backend=backend, default_alignment='sequential', name=\"Ramsey delay Experiment\") as ramsey_schedule:\n",
    "    drive_chan = pulse.drive_channel(qubit)\n",
    "    pulse.set_frequency(ramsey_frequency, drive_chan)\n",
    "    pulse.call(x90_pulse)\n",
    "    pulse.delay(delay, drive_chan)\n",
    "    pulse.call(x90_pulse)"
   ]
  },
  {
   "cell_type": "code",
   "execution_count": null,
   "metadata": {},
   "outputs": [],
   "source": [
    "ramsey_gate = Gate(\"ramsey\", 1, [delay])\n",
    "\n",
    "qc_ramsey = QuantumCircuit(1, 1)\n",
    "\n",
    "qc_ramsey.append(ramsey_gate, [0])\n",
    "qc_ramsey.measure(0, 0)\n",
    "qc_ramsey.add_calibration(ramsey_gate, (0,), ramsey_schedule, [delay])\n",
    "\n",
    "exp_ramsey_circs = [qc_ramsey.assign_parameters({delay: get_dt_from(d)}, inplace=False) for d in delay_times_sec]"
   ]
  },
  {
   "cell_type": "markdown",
   "metadata": {},
   "source": [
    "Just like for $T_1$ schedules, it will be illuminating to execute the next cell multiple times to inspect a few of the schedules we've made. As you look at increasing indices of `ramsey_schedules`, the delay between the two $\\pi/2$ pulses will increase."
   ]
  },
  {
   "cell_type": "code",
   "execution_count": null,
   "metadata": {},
   "outputs": [],
   "source": [
    "ramsey_schedule = schedule(exp_ramsey_circs[2], backend)\n",
    "ramsey_schedule.draw(backend=backend)"
   ]
  },
  {
   "cell_type": "code",
   "execution_count": null,
   "metadata": {
    "tags": [
     "uses-hardware"
    ]
   },
   "outputs": [],
   "source": [
    "# Execution settings\n",
    "num_shots = 256\n",
    "\n",
    "job = backend.run(exp_ramsey_circs, \n",
    "                  meas_level=1, \n",
    "                  meas_return='single', \n",
    "                  shots=num_shots)\n",
    "\n",
    "job_monitor(job)"
   ]
  },
  {
   "cell_type": "code",
   "execution_count": null,
   "metadata": {
    "tags": [
     "uses-hardware"
    ]
   },
   "outputs": [],
   "source": [
    "ramsey_results = job.result(timeout=120)"
   ]
  },
  {
   "cell_type": "code",
   "execution_count": null,
   "metadata": {
    "tags": [
     "uses-hardware"
    ]
   },
   "outputs": [],
   "source": [
    "ramsey_values = []\n",
    "\n",
    "for i in range(len(delay_times_sec)):\n",
    "    iq_data = ramsey_results.get_memory(i)[:,qubit] * scale_factor\n",
    "    ramsey_values.append(sum(map(classify, iq_data)) / num_shots)\n",
    "    \n",
    "plt.scatter(delay_times_sec/us, np.real(ramsey_values), color='black')\n",
    "plt.xlim(0, np.max(delay_times_sec/us))\n",
    "plt.title(\"Ramsey Experiment\", fontsize=15)\n",
    "plt.xlabel('Delay between X90 pulses [$\\mu$s]', fontsize=15)\n",
    "plt.ylabel('Measured Signal [a.u.]', fontsize=15)\n",
    "plt.show()"
   ]
  },
  {
   "cell_type": "markdown",
   "metadata": {},
   "source": [
    "We will fit the data to a sinusoid, and extract the information we are interested in -- namely, $\\Delta f$."
   ]
  },
  {
   "cell_type": "code",
   "execution_count": null,
   "metadata": {
    "tags": [
     "uses-hardware"
    ]
   },
   "outputs": [],
   "source": [
    "fit_params, y_fit = fit_function(delay_times_sec/us, np.real(ramsey_values),\n",
    "                                 lambda x, A, del_f_MHz, C, B: (\n",
    "                                          A * np.cos(2*np.pi*del_f_MHz*x - C) + B\n",
    "                                         ),\n",
    "                                 [5, 1./0.4, 0, 0.25]\n",
    "                                )\n",
    "\n",
    "# Off-resonance component\n",
    "_, del_f_MHz, _, _, = fit_params # freq is MHz since times in us\n",
    "\n",
    "plt.scatter(delay_times_sec/us, np.real(ramsey_values), color='black')\n",
    "plt.plot(delay_times_sec/us, y_fit, color='red', label=f\"df = {del_f_MHz:.2f} MHz\")\n",
    "plt.xlim(0, np.max(delay_times_sec/us))\n",
    "plt.xlabel('Delay between X90 pulses [$\\mu$s]', fontsize=15)\n",
    "plt.ylabel('Measured Signal [a.u.]', fontsize=15)\n",
    "plt.title('Ramsey Experiment', fontsize=15)\n",
    "plt.legend()\n",
    "plt.show()"
   ]
  },
  {
   "cell_type": "markdown",
   "metadata": {},
   "source": [
    "Now that we know `del_f_MHz`, we can update our estimate of the qubit frequency."
   ]
  },
  {
   "cell_type": "code",
   "execution_count": null,
   "metadata": {
    "tags": [
     "uses-hardware"
    ]
   },
   "outputs": [],
   "source": [
    "precise_qubit_freq = rough_qubit_frequency + (detuning_MHz - del_f_MHz) * MHz # get new freq in Hz\n",
    "print(f\"Our updated qubit frequency is now {round(precise_qubit_freq/GHz, 6)} GHz. \"\n",
    "      f\"It used to be {round(rough_qubit_frequency / GHz, 6)} GHz\")"
   ]
  },
  {
   "cell_type": "markdown",
   "metadata": {},
   "source": [
    "### 4.2 Measuring $T_2$ using Hahn Echoes <a id=\"hahn\"></a>\n",
    "\n",
    "Next, we can measure the coherence time, $T_2$, of our qubit. The pulse sequence used to do this experiment is known as a Hahn echo, a term that comes from the NMR community. A Hahn echo experiment is very similar to the Ramsey experiment above, with an additional $\\pi$ pulse between the two $\\pi/2$ pulses. The $\\pi$ pulse at time $\\tau$ reverses the accumulation of phase, and results in an echo at time $2\\tau$, where we apply the last $\\pi/2$ pulse to do our measurement. \n",
    "\n",
    "The decay time for the Hahn echo experiment gives us the coherence time, $T_2$."
   ]
  },
  {
   "cell_type": "code",
   "execution_count": null,
   "metadata": {
    "tags": [
     "uses-hardware"
    ]
   },
   "outputs": [],
   "source": [
    "# T2 experiment parameters\n",
    "tau_max_sec = 200 * us\n",
    "tau_step_sec = 4 * us\n",
    "delay_times_sec = np.arange(2 * us, tau_max_sec, tau_step_sec)\n",
    "\n",
    "# We will use the pi_pulse and x90_pulse from previous experiments"
   ]
  },
  {
   "cell_type": "code",
   "execution_count": null,
   "metadata": {
    "tags": [
     "uses-hardware"
    ]
   },
   "outputs": [],
   "source": [
    "delay = Parameter('delay')\n",
    "with pulse.build(backend=backend, default_alignment='sequential', name=\"T2 delay Experiment\") as t2_schedule:\n",
    "    drive_chan = pulse.drive_channel(qubit)\n",
    "    pulse.set_frequency(precise_qubit_freq, drive_chan)\n",
    "    pulse.call(x90_pulse)\n",
    "    pulse.delay(delay, drive_chan)\n",
    "    pulse.call(pi_pulse)\n",
    "    pulse.delay(delay, drive_chan)\n",
    "    pulse.call(x90_pulse)"
   ]
  },
  {
   "cell_type": "code",
   "execution_count": null,
   "metadata": {},
   "outputs": [],
   "source": [
    "t2_gate = Gate(\"t2\", 1, [delay])\n",
    "\n",
    "qc_t2 = QuantumCircuit(1, 1)\n",
    "\n",
    "qc_t2.append(t2_gate, [0])\n",
    "qc_t2.measure(0, 0)\n",
    "qc_t2.add_calibration(t2_gate, (0,), t2_schedule, [delay])\n",
    "\n",
    "exp_t2_circs = [qc_t2.assign_parameters({delay: get_dt_from(d)}, inplace=False) for d in delay_times_sec]"
   ]
  },
  {
   "cell_type": "code",
   "execution_count": null,
   "metadata": {},
   "outputs": [],
   "source": [
    "t2_schedule = schedule(exp_t2_circs[-1], backend)\n",
    "t2_schedule.draw(backend=backend)"
   ]
  },
  {
   "cell_type": "code",
   "execution_count": null,
   "metadata": {
    "tags": [
     "uses-hardware"
    ]
   },
   "outputs": [],
   "source": [
    "# Execution settings\n",
    "num_shots_per_point = 512\n",
    "\n",
    "job = backend.run(exp_t2_circs,\n",
    "                  meas_level=1,\n",
    "                  meas_return='single',\n",
    "                  shots=num_shots_per_point)\n",
    "\n",
    "job_monitor(job)"
   ]
  },
  {
   "cell_type": "code",
   "execution_count": null,
   "metadata": {
    "tags": [
     "uses-hardware"
    ]
   },
   "outputs": [],
   "source": [
    "t2_results = job.result(timeout=120)"
   ]
  },
  {
   "cell_type": "code",
   "execution_count": null,
   "metadata": {
    "tags": [
     "uses-hardware"
    ]
   },
   "outputs": [],
   "source": [
    "t2_values = []\n",
    "\n",
    "for i in range(len(delay_times_sec)):\n",
    "    iq_data = t2_results.get_memory(i)[:,qubit] * scale_factor\n",
    "    t2_values.append(sum(map(classify, iq_data)) / num_shots_per_point)\n",
    "\n",
    "plt.scatter(2*delay_times_sec/us, t2_values, color='black')\n",
    "plt.xlabel('Delay between X90 pulse and $\\pi$ pulse [$\\mu$s]', fontsize=15)\n",
    "plt.ylabel('Measured Signal [a.u.]', fontsize=15)\n",
    "plt.title('Hahn Echo Experiment', fontsize=15)\n",
    "plt.show()"
   ]
  },
  {
   "cell_type": "code",
   "execution_count": null,
   "metadata": {
    "tags": [
     "uses-hardware"
    ]
   },
   "outputs": [],
   "source": [
    "fit_params, y_fit = fit_function(2*delay_times_sec/us, t2_values,\n",
    "             lambda x, A, B, T2: (A * np.exp(-x / T2) + B),\n",
    "             [-3, 0, 100])\n",
    "\n",
    "_, _, T2 = fit_params\n",
    "print()\n",
    "\n",
    "plt.scatter(2*delay_times_sec/us, t2_values, color='black')\n",
    "plt.plot(2*delay_times_sec/us, y_fit, color='red', label=f\"T2 = {T2:.2f} us\")\n",
    "plt.xlim(0, np.max(2*delay_times_sec/us))\n",
    "plt.xlabel('Delay between X90 pulse and $\\pi$ pulse [$\\mu$s]', fontsize=15)\n",
    "plt.ylabel('Measured Signal [a.u.]', fontsize=15)\n",
    "plt.title('Hahn Echo Experiment', fontsize=15)\n",
    "plt.legend()\n",
    "plt.show()"
   ]
  },
  {
   "cell_type": "markdown",
   "metadata": {},
   "source": [
    "## C. Dynamical decoupling <a id=\"DD\"></a>\n",
    "\n",
    "The following technique, commonly known as dynamical decoupling, allows us to cancel different frequencies of noise and is used to extract longer coherence times from qubits."
   ]
  },
  {
   "cell_type": "code",
   "execution_count": null,
   "metadata": {
    "tags": [
     "uses-hardware"
    ]
   },
   "outputs": [],
   "source": [
    "# DD experiment parameters\n",
    "tau_sec_min = 1 * us\n",
    "tau_sec_max = 180 * us\n",
    "tau_step_sec = 4 * us\n",
    "taus_sec = np.arange(tau_sec_min, tau_sec_max, tau_step_sec)\n",
    "\n",
    "num_sequence = 1 # apply 1 sequence\n",
    "print(f\"Total time ranges from {2.*num_sequence*taus_sec[0] / us} to {2.*num_sequence*taus_sec[-1] / us} us\")"
   ]
  },
  {
   "cell_type": "code",
   "execution_count": null,
   "metadata": {
    "tags": [
     "uses-hardware"
    ]
   },
   "outputs": [],
   "source": [
    "delay = Parameter('delay')\n",
    "with pulse.build(backend=backend, default_alignment='sequential', name=\"T2DD delay Experiment\") as T2DD_schedule:\n",
    "    drive_chan = pulse.drive_channel(qubit)\n",
    "    pulse.set_frequency(precise_qubit_freq, drive_chan)\n",
    "    pulse.call(x90_pulse)\n",
    "    pulse.delay(delay/2, drive_chan)\n",
    "    for loop_counts in range(num_sequence):\n",
    "        pulse.call(pi_pulse)\n",
    "        pulse.delay(delay, drive_chan)\n",
    "        with pulse.phase_offset(np.pi/2, pulse.drive_channel(qubit)):\n",
    "            pulse.call(pi_pulse)\n",
    "        pulse.delay(delay, drive_chan)\n",
    "        pulse.call(pi_pulse)\n",
    "        pulse.delay(delay, drive_chan)\n",
    "        with pulse.phase_offset(np.pi/2, pulse.drive_channel(qubit)):\n",
    "            pulse.call(pi_pulse)\n",
    "        if loop_counts != num_sequence-1:\n",
    "            pulse.delay(delay, drive_chan)\n",
    "    pulse.delay(delay/2, drive_chan)\n",
    "    pulse.call(x90_pulse)"
   ]
  },
  {
   "cell_type": "code",
   "execution_count": null,
   "metadata": {},
   "outputs": [],
   "source": [
    "T2DD_gate = Gate(\"T2DD\", 1, [delay])\n",
    "\n",
    "qc_T2DD = QuantumCircuit(1, 1)\n",
    "\n",
    "qc_T2DD.append(T2DD_gate, [0])\n",
    "qc_T2DD.measure(0, 0)\n",
    "qc_T2DD.add_calibration(T2DD_gate, (0,), T2DD_schedule, [delay])\n",
    "\n",
    "exp_T2DD_circs = [qc_T2DD.assign_parameters({delay: get_dt_from(d)}, inplace=False) for d in taus_sec]"
   ]
  },
  {
   "cell_type": "code",
   "execution_count": null,
   "metadata": {},
   "outputs": [],
   "source": [
    "T2DD_schedule = schedule(exp_T2DD_circs[-1], backend)\n",
    "T2DD_schedule.draw(backend=backend)"
   ]
  },
  {
   "cell_type": "code",
   "execution_count": null,
   "metadata": {
    "tags": [
     "uses-hardware"
    ]
   },
   "outputs": [],
   "source": [
    "num_shots_per_point = 1024\n",
    "\n",
    "job = backend.run(exp_T2DD_circs,\n",
    "                  meas_level=1,\n",
    "                  meas_return='single',\n",
    "                  shots=num_shots_per_point)\n",
    "\n",
    "\n",
    "job_monitor(job)"
   ]
  },
  {
   "cell_type": "code",
   "execution_count": null,
   "metadata": {
    "tags": [
     "uses-hardware"
    ]
   },
   "outputs": [],
   "source": [
    "T2DD_results = job.result(timeout=120)"
   ]
  },
  {
   "cell_type": "code",
   "execution_count": null,
   "metadata": {
    "tags": [
     "uses-hardware"
    ]
   },
   "outputs": [],
   "source": [
    "times_sec = 4*num_sequence*taus_sec\n",
    "DD_values = []\n",
    "\n",
    "for i in range(len(times_sec)):\n",
    "    iq_data = T2DD_results.get_memory(i)[:,qubit] * scale_factor\n",
    "    DD_values.append(sum(map(classify, iq_data)) / num_shots_per_point)\n",
    "\n",
    "plt.scatter(times_sec/us, DD_values, color='black')\n",
    "plt.xlim(0, np.max(times_sec/us))\n",
    "plt.xlabel('Total time before measurement [$\\mu$s]', fontsize=15)\n",
    "plt.ylabel('Measured Signal [a.u.]', fontsize=15)\n",
    "plt.title('Dynamical Decoupling Experiment', fontsize=15)\n",
    "plt.show()"
   ]
  },
  {
   "cell_type": "code",
   "execution_count": null,
   "metadata": {
    "tags": [
     "uses-hardware"
    ]
   },
   "outputs": [],
   "source": [
    "# Fit the data\n",
    "fit_func = lambda x, A, B, T2DD: (A * np.exp(-x / T2DD) + B)\n",
    "fitparams, conv = curve_fit(fit_func, times_sec/us, DD_values, [3.5, 0.8, 150])\n",
    "\n",
    "_, _, T2DD = fitparams\n",
    "plt.scatter(times_sec/us, DD_values, color='black')\n",
    "plt.plot(times_sec/us, fit_func(times_sec/us, *fitparams), color='red', label=f\"T2DD = {T2DD:.2f} us\")\n",
    "plt.xlim([0, np.max(times_sec/us)])\n",
    "plt.xlabel('Total time before measurement [$\\mu$s]', fontsize=15)\n",
    "plt.ylabel('Measured Signal [a.u.]', fontsize=15)\n",
    "plt.title('Dynamical Decoupling Experiment', fontsize=15)\n",
    "plt.legend()\n",
    "plt.show()"
   ]
  },
  {
   "cell_type": "markdown",
   "metadata": {},
   "source": [
    "## 5. References <a id=\"refs\"></a>"
   ]
  },
  {
   "cell_type": "markdown",
   "metadata": {},
   "source": [
    "1. H. Abraham, I. Y. Akhalwaya, G. Aleksandrowicz, T. Alexander, G. Alexandrowics, E. Arbel, A. Asfaw, C. Azaustre, P. Barkoutsos, G. Barron, L. Bello, Y. Ben-Haim, L. S. Bishop, S. Bosch, D. Bucher, CZ, F. Cabrera, P. Calpin, L. Capelluto, J. Carballo, C.-F. Chen, A. Chen, R. Chen, J. M. Chow, C. Claus, A. W. Cross, A. J. Cross, J. Cruz- Benito, C. Culver, A. D. C ́orcoles-Gonzales, S. Dague, M. Dartiailh, A. R. Davila, D. Ding, E. Dumitrescu, K. Dumon, I. Duran, P. Eendebak, D. Egger, M. Everitt, P. M. Fern ́andez, A. Frisch, A. Fuhrer, J. Gacon, Gadi, B. G. Gago, J. M. Gambetta, L. Garcia, S. Garion, Gawel-Kus, L. Gil, J. Gomez-Mosquera, S. de la Puente Gonz ́alez, D. Green- berg,J.A.Gunnels,I.Haide,I.Hamamura,V.Havlicek,J.Hellmers,L􏰀.Herok,H.Horii, C. Howington, W. Hu, S. Hu, H. Imai, T. Imamichi, R. Iten, T. Itoko, A. Javadi-Abhari, Jessica, K. Johns, N. Kanazawa, A. Karazeev, P. Kassebaum, V. Krishnan, K. Kr- sulich, G. Kus, R. LaRose, R. Lambert, J. Latone, S. Lawrence, P. Liu, P. B. Z. Mac, Y. Maeng, A. Malyshev, J. Marecek, M. Marques, D. Mathews, A. Matsuo, D. T. Mc- Clure, C. McGarry, D. McKay, S. Meesala, A. Mezzacapo, R. Midha, Z. Minev, P. Mu- rali, J. Mu ̈ggenburg, D. Nadlinger, G. Nannicini, P. Nation, Y. Naveh, Nick-Singstock, P. Niroula, H. Norlen, L. J. O’Riordan, S. Oud, D. Padilha, H. Paik, S. Perriello, A. Phan, M. Pistoia, A. Pozas-iKerstjens, V. Prutyanov, J. P ́erez, Quintiii, R. Raymond, R. M.-C. Redondo, M. Reuter, D. M. Rodr ́ıguez, M. Ryu, M. Sandberg, N. Sathaye, B. Schmitt, C. Schnabel, T. L. Scholten, E. Schoute, I. F. Sertage, Y. Shi, A. Silva, Y. Siraichi, S. Sivarajah, J. A. Smolin, M. Soeken, D. Steenken, M. Stypulkoski, H. Takahashi, C. Taylor, P. Taylour, S. Thomas, M. Tillet, M. Tod, E. de la Torre, K. Trabing, M. Treinish, TrishaPe, W. Turner, Y. Vaknin, C. R. Valcarce, F. Varchon, D. Vogt- Lee, C. Vuillot, J. Weaver, R. Wieczorek, J. A. Wildstrom, R. Wille, E. Winston, J. J. Woehr, S. Woerner, R. Woo, C. J. Wood, R. Wood, S. Wood, J. Wootton, D. Yeralin, J. Yu, L. Zdanski, Zoufalc, azulehner, drholmie, fanizzamarco, kanejess, klinvill, merav aharoni, ordmoj, tigerjack, yang.luh, and yotamvakninibm, “Qiskit: An open-source framework for quantum computing,” 2019.\n",
    "2. D. C. McKay, T. Alexander, L. Bello, M. J. Biercuk, L. Bishop, J. Chen, J. M. Chow, A. D. C ́orcoles, D. Egger, S. Filipp, J. Gomez, M. Hush, A. Javadi-Abhari, D. Moreda, P. Nation, B. Paulovicks, E. Winston, C. J. Wood, J. Wootton, and J. M. Gambetta, “Qiskit backend specifications for OpenQASM and OpenPulse experiments,” 2018.\n",
    "\n",
    "**Note:** 'Qiskit Pulse' was formerly known as 'OpenPulse'."
   ]
  },
  {
   "cell_type": "code",
   "execution_count": null,
   "metadata": {},
   "outputs": [],
   "source": [
    "import qiskit.tools.jupyter\n",
    "%qiskit_version_table"
   ]
  }
 ],
 "metadata": {
  "kernelspec": {
   "display_name": "Python 3",
   "language": "python",
   "name": "python3"
  },
  "language_info": {
   "codemirror_mode": {
    "name": "ipython",
    "version": 3
   },
   "file_extension": ".py",
   "mimetype": "text/x-python",
   "name": "python",
   "nbconvert_exporter": "python",
   "pygments_lexer": "ipython3",
   "version": "3.9"
  }
 },
 "nbformat": 4,
 "nbformat_minor": 4
}
