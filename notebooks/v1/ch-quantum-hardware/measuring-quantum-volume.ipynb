{
 "cells": [
  {
   "cell_type": "markdown",
   "metadata": {
    "tags": [
     "remove_cell"
    ]
   },
   "source": [
    "# Measuring Quantum Volume"
   ]
  },
  {
   "cell_type": "markdown",
   "metadata": {},
   "source": [
    "## Introduction\n",
    "\n",
    "**Quantum Volume (QV)** is a single-number metric that can be measured using a concrete\n",
    "protocol on near-term quantum computers of modest size. The QV method quantifies\n",
    "the largest random circuit of equal width and depth that the computer successfully implements.\n",
    "Quantum computing systems with high-fidelity operations, high connectivity, large calibrated gate\n",
    "sets, and circuit rewriting toolchains are expected to have higher quantum volumes. \n",
    "\n",
    "\n",
    "## The Quantum Volume Protocol\n",
    "\n",
    "A QV protocol (see [1]) consists of the following steps:\n",
    "\n",
    "(We should first import the relevant qiskit classes for the demonstration)."
   ]
  },
  {
   "cell_type": "code",
   "execution_count": 1,
   "metadata": {},
   "outputs": [],
   "source": [
    "import matplotlib.pyplot as plt\n",
    "from IPython.display import clear_output\n",
    "\n",
    "#Import Qiskit classes\n",
    "import qiskit\n",
    "from qiskit import assemble, transpile\n",
    "from qiskit.providers.aer.noise import NoiseModel\n",
    "from qiskit.providers.aer.noise.errors.standard_errors import depolarizing_error, thermal_relaxation_error\n",
    "\n",
    "#Import the qv function\n",
    "import qiskit.ignis.verification.quantum_volume as qv"
   ]
  },
  {
   "cell_type": "markdown",
   "metadata": {},
   "source": [
    "### Step 1: Generate QV sequences\n",
    "\n",
    "It is well-known that quantum algorithms can be expressed as polynomial-sized quantum circuits built from two-qubit unitary gates. Therefore, a model circuit consists of $d$ layers of random permutations of the qubit labels, followed by random two-qubit gates (from $SU(4)$). When the circuit width $m$ is odd, one of the qubits is idle in each layer.\n",
    "\n",
    "More precisely, a **QV circuit** with **depth $d$** and **width $m$**, is a sequence $U = U^{(d)}...U^{(2)}U^{(1)}$ of $d$ layers:\n",
    "\n",
    "\n",
    "$$ U^{(t)} = U^{(t)}_{\\pi_t(m'-1),\\pi_t(m)} \\otimes ... \\otimes U^{(t)}_{\\pi_t(1),\\pi_t(2)} $$\n",
    "\n",
    "\n",
    "each labeled by times $t = 1 ... d$ and acting on $m' = 2 \\lfloor n/2 \\rfloor$ qubits. \n",
    "Each layer is specified by choosing a uniformly random permutation $\\pi_t \\in S_m$ of the $m$ qubit indices\n",
    "and sampling each $U^{(t)}_{a,b}$, acting on qubits $a$ and $b$, from the Haar measure on $SU(4)$.\n",
    "\n",
    "In the following example we have 6 qubits Q0,Q1,Q3,Q5,Q7,Q10. We are going to look at subsets up to the full set\n",
    "(each volume circuit will be depth equal to the number of qubits in the subset)"
   ]
  },
  {
   "cell_type": "code",
   "execution_count": 2,
   "metadata": {},
   "outputs": [],
   "source": [
    "# qubit_lists: list of list of qubit subsets to generate QV circuits\n",
    "qubit_lists = [[0,1,3],[0,1,3,5],[0,1,3,5,7],[0,1,3,5,7,10]]\n",
    "# ntrials: Number of random circuits to create for each subset\n",
    "ntrials = 100"
   ]
  },
  {
   "cell_type": "markdown",
   "metadata": {},
   "source": [
    "We generate the quantum volume sequences. We start with a small example (so it doesn't take too long to run)."
   ]
  },
  {
   "cell_type": "code",
   "execution_count": 3,
   "metadata": {},
   "outputs": [],
   "source": [
    "import warnings\n",
    "warnings.filterwarnings('ignore')\n",
    "qv_circs, qv_circs_nomeas = qv.qv_circuits(qubit_lists, ntrials)"
   ]
  },
  {
   "cell_type": "markdown",
   "metadata": {},
   "source": [
    "As an example, we print the circuit corresponding to the first QV sequence. Note that the ideal circuits are run on the first n qubits (where n is the number of qubits in the subset)."
   ]
  },
  {
   "cell_type": "code",
   "execution_count": 4,
   "metadata": {},
   "outputs": [],
   "source": [
    "# pass the first trial of the nomeas through the transpiler to illustrate the circuit\n",
    "qv_circs_nomeas[0] = qiskit.compiler.transpile(qv_circs_nomeas[0], basis_gates=['u1','u2','u3','cx'])"
   ]
  },
  {
   "cell_type": "code",
   "execution_count": 5,
   "metadata": {},
   "outputs": [
    {
     "data": {
      "image/svg+xml": [
       "<?xml version=\"1.0\" encoding=\"UTF-8\"?><!DOCTYPE svg  PUBLIC '-//W3C//DTD SVG 1.1//EN'  'http://www.w3.org/Graphics/SVG/1.1/DTD/svg11.dtd'><svg width=\"1397.9pt\" height=\"176.53pt\" version=\"1.1\" viewBox=\"0 0 1397.9 176.53\" xmlns=\"http://www.w3.org/2000/svg\" xmlns:xlink=\"http://www.w3.org/1999/xlink\"><defs><style type=\"text/css\">*{stroke-linecap:butt;stroke-linejoin:round;}</style></defs><path d=\"m-0 176.53h1397.9v-176.53h-1397.9z\" fill=\"#ffffff\"/><path d=\"m63.491 51.159h1322.6\" clip-path=\"url(#p65e6c44516)\" fill=\"none\" stroke=\"#000000\" stroke-linecap=\"square\" stroke-width=\"2\"/><path d=\"m63.491 96.61h1322.6\" clip-path=\"url(#p65e6c44516)\" fill=\"none\" stroke=\"#000000\" stroke-linecap=\"square\" stroke-width=\"2\"/><path d=\"m63.491 142.06h1322.6\" clip-path=\"url(#p65e6c44516)\" fill=\"none\" stroke=\"#000000\" stroke-linecap=\"square\" stroke-width=\"2\"/><path d=\"m178.94 142.06v-90.902\" clip-path=\"url(#p65e6c44516)\" fill=\"none\" stroke=\"#6fa4ff\" stroke-linecap=\"square\" stroke-width=\"2\"/><path d=\"m315.29 142.06v-90.902\" clip-path=\"url(#p65e6c44516)\" fill=\"none\" stroke=\"#6fa4ff\" stroke-linecap=\"square\" stroke-width=\"2\"/><path d=\"m451.64 142.06v-90.902\" clip-path=\"url(#p65e6c44516)\" fill=\"none\" stroke=\"#6fa4ff\" stroke-linecap=\"square\" stroke-width=\"2\"/><path d=\"m588 142.06v-90.902\" clip-path=\"url(#p65e6c44516)\" fill=\"none\" stroke=\"#6fa4ff\" stroke-linecap=\"square\" stroke-width=\"2\"/><path d=\"m724.35 142.06v-90.902\" clip-path=\"url(#p65e6c44516)\" fill=\"none\" stroke=\"#6fa4ff\" stroke-linecap=\"square\" stroke-width=\"2\"/><path d=\"m860.7 142.06v-90.902\" clip-path=\"url(#p65e6c44516)\" fill=\"none\" stroke=\"#6fa4ff\" stroke-linecap=\"square\" stroke-width=\"2\"/><path d=\"m997.05 142.06v-90.902\" clip-path=\"url(#p65e6c44516)\" fill=\"none\" stroke=\"#6fa4ff\" stroke-linecap=\"square\" stroke-width=\"2\"/><path d=\"m1133.4 142.06v-90.902\" clip-path=\"url(#p65e6c44516)\" fill=\"none\" stroke=\"#6fa4ff\" stroke-linecap=\"square\" stroke-width=\"2\"/><path d=\"m1269.8 142.06v-90.902\" clip-path=\"url(#p65e6c44516)\" fill=\"none\" stroke=\"#6fa4ff\" stroke-linecap=\"square\" stroke-width=\"2\"/><defs><path id=\"DejaVuSans-71\" d=\"m59.516 10.406v19.578h-16.109v8.1094h25.875v-31.312q-5.7031-4.0469-12.594-6.125-6.875-2.0781-14.688-2.0781-17.094 0-26.75 9.9844-9.6406 10-9.6406 27.812 0 17.875 9.6406 27.859 9.6562 9.9844 26.75 9.9844 7.125 0 13.547-1.7656 6.4219-1.75 11.844-5.1719v-10.5q-5.4688 4.6406-11.625 6.9844t-12.938 2.3438q-13.391 0-20.109-7.4688-6.7031-7.4688-6.7031-22.266 0-14.75 6.7031-22.219 6.7188-7.4688 20.109-7.4688 5.2188 0 9.3125 0.90625 4.1094 0.90625 7.375 2.8125z\"/><path id=\"DejaVuSans-108\" d=\"m9.4219 75.984h8.9844v-75.984h-8.9844z\"/><path id=\"DejaVuSans-111\" d=\"m30.609 48.391q-7.2188 0-11.422-5.6406t-4.2031-15.453 4.1719-15.453q4.1875-5.6406 11.453-5.6406 7.1875 0 11.375 5.6562 4.2031 5.6719 4.2031 15.438 0 9.7188-4.2031 15.406-4.1875 5.6875-11.375 5.6875zm0 7.6094q11.719 0 18.406-7.625 6.7031-7.6094 6.7031-21.078 0-13.422-6.7031-21.078-6.6875-7.6406-18.406-7.6406-11.766 0-18.438 7.6406-6.6562 7.6562-6.6562 21.078 0 13.469 6.6562 21.078 6.6719 7.625 18.438 7.625z\"/><path id=\"DejaVuSans-98\" d=\"m48.688 27.297q0 9.9062-4.0781 15.547t-11.203 5.6406q-7.1406 0-11.219-5.6406t-4.0781-15.547 4.0781-15.547 11.219-5.6406q7.125 0 11.203 5.6406t4.0781 15.547zm-30.578 19.094q2.8438 4.875 7.1562 7.2344 4.3281 2.375 10.328 2.375 9.9688 0 16.188-7.9062 6.2344-7.9062 6.2344-20.797t-6.2344-20.812q-6.2188-7.9062-16.188-7.9062-6 0-10.328 2.375-4.3125 2.375-7.1562 7.25v-8.2031h-9.0312v75.984h9.0312z\"/><path id=\"DejaVuSans-97\" d=\"m34.281 27.484q-10.891 0-15.094-2.4844t-4.2031-8.5q0-4.7812 3.1562-7.5938 3.1562-2.7969 8.5625-2.7969 7.4844 0 12 5.2969t4.5156 14.078v2zm17.922 3.7188v-31.203h-8.9844v8.2969q-3.0781-4.9688-7.6719-7.3438t-11.234-2.375q-8.3906 0-13.359 4.7188-4.9531 4.7188-4.9531 12.625 0 9.2188 6.1719 13.906 6.1875 4.6875 18.438 4.6875h12.609v0.89062q0 6.2031-4.0781 9.5938t-11.453 3.3906q-4.6875 0-9.1406-1.125-4.4375-1.125-8.5312-3.375v8.3125q4.9219 1.9062 9.5625 2.8438 4.6406 0.95312 9.0312 0.95312 11.875 0 17.734-6.1562 5.8594-6.1406 5.8594-18.641z\"/><path id=\"DejaVuSans-80\" d=\"m19.672 64.797v-27.391h12.406q6.8906 0 10.641 3.5625 3.7656 3.5625 3.7656 10.156 0 6.5469-3.7656 10.109-3.75 3.5625-10.641 3.5625zm-9.8594 8.1094h22.266q12.266 0 18.531-5.5469 6.2812-5.5469 6.2812-16.234 0-10.797-6.2812-16.312-6.2656-5.5156-18.531-5.5156h-12.406v-29.297h-9.8594z\"/><path id=\"DejaVuSans-104\" d=\"m54.891 33.016v-33.016h-8.9844v32.719q0 7.7656-3.0312 11.609-3.0312 3.8594-9.0781 3.8594-7.2812 0-11.484-4.6406-4.2031-4.625-4.2031-12.641v-30.906h-9.0312v75.984h9.0312v-29.797q3.2344 4.9375 7.5938 7.375 4.375 2.4375 10.094 2.4375 9.4219 0 14.25-5.8281 4.8438-5.8281 4.8438-17.156z\"/><path id=\"DejaVuSans-115\" d=\"m44.281 53.078v-8.5q-3.7969 1.9531-7.9062 2.9219-4.0938 0.98438-8.5 0.98438-6.6875 0-10.031-2.0469t-3.3438-6.1562q0-3.125 2.3906-4.9062t9.625-3.3906l3.0781-0.6875q9.5625-2.0469 13.594-5.7812t4.0312-10.422q0-7.625-6.0312-12.078-6.0312-4.4375-16.578-4.4375-4.3906 0-9.1562 0.85938t-10.031 2.5625v9.2812q4.9844-2.5938 9.8125-3.8906 4.8281-1.2812 9.5781-1.2812 6.3438 0 9.75 2.1719 3.4219 2.1719 3.4219 6.125 0 3.6562-2.4688 5.6094-2.4531 1.9531-10.812 3.7656l-3.125 0.73438q-8.3438 1.75-12.062 5.3906-3.7031 3.6406-3.7031 9.9844 0 7.7188 5.4688 11.906 5.4688 4.2031 15.531 4.2031 4.9688 0 9.3594-0.73438 4.4062-0.71875 8.1094-2.1875z\"/><path id=\"DejaVuSans-101\" d=\"m56.203 29.594v-4.3906h-41.312q0.59375-9.2812 5.5938-14.141t13.938-4.8594q5.1719 0 10.031 1.2656t9.6562 3.8125v-8.5q-4.8438-2.0469-9.9219-3.125t-10.297-1.0781q-13.094 0-20.734 7.6094-7.6406 7.625-7.6406 20.625 0 13.422 7.25 21.297 7.25 7.8906 19.562 7.8906 11.031 0 17.453-7.1094 6.4219-7.0938 6.4219-19.297zm-8.9844 2.6406q-0.09375 7.3594-4.125 11.75-4.0312 4.4062-10.672 4.4062-7.5156 0-12.031-4.25t-5.2031-11.969z\"/><path id=\"DejaVuSans-58\" d=\"m11.719 12.406h10.297v-12.406h-10.297zm0 39.297h10.297v-12.391h-10.297z\"/><path id=\"DejaVuSans-51\" d=\"m40.578 39.312q7.0781-1.5156 11.047-6.3125 3.9844-4.7812 3.9844-11.812 0-10.781-7.4219-16.703-7.4219-5.9062-21.094-5.9062-4.5781 0-9.4375 0.90625t-10.031 2.7188v9.5156q4.0938-2.3906 8.9688-3.6094 4.8906-1.2188 10.219-1.2188 9.2656 0 14.125 3.6562t4.8594 10.641q0 6.4531-4.5156 10.078-4.5156 3.6406-12.562 3.6406h-8.5v8.1094h8.8906q7.2656 0 11.125 2.9062t3.8594 8.375q0 5.6094-3.9844 8.6094-3.9688 3.0156-11.391 3.0156-4.0625 0-8.7031-0.89062-4.6406-0.875-10.203-2.7188v8.7812q5.625 1.5625 10.531 2.3438t9.25 0.78125q11.234 0 17.766-5.1094 6.5469-5.0938 6.5469-13.781 0-6.0625-3.4688-10.234t-9.8594-5.7812z\"/><path id=\"DejaVuSans-46\" d=\"m10.688 12.406h10.312v-12.406h-10.312z\"/><path id=\"DejaVuSans-54\" d=\"m33.016 40.375q-6.6406 0-10.531-4.5469-3.875-4.5312-3.875-12.438 0-7.8594 3.875-12.438 3.8906-4.5625 10.531-4.5625t10.516 4.5625q3.875 4.5781 3.875 12.438 0 7.9062-3.875 12.438-3.875 4.5469-10.516 4.5469zm19.578 30.922v-8.9844q-3.7188 1.75-7.5 2.6719-3.7812 0.9375-7.5 0.9375-9.7656 0-14.922-6.5938-5.1406-6.5938-5.875-19.922 2.875 4.25 7.2188 6.5156 4.3594 2.2656 9.5781 2.2656 10.984 0 17.359-6.6719 6.375-6.6562 6.375-18.125 0-11.234-6.6406-18.031-6.6406-6.7812-17.672-6.7812-12.656 0-19.344 9.6875-6.6875 9.7031-6.6875 28.109 0 17.281 8.2031 27.562t22.016 10.281q3.7188 0 7.5-0.73438t7.8906-2.1875z\"/><path id=\"DejaVuSans-55\" d=\"m8.2031 72.906h46.875v-4.2031l-26.469-68.703h-10.297l24.906 64.594h-35.016z\"/></defs><g transform=\"translate(7.2 14.798) scale(.1 -.1)\"><use xlink:href=\"#DejaVuSans-71\"/><use x=\"77.490234\" xlink:href=\"#DejaVuSans-108\"/><use x=\"105.273438\" xlink:href=\"#DejaVuSans-111\"/><use x=\"166.455078\" xlink:href=\"#DejaVuSans-98\"/><use x=\"229.931641\" xlink:href=\"#DejaVuSans-97\"/><use x=\"291.210938\" xlink:href=\"#DejaVuSans-108\"/><use x=\"318.994141\" xlink:href=\"#DejaVuSans-32\"/><use x=\"350.78125\" xlink:href=\"#DejaVuSans-80\"/><use x=\"411.083984\" xlink:href=\"#DejaVuSans-104\"/><use x=\"474.462891\" xlink:href=\"#DejaVuSans-97\"/><use x=\"535.742188\" xlink:href=\"#DejaVuSans-115\"/><use x=\"587.841797\" xlink:href=\"#DejaVuSans-101\"/><use x=\"649.365234\" xlink:href=\"#DejaVuSans-58\"/><use x=\"683.056641\" xlink:href=\"#DejaVuSans-32\"/><use x=\"714.84375\" xlink:href=\"#DejaVuSans-51\"/><use x=\"778.466797\" xlink:href=\"#DejaVuSans-46\"/><use x=\"810.253906\" xlink:href=\"#DejaVuSans-54\"/><use x=\"873.876953\" xlink:href=\"#DejaVuSans-55\"/><use x=\"937.5\" xlink:href=\"#DejaVuSans-55\"/></g><path d=\"m74.631 65.931h72.258v-29.543h-72.258z\" clip-path=\"url(#p65e6c44516)\" fill=\"#fa74a6\" stroke=\"#fa74a6\" stroke-width=\"1.5\"/><path d=\"m67.531 156.83h86.457v-29.543h-86.457z\" clip-path=\"url(#p65e6c44516)\" fill=\"#fa74a6\" stroke=\"#fa74a6\" stroke-width=\"1.5\"/><path d=\"m178.94 146.49c1.1752 0 2.3025-0.46693 3.1335-1.2979 0.83102-0.83102 1.2979-1.9583 1.2979-3.1335 0-1.1752-0.46693-2.3025-1.2979-3.1335-0.83102-0.83102-1.9583-1.2979-3.1335-1.2979s-2.3025 0.46693-3.1335 1.2979c-0.83102 0.83102-1.2979 1.9583-1.2979 3.1335 0 1.1752 0.46693 2.3025 1.2979 3.1335 0.83102 0.83102 1.9583 1.2979 3.1335 1.2979z\" clip-path=\"url(#p65e6c44516)\" fill=\"#6fa4ff\" stroke=\"#6fa4ff\" stroke-width=\"1.5\"/><path d=\"m178.94 61.499c2.7422 0 5.3725-1.0895 7.3116-3.0285 1.939-1.939 3.0285-4.5693 3.0285-7.3116 0-2.7422-1.0895-5.3725-3.0285-7.3116-1.939-1.939-4.5693-3.0285-7.3116-3.0285s-5.3725 1.0895-7.3116 3.0285c-1.939 1.939-3.0285 4.5693-3.0285 7.3116 0 2.7422 1.0895 5.3725 3.0285 7.3116 1.939 1.939 4.5693 3.0285 7.3116 3.0285z\" clip-path=\"url(#p65e6c44516)\" fill=\"#6fa4ff\" stroke=\"#6fa4ff\" stroke-width=\"2\"/><path d=\"m214.44 65.931h65.34v-29.543h-65.34z\" clip-path=\"url(#p65e6c44516)\" fill=\"#fa74a6\" stroke=\"#fa74a6\" stroke-width=\"1.5\"/><path d=\"m221.17 156.83h51.891v-29.543h-51.891z\" clip-path=\"url(#p65e6c44516)\" fill=\"#fa74a6\" stroke=\"#fa74a6\" stroke-width=\"1.5\"/><path d=\"m315.29 146.49c1.1752 0 2.3025-0.46693 3.1335-1.2979 0.83102-0.83102 1.2979-1.9583 1.2979-3.1335 0-1.1752-0.46693-2.3025-1.2979-3.1335-0.83102-0.83102-1.9583-1.2979-3.1335-1.2979s-2.3025 0.46693-3.1335 1.2979c-0.83102 0.83102-1.2979 1.9583-1.2979 3.1335 0 1.1752 0.46693 2.3025 1.2979 3.1335 0.83102 0.83102 1.9583 1.2979 3.1335 1.2979z\" clip-path=\"url(#p65e6c44516)\" fill=\"#6fa4ff\" stroke=\"#6fa4ff\" stroke-width=\"1.5\"/><path d=\"m315.29 61.499c2.7422 0 5.3725-1.0895 7.3116-3.0285 1.939-1.939 3.0285-4.5693 3.0285-7.3116 0-2.7422-1.0895-5.3725-3.0285-7.3116-1.939-1.939-4.5693-3.0285-7.3116-3.0285s-5.3725 1.0895-7.3116 3.0285c-1.939 1.939-3.0285 4.5693-3.0285 7.3116 0 2.7422 1.0895 5.3725 3.0285 7.3116 1.939 1.939 4.5693 3.0285 7.3116 3.0285z\" clip-path=\"url(#p65e6c44516)\" fill=\"#6fa4ff\" stroke=\"#6fa4ff\" stroke-width=\"2\"/><path d=\"m368.17 65.931h30.584v-29.543h-30.584z\" clip-path=\"url(#p65e6c44516)\" fill=\"#fa74a6\" stroke=\"#fa74a6\" stroke-width=\"1.5\"/><path d=\"m347.58 156.83h71.776v-29.543h-71.776z\" clip-path=\"url(#p65e6c44516)\" fill=\"#fa74a6\" stroke=\"#fa74a6\" stroke-width=\"1.5\"/><path d=\"m451.64 146.49c1.1752 0 2.3025-0.46693 3.1335-1.2979 0.83102-0.83102 1.2979-1.9583 1.2979-3.1335 0-1.1752-0.46693-2.3025-1.2979-3.1335-0.83102-0.83102-1.9583-1.2979-3.1335-1.2979s-2.3025 0.46693-3.1335 1.2979c-0.83102 0.83102-1.2979 1.9583-1.2979 3.1335 0 1.1752 0.46693 2.3025 1.2979 3.1335 0.83102 0.83102 1.9583 1.2979 3.1335 1.2979z\" clip-path=\"url(#p65e6c44516)\" fill=\"#6fa4ff\" stroke=\"#6fa4ff\" stroke-width=\"1.5\"/><path d=\"m451.64 61.499c2.7422 0 5.3725-1.0895 7.3116-3.0285 1.939-1.939 3.0285-4.5693 3.0285-7.3116 0-2.7422-1.0895-5.3725-3.0285-7.3116-1.939-1.939-4.5693-3.0285-7.3116-3.0285s-5.3725 1.0895-7.3116 3.0285c-1.939 1.939-3.0285 4.5693-3.0285 7.3116 0 2.7422 1.0895 5.3725 3.0285 7.3116 1.939 1.939 4.5693 3.0285 7.3116 3.0285z\" clip-path=\"url(#p65e6c44516)\" fill=\"#6fa4ff\" stroke=\"#6fa4ff\" stroke-width=\"2\"/><path d=\"m482.74 65.931h74.149v-29.543h-74.149z\" clip-path=\"url(#p65e6c44516)\" fill=\"#fa74a6\" stroke=\"#fa74a6\" stroke-width=\"1.5\"/><path d=\"m486.82 156.83h66.004v-29.543h-66.004z\" clip-path=\"url(#p65e6c44516)\" fill=\"#fa74a6\" stroke=\"#fa74a6\" stroke-width=\"1.5\"/><path d=\"m588 146.49c1.1752 0 2.3025-0.46693 3.1335-1.2979 0.83102-0.83102 1.2979-1.9583 1.2979-3.1335 0-1.1752-0.46693-2.3025-1.2979-3.1335-0.83102-0.83102-1.9583-1.2979-3.1335-1.2979s-2.3025 0.46693-3.1335 1.2979c-0.83102 0.83102-1.2979 1.9583-1.2979 3.1335 0 1.1752 0.46693 2.3025 1.2979 3.1335 0.83102 0.83102 1.9583 1.2979 3.1335 1.2979z\" clip-path=\"url(#p65e6c44516)\" fill=\"#6fa4ff\" stroke=\"#6fa4ff\" stroke-width=\"1.5\"/><path d=\"m588 61.499c2.7422 0 5.3725-1.0895 7.3116-3.0285 1.939-1.939 3.0285-4.5693 3.0285-7.3116 0-2.7422-1.0895-5.3725-3.0285-7.3116-1.939-1.939-4.5693-3.0285-7.3116-3.0285s-5.3725 1.0895-7.3116 3.0285c-1.939 1.939-3.0285 4.5693-3.0285 7.3116 0 2.7422 1.0895 5.3725 3.0285 7.3116 1.939 1.939 4.5693 3.0285 7.3116 3.0285z\" clip-path=\"url(#p65e6c44516)\" fill=\"#6fa4ff\" stroke=\"#6fa4ff\" stroke-width=\"2\"/><path d=\"m623.6 65.931h65.149v-29.543h-65.149z\" clip-path=\"url(#p65e6c44516)\" fill=\"#fa74a6\" stroke=\"#fa74a6\" stroke-width=\"1.5\"/><path d=\"m632.97 156.83h46.396v-29.543h-46.396z\" clip-path=\"url(#p65e6c44516)\" fill=\"#fa74a6\" stroke=\"#fa74a6\" stroke-width=\"1.5\"/><path d=\"m724.35 146.49c1.1752 0 2.3025-0.46693 3.1335-1.2979 0.83102-0.83102 1.2979-1.9583 1.2979-3.1335 0-1.1752-0.46693-2.3025-1.2979-3.1335-0.83102-0.83102-1.9583-1.2979-3.1335-1.2979s-2.3025 0.46693-3.1335 1.2979c-0.83102 0.83102-1.2979 1.9583-1.2979 3.1335 0 1.1752 0.46693 2.3025 1.2979 3.1335 0.83102 0.83102 1.9583 1.2979 3.1335 1.2979z\" clip-path=\"url(#p65e6c44516)\" fill=\"#6fa4ff\" stroke=\"#6fa4ff\" stroke-width=\"1.5\"/><path d=\"m724.35 61.499c2.7422 0 5.3725-1.0895 7.3116-3.0285 1.939-1.939 3.0285-4.5693 3.0285-7.3116 0-2.7422-1.0895-5.3725-3.0285-7.3116-1.939-1.939-4.5693-3.0285-7.3116-3.0285s-5.3725 1.0895-7.3116 3.0285c-1.939 1.939-3.0285 4.5693-3.0285 7.3116 0 2.7422 1.0895 5.3725 3.0285 7.3116 1.939 1.939 4.5693 3.0285 7.3116 3.0285z\" clip-path=\"url(#p65e6c44516)\" fill=\"#6fa4ff\" stroke=\"#6fa4ff\" stroke-width=\"2\"/><path d=\"m777.23 65.931h30.584v-29.543h-30.584z\" clip-path=\"url(#p65e6c44516)\" fill=\"#fa74a6\" stroke=\"#fa74a6\" stroke-width=\"1.5\"/><path d=\"m759.9 156.83h65.245v-29.543h-65.245z\" clip-path=\"url(#p65e6c44516)\" fill=\"#fa74a6\" stroke=\"#fa74a6\" stroke-width=\"1.5\"/><path d=\"m860.7 146.49c1.1752 0 2.3025-0.46693 3.1335-1.2979 0.83102-0.83102 1.2979-1.9583 1.2979-3.1335 0-1.1752-0.46693-2.3025-1.2979-3.1335-0.83102-0.83102-1.9583-1.2979-3.1335-1.2979s-2.3025 0.46693-3.1335 1.2979c-0.83102 0.83102-1.2979 1.9583-1.2979 3.1335 0 1.1752 0.46693 2.3025 1.2979 3.1335 0.83102 0.83102 1.9583 1.2979 3.1335 1.2979z\" clip-path=\"url(#p65e6c44516)\" fill=\"#6fa4ff\" stroke=\"#6fa4ff\" stroke-width=\"1.5\"/><path d=\"m860.7 61.499c2.7422 0 5.3725-1.0895 7.3116-3.0285 1.939-1.939 3.0285-4.5693 3.0285-7.3116 0-2.7422-1.0895-5.3725-3.0285-7.3116-1.939-1.939-4.5693-3.0285-7.3116-3.0285s-5.3725 1.0895-7.3116 3.0285c-1.939 1.939-3.0285 4.5693-3.0285 7.3116 0 2.7422 1.0895 5.3725 3.0285 7.3116 1.939 1.939 4.5693 3.0285 7.3116 3.0285z\" clip-path=\"url(#p65e6c44516)\" fill=\"#6fa4ff\" stroke=\"#6fa4ff\" stroke-width=\"2\"/><path d=\"m891.9 65.931h73.958v-29.543h-73.958z\" clip-path=\"url(#p65e6c44516)\" fill=\"#fa74a6\" stroke=\"#fa74a6\" stroke-width=\"1.5\"/><path d=\"m889.25 156.83h79.262v-29.543h-79.262z\" clip-path=\"url(#p65e6c44516)\" fill=\"#fa74a6\" stroke=\"#fa74a6\" stroke-width=\"1.5\"/><path d=\"m997.05 55.591c1.1752 0 2.3025-0.46693 3.1335-1.2979 0.83102-0.83102 1.2979-1.9583 1.2979-3.1335 0-1.1752-0.46693-2.3025-1.2979-3.1335-0.83102-0.83102-1.9583-1.2979-3.1335-1.2979s-2.3025 0.46693-3.1335 1.2979c-0.83102 0.83102-1.2979 1.9583-1.2979 3.1335 0 1.1752 0.46693 2.3025 1.2979 3.1335 0.83102 0.83102 1.9583 1.2979 3.1335 1.2979z\" clip-path=\"url(#p65e6c44516)\" fill=\"#6fa4ff\" stroke=\"#6fa4ff\" stroke-width=\"1.5\"/><path d=\"m997.05 152.4c2.7422 0 5.3725-1.0895 7.3116-3.0285 1.939-1.939 3.0285-4.5693 3.0285-7.3116 0-2.7422-1.0895-5.3725-3.0285-7.3116-1.939-1.939-4.5693-3.0285-7.3116-3.0285s-5.3725 1.0895-7.3116 3.0285c-1.939 1.939-3.0285 4.5693-3.0285 7.3116 0 2.7422 1.0895 5.3725 3.0285 7.3116 1.939 1.939 4.5693 3.0285 7.3116 3.0285z\" clip-path=\"url(#p65e6c44516)\" fill=\"#6fa4ff\" stroke=\"#6fa4ff\" stroke-width=\"2\"/><path d=\"m1039.3 65.931h51.891v-29.543h-51.891z\" clip-path=\"url(#p65e6c44516)\" fill=\"#fa74a6\" stroke=\"#fa74a6\" stroke-width=\"1.5\"/><path d=\"m1032.5 156.83h65.436v-29.543h-65.436z\" clip-path=\"url(#p65e6c44516)\" fill=\"#fa74a6\" stroke=\"#fa74a6\" stroke-width=\"1.5\"/><path d=\"m1133.4 55.591c1.1752 0 2.3025-0.46693 3.1335-1.2979 0.83102-0.83102 1.2979-1.9583 1.2979-3.1335 0-1.1752-0.46693-2.3025-1.2979-3.1335-0.83102-0.83102-1.9583-1.2979-3.1335-1.2979s-2.3025 0.46693-3.1335 1.2979c-0.83102 0.83102-1.2979 1.9583-1.2979 3.1335 0 1.1752 0.46693 2.3025 1.2979 3.1335 0.83102 0.83102 1.9583 1.2979 3.1335 1.2979z\" clip-path=\"url(#p65e6c44516)\" fill=\"#6fa4ff\" stroke=\"#6fa4ff\" stroke-width=\"1.5\"/><path d=\"m1133.4 152.4c2.7422 0 5.3725-1.0895 7.3116-3.0285 1.939-1.939 3.0285-4.5693 3.0285-7.3116 0-2.7422-1.0895-5.3725-3.0285-7.3116-1.939-1.939-4.5693-3.0285-7.3116-3.0285s-5.3725 1.0895-7.3116 3.0285c-1.939 1.939-3.0285 4.5693-3.0285 7.3116 0 2.7422 1.0895 5.3725 3.0285 7.3116 1.939 1.939 4.5693 3.0285 7.3116 3.0285z\" clip-path=\"url(#p65e6c44516)\" fill=\"#6fa4ff\" stroke=\"#6fa4ff\" stroke-width=\"2\"/><path d=\"m1168.9 65.931h65.436v-29.543h-65.436z\" clip-path=\"url(#p65e6c44516)\" fill=\"#fa74a6\" stroke=\"#fa74a6\" stroke-width=\"1.5\"/><path d=\"m1186.3 156.83h30.584v-29.543h-30.584z\" clip-path=\"url(#p65e6c44516)\" fill=\"#fa74a6\" stroke=\"#fa74a6\" stroke-width=\"1.5\"/><path d=\"m1269.8 55.591c1.1752 0 2.3025-0.46693 3.1335-1.2979 0.83102-0.83102 1.2979-1.9583 1.2979-3.1335 0-1.1752-0.46693-2.3025-1.2979-3.1335-0.83102-0.83102-1.9583-1.2979-3.1335-1.2979s-2.3025 0.46693-3.1335 1.2979c-0.83102 0.83102-1.2979 1.9583-1.2979 3.1335 0 1.1752 0.46693 2.3025 1.2979 3.1335 0.83102 0.83102 1.9583 1.2979 3.1335 1.2979z\" clip-path=\"url(#p65e6c44516)\" fill=\"#6fa4ff\" stroke=\"#6fa4ff\" stroke-width=\"1.5\"/><path d=\"m1269.8 152.4c2.7422 0 5.3725-1.0895 7.3116-3.0285 1.939-1.939 3.0285-4.5693 3.0285-7.3116 0-2.7422-1.0895-5.3725-3.0285-7.3116-1.939-1.939-4.5693-3.0285-7.3116-3.0285s-5.3725 1.0895-7.3116 3.0285c-1.939 1.939-3.0285 4.5693-3.0285 7.3116 0 2.7422 1.0895 5.3725 3.0285 7.3116 1.939 1.939 4.5693 3.0285 7.3116 3.0285z\" clip-path=\"url(#p65e6c44516)\" fill=\"#6fa4ff\" stroke=\"#6fa4ff\" stroke-width=\"2\"/><path d=\"m1301 65.931h73.958v-29.543h-73.958z\" clip-path=\"url(#p65e6c44516)\" fill=\"#fa74a6\" stroke=\"#fa74a6\" stroke-width=\"1.5\"/><path d=\"m1301.8 156.83h72.258v-29.543h-72.258z\" clip-path=\"url(#p65e6c44516)\" fill=\"#fa74a6\" stroke=\"#fa74a6\" stroke-width=\"1.5\"/><path d=\"m178.94 57.068v-11.817\" clip-path=\"url(#p65e6c44516)\" fill=\"none\" stroke=\"#ffffff\" stroke-linecap=\"square\" stroke-width=\"2\"/><path d=\"m173.03 51.159h11.817\" clip-path=\"url(#p65e6c44516)\" fill=\"none\" stroke=\"#ffffff\" stroke-linecap=\"square\" stroke-width=\"2\"/><path d=\"m315.29 57.068v-11.817\" clip-path=\"url(#p65e6c44516)\" fill=\"none\" stroke=\"#ffffff\" stroke-linecap=\"square\" stroke-width=\"2\"/><path d=\"m309.38 51.159h11.817\" clip-path=\"url(#p65e6c44516)\" fill=\"none\" stroke=\"#ffffff\" stroke-linecap=\"square\" stroke-width=\"2\"/><path d=\"m451.64 57.068v-11.817\" clip-path=\"url(#p65e6c44516)\" fill=\"none\" stroke=\"#ffffff\" stroke-linecap=\"square\" stroke-width=\"2\"/><path d=\"m445.73 51.159h11.817\" clip-path=\"url(#p65e6c44516)\" fill=\"none\" stroke=\"#ffffff\" stroke-linecap=\"square\" stroke-width=\"2\"/><path d=\"m588 57.068v-11.817\" clip-path=\"url(#p65e6c44516)\" fill=\"none\" stroke=\"#ffffff\" stroke-linecap=\"square\" stroke-width=\"2\"/><path d=\"m582.09 51.159h11.817\" clip-path=\"url(#p65e6c44516)\" fill=\"none\" stroke=\"#ffffff\" stroke-linecap=\"square\" stroke-width=\"2\"/><path d=\"m724.35 57.068v-11.817\" clip-path=\"url(#p65e6c44516)\" fill=\"none\" stroke=\"#ffffff\" stroke-linecap=\"square\" stroke-width=\"2\"/><path d=\"m718.44 51.159h11.817\" clip-path=\"url(#p65e6c44516)\" fill=\"none\" stroke=\"#ffffff\" stroke-linecap=\"square\" stroke-width=\"2\"/><path d=\"m860.7 57.068v-11.817\" clip-path=\"url(#p65e6c44516)\" fill=\"none\" stroke=\"#ffffff\" stroke-linecap=\"square\" stroke-width=\"2\"/><path d=\"m854.79 51.159h11.817\" clip-path=\"url(#p65e6c44516)\" fill=\"none\" stroke=\"#ffffff\" stroke-linecap=\"square\" stroke-width=\"2\"/><path d=\"m997.05 147.97v-11.817\" clip-path=\"url(#p65e6c44516)\" fill=\"none\" stroke=\"#ffffff\" stroke-linecap=\"square\" stroke-width=\"2\"/><path d=\"m991.15 142.06h11.817\" clip-path=\"url(#p65e6c44516)\" fill=\"none\" stroke=\"#ffffff\" stroke-linecap=\"square\" stroke-width=\"2\"/><path d=\"m1133.4 147.97v-11.817\" clip-path=\"url(#p65e6c44516)\" fill=\"none\" stroke=\"#ffffff\" stroke-linecap=\"square\" stroke-width=\"2\"/><path d=\"m1127.5 142.06h11.817\" clip-path=\"url(#p65e6c44516)\" fill=\"none\" stroke=\"#ffffff\" stroke-linecap=\"square\" stroke-width=\"2\"/><path d=\"m1269.8 147.97v-11.817\" clip-path=\"url(#p65e6c44516)\" fill=\"none\" stroke=\"#ffffff\" stroke-linecap=\"square\" stroke-width=\"2\"/><path d=\"m1263.9 142.06h11.817\" clip-path=\"url(#p65e6c44516)\" fill=\"none\" stroke=\"#ffffff\" stroke-linecap=\"square\" stroke-width=\"2\"/><g clip-path=\"url(#p65e6c44516)\"><defs><path id=\"DejaVuSans-85\" d=\"m8.6875 72.906h9.9219v-44.297q0-11.719 4.2344-16.875 4.25-5.1406 13.781-5.1406 9.4688 0 13.719 5.1406 4.25 5.1562 4.25 16.875v44.297h9.9062v-45.516q0-14.25-7.0625-21.531-7.0469-7.2812-20.812-7.2812-13.828 0-20.891 7.2812-7.0469 7.2812-7.0469 21.531z\"/></defs><g transform=\"translate(102.83 50.315) scale(.13 -.13)\"><use transform=\"translate(0 .09375)\" xlink:href=\"#DejaVuSans-85\"/><use transform=\"translate(74.15 -16.312) scale(.7)\" xlink:href=\"#DejaVuSans-51\"/></g></g><g clip-path=\"url(#p65e6c44516)\"><defs><path id=\"DejaVuSans-49\" d=\"m12.406 8.2969h16.109v55.625l-17.531-3.5156v8.9844l17.438 3.5156h9.8594v-64.609h16.109v-8.2969h-41.984z\"/><path id=\"DejaVuSans-56\" d=\"m31.781 34.625q-7.0312 0-11.062-3.7656-4.0156-3.7656-4.0156-10.344 0-6.5938 4.0156-10.359 4.0312-3.7656 11.062-3.7656t11.078 3.7812q4.0625 3.7969 4.0625 10.344 0 6.5781-4.0312 10.344-4.0156 3.7656-11.109 3.7656zm-9.8594 4.1875q-6.3438 1.5625-9.8906 5.9062-3.5312 4.3594-3.5312 10.609 0 8.7344 6.2188 13.812 6.2344 5.0781 17.062 5.0781 10.891 0 17.094-5.0781t6.2031-13.812q0-6.25-3.5469-10.609-3.5312-4.3438-9.8281-5.9062 7.125-1.6562 11.094-6.5 3.9844-4.8281 3.9844-11.797 0-10.609-6.4688-16.281-6.4688-5.6562-18.531-5.6562-12.047 0-18.531 5.6562-6.4688 5.6719-6.4688 16.281 0 6.9688 4 11.797 4.0156 4.8438 11.141 6.5zm-3.6094 15.578q0-5.6562 3.5312-8.8281 3.5469-3.1719 9.9375-3.1719 6.3594 0 9.9375 3.1719 3.5938 3.1719 3.5938 8.8281 0 5.6719-3.5938 8.8438-3.5781 3.1719-9.9375 3.1719-6.3906 0-9.9375-3.1719-3.5312-3.1719-3.5312-8.8438z\"/><path id=\"DejaVuSans-44\" d=\"m11.719 12.406h10.297v-8.4062l-8-15.625h-6.2969l4 15.625z\"/><path id=\"DejaVuSans-53\" d=\"m10.797 72.906h38.719v-8.3125h-29.688v-17.859q2.1406 0.73438 4.2812 1.0938 2.1562 0.35938 4.3125 0.35938 12.203 0 19.328-6.6875 7.1406-6.6875 7.1406-18.109 0-11.766-7.3281-18.297-7.3281-6.5156-20.656-6.5156-4.5938 0-9.3594 0.78125-4.75 0.78125-9.8281 2.3438v9.9219q4.3906-2.3906 9.0781-3.5625t9.9062-1.1719q8.4531 0 13.375 4.4375 4.9375 4.4375 4.9375 12.062 0 7.6094-4.9375 12.047-4.9219 4.4531-13.375 4.4531-3.9531 0-7.8906-0.875-3.9219-0.875-8.0156-2.7344z\"/><path id=\"DejaVuSans-57\" d=\"m10.984 1.5156v8.9844q3.7188-1.7656 7.5156-2.6875 3.8125-0.92188 7.4844-0.92188 9.7656 0 14.906 6.5625 5.1562 6.5625 5.8906 19.953-2.8281-4.2031-7.1875-6.4531-4.3438-2.25-9.6094-2.25-10.938 0-17.312 6.6094-6.375 6.625-6.375 18.109 0 11.219 6.6406 18 6.6406 6.7969 17.672 6.7969 12.656 0 19.312-9.7031 6.6719-9.6875 6.6719-28.141 0-17.234-8.1875-27.516-8.1719-10.281-21.984-10.281-3.7188 0-7.5312 0.73438-3.7969 0.73438-7.9062 2.2031zm19.625 30.906q6.6406 0 10.516 4.5312 3.8906 4.5469 3.8906 12.469 0 7.8594-3.8906 12.422-3.875 4.5625-10.516 4.5625t-10.516-4.5625-3.875-12.422q0-7.9219 3.875-12.469 3.875-4.5312 10.516-4.5312z\"/><path id=\"DejaVuSans-48\" d=\"m31.781 66.406q-7.6094 0-11.453-7.5-3.8281-7.4844-3.8281-22.531 0-14.984 3.8281-22.484 3.8438-7.5 11.453-7.5 7.6719 0 11.5 7.5 3.8438 7.5 3.8438 22.484 0 15.047-3.8438 22.531-3.8281 7.5-11.5 7.5zm0 7.8125q12.266 0 18.734-9.7031 6.4688-9.6875 6.4688-28.141 0-18.406-6.4688-28.109-6.4688-9.6875-18.734-9.6875-12.25 0-18.719 9.6875-6.4688 9.7031-6.4688 28.109 0 18.453 6.4688 28.141 6.4688 9.7031 18.719 9.7031z\"/><path id=\"DejaVuSans-50\" d=\"m19.188 8.2969h34.422v-8.2969h-46.281v8.2969q5.6094 5.8125 15.297 15.594 9.7031 9.7969 12.188 12.641 4.7344 5.3125 6.6094 9 1.8906 3.6875 1.8906 7.25 0 5.8125-4.0781 9.4688-4.0781 3.6719-10.625 3.6719-4.6406 0-9.7969-1.6094-5.1406-1.6094-11-4.8906v9.9688q5.9531 2.3906 11.125 3.6094 5.1875 1.2188 9.4844 1.2188 11.328 0 18.062-5.6719 6.7344-5.6562 6.7344-15.125 0-4.5-1.6875-8.5312-1.6719-4.0156-6.125-9.4844-1.2188-1.4219-7.7656-8.1875-6.5312-6.7656-18.453-18.922z\"/></defs><g transform=\"translate(76.411 62.23) scale(.08 -.08)\"><use xlink:href=\"#DejaVuSans-49\"/><use x=\"63.623047\" xlink:href=\"#DejaVuSans-46\"/><use x=\"95.410156\" xlink:href=\"#DejaVuSans-54\"/><use x=\"159.033203\" xlink:href=\"#DejaVuSans-56\"/><use x=\"222.65625\" xlink:href=\"#DejaVuSans-44\"/><use x=\"254.443359\" xlink:href=\"#DejaVuSans-32\"/><use x=\"286.230469\" xlink:href=\"#DejaVuSans-53\"/><use x=\"349.853516\" xlink:href=\"#DejaVuSans-46\"/><use x=\"381.640625\" xlink:href=\"#DejaVuSans-57\"/><use x=\"445.263672\" xlink:href=\"#DejaVuSans-49\"/><use x=\"508.886719\" xlink:href=\"#DejaVuSans-44\"/><use x=\"540.673828\" xlink:href=\"#DejaVuSans-32\"/><use x=\"572.460938\" xlink:href=\"#DejaVuSans-48\"/><use x=\"636.083984\" xlink:href=\"#DejaVuSans-46\"/><use x=\"667.871094\" xlink:href=\"#DejaVuSans-49\"/><use x=\"731.494141\" xlink:href=\"#DejaVuSans-56\"/><use x=\"795.117188\" xlink:href=\"#DejaVuSans-50\"/></g></g><g clip-path=\"url(#p65e6c44516)\"><g transform=\"translate(102.83 141.22) scale(.13 -.13)\"><use transform=\"translate(0 .09375)\" xlink:href=\"#DejaVuSans-85\"/><use transform=\"translate(74.15 -16.312) scale(.7)\" xlink:href=\"#DejaVuSans-51\"/></g></g><g clip-path=\"url(#p65e6c44516)\"><defs><path id=\"DejaVuSans-8722\" d=\"m10.594 35.5h62.594v-8.2969h-62.594z\"/><path id=\"DejaVuSans-52\" d=\"m37.797 64.312-24.906-38.922h24.906zm-2.5938 8.5938h12.406v-47.516h10.406v-8.2031h-10.406v-17.188h-9.8125v17.188h-32.906v9.5156z\"/></defs><g transform=\"translate(69.68 153.13) scale(.08 -.08)\"><use transform=\"translate(0 .78125)\" xlink:href=\"#DejaVuSans-49\"/><use transform=\"translate(63.623 .78125)\" xlink:href=\"#DejaVuSans-46\"/><use transform=\"translate(95.41 .78125)\" xlink:href=\"#DejaVuSans-57\"/><use transform=\"translate(159.03 .78125)\" xlink:href=\"#DejaVuSans-56\"/><use transform=\"translate(222.66 .78125)\" xlink:href=\"#DejaVuSans-44\"/><use transform=\"translate(254.44 .78125)\" xlink:href=\"#DejaVuSans-32\"/><use transform=\"translate(286.23 .78125)\" xlink:href=\"#DejaVuSans-8722\"/><use transform=\"translate(370.02 .78125)\" xlink:href=\"#DejaVuSans-48\"/><use transform=\"translate(433.64 .78125)\" xlink:href=\"#DejaVuSans-46\"/><use transform=\"translate(465.43 .78125)\" xlink:href=\"#DejaVuSans-52\"/><use transform=\"translate(529.05 .78125)\" xlink:href=\"#DejaVuSans-49\"/><use transform=\"translate(592.68 .78125)\" xlink:href=\"#DejaVuSans-52\"/><use transform=\"translate(656.3 .78125)\" xlink:href=\"#DejaVuSans-44\"/><use transform=\"translate(688.09 .78125)\" xlink:href=\"#DejaVuSans-32\"/><use transform=\"translate(719.87 .78125)\" xlink:href=\"#DejaVuSans-8722\"/><use transform=\"translate(803.66 .78125)\" xlink:href=\"#DejaVuSans-53\"/><use transform=\"translate(867.29 .78125)\" xlink:href=\"#DejaVuSans-46\"/><use transform=\"translate(899.07 .78125)\" xlink:href=\"#DejaVuSans-51\"/><use transform=\"translate(962.7 .78125)\" xlink:href=\"#DejaVuSans-54\"/></g></g><g clip-path=\"url(#p65e6c44516)\"><g transform=\"translate(239.18 50.315) scale(.13 -.13)\"><use transform=\"translate(0 .09375)\" xlink:href=\"#DejaVuSans-85\"/><use transform=\"translate(74.15 -16.312) scale(.7)\" xlink:href=\"#DejaVuSans-51\"/></g></g><g clip-path=\"url(#p65e6c44516)\"><defs><path id=\"DejaVuSans-Oblique-960\" d=\"m9.125 54.688h52.406l-1.7656-8.9844h-6.8906l-6.5312-33.594q-0.6875-3.5156 0.23438-5.0781 0.89062-1.5156 3.5625-1.5156 0.73438 0 1.8125 0.15625 1.125 0.09375 1.4688 0.14062l-1.2656-6.5q-1.8125-0.625-3.6719-0.92188-1.9062-0.29688-3.7031-0.29688-5.8594 0-7.4688 3.1719-1.625 3.2344 0.046875 11.828l6.3438 32.609h-20.172l-8.875-45.703h-9.1875l8.8906 45.703h-6.9844z\"/><path id=\"DejaVuSans-47\" d=\"m25.391 72.906h8.2969l-25.391-82.188h-8.2969z\"/></defs><g transform=\"translate(216.19 62.23) scale(.08 -.08)\"><use transform=\"translate(0 .78125)\" xlink:href=\"#DejaVuSans-48\"/><use transform=\"translate(63.623 .78125)\" xlink:href=\"#DejaVuSans-46\"/><use transform=\"translate(89.91 .78125)\" xlink:href=\"#DejaVuSans-50\"/><use transform=\"translate(153.53 .78125)\" xlink:href=\"#DejaVuSans-53\"/><use transform=\"translate(217.16 .78125)\" xlink:href=\"#DejaVuSans-50\"/><use transform=\"translate(280.78 .78125)\" xlink:href=\"#DejaVuSans-44\"/><use transform=\"translate(312.57 .78125)\" xlink:href=\"#DejaVuSans-32\"/><use transform=\"translate(344.35 .78125)\" xlink:href=\"#DejaVuSans-8722\"/><use transform=\"translate(428.14 .78125)\" xlink:href=\"#DejaVuSans-51\"/><use transform=\"translate(491.77 .78125)\" xlink:href=\"#DejaVuSans-Oblique-960\"/><use transform=\"translate(551.97 .78125)\" xlink:href=\"#DejaVuSans-47\"/><use transform=\"translate(582.04 .78125)\" xlink:href=\"#DejaVuSans-50\"/><use transform=\"translate(645.66 .78125)\" xlink:href=\"#DejaVuSans-44\"/><use transform=\"translate(677.45 .78125)\" xlink:href=\"#DejaVuSans-32\"/><use transform=\"translate(709.23 .78125)\" xlink:href=\"#DejaVuSans-48\"/></g></g><g clip-path=\"url(#p65e6c44516)\"><g transform=\"translate(239.18 141.22) scale(.13 -.13)\"><use transform=\"translate(0 .09375)\" xlink:href=\"#DejaVuSans-85\"/><use transform=\"translate(74.15 -16.312) scale(.7)\" xlink:href=\"#DejaVuSans-51\"/></g></g><g clip-path=\"url(#p65e6c44516)\"><g transform=\"translate(222.23 153.13) scale(.08 -.08)\"><use transform=\"translate(0 .78125)\" xlink:href=\"#DejaVuSans-48\"/><use transform=\"translate(63.623 .78125)\" xlink:href=\"#DejaVuSans-46\"/><use transform=\"translate(95.41 .78125)\" xlink:href=\"#DejaVuSans-52\"/><use transform=\"translate(159.03 .78125)\" xlink:href=\"#DejaVuSans-55\"/><use transform=\"translate(222.66 .78125)\" xlink:href=\"#DejaVuSans-56\"/><use transform=\"translate(286.28 .78125)\" xlink:href=\"#DejaVuSans-44\"/><use transform=\"translate(318.07 .78125)\" xlink:href=\"#DejaVuSans-32\"/><use transform=\"translate(349.85 .78125)\" xlink:href=\"#DejaVuSans-48\"/><use transform=\"translate(413.48 .78125)\" xlink:href=\"#DejaVuSans-44\"/><use transform=\"translate(445.26 .78125)\" xlink:href=\"#DejaVuSans-32\"/><use transform=\"translate(477.05 .78125)\" xlink:href=\"#DejaVuSans-8722\"/><use transform=\"translate(560.84 .78125)\" xlink:href=\"#DejaVuSans-Oblique-960\"/></g></g><g clip-path=\"url(#p65e6c44516)\"><g transform=\"translate(375.54 50.315) scale(.13 -.13)\"><use transform=\"translate(0 .09375)\" xlink:href=\"#DejaVuSans-85\"/><use transform=\"translate(74.15 -16.312) scale(.7)\" xlink:href=\"#DejaVuSans-50\"/></g></g><g clip-path=\"url(#p65e6c44516)\"><g transform=\"translate(368.87 62.23) scale(.08 -.08)\"><use transform=\"translate(0 .78125)\" xlink:href=\"#DejaVuSans-8722\"/><use transform=\"translate(83.789 .78125)\" xlink:href=\"#DejaVuSans-Oblique-960\"/><use transform=\"translate(143.99 .78125)\" xlink:href=\"#DejaVuSans-47\"/><use transform=\"translate(174.06 .78125)\" xlink:href=\"#DejaVuSans-50\"/><use transform=\"translate(237.68 .78125)\" xlink:href=\"#DejaVuSans-44\"/><use transform=\"translate(269.47 .78125)\" xlink:href=\"#DejaVuSans-32\"/><use transform=\"translate(301.26 .78125)\" xlink:href=\"#DejaVuSans-48\"/></g></g><g clip-path=\"url(#p65e6c44516)\"><g transform=\"translate(375.54 141.22) scale(.13 -.13)\"><use transform=\"translate(0 .09375)\" xlink:href=\"#DejaVuSans-85\"/><use transform=\"translate(74.15 -16.312) scale(.7)\" xlink:href=\"#DejaVuSans-51\"/></g></g><g clip-path=\"url(#p65e6c44516)\"><g transform=\"translate(349.11 153.13) scale(.08 -.08)\"><use transform=\"translate(0 .78125)\" xlink:href=\"#DejaVuSans-48\"/><use transform=\"translate(63.623 .78125)\" xlink:href=\"#DejaVuSans-46\"/><use transform=\"translate(95.41 .78125)\" xlink:href=\"#DejaVuSans-48\"/><use transform=\"translate(159.03 .78125)\" xlink:href=\"#DejaVuSans-48\"/><use transform=\"translate(222.66 .78125)\" xlink:href=\"#DejaVuSans-50\"/><use transform=\"translate(286.28 .78125)\" xlink:href=\"#DejaVuSans-50\"/><use transform=\"translate(349.9 .78125)\" xlink:href=\"#DejaVuSans-44\"/><use transform=\"translate(381.69 .78125)\" xlink:href=\"#DejaVuSans-32\"/><use transform=\"translate(413.48 .78125)\" xlink:href=\"#DejaVuSans-8722\"/><use transform=\"translate(497.27 .78125)\" xlink:href=\"#DejaVuSans-Oblique-960\"/><use transform=\"translate(557.47 .78125)\" xlink:href=\"#DejaVuSans-47\"/><use transform=\"translate(587.54 .78125)\" xlink:href=\"#DejaVuSans-50\"/><use transform=\"translate(651.16 .78125)\" xlink:href=\"#DejaVuSans-44\"/><use transform=\"translate(682.95 .78125)\" xlink:href=\"#DejaVuSans-32\"/><use transform=\"translate(714.73 .78125)\" xlink:href=\"#DejaVuSans-8722\"/><use transform=\"translate(798.52 .78125)\" xlink:href=\"#DejaVuSans-Oblique-960\"/></g></g><g clip-path=\"url(#p65e6c44516)\"><g transform=\"translate(511.89 50.315) scale(.13 -.13)\"><use transform=\"translate(0 .09375)\" xlink:href=\"#DejaVuSans-85\"/><use transform=\"translate(74.15 -16.312) scale(.7)\" xlink:href=\"#DejaVuSans-51\"/></g></g><g clip-path=\"url(#p65e6c44516)\"><g transform=\"translate(485.1 62.23) scale(.08 -.08)\"><use transform=\"translate(0 .78125)\" xlink:href=\"#DejaVuSans-49\"/><use transform=\"translate(63.623 .78125)\" xlink:href=\"#DejaVuSans-46\"/><use transform=\"translate(95.41 .78125)\" xlink:href=\"#DejaVuSans-49\"/><use transform=\"translate(159.03 .78125)\" xlink:href=\"#DejaVuSans-52\"/><use transform=\"translate(222.66 .78125)\" xlink:href=\"#DejaVuSans-44\"/><use transform=\"translate(254.44 .78125)\" xlink:href=\"#DejaVuSans-32\"/><use transform=\"translate(286.23 .78125)\" xlink:href=\"#DejaVuSans-52\"/><use transform=\"translate(349.85 .78125)\" xlink:href=\"#DejaVuSans-46\"/><use transform=\"translate(376.14 .78125)\" xlink:href=\"#DejaVuSans-50\"/><use transform=\"translate(439.76 .78125)\" xlink:href=\"#DejaVuSans-49\"/><use transform=\"translate(503.39 .78125)\" xlink:href=\"#DejaVuSans-44\"/><use transform=\"translate(535.17 .78125)\" xlink:href=\"#DejaVuSans-32\"/><use transform=\"translate(566.96 .78125)\" xlink:href=\"#DejaVuSans-8722\"/><use transform=\"translate(650.75 .78125)\" xlink:href=\"#DejaVuSans-49\"/><use transform=\"translate(714.37 .78125)\" xlink:href=\"#DejaVuSans-46\"/><use transform=\"translate(740.66 .78125)\" xlink:href=\"#DejaVuSans-50\"/><use transform=\"translate(804.28 .78125)\" xlink:href=\"#DejaVuSans-52\"/></g></g><g clip-path=\"url(#p65e6c44516)\"><g transform=\"translate(511.89 141.22) scale(.13 -.13)\"><use transform=\"translate(0 .09375)\" xlink:href=\"#DejaVuSans-85\"/><use transform=\"translate(74.15 -16.312) scale(.7)\" xlink:href=\"#DejaVuSans-51\"/></g></g><g clip-path=\"url(#p65e6c44516)\"><g transform=\"translate(488.46 153.13) scale(.08 -.08)\"><use transform=\"translate(0 .78125)\" xlink:href=\"#DejaVuSans-49\"/><use transform=\"translate(63.623 .78125)\" xlink:href=\"#DejaVuSans-44\"/><use transform=\"translate(95.41 .78125)\" xlink:href=\"#DejaVuSans-32\"/><use transform=\"translate(127.2 .78125)\" xlink:href=\"#DejaVuSans-8722\"/><use transform=\"translate(210.99 .78125)\" xlink:href=\"#DejaVuSans-48\"/><use transform=\"translate(274.61 .78125)\" xlink:href=\"#DejaVuSans-46\"/><use transform=\"translate(306.4 .78125)\" xlink:href=\"#DejaVuSans-52\"/><use transform=\"translate(370.02 .78125)\" xlink:href=\"#DejaVuSans-57\"/><use transform=\"translate(433.64 .78125)\" xlink:href=\"#DejaVuSans-52\"/><use transform=\"translate(497.27 .78125)\" xlink:href=\"#DejaVuSans-44\"/><use transform=\"translate(529.05 .78125)\" xlink:href=\"#DejaVuSans-32\"/><use transform=\"translate(560.84 .78125)\" xlink:href=\"#DejaVuSans-49\"/><use transform=\"translate(624.46 .78125)\" xlink:href=\"#DejaVuSans-46\"/><use transform=\"translate(656.25 .78125)\" xlink:href=\"#DejaVuSans-52\"/><use transform=\"translate(719.87 .78125)\" xlink:href=\"#DejaVuSans-51\"/></g></g><g clip-path=\"url(#p65e6c44516)\"><g transform=\"translate(648.24 50.315) scale(.13 -.13)\"><use transform=\"translate(0 .09375)\" xlink:href=\"#DejaVuSans-85\"/><use transform=\"translate(74.15 -16.312) scale(.7)\" xlink:href=\"#DejaVuSans-51\"/></g></g><g clip-path=\"url(#p65e6c44516)\"><g transform=\"translate(625.01 62.23) scale(.08 -.08)\"><use transform=\"translate(0 .78125)\" xlink:href=\"#DejaVuSans-48\"/><use transform=\"translate(63.623 .78125)\" xlink:href=\"#DejaVuSans-46\"/><use transform=\"translate(95.41 .78125)\" xlink:href=\"#DejaVuSans-49\"/><use transform=\"translate(159.03 .78125)\" xlink:href=\"#DejaVuSans-51\"/><use transform=\"translate(222.66 .78125)\" xlink:href=\"#DejaVuSans-54\"/><use transform=\"translate(286.28 .78125)\" xlink:href=\"#DejaVuSans-44\"/><use transform=\"translate(318.07 .78125)\" xlink:href=\"#DejaVuSans-32\"/><use transform=\"translate(349.85 .78125)\" xlink:href=\"#DejaVuSans-8722\"/><use transform=\"translate(433.64 .78125)\" xlink:href=\"#DejaVuSans-51\"/><use transform=\"translate(497.27 .78125)\" xlink:href=\"#DejaVuSans-Oblique-960\"/><use transform=\"translate(557.47 .78125)\" xlink:href=\"#DejaVuSans-47\"/><use transform=\"translate(587.54 .78125)\" xlink:href=\"#DejaVuSans-50\"/><use transform=\"translate(651.16 .78125)\" xlink:href=\"#DejaVuSans-44\"/><use transform=\"translate(682.95 .78125)\" xlink:href=\"#DejaVuSans-32\"/><use transform=\"translate(714.73 .78125)\" xlink:href=\"#DejaVuSans-48\"/></g></g><g clip-path=\"url(#p65e6c44516)\"><g transform=\"translate(648.24 141.22) scale(.13 -.13)\"><use transform=\"translate(0 .09375)\" xlink:href=\"#DejaVuSans-85\"/><use transform=\"translate(74.15 -16.312) scale(.7)\" xlink:href=\"#DejaVuSans-51\"/></g></g><g clip-path=\"url(#p65e6c44516)\"><g transform=\"translate(633.85 153.13) scale(.08 -.08)\"><use transform=\"translate(0 .78125)\" xlink:href=\"#DejaVuSans-49\"/><use transform=\"translate(63.623 .78125)\" xlink:href=\"#DejaVuSans-46\"/><use transform=\"translate(95.41 .78125)\" xlink:href=\"#DejaVuSans-49\"/><use transform=\"translate(159.03 .78125)\" xlink:href=\"#DejaVuSans-57\"/><use transform=\"translate(222.66 .78125)\" xlink:href=\"#DejaVuSans-44\"/><use transform=\"translate(254.44 .78125)\" xlink:href=\"#DejaVuSans-32\"/><use transform=\"translate(286.23 .78125)\" xlink:href=\"#DejaVuSans-48\"/><use transform=\"translate(349.85 .78125)\" xlink:href=\"#DejaVuSans-44\"/><use transform=\"translate(381.64 .78125)\" xlink:href=\"#DejaVuSans-32\"/><use transform=\"translate(413.43 .78125)\" xlink:href=\"#DejaVuSans-8722\"/><use transform=\"translate(497.22 .78125)\" xlink:href=\"#DejaVuSans-Oblique-960\"/></g></g><g clip-path=\"url(#p65e6c44516)\"><g transform=\"translate(784.59 50.315) scale(.13 -.13)\"><use transform=\"translate(0 .09375)\" xlink:href=\"#DejaVuSans-85\"/><use transform=\"translate(74.15 -16.312) scale(.7)\" xlink:href=\"#DejaVuSans-50\"/></g></g><g clip-path=\"url(#p65e6c44516)\"><g transform=\"translate(777.92 62.23) scale(.08 -.08)\"><use transform=\"translate(0 .78125)\" xlink:href=\"#DejaVuSans-8722\"/><use transform=\"translate(83.789 .78125)\" xlink:href=\"#DejaVuSans-Oblique-960\"/><use transform=\"translate(143.99 .78125)\" xlink:href=\"#DejaVuSans-47\"/><use transform=\"translate(174.06 .78125)\" xlink:href=\"#DejaVuSans-50\"/><use transform=\"translate(237.68 .78125)\" xlink:href=\"#DejaVuSans-44\"/><use transform=\"translate(269.47 .78125)\" xlink:href=\"#DejaVuSans-32\"/><use transform=\"translate(301.26 .78125)\" xlink:href=\"#DejaVuSans-48\"/></g></g><g clip-path=\"url(#p65e6c44516)\"><g transform=\"translate(784.59 141.22) scale(.13 -.13)\"><use transform=\"translate(0 .09375)\" xlink:href=\"#DejaVuSans-85\"/><use transform=\"translate(74.15 -16.312) scale(.7)\" xlink:href=\"#DejaVuSans-51\"/></g></g><g clip-path=\"url(#p65e6c44516)\"><g transform=\"translate(761.36 153.13) scale(.08 -.08)\"><use transform=\"translate(0 .78125)\" xlink:href=\"#DejaVuSans-48\"/><use transform=\"translate(63.623 .78125)\" xlink:href=\"#DejaVuSans-46\"/><use transform=\"translate(95.41 .78125)\" xlink:href=\"#DejaVuSans-51\"/><use transform=\"translate(159.03 .78125)\" xlink:href=\"#DejaVuSans-48\"/><use transform=\"translate(222.66 .78125)\" xlink:href=\"#DejaVuSans-57\"/><use transform=\"translate(286.28 .78125)\" xlink:href=\"#DejaVuSans-44\"/><use transform=\"translate(318.07 .78125)\" xlink:href=\"#DejaVuSans-32\"/><use transform=\"translate(349.85 .78125)\" xlink:href=\"#DejaVuSans-8722\"/><use transform=\"translate(433.64 .78125)\" xlink:href=\"#DejaVuSans-51\"/><use transform=\"translate(497.27 .78125)\" xlink:href=\"#DejaVuSans-Oblique-960\"/><use transform=\"translate(557.47 .78125)\" xlink:href=\"#DejaVuSans-47\"/><use transform=\"translate(587.54 .78125)\" xlink:href=\"#DejaVuSans-50\"/><use transform=\"translate(651.16 .78125)\" xlink:href=\"#DejaVuSans-44\"/><use transform=\"translate(682.95 .78125)\" xlink:href=\"#DejaVuSans-32\"/><use transform=\"translate(714.73 .78125)\" xlink:href=\"#DejaVuSans-48\"/></g></g><g clip-path=\"url(#p65e6c44516)\"><g transform=\"translate(920.95 50.315) scale(.13 -.13)\"><use transform=\"translate(0 .09375)\" xlink:href=\"#DejaVuSans-85\"/><use transform=\"translate(74.15 -16.312) scale(.7)\" xlink:href=\"#DejaVuSans-51\"/></g></g><g clip-path=\"url(#p65e6c44516)\"><g transform=\"translate(893.8 62.23) scale(.08 -.08)\"><use transform=\"translate(0 .78125)\" xlink:href=\"#DejaVuSans-50\"/><use transform=\"translate(63.623 .78125)\" xlink:href=\"#DejaVuSans-46\"/><use transform=\"translate(92.785 .78125)\" xlink:href=\"#DejaVuSans-56\"/><use transform=\"translate(156.41 .78125)\" xlink:href=\"#DejaVuSans-54\"/><use transform=\"translate(220.03 .78125)\" xlink:href=\"#DejaVuSans-44\"/><use transform=\"translate(251.82 .78125)\" xlink:href=\"#DejaVuSans-32\"/><use transform=\"translate(283.61 .78125)\" xlink:href=\"#DejaVuSans-49\"/><use transform=\"translate(347.23 .78125)\" xlink:href=\"#DejaVuSans-46\"/><use transform=\"translate(379.02 .78125)\" xlink:href=\"#DejaVuSans-49\"/><use transform=\"translate(442.64 .78125)\" xlink:href=\"#DejaVuSans-57\"/><use transform=\"translate(506.26 .78125)\" xlink:href=\"#DejaVuSans-44\"/><use transform=\"translate(538.05 .78125)\" xlink:href=\"#DejaVuSans-32\"/><use transform=\"translate(569.84 .78125)\" xlink:href=\"#DejaVuSans-8722\"/><use transform=\"translate(653.62 .78125)\" xlink:href=\"#DejaVuSans-49\"/><use transform=\"translate(717.25 .78125)\" xlink:href=\"#DejaVuSans-46\"/><use transform=\"translate(749.04 .78125)\" xlink:href=\"#DejaVuSans-49\"/><use transform=\"translate(812.66 .78125)\" xlink:href=\"#DejaVuSans-49\"/></g></g><g clip-path=\"url(#p65e6c44516)\"><g transform=\"translate(920.95 141.22) scale(.13 -.13)\"><use transform=\"translate(0 .09375)\" xlink:href=\"#DejaVuSans-85\"/><use transform=\"translate(74.15 -16.312) scale(.7)\" xlink:href=\"#DejaVuSans-51\"/></g></g><g clip-path=\"url(#p65e6c44516)\"><g transform=\"translate(891.28 153.13) scale(.08 -.08)\"><use transform=\"translate(0 .78125)\" xlink:href=\"#DejaVuSans-49\"/><use transform=\"translate(63.623 .78125)\" xlink:href=\"#DejaVuSans-46\"/><use transform=\"translate(92.785 .78125)\" xlink:href=\"#DejaVuSans-56\"/><use transform=\"translate(156.41 .78125)\" xlink:href=\"#DejaVuSans-57\"/><use transform=\"translate(220.03 .78125)\" xlink:href=\"#DejaVuSans-44\"/><use transform=\"translate(251.82 .78125)\" xlink:href=\"#DejaVuSans-32\"/><use transform=\"translate(283.61 .78125)\" xlink:href=\"#DejaVuSans-49\"/><use transform=\"translate(347.23 .78125)\" xlink:href=\"#DejaVuSans-46\"/><use transform=\"translate(379.02 .78125)\" xlink:href=\"#DejaVuSans-51\"/><use transform=\"translate(442.64 .78125)\" xlink:href=\"#DejaVuSans-55\"/><use transform=\"translate(506.26 .78125)\" xlink:href=\"#DejaVuSans-44\"/><use transform=\"translate(538.05 .78125)\" xlink:href=\"#DejaVuSans-32\"/><use transform=\"translate(569.84 .78125)\" xlink:href=\"#DejaVuSans-8722\"/><use transform=\"translate(653.62 .78125)\" xlink:href=\"#DejaVuSans-48\"/><use transform=\"translate(717.25 .78125)\" xlink:href=\"#DejaVuSans-46\"/><use transform=\"translate(749.04 .78125)\" xlink:href=\"#DejaVuSans-49\"/><use transform=\"translate(812.66 .78125)\" xlink:href=\"#DejaVuSans-54\"/><use transform=\"translate(876.28 .78125)\" xlink:href=\"#DejaVuSans-53\"/></g></g><g clip-path=\"url(#p65e6c44516)\"><g transform=\"translate(1057.3 50.315) scale(.13 -.13)\"><use transform=\"translate(0 .09375)\" xlink:href=\"#DejaVuSans-85\"/><use transform=\"translate(74.15 -16.312) scale(.7)\" xlink:href=\"#DejaVuSans-51\"/></g></g><g clip-path=\"url(#p65e6c44516)\"><g transform=\"translate(1040.8 62.23) scale(.08 -.08)\"><use transform=\"translate(0 .78125)\" xlink:href=\"#DejaVuSans-48\"/><use transform=\"translate(63.623 .78125)\" xlink:href=\"#DejaVuSans-46\"/><use transform=\"translate(87.66 .78125)\" xlink:href=\"#DejaVuSans-55\"/><use transform=\"translate(149.53 .78125)\" xlink:href=\"#DejaVuSans-55\"/><use transform=\"translate(213.16 .78125)\" xlink:href=\"#DejaVuSans-56\"/><use transform=\"translate(276.78 .78125)\" xlink:href=\"#DejaVuSans-44\"/><use transform=\"translate(308.57 .78125)\" xlink:href=\"#DejaVuSans-32\"/><use transform=\"translate(340.35 .78125)\" xlink:href=\"#DejaVuSans-48\"/><use transform=\"translate(403.98 .78125)\" xlink:href=\"#DejaVuSans-44\"/><use transform=\"translate(435.76 .78125)\" xlink:href=\"#DejaVuSans-32\"/><use transform=\"translate(467.55 .78125)\" xlink:href=\"#DejaVuSans-8722\"/><use transform=\"translate(551.34 .78125)\" xlink:href=\"#DejaVuSans-Oblique-960\"/></g></g><g clip-path=\"url(#p65e6c44516)\"><g transform=\"translate(1057.3 141.22) scale(.13 -.13)\"><use transform=\"translate(0 .09375)\" xlink:href=\"#DejaVuSans-85\"/><use transform=\"translate(74.15 -16.312) scale(.7)\" xlink:href=\"#DejaVuSans-51\"/></g></g><g clip-path=\"url(#p65e6c44516)\"><g transform=\"translate(1034.5 153.13) scale(.08 -.08)\"><use transform=\"translate(0 .78125)\" xlink:href=\"#DejaVuSans-48\"/><use transform=\"translate(63.623 .78125)\" xlink:href=\"#DejaVuSans-46\"/><use transform=\"translate(87.66 .78125)\" xlink:href=\"#DejaVuSans-55\"/><use transform=\"translate(149.53 .78125)\" xlink:href=\"#DejaVuSans-55\"/><use transform=\"translate(213.16 .78125)\" xlink:href=\"#DejaVuSans-57\"/><use transform=\"translate(276.78 .78125)\" xlink:href=\"#DejaVuSans-44\"/><use transform=\"translate(308.57 .78125)\" xlink:href=\"#DejaVuSans-32\"/><use transform=\"translate(340.35 .78125)\" xlink:href=\"#DejaVuSans-8722\"/><use transform=\"translate(424.14 .78125)\" xlink:href=\"#DejaVuSans-51\"/><use transform=\"translate(487.77 .78125)\" xlink:href=\"#DejaVuSans-Oblique-960\"/><use transform=\"translate(547.97 .78125)\" xlink:href=\"#DejaVuSans-47\"/><use transform=\"translate(578.04 .78125)\" xlink:href=\"#DejaVuSans-50\"/><use transform=\"translate(641.66 .78125)\" xlink:href=\"#DejaVuSans-44\"/><use transform=\"translate(673.45 .78125)\" xlink:href=\"#DejaVuSans-32\"/><use transform=\"translate(705.23 .78125)\" xlink:href=\"#DejaVuSans-48\"/></g></g><g clip-path=\"url(#p65e6c44516)\"><g transform=\"translate(1193.7 50.315) scale(.13 -.13)\"><use transform=\"translate(0 .09375)\" xlink:href=\"#DejaVuSans-85\"/><use transform=\"translate(74.15 -16.312) scale(.7)\" xlink:href=\"#DejaVuSans-51\"/></g></g><g clip-path=\"url(#p65e6c44516)\"><g transform=\"translate(1170.7 62.23) scale(.08 -.08)\"><use transform=\"translate(0 .78125)\" xlink:href=\"#DejaVuSans-48\"/><use transform=\"translate(63.623 .78125)\" xlink:href=\"#DejaVuSans-46\"/><use transform=\"translate(89.91 .78125)\" xlink:href=\"#DejaVuSans-50\"/><use transform=\"translate(151.78 .78125)\" xlink:href=\"#DejaVuSans-57\"/><use transform=\"translate(215.41 .78125)\" xlink:href=\"#DejaVuSans-55\"/><use transform=\"translate(279.03 .78125)\" xlink:href=\"#DejaVuSans-44\"/><use transform=\"translate(310.82 .78125)\" xlink:href=\"#DejaVuSans-32\"/><use transform=\"translate(342.6 .78125)\" xlink:href=\"#DejaVuSans-8722\"/><use transform=\"translate(426.39 .78125)\" xlink:href=\"#DejaVuSans-51\"/><use transform=\"translate(490.02 .78125)\" xlink:href=\"#DejaVuSans-Oblique-960\"/><use transform=\"translate(550.22 .78125)\" xlink:href=\"#DejaVuSans-47\"/><use transform=\"translate(580.29 .78125)\" xlink:href=\"#DejaVuSans-50\"/><use transform=\"translate(643.91 .78125)\" xlink:href=\"#DejaVuSans-44\"/><use transform=\"translate(675.7 .78125)\" xlink:href=\"#DejaVuSans-32\"/><use transform=\"translate(707.48 .78125)\" xlink:href=\"#DejaVuSans-48\"/></g></g><g clip-path=\"url(#p65e6c44516)\"><g transform=\"translate(1193.7 141.22) scale(.13 -.13)\"><use transform=\"translate(0 .09375)\" xlink:href=\"#DejaVuSans-85\"/><use transform=\"translate(74.15 -16.312) scale(.7)\" xlink:href=\"#DejaVuSans-50\"/></g></g><g clip-path=\"url(#p65e6c44516)\"><g transform=\"translate(1187 153.13) scale(.08 -.08)\"><use transform=\"translate(0 .78125)\" xlink:href=\"#DejaVuSans-8722\"/><use transform=\"translate(83.789 .78125)\" xlink:href=\"#DejaVuSans-Oblique-960\"/><use transform=\"translate(143.99 .78125)\" xlink:href=\"#DejaVuSans-47\"/><use transform=\"translate(174.06 .78125)\" xlink:href=\"#DejaVuSans-50\"/><use transform=\"translate(237.68 .78125)\" xlink:href=\"#DejaVuSans-44\"/><use transform=\"translate(269.47 .78125)\" xlink:href=\"#DejaVuSans-32\"/><use transform=\"translate(301.26 .78125)\" xlink:href=\"#DejaVuSans-48\"/></g></g><g clip-path=\"url(#p65e6c44516)\"><g transform=\"translate(1330 50.315) scale(.13 -.13)\"><use transform=\"translate(0 .09375)\" xlink:href=\"#DejaVuSans-85\"/><use transform=\"translate(74.15 -16.312) scale(.7)\" xlink:href=\"#DejaVuSans-51\"/></g></g><g clip-path=\"url(#p65e6c44516)\"><g transform=\"translate(1303.1 62.23) scale(.08 -.08)\"><use transform=\"translate(0 .78125)\" xlink:href=\"#DejaVuSans-49\"/><use transform=\"translate(63.623 .78125)\" xlink:href=\"#DejaVuSans-46\"/><use transform=\"translate(95.41 .78125)\" xlink:href=\"#DejaVuSans-52\"/><use transform=\"translate(159.03 .78125)\" xlink:href=\"#DejaVuSans-51\"/><use transform=\"translate(222.66 .78125)\" xlink:href=\"#DejaVuSans-44\"/><use transform=\"translate(254.44 .78125)\" xlink:href=\"#DejaVuSans-32\"/><use transform=\"translate(286.23 .78125)\" xlink:href=\"#DejaVuSans-49\"/><use transform=\"translate(349.85 .78125)\" xlink:href=\"#DejaVuSans-46\"/><use transform=\"translate(379.02 .78125)\" xlink:href=\"#DejaVuSans-56\"/><use transform=\"translate(442.64 .78125)\" xlink:href=\"#DejaVuSans-51\"/><use transform=\"translate(506.26 .78125)\" xlink:href=\"#DejaVuSans-44\"/><use transform=\"translate(538.05 .78125)\" xlink:href=\"#DejaVuSans-32\"/><use transform=\"translate(569.84 .78125)\" xlink:href=\"#DejaVuSans-8722\"/><use transform=\"translate(653.62 .78125)\" xlink:href=\"#DejaVuSans-51\"/><use transform=\"translate(717.25 .78125)\" xlink:href=\"#DejaVuSans-46\"/><use transform=\"translate(743.54 .78125)\" xlink:href=\"#DejaVuSans-50\"/><use transform=\"translate(807.16 .78125)\" xlink:href=\"#DejaVuSans-53\"/></g></g><g clip-path=\"url(#p65e6c44516)\"><g transform=\"translate(1330 141.22) scale(.13 -.13)\"><use transform=\"translate(0 .09375)\" xlink:href=\"#DejaVuSans-85\"/><use transform=\"translate(74.15 -16.312) scale(.7)\" xlink:href=\"#DejaVuSans-51\"/></g></g><g clip-path=\"url(#p65e6c44516)\"><g transform=\"translate(1303.6 153.13) scale(.08 -.08)\"><use xlink:href=\"#DejaVuSans-49\"/><use x=\"63.623047\" xlink:href=\"#DejaVuSans-46\"/><use x=\"95.410156\" xlink:href=\"#DejaVuSans-52\"/><use x=\"159.033203\" xlink:href=\"#DejaVuSans-57\"/><use x=\"222.65625\" xlink:href=\"#DejaVuSans-44\"/><use x=\"254.443359\" xlink:href=\"#DejaVuSans-32\"/><use x=\"286.230469\" xlink:href=\"#DejaVuSans-48\"/><use x=\"349.853516\" xlink:href=\"#DejaVuSans-46\"/><use x=\"381.640625\" xlink:href=\"#DejaVuSans-54\"/><use x=\"445.263672\" xlink:href=\"#DejaVuSans-49\"/><use x=\"508.886719\" xlink:href=\"#DejaVuSans-57\"/><use x=\"572.509766\" xlink:href=\"#DejaVuSans-44\"/><use x=\"604.296875\" xlink:href=\"#DejaVuSans-32\"/><use x=\"636.083984\" xlink:href=\"#DejaVuSans-49\"/><use x=\"699.707031\" xlink:href=\"#DejaVuSans-46\"/><use x=\"731.494141\" xlink:href=\"#DejaVuSans-50\"/><use x=\"795.117188\" xlink:href=\"#DejaVuSans-49\"/></g></g><g clip-path=\"url(#p65e6c44516)\"><defs><path id=\"DejaVuSans-Oblique-113\" d=\"m41.703 8.2031q-3.6094-4.7344-8.5312-7.1875-4.9062-2.4375-10.859-2.4375-8.2969 0-13.016 5.5938-4.7031 5.5938-4.7031 15.406 0 7.9062 2.9062 15.281t8.3281 13.234q3.5156 3.8125 8.0781 5.8594t9.5938 2.0469q6.0469 0 9.9531-2.3906t5.6719-7.2188l1.5625 8.2031h9.0312l-14.594-75.203h-9.0469zm-27.781 12.703q0-7.2344 3.0156-11.016 3.0312-3.7812 8.75-3.7812 8.5 0 14.5 8.125t6 19.75q0 7.0312-3.1094 10.766-3.0938 3.7344-8.8906 3.7344-4.25 0-7.875-1.9844-3.6094-1.9688-6.2969-5.7812-2.8281-4-4.4688-9.375-1.625-5.3594-1.625-10.438z\"/></defs><g transform=\"translate(36.363 55.61) scale(.1625 -.1625)\"><use xlink:href=\"#DejaVuSans-Oblique-113\"/><use transform=\"translate(63.477 -16.406) scale(.7)\" xlink:href=\"#DejaVuSans-48\"/></g></g><g clip-path=\"url(#p65e6c44516)\"><g transform=\"translate(36.363 101.06) scale(.1625 -.1625)\"><use xlink:href=\"#DejaVuSans-Oblique-113\"/><use transform=\"translate(63.477 -16.406) scale(.7)\" xlink:href=\"#DejaVuSans-49\"/></g></g><g clip-path=\"url(#p65e6c44516)\"><g transform=\"translate(36.363 146.51) scale(.1625 -.1625)\"><use xlink:href=\"#DejaVuSans-Oblique-113\"/><use transform=\"translate(63.477 -16.406) scale(.7)\" xlink:href=\"#DejaVuSans-50\"/></g></g><defs><clipPath id=\"p65e6c44516\"><rect x=\"7.2\" y=\"14.798\" width=\"1383.5\" height=\"154.53\"/></clipPath></defs></svg>"
      ],
      "text/plain": [
       "<Figure size 1832.4x204.68 with 1 Axes>"
      ]
     },
     "execution_count": 5,
     "metadata": {},
     "output_type": "execute_result"
    }
   ],
   "source": [
    "qv_circs_nomeas[0][0].draw(fold=-1)"
   ]
  },
  {
   "cell_type": "markdown",
   "metadata": {},
   "source": [
    "### Step 2: Simulate the ideal QV circuits\n",
    "\n",
    "The quantum volume method requires that we know the ideal output for each circuit, so we use the Aer simulator to get the ideal result."
   ]
  },
  {
   "cell_type": "code",
   "execution_count": 7,
   "metadata": {},
   "outputs": [
    {
     "name": "stdout",
     "output_type": "stream",
     "text": [
      "Simulated trial 100/100\n"
     ]
    }
   ],
   "source": [
    "sv_sim = qiskit.Aer.get_backend('aer_simulator')\n",
    "ideal_results = []\n",
    "for trial in range(ntrials):\n",
    "    clear_output(wait=True)\n",
    "    for qc in qv_circs_nomeas[trial]:\n",
    "        qc.save_statevector()\n",
    "    result = qiskit.execute(qv_circs_nomeas[trial], backend=sv_sim).result()\n",
    "    ideal_results.append(result)\n",
    "    print(f'Simulated trial {trial+1}/{ntrials}')"
   ]
  },
  {
   "cell_type": "markdown",
   "metadata": {},
   "source": [
    "Next, we load the ideal results into a quantum volume fitter"
   ]
  },
  {
   "cell_type": "code",
   "execution_count": 8,
   "metadata": {},
   "outputs": [],
   "source": [
    "qv_fitter = qv.QVFitter(qubit_lists=qubit_lists)\n",
    "qv_fitter.add_statevectors(ideal_results)"
   ]
  },
  {
   "cell_type": "markdown",
   "metadata": {},
   "source": [
    "### Step 3: Calculate the heavy outputs\n",
    "\n",
    "To define when a model circuit $U$ has been successfully implemented in practice, we use the *heavy output* generation problem. The ideal output distribution is $p_U(x) = |\\langle x|U|0 \\rangle|^2$, \n",
    "where $x \\in \\{0,1\\}^m$ is an observable bit-string. \n",
    "\n",
    "Consider the set of output probabilities given by the range of $p_U(x)$ sorted in ascending order \n",
    "$p_0 \\leq p_1 \\leq \\dots \\leq p_{2^m-1}$. The median of the set of probabilities is \n",
    "$p_{med} = (p_{2^{m-1}} + p_{2^{m-1}-1})/2$, and the *heavy outputs* are\n",
    "\n",
    "\n",
    "$$ H_U = \\{ x \\in \\{0,1\\}^m \\text{ such that } p_U(x)>p_{med} \\}.$$\n",
    "\n",
    "\n",
    "The heavy output generation problem is to produce a set of output strings such that more than two-thirds are heavy.\n",
    "\n",
    "As an illustration, we print the heavy outputs from various depths and their probabilities (for trial 0):"
   ]
  },
  {
   "cell_type": "code",
   "execution_count": 9,
   "metadata": {},
   "outputs": [
    {
     "name": "stdout",
     "output_type": "stream",
     "text": [
      "qv_depth_3_trial_0: ['000', '001', '010', '100']\n",
      "qv_depth_4_trial_0: ['0010', '0011', '0100', '0101', '0110', '1001', '1011', '1110']\n",
      "qv_depth_5_trial_0: ['00010', '00011', '00100', '00101', '00110', '00111', '01011', '01100', '01101', '01110', '01111', '10000', '11001', '11011', '11110', '11111']\n",
      "qv_depth_6_trial_0: ['000000', '000001', '000011', '000100', '001000', '001010', '001111', '010000', '010010', '010011', '010100', '010110', '011110', '100000', '100010', '100011', '100100', '100110', '101001', '101010', '101111', '110000', '110001', '110010', '110100', '110110', '110111', '111000', '111001', '111011', '111100', '111110']\n"
     ]
    }
   ],
   "source": [
    "for qubit_list in qubit_lists:\n",
    "    l = len(qubit_list)\n",
    "    print ('qv_depth_'+str(l)+'_trial_0:', qv_fitter._heavy_outputs['qv_depth_'+str(l)+'_trial_0'])"
   ]
  },
  {
   "cell_type": "code",
   "execution_count": 10,
   "metadata": {},
   "outputs": [
    {
     "name": "stdout",
     "output_type": "stream",
     "text": [
      "qv_depth_3_trial_0: 0.8655813834341206\n",
      "qv_depth_4_trial_0: 0.8875227654224885\n",
      "qv_depth_5_trial_0: 0.8543419735543125\n",
      "qv_depth_6_trial_0: 0.8661188949571332\n"
     ]
    }
   ],
   "source": [
    "for qubit_list in qubit_lists:\n",
    "    l = len(qubit_list)\n",
    "    print ('qv_depth_'+str(l)+'_trial_0:', qv_fitter._heavy_output_prob_ideal['qv_depth_'+str(l)+'_trial_0'])"
   ]
  },
  {
   "cell_type": "markdown",
   "metadata": {},
   "source": [
    "### Step 4: Define the noise model\n",
    "\n",
    "We define a noise model for the simulator. To simulate decay, we add depolarizing error probabilities to the CNOT and U gates."
   ]
  },
  {
   "cell_type": "code",
   "execution_count": 11,
   "metadata": {},
   "outputs": [],
   "source": [
    "noise_model = NoiseModel()\n",
    "p1Q = 0.002\n",
    "p2Q = 0.02\n",
    "noise_model.add_all_qubit_quantum_error(depolarizing_error(p1Q, 1), 'u2')\n",
    "noise_model.add_all_qubit_quantum_error(depolarizing_error(2*p1Q, 1), 'u3')\n",
    "noise_model.add_all_qubit_quantum_error(depolarizing_error(p2Q, 2), 'cx')"
   ]
  },
  {
   "cell_type": "markdown",
   "metadata": {},
   "source": [
    "We can execute the QV sequences either using Qiskit Aer Simulator (with some noise model) or using IBMQ provider, and obtain a list of exp_results."
   ]
  },
  {
   "cell_type": "code",
   "execution_count": 12,
   "metadata": {},
   "outputs": [
    {
     "name": "stdout",
     "output_type": "stream",
     "text": [
      "Completed trial 100/100\n"
     ]
    }
   ],
   "source": [
    "aer_sim = qiskit.Aer.get_backend('aer_simulator')\n",
    "basis_gates = ['u1','u2','u3','cx'] # use U,CX for now\n",
    "shots = 1024\n",
    "exp_results = []\n",
    "for trial in range(ntrials):\n",
    "    clear_output(wait=True)\n",
    "    t_qcs = transpile(qv_circs[trial], basis_gates=basis_gates, optimization_level=3)\n",
    "    qobj = assemble(t_qcs)\n",
    "    result = aer_sim.run(qobj, noise_model=noise_model, max_parallel_experiments=0).result()\n",
    "    exp_results.append(result)\n",
    "    print(f'Completed trial {trial+1}/{ntrials}')"
   ]
  },
  {
   "cell_type": "markdown",
   "metadata": {},
   "source": [
    "### Step 5: Calculate the average gate fidelity\n",
    "\n",
    "The *average gate fidelity* between the $m$-qubit ideal unitaries $U$ and the executed $U'$ is:\n",
    "\n",
    "\n",
    "$$ F_{avg}(U,U') = \\frac{|Tr(U^{\\dagger}U')|^2/2^m+1}{2^m+1}$$\n",
    "\n",
    "\n",
    "\n",
    "The observed distribution for an implementation $U'$ of model circuit $U$ is $q_U(x)$, and the probability of sampling\n",
    "a heavy output is:\n",
    "\n",
    "\n",
    "$$ h_U = \\sum_{x \\in H_U} q_U(x)$$\n",
    "\n",
    "\n",
    "\n",
    "As an illustration, we print the heavy output counts from various depths (for trial 0):"
   ]
  },
  {
   "cell_type": "code",
   "execution_count": 13,
   "metadata": {},
   "outputs": [
    {
     "name": "stdout",
     "output_type": "stream",
     "text": [
      "qv_depth_3_trial_0: 828\n",
      "qv_depth_4_trial_0: 839\n",
      "qv_depth_5_trial_0: 768\n",
      "qv_depth_6_trial_0: 694\n"
     ]
    }
   ],
   "source": [
    "qv_fitter.add_data(exp_results)\n",
    "for qubit_list in qubit_lists:\n",
    "    l = len(qubit_list)\n",
    "    print ('qv_depth_'+str(l)+'_trial_0:', qv_fitter._heavy_output_counts['qv_depth_'+str(l)+'_trial_0'])"
   ]
  },
  {
   "cell_type": "markdown",
   "metadata": {},
   "source": [
    "### Step 6: Calculate the achievable depth\n",
    "\n",
    "The probability of observing a heavy output by implementing a randomly selected depth $d$ model circuit is:\n",
    "\n",
    "\n",
    "$$h_d = \\int_U h_U dU$$\n",
    "\n",
    "\n",
    "\n",
    "The *achievable depth* $d(m)$ is the largest $d$ such that we are confident that $h_d > 2/3$. In other words,\n",
    "\n",
    "\n",
    "$$ h_1,h_2,\\dots,h_{d(m)}>2/3 \\text{ and } h_{d(m)+1} \\leq 2/3$$\n",
    "\n",
    "\n",
    "\n",
    "We now convert the heavy outputs in the different trials and calculate the mean $h_d$ and the error for plotting the graph."
   ]
  },
  {
   "cell_type": "code",
   "execution_count": 14,
   "metadata": {},
   "outputs": [
    {
     "data": {
      "image/svg+xml": [
       "<?xml version=\"1.0\" encoding=\"UTF-8\"?><!DOCTYPE svg  PUBLIC '-//W3C//DTD SVG 1.1//EN'  'http://www.w3.org/Graphics/SVG/1.1/DTD/svg11.dtd'><svg width=\"627.01pt\" height=\"471.27pt\" version=\"1.1\" viewBox=\"0 0 627.01 471.27\" xmlns=\"http://www.w3.org/2000/svg\" xmlns:xlink=\"http://www.w3.org/1999/xlink\"><defs><style type=\"text/css\">*{stroke-linecap:butt;stroke-linejoin:round;}</style></defs><path d=\"m0 471.27h627.01v-471.27h-627.01z\" fill=\"none\"/><path d=\"m54.015 373.19h558v-326.16h-558z\" fill=\"#ffffff\"/><path d=\"m79.379 373.19v-326.16\" clip-path=\"url(#pc7ab7da68d)\" fill=\"none\" stroke=\"#b0b0b0\" stroke-linecap=\"square\" stroke-width=\".8\"/><defs><path id=\"m3ceb825808\" d=\"m0 0v3.5\" stroke=\"#000000\" stroke-width=\".8\"/></defs><use x=\"79.378636\" y=\"373.19325\" stroke=\"#000000\" stroke-width=\".8\" xlink:href=\"#m3ceb825808\"/><defs><path id=\"DejaVuSans-91\" d=\"m8.5938 75.984h20.703v-6.9844h-11.719v-75.203h11.719v-6.9844h-20.703z\"/><path id=\"DejaVuSans-48\" d=\"m31.781 66.406q-7.6094 0-11.453-7.5-3.8281-7.4844-3.8281-22.531 0-14.984 3.8281-22.484 3.8438-7.5 11.453-7.5 7.6719 0 11.5 7.5 3.8438 7.5 3.8438 22.484 0 15.047-3.8438 22.531-3.8281 7.5-11.5 7.5zm0 7.8125q12.266 0 18.734-9.7031 6.4688-9.6875 6.4688-28.141 0-18.406-6.4688-28.109-6.4688-9.6875-18.734-9.6875-12.25 0-18.719 9.6875-6.4688 9.7031-6.4688 28.109 0 18.453 6.4688 28.141 6.4688 9.7031 18.719 9.7031z\"/><path id=\"DejaVuSans-44\" d=\"m11.719 12.406h10.297v-8.4062l-8-15.625h-6.2969l4 15.625z\"/><path id=\"DejaVuSans-49\" d=\"m12.406 8.2969h16.109v55.625l-17.531-3.5156v8.9844l17.438 3.5156h9.8594v-64.609h16.109v-8.2969h-41.984z\"/><path id=\"DejaVuSans-51\" d=\"m40.578 39.312q7.0781-1.5156 11.047-6.3125 3.9844-4.7812 3.9844-11.812 0-10.781-7.4219-16.703-7.4219-5.9062-21.094-5.9062-4.5781 0-9.4375 0.90625t-10.031 2.7188v9.5156q4.0938-2.3906 8.9688-3.6094 4.8906-1.2188 10.219-1.2188 9.2656 0 14.125 3.6562t4.8594 10.641q0 6.4531-4.5156 10.078-4.5156 3.6406-12.562 3.6406h-8.5v8.1094h8.8906q7.2656 0 11.125 2.9062t3.8594 8.375q0 5.6094-3.9844 8.6094-3.9688 3.0156-11.391 3.0156-4.0625 0-8.7031-0.89062-4.6406-0.875-10.203-2.7188v8.7812q5.625 1.5625 10.531 2.3438t9.25 0.78125q11.234 0 17.766-5.1094 6.5469-5.0938 6.5469-13.781 0-6.0625-3.4688-10.234t-9.8594-5.7812z\"/><path id=\"DejaVuSans-93\" d=\"m30.422 75.984v-89.172h-20.703v6.9844h11.672v75.203h-11.672v6.9844z\"/></defs><g transform=\"translate(67.328 413.57) rotate(-45) scale(.1 -.1)\"><use xlink:href=\"#DejaVuSans-91\"/><use x=\"39.013672\" xlink:href=\"#DejaVuSans-48\"/><use x=\"102.636719\" xlink:href=\"#DejaVuSans-44\"/><use x=\"134.423828\" xlink:href=\"#DejaVuSans-32\"/><use x=\"166.210938\" xlink:href=\"#DejaVuSans-49\"/><use x=\"229.833984\" xlink:href=\"#DejaVuSans-44\"/><use x=\"261.621094\" xlink:href=\"#DejaVuSans-32\"/><use x=\"293.408203\" xlink:href=\"#DejaVuSans-51\"/><use x=\"357.03125\" xlink:href=\"#DejaVuSans-93\"/></g><path d=\"m248.47 373.19v-326.16\" clip-path=\"url(#pc7ab7da68d)\" fill=\"none\" stroke=\"#b0b0b0\" stroke-linecap=\"square\" stroke-width=\".8\"/><use x=\"248.469545\" y=\"373.19325\" stroke=\"#000000\" stroke-width=\".8\" xlink:href=\"#m3ceb825808\"/><defs><path id=\"DejaVuSans-53\" d=\"m10.797 72.906h38.719v-8.3125h-29.688v-17.859q2.1406 0.73438 4.2812 1.0938 2.1562 0.35938 4.3125 0.35938 12.203 0 19.328-6.6875 7.1406-6.6875 7.1406-18.109 0-11.766-7.3281-18.297-7.3281-6.5156-20.656-6.5156-4.5938 0-9.3594 0.78125-4.75 0.78125-9.8281 2.3438v9.9219q4.3906-2.3906 9.0781-3.5625t9.9062-1.1719q8.4531 0 13.375 4.4375 4.9375 4.4375 4.9375 12.062 0 7.6094-4.9375 12.047-4.9219 4.4531-13.375 4.4531-3.9531 0-7.8906-0.875-3.9219-0.875-8.0156-2.7344z\"/></defs><g transform=\"translate(231.92 422.56) rotate(-45) scale(.1 -.1)\"><use xlink:href=\"#DejaVuSans-91\"/><use x=\"39.013672\" xlink:href=\"#DejaVuSans-48\"/><use x=\"102.636719\" xlink:href=\"#DejaVuSans-44\"/><use x=\"134.423828\" xlink:href=\"#DejaVuSans-32\"/><use x=\"166.210938\" xlink:href=\"#DejaVuSans-49\"/><use x=\"229.833984\" xlink:href=\"#DejaVuSans-44\"/><use x=\"261.621094\" xlink:href=\"#DejaVuSans-32\"/><use x=\"293.408203\" xlink:href=\"#DejaVuSans-51\"/><use x=\"357.03125\" xlink:href=\"#DejaVuSans-44\"/><use x=\"388.818359\" xlink:href=\"#DejaVuSans-32\"/><use x=\"420.605469\" xlink:href=\"#DejaVuSans-53\"/><use x=\"484.228516\" xlink:href=\"#DejaVuSans-93\"/></g><path d=\"m417.56 373.19v-326.16\" clip-path=\"url(#pc7ab7da68d)\" fill=\"none\" stroke=\"#b0b0b0\" stroke-linecap=\"square\" stroke-width=\".8\"/><use x=\"417.560455\" y=\"373.19325\" stroke=\"#000000\" stroke-width=\".8\" xlink:href=\"#m3ceb825808\"/><defs><path id=\"DejaVuSans-55\" d=\"m8.2031 72.906h46.875v-4.2031l-26.469-68.703h-10.297l24.906 64.594h-35.016z\"/></defs><g transform=\"translate(396.52 431.56) rotate(-45) scale(.1 -.1)\"><use xlink:href=\"#DejaVuSans-91\"/><use x=\"39.013672\" xlink:href=\"#DejaVuSans-48\"/><use x=\"102.636719\" xlink:href=\"#DejaVuSans-44\"/><use x=\"134.423828\" xlink:href=\"#DejaVuSans-32\"/><use x=\"166.210938\" xlink:href=\"#DejaVuSans-49\"/><use x=\"229.833984\" xlink:href=\"#DejaVuSans-44\"/><use x=\"261.621094\" xlink:href=\"#DejaVuSans-32\"/><use x=\"293.408203\" xlink:href=\"#DejaVuSans-51\"/><use x=\"357.03125\" xlink:href=\"#DejaVuSans-44\"/><use x=\"388.818359\" xlink:href=\"#DejaVuSans-32\"/><use x=\"420.605469\" xlink:href=\"#DejaVuSans-53\"/><use x=\"484.228516\" xlink:href=\"#DejaVuSans-44\"/><use x=\"516.015625\" xlink:href=\"#DejaVuSans-32\"/><use x=\"547.802734\" xlink:href=\"#DejaVuSans-55\"/><use x=\"611.425781\" xlink:href=\"#DejaVuSans-93\"/></g><path d=\"m586.65 373.19v-326.16\" clip-path=\"url(#pc7ab7da68d)\" fill=\"none\" stroke=\"#b0b0b0\" stroke-linecap=\"square\" stroke-width=\".8\"/><use x=\"586.651364\" y=\"373.19325\" stroke=\"#000000\" stroke-width=\".8\" xlink:href=\"#m3ceb825808\"/><g transform=\"translate(558.86 445.05) rotate(-45) scale(.1 -.1)\"><use xlink:href=\"#DejaVuSans-91\"/><use x=\"39.013672\" xlink:href=\"#DejaVuSans-48\"/><use x=\"102.636719\" xlink:href=\"#DejaVuSans-44\"/><use x=\"134.423828\" xlink:href=\"#DejaVuSans-32\"/><use x=\"166.210938\" xlink:href=\"#DejaVuSans-49\"/><use x=\"229.833984\" xlink:href=\"#DejaVuSans-44\"/><use x=\"261.621094\" xlink:href=\"#DejaVuSans-32\"/><use x=\"293.408203\" xlink:href=\"#DejaVuSans-51\"/><use x=\"357.03125\" xlink:href=\"#DejaVuSans-44\"/><use x=\"388.818359\" xlink:href=\"#DejaVuSans-32\"/><use x=\"420.605469\" xlink:href=\"#DejaVuSans-53\"/><use x=\"484.228516\" xlink:href=\"#DejaVuSans-44\"/><use x=\"516.015625\" xlink:href=\"#DejaVuSans-32\"/><use x=\"547.802734\" xlink:href=\"#DejaVuSans-55\"/><use x=\"611.425781\" xlink:href=\"#DejaVuSans-44\"/><use x=\"643.212891\" xlink:href=\"#DejaVuSans-32\"/><use x=\"675\" xlink:href=\"#DejaVuSans-49\"/><use x=\"738.623047\" xlink:href=\"#DejaVuSans-48\"/><use x=\"802.246094\" xlink:href=\"#DejaVuSans-93\"/></g><defs><path id=\"DejaVuSans-81\" d=\"m39.406 66.219q-10.75 0-17.078-8.0156-6.3125-8-6.3125-21.828 0-13.766 6.3125-21.781 6.3281-8 17.078-8 10.734 0 17.016 8 6.2812 8.0156 6.2812 21.781 0 13.828-6.2812 21.828-6.2812 8.0156-17.016 8.0156zm13.812-64.906 13-14.203h-11.922l-10.797 11.672q-1.6094-0.09375-2.4688-0.14062-0.84375-0.0625-1.625-0.0625-15.375 0-24.594 10.281-9.2031 10.281-9.2031 27.516 0 17.281 9.2031 27.562 9.2188 10.281 24.594 10.281 15.328 0 24.5-10.281 9.1875-10.281 9.1875-27.562 0-12.688-5.1094-21.734-5.0938-9.0312-14.766-13.328z\"/><path id=\"DejaVuSans-117\" d=\"m8.5 21.578v33.109h8.9844v-32.766q0-7.7656 3.0156-11.656 3.0312-3.875 9.0938-3.875 7.2656 0 11.484 4.6406 4.2344 4.6406 4.2344 12.656v31h8.9844v-54.688h-8.9844v8.4062q-3.2656-4.9844-7.5938-7.4062-4.3125-2.4219-10.031-2.4219-9.4219 0-14.312 5.8594-4.875 5.8594-4.875 17.141z\"/><path id=\"DejaVuSans-98\" d=\"m48.688 27.297q0 9.9062-4.0781 15.547t-11.203 5.6406q-7.1406 0-11.219-5.6406t-4.0781-15.547 4.0781-15.547 11.219-5.6406q7.125 0 11.203 5.6406t4.0781 15.547zm-30.578 19.094q2.8438 4.875 7.1562 7.2344 4.3281 2.375 10.328 2.375 9.9688 0 16.188-7.9062 6.2344-7.9062 6.2344-20.797t-6.2344-20.812q-6.2188-7.9062-16.188-7.9062-6 0-10.328 2.375-4.3125 2.375-7.1562 7.25v-8.2031h-9.0312v75.984h9.0312z\"/><path id=\"DejaVuSans-105\" d=\"m9.4219 54.688h8.9844v-54.688h-8.9844zm0 21.297h8.9844v-11.391h-8.9844z\"/><path id=\"DejaVuSans-116\" d=\"m18.312 70.219v-15.531h18.5v-6.9844h-18.5v-29.688q0-6.6875 1.8281-8.5938t7.4531-1.9062h9.2188v-7.5156h-9.2188q-10.406 0-14.359 3.875-3.9531 3.8906-3.9531 14.141v29.688h-6.5938v6.9844h6.5938v15.531z\"/><path id=\"DejaVuSans-83\" d=\"m53.516 70.516v-9.625q-5.6094 2.6875-10.594 4-4.9844 1.3281-9.625 1.3281-8.0469 0-12.422-3.125t-4.375-8.8906q0-4.8438 2.9062-7.3125 2.9062-2.4531 11.016-3.9688l5.9531-1.2188q11.031-2.1094 16.281-7.4062t5.25-14.172q0-10.609-7.1094-16.078-7.0938-5.4688-20.812-5.4688-5.1719 0-11.016 1.1719-5.8281 1.1719-12.078 3.4688v10.156q6-3.3594 11.766-5.0781 5.7656-1.7031 11.328-1.7031 8.4375 0 13.031 3.3125 4.5938 3.3281 4.5938 9.4844 0 5.3594-3.2969 8.3906t-10.812 4.5469l-6.0156 1.1719q-11.031 2.1875-15.969 6.875-4.9219 4.6875-4.9219 13.047 0 9.6719 6.8125 15.234t18.766 5.5625q5.1406 0 10.453-0.9375 5.3281-0.92188 10.891-2.7656z\"/><path id=\"DejaVuSans-115\" d=\"m44.281 53.078v-8.5q-3.7969 1.9531-7.9062 2.9219-4.0938 0.98438-8.5 0.98438-6.6875 0-10.031-2.0469t-3.3438-6.1562q0-3.125 2.3906-4.9062t9.625-3.3906l3.0781-0.6875q9.5625-2.0469 13.594-5.7812t4.0312-10.422q0-7.625-6.0312-12.078-6.0312-4.4375-16.578-4.4375-4.3906 0-9.1562 0.85938t-10.031 2.5625v9.2812q4.9844-2.5938 9.8125-3.8906 4.8281-1.2812 9.5781-1.2812 6.3438 0 9.75 2.1719 3.4219 2.1719 3.4219 6.125 0 3.6562-2.4688 5.6094-2.4531 1.9531-10.812 3.7656l-3.125 0.73438q-8.3438 1.75-12.062 5.3906-3.7031 3.6406-3.7031 9.9844 0 7.7188 5.4688 11.906 5.4688 4.2031 15.531 4.2031 4.9688 0 9.3594-0.73438 4.4062-0.71875 8.1094-2.1875z\"/><path id=\"DejaVuSans-101\" d=\"m56.203 29.594v-4.3906h-41.312q0.59375-9.2812 5.5938-14.141t13.938-4.8594q5.1719 0 10.031 1.2656t9.6562 3.8125v-8.5q-4.8438-2.0469-9.9219-3.125t-10.297-1.0781q-13.094 0-20.734 7.6094-7.6406 7.625-7.6406 20.625 0 13.422 7.25 21.297 7.25 7.8906 19.562 7.8906 11.031 0 17.453-7.1094 6.4219-7.0938 6.4219-19.297zm-8.9844 2.6406q-0.09375 7.3594-4.125 11.75-4.0312 4.4062-10.672 4.4062-7.5156 0-12.031-4.25t-5.2031-11.969z\"/></defs><g transform=\"translate(287.69 461.16) scale(.14 -.14)\"><use xlink:href=\"#DejaVuSans-81\"/><use x=\"78.710938\" xlink:href=\"#DejaVuSans-117\"/><use x=\"142.089844\" xlink:href=\"#DejaVuSans-98\"/><use x=\"205.566406\" xlink:href=\"#DejaVuSans-105\"/><use x=\"233.349609\" xlink:href=\"#DejaVuSans-116\"/><use x=\"272.558594\" xlink:href=\"#DejaVuSans-32\"/><use x=\"304.345703\" xlink:href=\"#DejaVuSans-83\"/><use x=\"367.822266\" xlink:href=\"#DejaVuSans-117\"/><use x=\"431.201172\" xlink:href=\"#DejaVuSans-98\"/><use x=\"494.677734\" xlink:href=\"#DejaVuSans-115\"/><use x=\"546.777344\" xlink:href=\"#DejaVuSans-101\"/><use x=\"608.300781\" xlink:href=\"#DejaVuSans-116\"/></g><path d=\"m54.015 356.36h558\" clip-path=\"url(#pc7ab7da68d)\" fill=\"none\" stroke=\"#b0b0b0\" stroke-linecap=\"square\" stroke-width=\".8\"/><defs><path id=\"mc1c22896c0\" d=\"m0 0h-3.5\" stroke=\"#000000\" stroke-width=\".8\"/></defs><use x=\"54.015\" y=\"356.356506\" stroke=\"#000000\" stroke-width=\".8\" xlink:href=\"#mc1c22896c0\"/><defs><path id=\"DejaVuSans-46\" d=\"m10.688 12.406h10.312v-12.406h-10.312z\"/></defs><g transform=\"translate(24.749 360.16) scale(.1 -.1)\"><use xlink:href=\"#DejaVuSans-48\"/><use x=\"63.623047\" xlink:href=\"#DejaVuSans-46\"/><use x=\"95.410156\" xlink:href=\"#DejaVuSans-53\"/><use x=\"159.033203\" xlink:href=\"#DejaVuSans-53\"/></g><path d=\"m54.015 317.64h558\" clip-path=\"url(#pc7ab7da68d)\" fill=\"none\" stroke=\"#b0b0b0\" stroke-linecap=\"square\" stroke-width=\".8\"/><use x=\"54.015\" y=\"317.638431\" stroke=\"#000000\" stroke-width=\".8\" xlink:href=\"#mc1c22896c0\"/><defs><path id=\"DejaVuSans-54\" d=\"m33.016 40.375q-6.6406 0-10.531-4.5469-3.875-4.5312-3.875-12.438 0-7.8594 3.875-12.438 3.8906-4.5625 10.531-4.5625t10.516 4.5625q3.875 4.5781 3.875 12.438 0 7.9062-3.875 12.438-3.875 4.5469-10.516 4.5469zm19.578 30.922v-8.9844q-3.7188 1.75-7.5 2.6719-3.7812 0.9375-7.5 0.9375-9.7656 0-14.922-6.5938-5.1406-6.5938-5.875-19.922 2.875 4.25 7.2188 6.5156 4.3594 2.2656 9.5781 2.2656 10.984 0 17.359-6.6719 6.375-6.6562 6.375-18.125 0-11.234-6.6406-18.031-6.6406-6.7812-17.672-6.7812-12.656 0-19.344 9.6875-6.6875 9.7031-6.6875 28.109 0 17.281 8.2031 27.562t22.016 10.281q3.7188 0 7.5-0.73438t7.8906-2.1875z\"/></defs><g transform=\"translate(24.749 321.44) scale(.1 -.1)\"><use xlink:href=\"#DejaVuSans-48\"/><use x=\"63.623047\" xlink:href=\"#DejaVuSans-46\"/><use x=\"95.410156\" xlink:href=\"#DejaVuSans-54\"/><use x=\"159.033203\" xlink:href=\"#DejaVuSans-48\"/></g><path d=\"m54.015 278.92h558\" clip-path=\"url(#pc7ab7da68d)\" fill=\"none\" stroke=\"#b0b0b0\" stroke-linecap=\"square\" stroke-width=\".8\"/><use x=\"54.015\" y=\"278.920357\" stroke=\"#000000\" stroke-width=\".8\" xlink:href=\"#mc1c22896c0\"/><g transform=\"translate(24.749 282.72) scale(.1 -.1)\"><use xlink:href=\"#DejaVuSans-48\"/><use x=\"63.623047\" xlink:href=\"#DejaVuSans-46\"/><use x=\"95.410156\" xlink:href=\"#DejaVuSans-54\"/><use x=\"159.033203\" xlink:href=\"#DejaVuSans-53\"/></g><path d=\"m54.015 240.2h558\" clip-path=\"url(#pc7ab7da68d)\" fill=\"none\" stroke=\"#b0b0b0\" stroke-linecap=\"square\" stroke-width=\".8\"/><use x=\"54.015\" y=\"240.202283\" stroke=\"#000000\" stroke-width=\".8\" xlink:href=\"#mc1c22896c0\"/><g transform=\"translate(24.749 244) scale(.1 -.1)\"><use xlink:href=\"#DejaVuSans-48\"/><use x=\"63.623047\" xlink:href=\"#DejaVuSans-46\"/><use x=\"95.410156\" xlink:href=\"#DejaVuSans-55\"/><use x=\"159.033203\" xlink:href=\"#DejaVuSans-48\"/></g><path d=\"m54.015 201.48h558\" clip-path=\"url(#pc7ab7da68d)\" fill=\"none\" stroke=\"#b0b0b0\" stroke-linecap=\"square\" stroke-width=\".8\"/><use x=\"54.015\" y=\"201.484209\" stroke=\"#000000\" stroke-width=\".8\" xlink:href=\"#mc1c22896c0\"/><g transform=\"translate(24.749 205.28) scale(.1 -.1)\"><use xlink:href=\"#DejaVuSans-48\"/><use x=\"63.623047\" xlink:href=\"#DejaVuSans-46\"/><use x=\"95.410156\" xlink:href=\"#DejaVuSans-55\"/><use x=\"159.033203\" xlink:href=\"#DejaVuSans-53\"/></g><path d=\"m54.015 162.77h558\" clip-path=\"url(#pc7ab7da68d)\" fill=\"none\" stroke=\"#b0b0b0\" stroke-linecap=\"square\" stroke-width=\".8\"/><use x=\"54.015\" y=\"162.766135\" stroke=\"#000000\" stroke-width=\".8\" xlink:href=\"#mc1c22896c0\"/><defs><path id=\"DejaVuSans-56\" d=\"m31.781 34.625q-7.0312 0-11.062-3.7656-4.0156-3.7656-4.0156-10.344 0-6.5938 4.0156-10.359 4.0312-3.7656 11.062-3.7656t11.078 3.7812q4.0625 3.7969 4.0625 10.344 0 6.5781-4.0312 10.344-4.0156 3.7656-11.109 3.7656zm-9.8594 4.1875q-6.3438 1.5625-9.8906 5.9062-3.5312 4.3594-3.5312 10.609 0 8.7344 6.2188 13.812 6.2344 5.0781 17.062 5.0781 10.891 0 17.094-5.0781t6.2031-13.812q0-6.25-3.5469-10.609-3.5312-4.3438-9.8281-5.9062 7.125-1.6562 11.094-6.5 3.9844-4.8281 3.9844-11.797 0-10.609-6.4688-16.281-6.4688-5.6562-18.531-5.6562-12.047 0-18.531 5.6562-6.4688 5.6719-6.4688 16.281 0 6.9688 4 11.797 4.0156 4.8438 11.141 6.5zm-3.6094 15.578q0-5.6562 3.5312-8.8281 3.5469-3.1719 9.9375-3.1719 6.3594 0 9.9375 3.1719 3.5938 3.1719 3.5938 8.8281 0 5.6719-3.5938 8.8438-3.5781 3.1719-9.9375 3.1719-6.3906 0-9.9375-3.1719-3.5312-3.1719-3.5312-8.8438z\"/></defs><g transform=\"translate(24.749 166.57) scale(.1 -.1)\"><use xlink:href=\"#DejaVuSans-48\"/><use x=\"63.623047\" xlink:href=\"#DejaVuSans-46\"/><use x=\"95.410156\" xlink:href=\"#DejaVuSans-56\"/><use x=\"159.033203\" xlink:href=\"#DejaVuSans-48\"/></g><path d=\"m54.015 124.05h558\" clip-path=\"url(#pc7ab7da68d)\" fill=\"none\" stroke=\"#b0b0b0\" stroke-linecap=\"square\" stroke-width=\".8\"/><use x=\"54.015\" y=\"124.048061\" stroke=\"#000000\" stroke-width=\".8\" xlink:href=\"#mc1c22896c0\"/><g transform=\"translate(24.749 127.85) scale(.1 -.1)\"><use xlink:href=\"#DejaVuSans-48\"/><use x=\"63.623047\" xlink:href=\"#DejaVuSans-46\"/><use x=\"95.410156\" xlink:href=\"#DejaVuSans-56\"/><use x=\"159.033203\" xlink:href=\"#DejaVuSans-53\"/></g><path d=\"m54.015 85.33h558\" clip-path=\"url(#pc7ab7da68d)\" fill=\"none\" stroke=\"#b0b0b0\" stroke-linecap=\"square\" stroke-width=\".8\"/><use x=\"54.015\" y=\"85.329987\" stroke=\"#000000\" stroke-width=\".8\" xlink:href=\"#mc1c22896c0\"/><defs><path id=\"DejaVuSans-57\" d=\"m10.984 1.5156v8.9844q3.7188-1.7656 7.5156-2.6875 3.8125-0.92188 7.4844-0.92188 9.7656 0 14.906 6.5625 5.1562 6.5625 5.8906 19.953-2.8281-4.2031-7.1875-6.4531-4.3438-2.25-9.6094-2.25-10.938 0-17.312 6.6094-6.375 6.625-6.375 18.109 0 11.219 6.6406 18 6.6406 6.7969 17.672 6.7969 12.656 0 19.312-9.7031 6.6719-9.6875 6.6719-28.141 0-17.234-8.1875-27.516-8.1719-10.281-21.984-10.281-3.7188 0-7.5312 0.73438-3.7969 0.73438-7.9062 2.2031zm19.625 30.906q6.6406 0 10.516 4.5312 3.8906 4.5469 3.8906 12.469 0 7.8594-3.8906 12.422-3.875 4.5625-10.516 4.5625t-10.516-4.5625-3.875-12.422q0-7.9219 3.875-12.469 3.875-4.5312 10.516-4.5312z\"/></defs><g transform=\"translate(24.749 89.129) scale(.1 -.1)\"><use xlink:href=\"#DejaVuSans-48\"/><use x=\"63.623047\" xlink:href=\"#DejaVuSans-46\"/><use x=\"95.410156\" xlink:href=\"#DejaVuSans-57\"/><use x=\"159.033203\" xlink:href=\"#DejaVuSans-48\"/></g><defs><path id=\"DejaVuSans-72\" d=\"m9.8125 72.906h9.8594v-29.891h35.844v29.891h9.8594v-72.906h-9.8594v34.719h-35.844v-34.719h-9.8594z\"/><path id=\"DejaVuSans-97\" d=\"m34.281 27.484q-10.891 0-15.094-2.4844t-4.2031-8.5q0-4.7812 3.1562-7.5938 3.1562-2.7969 8.5625-2.7969 7.4844 0 12 5.2969t4.5156 14.078v2zm17.922 3.7188v-31.203h-8.9844v8.2969q-3.0781-4.9688-7.6719-7.3438t-11.234-2.375q-8.3906 0-13.359 4.7188-4.9531 4.7188-4.9531 12.625 0 9.2188 6.1719 13.906 6.1875 4.6875 18.438 4.6875h12.609v0.89062q0 6.2031-4.0781 9.5938t-11.453 3.3906q-4.6875 0-9.1406-1.125-4.4375-1.125-8.5312-3.375v8.3125q4.9219 1.9062 9.5625 2.8438 4.6406 0.95312 9.0312 0.95312 11.875 0 17.734-6.1562 5.8594-6.1406 5.8594-18.641z\"/><path id=\"DejaVuSans-118\" d=\"m2.9844 54.688h9.5156l17.094-45.891 17.094 45.891h9.5156l-20.516-54.688h-12.203z\"/><path id=\"DejaVuSans-121\" d=\"m32.172-5.0781q-3.7969-9.7656-7.4219-12.734-3.6094-2.9844-9.6562-2.9844h-7.1875v7.5156h5.2812q3.7031 0 5.75 1.7656 2.0625 1.75 4.5469 8.2969l1.6094 4.0938-22.109 53.812h9.5156l17.094-42.766 17.094 42.766h9.5156z\"/><path id=\"DejaVuSans-79\" d=\"m39.406 66.219q-10.75 0-17.078-8.0156-6.3125-8-6.3125-21.828 0-13.766 6.3125-21.781 6.3281-8 17.078-8 10.734 0 17.016 8 6.2812 8.0156 6.2812 21.781 0 13.828-6.2812 21.828-6.2812 8.0156-17.016 8.0156zm0 8q15.328 0 24.5-10.281 9.1875-10.281 9.1875-27.562 0-17.234-9.1875-27.516-9.1719-10.281-24.5-10.281-15.375 0-24.594 10.25-9.2031 10.266-9.2031 27.547t9.2031 27.562q9.2188 10.281 24.594 10.281z\"/><path id=\"DejaVuSans-112\" d=\"m18.109 8.2031v-29h-9.0312v75.484h9.0312v-8.2969q2.8438 4.875 7.1562 7.2344 4.3281 2.375 10.328 2.375 9.9688 0 16.188-7.9062 6.2344-7.9062 6.2344-20.797t-6.2344-20.812q-6.2188-7.9062-16.188-7.9062-6 0-10.328 2.375-4.3125 2.375-7.1562 7.25zm30.578 19.094q0 9.9062-4.0781 15.547t-11.203 5.6406q-7.1406 0-11.219-5.6406t-4.0781-15.547 4.0781-15.547 11.219-5.6406q7.125 0 11.203 5.6406t4.0781 15.547z\"/><path id=\"DejaVuSans-80\" d=\"m19.672 64.797v-27.391h12.406q6.8906 0 10.641 3.5625 3.7656 3.5625 3.7656 10.156 0 6.5469-3.7656 10.109-3.75 3.5625-10.641 3.5625zm-9.8594 8.1094h22.266q12.266 0 18.531-5.5469 6.2812-5.5469 6.2812-16.234 0-10.797-6.2812-16.312-6.2656-5.5156-18.531-5.5156h-12.406v-29.297h-9.8594z\"/><path id=\"DejaVuSans-114\" d=\"m41.109 46.297q-1.5156 0.875-3.2969 1.2812-1.7812 0.42188-3.9219 0.42188-7.625 0-11.703-4.9531t-4.0781-14.234v-28.812h-9.0312v54.688h9.0312v-8.5q2.8438 4.9844 7.375 7.3906 4.5469 2.4219 11.047 2.4219 0.92188 0 2.0469-0.125 1.125-0.10938 2.4844-0.35938z\"/><path id=\"DejaVuSans-111\" d=\"m30.609 48.391q-7.2188 0-11.422-5.6406t-4.2031-15.453 4.1719-15.453q4.1875-5.6406 11.453-5.6406 7.1875 0 11.375 5.6562 4.2031 5.6719 4.2031 15.438 0 9.7188-4.2031 15.406-4.1875 5.6875-11.375 5.6875zm0 7.6094q11.719 0 18.406-7.625 6.7031-7.6094 6.7031-21.078 0-13.422-6.7031-21.078-6.6875-7.6406-18.406-7.6406-11.766 0-18.438 7.6406-6.6562 7.6562-6.6562 21.078 0 13.469 6.6562 21.078 6.6719 7.625 18.438 7.625z\"/><path id=\"DejaVuSans-108\" d=\"m9.4219 75.984h8.9844v-75.984h-8.9844z\"/></defs><g transform=\"translate(17.838 298.03) rotate(-90) scale(.14 -.14)\"><use xlink:href=\"#DejaVuSans-72\"/><use x=\"75.195312\" xlink:href=\"#DejaVuSans-101\"/><use x=\"136.71875\" xlink:href=\"#DejaVuSans-97\"/><use x=\"197.998047\" xlink:href=\"#DejaVuSans-118\"/><use x=\"257.177734\" xlink:href=\"#DejaVuSans-121\"/><use x=\"316.357422\" xlink:href=\"#DejaVuSans-32\"/><use x=\"348.144531\" xlink:href=\"#DejaVuSans-79\"/><use x=\"426.855469\" xlink:href=\"#DejaVuSans-117\"/><use x=\"490.234375\" xlink:href=\"#DejaVuSans-116\"/><use x=\"529.443359\" xlink:href=\"#DejaVuSans-112\"/><use x=\"592.919922\" xlink:href=\"#DejaVuSans-117\"/><use x=\"656.298828\" xlink:href=\"#DejaVuSans-116\"/><use x=\"695.507812\" xlink:href=\"#DejaVuSans-32\"/><use x=\"727.294922\" xlink:href=\"#DejaVuSans-80\"/><use x=\"785.847656\" xlink:href=\"#DejaVuSans-114\"/><use x=\"824.710938\" xlink:href=\"#DejaVuSans-111\"/><use x=\"885.892578\" xlink:href=\"#DejaVuSans-98\"/><use x=\"949.369141\" xlink:href=\"#DejaVuSans-97\"/><use x=\"1010.648438\" xlink:href=\"#DejaVuSans-98\"/><use x=\"1074.125\" xlink:href=\"#DejaVuSans-105\"/><use x=\"1101.908203\" xlink:href=\"#DejaVuSans-108\"/><use x=\"1129.691406\" xlink:href=\"#DejaVuSans-105\"/><use x=\"1157.474609\" xlink:href=\"#DejaVuSans-116\"/><use x=\"1196.683594\" xlink:href=\"#DejaVuSans-121\"/></g><g fill=\"none\" stroke=\"#ff0000\" stroke-width=\"2\"><path d=\"m79.379 233.2v-126.06\" clip-path=\"url(#pc7ab7da68d)\"/><path d=\"m248.47 282.53v-136.91\" clip-path=\"url(#pc7ab7da68d)\"/><path d=\"m417.56 284.17v-137.22\" clip-path=\"url(#pc7ab7da68d)\"/><path d=\"m586.65 358.37v-148.38\" clip-path=\"url(#pc7ab7da68d)\"/></g><g fill=\"none\" stroke=\"#0000ff\" stroke-width=\"2\"><path d=\"m79.379 193.86v-115.19\" clip-path=\"url(#pc7ab7da68d)\"/><path d=\"m248.47 188.77v-113.62\" clip-path=\"url(#pc7ab7da68d)\"/><path d=\"m417.56 168.96v-107.11\" clip-path=\"url(#pc7ab7da68d)\"/><path d=\"m586.65 181.44v-111.28\" clip-path=\"url(#pc7ab7da68d)\"/></g><defs><path id=\"m036244ddbe\" d=\"m5 0h-10\" stroke=\"#ff0000\"/></defs><g clip-path=\"url(#pc7ab7da68d)\" fill=\"#ff0000\" stroke=\"#ff0000\"><use x=\"79.378636\" y=\"233.201703\" xlink:href=\"#m036244ddbe\"/><use x=\"248.469545\" y=\"282.528964\" xlink:href=\"#m036244ddbe\"/><use x=\"417.560455\" y=\"284.167082\" xlink:href=\"#m036244ddbe\"/><use x=\"586.651364\" y=\"358.367795\" xlink:href=\"#m036244ddbe\"/></g><g clip-path=\"url(#pc7ab7da68d)\" fill=\"#ff0000\" stroke=\"#ff0000\"><use x=\"79.378636\" y=\"107.137205\" xlink:href=\"#m036244ddbe\"/><use x=\"248.469545\" y=\"145.621327\" xlink:href=\"#m036244ddbe\"/><use x=\"417.560455\" y=\"146.947561\" xlink:href=\"#m036244ddbe\"/><use x=\"586.651364\" y=\"209.984271\" xlink:href=\"#m036244ddbe\"/></g><defs><path id=\"mfd43e6fa9e\" d=\"m5 0h-10\" stroke=\"#0000ff\"/></defs><g clip-path=\"url(#pc7ab7da68d)\" fill=\"#0000ff\" stroke=\"#0000ff\"><use x=\"79.378636\" y=\"193.858292\" xlink:href=\"#mfd43e6fa9e\"/><use x=\"248.469545\" y=\"188.77419\" xlink:href=\"#mfd43e6fa9e\"/><use x=\"417.560455\" y=\"168.964239\" xlink:href=\"#mfd43e6fa9e\"/><use x=\"586.651364\" y=\"181.435112\" xlink:href=\"#mfd43e6fa9e\"/></g><g clip-path=\"url(#pc7ab7da68d)\" fill=\"#0000ff\" stroke=\"#0000ff\"><use x=\"79.378636\" y=\"78.670621\" xlink:href=\"#mfd43e6fa9e\"/><use x=\"248.469545\" y=\"75.155707\" xlink:href=\"#mfd43e6fa9e\"/><use x=\"417.560455\" y=\"61.858705\" xlink:href=\"#mfd43e6fa9e\"/><use x=\"586.651364\" y=\"70.153754\" xlink:href=\"#mfd43e6fa9e\"/></g><path d=\"m54.015 266.01h558\" clip-path=\"url(#pc7ab7da68d)\" fill=\"none\" stroke=\"#000000\" stroke-dasharray=\"3.7,1.6\"/><path d=\"m79.379 170.17 169.09 43.906 169.09 1.4822 169.09 68.619\" clip-path=\"url(#pc7ab7da68d)\" fill=\"none\" stroke=\"#ff0000\" stroke-linecap=\"square\" stroke-width=\"1.5\"/><defs><path id=\"mdc211a4163\" d=\"m0 3c0.79561 0 1.5587-0.3161 2.1213-0.87868 0.56258-0.56258 0.87868-1.3257 0.87868-2.1213s-0.3161-1.5587-0.87868-2.1213c-0.56258-0.56258-1.3257-0.87868-2.1213-0.87868s-1.5587 0.3161-2.1213 0.87868c-0.56258 0.56258-0.87868 1.3257-0.87868 2.1213s0.3161 1.5587 0.87868 2.1213c0.56258 0.56258 1.3257 0.87868 2.1213 0.87868z\" stroke=\"#ff0000\"/></defs><g clip-path=\"url(#pc7ab7da68d)\" fill=\"#ff0000\" stroke=\"#ff0000\"><use x=\"79.378636\" y=\"170.169454\" xlink:href=\"#mdc211a4163\"/><use x=\"248.469545\" y=\"214.075145\" xlink:href=\"#mdc211a4163\"/><use x=\"417.560455\" y=\"215.557322\" xlink:href=\"#mdc211a4163\"/><use x=\"586.651364\" y=\"284.176033\" xlink:href=\"#mdc211a4163\"/></g><path d=\"m79.379 136.26 169.09-4.2995 169.09-16.553 169.09 10.383\" clip-path=\"url(#pc7ab7da68d)\" fill=\"none\" stroke=\"#0000ff\" stroke-linecap=\"square\" stroke-width=\"1.5\"/><defs><path id=\"m5b66367fe5\" d=\"m-0 3 3-6h-6z\" stroke=\"#0000ff\"/></defs><g clip-path=\"url(#pc7ab7da68d)\" fill=\"#0000ff\" stroke=\"#0000ff\"><use x=\"79.378636\" y=\"136.264456\" xlink:href=\"#m5b66367fe5\"/><use x=\"248.469545\" y=\"131.964949\" xlink:href=\"#m5b66367fe5\"/><use x=\"417.560455\" y=\"115.411472\" xlink:href=\"#m5b66367fe5\"/><use x=\"586.651364\" y=\"125.794433\" xlink:href=\"#m5b66367fe5\"/></g><path d=\"m54.015 373.19v-326.16\" fill=\"none\" stroke=\"#000000\" stroke-linecap=\"square\" stroke-width=\".8\"/><path d=\"m612.02 373.19v-326.16\" fill=\"none\" stroke=\"#000000\" stroke-linecap=\"square\" stroke-width=\".8\"/><path d=\"m54.015 373.19h558\" fill=\"none\" stroke=\"#000000\" stroke-linecap=\"square\" stroke-width=\".8\"/><path d=\"m54.015 47.033h558\" fill=\"none\" stroke=\"#000000\" stroke-linecap=\"square\" stroke-width=\".8\"/><defs><path id=\"DejaVuSans-110\" d=\"m54.891 33.016v-33.016h-8.9844v32.719q0 7.7656-3.0312 11.609-3.0312 3.8594-9.0781 3.8594-7.2812 0-11.484-4.6406-4.2031-4.625-4.2031-12.641v-30.906h-9.0312v54.688h9.0312v-8.5q3.2344 4.9375 7.5938 7.375 4.375 2.4375 10.094 2.4375 9.4219 0 14.25-5.8281 4.8438-5.8281 4.8438-17.156z\"/><path id=\"DejaVuSans-109\" d=\"m52 44.188q3.375 6.0625 8.0625 8.9375t11.031 2.875q8.5469 0 13.188-5.9844 4.6406-5.9688 4.6406-17v-33.016h-9.0312v32.719q0 7.8594-2.7969 11.656-2.7812 3.8125-8.4844 3.8125-6.9844 0-11.047-4.6406-4.0469-4.625-4.0469-12.641v-30.906h-9.0312v32.719q0 7.9062-2.7812 11.688t-8.5938 3.7812q-6.8906 0-10.953-4.6562-4.0469-4.6562-4.0469-12.625v-30.906h-9.0312v54.688h9.0312v-8.5q3.0781 5.0312 7.375 7.4219t10.203 2.3906q5.9688 0 10.141-3.0312 4.1719-3.0156 6.1719-8.7812z\"/><path id=\"DejaVuSans-86\" d=\"m28.609 0-27.828 72.906h10.297l23.109-61.375 23.141 61.375h10.25l-27.781-72.906z\"/><path id=\"DejaVuSans-102\" d=\"m37.109 75.984v-7.4844h-8.5938q-4.8281 0-6.7188-1.9531-1.875-1.9531-1.875-7.0312v-4.8281h14.797v-6.9844h-14.797v-47.703h-9.0312v47.703h-8.5938v6.9844h8.5938v3.8125q0 9.125 4.25 13.297 4.25 4.1875 13.469 4.1875z\"/></defs><g transform=\"translate(169.74 20.877) scale(.18 -.18)\"><use xlink:href=\"#DejaVuSans-81\"/><use x=\"78.710938\" xlink:href=\"#DejaVuSans-117\"/><use x=\"142.089844\" xlink:href=\"#DejaVuSans-97\"/><use x=\"203.369141\" xlink:href=\"#DejaVuSans-110\"/><use x=\"266.748047\" xlink:href=\"#DejaVuSans-116\"/><use x=\"305.957031\" xlink:href=\"#DejaVuSans-117\"/><use x=\"369.335938\" xlink:href=\"#DejaVuSans-109\"/><use x=\"466.748047\" xlink:href=\"#DejaVuSans-32\"/><use x=\"498.535156\" xlink:href=\"#DejaVuSans-86\"/><use x=\"559.193359\" xlink:href=\"#DejaVuSans-111\"/><use x=\"620.375\" xlink:href=\"#DejaVuSans-108\"/><use x=\"648.158203\" xlink:href=\"#DejaVuSans-117\"/><use x=\"711.537109\" xlink:href=\"#DejaVuSans-109\"/><use x=\"808.949219\" xlink:href=\"#DejaVuSans-101\"/><use x=\"870.472656\" xlink:href=\"#DejaVuSans-32\"/><use x=\"902.259766\" xlink:href=\"#DejaVuSans-102\"/><use x=\"937.464844\" xlink:href=\"#DejaVuSans-111\"/><use x=\"998.646484\" xlink:href=\"#DejaVuSans-114\"/><use x=\"1039.759766\" xlink:href=\"#DejaVuSans-32\"/><use x=\"1071.546875\" xlink:href=\"#DejaVuSans-117\"/><use x=\"1134.925781\" xlink:href=\"#DejaVuSans-112\"/><use x=\"1198.402344\" xlink:href=\"#DejaVuSans-32\"/><use x=\"1230.189453\" xlink:href=\"#DejaVuSans-116\"/><use x=\"1269.398438\" xlink:href=\"#DejaVuSans-111\"/><use x=\"1330.580078\" xlink:href=\"#DejaVuSans-32\"/><use x=\"1362.367188\" xlink:href=\"#DejaVuSans-54\"/><use x=\"1425.990234\" xlink:href=\"#DejaVuSans-32\"/><use x=\"1457.777344\" xlink:href=\"#DejaVuSans-81\"/><use x=\"1536.488281\" xlink:href=\"#DejaVuSans-117\"/><use x=\"1599.867188\" xlink:href=\"#DejaVuSans-98\"/><use x=\"1663.34375\" xlink:href=\"#DejaVuSans-105\"/><use x=\"1691.126953\" xlink:href=\"#DejaVuSans-116\"/><use x=\"1730.335938\" xlink:href=\"#DejaVuSans-115\"/><use x=\"1782.435547\" xlink:href=\"#DejaVuSans-32\"/></g><defs><path id=\"DejaVuSans-100\" d=\"m45.406 46.391v29.594h8.9844v-75.984h-8.9844v8.2031q-2.8281-4.875-7.1562-7.25-4.3125-2.375-10.375-2.375-9.9062 0-16.141 7.9062-6.2188 7.9219-6.2188 20.812t6.2188 20.797q6.2344 7.9062 16.141 7.9062 6.0625 0 10.375-2.375 4.3281-2.3594 7.1562-7.2344zm-30.609-19.094q0-9.9062 4.0781-15.547t11.203-5.6406 11.219 5.6406q4.1094 5.6406 4.1094 15.547t-4.1094 15.547q-4.0938 5.6406-11.219 5.6406t-11.203-5.6406-4.0781-15.547z\"/><path id=\"DejaVuSans-84\" d=\"m-0.29688 72.906h61.672v-8.3125h-25.875v-64.594h-9.9062v64.594h-25.891z\"/></defs><g transform=\"translate(267.25 41.033) scale(.18 -.18)\"><use xlink:href=\"#DejaVuSans-32\"/><use x=\"31.787109\" xlink:href=\"#DejaVuSans-97\"/><use x=\"93.066406\" xlink:href=\"#DejaVuSans-110\"/><use x=\"156.445312\" xlink:href=\"#DejaVuSans-100\"/><use x=\"219.921875\" xlink:href=\"#DejaVuSans-32\"/><use x=\"251.708984\" xlink:href=\"#DejaVuSans-49\"/><use x=\"315.332031\" xlink:href=\"#DejaVuSans-48\"/><use x=\"378.955078\" xlink:href=\"#DejaVuSans-48\"/><use x=\"442.578125\" xlink:href=\"#DejaVuSans-32\"/><use x=\"474.365234\" xlink:href=\"#DejaVuSans-84\"/><use x=\"520.699219\" xlink:href=\"#DejaVuSans-114\"/><use x=\"561.8125\" xlink:href=\"#DejaVuSans-105\"/><use x=\"589.595703\" xlink:href=\"#DejaVuSans-97\"/><use x=\"650.875\" xlink:href=\"#DejaVuSans-108\"/><use x=\"678.658203\" xlink:href=\"#DejaVuSans-115\"/></g><path d=\"m61.015 368.19h107.9q2 0 2-2v-43.056q0-2-2-2h-107.9q-2 0-2 2v43.056q0 2 2 2z\" fill=\"#ffffff\" opacity=\".8\" stroke=\"#cccccc\"/><path d=\"m63.015 329.24h20\" fill=\"none\" stroke=\"#000000\" stroke-dasharray=\"3.7,1.6\"/><defs><path id=\"DejaVuSans-104\" d=\"m54.891 33.016v-33.016h-8.9844v32.719q0 7.7656-3.0312 11.609-3.0312 3.8594-9.0781 3.8594-7.2812 0-11.484-4.6406-4.2031-4.625-4.2031-12.641v-30.906h-9.0312v75.984h9.0312v-29.797q3.2344 4.9375 7.5938 7.375 4.375 2.4375 10.094 2.4375 9.4219 0 14.25-5.8281 4.8438-5.8281 4.8438-17.156z\"/></defs><g transform=\"translate(91.015 332.74) scale(.1 -.1)\"><use xlink:href=\"#DejaVuSans-84\"/><use x=\"61.083984\" xlink:href=\"#DejaVuSans-104\"/><use x=\"124.462891\" xlink:href=\"#DejaVuSans-114\"/><use x=\"163.326172\" xlink:href=\"#DejaVuSans-101\"/><use x=\"224.849609\" xlink:href=\"#DejaVuSans-115\"/><use x=\"276.949219\" xlink:href=\"#DejaVuSans-104\"/><use x=\"340.328125\" xlink:href=\"#DejaVuSans-111\"/><use x=\"401.509766\" xlink:href=\"#DejaVuSans-108\"/><use x=\"429.292969\" xlink:href=\"#DejaVuSans-100\"/></g><path d=\"m73.015 348.92v-10\" fill=\"none\" stroke=\"#ff0000\" stroke-width=\"2\"/><use x=\"73.015\" y=\"348.915125\" fill=\"#ff0000\" stroke=\"#ff0000\" xlink:href=\"#m036244ddbe\"/><use x=\"73.015\" y=\"338.915125\" fill=\"#ff0000\" stroke=\"#ff0000\" xlink:href=\"#m036244ddbe\"/><path d=\"m63.015 343.92h20\" fill=\"none\" stroke=\"#ff0000\" stroke-linecap=\"square\" stroke-width=\"1.5\"/><use x=\"73.015\" y=\"343.915125\" fill=\"#ff0000\" stroke=\"#ff0000\" xlink:href=\"#mdc211a4163\"/><defs><path id=\"DejaVuSans-69\" d=\"m9.8125 72.906h46.094v-8.3125h-36.234v-21.578h34.719v-8.2969h-34.719v-26.422h37.109v-8.2969h-46.969z\"/><path id=\"DejaVuSans-120\" d=\"m54.891 54.688-19.781-26.609 20.797-28.078h-10.594l-15.922 21.484-15.906-21.484h-10.609l21.25 28.609-19.438 26.078h10.594l14.5-19.484 14.5 19.484z\"/><path id=\"DejaVuSans-40\" d=\"m31 75.875q-6.5312-11.219-9.7188-22.219-3.1719-10.984-3.1719-22.266 0-11.266 3.2031-22.328t9.6875-22.25h-7.8125q-7.3125 11.484-10.953 22.562t-3.6406 22.016q0 10.891 3.6094 21.922 3.625 11.047 10.984 22.562z\"/><path id=\"DejaVuSans-50\" d=\"m19.188 8.2969h34.422v-8.2969h-46.281v8.2969q5.6094 5.8125 15.297 15.594 9.7031 9.7969 12.188 12.641 4.7344 5.3125 6.6094 9 1.8906 3.6875 1.8906 7.25 0 5.8125-4.0781 9.4688-4.0781 3.6719-10.625 3.6719-4.6406 0-9.7969-1.6094-5.1406-1.6094-11-4.8906v9.9688q5.9531 2.3906 11.125 3.6094 5.1875 1.2188 9.4844 1.2188 11.328 0 18.062-5.6719 6.7344-5.6562 6.7344-15.125 0-4.5-1.6875-8.5312-1.6719-4.0156-6.125-9.4844-1.2188-1.4219-7.7656-8.1875-6.5312-6.7656-18.453-18.922z\"/><path id=\"DejaVuSans-Oblique-963\" d=\"m34.672 47.562q-7.4219 0-12.453-5.375-5.3281-5.6094-7.0781-14.891-1.9531-9.8125 1.1719-15.484 3.0781-5.6094 10.344-5.6094 7.1875 0 12.453 5.6562 5.3281 5.6719 7.2344 15.438 1.7031 8.9375-1.3281 14.891-2.8281 5.375-10.344 5.375zm1.4062 7.1719 29.844-0.046875-1.7656-8.9844h-10.047q3.7969-7.6094 1.75-18.406-2.6406-13.422-10.797-21.047-8.2031-7.6719-19.922-7.6719-11.766 0-16.938 7.6719-5.1719 7.625-2.5312 21.047 2.5781 13.469 10.734 21.094 6.7812 6.3438 19.672 6.3438z\"/><path id=\"DejaVuSans-41\" d=\"m8.0156 75.875h7.8125q7.3125-11.516 10.953-22.562 3.6406-11.031 3.6406-21.922 0-10.938-3.6406-22.016t-10.953-22.562h-7.8125q6.4844 11.188 9.6875 22.25t3.2031 22.328q0 11.281-3.2031 22.266-3.2031 11-9.6875 22.219z\"/></defs><g transform=\"translate(91.015 347.42) scale(.1 -.1)\"><use transform=\"translate(0 .125)\" xlink:href=\"#DejaVuSans-69\"/><use transform=\"translate(63.184 .125)\" xlink:href=\"#DejaVuSans-120\"/><use transform=\"translate(122.36 .125)\" xlink:href=\"#DejaVuSans-112\"/><use transform=\"translate(185.84 .125)\" xlink:href=\"#DejaVuSans-32\"/><use transform=\"translate(217.63 .125)\" xlink:href=\"#DejaVuSans-40\"/><use transform=\"translate(256.64 .125)\" xlink:href=\"#DejaVuSans-50\"/><use transform=\"translate(320.26 .125)\" xlink:href=\"#DejaVuSans-Oblique-963\"/><use transform=\"translate(383.64 .125)\" xlink:href=\"#DejaVuSans-32\"/><use transform=\"translate(415.43 .125)\" xlink:href=\"#DejaVuSans-101\"/><use transform=\"translate(476.95 .125)\" xlink:href=\"#DejaVuSans-114\"/><use transform=\"translate(518.07 .125)\" xlink:href=\"#DejaVuSans-114\"/><use transform=\"translate(559.18 .125)\" xlink:href=\"#DejaVuSans-111\"/><use transform=\"translate(620.36 .125)\" xlink:href=\"#DejaVuSans-114\"/><use transform=\"translate(661.47 .125)\" xlink:href=\"#DejaVuSans-41\"/></g><path d=\"m73.015 363.61v-10\" fill=\"none\" stroke=\"#0000ff\" stroke-width=\"2\"/><use x=\"73.015\" y=\"363.613562\" fill=\"#0000ff\" stroke=\"#0000ff\" xlink:href=\"#mfd43e6fa9e\"/><use x=\"73.015\" y=\"353.613562\" fill=\"#0000ff\" stroke=\"#0000ff\" xlink:href=\"#mfd43e6fa9e\"/><path d=\"m63.015 358.61h20\" fill=\"none\" stroke=\"#0000ff\" stroke-linecap=\"square\" stroke-width=\"1.5\"/><use x=\"73.015\" y=\"358.613562\" fill=\"#0000ff\" stroke=\"#0000ff\" xlink:href=\"#m5b66367fe5\"/><defs><path id=\"DejaVuSans-73\" d=\"m9.8125 72.906h9.8594v-72.906h-9.8594z\"/></defs><g transform=\"translate(91.015 362.11) scale(.1 -.1)\"><use transform=\"translate(0 .015625)\" xlink:href=\"#DejaVuSans-73\"/><use transform=\"translate(29.492 .015625)\" xlink:href=\"#DejaVuSans-100\"/><use transform=\"translate(92.969 .015625)\" xlink:href=\"#DejaVuSans-101\"/><use transform=\"translate(154.49 .015625)\" xlink:href=\"#DejaVuSans-97\"/><use transform=\"translate(215.77 .015625)\" xlink:href=\"#DejaVuSans-108\"/><use transform=\"translate(243.55 .015625)\" xlink:href=\"#DejaVuSans-32\"/><use transform=\"translate(275.34 .015625)\" xlink:href=\"#DejaVuSans-40\"/><use transform=\"translate(314.36 .015625)\" xlink:href=\"#DejaVuSans-50\"/><use transform=\"translate(377.98 .015625)\" xlink:href=\"#DejaVuSans-Oblique-963\"/><use transform=\"translate(441.36 .015625)\" xlink:href=\"#DejaVuSans-32\"/><use transform=\"translate(473.14 .015625)\" xlink:href=\"#DejaVuSans-101\"/><use transform=\"translate(534.67 .015625)\" xlink:href=\"#DejaVuSans-114\"/><use transform=\"translate(575.78 .015625)\" xlink:href=\"#DejaVuSans-114\"/><use transform=\"translate(616.89 .015625)\" xlink:href=\"#DejaVuSans-111\"/><use transform=\"translate(678.08 .015625)\" xlink:href=\"#DejaVuSans-114\"/><use transform=\"translate(719.19 .015625)\" xlink:href=\"#DejaVuSans-41\"/></g><defs><clipPath id=\"pc7ab7da68d\"><rect x=\"54.015\" y=\"47.033\" width=\"558\" height=\"326.16\"/></clipPath></defs></svg>"
      ],
      "text/plain": [
       "<Figure size 720x432 with 1 Axes>"
      ]
     },
     "metadata": {
      "needs_background": "light"
     },
     "output_type": "display_data"
    }
   ],
   "source": [
    "plt.figure(figsize=(10, 6))\n",
    "ax = plt.gca()\n",
    "\n",
    "# Plot the essence by calling plot_rb_data\n",
    "qv_fitter.plot_qv_data(ax=ax, show_plt=False)\n",
    "\n",
    "# Add title and label\n",
    "ax.set_title('Quantum Volume for up to %d Qubits \\n and %d Trials'%(len(qubit_lists[-1]), ntrials), fontsize=18)\n",
    "\n",
    "plt.show()"
   ]
  },
  {
   "cell_type": "markdown",
   "metadata": {},
   "source": [
    "### Step 7: Calculate the Quantum Volume\n",
    "\n",
    "\n",
    "The quantum volume treats the width and depth of a model circuit with equal importance and measures the largest square-shaped (i.e., $m = d$) model circuit a quantum computer can implement successfully on average. \n",
    "\n",
    "The *quantum volume* $V_Q$ is defined as\n",
    "\n",
    "\n",
    "$$\\log_2 V_Q = \\arg\\max_{m} \\min (m, d(m))$$\n",
    "\n"
   ]
  },
  {
   "cell_type": "markdown",
   "metadata": {},
   "source": [
    "We list the statistics for each depth. For each depth we list if the depth was successful or not and with what confidence interval. For a depth to be successful the confidence interval must be > 97.5%."
   ]
  },
  {
   "cell_type": "code",
   "execution_count": 15,
   "metadata": {},
   "outputs": [
    {
     "name": "stdout",
     "output_type": "stream",
     "text": [
      "Width/depth 3 greater than 2/3 (0.790439) with confidence 0.998822 (successful). Quantum volume 8\n",
      "Width/depth 4 greater than 2/3 (0.733740) with confidence 0.935429 (unsuccessful).\n",
      "Width/depth 5 greater than 2/3 (0.731826) with confidence 0.929333 (unsuccessful).\n",
      "Width/depth 6 less than 2/3 (unsuccessful).\n"
     ]
    }
   ],
   "source": [
    "qv_success_list = qv_fitter.qv_success()\n",
    "qv_list = qv_fitter.ydata\n",
    "QV = 1\n",
    "for qidx, qubit_list in enumerate(qubit_lists):\n",
    "    if qv_list[0][qidx]>2/3:\n",
    "        if qv_success_list[qidx][0]:\n",
    "            print(\"Width/depth %d greater than 2/3 (%f) with confidence %f (successful). Quantum volume %d\"%\n",
    "                  (len(qubit_list),qv_list[0][qidx],qv_success_list[qidx][1],qv_fitter.quantum_volume()[qidx]))\n",
    "            QV = qv_fitter.quantum_volume()[qidx]\n",
    "        else:\n",
    "            print(\"Width/depth %d greater than 2/3 (%f) with confidence %f (unsuccessful).\"%\n",
    "                  (len(qubit_list),qv_list[0][qidx],qv_success_list[qidx][1]))\n",
    "    else:\n",
    "        print(\"Width/depth %d less than 2/3 (unsuccessful).\"%len(qubit_list))"
   ]
  },
  {
   "cell_type": "code",
   "execution_count": 16,
   "metadata": {},
   "outputs": [
    {
     "name": "stdout",
     "output_type": "stream",
     "text": [
      "The Quantum Volume is: 8\n"
     ]
    }
   ],
   "source": [
    "print (\"The Quantum Volume is:\", QV) "
   ]
  },
  {
   "cell_type": "markdown",
   "metadata": {},
   "source": [
    "### References\n",
    "\n",
    "[1] Andrew W. Cross, Lev S. Bishop, Sarah Sheldon, Paul D. Nation, and Jay M. Gambetta, *Validating quantum computers using randomized model circuits*, Phys. Rev. A **100**, 032328 (2019). https://arxiv.org/pdf/1811.12926"
   ]
  },
  {
   "cell_type": "code",
   "execution_count": 17,
   "metadata": {
    "scrolled": false
   },
   "outputs": [
    {
     "data": {
      "text/html": [
       "<h3>Version Information</h3><table><tr><th>Qiskit Software</th><th>Version</th></tr><tr><td>Qiskit</td><td>0.27.0</td></tr><tr><td>Terra</td><td>0.17.4</td></tr><tr><td>Aer</td><td>0.8.2</td></tr><tr><td>Ignis</td><td>0.6.0</td></tr><tr><td>Aqua</td><td>0.9.2</td></tr><tr><td>IBM Q Provider</td><td>0.14.0</td></tr><tr><th>System information</th></tr><tr><td>Python</td><td>3.7.7 (default, May  6 2020, 04:59:01) \n",
       "[Clang 4.0.1 (tags/RELEASE_401/final)]</td></tr><tr><td>OS</td><td>Darwin</td></tr><tr><td>CPUs</td><td>8</td></tr><tr><td>Memory (Gb)</td><td>32.0</td></tr><tr><td colspan='2'>Thu Jun 17 16:25:25 2021 BST</td></tr></table>"
      ],
      "text/plain": [
       "<IPython.core.display.HTML object>"
      ]
     },
     "metadata": {},
     "output_type": "display_data"
    }
   ],
   "source": [
    "import qiskit.tools.jupyter\n",
    "%qiskit_version_table"
   ]
  }
 ],
 "metadata": {
  "kernelspec": {
   "display_name": "Python 3",
   "language": "python",
   "name": "python3"
  },
  "language_info": {
   "codemirror_mode": {
    "name": "ipython",
    "version": 3
   },
   "file_extension": ".py",
   "mimetype": "text/x-python",
   "name": "python",
   "nbconvert_exporter": "python",
   "pygments_lexer": "ipython3",
   "version": "3.9"
  }
 },
 "nbformat": 4,
 "nbformat_minor": 2
}
