{
 "cells": [
  {
   "cell_type": "markdown",
   "metadata": {
    "tags": [
     "remove_cell"
    ]
   },
   "source": [
    "# Representing Qubit States"
   ]
  },
  {
   "cell_type": "markdown",
   "metadata": {},
   "source": [
    "You now know something about bits, and about how our familiar digital computers work. All the complex variables, objects and data structures used in modern software are basically all just big piles of bits. Those of us who work on quantum computing call these *classical variables.* The computers that use them, like the one you are using to read this article, we call *classical computers*.\n",
    "\n",
    "In quantum computers, our basic variable is the _qubit:_ a quantum variant of the bit. These have exactly the same restrictions as normal bits do: they can store only a single binary piece of information, and can only ever give us an output of `0` or `1`. However, they can also be manipulated in ways that can only be described by quantum mechanics. This gives us new gates to play with, allowing us to find new ways to design algorithms.\n",
    "\n",
    "To fully understand these new gates, we first need to understand how to write down qubit states. For this we will use the mathematics of vectors, matrices, and complex numbers. Though we will introduce these concepts as we go, it would be best if you are comfortable with them already. If you need a more in-depth explanation or a refresher, you can find the guide [here](https://qiskit.org/textbook/ch-appendix/linear_algebra.html).\n",
    "\n",
    "\n",
    "\n",
    "\n",
    "## Contents\n",
    "\n",
    "1. [Classical vs Quantum Bits](#cvsq)    \n",
    "    1.1 [Statevectors](#statevectors)      \n",
    "    1.2 [Qubit Notation](#notation)    \n",
    "    1.3 [Exploring Qubits with Qiskit](#exploring-qubits)    \n",
    "2. [The Rules of Measurement](#rules-measurement)    \n",
    "    2.1 [A Very Important Rule](#important-rule)    \n",
    "    2.2 [The Implications of this Rule](#implications)\n",
    "3. [The Bloch Sphere](#bloch-sphere)    \n",
    "    3.1 [Describing the Restricted Qubit State](#bloch-sphere-1)     \n",
    "    3.2 [Visually Representing a Qubit State](#bloch-sphere-2)     \n"
   ]
  },
  {
   "cell_type": "markdown",
   "metadata": {},
   "source": [
    "## 1. Classical vs Quantum Bits <a id=\"cvsq\"></a>\n",
    "\n",
    "### 1.1 Statevectors<a id=\"statevectors\"></a>\n",
    "\n",
    "In quantum physics we use _statevectors_ to describe the state of our system. Say we wanted to describe the position of a car along a track, this is a classical system so we could use a number $x$:\n",
    "\n",
    "![tracking a car with scalars](images/car_track_1.jpg)\n",
    "\n",
    "$$ x=4 $$\n",
    "\n",
    "Alternatively, we could instead use a collection of numbers in a vector called a  _statevector._ Each element in the statevector contains the probability of finding the car in a certain place:\n",
    "\n",
    "![tracking a car with vectors](images/car_track_2.jpg)\n",
    "\n",
    "$$\n",
    "|x\\rangle = \\begin{bmatrix} 0\\\\ \\vdots \\\\ 0 \\\\ 1 \\\\ 0 \\\\ \\vdots \\\\ 0 \\end{bmatrix} \n",
    "            \\begin{matrix} \\\\  \\\\  \\\\ \\leftarrow \\\\  \\\\  \\\\  \\\\ \\end{matrix}\n",
    "             \\begin{matrix} \\\\  \\\\ \\text{Probability of} \\\\ \\text{car being at} \\\\ \\text{position 4} \\\\  \\\\  \\\\ \\end{matrix}   \n",
    "$$\n",
    "\n",
    "This isn’t limited to position, we could also keep a statevector of all the possible speeds the car could have, and all the possible colours the car could be. With classical systems (like the car example above), this is a silly thing to do as it requires keeping huge vectors when we only really need one number. But as we will see in this chapter, statevectors happen to be a very good way of keeping track of quantum systems, including quantum computers.\n",
    "\n",
    "\n",
    "### 1.2 Qubit Notation <a id=\"notation\"></a>\n",
    "\n",
    "Classical bits always have a completely well-defined state: they are either `0` or `1` at every point during a computation. There is no more detail we can add to the state of a bit than this. So to write down the state of a of classical bit (`c`), we can just use these two binary values. For example:\n",
    "\n",
    "    c = 0\n",
    "\n",
    "This restriction is lifted for quantum bits. Whether we get a `0` or a `1` from a qubit only needs to be well-defined when a measurement is made to extract an output. At that point, it must commit to one of these two options. At all other times, its state will be something more complex than can be captured by a simple binary value.\n",
    "\n",
    "To see how to describe these, we can first focus on the two simplest cases. As we saw in the last section, it is possible to prepare a qubit in a state for which it definitely gives the outcome `0` when measured.\n",
    "\n",
    "We need a name for this state. Let's be unimaginative and call it $0$ . Similarly, there exists a qubit state that is certain to output a `1`. We'll call this $1$. These two states are completely mutually exclusive. Either the qubit definitely outputs a ```0```, or it definitely outputs a ```1```. There is no overlap. One way to represent this with mathematics is to use two orthogonal vectors.\n",
    "\n",
    "$$\n",
    "|0\\rangle = \\begin{bmatrix} 1 \\\\ 0 \\end{bmatrix} \\, \\, \\, \\, |1\\rangle =\\begin{bmatrix} 0 \\\\ 1 \\end{bmatrix}.\n",
    "$$\n",
    "\n",
    "This is a lot of notation to take in all at once. First, let's unpack the weird $|$ and $\\rangle$. Their job is essentially just to remind us that we are talking about the vectors that represent qubit states labelled $0$ and $1$. This helps us distinguish them from things like the bit values ```0``` and ```1``` or the numbers 0 and 1. It is part of the bra-ket notation, introduced by Dirac.\n",
    "\n",
    "If you are not familiar with vectors, you can essentially just think of them as lists of numbers which we manipulate using certain rules. If you are familiar with vectors from your high school physics classes, you'll know that these rules make vectors well-suited for describing quantities with a magnitude and a direction. For example, the velocity of an object is described perfectly with a vector. However, the way we use vectors for quantum states is slightly different to this, so don't hold on too hard to your previous intuition. It's time to do something new!\n",
    "\n",
    "With vectors we can describe more complex states than just $|0\\rangle$ and $|1\\rangle$. For example, consider the vector\n",
    "\n",
    "$$\n",
    "|q_0\\rangle = \\begin{bmatrix} \\tfrac{1}{\\sqrt{2}} \\\\ \\tfrac{i}{\\sqrt{2}} \\end{bmatrix} .\n",
    "$$\n",
    "\n",
    "To understand what this state means, we'll need to use the mathematical rules for manipulating vectors. Specifically, we'll need to understand how to add vectors together and how to multiply them by scalars.\n",
    "\n",
    "<details>\n",
    "<summary>Reminder: Matrix Addition and Multiplication by Scalars (Click here to expand)</summary>\n",
    "To add two vectors, we add their elements together:\n",
    "\n",
    "$$\n",
    "|a\\rangle = \\begin{bmatrix}a_0 \\\\ a_1 \\\\ \\vdots \\\\ a_n \\end{bmatrix}, \\quad\n",
    "|b\\rangle = \\begin{bmatrix}b_0 \\\\ b_1 \\\\ \\vdots \\\\ b_n \\end{bmatrix}\n",
    "$$\n",
    "\n",
    "$$\n",
    "|a\\rangle + |b\\rangle = \\begin{bmatrix}a_0 + b_0 \\\\ a_1 + b_1 \\\\ \\vdots \\\\ a_n + b_n \\end{bmatrix}\n",
    "$$\n",
    "\n",
    "And to multiply a vector by a scalar, we multiply each element by the scalar:\n",
    "\n",
    "$$ x|a\\rangle = \\begin{bmatrix}x \\times a_0 \\\\ x \\times  a_1 \\\\ \\vdots \\\\ x \\times  a_n \\end{bmatrix}$$\n",
    "\n",
    "These two rules are used to rewrite the vector $|q_0\\rangle$ (as shown above):\n",
    "\n",
    "$$\n",
    "\\begin{aligned} \n",
    "|q_0\\rangle & = \\tfrac{1}{\\sqrt{2}}|0\\rangle + \\tfrac{i}{\\sqrt{2}}|1\\rangle \\\\\n",
    "& = \\tfrac{1}{\\sqrt{2}}\\begin{bmatrix}1\\\\0\\end{bmatrix} + \\tfrac{i}{\\sqrt{2}}\\begin{bmatrix}0\\\\1\\end{bmatrix}\\\\\n",
    "& = \\begin{bmatrix}\\tfrac{1}{\\sqrt{2}}\\\\0\\end{bmatrix} + \\begin{bmatrix}0\\\\\\tfrac{i}{\\sqrt{2}}\\end{bmatrix}\\\\\n",
    "& = \\begin{bmatrix}\\tfrac{1}{\\sqrt{2}} \\\\ \\tfrac{i}{\\sqrt{2}} \\end{bmatrix}\\\\\n",
    "\\end{aligned}\n",
    "$$\n",
    "\n",
    "</details>\n",
    "\n",
    "<details>\n",
    "  <summary>Reminder: Orthonormal Bases (Click here to expand)</summary>\n",
    "  <p>\n",
    "      It was stated before that the two vectors $|0\\rangle$ and $|1\\rangle$ are orthonormal, this means they are both <i>orthogonal</i> and <i>normalised</i>. Orthogonal means the vectors are at right angles:\n",
    "  </p><p><img src=\"images/basis.svg\"></p>\n",
    "  <p>And normalised means their magnitudes (length of the arrow) is equal to 1. The two vectors $|0\\rangle$ and $|1\\rangle$ are <i>linearly independent</i>, which means we cannot describe $|0\\rangle$ in terms of $|1\\rangle$, and vice versa. However, using both the vectors $|0\\rangle$ and $|1\\rangle$, and our rules of addition and multiplication by scalars, we can describe all possible vectors in 2D space:\n",
    "    </p><p><img src=\"images/basis2.svg\"></p>\n",
    "  <p>Because the vectors $|0\\rangle$ and $|1\\rangle$ are linearly independent, and can be used to describe any vector in 2D space using vector addition and scalar multiplication, we say the vectors $|0\\rangle$ and $|1\\rangle$ form a <i>basis</i>. In this case, since they are both orthogonal and normalised, we call it an <i>orthonormal basis</i>.\n",
    "</details>\n",
    "\n",
    "Since the states $|0\\rangle$ and $|1\\rangle$ form an orthonormal basis, we can represent any 2D vector with a combination of these two states. This allows us to write the state of our qubit in the alternative form:\n",
    "\n",
    "$$ |q_0\\rangle = \\tfrac{1}{\\sqrt{2}}|0\\rangle + \\tfrac{i}{\\sqrt{2}}|1\\rangle $$\n",
    "\n",
    "This vector, $|q_0\\rangle$ is called the qubit's _statevector,_ it tells us everything we could possibly know about this qubit. For now, we are only able to draw a few simple conclusions about this particular example of a statevector: it is not entirely $|0\\rangle$ and not entirely $|1\\rangle$. Instead, it is described by a linear combination of the two. In quantum mechanics, we typically describe linear combinations such as this using the word 'superposition'.\n",
    "\n",
    "Though our example state $|q_0\\rangle$ can be expressed as a superposition of $|0\\rangle$ and $|1\\rangle$, it is no less a definite and well-defined qubit state than they are. To see this, we can begin to explore how a qubit can be manipulated.\n",
    "\n",
    "### 1.3 Exploring Qubits with Qiskit <a id=\"exploring-qubits\"></a>\n",
    "\n",
    "First, we need to import all the tools we will need:"
   ]
  },
  {
   "cell_type": "code",
   "execution_count": 1,
   "metadata": {
    "tags": [
     "thebelab-init"
    ]
   },
   "outputs": [],
   "source": [
    "from qiskit import QuantumCircuit, assemble, Aer\n",
    "from qiskit.visualization import plot_histogram, plot_bloch_vector\n",
    "from math import sqrt, pi"
   ]
  },
  {
   "cell_type": "markdown",
   "metadata": {},
   "source": [
    "In Qiskit, we use the `QuantumCircuit` object to store our circuits, this is essentially a list of the quantum operations on our circuit and the qubits they are applied to."
   ]
  },
  {
   "cell_type": "code",
   "execution_count": 2,
   "metadata": {},
   "outputs": [],
   "source": [
    "qc = QuantumCircuit(1) # Create a quantum circuit with one qubit"
   ]
  },
  {
   "cell_type": "markdown",
   "metadata": {},
   "source": [
    "In our quantum circuits, our qubits always start out in the state $|0\\rangle$. We can use the `initialize()` method to transform this into any state. We give `initialize()` the vector we want in the form of a list, and tell it which qubit(s) we want to initialize in this state:"
   ]
  },
  {
   "cell_type": "code",
   "execution_count": 3,
   "metadata": {},
   "outputs": [
    {
     "data": {
      "image/svg+xml": [
       "<?xml version=\"1.0\" encoding=\"UTF-8\"?><!DOCTYPE svg  PUBLIC '-//W3C//DTD SVG 1.1//EN'  'http://www.w3.org/Graphics/SVG/1.1/DTD/svg11.dtd'><svg width=\"117.22pt\" height=\"79.296pt\" version=\"1.1\" viewBox=\"0 0 117.22 79.296\" xmlns=\"http://www.w3.org/2000/svg\" xmlns:xlink=\"http://www.w3.org/1999/xlink\"><defs><style type=\"text/css\">*{stroke-linejoin: round; stroke-linecap: butt}</style></defs><path d=\"m0 79.296h117.22v-79.296h-117.22z\" fill=\"#ffffff\"/><path d=\"m54.39 44.283h50.989\" clip-path=\"url(#p3d722a6ac2)\" fill=\"none\" stroke=\"#000000\" stroke-linecap=\"square\" stroke-width=\"2\"/><path d=\"m64.356 59.348h30.13v-30.13h-30.13z\" clip-path=\"url(#p3d722a6ac2)\" fill=\"#6929c4\" stroke=\"#6929c4\" stroke-width=\"1.5\"/><g clip-path=\"url(#p3d722a6ac2)\"><g transform=\"translate(34.719 48.734) scale(.1625 -.1625)\"><defs><path id=\"DejaVuSans-Oblique-71\" transform=\"scale(.015625)\" d=\"m2669 525q-231-303-546-460-314-156-695-156-531 0-833 358-301 358-301 986 0 506 186 978t533 847q225 244 517 375t614 131q387 0 637-153t363-462l100 525h578l-934-4813h-579l360 1844zm-1778 813q0-463 193-705 194-242 560-242 544 0 928 520t384 1264q0 450-199 689-198 239-569 239-272 0-504-127-231-126-403-370-181-256-286-600-104-343-104-668z\"/></defs><use xlink:href=\"#DejaVuSans-Oblique-71\"/></g></g><g clip-path=\"url(#p3d722a6ac2)\"><g transform=\"translate(69.141 55.53) scale(.08 -.08)\" fill=\"#ffffff\"><defs><path id=\"DejaVuSans-5b\" transform=\"scale(.015625)\" d=\"m550 4863h1325v-447h-750v-4813h750v-447h-1325v5707z\"/><path id=\"DejaVuSans-30\" transform=\"scale(.015625)\" d=\"m2034 4250q-487 0-733-480-245-479-245-1442 0-959 245-1439 246-480 733-480 491 0 736 480 246 480 246 1439 0 963-246 1442-245 480-736 480zm0 500q785 0 1199-621 414-620 414-1801 0-1178-414-1799-414-620-1199-620-784 0-1198 620-414 621-414 1799 0 1181 414 1801 414 621 1198 621z\"/><path id=\"DejaVuSans-2c\" transform=\"scale(.015625)\" d=\"m750 794h659v-538l-512-1e3h-403l256 1e3v538z\"/><path id=\"DejaVuSans-31\" transform=\"scale(.015625)\" d=\"m794 531h1031v3560l-1122-225v575l1116 225h631v-4135h1031v-531h-2687v531z\"/><path id=\"DejaVuSans-5d\" transform=\"scale(.015625)\" d=\"m1947 4863v-5707h-1325v447h747v4813h-747v447h1325z\"/></defs><use transform=\"translate(0 .015625)\" xlink:href=\"#DejaVuSans-5b\"/><use transform=\"translate(39.014 .015625)\" xlink:href=\"#DejaVuSans-30\"/><use transform=\"translate(102.64 .015625)\" xlink:href=\"#DejaVuSans-2c\"/><use transform=\"translate(153.91 .015625)\" xlink:href=\"#DejaVuSans-31\"/><use transform=\"translate(217.53 .015625)\" xlink:href=\"#DejaVuSans-5d\"/></g></g><g clip-path=\"url(#p3d722a6ac2)\"><g transform=\"translate(70.386 43.209) scale(.13 -.13)\" fill=\"#ffffff\"><defs><path id=\"DejaVuSans-7c\" transform=\"scale(.015625)\" d=\"m1344 4891v-6400h-531v6400h531z\"/><path id=\"DejaVuSans-Oblique-3c8\" transform=\"scale(.015625)\" d=\"m1591-78q-700 116-975 419-338 372-191 1131l394 2028h581l-391-2006q-109-572 110-810 194-206 572-250l593 3066h572l-593-3062q418 43 665 250 319 262 425 809l388 2003h581l-394-2025q-153-787-628-1131-428-310-1137-419l-244-1256h-572l244 1253z\"/><path id=\"DejaVuSans-27e9\" transform=\"scale(.015625)\" d=\"m1925 2006-881-2850h-531l881 2850-881 2850h531l881-2850z\"/></defs><use transform=\"translate(0 .57812)\" xlink:href=\"#DejaVuSans-7c\"/><use transform=\"translate(33.691 .57812)\" xlink:href=\"#DejaVuSans-Oblique-3c8\"/><use transform=\"translate(99.658 .57812)\" xlink:href=\"#DejaVuSans-27e9\"/></g></g><defs><clipPath id=\"p3d722a6ac2\"><rect x=\"7.2\" y=\"7.2\" width=\"102.82\" height=\"64.896\"/></clipPath></defs></svg>"
      ],
      "text/plain": [
       "<Figure size 185.453x117.056 with 1 Axes>"
      ]
     },
     "execution_count": 3,
     "metadata": {},
     "output_type": "execute_result"
    }
   ],
   "source": [
    "qc = QuantumCircuit(1)  # Create a quantum circuit with one qubit\n",
    "initial_state = [0,1]   # Define initial_state as |1>\n",
    "qc.initialize(initial_state, 0) # Apply initialisation operation to the 0th qubit\n",
    "qc.draw()  # Let's view our circuit"
   ]
  },
  {
   "cell_type": "markdown",
   "metadata": {},
   "source": [
    "We can then use one of Qiskit’s simulators to view the resulting state of our qubit."
   ]
  },
  {
   "cell_type": "code",
   "execution_count": 4,
   "metadata": {
    "tags": [
     "thebelab-init"
    ]
   },
   "outputs": [],
   "source": [
    "sim = Aer.get_backend('aer_simulator')  # Tell Qiskit how to simulate our circuit"
   ]
  },
  {
   "cell_type": "markdown",
   "metadata": {},
   "source": [
    "To get the results from our circuit, we use `run` to execute our circuit, giving the circuit and the backend as arguments. We then use `.result()` to get the result of this:"
   ]
  },
  {
   "cell_type": "code",
   "execution_count": 5,
   "metadata": {},
   "outputs": [],
   "source": [
    "qc = QuantumCircuit(1)  # Create a quantum circuit with one qubit\n",
    "initial_state = [0,1]   # Define initial_state as |1>\n",
    "qc.initialize(initial_state, 0) # Apply initialisation operation to the 0th qubit\n",
    "qc.save_statevector()   # Tell simulator to save statevector\n",
    "qobj = assemble(qc)     # Create a Qobj from the circuit for the simulator to run\n",
    "result = sim.run(qobj).result() # Do the simulation and return the result"
   ]
  },
  {
   "cell_type": "markdown",
   "metadata": {},
   "source": [
    "from `result`, we can then get the final statevector using `.get_statevector()`:"
   ]
  },
  {
   "cell_type": "code",
   "execution_count": 6,
   "metadata": {},
   "outputs": [
    {
     "name": "stdout",
     "output_type": "stream",
     "text": [
      "Statevector([0.+0.j, 1.+0.j],\n",
      "            dims=(2,))\n"
     ]
    }
   ],
   "source": [
    "out_state = result.get_statevector()\n",
    "print(out_state) # Display the output state vector"
   ]
  },
  {
   "cell_type": "markdown",
   "metadata": {},
   "source": [
    "**Note:** Python uses `j` to represent $i$ in complex numbers. We see a vector with two complex elements: `0.+0.j` = 0, and `1.+0.j` = 1.\n",
    "\n",
    "Let’s now measure our qubit as we would in a real quantum computer and see the result:"
   ]
  },
  {
   "cell_type": "code",
   "execution_count": 7,
   "metadata": {},
   "outputs": [
    {
     "data": {
      "image/svg+xml": [
       "<?xml version=\"1.0\" encoding=\"UTF-8\"?><!DOCTYPE svg  PUBLIC '-//W3C//DTD SVG 1.1//EN'  'http://www.w3.org/Graphics/SVG/1.1/DTD/svg11.dtd'><svg width=\"336.17pt\" height=\"125.65pt\" version=\"1.1\" viewBox=\"0 0 336.17 125.65\" xmlns=\"http://www.w3.org/2000/svg\" xmlns:xlink=\"http://www.w3.org/1999/xlink\"><defs><style type=\"text/css\">*{stroke-linejoin: round; stroke-linecap: butt}</style></defs><path d=\"m0 125.65h336.17v-125.65h-336.17z\" fill=\"#ffffff\"/><path d=\"m292.35 80.092h12.052l-6.026 8.6914z\" clip-path=\"url(#p8c2f57a27e)\" fill=\"#778899\"/><path d=\"m87.926 44.283h236.41\" clip-path=\"url(#p8c2f57a27e)\" fill=\"none\" stroke=\"#000000\" stroke-linecap=\"square\" stroke-width=\"2\"/><path d=\"m87.926 89.131h236.41\" clip-path=\"url(#p8c2f57a27e)\" fill=\"none\" stroke=\"#778899\" stroke-linecap=\"square\" stroke-width=\"2\"/><path d=\"m87.926 92.144h236.41\" clip-path=\"url(#p8c2f57a27e)\" fill=\"none\" stroke=\"#778899\" stroke-linecap=\"square\" stroke-width=\"2\"/><path d=\"m97.197 95.273 4.6354-9.2708\" clip-path=\"url(#p8c2f57a27e)\" fill=\"none\" stroke=\"#778899\" stroke-linecap=\"square\"/><path d=\"m173.45 67.46h18.078v-30.13h-18.078z\" clip-path=\"url(#p8c2f57a27e)\" fill=\"#bdbdbd\" opacity=\".6\"/><path d=\"m242.98 67.46h18.078v-46.354h-18.078z\" clip-path=\"url(#p8c2f57a27e)\" fill=\"#bdbdbd\" opacity=\".6\"/><path d=\"m299.88 44.283v35.808\" clip-path=\"url(#p8c2f57a27e)\" fill=\"none\" stroke=\"#778899\" stroke-linecap=\"square\" stroke-width=\"2\"/><path d=\"m296.87 44.283v35.808\" clip-path=\"url(#p8c2f57a27e)\" fill=\"none\" stroke=\"#778899\" stroke-linecap=\"square\" stroke-width=\"2\"/><path d=\"m97.892 59.348h30.13v-30.13h-30.13z\" clip-path=\"url(#p8c2f57a27e)\" fill=\"#6929c4\" stroke=\"#6929c4\" stroke-width=\"1.5\"/><path d=\"m283.31 59.348h30.13v-30.13h-30.13z\" clip-path=\"url(#p8c2f57a27e)\" fill=\"#121619\" stroke=\"#121619\" stroke-width=\"1.5\"/><path d=\"m308.92 48.803c0-2.7958-1.1118-5.4799-3.0887-7.4568s-4.661-3.0887-7.4568-3.0887-5.4799 1.1118-7.4568 3.0887-3.0887 4.661-3.0887 7.4568\" clip-path=\"url(#p8c2f57a27e)\" fill=\"none\" stroke=\"#ffffff\" stroke-width=\"2\"/><path d=\"m298.37 48.803 10.546-10.546\" clip-path=\"url(#p8c2f57a27e)\" fill=\"none\" stroke=\"#ffffff\" stroke-linecap=\"square\" stroke-width=\"2\"/><g clip-path=\"url(#p8c2f57a27e)\"><g transform=\"translate(68.255 48.734) scale(.1625 -.1625)\"><defs><path id=\"DejaVuSans-Oblique-71\" transform=\"scale(.015625)\" d=\"m2669 525q-231-303-546-460-314-156-695-156-531 0-833 358-301 358-301 986 0 506 186 978t533 847q225 244 517 375t614 131q387 0 637-153t363-462l100 525h578l-934-4813h-579l360 1844zm-1778 813q0-463 193-705 194-242 560-242 544 0 928 520t384 1264q0 450-199 689-198 239-569 239-272 0-504-127-231-126-403-370-181-256-286-600-104-343-104-668z\"/></defs><use xlink:href=\"#DejaVuSans-Oblique-71\"/></g></g><g clip-path=\"url(#p8c2f57a27e)\"><g transform=\"translate(92.561 83.839) scale(.104 -.104)\"><defs><path id=\"DejaVuSans-31\" transform=\"scale(.015625)\" d=\"m794 531h1031v3560l-1122-225v575l1116 225h631v-4135h1031v-531h-2687v531z\"/></defs><use xlink:href=\"#DejaVuSans-31\"/></g></g><g clip-path=\"url(#p8c2f57a27e)\"><g transform=\"translate(34.404 95.121) scale(.1625 -.1625)\"><defs><path id=\"DejaVuSans-6d\" transform=\"scale(.015625)\" d=\"m3328 2828q216 388 516 572t706 184q547 0 844-383 297-382 297-1088v-2113h-578v2094q0 503-179 746-178 244-543 244-447 0-707-297-259-296-259-809v-1978h-578v2094q0 506-178 748t-550 242q-441 0-701-298-259-298-259-808v-1978h-578v3500h578v-544q197 322 472 475t653 153q382 0 649-194 267-193 395-562z\"/><path id=\"DejaVuSans-65\" transform=\"scale(.015625)\" d=\"m3597 1894v-281h-2644q38-594 358-905t892-311q331 0 642 81t618 244v-544q-310-131-635-200t-659-69q-838 0-1327 487-489 488-489 1320 0 859 464 1363 464 505 1252 505 706 0 1117-455 411-454 411-1235zm-575 169q-6 471-264 752-258 282-683 282-481 0-770-272t-333-766l2050 4z\"/><path id=\"DejaVuSans-61\" transform=\"scale(.015625)\" d=\"m2194 1759q-697 0-966-159t-269-544q0-306 202-486 202-179 548-179 479 0 768 339t289 901v128h-572zm1147 238v-1997h-575v531q-197-318-491-470t-719-152q-537 0-855 302-317 302-317 808 0 590 395 890 396 300 1180 300h807v57q0 397-261 614t-733 217q-300 0-585-72-284-72-546-216v532q315 122 612 182 297 61 578 61 760 0 1135-394 375-393 375-1193z\"/><path id=\"DejaVuSans-73\" transform=\"scale(.015625)\" d=\"m2834 3397v-544q-243 125-506 187-262 63-544 63-428 0-642-131t-214-394q0-200 153-314t616-217l197-44q612-131 870-370t258-667q0-488-386-773-386-284-1061-284-281 0-586 55t-642 164v594q319-166 628-249 309-82 613-82 406 0 624 139 219 139 219 392 0 234-158 359-157 125-692 241l-200 47q-534 112-772 345-237 233-237 639 0 494 350 762 350 269 994 269 318 0 599-47 282-46 519-140z\"/></defs><use xlink:href=\"#DejaVuSans-6d\"/><use x=\"97.412109\" xlink:href=\"#DejaVuSans-65\"/><use x=\"158.935547\" xlink:href=\"#DejaVuSans-61\"/><use x=\"220.214844\" xlink:href=\"#DejaVuSans-73\"/></g></g><g clip-path=\"url(#p8c2f57a27e)\"><g transform=\"translate(102.68 55.53) scale(.08 -.08)\" fill=\"#ffffff\"><defs><path id=\"DejaVuSans-5b\" transform=\"scale(.015625)\" d=\"m550 4863h1325v-447h-750v-4813h750v-447h-1325v5707z\"/><path id=\"DejaVuSans-30\" transform=\"scale(.015625)\" d=\"m2034 4250q-487 0-733-480-245-479-245-1442 0-959 245-1439 246-480 733-480 491 0 736 480 246 480 246 1439 0 963-246 1442-245 480-736 480zm0 500q785 0 1199-621 414-620 414-1801 0-1178-414-1799-414-620-1199-620-784 0-1198 620-414 621-414 1799 0 1181 414 1801 414 621 1198 621z\"/><path id=\"DejaVuSans-2c\" transform=\"scale(.015625)\" d=\"m750 794h659v-538l-512-1e3h-403l256 1e3v538z\"/><path id=\"DejaVuSans-5d\" transform=\"scale(.015625)\" d=\"m1947 4863v-5707h-1325v447h747v4813h-747v447h1325z\"/></defs><use transform=\"translate(0 .015625)\" xlink:href=\"#DejaVuSans-5b\"/><use transform=\"translate(39.014 .015625)\" xlink:href=\"#DejaVuSans-30\"/><use transform=\"translate(102.64 .015625)\" xlink:href=\"#DejaVuSans-2c\"/><use transform=\"translate(153.91 .015625)\" xlink:href=\"#DejaVuSans-31\"/><use transform=\"translate(217.53 .015625)\" xlink:href=\"#DejaVuSans-5d\"/></g></g><g clip-path=\"url(#p8c2f57a27e)\"><g transform=\"translate(103.92 43.209) scale(.13 -.13)\" fill=\"#ffffff\"><defs><path id=\"DejaVuSans-7c\" transform=\"scale(.015625)\" d=\"m1344 4891v-6400h-531v6400h531z\"/><path id=\"DejaVuSans-Oblique-3c8\" transform=\"scale(.015625)\" d=\"m1591-78q-700 116-975 419-338 372-191 1131l394 2028h581l-391-2006q-109-572 110-810 194-206 572-250l593 3066h572l-593-3062q418 43 665 250 319 262 425 809l388 2003h581l-394-2025q-153-787-628-1131-428-310-1137-419l-244-1256h-572l244 1253z\"/><path id=\"DejaVuSans-27e9\" transform=\"scale(.015625)\" d=\"m1925 2006-881-2850h-531l881 2850-881 2850h531l881-2850z\"/></defs><use transform=\"translate(0 .57812)\" xlink:href=\"#DejaVuSans-7c\"/><use transform=\"translate(33.691 .57812)\" xlink:href=\"#DejaVuSans-Oblique-3c8\"/><use transform=\"translate(99.658 .57812)\" xlink:href=\"#DejaVuSans-27e9\"/></g></g><path d=\"m182.49 37.33v30.13\" clip-path=\"url(#p8c2f57a27e)\" fill=\"none\" stroke=\"#000000\" stroke-dasharray=\"3.7,1.6\"/><g clip-path=\"url(#p8c2f57a27e)\"><g transform=\"translate(145.4 34.577) scale(.13 -.13)\"><defs><path id=\"DejaVuSans-74\" transform=\"scale(.015625)\" d=\"m1172 4494v-994h1184v-447h-1184v-1900q0-428 117-550t477-122h590v-481h-590q-666 0-919 248-253 249-253 905v1900h-422v447h422v994h578z\"/><path id=\"DejaVuSans-76\" transform=\"scale(.015625)\" d=\"m191 3500h609l1094-2937 1094 2937h609l-1313-3500h-781l-1312 3500z\"/><path id=\"DejaVuSans-63\" transform=\"scale(.015625)\" d=\"m3122 3366v-538q-244 135-489 202t-495 67q-560 0-870-355-309-354-309-995t309-996q310-354 870-354 250 0 495 67t489 202v-532q-241-112-499-168-257-57-548-57-791 0-1257 497-465 497-465 1341 0 856 470 1346 471 491 1290 491 265 0 518-55 253-54 491-163z\"/><path id=\"DejaVuSans-6f\" transform=\"scale(.015625)\" d=\"m1959 3097q-462 0-731-361t-269-989 267-989q268-361 733-361 460 0 728 362 269 363 269 988 0 622-269 986-268 364-728 364zm0 487q750 0 1178-488 429-487 429-1349 0-859-429-1349-428-489-1178-489-753 0-1180 489-426 490-426 1349 0 862 426 1349 427 488 1180 488z\"/><path id=\"DejaVuSans-72\" transform=\"scale(.015625)\" d=\"m2631 2963q-97 56-211 82-114 27-251 27-488 0-749-317t-261-911v-1844h-578v3500h578v-544q182 319 472 473 291 155 707 155 59 0 131-8 72-7 159-23l3-590z\"/></defs><use xlink:href=\"#DejaVuSans-73\"/><use x=\"52.099609\" xlink:href=\"#DejaVuSans-74\"/><use x=\"91.308594\" xlink:href=\"#DejaVuSans-61\"/><use x=\"152.587891\" xlink:href=\"#DejaVuSans-74\"/><use x=\"191.796875\" xlink:href=\"#DejaVuSans-65\"/><use x=\"253.320312\" xlink:href=\"#DejaVuSans-76\"/><use x=\"312.5\" xlink:href=\"#DejaVuSans-65\"/><use x=\"374.023438\" xlink:href=\"#DejaVuSans-63\"/><use x=\"429.003906\" xlink:href=\"#DejaVuSans-74\"/><use x=\"468.212891\" xlink:href=\"#DejaVuSans-6f\"/><use x=\"529.394531\" xlink:href=\"#DejaVuSans-72\"/></g></g><path d=\"m252.02 21.106v46.354\" clip-path=\"url(#p8c2f57a27e)\" fill=\"none\" stroke=\"#000000\" stroke-dasharray=\"3.7,1.6\"/><g clip-path=\"url(#p8c2f57a27e)\"><g transform=\"translate(309.96 83.839) scale(.104 -.104)\"><use xlink:href=\"#DejaVuSans-30\"/></g></g><defs><clipPath id=\"p8c2f57a27e\"><rect x=\"7.2\" y=\"7.2\" width=\"321.77\" height=\"111.25\"/></clipPath></defs></svg>"
      ],
      "text/plain": [
       "<Figure size 580.387x200.667 with 1 Axes>"
      ]
     },
     "execution_count": 7,
     "metadata": {},
     "output_type": "execute_result"
    }
   ],
   "source": [
    "qc.measure_all()\n",
    "qc.draw()"
   ]
  },
  {
   "cell_type": "markdown",
   "metadata": {},
   "source": [
    "This time, instead of the statevector we will get the counts for the `0` and `1` results using `.get_counts()`:"
   ]
  },
  {
   "cell_type": "code",
   "execution_count": 8,
   "metadata": {},
   "outputs": [
    {
     "data": {
      "image/svg+xml": [
       "<?xml version=\"1.0\" encoding=\"UTF-8\"?><!DOCTYPE svg  PUBLIC '-//W3C//DTD SVG 1.1//EN'  'http://www.w3.org/Graphics/SVG/1.1/DTD/svg11.dtd'><svg width=\"465.18pt\" height=\"311.6pt\" version=\"1.1\" viewBox=\"0 0 465.18 311.6\" xmlns=\"http://www.w3.org/2000/svg\" xmlns:xlink=\"http://www.w3.org/1999/xlink\"><defs><style type=\"text/css\">*{stroke-linejoin: round; stroke-linecap: butt}</style></defs><path d=\"m0 311.6h465.18v-311.6h-465.18z\" fill=\"#ffffff\"/><path d=\"m67.379 284.4h390.6v-277.2h-390.6z\" fill=\"#ffffff\"/><defs><path id=\"m71e0437a03\" d=\"m0 0v3.5\" stroke=\"#343a3f\" stroke-width=\".8\"/></defs><use x=\"262.679375\" y=\"284.4\" fill=\"#343a3f\" stroke=\"#343a3f\" stroke-width=\".8\" xlink:href=\"#m71e0437a03\"/><g transform=\"translate(264.79 303.41) rotate(-70) scale(.14 -.14)\" fill=\"#343a3f\"><defs><path id=\"DejaVuSans-31\" transform=\"scale(.015625)\" d=\"m794 531h1031v3560l-1122-225v575l1116 225h631v-4135h1031v-531h-2687v531z\"/></defs><use xlink:href=\"#DejaVuSans-31\"/></g><path d=\"m67.379 284.4h390.6\" clip-path=\"url(#p11ccd36474)\" fill=\"none\" stroke=\"#dde1e6\" stroke-dasharray=\"2.96,1.28\" stroke-width=\".8\"/><defs><path id=\"m73b7937922\" d=\"m0 0h-3.5\" stroke=\"#343a3f\" stroke-width=\".8\"/></defs><use x=\"67.379375\" y=\"284.4\" fill=\"#343a3f\" stroke=\"#343a3f\" stroke-width=\".8\" xlink:href=\"#m73b7937922\"/><g transform=\"translate(51.472 289.72) scale(.14 -.14)\" fill=\"#343a3f\"><defs><path id=\"DejaVuSans-30\" transform=\"scale(.015625)\" d=\"m2034 4250q-487 0-733-480-245-479-245-1442 0-959 245-1439 246-480 733-480 491 0 736 480 246 480 246 1439 0 963-246 1442-245 480-736 480zm0 500q785 0 1199-621 414-620 414-1801 0-1178-414-1799-414-620-1199-620-784 0-1198 620-414 621-414 1799 0 1181 414 1801 414 621 1198 621z\"/></defs><use xlink:href=\"#DejaVuSans-30\"/></g><path d=\"m67.379 222.88h390.6\" clip-path=\"url(#p11ccd36474)\" fill=\"none\" stroke=\"#dde1e6\" stroke-dasharray=\"2.96,1.28\" stroke-width=\".8\"/><use x=\"67.379375\" y=\"222.876562\" fill=\"#343a3f\" stroke=\"#343a3f\" stroke-width=\".8\" xlink:href=\"#m73b7937922\"/><g transform=\"translate(33.657 228.2) scale(.14 -.14)\" fill=\"#343a3f\"><defs><path id=\"DejaVuSans-32\" transform=\"scale(.015625)\" d=\"m1228 531h2203v-531h-2962v531q359 372 979 998 621 627 780 809 303 340 423 576 121 236 121 464 0 372-261 606-261 235-680 235-297 0-627-103-329-103-704-313v638q381 153 712 231 332 78 607 78 725 0 1156-363 431-362 431-968 0-288-108-546-107-257-392-607-78-91-497-524-418-433-1181-1211z\"/><path id=\"DejaVuSans-35\" transform=\"scale(.015625)\" d=\"m691 4666h2478v-532h-1900v-1143q137 47 274 70 138 23 276 23 781 0 1237-428 457-428 457-1159 0-753-469-1171-469-417-1322-417-294 0-599 50-304 50-629 150v635q281-153 581-228t634-75q541 0 856 284 316 284 316 772 0 487-316 771-315 285-856 285-253 0-505-56-251-56-513-175v2344z\"/></defs><use xlink:href=\"#DejaVuSans-32\"/><use x=\"63.623047\" xlink:href=\"#DejaVuSans-35\"/><use x=\"127.246094\" xlink:href=\"#DejaVuSans-30\"/></g><path d=\"m67.379 161.35h390.6\" clip-path=\"url(#p11ccd36474)\" fill=\"none\" stroke=\"#dde1e6\" stroke-dasharray=\"2.96,1.28\" stroke-width=\".8\"/><use x=\"67.379375\" y=\"161.353125\" fill=\"#343a3f\" stroke=\"#343a3f\" stroke-width=\".8\" xlink:href=\"#m73b7937922\"/><g transform=\"translate(33.657 166.67) scale(.14 -.14)\" fill=\"#343a3f\"><use xlink:href=\"#DejaVuSans-35\"/><use x=\"63.623047\" xlink:href=\"#DejaVuSans-30\"/><use x=\"127.246094\" xlink:href=\"#DejaVuSans-30\"/></g><path d=\"m67.379 99.83h390.6\" clip-path=\"url(#p11ccd36474)\" fill=\"none\" stroke=\"#dde1e6\" stroke-dasharray=\"2.96,1.28\" stroke-width=\".8\"/><use x=\"67.379375\" y=\"99.829687\" fill=\"#343a3f\" stroke=\"#343a3f\" stroke-width=\".8\" xlink:href=\"#m73b7937922\"/><g transform=\"translate(33.657 105.15) scale(.14 -.14)\" fill=\"#343a3f\"><defs><path id=\"DejaVuSans-37\" transform=\"scale(.015625)\" d=\"m525 4666h3e3v-269l-1694-4397h-659l1594 4134h-2241v532z\"/></defs><use xlink:href=\"#DejaVuSans-37\"/><use x=\"63.623047\" xlink:href=\"#DejaVuSans-35\"/><use x=\"127.246094\" xlink:href=\"#DejaVuSans-30\"/></g><path d=\"m67.379 38.306h390.6\" clip-path=\"url(#p11ccd36474)\" fill=\"none\" stroke=\"#dde1e6\" stroke-dasharray=\"2.96,1.28\" stroke-width=\".8\"/><use x=\"67.379375\" y=\"38.30625\" fill=\"#343a3f\" stroke=\"#343a3f\" stroke-width=\".8\" xlink:href=\"#m73b7937922\"/><g transform=\"translate(24.749 43.625) scale(.14 -.14)\" fill=\"#343a3f\"><use xlink:href=\"#DejaVuSans-31\"/><use x=\"63.623047\" xlink:href=\"#DejaVuSans-30\"/><use x=\"127.246094\" xlink:href=\"#DejaVuSans-30\"/><use x=\"190.869141\" xlink:href=\"#DejaVuSans-30\"/></g><g transform=\"translate(17.838 166.59) rotate(-90) scale(.14 -.14)\" fill=\"#343a3f\"><defs><path id=\"DejaVuSans-43\" transform=\"scale(.015625)\" d=\"m4122 4306v-665q-319 297-680 443-361 147-767 147-800 0-1225-489t-425-1414q0-922 425-1411t1225-489q406 0 767 147t680 444v-660q-331-225-702-338-370-112-782-112-1060 0-1670 648-609 649-609 1771 0 1125 609 1773 610 649 1670 649 418 0 788-111 371-111 696-333z\"/><path id=\"DejaVuSans-6f\" transform=\"scale(.015625)\" d=\"m1959 3097q-462 0-731-361t-269-989 267-989q268-361 733-361 460 0 728 362 269 363 269 988 0 622-269 986-268 364-728 364zm0 487q750 0 1178-488 429-487 429-1349 0-859-429-1349-428-489-1178-489-753 0-1180 489-426 490-426 1349 0 862 426 1349 427 488 1180 488z\"/><path id=\"DejaVuSans-75\" transform=\"scale(.015625)\" d=\"m544 1381v2119h575v-2097q0-497 193-746 194-248 582-248 465 0 735 297 271 297 271 810v1984h575v-3500h-575v538q-209-319-486-474-276-155-642-155-603 0-916 375-312 375-312 1097zm1447 2203z\"/><path id=\"DejaVuSans-6e\" transform=\"scale(.015625)\" d=\"m3513 2113v-2113h-575v2094q0 497-194 743-194 247-581 247-466 0-735-297-269-296-269-809v-1978h-578v3500h578v-544q207 316 486 472 280 156 646 156 603 0 912-373 310-373 310-1098z\"/><path id=\"DejaVuSans-74\" transform=\"scale(.015625)\" d=\"m1172 4494v-994h1184v-447h-1184v-1900q0-428 117-550t477-122h590v-481h-590q-666 0-919 248-253 249-253 905v1900h-422v447h422v994h578z\"/></defs><use xlink:href=\"#DejaVuSans-43\"/><use x=\"69.824219\" xlink:href=\"#DejaVuSans-6f\"/><use x=\"131.005859\" xlink:href=\"#DejaVuSans-75\"/><use x=\"194.384766\" xlink:href=\"#DejaVuSans-6e\"/><use x=\"257.763672\" xlink:href=\"#DejaVuSans-74\"/></g><path d=\"m85.134 284.4h355.09v-252h-355.09z\" clip-path=\"url(#p11ccd36474)\" fill=\"#648fff\"/><path d=\"m67.379 284.4v-277.2\" fill=\"none\" stroke=\"#343a3f\" stroke-linecap=\"square\" stroke-width=\".8\"/><path d=\"m67.379 284.4h390.6\" fill=\"none\" stroke=\"#343a3f\" stroke-linecap=\"square\" stroke-width=\".8\"/><g transform=\"translate(249.95 17.72) scale(.1 -.1)\" fill=\"#343a3f\"><defs><path id=\"DejaVuSans-34\" transform=\"scale(.015625)\" d=\"m2419 4116-1594-2491h1594v2491zm-166 550h794v-3041h666v-525h-666v-1100h-628v1100h-2106v609l1940 2957z\"/></defs><use xlink:href=\"#DejaVuSans-31\"/><use x=\"63.623047\" xlink:href=\"#DejaVuSans-30\"/><use x=\"127.246094\" xlink:href=\"#DejaVuSans-32\"/><use x=\"190.869141\" xlink:href=\"#DejaVuSans-34\"/></g><defs><clipPath id=\"p11ccd36474\"><rect x=\"67.379\" y=\"7.2\" width=\"390.6\" height=\"277.2\"/></clipPath></defs></svg>"
      ],
      "text/plain": [
       "<Figure size 700x500 with 1 Axes>"
      ]
     },
     "execution_count": 8,
     "metadata": {},
     "output_type": "execute_result"
    }
   ],
   "source": [
    "qobj = assemble(qc)\n",
    "result = sim.run(qobj).result()\n",
    "counts = result.get_counts()\n",
    "plot_histogram(counts)"
   ]
  },
  {
   "cell_type": "markdown",
   "metadata": {},
   "source": [
    "We can see that we (unsurprisingly) have a 100% chance of measuring $|1\\rangle$. This time, let’s instead put our qubit into a superposition and see what happens. We will use the state $|q_0\\rangle$ from earlier in this section:\n",
    "\n",
    "$$ |q_0\\rangle = \\tfrac{1}{\\sqrt{2}}|0\\rangle + \\tfrac{i}{\\sqrt{2}}|1\\rangle $$\n",
    "\n",
    "We need to add these amplitudes to a python list. To add a complex amplitude, Python uses `j` for the imaginary unit (we normally call it \"$i$\" mathematically):"
   ]
  },
  {
   "cell_type": "code",
   "execution_count": 9,
   "metadata": {},
   "outputs": [],
   "source": [
    "initial_state = [1/sqrt(2), 1j/sqrt(2)]  # Define state |q_0>"
   ]
  },
  {
   "cell_type": "markdown",
   "metadata": {},
   "source": [
    "And we then repeat the steps for initialising the qubit as before:"
   ]
  },
  {
   "cell_type": "code",
   "execution_count": 10,
   "metadata": {},
   "outputs": [
    {
     "name": "stdout",
     "output_type": "stream",
     "text": [
      "Statevector([0.70710678+0.j        , 0.        +0.70710678j],\n",
      "            dims=(2,))\n"
     ]
    }
   ],
   "source": [
    "qc = QuantumCircuit(1) # Must redefine qc\n",
    "qc.initialize(initial_state, 0) # Initialize the 0th qubit in the state `initial_state`\n",
    "qc.save_statevector() # Save statevector\n",
    "qobj = assemble(qc)\n",
    "state = sim.run(qobj).result().get_statevector() # Execute the circuit\n",
    "print(state)           # Print the result"
   ]
  },
  {
   "cell_type": "code",
   "execution_count": 11,
   "metadata": {},
   "outputs": [
    {
     "data": {
      "image/svg+xml": [
       "<?xml version=\"1.0\" encoding=\"UTF-8\"?><!DOCTYPE svg  PUBLIC '-//W3C//DTD SVG 1.1//EN'  'http://www.w3.org/Graphics/SVG/1.1/DTD/svg11.dtd'><svg width=\"460.72pt\" height=\"311.6pt\" version=\"1.1\" viewBox=\"0 0 460.72 311.6\" xmlns=\"http://www.w3.org/2000/svg\" xmlns:xlink=\"http://www.w3.org/1999/xlink\"><defs><style type=\"text/css\">*{stroke-linejoin: round; stroke-linecap: butt}</style></defs><path d=\"m0 311.6h460.72v-311.6h-460.72z\" fill=\"#ffffff\"/><path d=\"m62.921 284.4h390.6v-277.2h-390.6z\" fill=\"#ffffff\"/><defs><path id=\"m615019b266\" d=\"m0 0v3.5\" stroke=\"#343a3f\" stroke-width=\".8\"/></defs><use x=\"139.857614\" y=\"284.4\" fill=\"#343a3f\" stroke=\"#343a3f\" stroke-width=\".8\" xlink:href=\"#m615019b266\"/><g transform=\"translate(141.96 303.41) rotate(-70) scale(.14 -.14)\" fill=\"#343a3f\"><defs><path id=\"DejaVuSans-30\" transform=\"scale(.015625)\" d=\"m2034 4250q-487 0-733-480-245-479-245-1442 0-959 245-1439 246-480 733-480 491 0 736 480 246 480 246 1439 0 963-246 1442-245 480-736 480zm0 500q785 0 1199-621 414-620 414-1801 0-1178-414-1799-414-620-1199-620-784 0-1198 620-414 621-414 1799 0 1181 414 1801 414 621 1198 621z\"/></defs><use xlink:href=\"#DejaVuSans-30\"/></g><use x=\"376.584886\" y=\"284.4\" fill=\"#343a3f\" stroke=\"#343a3f\" stroke-width=\".8\" xlink:href=\"#m615019b266\"/><g transform=\"translate(378.69 303.41) rotate(-70) scale(.14 -.14)\" fill=\"#343a3f\"><defs><path id=\"DejaVuSans-31\" transform=\"scale(.015625)\" d=\"m794 531h1031v3560l-1122-225v575l1116 225h631v-4135h1031v-531h-2687v531z\"/></defs><use xlink:href=\"#DejaVuSans-31\"/></g><path d=\"m62.921 284.4h390.6\" clip-path=\"url(#p273526ca6f)\" fill=\"none\" stroke=\"#dde1e6\" stroke-dasharray=\"2.96,1.28\" stroke-width=\".8\"/><defs><path id=\"m6d5d2d259e\" d=\"m0 0h-3.5\" stroke=\"#343a3f\" stroke-width=\".8\"/></defs><use x=\"62.92125\" y=\"284.4\" fill=\"#343a3f\" stroke=\"#343a3f\" stroke-width=\".8\" xlink:href=\"#m6d5d2d259e\"/><g transform=\"translate(24.749 289.72) scale(.14 -.14)\" fill=\"#343a3f\"><defs><path id=\"DejaVuSans-2e\" transform=\"scale(.015625)\" d=\"m684 794h660v-794h-660v794z\"/></defs><use xlink:href=\"#DejaVuSans-30\"/><use x=\"63.623047\" xlink:href=\"#DejaVuSans-2e\"/><use x=\"95.410156\" xlink:href=\"#DejaVuSans-30\"/><use x=\"159.033203\" xlink:href=\"#DejaVuSans-30\"/></g><path d=\"m62.921 208.8h390.6\" clip-path=\"url(#p273526ca6f)\" fill=\"none\" stroke=\"#dde1e6\" stroke-dasharray=\"2.96,1.28\" stroke-width=\".8\"/><use x=\"62.92125\" y=\"208.8\" fill=\"#343a3f\" stroke=\"#343a3f\" stroke-width=\".8\" xlink:href=\"#m6d5d2d259e\"/><g transform=\"translate(24.749 214.12) scale(.14 -.14)\" fill=\"#343a3f\"><defs><path id=\"DejaVuSans-35\" transform=\"scale(.015625)\" d=\"m691 4666h2478v-532h-1900v-1143q137 47 274 70 138 23 276 23 781 0 1237-428 457-428 457-1159 0-753-469-1171-469-417-1322-417-294 0-599 50-304 50-629 150v635q281-153 581-228t634-75q541 0 856 284 316 284 316 772 0 487-316 771-315 285-856 285-253 0-505-56-251-56-513-175v2344z\"/></defs><use xlink:href=\"#DejaVuSans-30\"/><use x=\"63.623047\" xlink:href=\"#DejaVuSans-2e\"/><use x=\"95.410156\" xlink:href=\"#DejaVuSans-31\"/><use x=\"159.033203\" xlink:href=\"#DejaVuSans-35\"/></g><path d=\"m62.921 133.2h390.6\" clip-path=\"url(#p273526ca6f)\" fill=\"none\" stroke=\"#dde1e6\" stroke-dasharray=\"2.96,1.28\" stroke-width=\".8\"/><use x=\"62.92125\" y=\"133.2\" fill=\"#343a3f\" stroke=\"#343a3f\" stroke-width=\".8\" xlink:href=\"#m6d5d2d259e\"/><g transform=\"translate(24.749 138.52) scale(.14 -.14)\" fill=\"#343a3f\"><defs><path id=\"DejaVuSans-33\" transform=\"scale(.015625)\" d=\"m2597 2516q453-97 707-404 255-306 255-756 0-690-475-1069-475-378-1350-378-293 0-604 58t-642 174v609q262-153 574-231 313-78 654-78 593 0 904 234t311 681q0 413-289 645-289 233-804 233h-544v519h569q465 0 712 186t247 536q0 359-255 551-254 193-729 193-260 0-557-57-297-56-653-174v562q360 100 674 150t592 50q719 0 1137-327 419-326 419-882 0-388-222-655t-631-370z\"/></defs><use xlink:href=\"#DejaVuSans-30\"/><use x=\"63.623047\" xlink:href=\"#DejaVuSans-2e\"/><use x=\"95.410156\" xlink:href=\"#DejaVuSans-33\"/><use x=\"159.033203\" xlink:href=\"#DejaVuSans-30\"/></g><path d=\"m62.921 57.6h390.6\" clip-path=\"url(#p273526ca6f)\" fill=\"none\" stroke=\"#dde1e6\" stroke-dasharray=\"2.96,1.28\" stroke-width=\".8\"/><use x=\"62.92125\" y=\"57.6\" fill=\"#343a3f\" stroke=\"#343a3f\" stroke-width=\".8\" xlink:href=\"#m6d5d2d259e\"/><g transform=\"translate(24.749 62.919) scale(.14 -.14)\" fill=\"#343a3f\"><defs><path id=\"DejaVuSans-34\" transform=\"scale(.015625)\" d=\"m2419 4116-1594-2491h1594v2491zm-166 550h794v-3041h666v-525h-666v-1100h-628v1100h-2106v609l1940 2957z\"/></defs><use xlink:href=\"#DejaVuSans-30\"/><use x=\"63.623047\" xlink:href=\"#DejaVuSans-2e\"/><use x=\"95.410156\" xlink:href=\"#DejaVuSans-34\"/><use x=\"159.033203\" xlink:href=\"#DejaVuSans-35\"/></g><g transform=\"translate(17.838 205.5) rotate(-90) scale(.14 -.14)\" fill=\"#343a3f\"><defs><path id=\"DejaVuSans-51\" transform=\"scale(.015625)\" d=\"m2522 4238q-688 0-1093-513-404-512-404-1397 0-881 404-1394 405-512 1093-512 687 0 1089 512 402 513 402 1394 0 885-402 1397-402 513-1089 513zm884-4154 832-909h-763l-691 747q-103-6-158-9-54-4-104-4-984 0-1574 658-589 658-589 1761 0 1106 589 1764 590 658 1574 658 981 0 1568-658 588-658 588-1764 0-812-327-1391-326-578-945-853z\"/><path id=\"DejaVuSans-75\" transform=\"scale(.015625)\" d=\"m544 1381v2119h575v-2097q0-497 193-746 194-248 582-248 465 0 735 297 271 297 271 810v1984h575v-3500h-575v538q-209-319-486-474-276-155-642-155-603 0-916 375-312 375-312 1097zm1447 2203z\"/><path id=\"DejaVuSans-61\" transform=\"scale(.015625)\" d=\"m2194 1759q-697 0-966-159t-269-544q0-306 202-486 202-179 548-179 479 0 768 339t289 901v128h-572zm1147 238v-1997h-575v531q-197-318-491-470t-719-152q-537 0-855 302-317 302-317 808 0 590 395 890 396 300 1180 300h807v57q0 397-261 614t-733 217q-300 0-585-72-284-72-546-216v532q315 122 612 182 297 61 578 61 760 0 1135-394 375-393 375-1193z\"/><path id=\"DejaVuSans-73\" transform=\"scale(.015625)\" d=\"m2834 3397v-544q-243 125-506 187-262 63-544 63-428 0-642-131t-214-394q0-200 153-314t616-217l197-44q612-131 870-370t258-667q0-488-386-773-386-284-1061-284-281 0-586 55t-642 164v594q319-166 628-249 309-82 613-82 406 0 624 139 219 139 219 392 0 234-158 359-157 125-692 241l-200 47q-534 112-772 345-237 233-237 639 0 494 350 762 350 269 994 269 318 0 599-47 282-46 519-140z\"/><path id=\"DejaVuSans-69\" transform=\"scale(.015625)\" d=\"m603 3500h575v-3500h-575v3500zm0 1363h575v-729h-575v729z\"/><path id=\"DejaVuSans-2d\" transform=\"scale(.015625)\" d=\"m313 2009h1684v-512h-1684v512z\"/><path id=\"DejaVuSans-70\" transform=\"scale(.015625)\" d=\"m1159 525v-1856h-578v4831h578v-531q182 312 458 463 277 152 661 152 638 0 1036-506 399-506 399-1331t-399-1332q-398-506-1036-506-384 0-661 152-276 152-458 464zm1957 1222q0 634-261 995t-717 361q-457 0-718-361t-261-995 261-995 718-361q456 0 717 361t261 995z\"/><path id=\"DejaVuSans-72\" transform=\"scale(.015625)\" d=\"m2631 2963q-97 56-211 82-114 27-251 27-488 0-749-317t-261-911v-1844h-578v3500h578v-544q182 319 472 473 291 155 707 155 59 0 131-8 72-7 159-23l3-590z\"/><path id=\"DejaVuSans-6f\" transform=\"scale(.015625)\" d=\"m1959 3097q-462 0-731-361t-269-989 267-989q268-361 733-361 460 0 728 362 269 363 269 988 0 622-269 986-268 364-728 364zm0 487q750 0 1178-488 429-487 429-1349 0-859-429-1349-428-489-1178-489-753 0-1180 489-426 490-426 1349 0 862 426 1349 427 488 1180 488z\"/><path id=\"DejaVuSans-62\" transform=\"scale(.015625)\" d=\"m3116 1747q0 634-261 995t-717 361q-457 0-718-361t-261-995 261-995 718-361q456 0 717 361t261 995zm-1957 1222q182 312 458 463 277 152 661 152 638 0 1036-506 399-506 399-1331t-399-1332q-398-506-1036-506-384 0-661 152-276 152-458 464v-525h-578v4863h578v-1894z\"/><path id=\"DejaVuSans-6c\" transform=\"scale(.015625)\" d=\"m603 4863h575v-4863h-575v4863z\"/><path id=\"DejaVuSans-74\" transform=\"scale(.015625)\" d=\"m1172 4494v-994h1184v-447h-1184v-1900q0-428 117-550t477-122h590v-481h-590q-666 0-919 248-253 249-253 905v1900h-422v447h422v994h578z\"/><path id=\"DejaVuSans-79\" transform=\"scale(.015625)\" d=\"m2059-325q-243-625-475-815-231-191-618-191h-460v481h338q237 0 368 113 132 112 291 531l103 262-1415 3444h609l1094-2737 1094 2737h609l-1538-3825z\"/></defs><use xlink:href=\"#DejaVuSans-51\"/><use x=\"78.710938\" xlink:href=\"#DejaVuSans-75\"/><use x=\"142.089844\" xlink:href=\"#DejaVuSans-61\"/><use x=\"203.369141\" xlink:href=\"#DejaVuSans-73\"/><use x=\"255.46875\" xlink:href=\"#DejaVuSans-69\"/><use x=\"283.251953\" xlink:href=\"#DejaVuSans-2d\"/><use x=\"319.335938\" xlink:href=\"#DejaVuSans-70\"/><use x=\"382.8125\" xlink:href=\"#DejaVuSans-72\"/><use x=\"421.675781\" xlink:href=\"#DejaVuSans-6f\"/><use x=\"482.857422\" xlink:href=\"#DejaVuSans-62\"/><use x=\"546.333984\" xlink:href=\"#DejaVuSans-61\"/><use x=\"607.613281\" xlink:href=\"#DejaVuSans-62\"/><use x=\"671.089844\" xlink:href=\"#DejaVuSans-69\"/><use x=\"698.873047\" xlink:href=\"#DejaVuSans-6c\"/><use x=\"726.65625\" xlink:href=\"#DejaVuSans-69\"/><use x=\"754.439453\" xlink:href=\"#DejaVuSans-74\"/><use x=\"793.648438\" xlink:href=\"#DejaVuSans-79\"/></g><path d=\"m80.676 284.4h118.36v-252h-118.36z\" clip-path=\"url(#p273526ca6f)\" fill=\"#648fff\"/><path d=\"m317.4 284.4h118.36v-252h-118.36z\" clip-path=\"url(#p273526ca6f)\" fill=\"#648fff\"/><path d=\"m62.921 284.4v-277.2\" fill=\"none\" stroke=\"#343a3f\" stroke-linecap=\"square\" stroke-width=\".8\"/><path d=\"m62.921 284.4h390.6\" fill=\"none\" stroke=\"#343a3f\" stroke-linecap=\"square\" stroke-width=\".8\"/><g transform=\"translate(131.91 17.72) scale(.1 -.1)\" fill=\"#343a3f\"><use xlink:href=\"#DejaVuSans-30\"/><use x=\"63.623047\" xlink:href=\"#DejaVuSans-2e\"/><use x=\"95.410156\" xlink:href=\"#DejaVuSans-35\"/></g><g transform=\"translate(368.63 17.72) scale(.1 -.1)\" fill=\"#343a3f\"><use xlink:href=\"#DejaVuSans-30\"/><use x=\"63.623047\" xlink:href=\"#DejaVuSans-2e\"/><use x=\"95.410156\" xlink:href=\"#DejaVuSans-35\"/></g><defs><clipPath id=\"p273526ca6f\"><rect x=\"62.921\" y=\"7.2\" width=\"390.6\" height=\"277.2\"/></clipPath></defs></svg>"
      ],
      "text/plain": [
       "<Figure size 700x500 with 1 Axes>"
      ]
     },
     "execution_count": 11,
     "metadata": {},
     "output_type": "execute_result"
    }
   ],
   "source": [
    "qobj = assemble(qc)\n",
    "results = sim.run(qobj).result().get_counts()\n",
    "plot_histogram(results)"
   ]
  },
  {
   "cell_type": "markdown",
   "metadata": {},
   "source": [
    "We can see we have equal probability of measuring either $|0\\rangle$ or $|1\\rangle$. To explain this, we need to talk about measurement.\n",
    "\n",
    "## 2. The Rules of Measurement <a id=\"rules-measurement\"></a>\n",
    "\n",
    "### 2.1 A Very Important Rule <a id=\"important-rule\"></a>\n",
    "\n",
    "There is a simple rule for measurement. To find the probability of measuring a state $|\\psi \\rangle$ in the state $|x\\rangle$ we do:\n",
    "\n",
    "$$p(|x\\rangle) = | \\langle x| \\psi \\rangle|^2$$\n",
    "\n",
    "The symbols $\\langle$ and $|$ tell us $\\langle x |$ is a row vector and the symbols $|$ and $\\rangle$ tell us $|\\psi\\rangle$ is a column vector. In quantum mechanics we call the column vectors _kets_ and the row vectors _bras._ Together they make up _bra-ket_ notation. Any ket $|a\\rangle$ has a corresponding bra $\\langle a|$, and we convert between them using the conjugate transpose.\n",
    "<details>\n",
    "<summary>Reminder: Conjugate Transpose (Click here to expand)</summary>\n",
    "<p>Conversion between bra-ket takes places using the <i>conjugate transpose</i> method. We know a ket (column vector) is represented as follows:\n",
    "$$\n",
    "\\quad|a\\rangle = \\begin{bmatrix}a_0 \\\\ a_1 \\\\ \\vdots \\\\ a_n \\end{bmatrix}\n",
    "$$\n",
    "</p>\n",
    "<p>\n",
    "In conjugate transpose method, the matrix is transposed and the elements are complex conjugated (represented by the \"$*$\" operation) where complex conjugate (\"$*$\") of a complex number is a number with an equal real part and an imaginary part equal in magnitude but opposite in sign. This gives the coressponding bra (row vector) as follows:\n",
    "$$\n",
    "\\langle a| = \\begin{bmatrix}a_0^*, & a_1^*, & \\dots & a_n^* \\end{bmatrix}\n",
    "$$\n",
    "</p>\n",
    "</details>   \n",
    "\n",
    "<details>\n",
    "  <summary>Reminder: The Inner Product (Click here to expand)</summary>\n",
    "    <p>There are different ways to multiply vectors, here we use the <i>inner product</i>. The inner product is a generalisation of the <i>dot product</i> which you may already be familiar with. In this guide, we use the inner product between a bra (row vector) and a ket (column vector), and it follows this rule:\n",
    "        \n",
    "$$\n",
    "\\langle a| = \\begin{bmatrix}a_0^*, & a_1^*, & \\dots & a_n^* \\end{bmatrix}, \\quad\n",
    "|b\\rangle = \\begin{bmatrix}b_0 \\\\ b_1 \\\\ \\vdots \\\\ b_n \\end{bmatrix}\n",
    "$$\n",
    "\n",
    "$$\n",
    "\\langle a|b\\rangle = a_0^* b_0 + a_1^* b_1 \\dots a_n^* b_n\n",
    "$$\n",
    "</p>\n",
    "<p>We can see that the inner product of two vectors always gives us a scalar. A useful thing to remember is that the inner product of two orthogonal vectors is 0, for example if we have the orthogonal vectors $|0\\rangle$ and $|1\\rangle$:\n",
    "\n",
    "$$\n",
    "\\langle1|0\\rangle = \\begin{bmatrix} 0 & 1\\end{bmatrix}\\begin{bmatrix}1 \\\\ 0\\end{bmatrix} = 0\n",
    "$$\n",
    "</p>\n",
    "<p>Additionally, remember that the vectors $|0\\rangle$ and $|1\\rangle$ are also normalised (magnitudes are equal to 1):\n",
    "    \n",
    "$$\n",
    "\\begin{aligned} \n",
    "\\langle0|0\\rangle & = \\begin{bmatrix} 1 & 0\\end{bmatrix}\\begin{bmatrix}1 \\\\ 0\\end{bmatrix} = 1 \\\\\n",
    "\\langle1|1\\rangle & = \\begin{bmatrix} 0 & 1\\end{bmatrix}\\begin{bmatrix}0 \\\\ 1\\end{bmatrix} = 1\n",
    "\\end{aligned}\n",
    "$$\n",
    "</p>\n",
    "</details>\n",
    "\n",
    "         \n",
    "In the equation above, $|x\\rangle$ can be any qubit state. To find the probability of measuring $|x\\rangle$, we take the inner product of $|x\\rangle$ and the state we are measuring (in this case $|\\psi\\rangle$), then square the magnitude. This may seem a little convoluted, but it will soon become second nature.\n",
    "\n",
    "If we look at the state $|q_0\\rangle$ from before, we can see the probability of measuring $|0\\rangle$ is indeed $0.5$:\n",
    "\n",
    "$$\n",
    "\\begin{aligned}\n",
    "|q_0\\rangle & = \\tfrac{1}{\\sqrt{2}}|0\\rangle + \\tfrac{i}{\\sqrt{2}}|1\\rangle \\\\\n",
    "\\langle 0| q_0 \\rangle  & = \\tfrac{1}{\\sqrt{2}}\\langle 0|0\\rangle + \\tfrac{i}{\\sqrt{2}}\\langle 0|1\\rangle \\\\\n",
    "& = \\tfrac{1}{\\sqrt{2}}\\cdot 1 +  \\tfrac{i}{\\sqrt{2}} \\cdot 0\\\\\n",
    "& = \\tfrac{1}{\\sqrt{2}}\\\\\n",
    "|\\langle 0| q_0 \\rangle|^2 & = \\tfrac{1}{2}\n",
    "\\end{aligned}\n",
    "$$\n",
    "\n",
    "You should verify the probability of measuring $|1\\rangle$ as an exercise.\n",
    "\n",
    "This rule governs how we get information out of quantum states. It is therefore very important for everything we do in quantum computation. It also immediately implies several important facts.\n",
    "\n",
    "### 2.2 The Implications of this Rule <a id=\"implications\"></a>\n",
    "### #1 Normalisation\n",
    "\n",
    "The rule shows us that amplitudes are related to probabilities. If we want the probabilities to add up to 1 (which they should!), we need to ensure that the statevector is properly normalized. Specifically, we need the magnitude of the state vector to be 1.\n",
    "\n",
    "$$ \\langle\\psi|\\psi\\rangle = 1 \\\\ $$\n",
    "\n",
    "Thus if:\n",
    "\n",
    "$$ |\\psi\\rangle = \\alpha|0\\rangle + \\beta|1\\rangle $$\n",
    "\n",
    "Then:\n",
    "\n",
    "$$ |\\alpha|^2 + |\\beta|^2 = 1 $$\n",
    "\n",
    "This explains the factors of $\\sqrt{2}$ you have seen throughout this chapter. In fact, if we try to give `initialize()` a vector that isn’t normalised, it will give us an error:"
   ]
  },
  {
   "cell_type": "code",
   "execution_count": 12,
   "metadata": {
    "tags": [
     "raises-exception"
    ]
   },
   "outputs": [
    {
     "ename": "QiskitError",
     "evalue": "'Sum of amplitudes-squared does not equal one.'",
     "output_type": "error",
     "traceback": [
      "\u001b[0;31m---------------------------------------------------------------------------\u001b[0m",
      "\u001b[0;31mQiskitError\u001b[0m                               Traceback (most recent call last)",
      "Input \u001b[0;32mIn [12]\u001b[0m, in \u001b[0;36m<cell line: 2>\u001b[0;34m()\u001b[0m\n\u001b[1;32m      1\u001b[0m vector \u001b[38;5;241m=\u001b[39m [\u001b[38;5;241m1\u001b[39m,\u001b[38;5;241m1\u001b[39m]\n\u001b[0;32m----> 2\u001b[0m \u001b[43mqc\u001b[49m\u001b[38;5;241;43m.\u001b[39;49m\u001b[43minitialize\u001b[49m\u001b[43m(\u001b[49m\u001b[43mvector\u001b[49m\u001b[43m,\u001b[49m\u001b[43m \u001b[49m\u001b[38;5;241;43m0\u001b[39;49m\u001b[43m)\u001b[49m\n",
      "File \u001b[0;32m/usr/local/lib/python3.8/site-packages/qiskit/extensions/quantum_initializer/initializer.py:191\u001b[0m, in \u001b[0;36minitialize\u001b[0;34m(self, params, qubits)\u001b[0m\n\u001b[1;32m    188\u001b[0m     qubits \u001b[38;5;241m=\u001b[39m [qubits]\n\u001b[1;32m    189\u001b[0m num_qubits \u001b[38;5;241m=\u001b[39m \u001b[38;5;28mlen\u001b[39m(qubits) \u001b[38;5;28;01mif\u001b[39;00m \u001b[38;5;28misinstance\u001b[39m(params, \u001b[38;5;28mint\u001b[39m) \u001b[38;5;28;01melse\u001b[39;00m \u001b[38;5;28;01mNone\u001b[39;00m\n\u001b[0;32m--> 191\u001b[0m \u001b[38;5;28;01mreturn\u001b[39;00m \u001b[38;5;28mself\u001b[39m\u001b[38;5;241m.\u001b[39mappend(\u001b[43mInitialize\u001b[49m\u001b[43m(\u001b[49m\u001b[43mparams\u001b[49m\u001b[43m,\u001b[49m\u001b[43m \u001b[49m\u001b[43mnum_qubits\u001b[49m\u001b[43m)\u001b[49m, qubits)\n",
      "File \u001b[0;32m/usr/local/lib/python3.8/site-packages/qiskit/extensions/quantum_initializer/initializer.py:57\u001b[0m, in \u001b[0;36mInitialize.__init__\u001b[0;34m(self, params, num_qubits)\u001b[0m\n\u001b[1;32m     36\u001b[0m \u001b[38;5;28;01mdef\u001b[39;00m \u001b[38;5;21m__init__\u001b[39m(\u001b[38;5;28mself\u001b[39m, params, num_qubits\u001b[38;5;241m=\u001b[39m\u001b[38;5;28;01mNone\u001b[39;00m):\n\u001b[1;32m     37\u001b[0m     \u001b[38;5;124mr\u001b[39m\u001b[38;5;124;03m\"\"\"Create new initialize composite.\u001b[39;00m\n\u001b[1;32m     38\u001b[0m \n\u001b[1;32m     39\u001b[0m \u001b[38;5;124;03m    Args:\u001b[39;00m\n\u001b[0;32m   (...)\u001b[0m\n\u001b[1;32m     55\u001b[0m \u001b[38;5;124;03m            and the remaining 3 qubits to be initialized to :math:`|0\\rangle`.\u001b[39;00m\n\u001b[1;32m     56\u001b[0m \u001b[38;5;124;03m    \"\"\"\u001b[39;00m\n\u001b[0;32m---> 57\u001b[0m     \u001b[38;5;28mself\u001b[39m\u001b[38;5;241m.\u001b[39m_stateprep \u001b[38;5;241m=\u001b[39m \u001b[43mStatePreparation\u001b[49m\u001b[43m(\u001b[49m\u001b[43mparams\u001b[49m\u001b[43m,\u001b[49m\u001b[43m \u001b[49m\u001b[43mnum_qubits\u001b[49m\u001b[43m)\u001b[49m\n\u001b[1;32m     59\u001b[0m     \u001b[38;5;28msuper\u001b[39m()\u001b[38;5;241m.\u001b[39m\u001b[38;5;21m__init__\u001b[39m(\u001b[38;5;124m\"\u001b[39m\u001b[38;5;124minitialize\u001b[39m\u001b[38;5;124m\"\u001b[39m, \u001b[38;5;28mself\u001b[39m\u001b[38;5;241m.\u001b[39m_stateprep\u001b[38;5;241m.\u001b[39mnum_qubits, \u001b[38;5;241m0\u001b[39m, \u001b[38;5;28mself\u001b[39m\u001b[38;5;241m.\u001b[39m_stateprep\u001b[38;5;241m.\u001b[39mparams)\n",
      "File \u001b[0;32m/usr/local/lib/python3.8/site-packages/qiskit/circuit/library/data_preparation/state_preparation.py:99\u001b[0m, in \u001b[0;36mStatePreparation.__init__\u001b[0;34m(self, params, num_qubits, inverse, label)\u001b[0m\n\u001b[1;32m     96\u001b[0m \u001b[38;5;28mself\u001b[39m\u001b[38;5;241m.\u001b[39m_from_label \u001b[38;5;241m=\u001b[39m \u001b[38;5;28misinstance\u001b[39m(params, \u001b[38;5;28mstr\u001b[39m)\n\u001b[1;32m     97\u001b[0m \u001b[38;5;28mself\u001b[39m\u001b[38;5;241m.\u001b[39m_from_int \u001b[38;5;241m=\u001b[39m \u001b[38;5;28misinstance\u001b[39m(params, \u001b[38;5;28mint\u001b[39m)\n\u001b[0;32m---> 99\u001b[0m num_qubits \u001b[38;5;241m=\u001b[39m \u001b[38;5;28;43mself\u001b[39;49m\u001b[38;5;241;43m.\u001b[39;49m\u001b[43m_get_num_qubits\u001b[49m\u001b[43m(\u001b[49m\u001b[43mnum_qubits\u001b[49m\u001b[43m,\u001b[49m\u001b[43m \u001b[49m\u001b[43mparams\u001b[49m\u001b[43m)\u001b[49m\n\u001b[1;32m    101\u001b[0m params \u001b[38;5;241m=\u001b[39m [params] \u001b[38;5;28;01mif\u001b[39;00m \u001b[38;5;28misinstance\u001b[39m(params, \u001b[38;5;28mint\u001b[39m) \u001b[38;5;28;01melse\u001b[39;00m params\n\u001b[1;32m    103\u001b[0m \u001b[38;5;28msuper\u001b[39m()\u001b[38;5;241m.\u001b[39m\u001b[38;5;21m__init__\u001b[39m(\u001b[38;5;28mself\u001b[39m\u001b[38;5;241m.\u001b[39m_name, num_qubits, params, label\u001b[38;5;241m=\u001b[39m\u001b[38;5;28mself\u001b[39m\u001b[38;5;241m.\u001b[39m_label)\n",
      "File \u001b[0;32m/usr/local/lib/python3.8/site-packages/qiskit/circuit/library/data_preparation/state_preparation.py:202\u001b[0m, in \u001b[0;36mStatePreparation._get_num_qubits\u001b[0;34m(self, num_qubits, params)\u001b[0m\n\u001b[1;32m    200\u001b[0m     \u001b[38;5;66;03m# Check if probabilities (amplitudes squared) sum to 1\u001b[39;00m\n\u001b[1;32m    201\u001b[0m     \u001b[38;5;28;01mif\u001b[39;00m \u001b[38;5;129;01mnot\u001b[39;00m math\u001b[38;5;241m.\u001b[39misclose(\u001b[38;5;28msum\u001b[39m(np\u001b[38;5;241m.\u001b[39mabsolute(params) \u001b[38;5;241m*\u001b[39m\u001b[38;5;241m*\u001b[39m \u001b[38;5;241m2\u001b[39m), \u001b[38;5;241m1.0\u001b[39m, abs_tol\u001b[38;5;241m=\u001b[39m_EPS):\n\u001b[0;32m--> 202\u001b[0m         \u001b[38;5;28;01mraise\u001b[39;00m QiskitError(\u001b[38;5;124m\"\u001b[39m\u001b[38;5;124mSum of amplitudes-squared does not equal one.\u001b[39m\u001b[38;5;124m\"\u001b[39m)\n\u001b[1;32m    204\u001b[0m     num_qubits \u001b[38;5;241m=\u001b[39m \u001b[38;5;28mint\u001b[39m(num_qubits)\n\u001b[1;32m    205\u001b[0m \u001b[38;5;28;01mreturn\u001b[39;00m num_qubits\n",
      "\u001b[0;31mQiskitError\u001b[0m: 'Sum of amplitudes-squared does not equal one.'"
     ]
    }
   ],
   "source": [
    "vector = [1,1]\n",
    "qc.initialize(vector, 0)"
   ]
  },
  {
   "cell_type": "markdown",
   "metadata": {},
   "source": [
    "#### Quick Exercise\n",
    "1. Create a state vector that will give a $1/3$ probability of measuring $|0\\rangle$.\n",
    "2. Create a different state vector that will give the same measurement probabilities.\n",
    "3. Verify that the probability of measuring $|1\\rangle$ for these two states is $2/3$."
   ]
  },
  {
   "cell_type": "markdown",
   "metadata": {},
   "source": [
    "You can check your answer in the widget below (accepts answers ±1% accuracy, you can use numpy terms such as '`pi`' and '`sqrt()`' in the vector):"
   ]
  },
  {
   "cell_type": "code",
   "execution_count": 13,
   "metadata": {
    "scrolled": false
   },
   "outputs": [
    {
     "data": {
      "application/vnd.jupyter.widget-view+json": {
       "model_id": "",
       "version_major": 2,
       "version_minor": 0
      },
      "text/plain": [
       "VBox(children=(Label(value='State Vector:'), HBox(children=(Text(value='[1, 0]', placeholder='Type something')…"
      ]
     },
     "metadata": {},
     "output_type": "display_data"
    },
    {
     "data": {
      "application/vnd.jupyter.widget-view+json": {
       "model_id": "",
       "version_major": 2,
       "version_minor": 0
      },
      "text/plain": [
       "HTML(value='<pre></pre>')"
      ]
     },
     "metadata": {},
     "output_type": "display_data"
    }
   ],
   "source": [
    "# Run the code in this cell to interact with the widget\n",
    "from qiskit_textbook.widgets import state_vector_exercise\n",
    "state_vector_exercise(target=1/3)"
   ]
  },
  {
   "cell_type": "markdown",
   "metadata": {},
   "source": [
    "### #2 Alternative measurement\n",
    "\n",
    "The measurement rule gives us the probability $p(|x\\rangle)$ that a state $|\\psi\\rangle$ is measured as $|x\\rangle$. Nowhere does it tell us that $|x\\rangle$ can only be either $|0\\rangle$ or $|1\\rangle$.\n",
    "\n",
    "The measurements we have considered so far are in fact only one of an infinite number of possible ways to measure a qubit. For any orthogonal pair of states, we can define a measurement that would cause a qubit to choose between the two.\n",
    "\n",
    "This possibility will be explored more in the next section. For now, just bear in mind that $|x\\rangle$ is not limited to being simply $|0\\rangle$ or $|1\\rangle$."
   ]
  },
  {
   "cell_type": "markdown",
   "metadata": {},
   "source": [
    "### #3 Global Phase\n",
    "\n",
    "We know that measuring the state $|1\\rangle$ will give us the output `1` with certainty. But we are also able to write down states such as \n",
    "\n",
    "$$\\begin{bmatrix}0 \\\\ i\\end{bmatrix} = i|1\\rangle.$$\n",
    "\n",
    "To see how this behaves, we apply the measurement rule.\n",
    "\n",
    "$$ |\\langle x| (i|1\\rangle) |^2 = | i \\langle x|1\\rangle|^2 = |\\langle x|1\\rangle|^2 $$\n",
    "\n",
    "Here we find that the factor of $i$ disappears once we take the magnitude of the complex number. This effect is completely independent of the measured state $|x\\rangle$. It does not matter what measurement we are considering, the probabilities for the state $i|1\\rangle$ are identical to those for $|1\\rangle$. Since measurements are the only way we can extract any information from a qubit, this implies that these two states are equivalent in all ways that are physically relevant.\n",
    "\n",
    "More generally, we refer to any overall factor $\\gamma$ on a state for which $|\\gamma|=1$ as a 'global phase'. States that differ only by a global phase are physically indistinguishable.\n",
    "\n",
    "$$ |\\langle x| ( \\gamma |a\\rangle) |^2 = | \\gamma \\langle x|a\\rangle|^2 = |\\langle x|a\\rangle|^2 $$\n",
    "\n",
    "Note that this is distinct from the phase difference _between_ terms in a superposition, which is known as the 'relative phase'. This becomes relevant once we consider different types of measurement and multiple qubits.\n",
    "\n",
    "\n",
    "### #4 The Observer Effect\n",
    "\n",
    "We know that the amplitudes contain information about the probability of us finding the qubit in a specific state, but once we have measured the qubit, we know with certainty what the state of the qubit is. For example, if we measure a qubit in the state:\n",
    "\n",
    "$$ |q\\rangle = \\alpha|0\\rangle + \\beta|1\\rangle$$\n",
    "\n",
    "And find it in the state $|0\\rangle$, if we measure again, there is a 100% chance of finding the qubit in the state $|0\\rangle$. This means the act of measuring _changes_ the state of our qubits.\n",
    "\n",
    "$$ |q\\rangle = \\begin{bmatrix} \\alpha \\\\ \\beta \\end{bmatrix} \\xrightarrow{\\text{Measure }|0\\rangle} |q\\rangle = |0\\rangle = \\begin{bmatrix} 1 \\\\ 0 \\end{bmatrix}$$\n",
    "\n",
    "We sometimes refer to this as _collapsing_ the state of the qubit. It is a potent effect, and so one that must be used wisely. For example, were we to constantly measure each of our qubits to keep track of their value at each point in a computation, they would always simply be in a well-defined state of either $|0\\rangle$ or $|1\\rangle$. As such, they would be no different from classical bits and our computation could be easily replaced by a classical computation. To achieve truly quantum computation we must allow the qubits to explore more complex states. Measurements are therefore only used when we need to extract an output. This means that we often place all the measurements at the end of our quantum circuit. \n",
    "\n",
    "We can demonstrate this using Qiskit’s statevector simulator. Let's initialize a qubit in superposition:"
   ]
  },
  {
   "cell_type": "code",
   "execution_count": 14,
   "metadata": {},
   "outputs": [
    {
     "data": {
      "image/svg+xml": [
       "<?xml version=\"1.0\" encoding=\"UTF-8\"?><!DOCTYPE svg  PUBLIC '-//W3C//DTD SVG 1.1//EN'  'http://www.w3.org/Graphics/SVG/1.1/DTD/svg11.dtd'><svg width=\"163.57pt\" height=\"79.296pt\" version=\"1.1\" viewBox=\"0 0 163.57 79.296\" xmlns=\"http://www.w3.org/2000/svg\" xmlns:xlink=\"http://www.w3.org/1999/xlink\"><defs><style type=\"text/css\">*{stroke-linejoin: round; stroke-linecap: butt}</style></defs><path d=\"m0 79.296h163.57v-79.296h-163.57z\" fill=\"#ffffff\"/><path d=\"m54.39 44.283h97.343\" clip-path=\"url(#p3bb3ee438d)\" fill=\"none\" stroke=\"#000000\" stroke-linecap=\"square\" stroke-width=\"2\"/><path d=\"m70.628 59.348h63.941v-30.13h-63.941z\" clip-path=\"url(#p3bb3ee438d)\" fill=\"#6929c4\" stroke=\"#6929c4\" stroke-width=\"1.5\"/><g clip-path=\"url(#p3bb3ee438d)\"><g transform=\"translate(34.719 48.734) scale(.1625 -.1625)\"><defs><path id=\"DejaVuSans-Oblique-71\" transform=\"scale(.015625)\" d=\"m2669 525q-231-303-546-460-314-156-695-156-531 0-833 358-301 358-301 986 0 506 186 978t533 847q225 244 517 375t614 131q387 0 637-153t363-462l100 525h578l-934-4813h-579l360 1844zm-1778 813q0-463 193-705 194-242 560-242 544 0 928 520t384 1264q0 450-199 689-198 239-569 239-272 0-504-127-231-126-403-370-181-256-286-600-104-343-104-668z\"/></defs><use xlink:href=\"#DejaVuSans-Oblique-71\"/></g></g><g clip-path=\"url(#p3bb3ee438d)\"><g transform=\"translate(73.998 55.522) scale(.08 -.08)\" fill=\"#ffffff\"><defs><path id=\"DejaVuSans-5b\" transform=\"scale(.015625)\" d=\"m550 4863h1325v-447h-750v-4813h750v-447h-1325v5707z\"/><path id=\"DejaVuSans-30\" transform=\"scale(.015625)\" d=\"m2034 4250q-487 0-733-480-245-479-245-1442 0-959 245-1439 246-480 733-480 491 0 736 480 246 480 246 1439 0 963-246 1442-245 480-736 480zm0 500q785 0 1199-621 414-620 414-1801 0-1178-414-1799-414-620-1199-620-784 0-1198 620-414 621-414 1799 0 1181 414 1801 414 621 1198 621z\"/><path id=\"DejaVuSans-2e\" transform=\"scale(.015625)\" d=\"m684 794h660v-794h-660v794z\"/><path id=\"DejaVuSans-37\" transform=\"scale(.015625)\" d=\"m525 4666h3e3v-269l-1694-4397h-659l1594 4134h-2241v532z\"/><path id=\"DejaVuSans-Oblique-6a\" transform=\"scale(.015625)\" d=\"m928 3500h575l-690-3563-4-15q-115-597-265-819-141-209-412-321-270-113-638-113h-216l94 487h147q337 0 480 141 142 140 239 640l690 3563zm269 1363h575l-141-729h-575l141 729z\"/><path id=\"DejaVuSans-2c\" transform=\"scale(.015625)\" d=\"m750 794h659v-538l-512-1e3h-403l256 1e3v538z\"/><path id=\"DejaVuSans-5d\" transform=\"scale(.015625)\" d=\"m1947 4863v-5707h-1325v447h747v4813h-747v447h1325z\"/></defs><use transform=\"translate(0 .015625)\" xlink:href=\"#DejaVuSans-5b\"/><use transform=\"translate(39.014 .015625)\" xlink:href=\"#DejaVuSans-30\"/><use transform=\"translate(102.64 .015625)\" xlink:href=\"#DejaVuSans-2e\"/><use transform=\"translate(126.67 .015625)\" xlink:href=\"#DejaVuSans-37\"/><use transform=\"translate(190.3 .015625)\" xlink:href=\"#DejaVuSans-30\"/><use transform=\"translate(253.92 .015625)\" xlink:href=\"#DejaVuSans-37\"/><use transform=\"translate(317.54 .015625)\" xlink:href=\"#DejaVuSans-Oblique-6a\"/><use transform=\"translate(345.33 .015625)\" xlink:href=\"#DejaVuSans-2c\"/><use transform=\"translate(396.6 .015625)\" xlink:href=\"#DejaVuSans-30\"/><use transform=\"translate(460.22 .015625)\" xlink:href=\"#DejaVuSans-2e\"/><use transform=\"translate(484.26 .015625)\" xlink:href=\"#DejaVuSans-37\"/><use transform=\"translate(547.88 .015625)\" xlink:href=\"#DejaVuSans-30\"/><use transform=\"translate(611.5 .015625)\" xlink:href=\"#DejaVuSans-37\"/><use transform=\"translate(675.12 .015625)\" xlink:href=\"#DejaVuSans-5d\"/></g></g><g clip-path=\"url(#p3bb3ee438d)\"><g transform=\"translate(93.563 43.209) scale(.13 -.13)\" fill=\"#ffffff\"><defs><path id=\"DejaVuSans-7c\" transform=\"scale(.015625)\" d=\"m1344 4891v-6400h-531v6400h531z\"/><path id=\"DejaVuSans-Oblique-3c8\" transform=\"scale(.015625)\" d=\"m1591-78q-700 116-975 419-338 372-191 1131l394 2028h581l-391-2006q-109-572 110-810 194-206 572-250l593 3066h572l-593-3062q418 43 665 250 319 262 425 809l388 2003h581l-394-2025q-153-787-628-1131-428-310-1137-419l-244-1256h-572l244 1253z\"/><path id=\"DejaVuSans-27e9\" transform=\"scale(.015625)\" d=\"m1925 2006-881-2850h-531l881 2850-881 2850h531l881-2850z\"/></defs><use transform=\"translate(0 .57812)\" xlink:href=\"#DejaVuSans-7c\"/><use transform=\"translate(33.691 .57812)\" xlink:href=\"#DejaVuSans-Oblique-3c8\"/><use transform=\"translate(99.658 .57812)\" xlink:href=\"#DejaVuSans-27e9\"/></g></g><defs><clipPath id=\"p3bb3ee438d\"><rect x=\"7.2\" y=\"7.2\" width=\"149.17\" height=\"64.896\"/></clipPath></defs></svg>"
      ],
      "text/plain": [
       "<Figure size 269.064x117.056 with 1 Axes>"
      ]
     },
     "execution_count": 14,
     "metadata": {},
     "output_type": "execute_result"
    }
   ],
   "source": [
    "qc = QuantumCircuit(1) # We are redefining qc\n",
    "initial_state = [0.+1.j/sqrt(2),1/sqrt(2)+0.j]\n",
    "qc.initialize(initial_state, 0)\n",
    "qc.draw()"
   ]
  },
  {
   "cell_type": "markdown",
   "metadata": {},
   "source": [
    "This should initialize our qubit in the state:\n",
    "\n",
    "$$ |q\\rangle = \\tfrac{i}{\\sqrt{2}}|0\\rangle + \\tfrac{1}{\\sqrt{2}}|1\\rangle $$\n",
    "\n",
    "We can verify this using the simulator:"
   ]
  },
  {
   "cell_type": "code",
   "execution_count": 15,
   "metadata": {},
   "outputs": [
    {
     "name": "stdout",
     "output_type": "stream",
     "text": [
      "Qubit State = Statevector([0.        +0.70710678j, 0.70710678+0.j        ],\n",
      "            dims=(2,))\n"
     ]
    }
   ],
   "source": [
    "qc.save_statevector()\n",
    "result = sim.run(assemble(qc)).result()\n",
    "state = result.get_statevector()\n",
    "print(\"Qubit State = \" + str(state))"
   ]
  },
  {
   "cell_type": "markdown",
   "metadata": {},
   "source": [
    "We can see here the qubit is initialized in the state `[0.+0.70710678j 0.70710678+0.j]`, which is the state we expected.\n",
    "\n",
    "Let’s now create a circuit where we measure this qubit:"
   ]
  },
  {
   "cell_type": "code",
   "execution_count": 16,
   "metadata": {},
   "outputs": [
    {
     "data": {
      "image/svg+xml": [
       "<?xml version=\"1.0\" encoding=\"UTF-8\"?><!DOCTYPE svg  PUBLIC '-//W3C//DTD SVG 1.1//EN'  'http://www.w3.org/Graphics/SVG/1.1/DTD/svg11.dtd'><svg width=\"382.52pt\" height=\"125.65pt\" version=\"1.1\" viewBox=\"0 0 382.52 125.65\" xmlns=\"http://www.w3.org/2000/svg\" xmlns:xlink=\"http://www.w3.org/1999/xlink\"><defs><style type=\"text/css\">*{stroke-linejoin: round; stroke-linecap: butt}</style></defs><path d=\"m0 125.65h382.52v-125.65h-382.52z\" fill=\"#ffffff\"/><path d=\"m245.99 80.092h12.052l-6.026 8.6914z\" clip-path=\"url(#pe2d6043e10)\" fill=\"#778899\"/><path d=\"m87.926 44.283h282.76\" clip-path=\"url(#pe2d6043e10)\" fill=\"none\" stroke=\"#000000\" stroke-linecap=\"square\" stroke-width=\"2\"/><path d=\"m87.926 89.131h282.76\" clip-path=\"url(#pe2d6043e10)\" fill=\"none\" stroke=\"#778899\" stroke-linecap=\"square\" stroke-width=\"2\"/><path d=\"m87.926 92.144h282.76\" clip-path=\"url(#pe2d6043e10)\" fill=\"none\" stroke=\"#778899\" stroke-linecap=\"square\" stroke-width=\"2\"/><path d=\"m97.197 95.273 4.6354-9.2708\" clip-path=\"url(#pe2d6043e10)\" fill=\"none\" stroke=\"#778899\" stroke-linecap=\"square\"/><path d=\"m196.63 67.46h18.078v-46.354h-18.078z\" clip-path=\"url(#pe2d6043e10)\" fill=\"#bdbdbd\" opacity=\".6\"/><path d=\"m253.53 44.283v35.808\" clip-path=\"url(#pe2d6043e10)\" fill=\"none\" stroke=\"#778899\" stroke-linecap=\"square\" stroke-width=\"2\"/><path d=\"m250.51 44.283v35.808\" clip-path=\"url(#pe2d6043e10)\" fill=\"none\" stroke=\"#778899\" stroke-linecap=\"square\" stroke-width=\"2\"/><path d=\"m312.51 67.46h18.078v-30.13h-18.078z\" clip-path=\"url(#pe2d6043e10)\" fill=\"#bdbdbd\" opacity=\".6\"/><path d=\"m104.16 59.348h63.941v-30.13h-63.941z\" clip-path=\"url(#pe2d6043e10)\" fill=\"#6929c4\" stroke=\"#6929c4\" stroke-width=\"1.5\"/><path d=\"m236.95 59.348h30.13v-30.13h-30.13z\" clip-path=\"url(#pe2d6043e10)\" fill=\"#121619\" stroke=\"#121619\" stroke-width=\"1.5\"/><path d=\"m262.56 48.803c0-2.7958-1.1118-5.4799-3.0887-7.4568s-4.661-3.0887-7.4568-3.0887c-2.7958 0-5.4799 1.1118-7.4568 3.0887s-3.0887 4.661-3.0887 7.4568\" clip-path=\"url(#pe2d6043e10)\" fill=\"none\" stroke=\"#ffffff\" stroke-width=\"2\"/><path d=\"m252.02 48.803 10.546-10.546\" clip-path=\"url(#pe2d6043e10)\" fill=\"none\" stroke=\"#ffffff\" stroke-linecap=\"square\" stroke-width=\"2\"/><g clip-path=\"url(#pe2d6043e10)\"><g transform=\"translate(68.255 48.734) scale(.1625 -.1625)\"><defs><path id=\"DejaVuSans-Oblique-71\" transform=\"scale(.015625)\" d=\"m2669 525q-231-303-546-460-314-156-695-156-531 0-833 358-301 358-301 986 0 506 186 978t533 847q225 244 517 375t614 131q387 0 637-153t363-462l100 525h578l-934-4813h-579l360 1844zm-1778 813q0-463 193-705 194-242 560-242 544 0 928 520t384 1264q0 450-199 689-198 239-569 239-272 0-504-127-231-126-403-370-181-256-286-600-104-343-104-668z\"/></defs><use xlink:href=\"#DejaVuSans-Oblique-71\"/></g></g><g clip-path=\"url(#pe2d6043e10)\"><g transform=\"translate(92.561 83.839) scale(.104 -.104)\"><defs><path id=\"DejaVuSans-31\" transform=\"scale(.015625)\" d=\"m794 531h1031v3560l-1122-225v575l1116 225h631v-4135h1031v-531h-2687v531z\"/></defs><use xlink:href=\"#DejaVuSans-31\"/></g></g><g clip-path=\"url(#pe2d6043e10)\"><g transform=\"translate(34.404 95.121) scale(.1625 -.1625)\"><defs><path id=\"DejaVuSans-6d\" transform=\"scale(.015625)\" d=\"m3328 2828q216 388 516 572t706 184q547 0 844-383 297-382 297-1088v-2113h-578v2094q0 503-179 746-178 244-543 244-447 0-707-297-259-296-259-809v-1978h-578v2094q0 506-178 748t-550 242q-441 0-701-298-259-298-259-808v-1978h-578v3500h578v-544q197 322 472 475t653 153q382 0 649-194 267-193 395-562z\"/><path id=\"DejaVuSans-65\" transform=\"scale(.015625)\" d=\"m3597 1894v-281h-2644q38-594 358-905t892-311q331 0 642 81t618 244v-544q-310-131-635-200t-659-69q-838 0-1327 487-489 488-489 1320 0 859 464 1363 464 505 1252 505 706 0 1117-455 411-454 411-1235zm-575 169q-6 471-264 752-258 282-683 282-481 0-770-272t-333-766l2050 4z\"/><path id=\"DejaVuSans-61\" transform=\"scale(.015625)\" d=\"m2194 1759q-697 0-966-159t-269-544q0-306 202-486 202-179 548-179 479 0 768 339t289 901v128h-572zm1147 238v-1997h-575v531q-197-318-491-470t-719-152q-537 0-855 302-317 302-317 808 0 590 395 890 396 300 1180 300h807v57q0 397-261 614t-733 217q-300 0-585-72-284-72-546-216v532q315 122 612 182 297 61 578 61 760 0 1135-394 375-393 375-1193z\"/><path id=\"DejaVuSans-73\" transform=\"scale(.015625)\" d=\"m2834 3397v-544q-243 125-506 187-262 63-544 63-428 0-642-131t-214-394q0-200 153-314t616-217l197-44q612-131 870-370t258-667q0-488-386-773-386-284-1061-284-281 0-586 55t-642 164v594q319-166 628-249 309-82 613-82 406 0 624 139 219 139 219 392 0 234-158 359-157 125-692 241l-200 47q-534 112-772 345-237 233-237 639 0 494 350 762 350 269 994 269 318 0 599-47 282-46 519-140z\"/></defs><use xlink:href=\"#DejaVuSans-6d\"/><use x=\"97.412109\" xlink:href=\"#DejaVuSans-65\"/><use x=\"158.935547\" xlink:href=\"#DejaVuSans-61\"/><use x=\"220.214844\" xlink:href=\"#DejaVuSans-73\"/></g></g><g clip-path=\"url(#pe2d6043e10)\"><g transform=\"translate(107.53 55.522) scale(.08 -.08)\" fill=\"#ffffff\"><defs><path id=\"DejaVuSans-5b\" transform=\"scale(.015625)\" d=\"m550 4863h1325v-447h-750v-4813h750v-447h-1325v5707z\"/><path id=\"DejaVuSans-30\" transform=\"scale(.015625)\" d=\"m2034 4250q-487 0-733-480-245-479-245-1442 0-959 245-1439 246-480 733-480 491 0 736 480 246 480 246 1439 0 963-246 1442-245 480-736 480zm0 500q785 0 1199-621 414-620 414-1801 0-1178-414-1799-414-620-1199-620-784 0-1198 620-414 621-414 1799 0 1181 414 1801 414 621 1198 621z\"/><path id=\"DejaVuSans-2e\" transform=\"scale(.015625)\" d=\"m684 794h660v-794h-660v794z\"/><path id=\"DejaVuSans-37\" transform=\"scale(.015625)\" d=\"m525 4666h3e3v-269l-1694-4397h-659l1594 4134h-2241v532z\"/><path id=\"DejaVuSans-Oblique-6a\" transform=\"scale(.015625)\" d=\"m928 3500h575l-690-3563-4-15q-115-597-265-819-141-209-412-321-270-113-638-113h-216l94 487h147q337 0 480 141 142 140 239 640l690 3563zm269 1363h575l-141-729h-575l141 729z\"/><path id=\"DejaVuSans-2c\" transform=\"scale(.015625)\" d=\"m750 794h659v-538l-512-1e3h-403l256 1e3v538z\"/><path id=\"DejaVuSans-5d\" transform=\"scale(.015625)\" d=\"m1947 4863v-5707h-1325v447h747v4813h-747v447h1325z\"/></defs><use transform=\"translate(0 .015625)\" xlink:href=\"#DejaVuSans-5b\"/><use transform=\"translate(39.014 .015625)\" xlink:href=\"#DejaVuSans-30\"/><use transform=\"translate(102.64 .015625)\" xlink:href=\"#DejaVuSans-2e\"/><use transform=\"translate(126.67 .015625)\" xlink:href=\"#DejaVuSans-37\"/><use transform=\"translate(190.3 .015625)\" xlink:href=\"#DejaVuSans-30\"/><use transform=\"translate(253.92 .015625)\" xlink:href=\"#DejaVuSans-37\"/><use transform=\"translate(317.54 .015625)\" xlink:href=\"#DejaVuSans-Oblique-6a\"/><use transform=\"translate(345.33 .015625)\" xlink:href=\"#DejaVuSans-2c\"/><use transform=\"translate(396.6 .015625)\" xlink:href=\"#DejaVuSans-30\"/><use transform=\"translate(460.22 .015625)\" xlink:href=\"#DejaVuSans-2e\"/><use transform=\"translate(484.26 .015625)\" xlink:href=\"#DejaVuSans-37\"/><use transform=\"translate(547.88 .015625)\" xlink:href=\"#DejaVuSans-30\"/><use transform=\"translate(611.5 .015625)\" xlink:href=\"#DejaVuSans-37\"/><use transform=\"translate(675.12 .015625)\" xlink:href=\"#DejaVuSans-5d\"/></g></g><g clip-path=\"url(#pe2d6043e10)\"><g transform=\"translate(127.1 43.209) scale(.13 -.13)\" fill=\"#ffffff\"><defs><path id=\"DejaVuSans-7c\" transform=\"scale(.015625)\" d=\"m1344 4891v-6400h-531v6400h531z\"/><path id=\"DejaVuSans-Oblique-3c8\" transform=\"scale(.015625)\" d=\"m1591-78q-700 116-975 419-338 372-191 1131l394 2028h581l-391-2006q-109-572 110-810 194-206 572-250l593 3066h572l-593-3062q418 43 665 250 319 262 425 809l388 2003h581l-394-2025q-153-787-628-1131-428-310-1137-419l-244-1256h-572l244 1253z\"/><path id=\"DejaVuSans-27e9\" transform=\"scale(.015625)\" d=\"m1925 2006-881-2850h-531l881 2850-881 2850h531l881-2850z\"/></defs><use transform=\"translate(0 .57812)\" xlink:href=\"#DejaVuSans-7c\"/><use transform=\"translate(33.691 .57812)\" xlink:href=\"#DejaVuSans-Oblique-3c8\"/><use transform=\"translate(99.658 .57812)\" xlink:href=\"#DejaVuSans-27e9\"/></g></g><path d=\"m205.66 21.106v46.354\" clip-path=\"url(#pe2d6043e10)\" fill=\"none\" stroke=\"#000000\" stroke-dasharray=\"3.7,1.6\"/><g clip-path=\"url(#pe2d6043e10)\"><g transform=\"translate(263.61 83.839) scale(.104 -.104)\"><use xlink:href=\"#DejaVuSans-30\"/></g></g><path d=\"m321.55 37.33v30.13\" clip-path=\"url(#pe2d6043e10)\" fill=\"none\" stroke=\"#000000\" stroke-dasharray=\"3.7,1.6\"/><g clip-path=\"url(#pe2d6043e10)\"><g transform=\"translate(284.47 34.577) scale(.13 -.13)\"><defs><path id=\"DejaVuSans-74\" transform=\"scale(.015625)\" d=\"m1172 4494v-994h1184v-447h-1184v-1900q0-428 117-550t477-122h590v-481h-590q-666 0-919 248-253 249-253 905v1900h-422v447h422v994h578z\"/><path id=\"DejaVuSans-76\" transform=\"scale(.015625)\" d=\"m191 3500h609l1094-2937 1094 2937h609l-1313-3500h-781l-1312 3500z\"/><path id=\"DejaVuSans-63\" transform=\"scale(.015625)\" d=\"m3122 3366v-538q-244 135-489 202t-495 67q-560 0-870-355-309-354-309-995t309-996q310-354 870-354 250 0 495 67t489 202v-532q-241-112-499-168-257-57-548-57-791 0-1257 497-465 497-465 1341 0 856 470 1346 471 491 1290 491 265 0 518-55 253-54 491-163z\"/><path id=\"DejaVuSans-6f\" transform=\"scale(.015625)\" d=\"m1959 3097q-462 0-731-361t-269-989 267-989q268-361 733-361 460 0 728 362 269 363 269 988 0 622-269 986-268 364-728 364zm0 487q750 0 1178-488 429-487 429-1349 0-859-429-1349-428-489-1178-489-753 0-1180 489-426 490-426 1349 0 862 426 1349 427 488 1180 488z\"/><path id=\"DejaVuSans-72\" transform=\"scale(.015625)\" d=\"m2631 2963q-97 56-211 82-114 27-251 27-488 0-749-317t-261-911v-1844h-578v3500h578v-544q182 319 472 473 291 155 707 155 59 0 131-8 72-7 159-23l3-590z\"/></defs><use xlink:href=\"#DejaVuSans-73\"/><use x=\"52.099609\" xlink:href=\"#DejaVuSans-74\"/><use x=\"91.308594\" xlink:href=\"#DejaVuSans-61\"/><use x=\"152.587891\" xlink:href=\"#DejaVuSans-74\"/><use x=\"191.796875\" xlink:href=\"#DejaVuSans-65\"/><use x=\"253.320312\" xlink:href=\"#DejaVuSans-76\"/><use x=\"312.5\" xlink:href=\"#DejaVuSans-65\"/><use x=\"374.023438\" xlink:href=\"#DejaVuSans-63\"/><use x=\"429.003906\" xlink:href=\"#DejaVuSans-74\"/><use x=\"468.212891\" xlink:href=\"#DejaVuSans-6f\"/><use x=\"529.394531\" xlink:href=\"#DejaVuSans-72\"/></g></g><defs><clipPath id=\"pe2d6043e10\"><rect x=\"7.2\" y=\"7.2\" width=\"368.12\" height=\"111.25\"/></clipPath></defs></svg>"
      ],
      "text/plain": [
       "<Figure size 663.998x200.667 with 1 Axes>"
      ]
     },
     "execution_count": 16,
     "metadata": {},
     "output_type": "execute_result"
    }
   ],
   "source": [
    "qc = QuantumCircuit(1) # We are redefining qc\n",
    "initial_state = [0.+1.j/sqrt(2),1/sqrt(2)+0.j]\n",
    "qc.initialize(initial_state, 0)\n",
    "qc.measure_all()\n",
    "qc.save_statevector()\n",
    "qc.draw()"
   ]
  },
  {
   "cell_type": "markdown",
   "metadata": {},
   "source": [
    "When we simulate this entire circuit, we can see that one of the amplitudes is _always_ 0:"
   ]
  },
  {
   "cell_type": "code",
   "execution_count": 17,
   "metadata": {},
   "outputs": [
    {
     "name": "stdout",
     "output_type": "stream",
     "text": [
      "State of Measured Qubit = Statevector([0.+1.j, 0.+0.j],\n",
      "            dims=(2,))\n"
     ]
    }
   ],
   "source": [
    "qobj = assemble(qc)\n",
    "state = sim.run(qobj).result().get_statevector()\n",
    "print(\"State of Measured Qubit = \" + str(state))"
   ]
  },
  {
   "cell_type": "markdown",
   "metadata": {},
   "source": [
    "You can re-run this cell a few times to reinitialize the qubit and measure it again. You will notice that either outcome is equally probable, but that the state of the qubit is never a superposition of $|0\\rangle$ and $|1\\rangle$. Somewhat interestingly, the global phase on the state $|0\\rangle$ survives, but since this is global phase, we can never measure it on a real quantum computer.\n",
    "\n",
    "### A Note about Quantum Simulators\n",
    "\n",
    "We can see that writing down a qubit’s state requires keeping track of two complex numbers, but when using a real quantum computer we will only ever receive a yes-or-no (`0` or `1`) answer for each qubit. The output of a 10-qubit quantum computer will look like this:\n",
    "\n",
    "`0110111110`\n",
    "\n",
    "Just 10 bits, no superposition or complex amplitudes. When using a real quantum computer, we cannot see the states of our qubits mid-computation, as this would destroy them! This behaviour is not ideal for learning, so Qiskit provides different quantum simulators: By default, the `aer_simulator` mimics the execution of a real quantum computer, but will also allow you to peek at quantum states before measurement if we include certain instructions in our circuit. For example, here we have included the instruction `.save_statevector()`, which means we can use `.get_statevector()` on the result of the simulation. \n",
    "\n",
    "\n"
   ]
  },
  {
   "cell_type": "markdown",
   "metadata": {},
   "source": [
    "## 3. The Bloch Sphere <a id=\"bloch-sphere\"></a>\n",
    "### 3.1 Describing the Restricted Qubit State <a id=\"bloch-sphere-1\"></a>\n",
    "\n",
    "We saw earlier in this chapter that the general state of a qubit ($|q\\rangle$) is:\n",
    "\n",
    "$$\n",
    "|q\\rangle = \\alpha|0\\rangle + \\beta|1\\rangle\n",
    "$$\n",
    "\n",
    "$$\n",
    "\\alpha, \\beta \\in \\mathbb{C}\n",
    "$$\n",
    "\n",
    "(The second line tells us $\\alpha$ and $\\beta$ are complex numbers). The first two implications in section 2 tell us that we cannot differentiate between some of these states. This means we can be more specific in our description of the qubit. \n",
    "\n",
    "Firstly, since we cannot measure global phase, we can only measure the difference in phase between the states $|0\\rangle$ and $|1\\rangle$. Instead of having $\\alpha$ and $\\beta$ be complex, we can confine them to the real numbers and add a term to tell us the relative phase between them:\n",
    "\n",
    "$$\n",
    "|q\\rangle = \\alpha|0\\rangle + e^{i\\phi}\\beta|1\\rangle\n",
    "$$\n",
    "\n",
    "$$\n",
    "\\alpha, \\beta, \\phi \\in \\mathbb{R}\n",
    "$$\n",
    "\n",
    "Finally, since the qubit state must be normalised, i.e.\n",
    "\n",
    "$$\n",
    "\\sqrt{\\alpha^2 + \\beta^2} = 1\n",
    "$$\n",
    "\n",
    "we can use the trigonometric identity:\n",
    "\n",
    "$$\n",
    "\\sqrt{\\sin^2{x} + \\cos^2{x}} = 1\n",
    "$$\n",
    "\n",
    "to describe the real $\\alpha$ and $\\beta$ in terms of one variable, $\\theta$:\n",
    "\n",
    "$$\n",
    "\\alpha = \\cos{\\tfrac{\\theta}{2}}, \\quad \\beta=\\sin{\\tfrac{\\theta}{2}}\n",
    "$$\n",
    "\n",
    "From this we can describe the state of any qubit using the two variables $\\phi$ and $\\theta$:\n",
    "\n",
    "$$\n",
    "|q\\rangle = \\cos{\\tfrac{\\theta}{2}}|0\\rangle + e^{i\\phi}\\sin{\\tfrac{\\theta}{2}}|1\\rangle\n",
    "$$\n",
    "\n",
    "$$\n",
    "\\theta, \\phi \\in \\mathbb{R}\n",
    "$$\n",
    "\n",
    "### 3.2 Visually Representing a Qubit State <a id=\"bloch-sphere-2\"></a>\n",
    "\n",
    "We want to plot our general qubit state:\n",
    "\n",
    "$$\n",
    "|q\\rangle = \\cos{\\tfrac{\\theta}{2}}|0\\rangle + e^{i\\phi}\\sin{\\tfrac{\\theta}{2}}|1\\rangle\n",
    "$$\n",
    "\n",
    "If we interpret $\\theta$ and $\\phi$ as spherical co-ordinates ($r = 1$, since the magnitude of the qubit state is $1$), we can plot any single qubit state on the surface of a sphere, known as the _Bloch sphere._\n",
    "\n",
    "Below we have plotted a qubit in the state $|{+}\\rangle$. In this case, $\\theta = \\pi/2$ and $\\phi = 0$.\n",
    "\n",
    "Qiskit has a function to plot a Bloch sphere, `plot_bloch_vector()`. This function accepts cartesian coordinates by default, but can also accept spherical coordinates by passing the argument `coord_type='spherical'.`\n",
    "\n",
    "\n",
    "You can also try [this interactive Bloch sphere demo](https://javafxpert.github.io/grok-bloch/).\n"
   ]
  },
  {
   "cell_type": "code",
   "execution_count": 18,
   "metadata": {},
   "outputs": [
    {
     "data": {
      "image/svg+xml": [
       "<?xml version=\"1.0\" encoding=\"UTF-8\"?><!DOCTYPE svg  PUBLIC '-//W3C//DTD SVG 1.1//EN'  'http://www.w3.org/Graphics/SVG/1.1/DTD/svg11.dtd'><svg width=\"374.4pt\" height=\"374.4pt\" version=\"1.1\" viewBox=\"0 0 374.4 374.4\" xmlns=\"http://www.w3.org/2000/svg\" xmlns:xlink=\"http://www.w3.org/1999/xlink\"><defs><style type=\"text/css\">*{stroke-linejoin: round; stroke-linecap: butt}</style></defs><path d=\"m0 374.4h374.4v-374.4h-374.4z\" fill=\"#ffffff\"/><path d=\"m7.2 367.2h360v-360h-360z\" fill=\"#ffffff\"/><path d=\"m68.943 146.79 254.56 73.485\" clip-path=\"url(#pf75f2bc1c8)\" fill=\"none\" stroke=\"#808080\" stroke-linecap=\"square\"/><path d=\"m114.26 249.72 147.29-127.55\" clip-path=\"url(#pf75f2bc1c8)\" fill=\"none\" stroke=\"#808080\" stroke-linecap=\"square\"/><path d=\"m192.06 304.86v-254.65\" clip-path=\"url(#pf75f2bc1c8)\" fill=\"none\" stroke=\"#808080\" stroke-linecap=\"square\"/><path d=\"m323.5 220.28 7.6782-9.131 5.1339-9.4861 2.5592-9.662 0.003972-9.6639-2.4869-9.5005-4.8739-9.1826-7.1234-8.7232-9.2073-8.136-11.103-7.4355-12.791-6.6364-14.258-5.7533-15.494-4.8001-16.491-3.7906-17.242-2.738-17.745-1.6549-17.997-0.55363-17.997 0.55363-17.745 1.6549-17.242 2.738-16.491 3.7906-15.494 4.8001-14.258 5.7533-12.791 6.6364-11.103 7.4355\" clip-path=\"url(#pf75f2bc1c8)\" fill=\"none\" stroke=\"#808080\" stroke-linecap=\"square\"/><path d=\"m261.54 122.17-0.24-15.58-1.3764-14.514-2.5129-13.212-3.6342-11.683-4.7241-9.9366-5.7647-7.9892-6.7371-5.8608-7.6214-3.5773-8.3975-1.1703-9.0449 1.3222-9.5443 3.8564-9.878 6.3832-10.031 8.8486-9.9911 11.196-9.7521 13.368-9.3122 15.307-8.6757 16.961-7.8533 18.283-6.8618 19.236-5.7236 19.791-4.4663 19.934-3.1209 19.664-1.7209 18.989-0.30091 17.935\" clip-path=\"url(#pf75f2bc1c8)\" fill=\"none\" stroke=\"#808080\" stroke-linecap=\"square\"/><path d=\"m68.943 146.79-9.2073 8.136-7.1234 8.7232-4.8739 9.1826-2.4869 9.5005 0.003971 9.6639 2.5592 9.662 5.1339 9.4861 7.6782 9.131 10.138 8.5953 12.458 7.8824 14.581 7.0006 16.451 5.9637 18.017 4.7908 19.235 3.506 20.067 2.138 20.49 0.71845 20.49-0.71845 20.067-2.138 19.235-3.506 18.017-4.7908 16.451-5.9637 14.581-7.0006 12.458-7.8824 10.138-8.5953\" clip-path=\"url(#pf75f2bc1c8)\" fill=\"none\" stroke=\"#808080\" stroke-linecap=\"square\"/><path d=\"m114.26 249.72 1.1054 16.533 2.4659 14.828 3.752 12.866 4.9384 10.701 6.0048 8.3876 6.9351 5.9782 7.718 3.5244 8.3466 1.0737 8.8178-1.3309 9.1318-3.6516 9.2916-5.8561 9.3023-7.9169 9.1708-9.8115 8.9049-11.522 8.5134-13.033 8.0053-14.333 7.39-15.414 6.6769-16.268 5.8754-16.89 4.9951-17.276 4.0456-17.423 3.0367-17.327 1.9787-16.988 0.8826-16.406\" clip-path=\"url(#pf75f2bc1c8)\" fill=\"none\" stroke=\"#808080\" stroke-linecap=\"square\"/><g fill-opacity=\".2\"><path d=\"m222.72 184.35-2.5596 17.69-3.0136 17.412-12.446-1.2759-12.635-0.42711v-17.588-17.829l15.438 0.50594z\" clip-path=\"url(#pf75f2bc1c8)\" fill=\"#776767\"/><path d=\"m192.06 182.34v17.829 17.588l-12.635 0.42711-12.446 1.2759-3.0136-17.412-2.5596-17.69 15.215-1.5119z\" clip-path=\"url(#pf75f2bc1c8)\" fill=\"#887575\"/><path d=\"m192.06 146.92v17.588 17.829l-15.438 0.50594-15.215 1.5119-2.0714-17.727-1.5539-17.522 17.018-1.6375z\" clip-path=\"url(#pf75f2bc1c8)\" fill=\"#8d7a7a\"/><path d=\"m226.34 149.1-1.5539 17.522-2.0714 17.727-15.215-1.5119-15.438-0.50594v-17.829-17.588l17.261 0.54786z\" clip-path=\"url(#pf75f2bc1c8)\" fill=\"#7a6a6a\"/><path d=\"m251.6 190.31-4.9951 17.276-5.8754 16.89-11.511-2.9136-12.07-2.1083 3.0136-17.412 2.5596-17.69 14.771 2.4999z\" clip-path=\"url(#pf75f2bc1c8)\" fill=\"#685a5a\"/><path d=\"m161.41 184.35 2.5596 17.69 3.0136 17.412-12.07 2.1083-11.511 2.9136-5.8754-16.89-4.9951-17.276 14.107-3.458z\" clip-path=\"url(#pf75f2bc1c8)\" fill=\"#998585\"/><path d=\"m157.79 149.1 1.5539 17.522 2.0714 17.727-14.771 2.4999-14.107 3.458-4.0456-17.423-3.0367-17.327 15.804-3.7492z\" clip-path=\"url(#pf75f2bc1c8)\" fill=\"#a28c8c\"/><path d=\"m258.68 155.56-3.0367 17.327-4.0456 17.423-14.107-3.458-14.771-2.4999 2.0714-17.727 1.5539-17.522 16.531 2.7087z\" clip-path=\"url(#pf75f2bc1c8)\" fill=\"#695b5b\"/><path d=\"m192.06 217.75v17.105 16.383l-8.9962 0.3129-8.8563 0.93433-3.7994-16.138-3.4285-16.894 12.446-1.2759z\" clip-path=\"url(#pf75f2bc1c8)\" fill=\"#837272\"/><path d=\"m217.15 219.46-3.4285 16.894-3.7994 16.138-8.8563-0.93433-8.9962-0.3129v-16.383-17.105l12.635 0.42711z\" clip-path=\"url(#pf75f2bc1c8)\" fill=\"#766767\"/><path d=\"m227.81 115.64-0.45131 16.388-1.0121 17.076-17.018-1.6375-17.261-0.54786v-17.105-16.383l17.997 0.55363z\" clip-path=\"url(#pf75f2bc1c8)\" fill=\"#7f6e6e\"/><path d=\"m192.06 113.43v16.383 17.105l-17.261 0.54786-17.018 1.6375-1.0121-17.076-0.45131-16.388 17.745-1.6549z\" clip-path=\"url(#pf75f2bc1c8)\" fill=\"#948080\"/><path d=\"m240.73 224.48-6.6769 16.268-7.39 15.414-8.1641-2.1292-8.5779-1.5426 3.7994-16.138 3.4285-16.894 12.07 2.1083z\" clip-path=\"url(#pf75f2bc1c8)\" fill=\"#6b5d5d\"/><path d=\"m166.98 219.46 3.4285 16.894 3.7994 16.138-8.5779 1.5426-8.1641 2.1292-7.39-15.414-6.6769-16.268 11.511-2.9136z\" clip-path=\"url(#pf75f2bc1c8)\" fill=\"#907d7d\"/><path d=\"m261.54 122.17-0.8826 16.406-1.9787 16.988-15.804-3.7492-16.531-2.7087 1.0121-17.076 0.45131-16.388 17.242 2.738z\" clip-path=\"url(#pf75f2bc1c8)\" fill=\"#6d5e5e\"/><path d=\"m156.32 115.64 0.45131 16.388 1.0121 17.076-16.531 2.7087-15.804 3.7492-1.9787-16.988-0.8826-16.406 16.491-3.7906z\" clip-path=\"url(#pf75f2bc1c8)\" fill=\"#aa9393\"/><path d=\"m132.53 190.31 4.9951 17.276 5.8754 16.89-10.772 3.6806-9.8611 4.3983-8.4318-16.038-7.1795-16.598 12.144-5.2349z\" clip-path=\"url(#pf75f2bc1c8)\" fill=\"#aa9393\"/><path d=\"m276.97 199.92-7.1795 16.598-8.4318 16.038-9.8611-4.3983-10.772-3.6806 5.8754-16.89 4.9951-17.276 13.23 4.3739z\" clip-path=\"url(#pf75f2bc1c8)\" fill=\"#5d5050\"/><path d=\"m287.17 165.99-4.3747 17.004-5.8222 16.922-12.144-5.2349-13.23-4.3739 4.0456-17.423 3.0367-17.327 14.841 4.7461z\" clip-path=\"url(#pf75f2bc1c8)\" fill=\"#5b4f4f\"/><path d=\"m125.45 155.56 3.0367 17.327 4.0456 17.423-13.23 4.3739-12.144 5.2349-5.8222-16.922-4.3747-17.004 13.648-5.6862z\" clip-path=\"url(#pf75f2bc1c8)\" fill=\"#b59d9d\"/><path d=\"m261.36 232.56-9.5648 15.25-10.565 14.241-6.9505-3.2025-7.6195-2.6853 7.39-15.414 6.6769-16.268 10.772 3.6806z\" clip-path=\"url(#pf75f2bc1c8)\" fill=\"#635656\"/><path d=\"m143.4 224.48 6.6769 16.268 7.39 15.414-7.6195 2.6853-6.9505 3.2025-10.565-14.241-9.5648-15.25 9.8611-4.3983z\" clip-path=\"url(#pf75f2bc1c8)\" fill=\"#9e8989\"/><path d=\"m209.92 252.49-4.1214 15.147-4.3894 13.925-4.6325-0.501-4.7092-0.16787v-14.228-15.422l8.9962 0.3129z\" clip-path=\"url(#pf75f2bc1c8)\" fill=\"#786868\"/><path d=\"m192.06 251.24v15.422 14.228l-4.7092 0.16787-4.6325 0.501-4.3894-13.925-4.1214-15.147 8.8563-0.93433z\" clip-path=\"url(#pf75f2bc1c8)\" fill=\"#7f6e6e\"/><path d=\"m226.98 85.877 0.70389 14.3 0.12272 15.462-17.745-1.6549-17.997-0.55363v-15.422-14.228l17.582 0.52564z\" clip-path=\"url(#pf75f2bc1c8)\" fill=\"#877575\"/><path d=\"m192.06 83.78v14.228 15.422l-17.997 0.55363-17.745 1.6549 0.12272-15.462 0.70389-14.3 17.334-1.5711z\" clip-path=\"url(#pf75f2bc1c8)\" fill=\"#9c8787\"/><path d=\"m226.66 256.16-8.0053 14.333-8.5134 13.033-4.254-1.1389-4.48-0.82637 4.3894-13.925 4.1214-15.147 8.5779 1.5426z\" clip-path=\"url(#pf75f2bc1c8)\" fill=\"#716262\"/><path d=\"m174.21 252.49 4.1214 15.147 4.3894 13.925-4.48 0.82637-4.254 1.1389-8.5134-13.033-8.0053-14.333 8.1641-2.1292z\" clip-path=\"url(#pf75f2bc1c8)\" fill=\"#877575\"/><path d=\"m122.59 122.17 0.8826 16.406 1.9787 16.988-14.841 4.7461-13.648 5.6862-2.8526-16.842-1.2729-16.431 14.258-5.7533z\" clip-path=\"url(#pf75f2bc1c8)\" fill=\"#bfa6a6\"/><path d=\"m291.29 132.72-1.2729 16.431-2.8526 16.842-13.648-5.6862-14.841-4.7461 1.9787-16.988 0.8826-16.406 15.494 4.8001z\" clip-path=\"url(#pf75f2bc1c8)\" fill=\"#5e5252\"/><path d=\"m241.23 262.05-11.42 13.019-12.116 11.598-3.5951-1.7057-3.9576-1.4336 8.5134-13.033 8.0053-14.333 7.6195 2.6853z\" clip-path=\"url(#pf75f2bc1c8)\" fill=\"#6d5e5e\"/><path d=\"m157.47 256.16 8.0053 14.333 8.5134 13.033-3.9576 1.4336-3.5951 1.7057-12.116-11.598-11.42-13.019 6.9505-3.2025z\" clip-path=\"url(#pf75f2bc1c8)\" fill=\"#907d7d\"/><path d=\"m259.92 92.074 1.3764 14.514 0.24 15.58-16.491-3.7906-17.242-2.738-0.12272-15.462-0.70389-14.3 16.84 2.5992z\" clip-path=\"url(#pf75f2bc1c8)\" fill=\"#756565\"/><path d=\"m157.15 85.877-0.70389 14.3-0.12272 15.462-17.242 2.738-16.491 3.7906 0.24-15.58 1.3764-14.514 16.103-3.5979z\" clip-path=\"url(#pf75f2bc1c8)\" fill=\"#b29a9a\"/><path d=\"m297.22 212.69-8.9825 15.677-10.528 14.887-7.5603-5.6423-8.7868-5.0559 8.4318-16.038 7.1795-16.598 10.859 6.0285z\" clip-path=\"url(#pf75f2bc1c8)\" fill=\"#554949\"/><path d=\"m107.16 199.92 7.1795 16.598 8.4318 16.038-8.7868 5.0559-7.5603 5.6423-10.528-14.887-8.9825-15.677 9.3866-6.7416z\" clip-path=\"url(#pf75f2bc1c8)\" fill=\"#baa1a1\"/><path d=\"m277.71 243.25-11.914 13.881-13.125 12.672-5.2728-4.0879-6.165-3.6727 10.565-14.241 9.5648-15.25 8.7868 5.0559z\" clip-path=\"url(#pf75f2bc1c8)\" fill=\"#5d5151\"/><path d=\"m122.77 232.56 9.5648 15.25 10.565 14.241-6.165 3.6727-5.2728 4.0879-13.125-12.672-11.914-13.881 7.5603-5.6423z\" clip-path=\"url(#pf75f2bc1c8)\" fill=\"#aa9393\"/><path d=\"m310 179.89-5.4901 16.561-7.2969 16.238-9.3866-6.7416-10.859-6.0285 5.8222-16.922 4.3747-17.004 12.232 6.5559z\" clip-path=\"url(#pf75f2bc1c8)\" fill=\"#514747\"/><path d=\"m96.962 165.99 4.3747 17.004 5.8222 16.922-10.859 6.0285-9.3866 6.7416-7.2969-16.238-5.4901-16.561 10.604-7.3413z\" clip-path=\"url(#pf75f2bc1c8)\" fill=\"#c7adad\"/><path d=\"m142.9 262.05 11.42 13.019 12.116 11.598-3.1716 1.9508-2.6935 2.1647-14.963-9.6997-14.146-11.272 5.2728-4.0879z\" clip-path=\"url(#pf75f2bc1c8)\" fill=\"#988484\"/><path d=\"m252.67 269.81-14.146 11.272-14.963 9.6997-2.6935-2.1647-3.1716-1.9508 12.116-11.598 11.42-13.019 6.165 3.6727z\" clip-path=\"url(#pf75f2bc1c8)\" fill=\"#6a5c5c\"/><path d=\"m288.96 102.09 1.9849 14.862 0.34618 15.771-14.258-5.7533-15.494-4.8001-0.24-15.58-1.3764-14.514 15.125 4.5553z\" clip-path=\"url(#pf75f2bc1c8)\" fill=\"#665858\"/><path d=\"m124.21 92.074-1.3764 14.514-0.24 15.58-15.494 4.8001-14.258 5.7533 0.34618-15.771 1.9849-14.862 13.913-5.4585z\" clip-path=\"url(#pf75f2bc1c8)\" fill=\"#c7acac\"/><path d=\"m201.41 281.56-4.5984 12.48-4.7433 10.819v-11.162-12.805l4.7092 0.16787z\" clip-path=\"url(#pf75f2bc1c8)\" fill=\"#736464\"/><path d=\"m192.06 280.89v12.805 11.162l-4.7433-10.819-4.5984-12.48 4.6325-0.501z\" clip-path=\"url(#pf75f2bc1c8)\" fill=\"#746464\"/><path d=\"m210.14 283.52-8.9049 11.522-9.1708 9.8115 4.7433-10.819 4.5984-12.48 4.48 0.82637z\" clip-path=\"url(#pf75f2bc1c8)\" fill=\"#746464\"/><path d=\"m182.72 281.56 4.5984 12.48 4.7433 10.819-9.1708-9.8115-8.9049-11.522 4.254-1.1389z\" clip-path=\"url(#pf75f2bc1c8)\" fill=\"#766666\"/><path d=\"m288.61 255.96-13.555 12.225-14.886 10.785-3.2168-4.7239-4.2856-4.4406 13.125-12.672 11.914-13.881 6.1954 6.147z\" clip-path=\"url(#pf75f2bc1c8)\" fill=\"#5b4f4f\"/><path d=\"m223.84 61.676 1.8601 11.293 1.2855 12.908-17.334-1.5711-17.582-0.52564v-12.805-11.162l16 0.46716z\" clip-path=\"url(#pf75f2bc1c8)\" fill=\"#917d7d\"/><path d=\"m192.06 59.813v11.162 12.805l-17.582 0.52564-17.334 1.5711 1.2855-12.908 1.8601-11.293 15.77-1.3961z\" clip-path=\"url(#pf75f2bc1c8)\" fill=\"#a48e8e\"/><path d=\"m260.17 278.97-15.99 9.1859-16.851 7.449-1.6028-2.484-2.1678-2.3435 14.963-9.6997 14.146-11.272 4.2856 4.4406z\" clip-path=\"url(#pf75f2bc1c8)\" fill=\"#6a5c5c\"/><path d=\"m217.69 286.66-12.642 9.988-12.986 8.2058 9.1708-9.8115 8.9049-11.522 3.9576 1.4336z\" clip-path=\"url(#pf75f2bc1c8)\" fill=\"#766666\"/><path d=\"m173.99 283.52 8.9049 11.522 9.1708 9.8115-12.986-8.2058-12.642-9.988 3.5951-1.7057z\" clip-path=\"url(#pf75f2bc1c8)\" fill=\"#796969\"/><path d=\"m315.19 146.79-1.5999 16.461-3.5833 16.637-10.604-7.3413-12.232-6.5559 2.8526-16.842 1.2729-16.431 12.791 6.6364z\" clip-path=\"url(#pf75f2bc1c8)\" fill=\"#544949\"/><path d=\"m92.836 132.72 1.2729 16.431 2.8526 16.842-12.232 6.5559-10.604 7.3413-3.5833-16.637-1.5999-16.461 11.103-7.4355z\" clip-path=\"url(#pf75f2bc1c8)\" fill=\"#d2b6b6\"/><path d=\"m310.9 227.93-10.273 14.549-12.011 13.486-4.7086-6.5597-6.1954-6.147 10.528-14.887 8.9825-15.677 7.7402 7.3613z\" clip-path=\"url(#pf75f2bc1c8)\" fill=\"#514646\"/><path d=\"m223.56 290.78-15.562 7.9714-15.932 6.107 12.986-8.2058 12.642-9.988 3.1716 1.9508z\" clip-path=\"url(#pf75f2bc1c8)\" fill=\"#7a6969\"/><path d=\"m166.44 286.66 12.642 9.988 12.986 8.2058-15.932-6.107-15.562-7.9714 2.6935-2.1647z\" clip-path=\"url(#pf75f2bc1c8)\" fill=\"#7e6d6d\"/><path d=\"m253.78 67.179 3.6342 11.683 2.5129 13.212-16.103-3.5979-16.84-2.5992-1.2855-12.908-1.8601-11.293 15.313 2.3088z\" clip-path=\"url(#pf75f2bc1c8)\" fill=\"#7f6e6e\"/><path d=\"m160.29 61.676-1.8601 11.293-1.2855 12.908-16.84 2.5992-16.103 3.5979 2.5129-13.212 3.6342-11.683 14.629-3.1942z\" clip-path=\"url(#pf75f2bc1c8)\" fill=\"#b8a0a0\"/><path d=\"m227.33 295.61-17.459 5.5971-17.805 3.6538 15.932-6.107 15.562-7.9714 2.1678 2.3435z\" clip-path=\"url(#pf75f2bc1c8)\" fill=\"#7e6e6e\"/><path d=\"m228.73 300.83-18.19 3.0177-18.472 1.0104 17.805-3.6538 17.459-5.5971 1.0073 2.5834z\" clip-path=\"url(#pf75f2bc1c8)\" fill=\"#847272\"/><path d=\"m263.15 288.96-16.794 6.8832-17.629 4.9843-0.3909-2.6394-1.0073-2.5834 16.851-7.449 15.99-9.1859 2.0818 4.9317z\" clip-path=\"url(#pf75f2bc1c8)\" fill=\"#6c5e5e\"/><path d=\"m325.56 196.52-6.302 16.01-8.3626 15.395-5.9382-7.8748-7.7402-7.3613 7.2969-16.238 5.4901-16.561 8.7798 8.028z\" clip-path=\"url(#pf75f2bc1c8)\" fill=\"#4d4343\"/><path d=\"m227.63 306.1-17.682 0.40525-17.881-1.6443 18.472-1.0104 18.19-3.0177-0.23607 2.6507z\" clip-path=\"url(#pf75f2bc1c8)\" fill=\"#897777\"/><path d=\"m293.18 269.9-14.338 10.37-15.693 8.6875-0.89796-5.0586-2.0818-4.9317 14.886-10.785 13.555-12.225 3.1194 6.8709z\" clip-path=\"url(#pf75f2bc1c8)\" fill=\"#5c5050\"/><path d=\"m312.26 115.43 2.4942 15.333 0.43514 16.026-11.103-7.4355-12.791-6.6364-0.34618-15.771-1.9849-14.862 12.475 6.2948z\" clip-path=\"url(#pf75f2bc1c8)\" fill=\"#5c4f4f\"/><path d=\"m95.168 102.09-1.9849 14.862-0.34618 15.771-12.791 6.6364-11.103 7.4355 0.43514-16.026 2.4942-15.333 10.821-7.0505z\" clip-path=\"url(#pf75f2bc1c8)\" fill=\"#dabdbd\"/><path d=\"m224.08 311.04-15.948-2.0593-16.063-4.1282 17.881 1.6443 17.682-0.40525-1.4789 2.5365z\" clip-path=\"url(#pf75f2bc1c8)\" fill=\"#8f7c7c\"/><path d=\"m130.35 67.179-3.6342 11.683-2.5129 13.212-15.125 4.5553-13.913 5.4585 3.6217-13.71 5.2332-12.32 12.606-4.8383z\" clip-path=\"url(#pf75f2bc1c8)\" fill=\"#ccb1b1\"/><path d=\"m280.11 76.058 5.2332 12.32 3.6217 13.71-13.913-5.4585-15.125-4.5553-2.5129-13.212-3.6342-11.683 13.725 4.0412z\" clip-path=\"url(#pf75f2bc1c8)\" fill=\"#726262\"/><path d=\"m261.29 299.12-16.458 4.5123-17.208 2.4671 0.86298-2.6164 0.23607-2.6507 17.629-4.9843 16.794-6.8832-0.31592 5.1005z\" clip-path=\"url(#pf75f2bc1c8)\" fill=\"#706161\"/><path d=\"m316.86 244.73-10.93 13.268-12.745 11.906-1.4505-7.0719-3.1194-6.8709 12.011-13.486 10.273-14.549 4.0022 8.2698z\" clip-path=\"url(#pf75f2bc1c8)\" fill=\"#524747\"/><path d=\"m331.52 163.65-1.8398 16.49-4.118 16.379-6.7764-8.6018-8.7798-8.028 3.5833-16.637 1.5999-16.461 9.2073 8.136z\" clip-path=\"url(#pf75f2bc1c8)\" fill=\"#4f4444\"/><path d=\"m218.46 44.763 2.9555 7.4461 2.4198 9.4674-15.77-1.3961-16-0.46716v-9.3094-7.2631l13.296 0.38178z\" clip-path=\"url(#pf75f2bc1c8)\" fill=\"#9b8686\"/><path d=\"m192.06 43.24v7.2631 9.3094l-16 0.46716-15.77 1.3961 2.4198-9.4674 2.9555-7.4461 13.099-1.1406z\" clip-path=\"url(#pf75f2bc1c8)\" fill=\"#ac9595\"/><path d=\"m254.62 308.73-14.958 2.2396-15.581 0.073093 2.0727-2.412 1.4789-2.5365 17.208-2.4671 16.458-4.5123-2.7509 4.9196z\" clip-path=\"url(#pf75f2bc1c8)\" fill=\"#766666\"/><path d=\"m290.89 284.18-14.154 8.4311-15.438 6.5107 1.5394-5.0547 0.31592-5.1005 15.693-8.6875 14.338-10.37-0.27273 7.1555z\" clip-path=\"url(#pf75f2bc1c8)\" fill=\"#615454\"/><path d=\"m243.29 49.253 5.7647 7.9892 4.7241 9.9366-14.629-3.1942-15.313-2.3088-2.4198-9.4674-2.9555-7.4461 12.707 1.885z\" clip-path=\"url(#pf75f2bc1c8)\" fill=\"#8c7a7a\"/><path d=\"m165.67 44.763-2.9555 7.4461-2.4198 9.4674-15.313 2.3088-14.629 3.1942 4.7241-9.9366 5.7647-7.9892 12.122-2.6056z\" clip-path=\"url(#pf75f2bc1c8)\" fill=\"#bda4a4\"/><path d=\"m332.5 214.92-6.732 15.374-8.9173 14.432-1.958-8.5347-4.0022-8.2698 8.3626-15.395 6.302-16.01 4.6167 9.0486z\" clip-path=\"url(#pf75f2bc1c8)\" fill=\"#4e4343\"/><path d=\"m104.02 76.058-5.2332 12.32-3.6217 13.71-12.475 6.2948-10.821 7.0505 4.5476-14.383 6.5636-13.182 9.759-6.2356z\" clip-path=\"url(#pf75f2bc1c8)\" fill=\"#dec0c0\"/><path d=\"m301.15 87.868 6.5636 13.182 4.5476 14.383-10.821-7.0505-12.475-6.2948-3.6217-13.71-5.2332-12.32 11.28 5.5737z\" clip-path=\"url(#pf75f2bc1c8)\" fill=\"#685a5a\"/><path d=\"m328.15 131.41 2.8676 15.907 0.50047 16.334-7.1234-8.7232-9.2073-8.136-0.43514-16.026-2.4942-15.333 8.9653 7.7121z\" clip-path=\"url(#pf75f2bc1c8)\" fill=\"#574b4b\"/><path d=\"m265.03 56.482 8.2787 8.8742 6.7945 10.703-12.606-4.8383-13.725-4.0412-4.7241-9.9366-5.7647-7.9892 11.35 3.2925z\" clip-path=\"url(#pf75f2bc1c8)\" fill=\"#817070\"/><path d=\"m140.84 49.253-5.7647 7.9892-4.7241 9.9366-13.725 4.0412-12.606 4.8383 6.7945-10.703 8.2787-8.8742 10.397-3.936z\" clip-path=\"url(#pf75f2bc1c8)\" fill=\"#ceb3b3\"/><path d=\"m314.36 262.02-10.854 11.909-12.621 10.241 2.0217-7.116 0.27273-7.1555 12.745-11.906 10.93-13.268-0.16418 8.6593z\" clip-path=\"url(#pf75f2bc1c8)\" fill=\"#574c4c\"/><path d=\"m281.65 297.78-12.953 6.5439-14.081 4.4081 3.9279-4.6956 2.7509-4.9196 15.438-6.5107 14.154-8.4311-3.7656 6.9496z\" clip-path=\"url(#pf75f2bc1c8)\" fill=\"#685a5a\"/><path d=\"m338.88 182.34-1.9692 16.514-4.4045 16.075-2.3282-9.3551-4.6167-9.0486 4.118-16.379 1.8398-16.49 4.8739 9.1826z\" clip-path=\"url(#pf75f2bc1c8)\" fill=\"#504545\"/><path d=\"m192.06 35.522v2.6754 5.0432l-13.296 0.38178-13.099 1.1406 3.4579-5.2494 3.9168-2.9032 9.4361-0.81537z\" clip-path=\"url(#pf75f2bc1c8)\" fill=\"#b29a9a\"/><path d=\"m211.09 36.61 3.9168 2.9032 3.4579 5.2494-13.099-1.1406-13.296-0.38178v-5.0432-2.6754l9.5842 0.27305z\" clip-path=\"url(#pf75f2bc1c8)\" fill=\"#a69090\"/><path d=\"m315.4 101.97 7.5289 14.234 5.2238 15.206-6.9268-8.2656-8.9653-7.7121-4.5476-14.383-6.5636-13.182 8.0574 6.8119z\" clip-path=\"url(#pf75f2bc1c8)\" fill=\"#645656\"/><path d=\"m282.29 66.062 10.346 10.068 8.5082 11.738-9.759-6.2356-11.28-5.5737-6.7945-10.703-8.2787-8.8742 9.2716 4.5264z\" clip-path=\"url(#pf75f2bc1c8)\" fill=\"#796969\"/><path d=\"m119.1 56.482-8.2787 8.8742-6.7945 10.703-11.28 5.5737-9.759 6.2356 8.5082-11.738 10.346-10.068 7.9861-5.0538z\" clip-path=\"url(#pf75f2bc1c8)\" fill=\"#dec0c0\"/><path d=\"m329.95 233.93-6.7129 14.689-8.8758 13.402 2.3301-8.6352 0.16418-8.6593 8.9173-14.432 6.732-15.374-0.056222 9.509z\" clip-path=\"url(#pf75f2bc1c8)\" fill=\"#544949\"/><path d=\"m173.04 36.61-3.9168 2.9032-3.4579 5.2494-12.707 1.885-12.122 2.6056 6.7371-5.8608 7.6214-3.5773 8.7031-1.8587z\" clip-path=\"url(#pf75f2bc1c8)\" fill=\"#c0a6a6\"/><path d=\"m228.93 39.815 7.6214 3.5773 6.7371 5.8608-12.122-2.6056-12.707-1.885-3.4579-5.2494-3.9168-2.9032 9.1413 1.3464z\" clip-path=\"url(#pf75f2bc1c8)\" fill=\"#9b8686\"/><path d=\"m335.27 149.1 3.0686 16.554 0.53576 16.678-2.4869-9.5005-4.8739-9.1826-0.50047-16.334-2.8676-15.907 4.7279 8.6976z\" clip-path=\"url(#pf75f2bc1c8)\" fill=\"#574c4c\"/><path d=\"m303.22 278.6-9.9893 10.569-11.585 8.6104 5.4712-6.6554 3.7656-6.9496 12.621-10.241 10.854-11.909-4.5014 8.4565z\" clip-path=\"url(#pf75f2bc1c8)\" fill=\"#615454\"/><path d=\"m155.2 39.815-7.6214 3.5773-6.7371 5.8608-11.35 3.2925-10.397 3.936 9.658-6.8546 10.903-4.6697 7.4169-2.7974z\" clip-path=\"url(#pf75f2bc1c8)\" fill=\"#cdb1b1\"/><path d=\"m244.47 44.957 10.903 4.6697 9.658 6.8546-10.397-3.936-11.35-3.2925-6.7371-5.8608-7.6214-3.5773 8.1262 2.3448z\" clip-path=\"url(#pf75f2bc1c8)\" fill=\"#927f7f\"/><path d=\"m293.84 77.453 11.818 11.517 9.7411 13-6.1931-7.2907-8.0574-6.8119-8.5082-11.738-10.346-10.068 6.554 5.5088z\" clip-path=\"url(#pf75f2bc1c8)\" fill=\"#756666\"/><path d=\"m336.32 201.66-1.9676 16.531-4.3978 15.741 2.4986-9.5 0.056222-9.509 4.4045-16.075 1.9692-16.514-0.003972 9.6639z\" clip-path=\"url(#pf75f2bc1c8)\" fill=\"#564a4a\"/><path d=\"m139.66 44.957-10.903 4.6697-9.658 6.8546-9.2716 4.5264-7.9861 5.0538 12.042-8.1902 13.558-6.1315 5.6363-3.5736z\" clip-path=\"url(#pf75f2bc1c8)\" fill=\"#d9bcbc\"/><path d=\"m256.69 51.74 13.558 6.1315 12.042 8.1902-7.9861-5.0538-9.2716-4.5264-9.658-6.8546-10.903-4.6697 6.5836 3.2093z\" clip-path=\"url(#pf75f2bc1c8)\" fill=\"#8c7a7a\"/><path d=\"m321.65 117.54 8.0363 15.426 5.5844 16.137-2.3966-8.995-4.7279-8.6976-5.2238-15.206-7.5289-14.234 4.188 7.6604z\" clip-path=\"url(#pf75f2bc1c8)\" fill=\"#645757\"/><path d=\"m317.61 252.22-6.2027 14.003-8.1868 12.38 6.6364-8.1198 4.5014-8.4565 8.8758-13.402 6.7129-14.689-4.956 9.3201z\" clip-path=\"url(#pf75f2bc1c8)\" fill=\"#5f5252\"/><path d=\"m202.1 38.276 4.6621-2.1046 4.3217 0.43912-9.4361-0.81537-9.5842-0.27305v-0.19165 2.3699l5.0593 0.14446z\" clip-path=\"url(#pf75f2bc1c8)\" fill=\"#af9797\"/><path d=\"m192.06 37.7v-2.3699 0.19165l-9.5842 0.27305-9.4361 0.81537 4.3217-0.43912 4.6621 2.1046 4.9771-0.43115z\" clip-path=\"url(#pf75f2bc1c8)\" fill=\"#b69e9e\"/><path d=\"m211.49 39.967 9.0449-1.3222 8.3975 1.1703-8.7031-1.8587-9.1413-1.3464-4.3217-0.43912-4.6621 2.1046 4.8139 0.71121z\" clip-path=\"url(#pf75f2bc1c8)\" fill=\"#a89292\"/><path d=\"m182.03 38.276-4.6621-2.1046-4.3217 0.43912-9.1413 1.3464-8.7031 1.8587 8.3975-1.1703 9.0449 1.3222 4.572-0.98029z\" clip-path=\"url(#pf75f2bc1c8)\" fill=\"#bea5a5\"/><path d=\"m332.71 167.39 3.0654 17.236 0.53543 17.035 2.5592-9.662 0.003972-9.6639-0.53576-16.678-3.0686-16.554-0.034108 9.1459z\" clip-path=\"url(#pf75f2bc1c8)\" fill=\"#5e5151\"/><path d=\"m264.73 59.757 15.393 7.8899 13.715 9.8055-4.9923-5.8821-6.554-5.5088-12.042-8.1902-13.558-6.1315 4.5871 3.8837z\" clip-path=\"url(#pf75f2bc1c8)\" fill=\"#8a7878\"/><path d=\"m219.61 42.67 12.879-0.063727 11.986 2.3511-7.4169-2.7974-8.1262-2.3448-8.3975-1.1703-9.0449 1.3222 4.2545 1.2342z\" clip-path=\"url(#pf75f2bc1c8)\" fill=\"#a48e8e\"/><path d=\"m172.64 39.967-9.0449-1.3222-8.3975 1.1703-8.1262 2.3448-7.4169 2.7974 11.986-2.3511 12.879 0.063727 3.8661-1.4687z\" clip-path=\"url(#pf75f2bc1c8)\" fill=\"#c7acac\"/><path d=\"m298.72 89.967 12.555 13.149 10.376 14.425-2.0686-7.91-4.188-7.6604-9.7411-13-11.818-11.517 3.321 6.1648z\" clip-path=\"url(#pf75f2bc1c8)\" fill=\"#766666\"/><path d=\"m164.52 42.67-12.879-0.063727-11.986 2.3511-6.5836 3.2093-5.6363 3.5736 14.859-3.9231 15.914-1.6022 2.8995-1.8648z\" clip-path=\"url(#pf75f2bc1c8)\" fill=\"#cfb3b3\"/><path d=\"m225.92 46.215 15.914 1.6022 14.859 3.9231-5.6363-3.5736-6.5836-3.2093-11.986-2.3511-12.879 0.063727 3.4122 1.6801z\" clip-path=\"url(#pf75f2bc1c8)\" fill=\"#a18c8c\"/><path d=\"m323.5 220.28-1.8217 16.538-4.0686 15.402 7.381-8.9648 4.956-9.3201 4.3978-15.741 1.9676-16.531-5.1339 9.4861z\" clip-path=\"url(#pf75f2bc1c8)\" fill=\"#615454\"/><path d=\"m319.13 133.58 8.007 16.685 5.573 17.121 2.5255-9.1402 0.034108-9.1459-5.5844-16.137-8.0363-15.426-0.13415 8.03z\" clip-path=\"url(#pf75f2bc1c8)\" fill=\"#6a5c5c\"/><path d=\"m267.95 68.506 16.246 9.8466 14.526 11.614-1.5636-6.3492-3.321-6.1648-13.715-9.8055-15.393-7.8899 2.2415 4.3177z\" clip-path=\"url(#pf75f2bc1c8)\" fill=\"#8b7979\"/><path d=\"m229.98 50.375 17.935 3.5799 16.811 5.8023-3.4501-4.1336-4.5871-3.8837-14.859-3.9231-15.914-1.6022 2.3355 2.0194z\" clip-path=\"url(#pf75f2bc1c8)\" fill=\"#a18c8c\"/><path d=\"m192.06 50.207 5.1087-7.2476 4.9277-4.6836-4.9771-0.43115-5.0593-0.14446v4.9647 7.542z\" clip-path=\"url(#pf75f2bc1c8)\" fill=\"#ac9595\"/><path d=\"m192.06 50.207v-7.542-4.9647l-5.0593 0.14446-4.9771 0.43115 4.9277 4.6836 5.1087 7.2476z\" clip-path=\"url(#pf75f2bc1c8)\" fill=\"#ad9696\"/><path d=\"m320.17 184.99 2.8373 17.906 0.49579 17.382 7.6782-9.131 5.1339-9.4861-0.53543-17.035-3.0654-17.236-5.0339 8.97z\" clip-path=\"url(#pf75f2bc1c8)\" fill=\"#695b5b\"/><path d=\"m192.06 50.207 9.878-6.3832 9.5443-3.8564-4.572-0.98029-4.8139-0.71121-4.9277 4.6836-5.1087 7.2476z\" clip-path=\"url(#pf75f2bc1c8)\" fill=\"#ad9696\"/><path d=\"m192.06 50.207-5.1087-7.2476-4.9277-4.6836-4.8139 0.71121-4.572 0.98029 9.5443 3.8564 9.878 6.3832z\" clip-path=\"url(#pf75f2bc1c8)\" fill=\"#af9898\"/><path d=\"m296.37 102.79 12.449 14.862 10.316 15.929 2.3847-8.0122 0.13415-8.03-10.376-14.425-12.555-13.149-0.25322 6.4284z\" clip-path=\"url(#pf75f2bc1c8)\" fill=\"#7b6b6b\"/><path d=\"m192.06 50.207 13.989-5.005 13.554-2.5318-3.8661-1.4687-4.2545-1.2342-9.5443 3.8564-9.878 6.3832z\" clip-path=\"url(#pf75f2bc1c8)\" fill=\"#b09898\"/><path d=\"m192.06 50.207-9.878-6.3832-9.5443-3.8564-4.2545 1.2342-3.8661 1.4687 13.554 2.5318 13.989 5.005z\" clip-path=\"url(#pf75f2bc1c8)\" fill=\"#b39b9b\"/><path d=\"m231.5 54.879 18.777 5.7484 17.674 7.8788-0.97942-4.4312-2.2415-4.3177-16.811-5.8023-17.935-3.5799 1.0892 2.2274z\" clip-path=\"url(#pf75f2bc1c8)\" fill=\"#a38d8d\"/><path d=\"m192.06 50.207 17.164-3.2031 16.69-0.78878-2.8995-1.8648-3.4122-1.6801-13.554 2.5318-13.989 5.005z\" clip-path=\"url(#pf75f2bc1c8)\" fill=\"#b39b9b\"/><path d=\"m192.06 50.207-13.989-5.005-13.554-2.5318-3.4122 1.6801-2.8995 1.8648 16.69 0.78878 17.164 3.2031z\" clip-path=\"url(#pf75f2bc1c8)\" fill=\"#b79f9f\"/><path d=\"m192.06 50.207 19.185-1.0964 18.734 1.265-1.7289-2.1411-2.3355-2.0194-16.69 0.78878-17.164 3.2031z\" clip-path=\"url(#pf75f2bc1c8)\" fill=\"#b89f9f\"/><path d=\"m266.01 77.41 16 11.879 14.358 13.504 2.0996-6.397 0.25322-6.4284-14.526-11.614-16.246-9.8466-0.31609 4.4705z\" clip-path=\"url(#pf75f2bc1c8)\" fill=\"#907d7d\"/><path d=\"m192.06 50.207 19.908 1.1743 19.527 3.4981-0.42673-2.2765-1.0892-2.2274-18.734-1.265-19.185 1.0964z\" clip-path=\"url(#pf75f2bc1c8)\" fill=\"#bda4a4\"/><path d=\"m307.62 148.98 7.3927 17.924 5.1533 18.09 7.5106-8.6308 5.0339-8.97-5.573-17.121-8.007-16.685-4.6435 7.8507z\" clip-path=\"url(#pf75f2bc1c8)\" fill=\"#756666\"/><path d=\"m230.33 59.424 18.343 7.9659 17.339 10.02 1.6233-4.4327 0.31609-4.4705-17.674-7.8788-18.777-5.7484-0.2476 2.2869z\" clip-path=\"url(#pf75f2bc1c8)\" fill=\"#a79191\"/><path d=\"m192.06 50.207 19.273 3.4555 18.992 5.7619 0.9223-2.258 0.2476-2.2869-19.527-3.4981-19.908-1.1743z\" clip-path=\"url(#pf75f2bc1c8)\" fill=\"#c3a9a9\"/><path d=\"m192.06 50.207 17.317 5.5906 17.137 7.8995 2.2255-2.0829 1.5856-2.1898-18.992-5.7619-19.273-3.4555z\" clip-path=\"url(#pf75f2bc1c8)\" fill=\"#c9aeae\"/><path d=\"m286.68 115.03 11.441 16.538 9.5047 17.404 6.8669-7.5422 4.6435-7.8507-10.316-15.929-12.449-14.862-3.9429 6.2514z\" clip-path=\"url(#pf75f2bc1c8)\" fill=\"#857373\"/><path d=\"m226.52 63.697 16.62 10.077 15.773 12.074 4.1795-4.1223 2.9191-4.3166-17.339-10.02-18.343-7.9659-1.5856 2.1898z\" clip-path=\"url(#pf75f2bc1c8)\" fill=\"#ad9696\"/><path d=\"m258.91 85.849 14.61 13.843 13.156 15.342 5.7481-5.9904 3.9429-6.2514-14.358-13.504-16-11.879-2.9191 4.3166z\" clip-path=\"url(#pf75f2bc1c8)\" fill=\"#988383\"/></g><g stroke=\"#dc267f\" stroke-linecap=\"round\" stroke-width=\"5\"><path d=\"m190.55 183.65q-37.393 32.383-70.56 61.107\" clip-path=\"url(#pf75f2bc1c8)\" fill=\"none\"/><path d=\"m128.66 242.54-8.666 2.2135 3.4288-8.2609 5.2372 6.0474z\" clip-path=\"url(#pf75f2bc1c8)\" fill=\"#dc267f\"/></g><g transform=\"translate(91.56 269.7) scale(.2 -.2)\" fill=\"#343a3f\"><defs><path id=\"DejaVuSans-Oblique-78\" transform=\"scale(.015625)\" d=\"m3841 3500-1607-1716 985-1784h-660l-740 1388-1288-1388h-697l1722 1844-915 1656h659l672-1266 1172 1266h697z\"/></defs><use transform=\"translate(0 .3125)\" xlink:href=\"#DejaVuSans-Oblique-78\"/></g><g transform=\"translate(344.86 233.65) scale(.2 -.2)\" fill=\"#343a3f\"><defs><path id=\"DejaVuSans-Oblique-79\" transform=\"scale(.015625)\" d=\"m1588-325q-400-672-652-839t-642-167h-453l96 481h332q240 0 409 131t378 513l178 334-775 3372h610l581-2681 1606 2681h603l-2271-3825z\"/></defs><use transform=\"translate(0 .3125)\" xlink:href=\"#DejaVuSans-Oblique-79\"/></g><g transform=\"translate(178.36 27.828) scale(.2 -.2)\" fill=\"#343a3f\"><defs><path id=\"DejaVuSans-7c\" transform=\"scale(.015625)\" d=\"m1344 4891v-6400h-531v6400h531z\"/><path id=\"DejaVuSans-30\" transform=\"scale(.015625)\" d=\"m2034 4250q-487 0-733-480-245-479-245-1442 0-959 245-1439 246-480 733-480 491 0 736 480 246 480 246 1439 0 963-246 1442-245 480-736 480zm0 500q785 0 1199-621 414-620 414-1801 0-1178-414-1799-414-620-1199-620-784 0-1198 620-414 621-414 1799 0 1181 414 1801 414 621 1198 621z\"/><path id=\"DejaVuSans-27e9\" transform=\"scale(.015625)\" d=\"m1925 2006-881-2850h-531l881 2850-881 2850h531l881-2850z\"/></defs><use transform=\"translate(0 .57812)\" xlink:href=\"#DejaVuSans-7c\"/><use transform=\"translate(33.691 .57812)\" xlink:href=\"#DejaVuSans-30\"/><use transform=\"translate(97.314 .57812)\" xlink:href=\"#DejaVuSans-27e9\"/></g><g transform=\"translate(178.36 333.6) scale(.2 -.2)\" fill=\"#343a3f\"><defs><path id=\"DejaVuSans-31\" transform=\"scale(.015625)\" d=\"m794 531h1031v3560l-1122-225v575l1116 225h631v-4135h1031v-531h-2687v531z\"/></defs><use transform=\"translate(0 .57812)\" xlink:href=\"#DejaVuSans-7c\"/><use transform=\"translate(33.691 .57812)\" xlink:href=\"#DejaVuSans-31\"/><use transform=\"translate(97.314 .57812)\" xlink:href=\"#DejaVuSans-27e9\"/></g><g fill=\"none\" stroke=\"#808080\" stroke-opacity=\".2\"><path d=\"m192.06 50.207 17.317 5.5906 17.137 7.8995 16.62 10.077 15.773 12.074 14.61 13.843 13.156 15.342 11.441 16.538 9.5047 17.404 7.3927 17.924 5.1533 18.09 2.8373 17.906 0.49579 17.382-1.8217 16.538-4.0686 15.402-6.2027 14.003-8.1868 12.38-9.9893 10.569-11.585 8.6104-12.953 6.5439-14.081 4.4081-14.958 2.2396-15.581 0.073093-15.948-2.0593-16.063-4.1282\" clip-path=\"url(#pf75f2bc1c8)\"/><path d=\"m192.06 50.207 19.714 0.027832 19.294 2.3681 18.511 4.6488 17.387 6.8237 15.951 8.8506 14.237 10.692 12.286 12.316 10.14 13.697 7.8453 14.817 5.4474 15.661 2.9918 16.223 0.52225 16.503-1.9197 16.503-4.2954 16.232-6.5694 15.701-8.7097 14.926-10.688 13.923-12.479 12.713-14.062 11.316-15.417 9.7551-16.529 8.0529-17.386 6.2338-17.977 4.3226-18.294 2.3449\" clip-path=\"url(#pf75f2bc1c8)\"/><path d=\"m192.06 50.207 13.989-5.005 13.554-2.5318 12.879-0.063727 11.986 2.3511 10.903 4.6697 9.658 6.8546 8.2787 8.8742 6.7945 10.703 5.2332 12.32 3.6217 13.71 1.9849 14.862 0.34618 15.771-1.2729 16.431-2.8526 16.842-4.3747 17.004-5.8222 16.922-7.1795 16.598-8.4318 16.038-9.5648 15.25-10.565 14.241-11.42 13.019-12.116 11.598-12.642 9.988-12.986 8.2058\" clip-path=\"url(#pf75f2bc1c8)\"/><path d=\"m192.06 50.207 2.5758-7.4681 2.4834-4.8941 2.3486-2.3034 2.1763 0.25369 1.9717 2.7325 1.7401 5.0949 1.4869 7.3089 1.2171 9.349 0.93541 11.195 0.64634 12.831 0.35388 14.246 0.061695 15.432-0.22689 16.384-0.50884 17.098-0.78133 17.571-1.0417 17.804-1.2875 17.795-1.5163 17.544-1.7255 17.052-1.9128 16.321-2.0756 15.353-2.2114 14.152-2.3176 12.724-2.3916 11.076\" clip-path=\"url(#pf75f2bc1c8)\"/><path d=\"m192.06 50.207-9.878-6.3832-9.5443-3.8564-9.0449-1.3222-8.3975 1.1703-7.6214 3.5773-6.7371 5.8608-5.7647 7.9892-4.7241 9.9366-3.6342 11.683-2.5129 13.212-1.3764 14.514-0.24 15.58 0.8826 16.406 1.9787 16.988 3.0367 17.327 4.0456 17.423 4.9951 17.276 5.8754 16.89 6.6769 16.268 7.39 15.414 8.0053 14.333 8.5134 13.033 8.9049 11.522 9.1708 9.8115\" clip-path=\"url(#pf75f2bc1c8)\"/><path d=\"m192.06 50.207-17.164-3.2031-16.69-0.78878-15.914 1.6022-14.859 3.9231-13.558 6.1315-12.042 8.1902-10.346 10.068-8.5082 11.738-6.5636 13.182-4.5476 14.383-2.4942 15.333-0.43514 16.026 1.5999 16.461 3.5833 16.637 5.4901 16.561 7.2969 16.238 8.9825 15.677 10.528 14.887 11.914 13.881 13.125 12.672 14.146 11.272 14.963 9.6997 15.562 7.9714 15.932 6.107\" clip-path=\"url(#pf75f2bc1c8)\"/><path d=\"m192.06 50.207\" clip-path=\"url(#pf75f2bc1c8)\"/><path d=\"m273.52 99.692 5.0171-5.0866 3.4714-5.3168 1.8881-5.4496 0.29671-5.4857-1.2745-5.4273-2.7993-5.2784-4.2543-5.0443-5.6181-4.7313-6.8725-4.3466-8.0016-3.8979-8.9921-3.3933-9.8331-2.8413-10.516-2.2503-11.033-1.629-11.381-0.98603-11.556-0.33012-11.556 0.33012-11.381 0.98603-11.033 1.629-10.516 2.2503-9.8331 2.8413-8.9921 3.3933-8.0016 3.8979-6.8725 4.3466\" clip-path=\"url(#pf75f2bc1c8)\"/><path d=\"m320.17 184.99 7.5106-8.6308 5.0339-8.97 2.5255-9.1402 0.034108-9.1459-2.3966-8.995-4.7279-8.6976-6.9268-8.2656-8.9653-7.7121-10.821-7.0505-12.475-6.2948-13.913-5.4585-15.125-4.5553-16.103-3.5979-16.84-2.5992-17.334-1.5711-17.582-0.52564-17.582 0.52564-17.334 1.5711-16.84 2.5992-16.103 3.5979-15.125 4.5553-13.913 5.4585-12.475 6.2948-10.821 7.0505\" clip-path=\"url(#pf75f2bc1c8)\"/><path d=\"m311.41 266.22 7.0632-8.6251 4.7636-8.9737 2.4296-9.154 0.1062-9.1699-2.1656-9.0286-4.3493-8.7395-6.4134-8.3141-8.3308-7.7648-10.079-7.1051-11.641-6.3487-13.001-5.5092-14.149-4.6004-15.076-3.6354-15.776-2.6272-16.245-1.5885-16.48-0.53151-16.48 0.53151-16.245 1.5885-15.776 2.6272-15.076 3.6354-14.149 4.6004-13.001 5.5092-11.641 6.3487-10.079 7.1051\" clip-path=\"url(#pf75f2bc1c8)\"/><path d=\"m254.62 308.73 3.9279-4.6956 2.7509-4.9196 1.5394-5.0547 0.31592-5.1005-0.89796-5.0586-2.0818-4.9317-3.2168-4.7239-4.2856-4.4406-5.2728-4.0879-6.165-3.6727-6.9505-3.2025-7.6195-2.6853-8.1641-2.1292-8.5779-1.5426-8.8563-0.93433-8.9962-0.3129-8.9962 0.3129-8.8563 0.93433-8.5779 1.5426-8.1641 2.1292-7.6195 2.6853-6.9505 3.2025-6.165 3.6727-5.2728 4.0879\" clip-path=\"url(#pf75f2bc1c8)\"/><path d=\"m192.06 304.86\" clip-path=\"url(#pf75f2bc1c8)\"/></g><g fill=\"none\" stroke=\"#808080\" stroke-opacity=\".2\"><path d=\"m192.06 50.207-17.164-3.2031-16.69-0.78878-15.914 1.6022-14.859 3.9231-13.558 6.1315-12.042 8.1902-10.346 10.068-8.5082 11.738-6.5636 13.182-4.5476 14.383-2.4942 15.333-0.43514 16.026 1.5999 16.461 3.5833 16.637 5.4901 16.561 7.2969 16.238 8.9825 15.677 10.528 14.887 11.914 13.881 13.125 12.672 14.146 11.272 14.963 9.6997 15.562 7.9714 15.932 6.107\" clip-path=\"url(#pf75f2bc1c8)\"/><path d=\"m192.06 50.207-19.76 2.3234-19.427 4.6359-18.722 6.8606-17.66 8.9503-16.265 10.862-14.57 12.557-12.612 14.002-10.437 15.174-8.0927 16.052-5.6281 16.626-3.0941 16.894-0.54034 16.856 1.9859 16.524 4.4401 15.91 6.782 15.035 8.9753 13.921 10.989 12.593 12.795 11.077 14.372 9.4032 15.702 7.5998 16.772 5.6962 17.571 3.7215 18.092 1.7043 18.334-0.32697\" clip-path=\"url(#pf75f2bc1c8)\"/><path d=\"m192.06 50.207-14.166 7.4315-14.07 9.7569-13.695 11.926-13.042 13.886-12.12 15.587-10.946 16.983-9.5439 18.041-7.9469 18.732-6.1923 19.041-4.3223 18.965-2.3819 18.509-0.41636 17.691 1.5296 16.538 3.4141 15.086 5.1991 13.375 6.8515 11.45 8.3437 9.3572 9.6539 7.145 10.766 4.8591 11.669 2.5431 12.358 0.23763 12.83-2.0207 13.089-4.1992 13.138-6.2692\" clip-path=\"url(#pf75f2bc1c8)\"/><path d=\"m192.06 50.207-2.6215 9.9699-2.617 12.341-2.56 14.52-2.4498 16.448-2.2869 18.069-2.074 19.335-1.8151 20.206-1.5162 20.653-1.1845 20.662-0.82838 20.233-0.45704 19.381-0.079934 18.132 0.2936 16.527 0.65473 14.614 0.99548 12.448 1.309 10.089 1.5897 7.5968 1.8333 5.0302 2.0369 2.4445 2.1988-0.1101 2.3185-2.589 2.3962-4.9539 2.4332-7.173 2.4309-9.2204\" clip-path=\"url(#pf75f2bc1c8)\"/><path d=\"m192.06 50.207 10.031 8.8486 9.9911 11.196 9.7521 13.368 9.3122 15.307 8.6757 16.961 7.8533 18.283 6.8618 19.236 5.7236 19.791 4.4663 19.934 3.1209 19.664 1.7209 18.989 0.30091 17.935-1.1054 16.533-2.4659 14.828-3.752 12.866-4.9384 10.701-6.0048 8.3876-6.9351 5.9782-7.718 3.5244-8.3466 1.0737-8.8178-1.3309-9.1318-3.6516-9.2916-5.8561-9.3023-7.9169\" clip-path=\"url(#pf75f2bc1c8)\"/><path d=\"m192.06 50.207 17.317 5.5906 17.137 7.8995 16.62 10.077 15.773 12.074 14.61 13.843 13.156 15.342 11.441 16.538 9.5047 17.404 7.3927 17.924 5.1533 18.09 2.8373 17.906 0.49579 17.382-1.8217 16.538-4.0686 15.402-6.2027 14.003-8.1868 12.38-9.9893 10.569-11.585 8.6104-12.953 6.5439-14.081 4.4081-14.958 2.2396-15.581 0.073093-15.948-2.0593-16.063-4.1282\" clip-path=\"url(#pf75f2bc1c8)\"/><path d=\"m192.06 50.207\" clip-path=\"url(#pf75f2bc1c8)\"/><path d=\"m113.88 57.872-5.6181 4.7313-4.2543 5.0443-2.7993 5.2784-1.2745 5.4273 0.29671 5.4857 1.8881 5.4496 3.4714 5.3168 5.0171 5.0866 6.4942 4.7605 7.872 4.3422 9.1201 3.8378 10.21 3.2556 11.116 2.6062 11.817 1.9022 12.294 1.1578 12.535 0.38872 12.535-0.38872 12.294-1.1578 11.817-1.9022 11.116-2.6062 10.21-3.2556 9.1201-3.8378 7.872-4.3422 6.4942-4.7605\" clip-path=\"url(#pf75f2bc1c8)\"/><path d=\"m71.872 115.43-8.9653 7.7121-6.9268 8.2656-4.7279 8.6976-2.3966 8.995 0.034109 9.1459 2.5255 9.1402 5.0339 8.97 7.5106 8.6308 9.9036 8.1213 12.158 7.445 14.22 6.61 16.035 5.6294 17.555 4.5212 18.736 3.3081 19.543 2.017 19.953 0.67776 19.953-0.67776 19.543-2.017 18.736-3.3081 17.555-4.5212 16.035-5.6294 14.22-6.61 12.158-7.445 9.9036-8.1213\" clip-path=\"url(#pf75f2bc1c8)\"/><path d=\"m79.616 196.45-8.3308 7.7648-6.4134 8.3141-4.3493 8.7395-2.1656 9.0286 0.1062 9.1699 2.4296 9.154 4.7636 8.9737 7.0632 8.6251 9.2806 8.1077 11.366 7.4256 13.269 6.5871 14.943 5.6057 16.342 4.4994 17.428 3.2906 18.17 2.0057 18.547 0.67385 18.547-0.67385 18.17-2.0057 17.428-3.2906 16.342-4.4994 14.943-5.6057 13.269-6.5871 11.366-7.4256 9.2806-8.1077\" clip-path=\"url(#pf75f2bc1c8)\"/><path d=\"m131.46 269.81-4.2856 4.4406-3.2168 4.7239-2.0818 4.9317-0.89796 5.0586 0.31592 5.1005 1.5394 5.0547 2.7509 4.9196 3.9279 4.6956 5.0479 4.385 6.0881 3.9916 7.0269 3.5215 7.8441 2.9826 8.5216 2.3845 9.0439 1.7386 9.3991 1.0576 9.5788 0.35494 9.5788-0.35494 9.3991-1.0576 9.0439-1.7386 8.5216-2.3845 7.8441-2.9826 7.0269-3.5215 6.0881-3.9916 5.0479-4.385\" clip-path=\"url(#pf75f2bc1c8)\"/><path d=\"m192.06 304.86\" clip-path=\"url(#pf75f2bc1c8)\"/></g><g fill-opacity=\".2\"><path d=\"m106.42 243.25 11.914 13.881 13.125 12.672-4.2856 4.4406-3.2168 4.7239-14.886-10.785-13.555-12.225 4.7086-6.5597z\" clip-path=\"url(#pf75f2bc1c8)\" fill=\"#b49c9c\"/><path d=\"m131.46 269.81 14.146 11.272 14.963 9.6997-2.1678 2.3435-1.6028 2.484-16.851-7.449-15.99-9.1859 3.2168-4.7239z\" clip-path=\"url(#pf75f2bc1c8)\" fill=\"#9f8a8a\"/><path d=\"m86.913 212.69 8.9825 15.677 10.528 14.887-6.1954 6.147-4.7086 6.5597-12.011-13.486-10.273-14.549 5.9382-7.8748z\" clip-path=\"url(#pf75f2bc1c8)\" fill=\"#c7acac\"/><path d=\"m160.57 290.78 15.562 7.9714 15.932 6.107-17.805-3.6538-17.459-5.5971 1.6028-2.484z\" clip-path=\"url(#pf75f2bc1c8)\" fill=\"#837171\"/><path d=\"m156.8 295.61 17.459 5.5971 17.805 3.6538-18.472-1.0104-18.19-3.0177 0.3909-2.6394z\" clip-path=\"url(#pf75f2bc1c8)\" fill=\"#897676\"/><path d=\"m123.96 278.97 15.99 9.1859 16.851 7.449-1.0073 2.5834-0.3909 2.6394-17.629-4.9843-16.794-6.8832 0.89796-5.0586z\" clip-path=\"url(#pf75f2bc1c8)\" fill=\"#a58f8f\"/><path d=\"m74.126 179.89 5.4901 16.561 7.2969 16.238-7.7402 7.3613-5.9382 7.8748-8.3626-15.395-6.302-16.01 6.7764-8.6018z\" clip-path=\"url(#pf75f2bc1c8)\" fill=\"#d6baba\"/><path d=\"m155.4 300.83 18.19 3.0177 18.472 1.0104-17.881 1.6443-17.682-0.40525-0.86298-2.6164z\" clip-path=\"url(#pf75f2bc1c8)\" fill=\"#8e7b7b\"/><path d=\"m95.519 255.96 13.555 12.225 14.886 10.785-2.0818 4.9317-0.89796 5.0586-15.693-8.6875-14.338-10.37 1.4505-7.0719z\" clip-path=\"url(#pf75f2bc1c8)\" fill=\"#bca3a3\"/><path d=\"m156.5 306.1 17.682 0.40525 17.881-1.6443-16.063 4.1282-15.948 2.0593-2.0727-2.412z\" clip-path=\"url(#pf75f2bc1c8)\" fill=\"#948080\"/><path d=\"m160.05 311.04 15.948-2.0593 16.063-4.1282-13.138 6.2692-13.089 4.1992-3.1512-2.0364z\" clip-path=\"url(#pf75f2bc1c8)\" fill=\"#988484\"/><path d=\"m218.29 315.33-13.089-4.1992-13.138-6.2692 16.063 4.1282 15.948 2.0593-2.6337 2.2444z\" clip-path=\"url(#pf75f2bc1c8)\" fill=\"#948181\"/><path d=\"m120.98 288.96 16.794 6.8832 17.629 4.9843 0.23607 2.6507 0.86298 2.6164-17.208-2.4671-16.458-4.5123-1.5394-5.0547z\" clip-path=\"url(#pf75f2bc1c8)\" fill=\"#a99292\"/><path d=\"m165.84 315.33 13.089-4.1992 13.138-6.2692-9.3023 7.9169-9.2916 5.8561-4.0174-1.5134z\" clip-path=\"url(#pf75f2bc1c8)\" fill=\"#9c8787\"/><path d=\"m210.66 318.63-9.2916-5.8561-9.3023-7.9169 13.138 6.2692 13.089 4.1992-3.6155 1.7913z\" clip-path=\"url(#pf75f2bc1c8)\" fill=\"#998585\"/><path d=\"m73.235 227.93 10.273 14.549 12.011 13.486-3.1194 6.8709-1.4505 7.0719-12.745-11.906-10.93-13.268 1.958-8.5347z\" clip-path=\"url(#pf75f2bc1c8)\" fill=\"#d0b4b4\"/><path d=\"m173.47 318.63 9.2916-5.8561 9.3023-7.9169-4.8192 8.955-4.8216 6.9044-4.6039-0.87894z\" clip-path=\"url(#pf75f2bc1c8)\" fill=\"#9e8989\"/><path d=\"m201.71 320.72-4.8216-6.9044-4.8192-8.955 9.3023 7.9169 9.2916 5.8561-4.3491 1.2074z\" clip-path=\"url(#pf75f2bc1c8)\" fill=\"#9c8888\"/><path d=\"m68.943 146.79 1.5999 16.461 3.5833 16.637-8.7798 8.028-6.7764 8.6018-4.118-16.379-1.8398-16.49 7.1234-8.7232z\" clip-path=\"url(#pf75f2bc1c8)\" fill=\"#e2c4c4\"/><path d=\"m182.42 320.72 4.8216-6.9044 4.8192-8.955v9.3094 7.2631l-4.8641-0.17914z\" clip-path=\"url(#pf75f2bc1c8)\" fill=\"#9f8a8a\"/><path d=\"m192.06 321.43v-7.2631-9.3094l4.8192 8.955 4.8216 6.9044-4.7768 0.53405z\" clip-path=\"url(#pf75f2bc1c8)\" fill=\"#9e8989\"/><path d=\"m122.84 299.12 16.458 4.5123 17.208 2.4671 1.4789 2.5365 2.0727 2.412-15.581-0.073093-14.958-2.2396-3.9279-4.6956z\" clip-path=\"url(#pf75f2bc1c8)\" fill=\"#aa9494\"/><path d=\"m90.949 269.9 14.338 10.37 15.693 8.6875 0.31592 5.1005 1.5394 5.0547-15.438-6.5107-14.154-8.4311-2.0217-7.116z\" clip-path=\"url(#pf75f2bc1c8)\" fill=\"#c0a7a7\"/><path d=\"m58.57 196.52 6.302 16.01 8.3626 15.395-4.0022 8.2698-1.958 8.5347-8.9173-14.432-6.732-15.374 2.3282-9.3551z\" clip-path=\"url(#pf75f2bc1c8)\" fill=\"#e1c3c3\"/><path d=\"m129.51 308.73 14.958 2.2396 15.581 0.073093 2.6337 2.2444 3.1512 2.0364-12.83 2.0207-12.358-0.23763-6.0881-3.9916z\" clip-path=\"url(#pf75f2bc1c8)\" fill=\"#aa9393\"/><path d=\"m243.48 317.11-12.358 0.23763-12.83-2.0207 3.1512-2.0364 2.6337-2.2444 15.581-0.073093 14.958-2.2396-5.0479 4.385z\" clip-path=\"url(#pf75f2bc1c8)\" fill=\"#7d6c6c\"/><path d=\"m71.872 115.43-2.4942 15.333-0.43514 16.026-9.2073 8.136-7.1234 8.7232 0.50047-16.334 2.8676-15.907 6.9268-8.2656z\" clip-path=\"url(#pf75f2bc1c8)\" fill=\"#eacbcb\"/><path d=\"m67.274 244.73 10.93 13.268 12.745 11.906 0.27273 7.1555 2.0217 7.116-12.621-10.241-10.854-11.909-2.3301-8.6352z\" clip-path=\"url(#pf75f2bc1c8)\" fill=\"#d5b9b9\"/><path d=\"m228.61 323.61-8.8178-1.3309-9.1318-3.6516 4.0174-1.5134 3.6155-1.7913 12.83 2.0207 12.358-0.23763-7.0269 3.5215z\" clip-path=\"url(#pf75f2bc1c8)\" fill=\"#857373\"/><path d=\"m140.65 317.11 12.358 0.23763 12.83-2.0207 3.6155 1.7913 4.0174 1.5134-9.1318 3.6516-8.8178 1.3309-7.8441-2.9826z\" clip-path=\"url(#pf75f2bc1c8)\" fill=\"#a89191\"/><path d=\"m93.244 284.18 14.154 8.4311 15.438 6.5107 2.7509 4.9196 3.9279 4.6956-14.081-4.4081-12.953-6.5439-5.4712-6.6554z\" clip-path=\"url(#pf75f2bc1c8)\" fill=\"#c1a8a8\"/><path d=\"m52.612 163.65 1.8398 16.49 4.118 16.379-4.6167 9.0486-2.3282 9.3551-4.4045-16.075-1.9692-16.514 2.4869-9.5005z\" clip-path=\"url(#pf75f2bc1c8)\" fill=\"#eecece\"/><path d=\"m155.52 323.61 8.8178-1.3309 9.1318-3.6516 4.3491 1.2074 4.6039 0.87894-4.7465 4.6878-4.5906 2.3315-9.0439-1.7386z\" clip-path=\"url(#pf75f2bc1c8)\" fill=\"#a38d8d\"/><path d=\"m211.04 327.74-4.5906-2.3315-4.7465-4.6878 4.6039-0.87894 4.3491-1.2074 9.1318 3.6516 8.8178 1.3309-8.5216 2.3845z\" clip-path=\"url(#pf75f2bc1c8)\" fill=\"#8d7a7a\"/><path d=\"m173.09 327.74 4.5906-2.3315 4.7465-4.6878 4.7768 0.53405 4.8641 0.17914v5.0432 2.6754l-9.5788-0.35494z\" clip-path=\"url(#pf75f2bc1c8)\" fill=\"#9d8888\"/><path d=\"m192.06 329.15v-2.6754-5.0432l4.8641-0.17914 4.7768-0.53405 4.7465 4.6878 4.5906 2.3315-9.3991 1.0576z\" clip-path=\"url(#pf75f2bc1c8)\" fill=\"#968282\"/><path d=\"m82.983 87.868-6.5636 13.182-4.5476 14.383-8.9653 7.7121-6.9268 8.2656 5.2238-15.206 7.5289-14.234 6.1931-7.2907z\" clip-path=\"url(#pf75f2bc1c8)\" fill=\"#edcdcd\"/><path d=\"m51.625 214.92 6.732 15.374 8.9173 14.432 0.16418 8.6593 2.3301 8.6352-8.8758-13.402-6.7129-14.689-2.4986-9.5z\" clip-path=\"url(#pf75f2bc1c8)\" fill=\"#e7c8c8\"/><path d=\"m102.48 297.78 12.953 6.5439 14.081 4.4081 5.0479 4.385 6.0881 3.9916-11.669-2.5431-10.766-4.8591-8.6305-5.6917z\" clip-path=\"url(#pf75f2bc1c8)\" fill=\"#bfa6a6\"/><path d=\"m265.91 309.71-10.766 4.8591-11.669 2.5431 6.0881-3.9916 5.0479-4.385 14.081-4.4081 12.953-6.5439-7.1045 6.2346z\" clip-path=\"url(#pf75f2bc1c8)\" fill=\"#736363\"/><path d=\"m55.98 131.41-2.8676 15.907-0.50047 16.334-4.8739 9.1826-2.4869 9.5005 0.53576-16.678 3.0686-16.554 2.3966-8.995z\" clip-path=\"url(#pf75f2bc1c8)\" fill=\"#f6d5d5\"/><path d=\"m69.769 262.02 10.854 11.909 12.621 10.241 3.7656 6.9496 5.4712 6.6554-11.585-8.6104-9.9893-10.569-6.6364-8.1198z\" clip-path=\"url(#pf75f2bc1c8)\" fill=\"#d6baba\"/><path d=\"m118.22 309.71 10.766 4.8591 11.669 2.5431 7.0269 3.5215 7.8441 2.9826-8.3466-1.0737-7.718-3.5244-11.226-4.2737z\" clip-path=\"url(#pf75f2bc1c8)\" fill=\"#b9a1a1\"/><path d=\"m244.67 319.01-7.718 3.5244-8.3466 1.0737 7.8441-2.9826 7.0269-3.5215 11.669-2.5431 10.766-4.8591-10.015 5.0345z\" clip-path=\"url(#pf75f2bc1c8)\" fill=\"#7f6e6e\"/><path d=\"m101.84 66.062-10.346 10.068-8.5082 11.738-8.0574 6.8119-6.1931 7.2907 9.7411-13 11.818-11.517 4.9923-5.8821z\" clip-path=\"url(#pf75f2bc1c8)\" fill=\"#ebcbcb\"/><path d=\"m45.251 182.34 1.9692 16.514 4.4045 16.075 0.056222 9.509 2.4986 9.5-4.3978-15.741-1.9676-16.531-2.5592-9.662z\" clip-path=\"url(#pf75f2bc1c8)\" fill=\"#f4d4d4\"/><path d=\"m139.46 319.01 7.718 3.5244 8.3466 1.0737 8.5216 2.3845 9.0439 1.7386-4.352-0.13253-4.03-2.6661-13.014-2.4995z\" clip-path=\"url(#pf75f2bc1c8)\" fill=\"#b19999\"/><path d=\"m219.42 324.94-4.03 2.6661-4.352 0.13253 9.0439-1.7386 8.5216-2.3845 8.3466-1.0737 7.718-3.5244-12.234 3.4231z\" clip-path=\"url(#pf75f2bc1c8)\" fill=\"#8c7979\"/><path d=\"m68.733 101.97-7.5289 14.234-5.2238 15.206-4.7279 8.6976-2.3966 8.995 5.5844-16.137 8.0363-15.426 2.0686-7.91z\" clip-path=\"url(#pf75f2bc1c8)\" fill=\"#f8d7d7\"/><path d=\"m283.91 293.2-8.3437 9.3572-9.6539 7.145 8.6305-5.6917 7.1045-6.2346 11.585-8.6104 9.9893-10.569-8.6912 7.6255z\" clip-path=\"url(#pf75f2bc1c8)\" fill=\"#6e5f5f\"/><path d=\"m80.906 278.6 9.9893 10.569 11.585 8.6104 7.1045 6.2346 8.6305 5.6917-9.6539-7.145-8.3437-9.3572-10.62-6.9777z\" clip-path=\"url(#pf75f2bc1c8)\" fill=\"#d3b7b7\"/><path d=\"m54.18 233.93 6.7129 14.689 8.8758 13.402 4.5014 8.4565 6.6364 8.1198-8.1868-12.38-6.2027-14.003-7.381-8.9648z\" clip-path=\"url(#pf75f2bc1c8)\" fill=\"#e8c9c9\"/><path d=\"m164.7 324.94 4.03 2.6661 4.352 0.13253 9.3991 1.0576 9.5788 0.35494v0.19165-2.3699l-13.815-0.51101z\" clip-path=\"url(#pf75f2bc1c8)\" fill=\"#a69090\"/><path d=\"m192.06 326.97v2.3699-0.19165l9.5788-0.35494 9.3991-1.0576 4.352-0.13253 4.03-2.6661-13.545 1.5218z\" clip-path=\"url(#pf75f2bc1c8)\" fill=\"#998585\"/><path d=\"m48.856 149.1-3.0686 16.554-0.53576 16.678 0.003971 9.6639 2.5592 9.662 0.53543-17.035 3.0654-17.236-2.5255-9.1402z\" clip-path=\"url(#pf75f2bc1c8)\" fill=\"#fcdada\"/><path d=\"m127.44 51.74-13.558 6.1315-12.042 8.1902-6.554 5.5088-4.9923 5.8821 13.715-9.8055 15.393-7.8899 3.4501-4.1336z\" clip-path=\"url(#pf75f2bc1c8)\" fill=\"#e3c5c5\"/><path d=\"m90.292 77.453-11.818 11.517-9.7411 13-4.188 7.6604-2.0686 7.91 10.376-14.425 12.555-13.149 1.5636-6.3492z\" clip-path=\"url(#pf75f2bc1c8)\" fill=\"#f4d4d4\"/><path d=\"m100.22 293.2 8.3437 9.3572 9.6539 7.145 10.015 5.0345 11.226 4.2737-6.9351-5.9782-6.0048-8.3876-13.921-5.2598z\" clip-path=\"url(#pf75f2bc1c8)\" fill=\"#cbb0b0\"/><path d=\"m257.61 304.65-6.0048 8.3876-6.9351 5.9782 11.226-4.2737 10.015-5.0345 9.6539-7.145 8.3437-9.3572-12.378 6.1849z\" clip-path=\"url(#pf75f2bc1c8)\" fill=\"#7d6d6d\"/><path d=\"m47.815 201.66 1.9676 16.531 4.3978 15.741 4.956 9.3201 7.381 8.9648-4.0686-15.402-1.8217-16.538-7.6782-9.131z\" clip-path=\"url(#pf75f2bc1c8)\" fill=\"#f5d4d4\"/><path d=\"m66.517 252.22 6.2027 14.003 8.1868 12.38 8.6912 7.6255 10.62 6.9777-6.8515-11.45-5.1991-13.375-11.928-7.7288z\" clip-path=\"url(#pf75f2bc1c8)\" fill=\"#e3c5c5\"/><path d=\"m295.96 268.38-5.1991 13.375-6.8515 11.45 10.62-6.9777 8.6912-7.6255 8.1868-12.38 6.2027-14.003-9.7225 8.4331z\" clip-path=\"url(#pf75f2bc1c8)\" fill=\"#6d5f5f\"/><path d=\"m62.476 117.54-8.0363 15.426-5.5844 16.137 0.034109 9.1459 2.5255 9.1402 5.573-17.121 8.007-16.685-2.3847-8.0122z\" clip-path=\"url(#pf75f2bc1c8)\" fill=\"#fedcdc\"/><path d=\"m126.52 304.65 6.0048 8.3876 6.9351 5.9782 12.234 3.4231 13.014 2.4995-3.6259-5.2251-3.1432-7.7596-16.209-3.0844z\" clip-path=\"url(#pf75f2bc1c8)\" fill=\"#bfa6a6\"/><path d=\"m226.19 311.95-3.1432 7.7596-3.6259 5.2251 13.014-2.4995 12.234-3.4231 6.9351-5.9782 6.0048-8.3876-15.21 4.2193z\" clip-path=\"url(#pf75f2bc1c8)\" fill=\"#8e7b7b\"/><path d=\"m119.4 59.757-15.393 7.8899-13.715 9.8055-3.321 6.1648-1.5636 6.3492 14.526-11.614 16.246-9.8466 0.97942-4.4312z\" clip-path=\"url(#pf75f2bc1c8)\" fill=\"#ebcbcb\"/><path d=\"m158.21 46.215-15.914 1.6022-14.859 3.9231-4.5871 3.8837-3.4501 4.1336 16.811-5.8023 17.935-3.5799 1.7289-2.1411z\" clip-path=\"url(#pf75f2bc1c8)\" fill=\"#d6b9b9\"/><path d=\"m157.94 311.95 3.1432 7.7596 3.6259 5.2251 13.545 1.5218 13.815 0.51101v-4.9647-7.542l-17.238-0.63134z\" clip-path=\"url(#pf75f2bc1c8)\" fill=\"#b09999\"/><path d=\"m192.06 314.46v7.542 4.9647l13.815-0.51101 13.545-1.5218 3.6259-5.2251 3.1432-7.7596-16.891 1.8795z\" clip-path=\"url(#pf75f2bc1c8)\" fill=\"#a08b8b\"/><path d=\"m51.415 167.39-3.0654 17.236-0.53543 17.035 5.1339 9.4861 7.6782 9.131 0.49579-17.382 2.8373-17.906-7.5106-8.6308z\" clip-path=\"url(#pf75f2bc1c8)\" fill=\"#fddbdb\"/><path d=\"m85.407 89.967-12.555 13.149-10.376 14.425 0.13415 8.03 2.3847 8.0122 10.316-15.929 12.449-14.862-2.0996-6.397z\" clip-path=\"url(#pf75f2bc1c8)\" fill=\"#fad8d8\"/><path d=\"m154.15 50.375-17.935 3.5799-16.811 5.8023-2.2415 4.3177-0.97942 4.4312 17.674-7.8788 18.777-5.7484 0.42673-2.2765z\" clip-path=\"url(#pf75f2bc1c8)\" fill=\"#dcbebe\"/><path d=\"m266.3 281.08-3.752 12.866-4.9384 10.701 13.921-5.2598 12.378-6.1849 6.8515-11.45 5.1991-13.375-13.943 6.8602z\" clip-path=\"url(#pf75f2bc1c8)\" fill=\"#7f6e6e\"/><path d=\"m88.167 268.38 5.1991 13.375 6.8515 11.45 12.378 6.1849 13.921 5.2598-4.9384-10.701-3.752-12.866-15.717-5.8412z\" clip-path=\"url(#pf75f2bc1c8)\" fill=\"#dabdbd\"/><path d=\"m192.06 50.207-17.164-3.2031-16.69-0.78878-2.3355 2.0194-1.7289 2.1411 18.734-1.265 19.185 1.0964z\" clip-path=\"url(#pf75f2bc1c8)\" fill=\"#bca3a3\"/><path d=\"m60.627 220.28 1.8217 16.538 4.0686 15.402 9.7225 8.4331 11.928 7.7288-3.4141-15.086-1.5296-16.538-12.458-7.8824z\" clip-path=\"url(#pf75f2bc1c8)\" fill=\"#f0d0d0\"/><path d=\"m300.91 236.76-1.5296 16.538-3.4141 15.086 11.928-7.7288 9.7225-8.4331 4.0686-15.402 1.8217-16.538-10.138 8.5953z\" clip-path=\"url(#pf75f2bc1c8)\" fill=\"#716262\"/><path d=\"m116.18 68.506-16.246 9.8466-14.526 11.614 0.25322 6.4284 2.0996 6.397 14.358-13.504 16-11.879-1.6233-4.4327z\" clip-path=\"url(#pf75f2bc1c8)\" fill=\"#efcfcf\"/><path d=\"m192.06 50.207-19.185-1.0964-18.734 1.265-1.0892 2.2274-0.42673 2.2765 19.527-3.4981 19.908-1.1743z\" clip-path=\"url(#pf75f2bc1c8)\" fill=\"#c2a8a8\"/><path d=\"m64.995 133.58-8.007 16.685-5.573 17.121 5.0339 8.97 7.5106 8.6308 5.1533-18.09 7.3927-17.924-6.8669-7.5422z\" clip-path=\"url(#pf75f2bc1c8)\" fill=\"#ffdddd\"/><path d=\"m152.63 54.879-18.777 5.7484-17.674 7.8788 0.31609 4.4705 1.6233 4.4327 17.339-10.02 18.343-7.9659-0.9223-2.258z\" clip-path=\"url(#pf75f2bc1c8)\" fill=\"#e0c2c2\"/><path d=\"m192.06 50.207-19.908 1.1743-19.527 3.4981 0.2476 2.2869 0.9223 2.258 18.992-5.7619 19.273-3.4555z\" clip-path=\"url(#pf75f2bc1c8)\" fill=\"#c8adad\"/><path d=\"m192.06 50.207-19.273 3.4555-18.992 5.7619 1.5856 2.1898 2.2255 2.0829 17.137-7.8995 17.317-5.5906z\" clip-path=\"url(#pf75f2bc1c8)\" fill=\"#cdb2b2\"/><path d=\"m117.83 281.08 3.752 12.866 4.9384 10.701 15.21 4.2193 16.209 3.0844-2.5875-10.215-1.9674-12.534-18.354-3.4315z\" clip-path=\"url(#pf75f2bc1c8)\" fill=\"#ccb1b1\"/><path d=\"m230.75 289.2-1.9674 12.534-2.5875 10.215 16.209-3.0844 15.21-4.2193 4.9384-10.701 3.752-12.866-17.201 4.6904z\" clip-path=\"url(#pf75f2bc1c8)\" fill=\"#938080\"/><path d=\"m192.06 50.207-17.317 5.5906-17.137 7.8995 2.8303 1.9388 3.3886 1.7595 14.07-9.7569 14.166-7.4315z\" clip-path=\"url(#pf75f2bc1c8)\" fill=\"#d2b6b6\"/><path d=\"m192.06 50.207 14.166 7.4315 14.07 9.7569 3.3886-1.7595 2.8303-1.9388-17.137-7.8995-17.317-5.5906z\" clip-path=\"url(#pf75f2bc1c8)\" fill=\"#ceb2b2\"/><path d=\"m87.76 102.79-12.449 14.862-10.316 15.929 4.6435 7.8507 6.8669 7.5422 9.5047-17.404 11.441-16.538-5.7481-5.9904z\" clip-path=\"url(#pf75f2bc1c8)\" fill=\"#fad9d9\"/><path d=\"m192.06 50.207-14.166 7.4315-14.07 9.7569 3.8897 1.5481 4.3237 1.3082 9.9911-11.196 10.031-8.8486z\" clip-path=\"url(#pf75f2bc1c8)\" fill=\"#d5b9b9\"/><path d=\"m192.06 50.207 10.031 8.8486 9.9911 11.196 4.3237-1.3082 3.8897-1.5481-14.07-9.7569-14.166-7.4315z\" clip-path=\"url(#pf75f2bc1c8)\" fill=\"#d2b6b6\"/><path d=\"m63.96 184.99-2.8373 17.906-0.49579 17.382 10.138 8.5953 12.458 7.8824 0.41636-17.691 2.3819-18.509-12.158-7.445z\" clip-path=\"url(#pf75f2bc1c8)\" fill=\"#f8d7d7\"/><path d=\"m298.11 200.56 2.3819 18.509 0.41636 17.691 12.458-7.8824 10.138-8.5953-0.49579-17.382-2.8373-17.906-9.9036 8.1213z\" clip-path=\"url(#pf75f2bc1c8)\" fill=\"#796969\"/><path d=\"m153.8 59.424-18.343 7.9659-17.339 10.02 2.9191 4.3166 4.1795 4.1223 15.773-12.074 16.62-10.077-2.2255-2.0829z\" clip-path=\"url(#pf75f2bc1c8)\" fill=\"#e1c3c3\"/><path d=\"m118.12 77.41-16 11.879-14.358 13.504 3.9429 6.2514 5.7481 5.9904 13.156-15.342 14.61-13.843-4.1795-4.1223z\" clip-path=\"url(#pf75f2bc1c8)\" fill=\"#f1d0d0\"/><path d=\"m153.38 289.2 1.9674 12.534 2.5875 10.215 16.891 1.8795 17.238 0.63134v-10.046-12.419l-19.542-0.70294z\" clip-path=\"url(#pf75f2bc1c8)\" fill=\"#bba2a2\"/><path d=\"m192.06 292v12.419 10.046l17.238-0.63134 16.891-1.8795 2.5875-10.215 1.9674-12.534-19.142 2.092z\" clip-path=\"url(#pf75f2bc1c8)\" fill=\"#a89191\"/><path d=\"m192.06 50.207-10.031 8.8486-9.9911 11.196 4.682 1.0439 4.9573 0.75999 5.1856-12.107 5.1969-9.7415z\" clip-path=\"url(#pf75f2bc1c8)\" fill=\"#d8bbbb\"/><path d=\"m192.06 50.207 5.1969 9.7415 5.1856 12.107 4.9573-0.75999 4.682-1.0439-9.9911-11.196-10.031-8.8486z\" clip-path=\"url(#pf75f2bc1c8)\" fill=\"#d6b9b9\"/><path d=\"m192.06 50.207-5.1969 9.7415-5.1856 12.107 5.1441 0.46182 5.2385 0.15492v-12.419-10.046z\" clip-path=\"url(#pf75f2bc1c8)\" fill=\"#d9bcbc\"/><path d=\"m192.06 50.207v10.046 12.419l5.2385-0.15492 5.1441-0.46182-5.1856-12.107-5.1969-9.7415z\" clip-path=\"url(#pf75f2bc1c8)\" fill=\"#d8bbbb\"/><path d=\"m83.223 236.76 1.5296 16.538 3.4141 15.086 13.943 6.8602 15.717 5.8412-2.4659-14.828-1.1054-16.533-16.451-5.9637z\" clip-path=\"url(#pf75f2bc1c8)\" fill=\"#e6c7c7\"/><path d=\"m269.87 249.72-1.1054 16.533-2.4659 14.828 15.717-5.8412 13.943-6.8602 3.4141-15.086 1.5296-16.538-14.581 7.0006z\" clip-path=\"url(#pf75f2bc1c8)\" fill=\"#857373\"/><path d=\"m157.61 63.697-16.62 10.077-15.773 12.074 5.3798 3.8515 6.4959 3.5076 13.042-13.886 13.695-11.926-3.3886-1.7595z\" clip-path=\"url(#pf75f2bc1c8)\" fill=\"#e1c3c3\"/><path d=\"m220.3 67.395 13.695 11.926 13.042 13.886 6.4959-3.5076 5.3798-3.8515-15.773-12.074-16.62-10.077-2.8303 1.9388z\" clip-path=\"url(#pf75f2bc1c8)\" fill=\"#b49c9c\"/><path d=\"m76.506 148.98-7.3927 17.924-5.1533 18.09 9.9036 8.1213 12.158 7.445 4.3223-18.965 6.1923-19.041-11.022-6.4878z\" clip-path=\"url(#pf75f2bc1c8)\" fill=\"#fad9d9\"/><path d=\"m287.59 162.55 6.1923 19.041 4.3223 18.965 12.158-7.445 9.9036-8.1213-5.1533-18.09-7.3927-17.924-9.0089 7.0867z\" clip-path=\"url(#pf75f2bc1c8)\" fill=\"#847373\"/><path d=\"m125.22 85.849-14.61 13.843-13.156 15.342 7.4787 5.6149 9.0975 5.1288 10.946-16.983 12.12-15.587-6.4959-3.5076z\" clip-path=\"url(#pf75f2bc1c8)\" fill=\"#eecece\"/><path d=\"m247.04 93.208 12.12 15.587 10.946 16.983 9.0975-5.1288 7.4787-5.6149-13.156-15.342-14.61-13.843-5.3798 3.8515z\" clip-path=\"url(#pf75f2bc1c8)\" fill=\"#a28c8c\"/><path d=\"m97.451 115.03-11.441 16.538-9.5047 17.404 9.0089 7.0867 11.022 6.4878 7.9469-18.732 9.5439-18.041-9.0975-5.1288z\" clip-path=\"url(#pf75f2bc1c8)\" fill=\"#f7d6d6\"/><path d=\"m270.1 125.78 9.5439 18.041 7.9469 18.732 11.022-6.4878 9.0089-7.0867-9.5047-17.404-11.441-16.538-7.4787 5.6149z\" clip-path=\"url(#pf75f2bc1c8)\" fill=\"#927e7e\"/><path d=\"m114.26 249.72 1.1054 16.533 2.4659 14.828 17.201 4.6904 18.354 3.4315-1.2938-14.658-0.58012-16.528-19.235-3.506z\" clip-path=\"url(#pf75f2bc1c8)\" fill=\"#d7baba\"/><path d=\"m232.62 258.02-0.58012 16.528-1.2938 14.658 18.354-3.4315 17.201-4.6904 2.4659-14.828 1.1054-16.533-18.017 4.7908z\" clip-path=\"url(#pf75f2bc1c8)\" fill=\"#9a8585\"/><path d=\"m163.83 67.395-13.695 11.926-13.042 13.886 7.504 3.0958 8.3821 2.623 9.3122-15.307 9.7521-13.368-4.3237-1.3082z\" clip-path=\"url(#pf75f2bc1c8)\" fill=\"#dfc1c1\"/><path d=\"m212.09 70.251 9.7521 13.368 9.3122 15.307 8.3821-2.623 7.504-3.0958-13.042-13.886-13.695-11.926-3.8897 1.5481z\" clip-path=\"url(#pf75f2bc1c8)\" fill=\"#bca3a3\"/><path d=\"m86.022 200.56-2.3819 18.509-0.41636 17.691 14.581 7.0006 16.451 5.9637 0.30091-17.935 1.7209-18.989-16.035-5.6294z\" clip-path=\"url(#pf75f2bc1c8)\" fill=\"#edcece\"/><path d=\"m267.85 212.8 1.7209 18.989 0.30091 17.935 16.451-5.9637 14.581-7.0006-0.41636-17.691-2.3819-18.509-14.22 6.61z\" clip-path=\"url(#pf75f2bc1c8)\" fill=\"#8c7a7a\"/><path d=\"m172.04 70.251-9.7521 13.368-9.3122 15.307 9.1106 2.0976 9.6725 1.5298 4.85-16.214 5.0705-14.284-4.9573-0.75999z\" clip-path=\"url(#pf75f2bc1c8)\" fill=\"#dabdbd\"/><path d=\"m202.45 72.055 5.0705 14.284 4.85 16.214 9.6725-1.5298 9.1106-2.0976-9.3122-15.307-9.7521-13.368-4.682 1.0439z\" clip-path=\"url(#pf75f2bc1c8)\" fill=\"#c4aaaa\"/><path d=\"m192.06 260.87v16.526 14.599l19.542-0.70294 19.142-2.092 1.2938-14.658 0.58012-16.528-20.067 2.138z\" clip-path=\"url(#pf75f2bc1c8)\" fill=\"#b09898\"/><path d=\"m151.51 258.02 0.58012 16.528 1.2938 14.658 19.142 2.092 19.542 0.70294v-14.599-16.526l-20.49-0.71845z\" clip-path=\"url(#pf75f2bc1c8)\" fill=\"#c4aaaa\"/><path d=\"m181.68 72.055-5.0705 14.284-4.85 16.214 10.055 0.93067 10.248 0.31237v-16.526-14.599l-5.2385-0.15492z\" clip-path=\"url(#pf75f2bc1c8)\" fill=\"#d4b8b8\"/><path d=\"m192.06 72.672v14.599 16.526l10.248-0.31237 10.055-0.93067-4.85-16.214-5.0705-14.284-5.1441 0.46182z\" clip-path=\"url(#pf75f2bc1c8)\" fill=\"#ccb1b1\"/><path d=\"m137.09 93.208-12.12 15.587-10.946 16.983 10.568 4.5388 11.855 3.8545 7.8533-18.283 8.6757-16.961-8.3821-2.623z\" clip-path=\"url(#pf75f2bc1c8)\" fill=\"#e9caca\"/><path d=\"m231.15 98.926 8.6757 16.961 7.8533 18.283 11.855-3.8545 10.568-4.5388-10.946-16.983-12.12-15.587-7.504 3.0958z\" clip-path=\"url(#pf75f2bc1c8)\" fill=\"#ae9797\"/><path d=\"m96.536 162.55-6.1923 19.041-4.3223 18.965 14.22 6.61 16.035 5.6294 3.1209-19.664 4.4663-19.934-14.47-4.8944z\" clip-path=\"url(#pf75f2bc1c8)\" fill=\"#f1d0d0\"/><path d=\"m260.27 173.2 4.4663 19.934 3.1209 19.664 16.035-5.6294 14.22-6.61-4.3223-18.965-6.1923-19.041-12.858 5.7531z\" clip-path=\"url(#pf75f2bc1c8)\" fill=\"#968282\"/><path d=\"m114.03 125.78-9.5439 18.041-7.9469 18.732 12.858 5.7531 14.47 4.8944 5.7236-19.791 6.8618-19.236-11.855-3.8545z\" clip-path=\"url(#pf75f2bc1c8)\" fill=\"#efcfcf\"/><path d=\"m247.68 134.17 6.8618 19.236 5.7236 19.791 14.47-4.8944 12.858-5.7531-7.9469-18.732-9.5439-18.041-10.568 4.5388z\" clip-path=\"url(#pf75f2bc1c8)\" fill=\"#a18c8c\"/><path d=\"m116.28 212.8-1.7209 18.989-0.30091 17.935 18.017 4.7908 19.235 3.506 0.15794-18.092 0.90309-19.3-18.736-3.3081z\" clip-path=\"url(#pf75f2bc1c8)\" fill=\"#dfc1c1\"/><path d=\"m231.56 220.63 0.90309 19.3 0.15794 18.092 19.235-3.506 18.017-4.7908-0.30091-17.935-1.7209-18.989-17.555 4.5212z\" clip-path=\"url(#pf75f2bc1c8)\" fill=\"#a18c8c\"/><path d=\"m152.98 98.926-8.6757 16.961-7.8533 18.283 12.927 3.0885 13.757 2.2557 4.1028-19.119 4.5258-17.842-9.6725-1.5298z\" clip-path=\"url(#pf75f2bc1c8)\" fill=\"#e0c2c2\"/><path d=\"m212.37 102.55 4.5258 17.842 4.1028 19.119 13.757-2.2557 12.927-3.0885-7.8533-18.283-8.6757-16.961-9.1106 2.0976z\" clip-path=\"url(#pf75f2bc1c8)\" fill=\"#bba2a2\"/><path d=\"m152.57 220.63-0.90309 19.3-0.15794 18.092 20.067 2.138 20.49 0.71845v-18.146-19.408l-19.953-0.67776z\" clip-path=\"url(#pf75f2bc1c8)\" fill=\"#ccb1b1\"/><path d=\"m192.06 223.32v19.408 18.146l20.49-0.71845 20.067-2.138-0.15794-18.092-0.90309-19.3-19.543 2.017z\" clip-path=\"url(#pf75f2bc1c8)\" fill=\"#b79f9f\"/><path d=\"m192.06 103.8v18.146 19.408l14.609-0.4613 14.322-1.3737-4.1028-19.119-4.5258-17.842-10.055 0.93067z\" clip-path=\"url(#pf75f2bc1c8)\" fill=\"#c8aeae\"/><path d=\"m171.76 102.55-4.5258 17.842-4.1028 19.119 14.322 1.3737 14.609 0.4613v-19.408-18.146l-10.248-0.31237z\" clip-path=\"url(#pf75f2bc1c8)\" fill=\"#d5b9b9\"/><path d=\"m123.86 173.2-4.4663 19.934-3.1209 19.664 17.555 4.5212 18.736 3.3081 1.637-20.116 2.3412-20.512-16.864-2.8717z\" clip-path=\"url(#pf75f2bc1c8)\" fill=\"#e3c5c5\"/><path d=\"m227.58 180 2.3412 20.512 1.637 20.116 18.736-3.3081 17.555-4.5212-3.1209-19.664-4.4663-19.934-15.818 3.9274z\" clip-path=\"url(#pf75f2bc1c8)\" fill=\"#aa9393\"/><path d=\"m136.45 134.17-6.8618 19.236-5.7236 19.791 15.818 3.9274 16.864 2.8717 2.9975-20.476 3.5895-20.006-13.757-2.2557z\" clip-path=\"url(#pf75f2bc1c8)\" fill=\"#e3c5c5\"/><path d=\"m221 139.52 3.5895 20.006 2.9975 20.476 16.864-2.8717 15.818-3.9274-5.7236-19.791-6.8618-19.236-12.927 3.0885z\" clip-path=\"url(#pf75f2bc1c8)\" fill=\"#b39b9b\"/><path d=\"m156.55 180-2.3412 20.512-1.637 20.116 19.543 2.017 19.953 0.67776v-20.273-20.712l-17.941-0.58794z\" clip-path=\"url(#pf75f2bc1c8)\" fill=\"#d2b6b6\"/><path d=\"m192.06 182.34v20.712 20.273l19.953-0.67776 19.543-2.017-1.637-20.116-2.3412-20.512-17.578 1.7501z\" clip-path=\"url(#pf75f2bc1c8)\" fill=\"#bea5a5\"/><path d=\"m163.13 139.52-3.5895 20.006-2.9975 20.476 17.578 1.7501 17.941 0.58794v-20.712-20.273l-14.609-0.4613z\" clip-path=\"url(#pf75f2bc1c8)\" fill=\"#d5b8b8\"/><path d=\"m192.06 141.35v20.273 20.712l17.941-0.58794 17.578-1.7501-2.9975-20.476-3.5895-20.006-14.322 1.3737z\" clip-path=\"url(#pf75f2bc1c8)\" fill=\"#c4aaaa\"/></g><defs><clipPath id=\"pf75f2bc1c8\"><rect x=\"7.2\" y=\"7.2\" width=\"360\" height=\"360\"/></clipPath></defs></svg>"
      ],
      "text/plain": [
       "<Figure size 500x500 with 1 Axes>"
      ]
     },
     "execution_count": 18,
     "metadata": {},
     "output_type": "execute_result"
    }
   ],
   "source": [
    "from qiskit.visualization import plot_bloch_vector\n",
    "coords = [1,pi/2,0]  # [Radius, Theta, Phi]\n",
    "plot_bloch_vector(coords, coord_type='spherical')"
   ]
  },
  {
   "cell_type": "markdown",
   "metadata": {},
   "source": [
    "#### Warning!\n",
    "When first learning about qubit states, it's easy to confuse the qubits _statevector_ with its _Bloch vector_. Remember the statevector is the vector discussed in [1.1](#notation), that holds the amplitudes for the two states our qubit can be in. The Bloch vector is a visualisation tool that maps the 2D, complex statevector onto real, 3D space."
   ]
  },
  {
   "cell_type": "markdown",
   "metadata": {},
   "source": [
    "#### Quick Exercise\n",
    "Use `plot_bloch_vector()` to plot a qubit in the states:\n",
    "1. $|0\\rangle$\n",
    "2. $|1\\rangle$\n",
    "3. $\\tfrac{1}{\\sqrt{2}}(|0\\rangle + |1\\rangle)$\n",
    "4. $\\tfrac{1}{\\sqrt{2}}(|0\\rangle - i|1\\rangle)$\n",
    "5. $\\tfrac{1}{\\sqrt{2}}\\begin{bmatrix}i\\\\1\\end{bmatrix}$"
   ]
  },
  {
   "cell_type": "code",
   "execution_count": 20,
   "metadata": {},
   "outputs": [
    {
     "data": {
      "text/html": [
       "<h3>Version Information</h3><table><tr><th>Qiskit Software</th><th>Version</th></tr><tr><td><code>qiskit-terra</code></td><td>0.22.0</td></tr><tr><td><code>qiskit-aer</code></td><td>0.11.0</td></tr><tr><td><code>qiskit-ibmq-provider</code></td><td>0.19.2</td></tr><tr><td><code>qiskit</code></td><td>0.39.0</td></tr><tr><td><code>qiskit-nature</code></td><td>0.4.1</td></tr><tr><td><code>qiskit-finance</code></td><td>0.3.2</td></tr><tr><td><code>qiskit-optimization</code></td><td>0.4.0</td></tr><tr><td><code>qiskit-machine-learning</code></td><td>0.4.0</td></tr><tr><th>System information</th></tr><tr><td>Python version</td><td>3.8.13</td></tr><tr><td>Python compiler</td><td>Clang 13.1.6 (clang-1316.0.21.2.5)</td></tr><tr><td>Python build</td><td>default, Aug 29 2022 05:17:23</td></tr><tr><td>OS</td><td>Darwin</td></tr><tr><td>CPUs</td><td>8</td></tr><tr><td>Memory (Gb)</td><td>32.0</td></tr><tr><td colspan='2'>Mon Nov 28 09:32:47 2022 GMT</td></tr></table>"
      ],
      "text/plain": [
       "<IPython.core.display.HTML object>"
      ]
     },
     "metadata": {},
     "output_type": "display_data"
    }
   ],
   "source": [
    "import qiskit.tools.jupyter\n",
    "%qiskit_version_table"
   ]
  }
 ],
 "metadata": {
  "kernelspec": {
   "display_name": "Python 3",
   "language": "python",
   "name": "python3"
  },
  "language_info": {
   "codemirror_mode": {
    "name": "ipython",
    "version": 3
   },
   "file_extension": ".py",
   "mimetype": "text/x-python",
   "name": "python",
   "nbconvert_exporter": "python",
   "pygments_lexer": "ipython3",
   "version": "3.9"
  }
 },
 "nbformat": 4,
 "nbformat_minor": 2
}
