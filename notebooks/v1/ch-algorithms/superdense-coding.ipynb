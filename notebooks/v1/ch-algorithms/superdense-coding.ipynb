{
 "cells": [
  {
   "cell_type": "markdown",
   "metadata": {
    "colab_type": "text",
    "id": "OQYW8N5rPyGC",
    "tags": [
     "remove_cell"
    ]
   },
   "source": [
    "# Superdense Coding"
   ]
  },
  {
   "cell_type": "markdown",
   "metadata": {
    "colab_type": "text",
    "id": "OQYW8N5rPyGC"
   },
   "source": [
    "This notebook demonstrates the Superdense Coding (SDC) protocol. We first use Qiskit's simulator to test our quantum circuit, and then try it out on a real quantum computer.\n",
    "\n",
    "## Contents\n",
    "\n",
    "1. [Superdense Coding and Quantum Teleportation](#difference)\n",
    "2. [The Process](#process)    \n",
    "    2.1 [Step 1](#step1)    \n",
    "    2.2 [Step 2](#step2)    \n",
    "    2.3 [Step 3](#step3)\n",
    "3. [Simulating the Superdense Coding Protocol](#simulating)    \n",
    "    3.1 [3.1 Visualizing Our Measurements](#visualising)    \n",
    "4. [Superdense Coding on a Real Quantum Computer](#real_qc)\n",
    "\n",
    "\n",
    "## 1. The Difference between Superdense Coding and Quantum Teleportation <a id='difference'></a>\n",
    "\n",
    "Quantum teleportation and superdense coding are closely related, to avoid confusion we need to clarify the difference.\n",
    "\n",
    "Quantum teleportation is a process by which the state of qubit ($|\\psi\\rangle$) can be transmitted from one location to another, using two bits of classical communication and a Bell pair. In other words, we can say it is a protocol that destroys the quantum state of a qubit in one location and recreates it on a qubit at a distant location, with the help of shared entanglement. Superdense coding is a procedure that allows someone to send two classical bits to another party using just a single qubit of communication.\n",
    "\n",
    "| Teleportation                                     | Superdense Coding                                    |\n",
    "|:-------------------------------------------------:|:----------------------------------------------------:|\n",
    "| Transmit one<br>qubit using two<br>classical bits | Transmit two<br>classical bits<br>using one<br>qubit |\n",
    "\n",
    "\n",
    "The teleportation protocol can be thought of as a flipped version of the superdense coding protocol, in the sense that Alice and Bob merely “swap their equipment.”"
   ]
  },
  {
   "cell_type": "markdown",
   "metadata": {
    "colab_type": "text",
    "id": "N5LyBKFXYG41"
   },
   "source": [
    "\n",
    "\n",
    "## 2. The Process <a id='process'></a>\n",
    "\n",
    "![image1](images/superdense.jpg)\n",
    "\n",
    "### 2.1 Step 1 <a id='step1'></a>\n",
    "The process starts with a third party, who we'll call Charlie. Two qubits are prepared by Charlie in an entangled state. He initially starts the 2 qubits in the basis state $|0\\rangle$. He applies Hadamard gate ($H$) to the first qubit to create superposition. He then applies CNOT gate ($CX$) using the first qubit as a control and the second as the target. This is the entangled state (Bell pair) we mentioned earlier. \n",
    "\n",
    "#### Outcome States\n",
    "\n",
    "We start in the state:\n",
    "\n",
    "$$|00\\rangle = |0\\rangle_A\\otimes |0\\rangle_B$$\n",
    "\n",
    "where the qubit to be sent to Alice is labeled with $A$ and the qubit to be sent to Bob is labeled $B$. Charlie first applies a Hadamard gate to the first qubit, which creates superposition and we get the state:\n",
    "\n",
    "\n",
    "$$|+0\\rangle  =  \\tfrac{1}{\\sqrt{2}}(|00\\rangle + |10\\rangle)$$\n",
    "\n",
    "\n",
    "\n",
    "Then Charlie applies the CNOT gate. The CNOT gate entangles both qubits, i.e. it flips the target if the control is $|1\\rangle$. Note that the control qubit is our rightmost qubit.\n",
    "\n",
    "\n",
    "\n",
    "$$\\text{CNOT} \\tfrac{1}{\\sqrt{2}}(|00\\rangle + |10\\rangle) = \\tfrac{1}{\\sqrt{2}}(|00\\rangle + |11\\rangle)$$\n",
    "\n",
    "\n",
    "\n",
    "### 2.2 Step 2 <a id='step2'></a>\n",
    "\n",
    "Charlie sends the first qubit to Alice and the second qubit to Bob. The goal of the protocol is for Alice to send 2 classical bits of information to Bob using her qubit. But before she does, she needs to apply a set of quantum gates to her qubit depending on the 2 bits of information she wants to send:\n",
    "\n",
    "\n",
    "#### Encoding Rules for Superdense Coding (Alice protocol):\n",
    "<table>\n",
    "    <tr>\n",
    "        <th>Intended Message</th>\n",
    "        <th>Applied Gate</th>\n",
    "        <th>Resulting State ($\\cdot\\tfrac{1}{\\sqrt{2}}$)</th>\n",
    "    </tr>\n",
    "    <tr>\n",
    "        <td>00</td>\n",
    "        <td>$I$</td>\n",
    "        <td>$|00\\rangle + |11\\rangle$</td>\n",
    "    </tr>\n",
    "    <tr>\n",
    "        <td>01</td>\n",
    "        <td>$X$</td>\n",
    "        <td>$|10\\rangle + |01\\rangle$</td>\n",
    "    </tr>\n",
    "    <tr>\n",
    "        <td>10</td>\n",
    "        <td>$Z$</td>\n",
    "        <td>$|00\\rangle - |11\\rangle$</td>\n",
    "    </tr>\n",
    "    <tr>\n",
    "        <td>11</td>\n",
    "        <td>$ZX$</td>\n",
    "        <td>$-|10\\rangle + |01\\rangle$</td>\n",
    "    </tr>\n",
    "</table>\n",
    "\n",
    "Thus if she wants to send a `00`, she does nothing to her qubit (apply the identity ($I$) gate). If she wants to send a `01`, then she applies the $X$ gate. Depending on what she wants to send, she applies the appropriate gate, then sends her qubit to Bob for the final step in the process.\n",
    "\n",
    "\n",
    "### 2.3 Step 3 <a id='step3'></a>\n",
    "\n",
    "Bob receives Alice's qubit (leftmost qubit) and uses his qubit to decode Alice's message. Notice that he does not need to have knowledge of the state in order to decode it — he simply uses the restoration operation.\n",
    "\n",
    "Bob applies a CNOT gate using the leftmost qubit as control and the rightmost as target. Then he applies a Hadamard gate and finally performs a measurement on both qubits to extract Alice's message.\n",
    "\n",
    "<table>\n",
    "    <tr>\n",
    "        <th>Bob Receives ($\\cdot\\tfrac{1}{\\sqrt{2}}$)</th>\n",
    "        <th>After CNOT-gate ($\\cdot\\tfrac{1}{\\sqrt{2}}$)</th>\n",
    "        <th>After H-gate</th>\n",
    "    </tr>\n",
    "    <tr>\n",
    "        <td>$|00\\rangle + |11\\rangle$</td>\n",
    "        <td>$|00\\rangle + |10\\rangle$</td>\n",
    "        <td>$|00\\rangle$</td>\n",
    "    </tr>\n",
    "    <tr>\n",
    "        <td>$|10\\rangle + |01\\rangle$</td>\n",
    "        <td>$|11\\rangle + |01\\rangle$</td>\n",
    "        <td>$|01\\rangle$</td>\n",
    "    </tr>\n",
    "    <tr>\n",
    "        <td>$|00\\rangle - |11\\rangle$</td>\n",
    "        <td>$|00\\rangle - |10\\rangle$</td>\n",
    "        <td>$|10\\rangle$</td>\n",
    "    </tr>\n",
    "    <tr>\n",
    "        <td>$-|10\\rangle + |01\\rangle$</td>\n",
    "        <td>$-|11\\rangle + |01\\rangle$</td>\n",
    "        <td>$|11\\rangle$</td>\n",
    "    </tr>\n",
    "</table>\n",
    "\n",
    "## 3. Simulating the Superdense Coding Protocol <a id='simulating'></a>"
   ]
  },
  {
   "cell_type": "code",
   "execution_count": 1,
   "metadata": {
    "colab": {},
    "colab_type": "code",
    "id": "u6m-M5G0X4HO"
   },
   "outputs": [],
   "source": [
    "# Importing everything\n",
    "from qiskit import QuantumCircuit\n",
    "from qiskit import IBMQ, Aer, transpile, assemble\n",
    "from qiskit.visualization import plot_histogram"
   ]
  },
  {
   "cell_type": "markdown",
   "metadata": {},
   "source": [
    "We saw that to create an entangled pair, we needed to do a H-gate followed by a CNOT. Let's create a function that takes a `QuantumCircuit` and entangles the qubits with indices `a` and `b`:"
   ]
  },
  {
   "cell_type": "code",
   "execution_count": 2,
   "metadata": {},
   "outputs": [],
   "source": [
    "def create_bell_pair():\n",
    "    \"\"\"\n",
    "    Returns:\n",
    "        QuantumCircuit: Circuit that produces a Bell pair\n",
    "    \"\"\"\n",
    "    qc = QuantumCircuit(2)\n",
    "    qc.h(1)\n",
    "    qc.cx(1, 0)\n",
    "    return qc"
   ]
  },
  {
   "cell_type": "markdown",
   "metadata": {},
   "source": [
    "Next we need to encode our message. We saw that there were four possible messages we could send: `00`, `10`, `01` or `11`. Let's create a function that takes this message and applies the appropriate gates for us:"
   ]
  },
  {
   "cell_type": "code",
   "execution_count": 3,
   "metadata": {},
   "outputs": [],
   "source": [
    "def encode_message(qc, qubit, msg):\n",
    "    \"\"\"Encodes a two-bit message on qc using the superdense coding protocol\n",
    "    Args:\n",
    "        qc (QuantumCircuit): Circuit to encode message on\n",
    "        qubit (int): Which qubit to add the gate to\n",
    "        msg (str): Two-bit message to send\n",
    "    Returns:\n",
    "        QuantumCircuit: Circuit that, when decoded, will produce msg\n",
    "    Raises:\n",
    "        ValueError if msg is wrong length or contains invalid characters\n",
    "    \"\"\"\n",
    "    if len(msg) != 2 or not set(msg).issubset({\"0\",\"1\"}):\n",
    "        raise ValueError(f\"message '{msg}' is invalid\")\n",
    "    if msg[1] == \"1\":\n",
    "        qc.x(qubit)\n",
    "    if msg[0] == \"1\":\n",
    "        qc.z(qubit)\n",
    "    return qc"
   ]
  },
  {
   "cell_type": "markdown",
   "metadata": {},
   "source": [
    "Finally, we need to decode our message, we saw we could do this using a CNOT followed by a H-gate. Let's create a function that does this for us too:"
   ]
  },
  {
   "cell_type": "code",
   "execution_count": 4,
   "metadata": {},
   "outputs": [],
   "source": [
    "def decode_message(qc):\n",
    "    qc.cx(1, 0)\n",
    "    qc.h(1)\n",
    "    return qc"
   ]
  },
  {
   "cell_type": "markdown",
   "metadata": {},
   "source": [
    "Finally, we can put this together to complete our protocol."
   ]
  },
  {
   "cell_type": "code",
   "execution_count": 5,
   "metadata": {
    "colab": {
     "base_uri": "https://localhost:8080/",
     "height": 185
    },
    "colab_type": "code",
    "id": "_HMTtQ8IYh19",
    "outputId": "2d05d830-a863-49d9-c522-5a0e331d2fe1"
   },
   "outputs": [
    {
     "data": {
      "image/svg+xml": [
       "<?xml version=\"1.0\" encoding=\"UTF-8\"?><!DOCTYPE svg  PUBLIC '-//W3C//DTD SVG 1.1//EN'  'http://www.w3.org/Graphics/SVG/1.1/DTD/svg11.dtd'><svg width=\"557.15pt\" height=\"168.93pt\" version=\"1.1\" viewBox=\"0 0 557.15 168.93\" xmlns=\"http://www.w3.org/2000/svg\" xmlns:xlink=\"http://www.w3.org/1999/xlink\"><defs><style type=\"text/css\">*{stroke-linecap:butt;stroke-linejoin:round;}</style></defs><path d=\"m0 168.93h557.15v-168.93h-557.15z\" fill=\"#ffffff\"/><path d=\"m468.6 124.12h11.817l-5.9086 8.5221z\" clip-path=\"url(#p12ea130953)\" fill=\"#778899\"/><path d=\"m514.05 124.12h11.817l-5.9086 8.5221z\" clip-path=\"url(#p12ea130953)\" fill=\"#778899\"/><path d=\"m86.353 43.561h459.06\" clip-path=\"url(#p12ea130953)\" fill=\"none\" stroke=\"#000000\" stroke-linecap=\"square\" stroke-width=\"2\"/><path d=\"m86.353 89.012h459.06\" clip-path=\"url(#p12ea130953)\" fill=\"none\" stroke=\"#000000\" stroke-linecap=\"square\" stroke-width=\"2\"/><path d=\"m86.353 132.99h459.06\" clip-path=\"url(#p12ea130953)\" fill=\"none\" stroke=\"#778899\" stroke-linecap=\"square\" stroke-width=\"2\"/><path d=\"m86.353 135.94h459.06\" clip-path=\"url(#p12ea130953)\" fill=\"none\" stroke=\"#778899\" stroke-linecap=\"square\" stroke-width=\"2\"/><path d=\"m192.94 66.286h17.726v-45.451h-17.726z\" clip-path=\"url(#p12ea130953)\" fill=\"#bdbdbd\" opacity=\".6\"/><path d=\"m192.94 111.74h17.726v-45.451h-17.726z\" clip-path=\"url(#p12ea130953)\" fill=\"#bdbdbd\" opacity=\".6\"/><path d=\"m283.84 66.286h17.726v-45.451h-17.726z\" clip-path=\"url(#p12ea130953)\" fill=\"#bdbdbd\" opacity=\".6\"/><path d=\"m283.84 111.74h17.726v-45.451h-17.726z\" clip-path=\"url(#p12ea130953)\" fill=\"#bdbdbd\" opacity=\".6\"/><path d=\"m420.19 66.286h17.726v-45.451h-17.726z\" clip-path=\"url(#p12ea130953)\" fill=\"#bdbdbd\" opacity=\".6\"/><path d=\"m420.19 111.74h17.726v-45.451h-17.726z\" clip-path=\"url(#p12ea130953)\" fill=\"#bdbdbd\" opacity=\".6\"/><path d=\"m156.35 89.012v-45.451\" clip-path=\"url(#p12ea130953)\" fill=\"none\" stroke=\"#6fa4ff\" stroke-linecap=\"square\" stroke-width=\"2\"/><path d=\"m338.15 89.012v-45.451\" clip-path=\"url(#p12ea130953)\" fill=\"none\" stroke=\"#6fa4ff\" stroke-linecap=\"square\" stroke-width=\"2\"/><path d=\"m475.98 43.561v80.562\" clip-path=\"url(#p12ea130953)\" fill=\"none\" stroke=\"#778899\" stroke-linecap=\"square\" stroke-width=\"2\"/><path d=\"m473.03 43.561v80.562\" clip-path=\"url(#p12ea130953)\" fill=\"none\" stroke=\"#778899\" stroke-linecap=\"square\" stroke-width=\"2\"/><path d=\"m521.43 89.012v35.111\" clip-path=\"url(#p12ea130953)\" fill=\"none\" stroke=\"#778899\" stroke-linecap=\"square\" stroke-width=\"2\"/><path d=\"m518.48 89.012v35.111\" clip-path=\"url(#p12ea130953)\" fill=\"none\" stroke=\"#778899\" stroke-linecap=\"square\" stroke-width=\"2\"/><path d=\"m95.443 139.01 4.5451-9.0902\" clip-path=\"url(#p12ea130953)\" fill=\"none\" stroke=\"#778899\" stroke-linecap=\"square\" stroke-width=\"1.5\"/><path d=\"m96.125 103.78h29.543v-29.543h-29.543z\" clip-path=\"url(#p12ea130953)\" fill=\"#6fa4ff\" stroke=\"#6fa4ff\" stroke-width=\"1.5\"/><path d=\"m156.35 93.443c1.1752 0 2.3025-0.46693 3.1335-1.2979 0.83102-0.83102 1.2979-1.9583 1.2979-3.1335s-0.46693-2.3025-1.2979-3.1335c-0.83102-0.83102-1.9583-1.2979-3.1335-1.2979s-2.3025 0.46693-3.1335 1.2979c-0.83102 0.83102-1.2979 1.9583-1.2979 3.1335s0.46693 2.3025 1.2979 3.1335c0.83102 0.83102 1.9583 1.2979 3.1335 1.2979z\" clip-path=\"url(#p12ea130953)\" fill=\"#6fa4ff\" stroke=\"#6fa4ff\" stroke-width=\"1.5\"/><path d=\"m156.35 53.901c2.7422 0 5.3725-1.0895 7.3116-3.0285 1.939-1.939 3.0285-4.5693 3.0285-7.3116s-1.0895-5.3725-3.0285-7.3116c-1.939-1.939-4.5693-3.0285-7.3116-3.0285s-5.3725 1.0895-7.3116 3.0285c-1.939 1.939-3.0285 4.5693-3.0285 7.3116s1.0895 5.3725 3.0285 7.3116c1.939 1.939 4.5693 3.0285 7.3116 3.0285z\" clip-path=\"url(#p12ea130953)\" fill=\"#6fa4ff\" stroke=\"#6fa4ff\" stroke-width=\"2\"/><path d=\"m232.48 103.78h29.543v-29.543h-29.543z\" clip-path=\"url(#p12ea130953)\" fill=\"#05bab6\" stroke=\"#05bab6\" stroke-width=\"1.5\"/><path d=\"m338.15 93.443c1.1752 0 2.3025-0.46693 3.1335-1.2979 0.83102-0.83102 1.2979-1.9583 1.2979-3.1335s-0.46693-2.3025-1.2979-3.1335c-0.83102-0.83102-1.9583-1.2979-3.1335-1.2979s-2.3025 0.46693-3.1335 1.2979c-0.83102 0.83102-1.2979 1.9583-1.2979 3.1335s0.46693 2.3025 1.2979 3.1335c0.83102 0.83102 1.9583 1.2979 3.1335 1.2979z\" clip-path=\"url(#p12ea130953)\" fill=\"#6fa4ff\" stroke=\"#6fa4ff\" stroke-width=\"1.5\"/><path d=\"m338.15 53.901c2.7422 0 5.3725-1.0895 7.3116-3.0285 1.939-1.939 3.0285-4.5693 3.0285-7.3116s-1.0895-5.3725-3.0285-7.3116c-1.939-1.939-4.5693-3.0285-7.3116-3.0285s-5.3725 1.0895-7.3116 3.0285c-1.939 1.939-3.0285 4.5693-3.0285 7.3116s1.0895 5.3725 3.0285 7.3116c1.939 1.939 4.5693 3.0285 7.3116 3.0285z\" clip-path=\"url(#p12ea130953)\" fill=\"#6fa4ff\" stroke=\"#6fa4ff\" stroke-width=\"2\"/><path d=\"m368.83 103.78h29.543v-29.543h-29.543z\" clip-path=\"url(#p12ea130953)\" fill=\"#6fa4ff\" stroke=\"#6fa4ff\" stroke-width=\"1.5\"/><path d=\"m459.73 58.332h29.543v-29.543h-29.543z\" clip-path=\"url(#p12ea130953)\" stroke=\"#000000\" stroke-width=\"1.5\"/><path d=\"m484.84 47.992c0-2.7413-1.0901-5.3732-3.0285-7.3116-1.9384-1.9384-4.5702-3.0285-7.3116-3.0285s-5.3732 1.0901-7.3116 3.0285-3.0285 4.5702-3.0285 7.3116\" clip-path=\"url(#p12ea130953)\" fill=\"none\" stroke=\"#ffffff\" stroke-width=\"2\"/><path d=\"m505.18 103.78h29.543v-29.543h-29.543z\" clip-path=\"url(#p12ea130953)\" stroke=\"#000000\" stroke-width=\"1.5\"/><path d=\"m530.3 93.443c0-2.7413-1.0901-5.3732-3.0285-7.3116-1.9384-1.9384-4.5702-3.0285-7.3116-3.0285s-5.3732 1.0901-7.3116 3.0285-3.0285 4.5702-3.0285 7.3116\" clip-path=\"url(#p12ea130953)\" fill=\"none\" stroke=\"#ffffff\" stroke-width=\"2\"/><path d=\"m474.5 47.992 10.34-10.34\" clip-path=\"url(#p12ea130953)\" fill=\"none\" stroke=\"#ffffff\" stroke-linecap=\"square\" stroke-width=\"2\"/><path d=\"m519.96 93.443 10.34-10.34\" clip-path=\"url(#p12ea130953)\" fill=\"none\" stroke=\"#ffffff\" stroke-linecap=\"square\" stroke-width=\"2\"/><path d=\"m156.35 49.469v-11.817\" clip-path=\"url(#p12ea130953)\" fill=\"none\" stroke=\"#ffffff\" stroke-linecap=\"square\" stroke-width=\"2\"/><path d=\"m150.44 43.561h11.817\" clip-path=\"url(#p12ea130953)\" fill=\"none\" stroke=\"#ffffff\" stroke-linecap=\"square\" stroke-width=\"2\"/><path d=\"m201.8 20.835v45.451\" clip-path=\"url(#p12ea130953)\" fill=\"none\" stroke=\"#000000\" stroke-dasharray=\"3.7,1.6\"/><path d=\"m201.8 66.286v45.451\" clip-path=\"url(#p12ea130953)\" fill=\"none\" stroke=\"#000000\" stroke-dasharray=\"3.7,1.6\"/><path d=\"m292.7 20.835v45.451\" clip-path=\"url(#p12ea130953)\" fill=\"none\" stroke=\"#000000\" stroke-dasharray=\"3.7,1.6\"/><path d=\"m292.7 66.286v45.451\" clip-path=\"url(#p12ea130953)\" fill=\"none\" stroke=\"#000000\" stroke-dasharray=\"3.7,1.6\"/><path d=\"m338.15 49.469v-11.817\" clip-path=\"url(#p12ea130953)\" fill=\"none\" stroke=\"#ffffff\" stroke-linecap=\"square\" stroke-width=\"2\"/><path d=\"m332.24 43.561h11.817\" clip-path=\"url(#p12ea130953)\" fill=\"none\" stroke=\"#ffffff\" stroke-linecap=\"square\" stroke-width=\"2\"/><path d=\"m429.05 20.835v45.451\" clip-path=\"url(#p12ea130953)\" fill=\"none\" stroke=\"#000000\" stroke-dasharray=\"3.7,1.6\"/><path d=\"m429.05 66.286v45.451\" clip-path=\"url(#p12ea130953)\" fill=\"none\" stroke=\"#000000\" stroke-dasharray=\"3.7,1.6\"/><g clip-path=\"url(#p12ea130953)\"><defs><path id=\"DejaVuSans-72\" d=\"m9.8125 72.906h9.8594v-29.891h35.844v29.891h9.8594v-72.906h-9.8594v34.719h-35.844v-34.719h-9.8594z\"/></defs><g transform=\"translate(106.01 92.599) scale(.13 -.13)\"><use xlink:href=\"#DejaVuSans-72\"/></g></g><g clip-path=\"url(#p12ea130953)\"><defs><path id=\"DejaVuSans-90\" d=\"m5.6094 72.906h57.281v-7.5312l-46.094-57.078h47.219v-8.2969h-59.516v7.5156l46.094 57.078h-44.984z\"/></defs><g transform=\"translate(242.8 92.599) scale(.13 -.13)\"><use xlink:href=\"#DejaVuSans-90\"/></g></g><g clip-path=\"url(#p12ea130953)\"><g transform=\"translate(378.71 92.599) scale(.13 -.13)\"><use xlink:href=\"#DejaVuSans-72\"/></g></g><g clip-path=\"url(#p12ea130953)\"><defs><path id=\"DejaVuSans-48\" d=\"m31.781 66.406q-7.6094 0-11.453-7.5-3.8281-7.4844-3.8281-22.531 0-14.984 3.8281-22.484 3.8438-7.5 11.453-7.5 7.6719 0 11.5 7.5 3.8438 7.5 3.8438 22.484 0 15.047-3.8438 22.531-3.8281 7.5-11.5 7.5zm0 7.8125q12.266 0 18.734-9.7031 6.4688-9.6875 6.4688-28.141 0-18.406-6.4688-28.109-6.4688-9.6875-18.734-9.6875-12.25 0-18.719 9.6875-6.4688 9.7031-6.4688 28.109 0 18.453 6.4688 28.141 6.4688 9.7031 18.719 9.7031z\"/></defs><g transform=\"translate(485.87 127.75) scale(.104 -.104)\"><use xlink:href=\"#DejaVuSans-48\"/></g></g><g clip-path=\"url(#p12ea130953)\"><defs><path id=\"DejaVuSans-49\" d=\"m12.406 8.2969h16.109v55.625l-17.531-3.5156v8.9844l17.438 3.5156h9.8594v-64.609h16.109v-8.2969h-41.984z\"/></defs><g transform=\"translate(531.32 127.75) scale(.104 -.104)\"><use xlink:href=\"#DejaVuSans-49\"/></g></g><g clip-path=\"url(#p12ea130953)\"><defs><path id=\"DejaVuSans-Oblique-113\" d=\"m41.703 8.2031q-3.6094-4.7344-8.5312-7.1875-4.9062-2.4375-10.859-2.4375-8.2969 0-13.016 5.5938-4.7031 5.5938-4.7031 15.406 0 7.9062 2.9062 15.281t8.3281 13.234q3.5156 3.8125 8.0781 5.8594t9.5938 2.0469q6.0469 0 9.9531-2.3906t5.6719-7.2188l1.5625 8.2031h9.0312l-14.594-75.203h-9.0469zm-27.781 12.703q0-7.2344 3.0156-11.016 3.0312-3.7812 8.75-3.7812 8.5 0 14.5 8.125t6 19.75q0 7.0312-3.1094 10.766-3.0938 3.7344-8.8906 3.7344-4.25 0-7.875-1.9844-3.6094-1.9688-6.2969-5.7812-2.8281-4-4.4688-9.375-1.625-5.3594-1.625-10.438z\"/></defs><g transform=\"translate(59.225 48.012) scale(.1625 -.1625)\"><use xlink:href=\"#DejaVuSans-Oblique-113\"/><use transform=\"translate(63.477 -16.406) scale(.7)\" xlink:href=\"#DejaVuSans-48\"/></g></g><g clip-path=\"url(#p12ea130953)\"><g transform=\"translate(59.225 93.463) scale(.1625 -.1625)\"><use xlink:href=\"#DejaVuSans-Oblique-113\"/><use transform=\"translate(63.477 -16.406) scale(.7)\" xlink:href=\"#DejaVuSans-49\"/></g></g><g clip-path=\"url(#p12ea130953)\"><defs><path id=\"DejaVuSans-50\" d=\"m19.188 8.2969h34.422v-8.2969h-46.281v8.2969q5.6094 5.8125 15.297 15.594 9.7031 9.7969 12.188 12.641 4.7344 5.3125 6.6094 9 1.8906 3.6875 1.8906 7.25 0 5.8125-4.0781 9.4688-4.0781 3.6719-10.625 3.6719-4.6406 0-9.7969-1.6094-5.1406-1.6094-11-4.8906v9.9688q5.9531 2.3906 11.125 3.6094 5.1875 1.2188 9.4844 1.2188 11.328 0 18.062-5.6719 6.7344-5.6562 6.7344-15.125 0-4.5-1.6875-8.5312-1.6719-4.0156-6.125-9.4844-1.2188-1.4219-7.7656-8.1875-6.5312-6.7656-18.453-18.922z\"/></defs><g transform=\"translate(90.898 127.75) scale(.104 -.104)\"><use xlink:href=\"#DejaVuSans-50\"/></g></g><g clip-path=\"url(#p12ea130953)\"><defs><path id=\"DejaVuSans-109\" d=\"m52 44.188q3.375 6.0625 8.0625 8.9375t11.031 2.875q8.5469 0 13.188-5.9844 4.6406-5.9688 4.6406-17v-33.016h-9.0312v32.719q0 7.8594-2.7969 11.656-2.7812 3.8125-8.4844 3.8125-6.9844 0-11.047-4.6406-4.0469-4.625-4.0469-12.641v-30.906h-9.0312v32.719q0 7.9062-2.7812 11.688t-8.5938 3.7812q-6.8906 0-10.953-4.6562-4.0469-4.6562-4.0469-12.625v-30.906h-9.0312v54.688h9.0312v-8.5q3.0781 5.0312 7.375 7.4219t10.203 2.3906q5.9688 0 10.141-3.0312 4.1719-3.0156 6.1719-8.7812z\"/><path id=\"DejaVuSans-101\" d=\"m56.203 29.594v-4.3906h-41.312q0.59375-9.2812 5.5938-14.141t13.938-4.8594q5.1719 0 10.031 1.2656t9.6562 3.8125v-8.5q-4.8438-2.0469-9.9219-3.125t-10.297-1.0781q-13.094 0-20.734 7.6094-7.6406 7.625-7.6406 20.625 0 13.422 7.25 21.297 7.25 7.8906 19.562 7.8906 11.031 0 17.453-7.1094 6.4219-7.0938 6.4219-19.297zm-8.9844 2.6406q-0.09375 7.3594-4.125 11.75-4.0312 4.4062-10.672 4.4062-7.5156 0-12.031-4.25t-5.2031-11.969z\"/><path id=\"DejaVuSans-97\" d=\"m34.281 27.484q-10.891 0-15.094-2.4844t-4.2031-8.5q0-4.7812 3.1562-7.5938 3.1562-2.7969 8.5625-2.7969 7.4844 0 12 5.2969t4.5156 14.078v2zm17.922 3.7188v-31.203h-8.9844v8.2969q-3.0781-4.9688-7.6719-7.3438t-11.234-2.375q-8.3906 0-13.359 4.7188-4.9531 4.7188-4.9531 12.625 0 9.2188 6.1719 13.906 6.1875 4.6875 18.438 4.6875h12.609v0.89062q0 6.2031-4.0781 9.5938t-11.453 3.3906q-4.6875 0-9.1406-1.125-4.4375-1.125-8.5312-3.375v8.3125q4.9219 1.9062 9.5625 2.8438 4.6406 0.95312 9.0312 0.95312 11.875 0 17.734-6.1562 5.8594-6.1406 5.8594-18.641z\"/><path id=\"DejaVuSans-115\" d=\"m44.281 53.078v-8.5q-3.7969 1.9531-7.9062 2.9219-4.0938 0.98438-8.5 0.98438-6.6875 0-10.031-2.0469t-3.3438-6.1562q0-3.125 2.3906-4.9062t9.625-3.3906l3.0781-0.6875q9.5625-2.0469 13.594-5.7812t4.0312-10.422q0-7.625-6.0312-12.078-6.0312-4.4375-16.578-4.4375-4.3906 0-9.1562 0.85938t-10.031 2.5625v9.2812q4.9844-2.5938 9.8125-3.8906 4.8281-1.2812 9.5781-1.2812 6.3438 0 9.75 2.1719 3.4219 2.1719 3.4219 6.125 0 3.6562-2.4688 5.6094-2.4531 1.9531-10.812 3.7656l-3.125 0.73438q-8.3438 1.75-12.062 5.3906-3.7031 3.6406-3.7031 9.9844 0 7.7188 5.4688 11.906 5.4688 4.2031 15.531 4.2031 4.9688 0 9.3594-0.73438 4.4062-0.71875 8.1094-2.1875z\"/></defs><g transform=\"translate(33.012 138.95) scale(.1625 -.1625)\"><use xlink:href=\"#DejaVuSans-109\"/><use x=\"97.412109\" xlink:href=\"#DejaVuSans-101\"/><use x=\"158.935547\" xlink:href=\"#DejaVuSans-97\"/><use x=\"220.214844\" xlink:href=\"#DejaVuSans-115\"/></g></g><defs><clipPath id=\"p12ea130953\"><rect x=\"7.2\" y=\"7.2\" width=\"542.75\" height=\"154.53\"/></clipPath></defs></svg>"
      ],
      "text/plain": [
       "<Figure size 718.879x204.68 with 1 Axes>"
      ]
     },
     "execution_count": 5,
     "metadata": {},
     "output_type": "execute_result"
    }
   ],
   "source": [
    "# Charlie creates the entangled pair between Alice and Bob\n",
    "qc = create_bell_pair()\n",
    "\n",
    "# We'll add a barrier for visual separation\n",
    "qc.barrier()\n",
    "\n",
    "# At this point, qubit 0 goes to Alice and qubit 1 goes to Bob\n",
    "\n",
    "# Next, Alice encodes her message onto qubit 1. In this case,\n",
    "# we want to send the message '10'. You can try changing this\n",
    "# value and see how it affects the circuit\n",
    "message = '10'\n",
    "qc = encode_message(qc, 1, message)\n",
    "qc.barrier()\n",
    "# Alice then sends her qubit to Bob.\n",
    "\n",
    "# After recieving qubit 0, Bob applies the recovery protocol:\n",
    "qc = decode_message(qc)\n",
    "\n",
    "# Finally, Bob measures his qubits to read Alice's message\n",
    "qc.measure_all()\n",
    "\n",
    "# Draw our output\n",
    "qc.draw()"
   ]
  },
  {
   "cell_type": "markdown",
   "metadata": {
    "colab_type": "text",
    "id": "ODWmbUKVY2a5"
   },
   "source": [
    "### 3.1 Visualizing Our Measurements <a id='visualising'></a>"
   ]
  },
  {
   "cell_type": "code",
   "execution_count": 6,
   "metadata": {
    "colab": {
     "base_uri": "https://localhost:8080/",
     "height": 352
    },
    "colab_type": "code",
    "id": "caUnckbWY0Sd",
    "outputId": "f2347fd0-8027-435d-dcab-0fd3a0044c92"
   },
   "outputs": [
    {
     "name": "stdout",
     "output_type": "stream",
     "text": [
      "{'10': 1024}\n"
     ]
    },
    {
     "data": {
      "image/svg+xml": [
       "<?xml version=\"1.0\" encoding=\"UTF-8\"?><!DOCTYPE svg  PUBLIC '-//W3C//DTD SVG 1.1//EN'  'http://www.w3.org/Graphics/SVG/1.1/DTD/svg11.dtd'><svg width=\"460.72pt\" height=\"314.57pt\" version=\"1.1\" viewBox=\"0 0 460.72 314.57\" xmlns=\"http://www.w3.org/2000/svg\" xmlns:xlink=\"http://www.w3.org/1999/xlink\"><defs><style type=\"text/css\">*{stroke-linecap:butt;stroke-linejoin:round;}</style></defs><path d=\"m0 314.57h460.72v-314.57h-460.72z\" fill=\"none\"/><path d=\"m62.921 279h390.6v-271.8h-390.6z\" fill=\"#ffffff\"/><defs><path id=\"m666ebc3346\" d=\"m0 0v3.5\" stroke=\"#000000\" stroke-width=\".8\"/></defs><use x=\"258.22125\" y=\"279\" stroke=\"#000000\" stroke-width=\".8\" xlink:href=\"#m666ebc3346\"/><defs><path id=\"DejaVuSans-49\" d=\"m12.406 8.2969h16.109v55.625l-17.531-3.5156v8.9844l17.438 3.5156h9.8594v-64.609h16.109v-8.2969h-41.984z\"/><path id=\"DejaVuSans-48\" d=\"m31.781 66.406q-7.6094 0-11.453-7.5-3.8281-7.4844-3.8281-22.531 0-14.984 3.8281-22.484 3.8438-7.5 11.453-7.5 7.6719 0 11.5 7.5 3.8438 7.5 3.8438 22.484 0 15.047-3.8438 22.531-3.8281 7.5-11.5 7.5zm0 7.8125q12.266 0 18.734-9.7031 6.4688-9.6875 6.4688-28.141 0-18.406-6.4688-28.109-6.4688-9.6875-18.734-9.6875-12.25 0-18.719 9.6875-6.4688 9.7031-6.4688 28.109 0 18.453 6.4688 28.141 6.4688 9.7031 18.719 9.7031z\"/></defs><g transform=\"translate(258.8 306.38) rotate(-70) scale(.14 -.14)\"><use xlink:href=\"#DejaVuSans-49\"/><use x=\"63.623047\" xlink:href=\"#DejaVuSans-48\"/></g><path d=\"m62.921 279h390.6\" clip-path=\"url(#pfc3271ed57)\" fill=\"none\" stroke=\"#b0b0b0\" stroke-dasharray=\"2.96,1.28\" stroke-width=\".8\"/><defs><path id=\"m04b7f5b2ab\" d=\"m0 0h-3.5\" stroke=\"#000000\" stroke-width=\".8\"/></defs><use x=\"62.92125\" y=\"279\" stroke=\"#000000\" stroke-width=\".8\" xlink:href=\"#m04b7f5b2ab\"/><defs><path id=\"DejaVuSans-46\" d=\"m10.688 12.406h10.312v-12.406h-10.312z\"/></defs><g transform=\"translate(24.749 284.32) scale(.14 -.14)\"><use xlink:href=\"#DejaVuSans-48\"/><use x=\"63.623047\" xlink:href=\"#DejaVuSans-46\"/><use x=\"95.410156\" xlink:href=\"#DejaVuSans-48\"/><use x=\"159.033203\" xlink:href=\"#DejaVuSans-48\"/></g><path d=\"m62.921 222.38h390.6\" clip-path=\"url(#pfc3271ed57)\" fill=\"none\" stroke=\"#b0b0b0\" stroke-dasharray=\"2.96,1.28\" stroke-width=\".8\"/><use x=\"62.92125\" y=\"222.375\" stroke=\"#000000\" stroke-width=\".8\" xlink:href=\"#m04b7f5b2ab\"/><defs><path id=\"DejaVuSans-50\" d=\"m19.188 8.2969h34.422v-8.2969h-46.281v8.2969q5.6094 5.8125 15.297 15.594 9.7031 9.7969 12.188 12.641 4.7344 5.3125 6.6094 9 1.8906 3.6875 1.8906 7.25 0 5.8125-4.0781 9.4688-4.0781 3.6719-10.625 3.6719-4.6406 0-9.7969-1.6094-5.1406-1.6094-11-4.8906v9.9688q5.9531 2.3906 11.125 3.6094 5.1875 1.2188 9.4844 1.2188 11.328 0 18.062-5.6719 6.7344-5.6562 6.7344-15.125 0-4.5-1.6875-8.5312-1.6719-4.0156-6.125-9.4844-1.2188-1.4219-7.7656-8.1875-6.5312-6.7656-18.453-18.922z\"/><path id=\"DejaVuSans-53\" d=\"m10.797 72.906h38.719v-8.3125h-29.688v-17.859q2.1406 0.73438 4.2812 1.0938 2.1562 0.35938 4.3125 0.35938 12.203 0 19.328-6.6875 7.1406-6.6875 7.1406-18.109 0-11.766-7.3281-18.297-7.3281-6.5156-20.656-6.5156-4.5938 0-9.3594 0.78125-4.75 0.78125-9.8281 2.3438v9.9219q4.3906-2.3906 9.0781-3.5625t9.9062-1.1719q8.4531 0 13.375 4.4375 4.9375 4.4375 4.9375 12.062 0 7.6094-4.9375 12.047-4.9219 4.4531-13.375 4.4531-3.9531 0-7.8906-0.875-3.9219-0.875-8.0156-2.7344z\"/></defs><g transform=\"translate(24.749 227.69) scale(.14 -.14)\"><use xlink:href=\"#DejaVuSans-48\"/><use x=\"63.623047\" xlink:href=\"#DejaVuSans-46\"/><use x=\"95.410156\" xlink:href=\"#DejaVuSans-50\"/><use x=\"159.033203\" xlink:href=\"#DejaVuSans-53\"/></g><path d=\"m62.921 165.75h390.6\" clip-path=\"url(#pfc3271ed57)\" fill=\"none\" stroke=\"#b0b0b0\" stroke-dasharray=\"2.96,1.28\" stroke-width=\".8\"/><use x=\"62.92125\" y=\"165.75\" stroke=\"#000000\" stroke-width=\".8\" xlink:href=\"#m04b7f5b2ab\"/><g transform=\"translate(24.749 171.07) scale(.14 -.14)\"><use xlink:href=\"#DejaVuSans-48\"/><use x=\"63.623047\" xlink:href=\"#DejaVuSans-46\"/><use x=\"95.410156\" xlink:href=\"#DejaVuSans-53\"/><use x=\"159.033203\" xlink:href=\"#DejaVuSans-48\"/></g><path d=\"m62.921 109.12h390.6\" clip-path=\"url(#pfc3271ed57)\" fill=\"none\" stroke=\"#b0b0b0\" stroke-dasharray=\"2.96,1.28\" stroke-width=\".8\"/><use x=\"62.92125\" y=\"109.125\" stroke=\"#000000\" stroke-width=\".8\" xlink:href=\"#m04b7f5b2ab\"/><defs><path id=\"DejaVuSans-55\" d=\"m8.2031 72.906h46.875v-4.2031l-26.469-68.703h-10.297l24.906 64.594h-35.016z\"/></defs><g transform=\"translate(24.749 114.44) scale(.14 -.14)\"><use xlink:href=\"#DejaVuSans-48\"/><use x=\"63.623047\" xlink:href=\"#DejaVuSans-46\"/><use x=\"95.410156\" xlink:href=\"#DejaVuSans-55\"/><use x=\"159.033203\" xlink:href=\"#DejaVuSans-53\"/></g><path d=\"m62.921 52.5h390.6\" clip-path=\"url(#pfc3271ed57)\" fill=\"none\" stroke=\"#b0b0b0\" stroke-dasharray=\"2.96,1.28\" stroke-width=\".8\"/><use x=\"62.92125\" y=\"52.5\" stroke=\"#000000\" stroke-width=\".8\" xlink:href=\"#m04b7f5b2ab\"/><g transform=\"translate(24.749 57.819) scale(.14 -.14)\"><use xlink:href=\"#DejaVuSans-49\"/><use x=\"63.623047\" xlink:href=\"#DejaVuSans-46\"/><use x=\"95.410156\" xlink:href=\"#DejaVuSans-48\"/><use x=\"159.033203\" xlink:href=\"#DejaVuSans-48\"/></g><defs><path id=\"DejaVuSans-80\" d=\"m19.672 64.797v-27.391h12.406q6.8906 0 10.641 3.5625 3.7656 3.5625 3.7656 10.156 0 6.5469-3.7656 10.109-3.75 3.5625-10.641 3.5625zm-9.8594 8.1094h22.266q12.266 0 18.531-5.5469 6.2812-5.5469 6.2812-16.234 0-10.797-6.2812-16.312-6.2656-5.5156-18.531-5.5156h-12.406v-29.297h-9.8594z\"/><path id=\"DejaVuSans-114\" d=\"m41.109 46.297q-1.5156 0.875-3.2969 1.2812-1.7812 0.42188-3.9219 0.42188-7.625 0-11.703-4.9531t-4.0781-14.234v-28.812h-9.0312v54.688h9.0312v-8.5q2.8438 4.9844 7.375 7.3906 4.5469 2.4219 11.047 2.4219 0.92188 0 2.0469-0.125 1.125-0.10938 2.4844-0.35938z\"/><path id=\"DejaVuSans-111\" d=\"m30.609 48.391q-7.2188 0-11.422-5.6406t-4.2031-15.453 4.1719-15.453q4.1875-5.6406 11.453-5.6406 7.1875 0 11.375 5.6562 4.2031 5.6719 4.2031 15.438 0 9.7188-4.2031 15.406-4.1875 5.6875-11.375 5.6875zm0 7.6094q11.719 0 18.406-7.625 6.7031-7.6094 6.7031-21.078 0-13.422-6.7031-21.078-6.6875-7.6406-18.406-7.6406-11.766 0-18.438 7.6406-6.6562 7.6562-6.6562 21.078 0 13.469 6.6562 21.078 6.6719 7.625 18.438 7.625z\"/><path id=\"DejaVuSans-98\" d=\"m48.688 27.297q0 9.9062-4.0781 15.547t-11.203 5.6406q-7.1406 0-11.219-5.6406t-4.0781-15.547 4.0781-15.547 11.219-5.6406q7.125 0 11.203 5.6406t4.0781 15.547zm-30.578 19.094q2.8438 4.875 7.1562 7.2344 4.3281 2.375 10.328 2.375 9.9688 0 16.188-7.9062 6.2344-7.9062 6.2344-20.797t-6.2344-20.812q-6.2188-7.9062-16.188-7.9062-6 0-10.328 2.375-4.3125 2.375-7.1562 7.25v-8.2031h-9.0312v75.984h9.0312z\"/><path id=\"DejaVuSans-97\" d=\"m34.281 27.484q-10.891 0-15.094-2.4844t-4.2031-8.5q0-4.7812 3.1562-7.5938 3.1562-2.7969 8.5625-2.7969 7.4844 0 12 5.2969t4.5156 14.078v2zm17.922 3.7188v-31.203h-8.9844v8.2969q-3.0781-4.9688-7.6719-7.3438t-11.234-2.375q-8.3906 0-13.359 4.7188-4.9531 4.7188-4.9531 12.625 0 9.2188 6.1719 13.906 6.1875 4.6875 18.438 4.6875h12.609v0.89062q0 6.2031-4.0781 9.5938t-11.453 3.3906q-4.6875 0-9.1406-1.125-4.4375-1.125-8.5312-3.375v8.3125q4.9219 1.9062 9.5625 2.8438 4.6406 0.95312 9.0312 0.95312 11.875 0 17.734-6.1562 5.8594-6.1406 5.8594-18.641z\"/><path id=\"DejaVuSans-105\" d=\"m9.4219 54.688h8.9844v-54.688h-8.9844zm0 21.297h8.9844v-11.391h-8.9844z\"/><path id=\"DejaVuSans-108\" d=\"m9.4219 75.984h8.9844v-75.984h-8.9844z\"/><path id=\"DejaVuSans-116\" d=\"m18.312 70.219v-15.531h18.5v-6.9844h-18.5v-29.688q0-6.6875 1.8281-8.5938t7.4531-1.9062h9.2188v-7.5156h-9.2188q-10.406 0-14.359 3.875-3.9531 3.8906-3.9531 14.141v29.688h-6.5938v6.9844h6.5938v15.531z\"/><path id=\"DejaVuSans-101\" d=\"m56.203 29.594v-4.3906h-41.312q0.59375-9.2812 5.5938-14.141t13.938-4.8594q5.1719 0 10.031 1.2656t9.6562 3.8125v-8.5q-4.8438-2.0469-9.9219-3.125t-10.297-1.0781q-13.094 0-20.734 7.6094-7.6406 7.625-7.6406 20.625 0 13.422 7.25 21.297 7.25 7.8906 19.562 7.8906 11.031 0 17.453-7.1094 6.4219-7.0938 6.4219-19.297zm-8.9844 2.6406q-0.09375 7.3594-4.125 11.75-4.0312 4.4062-10.672 4.4062-7.5156 0-12.031-4.25t-5.2031-11.969z\"/><path id=\"DejaVuSans-115\" d=\"m44.281 53.078v-8.5q-3.7969 1.9531-7.9062 2.9219-4.0938 0.98438-8.5 0.98438-6.6875 0-10.031-2.0469t-3.3438-6.1562q0-3.125 2.3906-4.9062t9.625-3.3906l3.0781-0.6875q9.5625-2.0469 13.594-5.7812t4.0312-10.422q0-7.625-6.0312-12.078-6.0312-4.4375-16.578-4.4375-4.3906 0-9.1562 0.85938t-10.031 2.5625v9.2812q4.9844-2.5938 9.8125-3.8906 4.8281-1.2812 9.5781-1.2812 6.3438 0 9.75 2.1719 3.4219 2.1719 3.4219 6.125 0 3.6562-2.4688 5.6094-2.4531 1.9531-10.812 3.7656l-3.125 0.73438q-8.3438 1.75-12.062 5.3906-3.7031 3.6406-3.7031 9.9844 0 7.7188 5.4688 11.906 5.4688 4.2031 15.531 4.2031 4.9688 0 9.3594-0.73438 4.4062-0.71875 8.1094-2.1875z\"/></defs><g transform=\"translate(17.838 185.86) rotate(-90) scale(.14 -.14)\"><use xlink:href=\"#DejaVuSans-80\"/><use x=\"58.552734\" xlink:href=\"#DejaVuSans-114\"/><use x=\"97.416016\" xlink:href=\"#DejaVuSans-111\"/><use x=\"158.597656\" xlink:href=\"#DejaVuSans-98\"/><use x=\"222.074219\" xlink:href=\"#DejaVuSans-97\"/><use x=\"283.353516\" xlink:href=\"#DejaVuSans-98\"/><use x=\"346.830078\" xlink:href=\"#DejaVuSans-105\"/><use x=\"374.613281\" xlink:href=\"#DejaVuSans-108\"/><use x=\"402.396484\" xlink:href=\"#DejaVuSans-105\"/><use x=\"430.179688\" xlink:href=\"#DejaVuSans-116\"/><use x=\"469.388672\" xlink:href=\"#DejaVuSans-105\"/><use x=\"497.171875\" xlink:href=\"#DejaVuSans-101\"/><use x=\"558.695312\" xlink:href=\"#DejaVuSans-115\"/></g><path d=\"m80.676 279h355.09v-226.5h-355.09z\" clip-path=\"url(#pfc3271ed57)\" fill=\"#648fff\"/><path d=\"m62.921 279v-271.8\" fill=\"none\" stroke=\"#000000\" stroke-linecap=\"square\" stroke-width=\".8\"/><path d=\"m453.52 279v-271.8\" fill=\"none\" stroke=\"#000000\" stroke-linecap=\"square\" stroke-width=\".8\"/><path d=\"m62.921 279h390.6\" fill=\"none\" stroke=\"#000000\" stroke-linecap=\"square\" stroke-width=\".8\"/><path d=\"m62.921 7.2h390.6\" fill=\"none\" stroke=\"#000000\" stroke-linecap=\"square\" stroke-width=\".8\"/><g transform=\"translate(243.91 39.095) scale(.1 -.1)\"><use xlink:href=\"#DejaVuSans-49\"/><use x=\"63.623047\" xlink:href=\"#DejaVuSans-46\"/><use x=\"95.410156\" xlink:href=\"#DejaVuSans-48\"/><use x=\"159.033203\" xlink:href=\"#DejaVuSans-48\"/><use x=\"222.65625\" xlink:href=\"#DejaVuSans-48\"/></g><defs><clipPath id=\"pfc3271ed57\"><rect x=\"62.921\" y=\"7.2\" width=\"390.6\" height=\"271.8\"/></clipPath></defs></svg>"
      ],
      "text/plain": [
       "<Figure size 504x360 with 1 Axes>"
      ]
     },
     "execution_count": 6,
     "metadata": {},
     "output_type": "execute_result"
    }
   ],
   "source": [
    "aer_sim = Aer.get_backend('aer_simulator')\n",
    "qobj = assemble(qc)\n",
    "result = aer_sim.run(qobj).result()\n",
    "counts = result.get_counts(qc)\n",
    "print(counts)\n",
    "plot_histogram(counts)"
   ]
  },
  {
   "cell_type": "markdown",
   "metadata": {},
   "source": [
    "Our simulator simulates a perfect quantum computer. We can see that, without errors, we get a 100% chance of measuring the correct message."
   ]
  },
  {
   "cell_type": "markdown",
   "metadata": {
    "colab_type": "text",
    "id": "fMHrapgKZCpp"
   },
   "source": [
    "## 4. Superdense Coding on a Real Quantum Computer <a id='real_qc'></a>\n",
    "\n",
    "\n",
    "We can now see this working on a real quantum computer. First, we want to load our account to get the least busy quantum system:"
   ]
  },
  {
   "cell_type": "code",
   "execution_count": 7,
   "metadata": {
    "colab": {
     "base_uri": "https://localhost:8080/",
     "height": 85
    },
    "colab_type": "code",
    "id": "CVZk6LPJaQXa",
    "outputId": "91fc343f-5c01-428f-a324-888a641b4c55",
    "tags": [
     "uses-hardware"
    ]
   },
   "outputs": [
    {
     "name": "stdout",
     "output_type": "stream",
     "text": [
      "least busy backend:  ibmq_belem\n"
     ]
    }
   ],
   "source": [
    "from qiskit import IBMQ\n",
    "from qiskit.providers.ibmq import least_busy\n",
    "shots = 1024\n",
    "\n",
    "# Load local account information\n",
    "IBMQ.load_account()\n",
    "# Get the least busy backend\n",
    "provider = IBMQ.get_provider(hub='ibm-q')\n",
    "backend = least_busy(provider.backends(filters=lambda x: x.configuration().n_qubits >= 2 \n",
    "                                       and not x.configuration().simulator \n",
    "                                       and x.status().operational==True))\n",
    "print(\"least busy backend: \", backend)\n",
    "# Run our circuit\n",
    "t_qc = transpile(qc, backend, optimization_level=3)\n",
    "job = backend.run(t_qc)"
   ]
  },
  {
   "cell_type": "code",
   "execution_count": 8,
   "metadata": {
    "colab": {
     "base_uri": "https://localhost:8080/",
     "height": 34
    },
    "colab_type": "code",
    "id": "rtFSdEg-bE0u",
    "outputId": "5fb9cd41-db14-4298-882f-9fee155158d9",
    "tags": [
     "uses-hardware"
    ]
   },
   "outputs": [
    {
     "name": "stdout",
     "output_type": "stream",
     "text": [
      "Job Status: job has successfully run\n"
     ]
    }
   ],
   "source": [
    "# Monitoring our job\n",
    "from qiskit.tools.monitor import job_monitor\n",
    "job_monitor(job)"
   ]
  },
  {
   "cell_type": "code",
   "execution_count": 9,
   "metadata": {
    "colab": {
     "base_uri": "https://localhost:8080/",
     "height": 335
    },
    "colab_type": "code",
    "id": "ufD9dKRded1X",
    "outputId": "87a43f61-0d3b-40db-8107-d925414b0f5d",
    "tags": [
     "uses-hardware"
    ]
   },
   "outputs": [
    {
     "data": {
      "image/svg+xml": [
       "<?xml version=\"1.0\" encoding=\"UTF-8\"?><!DOCTYPE svg  PUBLIC '-//W3C//DTD SVG 1.1//EN'  'http://www.w3.org/Graphics/SVG/1.1/DTD/svg11.dtd'><svg width=\"460.72pt\" height=\"314.57pt\" version=\"1.1\" viewBox=\"0 0 460.72 314.57\" xmlns=\"http://www.w3.org/2000/svg\" xmlns:xlink=\"http://www.w3.org/1999/xlink\"><defs><style type=\"text/css\">*{stroke-linecap:butt;stroke-linejoin:round;}</style></defs><path d=\"m0 314.57h460.72v-314.57h-460.72z\" fill=\"none\"/><path d=\"m62.921 279h390.6v-271.8h-390.6z\" fill=\"#ffffff\"/><defs><path id=\"m79129f06b3\" d=\"m0 0v3.5\" stroke=\"#000000\" stroke-width=\".8\"/></defs><use x=\"106.039432\" y=\"279\" stroke=\"#000000\" stroke-width=\".8\" xlink:href=\"#m79129f06b3\"/><defs><path id=\"DejaVuSans-48\" d=\"m31.781 66.406q-7.6094 0-11.453-7.5-3.8281-7.4844-3.8281-22.531 0-14.984 3.8281-22.484 3.8438-7.5 11.453-7.5 7.6719 0 11.5 7.5 3.8438 7.5 3.8438 22.484 0 15.047-3.8438 22.531-3.8281 7.5-11.5 7.5zm0 7.8125q12.266 0 18.734-9.7031 6.4688-9.6875 6.4688-28.141 0-18.406-6.4688-28.109-6.4688-9.6875-18.734-9.6875-12.25 0-18.719 9.6875-6.4688 9.7031-6.4688 28.109 0 18.453 6.4688 28.141 6.4688 9.7031 18.719 9.7031z\"/></defs><g transform=\"translate(106.62 306.38) rotate(-70) scale(.14 -.14)\"><use xlink:href=\"#DejaVuSans-48\"/><use x=\"63.623047\" xlink:href=\"#DejaVuSans-48\"/></g><use x=\"207.493977\" y=\"279\" stroke=\"#000000\" stroke-width=\".8\" xlink:href=\"#m79129f06b3\"/><defs><path id=\"DejaVuSans-49\" d=\"m12.406 8.2969h16.109v55.625l-17.531-3.5156v8.9844l17.438 3.5156h9.8594v-64.609h16.109v-8.2969h-41.984z\"/></defs><g transform=\"translate(208.08 306.38) rotate(-70) scale(.14 -.14)\"><use xlink:href=\"#DejaVuSans-48\"/><use x=\"63.623047\" xlink:href=\"#DejaVuSans-49\"/></g><use x=\"308.948523\" y=\"279\" stroke=\"#000000\" stroke-width=\".8\" xlink:href=\"#m79129f06b3\"/><g transform=\"translate(309.53 306.38) rotate(-70) scale(.14 -.14)\"><use xlink:href=\"#DejaVuSans-49\"/><use x=\"63.623047\" xlink:href=\"#DejaVuSans-48\"/></g><use x=\"410.403068\" y=\"279\" stroke=\"#000000\" stroke-width=\".8\" xlink:href=\"#m79129f06b3\"/><g transform=\"translate(410.99 306.38) rotate(-70) scale(.14 -.14)\"><use xlink:href=\"#DejaVuSans-49\"/><use x=\"63.623047\" xlink:href=\"#DejaVuSans-49\"/></g><path d=\"m62.921 279h390.6\" clip-path=\"url(#pa2402cd6f5)\" fill=\"none\" stroke=\"#b0b0b0\" stroke-dasharray=\"2.96,1.28\" stroke-width=\".8\"/><defs><path id=\"m0141264bca\" d=\"m0 0h-3.5\" stroke=\"#000000\" stroke-width=\".8\"/></defs><use x=\"62.92125\" y=\"279\" stroke=\"#000000\" stroke-width=\".8\" xlink:href=\"#m0141264bca\"/><defs><path id=\"DejaVuSans-46\" d=\"m10.688 12.406h10.312v-12.406h-10.312z\"/></defs><g transform=\"translate(24.749 284.32) scale(.14 -.14)\"><use xlink:href=\"#DejaVuSans-48\"/><use x=\"63.623047\" xlink:href=\"#DejaVuSans-46\"/><use x=\"95.410156\" xlink:href=\"#DejaVuSans-48\"/><use x=\"159.033203\" xlink:href=\"#DejaVuSans-48\"/></g><path d=\"m62.921 215.77h390.6\" clip-path=\"url(#pa2402cd6f5)\" fill=\"none\" stroke=\"#b0b0b0\" stroke-dasharray=\"2.96,1.28\" stroke-width=\".8\"/><use x=\"62.92125\" y=\"215.767721\" stroke=\"#000000\" stroke-width=\".8\" xlink:href=\"#m0141264bca\"/><defs><path id=\"DejaVuSans-50\" d=\"m19.188 8.2969h34.422v-8.2969h-46.281v8.2969q5.6094 5.8125 15.297 15.594 9.7031 9.7969 12.188 12.641 4.7344 5.3125 6.6094 9 1.8906 3.6875 1.8906 7.25 0 5.8125-4.0781 9.4688-4.0781 3.6719-10.625 3.6719-4.6406 0-9.7969-1.6094-5.1406-1.6094-11-4.8906v9.9688q5.9531 2.3906 11.125 3.6094 5.1875 1.2188 9.4844 1.2188 11.328 0 18.062-5.6719 6.7344-5.6562 6.7344-15.125 0-4.5-1.6875-8.5312-1.6719-4.0156-6.125-9.4844-1.2188-1.4219-7.7656-8.1875-6.5312-6.7656-18.453-18.922z\"/><path id=\"DejaVuSans-53\" d=\"m10.797 72.906h38.719v-8.3125h-29.688v-17.859q2.1406 0.73438 4.2812 1.0938 2.1562 0.35938 4.3125 0.35938 12.203 0 19.328-6.6875 7.1406-6.6875 7.1406-18.109 0-11.766-7.3281-18.297-7.3281-6.5156-20.656-6.5156-4.5938 0-9.3594 0.78125-4.75 0.78125-9.8281 2.3438v9.9219q4.3906-2.3906 9.0781-3.5625t9.9062-1.1719q8.4531 0 13.375 4.4375 4.9375 4.4375 4.9375 12.062 0 7.6094-4.9375 12.047-4.9219 4.4531-13.375 4.4531-3.9531 0-7.8906-0.875-3.9219-0.875-8.0156-2.7344z\"/></defs><g transform=\"translate(24.749 221.09) scale(.14 -.14)\"><use xlink:href=\"#DejaVuSans-48\"/><use x=\"63.623047\" xlink:href=\"#DejaVuSans-46\"/><use x=\"95.410156\" xlink:href=\"#DejaVuSans-50\"/><use x=\"159.033203\" xlink:href=\"#DejaVuSans-53\"/></g><path d=\"m62.921 152.54h390.6\" clip-path=\"url(#pa2402cd6f5)\" fill=\"none\" stroke=\"#b0b0b0\" stroke-dasharray=\"2.96,1.28\" stroke-width=\".8\"/><use x=\"62.92125\" y=\"152.535442\" stroke=\"#000000\" stroke-width=\".8\" xlink:href=\"#m0141264bca\"/><g transform=\"translate(24.749 157.85) scale(.14 -.14)\"><use xlink:href=\"#DejaVuSans-48\"/><use x=\"63.623047\" xlink:href=\"#DejaVuSans-46\"/><use x=\"95.410156\" xlink:href=\"#DejaVuSans-53\"/><use x=\"159.033203\" xlink:href=\"#DejaVuSans-48\"/></g><path d=\"m62.921 89.303h390.6\" clip-path=\"url(#pa2402cd6f5)\" fill=\"none\" stroke=\"#b0b0b0\" stroke-dasharray=\"2.96,1.28\" stroke-width=\".8\"/><use x=\"62.92125\" y=\"89.303162\" stroke=\"#000000\" stroke-width=\".8\" xlink:href=\"#m0141264bca\"/><defs><path id=\"DejaVuSans-55\" d=\"m8.2031 72.906h46.875v-4.2031l-26.469-68.703h-10.297l24.906 64.594h-35.016z\"/></defs><g transform=\"translate(24.749 94.622) scale(.14 -.14)\"><use xlink:href=\"#DejaVuSans-48\"/><use x=\"63.623047\" xlink:href=\"#DejaVuSans-46\"/><use x=\"95.410156\" xlink:href=\"#DejaVuSans-55\"/><use x=\"159.033203\" xlink:href=\"#DejaVuSans-53\"/></g><path d=\"m62.921 26.071h390.6\" clip-path=\"url(#pa2402cd6f5)\" fill=\"none\" stroke=\"#b0b0b0\" stroke-dasharray=\"2.96,1.28\" stroke-width=\".8\"/><use x=\"62.92125\" y=\"26.070883\" stroke=\"#000000\" stroke-width=\".8\" xlink:href=\"#m0141264bca\"/><g transform=\"translate(24.749 31.39) scale(.14 -.14)\"><use xlink:href=\"#DejaVuSans-49\"/><use x=\"63.623047\" xlink:href=\"#DejaVuSans-46\"/><use x=\"95.410156\" xlink:href=\"#DejaVuSans-48\"/><use x=\"159.033203\" xlink:href=\"#DejaVuSans-48\"/></g><defs><path id=\"DejaVuSans-80\" d=\"m19.672 64.797v-27.391h12.406q6.8906 0 10.641 3.5625 3.7656 3.5625 3.7656 10.156 0 6.5469-3.7656 10.109-3.75 3.5625-10.641 3.5625zm-9.8594 8.1094h22.266q12.266 0 18.531-5.5469 6.2812-5.5469 6.2812-16.234 0-10.797-6.2812-16.312-6.2656-5.5156-18.531-5.5156h-12.406v-29.297h-9.8594z\"/><path id=\"DejaVuSans-114\" d=\"m41.109 46.297q-1.5156 0.875-3.2969 1.2812-1.7812 0.42188-3.9219 0.42188-7.625 0-11.703-4.9531t-4.0781-14.234v-28.812h-9.0312v54.688h9.0312v-8.5q2.8438 4.9844 7.375 7.3906 4.5469 2.4219 11.047 2.4219 0.92188 0 2.0469-0.125 1.125-0.10938 2.4844-0.35938z\"/><path id=\"DejaVuSans-111\" d=\"m30.609 48.391q-7.2188 0-11.422-5.6406t-4.2031-15.453 4.1719-15.453q4.1875-5.6406 11.453-5.6406 7.1875 0 11.375 5.6562 4.2031 5.6719 4.2031 15.438 0 9.7188-4.2031 15.406-4.1875 5.6875-11.375 5.6875zm0 7.6094q11.719 0 18.406-7.625 6.7031-7.6094 6.7031-21.078 0-13.422-6.7031-21.078-6.6875-7.6406-18.406-7.6406-11.766 0-18.438 7.6406-6.6562 7.6562-6.6562 21.078 0 13.469 6.6562 21.078 6.6719 7.625 18.438 7.625z\"/><path id=\"DejaVuSans-98\" d=\"m48.688 27.297q0 9.9062-4.0781 15.547t-11.203 5.6406q-7.1406 0-11.219-5.6406t-4.0781-15.547 4.0781-15.547 11.219-5.6406q7.125 0 11.203 5.6406t4.0781 15.547zm-30.578 19.094q2.8438 4.875 7.1562 7.2344 4.3281 2.375 10.328 2.375 9.9688 0 16.188-7.9062 6.2344-7.9062 6.2344-20.797t-6.2344-20.812q-6.2188-7.9062-16.188-7.9062-6 0-10.328 2.375-4.3125 2.375-7.1562 7.25v-8.2031h-9.0312v75.984h9.0312z\"/><path id=\"DejaVuSans-97\" d=\"m34.281 27.484q-10.891 0-15.094-2.4844t-4.2031-8.5q0-4.7812 3.1562-7.5938 3.1562-2.7969 8.5625-2.7969 7.4844 0 12 5.2969t4.5156 14.078v2zm17.922 3.7188v-31.203h-8.9844v8.2969q-3.0781-4.9688-7.6719-7.3438t-11.234-2.375q-8.3906 0-13.359 4.7188-4.9531 4.7188-4.9531 12.625 0 9.2188 6.1719 13.906 6.1875 4.6875 18.438 4.6875h12.609v0.89062q0 6.2031-4.0781 9.5938t-11.453 3.3906q-4.6875 0-9.1406-1.125-4.4375-1.125-8.5312-3.375v8.3125q4.9219 1.9062 9.5625 2.8438 4.6406 0.95312 9.0312 0.95312 11.875 0 17.734-6.1562 5.8594-6.1406 5.8594-18.641z\"/><path id=\"DejaVuSans-105\" d=\"m9.4219 54.688h8.9844v-54.688h-8.9844zm0 21.297h8.9844v-11.391h-8.9844z\"/><path id=\"DejaVuSans-108\" d=\"m9.4219 75.984h8.9844v-75.984h-8.9844z\"/><path id=\"DejaVuSans-116\" d=\"m18.312 70.219v-15.531h18.5v-6.9844h-18.5v-29.688q0-6.6875 1.8281-8.5938t7.4531-1.9062h9.2188v-7.5156h-9.2188q-10.406 0-14.359 3.875-3.9531 3.8906-3.9531 14.141v29.688h-6.5938v6.9844h6.5938v15.531z\"/><path id=\"DejaVuSans-101\" d=\"m56.203 29.594v-4.3906h-41.312q0.59375-9.2812 5.5938-14.141t13.938-4.8594q5.1719 0 10.031 1.2656t9.6562 3.8125v-8.5q-4.8438-2.0469-9.9219-3.125t-10.297-1.0781q-13.094 0-20.734 7.6094-7.6406 7.625-7.6406 20.625 0 13.422 7.25 21.297 7.25 7.8906 19.562 7.8906 11.031 0 17.453-7.1094 6.4219-7.0938 6.4219-19.297zm-8.9844 2.6406q-0.09375 7.3594-4.125 11.75-4.0312 4.4062-10.672 4.4062-7.5156 0-12.031-4.25t-5.2031-11.969z\"/><path id=\"DejaVuSans-115\" d=\"m44.281 53.078v-8.5q-3.7969 1.9531-7.9062 2.9219-4.0938 0.98438-8.5 0.98438-6.6875 0-10.031-2.0469t-3.3438-6.1562q0-3.125 2.3906-4.9062t9.625-3.3906l3.0781-0.6875q9.5625-2.0469 13.594-5.7812t4.0312-10.422q0-7.625-6.0312-12.078-6.0312-4.4375-16.578-4.4375-4.3906 0-9.1562 0.85938t-10.031 2.5625v9.2812q4.9844-2.5938 9.8125-3.8906 4.8281-1.2812 9.5781-1.2812 6.3438 0 9.75 2.1719 3.4219 2.1719 3.4219 6.125 0 3.6562-2.4688 5.6094-2.4531 1.9531-10.812 3.7656l-3.125 0.73438q-8.3438 1.75-12.062 5.3906-3.7031 3.6406-3.7031 9.9844 0 7.7188 5.4688 11.906 5.4688 4.2031 15.531 4.2031 4.9688 0 9.3594-0.73438 4.4062-0.71875 8.1094-2.1875z\"/></defs><g transform=\"translate(17.838 185.86) rotate(-90) scale(.14 -.14)\"><use xlink:href=\"#DejaVuSans-80\"/><use x=\"58.552734\" xlink:href=\"#DejaVuSans-114\"/><use x=\"97.416016\" xlink:href=\"#DejaVuSans-111\"/><use x=\"158.597656\" xlink:href=\"#DejaVuSans-98\"/><use x=\"222.074219\" xlink:href=\"#DejaVuSans-97\"/><use x=\"283.353516\" xlink:href=\"#DejaVuSans-98\"/><use x=\"346.830078\" xlink:href=\"#DejaVuSans-105\"/><use x=\"374.613281\" xlink:href=\"#DejaVuSans-108\"/><use x=\"402.396484\" xlink:href=\"#DejaVuSans-105\"/><use x=\"430.179688\" xlink:href=\"#DejaVuSans-116\"/><use x=\"469.388672\" xlink:href=\"#DejaVuSans-105\"/><use x=\"497.171875\" xlink:href=\"#DejaVuSans-101\"/><use x=\"558.695312\" xlink:href=\"#DejaVuSans-115\"/></g><path d=\"m80.676 279h50.727v-10.127h-50.727z\" clip-path=\"url(#pa2402cd6f5)\" fill=\"#648fff\"/><path d=\"m182.13 279h50.727v-3.705h-50.727z\" clip-path=\"url(#pa2402cd6f5)\" fill=\"#648fff\"/><path d=\"m283.58 279h50.727v-226.5h-50.727z\" clip-path=\"url(#pa2402cd6f5)\" fill=\"#648fff\"/><path d=\"m385.04 279h50.727v-12.597h-50.727z\" clip-path=\"url(#pa2402cd6f5)\" fill=\"#648fff\"/><path d=\"m62.921 279v-271.8\" fill=\"none\" stroke=\"#000000\" stroke-linecap=\"square\" stroke-width=\".8\"/><path d=\"m453.52 279v-271.8\" fill=\"none\" stroke=\"#000000\" stroke-linecap=\"square\" stroke-width=\".8\"/><path d=\"m62.921 279h390.6\" fill=\"none\" stroke=\"#000000\" stroke-linecap=\"square\" stroke-width=\".8\"/><path d=\"m62.921 7.2h390.6\" fill=\"none\" stroke=\"#000000\" stroke-linecap=\"square\" stroke-width=\".8\"/><defs><path id=\"DejaVuSans-52\" d=\"m37.797 64.312-24.906-38.922h24.906zm-2.5938 8.5938h12.406v-47.516h10.406v-8.2031h-10.406v-17.188h-9.8125v17.188h-32.906v9.5156z\"/></defs><g transform=\"translate(91.725 266.29) scale(.1 -.1)\"><use xlink:href=\"#DejaVuSans-48\"/><use x=\"63.623047\" xlink:href=\"#DejaVuSans-46\"/><use x=\"95.410156\" xlink:href=\"#DejaVuSans-48\"/><use x=\"159.033203\" xlink:href=\"#DejaVuSans-52\"/><use x=\"222.65625\" xlink:href=\"#DejaVuSans-48\"/></g><g transform=\"translate(193.18 273.03) scale(.1 -.1)\"><use xlink:href=\"#DejaVuSans-48\"/><use x=\"63.623047\" xlink:href=\"#DejaVuSans-46\"/><use x=\"95.410156\" xlink:href=\"#DejaVuSans-48\"/><use x=\"159.033203\" xlink:href=\"#DejaVuSans-49\"/><use x=\"222.65625\" xlink:href=\"#DejaVuSans-53\"/></g><defs><path id=\"DejaVuSans-56\" d=\"m31.781 34.625q-7.0312 0-11.062-3.7656-4.0156-3.7656-4.0156-10.344 0-6.5938 4.0156-10.359 4.0312-3.7656 11.062-3.7656t11.078 3.7812q4.0625 3.7969 4.0625 10.344 0 6.5781-4.0312 10.344-4.0156 3.7656-11.109 3.7656zm-9.8594 4.1875q-6.3438 1.5625-9.8906 5.9062-3.5312 4.3594-3.5312 10.609 0 8.7344 6.2188 13.812 6.2344 5.0781 17.062 5.0781 10.891 0 17.094-5.0781t6.2031-13.812q0-6.25-3.5469-10.609-3.5312-4.3438-9.8281-5.9062 7.125-1.6562 11.094-6.5 3.9844-4.8281 3.9844-11.797 0-10.609-6.4688-16.281-6.4688-5.6562-18.531-5.6562-12.047 0-18.531 5.6562-6.4688 5.6719-6.4688 16.281 0 6.9688 4 11.797 4.0156 4.8438 11.141 6.5zm-3.6094 15.578q0-5.6562 3.5312-8.8281 3.5469-3.1719 9.9375-3.1719 6.3594 0 9.9375 3.1719 3.5938 3.1719 3.5938 8.8281 0 5.6719-3.5938 8.8438-3.5781 3.1719-9.9375 3.1719-6.3906 0-9.9375-3.1719-3.5312-3.1719-3.5312-8.8438z\"/><path id=\"DejaVuSans-57\" d=\"m10.984 1.5156v8.9844q3.7188-1.7656 7.5156-2.6875 3.8125-0.92188 7.4844-0.92188 9.7656 0 14.906 6.5625 5.1562 6.5625 5.8906 19.953-2.8281-4.2031-7.1875-6.4531-4.3438-2.25-9.6094-2.25-10.938 0-17.312 6.6094-6.375 6.625-6.375 18.109 0 11.219 6.6406 18 6.6406 6.7969 17.672 6.7969 12.656 0 19.312-9.7031 6.6719-9.6875 6.6719-28.141 0-17.234-8.1875-27.516-8.1719-10.281-21.984-10.281-3.7188 0-7.5312 0.73438-3.7969 0.73438-7.9062 2.2031zm19.625 30.906q6.6406 0 10.516 4.5312 3.8906 4.5469 3.8906 12.469 0 7.8594-3.8906 12.422-3.875 4.5625-10.516 4.5625t-10.516-4.5625-3.875-12.422q0-7.9219 3.875-12.469 3.875-4.5312 10.516-4.5312z\"/><path id=\"DejaVuSans-54\" d=\"m33.016 40.375q-6.6406 0-10.531-4.5469-3.875-4.5312-3.875-12.438 0-7.8594 3.875-12.438 3.8906-4.5625 10.531-4.5625t10.516 4.5625q3.875 4.5781 3.875 12.438 0 7.9062-3.875 12.438-3.875 4.5469-10.516 4.5469zm19.578 30.922v-8.9844q-3.7188 1.75-7.5 2.6719-3.7812 0.9375-7.5 0.9375-9.7656 0-14.922-6.5938-5.1406-6.5938-5.875-19.922 2.875 4.25 7.2188 6.5156 4.3594 2.2656 9.5781 2.2656 10.984 0 17.359-6.6719 6.375-6.6562 6.375-18.125 0-11.234-6.6406-18.031-6.6406-6.7812-17.672-6.7812-12.656 0-19.344 9.6875-6.6875 9.7031-6.6875 28.109 0 17.281 8.2031 27.562t22.016 10.281q3.7188 0 7.5-0.73438t7.8906-2.1875z\"/></defs><g transform=\"translate(294.63 39.095) scale(.1 -.1)\"><use xlink:href=\"#DejaVuSans-48\"/><use x=\"63.623047\" xlink:href=\"#DejaVuSans-46\"/><use x=\"95.410156\" xlink:href=\"#DejaVuSans-56\"/><use x=\"159.033203\" xlink:href=\"#DejaVuSans-57\"/><use x=\"222.65625\" xlink:href=\"#DejaVuSans-54\"/></g><g transform=\"translate(396.09 263.69) scale(.1 -.1)\"><use xlink:href=\"#DejaVuSans-48\"/><use x=\"63.623047\" xlink:href=\"#DejaVuSans-46\"/><use x=\"95.410156\" xlink:href=\"#DejaVuSans-48\"/><use x=\"159.033203\" xlink:href=\"#DejaVuSans-53\"/><use x=\"222.65625\" xlink:href=\"#DejaVuSans-48\"/></g><defs><clipPath id=\"pa2402cd6f5\"><rect x=\"62.921\" y=\"7.2\" width=\"390.6\" height=\"271.8\"/></clipPath></defs></svg>"
      ],
      "text/plain": [
       "<Figure size 504x360 with 1 Axes>"
      ]
     },
     "execution_count": 9,
     "metadata": {},
     "output_type": "execute_result"
    }
   ],
   "source": [
    "# Plotting our result\n",
    "result = job.result()\n",
    "plot_histogram(result.get_counts(qc))"
   ]
  },
  {
   "cell_type": "markdown",
   "metadata": {
    "colab_type": "text",
    "id": "idsn5tuwfG_4"
   },
   "source": [
    "As we see that there are a few results from the other three states when run in a real quantum computer. These are due to errors in the gates and qubit decoherence. We will learn more about these errors in later sections."
   ]
  },
  {
   "cell_type": "code",
   "execution_count": 10,
   "metadata": {
    "tags": [
     "uses-hardware"
    ]
   },
   "outputs": [
    {
     "name": "stdout",
     "output_type": "stream",
     "text": [
      "Accuracy = 89.55%\n"
     ]
    }
   ],
   "source": [
    "correct_results = result.get_counts(qc)[message]\n",
    "accuracy = (correct_results/shots)*100\n",
    "print(f\"Accuracy = {accuracy:.2f}%\")"
   ]
  },
  {
   "cell_type": "code",
   "execution_count": 12,
   "metadata": {},
   "outputs": [
    {
     "data": {
      "text/html": [
       "<h3>Version Information</h3><table><tr><th>Qiskit Software</th><th>Version</th></tr><tr><td><code>qiskit-terra</code></td><td>0.18.0</td></tr><tr><td><code>qiskit-aer</code></td><td>0.8.2</td></tr><tr><td><code>qiskit-ignis</code></td><td>0.6.0</td></tr><tr><td><code>qiskit-ibmq-provider</code></td><td>0.15.0</td></tr><tr><td><code>qiskit-aqua</code></td><td>0.9.4</td></tr><tr><td><code>qiskit</code></td><td>0.28.0</td></tr><tr><th>System information</th></tr><tr><td>Python</td><td>3.7.7 (default, May  6 2020, 04:59:01) \n",
       "[Clang 4.0.1 (tags/RELEASE_401/final)]</td></tr><tr><td>OS</td><td>Darwin</td></tr><tr><td>CPUs</td><td>8</td></tr><tr><td>Memory (Gb)</td><td>32.0</td></tr><tr><td colspan='2'>Mon Aug 23 19:51:51 2021 BST</td></tr></table>"
      ],
      "text/plain": [
       "<IPython.core.display.HTML object>"
      ]
     },
     "metadata": {},
     "output_type": "display_data"
    }
   ],
   "source": [
    "import qiskit.tools.jupyter\n",
    "%qiskit_version_table"
   ]
  }
 ],
 "metadata": {
  "kernelspec": {
   "display_name": "Python 3",
   "language": "python",
   "name": "python3"
  },
  "language_info": {
   "codemirror_mode": {
    "name": "ipython",
    "version": 3
   },
   "file_extension": ".py",
   "mimetype": "text/x-python",
   "name": "python",
   "nbconvert_exporter": "python",
   "pygments_lexer": "ipython3",
   "version": "3.9"
  }
 },
 "nbformat": 4,
 "nbformat_minor": 1
}
