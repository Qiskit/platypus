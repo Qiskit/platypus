{
 "cells": [
  {
   "cell_type": "markdown",
   "metadata": {
    "tags": [
     "remove_cell"
    ]
   },
   "source": [
    "# Classical Computation on a Quantum Computer"
   ]
  },
  {
   "cell_type": "markdown",
   "metadata": {
    "tags": [
     "contents"
    ]
   },
   "source": [
    "## Contents\n",
    "\n",
    "1. [Introduction](#intro)\n",
    "2. [Consulting and Oracle](#oracle)\n",
    "3. [Taking Out the Garbage](#garbage)"
   ]
  },
  {
   "cell_type": "markdown",
   "metadata": {},
   "source": [
    "## 1. Introduction <a id='intro'></a>\n",
    "\n",
    "One consequence of having a universal set of quantum gates is the ability to reproduce any classical computation. We simply need to compile the classical computation down into the Boolean logic gates that we saw in *The Atoms of Computation*, and then reproduce these on a quantum computer.\n",
    "\n",
    "This demonstrates an important fact about quantum computers: they can do anything that a classical computer can do, and they can do so with at least the same computational complexity. Though it is not the aim to use quantum computers for tasks at which classical computers already excel, this is nevertheless a good demonstration that quantum computers can solve a general range of problems.\n",
    "\n",
    "Furthermore, problems that require quantum solutions often involve components that can be tackled using classical algorithms. In some cases, these classical parts can be done on classical hardware. However, in many cases, the classical algorithm must be run on inputs that exist in a superposition state. This requires the classical algorithm to be run on quantum hardware. In this section we introduce some of the ideas used when doing this.\n",
    "\n"
   ]
  },
  {
   "cell_type": "markdown",
   "metadata": {},
   "source": [
    "## 2. Consulting an Oracle <a id='oracle'></a>\n",
    "\n",
    "Many quantum algorithms are based around the analysis of some function $f(x)$. Often these algorithms simply assume the existence of some 'black box' implementation of this function, which we can give an input $x$ and receive the corresponding output $f(x)$. This is referred to as an *oracle*.\n",
    "\n",
    "The advantage of thinking of the oracle in this abstract way allows us to concentrate on the quantum techniques we use to analyze the function, rather than the function itself. \n",
    "\n",
    "In order to understand how an oracle works within a quantum algorithm, we need to be specific about how they are defined. One of the  main forms that oracles take is that of *Boolean oracles*. These are described by the following unitary evolution,\n",
    "\n",
    "$$\n",
    "U_f \\left|x , \\bar 0 \\right\\rangle = \\left|x, f(x)\\right\\rangle.\n",
    "$$\n",
    "\n",
    "Here $\\left|x , \\bar 0 \\right\\rangle = \\left|x \\right\\rangle \\otimes \\left|\\bar 0 \\right\\rangle$ is used to represent a multi-qubit state consisting of two registers. The first register is in state $\\left|x\\right\\rangle$, where $x$ is a binary representation of the input to our function. The number of qubits in this register is the number of bits required to represent the inputs.\n",
    "\n",
    "The job of the second register is to similarly encode the output. Specifically, the state of this register after applying $U_f$ will be a binary representation of the output $\\left|f(x)\\right\\rangle$, and this register will consist of as many qubits as are required for this. This initial state $\\left|\\bar 0 \\right\\rangle$ for this register represents the state for which all qubits are $\\left|0 \\right\\rangle$. For other initial states, applying $U_f$ will lead to different results. The specific results that arise will depend on how we define the unitary $U_f$.\n",
    "\n",
    "Another form of oracle is the *phase oracle*, which is defined as follows,\n",
    "\n",
    "$$\n",
    "P_f \\left|x \\right\\rangle = (-1)^{f(x)} \\left|x \\right\\rangle,\n",
    "$$\n",
    "\n",
    "where the output $f(x)$ is typically a simple bit value of $0$ or $1$.\n",
    "\n",
    "Though it seems much different in form from the Boolean oracle, it is very much another expression of the same basic idea. In fact, it can be realized using the same 'phase kickback' mechanism as described in a previous section.\n",
    "\n",
    "To see this, consider the Boolean oracle $U_f$ that would correspond to the same function. This can be implemented as something that is essentially a generalized form of the controlled-NOT. It is controlled on the input register, such that it leaves the output bit in state $\\left|0 \\right\\rangle$ for $f(x)=0$, and applies an $X$ to flip it to $\\left|1 \\right\\rangle$ if $f(x)=1$. If the initial state of the output register were $\\left|- \\right\\rangle$ rather than $\\left|0 \\right\\rangle$, the effect of $U_f$ would then be to induce exactly the phase of $(-1)^{f(x)}$ required.\n",
    "\n",
    "$$\n",
    "U_f \\left( \\left|x \\right\\rangle \\otimes \\left| - \\right\\rangle \\right) = (P_f \\otimes I) \\left( \\left|x \\right\\rangle \\otimes \\left| - \\right\\rangle \\right)\n",
    "$$\n",
    "\n",
    "Since the $\\left|- \\right\\rangle$ state of the output qubit is left unchanged by the whole process, it can safely be ignored. The end effect is therefore that the phase oracle is simply implemented by the corresponding Boolean oracle."
   ]
  },
  {
   "cell_type": "markdown",
   "metadata": {},
   "source": [
    "## 3. Taking Out the Garbage <a id='garbage'></a>\n",
    "\n",
    "The functions evaluated by an oracle are typically those that can be evaluated efficiently on a classical computer. However, the need to implement it as a unitary in one of the forms shown above means that it must instead be implemented using quantum gates. However, this is not quite as simple as just taking the Boolean gates that can implement the classical algorithm, and replacing them with their quantum counterparts.\n",
    "\n",
    "One issue that we must take care of is that of reversibility. A unitary of the form $U = \\sum_x \\left| f(x) \\right\\rangle \\left\\langle x \\right|$ is only possible if every unique input $x$ results in a unique output $f(x)$, which is not true in general. However, we can force it to be true by simply including a copy of the input in the output. It is this that leads us to the form for Boolean oracles as we saw earlier\n",
    "$$\n",
    "U_f \\left|x,\\bar 0 \\right\\rangle = \\left| x,f(x) \\right\\rangle\n",
    "$$\n",
    "\n",
    "With the computation written as a unitary, we are able to consider the effect of applying it to superposition states. For example, let us take the superposition over all possible inputs $x$ (unnormalized for simplicity). This will result in a superposition of all possible input/output pairs,\n",
    "\n",
    "$$\n",
    "U_f \\sum_x \\left|x,0\\right\\rangle = \\sum_x \\left|x,f(x)\\right\\rangle.\n",
    "$$\n",
    "\n",
    "When adapting classical algorithms, we also need to take care that these superpositions behave as we need them to. Classical algorithms typically do not only compute the desired output, but will also create additional information along the way. Such additional remnants of a computation do not pose a significant problem classically, and the memory they take up can easily be recovered by deleting them. From a quantum perspective, however, things are not so easy. \n",
    "\n",
    "For example, consider the case that a classical algorithm performs the following process,\n",
    "$$\n",
    "V_f \\left|x,\\bar 0, \\bar 0 \\right\\rangle = \\left| x,f(x), g(x) \\right\\rangle\n",
    "$$\n",
    "Here we see a third register, which is used as a 'scratchpad' for the classical algorithm. We will refer to information that is left in this register at the end of the computation as the 'garbage', $g(x)$. Let us use $V_f$ to denote a unitary that implements the above.\n",
    "\n",
    "Quantum algorithms are typically built upon interference effects. The simplest such effect is to create a superposition using some unitary, and then remove it using the inverse of that unitary. The entire effect of this is, of course, trivial. However, we must ensure that our quantum computer is at least able to do such trivial things.\n",
    "\n",
    "For example, suppose some process within our quantum computation has given us the superposition state $\\sum_x \\left|x,f(x)\\right\\rangle$, and we are required to return this to the state $\\sum_x \\left|x,0\\right\\rangle$. For this we could simply apply $U_f^\\dagger$. The ability to apply this follows directly from knowing a circuit that would apply $U_f$, since we would simply need to replace each gate in the circuit with its inverse and reverse the order.\n",
    "\n",
    "However, suppose we don't know how to apply $U_f$, but instead know how to apply $V_f$. This means that we can't apply $U_f^\\dagger$ here, but could use $V_f^\\dagger$. Unfortunately, the presence of the garbage means that it won't have the same effect.\n",
    "\n",
    "For an explicit example of this we can take a very simple case. We'll restrict $x$, $f(x)$ and $g(x)$ to all consist of just a single bit. We'll also use $f(x) = x$ and $g(x) = x$, each of which can be achieved with just a single `cx` gate controlled on the input register.\n",
    "\n",
    "Specifically, the circuit to implement $U_f$ is just the following single `cx` between the single bit of the input and output registers."
   ]
  },
  {
   "cell_type": "code",
   "execution_count": 1,
   "metadata": {},
   "outputs": [],
   "source": [
    "from qiskit import QuantumCircuit, QuantumRegister"
   ]
  },
  {
   "cell_type": "code",
   "execution_count": 2,
   "metadata": {},
   "outputs": [
    {
     "data": {
      "image/svg+xml": [
       "<?xml version=\"1.0\" encoding=\"UTF-8\"?><!DOCTYPE svg  PUBLIC '-//W3C//DTD SVG 1.1//EN'  'http://www.w3.org/Graphics/SVG/1.1/DTD/svg11.dtd'><svg width=\"180.55pt\" height=\"168.93pt\" version=\"1.1\" viewBox=\"0 0 180.55 168.93\" xmlns=\"http://www.w3.org/2000/svg\" xmlns:xlink=\"http://www.w3.org/1999/xlink\"><defs><style type=\"text/css\">*{stroke-linecap:butt;stroke-linejoin:round;}</style></defs><path d=\"m0 168.93h180.55v-168.93h-180.55z\" fill=\"#ffffff\"/><path d=\"m118.81 43.561h49.996\" clip-path=\"url(#p76420c3488)\" fill=\"none\" stroke=\"#000000\" stroke-linecap=\"square\" stroke-width=\"2\"/><path d=\"m118.81 89.012h49.996\" clip-path=\"url(#p76420c3488)\" fill=\"none\" stroke=\"#000000\" stroke-linecap=\"square\" stroke-width=\"2\"/><path d=\"m118.81 134.46h49.996\" clip-path=\"url(#p76420c3488)\" fill=\"none\" stroke=\"#000000\" stroke-linecap=\"square\" stroke-width=\"2\"/><path d=\"m143.35 89.012v-45.451\" clip-path=\"url(#p76420c3488)\" fill=\"none\" stroke=\"#6fa4ff\" stroke-linecap=\"square\" stroke-width=\"2\"/><path d=\"m143.35 47.992c1.1752 0 2.3025-0.46693 3.1335-1.2979 0.83102-0.83102 1.2979-1.9583 1.2979-3.1335s-0.46693-2.3025-1.2979-3.1335c-0.83102-0.83102-1.9583-1.2979-3.1335-1.2979-1.1752 0-2.3025 0.46693-3.1335 1.2979-0.83102 0.83102-1.2979 1.9583-1.2979 3.1335s0.46693 2.3025 1.2979 3.1335c0.83102 0.83102 1.9583 1.2979 3.1335 1.2979z\" clip-path=\"url(#p76420c3488)\" fill=\"#6fa4ff\" stroke=\"#6fa4ff\" stroke-width=\"1.5\"/><path d=\"m143.35 99.352c2.7422 0 5.3725-1.0895 7.3116-3.0285 1.939-1.939 3.0285-4.5693 3.0285-7.3116s-1.0895-5.3725-3.0285-7.3116c-1.939-1.939-4.5693-3.0285-7.3116-3.0285-2.7422 0-5.3725 1.0895-7.3116 3.0285-1.939 1.939-3.0285 4.5693-3.0285 7.3116s1.0895 5.3725 3.0285 7.3116c1.939 1.939 4.5693 3.0285 7.3116 3.0285z\" clip-path=\"url(#p76420c3488)\" fill=\"#6fa4ff\" stroke=\"#6fa4ff\" stroke-width=\"2\"/><path d=\"m143.35 94.92v-11.817\" clip-path=\"url(#p76420c3488)\" fill=\"none\" stroke=\"#ffffff\" stroke-linecap=\"square\" stroke-width=\"2\"/><path d=\"m137.44 89.012h11.817\" clip-path=\"url(#p76420c3488)\" fill=\"none\" stroke=\"#ffffff\" stroke-linecap=\"square\" stroke-width=\"2\"/><g clip-path=\"url(#p76420c3488)\"><defs><path id=\"DejaVuSans-Oblique-105\" d=\"m18.312 75.984h8.9844l-2.2031-11.391h-8.9844zm-4.1094-21.297h8.9844l-10.688-54.688h-8.9844z\"/><path id=\"DejaVuSans-Oblique-110\" d=\"m55.719 33.016-6.4062-33.016h-9.0312l6.4062 32.672q0.4375 2.2969 0.67188 4.0469 0.25 1.7656 0.25 2.7812 0 4.1094-2.5938 6.3906-2.5781 2.2969-7.2188 2.2969-7.2344 0-12.453-4.8125-5.2188-4.7969-6.8438-13.047l-6-30.328h-8.9844l10.594 54.688h8.9844l-1.7969-8.5938q3.75 4.7344 9.0156 7.3125 5.2812 2.5938 11.094 2.5938 7.2344 0 11.203-3.9062 3.9844-3.9062 3.9844-10.984 0-1.75-0.21875-3.75t-0.65625-4.3438z\"/><path id=\"DejaVuSans-Oblique-112\" d=\"m49.609 33.688q0 7.1875-3.125 10.984-3.125 3.8125-8.9844 3.8125-4 0-7.6406-2.0469t-6.4688-5.9531q-2.7812-3.8594-4.4531-9.3281-1.6562-5.4688-1.6562-10.844 0-6.8281 3.125-10.516t8.8906-3.6875q4.25 0 7.8906 2t6.2188 5.8125q2.7812 4 4.4844 9.4219 1.7188 5.4219 1.7188 10.344zm-27.828 12.703q3.6094 4.7344 8.5156 7.1719t10.922 2.4375q8.3906 0 13.031-5.5 4.6406-5.4844 4.6406-15.391 0-8.1094-2.8906-15.453-2.875-7.3438-8.2969-13.156-3.6094-3.8594-8.1562-5.8906-4.5312-2.0312-9.5625-2.0312-5.8125 0-9.7656 2.4219t-5.9062 7.2031l-5.625-29h-8.9844l14.703 75.484h8.9844z\"/><path id=\"DejaVuSans-Oblique-117\" d=\"m6.6875 21.688 6.4062 33h9.0312l-6.4062-32.672q-0.48438-2.3906-0.70312-4.0938t-0.21875-2.8281q0-4.1562 2.5312-6.4375 2.5469-2.2656 7.1875-2.2656 7.2188 0 12.484 4.875 5.2812 4.8906 6.8906 13.156l6.0156 30.266h8.9844l-10.594-54.688h-8.9844l1.7969 8.5938q-3.7969-4.7812-9.0469-7.4062-5.25-2.6094-11.156-2.6094-7.1875 0-11.188 3.9375t-4 10.969q0 1.4531 0.23438 3.6562 0.25 2.2031 0.73438 4.5469z\"/><path id=\"DejaVuSans-Oblique-116\" d=\"m42.281 54.688-1.3594-6.9844h-17.922l-5.8125-29.688q-0.29688-1.6562-0.4375-2.7812t-0.14062-1.75q0-3.125 1.875-4.5469t6.0312-1.4219h9.0781l-1.5156-7.5156h-8.5938q-8 0-11.938 3.125-3.9219 3.125-3.9219 9.4688 0 1.125 0.14062 2.4688t0.4375 2.9531l5.8125 29.688h-7.625l1.4219 6.9844h7.4688l3.0312 15.531h8.9844l-2.9844-15.531z\"/><path id=\"DejaVuSans-48\" d=\"m31.781 66.406q-7.6094 0-11.453-7.5-3.8281-7.4844-3.8281-22.531 0-14.984 3.8281-22.484 3.8438-7.5 11.453-7.5 7.6719 0 11.5 7.5 3.8438 7.5 3.8438 22.484 0 15.047-3.8438 22.531-3.8281 7.5-11.5 7.5zm0 7.8125q12.266 0 18.734-9.7031 6.4688-9.6875 6.4688-28.141 0-18.406-6.4688-28.109-6.4688-9.6875-18.734-9.6875-12.25 0-18.719 9.6875-6.4688 9.7031-6.4688 28.109 0 18.453 6.4688 28.141 6.4688 9.7031 18.719 9.7031z\"/></defs><g transform=\"translate(60.154 48.03) scale(.1625 -.1625)\"><use transform=\"translate(0 .015625)\" xlink:href=\"#DejaVuSans-Oblique-105\"/><use transform=\"translate(27.783 .015625)\" xlink:href=\"#DejaVuSans-Oblique-110\"/><use transform=\"translate(91.162 .015625)\" xlink:href=\"#DejaVuSans-Oblique-112\"/><use transform=\"translate(154.64 .015625)\" xlink:href=\"#DejaVuSans-Oblique-117\"/><use transform=\"translate(218.02 .015625)\" xlink:href=\"#DejaVuSans-Oblique-116\"/><use transform=\"translate(257.23 -16.391) scale(.7)\" xlink:href=\"#DejaVuSans-48\"/></g></g><g clip-path=\"url(#p76420c3488)\"><defs><path id=\"DejaVuSans-Oblique-111\" d=\"m25.391-1.4219q-9.625 0-15.219 5.9375-5.5781 5.9375-5.5781 16.188 0 5.9531 1.9219 12.125 1.9375 6.1875 5.0156 10.391 4.8281 6.5312 10.781 9.6562t13.484 3.125q9.3281 0 15.062-5.8125 5.7344-5.7969 5.7344-15.172 0-6.5-1.9062-12.953-1.9062-6.4375-4.9844-10.688-4.7812-6.5469-10.734-9.6719t-13.578-3.125zm-11.469 22.422q0-7.4219 3.0938-11.109 3.1094-3.6875 9.4062-3.6875 9.0312 0 14.953 7.875 5.9375 7.8906 5.9375 20 0 7.0781-3.1719 10.688-3.1719 3.625-9.3281 3.625-5.0781 0-9.0312-2.375-3.9531-2.3594-7.0781-7.2031-2.2969-3.6094-3.5469-8.25-1.2344-4.6406-1.2344-9.5625z\"/></defs><g transform=\"translate(48.292 93.463) scale(.1625 -.1625)\"><use transform=\"translate(0 .78125)\" xlink:href=\"#DejaVuSans-Oblique-111\"/><use transform=\"translate(61.182 .78125)\" xlink:href=\"#DejaVuSans-Oblique-117\"/><use transform=\"translate(124.56 .78125)\" xlink:href=\"#DejaVuSans-Oblique-116\"/><use transform=\"translate(163.77 .78125)\" xlink:href=\"#DejaVuSans-Oblique-112\"/><use transform=\"translate(227.25 .78125)\" xlink:href=\"#DejaVuSans-Oblique-117\"/><use transform=\"translate(290.62 .78125)\" xlink:href=\"#DejaVuSans-Oblique-116\"/><use transform=\"translate(329.83 -15.625) scale(.7)\" xlink:href=\"#DejaVuSans-48\"/></g></g><g clip-path=\"url(#p76420c3488)\"><defs><path id=\"DejaVuSans-Oblique-103\" d=\"m59.625 54.688-9.3281-47.906q-2.6875-13.906-10.281-20.734-7.5938-6.8438-20.438-6.8438-4.7344 0-8.7969 0.70312-4.0469 0.70312-7.5625 2.1719l1.6719 8.7344q3.3125-2.1406 7.0156-3.1562 3.7188-1.0312 7.9219-1.0312 8.5469 0 14.031 4.6719 5.5 4.6562 7.25 13.391l0.78125 4.1094q-3.75-4.2969-8.7344-6.5469t-10.75-2.25q-8.2969 0-13.062 5.4844-4.75 5.5-4.75 15.125 0 7.5625 2.875 14.812 2.8906 7.25 8.1094 12.875 3.4688 3.7031 8.0781 5.7031t9.6406 2q5.5156 0 9.6094-2.5625 4.1094-2.5625 6.125-7.25l1.5625 8.5zm-13.531-20.062q0 6.6406-3.125 10.25t-8.8906 3.6094q-3.5625 0-6.7812-1.4219-3.2188-1.4062-5.5156-3.9531-3.7188-4.1875-5.7969-9.875-2.0625-5.6875-2.0625-11.75 0-6.7344 3.1406-10.359 3.1562-3.6094 9.0625-3.6094 8.5469 0 14.25 7.7344 5.7188 7.75 5.7188 19.375z\"/><path id=\"DejaVuSans-Oblique-97\" d=\"m53.719 31.203-6.1094-31.203h-8.9844l1.6562 8.2969q-3.9531-4.875-9.0156-7.2969-5.0469-2.4219-11.25-2.4219-6.9844 0-11.453 4.2656-4.4531 4.2812-4.4531 10.969 0 9.5781 7.6406 15.141t21.062 5.5625h12.5l0.48438 2.4062q0.10938 0.39062 0.15625 0.84375 0.046875 0.46875 0.046875 1.4375 0 4.3594-3.5469 6.7656-3.5312 2.4219-9.9375 2.4219-4.3906 0-9.0156-1.125-4.6094-1.125-9.4844-3.375l1.5625 8.3125q5.0781 1.9062 9.9375 2.8438 4.8594 0.95312 9.3906 0.95312 9.6719 0 14.719-4.2031 5.0625-4.1875 5.0625-12.203 0-1.6094-0.25-3.7812-0.23438-2.1719-0.71875-4.6094zm-9.7188-3.7188h-8.9844q-11.047 0-16.344-2.9531t-5.2969-9.1562q0-4.2969 2.7031-6.7344 2.7188-2.4375 7.5-2.4375 7.3281 0 12.797 5.25t7.2344 14.031z\"/><path id=\"DejaVuSans-Oblique-114\" d=\"m44.578 46.391q-1.3594 0.73438-3.125 1.125-1.75 0.39062-3.75 0.39062-7.1875 0-12.562-5.4531-5.3594-5.4375-7.125-14.578l-5.5156-27.875h-8.9844l10.688 54.688h8.9844l-1.7031-8.5q3.5625 4.7344 8.5156 7.2656 4.9688 2.5469 10.578 2.5469 1.4688 0 2.875-0.17188 1.4219-0.15625 2.8438-0.54688z\"/><path id=\"DejaVuSans-Oblique-98\" d=\"m49.516 33.406q0 7.0781-3.25 11.078t-8.9531 4q-4.1562 0-7.7969-2.0312-3.6406-2.0156-6.3281-5.875-2.8281-4.0469-4.4688-9.4062-1.625-5.3438-1.625-10.656 0-6.75 3.1875-10.578 3.2031-3.8281 8.8281-3.8281 4.2344 0 7.8438 1.9688 3.625 1.9844 6.3594 5.8438 2.7812 4 4.4844 9.3125 1.7188 5.3281 1.7188 10.172zm-27.938 12.984q3.3281 4.4844 8.3281 7.0469t10.469 2.5625q8.4062 0 13.359-5.6719 4.9531-5.6562 4.9531-15.312 0-7.9219-2.9062-15.344t-8.2656-13.172q-3.5156-3.8125-8.1094-5.875-4.5938-2.0469-9.625-2.0469-5.3125 0-9.2188 2.4375-3.9062 2.4531-6.3594 7.2812l-1.6094-8.2969h-8.9844l14.797 75.984h8.9844z\"/><path id=\"DejaVuSans-Oblique-101\" d=\"m48.094 32.234q0.15625 0.78125 0.21875 1.6094 0.078125 0.82812 0.078125 1.6562 0 5.9531-3.5 9.4219-3.4844 3.4688-9.4844 3.4688-6.6875 0-11.828-4.2344-5.125-4.2188-7.75-11.984zm7.8125-7.0312h-41.797q-0.29688-1.8594-0.39062-2.9375t-0.09375-1.8594q0-6.7812 4.1719-10.5 4.1719-3.7031 11.797-3.7031 5.8594 0 11.078 1.3125 5.2344 1.3281 9.7188 3.8594l-1.7031-8.8906q-4.8438-1.9531-10-2.9219-5.1406-0.98438-10.469-0.98438-11.375 0-17.5 5.4375-6.125 5.4531-6.125 15.469 0 8.5469 3.0469 15.891t8.9688 13.109q3.7969 3.6094 9.0469 5.5625t11.156 1.9531q9.2812 0 14.766-5.5625 5.5-5.5625 5.5-14.938 0-2.25-0.29688-4.8125-0.28125-2.5625-0.875-5.4844z\"/></defs><g transform=\"translate(34.479 138.93) scale(.1625 -.1625)\"><use transform=\"translate(0 .015625)\" xlink:href=\"#DejaVuSans-Oblique-103\"/><use transform=\"translate(63.477 .015625)\" xlink:href=\"#DejaVuSans-Oblique-97\"/><use transform=\"translate(124.76 .015625)\" xlink:href=\"#DejaVuSans-Oblique-114\"/><use transform=\"translate(165.87 .015625)\" xlink:href=\"#DejaVuSans-Oblique-98\"/><use transform=\"translate(229.35 .015625)\" xlink:href=\"#DejaVuSans-Oblique-97\"/><use transform=\"translate(290.62 .015625)\" xlink:href=\"#DejaVuSans-Oblique-103\"/><use transform=\"translate(354.1 .015625)\" xlink:href=\"#DejaVuSans-Oblique-101\"/><use transform=\"translate(415.62 -16.391) scale(.7)\" xlink:href=\"#DejaVuSans-48\"/></g></g><defs><clipPath id=\"p76420c3488\"><rect x=\"7.2\" y=\"7.2\" width=\"166.15\" height=\"154.53\"/></clipPath></defs></svg>"
      ],
      "text/plain": [
       "<Figure size 220.064x204.68 with 1 Axes>"
      ]
     },
     "execution_count": 2,
     "metadata": {},
     "output_type": "execute_result"
    }
   ],
   "source": [
    "input_bit = QuantumRegister(1, 'input')\n",
    "output_bit = QuantumRegister(1, 'output')\n",
    "garbage_bit = QuantumRegister(1, 'garbage')\n",
    "\n",
    "Uf = QuantumCircuit(input_bit, output_bit, garbage_bit)\n",
    "Uf.cx(input_bit[0], output_bit[0])\n",
    "\n",
    "Uf.draw()"
   ]
  },
  {
   "cell_type": "markdown",
   "metadata": {},
   "source": [
    "For $V_f$, where we also need to make a copy of the input for the garbage, we can use the following two `cx` gates."
   ]
  },
  {
   "cell_type": "code",
   "execution_count": 3,
   "metadata": {},
   "outputs": [
    {
     "data": {
      "image/svg+xml": [
       "<?xml version=\"1.0\" encoding=\"UTF-8\"?><!DOCTYPE svg  PUBLIC '-//W3C//DTD SVG 1.1//EN'  'http://www.w3.org/Graphics/SVG/1.1/DTD/svg11.dtd'><svg width=\"226pt\" height=\"168.93pt\" version=\"1.1\" viewBox=\"0 0 226 168.93\" xmlns=\"http://www.w3.org/2000/svg\" xmlns:xlink=\"http://www.w3.org/1999/xlink\"><defs><style type=\"text/css\">*{stroke-linecap:butt;stroke-linejoin:round;}</style></defs><path d=\"m0 168.93h226v-168.93h-226z\" fill=\"#ffffff\"/><path d=\"m118.81 43.561h95.447\" clip-path=\"url(#p8c1230e7bf)\" fill=\"none\" stroke=\"#000000\" stroke-linecap=\"square\" stroke-width=\"2\"/><path d=\"m118.81 89.012h95.447\" clip-path=\"url(#p8c1230e7bf)\" fill=\"none\" stroke=\"#000000\" stroke-linecap=\"square\" stroke-width=\"2\"/><path d=\"m118.81 134.46h95.447\" clip-path=\"url(#p8c1230e7bf)\" fill=\"none\" stroke=\"#000000\" stroke-linecap=\"square\" stroke-width=\"2\"/><path d=\"m143.35 134.46v-90.902\" clip-path=\"url(#p8c1230e7bf)\" fill=\"none\" stroke=\"#6fa4ff\" stroke-linecap=\"square\" stroke-width=\"2\"/><path d=\"m188.8 89.012v-45.451\" clip-path=\"url(#p8c1230e7bf)\" fill=\"none\" stroke=\"#6fa4ff\" stroke-linecap=\"square\" stroke-width=\"2\"/><path d=\"m143.35 47.992c1.1752 0 2.3025-0.46693 3.1335-1.2979 0.83102-0.83102 1.2979-1.9583 1.2979-3.1335s-0.46693-2.3025-1.2979-3.1335c-0.83102-0.83102-1.9583-1.2979-3.1335-1.2979-1.1752 0-2.3025 0.46693-3.1335 1.2979-0.83102 0.83102-1.2979 1.9583-1.2979 3.1335s0.46693 2.3025 1.2979 3.1335c0.83102 0.83102 1.9583 1.2979 3.1335 1.2979z\" clip-path=\"url(#p8c1230e7bf)\" fill=\"#6fa4ff\" stroke=\"#6fa4ff\" stroke-width=\"1.5\"/><path d=\"m143.35 144.8c2.7422 0 5.3725-1.0895 7.3116-3.0285 1.939-1.939 3.0285-4.5693 3.0285-7.3116s-1.0895-5.3725-3.0285-7.3116c-1.939-1.939-4.5693-3.0285-7.3116-3.0285-2.7422 0-5.3725 1.0895-7.3116 3.0285-1.939 1.939-3.0285 4.5693-3.0285 7.3116s1.0895 5.3725 3.0285 7.3116c1.939 1.939 4.5693 3.0285 7.3116 3.0285z\" clip-path=\"url(#p8c1230e7bf)\" fill=\"#6fa4ff\" stroke=\"#6fa4ff\" stroke-width=\"2\"/><path d=\"m188.8 47.992c1.1752 0 2.3025-0.46693 3.1335-1.2979 0.83102-0.83102 1.2979-1.9583 1.2979-3.1335s-0.46693-2.3025-1.2979-3.1335c-0.83102-0.83102-1.9583-1.2979-3.1335-1.2979-1.1752 0-2.3025 0.46693-3.1335 1.2979-0.83102 0.83102-1.2979 1.9583-1.2979 3.1335s0.46693 2.3025 1.2979 3.1335c0.83102 0.83102 1.9583 1.2979 3.1335 1.2979z\" clip-path=\"url(#p8c1230e7bf)\" fill=\"#6fa4ff\" stroke=\"#6fa4ff\" stroke-width=\"1.5\"/><path d=\"m188.8 99.352c2.7422 0 5.3725-1.0895 7.3116-3.0285 1.939-1.939 3.0285-4.5693 3.0285-7.3116s-1.0895-5.3725-3.0285-7.3116c-1.939-1.939-4.5693-3.0285-7.3116-3.0285-2.7422 0-5.3725 1.0895-7.3116 3.0285-1.939 1.939-3.0285 4.5693-3.0285 7.3116s1.0895 5.3725 3.0285 7.3116c1.939 1.939 4.5693 3.0285 7.3116 3.0285z\" clip-path=\"url(#p8c1230e7bf)\" fill=\"#6fa4ff\" stroke=\"#6fa4ff\" stroke-width=\"2\"/><path d=\"m143.35 140.37v-11.817\" clip-path=\"url(#p8c1230e7bf)\" fill=\"none\" stroke=\"#ffffff\" stroke-linecap=\"square\" stroke-width=\"2\"/><path d=\"m137.44 134.46h11.817\" clip-path=\"url(#p8c1230e7bf)\" fill=\"none\" stroke=\"#ffffff\" stroke-linecap=\"square\" stroke-width=\"2\"/><path d=\"m188.8 94.92v-11.817\" clip-path=\"url(#p8c1230e7bf)\" fill=\"none\" stroke=\"#ffffff\" stroke-linecap=\"square\" stroke-width=\"2\"/><path d=\"m182.89 89.012h11.817\" clip-path=\"url(#p8c1230e7bf)\" fill=\"none\" stroke=\"#ffffff\" stroke-linecap=\"square\" stroke-width=\"2\"/><g clip-path=\"url(#p8c1230e7bf)\"><defs><path id=\"DejaVuSans-Oblique-105\" d=\"m18.312 75.984h8.9844l-2.2031-11.391h-8.9844zm-4.1094-21.297h8.9844l-10.688-54.688h-8.9844z\"/><path id=\"DejaVuSans-Oblique-110\" d=\"m55.719 33.016-6.4062-33.016h-9.0312l6.4062 32.672q0.4375 2.2969 0.67188 4.0469 0.25 1.7656 0.25 2.7812 0 4.1094-2.5938 6.3906-2.5781 2.2969-7.2188 2.2969-7.2344 0-12.453-4.8125-5.2188-4.7969-6.8438-13.047l-6-30.328h-8.9844l10.594 54.688h8.9844l-1.7969-8.5938q3.75 4.7344 9.0156 7.3125 5.2812 2.5938 11.094 2.5938 7.2344 0 11.203-3.9062 3.9844-3.9062 3.9844-10.984 0-1.75-0.21875-3.75t-0.65625-4.3438z\"/><path id=\"DejaVuSans-Oblique-112\" d=\"m49.609 33.688q0 7.1875-3.125 10.984-3.125 3.8125-8.9844 3.8125-4 0-7.6406-2.0469t-6.4688-5.9531q-2.7812-3.8594-4.4531-9.3281-1.6562-5.4688-1.6562-10.844 0-6.8281 3.125-10.516t8.8906-3.6875q4.25 0 7.8906 2t6.2188 5.8125q2.7812 4 4.4844 9.4219 1.7188 5.4219 1.7188 10.344zm-27.828 12.703q3.6094 4.7344 8.5156 7.1719t10.922 2.4375q8.3906 0 13.031-5.5 4.6406-5.4844 4.6406-15.391 0-8.1094-2.8906-15.453-2.875-7.3438-8.2969-13.156-3.6094-3.8594-8.1562-5.8906-4.5312-2.0312-9.5625-2.0312-5.8125 0-9.7656 2.4219t-5.9062 7.2031l-5.625-29h-8.9844l14.703 75.484h8.9844z\"/><path id=\"DejaVuSans-Oblique-117\" d=\"m6.6875 21.688 6.4062 33h9.0312l-6.4062-32.672q-0.48438-2.3906-0.70312-4.0938t-0.21875-2.8281q0-4.1562 2.5312-6.4375 2.5469-2.2656 7.1875-2.2656 7.2188 0 12.484 4.875 5.2812 4.8906 6.8906 13.156l6.0156 30.266h8.9844l-10.594-54.688h-8.9844l1.7969 8.5938q-3.7969-4.7812-9.0469-7.4062-5.25-2.6094-11.156-2.6094-7.1875 0-11.188 3.9375t-4 10.969q0 1.4531 0.23438 3.6562 0.25 2.2031 0.73438 4.5469z\"/><path id=\"DejaVuSans-Oblique-116\" d=\"m42.281 54.688-1.3594-6.9844h-17.922l-5.8125-29.688q-0.29688-1.6562-0.4375-2.7812t-0.14062-1.75q0-3.125 1.875-4.5469t6.0312-1.4219h9.0781l-1.5156-7.5156h-8.5938q-8 0-11.938 3.125-3.9219 3.125-3.9219 9.4688 0 1.125 0.14062 2.4688t0.4375 2.9531l5.8125 29.688h-7.625l1.4219 6.9844h7.4688l3.0312 15.531h8.9844l-2.9844-15.531z\"/><path id=\"DejaVuSans-48\" d=\"m31.781 66.406q-7.6094 0-11.453-7.5-3.8281-7.4844-3.8281-22.531 0-14.984 3.8281-22.484 3.8438-7.5 11.453-7.5 7.6719 0 11.5 7.5 3.8438 7.5 3.8438 22.484 0 15.047-3.8438 22.531-3.8281 7.5-11.5 7.5zm0 7.8125q12.266 0 18.734-9.7031 6.4688-9.6875 6.4688-28.141 0-18.406-6.4688-28.109-6.4688-9.6875-18.734-9.6875-12.25 0-18.719 9.6875-6.4688 9.7031-6.4688 28.109 0 18.453 6.4688 28.141 6.4688 9.7031 18.719 9.7031z\"/></defs><g transform=\"translate(60.154 48.03) scale(.1625 -.1625)\"><use transform=\"translate(0 .015625)\" xlink:href=\"#DejaVuSans-Oblique-105\"/><use transform=\"translate(27.783 .015625)\" xlink:href=\"#DejaVuSans-Oblique-110\"/><use transform=\"translate(91.162 .015625)\" xlink:href=\"#DejaVuSans-Oblique-112\"/><use transform=\"translate(154.64 .015625)\" xlink:href=\"#DejaVuSans-Oblique-117\"/><use transform=\"translate(218.02 .015625)\" xlink:href=\"#DejaVuSans-Oblique-116\"/><use transform=\"translate(257.23 -16.391) scale(.7)\" xlink:href=\"#DejaVuSans-48\"/></g></g><g clip-path=\"url(#p8c1230e7bf)\"><defs><path id=\"DejaVuSans-Oblique-111\" d=\"m25.391-1.4219q-9.625 0-15.219 5.9375-5.5781 5.9375-5.5781 16.188 0 5.9531 1.9219 12.125 1.9375 6.1875 5.0156 10.391 4.8281 6.5312 10.781 9.6562t13.484 3.125q9.3281 0 15.062-5.8125 5.7344-5.7969 5.7344-15.172 0-6.5-1.9062-12.953-1.9062-6.4375-4.9844-10.688-4.7812-6.5469-10.734-9.6719t-13.578-3.125zm-11.469 22.422q0-7.4219 3.0938-11.109 3.1094-3.6875 9.4062-3.6875 9.0312 0 14.953 7.875 5.9375 7.8906 5.9375 20 0 7.0781-3.1719 10.688-3.1719 3.625-9.3281 3.625-5.0781 0-9.0312-2.375-3.9531-2.3594-7.0781-7.2031-2.2969-3.6094-3.5469-8.25-1.2344-4.6406-1.2344-9.5625z\"/></defs><g transform=\"translate(48.292 93.463) scale(.1625 -.1625)\"><use transform=\"translate(0 .78125)\" xlink:href=\"#DejaVuSans-Oblique-111\"/><use transform=\"translate(61.182 .78125)\" xlink:href=\"#DejaVuSans-Oblique-117\"/><use transform=\"translate(124.56 .78125)\" xlink:href=\"#DejaVuSans-Oblique-116\"/><use transform=\"translate(163.77 .78125)\" xlink:href=\"#DejaVuSans-Oblique-112\"/><use transform=\"translate(227.25 .78125)\" xlink:href=\"#DejaVuSans-Oblique-117\"/><use transform=\"translate(290.62 .78125)\" xlink:href=\"#DejaVuSans-Oblique-116\"/><use transform=\"translate(329.83 -15.625) scale(.7)\" xlink:href=\"#DejaVuSans-48\"/></g></g><g clip-path=\"url(#p8c1230e7bf)\"><defs><path id=\"DejaVuSans-Oblique-103\" d=\"m59.625 54.688-9.3281-47.906q-2.6875-13.906-10.281-20.734-7.5938-6.8438-20.438-6.8438-4.7344 0-8.7969 0.70312-4.0469 0.70312-7.5625 2.1719l1.6719 8.7344q3.3125-2.1406 7.0156-3.1562 3.7188-1.0312 7.9219-1.0312 8.5469 0 14.031 4.6719 5.5 4.6562 7.25 13.391l0.78125 4.1094q-3.75-4.2969-8.7344-6.5469t-10.75-2.25q-8.2969 0-13.062 5.4844-4.75 5.5-4.75 15.125 0 7.5625 2.875 14.812 2.8906 7.25 8.1094 12.875 3.4688 3.7031 8.0781 5.7031t9.6406 2q5.5156 0 9.6094-2.5625 4.1094-2.5625 6.125-7.25l1.5625 8.5zm-13.531-20.062q0 6.6406-3.125 10.25t-8.8906 3.6094q-3.5625 0-6.7812-1.4219-3.2188-1.4062-5.5156-3.9531-3.7188-4.1875-5.7969-9.875-2.0625-5.6875-2.0625-11.75 0-6.7344 3.1406-10.359 3.1562-3.6094 9.0625-3.6094 8.5469 0 14.25 7.7344 5.7188 7.75 5.7188 19.375z\"/><path id=\"DejaVuSans-Oblique-97\" d=\"m53.719 31.203-6.1094-31.203h-8.9844l1.6562 8.2969q-3.9531-4.875-9.0156-7.2969-5.0469-2.4219-11.25-2.4219-6.9844 0-11.453 4.2656-4.4531 4.2812-4.4531 10.969 0 9.5781 7.6406 15.141t21.062 5.5625h12.5l0.48438 2.4062q0.10938 0.39062 0.15625 0.84375 0.046875 0.46875 0.046875 1.4375 0 4.3594-3.5469 6.7656-3.5312 2.4219-9.9375 2.4219-4.3906 0-9.0156-1.125-4.6094-1.125-9.4844-3.375l1.5625 8.3125q5.0781 1.9062 9.9375 2.8438 4.8594 0.95312 9.3906 0.95312 9.6719 0 14.719-4.2031 5.0625-4.1875 5.0625-12.203 0-1.6094-0.25-3.7812-0.23438-2.1719-0.71875-4.6094zm-9.7188-3.7188h-8.9844q-11.047 0-16.344-2.9531t-5.2969-9.1562q0-4.2969 2.7031-6.7344 2.7188-2.4375 7.5-2.4375 7.3281 0 12.797 5.25t7.2344 14.031z\"/><path id=\"DejaVuSans-Oblique-114\" d=\"m44.578 46.391q-1.3594 0.73438-3.125 1.125-1.75 0.39062-3.75 0.39062-7.1875 0-12.562-5.4531-5.3594-5.4375-7.125-14.578l-5.5156-27.875h-8.9844l10.688 54.688h8.9844l-1.7031-8.5q3.5625 4.7344 8.5156 7.2656 4.9688 2.5469 10.578 2.5469 1.4688 0 2.875-0.17188 1.4219-0.15625 2.8438-0.54688z\"/><path id=\"DejaVuSans-Oblique-98\" d=\"m49.516 33.406q0 7.0781-3.25 11.078t-8.9531 4q-4.1562 0-7.7969-2.0312-3.6406-2.0156-6.3281-5.875-2.8281-4.0469-4.4688-9.4062-1.625-5.3438-1.625-10.656 0-6.75 3.1875-10.578 3.2031-3.8281 8.8281-3.8281 4.2344 0 7.8438 1.9688 3.625 1.9844 6.3594 5.8438 2.7812 4 4.4844 9.3125 1.7188 5.3281 1.7188 10.172zm-27.938 12.984q3.3281 4.4844 8.3281 7.0469t10.469 2.5625q8.4062 0 13.359-5.6719 4.9531-5.6562 4.9531-15.312 0-7.9219-2.9062-15.344t-8.2656-13.172q-3.5156-3.8125-8.1094-5.875-4.5938-2.0469-9.625-2.0469-5.3125 0-9.2188 2.4375-3.9062 2.4531-6.3594 7.2812l-1.6094-8.2969h-8.9844l14.797 75.984h8.9844z\"/><path id=\"DejaVuSans-Oblique-101\" d=\"m48.094 32.234q0.15625 0.78125 0.21875 1.6094 0.078125 0.82812 0.078125 1.6562 0 5.9531-3.5 9.4219-3.4844 3.4688-9.4844 3.4688-6.6875 0-11.828-4.2344-5.125-4.2188-7.75-11.984zm7.8125-7.0312h-41.797q-0.29688-1.8594-0.39062-2.9375t-0.09375-1.8594q0-6.7812 4.1719-10.5 4.1719-3.7031 11.797-3.7031 5.8594 0 11.078 1.3125 5.2344 1.3281 9.7188 3.8594l-1.7031-8.8906q-4.8438-1.9531-10-2.9219-5.1406-0.98438-10.469-0.98438-11.375 0-17.5 5.4375-6.125 5.4531-6.125 15.469 0 8.5469 3.0469 15.891t8.9688 13.109q3.7969 3.6094 9.0469 5.5625t11.156 1.9531q9.2812 0 14.766-5.5625 5.5-5.5625 5.5-14.938 0-2.25-0.29688-4.8125-0.28125-2.5625-0.875-5.4844z\"/></defs><g transform=\"translate(34.479 138.93) scale(.1625 -.1625)\"><use transform=\"translate(0 .015625)\" xlink:href=\"#DejaVuSans-Oblique-103\"/><use transform=\"translate(63.477 .015625)\" xlink:href=\"#DejaVuSans-Oblique-97\"/><use transform=\"translate(124.76 .015625)\" xlink:href=\"#DejaVuSans-Oblique-114\"/><use transform=\"translate(165.87 .015625)\" xlink:href=\"#DejaVuSans-Oblique-98\"/><use transform=\"translate(229.35 .015625)\" xlink:href=\"#DejaVuSans-Oblique-97\"/><use transform=\"translate(290.62 .015625)\" xlink:href=\"#DejaVuSans-Oblique-103\"/><use transform=\"translate(354.1 .015625)\" xlink:href=\"#DejaVuSans-Oblique-101\"/><use transform=\"translate(415.62 -16.391) scale(.7)\" xlink:href=\"#DejaVuSans-48\"/></g></g><defs><clipPath id=\"p8c1230e7bf\"><rect x=\"7.2\" y=\"7.2\" width=\"211.6\" height=\"154.53\"/></clipPath></defs></svg>"
      ],
      "text/plain": [
       "<Figure size 280.264x204.68 with 1 Axes>"
      ]
     },
     "execution_count": 3,
     "metadata": {},
     "output_type": "execute_result"
    }
   ],
   "source": [
    "Vf = QuantumCircuit(input_bit, output_bit, garbage_bit)\n",
    "Vf.cx(input_bit[0], garbage_bit[0])\n",
    "Vf.cx(input_bit[0], output_bit[0])\n",
    "Vf.draw()"
   ]
  },
  {
   "cell_type": "markdown",
   "metadata": {},
   "source": [
    "Now we can look at the effect of first applying $U_f$, and then applying $V_f^{\\dagger}$. The net effect is the following circuit."
   ]
  },
  {
   "cell_type": "code",
   "execution_count": 4,
   "metadata": {},
   "outputs": [
    {
     "name": "stderr",
     "output_type": "stream",
     "text": [
      "/usr/local/anaconda3/lib/python3.7/site-packages/ipykernel_launcher.py:1: DeprecationWarning: The QuantumCircuit.__add__() method is being deprecated.Use the compose() method which is more flexible w.r.t circuit register compatibility.\n",
      "  \"\"\"Entry point for launching an IPython kernel.\n",
      "/usr/local/anaconda3/lib/python3.7/site-packages/qiskit/circuit/quantumcircuit.py:869: DeprecationWarning: The QuantumCircuit.combine() method is being deprecated. Use the compose() method which is more flexible w.r.t circuit register compatibility.\n",
      "  return self.combine(rhs)\n"
     ]
    },
    {
     "data": {
      "image/svg+xml": [
       "<?xml version=\"1.0\" encoding=\"UTF-8\"?><!DOCTYPE svg  PUBLIC '-//W3C//DTD SVG 1.1//EN'  'http://www.w3.org/Graphics/SVG/1.1/DTD/svg11.dtd'><svg width=\"271.45pt\" height=\"168.93pt\" version=\"1.1\" viewBox=\"0 0 271.45 168.93\" xmlns=\"http://www.w3.org/2000/svg\" xmlns:xlink=\"http://www.w3.org/1999/xlink\"><defs><style type=\"text/css\">*{stroke-linecap:butt;stroke-linejoin:round;}</style></defs><path d=\"m-0 168.93h271.45v-168.93h-271.45z\" fill=\"#ffffff\"/><path d=\"m118.81 43.561h140.9\" clip-path=\"url(#p09c69b25a8)\" fill=\"none\" stroke=\"#000000\" stroke-linecap=\"square\" stroke-width=\"2\"/><path d=\"m118.81 89.012h140.9\" clip-path=\"url(#p09c69b25a8)\" fill=\"none\" stroke=\"#000000\" stroke-linecap=\"square\" stroke-width=\"2\"/><path d=\"m118.81 134.46h140.9\" clip-path=\"url(#p09c69b25a8)\" fill=\"none\" stroke=\"#000000\" stroke-linecap=\"square\" stroke-width=\"2\"/><path d=\"m143.35 89.012v-45.451\" clip-path=\"url(#p09c69b25a8)\" fill=\"none\" stroke=\"#6fa4ff\" stroke-linecap=\"square\" stroke-width=\"2\"/><path d=\"m188.8 89.012v-45.451\" clip-path=\"url(#p09c69b25a8)\" fill=\"none\" stroke=\"#6fa4ff\" stroke-linecap=\"square\" stroke-width=\"2\"/><path d=\"m234.25 134.46v-90.902\" clip-path=\"url(#p09c69b25a8)\" fill=\"none\" stroke=\"#6fa4ff\" stroke-linecap=\"square\" stroke-width=\"2\"/><path d=\"m143.35 47.992c1.1752 0 2.3025-0.46693 3.1335-1.2979 0.83102-0.83102 1.2979-1.9583 1.2979-3.1335s-0.46693-2.3025-1.2979-3.1335c-0.83102-0.83102-1.9583-1.2979-3.1335-1.2979-1.1752 0-2.3025 0.46693-3.1335 1.2979-0.83102 0.83102-1.2979 1.9583-1.2979 3.1335s0.46693 2.3025 1.2979 3.1335c0.83102 0.83102 1.9583 1.2979 3.1335 1.2979z\" clip-path=\"url(#p09c69b25a8)\" fill=\"#6fa4ff\" stroke=\"#6fa4ff\" stroke-width=\"1.5\"/><path d=\"m143.35 99.352c2.7422 0 5.3725-1.0895 7.3116-3.0285 1.939-1.939 3.0285-4.5693 3.0285-7.3116s-1.0895-5.3725-3.0285-7.3116c-1.939-1.939-4.5693-3.0285-7.3116-3.0285-2.7422 0-5.3725 1.0895-7.3116 3.0285-1.939 1.939-3.0285 4.5693-3.0285 7.3116s1.0895 5.3725 3.0285 7.3116c1.939 1.939 4.5693 3.0285 7.3116 3.0285z\" clip-path=\"url(#p09c69b25a8)\" fill=\"#6fa4ff\" stroke=\"#6fa4ff\" stroke-width=\"2\"/><path d=\"m188.8 47.992c1.1752 0 2.3025-0.46693 3.1335-1.2979 0.83102-0.83102 1.2979-1.9583 1.2979-3.1335s-0.46693-2.3025-1.2979-3.1335c-0.83102-0.83102-1.9583-1.2979-3.1335-1.2979-1.1752 0-2.3025 0.46693-3.1335 1.2979-0.83102 0.83102-1.2979 1.9583-1.2979 3.1335s0.46693 2.3025 1.2979 3.1335c0.83102 0.83102 1.9583 1.2979 3.1335 1.2979z\" clip-path=\"url(#p09c69b25a8)\" fill=\"#6fa4ff\" stroke=\"#6fa4ff\" stroke-width=\"1.5\"/><path d=\"m188.8 99.352c2.7422 0 5.3725-1.0895 7.3116-3.0285 1.939-1.939 3.0285-4.5693 3.0285-7.3116s-1.0895-5.3725-3.0285-7.3116c-1.939-1.939-4.5693-3.0285-7.3116-3.0285-2.7422 0-5.3725 1.0895-7.3116 3.0285-1.939 1.939-3.0285 4.5693-3.0285 7.3116s1.0895 5.3725 3.0285 7.3116c1.939 1.939 4.5693 3.0285 7.3116 3.0285z\" clip-path=\"url(#p09c69b25a8)\" fill=\"#6fa4ff\" stroke=\"#6fa4ff\" stroke-width=\"2\"/><path d=\"m234.25 47.992c1.1752 0 2.3025-0.46693 3.1335-1.2979 0.83102-0.83102 1.2979-1.9583 1.2979-3.1335s-0.46693-2.3025-1.2979-3.1335c-0.83102-0.83102-1.9583-1.2979-3.1335-1.2979-1.1752 0-2.3025 0.46693-3.1335 1.2979-0.83102 0.83102-1.2979 1.9583-1.2979 3.1335s0.46693 2.3025 1.2979 3.1335c0.83102 0.83102 1.9583 1.2979 3.1335 1.2979z\" clip-path=\"url(#p09c69b25a8)\" fill=\"#6fa4ff\" stroke=\"#6fa4ff\" stroke-width=\"1.5\"/><path d=\"m234.25 144.8c2.7422 0 5.3725-1.0895 7.3116-3.0285 1.939-1.939 3.0285-4.5693 3.0285-7.3116s-1.0895-5.3725-3.0285-7.3116c-1.939-1.939-4.5693-3.0285-7.3116-3.0285-2.7422 0-5.3725 1.0895-7.3116 3.0285-1.939 1.939-3.0285 4.5693-3.0285 7.3116s1.0895 5.3725 3.0285 7.3116c1.939 1.939 4.5693 3.0285 7.3116 3.0285z\" clip-path=\"url(#p09c69b25a8)\" fill=\"#6fa4ff\" stroke=\"#6fa4ff\" stroke-width=\"2\"/><path d=\"m143.35 94.92v-11.817\" clip-path=\"url(#p09c69b25a8)\" fill=\"none\" stroke=\"#ffffff\" stroke-linecap=\"square\" stroke-width=\"2\"/><path d=\"m137.44 89.012h11.817\" clip-path=\"url(#p09c69b25a8)\" fill=\"none\" stroke=\"#ffffff\" stroke-linecap=\"square\" stroke-width=\"2\"/><path d=\"m188.8 94.92v-11.817\" clip-path=\"url(#p09c69b25a8)\" fill=\"none\" stroke=\"#ffffff\" stroke-linecap=\"square\" stroke-width=\"2\"/><path d=\"m182.89 89.012h11.817\" clip-path=\"url(#p09c69b25a8)\" fill=\"none\" stroke=\"#ffffff\" stroke-linecap=\"square\" stroke-width=\"2\"/><path d=\"m234.25 140.37v-11.817\" clip-path=\"url(#p09c69b25a8)\" fill=\"none\" stroke=\"#ffffff\" stroke-linecap=\"square\" stroke-width=\"2\"/><path d=\"m228.34 134.46h11.817\" clip-path=\"url(#p09c69b25a8)\" fill=\"none\" stroke=\"#ffffff\" stroke-linecap=\"square\" stroke-width=\"2\"/><g clip-path=\"url(#p09c69b25a8)\"><defs><path id=\"DejaVuSans-Oblique-105\" d=\"m18.312 75.984h8.9844l-2.2031-11.391h-8.9844zm-4.1094-21.297h8.9844l-10.688-54.688h-8.9844z\"/><path id=\"DejaVuSans-Oblique-110\" d=\"m55.719 33.016-6.4062-33.016h-9.0312l6.4062 32.672q0.4375 2.2969 0.67188 4.0469 0.25 1.7656 0.25 2.7812 0 4.1094-2.5938 6.3906-2.5781 2.2969-7.2188 2.2969-7.2344 0-12.453-4.8125-5.2188-4.7969-6.8438-13.047l-6-30.328h-8.9844l10.594 54.688h8.9844l-1.7969-8.5938q3.75 4.7344 9.0156 7.3125 5.2812 2.5938 11.094 2.5938 7.2344 0 11.203-3.9062 3.9844-3.9062 3.9844-10.984 0-1.75-0.21875-3.75t-0.65625-4.3438z\"/><path id=\"DejaVuSans-Oblique-112\" d=\"m49.609 33.688q0 7.1875-3.125 10.984-3.125 3.8125-8.9844 3.8125-4 0-7.6406-2.0469t-6.4688-5.9531q-2.7812-3.8594-4.4531-9.3281-1.6562-5.4688-1.6562-10.844 0-6.8281 3.125-10.516t8.8906-3.6875q4.25 0 7.8906 2t6.2188 5.8125q2.7812 4 4.4844 9.4219 1.7188 5.4219 1.7188 10.344zm-27.828 12.703q3.6094 4.7344 8.5156 7.1719t10.922 2.4375q8.3906 0 13.031-5.5 4.6406-5.4844 4.6406-15.391 0-8.1094-2.8906-15.453-2.875-7.3438-8.2969-13.156-3.6094-3.8594-8.1562-5.8906-4.5312-2.0312-9.5625-2.0312-5.8125 0-9.7656 2.4219t-5.9062 7.2031l-5.625-29h-8.9844l14.703 75.484h8.9844z\"/><path id=\"DejaVuSans-Oblique-117\" d=\"m6.6875 21.688 6.4062 33h9.0312l-6.4062-32.672q-0.48438-2.3906-0.70312-4.0938t-0.21875-2.8281q0-4.1562 2.5312-6.4375 2.5469-2.2656 7.1875-2.2656 7.2188 0 12.484 4.875 5.2812 4.8906 6.8906 13.156l6.0156 30.266h8.9844l-10.594-54.688h-8.9844l1.7969 8.5938q-3.7969-4.7812-9.0469-7.4062-5.25-2.6094-11.156-2.6094-7.1875 0-11.188 3.9375t-4 10.969q0 1.4531 0.23438 3.6562 0.25 2.2031 0.73438 4.5469z\"/><path id=\"DejaVuSans-Oblique-116\" d=\"m42.281 54.688-1.3594-6.9844h-17.922l-5.8125-29.688q-0.29688-1.6562-0.4375-2.7812t-0.14062-1.75q0-3.125 1.875-4.5469t6.0312-1.4219h9.0781l-1.5156-7.5156h-8.5938q-8 0-11.938 3.125-3.9219 3.125-3.9219 9.4688 0 1.125 0.14062 2.4688t0.4375 2.9531l5.8125 29.688h-7.625l1.4219 6.9844h7.4688l3.0312 15.531h8.9844l-2.9844-15.531z\"/><path id=\"DejaVuSans-48\" d=\"m31.781 66.406q-7.6094 0-11.453-7.5-3.8281-7.4844-3.8281-22.531 0-14.984 3.8281-22.484 3.8438-7.5 11.453-7.5 7.6719 0 11.5 7.5 3.8438 7.5 3.8438 22.484 0 15.047-3.8438 22.531-3.8281 7.5-11.5 7.5zm0 7.8125q12.266 0 18.734-9.7031 6.4688-9.6875 6.4688-28.141 0-18.406-6.4688-28.109-6.4688-9.6875-18.734-9.6875-12.25 0-18.719 9.6875-6.4688 9.7031-6.4688 28.109 0 18.453 6.4688 28.141 6.4688 9.7031 18.719 9.7031z\"/></defs><g transform=\"translate(60.154 48.03) scale(.1625 -.1625)\"><use transform=\"translate(0 .015625)\" xlink:href=\"#DejaVuSans-Oblique-105\"/><use transform=\"translate(27.783 .015625)\" xlink:href=\"#DejaVuSans-Oblique-110\"/><use transform=\"translate(91.162 .015625)\" xlink:href=\"#DejaVuSans-Oblique-112\"/><use transform=\"translate(154.64 .015625)\" xlink:href=\"#DejaVuSans-Oblique-117\"/><use transform=\"translate(218.02 .015625)\" xlink:href=\"#DejaVuSans-Oblique-116\"/><use transform=\"translate(257.23 -16.391) scale(.7)\" xlink:href=\"#DejaVuSans-48\"/></g></g><g clip-path=\"url(#p09c69b25a8)\"><defs><path id=\"DejaVuSans-Oblique-111\" d=\"m25.391-1.4219q-9.625 0-15.219 5.9375-5.5781 5.9375-5.5781 16.188 0 5.9531 1.9219 12.125 1.9375 6.1875 5.0156 10.391 4.8281 6.5312 10.781 9.6562t13.484 3.125q9.3281 0 15.062-5.8125 5.7344-5.7969 5.7344-15.172 0-6.5-1.9062-12.953-1.9062-6.4375-4.9844-10.688-4.7812-6.5469-10.734-9.6719t-13.578-3.125zm-11.469 22.422q0-7.4219 3.0938-11.109 3.1094-3.6875 9.4062-3.6875 9.0312 0 14.953 7.875 5.9375 7.8906 5.9375 20 0 7.0781-3.1719 10.688-3.1719 3.625-9.3281 3.625-5.0781 0-9.0312-2.375-3.9531-2.3594-7.0781-7.2031-2.2969-3.6094-3.5469-8.25-1.2344-4.6406-1.2344-9.5625z\"/></defs><g transform=\"translate(48.292 93.463) scale(.1625 -.1625)\"><use transform=\"translate(0 .78125)\" xlink:href=\"#DejaVuSans-Oblique-111\"/><use transform=\"translate(61.182 .78125)\" xlink:href=\"#DejaVuSans-Oblique-117\"/><use transform=\"translate(124.56 .78125)\" xlink:href=\"#DejaVuSans-Oblique-116\"/><use transform=\"translate(163.77 .78125)\" xlink:href=\"#DejaVuSans-Oblique-112\"/><use transform=\"translate(227.25 .78125)\" xlink:href=\"#DejaVuSans-Oblique-117\"/><use transform=\"translate(290.62 .78125)\" xlink:href=\"#DejaVuSans-Oblique-116\"/><use transform=\"translate(329.83 -15.625) scale(.7)\" xlink:href=\"#DejaVuSans-48\"/></g></g><g clip-path=\"url(#p09c69b25a8)\"><defs><path id=\"DejaVuSans-Oblique-103\" d=\"m59.625 54.688-9.3281-47.906q-2.6875-13.906-10.281-20.734-7.5938-6.8438-20.438-6.8438-4.7344 0-8.7969 0.70312-4.0469 0.70312-7.5625 2.1719l1.6719 8.7344q3.3125-2.1406 7.0156-3.1562 3.7188-1.0312 7.9219-1.0312 8.5469 0 14.031 4.6719 5.5 4.6562 7.25 13.391l0.78125 4.1094q-3.75-4.2969-8.7344-6.5469t-10.75-2.25q-8.2969 0-13.062 5.4844-4.75 5.5-4.75 15.125 0 7.5625 2.875 14.812 2.8906 7.25 8.1094 12.875 3.4688 3.7031 8.0781 5.7031t9.6406 2q5.5156 0 9.6094-2.5625 4.1094-2.5625 6.125-7.25l1.5625 8.5zm-13.531-20.062q0 6.6406-3.125 10.25t-8.8906 3.6094q-3.5625 0-6.7812-1.4219-3.2188-1.4062-5.5156-3.9531-3.7188-4.1875-5.7969-9.875-2.0625-5.6875-2.0625-11.75 0-6.7344 3.1406-10.359 3.1562-3.6094 9.0625-3.6094 8.5469 0 14.25 7.7344 5.7188 7.75 5.7188 19.375z\"/><path id=\"DejaVuSans-Oblique-97\" d=\"m53.719 31.203-6.1094-31.203h-8.9844l1.6562 8.2969q-3.9531-4.875-9.0156-7.2969-5.0469-2.4219-11.25-2.4219-6.9844 0-11.453 4.2656-4.4531 4.2812-4.4531 10.969 0 9.5781 7.6406 15.141t21.062 5.5625h12.5l0.48438 2.4062q0.10938 0.39062 0.15625 0.84375 0.046875 0.46875 0.046875 1.4375 0 4.3594-3.5469 6.7656-3.5312 2.4219-9.9375 2.4219-4.3906 0-9.0156-1.125-4.6094-1.125-9.4844-3.375l1.5625 8.3125q5.0781 1.9062 9.9375 2.8438 4.8594 0.95312 9.3906 0.95312 9.6719 0 14.719-4.2031 5.0625-4.1875 5.0625-12.203 0-1.6094-0.25-3.7812-0.23438-2.1719-0.71875-4.6094zm-9.7188-3.7188h-8.9844q-11.047 0-16.344-2.9531t-5.2969-9.1562q0-4.2969 2.7031-6.7344 2.7188-2.4375 7.5-2.4375 7.3281 0 12.797 5.25t7.2344 14.031z\"/><path id=\"DejaVuSans-Oblique-114\" d=\"m44.578 46.391q-1.3594 0.73438-3.125 1.125-1.75 0.39062-3.75 0.39062-7.1875 0-12.562-5.4531-5.3594-5.4375-7.125-14.578l-5.5156-27.875h-8.9844l10.688 54.688h8.9844l-1.7031-8.5q3.5625 4.7344 8.5156 7.2656 4.9688 2.5469 10.578 2.5469 1.4688 0 2.875-0.17188 1.4219-0.15625 2.8438-0.54688z\"/><path id=\"DejaVuSans-Oblique-98\" d=\"m49.516 33.406q0 7.0781-3.25 11.078t-8.9531 4q-4.1562 0-7.7969-2.0312-3.6406-2.0156-6.3281-5.875-2.8281-4.0469-4.4688-9.4062-1.625-5.3438-1.625-10.656 0-6.75 3.1875-10.578 3.2031-3.8281 8.8281-3.8281 4.2344 0 7.8438 1.9688 3.625 1.9844 6.3594 5.8438 2.7812 4 4.4844 9.3125 1.7188 5.3281 1.7188 10.172zm-27.938 12.984q3.3281 4.4844 8.3281 7.0469t10.469 2.5625q8.4062 0 13.359-5.6719 4.9531-5.6562 4.9531-15.312 0-7.9219-2.9062-15.344t-8.2656-13.172q-3.5156-3.8125-8.1094-5.875-4.5938-2.0469-9.625-2.0469-5.3125 0-9.2188 2.4375-3.9062 2.4531-6.3594 7.2812l-1.6094-8.2969h-8.9844l14.797 75.984h8.9844z\"/><path id=\"DejaVuSans-Oblique-101\" d=\"m48.094 32.234q0.15625 0.78125 0.21875 1.6094 0.078125 0.82812 0.078125 1.6562 0 5.9531-3.5 9.4219-3.4844 3.4688-9.4844 3.4688-6.6875 0-11.828-4.2344-5.125-4.2188-7.75-11.984zm7.8125-7.0312h-41.797q-0.29688-1.8594-0.39062-2.9375t-0.09375-1.8594q0-6.7812 4.1719-10.5 4.1719-3.7031 11.797-3.7031 5.8594 0 11.078 1.3125 5.2344 1.3281 9.7188 3.8594l-1.7031-8.8906q-4.8438-1.9531-10-2.9219-5.1406-0.98438-10.469-0.98438-11.375 0-17.5 5.4375-6.125 5.4531-6.125 15.469 0 8.5469 3.0469 15.891t8.9688 13.109q3.7969 3.6094 9.0469 5.5625t11.156 1.9531q9.2812 0 14.766-5.5625 5.5-5.5625 5.5-14.938 0-2.25-0.29688-4.8125-0.28125-2.5625-0.875-5.4844z\"/></defs><g transform=\"translate(34.479 138.93) scale(.1625 -.1625)\"><use transform=\"translate(0 .015625)\" xlink:href=\"#DejaVuSans-Oblique-103\"/><use transform=\"translate(63.477 .015625)\" xlink:href=\"#DejaVuSans-Oblique-97\"/><use transform=\"translate(124.76 .015625)\" xlink:href=\"#DejaVuSans-Oblique-114\"/><use transform=\"translate(165.87 .015625)\" xlink:href=\"#DejaVuSans-Oblique-98\"/><use transform=\"translate(229.35 .015625)\" xlink:href=\"#DejaVuSans-Oblique-97\"/><use transform=\"translate(290.62 .015625)\" xlink:href=\"#DejaVuSans-Oblique-103\"/><use transform=\"translate(354.1 .015625)\" xlink:href=\"#DejaVuSans-Oblique-101\"/><use transform=\"translate(415.62 -16.391) scale(.7)\" xlink:href=\"#DejaVuSans-48\"/></g></g><defs><clipPath id=\"p09c69b25a8\"><rect x=\"7.2\" y=\"7.2\" width=\"257.05\" height=\"154.53\"/></clipPath></defs></svg>"
      ],
      "text/plain": [
       "<Figure size 340.464x204.68 with 1 Axes>"
      ]
     },
     "execution_count": 4,
     "metadata": {},
     "output_type": "execute_result"
    }
   ],
   "source": [
    "qc = Uf + Vf.inverse()\n",
    "qc.draw()"
   ]
  },
  {
   "cell_type": "markdown",
   "metadata": {},
   "source": [
    "This circuit begins with two identical `cx` gates, whose effects cancel each other out. All that remains is the final `cx` between the input and garbage registers. Mathematically, this means\n",
    "\n",
    "$$\n",
    "V_f^\\dagger U_f \\left| x,0,0 \\right\\rangle = V_f^\\dagger \\left| x,f(x),0 \\right\\rangle = \\left| x , 0 ,g(x) \\right\\rangle.\n",
    "$$\n",
    "\n",
    "Here we see that the action of $V_f^\\dagger$ does not simply return us to the initial state, but instead leaves the first qubit entangled with unwanted garbage. Any subsequent steps in an algorithm will therefore not run as expected, since the state is not the one that we need.\n",
    "\n",
    "For this reason we need a way of removing classical garbage from our quantum algorithms. This can be done by a method known as 'uncomputation'. We simply need to take another blank variable and apply $V_f$\n",
    "\n",
    "\n",
    "$$\n",
    "\\left| x, 0, 0, 0 \\right\\rangle \\rightarrow \\left| x,f(x),g(x),0 \\right\\rangle.\n",
    "$$\n",
    "\n",
    "Then we apply a set of controlled-NOT gates, each controlled on one of the qubits used to encode the output, and targeted on the corresponding qubit in the extra blank variable.\n",
    "\n",
    "Here's the circuit to do this for our example using single qubit registers."
   ]
  },
  {
   "cell_type": "code",
   "execution_count": 5,
   "metadata": {},
   "outputs": [
    {
     "data": {
      "image/svg+xml": [
       "<?xml version=\"1.0\" encoding=\"UTF-8\"?><!DOCTYPE svg  PUBLIC '-//W3C//DTD SVG 1.1//EN'  'http://www.w3.org/Graphics/SVG/1.1/DTD/svg11.dtd'><svg width=\"206.36pt\" height=\"123.48pt\" version=\"1.1\" viewBox=\"0 0 206.36 123.48\" xmlns=\"http://www.w3.org/2000/svg\" xmlns:xlink=\"http://www.w3.org/1999/xlink\"><defs><style type=\"text/css\">*{stroke-linecap:butt;stroke-linejoin:round;}</style></defs><path d=\"m0 123.48h206.36v-123.48h-206.36z\" fill=\"#ffffff\"/><path d=\"m144.62 43.561h49.996\" clip-path=\"url(#p7d98961889)\" fill=\"none\" stroke=\"#000000\" stroke-linecap=\"square\" stroke-width=\"2\"/><path d=\"m144.62 89.012h49.996\" clip-path=\"url(#p7d98961889)\" fill=\"none\" stroke=\"#000000\" stroke-linecap=\"square\" stroke-width=\"2\"/><path d=\"m169.16 89.012v-45.451\" clip-path=\"url(#p7d98961889)\" fill=\"none\" stroke=\"#6fa4ff\" stroke-linecap=\"square\" stroke-width=\"2\"/><path d=\"m169.16 47.992c1.1752 0 2.3025-0.46693 3.1335-1.2979 0.83102-0.83102 1.2979-1.9583 1.2979-3.1335s-0.46693-2.3025-1.2979-3.1335c-0.83102-0.83102-1.9583-1.2979-3.1335-1.2979s-2.3025 0.46693-3.1335 1.2979c-0.83102 0.83102-1.2979 1.9583-1.2979 3.1335s0.46693 2.3025 1.2979 3.1335c0.83102 0.83102 1.9583 1.2979 3.1335 1.2979z\" clip-path=\"url(#p7d98961889)\" fill=\"#6fa4ff\" stroke=\"#6fa4ff\" stroke-width=\"1.5\"/><path d=\"m169.16 99.352c2.7422 0 5.3725-1.0895 7.3116-3.0285 1.939-1.939 3.0285-4.5693 3.0285-7.3116s-1.0895-5.3725-3.0285-7.3116c-1.939-1.939-4.5693-3.0285-7.3116-3.0285s-5.3725 1.0895-7.3116 3.0285c-1.939 1.939-3.0285 4.5693-3.0285 7.3116s1.0895 5.3725 3.0285 7.3116c1.939 1.939 4.5693 3.0285 7.3116 3.0285z\" clip-path=\"url(#p7d98961889)\" fill=\"#6fa4ff\" stroke=\"#6fa4ff\" stroke-width=\"2\"/><path d=\"m169.16 94.92v-11.817\" clip-path=\"url(#p7d98961889)\" fill=\"none\" stroke=\"#ffffff\" stroke-linecap=\"square\" stroke-width=\"2\"/><path d=\"m163.25 89.012h11.817\" clip-path=\"url(#p7d98961889)\" fill=\"none\" stroke=\"#ffffff\" stroke-linecap=\"square\" stroke-width=\"2\"/><g clip-path=\"url(#p7d98961889)\"><defs><path id=\"DejaVuSans-Oblique-111\" d=\"m25.391-1.4219q-9.625 0-15.219 5.9375-5.5781 5.9375-5.5781 16.188 0 5.9531 1.9219 12.125 1.9375 6.1875 5.0156 10.391 4.8281 6.5312 10.781 9.6562t13.484 3.125q9.3281 0 15.062-5.8125 5.7344-5.7969 5.7344-15.172 0-6.5-1.9062-12.953-1.9062-6.4375-4.9844-10.688-4.7812-6.5469-10.734-9.6719t-13.578-3.125zm-11.469 22.422q0-7.4219 3.0938-11.109 3.1094-3.6875 9.4062-3.6875 9.0312 0 14.953 7.875 5.9375 7.8906 5.9375 20 0 7.0781-3.1719 10.688-3.1719 3.625-9.3281 3.625-5.0781 0-9.0312-2.375-3.9531-2.3594-7.0781-7.2031-2.2969-3.6094-3.5469-8.25-1.2344-4.6406-1.2344-9.5625z\"/><path id=\"DejaVuSans-Oblique-117\" d=\"m6.6875 21.688 6.4062 33h9.0312l-6.4062-32.672q-0.48438-2.3906-0.70312-4.0938t-0.21875-2.8281q0-4.1562 2.5312-6.4375 2.5469-2.2656 7.1875-2.2656 7.2188 0 12.484 4.875 5.2812 4.8906 6.8906 13.156l6.0156 30.266h8.9844l-10.594-54.688h-8.9844l1.7969 8.5938q-3.7969-4.7812-9.0469-7.4062-5.25-2.6094-11.156-2.6094-7.1875 0-11.188 3.9375t-4 10.969q0 1.4531 0.23438 3.6562 0.25 2.2031 0.73438 4.5469z\"/><path id=\"DejaVuSans-Oblique-116\" d=\"m42.281 54.688-1.3594-6.9844h-17.922l-5.8125-29.688q-0.29688-1.6562-0.4375-2.7812t-0.14062-1.75q0-3.125 1.875-4.5469t6.0312-1.4219h9.0781l-1.5156-7.5156h-8.5938q-8 0-11.938 3.125-3.9219 3.125-3.9219 9.4688 0 1.125 0.14062 2.4688t0.4375 2.9531l5.8125 29.688h-7.625l1.4219 6.9844h7.4688l3.0312 15.531h8.9844l-2.9844-15.531z\"/><path id=\"DejaVuSans-Oblique-112\" d=\"m49.609 33.688q0 7.1875-3.125 10.984-3.125 3.8125-8.9844 3.8125-4 0-7.6406-2.0469t-6.4688-5.9531q-2.7812-3.8594-4.4531-9.3281-1.6562-5.4688-1.6562-10.844 0-6.8281 3.125-10.516t8.8906-3.6875q4.25 0 7.8906 2t6.2188 5.8125q2.7812 4 4.4844 9.4219 1.7188 5.4219 1.7188 10.344zm-27.828 12.703q3.6094 4.7344 8.5156 7.1719t10.922 2.4375q8.3906 0 13.031-5.5 4.6406-5.4844 4.6406-15.391 0-8.1094-2.8906-15.453-2.875-7.3438-8.2969-13.156-3.6094-3.8594-8.1562-5.8906-4.5312-2.0312-9.5625-2.0312-5.8125 0-9.7656 2.4219t-5.9062 7.2031l-5.625-29h-8.9844l14.703 75.484h8.9844z\"/><path id=\"DejaVuSans-48\" d=\"m31.781 66.406q-7.6094 0-11.453-7.5-3.8281-7.4844-3.8281-22.531 0-14.984 3.8281-22.484 3.8438-7.5 11.453-7.5 7.6719 0 11.5 7.5 3.8438 7.5 3.8438 22.484 0 15.047-3.8438 22.531-3.8281 7.5-11.5 7.5zm0 7.8125q12.266 0 18.734-9.7031 6.4688-9.6875 6.4688-28.141 0-18.406-6.4688-28.109-6.4688-9.6875-18.734-9.6875-12.25 0-18.719 9.6875-6.4688 9.7031-6.4688 28.109 0 18.453 6.4688 28.141 6.4688 9.7031 18.719 9.7031z\"/></defs><g transform=\"translate(74.102 48.012) scale(.1625 -.1625)\"><use transform=\"translate(0 .78125)\" xlink:href=\"#DejaVuSans-Oblique-111\"/><use transform=\"translate(61.182 .78125)\" xlink:href=\"#DejaVuSans-Oblique-117\"/><use transform=\"translate(124.56 .78125)\" xlink:href=\"#DejaVuSans-Oblique-116\"/><use transform=\"translate(163.77 .78125)\" xlink:href=\"#DejaVuSans-Oblique-112\"/><use transform=\"translate(227.25 .78125)\" xlink:href=\"#DejaVuSans-Oblique-117\"/><use transform=\"translate(290.62 .78125)\" xlink:href=\"#DejaVuSans-Oblique-116\"/><use transform=\"translate(329.83 -15.625) scale(.7)\" xlink:href=\"#DejaVuSans-48\"/></g></g><g clip-path=\"url(#p7d98961889)\"><defs><path id=\"DejaVuSans-Oblique-102\" d=\"m47.797 75.984-1.4062-7.4844h-8.5938q-4.8906 0-7.1094-1.9219t-3.2969-7.0625l-0.96875-4.8281h14.797l-1.3281-6.9844h-14.797l-9.2656-47.703h-9.0469l9.3281 47.703h-8.5938l1.2812 6.9844h8.5938l0.71875 3.8125q1.8594 9.6719 6.5156 13.578 4.6719 3.9062 14.688 3.9062z\"/><path id=\"DejaVuSans-Oblique-105\" d=\"m18.312 75.984h8.9844l-2.2031-11.391h-8.9844zm-4.1094-21.297h8.9844l-10.688-54.688h-8.9844z\"/><path id=\"DejaVuSans-Oblique-110\" d=\"m55.719 33.016-6.4062-33.016h-9.0312l6.4062 32.672q0.4375 2.2969 0.67188 4.0469 0.25 1.7656 0.25 2.7812 0 4.1094-2.5938 6.3906-2.5781 2.2969-7.2188 2.2969-7.2344 0-12.453-4.8125-5.2188-4.7969-6.8438-13.047l-6-30.328h-8.9844l10.594 54.688h8.9844l-1.7969-8.5938q3.75 4.7344 9.0156 7.3125 5.2812 2.5938 11.094 2.5938 7.2344 0 11.203-3.9062 3.9844-3.9062 3.9844-10.984 0-1.75-0.21875-3.75t-0.65625-4.3438z\"/><path id=\"DejaVuSans-Oblique-97\" d=\"m53.719 31.203-6.1094-31.203h-8.9844l1.6562 8.2969q-3.9531-4.875-9.0156-7.2969-5.0469-2.4219-11.25-2.4219-6.9844 0-11.453 4.2656-4.4531 4.2812-4.4531 10.969 0 9.5781 7.6406 15.141t21.062 5.5625h12.5l0.48438 2.4062q0.10938 0.39062 0.15625 0.84375 0.046875 0.46875 0.046875 1.4375 0 4.3594-3.5469 6.7656-3.5312 2.4219-9.9375 2.4219-4.3906 0-9.0156-1.125-4.6094-1.125-9.4844-3.375l1.5625 8.3125q5.0781 1.9062 9.9375 2.8438 4.8594 0.95312 9.3906 0.95312 9.6719 0 14.719-4.2031 5.0625-4.1875 5.0625-12.203 0-1.6094-0.25-3.7812-0.23438-2.1719-0.71875-4.6094zm-9.7188-3.7188h-8.9844q-11.047 0-16.344-2.9531t-5.2969-9.1562q0-4.2969 2.7031-6.7344 2.7188-2.4375 7.5-2.4375 7.3281 0 12.797 5.25t7.2344 14.031z\"/><path id=\"DejaVuSans-Oblique-108\" d=\"m18.312 75.984h8.9844l-14.797-75.984h-8.9844z\"/><path id=\"DejaVuSans-8722\" d=\"m10.594 35.5h62.594v-8.2969h-62.594z\"/></defs><g transform=\"translate(19.177 93.481) scale(.1625 -.1625)\"><use transform=\"translate(0 .015625)\" xlink:href=\"#DejaVuSans-Oblique-102\"/><use transform=\"translate(35.205 .015625)\" xlink:href=\"#DejaVuSans-Oblique-105\"/><use transform=\"translate(62.988 .015625)\" xlink:href=\"#DejaVuSans-Oblique-110\"/><use transform=\"translate(126.37 .015625)\" xlink:href=\"#DejaVuSans-Oblique-97\"/><use transform=\"translate(187.65 .015625)\" xlink:href=\"#DejaVuSans-Oblique-108\"/><use transform=\"translate(234.91 .015625)\" xlink:href=\"#DejaVuSans-8722\"/><use transform=\"translate(338.18 .015625)\" xlink:href=\"#DejaVuSans-Oblique-111\"/><use transform=\"translate(399.37 .015625)\" xlink:href=\"#DejaVuSans-Oblique-117\"/><use transform=\"translate(462.74 .015625)\" xlink:href=\"#DejaVuSans-Oblique-116\"/><use transform=\"translate(501.95 .015625)\" xlink:href=\"#DejaVuSans-Oblique-112\"/><use transform=\"translate(565.43 .015625)\" xlink:href=\"#DejaVuSans-Oblique-117\"/><use transform=\"translate(628.81 .015625)\" xlink:href=\"#DejaVuSans-Oblique-116\"/><use transform=\"translate(668.02 -16.391) scale(.7)\" xlink:href=\"#DejaVuSans-48\"/></g></g><defs><clipPath id=\"p7d98961889\"><rect x=\"7.2\" y=\"7.2\" width=\"191.96\" height=\"109.08\"/></clipPath></defs></svg>"
      ],
      "text/plain": [
       "<Figure size 254.249x144.48 with 1 Axes>"
      ]
     },
     "execution_count": 5,
     "metadata": {},
     "output_type": "execute_result"
    }
   ],
   "source": [
    "final_output_bit = QuantumRegister(1, 'final-output')\n",
    "\n",
    "copy = QuantumCircuit(output_bit, final_output_bit)\n",
    "copy.cx(output_bit, final_output_bit)\n",
    "\n",
    "copy.draw()"
   ]
  },
  {
   "cell_type": "markdown",
   "metadata": {},
   "source": [
    "The effect of this is to copy the information over (if you have heard of the no-cloning theorem, note that this is not the same process). Specifically, it transforms the state in the following way.\n",
    "\n",
    "$$\n",
    "\\left| x,f(x),g(x),0 \\right\\rangle \\rightarrow \\left| x,f(x),g(x),f(x) \\right\\rangle.\n",
    "$$\n",
    "\n",
    "Finally we apply $V_f^\\dagger$, which undoes the original computation.\n",
    "\n",
    "$$\n",
    "\\left| x,f(x),g(x),0 \\right\\rangle \\rightarrow \\left| x,0,0,f(x) \\right\\rangle.\n",
    "$$\n",
    "\n",
    "The copied output nevertheless remains. The net effect is to perform the computation without garbage, and hence achieves our desired $U_f$.\n",
    "\n",
    "For our example using single qubit registers, and for which $f(x) = x$, the whole process corresponds to the following circuit."
   ]
  },
  {
   "cell_type": "code",
   "execution_count": 6,
   "metadata": {},
   "outputs": [
    {
     "data": {
      "image/svg+xml": [
       "<?xml version=\"1.0\" encoding=\"UTF-8\"?><!DOCTYPE svg  PUBLIC '-//W3C//DTD SVG 1.1//EN'  'http://www.w3.org/Graphics/SVG/1.1/DTD/svg11.dtd'><svg width=\"378.36pt\" height=\"214.38pt\" version=\"1.1\" viewBox=\"0 0 378.36 214.38\" xmlns=\"http://www.w3.org/2000/svg\" xmlns:xlink=\"http://www.w3.org/1999/xlink\"><defs><style type=\"text/css\">*{stroke-linecap:butt;stroke-linejoin:round;}</style></defs><path d=\"m0 214.38h378.36v-214.38h-378.36z\" fill=\"#ffffff\"/><path d=\"m134.82 43.561h231.8\" clip-path=\"url(#p024589e474)\" fill=\"none\" stroke=\"#000000\" stroke-linecap=\"square\" stroke-width=\"2\"/><path d=\"m134.82 89.012h231.8\" clip-path=\"url(#p024589e474)\" fill=\"none\" stroke=\"#000000\" stroke-linecap=\"square\" stroke-width=\"2\"/><path d=\"m134.82 134.46h231.8\" clip-path=\"url(#p024589e474)\" fill=\"none\" stroke=\"#000000\" stroke-linecap=\"square\" stroke-width=\"2\"/><path d=\"m134.82 179.91h231.8\" clip-path=\"url(#p024589e474)\" fill=\"none\" stroke=\"#000000\" stroke-linecap=\"square\" stroke-width=\"2\"/><path d=\"m159.36 134.46v-90.902\" clip-path=\"url(#p024589e474)\" fill=\"none\" stroke=\"#6fa4ff\" stroke-linecap=\"square\" stroke-width=\"2\"/><path d=\"m204.81 89.012v-45.451\" clip-path=\"url(#p024589e474)\" fill=\"none\" stroke=\"#6fa4ff\" stroke-linecap=\"square\" stroke-width=\"2\"/><path d=\"m250.26 179.91v-90.902\" clip-path=\"url(#p024589e474)\" fill=\"none\" stroke=\"#6fa4ff\" stroke-linecap=\"square\" stroke-width=\"2\"/><path d=\"m295.71 89.012v-45.451\" clip-path=\"url(#p024589e474)\" fill=\"none\" stroke=\"#6fa4ff\" stroke-linecap=\"square\" stroke-width=\"2\"/><path d=\"m341.16 134.46v-90.902\" clip-path=\"url(#p024589e474)\" fill=\"none\" stroke=\"#6fa4ff\" stroke-linecap=\"square\" stroke-width=\"2\"/><path d=\"m159.36 47.992c1.1752 0 2.3025-0.46693 3.1335-1.2979 0.83102-0.83102 1.2979-1.9583 1.2979-3.1335 0-1.1752-0.46693-2.3025-1.2979-3.1335-0.83102-0.83102-1.9583-1.2979-3.1335-1.2979s-2.3025 0.46693-3.1335 1.2979c-0.83102 0.83102-1.2979 1.9583-1.2979 3.1335 0 1.1752 0.46693 2.3025 1.2979 3.1335 0.83102 0.83102 1.9583 1.2979 3.1335 1.2979z\" clip-path=\"url(#p024589e474)\" fill=\"#6fa4ff\" stroke=\"#6fa4ff\" stroke-width=\"1.5\"/><path d=\"m159.36 144.8c2.7422 0 5.3725-1.0895 7.3116-3.0285 1.939-1.939 3.0285-4.5693 3.0285-7.3116 0-2.7422-1.0895-5.3725-3.0285-7.3116-1.939-1.939-4.5693-3.0285-7.3116-3.0285s-5.3725 1.0895-7.3116 3.0285c-1.939 1.939-3.0285 4.5693-3.0285 7.3116 0 2.7422 1.0895 5.3725 3.0285 7.3116 1.939 1.939 4.5693 3.0285 7.3116 3.0285z\" clip-path=\"url(#p024589e474)\" fill=\"#6fa4ff\" stroke=\"#6fa4ff\" stroke-width=\"2\"/><path d=\"m204.81 47.992c1.1752 0 2.3025-0.46693 3.1335-1.2979 0.83102-0.83102 1.2979-1.9583 1.2979-3.1335 0-1.1752-0.46693-2.3025-1.2979-3.1335-0.83102-0.83102-1.9583-1.2979-3.1335-1.2979-1.1752 0-2.3025 0.46693-3.1335 1.2979-0.83102 0.83102-1.2979 1.9583-1.2979 3.1335 0 1.1752 0.46693 2.3025 1.2979 3.1335 0.83102 0.83102 1.9583 1.2979 3.1335 1.2979z\" clip-path=\"url(#p024589e474)\" fill=\"#6fa4ff\" stroke=\"#6fa4ff\" stroke-width=\"1.5\"/><path d=\"m204.81 99.352c2.7422 0 5.3725-1.0895 7.3116-3.0285 1.939-1.939 3.0285-4.5693 3.0285-7.3116s-1.0895-5.3725-3.0285-7.3116c-1.939-1.939-4.5693-3.0285-7.3116-3.0285-2.7422 0-5.3725 1.0895-7.3116 3.0285-1.939 1.939-3.0285 4.5693-3.0285 7.3116s1.0895 5.3725 3.0285 7.3116c1.939 1.939 4.5693 3.0285 7.3116 3.0285z\" clip-path=\"url(#p024589e474)\" fill=\"#6fa4ff\" stroke=\"#6fa4ff\" stroke-width=\"2\"/><path d=\"m250.26 93.443c1.1752 0 2.3025-0.46693 3.1335-1.2979s1.2979-1.9583 1.2979-3.1335-0.46693-2.3025-1.2979-3.1335c-0.83102-0.83102-1.9583-1.2979-3.1335-1.2979s-2.3025 0.46693-3.1335 1.2979c-0.83102 0.83102-1.2979 1.9583-1.2979 3.1335s0.46693 2.3025 1.2979 3.1335c0.83102 0.83102 1.9583 1.2979 3.1335 1.2979z\" clip-path=\"url(#p024589e474)\" fill=\"#6fa4ff\" stroke=\"#6fa4ff\" stroke-width=\"1.5\"/><path d=\"m250.26 190.25c2.7422 0 5.3725-1.0895 7.3116-3.0285 1.939-1.939 3.0285-4.5693 3.0285-7.3116s-1.0895-5.3725-3.0285-7.3116c-1.939-1.939-4.5693-3.0285-7.3116-3.0285s-5.3725 1.0895-7.3116 3.0285c-1.939 1.939-3.0285 4.5693-3.0285 7.3116s1.0895 5.3725 3.0285 7.3116c1.939 1.939 4.5693 3.0285 7.3116 3.0285z\" clip-path=\"url(#p024589e474)\" fill=\"#6fa4ff\" stroke=\"#6fa4ff\" stroke-width=\"2\"/><path d=\"m295.71 47.992c1.1752 0 2.3025-0.46693 3.1335-1.2979 0.83102-0.83102 1.2979-1.9583 1.2979-3.1335 0-1.1752-0.46693-2.3025-1.2979-3.1335-0.83102-0.83102-1.9583-1.2979-3.1335-1.2979s-2.3025 0.46693-3.1335 1.2979c-0.83102 0.83102-1.2979 1.9583-1.2979 3.1335 0 1.1752 0.46693 2.3025 1.2979 3.1335 0.83102 0.83102 1.9583 1.2979 3.1335 1.2979z\" clip-path=\"url(#p024589e474)\" fill=\"#6fa4ff\" stroke=\"#6fa4ff\" stroke-width=\"1.5\"/><path d=\"m295.71 99.352c2.7422 0 5.3725-1.0895 7.3116-3.0285 1.939-1.939 3.0285-4.5693 3.0285-7.3116s-1.0895-5.3725-3.0285-7.3116c-1.939-1.939-4.5693-3.0285-7.3116-3.0285s-5.3725 1.0895-7.3116 3.0285c-1.939 1.939-3.0285 4.5693-3.0285 7.3116s1.0895 5.3725 3.0285 7.3116c1.939 1.939 4.5693 3.0285 7.3116 3.0285z\" clip-path=\"url(#p024589e474)\" fill=\"#6fa4ff\" stroke=\"#6fa4ff\" stroke-width=\"2\"/><path d=\"m341.16 47.992c1.1752 0 2.3025-0.46693 3.1335-1.2979 0.83102-0.83102 1.2979-1.9583 1.2979-3.1335 0-1.1752-0.46693-2.3025-1.2979-3.1335-0.83102-0.83102-1.9583-1.2979-3.1335-1.2979-1.1752 0-2.3025 0.46693-3.1335 1.2979-0.83102 0.83102-1.2979 1.9583-1.2979 3.1335 0 1.1752 0.46693 2.3025 1.2979 3.1335 0.83102 0.83102 1.9583 1.2979 3.1335 1.2979z\" clip-path=\"url(#p024589e474)\" fill=\"#6fa4ff\" stroke=\"#6fa4ff\" stroke-width=\"1.5\"/><path d=\"m341.16 144.8c2.7422 0 5.3725-1.0895 7.3116-3.0285 1.939-1.939 3.0285-4.5693 3.0285-7.3116 0-2.7422-1.0895-5.3725-3.0285-7.3116-1.939-1.939-4.5693-3.0285-7.3116-3.0285-2.7422 0-5.3725 1.0895-7.3116 3.0285-1.939 1.939-3.0285 4.5693-3.0285 7.3116 0 2.7422 1.0895 5.3725 3.0285 7.3116 1.939 1.939 4.5693 3.0285 7.3116 3.0285z\" clip-path=\"url(#p024589e474)\" fill=\"#6fa4ff\" stroke=\"#6fa4ff\" stroke-width=\"2\"/><path d=\"m159.36 140.37v-11.817\" clip-path=\"url(#p024589e474)\" fill=\"none\" stroke=\"#ffffff\" stroke-linecap=\"square\" stroke-width=\"2\"/><path d=\"m153.45 134.46h11.817\" clip-path=\"url(#p024589e474)\" fill=\"none\" stroke=\"#ffffff\" stroke-linecap=\"square\" stroke-width=\"2\"/><path d=\"m204.81 94.92v-11.817\" clip-path=\"url(#p024589e474)\" fill=\"none\" stroke=\"#ffffff\" stroke-linecap=\"square\" stroke-width=\"2\"/><path d=\"m198.9 89.012h11.817\" clip-path=\"url(#p024589e474)\" fill=\"none\" stroke=\"#ffffff\" stroke-linecap=\"square\" stroke-width=\"2\"/><path d=\"m250.26 185.82v-11.817\" clip-path=\"url(#p024589e474)\" fill=\"none\" stroke=\"#ffffff\" stroke-linecap=\"square\" stroke-width=\"2\"/><path d=\"m244.35 179.91h11.817\" clip-path=\"url(#p024589e474)\" fill=\"none\" stroke=\"#ffffff\" stroke-linecap=\"square\" stroke-width=\"2\"/><path d=\"m295.71 94.92v-11.817\" clip-path=\"url(#p024589e474)\" fill=\"none\" stroke=\"#ffffff\" stroke-linecap=\"square\" stroke-width=\"2\"/><path d=\"m289.8 89.012h11.817\" clip-path=\"url(#p024589e474)\" fill=\"none\" stroke=\"#ffffff\" stroke-linecap=\"square\" stroke-width=\"2\"/><path d=\"m341.16 140.37v-11.817\" clip-path=\"url(#p024589e474)\" fill=\"none\" stroke=\"#ffffff\" stroke-linecap=\"square\" stroke-width=\"2\"/><path d=\"m335.26 134.46h11.817\" clip-path=\"url(#p024589e474)\" fill=\"none\" stroke=\"#ffffff\" stroke-linecap=\"square\" stroke-width=\"2\"/><g clip-path=\"url(#p024589e474)\"><g transform=\"translate(83.801 48.03) scale(.1625 -.1625)\"><defs><path id=\"DejaVuSans-Oblique-69\" transform=\"scale(.015625)\" d=\"m1172 4863h575l-141-729h-575l141 729zm-263-1363h575l-684-3500h-575l684 3500z\"/><path id=\"DejaVuSans-Oblique-6e\" transform=\"scale(.015625)\" d=\"m3566 2113-410-2113h-578l410 2091q28 147 43 259 16 113 16 178 0 263-166 409-165 147-462 147-463 0-797-308-334-307-438-835l-384-1941h-575l678 3500h575l-115-550q240 303 577 468 338 166 710 166 463 0 717-250 255-250 255-703 0-112-14-240t-42-278z\"/><path id=\"DejaVuSans-Oblique-70\" transform=\"scale(.015625)\" d=\"m3175 2156q0 460-200 703-200 244-575 244-256 0-489-131t-414-381q-178-247-285-597-106-350-106-694 0-437 200-673t569-236q272 0 505 128t398 372q178 256 287 603 110 347 110 662zm-1781 813q231 303 545 459t699 156q537 0 834-352 297-351 297-985 0-519-185-989-184-470-531-842-231-247-522-377-290-130-612-130-372 0-625 155t-378 461l-360-1856h-575l941 4831h575l-103-531z\"/><path id=\"DejaVuSans-Oblique-75\" transform=\"scale(.015625)\" d=\"m428 1388 410 2112h578l-410-2091q-31-153-45-262t-14-181q0-266 162-412 163-145 460-145 462 0 799 312 338 313 441 842l385 1937h575l-678-3500h-575l115 550q-243-306-579-474-336-167-714-167-460 0-716 252t-256 702q0 93 15 234 16 141 47 291z\"/><path id=\"DejaVuSans-Oblique-74\" transform=\"scale(.015625)\" d=\"m2706 3500-87-447h-1147l-372-1900q-19-106-28-178t-9-112q0-200 120-291t386-91h581l-97-481h-550q-512 0-764 200-251 200-251 606 0 72 9 158t28 189l372 1900h-488l91 447h478l194 994h575l-191-994h1150z\"/></defs><use transform=\"translate(0 .015625)\" xlink:href=\"#DejaVuSans-Oblique-69\"/><use transform=\"translate(27.783 .015625)\" xlink:href=\"#DejaVuSans-Oblique-6e\"/><use transform=\"translate(91.162 .015625)\" xlink:href=\"#DejaVuSans-Oblique-70\"/><use transform=\"translate(154.64 .015625)\" xlink:href=\"#DejaVuSans-Oblique-75\"/><use transform=\"translate(218.02 .015625)\" xlink:href=\"#DejaVuSans-Oblique-74\"/></g></g><g clip-path=\"url(#p024589e474)\"><g transform=\"translate(72.101 93.463) scale(.1625 -.1625)\"><defs><path id=\"DejaVuSans-Oblique-6f\" transform=\"scale(.015625)\" d=\"m1625-91q-616 0-974 380-357 380-357 1036 0 381 123 776 124 396 321 665 309 418 690 618t863 200q597 0 964-372 367-371 367-971 0-416-122-829-122-412-319-684-306-419-687-619t-869-200zm-734 1435q0-475 198-711 199-236 602-236 578 0 957 504 380 505 380 1280 0 453-203 684-203 232-597 232-325 0-578-152-253-151-453-461-147-231-227-528-79-297-79-612z\"/></defs><use transform=\"translate(0 .78125)\" xlink:href=\"#DejaVuSans-Oblique-6f\"/><use transform=\"translate(61.182 .78125)\" xlink:href=\"#DejaVuSans-Oblique-75\"/><use transform=\"translate(124.56 .78125)\" xlink:href=\"#DejaVuSans-Oblique-74\"/><use transform=\"translate(163.77 .78125)\" xlink:href=\"#DejaVuSans-Oblique-70\"/><use transform=\"translate(227.25 .78125)\" xlink:href=\"#DejaVuSans-Oblique-75\"/><use transform=\"translate(290.62 .78125)\" xlink:href=\"#DejaVuSans-Oblique-74\"/></g></g><g clip-path=\"url(#p024589e474)\"><g transform=\"translate(58.126 138.93) scale(.1625 -.1625)\"><defs><path id=\"DejaVuSans-Oblique-67\" transform=\"scale(.015625)\" d=\"m3816 3500-597-3066q-172-890-658-1327-486-438-1308-438-303 0-563 45-259 45-484 139l107 559q212-137 449-202 238-66 507-66 547 0 898 299 352 298 464 857l50 263q-240-275-559-419t-688-144q-531 0-836 351-304 352-304 968 0 484 184 948 185 464 519 824 222 237 517 365t617 128q353 0 615-164 263-164 392-464l100 544h578zm-866-1284q0 425-200 656t-569 231q-228 0-434-91-206-90-353-253-238-268-371-632-132-364-132-752 0-431 201-663 202-231 580-231 547 0 912 495 366 496 366 1240z\"/><path id=\"DejaVuSans-Oblique-61\" transform=\"scale(.015625)\" d=\"m3438 1997-391-1997h-575l106 531q-253-312-577-467-323-155-720-155-447 0-733 273-285 274-285 702 0 613 489 969t1348 356h800l31 154q7 25 10 54 3 30 3 92 0 279-227 433-226 155-636 155-281 0-577-72-295-72-607-216l100 532q325 122 636 182 311 61 601 61 619 0 942-269 324-268 324-781 0-103-16-242-15-139-46-295zm-622-238h-575q-707 0-1046-189t-339-586q0-275 173-431 174-156 480-156 469 0 819 336t463 898l25 128z\"/><path id=\"DejaVuSans-Oblique-72\" transform=\"scale(.015625)\" d=\"m2853 2969q-87 47-200 72-112 25-240 25-460 0-804-349-343-348-456-933l-353-1784h-575l684 3500h575l-109-544q228 303 545 465 318 163 677 163 94 0 184-11 91-10 182-35l-110-569z\"/><path id=\"DejaVuSans-Oblique-62\" transform=\"scale(.015625)\" d=\"m3169 2138q0 453-208 709t-573 256q-266 0-499-130-233-129-405-376-181-259-286-602-104-342-104-682 0-432 204-677 205-245 565-245 271 0 502 126 232 127 407 374 178 256 287 596 110 341 110 651zm-1788 831q213 287 533 451t670 164q538 0 855-363 317-362 317-980 0-507-186-982t-529-843q-225-244-519-376-294-131-616-131-340 0-590 156-250 157-407 466l-103-531h-575l947 4863h575l-372-1894z\"/><path id=\"DejaVuSans-Oblique-65\" transform=\"scale(.015625)\" d=\"m3078 2063q10 50 14 103 5 53 5 106 0 381-224 603-223 222-607 222-428 0-757-271-328-270-496-767l2065 4zm500-450h-2675q-19-119-25-188t-6-119q0-434 267-672 267-237 755-237 375 0 709 84 335 85 622 247l-109-569q-310-125-640-187-329-63-670-63-728 0-1120 348-392 349-392 990 0 547 195 1017t574 839q243 231 579 356t714 125q594 0 945-356 352-356 352-956 0-144-19-308-18-164-56-351z\"/></defs><use transform=\"translate(0 .015625)\" xlink:href=\"#DejaVuSans-Oblique-67\"/><use transform=\"translate(63.477 .015625)\" xlink:href=\"#DejaVuSans-Oblique-61\"/><use transform=\"translate(124.76 .015625)\" xlink:href=\"#DejaVuSans-Oblique-72\"/><use transform=\"translate(165.87 .015625)\" xlink:href=\"#DejaVuSans-Oblique-62\"/><use transform=\"translate(229.35 .015625)\" xlink:href=\"#DejaVuSans-Oblique-61\"/><use transform=\"translate(290.62 .015625)\" xlink:href=\"#DejaVuSans-Oblique-67\"/><use transform=\"translate(354.1 .015625)\" xlink:href=\"#DejaVuSans-Oblique-65\"/></g></g><g clip-path=\"url(#p024589e474)\"><g transform=\"translate(17.014 184.38) scale(.1625 -.1625)\"><defs><path id=\"DejaVuSans-Oblique-66\" transform=\"scale(.015625)\" d=\"m3059 4863-90-479h-550q-313 0-455-123t-211-452l-62-309h947l-85-447h-947l-593-3053h-579l597 3053h-550l82 447h550l46 244q119 619 417 869 299 250 940 250h543z\"/><path id=\"DejaVuSans-Oblique-6c\" transform=\"scale(.015625)\" d=\"m1172 4863h575l-947-4863h-575l947 4863z\"/><path id=\"DejaVuSans-2212\" transform=\"scale(.015625)\" d=\"m678 2272h4006v-531h-4006v531z\"/></defs><use transform=\"translate(0 .015625)\" xlink:href=\"#DejaVuSans-Oblique-66\"/><use transform=\"translate(35.205 .015625)\" xlink:href=\"#DejaVuSans-Oblique-69\"/><use transform=\"translate(62.988 .015625)\" xlink:href=\"#DejaVuSans-Oblique-6e\"/><use transform=\"translate(126.37 .015625)\" xlink:href=\"#DejaVuSans-Oblique-61\"/><use transform=\"translate(187.65 .015625)\" xlink:href=\"#DejaVuSans-Oblique-6c\"/><use transform=\"translate(234.91 .015625)\" xlink:href=\"#DejaVuSans-2212\"/><use transform=\"translate(338.18 .015625)\" xlink:href=\"#DejaVuSans-Oblique-6f\"/><use transform=\"translate(399.37 .015625)\" xlink:href=\"#DejaVuSans-Oblique-75\"/><use transform=\"translate(462.74 .015625)\" xlink:href=\"#DejaVuSans-Oblique-74\"/><use transform=\"translate(501.95 .015625)\" xlink:href=\"#DejaVuSans-Oblique-70\"/><use transform=\"translate(565.43 .015625)\" xlink:href=\"#DejaVuSans-Oblique-75\"/><use transform=\"translate(628.81 .015625)\" xlink:href=\"#DejaVuSans-Oblique-74\"/></g></g><defs><clipPath id=\"p024589e474\"><rect x=\"7.2\" y=\"7.2\" width=\"363.96\" height=\"199.98\"/></clipPath></defs></svg>"
      ],
      "text/plain": [
       "<Figure size 482.069x264.88 with 1 Axes>"
      ]
     },
     "execution_count": 6,
     "metadata": {},
     "output_type": "execute_result"
    }
   ],
   "source": [
    "(Vf + copy + Vf.inverse()).draw()"
   ]
  },
  {
   "cell_type": "markdown",
   "metadata": {},
   "source": [
    "Using what you know so far of how the `cx` gates work, you should be able to see that the two applied to the garbage register will cancel each other out. We have therefore successfully removed the garbage.\n",
    "\n",
    "### Quick Exercises\n",
    "\n",
    "1. Show that the output is correctly written to the 'final output' register (and only to this register) when the 'output' register is initialized as $|0\\rangle$.\n",
    "2. Determine what happens when the 'output' register is initialized as $|1\\rangle$."
   ]
  },
  {
   "cell_type": "markdown",
   "metadata": {},
   "source": [
    "With this method, and all of the others covered in this chapter, we now have all the tools we need to create quantum algorithms. Now we can move on to seeing those algorithms in action."
   ]
  },
  {
   "cell_type": "code",
   "execution_count": 7,
   "metadata": {},
   "outputs": [
    {
     "data": {
      "text/html": [
       "<h3>Version Information</h3><table><tr><th>Qiskit Software</th><th>Version</th></tr><tr><td>Qiskit</td><td>0.27.0</td></tr><tr><td>Terra</td><td>0.17.4</td></tr><tr><td>Aer</td><td>0.8.2</td></tr><tr><td>Ignis</td><td>0.6.0</td></tr><tr><td>Aqua</td><td>0.9.2</td></tr><tr><td>IBM Q Provider</td><td>0.14.0</td></tr><tr><th>System information</th></tr><tr><td>Python</td><td>3.7.7 (default, May  6 2020, 04:59:01) \n",
       "[Clang 4.0.1 (tags/RELEASE_401/final)]</td></tr><tr><td>OS</td><td>Darwin</td></tr><tr><td>CPUs</td><td>8</td></tr><tr><td>Memory (Gb)</td><td>32.0</td></tr><tr><td colspan='2'>Thu Jun 17 15:13:23 2021 BST</td></tr></table>"
      ],
      "text/plain": [
       "<IPython.core.display.HTML object>"
      ]
     },
     "metadata": {},
     "output_type": "display_data"
    }
   ],
   "source": [
    "import qiskit.tools.jupyter\n",
    "%qiskit_version_table"
   ]
  }
 ],
 "metadata": {
  "kernelspec": {
   "display_name": "Python 3",
   "language": "python",
   "name": "python3"
  },
  "language_info": {
   "codemirror_mode": {
    "name": "ipython",
    "version": 3
   },
   "file_extension": ".py",
   "mimetype": "text/x-python",
   "name": "python",
   "nbconvert_exporter": "python",
   "pygments_lexer": "ipython3",
   "version": "3.9"
  }
 },
 "nbformat": 4,
 "nbformat_minor": 4
}
