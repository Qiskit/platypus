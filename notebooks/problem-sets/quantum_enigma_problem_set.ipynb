{
 "cells": [
  {
   "cell_type": "markdown",
   "metadata": {},
   "source": [
    "# Quantum Enigma 001 - The Treasure Door Problem Set"
   ]
  },
  {
   "cell_type": "markdown",
   "metadata": {},
   "source": [
    "![University of Sherbrooke, Institute of Quantique](https://assets.website-files.com/60c5933aeca3d7e45095bb5b/6144e1bee592a9d8068ec5ec_institut-quantique.png)\n",
    "\n",
    "## Overview\n",
    "\n",
    "\n",
    "\n",
    "Watch the following videos before attempting this problem set\n",
    "\n",
    "<div class=\"youtube-wrapper\">\n",
    "    <iframe width=\"560\" height=\"315\" src=\"https://www.youtube.com/embed/yI-c30REP7s\" title=\"YouTube video player\" frameborder=\"0\" allow=\"accelerometer; autoplay; clipboard-write; encrypted-media; gyroscope; picture-in-picture\" allowfullscreen></iframe>\n",
    "</div>\n",
    "\n",
    "<div class=\"youtube-wrapper\">\n",
    "    <iframe width=\"560\" height=\"315\" src=\"https://www.youtube.com/embed/c1beJIg8lRs\" title=\"YouTube video player\" frameborder=\"0\" allow=\"accelerometer; autoplay; clipboard-write; encrypted-media; gyroscope; picture-in-picture\" allowfullscreen></iframe>\n",
    "</div>"
   ]
  },
  {
   "cell_type": "markdown",
   "metadata": {},
   "source": [
    "## Problem 1\n",
    "\n",
    "Sometimes a quantum circuit can be simplified. One way of achieving this is by cancelling some quantum gates. Could you simplify the circuit?"
   ]
  },
  {
   "cell_type": "code",
   "execution_count": null,
   "metadata": {
    "goals": [
     {
      "id": "enigma-quiz-0"
     }
    ],
    "grader_answer": "qc",
    "grader_id": "quantum_enigmas/problem1"
   },
   "outputs": [],
   "source": [
    "from qiskit import QuantumRegister, ClassicalRegister, QuantumCircuit, Aer, transpile\n",
    "from qiskit.visualization import plot_histogram\n",
    "\n",
    "# Start your work here.\n",
    "# We've provided the circuit that is shown above\n",
    "# Your circuit MUST be named qc\n",
    "\n",
    "qreg_q = QuantumRegister(3, 'q')\n",
    "creg_c = ClassicalRegister(4, 'c')\n",
    "qc = QuantumCircuit(qreg_q, creg_c)\n",
    "\n",
    "qc.h(0)\n",
    "qc.h(2)\n",
    "qc.cx(0, 1)\n",
    "qc.barrier(0, 1, 2)\n",
    "qc.cx(2, 1)\n",
    "qc.x(2)\n",
    "qc.cx(2, 1)\n",
    "qc.x(2)\n",
    "qc.barrier(0, 1, 2)\n",
    "qc.swap(0, 1)\n",
    "qc.x(1)\n",
    "qc.cx(2, 1)\n",
    "qc.x(0)\n",
    "qc.x(2)\n",
    "qc.cx(2, 1)\n",
    "qc.x(2)\n",
    "\n",
    "# execute the quantum circuit\n",
    "\n",
    "measured_qc = qc.measure_all(inplace=False)\n",
    "backend = Aer.get_backend('qasm_simulator') # the device to run on\n",
    "result = backend.run(transpile(measured_qc, backend), shots=1024).result()\n",
    "counts  = result.get_counts(measured_qc)\n",
    "plot_histogram(counts)"
   ]
  },
  {
   "cell_type": "markdown",
   "metadata": {},
   "source": [
    "## Problem 2\n",
    "\n",
    "<!-- ::: q-block.exercise -->\n",
    "\n",
    "### Quick quiz\n",
    "\n",
    "<!-- ::: q-quiz(goal=\"enigma-quiz-01\") -->\n",
    "\n",
    "<!-- ::: .question -->\n",
    "\n",
    "Can you interpret the results of Question 1?\n",
    "\n",
    "<!-- ::: -->\n",
    "\n",
    "<!-- ::: .option -->\n",
    "\n",
    "1. Measuring Qubit 2 shows which door the treasure is hidden behind\n",
    "\n",
    "<!-- ::: -->\n",
    "\n",
    "<!-- ::: .option -->\n",
    "\n",
    "2. Measuring Qubit 1 shows which guardian is lying\n",
    "\n",
    "<!-- ::: -->\n",
    "\n",
    "<!-- ::: .option(correct) -->\n",
    "\n",
    "3. Measuring Qubit 0 or 1 shows which door the treasure is hidden behind\n",
    "\n",
    "<!-- ::: -->\n",
    "\n",
    "<!-- ::: -->\n",
    "\n",
    "<!-- ::: -->"
   ]
  },
  {
   "cell_type": "markdown",
   "metadata": {},
   "source": [
    "## Problem 3\n",
    "\n",
    "<!-- ::: q-block.exercise -->\n",
    "\n",
    "### Quick quiz\n",
    "\n",
    "<!-- ::: q-quiz(goal=\"enigma-quiz-02\") -->\n",
    "\n",
    "<!-- ::: .question -->\n",
    "\n",
    "If you launch the whole circuit on a real quantum computer, what is the percentage of good answers you get? \n",
    "\n",
    "<!-- ::: -->\n",
    "\n",
    "<!-- ::: .option -->\n",
    "\n",
    "1. 50%\n",
    "\n",
    "<!-- ::: -->\n",
    "\n",
    "<!-- ::: .option -->\n",
    "\n",
    "2. 75%\n",
    "\n",
    "<!-- ::: -->\n",
    "\n",
    "<!-- ::: .option(correct) -->\n",
    "\n",
    "3. 85%\n",
    "\n",
    "<!-- ::: -->\n",
    "\n",
    "<!-- ::: .option -->\n",
    "\n",
    "4. 100%\n",
    "\n",
    "<!-- ::: -->\n",
    "\n",
    "<!-- ::: -->\n",
    "\n",
    "<!-- ::: -->"
   ]
  }
 ],
 "metadata": {
  "kernelspec": {
   "display_name": "Python 3",
   "language": "python",
   "name": "python3"
  },
  "language_info": {
   "codemirror_mode": {
    "name": "ipython",
    "version": 3
   },
   "file_extension": ".py",
   "mimetype": "text/x-python",
   "name": "python",
   "nbconvert_exporter": "python",
   "pygments_lexer": "ipython3",
   "version": "3.9"
  }
 },
 "nbformat": 4,
 "nbformat_minor": 4
}
