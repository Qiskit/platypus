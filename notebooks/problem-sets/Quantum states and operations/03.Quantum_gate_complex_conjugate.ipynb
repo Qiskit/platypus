{
 "cells": [
  {
   "cell_type": "markdown",
   "id": "d7613bc7",
   "metadata": {},
   "source": [
    "## Problem 3\n",
    "\n",
    "<!-- ::: q-quiz(goal=\"test-problem\") -->\n",
    "\n",
    "<!-- ::: .question -->\n",
    "\n",
    "Which one is a valid the complex conjugate of the following operator?\n",
    "\n",
    "$\\hat{S} = \\begin{pmatrix} 1 & 0\\\\\\\\ 0 & i \\end{pmatrix}$\n",
    "\n",
    "<!-- ::: -->\n",
    "\n",
    "<!-- ::: .option -->\n",
    "\n",
    "1. $\\hat{S}^\\dagger = \\begin{pmatrix} 1 & 0\\\\\\\\ 0 & i \\end{pmatrix}$\n",
    "\n",
    "<!-- ::: -->\n",
    "\n",
    "<!-- ::: .option(x) -->\n",
    "\n",
    "2. $\\hat{S}^\\dagger = \\begin{pmatrix} 1 & 0\\\\\\\\ 0 & -i \\end{pmatrix}$\n",
    "\n",
    "<!-- ::: -->\n",
    "\n",
    "<!-- ::: .option -->\n",
    "\n",
    "3. $\\hat{S}^\\dagger = \\begin{pmatrix} 1 & 0\\\\\\\\ 0 & 1 \\end{pmatrix}$\n",
    "\n",
    "<!-- ::: -->\n",
    "\n",
    "<!-- ::: -->\n",
    "\n",
    "<!-- ::: -->"
   ]
  },
  {
   "cell_type": "code",
   "execution_count": null,
   "id": "6cbe410a",
   "metadata": {},
   "outputs": [],
   "source": []
  }
 ],
 "metadata": {
  "celltoolbar": "Edit Metadata",
  "kernelspec": {
   "display_name": "Python 3",
   "language": "python",
   "name": "python3"
  },
  "language_info": {
   "codemirror_mode": {
    "name": "ipython",
    "version": 3
   },
   "file_extension": ".py",
   "mimetype": "text/x-python",
   "name": "python",
   "nbconvert_exporter": "python",
   "pygments_lexer": "ipython3",
   "version": "3.8.8"
  }
 },
 "nbformat": 4,
 "nbformat_minor": 5
}
