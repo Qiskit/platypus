{
 "cells": [
  {
   "cell_type": "markdown",
   "id": "d7613bc7",
   "metadata": {},
   "source": [
    "## Problem 1\n",
    "\n",
    "<!-- ::: q-quiz(goal=\"test-problem\") -->\n",
    "\n",
    "<!-- ::: .question -->\n",
    "\n",
    "Which one is **not** a valid quantum state?\n",
    "\n",
    "<!-- ::: -->\n",
    "\n",
    "<!-- ::: .option -->\n",
    "\n",
    "1. $\\begin{pmatrix} 1 \\\\\\\\ 0 \\end{pmatrix}$\n",
    "\n",
    "<!-- ::: -->\n",
    "\n",
    "<!-- ::: .option -->\n",
    "\n",
    "2. $\\frac{1}{\\sqrt{2}} \\begin{pmatrix} 1 \\\\\\\\ 1 \\end{pmatrix}$\n",
    "\n",
    "<!-- ::: -->\n",
    "\n",
    "<!-- ::: .option(x) -->\n",
    "\n",
    "3. $\\frac{1}{3} \\begin{pmatrix} 2 \\\\\\\\ 1 \\end{pmatrix}$\n",
    "\n",
    "<!-- ::: -->\n",
    "\n",
    "<!-- ::: -->\n",
    "\n",
    "<!-- ::: -->"
   ]
  },
  {
   "cell_type": "code",
   "execution_count": null,
   "id": "6cbe410a",
   "metadata": {},
   "outputs": [],
   "source": []
  }
 ],
 "metadata": {
  "celltoolbar": "Edit Metadata",
  "kernelspec": {
   "display_name": "Python 3",
   "language": "python",
   "name": "python3"
  },
  "language_info": {
   "codemirror_mode": {
    "name": "ipython",
    "version": 3
   },
   "file_extension": ".py",
   "mimetype": "text/x-python",
   "name": "python",
   "nbconvert_exporter": "python",
   "pygments_lexer": "ipython3",
   "version": "3.8.8"
  }
 },
 "nbformat": 4,
 "nbformat_minor": 5
}
