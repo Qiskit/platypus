{
 "cells": [
  {
   "cell_type": "markdown",
   "id": "fb175b96",
   "metadata": {},
   "source": [
    "# Qiskit Hello World! - Notepad"
   ]
  },
  {
   "cell_type": "markdown",
   "id": "fb5e9539",
   "metadata": {},
   "source": [
    "### Instructions\n",
    "\n",
    "Please use this space as a notepad to create your first quantum program and run Qiskit code. "
   ]
  },
  {
   "cell_type": "markdown",
   "id": "498f6ad3",
   "metadata": {},
   "source": [
    "## Your first quantum program\n",
    "\n",
    "Use the code block below to create and run your first quantum program"
   ]
  },
  {
   "cell_type": "code",
   "execution_count": null,
   "id": "0c37716c",
   "metadata": {},
   "outputs": [],
   "source": [
    "\n",
    "# Enter your code here\n"
   ]
  },
  {
   "cell_type": "markdown",
   "id": "2b33bd71",
   "metadata": {},
   "source": [
    "## Sample Problem: Applying Hadamard to 2 Qubits\n",
    "\n",
    "### Instructions\n",
    "\n",
    "Please use this space as a notepad to test your code solutions for the Qiskit Hello World! Sample Problem. When you're tackling the Sample Problem: Applying Hadamard to 2 Qubits, and think you have the correct answer, please copy your code from there and paste it into the Sample Problem: Applying Hadamard to 2 Qubits code block and submit your answer."
   ]
  },
  {
   "cell_type": "code",
   "execution_count": 1,
   "id": "5a76d8fe",
   "metadata": {},
   "outputs": [
    {
     "ename": "SyntaxError",
     "evalue": "invalid syntax (3957070354.py, line 18)",
     "output_type": "error",
     "traceback": [
      "\u001b[0;36m  File \u001b[0;32m\"/var/folders/mr/d9zqwqhj0ns0qy5yh2dk1qqr0000gp/T/ipykernel_9121/3957070354.py\"\u001b[0;36m, line \u001b[0;32m18\u001b[0m\n\u001b[0;31m    qc =\u001b[0m\n\u001b[0m         ^\u001b[0m\n\u001b[0;31mSyntaxError\u001b[0m\u001b[0;31m:\u001b[0m invalid syntax\n"
     ]
    }
   ],
   "source": [
    "from __future__ import annotations\n",
    "\n",
    "import math\n",
    "\n",
    "from qiskit.tools.visualization import plot_histogram\n",
    "from qiskit.quantum_info import Statevector\n",
    "from qiskit import QuantumCircuit, qpy, execute\n",
    "from qiskit_aer import Aer\n",
    "\n",
    "class QiskitHelloWorld:\n",
    "    \"\"\"\n",
    "    - Assume your qubits start in the 0 state\n",
    "    - Declare a QuantumCircuit of two qubits and apply hadamard gates to each of the qubits\n",
    "    - To grade succesfully, return the QuantumCircuit variable and click on test to check your answer and click submit to confirm your submission!\n",
    "    \"\"\"\n",
    "    def getQuantumCircuit(self, ) -> QuantumCircuit:\n",
    "        ##### Enter your code below! #####\n",
    "        qc = \n",
    "        ##### Enter your code above! #####\n",
    "        return qc"
   ]
  },
  {
   "cell_type": "code",
   "execution_count": null,
   "id": "959c4636",
   "metadata": {
    "goals": [
     {
      "id": "aq-hello-world"
     }
    ],
    "grader_answer": "qc",
    "grader_id": "algo_queen_2023/hello-world"
   },
   "outputs": [],
   "source": [
    "# Run this cell to view the output of your quantum circuit as a histogram\n",
    "qc = QiskitHelloWorld().getQuantumCircuit()\n",
    "qc.measure_all()\n",
    "backend = Aer.get_backend('aer_simulator')\n",
    "\n",
    "# Run the circuit and get counts\n",
    "result = backend.run(qc, shots = 1024).result()\n",
    "counts = result.get_counts()\n",
    "\n",
    "# Get statevector from circuit\n",
    "qc = qc.remove_final_measurements(inplace=False)\n",
    "statevector = Statevector.from_instruction(qc)\n",
    "\n",
    "# Print and plot results\n",
    "print(statevector)\n",
    "print(\"Counts:\", counts)\n",
    "plot_histogram(counts)"
   ]
  }
 ],
 "metadata": {
  "kernelspec": {
   "display_name": "Python 3 (ipykernel)",
   "language": "python",
   "name": "python3"
  },
  "language_info": {
   "codemirror_mode": {
    "name": "ipython",
    "version": 3
   },
   "file_extension": ".py",
   "mimetype": "text/x-python",
   "name": "python",
   "nbconvert_exporter": "python",
   "pygments_lexer": "ipython3",
   "version": "3.9.7"
  }
 },
 "nbformat": 4,
 "nbformat_minor": 5
}
