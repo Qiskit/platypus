{
 "cells": [
  {
   "cell_type": "markdown",
   "id": "fb175b96",
   "metadata": {},
   "source": [
    "# Qiskit Hello World! - Notepad"
   ]
  },
  {
   "cell_type": "markdown",
   "id": "fb5e9539",
   "metadata": {},
   "source": [
    "### Instructions\n",
    "\n",
    "Please use this space as a notepad to create your first quantum program and run Qiskit code. "
   ]
  },
  {
   "cell_type": "markdown",
   "id": "498f6ad3",
   "metadata": {},
   "source": [
    "## Your first quantum program\n",
    "\n",
    "Use the code block below to create and run your first quantum program"
   ]
  },
  {
   "cell_type": "code",
   "execution_count": null,
   "id": "0c37716c",
   "metadata": {},
   "outputs": [],
   "source": [
    "\n",
    "# Enter your code here\n"
   ]
  },
  {
   "cell_type": "markdown",
   "id": "2b33bd71",
   "metadata": {},
   "source": [
    "## Sample Problem: Applying Hadamard to 2 Qubits\n",
    "\n",
    "### Instructions\n",
    "\n",
    "Please use this space as a notepad to test your code solutions for the Qiskit Hello World! Sample Problem. When you're tackling the Sample Problem: Applying Hadamard to 2 Qubits, and think you have the correct answer, please copy your code from there and paste it into the Sample Problem: Applying Hadamard to 2 Qubits code block and submit your answer."
   ]
  },
  {
   "cell_type": "code",
   "execution_count": 1,
   "id": "5a76d8fe",
   "metadata": {},
   "outputs": [],
   "source": [
    "from __future__ import annotations\n",
    "\n",
    "import math\n",
    "\n",
    "from qiskit.tools.visualization import plot_histogram\n",
    "from qiskit.quantum_info import Statevector\n",
    "from qiskit import QuantumCircuit, qpy, execute\n",
    "from qiskit_aer import Aer\n",
    "\n",
    "class QiskitHelloWorld:\n",
    "    \"\"\"\n",
    "    - Assume your qubits start in the 0 state\n",
    "    - Declare a QuantumCircuit of two qubits and apply hadamard gates to each of the qubits\n",
    "    - To grade succesfully, return the QuantumCircuit variable and click on test to check your answer and click submit to confirm your submission!\n",
    "    \"\"\"\n",
    "    def getQuantumCircuit(self, ) -> QuantumCircuit:\n",
    "        ##### Enter your code below! #####\n",
    "        qc = \n",
    "        ##### Enter your code above! #####\n",
    "        return qc"
   ]
  },
  {
   "cell_type": "code",
   "execution_count": null,
   "id": "959c4636",
   "metadata": {
    "goals": [
     {
      "id": "aq-hello-world"
     }
    ],
    "grader_answer": "qc",
    "grader_id": "algo_queen_2023/hello-world"
   },
   "outputs": [],
   "source": [
    "# Run this cell to view the output of your quantum circuit as a histogram\n",
    "qc = QiskitHelloWorld().getQuantumCircuit()\n",
    "qc.measure_all()\n",
    "backend = Aer.get_backend('aer_simulator')\n",
    "\n",
    "# Run the circuit and get counts\n",
    "result = backend.run(qc, shots = 1024).result()\n",
    "counts = result.get_counts()\n",
    "\n",
    "# Get statevector from circuit\n",
    "qc = qc.remove_final_measurements(inplace=False)\n",
    "statevector = Statevector.from_instruction(qc)\n",
    "\n",
    "# Print and plot results\n",
    "print(statevector)\n",
    "print(\"Counts:\", counts)\n",
    "plot_histogram(counts)"
   ]
  },
  {
   "cell_type": "markdown",
   "id": "19f7f803",
   "metadata": {},
   "source": [
    "## Sample Problem 2: Creating an XOR gate using Quantum gates\n",
    "\n",
    "Here is another for you to play with and get the feel of how to grade problems on the platform! We will make our own XOR Gate using Quantum gates on Qiskit. \n",
    "\n",
    "The expected input and output datatypes are mentioned in the portal.\n",
    "\n",
    "Let's start creating a classic logic gate using quantum gates. We will try to recreate a classical gate that follows the truth tables will be shown. \n",
    "\n",
    "### XOR Gate\n",
    "|A(input)|B(input)|output|\n",
    "|--|--|--|\n",
    "|0|0|0|\n",
    "|0|1|1|\n",
    "|1|0|1|\n",
    "|1|1|0|\n",
    "\n",
    "In quantum computers, the job of the XOR gate is done by the ‘controlled-NOT gate’. Since that's quite a long name, we usually just call it the ‘CNOT’. In circuit diagrams, it is drawn as in the image below. This is applied to a pair of qubits. One acts as the control qubit (this is the one with the little dot). The other acts as the target qubit (with the big circle and cross - kind of like a target mark).\n",
    "\n",
    "![](https://storage.googleapis.com/cdcontent/contents/2050/attachments/assets/cnot_xor.svg)\n",
    "\n",
    "In Qiskit, we can use the .cx() method to add a CNOT to our circuit. We need to give the indices of the two qubits it acts on as arguments. \n",
    "\n",
    "Complete to block below and define a 2 qubit circuit and apply a gate operation that will represent the XOR gate as above:\n",
    "\n",
    "#### Input\n",
    "A quantum circuit of type `QuantumCircuit` with two qubits\n",
    "\n",
    "#### Output \n",
    "A quantum circuit of type `QuantumCircuit` with the required equivalent XOR gate\n"
   ]
  },
  {
   "cell_type": "markdown",
   "id": "821fe67c",
   "metadata": {},
   "source": []
  },
  {
   "cell_type": "code",
   "execution_count": null,
   "id": "c8cf6491",
   "metadata": {},
   "outputs": [],
   "source": [
    "from __future__ import annotations\n",
    "\n",
    "import math\n",
    "\n",
    "from qiskit.tools.visualization import plot_histogram\n",
    "from qiskit.quantum_info import Statevector\n",
    "from qiskit import QuantumCircuit, qpy, execute\n",
    "from qiskit_aer import Aer\n",
    "\n",
    "class QiskitHelloWorld:\n",
    "    \"\"\"\n",
    "    - Assume your qubits start in the 0 state\n",
    "    - Declare a QuantumCircuit of two qubits and try to recreate the XOR gate\n",
    "    - To grade succesfully, return the QuantumCircuit variable and click on test to check your answer and click submit to confirm your submission!\n",
    "    \"\"\"\n",
    "    def getXORGate(self, ) -> QuantumCircuit:\n",
    "        ##### Enter your code below! #####\n",
    "        # Create your circuit\n",
    "        qc = QuantumCircuit(2,2)\n",
    "        # Apply gates to your circuit\n",
    "        qc.cx(0,1)\n",
    "        ##### Enter your code above! #####\n",
    "        qc.measure_all()\n",
    "\n",
    "        return qc"
   ]
  },
  {
   "cell_type": "code",
   "execution_count": null,
   "id": "d42656e3",
   "metadata": {},
   "outputs": [],
   "source": [
    "# Run this cell to view your quantum circuit\n",
    "qc = QiskitHelloWorld().getXORGate()\n",
    "qc.draw(output=\"mpl\")"
   ]
  },
  {
   "cell_type": "markdown",
   "id": "a4cd48cb",
   "metadata": {},
   "source": [
    "## Sample Problem 3: Creating a half adder circuit using Quantum gates\n",
    "\n",
    "Here is another for you to play with and get the feel of how to grade problems on the platform! We will make our own half adder using Qiskit. \n",
    "\n",
    "The expected input and output datatypes are mentioned in the portal.\n",
    "\n",
    "### Half Adder\n",
    "The half adder is used to add together the two least significant digits in a binary sum.\n",
    "It has two single binary inputs, called A and B, and two outputs C (carry out) and S (sum).\n",
    "The output C will be used as an input to the Full Adder, which will be explained later, for obtaining the value in the higher digit.\n",
    "\n",
    "Half adders can be described with the truth table shown below.\n",
    "\n",
    "|A (input)|B (input)|S (sum)|C (carry out)|\n",
    "|-----------|------------|------------|------------|\n",
    "|0|0|0|0|\n",
    "|0|1|1|0|\n",
    "|1|0|1|0|\n",
    "|1|1|0|1|\n",
    "\n",
    "From the truth table, you should notice that the carry output, C, is a result of operating an AND gate against A and B, where the output S is a result of operating an XOR against A and B.\n",
    "As we have already created the AND and XOR gates, we can combine these gates and create a half adder as follows.\n",
    "\n",
    "We make a QuantumCircuit of 4 quantum registers and 2 classical registers and assign inputs A and B to qubit 0 and qubit 1, the sum output S and carry output C to qubit 2 and qubit 3."
   ]
  },
  {
   "cell_type": "code",
   "execution_count": null,
   "id": "7270d107-00a8-477d-82d5-6611e85cc30e",
   "metadata": {},
   "outputs": [],
   "source": [
    "from __future__ import annotations\n",
    "\n",
    "import math\n",
    "\n",
    "from qiskit.tools.visualization import plot_histogram\n",
    "from qiskit.quantum_info import Statevector\n",
    "from qiskit import QuantumCircuit, qpy, execute\n",
    "from qiskit_aer import Aer\n",
    "\n",
    "class QiskitHelloWorld:\n",
    "    \"\"\"\n",
    "    - Assume your qubits start in the 0 state\n",
    "    - Declare a QuantumCircuit of two qubits and apply hadamard gates to each of the qubits\n",
    "    - To grade succesfully, return the QuantumCircuit variable and click on test to check your answer and click submit to confirm your submission!\n",
    "    \"\"\"\n",
    "    def getHalfAdder(self, ) -> QuantumCircuit:\n",
    "        ##### Enter your code below! #####\n",
    "        qc = QuantumCircuit(4,2)\n",
    "\n",
    "        # XOR\n",
    "        qc.cx(1, 2)\n",
    "        qc.cx(0, 2)\n",
    "        qc.barrier()\n",
    "\n",
    "        # AND\n",
    "        qc.ccx(0, 1, 3)\n",
    "        qc.barrier()\n",
    "\n",
    "        ##### Enter your code above! #####\n",
    "        qc.measure(2,0)\n",
    "        qc.measure(3,1)\n",
    "\n",
    "        return qc"
   ]
  },
  {
   "cell_type": "code",
   "execution_count": null,
   "id": "bec88882",
   "metadata": {},
   "outputs": [],
   "source": [
    "qc = QiskitHelloWorld().getHalfAdder()\n",
    "\n",
    "backend = Aer.get_backend('aer_simulator')\n",
    "\n",
    "# Run the circuit and get counts\n",
    "result = backend.run(qc, shots = 1024).result()\n",
    "counts = result.get_counts()\n",
    "print(counts)\n",
    "\n",
    "# Draw the circuit\n",
    "qc.draw(\"mpl\")"
   ]
  }
 ],
 "metadata": {
  "kernelspec": {
   "display_name": "Python 3",
   "language": "python",
   "name": "python3"
  },
  "language_info": {
   "codemirror_mode": {
    "name": "ipython",
    "version": 3
   },
   "file_extension": ".py",
   "mimetype": "text/x-python",
   "name": "python",
   "nbconvert_exporter": "python",
   "pygments_lexer": "ipython3",
   "version": "3.9"
  }
 },
 "nbformat": 4,
 "nbformat_minor": 5
}
