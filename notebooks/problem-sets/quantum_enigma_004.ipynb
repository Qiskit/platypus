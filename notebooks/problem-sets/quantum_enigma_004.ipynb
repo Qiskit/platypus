{
 "cells": [
  {
   "cell_type": "markdown",
   "metadata": {
    "tags": []
   },
   "source": [
    "# Enigma 004 : The Monty Hall Problem"
   ]
  },
  {
   "attachments": {},
   "cell_type": "markdown",
   "metadata": {},
   "source": [
    "<div>\n",
    "    <img src=\"https://learn.qiskit.org/content/quantum_enigma_problem_set/images/IQ_Logo.png\" alt=\"University of Sherbrooke, Institute of Quantique\" width=280>\n",
    "</div>\n",
    "\n",
    "## Overview\n",
    "\n",
    "Watch the following video before attempting this problem set\n",
    "\n",
    "<div class=\"youtube-wrapper\">\n",
    "    <iframe width=\"560\" height=\"315\" src=\"https://www.youtube.com/embed/Hd9KhRts1uw\" title=\"YouTube video player\" frameborder=\"0\" allow=\"accelerometer; autoplay; clipboard-write; encrypted-media; gyroscope; picture-in-picture\" allowfullscreen></iframe>\n",
    "</div>"
   ]
  },
  {
   "cell_type": "markdown",
   "metadata": {
    "tags": []
   },
   "source": [
    "## Problem 1\n",
    "\n",
    "Write a circuit that would only use 3 qubits instead of 4 for Enigma 004 The Monty Hall Problem.\n",
    "\n",
    "<!-- ::: q-block.reminder -->\n",
    "\n",
    "### Hints\n",
    "\n",
    "<details>\n",
    "    <summary>Hint 1</summary>\n",
    "    Use only two qubits to hide the diamond.\n",
    "</details>\n",
    "\n",
    "<details>\n",
    "    <summary>Hint 2</summary>\n",
    "    Find a way to obtain $\\frac{1}{3}$ probability of measuring `00`, `01`, and `10` (the binary equivalent of 0, 1, and 2).\n",
    "</details>\n",
    "<!-- ::: -->\n"
   ]
  },
  {
   "cell_type": "code",
   "execution_count": null,
   "metadata": {
    "goals": [
     {
      "id": "enigma-004-quiz-1"
     }
    ],
    "grader_answer": "problem_qc",
    "grader_id": "quantum_enigmas/enigma_004_problem_1"
   },
   "outputs": [],
   "source": [
    "from qiskit import QuantumCircuit, ClassicalRegister, QuantumRegister\n",
    "import matplotlib\n",
    "from qiskit.circuit.library import MCXGate\n",
    "from math import pi\n",
    "\n",
    "problem_qc = QuantumCircuit(3, 3)\n",
    "\n",
    "# Start your work here.\n",
    "# Your circuit MUST be named problem_qc\n",
    "\n",
    "\n",
    "problem_qc.measure_active()\n",
    "problem_qc.draw(\"mpl\")"
   ]
  },
  {
   "attachments": {},
   "cell_type": "markdown",
   "metadata": {},
   "source": [
    "## Problem 2\n",
    "\n",
    "Write a circuit that would randomly determine the safe you choose at the start (using three qubits for hiding the diamond as in the enigma).\n",
    "\n",
    "<!-- ::: q-block.reminder -->\n",
    "\n",
    "### Hints\n",
    "\n",
    "<details>\n",
    "    <summary>Hint 1</summary>\n",
    "    You can use $q_3$, $q_4$, and $q_5$ to determine the safe you put your hand on at first and $q_6$, $q_7$, and $q_8$ to determine which safe will be opened (safe 0 is linked to $q_0$, $q_3$, and $q_6$; safe 1 is linked to $q_1$, $q_4$, and $q_7$; safe 2 is linked to $q_2$, $q_5$, and $q_8$).\n",
    "</details>\n",
    "\n",
    "<details>\n",
    "    <summary>Hint 2</summary>\n",
    "    You can use the following circuit that is the equivalent of a multicontrolled Hadamard gate:<br>\n",
    "    In this example, $q_0$ and $q_1$ are the control qubits and $q_2$ is the target one.<br><br>\n",
    "    <code>problem_qc.ry(pi/4, 2)<br>\n",
    "    problem_qc.ccx(0, 1, 2)<br>\n",
    "    problem_qc.ry(-pi/4, 2)</code>\n",
    "</details>\n",
    "\n",
    "<!-- ::: -->\n"
   ]
  },
  {
   "cell_type": "code",
   "execution_count": null,
   "metadata": {
    "goals": [
     {
      "id": "enigma-004-quiz-2"
     }
    ],
    "grader_answer": "problem_qc",
    "grader_id": "quantum_enigmas/enigma_004_problem_2"
   },
   "outputs": [],
   "source": [
    "from qiskit import QuantumCircuit, ClassicalRegister, QuantumRegister\n",
    "import matplotlib\n",
    "from qiskit.circuit.library import MCXGate\n",
    "from math import pi\n",
    "\n",
    "problem_qc = QuantumCircuit(9, 9)\n",
    "\n",
    "# Start your work here.\n",
    "# We've provided the circuit that is shown above\n",
    "# Your circuit MUST be named problem_qc\n",
    "\n",
    "#hidding the diamond in one of the three safes\n",
    "\n",
    "\n",
    "#putting the hand on one of the three safes\n",
    "\n",
    "\n",
    "#door to open in case diamond and hand are on 0\n",
    "\n",
    "\n",
    "#door to open in case diamond and hand are on 1\n",
    "\n",
    "\n",
    "#door to open in case diamond and hand are on 2\n",
    "\n",
    "\n",
    "#door to open in case diamond is in 0 and hand is on 2\n",
    "\n",
    "\n",
    "#door to open in case diamond is in 0 and hand is on 1\n",
    "\n",
    "\n",
    "#door to open in case diamond is in 1 and hand is on 0\n",
    "\n",
    "\n",
    "#door to open in case diamond is in 1 and hand is on 2\n",
    "\n",
    "\n",
    "#door to open in case diamond is in 2 and hand is on 0\n",
    "\n",
    "\n",
    "#door to open in case diamond is in 2 and hand is on 1\n",
    "\n",
    "\n",
    "\n",
    "problem_qc.measure_active()\n",
    "problem_qc.draw(\"mpl\")"
   ]
  },
  {
   "cell_type": "markdown",
   "metadata": {
    "tags": []
   },
   "source": [
    "## Problem 3\n",
    "\n",
    "*Time travel*\n",
    "\n",
    "One very important aspect of quantum computing is that all quantum gates have an inverse. This means that it is possible to simulate time traveling by going to the end of an algorithm and coming back at the start simply using the inverse of every gate in a backward manner. \n",
    "\n",
    "The following circuit shows the algorithm seen in the video with an extra qubit used for deciding which door will be opened in the case the diamond is in safe 2 at the beginning. The circuit has been writen up to the point in time a safe has been opened by Kettu."
   ]
  },
  {
   "cell_type": "code",
   "execution_count": null,
   "metadata": {},
   "outputs": [],
   "source": [
    "from qiskit import QuantumCircuit, ClassicalRegister, QuantumRegister\n",
    "import matplotlib\n",
    "from qiskit.circuit.library import MCXGate\n",
    "from math import pi\n",
    "\n",
    "qreg_q = QuantumRegister(5, 'q')\n",
    "creg_c = ClassicalRegister(1, 'c')\n",
    "creg_d = ClassicalRegister(1, 'd')\n",
    "creg_f = ClassicalRegister(1, 'f')\n",
    "creg_g = ClassicalRegister(1, 'g')\n",
    "problem_qc = QuantumCircuit(qreg_q, creg_c, creg_d, creg_f, creg_g)\n",
    "\n",
    "problem_qc.ry(1.910633, 0)\n",
    "\n",
    "# q4 is used to decide which door will be opened in the case the diamond is in safe 2 at the beginning.\n",
    "# This is necessary since we don't want this information to be lost when measuring q3.\n",
    "\n",
    "problem_qc.h(4)\n",
    "problem_qc.ch(0, 1)\n",
    "problem_qc.cx(1, 2)\n",
    "problem_qc.cx(0, 1)\n",
    "problem_qc.x(0)\n",
    "problem_qc.barrier()\n",
    "problem_qc.cx(0, 3)\n",
    "problem_qc.ccx(2, 4, 3)\n",
    "problem_qc.measure(3, 0)\n",
    "\n",
    "problem_qc.draw(\"mpl\")"
   ]
  },
  {
   "cell_type": "markdown",
   "metadata": {
    "tags": []
   },
   "source": [
    "Write the rest of the algorithm to travel in time going back to the beginning, choosing a strategy that will allow you to proceed with the rest of the algorithm and win the diamond everytime\n",
    "\n",
    "<!-- ::: q-block.reminder -->\n",
    "\n",
    "### Hints\n",
    "\n",
    "<details>\n",
    "    <summary>Hint 1</summary>\n",
    "    Place the gates in reverse order upto the barrier and choose a safe the diamond is not in.\n",
    "</details>\n",
    "\n",
    "<details>\n",
    "    <summary>Hint 2</summary>\n",
    "    Use conditional swap to make sure you choose a safe the diamond is not in.  `problem_qc.swap(qreg_q[1], qreg_q[2]).c_if(creg_g, 1)`\n",
    "</details>\n",
    "<!-- ::: -->"
   ]
  },
  {
   "cell_type": "code",
   "execution_count": null,
   "metadata": {
    "goals": [
     {
      "id": "enigma-004-quiz-3"
     }
    ],
    "grader_answer": "problem_qc",
    "grader_id": "quantum_enigmas/enigma_004_problem_3"
   },
   "outputs": [],
   "source": [
    "from qiskit import QuantumCircuit, ClassicalRegister, QuantumRegister\n",
    "import matplotlib\n",
    "from qiskit.circuit.library import MCXGate\n",
    "from math import pi\n",
    "\n",
    "qreg_q = QuantumRegister(5, 'q')\n",
    "creg_c = ClassicalRegister(1, 'c')\n",
    "creg_d = ClassicalRegister(1, 'd')\n",
    "creg_f = ClassicalRegister(1, 'f')\n",
    "creg_g = ClassicalRegister(1, 'g')\n",
    "problem_qc = QuantumCircuit(qreg_q, creg_c, creg_d, creg_f, creg_g)\n",
    "\n",
    "# Start your work here.\n",
    "# We've provided the circuit that is shown above\n",
    "# Your circuit MUST be named problem_qc\n",
    "\n",
    "\n",
    "problem_qc.measure_active()\n",
    "problem_qc.draw(\"mpl\")"
   ]
  },
  {
   "cell_type": "code",
   "execution_count": null,
   "metadata": {},
   "outputs": [],
   "source": [
    "# We'll run your circuit on a simulator. This is optional for Problem 4\n",
    "from qiskit import QuantumCircuit, Aer, transpile\n",
    "from qiskit.visualization import plot_histogram\n",
    "\n",
    "backend = Aer.get_backend('qasm_simulator')\n",
    "result = backend.run(transpile(problem_qc, backend), shots=1000).result()\n",
    "counts  = result.get_counts(problem_qc)\n",
    "plot_histogram(counts)"
   ]
  },
  {
   "cell_type": "markdown",
   "metadata": {
    "tags": []
   },
   "source": [
    "<!-- ::: q-block.exercise -->\n",
    "\n",
    "### Quick quiz\n",
    "\n",
    "<!-- ::: q-quiz(goal=\"enigma-004-quiz-4\") -->\n",
    "\n",
    "<!-- ::: .question -->\n",
    "\n",
    "What is the meaning of the result?\n",
    "\n",
    "<!-- ::: -->\n",
    "\n",
    "<!-- ::: .option(correct) -->\n",
    "\n",
    "1. Changing your safe at the end will always lead to the diamond.\n",
    "\n",
    "<!-- ::: -->\n",
    "\n",
    "<!-- ::: .option -->\n",
    "\n",
    "2. There is still some uncertainty in the result.\n",
    "\n",
    "<!-- ::: -->\n",
    "\n",
    "<!-- ::: .option -->\n",
    "\n",
    "3. The diamond is always in safe 2.\n",
    "\n",
    "<!-- ::: -->\n",
    "\n",
    "<!-- ::: .option -->\n",
    "\n",
    "4. There is no more diamond.\n",
    "\n",
    "<!-- ::: -->\n",
    "\n",
    "<!-- ::: -->\n",
    "\n",
    "<!-- ::: -->"
   ]
  },
  {
   "attachments": {},
   "cell_type": "markdown",
   "metadata": {},
   "source": [
    "<iframe class=\"airtable-embed\" src=\"https://airtable.com/embed/shrv7273URhbBWpjC?backgroundColor=purple\" frameborder=\"0\" onmousewheel=\"\" width=\"100%\" height=\"533\" style=\"background: transparent; border: 1px solid #ccc;\"></iframe>"
   ]
  }
 ],
 "metadata": {
  "kernelspec": {
   "display_name": "Python 3",
   "language": "python",
   "name": "python3"
  },
  "language_info": {
   "codemirror_mode": {
    "name": "ipython",
    "version": 3
   },
   "file_extension": ".py",
   "mimetype": "text/x-python",
   "name": "python",
   "nbconvert_exporter": "python",
   "pygments_lexer": "ipython3",
   "version": "3.9"
  }
 },
 "nbformat": 4,
 "nbformat_minor": 4
}
