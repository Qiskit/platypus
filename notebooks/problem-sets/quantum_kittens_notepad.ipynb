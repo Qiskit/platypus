{
 "cells": [
  {
   "cell_type": "markdown",
   "metadata": {},
   "source": [
    "# Quantum Kittens Notepad"
   ]
  },
  {
   "cell_type": "markdown",
   "metadata": {},
   "source": [
    "## Overview\n",
    "\n",
    "Welcome to the Quantum Kittens notepad. \n",
    "\n",
    "This is a coding notepad supplement to the book [Quantum Kittens](http://quantumkittens.online), a non-technical book that teaches quantum computing through stories about cats.\n",
    "\n",
    "Also available in [Japanese](http://quantum-kittens-ja.github.io/) and [Spanish](http://quantum-kittens-es.github.io/).\n"
   ]
  },
  {
   "cell_type": "markdown",
   "metadata": {},
   "source": [
    "<img src='https://github.com/quantum-kittens/quantum-kittens.github.io/blob/main/assets/imgs/cover_beta.png?raw=true'/>"
   ]
  },
  {
   "cell_type": "markdown",
   "metadata": {},
   "source": [
    "#### Quantum Kittens Credits:\n",
    "- Author: [Radha Pyari Sandhir](https://radhapyarisandhir.com/)\n",
    "- Illustrator: [Rashi Chandra](https://www.instagram.com/rashichan/)\n",
    "- Japanese Translator: [Yuri Kobayashi](https://twitter.com/YuriKobaya)\n",
    "- Spanish Translator: [Claudia Zendejas-Morales](https://twitter.com/clausia)\n",
    "- The Cats: [Arya, Blade, Luna](https://www.instagram.com/catomictheory/)\n",
    "- Editor: [Suzanne Musin](https://www.linkedin.com/in/suzannemusin/)\n",
    "- Technical Reviewer: [James Weaver](https://github.com/javafxpert)\n"
   ]
  },
  {
   "cell_type": "markdown",
   "metadata": {},
   "source": [
    "## Chapter 2 Qiskit Code\n",
    "\n",
    "Simulate a Whiskerton marble using this code! \n",
    "\n",
    "This code walks you through creating and running a quantum circuit with a single qubit.\n",
    "\n",
    "This code is associated with Quantum Kittens Chapter 2:\n",
    "- [Chapter 2 - Story - Schrödinger Day](https://quantum-kittens.github.io/posts/CHAPTER-2-Story-Schr%C3%B6dinger-Day/)\n",
    "- [Chapter 2 Part 2 - Commentary - Qubits, Superposition, and Measurement](https://quantum-kittens.github.io/posts/CHAPTER-2-Part-2-Qubits-Superposition-and-Measurements/)"
   ]
  },
  {
   "cell_type": "markdown",
   "metadata": {},
   "source": [
    "<img src='https://github.com/quantum-kittens/quantum-kittens.github.io/blob/main/assets/imgs/Marble_Animation.png?raw=true'/>"
   ]
  },
  {
   "cell_type": "code",
   "execution_count": 2,
   "metadata": {},
   "outputs": [],
   "source": [
    "# Importing necessary Qiskit libraries; run this cell first\n",
    "from qiskit import QuantumCircuit, transpile\n",
    "from qiskit import BasicAer\n",
    "from qiskit.visualization import *"
   ]
  },
  {
   "cell_type": "code",
   "execution_count": 3,
   "metadata": {
    "goals": [
     {
      "id": "qk-notepad"
     }
    ]
   },
   "outputs": [
    {
     "data": {
      "image/png": "[encoded data removed]",
      "text/plain": [
       "<Figure size 193.726x144.48 with 1 Axes>"
      ]
     },
     "execution_count": 3,
     "metadata": {},
     "output_type": "execute_result"
    }
   ],
   "source": [
    "#Create Marble Circuit\n",
    "\n",
    "marble_circuit = QuantumCircuit(1, 1) # add one qubit (Whiskerton marble) and one classical bit (to store the measurement outcome)\n",
    "\n",
    "marble_circuit.h(0) # add H-gate or Hadamard gate to the qubit (this is the quantum gate that puts the marble in superposition)\n",
    "\n",
    "marble_circuit.measure(0,0) # add a measurement operator (this is equivalent to a cat looking directly at a marble)\n",
    "\n",
    "marble_circuit.draw('mpl') # see how the circuit looks\n"
   ]
  },
  {
   "cell_type": "code",
   "execution_count": 21,
   "metadata": {},
   "outputs": [
    {
     "name": "stdout",
     "output_type": "stream",
     "text": [
      "The marble is red.\n"
     ]
    }
   ],
   "source": [
    "#Run Marble Circuit,\n",
    "#That is, see if the marble turns red or blue\n",
    "\n",
    "marble_state = {'1': 'red', '0': 'blue'}\n",
    "\n",
    "simulator = BasicAer.get_backend(\"qasm_simulator\") # Identify the quantum computer to run this on. In this case it's a simulator not a real device.\n",
    "\n",
    "compiled_circuit = transpile(marble_circuit, simulator) # Compile the circuit down to low-level QASM instructions.\n",
    "\n",
    "job = simulator.run(compiled_circuit, shots=1000) # Run the circuit on the simulator 1000 times to gather statistics.\n",
    "\n",
    "# fetch and print the outcome:\n",
    "\n",
    "result = job.result() \n",
    "counts = result.get_counts(compiled_circuit)\n",
    "\n",
    "ans = str(max(counts, key=counts.get))\n",
    "\n",
    "print('The marble is ' + marble_state[ans] +'.') # The outcome is the one associated with the highest count.\n"
   ]
  },
  {
   "cell_type": "code",
   "execution_count": 22,
   "metadata": {},
   "outputs": [
    {
     "name": "stdout",
     "output_type": "stream",
     "text": [
      "Your result in the form of counts: {'1': 502, '0': 498}\n",
      "Thus, in 1000 shots, you get blue 498 times, and red 502 times.\n"
     ]
    },
    {
     "data": {
      "image/png": "[encoded data removed]",
      "text/plain": [
       "<Figure size 504x360 with 1 Axes>"
      ]
     },
     "execution_count": 22,
     "metadata": {},
     "output_type": "execute_result"
    }
   ],
   "source": [
    "# Examine the statistics and plot histogram\n",
    "\n",
    "print(\"Your result in the form of counts:\", counts)\n",
    "print(\"Thus, in 1000 shots, you get blue \" + str(counts['0']) + \" times, and red \" + str(counts['1']) + \" times.\")\n",
    "\n",
    "plot_histogram(counts)"
   ]
  },
  {
   "cell_type": "markdown",
   "metadata": {},
   "source": [
    "## Chapter 3 Qiskit Code\n",
    "\n",
    "Simulate a Whiskerton doorbell using this code! \n",
    "\n",
    "By using this code, you will learn how to create the quantum circuit corresponding to the Bell state.\n",
    "\n",
    "This code is associated with Quantum Kittens Chapter 3:\n",
    "- [Chapter 3 - Story - Doorbells](https://quantum-kittens.github.io/posts/CHAPTER-3-Story-Doorbells/)\n",
    "- [Chapter 3 Part 2 - Commentary - Multiple Qubits, Entanglement, and Bell States](https://quantum-kittens.github.io/posts/CHAPTER-3-Part-2-Multiple-Qubits-Entanglement-and-Bell-States/)"
   ]
  },
  {
   "cell_type": "markdown",
   "metadata": {},
   "source": [
    "<img src='https://github.com/quantum-kittens/quantum-kittens.github.io/blob/main/assets/imgs/Doorbell_Animation.png?raw=true'/>"
   ]
  },
  {
   "cell_type": "code",
   "execution_count": 2,
   "metadata": {},
   "outputs": [],
   "source": [
    "# Importing necessary Qiskit libraries; run this cell first\n",
    "from qiskit import QuantumCircuit, transpile\n",
    "from qiskit import BasicAer\n",
    "from qiskit.visualization import *"
   ]
  },
  {
   "cell_type": "code",
   "execution_count": 3,
   "metadata": {},
   "outputs": [
    {
     "data": {
      "image/png": "[encoded data removed]",
      "text/plain": [
       "<Figure size 327.252x204.68 with 1 Axes>"
      ]
     },
     "execution_count": 3,
     "metadata": {},
     "output_type": "execute_result"
    }
   ],
   "source": [
    "#Create Doorbell Entangler Circuit\n",
    "\n",
    "doorbell_circuit = QuantumCircuit(2, 2) # Create a circuit with two qubits (Whiskerton marbles) and two classical bits (to store the measurement outcome).\n",
    "\n",
    "doorbell_circuit.h(0) # Add a Hadamard gate to the first qubit/ \n",
    "\n",
    "doorbell_circuit.cx(0,1) # Add a cnot gate with the first qubit as the control and the second qubit as the target. The target flips its state when the control is in the 1 state.\n",
    "\n",
    "doorbell_circuit.measure([0,1],[0,1]) # Add measurement operators (this is equivalent to a cat looking directly at the outer marble).\n",
    "\n",
    "doorbell_circuit.draw('mpl') # See how the circuit looks.\n"
   ]
  },
  {
   "cell_type": "code",
   "execution_count": 10,
   "metadata": {},
   "outputs": [
    {
     "name": "stdout",
     "output_type": "stream",
     "text": [
      "The marbles are both red.\n"
     ]
    }
   ],
   "source": [
    "#Run Doorbell Circuit,\n",
    "#That is, see if the marbles turns red or blue\n",
    "\n",
    "doorbell_state = {'11': 'red', '00': 'blue'}\n",
    "\n",
    "simulator = BasicAer.get_backend(\"qasm_simulator\") # Identify the quantum computer to run this on. In this case it's a simulator not a real device.\n",
    "\n",
    "compiled_circuit = transpile(doorbell_circuit, simulator) # Compile the circuit down to low-level QASM instructions.\n",
    "\n",
    "job = simulator.run(compiled_circuit, shots=1000) # Run the circuit on the simulator 1000 times to gather statistics.\n",
    "\n",
    "# fetch and print the outcome:\n",
    "\n",
    "result = job.result() \n",
    "counts = result.get_counts(compiled_circuit)\n",
    "\n",
    "ans = str(max(counts, key=counts.get))\n",
    "\n",
    "print('The marbles are both ' + doorbell_state[ans] +'.') # The outcome is the one associated with the highest count.\n"
   ]
  },
  {
   "cell_type": "code",
   "execution_count": 12,
   "metadata": {},
   "outputs": [
    {
     "name": "stdout",
     "output_type": "stream",
     "text": [
      "Your result in the form of counts: {'11': 505, '00': 495}\n",
      "Thus, in 1000 shots, you get double blues 495 times, and double reds 505 times.\n"
     ]
    },
    {
     "data": {
      "image/png": "[encoded data removed]",
      "text/plain": [
       "<Figure size 504x360 with 1 Axes>"
      ]
     },
     "execution_count": 12,
     "metadata": {},
     "output_type": "execute_result"
    }
   ],
   "source": [
    "# Examine the statistics and plot histogram\n",
    "\n",
    "print(\"Your result in the form of counts:\", counts)\n",
    "print(\"Thus, in 1000 shots, you get double blues \" + str(counts['00']) + \" times, and double reds \" + str(counts['11']) + \" times.\")\n",
    "\n",
    "plot_histogram(counts)\n"
   ]
  }
 ],
 "metadata": {
  "kernelspec": {
   "display_name": "Python 3",
   "language": "python",
   "name": "python3"
  },
  "language_info": {
   "codemirror_mode": {
    "name": "ipython",
    "version": 3
   },
   "file_extension": ".py",
   "mimetype": "text/x-python",
   "name": "python",
   "nbconvert_exporter": "python",
   "pygments_lexer": "ipython3",
   "version": "3.9"
  }
 },
 "nbformat": 4,
 "nbformat_minor": 4
}
