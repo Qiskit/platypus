{
 "cells": [
  {
   "cell_type": "markdown",
   "metadata": {},
   "source": [
    "# Indian Institute of Technology Madras Pre-Test"
   ]
  },
  {
   "cell_type": "markdown",
   "metadata": {},
   "source": [
    "## Overview\n",
    "\n",
    "Purpose of this test -- fill in content"
   ]
  },
  {
   "cell_type": "markdown",
   "metadata": {},
   "source": [
    "## Problem 1\n",
    "\n",
    "Consider the following circuit:"
   ]
  },
  {
   "cell_type": "markdown",
   "metadata": {},
   "source": [
    "\n",
    "\n",
    "<!-- ::: q-block.exercise -->\n",
    "\n",
    "### Quick quiz\n",
    "\n",
    "<!-- ::: q-quiz(goal=\"iit-madras-pretest-1\") -->\n",
    "\n",
    "<!-- ::: .question -->\n",
    "\n",
    "Which of the following is true?\n",
    "\n",
    "<!-- ::: -->\n",
    "\n",
    "<!-- ::: .option -->\n",
    "\n",
    "1. The given circuit is that of a teleportation and the initial state of $q_1$ will be transferred up to a unitary to $q_2$ \n",
    "\n",
    "<!-- ::: -->\n",
    "\n",
    "<!-- ::: .option(correct) -->\n",
    "\n",
    "2. The given circuit is that of a teleportation and the initial state of $q_1$ will be transferred up to a unitary to $q_3$\n",
    "\n",
    "<!-- ::: -->\n",
    "\n",
    "<!-- ::: .option -->\n",
    "\n",
    "3. At no point in the circuit is an entanglement\n",
    "\n",
    "<!-- ::: -->\n",
    "\n",
    "<!-- ::: -->\n",
    "\n",
    "<!-- ::: -->"
   ]
  },
  {
   "cell_type": "markdown",
   "metadata": {},
   "source": [
    "## Share Feedback\n",
    "\n",
    "<script src=\"https://static.airtable.com/js/embed/embed_snippet_v1.js\"></script><iframe class=\"airtable-embed airtable-dynamic-height\" src=\"https://airtable.com/embed/shrDTfq6i3a0lJx4c?backgroundColor=purple\" frameborder=\"0\" onmousewheel=\"\" width=\"100%\" height=\"1481\" style=\"background: transparent; border: 1px solid #ccc;\" srcdoc=\"Loading...\" onload=\"this.removeAttribute('srcdoc')\"></iframe>\n",
    "\n"
   ]
  }
 ],
 "metadata": {
  "kernelspec": {
   "display_name": "Python 3",
   "language": "python",
   "name": "python3"
  },
  "language_info": {
   "codemirror_mode": {
    "name": "ipython",
    "version": 3
   },
   "file_extension": ".py",
   "mimetype": "text/x-python",
   "name": "python",
   "nbconvert_exporter": "python",
   "pygments_lexer": "ipython3",
   "version": "3.9"
  }
 },
 "nbformat": 4,
 "nbformat_minor": 4
}
