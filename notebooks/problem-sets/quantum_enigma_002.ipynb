{
 "cells": [
  {
   "cell_type": "markdown",
   "metadata": {},
   "source": [
    "# Enigma 002 : The Four Hair Colours"
   ]
  },
  {
   "attachments": {},
   "cell_type": "markdown",
   "metadata": {},
   "source": [
    "<div class=\"img-wrapper\">\n",
    "    <img src=\"images/IQ_Logo.png\" width=280>\n",
    "</div>\n",
    "\n",
    "## Overview\n",
    "\n",
    "Watch the following video before attempting this problem set\n",
    "\n",
    "<div class=\"youtube-wrapper\">\n",
    "    <iframe width=\"560\" height=\"315\" src=\"https://www.youtube.com/embed/enXT5xTaPb8\" title=\"YouTube video player\" frameborder=\"0\" allow=\"accelerometer; autoplay; clipboard-write; encrypted-media; gyroscope; picture-in-picture\" allowfullscreen></iframe>\n",
    "</div>"
   ]
  },
  {
   "cell_type": "markdown",
   "metadata": {},
   "source": [
    "## Problem 1\n",
    "\n",
    "Here's the code for 4 people circuit."
   ]
  },
  {
   "cell_type": "code",
   "execution_count": null,
   "metadata": {},
   "outputs": [],
   "source": [
    "# Click run to draw the circuit\n",
    "from qiskit import QuantumCircuit, ClassicalRegister, QuantumRegister\n",
    "import matplotlib\n",
    "\n",
    "problem_qc = QuantumCircuit(8)\n",
    "\n",
    "problem_qc.h(0)\n",
    "problem_qc.h(1)\n",
    "problem_qc.h(2)\n",
    "problem_qc.h(3)\n",
    "problem_qc.barrier(0, 1, 2, 3, 4, 5, 6, 7)\n",
    "    \n",
    "# You check if the number of indigo hair color in front of you is even or odd\n",
    "problem_qc.cx(1,4)\n",
    "problem_qc.cx(2,4)\n",
    "problem_qc.cx(3,4)\n",
    "problem_qc.barrier(0, 1, 2, 3, 4, 5, 6, 7)\n",
    "\n",
    "# Everyone takes note of the answer\n",
    "problem_qc.cx(4,5)\n",
    "problem_qc.cx(4,6)\n",
    "problem_qc.cx(4,7)\n",
    "problem_qc.barrier(0, 1, 2, 3, 4, 5, 6, 7)\n",
    "\n",
    "# Bob checks the parity of the hair color in front of him\n",
    "problem_qc.cx(2,5)\n",
    "problem_qc.cx(3,5)\n",
    "problem_qc.barrier(0, 1, 2, 3, 4, 5, 6, 7)\n",
    "\n",
    "# Charlie and Dahlia take note of the answer\n",
    "problem_qc.cx(5,6)\n",
    "problem_qc.cx(5,7)\n",
    "problem_qc.barrier(0, 1, 2, 3, 4, 5, 6, 7)\n",
    "\n",
    "# Charlie checks the parity of Dahlia's hair color\n",
    "problem_qc.cx(3,6)\n",
    "problem_qc.barrier(0, 1, 2, 3, 4, 5, 6, 7)\n",
    "\n",
    "# Dahlia takes note of Charlie's hair color\n",
    "problem_qc.cx(6,7)\n",
    "\n",
    "problem_qc.draw(output='mpl')"
   ]
  },
  {
   "cell_type": "markdown",
   "metadata": {},
   "source": [
    "Can you adapt the circuit for 6 people?"
   ]
  },
  {
   "cell_type": "code",
   "execution_count": null,
   "metadata": {
    "goals": [
     {
      "id": "enigma-002-quiz-1"
     }
    ],
    "grader_answer": "problem_qc",
    "grader_id": "quantum_enigmas/enigma_002_problem_1"
   },
   "outputs": [],
   "source": [
    "from qiskit import QuantumCircuit\n",
    "\n",
    "# Start your work here.\n",
    "# We've provided the circuit that is shown above\n",
    "# Your circuit MUST be named problem_qc\n",
    "# Remove all barriers before submitting for grading\n",
    "\n",
    "problem_qc = QuantumCircuit(12)\n",
    "\n",
    "problem_qc.draw(output='mpl')"
   ]
  },
  {
   "cell_type": "markdown",
   "metadata": {
    "goals": [
     {
      "id": "enigma-002-quiz-2"
     }
    ],
    "grader_answer": "problem_qc",
    "grader_id": "quantum_enigmas/enigma_002_problem_1"
   },
   "source": [
    "## Problem 2\n",
    "\n",
    "Simplify the code with a `for` loop. Can you write a circuit for any number of people using a `for` loop?"
   ]
  },
  {
   "cell_type": "code",
   "execution_count": null,
   "metadata": {},
   "outputs": [],
   "source": [
    "from qiskit import QuantumCircuit, ClassicalRegister, QuantumRegister\n",
    "import matplotlib\n",
    "\n",
    "nb_players = 5\n",
    "\n",
    "nb_qubits = nb_players*2\n",
    "\n",
    "problem_qc = QuantumCircuit(nb_qubits)\n",
    "\n",
    "for i in range(nb_players):\n",
    "    problem_qc.h(i)\n",
    "\n",
    "start_qubit = 1\n",
    "\n",
    "#add the rest of the code here\n",
    "\n",
    "problem_qc.draw(output='mpl')"
   ]
  },
  {
   "cell_type": "markdown",
   "metadata": {},
   "source": [
    "## Problem 3\n",
    "\n",
    "<!-- ::: q-block.exercise -->\n",
    "\n",
    "### Quick quiz\n",
    "\n",
    "<!-- ::: q-quiz(goal=\"enigma-002-quiz-3\") -->\n",
    "\n",
    "<!-- ::: .question -->\n",
    "\n",
    "What is the condition to get 100% of right answers?\n",
    "\n",
    "<!-- ::: -->\n",
    "\n",
    "<!-- ::: .option -->\n",
    "\n",
    "1. The last person must get a right answer.\n",
    "\n",
    "<!-- ::: -->\n",
    "\n",
    "<!-- ::: .option -->\n",
    "\n",
    "2. The answers never are all right for all situations.\n",
    "\n",
    "<!-- ::: -->\n",
    "\n",
    "<!-- ::: .option(correct) -->\n",
    "\n",
    "3. By chance, the first answer must be the same color as the key to the enigma is.\n",
    "\n",
    "<!-- ::: -->\n",
    "\n",
    "<!-- ::: .option -->\n",
    "\n",
    "4. It depends on the number of people in the line.\n",
    "\n",
    "<!-- ::: -->\n",
    "\n",
    "<!-- ::: -->\n",
    "\n",
    "<!-- ::: -->"
   ]
  },
  {
   "cell_type": "markdown",
   "metadata": {},
   "source": [
    "## Problem 4\n",
    "\n",
    "<!-- ::: q-block.exercise -->\n",
    "\n",
    "### Quick quiz\n",
    "\n",
    "<!-- ::: q-quiz(goal=\"enigma-002-quiz-4\") -->\n",
    "\n",
    "<!-- ::: .question -->\n",
    "\n",
    "Only one qubit is not entangled in the system, which one is it?\n",
    "\n",
    "<!-- ::: -->\n",
    "\n",
    "<!-- ::: .option(correct) -->\n",
    "\n",
    "1. The first qubit.\n",
    "\n",
    "<!-- ::: -->\n",
    "\n",
    "<!-- ::: .option -->\n",
    "\n",
    "2. The second qubit.\n",
    "\n",
    "<!-- ::: -->\n",
    "\n",
    "<!-- ::: .option -->\n",
    "\n",
    "3. The third qubit.\n",
    "\n",
    "<!-- ::: -->\n",
    "\n",
    "<!-- ::: .option -->\n",
    "\n",
    "4. The last qubit.\n",
    "\n",
    "<!-- ::: -->\n",
    "\n",
    "<!-- ::: -->\n",
    "\n",
    "<!-- ::: -->"
   ]
  },
  {
   "attachments": {},
   "cell_type": "markdown",
   "metadata": {},
   "source": [
    "## Problem 5\n",
    "\n",
    "Run the circuit for four people on a simulator\n",
    "\n",
    "When running quantum algorithms, simulators are often used to test the quantum circuits without monopolizing the resources of a real quantum computer. Simulators are classical computers that mimic the behaviors of quantum computers."
   ]
  },
  {
   "cell_type": "code",
   "execution_count": null,
   "metadata": {},
   "outputs": [],
   "source": [
    "from qiskit import QuantumCircuit, Aer, transpile\n",
    "from qiskit.visualization import plot_histogram\n",
    "\n",
    "# Click run to draw the circuit\n",
    "\n",
    "problem_qc = QuantumCircuit(8)\n",
    "\n",
    "problem_qc.h(0)\n",
    "problem_qc.h(1)\n",
    "problem_qc.h(2)\n",
    "problem_qc.h(3)\n",
    "problem_qc.barrier(0, 1, 2, 3, 4, 5, 6, 7)\n",
    "    \n",
    "# You check if the number of indigo hair color in front of you is even or odd\n",
    "problem_qc.cx(1,4)\n",
    "problem_qc.cx(2,4)\n",
    "problem_qc.cx(3,4)\n",
    "problem_qc.barrier(0, 1, 2, 3, 4, 5, 6, 7)\n",
    "\n",
    "# Everyone takes note of the answer\n",
    "problem_qc.cx(4,5)\n",
    "problem_qc.cx(4,6)\n",
    "problem_qc.cx(4,7)\n",
    "problem_qc.barrier(0, 1, 2, 3, 4, 5, 6, 7)\n",
    "\n",
    "# Bob checks the parity of the hair color in front of him\n",
    "problem_qc.cx(2,5)\n",
    "problem_qc.cx(3,5)\n",
    "problem_qc.barrier(0, 1, 2, 3, 4, 5, 6, 7)\n",
    "\n",
    "# Charlie and Dahlia take note of the answer\n",
    "problem_qc.cx(5,6)\n",
    "problem_qc.cx(5,7)\n",
    "problem_qc.barrier(0, 1, 2, 3, 4, 5, 6, 7)\n",
    "\n",
    "# Charlie checks the parity of Dahlia's hair color\n",
    "problem_qc.cx(3,6)\n",
    "problem_qc.barrier(0, 1, 2, 3, 4, 5, 6, 7)\n",
    "\n",
    "# Dahlia takes note of Charlie's hair color\n",
    "problem_qc.cx(6,7)\n",
    "\n",
    "# Execute the circuit and draw the histogram\n",
    "\n",
    "measured_qc = problem_qc.measure_all(inplace=False)\n",
    "backend = Aer.get_backend('qasm_simulator') # the device to run on\n",
    "result = backend.run(transpile(measured_qc, backend), shots=1024).result()\n",
    "counts  = result.get_counts(measured_qc)\n",
    "plot_histogram(counts)"
   ]
  },
  {
   "cell_type": "markdown",
   "metadata": {},
   "source": [
    "<!-- ::: q-block.exercise -->\n",
    "\n",
    "### Quick quiz\n",
    "\n",
    "<!-- ::: q-quiz(goal=\"enigma-002-quiz-5\") -->\n",
    "\n",
    "<!-- ::: .question -->\n",
    "\n",
    "Can you explain the significance of the first four qubits? (starting from the right)\n",
    "\n",
    "<!-- ::: -->\n",
    "\n",
    "<!-- ::: .option(correct) -->\n",
    "\n",
    "1. The first 4 qubits each represent the hair color of each player.\n",
    "\n",
    "<!-- ::: -->\n",
    "\n",
    "<!-- ::: .option -->\n",
    "\n",
    "2. The first 4 qubits each represent the hair color each player is giving as their answer.\n",
    "\n",
    "<!-- ::: -->\n",
    "\n",
    "<!-- ::: -->\n",
    "\n",
    "<!-- ::: -->"
   ]
  },
  {
   "cell_type": "markdown",
   "metadata": {},
   "source": [
    "<!-- ::: q-block.exercise -->\n",
    "\n",
    "### Quick quiz\n",
    "\n",
    "<!-- ::: q-quiz(goal=\"enigma-002-quiz-6\") -->\n",
    "\n",
    "<!-- ::: .question -->\n",
    "\n",
    "Can you explain the significance of the last four qubits? (starting from the right)\n",
    "\n",
    "<!-- ::: -->\n",
    "\n",
    "<!-- ::: .option -->\n",
    "\n",
    "1. The last 4 qubits each represent the hair color of each player.\n",
    "\n",
    "<!-- ::: -->\n",
    "\n",
    "<!-- ::: .option(correct) -->\n",
    "\n",
    "2. The last 4 qubits each represent the hair color each player is giving as their answer. \n",
    "\n",
    "<!-- ::: -->\n",
    "\n",
    "<!-- ::: -->\n",
    "\n",
    "<!-- ::: -->\n"
   ]
  },
  {
   "attachments": {},
   "cell_type": "markdown",
   "metadata": {},
   "source": [
    "## Feedback\n",
    "\n",
    "<iframe class=\"airtable-embed\" src=\"https://airtable.com/embed/shrMinefzgKYW8eIA?backgroundColor=purple\" frameborder=\"0\" onmousewheel=\"\" width=\"100%\" height=\"533\" style=\"background: transparent; border: 1px solid #ccc;\"></iframe>"
   ]
  },
  {
   "attachments": {},
   "cell_type": "markdown",
   "metadata": {},
   "source": [
    "**[Try out Quantum Enigma 003](/problem-sets/quantum_enigma_003/overview)**"
   ]
  }
 ],
 "metadata": {
  "kernelspec": {
   "display_name": "Python 3",
   "language": "python",
   "name": "python3"
  },
  "language_info": {
   "codemirror_mode": {
    "name": "ipython",
    "version": 3
   },
   "file_extension": ".py",
   "mimetype": "text/x-python",
   "name": "python",
   "nbconvert_exporter": "python",
   "pygments_lexer": "ipython3",
   "version": "3.9"
  }
 },
 "nbformat": 4,
 "nbformat_minor": 4
}
