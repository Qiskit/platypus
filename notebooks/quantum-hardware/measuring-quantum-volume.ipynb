{
 "cells": [
  {
   "cell_type": "markdown",
   "metadata": {
    "tags": [
     "remove_cell"
    ]
   },
   "source": [
    "# Measuring Quantum Volume\n",
    "\n",
    "![hero:quantum volume](images/quantum_volume.png)\n"
   ]
  },
  {
   "cell_type": "markdown",
   "metadata": {
    "gloss": {
     "quantum-advantage": {
      "text": "Quantum advantage is a term used to refer to the ability for a quantum computer to perform computations beyond that which a classical computer can perform.",
      "title": "quantum advantage"
     },
     "transpiler": {
      "text": "A transpiler converts a quantum circuit to run on a particular quantum device. This conversion process may require converting the gates in the circuit to gates supported by the device, and adding swap gates if certain qubits in the device cannot interact with eachother.",
      "title": "transpiler"
     }
    }
   },
   "source": [
    "## Why quantum volume?\n",
    "\n",
    "Comparing different quantum computers is not an easy task. There are many different factors that affect the performance of a quantum computer and it’s not always clear which factors will have the biggest effect when doing useful quantum computations.\n",
    "\n",
    "Say you were designing your quantum computer: Would you trade higher fidelity gates (with less errors) for reduced qubit connectivity (requiring longer circuits)? Maybe you have a great [transpiler](gloss:transpiler) that can organise the swaps so reduced connectivity isn’t as much of an issue. Or maybe the readout errors are so high that any improvement in gate fidelity is negligible anyway? We can add each of these statistics to our quantum computer scorecard, but the exact importance of each element is up for debate. Even if we manage to score highly at each individual metric, there could still be other unforeseen problems that arise when running quantum circuits.\n",
    "\n",
    "One thing is certain, to achieve a [quantum advantage](gloss:quantum-advantage), we need many qubits, and the ability to manipulate them precisely . If we don't have enough qubits, we can't do any useful computations, and if these qubits are not precise or reliable enough, then our measurements will be meaningless."
   ]
  },
  {
   "cell_type": "markdown",
   "metadata": {
    "goals": [
     {
      "click": "true",
      "id": "tabclicked2",
      "selector": ".tabs .titles > h3:nth-child(2)"
     },
     {
      "click": "true",
      "id": "tabclicked3",
      "selector": ".tabs .titles > h3:nth-child(3)"
     },
     {
      "click": "true",
      "id": "tabclicked4",
      "selector": ".tabs .titles > h3:nth-child(4)"
     },
     {
      "click": "true",
      "id": "tabclicked5",
      "selector": ".tabs .titles > h3:nth-child(5)"
     }
    ]
   },
   "source": [
    "<!-- ::: q-block.tabs -->\n",
    "\n",
    "## What affects computing power?\n",
    "\n",
    "\n",
    "<!-- ::: tab -->\n",
    "\n",
    "### Qubit count\n",
    "\n",
    "<!-- ::: column(width=350) -->\n",
    "\n",
    "**Number of qubits (more is better)**\n",
    "\n",
    "The number of qubits in our quantum computer sets an upper limit on the power of the computations it can do. To gain advantage over classical computers, we want to be able to entangle as many qubits as possible.\n",
    "\n",
    "<!-- ::: column(width=250) -->\n",
    "\n",
    "<img src=\"images/qubit_count.png\" width=\"195\"/>\n",
    "    \n",
    "<!-- ::: -->\n",
    "\n",
    "<!-- ::: tab -->\n",
    "\n",
    "### Readout errors\n",
    "\n",
    "<!-- ::: column(width=350) -->\n",
    "\n",
    "**Gate and readout errors (less is better)**\n",
    "\n",
    "As mentioned above, the errors in our quantum computer also set an upper limit on the power of our quantum computer. If we can’t reliably manipulate our quantum states, then we’re not going to get meaningful results from our quantum computer.\n",
    "\n",
    "<!-- ::: column(width=250) -->\n",
    "    \n",
    "<img src=\"images/readout_errors.png\" width=\"195\"/>\n",
    "    \n",
    "<!-- ::: -->\n",
    "\n",
    "<!-- ::: tab -->\n",
    "\n",
    "### Connectivity\n",
    "\n",
    "<!-- ::: column(width=350) -->\n",
    "\n",
    "**Qubit-Qubit connectivity (more is better)**\n",
    "\n",
    "If two qubits cannot communicate directly, we need to add extra ‘swap’ gates to move them to the right place, increasing the length of our computation. Quantum volume circuits assume full connectivity, so if you need to insert extra swap gates, that’s on you!\n",
    "\n",
    "<!-- ::: column(width=250) -->\n",
    "\n",
    "<img src=\"images/connectivity.png\" width=\"195\"/>\n",
    "    \n",
    "<!-- ::: -->\n",
    "\n",
    "<!-- ::: tab -->\n",
    "\n",
    "### Gate set\n",
    "\n",
    "<!-- ::: column(width=350) -->\n",
    "\n",
    "**Gate set (larger / more powerful is better)**\n",
    "\n",
    "Quantum volume asks for random two-qubit gates, but working out how to implement them is also on you. If your hardware supports more gates, you’re more likely to get decent results.\n",
    "\n",
    "<!-- ::: column(width=250) -->\n",
    "\n",
    "<img src=\"images/gate_set.png\" width=\"195\"/>\n",
    "    \n",
    "<!-- ::: -->\n",
    "\n",
    "<!-- ::: tab -->\n",
    "\n",
    "### Software stack\n",
    "\n",
    "<!-- ::: column(width=350) -->\n",
    "\n",
    "**Compilers and software stack (more intelligent is better)**\n",
    "    \n",
    "Some other problems (inserting extra swap gates, creating the specified gates from your available gate set, and dealing with noise) can be mitigated using intelligent classical software such as the transpiler.\n",
    "\n",
    "<!-- ::: column(width=250) -->\n",
    "\n",
    "<img src=\"images/software_stack.png\" width=\"195\"/>\n",
    "    \n",
    "<!-- ::: -->\n",
    "\n",
    "<!-- ::: -->\n",
    "\n",
    "<!-- ::: -->\n"
   ]
  },
  {
   "cell_type": "markdown",
   "metadata": {},
   "source": [
    "This is where quantum volume comes in. Quantum volume is a _holistic_ benchmark. Instead of looking at the details, we simply measure how good the quantum computer is at doing the thing we want it to do: running quantum circuits. The quantum volume test creates randomized circuits to a specification, and the ‘score’ of the quantum computer increases with the size of the circuit it can reliably run.\n",
    "\n",
    "In this chapter, we will learn:\n",
    "\n",
    "1.\tWhat quantum volume is.\n",
    "2.\tHow to create a random square circuit.\n",
    "3.\tHow to see if a device can achieve a certain quantum volume.\n",
    "4.\tHow to use Qiskit’s tools to make this easier for us."
   ]
  },
  {
   "cell_type": "markdown",
   "metadata": {
    "gloss": {
     "depth": {
      "text": "If each gate takes one time step to execute, the depth is the shortest number of timesteps the circuit can be carried out in.",
      "title": "depth"
     },
     "width": {
      "text": "The number of qubits in the circuit.",
      "title": "width"
     }
    }
   },
   "source": [
    "## What is Quantum Volume?\n",
    "\n",
    "Quantum volume (QV) is a single-number metric used to measure the power of a quantum computer. It’s used for near-term devices with a modest number of qubits, and measures the largest random circuit of equal [width](gloss:width) and [depth](gloss:depth) that can be reliably run."
   ]
  },
  {
   "cell_type": "markdown",
   "metadata": {
    "goals": [
     {
      "id": "wiqv-explored"
     }
    ]
   },
   "source": [
    "<!-- ::: q-block -->\n",
    "\n",
    "## Visual demo\n",
    "\n",
    "\n",
    "    q-what-is-quantum-volume(goal=\"wiqv-explored\")\n",
    "\n",
    "<!-- ::: -->\n"
   ]
  },
  {
   "cell_type": "markdown",
   "metadata": {},
   "source": [
    "## The Quantum Volume Protocol\n",
    "\n",
    "### Overview\n",
    "\n",
    "To perform the quantum volume benchmark, we first create a bunch of circuits of size $d$. We then simulate the circuits and record the most likely outputs for each. We run these same circuits on the device we’re testing and see how regularly the outputs match those we simulated. If the device produces good enough results, we increase d and start over. The quantum volume of the device is 2 to the power of the largest circuit size our device can produce acceptable results for.\n",
    "\n",
    "\n",
    "<div class=\"qv-overview\">\n",
    "\n",
    "<!-- ::: column(width=25) -->\n",
    "\n",
    "## 1.\n",
    "\n",
    "<!-- ::: column(width=100) -->\n",
    "\n",
    "![test](images/overview-1.png)\n",
    "\n",
    "<!-- ::: column.grow -->\n",
    "\n",
    "Create a set of random circuits of width and depth $d$.\n",
    "\n",
    "<!-- ::: -->\n",
    "\n",
    "\n",
    "<!-- ::: column(width=25) -->\n",
    "\n",
    "## 2.\n",
    "\n",
    "<!-- ::: column(width=100) -->\n",
    "\n",
    "![test](images/overview-2.png)\n",
    "\n",
    "<!-- ::: column.grow -->\n",
    "\n",
    "Simulate the circuits and record which outputs are most likely.\n",
    "\n",
    "<!-- ::: -->\n",
    "\n",
    "\n",
    "<!-- ::: column(width=25) -->\n",
    "\n",
    "## 3.\n",
    "\n",
    "<!-- ::: column(width=100) -->\n",
    "\n",
    "![test](images/overview-3.png)\n",
    "\n",
    "<!-- ::: column.grow -->\n",
    "\n",
    "Run the circuits on the device we’re testing and record the results.\n",
    "\n",
    "<!-- ::: -->\n",
    "\n",
    "\n",
    "<!-- ::: column(width=25) -->\n",
    "\n",
    "## 4.\n",
    "\n",
    "<!-- ::: column(width=100) -->\n",
    "\n",
    "![test](images/overview-4.png)\n",
    "\n",
    "<!-- ::: column.grow -->\n",
    "\n",
    "If the device results are statically close enough to the simulation results, increase $d$ and go to step one. Repeat until failure.\n",
    "\n",
    "<!-- ::: -->\n",
    "\n",
    "\n",
    "<!-- ::: column(width=25) -->\n",
    "\n",
    "## 5.\n",
    "\n",
    "<!-- ::: column(width=100) -->\n",
    "\n",
    "![test](images/overview-5.png)\n",
    "\n",
    "<!-- ::: column.grow -->\n",
    "\n",
    "The quantum volume is $ 2^{d_{\\text{max}}} $, where $d_{\\text{max}}$ is the width and depth of the largest circuit our device can successfully run.\n",
    "\n",
    "<!-- ::: -->\n",
    "\n",
    "</div>\n",
    "\n"
   ]
  },
  {
   "cell_type": "markdown",
   "metadata": {
    "gloss": {
     "depth": {
      "text": "If each gate takes one time step to execute, the depth is the shortest number of timesteps the circuit can be carried out in.",
      "title": "depth"
     },
     "permutation": {
      "text": "A permutation of a set is an ordering of its elements.",
      "title": "permutation"
     },
     "unitarygates": {
      "text": "A unitary gate is a reversible, quantum operation.",
      "title": "unitary gates"
     },
     "width": {
      "text": "The number of qubits in the circuit.",
      "title": "width"
     }
    }
   },
   "source": [
    "## Square circuits\n",
    "\n",
    "A square circuit is a circuit of equal [width](gloss:width) and [depth](gloss:depth). This roughly approximates the kind of circuits we will want to run on a general-purpose quantum computer, and since the depth and width are equal, they can be defined by a single number.\n",
    "\n",
    "We know we can build our quantum algorithms with quantum circuits using a polynomial number of two-qubit [unitary gates](gloss:unitarygates). The model we choose has layers of random [permutations](gloss:permutation) of the qubit labels, followed by randomly specified two-qubits gates. When we have an odd number of qubits, one of the qubits is idle in each layer.\n",
    "\n",
    "These random circuits more closely approximate the circuits found in near term quantum algorithms than the circuits found in some more traditional algorithms.\n"
   ]
  },
  {
   "cell_type": "markdown",
   "metadata": {},
   "source": [
    "<!-- ::: q-block -->\n",
    "\n",
    "## Square circuit demo\n",
    "\n",
    "### Layers and Unitaries\n",
    "\n",
    "Click on any of the layers to see examples of gates inside of each layer. Each layer affects each qubit exactly once, and all the unitary gates in a layer can be run in parallel (assuming the device has full qubit connectivity).\n",
    "\n",
    "    q-layers-circuit\n",
    "    \n",
    "<!--\n",
    "    div(data-vue-mount)\n",
    "        layers-circuit(layers=3 lines=3 :gates-inspection=\"[ [{ q1: 0, q2: 1 }, { q1: 1, q2: 2 }],[{ q1: 0, q2: 1 }, { q1: 0, q2: 1 }],[{ q1: 1, q2: 2 }, { q1: 0, q2: 1 }] ]\")\n",
    "-->\n",
    "\n",
    "<!-- ![vue:layers-circuit](images/layers_unitary.png) -->\n",
    "\n",
    "<!-- ::: -->\n"
   ]
  },
  {
   "cell_type": "markdown",
   "metadata": {},
   "source": [
    "### Creating a square circuit\n",
    "\n",
    "To start, let’s have a go at creating our own random, square circuit. The first thing we need to do is decide which qubits our circuit is going to act on. When measuring quantum volume, we can choose whichever qubits on our device we think will give us the best results. Here I’m choosing the first five qubits of an imaginary device. This means our circuit’s depth and width will both be five.\n"
   ]
  },
  {
   "cell_type": "code",
   "execution_count": 1,
   "metadata": {},
   "outputs": [],
   "source": [
    "qubit_list = [0,1,2,3,4]\n",
    "# width == depth (we'll call it 'SIZE')\n",
    "SIZE = len(qubit_list)"
   ]
  },
  {
   "cell_type": "markdown",
   "metadata": {},
   "source": [
    "Next, we need a way to create our random 2-qubit gates. Qiskit provides a tool, <code>random_unitary</code> that creates a random $n\\times n$ unitary operator for us. This function could generate any unitary, two-qubit operation possible."
   ]
  },
  {
   "cell_type": "code",
   "execution_count": 2,
   "metadata": {},
   "outputs": [
    {
     "data": {
      "text/plain": [
       "Operator([[-0.12377603-0.68897299j, -0.218873  +0.47176919j,\n",
       "            0.07875788+0.07232443j, -0.43088792+0.20597601j],\n",
       "          [ 0.25423437-0.39525746j,  0.22146405-0.30621769j,\n",
       "            0.6308931 +0.2556745j ,  0.36483019+0.19956003j],\n",
       "          [-0.19712174+0.3778275j , -0.07267999+0.29589374j,\n",
       "            0.6169937 +0.33072014j, -0.22409669-0.43043879j],\n",
       "          [-0.31366346-0.09558643j,  0.22089657-0.66714471j,\n",
       "           -0.04553577+0.18176983j, -0.60091011-0.04893233j]],\n",
       "         input_dims=(2, 2), output_dims=(2, 2))"
      ]
     },
     "execution_count": 2,
     "metadata": {},
     "output_type": "execute_result"
    }
   ],
   "source": [
    "from qiskit.quantum_info import random_unitary\n",
    "random_unitary(4)"
   ]
  },
  {
   "cell_type": "markdown",
   "metadata": {},
   "source": [
    "We can use this to create a single layer of our random, square circuit:"
   ]
  },
  {
   "cell_type": "code",
   "execution_count": 3,
   "metadata": {},
   "outputs": [
    {
     "data": {
      "image/svg+xml": [
       "<?xml version=\"1.0\" encoding=\"UTF-8\"?><!DOCTYPE svg  PUBLIC '-//W3C//DTD SVG 1.1//EN'  'http://www.w3.org/Graphics/SVG/1.1/DTD/svg11.dtd'><svg width=\"170.68pt\" height=\"259.84pt\" version=\"1.1\" viewBox=\"0 0 170.68 259.84\" xmlns=\"http://www.w3.org/2000/svg\" xmlns:xlink=\"http://www.w3.org/1999/xlink\"><defs><style type=\"text/css\">*{stroke-linecap:butt;stroke-linejoin:round;}</style></defs><path d=\"m-0 259.84h170.68v-259.84h-170.68z\" fill=\"#ffffff\"/><path d=\"m63.491 43.561h95.447\" clip-path=\"url(#p5548b5b85f)\" fill=\"none\" stroke=\"#000000\" stroke-linecap=\"square\" stroke-width=\"2\"/><path d=\"m63.491 89.012h95.447\" clip-path=\"url(#p5548b5b85f)\" fill=\"none\" stroke=\"#000000\" stroke-linecap=\"square\" stroke-width=\"2\"/><path d=\"m63.491 134.46h95.447\" clip-path=\"url(#p5548b5b85f)\" fill=\"none\" stroke=\"#000000\" stroke-linecap=\"square\" stroke-width=\"2\"/><path d=\"m63.491 179.91h95.447\" clip-path=\"url(#p5548b5b85f)\" fill=\"none\" stroke=\"#000000\" stroke-linecap=\"square\" stroke-width=\"2\"/><path d=\"m63.491 225.36h95.447\" clip-path=\"url(#p5548b5b85f)\" fill=\"none\" stroke=\"#000000\" stroke-linecap=\"square\" stroke-width=\"2\"/><path d=\"m81.699 103.78h58.123v-74.994h-58.123z\" clip-path=\"url(#p5548b5b85f)\" fill=\"#bb8bff\" stroke=\"#bb8bff\" stroke-width=\"1.5\"/><path d=\"m81.699 194.69h58.123v-74.994h-58.123z\" clip-path=\"url(#p5548b5b85f)\" fill=\"#bb8bff\" stroke=\"#bb8bff\" stroke-width=\"1.5\"/><g clip-path=\"url(#p5548b5b85f)\"><defs><path id=\"DejaVuSans-48\" d=\"m31.781 66.406q-7.6094 0-11.453-7.5-3.8281-7.4844-3.8281-22.531 0-14.984 3.8281-22.484 3.8438-7.5 11.453-7.5 7.6719 0 11.5 7.5 3.8438 7.5 3.8438 22.484 0 15.047-3.8438 22.531-3.8281 7.5-11.5 7.5zm0 7.8125q12.266 0 18.734-9.7031 6.4688-9.6875 6.4688-28.141 0-18.406-6.4688-28.109-6.4688-9.6875-18.734-9.6875-12.25 0-18.719 9.6875-6.4688 9.7031-6.4688 28.109 0 18.453 6.4688 28.141 6.4688 9.7031 18.719 9.7031z\"/></defs><g transform=\"translate(84.88 47.148) scale(.13 -.13)\"><use xlink:href=\"#DejaVuSans-48\"/></g></g><g clip-path=\"url(#p5548b5b85f)\"><defs><path id=\"DejaVuSans-49\" d=\"m12.406 8.2969h16.109v55.625l-17.531-3.5156v8.9844l17.438 3.5156h9.8594v-64.609h16.109v-8.2969h-41.984z\"/></defs><g transform=\"translate(84.88 92.599) scale(.13 -.13)\"><use xlink:href=\"#DejaVuSans-49\"/></g></g><g clip-path=\"url(#p5548b5b85f)\"><defs><path id=\"DejaVuSans-117\" d=\"m8.5 21.578v33.109h8.9844v-32.766q0-7.7656 3.0156-11.656 3.0312-3.875 9.0938-3.875 7.2656 0 11.484 4.6406 4.2344 4.6406 4.2344 12.656v31h8.9844v-54.688h-8.9844v8.4062q-3.2656-4.9844-7.5938-7.4062-4.3125-2.4219-10.031-2.4219-9.4219 0-14.312 5.8594-4.875 5.8594-4.875 17.141z\"/><path id=\"DejaVuSans-110\" d=\"m54.891 33.016v-33.016h-8.9844v32.719q0 7.7656-3.0312 11.609-3.0312 3.8594-9.0781 3.8594-7.2812 0-11.484-4.6406-4.2031-4.625-4.2031-12.641v-30.906h-9.0312v54.688h9.0312v-8.5q3.2344 4.9375 7.5938 7.375 4.375 2.4375 10.094 2.4375 9.4219 0 14.25-5.8281 4.8438-5.8281 4.8438-17.156z\"/><path id=\"DejaVuSans-105\" d=\"m9.4219 54.688h8.9844v-54.688h-8.9844zm0 21.297h8.9844v-11.391h-8.9844z\"/><path id=\"DejaVuSans-116\" d=\"m18.312 70.219v-15.531h18.5v-6.9844h-18.5v-29.688q0-6.6875 1.8281-8.5938t7.4531-1.9062h9.2188v-7.5156h-9.2188q-10.406 0-14.359 3.875-3.9531 3.8906-3.9531 14.141v29.688h-6.5938v6.9844h6.5938v15.531z\"/><path id=\"DejaVuSans-97\" d=\"m34.281 27.484q-10.891 0-15.094-2.4844t-4.2031-8.5q0-4.7812 3.1562-7.5938 3.1562-2.7969 8.5625-2.7969 7.4844 0 12 5.2969t4.5156 14.078v2zm17.922 3.7188v-31.203h-8.9844v8.2969q-3.0781-4.9688-7.6719-7.3438t-11.234-2.375q-8.3906 0-13.359 4.7188-4.9531 4.7188-4.9531 12.625 0 9.2188 6.1719 13.906 6.1875 4.6875 18.438 4.6875h12.609v0.89062q0 6.2031-4.0781 9.5938t-11.453 3.3906q-4.6875 0-9.1406-1.125-4.4375-1.125-8.5312-3.375v8.3125q4.9219 1.9062 9.5625 2.8438 4.6406 0.95312 9.0312 0.95312 11.875 0 17.734-6.1562 5.8594-6.1406 5.8594-18.641z\"/><path id=\"DejaVuSans-114\" d=\"m41.109 46.297q-1.5156 0.875-3.2969 1.2812-1.7812 0.42188-3.9219 0.42188-7.625 0-11.703-4.9531t-4.0781-14.234v-28.812h-9.0312v54.688h9.0312v-8.5q2.8438 4.9844 7.375 7.3906 4.5469 2.4219 11.047 2.4219 0.92188 0 2.0469-0.125 1.125-0.10938 2.4844-0.35938z\"/><path id=\"DejaVuSans-121\" d=\"m32.172-5.0781q-3.7969-9.7656-7.4219-12.734-3.6094-2.9844-9.6562-2.9844h-7.1875v7.5156h5.2812q3.7031 0 5.75 1.7656 2.0625 1.75 4.5469 8.2969l1.6094 4.0938-22.109 53.812h9.5156l17.094-42.766 17.094 42.766h9.5156z\"/></defs><g transform=\"translate(92.664 69.873) scale(.13 -.13)\"><use xlink:href=\"#DejaVuSans-117\"/><use x=\"63.378906\" xlink:href=\"#DejaVuSans-110\"/><use x=\"126.757812\" xlink:href=\"#DejaVuSans-105\"/><use x=\"154.541016\" xlink:href=\"#DejaVuSans-116\"/><use x=\"193.75\" xlink:href=\"#DejaVuSans-97\"/><use x=\"255.029297\" xlink:href=\"#DejaVuSans-114\"/><use x=\"296.142578\" xlink:href=\"#DejaVuSans-121\"/></g></g><g clip-path=\"url(#p5548b5b85f)\"><g transform=\"translate(84.88 138.05) scale(.13 -.13)\"><use xlink:href=\"#DejaVuSans-48\"/></g></g><g clip-path=\"url(#p5548b5b85f)\"><g transform=\"translate(84.88 183.5) scale(.13 -.13)\"><use xlink:href=\"#DejaVuSans-49\"/></g></g><g clip-path=\"url(#p5548b5b85f)\"><g transform=\"translate(92.664 160.78) scale(.13 -.13)\"><use xlink:href=\"#DejaVuSans-117\"/><use x=\"63.378906\" xlink:href=\"#DejaVuSans-110\"/><use x=\"126.757812\" xlink:href=\"#DejaVuSans-105\"/><use x=\"154.541016\" xlink:href=\"#DejaVuSans-116\"/><use x=\"193.75\" xlink:href=\"#DejaVuSans-97\"/><use x=\"255.029297\" xlink:href=\"#DejaVuSans-114\"/><use x=\"296.142578\" xlink:href=\"#DejaVuSans-121\"/></g></g><g clip-path=\"url(#p5548b5b85f)\"><defs><path id=\"DejaVuSans-Oblique-113\" d=\"m41.703 8.2031q-3.6094-4.7344-8.5312-7.1875-4.9062-2.4375-10.859-2.4375-8.2969 0-13.016 5.5938-4.7031 5.5938-4.7031 15.406 0 7.9062 2.9062 15.281t8.3281 13.234q3.5156 3.8125 8.0781 5.8594t9.5938 2.0469q6.0469 0 9.9531-2.3906t5.6719-7.2188l1.5625 8.2031h9.0312l-14.594-75.203h-9.0469zm-27.781 12.703q0-7.2344 3.0156-11.016 3.0312-3.7812 8.75-3.7812 8.5 0 14.5 8.125t6 19.75q0 7.0312-3.1094 10.766-3.0938 3.7344-8.8906 3.7344-4.25 0-7.875-1.9844-3.6094-1.9688-6.2969-5.7812-2.8281-4-4.4688-9.375-1.625-5.3594-1.625-10.438z\"/></defs><g transform=\"translate(36.363 48.012) scale(.1625 -.1625)\"><use xlink:href=\"#DejaVuSans-Oblique-113\"/><use transform=\"translate(63.477 -16.406) scale(.7)\" xlink:href=\"#DejaVuSans-48\"/></g></g><g clip-path=\"url(#p5548b5b85f)\"><g transform=\"translate(36.363 93.463) scale(.1625 -.1625)\"><use xlink:href=\"#DejaVuSans-Oblique-113\"/><use transform=\"translate(63.477 -16.406) scale(.7)\" xlink:href=\"#DejaVuSans-49\"/></g></g><g clip-path=\"url(#p5548b5b85f)\"><defs><path id=\"DejaVuSans-50\" d=\"m19.188 8.2969h34.422v-8.2969h-46.281v8.2969q5.6094 5.8125 15.297 15.594 9.7031 9.7969 12.188 12.641 4.7344 5.3125 6.6094 9 1.8906 3.6875 1.8906 7.25 0 5.8125-4.0781 9.4688-4.0781 3.6719-10.625 3.6719-4.6406 0-9.7969-1.6094-5.1406-1.6094-11-4.8906v9.9688q5.9531 2.3906 11.125 3.6094 5.1875 1.2188 9.4844 1.2188 11.328 0 18.062-5.6719 6.7344-5.6562 6.7344-15.125 0-4.5-1.6875-8.5312-1.6719-4.0156-6.125-9.4844-1.2188-1.4219-7.7656-8.1875-6.5312-6.7656-18.453-18.922z\"/></defs><g transform=\"translate(36.363 138.91) scale(.1625 -.1625)\"><use xlink:href=\"#DejaVuSans-Oblique-113\"/><use transform=\"translate(63.477 -16.406) scale(.7)\" xlink:href=\"#DejaVuSans-50\"/></g></g><g clip-path=\"url(#p5548b5b85f)\"><defs><path id=\"DejaVuSans-51\" d=\"m40.578 39.312q7.0781-1.5156 11.047-6.3125 3.9844-4.7812 3.9844-11.812 0-10.781-7.4219-16.703-7.4219-5.9062-21.094-5.9062-4.5781 0-9.4375 0.90625t-10.031 2.7188v9.5156q4.0938-2.3906 8.9688-3.6094 4.8906-1.2188 10.219-1.2188 9.2656 0 14.125 3.6562t4.8594 10.641q0 6.4531-4.5156 10.078-4.5156 3.6406-12.562 3.6406h-8.5v8.1094h8.8906q7.2656 0 11.125 2.9062t3.8594 8.375q0 5.6094-3.9844 8.6094-3.9688 3.0156-11.391 3.0156-4.0625 0-8.7031-0.89062-4.6406-0.875-10.203-2.7188v8.7812q5.625 1.5625 10.531 2.3438t9.25 0.78125q11.234 0 17.766-5.1094 6.5469-5.0938 6.5469-13.781 0-6.0625-3.4688-10.234t-9.8594-5.7812z\"/></defs><g transform=\"translate(36.363 184.36) scale(.1625 -.1625)\"><use xlink:href=\"#DejaVuSans-Oblique-113\"/><use transform=\"translate(63.477 -16.406) scale(.7)\" xlink:href=\"#DejaVuSans-51\"/></g></g><g clip-path=\"url(#p5548b5b85f)\"><defs><path id=\"DejaVuSans-52\" d=\"m37.797 64.312-24.906-38.922h24.906zm-2.5938 8.5938h12.406v-47.516h10.406v-8.2031h-10.406v-17.188h-9.8125v17.188h-32.906v9.5156z\"/></defs><g transform=\"translate(36.363 229.82) scale(.1625 -.1625)\"><use xlink:href=\"#DejaVuSans-Oblique-113\"/><use transform=\"translate(63.477 -16.406) scale(.7)\" xlink:href=\"#DejaVuSans-52\"/></g></g><defs><clipPath id=\"p5548b5b85f\"><rect x=\"7.2\" y=\"7.2\" width=\"156.28\" height=\"245.44\"/></clipPath></defs></svg>"
      ],
      "text/plain": [
       "<Figure size 206.997x325.08 with 1 Axes>"
      ]
     },
     "execution_count": 3,
     "metadata": {},
     "output_type": "execute_result"
    }
   ],
   "source": [
    "from qiskit import QuantumCircuit\n",
    "\n",
    "qv_layer = QuantumCircuit(SIZE)\n",
    "for pair in range(SIZE//2):  # number of pairs is SIZE/2\n",
    "    qubit_indices = qubit_list[pair*2:pair*2+2]\n",
    "    gate = random_unitary(4)\n",
    "    qv_layer.append(gate, qubit_indices)\n",
    "\n",
    "qv_layer.draw()"
   ]
  },
  {
   "cell_type": "markdown",
   "metadata": {},
   "source": [
    "Now we can create a layer from a list of qubits, all we need to do is randomly change the order of the qubits and repeat. Python has a built-in function to shuffle lists (note that this works ‘in place’, so the data `qubit_lists` refers to will change)."
   ]
  },
  {
   "cell_type": "code",
   "execution_count": 4,
   "metadata": {},
   "outputs": [
    {
     "data": {
      "text/plain": [
       "[2, 4, 1, 0, 3]"
      ]
     },
     "execution_count": 4,
     "metadata": {},
     "output_type": "execute_result"
    }
   ],
   "source": [
    "from random import shuffle\n",
    "shuffle(qubit_list)\n",
    "qubit_list"
   ]
  },
  {
   "cell_type": "markdown",
   "metadata": {},
   "source": [
    "<!-- ::: q-block.exercise -->\n",
    "\n",
    "## Exercise\n",
    "    \n",
    "Create a function, <code>random_square_circuit(n)</code> that takes an integer <code>n</code>, and returns a random <code>QuantumCircuit</code> with width and depth <code>n</code>, that could be used in a quantum volume experiment. You may use the code shown above in your solution.\n",
    "\n",
    "[Try in IBM Quantum Lab](https://quantum-computing.ibm.com/lab)\n",
    "\n",
    "<!-- ::: -->\n"
   ]
  },
  {
   "cell_type": "markdown",
   "metadata": {},
   "source": [
    "Qiskit also provides a function, <code>qv_circuits</code>, to create these circuits for us. We pass some lists of qubit indices, and an integer which tells <code>qv_circuits</code> how many random, square circuits we’d like to generate for each list of qubits. Here we’re going to give five different combinations of qubits, which will allow us to test up to a quantum volume of 64.\n",
    "\n",
    "The function, <code>qv_circuits</code>, returns two lists of quantum circuits, both identical except the first set of circuits all have measurements at the end, whereas the second set do not. The set including measurements is to be run on hardware, while the other is for use with simulators."
   ]
  },
  {
   "cell_type": "code",
   "execution_count": 5,
   "metadata": {},
   "outputs": [],
   "source": [
    "from qiskit.ignis.verification.quantum_volume import qv_circuits\n",
    "qubit_lists = [[0,1],          # Qubits used to test QV 4\n",
    "               [0,1,2],        # QV 8\n",
    "               [0,1,2,3],      # QV 16\n",
    "               [0,1,2,3,4],    # QV 32\n",
    "               [0,1,2,3,4,5]]  # QV 64\n",
    "NTRIALS = 100  # number of circuits to generate for each qubit list\n",
    "qv_qc_list, qv_qc_list_nomeas = qv_circuits(qubit_lists, NTRIALS)"
   ]
  },
  {
   "cell_type": "markdown",
   "metadata": {},
   "source": [
    "Here is an example of a circuit created by <code>qv_circuits</code>. Note the circuits are organised by trial, then by qubit lists, so here we are seeing the 0th circuit generated for the 2nd entry in <code>qubit_lists</code>."
   ]
  },
  {
   "cell_type": "code",
   "execution_count": 6,
   "metadata": {},
   "outputs": [
    {
     "data": {
      "image/svg+xml": [
       "<?xml version=\"1.0\" encoding=\"UTF-8\"?><!DOCTYPE svg  PUBLIC '-//W3C//DTD SVG 1.1//EN'  'http://www.w3.org/Graphics/SVG/1.1/DTD/svg11.dtd'><svg width=\"716.1pt\" height=\"214.38pt\" version=\"1.1\" viewBox=\"0 0 716.1 214.38\" xmlns=\"http://www.w3.org/2000/svg\" xmlns:xlink=\"http://www.w3.org/1999/xlink\"><defs><style type=\"text/css\">*{stroke-linecap:butt;stroke-linejoin:round;}</style></defs><path d=\"m0 214.38h716.1v-214.38h-716.1z\" fill=\"#ffffff\"/><path d=\"m63.491 43.561h640.86\" clip-path=\"url(#p3ccd70542a)\" fill=\"none\" stroke=\"#000000\" stroke-linecap=\"square\" stroke-width=\"2\"/><path d=\"m63.491 89.012h640.86\" clip-path=\"url(#p3ccd70542a)\" fill=\"none\" stroke=\"#000000\" stroke-linecap=\"square\" stroke-width=\"2\"/><path d=\"m63.491 134.46h640.86\" clip-path=\"url(#p3ccd70542a)\" fill=\"none\" stroke=\"#000000\" stroke-linecap=\"square\" stroke-width=\"2\"/><path d=\"m63.491 179.91h640.86\" clip-path=\"url(#p3ccd70542a)\" fill=\"none\" stroke=\"#000000\" stroke-linecap=\"square\" stroke-width=\"2\"/><path d=\"m77.247 149.23h67.027v-120.45h-67.027z\" clip-path=\"url(#p3ccd70542a)\" fill=\"#bb8bff\" stroke=\"#bb8bff\" stroke-width=\"1.5\"/><path d=\"m168.2 194.69h66.931v-120.45h-66.931z\" clip-path=\"url(#p3ccd70542a)\" fill=\"#bb8bff\" stroke=\"#bb8bff\" stroke-width=\"1.5\"/><path d=\"m259.19 149.23h66.74v-74.994h-66.74z\" clip-path=\"url(#p3ccd70542a)\" fill=\"#bb8bff\" stroke=\"#bb8bff\" stroke-width=\"1.5\"/><path d=\"m350.1 194.69h66.74v-165.9h-66.74z\" clip-path=\"url(#p3ccd70542a)\" fill=\"#bb8bff\" stroke=\"#bb8bff\" stroke-width=\"1.5\"/><path d=\"m441 103.78h66.74v-74.994h-66.74z\" clip-path=\"url(#p3ccd70542a)\" fill=\"#bb8bff\" stroke=\"#bb8bff\" stroke-width=\"1.5\"/><path d=\"m440.9 194.69h66.931v-74.994h-66.931z\" clip-path=\"url(#p3ccd70542a)\" fill=\"#bb8bff\" stroke=\"#bb8bff\" stroke-width=\"1.5\"/><path d=\"m531.8 149.23h66.931v-120.45h-66.931z\" clip-path=\"url(#p3ccd70542a)\" fill=\"#bb8bff\" stroke=\"#bb8bff\" stroke-width=\"1.5\"/><path d=\"m622.8 194.69h66.74v-120.45h-66.74z\" clip-path=\"url(#p3ccd70542a)\" fill=\"#bb8bff\" stroke=\"#bb8bff\" stroke-width=\"1.5\"/><g clip-path=\"url(#p3ccd70542a)\"><defs><path id=\"DejaVuSans-48\" d=\"m31.781 66.406q-7.6094 0-11.453-7.5-3.8281-7.4844-3.8281-22.531 0-14.984 3.8281-22.484 3.8438-7.5 11.453-7.5 7.6719 0 11.5 7.5 3.8438 7.5 3.8438 22.484 0 15.047-3.8438 22.531-3.8281 7.5-11.5 7.5zm0 7.8125q12.266 0 18.734-9.7031 6.4688-9.6875 6.4688-28.141 0-18.406-6.4688-28.109-6.4688-9.6875-18.734-9.6875-12.25 0-18.719 9.6875-6.4688 9.7031-6.4688 28.109 0 18.453 6.4688 28.141 6.4688 9.7031 18.719 9.7031z\"/></defs><g transform=\"translate(80.428 47.148) scale(.13 -.13)\"><use xlink:href=\"#DejaVuSans-48\"/></g></g><g clip-path=\"url(#p3ccd70542a)\"><defs><path id=\"DejaVuSans-49\" d=\"m12.406 8.2969h16.109v55.625l-17.531-3.5156v8.9844l17.438 3.5156h9.8594v-64.609h16.109v-8.2969h-41.984z\"/></defs><g transform=\"translate(80.428 138.05) scale(.13 -.13)\"><use xlink:href=\"#DejaVuSans-49\"/></g></g><g clip-path=\"url(#p3ccd70542a)\"><defs><path id=\"DejaVuSans-115\" d=\"m44.281 53.078v-8.5q-3.7969 1.9531-7.9062 2.9219-4.0938 0.98438-8.5 0.98438-6.6875 0-10.031-2.0469t-3.3438-6.1562q0-3.125 2.3906-4.9062t9.625-3.3906l3.0781-0.6875q9.5625-2.0469 13.594-5.7812t4.0312-10.422q0-7.625-6.0312-12.078-6.0312-4.4375-16.578-4.4375-4.3906 0-9.1562 0.85938t-10.031 2.5625v9.2812q4.9844-2.5938 9.8125-3.8906 4.8281-1.2812 9.5781-1.2812 6.3438 0 9.75 2.1719 3.4219 2.1719 3.4219 6.125 0 3.6562-2.4688 5.6094-2.4531 1.9531-10.812 3.7656l-3.125 0.73438q-8.3438 1.75-12.062 5.3906-3.7031 3.6406-3.7031 9.9844 0 7.7188 5.4688 11.906 5.4688 4.2031 15.531 4.2031 4.9688 0 9.3594-0.73438 4.4062-0.71875 8.1094-2.1875z\"/><path id=\"DejaVuSans-117\" d=\"m8.5 21.578v33.109h8.9844v-32.766q0-7.7656 3.0156-11.656 3.0312-3.875 9.0938-3.875 7.2656 0 11.484 4.6406 4.2344 4.6406 4.2344 12.656v31h8.9844v-54.688h-8.9844v8.4062q-3.2656-4.9844-7.5938-7.4062-4.3125-2.4219-10.031-2.4219-9.4219 0-14.312 5.8594-4.875 5.8594-4.875 17.141z\"/><path id=\"DejaVuSans-52\" d=\"m37.797 64.312-24.906-38.922h24.906zm-2.5938 8.5938h12.406v-47.516h10.406v-8.2031h-10.406v-17.188h-9.8125v17.188h-32.906v9.5156z\"/><path id=\"DejaVuSans-95\" d=\"m50.984-16.609v-6.9688h-51.969v6.9688z\"/><path id=\"DejaVuSans-55\" d=\"m8.2031 72.906h46.875v-4.2031l-26.469-68.703h-10.297l24.906 64.594h-35.016z\"/><path id=\"DejaVuSans-57\" d=\"m10.984 1.5156v8.9844q3.7188-1.7656 7.5156-2.6875 3.8125-0.92188 7.4844-0.92188 9.7656 0 14.906 6.5625 5.1562 6.5625 5.8906 19.953-2.8281-4.2031-7.1875-6.4531-4.3438-2.25-9.6094-2.25-10.938 0-17.312 6.6094-6.375 6.625-6.375 18.109 0 11.219 6.6406 18 6.6406 6.7969 17.672 6.7969 12.656 0 19.312-9.7031 6.6719-9.6875 6.6719-28.141 0-17.234-8.1875-27.516-8.1719-10.281-21.984-10.281-3.7188 0-7.5312 0.73438-3.7969 0.73438-7.9062 2.2031zm19.625 30.906q6.6406 0 10.516 4.5312 3.8906 4.5469 3.8906 12.469 0 7.8594-3.8906 12.422-3.875 4.5625-10.516 4.5625t-10.516-4.5625-3.875-12.422q0-7.9219 3.875-12.469 3.875-4.5312 10.516-4.5312z\"/><path id=\"DejaVuSans-53\" d=\"m10.797 72.906h38.719v-8.3125h-29.688v-17.859q2.1406 0.73438 4.2812 1.0938 2.1562 0.35938 4.3125 0.35938 12.203 0 19.328-6.6875 7.1406-6.6875 7.1406-18.109 0-11.766-7.3281-18.297-7.3281-6.5156-20.656-6.5156-4.5938 0-9.3594 0.78125-4.75 0.78125-9.8281 2.3438v9.9219q4.3906-2.3906 9.0781-3.5625t9.9062-1.1719q8.4531 0 13.375 4.4375 4.9375 4.4375 4.9375 12.062 0 7.6094-4.9375 12.047-4.9219 4.4531-13.375 4.4531-3.9531 0-7.8906-0.875-3.9219-0.875-8.0156-2.7344z\"/></defs><g transform=\"translate(88.462 92.303) scale(.13 -.13)\"><use xlink:href=\"#DejaVuSans-115\"/><use x=\"52.099609\" xlink:href=\"#DejaVuSans-117\"/><use x=\"115.478516\" xlink:href=\"#DejaVuSans-52\"/><use x=\"179.101562\" xlink:href=\"#DejaVuSans-95\"/><use x=\"229.101562\" xlink:href=\"#DejaVuSans-55\"/><use x=\"292.724609\" xlink:href=\"#DejaVuSans-57\"/><use x=\"356.347656\" xlink:href=\"#DejaVuSans-53\"/></g></g><g clip-path=\"url(#p3ccd70542a)\"><g transform=\"translate(171.38 92.599) scale(.13 -.13)\"><use xlink:href=\"#DejaVuSans-48\"/></g></g><g clip-path=\"url(#p3ccd70542a)\"><g transform=\"translate(171.38 183.5) scale(.13 -.13)\"><use xlink:href=\"#DejaVuSans-49\"/></g></g><g clip-path=\"url(#p3ccd70542a)\"><defs><path id=\"DejaVuSans-54\" d=\"m33.016 40.375q-6.6406 0-10.531-4.5469-3.875-4.5312-3.875-12.438 0-7.8594 3.875-12.438 3.8906-4.5625 10.531-4.5625t10.516 4.5625q3.875 4.5781 3.875 12.438 0 7.9062-3.875 12.438-3.875 4.5469-10.516 4.5469zm19.578 30.922v-8.9844q-3.7188 1.75-7.5 2.6719-3.7812 0.9375-7.5 0.9375-9.7656 0-14.922-6.5938-5.1406-6.5938-5.875-19.922 2.875 4.25 7.2188 6.5156 4.3594 2.2656 9.5781 2.2656 10.984 0 17.359-6.6719 6.375-6.6562 6.375-18.125 0-11.234-6.6406-18.031-6.6406-6.7812-17.672-6.7812-12.656 0-19.344 9.6875-6.6875 9.7031-6.6875 28.109 0 17.281 8.2031 27.562t22.016 10.281q3.7188 0 7.5-0.73438t7.8906-2.1875z\"/></defs><g transform=\"translate(179.36 137.75) scale(.13 -.13)\"><use xlink:href=\"#DejaVuSans-115\"/><use x=\"52.099609\" xlink:href=\"#DejaVuSans-117\"/><use x=\"115.478516\" xlink:href=\"#DejaVuSans-52\"/><use x=\"179.101562\" xlink:href=\"#DejaVuSans-95\"/><use x=\"229.101562\" xlink:href=\"#DejaVuSans-52\"/><use x=\"292.724609\" xlink:href=\"#DejaVuSans-54\"/><use x=\"356.347656\" xlink:href=\"#DejaVuSans-53\"/></g></g><g clip-path=\"url(#p3ccd70542a)\"><g transform=\"translate(262.38 92.599) scale(.13 -.13)\"><use xlink:href=\"#DejaVuSans-48\"/></g></g><g clip-path=\"url(#p3ccd70542a)\"><g transform=\"translate(262.38 138.05) scale(.13 -.13)\"><use xlink:href=\"#DejaVuSans-49\"/></g></g><g clip-path=\"url(#p3ccd70542a)\"><defs><path id=\"DejaVuSans-56\" d=\"m31.781 34.625q-7.0312 0-11.062-3.7656-4.0156-3.7656-4.0156-10.344 0-6.5938 4.0156-10.359 4.0312-3.7656 11.062-3.7656t11.078 3.7812q4.0625 3.7969 4.0625 10.344 0 6.5781-4.0312 10.344-4.0156 3.7656-11.109 3.7656zm-9.8594 4.1875q-6.3438 1.5625-9.8906 5.9062-3.5312 4.3594-3.5312 10.609 0 8.7344 6.2188 13.812 6.2344 5.0781 17.062 5.0781 10.891 0 17.094-5.0781t6.2031-13.812q0-6.25-3.5469-10.609-3.5312-4.3438-9.8281-5.9062 7.125-1.6562 11.094-6.5 3.9844-4.8281 3.9844-11.797 0-10.609-6.4688-16.281-6.4688-5.6562-18.531-5.6562-12.047 0-18.531 5.6562-6.4688 5.6719-6.4688 16.281 0 6.9688 4 11.797 4.0156 4.8438 11.141 6.5zm-3.6094 15.578q0-5.6562 3.5312-8.8281 3.5469-3.1719 9.9375-3.1719 6.3594 0 9.9375 3.1719 3.5938 3.1719 3.5938 8.8281 0 5.6719-3.5938 8.8438-3.5781 3.1719-9.9375 3.1719-6.3906 0-9.9375-3.1719-3.5312-3.1719-3.5312-8.8438z\"/></defs><g transform=\"translate(270.27 115.03) scale(.13 -.13)\"><use xlink:href=\"#DejaVuSans-115\"/><use x=\"52.099609\" xlink:href=\"#DejaVuSans-117\"/><use x=\"115.478516\" xlink:href=\"#DejaVuSans-52\"/><use x=\"179.101562\" xlink:href=\"#DejaVuSans-95\"/><use x=\"229.101562\" xlink:href=\"#DejaVuSans-49\"/><use x=\"292.724609\" xlink:href=\"#DejaVuSans-56\"/><use x=\"356.347656\" xlink:href=\"#DejaVuSans-49\"/></g></g><g clip-path=\"url(#p3ccd70542a)\"><g transform=\"translate(353.28 183.5) scale(.13 -.13)\"><use xlink:href=\"#DejaVuSans-48\"/></g></g><g clip-path=\"url(#p3ccd70542a)\"><g transform=\"translate(353.28 47.148) scale(.13 -.13)\"><use xlink:href=\"#DejaVuSans-49\"/></g></g><g clip-path=\"url(#p3ccd70542a)\"><g transform=\"translate(361.17 115.03) scale(.13 -.13)\"><use xlink:href=\"#DejaVuSans-115\"/><use x=\"52.099609\" xlink:href=\"#DejaVuSans-117\"/><use x=\"115.478516\" xlink:href=\"#DejaVuSans-52\"/><use x=\"179.101562\" xlink:href=\"#DejaVuSans-95\"/><use x=\"229.101562\" xlink:href=\"#DejaVuSans-54\"/><use x=\"292.724609\" xlink:href=\"#DejaVuSans-54\"/><use x=\"356.347656\" xlink:href=\"#DejaVuSans-49\"/></g></g><g clip-path=\"url(#p3ccd70542a)\"><g transform=\"translate(444.18 92.599) scale(.13 -.13)\"><use xlink:href=\"#DejaVuSans-48\"/></g></g><g clip-path=\"url(#p3ccd70542a)\"><g transform=\"translate(444.18 47.148) scale(.13 -.13)\"><use xlink:href=\"#DejaVuSans-49\"/></g></g><g clip-path=\"url(#p3ccd70542a)\"><g transform=\"translate(452.07 69.578) scale(.13 -.13)\"><use xlink:href=\"#DejaVuSans-115\"/><use x=\"52.099609\" xlink:href=\"#DejaVuSans-117\"/><use x=\"115.478516\" xlink:href=\"#DejaVuSans-52\"/><use x=\"179.101562\" xlink:href=\"#DejaVuSans-95\"/><use x=\"229.101562\" xlink:href=\"#DejaVuSans-55\"/><use x=\"292.724609\" xlink:href=\"#DejaVuSans-48\"/><use x=\"356.347656\" xlink:href=\"#DejaVuSans-54\"/></g></g><g clip-path=\"url(#p3ccd70542a)\"><g transform=\"translate(444.08 183.5) scale(.13 -.13)\"><use xlink:href=\"#DejaVuSans-48\"/></g></g><g clip-path=\"url(#p3ccd70542a)\"><g transform=\"translate(444.08 138.05) scale(.13 -.13)\"><use xlink:href=\"#DejaVuSans-49\"/></g></g><g clip-path=\"url(#p3ccd70542a)\"><g transform=\"translate(452.07 160.48) scale(.13 -.13)\"><use xlink:href=\"#DejaVuSans-115\"/><use x=\"52.099609\" xlink:href=\"#DejaVuSans-117\"/><use x=\"115.478516\" xlink:href=\"#DejaVuSans-52\"/><use x=\"179.101562\" xlink:href=\"#DejaVuSans-95\"/><use x=\"229.101562\" xlink:href=\"#DejaVuSans-52\"/><use x=\"292.724609\" xlink:href=\"#DejaVuSans-52\"/><use x=\"356.347656\" xlink:href=\"#DejaVuSans-54\"/></g></g><g clip-path=\"url(#p3ccd70542a)\"><g transform=\"translate(534.99 47.148) scale(.13 -.13)\"><use xlink:href=\"#DejaVuSans-48\"/></g></g><g clip-path=\"url(#p3ccd70542a)\"><g transform=\"translate(534.99 138.05) scale(.13 -.13)\"><use xlink:href=\"#DejaVuSans-49\"/></g></g><g clip-path=\"url(#p3ccd70542a)\"><g transform=\"translate(542.97 92.303) scale(.13 -.13)\"><use xlink:href=\"#DejaVuSans-115\"/><use x=\"52.099609\" xlink:href=\"#DejaVuSans-117\"/><use x=\"115.478516\" xlink:href=\"#DejaVuSans-52\"/><use x=\"179.101562\" xlink:href=\"#DejaVuSans-95\"/><use x=\"229.101562\" xlink:href=\"#DejaVuSans-52\"/><use x=\"292.724609\" xlink:href=\"#DejaVuSans-52\"/><use x=\"356.347656\" xlink:href=\"#DejaVuSans-54\"/></g></g><g clip-path=\"url(#p3ccd70542a)\"><g transform=\"translate(625.98 92.599) scale(.13 -.13)\"><use xlink:href=\"#DejaVuSans-48\"/></g></g><g clip-path=\"url(#p3ccd70542a)\"><g transform=\"translate(625.98 183.5) scale(.13 -.13)\"><use xlink:href=\"#DejaVuSans-49\"/></g></g><g clip-path=\"url(#p3ccd70542a)\"><defs><path id=\"DejaVuSans-50\" d=\"m19.188 8.2969h34.422v-8.2969h-46.281v8.2969q5.6094 5.8125 15.297 15.594 9.7031 9.7969 12.188 12.641 4.7344 5.3125 6.6094 9 1.8906 3.6875 1.8906 7.25 0 5.8125-4.0781 9.4688-4.0781 3.6719-10.625 3.6719-4.6406 0-9.7969-1.6094-5.1406-1.6094-11-4.8906v9.9688q5.9531 2.3906 11.125 3.6094 5.1875 1.2188 9.4844 1.2188 11.328 0 18.062-5.6719 6.7344-5.6562 6.7344-15.125 0-4.5-1.6875-8.5312-1.6719-4.0156-6.125-9.4844-1.2188-1.4219-7.7656-8.1875-6.5312-6.7656-18.453-18.922z\"/></defs><g transform=\"translate(633.87 137.75) scale(.13 -.13)\"><use xlink:href=\"#DejaVuSans-115\"/><use x=\"52.099609\" xlink:href=\"#DejaVuSans-117\"/><use x=\"115.478516\" xlink:href=\"#DejaVuSans-52\"/><use x=\"179.101562\" xlink:href=\"#DejaVuSans-95\"/><use x=\"229.101562\" xlink:href=\"#DejaVuSans-54\"/><use x=\"292.724609\" xlink:href=\"#DejaVuSans-48\"/><use x=\"356.347656\" xlink:href=\"#DejaVuSans-50\"/></g></g><g clip-path=\"url(#p3ccd70542a)\"><defs><path id=\"DejaVuSans-Oblique-113\" d=\"m41.703 8.2031q-3.6094-4.7344-8.5312-7.1875-4.9062-2.4375-10.859-2.4375-8.2969 0-13.016 5.5938-4.7031 5.5938-4.7031 15.406 0 7.9062 2.9062 15.281t8.3281 13.234q3.5156 3.8125 8.0781 5.8594t9.5938 2.0469q6.0469 0 9.9531-2.3906t5.6719-7.2188l1.5625 8.2031h9.0312l-14.594-75.203h-9.0469zm-27.781 12.703q0-7.2344 3.0156-11.016 3.0312-3.7812 8.75-3.7812 8.5 0 14.5 8.125t6 19.75q0 7.0312-3.1094 10.766-3.0938 3.7344-8.8906 3.7344-4.25 0-7.875-1.9844-3.6094-1.9688-6.2969-5.7812-2.8281-4-4.4688-9.375-1.625-5.3594-1.625-10.438z\"/></defs><g transform=\"translate(36.363 48.012) scale(.1625 -.1625)\"><use xlink:href=\"#DejaVuSans-Oblique-113\"/><use transform=\"translate(63.477 -16.406) scale(.7)\" xlink:href=\"#DejaVuSans-48\"/></g></g><g clip-path=\"url(#p3ccd70542a)\"><g transform=\"translate(36.363 93.463) scale(.1625 -.1625)\"><use xlink:href=\"#DejaVuSans-Oblique-113\"/><use transform=\"translate(63.477 -16.406) scale(.7)\" xlink:href=\"#DejaVuSans-49\"/></g></g><g clip-path=\"url(#p3ccd70542a)\"><g transform=\"translate(36.363 138.91) scale(.1625 -.1625)\"><use xlink:href=\"#DejaVuSans-Oblique-113\"/><use transform=\"translate(63.477 -16.406) scale(.7)\" xlink:href=\"#DejaVuSans-50\"/></g></g><g clip-path=\"url(#p3ccd70542a)\"><defs><path id=\"DejaVuSans-51\" d=\"m40.578 39.312q7.0781-1.5156 11.047-6.3125 3.9844-4.7812 3.9844-11.812 0-10.781-7.4219-16.703-7.4219-5.9062-21.094-5.9062-4.5781 0-9.4375 0.90625t-10.031 2.7188v9.5156q4.0938-2.3906 8.9688-3.6094 4.8906-1.2188 10.219-1.2188 9.2656 0 14.125 3.6562t4.8594 10.641q0 6.4531-4.5156 10.078-4.5156 3.6406-12.562 3.6406h-8.5v8.1094h8.8906q7.2656 0 11.125 2.9062t3.8594 8.375q0 5.6094-3.9844 8.6094-3.9688 3.0156-11.391 3.0156-4.0625 0-8.7031-0.89062-4.6406-0.875-10.203-2.7188v8.7812q5.625 1.5625 10.531 2.3438t9.25 0.78125q11.234 0 17.766-5.1094 6.5469-5.0938 6.5469-13.781 0-6.0625-3.4688-10.234t-9.8594-5.7812z\"/></defs><g transform=\"translate(36.363 184.36) scale(.1625 -.1625)\"><use xlink:href=\"#DejaVuSans-Oblique-113\"/><use transform=\"translate(63.477 -16.406) scale(.7)\" xlink:href=\"#DejaVuSans-51\"/></g></g><defs><clipPath id=\"p3ccd70542a\"><rect x=\"7.2\" y=\"7.2\" width=\"701.7\" height=\"199.98\"/></clipPath></defs></svg>"
      ],
      "text/plain": [
       "<Figure size 929.397x264.88 with 1 Axes>"
      ]
     },
     "execution_count": 6,
     "metadata": {},
     "output_type": "execute_result"
    }
   ],
   "source": [
    "# .decompose() unrolls the circuit one level\n",
    "qv_qc_list_nomeas[0][2].decompose().draw()"
   ]
  },
  {
   "cell_type": "markdown",
   "metadata": {},
   "source": [
    "## Running the circuit\n",
    "\n",
    "So how do we know if the quantum circuit is being run correctly? The quantum volume protocol is run on a perfect simulator as well as the quantum device we’re testing. We can then compare the simulated results (what the quantum computer _should_ do) to the experimental results (what the quantum computer _actually does_).\n",
    "\n",
    "![quantum volume circuit](images/qv_device_v_sim.png)"
   ]
  },
  {
   "cell_type": "markdown",
   "metadata": {},
   "source": [
    "## What would an ideal quantum computer do?\n",
    "\n",
    "Each circuit has an ideal output distribution. The ideal output distribution is the results we’d see if we ran the circuit on a perfect quantum computer as the number of shots approaches infinity. We calculated this for each circuit using the state vector simulator above. Let’s look at the ideal output distribution for the first five-qubit circuit:\n"
   ]
  },
  {
   "cell_type": "code",
   "execution_count": 7,
   "metadata": {},
   "outputs": [
    {
     "data": {
      "image/svg+xml": [
       "<?xml version=\"1.0\" encoding=\"UTF-8\"?><!DOCTYPE svg  PUBLIC '-//W3C//DTD SVG 1.1//EN'  'http://www.w3.org/Graphics/SVG/1.1/DTD/svg11.dtd'><svg width=\"460.72pt\" height=\"339.69pt\" version=\"1.1\" viewBox=\"0 0 460.72 339.69\" xmlns=\"http://www.w3.org/2000/svg\" xmlns:xlink=\"http://www.w3.org/1999/xlink\"><defs><style type=\"text/css\">*{stroke-linecap:butt;stroke-linejoin:round;}</style></defs><path d=\"m0 339.69h460.72v-339.69h-460.72z\" fill=\"none\"/><path d=\"m62.921 279h390.6v-271.8h-390.6z\" fill=\"#ffffff\"/><defs><path id=\"mf25905e461\" d=\"m0 0v3.5\" stroke=\"#000000\" stroke-width=\".8\"/></defs><use x=\"83.493977\" y=\"279\" stroke=\"#000000\" stroke-width=\".8\" xlink:href=\"#mf25905e461\"/><defs><path id=\"DejaVuSans-48\" d=\"m31.781 66.406q-7.6094 0-11.453-7.5-3.8281-7.4844-3.8281-22.531 0-14.984 3.8281-22.484 3.8438-7.5 11.453-7.5 7.6719 0 11.5 7.5 3.8438 7.5 3.8438 22.484 0 15.047-3.8438 22.531-3.8281 7.5-11.5 7.5zm0 7.8125q12.266 0 18.734-9.7031 6.4688-9.6875 6.4688-28.141 0-18.406-6.4688-28.109-6.4688-9.6875-18.734-9.6875-12.25 0-18.719 9.6875-6.4688 9.7031-6.4688 28.109 0 18.453 6.4688 28.141 6.4688 9.7031 18.719 9.7031z\"/></defs><g transform=\"translate(79.508 331.49) rotate(-70) scale(.14 -.14)\"><use xlink:href=\"#DejaVuSans-48\"/><use x=\"63.623047\" xlink:href=\"#DejaVuSans-48\"/><use x=\"127.246094\" xlink:href=\"#DejaVuSans-48\"/><use x=\"190.869141\" xlink:href=\"#DejaVuSans-48\"/><use x=\"254.492188\" xlink:href=\"#DejaVuSans-48\"/></g><use x=\"94.766705\" y=\"279\" stroke=\"#000000\" stroke-width=\".8\" xlink:href=\"#mf25905e461\"/><defs><path id=\"DejaVuSans-49\" d=\"m12.406 8.2969h16.109v55.625l-17.531-3.5156v8.9844l17.438 3.5156h9.8594v-64.609h16.109v-8.2969h-41.984z\"/></defs><g transform=\"translate(90.78 331.49) rotate(-70) scale(.14 -.14)\"><use xlink:href=\"#DejaVuSans-48\"/><use x=\"63.623047\" xlink:href=\"#DejaVuSans-48\"/><use x=\"127.246094\" xlink:href=\"#DejaVuSans-48\"/><use x=\"190.869141\" xlink:href=\"#DejaVuSans-48\"/><use x=\"254.492188\" xlink:href=\"#DejaVuSans-49\"/></g><use x=\"106.039432\" y=\"279\" stroke=\"#000000\" stroke-width=\".8\" xlink:href=\"#mf25905e461\"/><g transform=\"translate(102.05 331.49) rotate(-70) scale(.14 -.14)\"><use xlink:href=\"#DejaVuSans-48\"/><use x=\"63.623047\" xlink:href=\"#DejaVuSans-48\"/><use x=\"127.246094\" xlink:href=\"#DejaVuSans-48\"/><use x=\"190.869141\" xlink:href=\"#DejaVuSans-49\"/><use x=\"254.492188\" xlink:href=\"#DejaVuSans-48\"/></g><use x=\"117.312159\" y=\"279\" stroke=\"#000000\" stroke-width=\".8\" xlink:href=\"#mf25905e461\"/><g transform=\"translate(113.33 331.49) rotate(-70) scale(.14 -.14)\"><use xlink:href=\"#DejaVuSans-48\"/><use x=\"63.623047\" xlink:href=\"#DejaVuSans-48\"/><use x=\"127.246094\" xlink:href=\"#DejaVuSans-48\"/><use x=\"190.869141\" xlink:href=\"#DejaVuSans-49\"/><use x=\"254.492188\" xlink:href=\"#DejaVuSans-49\"/></g><use x=\"128.584886\" y=\"279\" stroke=\"#000000\" stroke-width=\".8\" xlink:href=\"#mf25905e461\"/><g transform=\"translate(124.6 331.49) rotate(-70) scale(.14 -.14)\"><use xlink:href=\"#DejaVuSans-48\"/><use x=\"63.623047\" xlink:href=\"#DejaVuSans-48\"/><use x=\"127.246094\" xlink:href=\"#DejaVuSans-49\"/><use x=\"190.869141\" xlink:href=\"#DejaVuSans-48\"/><use x=\"254.492188\" xlink:href=\"#DejaVuSans-48\"/></g><use x=\"139.857614\" y=\"279\" stroke=\"#000000\" stroke-width=\".8\" xlink:href=\"#mf25905e461\"/><g transform=\"translate(135.87 331.49) rotate(-70) scale(.14 -.14)\"><use xlink:href=\"#DejaVuSans-48\"/><use x=\"63.623047\" xlink:href=\"#DejaVuSans-48\"/><use x=\"127.246094\" xlink:href=\"#DejaVuSans-49\"/><use x=\"190.869141\" xlink:href=\"#DejaVuSans-48\"/><use x=\"254.492188\" xlink:href=\"#DejaVuSans-49\"/></g><use x=\"151.130341\" y=\"279\" stroke=\"#000000\" stroke-width=\".8\" xlink:href=\"#mf25905e461\"/><g transform=\"translate(147.14 331.49) rotate(-70) scale(.14 -.14)\"><use xlink:href=\"#DejaVuSans-48\"/><use x=\"63.623047\" xlink:href=\"#DejaVuSans-48\"/><use x=\"127.246094\" xlink:href=\"#DejaVuSans-49\"/><use x=\"190.869141\" xlink:href=\"#DejaVuSans-49\"/><use x=\"254.492188\" xlink:href=\"#DejaVuSans-48\"/></g><use x=\"162.403068\" y=\"279\" stroke=\"#000000\" stroke-width=\".8\" xlink:href=\"#mf25905e461\"/><g transform=\"translate(158.42 331.49) rotate(-70) scale(.14 -.14)\"><use xlink:href=\"#DejaVuSans-48\"/><use x=\"63.623047\" xlink:href=\"#DejaVuSans-48\"/><use x=\"127.246094\" xlink:href=\"#DejaVuSans-49\"/><use x=\"190.869141\" xlink:href=\"#DejaVuSans-49\"/><use x=\"254.492188\" xlink:href=\"#DejaVuSans-49\"/></g><use x=\"173.675795\" y=\"279\" stroke=\"#000000\" stroke-width=\".8\" xlink:href=\"#mf25905e461\"/><g transform=\"translate(169.69 331.49) rotate(-70) scale(.14 -.14)\"><use xlink:href=\"#DejaVuSans-48\"/><use x=\"63.623047\" xlink:href=\"#DejaVuSans-49\"/><use x=\"127.246094\" xlink:href=\"#DejaVuSans-48\"/><use x=\"190.869141\" xlink:href=\"#DejaVuSans-48\"/><use x=\"254.492188\" xlink:href=\"#DejaVuSans-48\"/></g><use x=\"184.948523\" y=\"279\" stroke=\"#000000\" stroke-width=\".8\" xlink:href=\"#mf25905e461\"/><g transform=\"translate(180.96 331.49) rotate(-70) scale(.14 -.14)\"><use xlink:href=\"#DejaVuSans-48\"/><use x=\"63.623047\" xlink:href=\"#DejaVuSans-49\"/><use x=\"127.246094\" xlink:href=\"#DejaVuSans-48\"/><use x=\"190.869141\" xlink:href=\"#DejaVuSans-48\"/><use x=\"254.492188\" xlink:href=\"#DejaVuSans-49\"/></g><use x=\"196.22125\" y=\"279\" stroke=\"#000000\" stroke-width=\".8\" xlink:href=\"#mf25905e461\"/><g transform=\"translate(192.24 331.49) rotate(-70) scale(.14 -.14)\"><use xlink:href=\"#DejaVuSans-48\"/><use x=\"63.623047\" xlink:href=\"#DejaVuSans-49\"/><use x=\"127.246094\" xlink:href=\"#DejaVuSans-48\"/><use x=\"190.869141\" xlink:href=\"#DejaVuSans-49\"/><use x=\"254.492188\" xlink:href=\"#DejaVuSans-48\"/></g><use x=\"207.493977\" y=\"279\" stroke=\"#000000\" stroke-width=\".8\" xlink:href=\"#mf25905e461\"/><g transform=\"translate(203.51 331.49) rotate(-70) scale(.14 -.14)\"><use xlink:href=\"#DejaVuSans-48\"/><use x=\"63.623047\" xlink:href=\"#DejaVuSans-49\"/><use x=\"127.246094\" xlink:href=\"#DejaVuSans-48\"/><use x=\"190.869141\" xlink:href=\"#DejaVuSans-49\"/><use x=\"254.492188\" xlink:href=\"#DejaVuSans-49\"/></g><use x=\"218.766705\" y=\"279\" stroke=\"#000000\" stroke-width=\".8\" xlink:href=\"#mf25905e461\"/><g transform=\"translate(214.78 331.49) rotate(-70) scale(.14 -.14)\"><use xlink:href=\"#DejaVuSans-48\"/><use x=\"63.623047\" xlink:href=\"#DejaVuSans-49\"/><use x=\"127.246094\" xlink:href=\"#DejaVuSans-49\"/><use x=\"190.869141\" xlink:href=\"#DejaVuSans-48\"/><use x=\"254.492188\" xlink:href=\"#DejaVuSans-48\"/></g><use x=\"230.039432\" y=\"279\" stroke=\"#000000\" stroke-width=\".8\" xlink:href=\"#mf25905e461\"/><g transform=\"translate(226.05 331.49) rotate(-70) scale(.14 -.14)\"><use xlink:href=\"#DejaVuSans-48\"/><use x=\"63.623047\" xlink:href=\"#DejaVuSans-49\"/><use x=\"127.246094\" xlink:href=\"#DejaVuSans-49\"/><use x=\"190.869141\" xlink:href=\"#DejaVuSans-48\"/><use x=\"254.492188\" xlink:href=\"#DejaVuSans-49\"/></g><use x=\"241.312159\" y=\"279\" stroke=\"#000000\" stroke-width=\".8\" xlink:href=\"#mf25905e461\"/><g transform=\"translate(237.33 331.49) rotate(-70) scale(.14 -.14)\"><use xlink:href=\"#DejaVuSans-48\"/><use x=\"63.623047\" xlink:href=\"#DejaVuSans-49\"/><use x=\"127.246094\" xlink:href=\"#DejaVuSans-49\"/><use x=\"190.869141\" xlink:href=\"#DejaVuSans-49\"/><use x=\"254.492188\" xlink:href=\"#DejaVuSans-48\"/></g><use x=\"252.584886\" y=\"279\" stroke=\"#000000\" stroke-width=\".8\" xlink:href=\"#mf25905e461\"/><g transform=\"translate(248.6 331.49) rotate(-70) scale(.14 -.14)\"><use xlink:href=\"#DejaVuSans-48\"/><use x=\"63.623047\" xlink:href=\"#DejaVuSans-49\"/><use x=\"127.246094\" xlink:href=\"#DejaVuSans-49\"/><use x=\"190.869141\" xlink:href=\"#DejaVuSans-49\"/><use x=\"254.492188\" xlink:href=\"#DejaVuSans-49\"/></g><use x=\"263.857614\" y=\"279\" stroke=\"#000000\" stroke-width=\".8\" xlink:href=\"#mf25905e461\"/><g transform=\"translate(259.87 331.49) rotate(-70) scale(.14 -.14)\"><use xlink:href=\"#DejaVuSans-49\"/><use x=\"63.623047\" xlink:href=\"#DejaVuSans-48\"/><use x=\"127.246094\" xlink:href=\"#DejaVuSans-48\"/><use x=\"190.869141\" xlink:href=\"#DejaVuSans-48\"/><use x=\"254.492188\" xlink:href=\"#DejaVuSans-48\"/></g><use x=\"275.130341\" y=\"279\" stroke=\"#000000\" stroke-width=\".8\" xlink:href=\"#mf25905e461\"/><g transform=\"translate(271.14 331.49) rotate(-70) scale(.14 -.14)\"><use xlink:href=\"#DejaVuSans-49\"/><use x=\"63.623047\" xlink:href=\"#DejaVuSans-48\"/><use x=\"127.246094\" xlink:href=\"#DejaVuSans-48\"/><use x=\"190.869141\" xlink:href=\"#DejaVuSans-48\"/><use x=\"254.492188\" xlink:href=\"#DejaVuSans-49\"/></g><use x=\"286.403068\" y=\"279\" stroke=\"#000000\" stroke-width=\".8\" xlink:href=\"#mf25905e461\"/><g transform=\"translate(282.42 331.49) rotate(-70) scale(.14 -.14)\"><use xlink:href=\"#DejaVuSans-49\"/><use x=\"63.623047\" xlink:href=\"#DejaVuSans-48\"/><use x=\"127.246094\" xlink:href=\"#DejaVuSans-48\"/><use x=\"190.869141\" xlink:href=\"#DejaVuSans-49\"/><use x=\"254.492188\" xlink:href=\"#DejaVuSans-48\"/></g><use x=\"297.675795\" y=\"279\" stroke=\"#000000\" stroke-width=\".8\" xlink:href=\"#mf25905e461\"/><g transform=\"translate(293.69 331.49) rotate(-70) scale(.14 -.14)\"><use xlink:href=\"#DejaVuSans-49\"/><use x=\"63.623047\" xlink:href=\"#DejaVuSans-48\"/><use x=\"127.246094\" xlink:href=\"#DejaVuSans-48\"/><use x=\"190.869141\" xlink:href=\"#DejaVuSans-49\"/><use x=\"254.492188\" xlink:href=\"#DejaVuSans-49\"/></g><use x=\"308.948523\" y=\"279\" stroke=\"#000000\" stroke-width=\".8\" xlink:href=\"#mf25905e461\"/><g transform=\"translate(304.96 331.49) rotate(-70) scale(.14 -.14)\"><use xlink:href=\"#DejaVuSans-49\"/><use x=\"63.623047\" xlink:href=\"#DejaVuSans-48\"/><use x=\"127.246094\" xlink:href=\"#DejaVuSans-49\"/><use x=\"190.869141\" xlink:href=\"#DejaVuSans-48\"/><use x=\"254.492188\" xlink:href=\"#DejaVuSans-48\"/></g><use x=\"320.22125\" y=\"279\" stroke=\"#000000\" stroke-width=\".8\" xlink:href=\"#mf25905e461\"/><g transform=\"translate(316.24 331.49) rotate(-70) scale(.14 -.14)\"><use xlink:href=\"#DejaVuSans-49\"/><use x=\"63.623047\" xlink:href=\"#DejaVuSans-48\"/><use x=\"127.246094\" xlink:href=\"#DejaVuSans-49\"/><use x=\"190.869141\" xlink:href=\"#DejaVuSans-48\"/><use x=\"254.492188\" xlink:href=\"#DejaVuSans-49\"/></g><use x=\"331.493977\" y=\"279\" stroke=\"#000000\" stroke-width=\".8\" xlink:href=\"#mf25905e461\"/><g transform=\"translate(327.51 331.49) rotate(-70) scale(.14 -.14)\"><use xlink:href=\"#DejaVuSans-49\"/><use x=\"63.623047\" xlink:href=\"#DejaVuSans-48\"/><use x=\"127.246094\" xlink:href=\"#DejaVuSans-49\"/><use x=\"190.869141\" xlink:href=\"#DejaVuSans-49\"/><use x=\"254.492188\" xlink:href=\"#DejaVuSans-48\"/></g><use x=\"342.766705\" y=\"279\" stroke=\"#000000\" stroke-width=\".8\" xlink:href=\"#mf25905e461\"/><g transform=\"translate(338.78 331.49) rotate(-70) scale(.14 -.14)\"><use xlink:href=\"#DejaVuSans-49\"/><use x=\"63.623047\" xlink:href=\"#DejaVuSans-48\"/><use x=\"127.246094\" xlink:href=\"#DejaVuSans-49\"/><use x=\"190.869141\" xlink:href=\"#DejaVuSans-49\"/><use x=\"254.492188\" xlink:href=\"#DejaVuSans-49\"/></g><use x=\"354.039432\" y=\"279\" stroke=\"#000000\" stroke-width=\".8\" xlink:href=\"#mf25905e461\"/><g transform=\"translate(350.05 331.49) rotate(-70) scale(.14 -.14)\"><use xlink:href=\"#DejaVuSans-49\"/><use x=\"63.623047\" xlink:href=\"#DejaVuSans-49\"/><use x=\"127.246094\" xlink:href=\"#DejaVuSans-48\"/><use x=\"190.869141\" xlink:href=\"#DejaVuSans-48\"/><use x=\"254.492188\" xlink:href=\"#DejaVuSans-48\"/></g><use x=\"365.312159\" y=\"279\" stroke=\"#000000\" stroke-width=\".8\" xlink:href=\"#mf25905e461\"/><g transform=\"translate(361.33 331.49) rotate(-70) scale(.14 -.14)\"><use xlink:href=\"#DejaVuSans-49\"/><use x=\"63.623047\" xlink:href=\"#DejaVuSans-49\"/><use x=\"127.246094\" xlink:href=\"#DejaVuSans-48\"/><use x=\"190.869141\" xlink:href=\"#DejaVuSans-48\"/><use x=\"254.492188\" xlink:href=\"#DejaVuSans-49\"/></g><use x=\"376.584886\" y=\"279\" stroke=\"#000000\" stroke-width=\".8\" xlink:href=\"#mf25905e461\"/><g transform=\"translate(372.6 331.49) rotate(-70) scale(.14 -.14)\"><use xlink:href=\"#DejaVuSans-49\"/><use x=\"63.623047\" xlink:href=\"#DejaVuSans-49\"/><use x=\"127.246094\" xlink:href=\"#DejaVuSans-48\"/><use x=\"190.869141\" xlink:href=\"#DejaVuSans-49\"/><use x=\"254.492188\" xlink:href=\"#DejaVuSans-48\"/></g><use x=\"387.857614\" y=\"279\" stroke=\"#000000\" stroke-width=\".8\" xlink:href=\"#mf25905e461\"/><g transform=\"translate(383.87 331.49) rotate(-70) scale(.14 -.14)\"><use xlink:href=\"#DejaVuSans-49\"/><use x=\"63.623047\" xlink:href=\"#DejaVuSans-49\"/><use x=\"127.246094\" xlink:href=\"#DejaVuSans-48\"/><use x=\"190.869141\" xlink:href=\"#DejaVuSans-49\"/><use x=\"254.492188\" xlink:href=\"#DejaVuSans-49\"/></g><use x=\"399.130341\" y=\"279\" stroke=\"#000000\" stroke-width=\".8\" xlink:href=\"#mf25905e461\"/><g transform=\"translate(395.14 331.49) rotate(-70) scale(.14 -.14)\"><use xlink:href=\"#DejaVuSans-49\"/><use x=\"63.623047\" xlink:href=\"#DejaVuSans-49\"/><use x=\"127.246094\" xlink:href=\"#DejaVuSans-49\"/><use x=\"190.869141\" xlink:href=\"#DejaVuSans-48\"/><use x=\"254.492188\" xlink:href=\"#DejaVuSans-48\"/></g><use x=\"410.403068\" y=\"279\" stroke=\"#000000\" stroke-width=\".8\" xlink:href=\"#mf25905e461\"/><g transform=\"translate(406.42 331.49) rotate(-70) scale(.14 -.14)\"><use xlink:href=\"#DejaVuSans-49\"/><use x=\"63.623047\" xlink:href=\"#DejaVuSans-49\"/><use x=\"127.246094\" xlink:href=\"#DejaVuSans-49\"/><use x=\"190.869141\" xlink:href=\"#DejaVuSans-48\"/><use x=\"254.492188\" xlink:href=\"#DejaVuSans-49\"/></g><use x=\"421.675795\" y=\"279\" stroke=\"#000000\" stroke-width=\".8\" xlink:href=\"#mf25905e461\"/><g transform=\"translate(417.69 331.49) rotate(-70) scale(.14 -.14)\"><use xlink:href=\"#DejaVuSans-49\"/><use x=\"63.623047\" xlink:href=\"#DejaVuSans-49\"/><use x=\"127.246094\" xlink:href=\"#DejaVuSans-49\"/><use x=\"190.869141\" xlink:href=\"#DejaVuSans-49\"/><use x=\"254.492188\" xlink:href=\"#DejaVuSans-48\"/></g><use x=\"432.948523\" y=\"279\" stroke=\"#000000\" stroke-width=\".8\" xlink:href=\"#mf25905e461\"/><g transform=\"translate(428.96 331.49) rotate(-70) scale(.14 -.14)\"><use xlink:href=\"#DejaVuSans-49\"/><use x=\"63.623047\" xlink:href=\"#DejaVuSans-49\"/><use x=\"127.246094\" xlink:href=\"#DejaVuSans-49\"/><use x=\"190.869141\" xlink:href=\"#DejaVuSans-49\"/><use x=\"254.492188\" xlink:href=\"#DejaVuSans-49\"/></g><path d=\"m62.921 279h390.6\" clip-path=\"url(#pb8582b3f6a)\" fill=\"none\" stroke=\"#b0b0b0\" stroke-dasharray=\"2.96,1.28\" stroke-width=\".8\"/><defs><path id=\"mb69ddb4771\" d=\"m0 0h-3.5\" stroke=\"#000000\" stroke-width=\".8\"/></defs><use x=\"62.92125\" y=\"279\" stroke=\"#000000\" stroke-width=\".8\" xlink:href=\"#mb69ddb4771\"/><defs><path id=\"DejaVuSans-46\" d=\"m10.688 12.406h10.312v-12.406h-10.312z\"/></defs><g transform=\"translate(24.749 284.32) scale(.14 -.14)\"><use xlink:href=\"#DejaVuSans-48\"/><use x=\"63.623047\" xlink:href=\"#DejaVuSans-46\"/><use x=\"95.410156\" xlink:href=\"#DejaVuSans-48\"/><use x=\"159.033203\" xlink:href=\"#DejaVuSans-48\"/></g><path d=\"m62.921 215.94h390.6\" clip-path=\"url(#pb8582b3f6a)\" fill=\"none\" stroke=\"#b0b0b0\" stroke-dasharray=\"2.96,1.28\" stroke-width=\".8\"/><use x=\"62.92125\" y=\"215.942435\" stroke=\"#000000\" stroke-width=\".8\" xlink:href=\"#mb69ddb4771\"/><defs><path id=\"DejaVuSans-53\" d=\"m10.797 72.906h38.719v-8.3125h-29.688v-17.859q2.1406 0.73438 4.2812 1.0938 2.1562 0.35938 4.3125 0.35938 12.203 0 19.328-6.6875 7.1406-6.6875 7.1406-18.109 0-11.766-7.3281-18.297-7.3281-6.5156-20.656-6.5156-4.5938 0-9.3594 0.78125-4.75 0.78125-9.8281 2.3438v9.9219q4.3906-2.3906 9.0781-3.5625t9.9062-1.1719q8.4531 0 13.375 4.4375 4.9375 4.4375 4.9375 12.062 0 7.6094-4.9375 12.047-4.9219 4.4531-13.375 4.4531-3.9531 0-7.8906-0.875-3.9219-0.875-8.0156-2.7344z\"/></defs><g transform=\"translate(24.749 221.26) scale(.14 -.14)\"><use xlink:href=\"#DejaVuSans-48\"/><use x=\"63.623047\" xlink:href=\"#DejaVuSans-46\"/><use x=\"95.410156\" xlink:href=\"#DejaVuSans-48\"/><use x=\"159.033203\" xlink:href=\"#DejaVuSans-53\"/></g><path d=\"m62.921 152.88h390.6\" clip-path=\"url(#pb8582b3f6a)\" fill=\"none\" stroke=\"#b0b0b0\" stroke-dasharray=\"2.96,1.28\" stroke-width=\".8\"/><use x=\"62.92125\" y=\"152.88487\" stroke=\"#000000\" stroke-width=\".8\" xlink:href=\"#mb69ddb4771\"/><g transform=\"translate(24.749 158.2) scale(.14 -.14)\"><use xlink:href=\"#DejaVuSans-48\"/><use x=\"63.623047\" xlink:href=\"#DejaVuSans-46\"/><use x=\"95.410156\" xlink:href=\"#DejaVuSans-49\"/><use x=\"159.033203\" xlink:href=\"#DejaVuSans-48\"/></g><path d=\"m62.921 89.827h390.6\" clip-path=\"url(#pb8582b3f6a)\" fill=\"none\" stroke=\"#b0b0b0\" stroke-dasharray=\"2.96,1.28\" stroke-width=\".8\"/><use x=\"62.92125\" y=\"89.827305\" stroke=\"#000000\" stroke-width=\".8\" xlink:href=\"#mb69ddb4771\"/><g transform=\"translate(24.749 95.146) scale(.14 -.14)\"><use xlink:href=\"#DejaVuSans-48\"/><use x=\"63.623047\" xlink:href=\"#DejaVuSans-46\"/><use x=\"95.410156\" xlink:href=\"#DejaVuSans-49\"/><use x=\"159.033203\" xlink:href=\"#DejaVuSans-53\"/></g><path d=\"m62.921 26.77h390.6\" clip-path=\"url(#pb8582b3f6a)\" fill=\"none\" stroke=\"#b0b0b0\" stroke-dasharray=\"2.96,1.28\" stroke-width=\".8\"/><use x=\"62.92125\" y=\"26.76974\" stroke=\"#000000\" stroke-width=\".8\" xlink:href=\"#mb69ddb4771\"/><defs><path id=\"DejaVuSans-50\" d=\"m19.188 8.2969h34.422v-8.2969h-46.281v8.2969q5.6094 5.8125 15.297 15.594 9.7031 9.7969 12.188 12.641 4.7344 5.3125 6.6094 9 1.8906 3.6875 1.8906 7.25 0 5.8125-4.0781 9.4688-4.0781 3.6719-10.625 3.6719-4.6406 0-9.7969-1.6094-5.1406-1.6094-11-4.8906v9.9688q5.9531 2.3906 11.125 3.6094 5.1875 1.2188 9.4844 1.2188 11.328 0 18.062-5.6719 6.7344-5.6562 6.7344-15.125 0-4.5-1.6875-8.5312-1.6719-4.0156-6.125-9.4844-1.2188-1.4219-7.7656-8.1875-6.5312-6.7656-18.453-18.922z\"/></defs><g transform=\"translate(24.749 32.089) scale(.14 -.14)\"><use xlink:href=\"#DejaVuSans-48\"/><use x=\"63.623047\" xlink:href=\"#DejaVuSans-46\"/><use x=\"95.410156\" xlink:href=\"#DejaVuSans-50\"/><use x=\"159.033203\" xlink:href=\"#DejaVuSans-48\"/></g><defs><path id=\"DejaVuSans-80\" d=\"m19.672 64.797v-27.391h12.406q6.8906 0 10.641 3.5625 3.7656 3.5625 3.7656 10.156 0 6.5469-3.7656 10.109-3.75 3.5625-10.641 3.5625zm-9.8594 8.1094h22.266q12.266 0 18.531-5.5469 6.2812-5.5469 6.2812-16.234 0-10.797-6.2812-16.312-6.2656-5.5156-18.531-5.5156h-12.406v-29.297h-9.8594z\"/><path id=\"DejaVuSans-114\" d=\"m41.109 46.297q-1.5156 0.875-3.2969 1.2812-1.7812 0.42188-3.9219 0.42188-7.625 0-11.703-4.9531t-4.0781-14.234v-28.812h-9.0312v54.688h9.0312v-8.5q2.8438 4.9844 7.375 7.3906 4.5469 2.4219 11.047 2.4219 0.92188 0 2.0469-0.125 1.125-0.10938 2.4844-0.35938z\"/><path id=\"DejaVuSans-111\" d=\"m30.609 48.391q-7.2188 0-11.422-5.6406t-4.2031-15.453 4.1719-15.453q4.1875-5.6406 11.453-5.6406 7.1875 0 11.375 5.6562 4.2031 5.6719 4.2031 15.438 0 9.7188-4.2031 15.406-4.1875 5.6875-11.375 5.6875zm0 7.6094q11.719 0 18.406-7.625 6.7031-7.6094 6.7031-21.078 0-13.422-6.7031-21.078-6.6875-7.6406-18.406-7.6406-11.766 0-18.438 7.6406-6.6562 7.6562-6.6562 21.078 0 13.469 6.6562 21.078 6.6719 7.625 18.438 7.625z\"/><path id=\"DejaVuSans-98\" d=\"m48.688 27.297q0 9.9062-4.0781 15.547t-11.203 5.6406q-7.1406 0-11.219-5.6406t-4.0781-15.547 4.0781-15.547 11.219-5.6406q7.125 0 11.203 5.6406t4.0781 15.547zm-30.578 19.094q2.8438 4.875 7.1562 7.2344 4.3281 2.375 10.328 2.375 9.9688 0 16.188-7.9062 6.2344-7.9062 6.2344-20.797t-6.2344-20.812q-6.2188-7.9062-16.188-7.9062-6 0-10.328 2.375-4.3125 2.375-7.1562 7.25v-8.2031h-9.0312v75.984h9.0312z\"/><path id=\"DejaVuSans-97\" d=\"m34.281 27.484q-10.891 0-15.094-2.4844t-4.2031-8.5q0-4.7812 3.1562-7.5938 3.1562-2.7969 8.5625-2.7969 7.4844 0 12 5.2969t4.5156 14.078v2zm17.922 3.7188v-31.203h-8.9844v8.2969q-3.0781-4.9688-7.6719-7.3438t-11.234-2.375q-8.3906 0-13.359 4.7188-4.9531 4.7188-4.9531 12.625 0 9.2188 6.1719 13.906 6.1875 4.6875 18.438 4.6875h12.609v0.89062q0 6.2031-4.0781 9.5938t-11.453 3.3906q-4.6875 0-9.1406-1.125-4.4375-1.125-8.5312-3.375v8.3125q4.9219 1.9062 9.5625 2.8438 4.6406 0.95312 9.0312 0.95312 11.875 0 17.734-6.1562 5.8594-6.1406 5.8594-18.641z\"/><path id=\"DejaVuSans-105\" d=\"m9.4219 54.688h8.9844v-54.688h-8.9844zm0 21.297h8.9844v-11.391h-8.9844z\"/><path id=\"DejaVuSans-108\" d=\"m9.4219 75.984h8.9844v-75.984h-8.9844z\"/><path id=\"DejaVuSans-116\" d=\"m18.312 70.219v-15.531h18.5v-6.9844h-18.5v-29.688q0-6.6875 1.8281-8.5938t7.4531-1.9062h9.2188v-7.5156h-9.2188q-10.406 0-14.359 3.875-3.9531 3.8906-3.9531 14.141v29.688h-6.5938v6.9844h6.5938v15.531z\"/><path id=\"DejaVuSans-101\" d=\"m56.203 29.594v-4.3906h-41.312q0.59375-9.2812 5.5938-14.141t13.938-4.8594q5.1719 0 10.031 1.2656t9.6562 3.8125v-8.5q-4.8438-2.0469-9.9219-3.125t-10.297-1.0781q-13.094 0-20.734 7.6094-7.6406 7.625-7.6406 20.625 0 13.422 7.25 21.297 7.25 7.8906 19.562 7.8906 11.031 0 17.453-7.1094 6.4219-7.0938 6.4219-19.297zm-8.9844 2.6406q-0.09375 7.3594-4.125 11.75-4.0312 4.4062-10.672 4.4062-7.5156 0-12.031-4.25t-5.2031-11.969z\"/><path id=\"DejaVuSans-115\" d=\"m44.281 53.078v-8.5q-3.7969 1.9531-7.9062 2.9219-4.0938 0.98438-8.5 0.98438-6.6875 0-10.031-2.0469t-3.3438-6.1562q0-3.125 2.3906-4.9062t9.625-3.3906l3.0781-0.6875q9.5625-2.0469 13.594-5.7812t4.0312-10.422q0-7.625-6.0312-12.078-6.0312-4.4375-16.578-4.4375-4.3906 0-9.1562 0.85938t-10.031 2.5625v9.2812q4.9844-2.5938 9.8125-3.8906 4.8281-1.2812 9.5781-1.2812 6.3438 0 9.75 2.1719 3.4219 2.1719 3.4219 6.125 0 3.6562-2.4688 5.6094-2.4531 1.9531-10.812 3.7656l-3.125 0.73438q-8.3438 1.75-12.062 5.3906-3.7031 3.6406-3.7031 9.9844 0 7.7188 5.4688 11.906 5.4688 4.2031 15.531 4.2031 4.9688 0 9.3594-0.73438 4.4062-0.71875 8.1094-2.1875z\"/></defs><g transform=\"translate(17.838 185.86) rotate(-90) scale(.14 -.14)\"><use xlink:href=\"#DejaVuSans-80\"/><use x=\"58.552734\" xlink:href=\"#DejaVuSans-114\"/><use x=\"97.416016\" xlink:href=\"#DejaVuSans-111\"/><use x=\"158.597656\" xlink:href=\"#DejaVuSans-98\"/><use x=\"222.074219\" xlink:href=\"#DejaVuSans-97\"/><use x=\"283.353516\" xlink:href=\"#DejaVuSans-98\"/><use x=\"346.830078\" xlink:href=\"#DejaVuSans-105\"/><use x=\"374.613281\" xlink:href=\"#DejaVuSans-108\"/><use x=\"402.396484\" xlink:href=\"#DejaVuSans-105\"/><use x=\"430.179688\" xlink:href=\"#DejaVuSans-116\"/><use x=\"469.388672\" xlink:href=\"#DejaVuSans-105\"/><use x=\"497.171875\" xlink:href=\"#DejaVuSans-101\"/><use x=\"558.695312\" xlink:href=\"#DejaVuSans-115\"/></g><path d=\"m80.676 279h5.6364v-21.288h-5.6364z\" clip-path=\"url(#pb8582b3f6a)\" fill=\"#648fff\"/><path d=\"m91.949 279h5.6364v-5.9771h-5.6364z\" clip-path=\"url(#pb8582b3f6a)\" fill=\"#648fff\"/><path d=\"m103.22 279h5.6364v-32.22h-5.6364z\" clip-path=\"url(#pb8582b3f6a)\" fill=\"#648fff\"/><path d=\"m114.49 279h5.6364v-38.853h-5.6364z\" clip-path=\"url(#pb8582b3f6a)\" fill=\"#648fff\"/><path d=\"m125.77 279h5.6364v-10.081h-5.6364z\" clip-path=\"url(#pb8582b3f6a)\" fill=\"#648fff\"/><path d=\"m137.04 279h5.6364v-44.138h-5.6364z\" clip-path=\"url(#pb8582b3f6a)\" fill=\"#648fff\"/><path d=\"m148.31 279h5.6364v-14.83h-5.6364z\" clip-path=\"url(#pb8582b3f6a)\" fill=\"#648fff\"/><path d=\"m159.58 279h5.6364v-38.086h-5.6364z\" clip-path=\"url(#pb8582b3f6a)\" fill=\"#648fff\"/><path d=\"m170.86 279h5.6364v-80.103h-5.6364z\" clip-path=\"url(#pb8582b3f6a)\" fill=\"#648fff\"/><path d=\"m182.13 279h5.6364v-164.23h-5.6364z\" clip-path=\"url(#pb8582b3f6a)\" fill=\"#648fff\"/><path d=\"m193.4 279h5.6364v-40.081h-5.6364z\" clip-path=\"url(#pb8582b3f6a)\" fill=\"#648fff\"/><path d=\"m204.68 279h5.6364v-30.744h-5.6364z\" clip-path=\"url(#pb8582b3f6a)\" fill=\"#648fff\"/><path d=\"m215.95 279h5.6364v-52.338h-5.6364z\" clip-path=\"url(#pb8582b3f6a)\" fill=\"#648fff\"/><path d=\"m227.22 279h5.6364v-226.5h-5.6364z\" clip-path=\"url(#pb8582b3f6a)\" fill=\"#648fff\"/><path d=\"m238.49 279h5.6364v-12.146h-5.6364z\" clip-path=\"url(#pb8582b3f6a)\" fill=\"#648fff\"/><path d=\"m249.77 279h5.6364v-98.279h-5.6364z\" clip-path=\"url(#pb8582b3f6a)\" fill=\"#648fff\"/><path d=\"m261.04 279h5.6364v-62.372h-5.6364z\" clip-path=\"url(#pb8582b3f6a)\" fill=\"#648fff\"/><path d=\"m272.31 279h5.6364v-11.417h-5.6364z\" clip-path=\"url(#pb8582b3f6a)\" fill=\"#648fff\"/><path d=\"m283.58 279h5.6364v-73.21h-5.6364z\" clip-path=\"url(#pb8582b3f6a)\" fill=\"#648fff\"/><path d=\"m294.86 279h5.6364v-20.99h-5.6364z\" clip-path=\"url(#pb8582b3f6a)\" fill=\"#648fff\"/><path d=\"m306.13 279h5.6364v-7.8584h-5.6364z\" clip-path=\"url(#pb8582b3f6a)\" fill=\"#648fff\"/><path d=\"m317.4 279h5.6364v-6.5367h-5.6364z\" clip-path=\"url(#pb8582b3f6a)\" fill=\"#648fff\"/><path d=\"m328.68 279h5.6364v-2.326h-5.6364z\" clip-path=\"url(#pb8582b3f6a)\" fill=\"#648fff\"/><path d=\"m339.95 279h5.6364v-4.0757h-5.6364z\" clip-path=\"url(#pb8582b3f6a)\" fill=\"#648fff\"/><path d=\"m351.22 279h5.6364v-21.891h-5.6364z\" clip-path=\"url(#pb8582b3f6a)\" fill=\"#648fff\"/><path d=\"m362.49 279h5.6364v-23.019h-5.6364z\" clip-path=\"url(#pb8582b3f6a)\" fill=\"#648fff\"/><path d=\"m373.77 279h5.6364v-13.888h-5.6364z\" clip-path=\"url(#pb8582b3f6a)\" fill=\"#648fff\"/><path d=\"m385.04 279h5.6364v-2.2632h-5.6364z\" clip-path=\"url(#pb8582b3f6a)\" fill=\"#648fff\"/><path d=\"m396.31 279h5.6364v-6.6079h-5.6364z\" clip-path=\"url(#pb8582b3f6a)\" fill=\"#648fff\"/><path d=\"m407.58 279h5.6364v-76.473h-5.6364z\" clip-path=\"url(#pb8582b3f6a)\" fill=\"#648fff\"/><path d=\"m418.86 279h5.6364v-1.8635h-5.6364z\" clip-path=\"url(#pb8582b3f6a)\" fill=\"#648fff\"/><path d=\"m430.13 279h5.6364v-16.468h-5.6364z\" clip-path=\"url(#pb8582b3f6a)\" fill=\"#648fff\"/><path d=\"m62.921 279v-271.8\" fill=\"none\" stroke=\"#000000\" stroke-linecap=\"square\" stroke-width=\".8\"/><path d=\"m453.52 279v-271.8\" fill=\"none\" stroke=\"#000000\" stroke-linecap=\"square\" stroke-width=\".8\"/><path d=\"m62.921 279h390.6\" fill=\"none\" stroke=\"#000000\" stroke-linecap=\"square\" stroke-width=\".8\"/><path d=\"m62.921 7.2h390.6\" fill=\"none\" stroke=\"#000000\" stroke-linecap=\"square\" stroke-width=\".8\"/><defs><path id=\"DejaVuSans-55\" d=\"m8.2031 72.906h46.875v-4.2031l-26.469-68.703h-10.297l24.906 64.594h-35.016z\"/></defs><g transform=\"translate(69.18 254.57) scale(.1 -.1)\"><use xlink:href=\"#DejaVuSans-48\"/><use x=\"63.623047\" xlink:href=\"#DejaVuSans-46\"/><use x=\"95.410156\" xlink:href=\"#DejaVuSans-48\"/><use x=\"159.033203\" xlink:href=\"#DejaVuSans-49\"/><use x=\"222.65625\" xlink:href=\"#DejaVuSans-55\"/></g><g transform=\"translate(80.453 270.64) scale(.1 -.1)\"><use xlink:href=\"#DejaVuSans-48\"/><use x=\"63.623047\" xlink:href=\"#DejaVuSans-46\"/><use x=\"95.410156\" xlink:href=\"#DejaVuSans-48\"/><use x=\"159.033203\" xlink:href=\"#DejaVuSans-48\"/><use x=\"222.65625\" xlink:href=\"#DejaVuSans-53\"/></g><defs><path id=\"DejaVuSans-54\" d=\"m33.016 40.375q-6.6406 0-10.531-4.5469-3.875-4.5312-3.875-12.438 0-7.8594 3.875-12.438 3.8906-4.5625 10.531-4.5625t10.516 4.5625q3.875 4.5781 3.875 12.438 0 7.9062-3.875 12.438-3.875 4.5469-10.516 4.5469zm19.578 30.922v-8.9844q-3.7188 1.75-7.5 2.6719-3.7812 0.9375-7.5 0.9375-9.7656 0-14.922-6.5938-5.1406-6.5938-5.875-19.922 2.875 4.25 7.2188 6.5156 4.3594 2.2656 9.5781 2.2656 10.984 0 17.359-6.6719 6.375-6.6562 6.375-18.125 0-11.234-6.6406-18.031-6.6406-6.7812-17.672-6.7812-12.656 0-19.344 9.6875-6.6875 9.7031-6.6875 28.109 0 17.281 8.2031 27.562t22.016 10.281q3.7188 0 7.5-0.73438t7.8906-2.1875z\"/></defs><g transform=\"translate(91.725 243.09) scale(.1 -.1)\"><use xlink:href=\"#DejaVuSans-48\"/><use x=\"63.623047\" xlink:href=\"#DejaVuSans-46\"/><use x=\"95.410156\" xlink:href=\"#DejaVuSans-48\"/><use x=\"159.033203\" xlink:href=\"#DejaVuSans-50\"/><use x=\"222.65625\" xlink:href=\"#DejaVuSans-54\"/></g><defs><path id=\"DejaVuSans-51\" d=\"m40.578 39.312q7.0781-1.5156 11.047-6.3125 3.9844-4.7812 3.9844-11.812 0-10.781-7.4219-16.703-7.4219-5.9062-21.094-5.9062-4.5781 0-9.4375 0.90625t-10.031 2.7188v9.5156q4.0938-2.3906 8.9688-3.6094 4.8906-1.2188 10.219-1.2188 9.2656 0 14.125 3.6562t4.8594 10.641q0 6.4531-4.5156 10.078-4.5156 3.6406-12.562 3.6406h-8.5v8.1094h8.8906q7.2656 0 11.125 2.9062t3.8594 8.375q0 5.6094-3.9844 8.6094-3.9688 3.0156-11.391 3.0156-4.0625 0-8.7031-0.89062-4.6406-0.875-10.203-2.7188v8.7812q5.625 1.5625 10.531 2.3438t9.25 0.78125q11.234 0 17.766-5.1094 6.5469-5.0938 6.5469-13.781 0-6.0625-3.4688-10.234t-9.8594-5.7812z\"/></defs><g transform=\"translate(103 236.12) scale(.1 -.1)\"><use xlink:href=\"#DejaVuSans-48\"/><use x=\"63.623047\" xlink:href=\"#DejaVuSans-46\"/><use x=\"95.410156\" xlink:href=\"#DejaVuSans-48\"/><use x=\"159.033203\" xlink:href=\"#DejaVuSans-51\"/><use x=\"222.65625\" xlink:href=\"#DejaVuSans-49\"/></g><defs><path id=\"DejaVuSans-56\" d=\"m31.781 34.625q-7.0312 0-11.062-3.7656-4.0156-3.7656-4.0156-10.344 0-6.5938 4.0156-10.359 4.0312-3.7656 11.062-3.7656t11.078 3.7812q4.0625 3.7969 4.0625 10.344 0 6.5781-4.0312 10.344-4.0156 3.7656-11.109 3.7656zm-9.8594 4.1875q-6.3438 1.5625-9.8906 5.9062-3.5312 4.3594-3.5312 10.609 0 8.7344 6.2188 13.812 6.2344 5.0781 17.062 5.0781 10.891 0 17.094-5.0781t6.2031-13.812q0-6.25-3.5469-10.609-3.5312-4.3438-9.8281-5.9062 7.125-1.6562 11.094-6.5 3.9844-4.8281 3.9844-11.797 0-10.609-6.4688-16.281-6.4688-5.6562-18.531-5.6562-12.047 0-18.531 5.6562-6.4688 5.6719-6.4688 16.281 0 6.9688 4 11.797 4.0156 4.8438 11.141 6.5zm-3.6094 15.578q0-5.6562 3.5312-8.8281 3.5469-3.1719 9.9375-3.1719 6.3594 0 9.9375 3.1719 3.5938 3.1719 3.5938 8.8281 0 5.6719-3.5938 8.8438-3.5781 3.1719-9.9375 3.1719-6.3906 0-9.9375-3.1719-3.5312-3.1719-3.5312-8.8438z\"/></defs><g transform=\"translate(114.27 266.34) scale(.1 -.1)\"><use xlink:href=\"#DejaVuSans-48\"/><use x=\"63.623047\" xlink:href=\"#DejaVuSans-46\"/><use x=\"95.410156\" xlink:href=\"#DejaVuSans-48\"/><use x=\"159.033203\" xlink:href=\"#DejaVuSans-48\"/><use x=\"222.65625\" xlink:href=\"#DejaVuSans-56\"/></g><g transform=\"translate(125.54 230.58) scale(.1 -.1)\"><use xlink:href=\"#DejaVuSans-48\"/><use x=\"63.623047\" xlink:href=\"#DejaVuSans-46\"/><use x=\"95.410156\" xlink:href=\"#DejaVuSans-48\"/><use x=\"159.033203\" xlink:href=\"#DejaVuSans-51\"/><use x=\"222.65625\" xlink:href=\"#DejaVuSans-53\"/></g><g transform=\"translate(136.82 261.35) scale(.1 -.1)\"><use xlink:href=\"#DejaVuSans-48\"/><use x=\"63.623047\" xlink:href=\"#DejaVuSans-46\"/><use x=\"95.410156\" xlink:href=\"#DejaVuSans-48\"/><use x=\"159.033203\" xlink:href=\"#DejaVuSans-49\"/><use x=\"222.65625\" xlink:href=\"#DejaVuSans-50\"/></g><g transform=\"translate(148.09 236.93) scale(.1 -.1)\"><use xlink:href=\"#DejaVuSans-48\"/><use x=\"63.623047\" xlink:href=\"#DejaVuSans-46\"/><use x=\"95.410156\" xlink:href=\"#DejaVuSans-48\"/><use x=\"159.033203\" xlink:href=\"#DejaVuSans-51\"/><use x=\"222.65625\" xlink:href=\"#DejaVuSans-48\"/></g><defs><path id=\"DejaVuSans-52\" d=\"m37.797 64.312-24.906-38.922h24.906zm-2.5938 8.5938h12.406v-47.516h10.406v-8.2031h-10.406v-17.188h-9.8125v17.188h-32.906v9.5156z\"/></defs><g transform=\"translate(159.36 192.81) scale(.1 -.1)\"><use xlink:href=\"#DejaVuSans-48\"/><use x=\"63.623047\" xlink:href=\"#DejaVuSans-46\"/><use x=\"95.410156\" xlink:href=\"#DejaVuSans-48\"/><use x=\"159.033203\" xlink:href=\"#DejaVuSans-54\"/><use x=\"222.65625\" xlink:href=\"#DejaVuSans-52\"/></g><g transform=\"translate(170.63 104.48) scale(.1 -.1)\"><use xlink:href=\"#DejaVuSans-48\"/><use x=\"63.623047\" xlink:href=\"#DejaVuSans-46\"/><use x=\"95.410156\" xlink:href=\"#DejaVuSans-49\"/><use x=\"159.033203\" xlink:href=\"#DejaVuSans-51\"/><use x=\"222.65625\" xlink:href=\"#DejaVuSans-48\"/></g><g transform=\"translate(181.91 234.84) scale(.1 -.1)\"><use xlink:href=\"#DejaVuSans-48\"/><use x=\"63.623047\" xlink:href=\"#DejaVuSans-46\"/><use x=\"95.410156\" xlink:href=\"#DejaVuSans-48\"/><use x=\"159.033203\" xlink:href=\"#DejaVuSans-51\"/><use x=\"222.65625\" xlink:href=\"#DejaVuSans-50\"/></g><g transform=\"translate(193.18 244.64) scale(.1 -.1)\"><use xlink:href=\"#DejaVuSans-48\"/><use x=\"63.623047\" xlink:href=\"#DejaVuSans-46\"/><use x=\"95.410156\" xlink:href=\"#DejaVuSans-48\"/><use x=\"159.033203\" xlink:href=\"#DejaVuSans-50\"/><use x=\"222.65625\" xlink:href=\"#DejaVuSans-52\"/></g><g transform=\"translate(204.45 221.97) scale(.1 -.1)\"><use xlink:href=\"#DejaVuSans-48\"/><use x=\"63.623047\" xlink:href=\"#DejaVuSans-46\"/><use x=\"95.410156\" xlink:href=\"#DejaVuSans-48\"/><use x=\"159.033203\" xlink:href=\"#DejaVuSans-52\"/><use x=\"222.65625\" xlink:href=\"#DejaVuSans-50\"/></g><g transform=\"translate(215.73 39.095) scale(.1 -.1)\"><use xlink:href=\"#DejaVuSans-48\"/><use x=\"63.623047\" xlink:href=\"#DejaVuSans-46\"/><use x=\"95.410156\" xlink:href=\"#DejaVuSans-49\"/><use x=\"159.033203\" xlink:href=\"#DejaVuSans-56\"/><use x=\"222.65625\" xlink:href=\"#DejaVuSans-48\"/></g><g transform=\"translate(227 264.17) scale(.1 -.1)\"><use xlink:href=\"#DejaVuSans-48\"/><use x=\"63.623047\" xlink:href=\"#DejaVuSans-46\"/><use x=\"95.410156\" xlink:href=\"#DejaVuSans-48\"/><use x=\"159.033203\" xlink:href=\"#DejaVuSans-49\"/><use x=\"222.65625\" xlink:href=\"#DejaVuSans-48\"/></g><g transform=\"translate(238.27 173.73) scale(.1 -.1)\"><use xlink:href=\"#DejaVuSans-48\"/><use x=\"63.623047\" xlink:href=\"#DejaVuSans-46\"/><use x=\"95.410156\" xlink:href=\"#DejaVuSans-48\"/><use x=\"159.033203\" xlink:href=\"#DejaVuSans-55\"/><use x=\"222.65625\" xlink:href=\"#DejaVuSans-56\"/></g><defs><path id=\"DejaVuSans-57\" d=\"m10.984 1.5156v8.9844q3.7188-1.7656 7.5156-2.6875 3.8125-0.92188 7.4844-0.92188 9.7656 0 14.906 6.5625 5.1562 6.5625 5.8906 19.953-2.8281-4.2031-7.1875-6.4531-4.3438-2.25-9.6094-2.25-10.938 0-17.312 6.6094-6.375 6.625-6.375 18.109 0 11.219 6.6406 18 6.6406 6.7969 17.672 6.7969 12.656 0 19.312-9.7031 6.6719-9.6875 6.6719-28.141 0-17.234-8.1875-27.516-8.1719-10.281-21.984-10.281-3.7188 0-7.5312 0.73438-3.7969 0.73438-7.9062 2.2031zm19.625 30.906q6.6406 0 10.516 4.5312 3.8906 4.5469 3.8906 12.469 0 7.8594-3.8906 12.422-3.875 4.5625-10.516 4.5625t-10.516-4.5625-3.875-12.422q0-7.9219 3.875-12.469 3.875-4.5312 10.516-4.5312z\"/></defs><g transform=\"translate(249.54 211.43) scale(.1 -.1)\"><use xlink:href=\"#DejaVuSans-48\"/><use x=\"63.623047\" xlink:href=\"#DejaVuSans-46\"/><use x=\"95.410156\" xlink:href=\"#DejaVuSans-48\"/><use x=\"159.033203\" xlink:href=\"#DejaVuSans-52\"/><use x=\"222.65625\" xlink:href=\"#DejaVuSans-57\"/></g><g transform=\"translate(260.82 264.93) scale(.1 -.1)\"><use xlink:href=\"#DejaVuSans-48\"/><use x=\"63.623047\" xlink:href=\"#DejaVuSans-46\"/><use x=\"95.410156\" xlink:href=\"#DejaVuSans-48\"/><use x=\"159.033203\" xlink:href=\"#DejaVuSans-48\"/><use x=\"222.65625\" xlink:href=\"#DejaVuSans-57\"/></g><g transform=\"translate(272.09 200.05) scale(.1 -.1)\"><use xlink:href=\"#DejaVuSans-48\"/><use x=\"63.623047\" xlink:href=\"#DejaVuSans-46\"/><use x=\"95.410156\" xlink:href=\"#DejaVuSans-48\"/><use x=\"159.033203\" xlink:href=\"#DejaVuSans-53\"/><use x=\"222.65625\" xlink:href=\"#DejaVuSans-56\"/></g><g transform=\"translate(283.36 254.88) scale(.1 -.1)\"><use xlink:href=\"#DejaVuSans-48\"/><use x=\"63.623047\" xlink:href=\"#DejaVuSans-46\"/><use x=\"95.410156\" xlink:href=\"#DejaVuSans-48\"/><use x=\"159.033203\" xlink:href=\"#DejaVuSans-49\"/><use x=\"222.65625\" xlink:href=\"#DejaVuSans-55\"/></g><g transform=\"translate(294.63 268.67) scale(.1 -.1)\"><use xlink:href=\"#DejaVuSans-48\"/><use x=\"63.623047\" xlink:href=\"#DejaVuSans-46\"/><use x=\"95.410156\" xlink:href=\"#DejaVuSans-48\"/><use x=\"159.033203\" xlink:href=\"#DejaVuSans-48\"/><use x=\"222.65625\" xlink:href=\"#DejaVuSans-54\"/></g><g transform=\"translate(305.91 270.06) scale(.1 -.1)\"><use xlink:href=\"#DejaVuSans-48\"/><use x=\"63.623047\" xlink:href=\"#DejaVuSans-46\"/><use x=\"95.410156\" xlink:href=\"#DejaVuSans-48\"/><use x=\"159.033203\" xlink:href=\"#DejaVuSans-48\"/><use x=\"222.65625\" xlink:href=\"#DejaVuSans-53\"/></g><g transform=\"translate(317.18 274.48) scale(.1 -.1)\"><use xlink:href=\"#DejaVuSans-48\"/><use x=\"63.623047\" xlink:href=\"#DejaVuSans-46\"/><use x=\"95.410156\" xlink:href=\"#DejaVuSans-48\"/><use x=\"159.033203\" xlink:href=\"#DejaVuSans-48\"/><use x=\"222.65625\" xlink:href=\"#DejaVuSans-50\"/></g><g transform=\"translate(328.45 272.64) scale(.1 -.1)\"><use xlink:href=\"#DejaVuSans-48\"/><use x=\"63.623047\" xlink:href=\"#DejaVuSans-46\"/><use x=\"95.410156\" xlink:href=\"#DejaVuSans-48\"/><use x=\"159.033203\" xlink:href=\"#DejaVuSans-48\"/><use x=\"222.65625\" xlink:href=\"#DejaVuSans-51\"/></g><g transform=\"translate(339.73 253.93) scale(.1 -.1)\"><use xlink:href=\"#DejaVuSans-48\"/><use x=\"63.623047\" xlink:href=\"#DejaVuSans-46\"/><use x=\"95.410156\" xlink:href=\"#DejaVuSans-48\"/><use x=\"159.033203\" xlink:href=\"#DejaVuSans-49\"/><use x=\"222.65625\" xlink:href=\"#DejaVuSans-55\"/></g><g transform=\"translate(351 252.75) scale(.1 -.1)\"><use xlink:href=\"#DejaVuSans-48\"/><use x=\"63.623047\" xlink:href=\"#DejaVuSans-46\"/><use x=\"95.410156\" xlink:href=\"#DejaVuSans-48\"/><use x=\"159.033203\" xlink:href=\"#DejaVuSans-49\"/><use x=\"222.65625\" xlink:href=\"#DejaVuSans-56\"/></g><g transform=\"translate(362.27 262.34) scale(.1 -.1)\"><use xlink:href=\"#DejaVuSans-48\"/><use x=\"63.623047\" xlink:href=\"#DejaVuSans-46\"/><use x=\"95.410156\" xlink:href=\"#DejaVuSans-48\"/><use x=\"159.033203\" xlink:href=\"#DejaVuSans-49\"/><use x=\"222.65625\" xlink:href=\"#DejaVuSans-49\"/></g><g transform=\"translate(373.54 274.54) scale(.1 -.1)\"><use xlink:href=\"#DejaVuSans-48\"/><use x=\"63.623047\" xlink:href=\"#DejaVuSans-46\"/><use x=\"95.410156\" xlink:href=\"#DejaVuSans-48\"/><use x=\"159.033203\" xlink:href=\"#DejaVuSans-48\"/><use x=\"222.65625\" xlink:href=\"#DejaVuSans-50\"/></g><g transform=\"translate(384.82 269.98) scale(.1 -.1)\"><use xlink:href=\"#DejaVuSans-48\"/><use x=\"63.623047\" xlink:href=\"#DejaVuSans-46\"/><use x=\"95.410156\" xlink:href=\"#DejaVuSans-48\"/><use x=\"159.033203\" xlink:href=\"#DejaVuSans-48\"/><use x=\"222.65625\" xlink:href=\"#DejaVuSans-53\"/></g><g transform=\"translate(396.09 196.62) scale(.1 -.1)\"><use xlink:href=\"#DejaVuSans-48\"/><use x=\"63.623047\" xlink:href=\"#DejaVuSans-46\"/><use x=\"95.410156\" xlink:href=\"#DejaVuSans-48\"/><use x=\"159.033203\" xlink:href=\"#DejaVuSans-54\"/><use x=\"222.65625\" xlink:href=\"#DejaVuSans-49\"/></g><g transform=\"translate(407.36 274.96) scale(.1 -.1)\"><use xlink:href=\"#DejaVuSans-48\"/><use x=\"63.623047\" xlink:href=\"#DejaVuSans-46\"/><use x=\"95.410156\" xlink:href=\"#DejaVuSans-48\"/><use x=\"159.033203\" xlink:href=\"#DejaVuSans-48\"/><use x=\"222.65625\" xlink:href=\"#DejaVuSans-49\"/></g><g transform=\"translate(418.63 259.63) scale(.1 -.1)\"><use xlink:href=\"#DejaVuSans-48\"/><use x=\"63.623047\" xlink:href=\"#DejaVuSans-46\"/><use x=\"95.410156\" xlink:href=\"#DejaVuSans-48\"/><use x=\"159.033203\" xlink:href=\"#DejaVuSans-49\"/><use x=\"222.65625\" xlink:href=\"#DejaVuSans-51\"/></g><defs><clipPath id=\"pb8582b3f6a\"><rect x=\"62.921\" y=\"7.2\" width=\"390.6\" height=\"271.8\"/></clipPath></defs></svg>"
      ],
      "text/plain": [
       "<Figure size 504x360 with 1 Axes>"
      ]
     },
     "execution_count": 7,
     "metadata": {},
     "output_type": "execute_result"
    }
   ],
   "source": [
    "from qiskit import Aer, transpile\n",
    "from qiskit.visualization import plot_histogram\n",
    "sim = Aer.get_backend('aer_simulator')\n",
    "\n",
    "TRIAL = 0\n",
    "QUBIT_LIST_IDX = 3\n",
    "example_qc = qv_qc_list_nomeas[TRIAL][QUBIT_LIST_IDX]\n",
    "example_qc = transpile(example_qc, sim)\n",
    "example_qc.save_statevector()  # this is an instruction to the simulator\n",
    "example_counts = sim.run(example_qc).result().get_counts()\n",
    "plot_histogram(example_counts)"
   ]
  },
  {
   "cell_type": "markdown",
   "metadata": {},
   "source": [
    "The _heavy outputs_ of a circuit are defined as outputs with probability of occurring greater than the median probability. For any circuit, half the possible outputs are heavy outputs.\n",
    "\n",
    "![computational basis state](images/qv_heavy_outputs.svg)\n"
   ]
  },
  {
   "cell_type": "markdown",
   "metadata": {},
   "source": [
    "Below is a function, <code>get_heavy_outputs</code>, that extracts the heavy outputs from an experiment’s counts:\n"
   ]
  },
  {
   "cell_type": "code",
   "execution_count": 8,
   "metadata": {},
   "outputs": [
    {
     "name": "stdout",
     "output_type": "stream",
     "text": [
      "['11000', '11001', '01011', '00010', '00111', '00011', '01010', '00101', '01100', '10000', '10010', '11101', '01000', '01111', '01001', '01101']\n"
     ]
    }
   ],
   "source": [
    "def get_heavy_outputs(counts):\n",
    "    \"\"\"Extract heavy outputs from counts dict.\n",
    "    Args:\n",
    "        counts (dict): Output of `.get_counts()`\n",
    "    Returns:\n",
    "        list: All states with measurement probability greater\n",
    "              than the mean.\n",
    "    \"\"\"\n",
    "    # sort the keys of `counts` by value of counts.get(key)\n",
    "    sorted_counts = sorted(counts.keys(), key=counts.get)\n",
    "    # discard results with probability < median\n",
    "    heavy_outputs = sorted_counts[len(sorted_counts)//2:]\n",
    "    return heavy_outputs\n",
    "\n",
    "print(get_heavy_outputs(example_counts))"
   ]
  },
  {
   "cell_type": "markdown",
   "metadata": {
    "formulas": {
     "qv_nc": {
      "meaning": "The number of different circuits",
      "say": "N S",
      "type": "Locally defined variable"
     },
     "qv_ncns": {
      "meaning": "Number of unique circuits multiplied by the number of shots for each circuit.",
      "say": "N C N S",
      "type": "Locally defined variable"
     },
     "qv_nh": {
      "meaning": "The total number of heavy output measured.",
      "say": "N H",
      "type": "Locally defined variable"
     },
     "qv_nhnc": {
      "meaning": "The number of heavy outputs measured divided by the number of unique circuits.",
      "say": "NH over NC",
      "type": "Locally defined variable"
     },
     "qv_ns": {
      "meaning": "The number of times we run each circuit.",
      "say": "N S",
      "type": "Locally defined variable"
     },
     "qv_z": {
      "meaning": "Sets the threshold",
      "say": "Z test",
      "type": "Universally used notation"
     }
    }
   },
   "source": [
    "We run each circuit on our device and record the number of outputs that are heavy outputs. \n",
    "To pass the heavy output test, we want the probability of measuring a heavy output to be greater than two-thirds. I.e. over a large enough number of circuits we have:\n",
    "\n",
    "$$\\frac{\\class{qv_nh}{n_h}}{\\class{qv_nc}{n_c}\\class{qv_ns}{n_s}}\\gt{\\frac{2}{3}}$$\n",
    "\n",
    "Where $n_h$ is the number of heavy outputs measured, $n_c$ is the number of circuits we created, and $n_s$ is the number of times we run each circuit (shots). But how do we decide what a “large enough” number of experiments is? Firstly, quantum volume requires at least 100 circuits are run, otherwise the test is invalid. Secondly, an adjusted threshold is used to ensure approximately 97% confidence:\n",
    "\n",
    "$$\\frac{\\class{qv_nh}{n_h} -\\cssId{qv_z}{z}\\sqrt{\\class{qv_nh}{n_h}(\\class{qv_ns}{n_s}-\\cssId{qv_nhnc}{\\frac{n_h}{n_c}})}}{\\class{qv_nc}{n_c}\\class{qv_ns}{n_s}}\\gt\\frac{2}{3}$$\n",
    "\n",
    "Adding the new term (enclosed in the square root) requires a greater heavy output probability to satisfy the inequality, or a greater number of runs. Since the new term grows more slowly than the other terms, for lots of runs this inequality resembles the simpler one shown above. If a quantum volume test satisfies the above inequality, there is at least a 97% chance the heavy output probability is greater than 2/3.\n",
    "\n",
    "Below is a function (<code>check_threshold</code>) that evaluates this inequality:\n"
   ]
  },
  {
   "cell_type": "code",
   "execution_count": 9,
   "metadata": {},
   "outputs": [],
   "source": [
    "def check_threshold(nheavies, ncircuits, nshots):\n",
    "    \"\"\"Evaluate adjusted threshold inequality for quantum volume.\n",
    "    Args:\n",
    "        nheavies (int): Total number of heavy outputs measured from device\n",
    "        ncircuits (int): Number of different square circuits run on device\n",
    "        nshots (int): Number of shots per circuit\n",
    "    Returns:\n",
    "        Bool:\n",
    "            True if heavy output probability is > 2/3 with 97% certainty,\n",
    "            otherwise False\n",
    "    \"\"\"\n",
    "    from numpy import sqrt\n",
    "    numerator = nheavies - 2*sqrt(nheavies*(nshots-(nheavies/ncircuits)))\n",
    "    return bool(numerator/(ncircuits*nshots) > 2/3)"
   ]
  },
  {
   "cell_type": "markdown",
   "metadata": {},
   "source": [
    "<!-- ::: q-block.exercise -->\n",
    "\n",
    "## Exercise\n",
    "    \n",
    "We now have everything we need to check if a quantum device can achieve a specific quantum volume. Below are the steps of an algorithm that checks if a device can achieve a specific quantum volume, try to order them correctly.\n",
    "\n",
    "Algorithm to test if algorithm passes a quantum volume test.\n",
    "    Inputs: <code>d, nc > 100, ns</code>\n",
    "\n",
    "\n",
    "    q-drag-and-drop-code\n",
    "        .line Let nh = 0\n",
    "        .line For nc repetitions do:\n",
    "            .line Let U be a randomly generated d×d quantum circuit\n",
    "            .line Let Hu be a list of U’s heavy outputs\n",
    "            .line For ns repetitions do:\n",
    "                .line Let x be the result of executing U on the device\n",
    "                .line If x is in Hu:\n",
    "                    .line Increase nh by 1\n",
    "        .result-info.md Return evaluation of $\\phantom{a}\\frac{n_h {-} z\\sqrt{n_h({n_s}-{\\frac{n_h}{n_c}})}}{n_cn_s}\\gt\\frac{2}{3}$\n",
    "\n",
    "<!-- ::: -->\n"
   ]
  },
  {
   "cell_type": "markdown",
   "metadata": {},
   "source": [
    "Here is the algorithm as Qiskit code:"
   ]
  },
  {
   "cell_type": "code",
   "execution_count": 14,
   "metadata": {},
   "outputs": [],
   "source": [
    "def test_qv(device, qubits, ncircuits, nshots):\n",
    "    \"\"\"Try to achieve 2**len(qubits) quantum volume on device.\n",
    "    Args:\n",
    "        device (qiskit.providers.Backend): Device to test.\n",
    "        qubits (list(int)): List of qubits to use for test.\n",
    "        ncircuits (int): Number of unique circuits to generate\n",
    "                         (should be >100).\n",
    "        nshots (int): Number of shots per circuit.\n",
    "    Returns:\n",
    "        Bool\n",
    "            True if device passes test, otherwise False.\n",
    "    \"\"\"\n",
    "    # generate set of random circuits\n",
    "    qv_qc, qv_qc_nomeas = qv_circuits([qubits], ncircuits)\n",
    "    nheavies = 0  # number of measured heavy outputs\n",
    "\n",
    "    def get_result(circuit, backend=None):\n",
    "        if backend is None:  # use simulator\n",
    "            backend = Aer.get_backend('aer_simulator')\n",
    "            circuit.save_statevector()\n",
    "            shots = None\n",
    "            memory = None\n",
    "        else:\n",
    "            shots = nshots\n",
    "            memory = True\n",
    "        t_circuit = transpile(circuit, backend)\n",
    "        # 'assemble' is just until mock backends take circuits in 'run'\n",
    "        # pylint: disable=redefined-outer-name\n",
    "        from qiskit import assemble\n",
    "        job = backend.run(assemble(t_circuit,\n",
    "                                   shots=shots,\n",
    "                                   memory=memory))\n",
    "        return job.result()\n",
    "\n",
    "    for circuit in range(ncircuits):\n",
    "        # simulate circuit\n",
    "        counts = get_result(qv_qc_nomeas[circuit][0]).get_counts()\n",
    "        # get heavy outputs from simulated results\n",
    "        simulated_heavy_outputs = get_heavy_outputs(counts)\n",
    "        # run circuit on device\n",
    "        device_result = get_result(qv_qc[circuit][0], device)\n",
    "        # record whether device result is in the heavy outputs\n",
    "        for output in device_result.get_memory():\n",
    "            if output in simulated_heavy_outputs:\n",
    "                nheavies += 1\n",
    "\n",
    "    # do statistical check to see if device passes test\n",
    "    is_pass = check_threshold(nheavies, ncircuits, nshots)\n",
    "    # calculate percentage of measurements that are heavy outputs\n",
    "    pho = nheavies*100/(ncircuits * nshots)\n",
    "\n",
    "    print(f\"Quantum Volume: {2**len(qubits)}\\n\"\n",
    "          f\"Percentage Heavy Outputs: {pho:.1f}%\\n\"\n",
    "          f\"Passed?: {is_pass}\\n\")\n",
    "    return is_pass"
   ]
  },
  {
   "cell_type": "markdown",
   "metadata": {
    "gloss": {
     "santiago": {
      "text": "IBM names its quantum systems after cities. Here we are using a simulator that mimics IBM Quantum's Santiago device.",
      "title": "santiago"
     }
    }
   },
   "source": [
    "And an example of using this to see if a simulated [Santiago](gloss:santiago) device can achieve quantum volume 16:"
   ]
  },
  {
   "cell_type": "code",
   "execution_count": 15,
   "metadata": {},
   "outputs": [
    {
     "name": "stdout",
     "output_type": "stream",
     "text": [
      "Quantum Volume: 16\n",
      "Percentage Heavy Outputs: 75.7%\n",
      "Passed?: True\n",
      "\n"
     ]
    },
    {
     "data": {
      "text/plain": [
       "True"
      ]
     },
     "execution_count": 15,
     "metadata": {},
     "output_type": "execute_result"
    }
   ],
   "source": [
    "from qiskit.providers.fake_provider import FakeSantiago\n",
    "santiago = FakeSantiago()\n",
    "test_qv(santiago, [0,1,2,3], ncircuits=150, nshots=50)"
   ]
  },
  {
   "cell_type": "markdown",
   "metadata": {},
   "source": [
    "<!-- ::: q-block.exercise -->\n",
    "\n",
    "## Exercise\n",
    "    \n",
    "What is the maximum quantum volume you can achieve using a simulated Athens device? What affect does changing the list of qubits have? What affect does changing the optimization level have? Can you do anything to improve the score?\n",
    "\n",
    "[Try in IBM Quantum Lab](https://quantum-computing.ibm.com/jupyter)\n",
    "\n",
    "<!-- ::: -->\n"
   ]
  },
  {
   "cell_type": "markdown",
   "metadata": {},
   "source": [
    "## Using Qiskit’s quantum volume tools\n",
    "\n",
    "Qiskit includes tools to check quantum volume. You’ve already seen the <code>qv_circuits</code> function, Qiskit also provides a fitter to test the quantum volume for us. To use it, we first need to create a list of circuits to use as we did before:"
   ]
  },
  {
   "cell_type": "code",
   "execution_count": 7,
   "metadata": {},
   "outputs": [
    {
     "name": "stderr",
     "output_type": "stream",
     "text": [
      "/usr/local/anaconda3/lib/python3.7/site-packages/qiskit/ignis/verification/quantum_volume/circuits.py:72: DeprecationWarning: Using a qubit list to map a virtual circuit to a physical layout is deprecated and will be removed in a future release. Instead use ''qiskit.transpile' with the 'initial_layout' parameter\n",
      "  DeprecationWarning)\n",
      "/usr/local/anaconda3/lib/python3.7/site-packages/qiskit/ignis/verification/quantum_volume/circuits.py:72: DeprecationWarning: Using a qubit list to map a virtual circuit to a physical layout is deprecated and will be removed in a future release. Instead use ''qiskit.transpile' with the 'initial_layout' parameter\n",
      "  DeprecationWarning)\n",
      "/usr/local/anaconda3/lib/python3.7/site-packages/qiskit/ignis/verification/quantum_volume/circuits.py:72: DeprecationWarning: Using a qubit list to map a virtual circuit to a physical layout is deprecated and will be removed in a future release. Instead use ''qiskit.transpile' with the 'initial_layout' parameter\n",
      "  DeprecationWarning)\n"
     ]
    }
   ],
   "source": [
    "from qiskit.ignis.verification.quantum_volume import qv_circuits\n",
    "qubit_lists = [[0,1],          # QV 4\n",
    "               [0,1,2],        # QV 8\n",
    "               [0,1,2,6],      # QV 16\n",
    "               [0,1,2,6,3]]    # QV 32\n",
    "NCIRCUITS = 150  # number of circuits to generate for each qubit list\n",
    "qv_qc_list, qv_qc_list_nomeas = qv_circuits(qubit_lists, NCIRCUITS)"
   ]
  },
  {
   "cell_type": "markdown",
   "metadata": {},
   "source": [
    "Next, we simulate all our circuits using Qiskit’s state vector simulator and save the results to a list:"
   ]
  },
  {
   "cell_type": "code",
   "execution_count": 11,
   "metadata": {},
   "outputs": [
    {
     "name": "stdout",
     "output_type": "stream",
     "text": [
      "Simulating trials:\n",
      "[######################################################################################################################################################]\n",
      "Done!\n"
     ]
    }
   ],
   "source": [
    "from qiskit import Aer, transpile\n",
    "sim = Aer.get_backend('aer_simulator')\n",
    "ideal_results_list = []\n",
    "print('Simulating trials:\\n[', end=\"\")\n",
    "for trial in range(NCIRCUITS):\n",
    "    print('#', end=\"\")\n",
    "    t_qc = transpile(qv_qc_list_nomeas[trial], sim)\n",
    "    for qc in t_qc:\n",
    "        qc.save_statevector()\n",
    "    result = sim.run(t_qc).result()\n",
    "    ideal_results_list.append(result)\n",
    "print(']')\n",
    "print('Done!')"
   ]
  },
  {
   "cell_type": "markdown",
   "metadata": {},
   "source": [
    "We can now initialise the fitter and add the ideal results:"
   ]
  },
  {
   "cell_type": "code",
   "execution_count": 12,
   "metadata": {},
   "outputs": [],
   "source": [
    "from qiskit.ignis.verification.quantum_volume import QVFitter\n",
    "qv_fitter = QVFitter(qubit_lists=qubit_lists)\n",
    "qv_fitter.add_statevectors(ideal_results_list)"
   ]
  },
  {
   "cell_type": "markdown",
   "metadata": {},
   "source": [
    "Next we need to specify which device we’ll perform the experiment on. Here we’re going to use a mock Boeblingen device:"
   ]
  },
  {
   "cell_type": "code",
   "execution_count": 13,
   "metadata": {},
   "outputs": [],
   "source": [
    "from qiskit.providers.fake_provider import FakeBoeblingen\n",
    "boeblingen = FakeBoeblingen()"
   ]
  },
  {
   "cell_type": "markdown",
   "metadata": {},
   "source": [
    "And we now run the circuits on the device we’re testing, saving the results in the same way (this may take a while)."
   ]
  },
  {
   "cell_type": "code",
   "execution_count": 14,
   "metadata": {},
   "outputs": [
    {
     "name": "stdout",
     "output_type": "stream",
     "text": [
      "Running trials:\n",
      "[######################################################################################################################################################]\n",
      "Done!\n"
     ]
    }
   ],
   "source": [
    "device_results_list = []\n",
    "print('Running trials:\\n[', end=\"\")\n",
    "for trial in range(NCIRCUITS):\n",
    "    print('#', end=\"\")\n",
    "    t_qc = transpile(qv_qc_list[trial], boeblingen, optimization_level=3)\n",
    "    from qiskit import assemble\n",
    "    qobj = assemble(t_qc)\n",
    "    result = boeblingen.run(qobj).result()\n",
    "    device_results_list.append(result)\n",
    "print(']')\n",
    "print('Done!')"
   ]
  },
  {
   "cell_type": "markdown",
   "metadata": {},
   "source": [
    "And we add these results to the fitter:"
   ]
  },
  {
   "cell_type": "code",
   "execution_count": 15,
   "metadata": {},
   "outputs": [],
   "source": [
    "qv_fitter.add_data(device_results_list)"
   ]
  },
  {
   "cell_type": "markdown",
   "metadata": {},
   "source": [
    "Finally, the fitter will plot this nicely for us, and we can see the results of our experiment. Here, we can see the mock Boeblingen device achieves QV4, but just misses out on QV8 as the error bars overlap the threshold."
   ]
  },
  {
   "cell_type": "code",
   "execution_count": 16,
   "metadata": {},
   "outputs": [
    {
     "data": {
      "image/svg+xml": [
       "<?xml version=\"1.0\" encoding=\"UTF-8\"?><!DOCTYPE svg  PUBLIC '-//W3C//DTD SVG 1.1//EN'  'http://www.w3.org/Graphics/SVG/1.1/DTD/svg11.dtd'><svg width=\"613.91pt\" height=\"457.78pt\" version=\"1.1\" viewBox=\"0 0 613.91 457.78\" xmlns=\"http://www.w3.org/2000/svg\" xmlns:xlink=\"http://www.w3.org/1999/xlink\"><defs><style type=\"text/css\">*{stroke-linecap:butt;stroke-linejoin:round;}</style></defs><path d=\"m0 457.78h613.91v-457.78h-613.91z\" fill=\"none\"/><path d=\"m47.652 373.19h558v-326.16h-558z\" fill=\"#ffffff\"/><path d=\"m73.016 373.19v-326.16\" clip-path=\"url(#p11c1729ee7)\" fill=\"none\" stroke=\"#b0b0b0\" stroke-linecap=\"square\" stroke-width=\".8\"/><defs><path id=\"mffc20f77c3\" d=\"m0 0v3.5\" stroke=\"#000000\" stroke-width=\".8\"/></defs><use x=\"73.016136\" y=\"373.19325\" stroke=\"#000000\" stroke-width=\".8\" xlink:href=\"#mffc20f77c3\"/><defs><path id=\"DejaVuSans-91\" d=\"m8.5938 75.984h20.703v-6.9844h-11.719v-75.203h11.719v-6.9844h-20.703z\"/><path id=\"DejaVuSans-48\" d=\"m31.781 66.406q-7.6094 0-11.453-7.5-3.8281-7.4844-3.8281-22.531 0-14.984 3.8281-22.484 3.8438-7.5 11.453-7.5 7.6719 0 11.5 7.5 3.8438 7.5 3.8438 22.484 0 15.047-3.8438 22.531-3.8281 7.5-11.5 7.5zm0 7.8125q12.266 0 18.734-9.7031 6.4688-9.6875 6.4688-28.141 0-18.406-6.4688-28.109-6.4688-9.6875-18.734-9.6875-12.25 0-18.719 9.6875-6.4688 9.7031-6.4688 28.109 0 18.453 6.4688 28.141 6.4688 9.7031 18.719 9.7031z\"/><path id=\"DejaVuSans-44\" d=\"m11.719 12.406h10.297v-8.4062l-8-15.625h-6.2969l4 15.625z\"/><path id=\"DejaVuSans-49\" d=\"m12.406 8.2969h16.109v55.625l-17.531-3.5156v8.9844l17.438 3.5156h9.8594v-64.609h16.109v-8.2969h-41.984z\"/><path id=\"DejaVuSans-93\" d=\"m30.422 75.984v-89.172h-20.703v6.9844h11.672v75.203h-11.672v6.9844z\"/></defs><g transform=\"translate(65.462 404.58) rotate(-45) scale(.1 -.1)\"><use xlink:href=\"#DejaVuSans-91\"/><use x=\"39.013672\" xlink:href=\"#DejaVuSans-48\"/><use x=\"102.636719\" xlink:href=\"#DejaVuSans-44\"/><use x=\"134.423828\" xlink:href=\"#DejaVuSans-32\"/><use x=\"166.210938\" xlink:href=\"#DejaVuSans-49\"/><use x=\"229.833984\" xlink:href=\"#DejaVuSans-93\"/></g><path d=\"m242.11 373.19v-326.16\" clip-path=\"url(#p11c1729ee7)\" fill=\"none\" stroke=\"#b0b0b0\" stroke-linecap=\"square\" stroke-width=\".8\"/><use x=\"242.107045\" y=\"373.19325\" stroke=\"#000000\" stroke-width=\".8\" xlink:href=\"#mffc20f77c3\"/><defs><path id=\"DejaVuSans-50\" d=\"m19.188 8.2969h34.422v-8.2969h-46.281v8.2969q5.6094 5.8125 15.297 15.594 9.7031 9.7969 12.188 12.641 4.7344 5.3125 6.6094 9 1.8906 3.6875 1.8906 7.25 0 5.8125-4.0781 9.4688-4.0781 3.6719-10.625 3.6719-4.6406 0-9.7969-1.6094-5.1406-1.6094-11-4.8906v9.9688q5.9531 2.3906 11.125 3.6094 5.1875 1.2188 9.4844 1.2188 11.328 0 18.062-5.6719 6.7344-5.6562 6.7344-15.125 0-4.5-1.6875-8.5312-1.6719-4.0156-6.125-9.4844-1.2188-1.4219-7.7656-8.1875-6.5312-6.7656-18.453-18.922z\"/></defs><g transform=\"translate(230.06 413.57) rotate(-45) scale(.1 -.1)\"><use xlink:href=\"#DejaVuSans-91\"/><use x=\"39.013672\" xlink:href=\"#DejaVuSans-48\"/><use x=\"102.636719\" xlink:href=\"#DejaVuSans-44\"/><use x=\"134.423828\" xlink:href=\"#DejaVuSans-32\"/><use x=\"166.210938\" xlink:href=\"#DejaVuSans-49\"/><use x=\"229.833984\" xlink:href=\"#DejaVuSans-44\"/><use x=\"261.621094\" xlink:href=\"#DejaVuSans-32\"/><use x=\"293.408203\" xlink:href=\"#DejaVuSans-50\"/><use x=\"357.03125\" xlink:href=\"#DejaVuSans-93\"/></g><path d=\"m411.2 373.19v-326.16\" clip-path=\"url(#p11c1729ee7)\" fill=\"none\" stroke=\"#b0b0b0\" stroke-linecap=\"square\" stroke-width=\".8\"/><use x=\"411.197955\" y=\"373.19325\" stroke=\"#000000\" stroke-width=\".8\" xlink:href=\"#mffc20f77c3\"/><defs><path id=\"DejaVuSans-54\" d=\"m33.016 40.375q-6.6406 0-10.531-4.5469-3.875-4.5312-3.875-12.438 0-7.8594 3.875-12.438 3.8906-4.5625 10.531-4.5625t10.516 4.5625q3.875 4.5781 3.875 12.438 0 7.9062-3.875 12.438-3.875 4.5469-10.516 4.5469zm19.578 30.922v-8.9844q-3.7188 1.75-7.5 2.6719-3.7812 0.9375-7.5 0.9375-9.7656 0-14.922-6.5938-5.1406-6.5938-5.875-19.922 2.875 4.25 7.2188 6.5156 4.3594 2.2656 9.5781 2.2656 10.984 0 17.359-6.6719 6.375-6.6562 6.375-18.125 0-11.234-6.6406-18.031-6.6406-6.7812-17.672-6.7812-12.656 0-19.344 9.6875-6.6875 9.7031-6.6875 28.109 0 17.281 8.2031 27.562t22.016 10.281q3.7188 0 7.5-0.73438t7.8906-2.1875z\"/></defs><g transform=\"translate(394.65 422.56) rotate(-45) scale(.1 -.1)\"><use xlink:href=\"#DejaVuSans-91\"/><use x=\"39.013672\" xlink:href=\"#DejaVuSans-48\"/><use x=\"102.636719\" xlink:href=\"#DejaVuSans-44\"/><use x=\"134.423828\" xlink:href=\"#DejaVuSans-32\"/><use x=\"166.210938\" xlink:href=\"#DejaVuSans-49\"/><use x=\"229.833984\" xlink:href=\"#DejaVuSans-44\"/><use x=\"261.621094\" xlink:href=\"#DejaVuSans-32\"/><use x=\"293.408203\" xlink:href=\"#DejaVuSans-50\"/><use x=\"357.03125\" xlink:href=\"#DejaVuSans-44\"/><use x=\"388.818359\" xlink:href=\"#DejaVuSans-32\"/><use x=\"420.605469\" xlink:href=\"#DejaVuSans-54\"/><use x=\"484.228516\" xlink:href=\"#DejaVuSans-93\"/></g><path d=\"m580.29 373.19v-326.16\" clip-path=\"url(#p11c1729ee7)\" fill=\"none\" stroke=\"#b0b0b0\" stroke-linecap=\"square\" stroke-width=\".8\"/><use x=\"580.288864\" y=\"373.19325\" stroke=\"#000000\" stroke-width=\".8\" xlink:href=\"#mffc20f77c3\"/><defs><path id=\"DejaVuSans-51\" d=\"m40.578 39.312q7.0781-1.5156 11.047-6.3125 3.9844-4.7812 3.9844-11.812 0-10.781-7.4219-16.703-7.4219-5.9062-21.094-5.9062-4.5781 0-9.4375 0.90625t-10.031 2.7188v9.5156q4.0938-2.3906 8.9688-3.6094 4.8906-1.2188 10.219-1.2188 9.2656 0 14.125 3.6562t4.8594 10.641q0 6.4531-4.5156 10.078-4.5156 3.6406-12.562 3.6406h-8.5v8.1094h8.8906q7.2656 0 11.125 2.9062t3.8594 8.375q0 5.6094-3.9844 8.6094-3.9688 3.0156-11.391 3.0156-4.0625 0-8.7031-0.89062-4.6406-0.875-10.203-2.7188v8.7812q5.625 1.5625 10.531 2.3438t9.25 0.78125q11.234 0 17.766-5.1094 6.5469-5.0938 6.5469-13.781 0-6.0625-3.4688-10.234t-9.8594-5.7812z\"/></defs><g transform=\"translate(559.24 431.56) rotate(-45) scale(.1 -.1)\"><use xlink:href=\"#DejaVuSans-91\"/><use x=\"39.013672\" xlink:href=\"#DejaVuSans-48\"/><use x=\"102.636719\" xlink:href=\"#DejaVuSans-44\"/><use x=\"134.423828\" xlink:href=\"#DejaVuSans-32\"/><use x=\"166.210938\" xlink:href=\"#DejaVuSans-49\"/><use x=\"229.833984\" xlink:href=\"#DejaVuSans-44\"/><use x=\"261.621094\" xlink:href=\"#DejaVuSans-32\"/><use x=\"293.408203\" xlink:href=\"#DejaVuSans-50\"/><use x=\"357.03125\" xlink:href=\"#DejaVuSans-44\"/><use x=\"388.818359\" xlink:href=\"#DejaVuSans-32\"/><use x=\"420.605469\" xlink:href=\"#DejaVuSans-54\"/><use x=\"484.228516\" xlink:href=\"#DejaVuSans-44\"/><use x=\"516.015625\" xlink:href=\"#DejaVuSans-32\"/><use x=\"547.802734\" xlink:href=\"#DejaVuSans-51\"/><use x=\"611.425781\" xlink:href=\"#DejaVuSans-93\"/></g><defs><path id=\"DejaVuSans-81\" d=\"m39.406 66.219q-10.75 0-17.078-8.0156-6.3125-8-6.3125-21.828 0-13.766 6.3125-21.781 6.3281-8 17.078-8 10.734 0 17.016 8 6.2812 8.0156 6.2812 21.781 0 13.828-6.2812 21.828-6.2812 8.0156-17.016 8.0156zm13.812-64.906 13-14.203h-11.922l-10.797 11.672q-1.6094-0.09375-2.4688-0.14062-0.84375-0.0625-1.625-0.0625-15.375 0-24.594 10.281-9.2031 10.281-9.2031 27.516 0 17.281 9.2031 27.562 9.2188 10.281 24.594 10.281 15.328 0 24.5-10.281 9.1875-10.281 9.1875-27.562 0-12.688-5.1094-21.734-5.0938-9.0312-14.766-13.328z\"/><path id=\"DejaVuSans-117\" d=\"m8.5 21.578v33.109h8.9844v-32.766q0-7.7656 3.0156-11.656 3.0312-3.875 9.0938-3.875 7.2656 0 11.484 4.6406 4.2344 4.6406 4.2344 12.656v31h8.9844v-54.688h-8.9844v8.4062q-3.2656-4.9844-7.5938-7.4062-4.3125-2.4219-10.031-2.4219-9.4219 0-14.312 5.8594-4.875 5.8594-4.875 17.141z\"/><path id=\"DejaVuSans-98\" d=\"m48.688 27.297q0 9.9062-4.0781 15.547t-11.203 5.6406q-7.1406 0-11.219-5.6406t-4.0781-15.547 4.0781-15.547 11.219-5.6406q7.125 0 11.203 5.6406t4.0781 15.547zm-30.578 19.094q2.8438 4.875 7.1562 7.2344 4.3281 2.375 10.328 2.375 9.9688 0 16.188-7.9062 6.2344-7.9062 6.2344-20.797t-6.2344-20.812q-6.2188-7.9062-16.188-7.9062-6 0-10.328 2.375-4.3125 2.375-7.1562 7.25v-8.2031h-9.0312v75.984h9.0312z\"/><path id=\"DejaVuSans-105\" d=\"m9.4219 54.688h8.9844v-54.688h-8.9844zm0 21.297h8.9844v-11.391h-8.9844z\"/><path id=\"DejaVuSans-116\" d=\"m18.312 70.219v-15.531h18.5v-6.9844h-18.5v-29.688q0-6.6875 1.8281-8.5938t7.4531-1.9062h9.2188v-7.5156h-9.2188q-10.406 0-14.359 3.875-3.9531 3.8906-3.9531 14.141v29.688h-6.5938v6.9844h6.5938v15.531z\"/><path id=\"DejaVuSans-83\" d=\"m53.516 70.516v-9.625q-5.6094 2.6875-10.594 4-4.9844 1.3281-9.625 1.3281-8.0469 0-12.422-3.125t-4.375-8.8906q0-4.8438 2.9062-7.3125 2.9062-2.4531 11.016-3.9688l5.9531-1.2188q11.031-2.1094 16.281-7.4062t5.25-14.172q0-10.609-7.1094-16.078-7.0938-5.4688-20.812-5.4688-5.1719 0-11.016 1.1719-5.8281 1.1719-12.078 3.4688v10.156q6-3.3594 11.766-5.0781 5.7656-1.7031 11.328-1.7031 8.4375 0 13.031 3.3125 4.5938 3.3281 4.5938 9.4844 0 5.3594-3.2969 8.3906t-10.812 4.5469l-6.0156 1.1719q-11.031 2.1875-15.969 6.875-4.9219 4.6875-4.9219 13.047 0 9.6719 6.8125 15.234t18.766 5.5625q5.1406 0 10.453-0.9375 5.3281-0.92188 10.891-2.7656z\"/><path id=\"DejaVuSans-115\" d=\"m44.281 53.078v-8.5q-3.7969 1.9531-7.9062 2.9219-4.0938 0.98438-8.5 0.98438-6.6875 0-10.031-2.0469t-3.3438-6.1562q0-3.125 2.3906-4.9062t9.625-3.3906l3.0781-0.6875q9.5625-2.0469 13.594-5.7812t4.0312-10.422q0-7.625-6.0312-12.078-6.0312-4.4375-16.578-4.4375-4.3906 0-9.1562 0.85938t-10.031 2.5625v9.2812q4.9844-2.5938 9.8125-3.8906 4.8281-1.2812 9.5781-1.2812 6.3438 0 9.75 2.1719 3.4219 2.1719 3.4219 6.125 0 3.6562-2.4688 5.6094-2.4531 1.9531-10.812 3.7656l-3.125 0.73438q-8.3438 1.75-12.062 5.3906-3.7031 3.6406-3.7031 9.9844 0 7.7188 5.4688 11.906 5.4688 4.2031 15.531 4.2031 4.9688 0 9.3594-0.73438 4.4062-0.71875 8.1094-2.1875z\"/><path id=\"DejaVuSans-101\" d=\"m56.203 29.594v-4.3906h-41.312q0.59375-9.2812 5.5938-14.141t13.938-4.8594q5.1719 0 10.031 1.2656t9.6562 3.8125v-8.5q-4.8438-2.0469-9.9219-3.125t-10.297-1.0781q-13.094 0-20.734 7.6094-7.6406 7.625-7.6406 20.625 0 13.422 7.25 21.297 7.25 7.8906 19.562 7.8906 11.031 0 17.453-7.1094 6.4219-7.0938 6.4219-19.297zm-8.9844 2.6406q-0.09375 7.3594-4.125 11.75-4.0312 4.4062-10.672 4.4062-7.5156 0-12.031-4.25t-5.2031-11.969z\"/></defs><g transform=\"translate(281.33 447.67) scale(.14 -.14)\"><use xlink:href=\"#DejaVuSans-81\"/><use x=\"78.710938\" xlink:href=\"#DejaVuSans-117\"/><use x=\"142.089844\" xlink:href=\"#DejaVuSans-98\"/><use x=\"205.566406\" xlink:href=\"#DejaVuSans-105\"/><use x=\"233.349609\" xlink:href=\"#DejaVuSans-116\"/><use x=\"272.558594\" xlink:href=\"#DejaVuSans-32\"/><use x=\"304.345703\" xlink:href=\"#DejaVuSans-83\"/><use x=\"367.822266\" xlink:href=\"#DejaVuSans-117\"/><use x=\"431.201172\" xlink:href=\"#DejaVuSans-98\"/><use x=\"494.677734\" xlink:href=\"#DejaVuSans-115\"/><use x=\"546.777344\" xlink:href=\"#DejaVuSans-101\"/><use x=\"608.300781\" xlink:href=\"#DejaVuSans-116\"/></g><path d=\"m47.652 355.48h558\" clip-path=\"url(#p11c1729ee7)\" fill=\"none\" stroke=\"#b0b0b0\" stroke-linecap=\"square\" stroke-width=\".8\"/><defs><path id=\"m327243dade\" d=\"m0 0h-3.5\" stroke=\"#000000\" stroke-width=\".8\"/></defs><use x=\"47.6525\" y=\"355.479832\" stroke=\"#000000\" stroke-width=\".8\" xlink:href=\"#m327243dade\"/><defs><path id=\"DejaVuSans-46\" d=\"m10.688 12.406h10.312v-12.406h-10.312z\"/><path id=\"DejaVuSans-53\" d=\"m10.797 72.906h38.719v-8.3125h-29.688v-17.859q2.1406 0.73438 4.2812 1.0938 2.1562 0.35938 4.3125 0.35938 12.203 0 19.328-6.6875 7.1406-6.6875 7.1406-18.109 0-11.766-7.3281-18.297-7.3281-6.5156-20.656-6.5156-4.5938 0-9.3594 0.78125-4.75 0.78125-9.8281 2.3438v9.9219q4.3906-2.3906 9.0781-3.5625t9.9062-1.1719q8.4531 0 13.375 4.4375 4.9375 4.4375 4.9375 12.062 0 7.6094-4.9375 12.047-4.9219 4.4531-13.375 4.4531-3.9531 0-7.8906-0.875-3.9219-0.875-8.0156-2.7344z\"/></defs><g transform=\"translate(24.749 359.28) scale(.1 -.1)\"><use xlink:href=\"#DejaVuSans-48\"/><use x=\"63.623047\" xlink:href=\"#DejaVuSans-46\"/><use x=\"95.410156\" xlink:href=\"#DejaVuSans-53\"/></g><path d=\"m47.652 285.34h558\" clip-path=\"url(#p11c1729ee7)\" fill=\"none\" stroke=\"#b0b0b0\" stroke-linecap=\"square\" stroke-width=\".8\"/><use x=\"47.6525\" y=\"285.342346\" stroke=\"#000000\" stroke-width=\".8\" xlink:href=\"#m327243dade\"/><g transform=\"translate(24.749 289.14) scale(.1 -.1)\"><use xlink:href=\"#DejaVuSans-48\"/><use x=\"63.623047\" xlink:href=\"#DejaVuSans-46\"/><use x=\"95.410156\" xlink:href=\"#DejaVuSans-54\"/></g><path d=\"m47.652 215.2h558\" clip-path=\"url(#p11c1729ee7)\" fill=\"none\" stroke=\"#b0b0b0\" stroke-linecap=\"square\" stroke-width=\".8\"/><use x=\"47.6525\" y=\"215.204859\" stroke=\"#000000\" stroke-width=\".8\" xlink:href=\"#m327243dade\"/><defs><path id=\"DejaVuSans-55\" d=\"m8.2031 72.906h46.875v-4.2031l-26.469-68.703h-10.297l24.906 64.594h-35.016z\"/></defs><g transform=\"translate(24.749 219) scale(.1 -.1)\"><use xlink:href=\"#DejaVuSans-48\"/><use x=\"63.623047\" xlink:href=\"#DejaVuSans-46\"/><use x=\"95.410156\" xlink:href=\"#DejaVuSans-55\"/></g><path d=\"m47.652 145.07h558\" clip-path=\"url(#p11c1729ee7)\" fill=\"none\" stroke=\"#b0b0b0\" stroke-linecap=\"square\" stroke-width=\".8\"/><use x=\"47.6525\" y=\"145.067373\" stroke=\"#000000\" stroke-width=\".8\" xlink:href=\"#m327243dade\"/><defs><path id=\"DejaVuSans-56\" d=\"m31.781 34.625q-7.0312 0-11.062-3.7656-4.0156-3.7656-4.0156-10.344 0-6.5938 4.0156-10.359 4.0312-3.7656 11.062-3.7656t11.078 3.7812q4.0625 3.7969 4.0625 10.344 0 6.5781-4.0312 10.344-4.0156 3.7656-11.109 3.7656zm-9.8594 4.1875q-6.3438 1.5625-9.8906 5.9062-3.5312 4.3594-3.5312 10.609 0 8.7344 6.2188 13.812 6.2344 5.0781 17.062 5.0781 10.891 0 17.094-5.0781t6.2031-13.812q0-6.25-3.5469-10.609-3.5312-4.3438-9.8281-5.9062 7.125-1.6562 11.094-6.5 3.9844-4.8281 3.9844-11.797 0-10.609-6.4688-16.281-6.4688-5.6562-18.531-5.6562-12.047 0-18.531 5.6562-6.4688 5.6719-6.4688 16.281 0 6.9688 4 11.797 4.0156 4.8438 11.141 6.5zm-3.6094 15.578q0-5.6562 3.5312-8.8281 3.5469-3.1719 9.9375-3.1719 6.3594 0 9.9375 3.1719 3.5938 3.1719 3.5938 8.8281 0 5.6719-3.5938 8.8438-3.5781 3.1719-9.9375 3.1719-6.3906 0-9.9375-3.1719-3.5312-3.1719-3.5312-8.8438z\"/></defs><g transform=\"translate(24.749 148.87) scale(.1 -.1)\"><use xlink:href=\"#DejaVuSans-48\"/><use x=\"63.623047\" xlink:href=\"#DejaVuSans-46\"/><use x=\"95.410156\" xlink:href=\"#DejaVuSans-56\"/></g><path d=\"m47.652 74.93h558\" clip-path=\"url(#p11c1729ee7)\" fill=\"none\" stroke=\"#b0b0b0\" stroke-linecap=\"square\" stroke-width=\".8\"/><use x=\"47.6525\" y=\"74.929886\" stroke=\"#000000\" stroke-width=\".8\" xlink:href=\"#m327243dade\"/><defs><path id=\"DejaVuSans-57\" d=\"m10.984 1.5156v8.9844q3.7188-1.7656 7.5156-2.6875 3.8125-0.92188 7.4844-0.92188 9.7656 0 14.906 6.5625 5.1562 6.5625 5.8906 19.953-2.8281-4.2031-7.1875-6.4531-4.3438-2.25-9.6094-2.25-10.938 0-17.312 6.6094-6.375 6.625-6.375 18.109 0 11.219 6.6406 18 6.6406 6.7969 17.672 6.7969 12.656 0 19.312-9.7031 6.6719-9.6875 6.6719-28.141 0-17.234-8.1875-27.516-8.1719-10.281-21.984-10.281-3.7188 0-7.5312 0.73438-3.7969 0.73438-7.9062 2.2031zm19.625 30.906q6.6406 0 10.516 4.5312 3.8906 4.5469 3.8906 12.469 0 7.8594-3.8906 12.422-3.875 4.5625-10.516 4.5625t-10.516-4.5625-3.875-12.422q0-7.9219 3.875-12.469 3.875-4.5312 10.516-4.5312z\"/></defs><g transform=\"translate(24.749 78.729) scale(.1 -.1)\"><use xlink:href=\"#DejaVuSans-48\"/><use x=\"63.623047\" xlink:href=\"#DejaVuSans-46\"/><use x=\"95.410156\" xlink:href=\"#DejaVuSans-57\"/></g><defs><path id=\"DejaVuSans-72\" d=\"m9.8125 72.906h9.8594v-29.891h35.844v29.891h9.8594v-72.906h-9.8594v34.719h-35.844v-34.719h-9.8594z\"/><path id=\"DejaVuSans-97\" d=\"m34.281 27.484q-10.891 0-15.094-2.4844t-4.2031-8.5q0-4.7812 3.1562-7.5938 3.1562-2.7969 8.5625-2.7969 7.4844 0 12 5.2969t4.5156 14.078v2zm17.922 3.7188v-31.203h-8.9844v8.2969q-3.0781-4.9688-7.6719-7.3438t-11.234-2.375q-8.3906 0-13.359 4.7188-4.9531 4.7188-4.9531 12.625 0 9.2188 6.1719 13.906 6.1875 4.6875 18.438 4.6875h12.609v0.89062q0 6.2031-4.0781 9.5938t-11.453 3.3906q-4.6875 0-9.1406-1.125-4.4375-1.125-8.5312-3.375v8.3125q4.9219 1.9062 9.5625 2.8438 4.6406 0.95312 9.0312 0.95312 11.875 0 17.734-6.1562 5.8594-6.1406 5.8594-18.641z\"/><path id=\"DejaVuSans-118\" d=\"m2.9844 54.688h9.5156l17.094-45.891 17.094 45.891h9.5156l-20.516-54.688h-12.203z\"/><path id=\"DejaVuSans-121\" d=\"m32.172-5.0781q-3.7969-9.7656-7.4219-12.734-3.6094-2.9844-9.6562-2.9844h-7.1875v7.5156h5.2812q3.7031 0 5.75 1.7656 2.0625 1.75 4.5469 8.2969l1.6094 4.0938-22.109 53.812h9.5156l17.094-42.766 17.094 42.766h9.5156z\"/><path id=\"DejaVuSans-79\" d=\"m39.406 66.219q-10.75 0-17.078-8.0156-6.3125-8-6.3125-21.828 0-13.766 6.3125-21.781 6.3281-8 17.078-8 10.734 0 17.016 8 6.2812 8.0156 6.2812 21.781 0 13.828-6.2812 21.828-6.2812 8.0156-17.016 8.0156zm0 8q15.328 0 24.5-10.281 9.1875-10.281 9.1875-27.562 0-17.234-9.1875-27.516-9.1719-10.281-24.5-10.281-15.375 0-24.594 10.25-9.2031 10.266-9.2031 27.547t9.2031 27.562q9.2188 10.281 24.594 10.281z\"/><path id=\"DejaVuSans-112\" d=\"m18.109 8.2031v-29h-9.0312v75.484h9.0312v-8.2969q2.8438 4.875 7.1562 7.2344 4.3281 2.375 10.328 2.375 9.9688 0 16.188-7.9062 6.2344-7.9062 6.2344-20.797t-6.2344-20.812q-6.2188-7.9062-16.188-7.9062-6 0-10.328 2.375-4.3125 2.375-7.1562 7.25zm30.578 19.094q0 9.9062-4.0781 15.547t-11.203 5.6406q-7.1406 0-11.219-5.6406t-4.0781-15.547 4.0781-15.547 11.219-5.6406q7.125 0 11.203 5.6406t4.0781 15.547z\"/><path id=\"DejaVuSans-80\" d=\"m19.672 64.797v-27.391h12.406q6.8906 0 10.641 3.5625 3.7656 3.5625 3.7656 10.156 0 6.5469-3.7656 10.109-3.75 3.5625-10.641 3.5625zm-9.8594 8.1094h22.266q12.266 0 18.531-5.5469 6.2812-5.5469 6.2812-16.234 0-10.797-6.2812-16.312-6.2656-5.5156-18.531-5.5156h-12.406v-29.297h-9.8594z\"/><path id=\"DejaVuSans-114\" d=\"m41.109 46.297q-1.5156 0.875-3.2969 1.2812-1.7812 0.42188-3.9219 0.42188-7.625 0-11.703-4.9531t-4.0781-14.234v-28.812h-9.0312v54.688h9.0312v-8.5q2.8438 4.9844 7.375 7.3906 4.5469 2.4219 11.047 2.4219 0.92188 0 2.0469-0.125 1.125-0.10938 2.4844-0.35938z\"/><path id=\"DejaVuSans-111\" d=\"m30.609 48.391q-7.2188 0-11.422-5.6406t-4.2031-15.453 4.1719-15.453q4.1875-5.6406 11.453-5.6406 7.1875 0 11.375 5.6562 4.2031 5.6719 4.2031 15.438 0 9.7188-4.2031 15.406-4.1875 5.6875-11.375 5.6875zm0 7.6094q11.719 0 18.406-7.625 6.7031-7.6094 6.7031-21.078 0-13.422-6.7031-21.078-6.6875-7.6406-18.406-7.6406-11.766 0-18.438 7.6406-6.6562 7.6562-6.6562 21.078 0 13.469 6.6562 21.078 6.6719 7.625 18.438 7.625z\"/><path id=\"DejaVuSans-108\" d=\"m9.4219 75.984h8.9844v-75.984h-8.9844z\"/></defs><g transform=\"translate(17.838 298.03) rotate(-90) scale(.14 -.14)\"><use xlink:href=\"#DejaVuSans-72\"/><use x=\"75.195312\" xlink:href=\"#DejaVuSans-101\"/><use x=\"136.71875\" xlink:href=\"#DejaVuSans-97\"/><use x=\"197.998047\" xlink:href=\"#DejaVuSans-118\"/><use x=\"257.177734\" xlink:href=\"#DejaVuSans-121\"/><use x=\"316.357422\" xlink:href=\"#DejaVuSans-32\"/><use x=\"348.144531\" xlink:href=\"#DejaVuSans-79\"/><use x=\"426.855469\" xlink:href=\"#DejaVuSans-117\"/><use x=\"490.234375\" xlink:href=\"#DejaVuSans-116\"/><use x=\"529.443359\" xlink:href=\"#DejaVuSans-112\"/><use x=\"592.919922\" xlink:href=\"#DejaVuSans-117\"/><use x=\"656.298828\" xlink:href=\"#DejaVuSans-116\"/><use x=\"695.507812\" xlink:href=\"#DejaVuSans-32\"/><use x=\"727.294922\" xlink:href=\"#DejaVuSans-80\"/><use x=\"785.847656\" xlink:href=\"#DejaVuSans-114\"/><use x=\"824.710938\" xlink:href=\"#DejaVuSans-111\"/><use x=\"885.892578\" xlink:href=\"#DejaVuSans-98\"/><use x=\"949.369141\" xlink:href=\"#DejaVuSans-97\"/><use x=\"1010.648438\" xlink:href=\"#DejaVuSans-98\"/><use x=\"1074.125\" xlink:href=\"#DejaVuSans-105\"/><use x=\"1101.908203\" xlink:href=\"#DejaVuSans-108\"/><use x=\"1129.691406\" xlink:href=\"#DejaVuSans-105\"/><use x=\"1157.474609\" xlink:href=\"#DejaVuSans-116\"/><use x=\"1196.683594\" xlink:href=\"#DejaVuSans-121\"/></g><g fill=\"none\" stroke=\"#ff0000\" stroke-width=\"2\"><path d=\"m73.016 247.04v-102.01\" clip-path=\"url(#p11c1729ee7)\"/><path d=\"m242.11 225.85v-98.513\" clip-path=\"url(#p11c1729ee7)\"/><path d=\"m411.2 289.13v-107.6\" clip-path=\"url(#p11c1729ee7)\"/><path d=\"m580.29 358.37v-113.18\" clip-path=\"url(#p11c1729ee7)\"/></g><g fill=\"none\" stroke=\"#0000ff\" stroke-width=\"2\"><path d=\"m73.016 206.15v-94.813\" clip-path=\"url(#p11c1729ee7)\"/><path d=\"m242.11 166.1v-85.806\" clip-path=\"url(#p11c1729ee7)\"/><path d=\"m411.2 156.62v-83.347\" clip-path=\"url(#p11c1729ee7)\"/><path d=\"m580.29 140.77v-78.914\" clip-path=\"url(#p11c1729ee7)\"/></g><defs><path id=\"m2d61278666\" d=\"m5 0h-10\" stroke=\"#ff0000\"/></defs><g clip-path=\"url(#p11c1729ee7)\" fill=\"#ff0000\" stroke=\"#ff0000\"><use x=\"73.016136\" y=\"247.036516\" xlink:href=\"#m2d61278666\"/><use x=\"242.107045\" y=\"225.853806\" xlink:href=\"#m2d61278666\"/><use x=\"411.197955\" y=\"289.134066\" xlink:href=\"#m2d61278666\"/><use x=\"580.288864\" y=\"358.367795\" xlink:href=\"#m2d61278666\"/></g><g clip-path=\"url(#p11c1729ee7)\" fill=\"#ff0000\" stroke=\"#ff0000\"><use x=\"73.016136\" y=\"145.025897\" xlink:href=\"#m2d61278666\"/><use x=\"242.107045\" y=\"127.34075\" xlink:href=\"#m2d61278666\"/><use x=\"411.197955\" y=\"181.531647\" xlink:href=\"#m2d61278666\"/><use x=\"580.288864\" y=\"245.18471\" xlink:href=\"#m2d61278666\"/></g><defs><path id=\"m98fbf925e6\" d=\"m5 0h-10\" stroke=\"#0000ff\"/></defs><g clip-path=\"url(#p11c1729ee7)\" fill=\"#0000ff\" stroke=\"#0000ff\"><use x=\"73.016136\" y=\"206.147836\" xlink:href=\"#m98fbf925e6\"/><use x=\"242.107045\" y=\"166.098012\" xlink:href=\"#m98fbf925e6\"/><use x=\"411.197955\" y=\"156.621578\" xlink:href=\"#m98fbf925e6\"/><use x=\"580.288864\" y=\"140.77288\" xlink:href=\"#m98fbf925e6\"/></g><g clip-path=\"url(#p11c1729ee7)\" fill=\"#0000ff\" stroke=\"#0000ff\"><use x=\"73.016136\" y=\"111.335327\" xlink:href=\"#m98fbf925e6\"/><use x=\"242.107045\" y=\"80.29179\" xlink:href=\"#m98fbf925e6\"/><use x=\"411.197955\" y=\"73.27423\" xlink:href=\"#m98fbf925e6\"/><use x=\"580.288864\" y=\"61.858705\" xlink:href=\"#m98fbf925e6\"/></g><path d=\"m47.652 238.58h558\" clip-path=\"url(#p11c1729ee7)\" fill=\"none\" stroke=\"#000000\" stroke-dasharray=\"3.7,1.6\"/><path d=\"m73.016 196.03 169.09-19.434 169.09 58.736 169.09 66.443\" clip-path=\"url(#p11c1729ee7)\" fill=\"none\" stroke=\"#ff0000\" stroke-linecap=\"square\" stroke-width=\"1.5\"/><defs><path id=\"mfb850d0a56\" d=\"m0 3c0.79561 0 1.5587-0.3161 2.1213-0.87868 0.56258-0.56258 0.87868-1.3257 0.87868-2.1213s-0.3161-1.5587-0.87868-2.1213c-0.56258-0.56258-1.3257-0.87868-2.1213-0.87868s-1.5587 0.3161-2.1213 0.87868c-0.56258 0.56258-0.87868 1.3257-0.87868 2.1213s0.3161 1.5587 0.87868 2.1213c0.56258 0.56258 1.3257 0.87868 2.1213 0.87868z\" stroke=\"#ff0000\"/></defs><g clip-path=\"url(#p11c1729ee7)\" fill=\"#ff0000\" stroke=\"#ff0000\"><use x=\"73.016136\" y=\"196.031207\" xlink:href=\"#mfb850d0a56\"/><use x=\"242.107045\" y=\"176.597278\" xlink:href=\"#mfb850d0a56\"/><use x=\"411.197955\" y=\"235.332857\" xlink:href=\"#mfb850d0a56\"/><use x=\"580.288864\" y=\"301.776253\" xlink:href=\"#mfb850d0a56\"/></g><path d=\"m73.016 158.74 169.09-35.547 169.09-8.247 169.09-13.632\" clip-path=\"url(#p11c1729ee7)\" fill=\"none\" stroke=\"#0000ff\" stroke-linecap=\"square\" stroke-width=\"1.5\"/><defs><path id=\"md903dad090\" d=\"m-0 3 3-6h-6z\" stroke=\"#0000ff\"/></defs><g clip-path=\"url(#p11c1729ee7)\" fill=\"#0000ff\" stroke=\"#0000ff\"><use x=\"73.016136\" y=\"158.741582\" xlink:href=\"#md903dad090\"/><use x=\"242.107045\" y=\"123.194901\" xlink:href=\"#md903dad090\"/><use x=\"411.197955\" y=\"114.947904\" xlink:href=\"#md903dad090\"/><use x=\"580.288864\" y=\"101.315792\" xlink:href=\"#md903dad090\"/></g><path d=\"m47.652 373.19v-326.16\" fill=\"none\" stroke=\"#000000\" stroke-linecap=\"square\" stroke-width=\".8\"/><path d=\"m605.65 373.19v-326.16\" fill=\"none\" stroke=\"#000000\" stroke-linecap=\"square\" stroke-width=\".8\"/><path d=\"m47.652 373.19h558\" fill=\"none\" stroke=\"#000000\" stroke-linecap=\"square\" stroke-width=\".8\"/><path d=\"m47.652 47.033h558\" fill=\"none\" stroke=\"#000000\" stroke-linecap=\"square\" stroke-width=\".8\"/><defs><path id=\"DejaVuSans-110\" d=\"m54.891 33.016v-33.016h-8.9844v32.719q0 7.7656-3.0312 11.609-3.0312 3.8594-9.0781 3.8594-7.2812 0-11.484-4.6406-4.2031-4.625-4.2031-12.641v-30.906h-9.0312v54.688h9.0312v-8.5q3.2344 4.9375 7.5938 7.375 4.375 2.4375 10.094 2.4375 9.4219 0 14.25-5.8281 4.8438-5.8281 4.8438-17.156z\"/><path id=\"DejaVuSans-109\" d=\"m52 44.188q3.375 6.0625 8.0625 8.9375t11.031 2.875q8.5469 0 13.188-5.9844 4.6406-5.9688 4.6406-17v-33.016h-9.0312v32.719q0 7.8594-2.7969 11.656-2.7812 3.8125-8.4844 3.8125-6.9844 0-11.047-4.6406-4.0469-4.625-4.0469-12.641v-30.906h-9.0312v32.719q0 7.9062-2.7812 11.688t-8.5938 3.7812q-6.8906 0-10.953-4.6562-4.0469-4.6562-4.0469-12.625v-30.906h-9.0312v54.688h9.0312v-8.5q3.0781 5.0312 7.375 7.4219t10.203 2.3906q5.9688 0 10.141-3.0312 4.1719-3.0156 6.1719-8.7812z\"/><path id=\"DejaVuSans-86\" d=\"m28.609 0-27.828 72.906h10.297l23.109-61.375 23.141 61.375h10.25l-27.781-72.906z\"/><path id=\"DejaVuSans-102\" d=\"m37.109 75.984v-7.4844h-8.5938q-4.8281 0-6.7188-1.9531-1.875-1.9531-1.875-7.0312v-4.8281h14.797v-6.9844h-14.797v-47.703h-9.0312v47.703h-8.5938v6.9844h8.5938v3.8125q0 9.125 4.25 13.297 4.25 4.1875 13.469 4.1875z\"/></defs><g transform=\"translate(166.24 20.877) scale(.18 -.18)\"><use xlink:href=\"#DejaVuSans-81\"/><use x=\"78.710938\" xlink:href=\"#DejaVuSans-117\"/><use x=\"142.089844\" xlink:href=\"#DejaVuSans-97\"/><use x=\"203.369141\" xlink:href=\"#DejaVuSans-110\"/><use x=\"266.748047\" xlink:href=\"#DejaVuSans-116\"/><use x=\"305.957031\" xlink:href=\"#DejaVuSans-117\"/><use x=\"369.335938\" xlink:href=\"#DejaVuSans-109\"/><use x=\"466.748047\" xlink:href=\"#DejaVuSans-32\"/><use x=\"498.535156\" xlink:href=\"#DejaVuSans-86\"/><use x=\"559.193359\" xlink:href=\"#DejaVuSans-111\"/><use x=\"620.375\" xlink:href=\"#DejaVuSans-108\"/><use x=\"648.158203\" xlink:href=\"#DejaVuSans-117\"/><use x=\"711.537109\" xlink:href=\"#DejaVuSans-109\"/><use x=\"808.949219\" xlink:href=\"#DejaVuSans-101\"/><use x=\"870.472656\" xlink:href=\"#DejaVuSans-32\"/><use x=\"902.259766\" xlink:href=\"#DejaVuSans-102\"/><use x=\"937.464844\" xlink:href=\"#DejaVuSans-111\"/><use x=\"998.646484\" xlink:href=\"#DejaVuSans-114\"/><use x=\"1039.759766\" xlink:href=\"#DejaVuSans-32\"/><use x=\"1071.546875\" xlink:href=\"#DejaVuSans-117\"/><use x=\"1134.925781\" xlink:href=\"#DejaVuSans-112\"/><use x=\"1198.402344\" xlink:href=\"#DejaVuSans-32\"/><use x=\"1230.189453\" xlink:href=\"#DejaVuSans-116\"/><use x=\"1269.398438\" xlink:href=\"#DejaVuSans-111\"/><use x=\"1330.580078\" xlink:href=\"#DejaVuSans-32\"/><use x=\"1362.367188\" xlink:href=\"#DejaVuSans-53\"/><use x=\"1425.990234\" xlink:href=\"#DejaVuSans-32\"/><use x=\"1457.777344\" xlink:href=\"#DejaVuSans-81\"/><use x=\"1536.488281\" xlink:href=\"#DejaVuSans-117\"/><use x=\"1599.867188\" xlink:href=\"#DejaVuSans-98\"/><use x=\"1663.34375\" xlink:href=\"#DejaVuSans-105\"/><use x=\"1691.126953\" xlink:href=\"#DejaVuSans-116\"/><use x=\"1730.335938\" xlink:href=\"#DejaVuSans-115\"/></g><defs><path id=\"DejaVuSans-100\" d=\"m45.406 46.391v29.594h8.9844v-75.984h-8.9844v8.2031q-2.8281-4.875-7.1562-7.25-4.3125-2.375-10.375-2.375-9.9062 0-16.141 7.9062-6.2188 7.9219-6.2188 20.812t6.2188 20.797q6.2344 7.9062 16.141 7.9062 6.0625 0 10.375-2.375 4.3281-2.3594 7.1562-7.2344zm-30.609-19.094q0-9.9062 4.0781-15.547t11.203-5.6406 11.219 5.6406q4.1094 5.6406 4.1094 15.547t-4.1094 15.547q-4.0938 5.6406-11.219 5.6406t-11.203-5.6406-4.0781-15.547z\"/><path id=\"DejaVuSans-84\" d=\"m-0.29688 72.906h61.672v-8.3125h-25.875v-64.594h-9.9062v64.594h-25.891z\"/></defs><g transform=\"translate(263.75 41.033) scale(.18 -.18)\"><use xlink:href=\"#DejaVuSans-97\"/><use x=\"61.279297\" xlink:href=\"#DejaVuSans-110\"/><use x=\"124.658203\" xlink:href=\"#DejaVuSans-100\"/><use x=\"188.134766\" xlink:href=\"#DejaVuSans-32\"/><use x=\"219.921875\" xlink:href=\"#DejaVuSans-49\"/><use x=\"283.544922\" xlink:href=\"#DejaVuSans-53\"/><use x=\"347.167969\" xlink:href=\"#DejaVuSans-48\"/><use x=\"410.791016\" xlink:href=\"#DejaVuSans-32\"/><use x=\"442.578125\" xlink:href=\"#DejaVuSans-84\"/><use x=\"488.912109\" xlink:href=\"#DejaVuSans-114\"/><use x=\"530.025391\" xlink:href=\"#DejaVuSans-105\"/><use x=\"557.808594\" xlink:href=\"#DejaVuSans-97\"/><use x=\"619.087891\" xlink:href=\"#DejaVuSans-108\"/><use x=\"646.871094\" xlink:href=\"#DejaVuSans-115\"/></g><path d=\"m54.652 368.19h107.9q2 0 2-2v-43.056q0-2-2-2h-107.9q-2 0-2 2v43.056q0 2 2 2z\" fill=\"#ffffff\" opacity=\".8\" stroke=\"#cccccc\"/><path d=\"m56.652 329.24h20\" fill=\"none\" stroke=\"#000000\" stroke-dasharray=\"3.7,1.6\"/><defs><path id=\"DejaVuSans-104\" d=\"m54.891 33.016v-33.016h-8.9844v32.719q0 7.7656-3.0312 11.609-3.0312 3.8594-9.0781 3.8594-7.2812 0-11.484-4.6406-4.2031-4.625-4.2031-12.641v-30.906h-9.0312v75.984h9.0312v-29.797q3.2344 4.9375 7.5938 7.375 4.375 2.4375 10.094 2.4375 9.4219 0 14.25-5.8281 4.8438-5.8281 4.8438-17.156z\"/></defs><g transform=\"translate(84.652 332.74) scale(.1 -.1)\"><use xlink:href=\"#DejaVuSans-84\"/><use x=\"61.083984\" xlink:href=\"#DejaVuSans-104\"/><use x=\"124.462891\" xlink:href=\"#DejaVuSans-114\"/><use x=\"163.326172\" xlink:href=\"#DejaVuSans-101\"/><use x=\"224.849609\" xlink:href=\"#DejaVuSans-115\"/><use x=\"276.949219\" xlink:href=\"#DejaVuSans-104\"/><use x=\"340.328125\" xlink:href=\"#DejaVuSans-111\"/><use x=\"401.509766\" xlink:href=\"#DejaVuSans-108\"/><use x=\"429.292969\" xlink:href=\"#DejaVuSans-100\"/></g><path d=\"m66.652 348.92v-10\" fill=\"none\" stroke=\"#ff0000\" stroke-width=\"2\"/><use x=\"66.6525\" y=\"348.915125\" fill=\"#ff0000\" stroke=\"#ff0000\" xlink:href=\"#m2d61278666\"/><use x=\"66.6525\" y=\"338.915125\" fill=\"#ff0000\" stroke=\"#ff0000\" xlink:href=\"#m2d61278666\"/><path d=\"m56.652 343.92h20\" fill=\"none\" stroke=\"#ff0000\" stroke-linecap=\"square\" stroke-width=\"1.5\"/><use x=\"66.6525\" y=\"343.915125\" fill=\"#ff0000\" stroke=\"#ff0000\" xlink:href=\"#mfb850d0a56\"/><defs><path id=\"DejaVuSans-69\" d=\"m9.8125 72.906h46.094v-8.3125h-36.234v-21.578h34.719v-8.2969h-34.719v-26.422h37.109v-8.2969h-46.969z\"/><path id=\"DejaVuSans-120\" d=\"m54.891 54.688-19.781-26.609 20.797-28.078h-10.594l-15.922 21.484-15.906-21.484h-10.609l21.25 28.609-19.438 26.078h10.594l14.5-19.484 14.5 19.484z\"/><path id=\"DejaVuSans-40\" d=\"m31 75.875q-6.5312-11.219-9.7188-22.219-3.1719-10.984-3.1719-22.266 0-11.266 3.2031-22.328t9.6875-22.25h-7.8125q-7.3125 11.484-10.953 22.562t-3.6406 22.016q0 10.891 3.6094 21.922 3.625 11.047 10.984 22.562z\"/><path id=\"DejaVuSans-Oblique-963\" d=\"m34.672 47.562q-7.4219 0-12.453-5.375-5.3281-5.6094-7.0781-14.891-1.9531-9.8125 1.1719-15.484 3.0781-5.6094 10.344-5.6094 7.1875 0 12.453 5.6562 5.3281 5.6719 7.2344 15.438 1.7031 8.9375-1.3281 14.891-2.8281 5.375-10.344 5.375zm1.4062 7.1719 29.844-0.046875-1.7656-8.9844h-10.047q3.7969-7.6094 1.75-18.406-2.6406-13.422-10.797-21.047-8.2031-7.6719-19.922-7.6719-11.766 0-16.938 7.6719-5.1719 7.625-2.5312 21.047 2.5781 13.469 10.734 21.094 6.7812 6.3438 19.672 6.3438z\"/><path id=\"DejaVuSans-41\" d=\"m8.0156 75.875h7.8125q7.3125-11.516 10.953-22.562 3.6406-11.031 3.6406-21.922 0-10.938-3.6406-22.016t-10.953-22.562h-7.8125q6.4844 11.188 9.6875 22.25t3.2031 22.328q0 11.281-3.2031 22.266-3.2031 11-9.6875 22.219z\"/></defs><g transform=\"translate(84.652 347.42) scale(.1 -.1)\"><use transform=\"translate(0 .125)\" xlink:href=\"#DejaVuSans-69\"/><use transform=\"translate(63.184 .125)\" xlink:href=\"#DejaVuSans-120\"/><use transform=\"translate(122.36 .125)\" xlink:href=\"#DejaVuSans-112\"/><use transform=\"translate(185.84 .125)\" xlink:href=\"#DejaVuSans-32\"/><use transform=\"translate(217.63 .125)\" xlink:href=\"#DejaVuSans-40\"/><use transform=\"translate(256.64 .125)\" xlink:href=\"#DejaVuSans-50\"/><use transform=\"translate(320.26 .125)\" xlink:href=\"#DejaVuSans-Oblique-963\"/><use transform=\"translate(383.64 .125)\" xlink:href=\"#DejaVuSans-32\"/><use transform=\"translate(415.43 .125)\" xlink:href=\"#DejaVuSans-101\"/><use transform=\"translate(476.95 .125)\" xlink:href=\"#DejaVuSans-114\"/><use transform=\"translate(518.07 .125)\" xlink:href=\"#DejaVuSans-114\"/><use transform=\"translate(559.18 .125)\" xlink:href=\"#DejaVuSans-111\"/><use transform=\"translate(620.36 .125)\" xlink:href=\"#DejaVuSans-114\"/><use transform=\"translate(661.47 .125)\" xlink:href=\"#DejaVuSans-41\"/></g><path d=\"m66.652 363.61v-10\" fill=\"none\" stroke=\"#0000ff\" stroke-width=\"2\"/><use x=\"66.6525\" y=\"363.613562\" fill=\"#0000ff\" stroke=\"#0000ff\" xlink:href=\"#m98fbf925e6\"/><use x=\"66.6525\" y=\"353.613562\" fill=\"#0000ff\" stroke=\"#0000ff\" xlink:href=\"#m98fbf925e6\"/><path d=\"m56.652 358.61h20\" fill=\"none\" stroke=\"#0000ff\" stroke-linecap=\"square\" stroke-width=\"1.5\"/><use x=\"66.6525\" y=\"358.613562\" fill=\"#0000ff\" stroke=\"#0000ff\" xlink:href=\"#md903dad090\"/><defs><path id=\"DejaVuSans-73\" d=\"m9.8125 72.906h9.8594v-72.906h-9.8594z\"/></defs><g transform=\"translate(84.652 362.11) scale(.1 -.1)\"><use transform=\"translate(0 .015625)\" xlink:href=\"#DejaVuSans-73\"/><use transform=\"translate(29.492 .015625)\" xlink:href=\"#DejaVuSans-100\"/><use transform=\"translate(92.969 .015625)\" xlink:href=\"#DejaVuSans-101\"/><use transform=\"translate(154.49 .015625)\" xlink:href=\"#DejaVuSans-97\"/><use transform=\"translate(215.77 .015625)\" xlink:href=\"#DejaVuSans-108\"/><use transform=\"translate(243.55 .015625)\" xlink:href=\"#DejaVuSans-32\"/><use transform=\"translate(275.34 .015625)\" xlink:href=\"#DejaVuSans-40\"/><use transform=\"translate(314.36 .015625)\" xlink:href=\"#DejaVuSans-50\"/><use transform=\"translate(377.98 .015625)\" xlink:href=\"#DejaVuSans-Oblique-963\"/><use transform=\"translate(441.36 .015625)\" xlink:href=\"#DejaVuSans-32\"/><use transform=\"translate(473.14 .015625)\" xlink:href=\"#DejaVuSans-101\"/><use transform=\"translate(534.67 .015625)\" xlink:href=\"#DejaVuSans-114\"/><use transform=\"translate(575.78 .015625)\" xlink:href=\"#DejaVuSans-114\"/><use transform=\"translate(616.89 .015625)\" xlink:href=\"#DejaVuSans-111\"/><use transform=\"translate(678.08 .015625)\" xlink:href=\"#DejaVuSans-114\"/><use transform=\"translate(719.19 .015625)\" xlink:href=\"#DejaVuSans-41\"/></g><defs><clipPath id=\"p11c1729ee7\"><rect x=\"47.652\" y=\"47.033\" width=\"558\" height=\"326.16\"/></clipPath></defs></svg>"
      ],
      "text/plain": [
       "<Figure size 720x432 with 1 Axes>"
      ]
     },
     "metadata": {
      "needs_background": "light"
     },
     "output_type": "display_data"
    }
   ],
   "source": [
    "import matplotlib.pyplot as plt\n",
    "plt.figure(figsize=(10, 6))\n",
    "ax = plt.gca()\n",
    "\n",
    "qv_fitter.plot_qv_data(ax=ax, show_plt=False)\n",
    "\n",
    "# Add title and label\n",
    "ax.set_title(f\"Quantum Volume for up to {len(qubit_lists[-1])} Qubits\\n\"\n",
    "             f\"and {NCIRCUITS} Trials\", fontsize=18)\n",
    "\n",
    "plt.show()"
   ]
  },
  {
   "cell_type": "markdown",
   "metadata": {},
   "source": [
    "From these results, it appears Boeblingen has the potential to achieve up to QV16 with these qubit subsets. In this case, we might be able to achieve a higher QV by repeating the experiment with a greater number of circuits. This would reduce the size of the error bars, we just need to hope the true heavy output probability for QV16 lies above 2/3.\n",
    "\n",
    "Below are the results from a different experiment with mock Boeblingen and a higher number of circuits.\n",
    "\n",
    "![Quantum volume 64 on a mock Boeblingen device](images/qv_one_i_did_earlier.svg)\n",
    "\n",
    "Different qubit subsets have different connectivity and error rates, and so will give different results. Here we can see Boeblingen achieving QV8, and also performing better at the QV16 and QV32 tests, but the error bars are still too big to pass."
   ]
  },
  {
   "cell_type": "markdown",
   "metadata": {},
   "source": [
    "It’s easy to imagine that, with a smart selection of qubits and lots of circuits, we could also achieve QV16 on the mock Boeblingen device as IBM has achieved on the real Boeblingen device. To provide another example, below is an image taken from IBM’s demonstration of QV64 on the Montreal device [2].\n",
    "\n",
    "![Quantum volume of 64 measured on IBM Quantum's Montreal device](images/qv_montreal.png)"
   ]
  },
  {
   "cell_type": "markdown",
   "metadata": {},
   "source": [
    "You can read more about how this was achieved in the paper [here](https://arxiv.org/pdf/2008.08571.pdf).\n",
    "\n",
    "## References\n",
    "\n",
    "[1] Andrew W. Cross, Lev S. Bishop, Sarah Sheldon, Paul D. Nation, and Jay M. Gambetta, Validating quantum computers using randomized model circuits, Phys. Rev. A 100, 032328 (2019). https://arxiv.org/pdf/1811.12926\n",
    "\n",
    "[2] Petar Jurcevic et. al. Demonstration of quantum volume 64 on a superconducting quantum computing system\n",
    "https://arxiv.org/pdf/2008.08571.pdf"
   ]
  }
 ],
 "metadata": {
  "kernelspec": {
   "display_name": "Python 3",
   "language": "python",
   "name": "python3"
  },
  "language_info": {
   "codemirror_mode": {
    "name": "ipython",
    "version": 3
   },
   "file_extension": ".py",
   "mimetype": "text/x-python",
   "name": "python",
   "nbconvert_exporter": "python",
   "pygments_lexer": "ipython3",
   "version": "3.9"
  }
 },
 "nbformat": 4,
 "nbformat_minor": 2
}
