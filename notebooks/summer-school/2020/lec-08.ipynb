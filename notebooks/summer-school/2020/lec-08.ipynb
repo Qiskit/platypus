{
 "cells": [
  {
   "cell_type": "markdown",
   "id": "d88b9516",
   "metadata": {},
   "source": [
    "# Quantum Chemistry II: Finding the Ground States of H2 and LiH \n",
    "\n",
    "Lectures 22 – 27 introduce the techniques used to solve quantum chemistry problems using gate-based quantum computers, with emphasis on superconducting qubits. The first three lectures describe the structure of quantum chemistry problems and discuss methods for converting these problems into ones that can be mapped onto a gate-based quantum computer. The next three lectures focus on extracting the best performance from the quantum hardware to solve quantum chemistry problems by implementing variational quantum eigensolvers.\n",
    "\n",
    " - Download the lecture notes [here](https://github.com/qiskit-community/intro-to-quantum-computing-and-quantum-hardware/blob/master/lectures/introqcqh-lecture-notes-9.pdf?raw=true)\n",
    " - Download the lab notebook (and solutions) for the last three lectures [here](https://github.com/qiskit-community/intro-to-quantum-computing-and-quantum-hardware/blob/master/labs/introqcqh-lab-9.zip?raw=true)\n",
    "\n",
    "<div class=\"youtube-wrapper\"><iframe src=\"https://www.youtube.com/embed/p9gScAOvc5I\" title=\"YouTube video player\" frameborder=\"0\" allow=\"accelerometer; autoplay; clipboard-write; encrypted-media; gyroscope; picture-in-picture\" allowfullscreen></iframe></div>\n",
    "\n",
    "<div class=\"youtube-wrapper\"><iframe src=\"https://www.youtube.com/embed/_UW6puuGa5E\" title=\"YouTube video player\" frameborder=\"0\" allow=\"accelerometer; autoplay; clipboard-write; encrypted-media; gyroscope; picture-in-picture\" allowfullscreen></iframe></div>\n",
    "\n",
    "<div class=\"youtube-wrapper\"><iframe src=\"https://www.youtube.com/embed/o4BAOKbcd3o\" title=\"YouTube video player\" frameborder=\"0\" allow=\"accelerometer; autoplay; clipboard-write; encrypted-media; gyroscope; picture-in-picture\" allowfullscreen></iframe></div>\n",
    "\n"
   ]
  }
 ],
 "metadata": {
  "kernelspec": {
   "display_name": "Python 3",
   "language": "python",
   "name": "python3"
  },
  "language_info": {
   "codemirror_mode": {
    "name": "ipython",
    "version": 3
   },
   "file_extension": ".py",
   "mimetype": "text/x-python",
   "name": "python",
   "nbconvert_exporter": "python",
   "pygments_lexer": "ipython3",
   "version": "3.9"
  }
 },
 "nbformat": 4,
 "nbformat_minor": 5
}
