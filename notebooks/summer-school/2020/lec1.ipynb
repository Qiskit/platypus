{
 "cells": [
  {
   "cell_type": "markdown",
   "metadata": {
    "gloss": {
     "amet": {
      "text": "Duis sit amet porttitor mauris. Sed ornare auctor enim, placerat venenatis neque ultricies in.",
      "title": "amet"
     },
     "idsag": {
      "text": "Suspendisse dapibus magna at nibh eleifend commodo. Integer tristique ex ac nisi tincidunt, venenatis feugiat diam faucibus. Sed sem ipsum, dignissim sed rutrum eget, aliquet molestie justo.",
      "title": "id sagittis"
     },
     "vst": {
      "text": "Pellentesque volutpat volutpat fringilla. Duis sit amet porttitor mauris.",
      "title": "Vivamus semper turpis"
     }
    }
   },
   "source": [
    "# Qubits, quantum states, quantum circuits and measurements\n",
    "\n",
    "In this first series of lectures, Elisa Bäumer will teach you all about the systems and behaviours that quantum computing is built on.\n",
    "\n",
    "<!-- ::: q-block.tabs -->\n",
    "\n",
    "### Lectures\n",
    "\n",
    "<!-- ::: tab -->\n",
    "\n",
    "### Part 1\n",
    "\n",
    "<iframe width=\"560\" height=\"315\" src=\"https://www.youtube.com/embed/NZD9APb7ZtY\" title=\"YouTube video player\" frameborder=\"0\" allow=\"accelerometer; autoplay; clipboard-write; encrypted-media; gyroscope; picture-in-picture\" allowfullscreen></iframe>\n",
    "\n",
    "<!-- ::: tab -->\n",
    "\n",
    "### Part 2\n",
    "\n",
    "<iframe width=\"560\" height=\"315\" src=\"https://www.youtube.com/embed/SlZoTjkPy7o\" title=\"YouTube video player\" frameborder=\"0\" allow=\"accelerometer; autoplay; clipboard-write; encrypted-media; gyroscope; picture-in-picture\" allowfullscreen></iframe>\n",
    "\n",
    "<!-- ::: tab -->\n",
    "\n",
    "### Part 3\n",
    "\n",
    "<iframe width=\"560\" height=\"315\" src=\"https://www.youtube.com/embed/9MpSQglnqI0\" title=\"YouTube video player\" frameborder=\"0\" allow=\"accelerometer; autoplay; clipboard-write; encrypted-media; gyroscope; picture-in-picture\" allowfullscreen></iframe>\n",
    "\n",
    "<!-- ::: -->\n",
    "\n",
    "<!-- ::: -->\n",
    "\n",
    "Supplementary material:\n",
    "- Download the [lecture notes](https://raw.githubusercontent.com/qiskit-community/intro-to-quantum-computing-and-quantum-hardware/master/lectures/introqcqh-lecture-notes-1.pdf) for all three lectures.\n",
    "- Test your knowledge by completing the [lab](https://github.com/qiskit-community/intro-to-quantum-computing-and-quantum-hardware/blob/master/labs/introqcqh-lab-1.zip?raw=true) for these lectures.\n"
   ]
  }
 ],
 "metadata": {
  "celltoolbar": "Edit Metadata",
  "kernelspec": {
   "display_name": "Python 3",
   "language": "python",
   "name": "python3"
  },
  "language_info": {
   "codemirror_mode": {
    "name": "ipython",
    "version": 3
   },
   "file_extension": ".py",
   "mimetype": "text/x-python",
   "name": "python",
   "nbconvert_exporter": "python",
   "pygments_lexer": "ipython3",
   "version": "3.7.7"
  }
 },
 "nbformat": 4,
 "nbformat_minor": 4
}
