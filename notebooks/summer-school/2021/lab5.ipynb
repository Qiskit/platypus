{
 "cells": [
  {
   "cell_type": "markdown",
   "metadata": {},
   "source": [
    "# Lab 5: Introduction to Hardware Efficient Ansatze for Quantum Machine Learning\n",
    "\n",
    "<div class=\"youtube-wrapper\">\n",
    "    <iframe src=\"https://www.youtube.com/embed/pkLg1DtOcek\" title=\"YouTube video player\" frameborder=\"0\" allow=\"accelerometer; autoplay; clipboard-write; encrypted-media; gyroscope; picture-in-picture\" allowfullscreen></iframe>\n",
    "</div>\n",
    "\n",
    "In this lab, you will see how noise affects a typical parameterized quantum circuit used in machine learning using quantum process tomography.\n",
    "* Graded Exercise 5-1: Build the quantum circuit\n",
    "* Graded Exercise 5-2: Quantum Process Tomography with only shot noise\n",
    "* Graded Exercise 5-3: Build a T1/T2 noise model\n",
    "* Graded Exercise 5-4: Quantum Process Tomography with T1/T2 noise\n",
    "* Graded Exercise 5-5: Quantum Process Tomography with mitigated T1/T2 noise\n",
    "* Exploratory Exercise: Quantum Process Tomography with varying CX gate durations\n",
    "\n",
    "### Lab Tips / Hints\n",
    "\n",
    "- For pi, one of the option available is `np.pi`\n",
    "\n",
    "<!-- ::: q-block.reminder -->\n",
    "\n",
    "### FAQ\n",
    "\n",
    "<details>\n",
    "  <summary>Why I am getting such low fidelity?</summary>\n",
    "Make sure your target and target_unitary refer to the same circuit, and that if you are copying and pasting code, to check the variable names.\n",
    "</details>\n",
    "\n",
    "<details>\n",
    "  <summary>I'm getting this output `&lt;NoiseModel on ['u2', 'reset', 'cx', 'u3', 'measure']&gt; U1 is missing`. Did I do something wrong?</summary>\n",
    "No nothing is wrong! That is because the time for u1 `time_u1=0`. So U1 is merely a virtual gate.\n",
    "</details>\n",
    "\n",
    "<details>\n",
    "  <summary>I'm getting this QiskitError: \"Unexpected state label '00 01', verify the fitter's state labels correspond to the input data\"</summary>\n",
    "How many qubits are in your circuit? Make sure it matches how many you are measuring.\n",
    "</details>\n",
    "\n",
    "<details>\n",
    "  <summary>I'm getting this `QiskitError: \"Object of type ProcessTomographyFitter is not JSON serializable\"`</summary>\n",
    "The grader is expecting a float value called fidelity and not `ProcessTomographyFitter()` object.\n",
    "</details>\n",
    "\n",
    "<details>\n",
    "  <summary>My circuit seems to be right but isn't being accepted by the grader.</summary>\n",
    "Use `.draw()` to draw the circuit you made and check whether you have put all angles and syntax right or not.\n",
    "</details>\n",
    "\n",
    "<details>\n",
    "  <summary>I'm getting this QiskitError: \"Result for (('Zp', 'Zp'), ('X', 'X')) not found\".</summary>\n",
    "Make sure you are using right results in `meas_filter.apply()` and `ProcessTomographyFitter()`\n",
    "</details>\n",
    "\n",
    "<!-- ::: -->"
   ]
  }
 ],
 "metadata": {
  "kernelspec": {
   "display_name": "Python 3",
   "language": "python",
   "name": "python3"
  },
  "language_info": {
   "codemirror_mode": {
    "name": "ipython",
    "version": 3
   },
   "file_extension": ".py",
   "mimetype": "text/x-python",
   "name": "python",
   "nbconvert_exporter": "python",
   "pygments_lexer": "ipython3",
   "version": "3.7.7"
  }
 },
 "nbformat": 4,
 "nbformat_minor": 4
}
