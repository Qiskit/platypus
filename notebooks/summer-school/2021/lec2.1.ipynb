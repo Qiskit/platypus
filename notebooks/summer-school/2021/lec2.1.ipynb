{
 "cells": [
  {
   "cell_type": "markdown",
   "metadata": {},
   "source": [
    "# Simple Quantum Algorithms (part 1)\n",
    "\n",
    "<div class=\"youtube-wrapper\">\n",
    "    <iframe src=\"https://www.youtube.com/embed/WYAUh-4K5E0\" title=\"YouTube video player\" frameborder=\"0\" allow=\"accelerometer; autoplay; clipboard-write; encrypted-media; gyroscope; picture-in-picture\" allowfullscreen></iframe>\n",
    "</div>\n",
    "\n",
    "\n",
    "Elisa covers the basics of qubits, Dirac notations, basic gate operations (e.g. Hadamard gate, NOT gate, Controlled-NOT gate, etc.), and the Bloch sphere representation of a qubit. Elisa then introduces few basic quantum algorithms to show how quantum computers work, and to show certain advantages over the classical system.\n",
    "\n",
    "Elisa introduces oracle operators, and we want to work out their properties using the fewest queries possible. We can build a phase oracle from a classical oracle for use in the Deutsch-Jozsa algorithm. Deutsch-Jozsa algorithm determines whether a given function is constant (i.e. output will be always 0 or always 1) or balanced (i.e output is 0 for half the inputs and 1 for the rest). Elisa gives the intuition of this algorithm and follows through the mathematics step-by-step.\n",
    "\n",
    "### Suggested links\n",
    "\n",
    " - Download the lecturer's notes [here](/content/summer-school/2021/resources/lecture-notes/Lecture2.1.pdf)\n",
    "\n",
    " - Read Microsoft on [Quantum Computing for Computer Scientists](https://www.microsoft.com/en-us/research/video/quantum-computing-computer-scientists/)\n",
    " - Read Classical Computation on a Quantum Computer [Description: Understanding reversible in computer science (and also quantum computing being reversible is usefull).](https://qiskit.org/textbook/ch-gates/oracles.html)\n",
    " - Read about Quantum Oracle Functions [Description: Understanding of Quantum Oracle Function and implementation of an Oracle function in Qiskit](https://docs.microsoft.com/en-us/azure/quantum/concepts-oracles)\n",
    " - Read about the Deutsch-Jozsa Algorithm [Description: Understanding of Quantum Oracle Function](https://qiskit.org/textbook/ch-algorithms/deutsch-jozsa.html)\n",
    "\n",
    "<!-- ::: q-block.reminder -->\n",
    "\n",
    "### FAQ\n",
    "\n",
    "<details>\n",
    "  <summary>What is an oracle?</summary>\n",
    "It’s just a black-box like device, that performs implementation in a function as a unitary operator.\n",
    "\n",
    "In other words, an oracle is like a 'black box'. It gets an input and creates an output that one can measure but actually cannot see inside the black box, which means one doesn't know its property (in this case, one doesn't know if the function is constant or balanced). The goal is to find the property of the oracle.\n",
    "</details>\n",
    "\n",
    "<details>\n",
    "  <summary>Due to Superposition, we have to run quantum computers once. This is a huge speed advantage over classical systems. However, to measure a probability, we must run the quantum algorithm many times to get the meaningful probability given real-life noise. How does this speed factor vary between classical and quantum?</summary>\n",
    "It depends on a lot of noise. In the example of the Deutsch-Jozsa Algorithm, users can quickly determine whether the function is balanced or constant. Because you can only get one output from the circuit and the rest of the combinations are zero, the probability distribution is also based on it. Then you can a few shots at the same time, do the measurements, and get a higher chance (above 90%) to get the correct output.\n",
    "</details>\n",
    "\n",
    "<details>\n",
    "  <summary>What are Balanced Function and Constant Function in the Oracle?</summary>\n",
    "If a function with n-qubits input gives n number of 0s (all 0s) or n number of 1s (all 1s) regardless of the input, then that function is known as Constant Function whereas, If a function with n-qubits gives half-of the n numbers of 0s and another half as 1s, then the function is balanced.\n",
    "\n",
    "In another way, we can mention that a function ‘f’ is called balanced if it is equal to 1 for exactly half of all the possible x, and 0 for the other half.\n",
    "</details>\n",
    "\n",
    "<details>\n",
    "  <summary>For the Quantum solution of the algorithms, how to determine the number of qubits need to use in this algorithm?</summary>\n",
    "It depends on the function on which this algorithm is implemented.\n",
    "</details>\n",
    "\n",
    "<!-- ::: -->\n",
    "\n",
    "### Other resources\n",
    "\n",
    " - Read by Isaac Chuang and Michael Nielsen on [Quantum Computation and Quantum Information Textbook](https://www.amazon.com/Quantum-Computation-Information-10th-Anniversary/dp/1107002176)\n",
    " - Read IBM on [Qiskit textbook](https://qiskit.org/textbook/preface.html)\n",
    "\n"
   ]
  }
 ],
 "metadata": {
  "kernelspec": {
   "display_name": "Python 3",
   "language": "python",
   "name": "python3"
  },
  "language_info": {
   "codemirror_mode": {
    "name": "ipython",
    "version": 3
   },
   "file_extension": ".py",
   "mimetype": "text/x-python",
   "name": "python",
   "nbconvert_exporter": "python",
   "pygments_lexer": "ipython3",
   "version": "3.7.7"
  }
 },
 "nbformat": 4,
 "nbformat_minor": 4
}
