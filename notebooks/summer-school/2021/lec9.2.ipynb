{
 "cells": [
  {
   "cell_type": "markdown",
   "metadata": {},
   "source": [
    "# Hardware Efficient Ansatze for Quantum Machine Learning\n",
    "\n",
    "<div class=\"youtube-wrapper\">\n",
    "    <iframe src=\"https://www.youtube.com/embed/vW6_XUgdkoE\" title=\"YouTube video player\" frameborder=\"0\" allow=\"accelerometer; autoplay; clipboard-write; encrypted-media; gyroscope; picture-in-picture\" allowfullscreen></iframe>\n",
    "</div>\n",
    "\n",
    "<!-- ::: q-block.reminder -->\n",
    "\n",
    "### FAQ\n",
    "\n",
    "<details>\n",
    "  <summary>Are there references where a continuous gate set has been used for variational forms? Can an optimzer adjust the pulse parameters?</summary>\n",
    "Yes! We tested it out with QAOA, one type of variational form. And I've started to test this out on QML type circuits as well. The optimizer can adjust the pulse parameter - you would want to use pulse gates for a seamless integration with the application modules(some early testing has shown this works well actually)\n",
    "</details>\n",
    "\n",
    "<details>\n",
    "  <summary>And how does the transpiler deal with the noise? (source: Live Q&amp;A at 4m11s)</summary>\n",
    "It depends on the noise. In particular, given a C-NOT has really bad fidelity (substantially larger infidelity compared to the others), noise translation will minimize how much you actually using that bad C-NOT gate by providing different routes. One thing keep in mind, noise transpiration may not work as it’s supposed to due to the outdated snapshot taken from measurement, leading to undesired noise mitigation results.\n",
    "</details>\n",
    "\n",
    "<details>\n",
    "  <summary>Elaboration on phase adjustment?</summary>\n",
    "For the lab frame of reference in Rabi experiment, we can adjust the rotating axis by performing a phase adjustment. In other words, a phase gamma (in the formula “U=....” in lecture note 9.2, slide 12) dictates which axis we end up working with.\n",
    "</details>\n",
    "\n",
    "<details>\n",
    "  <summary>How are Rabi oscillations different from Ramsey oscillations?</summary>\n",
    "Rabi oscillation: start off with a qubit in a ground state. Then we apply some pulses (Gaussian or square pulses are common). There are two types of Rabi oscillation: time-Rabi oscillation and power-Rabi oscillation.\n",
    "\n",
    "- In time-Rabi oscillation, the MAXIMUM amplitude of the pulse is the same but we increase the duration of the pulse (increase the area under the curve of the pulse). The area (a box in the lecture example) under the curve of the pulse dictates the rate at which the qubit rotating 0→1→0→1→0→1...... hence called pi pulse. \n",
    "- In power-Rabi oscillation, the pulse duration is fixed but its maximum amplitude increases. The area under the curve in this case increases vertically.\n",
    "- Ramsery oscillation: apply a pi/2 pulse so qubit rotating from the ground state to a state in the equator of the Bloch sphere (see slide 14 in the lecture note for visualization). Then wait for a period of time → apply a second pulse → wait → third pulse.... and so on. As a result, we get oscillations that can be used to fine tune the qubit frequency and determine T2\n",
    "</details>\n",
    "\n",
    "<!-- ::: -->"
   ]
  }
 ],
 "metadata": {
  "kernelspec": {
   "display_name": "Python 3",
   "language": "python",
   "name": "python3"
  },
  "language_info": {
   "codemirror_mode": {
    "name": "ipython",
    "version": 3
   },
   "file_extension": ".py",
   "mimetype": "text/x-python",
   "name": "python",
   "nbconvert_exporter": "python",
   "pygments_lexer": "ipython3",
   "version": "3.7.7"
  }
 },
 "nbformat": 4,
 "nbformat_minor": 4
}
