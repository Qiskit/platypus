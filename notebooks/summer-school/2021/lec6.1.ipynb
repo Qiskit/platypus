{
 "cells": [
  {
   "cell_type": "markdown",
   "metadata": {},
   "source": [
    "# From Variational Classifiers to Linear Classifiers\n",
    "\n",
    "<div class=\"youtube-wrapper\">\n",
    "    <iframe src=\"https://www.youtube.com/embed/m6EzmYsEOiI\" title=\"YouTube video player\" frameborder=\"0\" allow=\"accelerometer; autoplay; clipboard-write; encrypted-media; gyroscope; picture-in-picture\" allowfullscreen></iframe>\n",
    "</div>\n",
    "\n",
    "\n",
    "The lecture is divided into two broad parts:\n",
    "\n",
    "- Part-1: Linear classifiers\n",
    "    - Introduces the classical concepts of linear classifier, the two formulations of its optimisation function, along with the widely used Kernel trick.\n",
    "- Part-2: Quantum Feature Maps\n",
    "    - Extends the idea of the classical kernel trick to a quantum version, first explaining the concept of quantum feature maps and applying them in introducing a model called Variational Quantum Classifier (VQC). Thereafter, linking in spirit with part-1, Bryce presents a proof that the VQC is indeed a linear classifier, implying that the kernel trick is valid for use in a VQC; finally presenting the quantum kernel estimator (QKE) in the lecture’s conclusion.\n",
    "\n",
    "### Suggested links\n",
    "\n",
    " - Download the lecturer's notes [here](/content/summer-school/2021/resources/lecture-notes/Lecture6.1.pdf)\n",
    "\n",
    "\n",
    "<!-- ::: q-block.reminder -->\n",
    "\n",
    "### FAQ\n",
    "\n",
    "<details>\n",
    "  <summary>Is VQC a mere variation of the previously seen VQE (variational quantum estimator)?</summary>\n",
    "No. VQE seeks to search for the lowest energy state of a hamiltonian that encodes a problem, whereas, in VQC the data to be classified is first encoded via a quantum feature map in a state, and thereafter an iterative optimisation is carried out on a parameterized hamiltonian. The optimal hamiltonian is what we seek in VQC.\n",
    "</details>\n",
    "\n",
    "<details>\n",
    "  <summary>What are Lagrange Multipliers?</summary>\n",
    "Lagrange multipliers appear in the mathematical optimisation method of Lagrange multipliers, which is used to find the local maxima and minima of a function subject to certain constraint equations. A detailed explained is deferred to the notes by Andrew Ng referred to above.\n",
    "</details>\n",
    "\n",
    "<details>\n",
    "  <summary>What about the quantum advantage of a VQC?</summary>\n",
    "The quantum advantage of a VQC comes in play only when using a quantum feature map that is classically hard to compute, hence rendering a computation of the kernel function a classically tough task but an easy-to-do task on a quantum computer.\n",
    "</details>\n",
    "\n",
    "<details>\n",
    "  <summary>Examples of a classically hard to compute kernel that is easier to do on a quantum computer?</summary>\n",
    "The DLog i.e. the discrete log kernel, however it’s not of much “practical” use/applications.\n",
    "</details>\n",
    "\n",
    "<!-- ::: -->\n",
    "\n",
    "### Suggested reading\n",
    "\n",
    "- _CS220 Lecture Notes Part V: Support Vector Machines (SVM)_ by Andrew Ng\n",
    "- _Supervised Learning with Quantum Enhanced Feature Spaces_ by Vojtech Havlicek et al"
   ]
  }
 ],
 "metadata": {
  "kernelspec": {
   "display_name": "Python 3",
   "language": "python",
   "name": "python3"
  },
  "language_info": {
   "codemirror_mode": {
    "name": "ipython",
    "version": 3
   },
   "file_extension": ".py",
   "mimetype": "text/x-python",
   "name": "python",
   "nbconvert_exporter": "python",
   "pygments_lexer": "ipython3",
   "version": "3.9"
  }
 },
 "nbformat": 4,
 "nbformat_minor": 4
}
