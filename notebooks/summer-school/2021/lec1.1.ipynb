{
 "cells": [
  {
   "cell_type": "markdown",
   "metadata": {},
   "source": [
    "# Vector Spaces, Tensor Products, and Qubits\n",
    "\n",
    "<div class=\"youtube-wrapper\">\n",
    "    <iframe src=\"https://www.youtube.com/embed/xgA4Dx_7q34\" title=\"YouTube video player\" frameborder=\"0\" allow=\"accelerometer; autoplay; clipboard-write; encrypted-media; gyroscope; picture-in-picture\" allowfullscreen></iframe>\n",
    "</div>\n",
    "\n",
    "In this lecture, Elisa introduced some mathematical tools that are being used to describe quantum systems and their interactions such as Dirac notation, density matrices, inner product, outer product, Born rule, and the geometrical representation of qubits; the Bloch sphere. Also, the basic building block in quantum computing was introduced, namely, the qubit, which is analogous to the classical bits “0” and “1”. Furthermore, quantum measurements were introduced briefly.\n",
    "\n",
    "### Extra resources\n",
    "- [Download the lecture notes](https://github.com/justjosie/event-info-and-assets/blob/master/2021/QGSS2021/LectureNotes/QGSS2021_LectureNotes_Day1_Lecture1.2.pdf) for this lecture\n",
    "- Qiskit Textbook on:\n",
    "    - [The Density Matrix & Mixed States](https://qiskit.org/textbook/ch-quantum-hardware/density-matrix.html)\n",
    "    - [Multiple Qubits and Entangled States](https://qiskit.org/textbook/ch-gates/multiple-qubits-entangled-states.html)\n",
    "- Wikipedia on:\n",
    "    - [Superdeterminism](https://en.wikipedia.org/wiki/Superdeterminism)\n",
    "    - [The Pauli Matrices](https://en.wikipedia.org/wiki/Pauli_matrices)\n",
    "- [Michael Nielsen on The controlled-NOT gate](https://www.youtube.com/watch?v=rLF-oHaXLtE)\n",
    "\n",
    "<!-- ::: q-block.reminder -->\n",
    "\n",
    "### FAQ\n",
    "\n",
    "<details>\n",
    "    <summary>What does it mean that a state is maximally entangled?</summary>\n",
    "    A maximally entangled state is a quantum state (e.g. the Bell state) that has maximum von Neumann entropy; which is analogous to the, classical, Shannon entropy for a fair-coin flip.\n",
    "</details>\n",
    "\n",
    "<details>\n",
    "    <summary>For quantum teleportation, we need to send classical bits too and cannot just use entanglement to send information. Is this the reason we cannot send information faster than the speed of light?</summary>\n",
    "    Yes. In fact, since the entangled state itself does not represent a probability distribution, but its inner product, one always has to measure the state to extract information pout from it.\n",
    "</details>\n",
    "\n",
    "<details>\n",
    "    <summary>Why did you use the outer product representation when applying a gate instead of using the spectral decomposition?</summary>\n",
    "    The outer product representation in terms of 0 and 1 states (the so-called computational basis) is useful for a gate, because then you can easily how the gate acts on the 0 and 1 states.\n",
    "</details>\n",
    "\n",
    "<details>\n",
    "    <summary>How's teleportation useful in quantum computation compared to classical?</summary>\n",
    "    It is useful when you want to encrypt the data (information) you are transferring (i.e., instead of cloning it, you are actually transferring it to the target party, which will include destroying the original information (data) from the source).\n",
    "</details>\n",
    "\n",
    "<!-- ::: -->"
   ]
  }
 ],
 "metadata": {
  "kernelspec": {
   "display_name": "Python 3",
   "language": "python",
   "name": "python3"
  },
  "language_info": {
   "codemirror_mode": {
    "name": "ipython",
    "version": 3
   },
   "file_extension": ".py",
   "mimetype": "text/x-python",
   "name": "python",
   "nbconvert_exporter": "python",
   "pygments_lexer": "ipython3",
   "version": "3.7.7"
  }
 },
 "nbformat": 4,
 "nbformat_minor": 4
}
