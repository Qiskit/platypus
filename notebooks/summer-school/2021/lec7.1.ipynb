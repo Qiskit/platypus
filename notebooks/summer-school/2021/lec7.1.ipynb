{
 "cells": [
  {
   "cell_type": "markdown",
   "metadata": {},
   "source": [
    "# Quantum Kernels in Practice\n",
    "\n",
    "<div class=\"youtube-wrapper\">\n",
    "    <iframe src=\"https://www.youtube.com/embed/LmQcSxgINis\" title=\"YouTube video player\" frameborder=\"0\" allow=\"accelerometer; autoplay; clipboard-write; encrypted-media; gyroscope; picture-in-picture\" allowfullscreen></iframe>\n",
    "</div>\n",
    "\n",
    "\n",
    "In this lecture, Jen Glick explains how you can use quantum kernels. In machine learning and more specifically in classification problems, kernels are transformations that you can apply to a given dataset to highlight interesting features that enable a better distinction between possible existing classes. You can then construct the quantum counterpart and use quantum computers to compute them. The quantum kernel must be hard to estimate classically to gain a computational advantage (otherwise we could just do it on a classical computer), but simply being hard to simulate doesn't mean the kernel will be useful at all. One approach to using quantum kernels in practice is to design them to exploit structural insight that a classical computer is not able to perform with properties of entanglement or superposition. In fact, the DLOG Kernel can exploit group structure in the data with a proven speedup over any classical counterpart. In the rest of the lecture, Jen Glick presents and comments a simple example of quantum kernel on a dataset with group structure.\n",
    "\n",
    "### Suggested links\n",
    "\n",
    " - Download the lecturer's notes [here](/content/summer-school/2021/resources/lecture-notes/Lecture7.1.pdf)\n",
    "\n",
    " - Watch Stanford CS229: Machine Learning on [Support Vector Machines](https://www.youtube.com/watch?v=lDwow4aOrtg&list=PLoROMvodv4rMiGQp3WXShtMGgzqpfVfbU&index=7&ab_channel=stanfordonline)\n",
    " - Watch Stanford CS229: Machine Learning on [Kernels](https://www.youtube.com/watch?v=8NYoQiRANpg&list=PLoROMvodv4rMiGQp3WXShtMGgzqpfVfbU&index=8&ab_channel=stanfordonline)\n",
    " - Read IBM - Qiskit on [Quantum Kernel Machine Learning](https://qiskit.org/documentation/machine-learning/tutorials/03_quantum_kernel.html)\n",
    " - Read IBM - Qiskit on [Quantum Kernel Alignment with Qiskit Runtime](https://qiskit.org/documentation/partners/qiskit_runtime/tutorials/qka.html)\n",
    "\n",
    "<!-- ::: q-block.reminder -->\n",
    "\n",
    "### FAQ\n",
    "\n",
    "<details>\n",
    "  <summary>What kind of practical data can have group structure?</summary>\n",
    "It is hard to think of a specific practical dataset. However, if the data has some kind of symmetry, it is very likely to have a group structure. This is a way of thinking in order to find a problem that will fit into the framework of quantum kernels exploiting group structures. The field and the idea is very early so anyone can find a dataset with structural properties.\n",
    "</details>\n",
    "\n",
    "<details>\n",
    "  <summary>How to know if a quantum kernel is hard to estimate classically or not before starting to work on it?</summary>\n",
    "Hard to estimate classically means you can prepare and execute the quantum circuit efficiently whereas a classical implementation will take an exponentially longer time to compute. There are known classes of quantum circuit that obey those properties. On the contrary, quantum circuits with a lot of entanglement or qubits do not necessarily mean the corresponding circuit is hard to estimate classically. Thus, the known classes are a good starting point in order to build a quantum kernel that will bring a speedup advantage.\n",
    "</details>\n",
    "\n",
    "<details>\n",
    "  <summary>How do we select the right quantum kernel for a particular problem on dataset?</summary>\n",
    "The million dollar question. A first approach can be the brute force using a bunch of different kernels and compare to find out how well they perform but it does not guarantee any meaningful results over classical kernels. Another approach is to find a way to optimize a given kernel according to the dataset. Tuning a kernel on a given dataset is directly link to the generalization bound it will perform on other datasets of similar problems.\n",
    "</details>\n",
    "\n",
    "<details>\n",
    "  <summary>Does the group structure only refer to training data or can be expected from testing data and other examples?</summary>\n",
    "In this framework, the assumption is that the full dataset has this underlying structure because the way kernels are designed is aimed at this structure. Indeed, training a kernel based on this assumption would lead to poor performances and other datasets with different group structure because it is applied to the specific training and testing.\n",
    "</details>\n",
    "\n",
    "<!-- ::: -->\n",
    "\n",
    "### Other resources\n",
    "\n",
    " - Read Havlíček et al. on [Supervised learning with quantum-enhanced feature spaces](https://www.nature.com/articles/s41586-019-0980-2)\n",
    " - Read Glick et al. on [Covariant quantum kernels for data with group structure](https://arxiv.org/abs/2105.03406)\n",
    " - Read Liu et al. on [A rigorous and robust quantum speed-up in supervised machine learning](https://arxiv.org/abs/2010.02174)"
   ]
  }
 ],
 "metadata": {
  "kernelspec": {
   "display_name": "Python 3",
   "language": "python",
   "name": "python3"
  },
  "language_info": {
   "codemirror_mode": {
    "name": "ipython",
    "version": 3
   },
   "file_extension": ".py",
   "mimetype": "text/x-python",
   "name": "python",
   "nbconvert_exporter": "python",
   "pygments_lexer": "ipython3",
   "version": "3.7.7"
  }
 },
 "nbformat": 4,
 "nbformat_minor": 4
}
