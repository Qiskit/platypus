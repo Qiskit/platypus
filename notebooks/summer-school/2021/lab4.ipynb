{
 "cells": [
  {
   "cell_type": "markdown",
   "metadata": {},
   "source": [
    "# Lab 4: Introduction to Training Quantum Circuits\n",
    "\n",
    "<div class=\"youtube-wrapper\">\n",
    "    <iframe src=\"https://www.youtube.com/embed/mEfyCvwcSkQ\" title=\"YouTube video player\" frameborder=\"0\" allow=\"accelerometer; autoplay; clipboard-write; encrypted-media; gyroscope; picture-in-picture\" allowfullscreen></iframe>\n",
    "</div>\n",
    "\n",
    "In this lab, you will learn how to train circuit-based variational models, using different training techniques and see restrictions the models have and how they might be overcome.\n",
    "\n",
    "Computing Expectation Values:\n",
    "* Graded Exercise 4-1: By matrix multiplication\n",
    "* Graded Exercise 4-2: By simulation\n",
    "\n",
    "Training A New Loss Function:\n",
    "* Graded Exercise 4-3: Define the Hamiltonian\n",
    "* Graded Exercise 4-4: Use the SPSA optimizer to find the minimum\n",
    "\n",
    "Natural Gradients:\n",
    "* Exploratory Exercise: Natural Gradients and Barren Plateaus\n",
    "\n",
    "\n",
    "### Suggested resources\n",
    "* Read Maria Schuld, Ville Bergholm, Christian Gogolin, Josh Izaac, Nathan Killoran on [Evaluating analytic gradients on quantum hardware](https://arxiv.org/abs/1811.11184)\n",
    "\n",
    "* Read James Stokes, Josh Izaac, Nathan Killoran, Giuseppe Carleo on [Quantum Natural Gradient](https://arxiv.org/abs/1909.02108)\n",
    "\n",
    "* Read Julien Gacon, Christa Zoufal, Giuseppe Carleo, Stefan Woerner on [Simultaneous Perturbation Stochastic Approximation of the Quantum Fisher Information](https://arxiv.org/abs/2103.09232)\n",
    "\n",
    "* Read Jarrod R. McClean, Sergio Boixo, Vadim N. Smelyanskiy, Ryan Babbush, Hartmut Neven on [Barren plateaus in quantum neural network training landscapes](https://arxiv.org/abs/1803.11173)\n",
    "\n",
    "* Read M. Cerezo, Akira Sone, Tyler Volkoff, Lukasz Cincio, Patrick J. Coles on [Cost Function Dependent Barren Plateaus in Shallow Parametrized Quantum Circuits](https://arxiv.org/abs/2001.00550)\n"
   ]
  }
 ],
 "metadata": {
  "kernelspec": {
   "display_name": "Python 3",
   "language": "python",
   "name": "python3"
  },
  "language_info": {
   "codemirror_mode": {
    "name": "ipython",
    "version": 3
   },
   "file_extension": ".py",
   "mimetype": "text/x-python",
   "name": "python",
   "nbconvert_exporter": "python",
   "pygments_lexer": "ipython3",
   "version": "3.7.7"
  }
 },
 "nbformat": 4,
 "nbformat_minor": 4
}
