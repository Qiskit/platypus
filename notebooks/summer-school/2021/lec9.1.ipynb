{
 "cells": [
  {
   "cell_type": "markdown",
   "metadata": {},
   "source": [
    "# Introduction to Quantum Hardware\n",
    "\n",
    "<div class=\"youtube-wrapper\">\n",
    "    <iframe src=\"https://www.youtube.com/embed/PI8PqARCwWo\" title=\"YouTube video player\" frameborder=\"0\" allow=\"accelerometer; autoplay; clipboard-write; encrypted-media; gyroscope; picture-in-picture\" allowfullscreen></iframe>\n",
    "</div>\n",
    "\n",
    "- Brief Review of Superconducting Qubits and curcuit Quantum Electrodynamics (cQED)\n",
    "- Typical Device Errors and Error Mitigation Techniques\n",
    "- Quantum Process Tomography\n",
    "\n",
    "### Suggested links\n",
    "\n",
    " - Download the lecturer's notes [here](/content/summer-school/2021/resources/lecture-notes/Lecture9.1.pdf)\n",
    "\n",
    "\n",
    "<!-- ::: q-block.reminder -->\n",
    "\n",
    "### FAQ\n",
    "\n",
    "<details>\n",
    "  <summary>Can we also use higher levels than $|1\\rangle$ to exploit a superposition of more than two quantum levels?</summary>\n",
    "Yes. Higher energy may be used to make Toffoli gates or implement qu-trit gates which have characteristic dispersion to charge noise at different energy levels (Source: Live Q&amp;A video at 5:03 time stamp)\n",
    "\n",
    "Accessing Higher Energy States - Qiskit Textbook:  https://qiskit.org/textbook/ch-quantum-hardware/accessing_higher_energy_states.html\n",
    "</details>\n",
    "\n",
    "<details>\n",
    "  <summary>If I want to do research in QC hardware, how do I start?</summary>\n",
    "Qiskit Metal. Also, reach out to professors to join project in a lab. Don’t be shy! Learn by doing hands-on work.\n",
    "</details>\n",
    "\n",
    "<details>\n",
    "  <summary>When designing a qubit, do we use Fermions or Bosons</summary>\n",
    "In principle it can be done either way.\n",
    "</details>\n",
    "\n",
    "<!-- ::: -->"
   ]
  }
 ],
 "metadata": {
  "kernelspec": {
   "display_name": "Python 3",
   "language": "python",
   "name": "python3"
  },
  "language_info": {
   "codemirror_mode": {
    "name": "ipython",
    "version": 3
   },
   "file_extension": ".py",
   "mimetype": "text/x-python",
   "name": "python",
   "nbconvert_exporter": "python",
   "pygments_lexer": "ipython3",
   "version": "3.7.7"
  }
 },
 "nbformat": 4,
 "nbformat_minor": 4
}
