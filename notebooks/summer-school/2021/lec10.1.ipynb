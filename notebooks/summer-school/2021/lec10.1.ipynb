{
 "cells": [
  {
   "cell_type": "markdown",
   "metadata": {},
   "source": [
    "# Advanced QML Algorithms: Quantum Boltzmann Machines and Quantum Generative Adversarial Networks\n",
    "\n",
    "<div class=\"youtube-wrapper\">\n",
    "    <iframe src=\"https://www.youtube.com/embed/yzcWIz5pfOs\" title=\"YouTube video player\" frameborder=\"0\" allow=\"accelerometer; autoplay; clipboard-write; encrypted-media; gyroscope; picture-in-picture\" allowfullscreen></iframe>\n",
    "</div>\n",
    "\n",
    "\n",
    "In this lecture, Christa presents quantum machine learning algorithms applied to state preparation. The motivation behind the topic is the need to find an approximate but efficient way to encode the data into quantum states in order to explore quantum algorithms that could bring a computational advantage without an exponentially expensive load. This is where we want to use parameterized quantum circuits and machine learning techniques. Thus, Christa presents two algorithms that approach this problem, focusing on loading of probability distribution. The first one is the Quantum Generative Adversarial Networks or QGAN directly taken from classical machine learning where a generator has to generate data that will be processed by a discriminator. Whether the discriminator can recognize if the data is generated or original directly affects the training of both generator and discriminator itself. The second one is Quantum Boltzmann Machines that take their name based on the probability function derived from thermodynamics with the Boltzmann constant. Indeed, the training part will update this probability function so that it can represents the underlying probability distribution of the dataset.\n",
    "\n",
    "### Suggested links\n",
    "\n",
    " - Download the lecturer's notes [here](/content/summer-school/2021/resources/lecture-notes/Lecture10.1.pdf)\n",
    "\n",
    " - Read Qiskit on [QGAN](https://qiskit.org/documentation/stubs/qiskit.aqua.algorithms.QGAN.html)\n",
    " - Watch Christa Zoufal on [Quantum Gradients](https://www.youtube.com/watch?v=k6qAbMxdBBU&ab_channel=Xanadu)\n",
    "\n",
    "### Other resources\n",
    "\n",
    " - Read Goodfellow et al. on [Generative Adversarial Nets](https://arxiv.org/pdf/1406.2661.pdf)\n",
    " - Read Geoffrey E. Hinton on [Boltzmann Machines](https://www.cs.toronto.edu/~hinton/csc321/readings/boltz321.pdf)\n",
    "\n",
    "### Official Suggested Reading\n",
    "_Quantum Generative Adversarial Networks for learning and loading random distributions_ by Zoufal, C., Lucchi, A. & Woerner, S\n",
    "\n",
    "_Quantum generative adversarial networks_ by Pierre-Luc Dallaire-Demers and Nathan Killoran\n",
    "\n",
    "_Variational quantum Boltzmann machines_ by Zoufal, C., Lucchi, A. & Woerner, S.\n",
    "\n",
    "_Quantum Boltzmann Machine_ by Mohammad H. Amin, Evgeny Andriyash, Jason Rolfe, Bohdan Kulchytskyy, and Roger Melko"
   ]
  },
  {
   "cell_type": "code",
   "execution_count": null,
   "metadata": {},
   "outputs": [],
   "source": []
  }
 ],
 "metadata": {
  "kernelspec": {
   "display_name": "Python 3",
   "language": "python",
   "name": "python3"
  },
  "language_info": {
   "codemirror_mode": {
    "name": "ipython",
    "version": 3
   },
   "file_extension": ".py",
   "mimetype": "text/x-python",
   "name": "python",
   "nbconvert_exporter": "python",
   "pygments_lexer": "ipython3",
   "version": "3.9"
  }
 },
 "nbformat": 4,
 "nbformat_minor": 4
}
