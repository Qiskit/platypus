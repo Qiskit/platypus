{
 "cells": [
  {
   "cell_type": "markdown",
   "metadata": {},
   "source": [
    "# Introduction and Applications of Quantum Models\n",
    "\n",
    "<div class=\"youtube-wrapper\">\n",
    "    <iframe src=\"https://www.youtube.com/embed/mDPWjlqEqv8\" title=\"YouTube video player\" frameborder=\"0\" allow=\"accelerometer; autoplay; clipboard-write; encrypted-media; gyroscope; picture-in-picture\" allowfullscreen></iframe>\n",
    "</div>\n",
    "\n",
    " - Download the lecturer's notes [here](/content/summer-school/2021/resources/lecture-notes/Lecture8.1.pdf)\n",
    "\n",
    "### Other resources\n",
    "\n",
    " - Read about [Quantum computing models for artificial neural networks](https://iopscience.iop.org/article/10.1209/0295-5075/134/10002)\n",
    " - Read Yudong Cao, Gian Giacomo Guerreschi, Alán Aspuru-Guzik on [Quantum Neuron: an elementary building block for machine learning on quantum computers](https://arxiv.org/abs/1711.11240)\n",
    " - Read E. Torrontegui and J. J. García-Ripoll on [Unitary quantum perceptron as efficient universal approximator](https://iopscience.iop.org/article/10.1209/0295-5075/125/30004)\n",
    " - Read Maria Schuld, Ilya Sinayskiya, Francesco Petruccione on [Simulating a perceptron on a quantum computer](https://www.sciencedirect.com/science/article/abs/pii/S037596011401278X)\n",
    " - Read Francesco Tacchino, Chiara Macchiavello, Dario Gerace & Daniele Bajoni on [An artificial neuron implemented on an actual quantum processor](https://www.nature.com/articles/s41534-019-0140-4)\n",
    "\n",
    "### Suggested reading\n",
    "_Quantum computing models for artificial neural networks_ by S.  Mangini et al."
   ]
  }
 ],
 "metadata": {
  "kernelspec": {
   "display_name": "Python 3",
   "language": "python",
   "name": "python3"
  },
  "language_info": {
   "codemirror_mode": {
    "name": "ipython",
    "version": 3
   },
   "file_extension": ".py",
   "mimetype": "text/x-python",
   "name": "python",
   "nbconvert_exporter": "python",
   "pygments_lexer": "ipython3",
   "version": "3.7.7"
  }
 },
 "nbformat": 4,
 "nbformat_minor": 4
}
