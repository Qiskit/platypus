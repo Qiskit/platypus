{
 "cells": [
  {
   "cell_type": "markdown",
   "metadata": {},
   "source": [
    "# Building a Quantum Classifier\n",
    "\n",
    "<div class=\"youtube-wrapper\">\n",
    "    <iframe src=\"https://www.youtube.com/embed/-sxlXNz7ZxU\" title=\"YouTube video player\" frameborder=\"0\" allow=\"accelerometer; autoplay; clipboard-write; encrypted-media; gyroscope; picture-in-picture\" allowfullscreen></iframe>\n",
    "</div>\n",
    "\n",
    "\n",
    "In this lecture, Amira integrates everything presented in the previous lectures to perform Quantum Machine Learning. This talk gives a high level overview of what it means to build a quantum machine learning model via the presentation of a quantum classifier. Amira presents the limitations of this model, discusses whether it is advantageous compared to classical versions, and how to think about more interesting and complex models. After a small recap on the theoretical perfomances of quantum computing thanks to the properties of interference or exponential state space, Amira explains what we think of when talking about quantum machine learning: classical data that is somehow processed by a quantum computer.\n",
    "\n",
    "Indeed, quantum machine learning takes place in the general framework of classical machine learning where we try to find any piece of calculation that is proven to have some kind of advantage when run on a quantum computer. The question now is to think of what can be done with our near-term quantum computers. This leads to the concept of variational models or ansatz that are quantum circuits containing trainable parameters. Amira then explains how this model can be used to build a quantum classifier. The goal is finally to train a quantum circuit on labelled samples in order to predict labels for new data. To do so, Amira explains in details during the rest of the lecture the different required steps: encode the classical data into a quantum state, apply a parameterized model, measure the circuit to extract labels and finally use optimization techniques like a quanutm equivalent of gradient descent to update model parameters. The lecture conlcudes on the discussion about the advantages of such techniques for present or future applications regarding the development of quantum computers.\n",
    "\n",
    "### Suggested links\n",
    "\n",
    " - Download the lecturer's notes [here](/content/summer-school/2021/resources/lecture-notes/Lecture5.1.pdf)\n",
    "\n",
    " - Read IBM - Qiskit on [Quantum Neural Networks](https://qiskit.org/documentation/machine-learning/tutorials/01_neural_networks.html)\n",
    " - Read IBM - Qiskit on [Neural Network Classifier & Regressor](https://qiskit.org/documentation/machine-learning/tutorials/02_neural_network_classifier_and_regressor.html)\n",
    "\n",
    "<!-- ::: q-block.reminder -->\n",
    "\n",
    "### FAQ\n",
    "\n",
    "<details>\n",
    "  <summary>What does quantum data mean?</summary>\n",
    "It can be thought as data information that comes from a quantum system. In quantum chemestry, at the end of an experiment on a studied particle following the properties of quantum mechanics, the state is considered as quantum information.\n",
    "</details>\n",
    "\n",
    "<details>\n",
    "  <summary>Why is entanglement needed in variational models?</summary>\n",
    "When talking about quantum computing and the advantages compared to the classical counterpart, we want something that is difficult to be represented classically. Entanglement is a key setup that we do not have classically to help building a different architecture.\n",
    "</details>\n",
    "\n",
    "<details>\n",
    "  <summary>Many qubits are needed to encode the data thus increasing the complexity and computation, is that rigth?</summary>\n",
    "Not always. It is very depending on how you choose to encode your data. In theory, you could take one qubit and even encode a high dimensional datapoint. In terms of the increasing number of qubits, it is not necessarily true. However, a large dataset requires a large circuit that will be rerun for different datapoints.\n",
    "</details>\n",
    "\n",
    "<details>\n",
    "  <summary>How do you approach the creation of an Ansatz to a new problem and choose the right rotations or entanglement parts to solve this problem?</summary>\n",
    "We draw a lot of inspiration from different papers like one studying different types of architectures for a given problem and see what happens when they become more and more expressive with circuits sampling from the full Hilbert space. However, such expressive circuits also come with a lot of different problems. Finding a good Ansatz is not an easy thing to do and we are still trying to figure out how to do it efficiently. To do so, we need knowledge about the type of data and problem we are trying to solve and then think about how to structure the variational circuit. For the rotations, it is all about the final measurement: some rotations will not have any effects on certain measurements so they need to be complementary. About the entanglement if we do it on two or more qubits is an exploratory process.\n",
    "</details>\n",
    "\n",
    "<details>\n",
    "  <summary>How can these quantum machine learning models be implemented in noisy devices such as the current quantum computers and take into account this noise?</summary>\n",
    "These variational circuits are actually very nice because they are a little bit robust to the noise. That is why they seem to work well even on these devices. Indeed, on average, they can give us good solutions that are approximate to the solution we want to find for a given problem more specifically with the QAOA circuit which will be later discussed.\n",
    "</details>\n",
    "\n",
    "<!-- ::: -->\n",
    "\n",
    "### Other resources\n",
    "\n",
    " - Read Maria Schuld and Francesco Petruccione on [Supervised Learning with Quantum Computers](https://link.springer.com/content/pdf/10.1007/978-3-319-96424-9.pdf)\n",
    " - Read Sim et al. on [Expressibility and entangling capability of parameterized quantum circuits for hybrid quantum-classical algorithms](https://arxiv.org/abs/1905.10876)\n",
    " - Read Havlíček et al. on [Supervised learning with quantum-enhanced feature spaces](https://www.nature.com/articles/s41586-019-0980-2)\n",
    " - Read Schuld et al. on [Circuit-centric quantum classifiers](https://arxiv.org/abs/1804.00633)\n",
    " - Read Schuld et al. on [The effect of data encoding on the expressive power of variational quantum machine learning models](https://arxiv.org/pdf/2008.08605.pdf)\n",
    "\n"
   ]
  }
 ],
 "metadata": {
  "kernelspec": {
   "display_name": "Python 3",
   "language": "python",
   "name": "python3"
  },
  "language_info": {
   "codemirror_mode": {
    "name": "ipython",
    "version": 3
   },
   "file_extension": ".py",
   "mimetype": "text/x-python",
   "name": "python",
   "nbconvert_exporter": "python",
   "pygments_lexer": "ipython3",
   "version": "3.9"
  }
 },
 "nbformat": 4,
 "nbformat_minor": 4
}
