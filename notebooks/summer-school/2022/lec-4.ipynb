{
 "cells": [
  {
   "cell_type": "markdown",
   "id": "d4cd4a9a",
   "metadata": {},
   "source": [
    "# Simulation Problems\n",
    "\n",
    "<div class=\"youtube-wrapper\">\n",
    "    <iframe src=\"https://www.youtube.com/embed/0JB0LJEbm-U\" title=\"YouTube video player\" frameborder=\"0\" allow=\"accelerometer; autoplay; clipboard-write; encrypted-media; gyroscope; picture-in-picture\" allowfullscreen></iframe>\n",
    "</div>\n",
    "\n",
    "<div class=\"youtube-wrapper\">\n",
    "    <iframe src=\"https://www.youtube.com/embed/HGb-RyHaDRk\" title=\"YouTube video player\" frameborder=\"0\" allow=\"accelerometer; autoplay; clipboard-write; encrypted-media; gyroscope; picture-in-picture\" allowfullscreen></iframe>\n",
    "</div>\n",
    "\n",
    "This lecture by Jeffrey Cohn was originally created for the 2022 Qiskit Global Summer School on Quantum Simulation.\n",
    "\n",
    "### Suggested reading\n",
    "\n",
    "- [_Lec2 (password: RpsiC5yx)_](https://ibm.webex.com/ibm/ldr.php?RCID=235e82bcc188ca070e00166753f022e5)\n",
    "- [_Andrew Childs lecture notes (chapters 25-27)_](https://www.cs.umd.edu/~amchilds/qa/qa.pdf)\n",
    "- [_Theory of Trotter Error with Commutator Scaling_](https://journals.aps.org/prx/pdf/10.1103/PhysRevX.11.011020)\n",
    "- [_A random compiler for fast Hamiltonian simulation_](https://arxiv.org/pdf/1811.08017.pdf)\n",
    "- [_Concentration for random product formulas_](https://arxiv.org/pdf/2008.11751.pdf)\n",
    "- [_Optimal Hamiltonian Simulation by Quantum Signal Processing_](https://arxiv.org/pdf/1606.02685.pdf)\n",
    "- _Learn Quantum Computation Using Qiskit:_\n",
    "  - [_3.5 QFT_](https://learn.qiskit.org/course/ch-algorithms/quantum-fourier-transform)\n",
    "  - [_3.6 QPE_](https://learn.qiskit.org/course/ch-algorithms/quantum-phase-estimation)\n",
    "  - [_4.1.2 VQE_](https://learn.qiskit.org/course/ch-applications/simulating-molecules-using-vqe)\n",
    "- [_Barren plateaus in quantum neural network training landscapes_](https://www.nature.com/articles/s41467-018-07090-4)\n",
    "- [_Quantum Subspace Methods (1)_](https://arxiv.org/pdf/1603.05681.pdf)\n",
    "- [_QEOM_](https://arxiv.org/pdf/1910.12890.pdf)\n",
    "- _Quantum Subspace Methods (2):_\n",
    "  - [_https://arxiv.org/pdf/2103.08563.pdf_](https://arxiv.org/pdf/2103.08563.pdf)\n",
    "  - [_https://arxiv.org/abs/1911.05163_](https://arxiv.org/abs/1911.05163)\n",
    "  - [_https://arxiv.org/abs/2109.06868_](https://arxiv.org/abs/2109.06868)\n",
    "  - [_https://arxiv.org/abs/1909.08925_](https://arxiv.org/abs/1909.08925)\n",
    "  - [_https://journals.aps.org/prxquantum/abstract/10.1103/PRXQuantum.2.040352_](https://journals.aps.org/prxquantum/abstract/10.1103/PRXQuantum.2.040352)\n",
    "- _Gibbs States:_\n",
    "  - [_QITE_](https://arxiv.org/abs/1901.07653)\n",
    "  - [_https://arxiv.org/abs/0911.3635_](https://arxiv.org/abs/0911.3635)\n",
    "  - [_https://www.nature.com/articles/s41534-019-0187-2_](https://www.nature.com/articles/s41534-019-0187-2)\n",
    "  - [_https://arxiv.org/abs/1609.07877_](https://arxiv.org/abs/1609.07877)\n"
   ]
  }
 ],
 "metadata": {
  "kernelspec": {
   "display_name": "Python 3",
   "language": "python",
   "name": "python3"
  },
  "language_info": {
   "codemirror_mode": {
    "name": "ipython",
    "version": 3
   },
   "file_extension": ".py",
   "mimetype": "text/x-python",
   "name": "python",
   "nbconvert_exporter": "python",
   "pygments_lexer": "ipython3",
   "version": "3.9"
  }
 },
 "nbformat": 4,
 "nbformat_minor": 5
}
