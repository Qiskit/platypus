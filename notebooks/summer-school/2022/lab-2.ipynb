{
 "cells": [
  {
   "cell_type": "markdown",
   "id": "8ecb7df7",
   "metadata": {},
   "source": [
    "# Lab 2\n",
    "\n",
    "The formalism of quantum information theory can look rather abstract compared to the circuit model of quantum computation. The Qiskit Opflow module aims to bridge the language of quantum information theory with the framework of circuits that is used to run experiments. This will make it seamless to switch back and forth between theoretical ideas and their experimental implementation.\n",
    "\n",
    "One example that we'll see in some detail is the simulation of the time-evolution of quantum system. Using the Qiskit Opflow module going from the definition of the Hamiltonian governing the dynamics of the system to the experiment implementing a quantum simulation of the dynamics can be done in just a few lines of code!\n",
    "\n",
    "- [Download the notebook for this lab](/content/summer-school/2022/resources/lab-notebooks/lab-2.ipynb)"
   ]
  }
 ],
 "metadata": {
  "kernelspec": {
   "display_name": "Python 3",
   "language": "python",
   "name": "python3"
  },
  "language_info": {
   "codemirror_mode": {
    "name": "ipython",
    "version": 3
   },
   "file_extension": ".py",
   "mimetype": "text/x-python",
   "name": "python",
   "nbconvert_exporter": "python",
   "pygments_lexer": "ipython3",
   "version": "3.9"
  }
 },
 "nbformat": 4,
 "nbformat_minor": 5
}
