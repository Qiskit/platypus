{
 "cells": [
  {
   "cell_type": "markdown",
   "id": "9a253f80",
   "metadata": {},
   "source": [
    "# History of Quantum Computing and Motivation for Quantum Simulation\n",
    "\n",
    "<div class=\"youtube-wrapper\">\n",
    "    <iframe src=\"https://www.youtube.com/embed/P5cGeDKOIP0\" title=\"YouTube video player\" frameborder=\"0\" allow=\"accelerometer; autoplay; clipboard-write; encrypted-media; gyroscope; picture-in-picture\" allowfullscreen></iframe>\n",
    "</div>\n",
    "\n",
    "This lecture by Olivia Lanes was originally created for the 2022 Qiskit Global Summer School on Quantum Simulation.\n",
    "\n",
    "### Suggested reading\n",
    "\n",
    "- [_Introduction To Quantum and Classical Computing_](http://www.thomaswong.net/introduction-to-classical-and-quantum-computing-1e3p.pdf) by Thomas Wong\n",
    "- [_The Strange World of Quantum Mechanics_](http://www.ba.ipcf.cnr.it/didattica/corsi/solid_state_chem/qm/The_Strange_World_of_Quantum_Mechanics_Styer.pdf) by Daniel F. Styer\n",
    "- [_Introduction to Quantum Mechanics_](https://www.fisica.net/mecanica-quantica/Griffiths%20-%20Introduction%20to%20quantum%20mechanics.pdf) by David J. Griffiths\n",
    "- _Learn Quantum Computation Using Qiskit:_\n",
    "  - [_1.1 Introduction_](https://qiskit.org/textbook/ch-states/introduction.html)\n"
   ]
  }
 ],
 "metadata": {
  "kernelspec": {
   "display_name": "Python 3",
   "language": "python",
   "name": "python3"
  },
  "language_info": {
   "codemirror_mode": {
    "name": "ipython",
    "version": 3
   },
   "file_extension": ".py",
   "mimetype": "text/x-python",
   "name": "python",
   "nbconvert_exporter": "python",
   "pygments_lexer": "ipython3",
   "version": "3.9"
  }
 },
 "nbformat": 4,
 "nbformat_minor": 5
}
