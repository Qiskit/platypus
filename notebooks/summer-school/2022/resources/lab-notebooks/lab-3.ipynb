{
 "cells": [
  {
   "cell_type": "markdown",
   "metadata": {},
   "source": [
    "# Lab 3: Quantum Noise\n",
    "Welcome to Qiskit! Before starting with the exercises, please run the cell below by pressing 'shift' + 'return'."
   ]
  },
  {
   "cell_type": "code",
   "execution_count": null,
   "metadata": {},
   "outputs": [],
   "source": [
    "import numpy as np\n",
    "import qiskit\n",
    "from qiskit.circuit.library import RXGate\n",
    "from qiskit.providers.aer.noise import NoiseModel, ReadoutError, depolarizing_error, coherent_unitary_error\n",
    "from scipy.stats import norm\n",
    "from scipy.optimize import curve_fit\n",
    "import matplotlib.pylab as plt\n",
    "import qc_grader\n",
    "\n"
   ]
  },
  {
   "cell_type": "markdown",
   "metadata": {},
   "source": [
    "## III.1: Projection noise\n",
    "Let us first take a look at the noise associated with sampling from a quantum state. When we measure an observable of a quantum system, we observe only the value of the observable associated with one of the eigenstates of the observable, regardless of wether the quantum system was described by a superposition of eigenstates of the observable before the measurement. In the case of superposition states, this introduces a sampling noise due to the finite number of times that we repeat the experiment.\n",
    "\n",
    "### 1) First, create a uniform superposition of $\\vert 0 \\rangle$ and $\\vert 1 \\rangle$, by acting with the Hadamard gate on the $\\vert 0 \\rangle$ state and then measure it"
   ]
  },
  {
   "cell_type": "code",
   "execution_count": null,
   "metadata": {},
   "outputs": [],
   "source": [
    "# Create circuit to generate an equal superposition of quantum states\n",
    "# Set the number of qubits\n",
    "qubits_count = 1\n",
    "# Set the number of bits\n",
    "cbits_count = 1\n",
    "# Instantiate a quantum register\n",
    "quantum_register = qiskit.QuantumRegister(qubits_count)\n",
    "# Instantiate a classical register\n",
    "classical_register = qiskit.ClassicalRegister(cbits_count)\n",
    "# Instantiate a quantum circuit\n",
    "circuit = qiskit.QuantumCircuit(quantum_register, classical_register)\n",
    "\n",
    "# Add a Hadamard gate and measurement\n",
    "###INSERT CODE BELOW THIS LINE\n",
    "\n",
    "\n",
    "###DO NOT EDIT BELOW THIS LINE\n",
    "\n"
   ]
  },
  {
   "cell_type": "code",
   "execution_count": null,
   "metadata": {},
   "outputs": [],
   "source": [
    "from qc_grader.challenges.qgss_2022 import grade_lab3_ex1\n",
    "\n",
    "grade_lab3_ex1(circuit)"
   ]
  },
  {
   "cell_type": "markdown",
   "metadata": {},
   "source": [
    "### 2) Then retrieve the number of times the state $\\vert 0 \\rangle$ or $\\vert 1 \\rangle$ is observed\n",
    "Remeber to pass the parameter specifying the number of shots to the simulator"
   ]
  },
  {
   "cell_type": "code",
   "execution_count": null,
   "metadata": {},
   "outputs": [],
   "source": [
    "# Run the quantum circuit on a simulator backend which returns measured shots in the Z basis\n",
    "shots_backend = qiskit.Aer.get_backend('qasm_simulator')\n",
    "\n",
    "# Fix number of times to repeat the experiment\n",
    "num_shots = 10\n",
    "\n",
    "# Create a job, run on the simulator, extract the results and get the counts dictionary\n",
    "###INSERT CODE BELOW THIS LINE\n",
    "\n",
    "\n",
    "###DO NOT EDIT BELOW THIS LINE\n",
    "\n",
    "print(counts)\n",
    "\n",
    "\n"
   ]
  },
  {
   "cell_type": "code",
   "execution_count": null,
   "metadata": {},
   "outputs": [],
   "source": [
    "from qc_grader.challenges.qgss_2022 import  grade_lab3_ex2\n",
    "\n",
    "grade_lab3_ex2(counts)"
   ]
  },
  {
   "cell_type": "markdown",
   "metadata": {},
   "source": [
    "The probability of observing $\\vert 0 \\rangle$, which can be taken to be the frequency with which we observed the $\\vert 0 \\rangle$ outcome over all the trials: $p_0 = \\frac{{counts}_0}{{num\\_shots}} $, can be far from the theoretical value of $0.5$"
   ]
  },
  {
   "cell_type": "markdown",
   "metadata": {},
   "source": [
    "### 3) Let's go from counts to probabilities, for different number of shots (repetitions of the experiment)\n",
    "Given the definition of probability shown above, how does the probability of observing the $\\vert 0 \\rangle$ state change with the increasing number of shots?"
   ]
  },
  {
   "cell_type": "code",
   "execution_count": null,
   "metadata": {},
   "outputs": [],
   "source": [
    "# Set different number of shots\n",
    "num_shots_list = [10, 100, 1000, 10000]\n",
    "\n",
    "# For each number of shots, extract the probability of |0> from the experimental counts\n",
    "p0_list = []\n",
    "for num_shots in num_shots_list:\n",
    "    \n",
    "    # Create a job, run on the simulator, extract the results and get the counts dictionary\n",
    "    ###INSERT CODE BELOW THIS LINE\n",
    " \n",
    "\n",
    "    ###DO NOT EDIT BELOW THIS LINE   \n",
    "\n",
    "\n",
    "for num_shots, p0 in zip(num_shots_list, p0_list):\n",
    "    print(f\"The probability of observing the 0 state with {num_shots} shots is: {p0}\")\n"
   ]
  },
  {
   "cell_type": "code",
   "execution_count": null,
   "metadata": {},
   "outputs": [],
   "source": [
    "from qc_grader.challenges.qgss_2022 import  grade_lab3_ex3\n",
    "\n",
    "grade_lab3_ex3(p0_list)"
   ]
  },
  {
   "cell_type": "markdown",
   "metadata": {},
   "source": [
    "The frequency with which the state $\\vert 0 \\rangle$ is observed tends to the theoretical one when the number of shots is increased"
   ]
  },
  {
   "cell_type": "markdown",
   "metadata": {},
   "source": [
    "### 4) Given a fixed number of shots, estimate the mean and stardard deviation of the frequency of observing the $\\vert 0 \\rangle$ state over many trials\n",
    "When we consider a fixed number of shots, the number of times we observe the state $\\vert 0 \\rangle$ out of the $num\\_shots$ times we have carried out the experiment can fluctuate. Therefore, each time we calculate the probability of observing $\\vert 0 \\rangle$ out of the $num\\_shots$ we'll get different values. Let's estimate this frequency 10000 times and look how the estimate changes each time."
   ]
  },
  {
   "cell_type": "code",
   "execution_count": null,
   "metadata": {},
   "outputs": [],
   "source": [
    "# Set the number of shots\n",
    "num_shots = 10\n",
    "# Set the number of times to repeat the experiment\n",
    "iterations = 10000\n",
    "# Set the number of bins for the histogram\n",
    "bin_count = 100\n",
    "\n",
    "# For each iteration, create job, run the experiment, \n",
    "# collect results and calculate probability of |0>\n",
    "p0_list = []\n",
    "for _ in range(iterations):\n",
    "\n",
    "    job = shots_backend.run(circuit, shots=num_shots)\n",
    "\n",
    "    result = job.result()\n",
    "\n",
    "    if '0' in result.get_counts().keys():\n",
    "        p0 = result.get_counts()['0']/num_shots\n",
    "    else:\n",
    "        p0 = 1 - result.get_counts()['1']/num_shots\n",
    "\n",
    "    p0_list.append(p0)\n",
    "\n",
    "# Calculate a histogram from the results\n",
    "yhist, xhist = np.histogram(p0_list, bins=bin_count)\n",
    "# Restrict horizontal axis to 0-1\n",
    "x_01 = np.array([xhist[n] + (xhist[n + 1] - xhist[n])/2 for n in range(len(xhist)-1)])\n",
    "\n",
    "# Find x-points for which the histogram has more than zero counts\n",
    "xh = np.where(yhist > 0)[0]\n",
    "# Get the y-points of the corresponding x ones\n",
    "yh = yhist[xh]\n",
    "# Get the x-points\n",
    "x_01_h = x_01[xh]\n",
    "\n",
    "# Plot\n",
    "plt.scatter(x_01_h, yh, color = 'red')\n",
    "plt.title(f\"Using {num_shots} shots to estimate probability\")\n",
    "plt.xlim((0, 1))\n",
    "plt.xlabel(r'probability of $\\vert 0 \\rangle$')\n",
    "plt.ylabel('counts')\n",
    "plt.show()"
   ]
  },
  {
   "cell_type": "markdown",
   "metadata": {},
   "source": [
    "We can fit a Gaussian to the histogram of the counts to estimate the mean and the variance of the data. Use scipy's [`curve_fit`](https://docs.scipy.org/doc/scipy/reference/generated/scipy.optimize.curve_fit.html) function for the purpose. `curve_fit` will take the function for fitting, the x and y points to fit and a list of the initial guessed values for the fit. It will then return the estimate and the covariance matrix of the parameters `mean` and `sigma` of the `gaussian(...)` function which best fit the data. For grading purposes, append the estimated mean and the estimated standard deviation (in this order) to the `mu_sigma` list which will be submitted."
   ]
  },
  {
   "cell_type": "code",
   "execution_count": null,
   "metadata": {},
   "outputs": [],
   "source": [
    "# Define a Gaussian function for the fit\n",
    "def gaussian(x, a, mean, sigma):\n",
    "    return a * (1/(sigma*np.sqrt(2*np.pi)))*np.exp(-((x - mean)**2 / (2 * sigma**2)))\n",
    "\n",
    "# Set initial estimates for the fit: the maximum height of the histogram, the theoretical\n",
    "# average and the theoretical standard deviation\n",
    "height_estimate = np.max(yh)\n",
    "mu_estimate = 0.5\n",
    "sigma_estimate = np.sqrt(mu_estimate*(1-mu_estimate)/num_shots)\n",
    "\n",
    "# Define list to store the estimated values of the average (mu_sigma[0]) and standard deviation (mu_sigma[1])\n",
    "mu_sigma = []\n",
    "\n",
    "# Use the curve_fit function to fit the experimental data using the definition of the Gaussian function\n",
    "# which will return the estimate of the parameters.\n",
    "###INSERT CODE BELOW THIS LINE\n",
    "\n",
    "\n",
    "###DO NOT EDIT BELOW THIS LINE   \n",
    "\n",
    "print(\"The mean is \", mu_sigma[0])\n",
    "print(\"The standard deviation is \", mu_sigma[1])\n",
    "\n",
    "# Plot experimental data and the fit\n",
    "plt.scatter(x_01_h, yh, label = 'data', color = 'red')\n",
    "plt.plot(x_01, gaussian(x_01, *popt), label = 'fit', linestyle = '--')\n",
    "plt.title(f\"Using {num_shots} shots to estimate probability\")\n",
    "plt.xlim((0, 1))\n",
    "plt.xlabel(r'probability of $\\vert 0 \\rangle$')\n",
    "plt.ylabel('counts')\n",
    "plt.legend()\n",
    "plt.show()"
   ]
  },
  {
   "cell_type": "code",
   "execution_count": null,
   "metadata": {},
   "outputs": [],
   "source": [
    "from qc_grader.challenges.qgss_2022 import grade_lab3_ex4\n",
    "\n",
    "grade_lab3_ex4(mu_sigma)"
   ]
  },
  {
   "cell_type": "markdown",
   "metadata": {},
   "source": [
    "### 5) Check the standard deviation for different number of shots\n",
    "By increasing the number of shots, which is the number of samples in the population, we can improve the estimate of the sample mean and its variance"
   ]
  },
  {
   "cell_type": "code",
   "execution_count": null,
   "metadata": {},
   "outputs": [],
   "source": [
    "# Set different number of shots\n",
    "num_shots_list = [10, 100, 1000,10000]\n",
    "# Set the number of times to repeat the experiment\n",
    "iterations = 10000\n",
    "# Set the number of bins for the histogram\n",
    "bin_count = 100\n",
    "\n",
    "# Repeat the protocol above for different number of shots to see how the parameters of the\n",
    "# estimated Gaussian change with the number of shots\n",
    "popt_list = []\n",
    "gaussian_curve_list, x_01_list = [], []\n",
    "for num_shots in num_shots_list:\n",
    "\n",
    "    p0_list = []\n",
    "    for _ in range(iterations):\n",
    "\n",
    "        job = shots_backend.run(circuit, shots=num_shots)\n",
    "\n",
    "        result = job.result()\n",
    "\n",
    "        if '0' in result.get_counts().keys():\n",
    "            p0 = result.get_counts()['0']/num_shots\n",
    "        else:\n",
    "            p0 = 1 - result.get_counts()['1']/num_shots\n",
    "\n",
    "        p0_list.append(p0)\n",
    "\n",
    "\n",
    "\n",
    "    yhist, xhist = np.histogram(p0_list, bins=bin_count)\n",
    "    norm_y = np.sum(yhist)\n",
    "    yhist = yhist/iterations\n",
    "    x_01 = np.array([xhist[n] + (xhist[n + 1] - xhist[n])/2 for n in range(len(xhist)-1)])\n",
    "\n",
    "\n",
    "    xh = np.where(yhist > 0)[0]\n",
    "    yh = yhist[xh]\n",
    "    x_01_h = x_01[xh]\n",
    "\n",
    "    height_estimate = np.max(yh)\n",
    "    mu_estimate = p0\n",
    "    sigma_estimate = np.sqrt(mu_estimate*(1-mu_estimate)/num_shots)\n",
    "\n",
    "\n",
    "    popt, pcov = curve_fit(gaussian, x_01_h, yh, [height_estimate, mu_estimate, sigma_estimate])\n",
    "\n",
    "    gaussian_curve = gaussian(x_01, *popt)\n",
    "    gaussian_curve_list.append(gaussian_curve)\n",
    "    x_01_list.append(x_01)\n",
    "    popt_list.append(popt)\n",
    "\n",
    "\n",
    "    plt.scatter(x_01_h, yh, label = 'data', color = 'red')\n",
    "    plt.plot(x_01, gaussian_curve, label = 'fit', linestyle = '--')\n",
    "    plt.title(f\"Using {num_shots} shots to estimate probability\")\n",
    "    plt.xlim((0, 1))\n",
    "    plt.xlabel(r'probability of $\\vert 0 \\rangle$')\n",
    "    plt.ylabel('counts')\n",
    "    plt.legend()\n",
    "    plt.show()"
   ]
  },
  {
   "cell_type": "markdown",
   "metadata": {},
   "source": [
    "Extract the values from the fit that correspond to the estimate of the standard deviation of the Gaussian distribution and check the validity of the formula $\\sigma = \\sqrt{\\frac{p_0 (1 - p_0)}{N}}$."
   ]
  },
  {
   "cell_type": "code",
   "execution_count": null,
   "metadata": {},
   "outputs": [],
   "source": [
    "# Define list which will contain the experimental standard deviations \n",
    "sigma_exp_list = []\n",
    "\n",
    "# Append the standard deviations from the experiments with different number of shots to sigma_exp_list\n",
    "###INSERT CODE BELOW THIS LINE\n",
    "\n",
    "\n",
    "###DO NOT EDIT BELOW THIS LINE   \n",
    "\n",
    "\n",
    "# Define theoretical sigma\n",
    "p=0.5\n",
    "sigma_th_list = [np.sqrt(p*(1-p)/num_shots) for num_shots in num_shots_list]\n",
    "\n",
    "for sigma_exp, sigma_th in zip(sigma_exp_list, sigma_th_list):\n",
    "    print(f\"The variance from experiment is {sigma_exp} while the theoretical one is {sigma_th}\")"
   ]
  },
  {
   "cell_type": "code",
   "execution_count": null,
   "metadata": {},
   "outputs": [],
   "source": [
    "from qc_grader.challenges.qgss_2022 import grade_lab3_ex5\n",
    "\n",
    "grade_lab3_ex5(sigma_exp_list)"
   ]
  },
  {
   "cell_type": "markdown",
   "metadata": {},
   "source": [
    "## III.2: Measurement Noise\n",
    "Let's now consider the case where the measurement outcomes themselves are affected by noise. This can be thought of as mis-classification events. For example, we'll want to find out the probabilities of preparing the qubit in a certain state but then finding it in another one when measured. This type of error is often reffered to as State Preparation And Measurement (SPAM) error."
   ]
  },
  {
   "cell_type": "markdown",
   "metadata": {},
   "source": [
    "#### Create measurement noise model"
   ]
  },
  {
   "cell_type": "code",
   "execution_count": null,
   "metadata": {},
   "outputs": [],
   "source": [
    "# Set number of shots\n",
    "num_shots_measurement = 10000\n",
    "\n",
    "# Create an empty noise model\n",
    "readout_noise_model = NoiseModel()\n",
    "\n",
    "# Measurement miss-assignement probabilities\n",
    "p0given1 = 0.3 # Probability of measuuring |0> given the state is |1>\n",
    "p1given0 = 0.05 # Probability of measuring |1> given the state is |0>\n",
    "readout_error = ReadoutError([[1 - p1given0, p1given0], [p0given1, 1 - p0given1]]) # Define readout error\n",
    "readout_noise_model.add_readout_error(readout_error, [0]) # Add error to noise model\n"
   ]
  },
  {
   "cell_type": "markdown",
   "metadata": {},
   "source": [
    "#### 1) First, prepare the qubit in the $\\vert 0 \\rangle$ state and determine the probability of observing the qubit in the $\\vert 0 \\rangle$ or $\\vert 1 \\rangle$"
   ]
  },
  {
   "cell_type": "code",
   "execution_count": null,
   "metadata": {},
   "outputs": [],
   "source": [
    "# Calculate probability of seeing |0> given that |0> is prepared\n",
    "circuit_0 = qiskit.QuantumCircuit(quantum_register, classical_register)\n",
    "\n",
    "# Add measurement\n",
    "###INSERT CODE BELOW THIS LINE\n",
    "\n",
    "\n",
    "###DO NOT EDIT BELOW THIS LINE\n"
   ]
  },
  {
   "cell_type": "code",
   "execution_count": null,
   "metadata": {},
   "outputs": [],
   "source": [
    "from qc_grader.challenges.qgss_2022 import grade_lab3_ex6\n",
    "\n",
    "grade_lab3_ex6(circuit_0)"
   ]
  },
  {
   "cell_type": "code",
   "execution_count": null,
   "metadata": {},
   "outputs": [],
   "source": [
    "# Run the experiment\n",
    "job = shots_backend.run(circuit_0, shots=num_shots_measurement, noise_model=readout_noise_model)\n",
    "# Retrieve results\n",
    "result = job.result()\n",
    "\n",
    "# Calculate probability of |0>\n",
    "if '0' in result.get_counts().keys():\n",
    "    p0_0 = result.get_counts()['0']/num_shots_measurement\n",
    "else:\n",
    "    p0_0 = 1 - result.get_counts()['1']/num_shots_measurement\n",
    "\n",
    "p1_0 = 1 - p0_0\n",
    "\n",
    "print('Probability of measuring |0> when |0> is prepared:', p0_0)\n",
    "print('Probability of measuring |1> when |0> is prepared:', p1_0)"
   ]
  },
  {
   "cell_type": "markdown",
   "metadata": {},
   "source": [
    "### 2) Then prepare the qubit in the $\\vert 1 \\rangle$ state and determine the probability of observing the qubit in the $\\vert 1 \\rangle$ or $\\vert 0 \\rangle$"
   ]
  },
  {
   "cell_type": "code",
   "execution_count": null,
   "metadata": {},
   "outputs": [],
   "source": [
    "# Calculate probability of seeing |1> given that |1> is prepared\n",
    "circuit_1 = qiskit.QuantumCircuit(quantum_register, classical_register)\n",
    "\n",
    "# Add X gate and measurement\n",
    "###INSERT CODE BELOW THIS LINE\n",
    "\n",
    "\n",
    "###DO NOT EDIT BELOW THIS LINE\n",
    "\n",
    "\n",
    "\n"
   ]
  },
  {
   "cell_type": "code",
   "execution_count": null,
   "metadata": {},
   "outputs": [],
   "source": [
    "from qc_grader.challenges.qgss_2022 import grade_lab3_ex7\n",
    "\n",
    "grade_lab3_ex7(circuit_1)"
   ]
  },
  {
   "cell_type": "code",
   "execution_count": null,
   "metadata": {},
   "outputs": [],
   "source": [
    "# Run the experiment\n",
    "job = shots_backend.run(circuit_1, shots=num_shots_measurement, noise_model=readout_noise_model)\n",
    "# Retrieve results\n",
    "result = job.result()\n",
    "\n",
    "# Calculate probability of |0>\n",
    "if '0' in result.get_counts().keys():\n",
    "    p1_1 = 1 - result.get_counts()['0']/num_shots_measurement\n",
    "else:\n",
    "    p1_1 = result.get_counts()['1']/num_shots_measurement\n",
    "\n",
    "p0_1 = 1 - p1_1\n",
    "\n",
    "\n",
    "print('Probability of measuring |0> when |1> is prepared:', p0_1)\n",
    "print('Probability of measuring |1> when |1> is prepared:', p1_1)\n"
   ]
  },
  {
   "cell_type": "markdown",
   "metadata": {},
   "source": [
    "### 3) Next build the confusion matrix from the measurements\n",
    "The confusion matrix represents the linear transformation which takes the noiseless probabilities and adds the effect of mis-classification returning noisy probabilities\n",
    "\n",
    "\n",
    "$$p_{noisy} = A \\times p_{ideal}$$\n",
    "\n",
    "where\n",
    "\n",
    "$$ A = \\begin{pmatrix} p(0|0) & p(0|1)\\\\\n",
    "p(1|0) & p(1|1)\\end{pmatrix}  $$"
   ]
  },
  {
   "cell_type": "code",
   "execution_count": null,
   "metadata": {},
   "outputs": [],
   "source": [
    "# Define the confusion matrix from the probabilities found above\n",
    "###INSERT CODE BELOW THIS LINE\n",
    "\n",
    "\n",
    "###DO NOT EDIT BELOW THIS LINE\n",
    "\n",
    "\n",
    "print(\"Confusion matrix:\")\n",
    "print(confusion_matrix)\n",
    "\n"
   ]
  },
  {
   "cell_type": "code",
   "execution_count": null,
   "metadata": {},
   "outputs": [],
   "source": [
    "from qc_grader.challenges.qgss_2022 import grade_lab3_ex8\n",
    "\n",
    "# The grader expects a np.array object (not list)\n",
    "grade_lab3_ex8(confusion_matrix)"
   ]
  },
  {
   "cell_type": "markdown",
   "metadata": {},
   "source": [
    "#### 4) Finally, use confusion matrix to mitigate results of noisy experiment\n",
    "Let's run a noisy experiment"
   ]
  },
  {
   "cell_type": "code",
   "execution_count": null,
   "metadata": {},
   "outputs": [],
   "source": [
    "# Run experiments\n",
    "job = shots_backend.run(circuit, shots=num_shots_measurement, noise_model=readout_noise_model)\n",
    "# Extract results\n",
    "result = job.result()\n",
    "\n",
    "# Calculate probability of |0>\n",
    "if '0' in result.get_counts().keys():\n",
    "    p0_noisy = result.get_counts()['0']/num_shots_measurement\n",
    "    p1_noisy = 1 - p0_noisy\n",
    "else:\n",
    "    p0_noisy = 1 - result.get_counts()['1']/num_shots_measurement\n",
    "    p1_noisy = 1 - p0_noisy\n",
    "\n",
    "p_vector_noisy = np.array([p0_noisy, p1_noisy])\n",
    "print(\"Noisy probability of |0>: \", p0_noisy)\n",
    "print(\"Noisy probability of |1>: \", p1_noisy)\n"
   ]
  },
  {
   "cell_type": "markdown",
   "metadata": {},
   "source": [
    "And now we can mitigate the results using the estimated confusion matrix. First find the inverse of the confusion matrixa and then multiply it by the noisy probabilities\n",
    "\n",
    "$$p_{ideal} = A^{-1} \\times p_{noisy}$$\n",
    "\n",
    "The resulting vector must be clipped and normalized to make sure that it represent valid probabilities"
   ]
  },
  {
   "cell_type": "code",
   "execution_count": null,
   "metadata": {},
   "outputs": [],
   "source": [
    "# Invert the confusion matrix\n",
    "inverse_confusion_matrix = np.linalg.inv(confusion_matrix)\n",
    "\n",
    "# Mitigate the counts using the inverse of the confusion matrix\n",
    "###INSERT CODE BELOW THIS LINE\n",
    "\n",
    "\n",
    "###DO NOT EDIT BELOW THIS LINE\n",
    "\n",
    "\n",
    "print(\"Mitigated probability of |0>: \", p_vector_mitigated[0])\n",
    "print(\"Mitigated probability of |1>: \", p_vector_mitigated[1])\n"
   ]
  },
  {
   "cell_type": "code",
   "execution_count": null,
   "metadata": {},
   "outputs": [],
   "source": [
    "from qc_grader.challenges.qgss_2022 import grade_lab3_ex9\n",
    "\n",
    "# The grader expects a np.array object (not list)\n",
    "grade_lab3_ex9(p_vector_mitigated)"
   ]
  },
  {
   "cell_type": "markdown",
   "metadata": {},
   "source": [
    "And compare it to the results of an ideal experiment"
   ]
  },
  {
   "cell_type": "code",
   "execution_count": null,
   "metadata": {},
   "outputs": [],
   "source": [
    "# Run ideal experiments\n",
    "job = shots_backend.run(circuit, shots=num_shots_measurement)\n",
    "# Extract results\n",
    "result = job.result()\n",
    "\n",
    "# Calculate probability of |0>\n",
    "if '0' in result.get_counts().keys():\n",
    "    p0_ideal = result.get_counts()['0']/num_shots_measurement\n",
    "    p1_ideal = 1 - p0_ideal\n",
    "else:\n",
    "    p0_ideal = 1 - result.get_counts()['1']/num_shots_measurement\n",
    "    p1_ideal = 1 - p0_ideal\n",
    "\n",
    "print(\"Ideal probability of |0>: \", p0_ideal)\n",
    "print(\"Ideal probability of |1>: \", p1_ideal)\n"
   ]
  },
  {
   "cell_type": "markdown",
   "metadata": {},
   "source": [
    "## II.3: Coherent Noise\n",
    "Coherent noise may creep in our quantum computers as a result of miscalibrations. For example, a rotation of an angle $\\theta$ actually implement a $\\theta + \\epsilon$ rotation. Below we'll consider the case where the gate that implements a rotation around the $x$ axis RX($\\theta$) gate is affected by an over rotation of $\\epsilon$"
   ]
  },
  {
   "cell_type": "code",
   "execution_count": null,
   "metadata": {},
   "outputs": [],
   "source": [
    "# Set number of shots\n",
    "num_shots_coherent = 100\n",
    "\n",
    "# Create an empty noise model\n",
    "rx_overrotation_noise_model = NoiseModel()\n",
    "\n",
    "# Construct a 1 qubit over-rotation of the RX gate\n",
    "epsilon = np.pi/5 # over rotation amount\n",
    "epsilon_rotation = RXGate(epsilon).to_matrix() # get matrix representation\n",
    "\n",
    "# Create coherent error\n",
    "over_rotation = coherent_unitary_error(epsilon_rotation)\n",
    "\n",
    "# Add error to error model\n",
    "rx_overrotation_noise_model.add_quantum_error(over_rotation, ['rx'], qubits = [0])"
   ]
  },
  {
   "cell_type": "markdown",
   "metadata": {},
   "source": [
    "### 1) Build a circuit with an RX($\\theta$) gate where $\\theta = \\pi$\n",
    "Don't forget to add measurement in the end."
   ]
  },
  {
   "cell_type": "code",
   "execution_count": null,
   "metadata": {},
   "outputs": [],
   "source": [
    "# Set value of rotation\n",
    "theta = np.pi\n",
    "# Instantiate a quantum circuit\n",
    "circuit = qiskit.QuantumCircuit(quantum_register, classical_register)\n",
    "\n",
    "# Add a parametrized RX rotation and bind the value of the parameter. (By default, parameter binding is not an in-place operation)\n",
    "# Then measure the qubit and calculate probability of seeing |0> after rx(np.pi) \n",
    "###INSERT CODE BELOW THIS LINE\n",
    "\n",
    "\n",
    "###DO NOT EDIT BELOW THIS LINE\n",
    "\n"
   ]
  },
  {
   "cell_type": "code",
   "execution_count": null,
   "metadata": {},
   "outputs": [],
   "source": [
    "from qc_grader.challenges.qgss_2022 import grade_lab3_ex10\n",
    "\n",
    "grade_lab3_ex10(circuit)"
   ]
  },
  {
   "cell_type": "markdown",
   "metadata": {},
   "source": [
    "Given the coherent noise present in the $RX(\\theta)$ gate, a $\\pi$ rotation around the $x$ axis won't take the $\\vert 0 \\rangle$ state to the $\\vert 1 \\rangle$ state exactly"
   ]
  },
  {
   "cell_type": "code",
   "execution_count": null,
   "metadata": {},
   "outputs": [],
   "source": [
    "# Run experiments\n",
    "job = shots_backend.run(circuit, shots=num_shots_coherent, noise_model=rx_overrotation_noise_model)\n",
    "# Extract results\n",
    "result = job.result()\n",
    "\n",
    "# Calculate the probability of |0>\n",
    "if '0' in result.get_counts().keys():\n",
    "    p0 = result.get_counts()['0']/num_shots_coherent\n",
    "else:\n",
    "    p0 = 1 - result.get_counts()['1']/num_shots_coherent\n",
    "\n",
    "print(\"Noisy probability of |0> after coherent error in idling: \", p0)\n",
    "print(\"Noisy probability of |1> after coherent error in idling: \", 1-p0)"
   ]
  },
  {
   "cell_type": "markdown",
   "metadata": {},
   "source": [
    "## l.4: Incoherent Noise\n",
    "We can explore the effects of incoherent noise using Qiskit as well\n",
    "\n",
    "\n",
    "### 1) Construct a depolarizing noise model\n",
    "Now that you've seen how to create noise model for the measurement and coherent error, can you build one for a 5% depolarizing error on the idle (`id`) gate for qubit 0?"
   ]
  },
  {
   "cell_type": "code",
   "execution_count": null,
   "metadata": {},
   "outputs": [],
   "source": [
    "# Define number of shots\n",
    "num_shots_inchoherent = 10000\n",
    "\n",
    "# Create an empty noise model\n",
    "depolarizing_noise_model = NoiseModel()\n",
    "\n",
    "# Define a depolarizing error on the identity gate for qubit zero and add it to the noise model\n",
    "###INSERT CODE BELOW THIS LINE\n",
    "\n",
    "\n",
    "###DO NOT EDIT BELOW THIS LINE\n",
    "\n"
   ]
  },
  {
   "cell_type": "code",
   "execution_count": null,
   "metadata": {},
   "outputs": [],
   "source": [
    "from qc_grader.challenges.qgss_2022 import grade_lab3_ex11\n",
    "\n",
    "grade_lab3_ex11(depolarizing_noise_model)"
   ]
  },
  {
   "cell_type": "markdown",
   "metadata": {},
   "source": [
    "Let's use the noise model to see the effect of depolarizing error when the qubit is idling"
   ]
  },
  {
   "cell_type": "code",
   "execution_count": null,
   "metadata": {},
   "outputs": [],
   "source": [
    "# Create a circuit with an idle instruction\n",
    "circuit_idle = qiskit.QuantumCircuit(quantum_register, classical_register)\n",
    "circuit_idle.id(0)\n",
    "circuit_idle.measure(0,0)\n",
    "\n",
    "# Run experiments\n",
    "job = shots_backend.run(circuit_idle, shots=num_shots_inchoherent, noise_model=depolarizing_noise_model)\n",
    "# Extract results\n",
    "result = job.result()\n",
    "\n",
    "# Calculate probability of seeing |0> after idle time\n",
    "if '0' in result.get_counts().keys():\n",
    "    p0 = result.get_counts()['0']/num_shots_inchoherent\n",
    "else:\n",
    "    p0 = 1 - result.get_counts()['1']/num_shots_inchoherent\n",
    "\n",
    "print(\"Noisy probability of |0> after coherent error in idling: \", p0)\n",
    "print(\"Noisy probability of |1> after coherent error in idling: \", 1-p0)\n"
   ]
  }
 ],
 "metadata": {
  "kernelspec": {
   "display_name": "Python 3",
   "language": "python",
   "name": "python3"
  },
  "language_info": {
   "codemirror_mode": {
    "name": "ipython",
    "version": 3
   },
   "file_extension": ".py",
   "mimetype": "text/x-python",
   "name": "python",
   "nbconvert_exporter": "python",
   "pygments_lexer": "ipython3",
   "version": "3.9"
  }
 },
 "nbformat": 4,
 "nbformat_minor": 2
}
