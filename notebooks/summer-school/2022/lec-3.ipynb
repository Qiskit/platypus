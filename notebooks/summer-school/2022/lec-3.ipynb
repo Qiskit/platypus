{
 "cells": [
  {
   "cell_type": "markdown",
   "id": "25834561",
   "metadata": {},
   "source": [
    "# Hamiltonian Time Evolution\n",
    "\n",
    "<div class=\"youtube-wrapper\">\n",
    "    <iframe src=\"https://www.youtube.com/embed/1zrtUmXR7Ew\" title=\"YouTube video player\" frameborder=\"0\" allow=\"accelerometer; autoplay; clipboard-write; encrypted-media; gyroscope; picture-in-picture\" allowfullscreen></iframe>\n",
    "</div>\n",
    "\n",
    "<div class=\"youtube-wrapper\">\n",
    "    <iframe src=\"https://www.youtube.com/embed/o_uRWJgX0uA\" title=\"YouTube video player\" frameborder=\"0\" allow=\"accelerometer; autoplay; clipboard-write; encrypted-media; gyroscope; picture-in-picture\" allowfullscreen></iframe>\n",
    "</div>\n",
    "\n",
    "This lecture by Maria Violaris was originally created for the 2022 Qiskit Global Summer School on Quantum Simulation.\n",
    "\n",
    "### Suggested reading\n",
    "\n",
    "- _Learn Quantum Computation Using Qiskit:_\n",
    "  - [_1.5 The Case for Quantum (complexity)_](https://learn.qiskit.org/course/ch-states/the-case-for-quantum-computers)\n",
    "  - [_3.5 Quantum Fourier Transform_](https://learn.qiskit.org/course/ch-algorithms/quantum-fourier-transform)\n",
    "  - [_3.6 Quantum Phase Estimation_](https://learn.qiskit.org/course/ch-algorithms/quantum-phase-estimation)\n",
    "- [_Quantum Computation and Quantum Information_](https://www.cambridge.org/highereducation/books/quantum-computation-and-quantum-information/01E10196D0A682A6AEFFEA52D53BE9AE#overview) by Nielsen and Chuang:\n",
    "  - _2.2.2 Evolution_\n",
    "  - _4.7 Simulation of quantum systems_\n"
   ]
  }
 ],
 "metadata": {
  "kernelspec": {
   "display_name": "Python 3",
   "language": "python",
   "name": "python3"
  },
  "language_info": {
   "codemirror_mode": {
    "name": "ipython",
    "version": 3
   },
   "file_extension": ".py",
   "mimetype": "text/x-python",
   "name": "python",
   "nbconvert_exporter": "python",
   "pygments_lexer": "ipython3",
   "version": "3.9"
  }
 },
 "nbformat": 4,
 "nbformat_minor": 5
}
