{
 "cells": [
  {
   "cell_type": "markdown",
   "id": "8ecb7df7",
   "metadata": {},
   "source": [
    "# Lab 1\n",
    "\n",
    "In the first Lab we will start slowly by giving an introduction to simple one qubit gates and show how they can be seen as rotations. We will then take a look at multi qubit gates and see some examples on how they can be used to create entangled states. After that we will apply the knowledge of complexity theory, which we learned in class, to quantum circuits. We will also take another look at the Quantum Fourier Transform as well as how to generate entangled states, with complexity theory in mind.\n",
    "\n",
    "This lab is meant as an introduction / a repetition of the basics of quantum computation, as well as for introducing some examples of the concepts shown in the lecture to help you to learn them.\n",
    "\n",
    "- [Download the notebook for this lab](/content/summer-school/2022/resources/lab-notebooks/lab-1.ipynb)"
   ]
  }
 ],
 "metadata": {
  "kernelspec": {
   "display_name": "Python 3",
   "language": "python",
   "name": "python3"
  },
  "language_info": {
   "codemirror_mode": {
    "name": "ipython",
    "version": 3
   },
   "file_extension": ".py",
   "mimetype": "text/x-python",
   "name": "python",
   "nbconvert_exporter": "python",
   "pygments_lexer": "ipython3",
   "version": "3.9"
  }
 },
 "nbformat": 4,
 "nbformat_minor": 5
}
