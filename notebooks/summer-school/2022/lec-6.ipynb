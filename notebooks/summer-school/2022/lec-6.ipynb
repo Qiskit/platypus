{
 "cells": [
  {
   "cell_type": "markdown",
   "id": "570c57e4",
   "metadata": {},
   "source": [
    "# Broad Overview of Quantum Chemistry Simulation and Why it is a Challenge\n",
    "\n",
    "<div class=\"youtube-wrapper\">\n",
    "    <iframe src=\"https://www.youtube.com/embed/QH_QmuHZ894\" title=\"YouTube video player\" frameborder=\"0\" allow=\"accelerometer; autoplay; clipboard-write; encrypted-media; gyroscope; picture-in-picture\" allowfullscreen></iframe>\n",
    "</div>\n",
    "\n",
    "<div class=\"youtube-wrapper\">\n",
    "    <iframe src=\"https://www.youtube.com/embed/0zdC1F_-SFs\" title=\"YouTube video player\" frameborder=\"0\" allow=\"accelerometer; autoplay; clipboard-write; encrypted-media; gyroscope; picture-in-picture\" allowfullscreen></iframe>\n",
    "</div>\n",
    "\n",
    "This lecture by Panos Barkoutsos was originally created for the 2022 Qiskit Global Summer School on Quantum Simulation.\n",
    "\n",
    "### Suggested reading\n",
    "\n",
    "- [_https://www.nature.com/articles/nature23879_](https://www.nature.com/articles/nature23879)\n",
    "- [_https://doi.org/10.1103/PhysRevA.98.022322_](https://doi.org/10.1103/PhysRevA.98.022322)\n",
    "- [_https://learn.qiskit.org/course/ch-applications/simulating-molecules-using-vqe_](https://learn.qiskit.org/course/ch-applications/simulating-molecules-using-vqe)"
   ]
  }
 ],
 "metadata": {
  "kernelspec": {
   "display_name": "Python 3",
   "language": "python",
   "name": "python3"
  },
  "language_info": {
   "codemirror_mode": {
    "name": "ipython",
    "version": 3
   },
   "file_extension": ".py",
   "mimetype": "text/x-python",
   "name": "python",
   "nbconvert_exporter": "python",
   "pygments_lexer": "ipython3",
   "version": "3.9"
  }
 },
 "nbformat": 4,
 "nbformat_minor": 5
}
