{
 "cells": [
  {
   "cell_type": "markdown",
   "id": "8ecb7df7",
   "metadata": {},
   "source": [
    "# Lab 4\n",
    "\n",
    "One of the leading uses for quantum computers will be to simulate quantum systems such as molecules or engineered materials. Actually executing a quantum simulation on a current quantum computer, however, can be difficult and error prone. Your objective for this lab is to complete the simulation exercises and then improve on them to get the highest state tomography score.\n",
    "\n",
    "- [Download the notebook for this lab](/content/summer-school/2022/resources/lab-notebooks/lab-4.ipynb)"
   ]
  }
 ],
 "metadata": {
  "kernelspec": {
   "display_name": "Python 3",
   "language": "python",
   "name": "python3"
  },
  "language_info": {
   "codemirror_mode": {
    "name": "ipython",
    "version": 3
   },
   "file_extension": ".py",
   "mimetype": "text/x-python",
   "name": "python",
   "nbconvert_exporter": "python",
   "pygments_lexer": "ipython3",
   "version": "3.9"
  }
 },
 "nbformat": 4,
 "nbformat_minor": 5
}
