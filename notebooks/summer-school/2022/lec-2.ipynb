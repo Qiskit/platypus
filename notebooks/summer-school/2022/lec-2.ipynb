{
 "cells": [
  {
   "cell_type": "markdown",
   "id": "3ffa0de6",
   "metadata": {},
   "source": [
    "# Introduction to Linear Algebra, Prerequisite Mathematics, and Circuit Composition\n",
    "\n",
    "<div class=\"youtube-wrapper\">\n",
    "    <iframe src=\"https://www.youtube.com/embed/ZNz7DN1K0Y0\" title=\"YouTube video player\" frameborder=\"0\" allow=\"accelerometer; autoplay; clipboard-write; encrypted-media; gyroscope; picture-in-picture\" allowfullscreen></iframe>\n",
    "</div>\n",
    "\n",
    "<div class=\"youtube-wrapper\">\n",
    "    <iframe src=\"https://www.youtube.com/embed/BuKYugTtcXQ\" title=\"YouTube video player\" frameborder=\"0\" allow=\"accelerometer; autoplay; clipboard-write; encrypted-media; gyroscope; picture-in-picture\" allowfullscreen></iframe>\n",
    "</div>\n",
    "\n",
    "This lecture by Maria Violaris was originally created for the 2022 Qiskit Global Summer School on Quantum Simulation.\n",
    "\n",
    "### Suggested reading\n",
    "\n",
    "- _Learn Quantum Computation Using Qiskit:_\n",
    "  - [_8.1 Linear Algebra_](https://learn.qiskit.org/course/ch-appendix/an-introduction-to-linear-algebra-for-quantum-computing)\n",
    "  - [_1. Quantum States and Qubits_](https://learn.qiskit.org/course/ch-states/introduction)\n",
    "  - [_2. Multiple Qubits and Entanglement_](https://learn.qiskit.org/course/ch-gates/introduction)\n",
    "  - [_3.11 Quantum Teleportation_](https://learn.qiskit.org/course/ch-algorithms/quantum-teleportation)\n"
   ]
  }
 ],
 "metadata": {
  "kernelspec": {
   "display_name": "Python 3",
   "language": "python",
   "name": "python3"
  },
  "language_info": {
   "codemirror_mode": {
    "name": "ipython",
    "version": 3
   },
   "file_extension": ".py",
   "mimetype": "text/x-python",
   "name": "python",
   "nbconvert_exporter": "python",
   "pygments_lexer": "ipython3",
   "version": "3.9"
  }
 },
 "nbformat": 4,
 "nbformat_minor": 5
}
