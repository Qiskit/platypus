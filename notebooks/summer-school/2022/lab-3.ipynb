{
 "cells": [
  {
   "cell_type": "markdown",
   "id": "8ecb7df7",
   "metadata": {},
   "source": [
    "# Lab 3\n",
    "\n",
    "Noise is the omnipresent evil that corrupts our quantum computers. In this lab we will delve deeper in the details of the various kinds of noise affecting our computation to build a better understanding of them. We'll also look at some simple techniques we can use to fight the noise and recover the results we were looking for!\n",
    "\n",
    "The different facets of the quantum noise that we'll encounter in this lab are: projection noise, measurement noise, coherent noise and incoherent noise. Projection noise is the noise caused by finite sampling of the wavefunction. Measurement noise is the noise affecting the physical measurement process, which is not perfect. Coherent noise is a type of noise, like over-rotation, which has a deterministic effect on our operations while incoherent noise is a non-deterministic noise which \"scrambles\" the quantum information in the quantum state.\n",
    "\n",
    "- [Download the notebook for this lab](/content/summer-school/2022/resources/lab-notebooks/lab-3.ipynb)"
   ]
  }
 ],
 "metadata": {
  "kernelspec": {
   "display_name": "Python 3",
   "language": "python",
   "name": "python3"
  },
  "language_info": {
   "codemirror_mode": {
    "name": "ipython",
    "version": 3
   },
   "file_extension": ".py",
   "mimetype": "text/x-python",
   "name": "python",
   "nbconvert_exporter": "python",
   "pygments_lexer": "ipython3",
   "version": "3.9"
  }
 },
 "nbformat": 4,
 "nbformat_minor": 5
}
