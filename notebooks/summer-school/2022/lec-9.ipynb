{
 "cells": [
  {
   "cell_type": "markdown",
   "id": "cd66c7ee",
   "metadata": {},
   "source": [
    "# Quantum Dynamics\n",
    "\n",
    "<div class=\"youtube-wrapper\">\n",
    "    <iframe src=\"https://www.youtube.com/embed/dduVoj5u_Kg\" title=\"YouTube video player\" frameborder=\"0\" allow=\"accelerometer; autoplay; clipboard-write; encrypted-media; gyroscope; picture-in-picture\" allowfullscreen></iframe>\n",
    "</div>\n",
    "\n",
    "This lecture by Alexander Miessen was originally created for the 2022 Qiskit Global Summer School on Quantum Simulation.\n",
    "\n",
    "### Suggested reading\n",
    "\n",
    "- [_Emerging quantum computing algorithms for quantum chemistry_](https://arxiv.org/abs/2109.02873)\n",
    "- [_Quantum Chemistry in the Age of Quantum Computing_](https://arxiv.org/abs/1812.09976)\n",
    "- [_Introduction to Quantum Mechanics_](https://www.amazon.com/Introduction-Quantum-Mechanics-David-Griffiths/dp/1107189632) by David Griffiths\n",
    "- [_Modern Quantum Mechanics_](https://www.amazon.com/Modern-Quantum-Mechanics-2nd-Sakurai/dp/0805382917) by J. J. Sakurai\n",
    "- [_Quantum Computation and Quantum Information_](https://www.cambridge.org/highereducation/books/quantum-computation-and-quantum-information/01E10196D0A682A6AEFFEA52D53BE9AE#overview) by Nielsen & Chuang\n",
    "- [_The Theory of Open Quantum Systems_](https://www.amazon.com/Theory-Open-Quantum-Systems/dp/0199213909) by Breuer & Petruccione\n"
   ]
  }
 ],
 "metadata": {
  "kernelspec": {
   "display_name": "Python 3",
   "language": "python",
   "name": "python3"
  },
  "language_info": {
   "codemirror_mode": {
    "name": "ipython",
    "version": 3
   },
   "file_extension": ".py",
   "mimetype": "text/x-python",
   "name": "python",
   "nbconvert_exporter": "python",
   "pygments_lexer": "ipython3",
   "version": "3.9"
  }
 },
 "nbformat": 4,
 "nbformat_minor": 5
}
