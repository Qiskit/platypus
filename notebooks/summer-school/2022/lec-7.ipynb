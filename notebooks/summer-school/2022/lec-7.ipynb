{
 "cells": [
  {
   "cell_type": "markdown",
   "id": "385bce0e",
   "metadata": {},
   "source": [
    "# Methods for Quantum Simulation\n",
    "\n",
    "<div class=\"youtube-wrapper\">\n",
    "    <iframe src=\"https://www.youtube.com/embed/P5cGeDKOIP0\" title=\"YouTube video player\" frameborder=\"0\" allow=\"accelerometer; autoplay; clipboard-write; encrypted-media; gyroscope; picture-in-picture\" allowfullscreen></iframe>\n",
    "</div>\n",
    "\n",
    "This lecture by Yukio Kawashima was originally created for the 2022 Qiskit Global Summer School on Quantum Simulation.\n",
    "\n",
    "### Suggested reading\n",
    "\n",
    "- [_Modern Quantum Chemistry, Dover (Chap. 1-3)_](https://books.google.com/books?hl=en&lr=&id=KQ3DAgAAQBAJ&oi=fnd&pg=PP1&dq=A.+Szabo+and+N.+S.+Ostlund,+%E2%80%9CModern+Quantum+Chemistry%E2%80%9D,+Dover+) by A. Szabo and N. S. Ostlund\n",
    "- [_Molecular Electronic-Structure Theory_](https://www.amazon.com/Molecular-Electronic-Structure-Theory-Trygve-Helgaker/dp/1118531477) by T. Helgaker, P. Jorgensen, and J. Olsen\n"
   ]
  }
 ],
 "metadata": {
  "kernelspec": {
   "display_name": "Python 3",
   "language": "python",
   "name": "python3"
  },
  "language_info": {
   "codemirror_mode": {
    "name": "ipython",
    "version": 3
   },
   "file_extension": ".py",
   "mimetype": "text/x-python",
   "name": "python",
   "nbconvert_exporter": "python",
   "pygments_lexer": "ipython3",
   "version": "3.9"
  }
 },
 "nbformat": 4,
 "nbformat_minor": 5
}
