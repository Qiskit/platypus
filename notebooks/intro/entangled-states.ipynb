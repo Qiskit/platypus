{
 "cells": [
  {
   "cell_type": "markdown",
   "id": "307db04d",
   "metadata": {},
   "source": [
    "# Entangled states"
   ]
  },
  {
   "cell_type": "markdown",
   "id": "a3e3fc47",
   "metadata": {
    "formulas": {
     "_amp": {
      "meaning": "This is a number representing a probability amplitude."
     },
     "_ket-00": {
      "meaning": "This is a the quantum state in which our qubits are in the state 00 with certainty."
     },
     "_ket-01": {
      "meaning": "This is a the quantum state in which our qubits are in the state 01 with certainty."
     },
     "_ket-10": {
      "meaning": "This is a the quantum state in which our qubits are in the state 10 with certainty."
     },
     "_ket-11": {
      "meaning": "This is a the quantum state in which our qubits are in the state 11 with certainty."
     },
     "_ket-phi-plus": {
      "meaning": "This is a label we've chosen to represent the quantum state on the right.",
      "say": "'ket phi plus', where <a href='https://en.wikipedia.org/wiki/Phi'>'phi'</a> rhymes with 'eye'."
     },
     "_ket-plus-0": {
      "meaning": "This is a label representing the quantum state on the right. It's the state where the leftmost qubit is in the state |+〉 and the rightmost qubit is in the state |0〉.",
      "say": "'ket plus naught'."
     },
     "_ket-psi": {
      "meaning": "This is a symbol we're using as a placeholder.",
      "say": "Ket-psi (where 'psi' sounds like 'sigh')."
     },
     "_state-vector": {
      "meaning": "This is a shorter way of writing quantum states. We order the amplitudes by the state they correspond to, so we don't need to write the states down."
     },
     "ket-plus": {
      "meaning": "This is the single-qubit quantum state where the amplitudes of states 0 and 1 are both 1/√2.",
      "say": "'ket plus'."
     }
    }
   },
   "source": [
    "## Product and entangled states\n",
    "\n",
    "In previous sections we've already seen how to express multi-qubit states as vectors. For example, here is the state vector for two qubits,\n",
    "\n",
    "$$ \\cssId{_ket-psi}{|\\psi\\rangle} = \\class{_amp}{c_{00}}\\cssId{_ket-00}{|00\\rangle} + \\class{_amp}{c_{01}}\\cssId{_ket-01}{|01\\rangle} + \\class{_amp}{c_{10}}\\cssId{_ket-10}{|10\\rangle} + \\class{_amp}{c_{11}}\\cssId{_ket-11}{|11\\rangle} = \\class{_state-vector}{\\begin{bmatrix} c_{00} \\\\ c_{01} \\\\ c_{10} \\\\ c_{11} \\end{bmatrix}}. $$\n",
    "\n",
    "What we haven't looked at so far is the structure of these superpositions, and how that affects their behavior and what they can be used for. For example, consider the following two states.\n",
    "\n",
    "$$ \n",
    "\\cssId{_ket-plus-0}{|{+}{0} \\rangle} = \\frac{1}{\\sqrt{2}} \\begin{bmatrix} 1 \\\\ 0 \\\\ 1 \\\\ 0 \\end{bmatrix} = \\frac{1}{\\sqrt{2}}(|00\\rangle+|10\\rangle), \\quad \\cssId{_ket-phi-plus}{|\\Phi^+ \\rangle} = \\frac{1}{\\sqrt{2}} \\begin{bmatrix} 1 \\\\ 0 \\\\ 0 \\\\ 1 \\end{bmatrix} = \\frac{1}{\\sqrt{2}}(|00\\rangle+|11\\rangle).\n",
    "$$\n",
    "\n",
    "At a glance they may seem pretty similar. Both are an equally weighted superposition of two different bit strings. However, let's take a closer look.\n",
    "\n",
    "In particular, let us look at the the $|{+}{0} \\rangle$ state. This is made up of the two terms:\n",
    "\n",
    "* $|00\\rangle$: Both qubits are in the state $|0\\rangle$;\n",
    "* $|10\\rangle$: The qubit states are $|1\\rangle$ (on the left) and $|0\\rangle$ (on the right).\n",
    "\n",
    "Both these terms tell the same story for the qubit on the right: It is in the $|0\\rangle$ state. With this in mind, we see that all the superposition in this state belongs to the other qubit. Specifically, the qubit on the left can be described by the single qubit $\\class{ket-plus}{|+\\rangle}$ state.\n",
    "\n",
    "So the $|{+}0\\rangle$ state is a two qubit state vector that actually describes a pair of single qubit states: $\\class{ket-plus}{|+\\rangle}$ and $|0\\rangle$.\n",
    "\n",
    "![image showing how two single qubit states become one two qubit state](images/multi-qubit/tensor.svg)\n"
   ]
  },
  {
   "cell_type": "markdown",
   "id": "7d5d9751",
   "metadata": {
    "formulas": {
     "ket-minus": {
      "meaning": "This is the single-qubit quantum state where the amplitude of state 0 is 1/√2, and the amplitude of state 1 is -1/√2.",
      "say": "'ket minus'."
     }
    }
   },
   "source": [
    "<!-- ::: q-block.reminder -->\n",
    "\n",
    "### Reminder\n",
    "\n",
    "<details>\n",
    "    <summary>Qubit ordering</summary>\n",
    "    In Qiskit code, qubits and bits are indexed from 0 and numbered from right to left.\n",
    "    So for a four qubit state like $|1000\\rangle$, the four qubits are numbered 0, 1, 2 and 3. It is qubit 3 that is in state $|1\\rangle$, while the rest are in state $|0\\rangle$. This is by design, so that the qubit's index is also the power of 2 it represents.   \n",
    "</details>\n",
    "\n",
    "<!-- ::: -->\n",
    "\n",
    "<!-- ::: q-block.exercise -->\n",
    "\n",
    "### Quick quiz\n",
    "\n",
    "<!-- ::: q-quiz(goal=\"intro-multi-1\") -->\n",
    "\n",
    "<!-- ::: .question -->\n",
    "\n",
    "Suppose you had two qubits, with qubit 0 in state $\\class{ket-plus}{|+\\rangle}$, qubit 1 in state $\\class{ket-minus}{|-\\rangle}$. What two qubit state would represent this?\n",
    "\n",
    "<!-- ::: -->\n",
    "\n",
    "<!-- ::: .option -->\n",
    "\n",
    "1. $|{+}{-}\\rangle$\n",
    "\n",
    "<!-- ::: -->\n",
    "\n",
    "<!-- ::: .option(correct) -->\n",
    "\n",
    "2. $|{-}{+}\\rangle$\n",
    "\n",
    "<!-- ::: -->\n",
    "\n",
    "<!-- ::: .option -->\n",
    "\n",
    "3. $|0\\rangle$\n",
    "\n",
    "<!-- ::: -->\n",
    "\n",
    "<!-- ::: -->\n",
    "\n",
    "<!-- ::: -->"
   ]
  },
  {
   "cell_type": "markdown",
   "id": "93dc7881",
   "metadata": {
    "formulas": {
     "_amp-0": {
      "meaning": "This is the amplitude of the state 0."
     },
     "_amp-1": {
      "meaning": "This is the amplitude of the state 1."
     },
     "_ket-vague": {
      "meaning": "This is a label we're using to represent a hypothetical single-qubit state. We're not being specific about the state because we want to show our reasoning works generally (not just in one specific case)."
     },
     "_p00": {
      "meaning": "Probability of measuring 00 (this is the amplitude of the state |00, squared)."
     },
     "_p10": {
      "meaning": "Probability of measuring 10 (this is the amplitude of the state |10, squared)."
     },
     "_pa0": {
      "meaning": "The probability of measuring the state |a〉 as |0〉."
     },
     "_tpb": {
      "meaning": "This is the probability of qubit b being 0, plus the probability of qubit b being 1. Since the only possible outcomes are 0 or 1, these two probabilities will always add to 1."
     }
    }
   },
   "source": [
    "### Product states\n",
    "\n",
    "The $|{+}0 \\rangle$ is an example of a kind of multi-qubit state known as a 'product state'. These represent cases that could alternatively be written as a sequence of single qubit states. \n",
    "\n",
    "For a general form of two-qubit product states, we need to start with two general single qubit states,\n",
    "\n",
    "$$\\class{_ket-vague}{|a\\rangle} = \\begin{bmatrix} \\class{_amp-0}{a_0} \\\\ \\class{_amp-1}{a_1} \\end{bmatrix}, \\quad \n",
    "  \\class{_ket-vague}{|b\\rangle} = \\begin{bmatrix} \\class{_amp-0}{b_0} \\\\ \\class{_amp-1}{b_1} \\end{bmatrix}.$$\n",
    "\n",
    "We'll use $|b a\\rangle$ to refer to product combined state of these, where $|a\\rangle$ represents the qubit on the right and $|b\\rangle$ is the one on the left. We can write this as:\n",
    "\n",
    "$$ \n",
    "|b \\, a\\rangle = \\begin{bmatrix} b_0 a_0 \\\\ b_0 a_1 \\\\ b_1 a_0 \\\\ b_1 a_1 \\end{bmatrix}.\n",
    "$$\n",
    "\n",
    "Again, these rules follow from standard probability rules: If we want to find the probability of two unrelated events occurring, we multiply their probabilities together. To extend this rule to quantum mechanics, we just switch out probabilities with amplitudes. So the amplitude of the state $|00\\rangle$ is the amplitude of qubit $a$ being $|0\\rangle$, multiplied by the amplitude of qubit $b$ being $|0\\rangle$.\n",
    "\n",
    "Let's check this works: Suppose both qubits are measured, what is the probability that the qubit on the right comes out `0`? This will be the sum of the probabilities for the two outcomes which have a `0` on the right, namely `00` and `10`,\n",
    "\n",
    "$$ \\cssId{_pa0}{p_{|a\\rangle}(|0\\rangle)} = p(|00\\rangle) + p(|10\\rangle). $$\n",
    "\n",
    "Now we can substitute in the calculations for these states given above and do simple algebra\n",
    "\n",
    "$$\n",
    "\\begin{aligned}\n",
    "p_{|a\\rangle}(|0\\rangle) &= \\cssId{_p00}{(b_0 a_0)^2} + \\cssId{_p10}{(b_1 a_0)^2} \\\\\n",
    "                         &= \\phantom{(}b_0^2 a_0^2\\phantom{)^2} + \\phantom{(}b_1^2 a_0^2 \\\\ \n",
    "                         &= \\cssId{_tpb}{(b_0^2 + b_1^2)} \\; a_0^2 \\\\\n",
    "                         &= a_0^2\n",
    "\\end{aligned}\n",
    "$$\n",
    "\n",
    "This gives us exactly what we would get with just the single qubit calculation. Using this method, you'd also find $p_{|b\\rangle}(|0\\rangle) = b_0^2$.\n",
    "\n",
    "### Entangled states\n",
    "\n",
    "Now let's look again at the state $|\\Phi^+ \\rangle$,\n",
    "\n",
    "$$ \n",
    "|\\Phi^+ \\rangle = \\frac{1}{\\sqrt{2}} \\begin{bmatrix} 1 \\\\ 0 \\\\ 0 \\\\ 1 \\end{bmatrix} = \\frac{1}{\\sqrt{2}}(|00\\rangle+|11\\rangle).\n",
    "$$\n",
    "\n",
    "There are no pairs of single qubit states $|a \\rangle$ and $|b\\rangle$ whose product state would look like this. Try it for yourself by trying to find $b_0$, $b_1$, $c_0$ and $c_1$ values that would correspond to $|\\Phi^{+} \\rangle$. You'll find that it is not possible!\n",
    "\n",
    "This represents a different kind of two-qubit state, distinct from the product states, which cannot be described as combination of simple single qubit states. These are known as *entangled* states.\n",
    "\n",
    "<!-- ::: q-block.exercise -->\n",
    "\n",
    "### Quick quiz\n",
    "\n",
    "<!-- ::: q-quiz(goal=\"intro-multi-2\") -->\n",
    "\n",
    "<!-- ::: .question -->\n",
    "\n",
    "Which of these product states does the following state correspond to?\n",
    "\n",
    "$$ \\frac{1}{2} \\begin{bmatrix} 1 \\\\ -1 \\\\ -1 \\\\ 1 \\end{bmatrix}$$\n",
    "\n",
    "<!-- ::: -->\n",
    "\n",
    "<!-- ::: .option -->\n",
    "\n",
    "1. $|{+}{-}\\rangle$\n",
    "\n",
    "<!-- ::: -->\n",
    "\n",
    "<!-- ::: .option(correct) -->\n",
    "\n",
    "2. $|{-}{-}\\rangle$\n",
    "\n",
    "<!-- ::: -->\n",
    "\n",
    "<!-- ::: .option -->\n",
    "\n",
    "3. $|{-}{+}\\rangle$\n",
    "\n",
    "<!-- ::: -->\n",
    "\n",
    "<!-- ::: -->\n",
    "\n",
    "<!-- ::: -->\n",
    "\n",
    "<!-- ::: q-block.exercise -->\n",
    "\n",
    "### Quick quiz\n",
    "\n",
    "<!-- ::: q-quiz(goal=\"intro-multi-3\") -->\n",
    "\n",
    "<!-- ::: .question -->\n",
    "\n",
    "Which of the following states is entangled?\n",
    "\n",
    "<!-- ::: -->\n",
    "\n",
    "<!-- ::: .option -->\n",
    "\n",
    "1. $ \\frac{1}{2} \\begin{bmatrix} 1 \\\\\\\\ -1 \\\\\\\\ -1 \\\\\\\\ 1 \\end{bmatrix}$\n",
    "\n",
    "<!-- ::: -->\n",
    "\n",
    "<!-- ::: .option -->\n",
    "\n",
    "2. $ \\frac{1}{\\sqrt{2}} \\begin{bmatrix} 1 \\\\\\\\ 1 \\\\\\\\ 0 \\\\\\\\ 0 \\end{bmatrix}$\n",
    "\n",
    "<!-- ::: -->\n",
    "\n",
    "<!-- ::: .option(correct) -->\n",
    "\n",
    "3. $ \\frac{1}{\\sqrt{2}} \\begin{bmatrix} 0 \\\\\\\\ 1 \\\\\\\\ 1 \\\\\\\\ 0 \\end{bmatrix}$\n",
    "\n",
    "<!-- ::: -->\n",
    "\n",
    "<!-- ::: -->\n",
    "\n",
    "<!-- ::: -->"
   ]
  },
  {
   "cell_type": "markdown",
   "id": "99768107",
   "metadata": {
    "gloss": {
     "cx": {
      "text": "This is the CNOT we saw in <a href='https://learn.qiskit.org/course/introduction/why-quantum-computing'>The atoms of computation</a>. It's a gate that performs an X-gate on the target qubit only if the control qubit is 1.",
      "title": "CX-Gate"
     },
     "cz": {
      "text": "This is a new gate. It's similar to the CNOT, this gate performs a Z-gate on the target qubit only if the control qubit is 1.",
      "title": "CZ-Gate"
     }
    }
   },
   "source": [
    "## Entangling gates\n",
    "\n",
    "Quantum computations typically start in a product state. Specifically, they start in the simplest product state of all, where all qubits are in the state $|0\\rangle$.\n",
    "\n",
    "If we then apply only single qubit states, we will manipulate these individual single qubit states. Some might be rotated to $|+\\rangle$ by a Hadamard, or a more complex superposition by a more general rotation. But nevertheless, they will remain in a product state.\n",
    "\n",
    "To create entanglement, we need to apply multi-qubit gates. The most prominent of these are controlled gates, with the [`cx`](gloss:cx) and [`cz`](gloss:cz) gates being the simplest examples.\n",
    "\n",
    "### The <code>cx</code> gate\n",
    "\n",
    "To see the `cx` in action, let's begin with the two qubit $|00\\rangle$ state."
   ]
  },
  {
   "cell_type": "code",
   "execution_count": 1,
   "id": "47e0d718",
   "metadata": {},
   "outputs": [
    {
     "data": {
      "text/latex": [
       "$$ |00\\rangle$$"
      ],
      "text/plain": [
       "<IPython.core.display.Latex object>"
      ]
     },
     "execution_count": 1,
     "metadata": {},
     "output_type": "execute_result"
    }
   ],
   "source": [
    "from qiskit import QuantumCircuit\n",
    "from qiskit.quantum_info import Statevector\n",
    "\n",
    "qc = QuantumCircuit(2)\n",
    "\n",
    "# This calculates what the state vector of our qubits would be\n",
    "# after passing through the circuit 'qc'\n",
    "ket = Statevector(qc)\n",
    "\n",
    "# The code below writes down the state vector.\n",
    "# Since it's the last line in the cell, the cell will display it as output\n",
    "ket.draw()"
   ]
  },
  {
   "cell_type": "markdown",
   "id": "91f03b95",
   "metadata": {},
   "source": [
    "(In the cell output above, the state vectors are drawn horizontally instead of vertically as we usually draw them, but they mean the same thing here).\n",
    "\n",
    "The `cx` acts on two qubits, which are known as the 'control' and the 'target'. Let's first try using qubit 0 as control and qubit 1 as target and see what happens."
   ]
  },
  {
   "cell_type": "code",
   "execution_count": 2,
   "id": "b5939215",
   "metadata": {},
   "outputs": [
    {
     "data": {
      "text/latex": [
       "$$ |00\\rangle$$"
      ],
      "text/plain": [
       "<IPython.core.display.Latex object>"
      ]
     },
     "execution_count": 2,
     "metadata": {},
     "output_type": "execute_result"
    }
   ],
   "source": [
    "qc.cx(0,1)\n",
    "\n",
    "ket = Statevector(qc)\n",
    "ket.draw()"
   ]
  },
  {
   "cell_type": "markdown",
   "id": "8e07947b",
   "metadata": {},
   "source": [
    "This `cx` had no effect. The state remains $|00\\rangle$.\n",
    "\n",
    "Now let's try it with the control and target reversed."
   ]
  },
  {
   "cell_type": "code",
   "execution_count": 3,
   "id": "cb6fb963",
   "metadata": {},
   "outputs": [
    {
     "data": {
      "text/latex": [
       "$$ |00\\rangle$$"
      ],
      "text/plain": [
       "<IPython.core.display.Latex object>"
      ]
     },
     "execution_count": 3,
     "metadata": {},
     "output_type": "execute_result"
    }
   ],
   "source": [
    "qc.cx(1,0)\n",
    "\n",
    "ket = Statevector(qc)\n",
    "ket.draw()"
   ]
  },
  {
   "cell_type": "markdown",
   "id": "ed5a11e0",
   "metadata": {},
   "source": [
    "Again, no effect!\n",
    "\n",
    "This underwhelming performance from the `cx` is actually to be expected. We can interpret its action as being conditional on the state of the control qubit: if the control is in state $|0\\rangle$, the `cx` does nothing. If the control is in state $|1\\rangle$, the `cx` performs an `x` on the target qubit.\n",
    "\n",
    "![depiction of the effect of a cx gate](images/multi-qubit/cnot.svg)\n",
    "\n",
    "So if we want to see the `cx` do something, we need to flip the control qubit to the $|1\\rangle$ state."
   ]
  },
  {
   "cell_type": "code",
   "execution_count": 4,
   "id": "d6acd5d4",
   "metadata": {},
   "outputs": [
    {
     "data": {
      "text/latex": [
       "$$ |10\\rangle$$"
      ],
      "text/plain": [
       "<IPython.core.display.Latex object>"
      ]
     },
     "execution_count": 4,
     "metadata": {},
     "output_type": "execute_result"
    }
   ],
   "source": [
    "qc.x(1,0)\n",
    "\n",
    "ket = Statevector(qc)\n",
    "ket.draw()"
   ]
  },
  {
   "cell_type": "markdown",
   "id": "39f7f814",
   "metadata": {},
   "source": [
    "Now when we perform a `cx`, it will flip the target qubit as well."
   ]
  },
  {
   "cell_type": "code",
   "execution_count": 5,
   "id": "cd36b606",
   "metadata": {},
   "outputs": [
    {
     "data": {
      "text/latex": [
       "$$ |11\\rangle$$"
      ],
      "text/plain": [
       "<IPython.core.display.Latex object>"
      ]
     },
     "execution_count": 5,
     "metadata": {},
     "output_type": "execute_result"
    }
   ],
   "source": [
    "qc.cx(1,0)\n",
    "\n",
    "ket = Statevector(qc)\n",
    "ket.draw()"
   ]
  },
  {
   "cell_type": "markdown",
   "id": "7daee78a",
   "metadata": {},
   "source": [
    "So far, we have not yet seen any entanglement. That comes when the control qubit is not just a simple $|0\\rangle$ or $|1\\rangle$, but a superposition of the two. For example, suppose we have the $|{+}{0}\\rangle$ state from before."
   ]
  },
  {
   "cell_type": "code",
   "execution_count": 6,
   "id": "4ebba41b",
   "metadata": {},
   "outputs": [
    {
     "data": {
      "text/latex": [
       "$$\\frac{\\sqrt{2}}{2} |00\\rangle+\\frac{\\sqrt{2}}{2} |10\\rangle$$"
      ],
      "text/plain": [
       "<IPython.core.display.Latex object>"
      ]
     },
     "execution_count": 6,
     "metadata": {},
     "output_type": "execute_result"
    }
   ],
   "source": [
    "# Let's create a fresh quantum circuit\n",
    "qc = QuantumCircuit(2)\n",
    "\n",
    "qc.h(1)\n",
    "\n",
    "ket = Statevector(qc)\n",
    "ket.draw()"
   ]
  },
  {
   "cell_type": "markdown",
   "id": "b83b951e",
   "metadata": {},
   "source": [
    "Now if we apply the `cx`, it will act in parallel on the two states. It will leave the $|00\\rangle$ state unchanged, since the control qubit there is in state $|0\\rangle$. But $|10\\rangle$ has the control in state $|1\\rangle$, so the target is flipped to make the $|11\\rangle$ state."
   ]
  },
  {
   "cell_type": "code",
   "execution_count": 7,
   "id": "ff21ff83",
   "metadata": {},
   "outputs": [
    {
     "data": {
      "text/latex": [
       "$$\\frac{\\sqrt{2}}{2} |00\\rangle+\\frac{\\sqrt{2}}{2} |11\\rangle$$"
      ],
      "text/plain": [
       "<IPython.core.display.Latex object>"
      ]
     },
     "execution_count": 7,
     "metadata": {},
     "output_type": "execute_result"
    }
   ],
   "source": [
    "qc.cx(1,0)\n",
    "\n",
    "ket = Statevector(qc)\n",
    "ket.draw()"
   ]
  },
  {
   "cell_type": "markdown",
   "id": "a080bc9f",
   "metadata": {},
   "source": [
    "The result is our favorite entangled state: $|\\Phi^+ \\rangle$. The `cx` gate has created entanglement!"
   ]
  },
  {
   "cell_type": "markdown",
   "id": "73bf7379",
   "metadata": {},
   "source": [
    "### The <code>cz</code> gate\n",
    "\n",
    "The `cz` is a gate whose effect is rather similar to the `cx`. It also acts on two qubits: the target and control. It also does nothing when the control qubit is in state $|0\\rangle$. But for the control state $|1\\rangle$, it performs a `z` to the target.\n",
    "\n",
    "Or at least, that is the standard interpretation of this gate. But if we think about it a little more, we can see that another interpretation is also possible.\n",
    "\n",
    "The `z` gate applied to a single qubit has the effect of doing nothing to $|0\\rangle$, and giving a phase of $-1$ to the state $|1\\rangle$. So for the `cz` gate, it only has any effect at all when both qubits are in state $|1\\rangle$. It doesn't matter which we decided to label and 'control' and 'target', the effect is the same. We could equally have defined it as the gate with does nothing when the *target* state is $|0\\rangle$, and otherwise performs a `z` on the *control*.\n",
    "\n",
    "The fact that the same gate can be interpreted in two seemingly contradictory ways is just one expression of the interesting effects that we will see with entangled states."
   ]
  },
  {
   "cell_type": "markdown",
   "id": "bd33d4bf",
   "metadata": {},
   "source": [
    "### The <code>cx</code> gate revisited\n",
    "\n",
    "The `cx` gate is also known as the controlled-X or controlled-NOT, due to its effect of flipping the target bit based on the state of the control. However, just as we saw with the `cx` gate, other interpretations are also possible.\n",
    "\n",
    "For example, let's start with the case where both qubits are in the $|+ \\rangle$ state."
   ]
  },
  {
   "cell_type": "code",
   "execution_count": 8,
   "id": "c00e5baa",
   "metadata": {},
   "outputs": [
    {
     "data": {
      "text/latex": [
       "$$\\frac{1}{2} |00\\rangle+\\frac{1}{2} |01\\rangle+\\frac{1}{2} |10\\rangle+\\frac{1}{2} |11\\rangle$$"
      ],
      "text/plain": [
       "<IPython.core.display.Latex object>"
      ]
     },
     "execution_count": 8,
     "metadata": {},
     "output_type": "execute_result"
    }
   ],
   "source": [
    "qc = QuantumCircuit(2)\n",
    "\n",
    "qc.h(0)\n",
    "qc.h(1)\n",
    "\n",
    "ket = Statevector(qc)\n",
    "ket.draw()"
   ]
  },
  {
   "cell_type": "markdown",
   "id": "246fbb0e",
   "metadata": {},
   "source": [
    "Here we will also find that the `cx` has no effect, no matter which way around we do it."
   ]
  },
  {
   "cell_type": "code",
   "execution_count": 9,
   "id": "ddafa061",
   "metadata": {},
   "outputs": [
    {
     "data": {
      "text/latex": [
       "$$\\frac{1}{2} |00\\rangle+\\frac{1}{2} |01\\rangle+\\frac{1}{2} |10\\rangle+\\frac{1}{2} |11\\rangle$$"
      ],
      "text/plain": [
       "<IPython.core.display.Latex object>"
      ]
     },
     "execution_count": 9,
     "metadata": {},
     "output_type": "execute_result"
    }
   ],
   "source": [
    "qc.cx(1,0)\n",
    "\n",
    "ket = Statevector(qc)\n",
    "ket.draw()"
   ]
  },
  {
   "cell_type": "markdown",
   "id": "a3432e39",
   "metadata": {},
   "source": [
    "However, let's now flip the *target* qubit from $|+\\rangle$ to $|-\\rangle$ using the single qubit `z` gate."
   ]
  },
  {
   "cell_type": "code",
   "execution_count": 10,
   "id": "71af42c3",
   "metadata": {},
   "outputs": [
    {
     "data": {
      "text/latex": [
       "$$\\frac{1}{2} |00\\rangle- \\frac{1}{2} |01\\rangle+\\frac{1}{2} |10\\rangle- \\frac{1}{2} |11\\rangle$$"
      ],
      "text/plain": [
       "<IPython.core.display.Latex object>"
      ]
     },
     "execution_count": 10,
     "metadata": {},
     "output_type": "execute_result"
    }
   ],
   "source": [
    "qc.z(0)\n",
    "\n",
    "ket = Statevector(qc)\n",
    "ket.draw()"
   ]
  },
  {
   "cell_type": "markdown",
   "id": "f30c1776",
   "metadata": {},
   "source": [
    "If we do the `cx` now, we will see an effect. It flips the *control* qubit to $|-\\rangle$ as well."
   ]
  },
  {
   "cell_type": "code",
   "execution_count": 11,
   "id": "ff79a3df",
   "metadata": {},
   "outputs": [
    {
     "data": {
      "text/latex": [
       "$$\\frac{1}{2} |00\\rangle- \\frac{1}{2} |01\\rangle- \\frac{1}{2} |10\\rangle+\\frac{1}{2} |11\\rangle$$"
      ],
      "text/plain": [
       "<IPython.core.display.Latex object>"
      ]
     },
     "execution_count": 11,
     "metadata": {},
     "output_type": "execute_result"
    }
   ],
   "source": [
    "qc.cx(1,0)\n",
    "\n",
    "ket = Statevector(qc)\n",
    "ket.draw()"
   ]
  },
  {
   "cell_type": "markdown",
   "id": "de19a277",
   "metadata": {},
   "source": [
    "This effect is sometimes known as 'phase kickback': When there is a superposition on both the control and target qubits, some features of the target superposition can feed back into the control.\n",
    "\n",
    "This effect can also motivate us to make an alternative interpretation of the `cx`. We can think of it as applying a `z` to the control if the target is in state $|-\\rangle$, and do nothing if it is in state $|+\\rangle$."
   ]
  },
  {
   "cell_type": "markdown",
   "id": "86ed0577",
   "metadata": {},
   "source": [
    "## The power of entanglement\n",
    "\n",
    "Entanglement is a key ingredient of many aspects of quantum computing. It powers the algorithms and methods that we use, and it is a neccessary part of any quantum advantage. To get some idea of why this is, we'll take a few specific examples of entanglement in action.\n",
    "\n",
    "## Entangled states and simulation\n",
    "\n",
    "To fully describe the state of $n$ qubits, we may need to keep track of up to $2^n$ amplitudes. Since these vectors grow exponentially with the number of qubits, quantum computers with large numbers of qubits become very difficult to simulate. A modern laptop can easily handle $2^{20}$ amplitudes (the maximum needed for 20 qubits), but processing $2^{100}$ amplitudes (the maximum needed for 100 qubits) is too difficult for even the largest supercomputers.\n",
    "\n",
    "But sometimes there’s a smarter way. For example, suppose we begin in a product state. This means that each qubit can be independently described by a single qubit state with two amplitudes.\n",
    "\n",
    "Now suppose we perform a circuit with only single qubit gates. These manipulations can be easily described by modifying the single qubit states, which means making changes to the specific pairs of amplitudes affected. Then, when each qubit is measured, the probability of the outcome `0` or `1` for each qubit are determined by their respective amplitudes.\n",
    "\n",
    "During this process, the states remained product states. As such there was never truly an $n$-qubit computation, but rather $n$ separate single qubit computations. This makes it possible to keep track of everything with a very managable $2 n$ amplitudes, rather than the full $2^n$. For such situations, simulating thousands of qubits would be easy even for your phone.\n",
    "\n",
    "Useful quantum algorithms need to be able to do things that classical computers cannot simulate, so they must work in a way that prevents tricks like this from being found. They must involve more complex manipulations of the qubits, creating states for which there are no easy shortcuts. This means that they must use states for which the full $2^n$ amplitude description is needed, and so will need to involve more than just product states. And since anything that is not a product state is an entangled state, we find that entanglement is a neccessary ingredient of any quantum advantage."
   ]
  },
  {
   "cell_type": "markdown",
   "id": "c30821dc",
   "metadata": {},
   "source": [
    "## Qubits working together: Superdense coding\n",
    "\n",
    "We'll now look at an example of entanglement in action using a protcol for quantum *communication*. Like quantum computation, this is based on manipulating qubits with quantum gates. But it also incorporates the idea of qubits being transmitted between different parties, and explores applications based on sending information rather than processing it.\n",
    "\n",
    "For classical communication there is a fundamental limit on how much information we can send with a given number of bits. By definition, we can send no more than $n$ bits of information when we send $n$ bits. For quantum information, much the same rule applies: no more than $n$ bits of information can be reliably encoded and retrieved from $n$ qubits. However, there are ways that we can push the boundaries to do things that are not possibly classically, and for that we require entanglement. Here we will look at once such example, in which transferring one qubit can allow a two bit message to be sent.\n",
    "\n",
    "Suppose we have two people, Alice and Bob. Alice wishes to send a two bit message to Bob - `00`, `01`, `10` or `11` - and wants to do it by sending qubits.\n",
    "\n",
    "The simplest way to do this is with two qubits. Alice can simply use the qubits to encode the bit values, applying an `x` to flip them for a `1` state.\n",
    "\n"
   ]
  },
  {
   "cell_type": "code",
   "execution_count": 12,
   "id": "5131b1ac",
   "metadata": {},
   "outputs": [],
   "source": [
    "# The message\n",
    "MESSAGE = '00'\n",
    "\n",
    "# Alice encodes the message\n",
    "qc_alice = QuantumCircuit(2, 2)\n",
    "if MESSAGE[-1]=='1':\n",
    "    qc_alice.x(0)\n",
    "if MESSAGE[-2]=='1':\n",
    "    qc_alice.x(1)"
   ]
  },
  {
   "cell_type": "markdown",
   "id": "e73c67a7",
   "metadata": {},
   "source": [
    "After Alice sends the qubits to Bob, all he needs to do is measure them."
   ]
  },
  {
   "cell_type": "code",
   "execution_count": 13,
   "id": "23cdaedf",
   "metadata": {},
   "outputs": [
    {
     "data": {
      "text/plain": [
       "{'00': 1024}"
      ]
     },
     "execution_count": 13,
     "metadata": {},
     "output_type": "execute_result"
    }
   ],
   "source": [
    "from qiskit import Aer\n",
    "backend = Aer.get_backend('aer_simulator')\n",
    "\n",
    "# Bob measures\n",
    "qc_bob = QuantumCircuit(2,2)\n",
    "qc_bob.measure([0,1],[0,1])\n",
    "\n",
    "backend.run(qc_alice.compose(qc_bob)).result().get_counts()"
   ]
  },
  {
   "cell_type": "markdown",
   "id": "f96206c6",
   "metadata": {},
   "source": [
    "The result Bob gets out will be exactly what Alice put in.\n",
    "\n",
    "This protocol did not involve any entanglement. One way to insert it would be for Alice to add `h` and `cx` gates after encoding the information. Let's look at the states that are created by these gates."
   ]
  },
  {
   "cell_type": "code",
   "execution_count": 14,
   "id": "e9576a06",
   "metadata": {},
   "outputs": [
    {
     "data": {
      "text/latex": [
       "$$\\frac{\\sqrt{2}}{2} |00\\rangle+\\frac{\\sqrt{2}}{2} |11\\rangle$$"
      ],
      "text/plain": [
       "<IPython.core.display.Latex object>"
      ]
     },
     "execution_count": 14,
     "metadata": {},
     "output_type": "execute_result"
    }
   ],
   "source": [
    "MESSAGE = '00'\n",
    "\n",
    "qc_alice = QuantumCircuit(2,2)\n",
    "\n",
    "# Alice encodes the message\n",
    "if MESSAGE[-1]=='1':\n",
    "    qc_alice.x(0)\n",
    "if MESSAGE[-2]=='1':\n",
    "    qc_alice.x(1)\n",
    "\n",
    "# then she creates entangled states\n",
    "qc_alice.h(1)\n",
    "qc_alice.cx(1,0)\n",
    "\n",
    "ket = Statevector(qc_alice)\n",
    "ket.draw()"
   ]
  },
  {
   "cell_type": "markdown",
   "id": "dffbee55",
   "metadata": {},
   "source": [
    "For a message `00`, the state created by these gates is $|\\Phi^+ \\rangle$. For the other messages we get other entangled states, know as $|\\Phi^- \\rangle$, $|\\Psi^+ \\rangle$ and $|\\Psi^- \\rangle$.\n",
    "\n",
    "$$ \\mathtt{00} \\rightarrow |\\Phi^+ \\rangle = \\frac{1}{\\sqrt{2}}(|00\\rangle+|11\\rangle) \\\\ \\mathtt{01} \\rightarrow |\\Psi^+ \\rangle = \\frac{1}{\\sqrt{2}}(|01\\rangle+|10\\rangle) \\\\ \\mathtt{10} \\rightarrow |\\Phi^- \\rangle = \\frac{1}{\\sqrt{2}}(|00\\rangle-|11\\rangle) \\\\ \\mathtt{11} \\rightarrow |\\Psi^- \\rangle = \\frac{1}{\\sqrt{2}}(|01\\rangle-|10\\rangle)$$\n",
    "\n",
    "When Bob receives these states he needs to unentangle them, by undoing the `h` and `cx`. Then he can measure and retreive the message as before."
   ]
  },
  {
   "cell_type": "code",
   "execution_count": 15,
   "id": "f3a2a6dd",
   "metadata": {},
   "outputs": [],
   "source": [
    "qc_bob = QuantumCircuit(2,2)\n",
    "# Bob unentangles\n",
    "qc_bob.cx(1,0)\n",
    "qc_bob.h(1)\n",
    "# Then measures\n",
    "qc_bob.measure([0,1],[0,1])"
   ]
  },
  {
   "cell_type": "markdown",
   "id": "40482ad1",
   "metadata": {},
   "source": [
    "So here we used entangled states, but they didn't give us any advantages. For that we need to look at the relationship between these four entangled states.\n",
    "\n",
    "For example, the state $|\\Phi^+ \\rangle$ is a superposition of $|00\\rangle$ and $|11\\rangle$, whereas $|\\Psi^+ \\rangle$ is a superposition of $|01\\rangle$ and $|10\\rangle$. So a simple `x` gate on either qubit is sufficent to rotate a $|\\Phi^+ \\rangle$ into $|\\Psi^+ \\rangle$ and vice-versa. The same is true for rotating between $|\\Phi^- \\rangle$ into $|\\Psi^- \\rangle$. Similarly the different between $|\\Phi^+ \\rangle$ and $|\\Phi^- \\rangle$ is simply the relative phase, which can be changed by a `z` on either qubit, and the same with $|\\Psi^+ \\rangle$ and $|\\Psi^- \\rangle$. So Alice could send her message by creating an entangled state first, and then changing it using `x` and `z` gates to encode the correct message."
   ]
  },
  {
   "cell_type": "code",
   "execution_count": 16,
   "id": "f605c409",
   "metadata": {},
   "outputs": [
    {
     "data": {
      "text/latex": [
       "$$\\frac{\\sqrt{2}}{2} |00\\rangle+\\frac{\\sqrt{2}}{2} |11\\rangle$$"
      ],
      "text/plain": [
       "<IPython.core.display.Latex object>"
      ]
     },
     "execution_count": 16,
     "metadata": {},
     "output_type": "execute_result"
    }
   ],
   "source": [
    "MESSAGE = '00'\n",
    "\n",
    "qc_alice = QuantumCircuit(2,2)\n",
    "qc_alice.h(1)\n",
    "qc_alice.cx(1,0)\n",
    "\n",
    "if MESSAGE[-2]=='1':\n",
    "    qc_alice.z(1)\n",
    "if MESSAGE[-1]=='1':\n",
    "    qc_alice.x(1)\n",
    "\n",
    "ket = Statevector(qc_alice)\n",
    "ket.draw()"
   ]
  },
  {
   "cell_type": "markdown",
   "id": "bce836cf",
   "metadata": {},
   "source": [
    "Since Bob is receiving the same states as before, he doesn't need to change his circuit at all."
   ]
  },
  {
   "cell_type": "code",
   "execution_count": 17,
   "id": "1d527688",
   "metadata": {},
   "outputs": [
    {
     "data": {
      "text/plain": [
       "{'00': 1024}"
      ]
     },
     "execution_count": 17,
     "metadata": {},
     "output_type": "execute_result"
    }
   ],
   "source": [
    "backend.run(qc_alice.compose(qc_bob)).result().get_counts()"
   ]
  },
  {
   "cell_type": "markdown",
   "id": "b513ffb1",
   "metadata": {},
   "source": [
    "The important thing to note here is  that the `x` and `z` gates can be applied to just a single qubit (qubit 1 in this case). This means that Alice could send qubit 0 to Bob as soon as she has created the entangled pair. In fact, she could send it before she even knows what message she wants to send!\n",
    "\n",
    "This gets even more surprising if you imagine a third party, whos job is just to create $|\\Phi^+ \\rangle$ states and send the qubits out."
   ]
  },
  {
   "cell_type": "code",
   "execution_count": 18,
   "id": "396caed9",
   "metadata": {},
   "outputs": [],
   "source": [
    "qc_charlie = QuantumCircuit(2,2)\n",
    "\n",
    "qc_charlie.h(1)\n",
    "qc_charlie.cx(1,0)"
   ]
  },
  {
   "cell_type": "markdown",
   "id": "d2daa24d",
   "metadata": {},
   "source": [
    "![](images/multi-qubit/superdense.jpg)\n",
    "\n",
    "This third party can directly send one qubit to Bob, and then the other to Alice. Alice can encode her two qubit message by manipulating just this single qubit, and send only this one qubit to Bob."
   ]
  },
  {
   "cell_type": "code",
   "execution_count": 19,
   "id": "c932672e",
   "metadata": {},
   "outputs": [],
   "source": [
    "MESSAGE = '01'\n",
    "\n",
    "qc_alice = QuantumCircuit(2,2)\n",
    "\n",
    "if MESSAGE[-2]=='1':\n",
    "    qc_alice.z(1)\n",
    "if MESSAGE[-1]=='1':\n",
    "    qc_alice.x(1)"
   ]
  },
  {
   "cell_type": "markdown",
   "id": "e10b2fac",
   "metadata": {},
   "source": [
    "Now Bob can apply the same process as before and extract the message from his two qubits."
   ]
  },
  {
   "cell_type": "code",
   "execution_count": 20,
   "id": "2e3282be",
   "metadata": {},
   "outputs": [
    {
     "data": {
      "text/plain": [
       "{'01': 1024}"
      ]
     },
     "execution_count": 20,
     "metadata": {},
     "output_type": "execute_result"
    }
   ],
   "source": [
    "complete_qc = qc_charlie.compose(qc_alice.compose(qc_bob))\n",
    "backend.run(complete_qc).result().get_counts()"
   ]
  },
  {
   "cell_type": "markdown",
   "id": "c91e9c29",
   "metadata": {},
   "source": [
    "The end result of all this is that Alice sent two bits of information to Bob, and only had to send one qubit to do it. This was made possible by the fact that the qubit was part of an entangled pair. As such, while Alice just applying gates to one qubit, she was manipulating the larger set of four entangled pairs that it was a part of.\n",
    "\n",
    "This serves as a simple example of how qubits can allow us to do things that normal bits cannot, and how entanglement is a crucial resource for this.\n",
    "\n",
    "<!-- ::: q-block.exercise -->\n",
    "\n",
    "### Try it\n",
    "\n",
    "Create a function that takes a `QuantumCircuit` and two-bit string as input, and applies the gates that encode the string onto the entangled state so Bob can decode it. Verify it works on all inputs.\n",
    "\n",
    "[Try in IBM Quantum Lab](https://quantum-computing.ibm.com/lab)\n",
    "\n",
    "<!-- ::: -->"
   ]
  },
  {
   "cell_type": "markdown",
   "id": "87700db4",
   "metadata": {},
   "source": [
    "## Unique correlations: The Hardy paradox\n",
    "\n",
    "![A blue cube and a grey 3d-triangle thing](images/multi-qubit/hardy-paradox.png)\n",
    "\n",
    "### Some classical correlations\n",
    "\n",
    "Now let's consider another situation with our friends Alice, Bob and Charlie. First, we'll consider a completely classical case.\n",
    "\n",
    "Suppose Charlie packages up a pair of colored shapes every day, sending one out to Alice and the other to Bob. Every day, Alice & Bob look at their shape and compare what they have received. For each shape they look at one of two properties: whether it was a cube or not, and whether it was blue or not.\n",
    "\n",
    "After many days, and many choices of whether to look at the shape or color, they make two observations\n",
    "\n",
    "1. They are never both a cube.\n",
    "2. If one is not blue, the other will be a cube.\n",
    "\n",
    "Clearly Charlie is not just sending out random shapes. There is some degree of correlation between the objects that Charlie chooses to send.\n",
    "\n",
    "With these observations in mind, Alice and Bob imagine the case that they both look at the color, and they both find that their shape is not blue. Bob would then be able to apply observation 2 and infer that Alice's shape is certainly a cube. Alice could do the same and infer that Bob's shape is a cube. However, from observation 1 they know that this is impossible. So they conclude that one of their shapes will always be blue.\n",
    "\n",
    "This is a rather artifical scenario, but it shows that there are limits on the kind of correlations possible with classical systems (like colored shapes). The fact that the color and shape of each object are both simulateously well-defined, we can apply chains of logic such as those above which use the results of one to deduce things about the other.\n",
    "\n",
    "For qubits, however, the results of a measurement are not well-defined before the measurement is made. So can we find different kinds of behaviour?"
   ]
  },
  {
   "cell_type": "markdown",
   "id": "9e1aa9ed",
   "metadata": {},
   "source": [
    "### Measuring a qubit\n",
    "\n",
    "In the scenario above we looked at two different properties of a classical object: shape and color. For a quantum counterpart we'll need to do the same for qubits.\n",
    "\n",
    "The only information we extract from a qubit is through measurement: We apply the measure operation and get back a `0` or a `1`. The way that this is physically implemented in a quantum computer depends on the details of how your qubit is built. For some types of qubit, it is possible to rotate the measurement device in order to do different kinds of measurement, and see different behavior from the results.\n",
    "\n",
    "For other kinds of qubit, rotating your measurement device will just break it. Nevertheless, there is a simple way to get the same effect: just rotate the qubit instead! By performing single qubit gates before making a standard measurement, we reproduce the effects of these alternative forms of measurement.\n",
    "\n",
    "The most common example of this is to simply perform an `h` gate immediately before measurement. This gives us what is known as an *x measurement*."
   ]
  },
  {
   "cell_type": "code",
   "execution_count": 21,
   "id": "2fabbe42",
   "metadata": {},
   "outputs": [
    {
     "data": {
      "image/svg+xml": [
       "<?xml version=\"1.0\" encoding=\"UTF-8\"?><!DOCTYPE svg  PUBLIC '-//W3C//DTD SVG 1.1//EN'  'http://www.w3.org/Graphics/SVG/1.1/DTD/svg11.dtd'><svg width=\"160.66pt\" height=\"123.48pt\" version=\"1.1\" viewBox=\"0 0 160.66 123.48\" xmlns=\"http://www.w3.org/2000/svg\" xmlns:xlink=\"http://www.w3.org/1999/xlink\"><defs><style type=\"text/css\">*{stroke-linecap:butt;stroke-linejoin:round;}</style></defs><path d=\"m0 123.48h160.66v-123.48h-160.66z\" fill=\"#ffffff\"/><path d=\"m117.56 78.672h11.817l-5.9086 8.5221z\" clip-path=\"url(#p4c504028e0)\" fill=\"#778899\"/><path d=\"m53.471 43.561h95.447\" clip-path=\"url(#p4c504028e0)\" fill=\"none\" stroke=\"#000000\" stroke-linecap=\"square\" stroke-width=\"2\"/><path d=\"m53.471 87.535h95.447\" clip-path=\"url(#p4c504028e0)\" fill=\"none\" stroke=\"#778899\" stroke-linecap=\"square\" stroke-width=\"2\"/><path d=\"m53.471 90.489h95.447\" clip-path=\"url(#p4c504028e0)\" fill=\"none\" stroke=\"#778899\" stroke-linecap=\"square\" stroke-width=\"2\"/><path d=\"m62.561 93.557 4.5451-9.0902\" clip-path=\"url(#p4c504028e0)\" fill=\"none\" stroke=\"#778899\" stroke-linecap=\"square\" stroke-width=\"1.5\"/><path d=\"m124.94 43.561v35.111\" clip-path=\"url(#p4c504028e0)\" fill=\"none\" stroke=\"#778899\" stroke-linecap=\"square\" stroke-width=\"2\"/><path d=\"m121.99 43.561v35.111\" clip-path=\"url(#p4c504028e0)\" fill=\"none\" stroke=\"#778899\" stroke-linecap=\"square\" stroke-width=\"2\"/><path d=\"m63.243 58.332h29.543v-29.543h-29.543z\" clip-path=\"url(#p4c504028e0)\" fill=\"#1192e8\" stroke=\"#1192e8\" stroke-width=\"1.5\"/><path d=\"m108.69 58.332h29.543v-29.543h-29.543z\" clip-path=\"url(#p4c504028e0)\" fill=\"#121619\" stroke=\"#121619\" stroke-width=\"1.5\"/><path d=\"m133.81 47.992c0-2.7413-1.0901-5.3732-3.0285-7.3116-1.9384-1.9384-4.5702-3.0285-7.3116-3.0285-2.7413 0-5.3732 1.0901-7.3116 3.0285-1.9384 1.9384-3.0285 4.5702-3.0285 7.3116\" clip-path=\"url(#p4c504028e0)\" fill=\"none\" stroke=\"#ffffff\" stroke-width=\"2\"/><path d=\"m123.47 47.992 10.34-10.34\" clip-path=\"url(#p4c504028e0)\" fill=\"none\" stroke=\"#ffffff\" stroke-linecap=\"square\" stroke-width=\"2\"/><g clip-path=\"url(#p4c504028e0)\"><g transform=\"translate(33.981 48.012) scale(.1625 -.1625)\"><defs><path id=\"DejaVuSans-Oblique-71\" transform=\"scale(.015625)\" d=\"m2669 525q-231-303-546-460-314-156-695-156-531 0-833 358-301 358-301 986 0 506 186 978t533 847q225 244 517 375t614 131q387 0 637-153t363-462l100 525h578l-934-4813h-579l360 1844zm-1778 813q0-463 193-705 194-242 560-242 544 0 928 520t384 1264q0 450-199 689-198 239-569 239-272 0-504-127-231-126-403-370-181-256-286-600-104-343-104-668z\"/></defs><use xlink:href=\"#DejaVuSans-Oblique-71\"/></g></g><g clip-path=\"url(#p4c504028e0)\"><g transform=\"translate(58.016 82.304) scale(.104 -.104)\"><defs><path id=\"DejaVuSans-31\" transform=\"scale(.015625)\" d=\"m794 531h1031v3560l-1122-225v575l1116 225h631v-4135h1031v-531h-2687v531z\"/></defs><use xlink:href=\"#DejaVuSans-31\"/></g></g><g clip-path=\"url(#p4c504028e0)\"><g transform=\"translate(35.446 93.496) scale(.1625 -.1625)\"><defs><path id=\"DejaVuSans-63\" transform=\"scale(.015625)\" d=\"m3122 3366v-538q-244 135-489 202t-495 67q-560 0-870-355-309-354-309-995t309-996q310-354 870-354 250 0 495 67t489 202v-532q-241-112-499-168-257-57-548-57-791 0-1257 497-465 497-465 1341 0 856 470 1346 471 491 1290 491 265 0 518-55 253-54 491-163z\"/></defs><use xlink:href=\"#DejaVuSans-63\"/></g></g><g clip-path=\"url(#p4c504028e0)\"><g transform=\"translate(73.126 47.148) scale(.13 -.13)\" fill=\"#ffffff\"><defs><path id=\"DejaVuSans-48\" transform=\"scale(.015625)\" d=\"m628 4666h631v-1913h2294v1913h631v-4666h-631v2222h-2294v-2222h-631v4666z\"/></defs><use xlink:href=\"#DejaVuSans-48\"/></g></g><g clip-path=\"url(#p4c504028e0)\"><g transform=\"translate(134.83 82.304) scale(.104 -.104)\"><defs><path id=\"DejaVuSans-30\" transform=\"scale(.015625)\" d=\"m2034 4250q-487 0-733-480-245-479-245-1442 0-959 245-1439 246-480 733-480 491 0 736 480 246 480 246 1439 0 963-246 1442-245 480-736 480zm0 500q785 0 1199-621 414-620 414-1801 0-1178-414-1799-414-620-1199-620-784 0-1198 620-414 621-414 1799 0 1181 414 1801 414 621 1198 621z\"/></defs><use xlink:href=\"#DejaVuSans-30\"/></g></g><defs><clipPath id=\"p4c504028e0\"><rect x=\"7.2\" y=\"7.2\" width=\"146.26\" height=\"109.08\"/></clipPath></defs></svg>"
      ],
      "text/plain": [
       "<Figure size 193.726x144.48 with 1 Axes>"
      ]
     },
     "execution_count": 21,
     "metadata": {},
     "output_type": "execute_result"
    }
   ],
   "source": [
    "meas_x = QuantumCircuit(1,1)\n",
    "meas_x.h(0)\n",
    "meas_x.measure(0,0)\n",
    "\n",
    "meas_x.draw()"
   ]
  },
  {
   "cell_type": "markdown",
   "id": "0b640919",
   "metadata": {},
   "source": [
    "The standard form of measurement, which is done with just a `measure` gate, is known as a *z measurement* in this context."
   ]
  },
  {
   "cell_type": "code",
   "execution_count": 22,
   "id": "1787d8fa",
   "metadata": {},
   "outputs": [
    {
     "data": {
      "image/svg+xml": [
       "<?xml version=\"1.0\" encoding=\"UTF-8\"?><!DOCTYPE svg  PUBLIC '-//W3C//DTD SVG 1.1//EN'  'http://www.w3.org/Graphics/SVG/1.1/DTD/svg11.dtd'><svg width=\"115.21pt\" height=\"123.48pt\" version=\"1.1\" viewBox=\"0 0 115.21 123.48\" xmlns=\"http://www.w3.org/2000/svg\" xmlns:xlink=\"http://www.w3.org/1999/xlink\"><defs><style type=\"text/css\">*{stroke-linecap:butt;stroke-linejoin:round;}</style></defs><path d=\"m0 123.48h115.21v-123.48h-115.21z\" fill=\"#ffffff\"/><path d=\"m72.106 78.672h11.817l-5.9086 8.5221z\" clip-path=\"url(#p59bb50b292)\" fill=\"#778899\"/><path d=\"m53.471 43.561h49.996\" clip-path=\"url(#p59bb50b292)\" fill=\"none\" stroke=\"#000000\" stroke-linecap=\"square\" stroke-width=\"2\"/><path d=\"m53.471 87.535h49.996\" clip-path=\"url(#p59bb50b292)\" fill=\"none\" stroke=\"#778899\" stroke-linecap=\"square\" stroke-width=\"2\"/><path d=\"m53.471 90.489h49.996\" clip-path=\"url(#p59bb50b292)\" fill=\"none\" stroke=\"#778899\" stroke-linecap=\"square\" stroke-width=\"2\"/><path d=\"m62.561 93.557 4.5451-9.0902\" clip-path=\"url(#p59bb50b292)\" fill=\"none\" stroke=\"#778899\" stroke-linecap=\"square\" stroke-width=\"1.5\"/><path d=\"m79.492 43.561v35.111\" clip-path=\"url(#p59bb50b292)\" fill=\"none\" stroke=\"#778899\" stroke-linecap=\"square\" stroke-width=\"2\"/><path d=\"m76.537 43.561v35.111\" clip-path=\"url(#p59bb50b292)\" fill=\"none\" stroke=\"#778899\" stroke-linecap=\"square\" stroke-width=\"2\"/><path d=\"m63.243 58.332h29.543v-29.543h-29.543z\" clip-path=\"url(#p59bb50b292)\" fill=\"#121619\" stroke=\"#121619\" stroke-width=\"1.5\"/><path d=\"m88.355 47.992c0-2.7413-1.0901-5.3732-3.0285-7.3116-1.9384-1.9384-4.5702-3.0285-7.3116-3.0285s-5.3732 1.0901-7.3116 3.0285c-1.9384 1.9384-3.0285 4.5702-3.0285 7.3116\" clip-path=\"url(#p59bb50b292)\" fill=\"none\" stroke=\"#ffffff\" stroke-width=\"2\"/><path d=\"m78.014 47.992 10.34-10.34\" clip-path=\"url(#p59bb50b292)\" fill=\"none\" stroke=\"#ffffff\" stroke-linecap=\"square\" stroke-width=\"2\"/><g clip-path=\"url(#p59bb50b292)\"><g transform=\"translate(33.981 48.012) scale(.1625 -.1625)\"><defs><path id=\"DejaVuSans-Oblique-71\" transform=\"scale(.015625)\" d=\"m2669 525q-231-303-546-460-314-156-695-156-531 0-833 358-301 358-301 986 0 506 186 978t533 847q225 244 517 375t614 131q387 0 637-153t363-462l100 525h578l-934-4813h-579l360 1844zm-1778 813q0-463 193-705 194-242 560-242 544 0 928 520t384 1264q0 450-199 689-198 239-569 239-272 0-504-127-231-126-403-370-181-256-286-600-104-343-104-668z\"/></defs><use xlink:href=\"#DejaVuSans-Oblique-71\"/></g></g><g clip-path=\"url(#p59bb50b292)\"><g transform=\"translate(58.016 82.304) scale(.104 -.104)\"><defs><path id=\"DejaVuSans-31\" transform=\"scale(.015625)\" d=\"m794 531h1031v3560l-1122-225v575l1116 225h631v-4135h1031v-531h-2687v531z\"/></defs><use xlink:href=\"#DejaVuSans-31\"/></g></g><g clip-path=\"url(#p59bb50b292)\"><g transform=\"translate(35.446 93.496) scale(.1625 -.1625)\"><defs><path id=\"DejaVuSans-63\" transform=\"scale(.015625)\" d=\"m3122 3366v-538q-244 135-489 202t-495 67q-560 0-870-355-309-354-309-995t309-996q310-354 870-354 250 0 495 67t489 202v-532q-241-112-499-168-257-57-548-57-791 0-1257 497-465 497-465 1341 0 856 470 1346 471 491 1290 491 265 0 518-55 253-54 491-163z\"/></defs><use xlink:href=\"#DejaVuSans-63\"/></g></g><g clip-path=\"url(#p59bb50b292)\"><g transform=\"translate(89.377 82.304) scale(.104 -.104)\"><defs><path id=\"DejaVuSans-30\" transform=\"scale(.015625)\" d=\"m2034 4250q-487 0-733-480-245-479-245-1442 0-959 245-1439 246-480 733-480 491 0 736 480 246 480 246 1439 0 963-246 1442-245 480-736 480zm0 500q785 0 1199-621 414-620 414-1801 0-1178-414-1799-414-620-1199-620-784 0-1198 620-414 621-414 1799 0 1181 414 1801 414 621 1198 621z\"/></defs><use xlink:href=\"#DejaVuSans-30\"/></g></g><defs><clipPath id=\"p59bb50b292\"><rect x=\"7.2\" y=\"7.2\" width=\"100.81\" height=\"109.08\"/></clipPath></defs></svg>"
      ],
      "text/plain": [
       "<Figure size 133.526x144.48 with 1 Axes>"
      ]
     },
     "execution_count": 22,
     "metadata": {},
     "output_type": "execute_result"
    }
   ],
   "source": [
    "meas_z = QuantumCircuit(1,1)\n",
    "meas_z.measure(0,0)\n",
    "\n",
    "meas_z.draw()"
   ]
  },
  {
   "cell_type": "markdown",
   "id": "8d27f58b",
   "metadata": {},
   "source": [
    "As you might be able to guess from the names, there is also something called a *y measurement*, but we won't need to use that here.\n",
    "\n",
    "Now let's look at what happens to certain states when we do these measurements. We'll start with the simple $|0\\rangle$ state."
   ]
  },
  {
   "cell_type": "code",
   "execution_count": 23,
   "id": "246a35c2",
   "metadata": {},
   "outputs": [
    {
     "data": {
      "image/svg+xml": [
       "<?xml version=\"1.0\" encoding=\"UTF-8\"?><!DOCTYPE svg  PUBLIC '-//W3C//DTD SVG 1.1//EN'  'http://www.w3.org/Graphics/SVG/1.1/DTD/svg11.dtd'><svg width=\"92.487pt\" height=\"123.48pt\" version=\"1.1\" viewBox=\"0 0 92.487 123.48\" xmlns=\"http://www.w3.org/2000/svg\" xmlns:xlink=\"http://www.w3.org/1999/xlink\"><defs><style type=\"text/css\">*{stroke-linecap:butt;stroke-linejoin:round;}</style></defs><path d=\"m0 123.48h92.487v-123.48h-92.487z\" fill=\"#ffffff\"/><path d=\"m53.471 43.561h27.271\" clip-path=\"url(#p533c392a6e)\" fill=\"none\" stroke=\"#000000\" stroke-linecap=\"square\" stroke-width=\"2\"/><path d=\"m53.471 87.535h27.271\" clip-path=\"url(#p533c392a6e)\" fill=\"none\" stroke=\"#778899\" stroke-linecap=\"square\" stroke-width=\"2\"/><path d=\"m53.471 90.489h27.271\" clip-path=\"url(#p533c392a6e)\" fill=\"none\" stroke=\"#778899\" stroke-linecap=\"square\" stroke-width=\"2\"/><path d=\"m62.561 93.557 4.5451-9.0902\" clip-path=\"url(#p533c392a6e)\" fill=\"none\" stroke=\"#778899\" stroke-linecap=\"square\" stroke-width=\"1.5\"/><g clip-path=\"url(#p533c392a6e)\"><g transform=\"translate(33.981 48.012) scale(.1625 -.1625)\"><defs><path id=\"DejaVuSans-Oblique-71\" transform=\"scale(.015625)\" d=\"m2669 525q-231-303-546-460-314-156-695-156-531 0-833 358-301 358-301 986 0 506 186 978t533 847q225 244 517 375t614 131q387 0 637-153t363-462l100 525h578l-934-4813h-579l360 1844zm-1778 813q0-463 193-705 194-242 560-242 544 0 928 520t384 1264q0 450-199 689-198 239-569 239-272 0-504-127-231-126-403-370-181-256-286-600-104-343-104-668z\"/></defs><use xlink:href=\"#DejaVuSans-Oblique-71\"/></g></g><g clip-path=\"url(#p533c392a6e)\"><g transform=\"translate(58.016 82.304) scale(.104 -.104)\"><defs><path id=\"DejaVuSans-31\" transform=\"scale(.015625)\" d=\"m794 531h1031v3560l-1122-225v575l1116 225h631v-4135h1031v-531h-2687v531z\"/></defs><use xlink:href=\"#DejaVuSans-31\"/></g></g><g clip-path=\"url(#p533c392a6e)\"><g transform=\"translate(35.446 93.496) scale(.1625 -.1625)\"><defs><path id=\"DejaVuSans-63\" transform=\"scale(.015625)\" d=\"m3122 3366v-538q-244 135-489 202t-495 67q-560 0-870-355-309-354-309-995t309-996q310-354 870-354 250 0 495 67t489 202v-532q-241-112-499-168-257-57-548-57-791 0-1257 497-465 497-465 1341 0 856 470 1346 471 491 1290 491 265 0 518-55 253-54 491-163z\"/></defs><use xlink:href=\"#DejaVuSans-63\"/></g></g><defs><clipPath id=\"p533c392a6e\"><rect x=\"7.2\" y=\"7.2\" width=\"78.087\" height=\"109.08\"/></clipPath></defs></svg>"
      ],
      "text/plain": [
       "<Figure size 103.426x144.48 with 1 Axes>"
      ]
     },
     "execution_count": 23,
     "metadata": {},
     "output_type": "execute_result"
    }
   ],
   "source": [
    "qc = QuantumCircuit(1,1)\n",
    "\n",
    "qc.draw()"
   ]
  },
  {
   "cell_type": "markdown",
   "id": "1a5c1b89",
   "metadata": {},
   "source": [
    "For the standard measurement, as we know, this is certain to output `0`."
   ]
  },
  {
   "cell_type": "code",
   "execution_count": 24,
   "id": "208444c6",
   "metadata": {},
   "outputs": [
    {
     "name": "stdout",
     "output_type": "stream",
     "text": [
      "Results from z measurement: {'0': 1024}\n"
     ]
    }
   ],
   "source": [
    "print('Results from z measurement:',\n",
    "      backend.run(qc.compose(meas_z)).result().get_counts())"
   ]
  },
  {
   "cell_type": "markdown",
   "id": "936ea9b4",
   "metadata": {},
   "source": [
    "For an x measurement, however, we'll get completely random results."
   ]
  },
  {
   "cell_type": "code",
   "execution_count": 25,
   "id": "3e9f9d2e",
   "metadata": {},
   "outputs": [
    {
     "name": "stdout",
     "output_type": "stream",
     "text": [
      "Results from x measurement: {'1': 522, '0': 502}\n"
     ]
    }
   ],
   "source": [
    "print('Results from x measurement:',\n",
    "      backend.run(qc.compose(meas_x)).result().get_counts())"
   ]
  },
  {
   "cell_type": "markdown",
   "id": "cf84109e",
   "metadata": {},
   "source": [
    "A similar situation occurs for the $|1\\rangle$ state."
   ]
  },
  {
   "cell_type": "code",
   "execution_count": 26,
   "id": "88b56117",
   "metadata": {},
   "outputs": [
    {
     "data": {
      "image/svg+xml": [
       "<?xml version=\"1.0\" encoding=\"UTF-8\"?><!DOCTYPE svg  PUBLIC '-//W3C//DTD SVG 1.1//EN'  'http://www.w3.org/Graphics/SVG/1.1/DTD/svg11.dtd'><svg width=\"115.21pt\" height=\"123.48pt\" version=\"1.1\" viewBox=\"0 0 115.21 123.48\" xmlns=\"http://www.w3.org/2000/svg\" xmlns:xlink=\"http://www.w3.org/1999/xlink\"><defs><style type=\"text/css\">*{stroke-linecap:butt;stroke-linejoin:round;}</style></defs><path d=\"m0 123.48h115.21v-123.48h-115.21z\" fill=\"#ffffff\"/><path d=\"m53.471 43.561h49.996\" clip-path=\"url(#p11565a2c54)\" fill=\"none\" stroke=\"#000000\" stroke-linecap=\"square\" stroke-width=\"2\"/><path d=\"m53.471 87.535h49.996\" clip-path=\"url(#p11565a2c54)\" fill=\"none\" stroke=\"#778899\" stroke-linecap=\"square\" stroke-width=\"2\"/><path d=\"m53.471 90.489h49.996\" clip-path=\"url(#p11565a2c54)\" fill=\"none\" stroke=\"#778899\" stroke-linecap=\"square\" stroke-width=\"2\"/><path d=\"m62.561 93.557 4.5451-9.0902\" clip-path=\"url(#p11565a2c54)\" fill=\"none\" stroke=\"#778899\" stroke-linecap=\"square\" stroke-width=\"1.5\"/><path d=\"m63.243 58.332h29.543v-29.543h-29.543z\" clip-path=\"url(#p11565a2c54)\" fill=\"#005d5d\" stroke=\"#005d5d\" stroke-width=\"1.5\"/><g clip-path=\"url(#p11565a2c54)\"><g transform=\"translate(33.981 48.012) scale(.1625 -.1625)\"><defs><path id=\"DejaVuSans-Oblique-71\" transform=\"scale(.015625)\" d=\"m2669 525q-231-303-546-460-314-156-695-156-531 0-833 358-301 358-301 986 0 506 186 978t533 847q225 244 517 375t614 131q387 0 637-153t363-462l100 525h578l-934-4813h-579l360 1844zm-1778 813q0-463 193-705 194-242 560-242 544 0 928 520t384 1264q0 450-199 689-198 239-569 239-272 0-504-127-231-126-403-370-181-256-286-600-104-343-104-668z\"/></defs><use xlink:href=\"#DejaVuSans-Oblique-71\"/></g></g><g clip-path=\"url(#p11565a2c54)\"><g transform=\"translate(58.016 82.304) scale(.104 -.104)\"><defs><path id=\"DejaVuSans-31\" transform=\"scale(.015625)\" d=\"m794 531h1031v3560l-1122-225v575l1116 225h631v-4135h1031v-531h-2687v531z\"/></defs><use xlink:href=\"#DejaVuSans-31\"/></g></g><g clip-path=\"url(#p11565a2c54)\"><g transform=\"translate(35.446 93.496) scale(.1625 -.1625)\"><defs><path id=\"DejaVuSans-63\" transform=\"scale(.015625)\" d=\"m3122 3366v-538q-244 135-489 202t-495 67q-560 0-870-355-309-354-309-995t309-996q310-354 870-354 250 0 495 67t489 202v-532q-241-112-499-168-257-57-548-57-791 0-1257 497-465 497-465 1341 0 856 470 1346 471 491 1290 491 265 0 518-55 253-54 491-163z\"/></defs><use xlink:href=\"#DejaVuSans-63\"/></g></g><g clip-path=\"url(#p11565a2c54)\"><g transform=\"translate(73.562 47.148) scale(.13 -.13)\" fill=\"#ffffff\"><defs><path id=\"DejaVuSans-58\" transform=\"scale(.015625)\" d=\"m403 4666h678l1160-1735 1165 1735h678l-1500-2241 1600-2425h-678l-1312 1984-1322-1984h-681l1665 2491-1453 2175z\"/></defs><use xlink:href=\"#DejaVuSans-58\"/></g></g><defs><clipPath id=\"p11565a2c54\"><rect x=\"7.2\" y=\"7.2\" width=\"100.81\" height=\"109.08\"/></clipPath></defs></svg>"
      ],
      "text/plain": [
       "<Figure size 133.526x144.48 with 1 Axes>"
      ]
     },
     "execution_count": 26,
     "metadata": {},
     "output_type": "execute_result"
    }
   ],
   "source": [
    "qc = QuantumCircuit(1,1)\n",
    "qc.x(0)\n",
    "\n",
    "qc.draw()"
   ]
  },
  {
   "cell_type": "markdown",
   "id": "a44798a4",
   "metadata": {},
   "source": [
    "The z measurement outputs the expected result with certainty, but the x measurement gives random results."
   ]
  },
  {
   "cell_type": "code",
   "execution_count": 27,
   "id": "a3140d05",
   "metadata": {},
   "outputs": [
    {
     "name": "stdout",
     "output_type": "stream",
     "text": [
      "Results from z measurement: {'1': 1024}\n",
      "Results from x measurement: {'0': 520, '1': 504}\n"
     ]
    }
   ],
   "source": [
    "for basis,circ in [('z', meas_z), ('x', meas_x)]:\n",
    "    print('Results from ' + basis + ' measurement:',\n",
    "      backend.run(qc.compose(circ)).result().get_counts())"
   ]
  },
  {
   "cell_type": "markdown",
   "id": "17f3a2c6",
   "metadata": {},
   "source": [
    "The tables are turned for the $|+\\rangle$ state."
   ]
  },
  {
   "cell_type": "code",
   "execution_count": 28,
   "id": "d6492859",
   "metadata": {},
   "outputs": [
    {
     "data": {
      "image/svg+xml": [
       "<?xml version=\"1.0\" encoding=\"UTF-8\"?><!DOCTYPE svg  PUBLIC '-//W3C//DTD SVG 1.1//EN'  'http://www.w3.org/Graphics/SVG/1.1/DTD/svg11.dtd'><svg width=\"115.21pt\" height=\"123.48pt\" version=\"1.1\" viewBox=\"0 0 115.21 123.48\" xmlns=\"http://www.w3.org/2000/svg\" xmlns:xlink=\"http://www.w3.org/1999/xlink\"><defs><style type=\"text/css\">*{stroke-linecap:butt;stroke-linejoin:round;}</style></defs><path d=\"m0 123.48h115.21v-123.48h-115.21z\" fill=\"#ffffff\"/><path d=\"m53.471 43.561h49.996\" clip-path=\"url(#pd34b56dc0b)\" fill=\"none\" stroke=\"#000000\" stroke-linecap=\"square\" stroke-width=\"2\"/><path d=\"m53.471 87.535h49.996\" clip-path=\"url(#pd34b56dc0b)\" fill=\"none\" stroke=\"#778899\" stroke-linecap=\"square\" stroke-width=\"2\"/><path d=\"m53.471 90.489h49.996\" clip-path=\"url(#pd34b56dc0b)\" fill=\"none\" stroke=\"#778899\" stroke-linecap=\"square\" stroke-width=\"2\"/><path d=\"m62.561 93.557 4.5451-9.0902\" clip-path=\"url(#pd34b56dc0b)\" fill=\"none\" stroke=\"#778899\" stroke-linecap=\"square\" stroke-width=\"1.5\"/><path d=\"m63.243 58.332h29.543v-29.543h-29.543z\" clip-path=\"url(#pd34b56dc0b)\" fill=\"#1192e8\" stroke=\"#1192e8\" stroke-width=\"1.5\"/><g clip-path=\"url(#pd34b56dc0b)\"><g transform=\"translate(33.981 48.012) scale(.1625 -.1625)\"><defs><path id=\"DejaVuSans-Oblique-71\" transform=\"scale(.015625)\" d=\"m2669 525q-231-303-546-460-314-156-695-156-531 0-833 358-301 358-301 986 0 506 186 978t533 847q225 244 517 375t614 131q387 0 637-153t363-462l100 525h578l-934-4813h-579l360 1844zm-1778 813q0-463 193-705 194-242 560-242 544 0 928 520t384 1264q0 450-199 689-198 239-569 239-272 0-504-127-231-126-403-370-181-256-286-600-104-343-104-668z\"/></defs><use xlink:href=\"#DejaVuSans-Oblique-71\"/></g></g><g clip-path=\"url(#pd34b56dc0b)\"><g transform=\"translate(58.016 82.304) scale(.104 -.104)\"><defs><path id=\"DejaVuSans-31\" transform=\"scale(.015625)\" d=\"m794 531h1031v3560l-1122-225v575l1116 225h631v-4135h1031v-531h-2687v531z\"/></defs><use xlink:href=\"#DejaVuSans-31\"/></g></g><g clip-path=\"url(#pd34b56dc0b)\"><g transform=\"translate(35.446 93.496) scale(.1625 -.1625)\"><defs><path id=\"DejaVuSans-63\" transform=\"scale(.015625)\" d=\"m3122 3366v-538q-244 135-489 202t-495 67q-560 0-870-355-309-354-309-995t309-996q310-354 870-354 250 0 495 67t489 202v-532q-241-112-499-168-257-57-548-57-791 0-1257 497-465 497-465 1341 0 856 470 1346 471 491 1290 491 265 0 518-55 253-54 491-163z\"/></defs><use xlink:href=\"#DejaVuSans-63\"/></g></g><g clip-path=\"url(#pd34b56dc0b)\"><g transform=\"translate(73.126 47.148) scale(.13 -.13)\" fill=\"#ffffff\"><defs><path id=\"DejaVuSans-48\" transform=\"scale(.015625)\" d=\"m628 4666h631v-1913h2294v1913h631v-4666h-631v2222h-2294v-2222h-631v4666z\"/></defs><use xlink:href=\"#DejaVuSans-48\"/></g></g><defs><clipPath id=\"pd34b56dc0b\"><rect x=\"7.2\" y=\"7.2\" width=\"100.81\" height=\"109.08\"/></clipPath></defs></svg>"
      ],
      "text/plain": [
       "<Figure size 133.526x144.48 with 1 Axes>"
      ]
     },
     "execution_count": 28,
     "metadata": {},
     "output_type": "execute_result"
    }
   ],
   "source": [
    "qc = QuantumCircuit(1,1)\n",
    "qc.h(0)\n",
    "\n",
    "qc.draw()"
   ]
  },
  {
   "cell_type": "markdown",
   "id": "1c19b35f",
   "metadata": {},
   "source": [
    "Though the results are random for a z measurement, they produce `0` with certainty for an x measurement."
   ]
  },
  {
   "cell_type": "code",
   "execution_count": 29,
   "id": "75b5e22a",
   "metadata": {},
   "outputs": [
    {
     "name": "stdout",
     "output_type": "stream",
     "text": [
      "Results from z measurement: {'1': 506, '0': 518}\n",
      "Results from x measurement: {'0': 1024}\n"
     ]
    }
   ],
   "source": [
    "for basis,circ in [('z', meas_z), ('x', meas_x)]:\n",
    "    print('Results from ' + basis + ' measurement:',\n",
    "      backend.run(qc.compose(circ)).result().get_counts())"
   ]
  },
  {
   "cell_type": "markdown",
   "id": "c17d37d6",
   "metadata": {},
   "source": [
    "<!-- ::: q-block.exercise -->\n",
    "\n",
    "### Quick quiz\n",
    "\n",
    "<!-- ::: q-quiz(goal=\"intro-multi-4\") -->\n",
    "\n",
    "<!-- ::: .question -->\n",
    "\n",
    "What would be the results for a $|-\\rangle$ state?\n",
    "\n",
    "<!-- ::: -->\n",
    "\n",
    "<!-- ::: .option -->\n",
    "\n",
    "1. Random for both z and x measurements.\n",
    "\n",
    "<!-- ::: -->\n",
    "\n",
    "<!-- ::: .option -->\n",
    "\n",
    "2. Random for a z measurement, `0` for an x measurement.\n",
    "\n",
    "<!-- ::: -->\n",
    "\n",
    "<!-- ::: .option(correct) -->\n",
    "\n",
    "3. Random for a z measurement, `1` for an x measurement.\n",
    "\n",
    "<!-- ::: -->\n",
    "\n",
    "<!-- ::: .option -->\n",
    "\n",
    "4. `0` for a z measurement, `1` for an x measurement.\n",
    "\n",
    "<!-- ::: -->\n",
    "\n",
    "<!-- ::: -->\n",
    "\n",
    "<!-- ::: -->"
   ]
  },
  {
   "cell_type": "markdown",
   "id": "3168ed76",
   "metadata": {},
   "source": [
    "For other states we can find a compromise between the two. For example, we can try out different angles for `ry` rotations."
   ]
  },
  {
   "cell_type": "code",
   "execution_count": 30,
   "id": "a394eb5f",
   "metadata": {},
   "outputs": [],
   "source": [
    "from math import pi\n",
    "\n",
    "qc = QuantumCircuit(1, 1)\n",
    "qc.ry(-pi/4, 0)"
   ]
  },
  {
   "cell_type": "markdown",
   "id": "a52d7594",
   "metadata": {},
   "source": [
    "For the angle $-\\pi/4$, we see both results are partly random, but not completely."
   ]
  },
  {
   "cell_type": "code",
   "execution_count": 31,
   "id": "e4b4c0be",
   "metadata": {},
   "outputs": [
    {
     "name": "stdout",
     "output_type": "stream",
     "text": [
      "Results from z measurement: {'0': 867, '1': 157}\n",
      "Results from x measurement: {'1': 865, '0': 159}\n"
     ]
    }
   ],
   "source": [
    "for basis,circ in [('z', meas_z), ('x', meas_x)]:\n",
    "    print('Results from ' + basis + ' measurement:',\n",
    "      backend.run(qc.compose(circ)).result().get_counts())"
   ]
  },
  {
   "cell_type": "markdown",
   "id": "09a2fed8",
   "metadata": {
    "formulas": {
     "_expectation-value-X": {
      "meaning": "This value is traditionally what you'd expect to get if you repeated the experiment infinitely and averaged the results. We've adapted this definition from physics experiments where the two possible results are +1 or -1, to our situation, where the two possible results are 0 or 1.",
      "say": "Expectation value of a x measurement."
     },
     "expectation-value-Z": {
      "meaning": "This value is traditionally what you'd expect to get if you repeated the experiment infinitely and averaged the results. We've adapted this definition from physics experiments where the two possible results are +1 or -1, to our situation, where the two possible results are 0 or 1.",
      "say": "Expectation value of a z measurement."
     },
     "pz0": {
      "meaning": "The probability of measuring '0' with a z measurement."
     },
     "pz1": {
      "meaning": "The probability of measuring '1' with a z measurement."
     }
    }
   },
   "source": [
    "### The uncertainty principle\n",
    "\n",
    "All these results are the consequence of the uncertainty principle discovered by Werner Heisenberg, which is one of the most important aspects of quantum mechanics. It states that for certain pairs of attributes of a quantum system, it is impossible to know both with certainty.\n",
    "\n",
    "This is not true of the color and shape of an object, as in our example before. As we know from everyday experience, knowing exactly what shape something is does not cause its color to become random.\n",
    "\n",
    "It is true, however, for the outcomes of z and x measurements. These are two different ways that we could choose to encode a bit of information in a qubit. We can do it the normal way, using the $|0\\rangle$ and $|1\\rangle$ states to encode the bit values `0` and `1` and using the z measurement to read it out. Or we could do it an alternative way, using the $|+\\rangle$ and $|-\\rangle$ states to encode the bit values and the x measurement for read out. But the uncertainty principle makes sure that we can't do both at once.\n",
    "\n",
    "Specifically, for the z measurements we can define a quantity\n",
    "\n",
    "$$\\class{expectation-value-Z}{\\langle Z \\rangle} = \\class{pz0}{p_z(0)} - \\class{pz1}{p_z(1)},$$\n",
    "\n",
    "where $p_z(0)$ is the probability of the outcome `0`, and $p_z(1)$ is the probability of `1`. This quantity reaches its maximum value of $1$ for a state that is certain to output `0`, and its minimum value of $-1$ for a state certain to output `1`. Note that in both of these cases where the output is certain, $\\langle Z \\rangle^2 = 1$. For a completely random result, however, we would find $\\langle Z \\rangle = \\langle Z \\rangle^2 = 0$.\n",
    "\n",
    "We can similarly define the quantity $\\class{_expectation-value-X}{\\langle X \\rangle}$ for the outcomes of x measurements. For these we can find that, for any valid state vector\n",
    "\n",
    "$$\\langle Z \\rangle^2 + \\langle X \\rangle^2 \\leq 1.$$\n",
    "\n",
    "This is the uncertainty principle for a qubit, specifically how much certainty can be shared between these kinds of measurement."
   ]
  },
  {
   "cell_type": "markdown",
   "id": "9af8246c",
   "metadata": {},
   "source": [
    "## Unique quantum correlations\n",
    "\n",
    "With the notions of these different measurement bases, we can start to look at unique correlations that are possible for qubits.\n",
    "\n",
    "For example, let's again consider our friends Alice, Bob and Charlie. Charlie creates a particular entangled state and sends one qubit to Alice and the other to Bob. They make measurements and compare the results. Then Charlie sends another, identically prepared state. This repeats many times, so Alice and Bob can build up statistics on all the different measurement results.\n",
    "\n",
    "Let's consider the case where Charlie sends out the following entangled state."
   ]
  },
  {
   "cell_type": "code",
   "execution_count": 32,
   "id": "5c6e5958",
   "metadata": {},
   "outputs": [
    {
     "data": {
      "image/svg+xml": [
       "<?xml version=\"1.0\" encoding=\"UTF-8\"?><!DOCTYPE svg  PUBLIC '-//W3C//DTD SVG 1.1//EN'  'http://www.w3.org/Graphics/SVG/1.1/DTD/svg11.dtd'><svg width=\"306.93pt\" height=\"168.93pt\" version=\"1.1\" viewBox=\"0 0 306.93 168.93\" xmlns=\"http://www.w3.org/2000/svg\" xmlns:xlink=\"http://www.w3.org/1999/xlink\"><defs><style type=\"text/css\">*{stroke-linecap:butt;stroke-linejoin:round;}</style></defs><path d=\"m0 168.93h306.93v-168.93h-306.93z\" fill=\"#ffffff\"/><path d=\"m63.381 43.561h231.8\" clip-path=\"url(#pfb3ea22285)\" fill=\"none\" stroke=\"#000000\" stroke-linecap=\"square\" stroke-width=\"2\"/><path d=\"m63.381 89.012h231.8\" clip-path=\"url(#pfb3ea22285)\" fill=\"none\" stroke=\"#000000\" stroke-linecap=\"square\" stroke-width=\"2\"/><path d=\"m63.381 132.99h231.8\" clip-path=\"url(#pfb3ea22285)\" fill=\"none\" stroke=\"#778899\" stroke-linecap=\"square\" stroke-width=\"2\"/><path d=\"m63.381 135.94h231.8\" clip-path=\"url(#pfb3ea22285)\" fill=\"none\" stroke=\"#778899\" stroke-linecap=\"square\" stroke-width=\"2\"/><path d=\"m72.471 139.01 4.5451-9.0902\" clip-path=\"url(#pfb3ea22285)\" fill=\"none\" stroke=\"#778899\" stroke-linecap=\"square\" stroke-width=\"1.5\"/><path d=\"m133.38 89.012v-45.451\" clip-path=\"url(#pfb3ea22285)\" fill=\"none\" stroke=\"#1192e8\" stroke-linecap=\"square\" stroke-width=\"2\"/><path d=\"m224.28 89.012v-45.451\" clip-path=\"url(#pfb3ea22285)\" fill=\"none\" stroke=\"#1192e8\" stroke-linecap=\"square\" stroke-width=\"2\"/><path d=\"m73.153 103.78h29.543v-29.543h-29.543z\" clip-path=\"url(#pfb3ea22285)\" fill=\"#6929c4\" stroke=\"#6929c4\" stroke-width=\"1.5\"/><path d=\"m133.38 93.443c1.1752 0 2.3025-0.46693 3.1335-1.2979 0.83102-0.83102 1.2979-1.9583 1.2979-3.1335s-0.46693-2.3025-1.2979-3.1335c-0.83102-0.83102-1.9583-1.2979-3.1335-1.2979-1.1752 0-2.3025 0.46693-3.1335 1.2979-0.83102 0.83102-1.2979 1.9583-1.2979 3.1335s0.46693 2.3025 1.2979 3.1335c0.83102 0.83102 1.9583 1.2979 3.1335 1.2979z\" clip-path=\"url(#pfb3ea22285)\" fill=\"#1192e8\" stroke=\"#1192e8\" stroke-width=\"1.5\"/><path d=\"m133.38 53.901c2.7422 0 5.3725-1.0895 7.3116-3.0285 1.939-1.939 3.0285-4.5693 3.0285-7.3116 0-2.7422-1.0895-5.3725-3.0285-7.3116-1.939-1.939-4.5693-3.0285-7.3116-3.0285-2.7422 0-5.3725 1.0895-7.3116 3.0285-1.939 1.939-3.0285 4.5693-3.0285 7.3116 0 2.7422 1.0895 5.3725 3.0285 7.3116 1.939 1.939 4.5693 3.0285 7.3116 3.0285z\" clip-path=\"url(#pfb3ea22285)\" fill=\"#1192e8\" stroke=\"#1192e8\" stroke-width=\"2\"/><path d=\"m164.06 58.332h29.543v-29.543h-29.543z\" clip-path=\"url(#pfb3ea22285)\" fill=\"#6929c4\" stroke=\"#6929c4\" stroke-width=\"1.5\"/><path d=\"m224.28 93.443c1.1752 0 2.3025-0.46693 3.1335-1.2979 0.83102-0.83102 1.2979-1.9583 1.2979-3.1335s-0.46693-2.3025-1.2979-3.1335c-0.83102-0.83102-1.9583-1.2979-3.1335-1.2979s-2.3025 0.46693-3.1335 1.2979c-0.83102 0.83102-1.2979 1.9583-1.2979 3.1335s0.46693 2.3025 1.2979 3.1335 1.9583 1.2979 3.1335 1.2979z\" clip-path=\"url(#pfb3ea22285)\" fill=\"#1192e8\" stroke=\"#1192e8\" stroke-width=\"1.5\"/><path d=\"m224.28 53.901c2.7422 0 5.3725-1.0895 7.3116-3.0285 1.939-1.939 3.0285-4.5693 3.0285-7.3116 0-2.7422-1.0895-5.3725-3.0285-7.3116-1.939-1.939-4.5693-3.0285-7.3116-3.0285s-5.3725 1.0895-7.3116 3.0285c-1.939 1.939-3.0285 4.5693-3.0285 7.3116 0 2.7422 1.0895 5.3725 3.0285 7.3116 1.939 1.939 4.5693 3.0285 7.3116 3.0285z\" clip-path=\"url(#pfb3ea22285)\" fill=\"#1192e8\" stroke=\"#1192e8\" stroke-width=\"2\"/><path d=\"m254.96 58.332h29.543v-29.543h-29.543z\" clip-path=\"url(#pfb3ea22285)\" fill=\"#6929c4\" stroke=\"#6929c4\" stroke-width=\"1.5\"/><path d=\"m133.38 49.469v-11.817\" clip-path=\"url(#pfb3ea22285)\" fill=\"none\" stroke=\"#ffffff\" stroke-linecap=\"square\" stroke-width=\"2\"/><path d=\"m127.47 43.561h11.817\" clip-path=\"url(#pfb3ea22285)\" fill=\"none\" stroke=\"#ffffff\" stroke-linecap=\"square\" stroke-width=\"2\"/><path d=\"m224.28 49.469v-11.817\" clip-path=\"url(#pfb3ea22285)\" fill=\"none\" stroke=\"#ffffff\" stroke-linecap=\"square\" stroke-width=\"2\"/><path d=\"m218.37 43.561h11.817\" clip-path=\"url(#pfb3ea22285)\" fill=\"none\" stroke=\"#ffffff\" stroke-linecap=\"square\" stroke-width=\"2\"/><g clip-path=\"url(#pfb3ea22285)\"><g transform=\"translate(36.253 48.012) scale(.1625 -.1625)\"><defs><path id=\"DejaVuSans-Oblique-71\" transform=\"scale(.015625)\" d=\"m2669 525q-231-303-546-460-314-156-695-156-531 0-833 358-301 358-301 986 0 506 186 978t533 847q225 244 517 375t614 131q387 0 637-153t363-462l100 525h578l-934-4813h-579l360 1844zm-1778 813q0-463 193-705 194-242 560-242 544 0 928 520t384 1264q0 450-199 689-198 239-569 239-272 0-504-127-231-126-403-370-181-256-286-600-104-343-104-668z\"/><path id=\"DejaVuSans-30\" transform=\"scale(.015625)\" d=\"m2034 4250q-487 0-733-480-245-479-245-1442 0-959 245-1439 246-480 733-480 491 0 736 480 246 480 246 1439 0 963-246 1442-245 480-736 480zm0 500q785 0 1199-621 414-620 414-1801 0-1178-414-1799-414-620-1199-620-784 0-1198 620-414 621-414 1799 0 1181 414 1801 414 621 1198 621z\"/></defs><use xlink:href=\"#DejaVuSans-Oblique-71\"/><use transform=\"translate(63.477 -16.406) scale(.7)\" xlink:href=\"#DejaVuSans-30\"/></g></g><g clip-path=\"url(#pfb3ea22285)\"><g transform=\"translate(36.253 93.463) scale(.1625 -.1625)\"><defs><path id=\"DejaVuSans-31\" transform=\"scale(.015625)\" d=\"m794 531h1031v3560l-1122-225v575l1116 225h631v-4135h1031v-531h-2687v531z\"/></defs><use xlink:href=\"#DejaVuSans-Oblique-71\"/><use transform=\"translate(63.477 -16.406) scale(.7)\" xlink:href=\"#DejaVuSans-31\"/></g></g><g clip-path=\"url(#pfb3ea22285)\"><g transform=\"translate(67.926 127.75) scale(.104 -.104)\"><defs><path id=\"DejaVuSans-32\" transform=\"scale(.015625)\" d=\"m1228 531h2203v-531h-2962v531q359 372 979 998 621 627 780 809 303 340 423 576 121 236 121 464 0 372-261 606-261 235-680 235-297 0-627-103-329-103-704-313v638q381 153 712 231 332 78 607 78 725 0 1156-363 431-362 431-968 0-288-108-546-107-257-392-607-78-91-497-524-418-433-1181-1211z\"/></defs><use xlink:href=\"#DejaVuSans-32\"/></g></g><g clip-path=\"url(#pfb3ea22285)\"><g transform=\"translate(45.356 138.95) scale(.1625 -.1625)\"><defs><path id=\"DejaVuSans-63\" transform=\"scale(.015625)\" d=\"m3122 3366v-538q-244 135-489 202t-495 67q-560 0-870-355-309-354-309-995t309-996q310-354 870-354 250 0 495 67t489 202v-532q-241-112-499-168-257-57-548-57-791 0-1257 497-465 497-465 1341 0 856 470 1346 471 491 1290 491 265 0 518-55 253-54 491-163z\"/></defs><use xlink:href=\"#DejaVuSans-63\"/></g></g><g clip-path=\"url(#pfb3ea22285)\"><g transform=\"translate(79.018 100.08) scale(.08 -.08)\" fill=\"#ffffff\"><defs><path id=\"DejaVuSans-2e\" transform=\"scale(.015625)\" d=\"m684 794h660v-794h-660v794z\"/><path id=\"DejaVuSans-39\" transform=\"scale(.015625)\" d=\"m703 97v575q238-113 481-172 244-59 479-59 625 0 954 420 330 420 377 1277-181-269-460-413-278-144-615-144-700 0-1108 423-408 424-408 1159 0 718 425 1152 425 435 1131 435 810 0 1236-621 427-620 427-1801 0-1103-524-1761-523-658-1407-658-238 0-482 47-243 47-506 141zm1256 1978q425 0 673 290 249 291 249 798 0 503-249 795-248 292-673 292t-673-292-248-795q0-507 248-798 248-290 673-290z\"/></defs><use xlink:href=\"#DejaVuSans-31\"/><use x=\"63.623047\" xlink:href=\"#DejaVuSans-2e\"/><use x=\"95.410156\" xlink:href=\"#DejaVuSans-39\"/><use x=\"159.033203\" xlink:href=\"#DejaVuSans-31\"/></g></g><g clip-path=\"url(#pfb3ea22285)\"><g transform=\"translate(80.385 88.168) scale(.13 -.13)\" fill=\"#ffffff\"><defs><path id=\"DejaVuSans-52\" transform=\"scale(.015625)\" d=\"m2841 2188q203-69 395-294t386-619l641-1275h-679l-596 1197q-232 469-449 622t-592 153h-688v-1972h-631v4666h1425q800 0 1194-335 394-334 394-1009 0-441-205-732-205-290-595-402zm-1582 1959v-1656h794q456 0 689 211t233 620-233 617-689 208h-794z\"/><path id=\"DejaVuSans-59\" transform=\"scale(.015625)\" d=\"m-13 4666h679l1293-1919 1285 1919h678l-1650-2444v-2222h-634v2222l-1651 2444z\"/></defs><use transform=\"translate(0 .09375)\" xlink:href=\"#DejaVuSans-52\"/><use transform=\"translate(70.439 -16.312) scale(.7)\" xlink:href=\"#DejaVuSans-59\"/></g></g><g clip-path=\"url(#pfb3ea22285)\"><g transform=\"translate(167.38 54.631) scale(.08 -.08)\" fill=\"#ffffff\"><defs><path id=\"DejaVuSans-37\" transform=\"scale(.015625)\" d=\"m525 4666h3e3v-269l-1694-4397h-659l1594 4134h-2241v532z\"/><path id=\"DejaVuSans-38\" transform=\"scale(.015625)\" d=\"m2034 2216q-450 0-708-241-257-241-257-662 0-422 257-663 258-241 708-241t709 242q260 243 260 662 0 421-258 662-257 241-711 241zm-631 268q-406 100-633 378-226 279-226 679 0 559 398 884 399 325 1092 325 697 0 1094-325t397-884q0-400-227-679-226-278-629-378 456-106 710-416 255-309 255-755 0-679-414-1042-414-362-1186-362-771 0-1186 362-414 363-414 1042 0 446 256 755 257 310 713 416zm-231 997q0-362 226-565 227-203 636-203 407 0 636 203 230 203 230 565 0 363-230 566-229 203-636 203-409 0-636-203-226-203-226-566z\"/><path id=\"DejaVuSans-35\" transform=\"scale(.015625)\" d=\"m691 4666h2478v-532h-1900v-1143q137 47 274 70 138 23 276 23 781 0 1237-428 457-428 457-1159 0-753-469-1171-469-417-1322-417-294 0-599 50-304 50-629 150v635q281-153 581-228t634-75q541 0 856 284 316 284 316 772 0 487-316 771-315 285-856 285-253 0-505-56-251-56-513-175v2344z\"/></defs><use xlink:href=\"#DejaVuSans-30\"/><use x=\"63.623047\" xlink:href=\"#DejaVuSans-2e\"/><use x=\"95.410156\" xlink:href=\"#DejaVuSans-37\"/><use x=\"159.033203\" xlink:href=\"#DejaVuSans-38\"/><use x=\"222.65625\" xlink:href=\"#DejaVuSans-35\"/></g></g><g clip-path=\"url(#pfb3ea22285)\"><g transform=\"translate(171.29 42.717) scale(.13 -.13)\" fill=\"#ffffff\"><use transform=\"translate(0 .09375)\" xlink:href=\"#DejaVuSans-52\"/><use transform=\"translate(70.439 -16.312) scale(.7)\" xlink:href=\"#DejaVuSans-59\"/></g></g><g clip-path=\"url(#pfb3ea22285)\"><g transform=\"translate(260.82 54.631) scale(.08 -.08)\" fill=\"#ffffff\"><defs><path id=\"DejaVuSans-33\" transform=\"scale(.015625)\" d=\"m2597 2516q453-97 707-404 255-306 255-756 0-690-475-1069-475-378-1350-378-293 0-604 58t-642 174v609q262-153 574-231 313-78 654-78 593 0 904 234t311 681q0 413-289 645-289 233-804 233h-544v519h569q465 0 712 186t247 536q0 359-255 551-254 193-729 193-260 0-557-57-297-56-653-174v562q360 100 674 150t592 50q719 0 1137-327 419-326 419-882 0-388-222-655t-631-370z\"/><path id=\"DejaVuSans-36\" transform=\"scale(.015625)\" d=\"m2113 2584q-425 0-674-291-248-290-248-796 0-503 248-796 249-292 674-292t673 292q248 293 248 796 0 506-248 796-248 291-673 291zm1253 1979v-575q-238 112-480 171-242 60-480 60-625 0-955-422-329-422-376-1275 184 272 462 417 279 145 613 145 703 0 1111-427 408-426 408-1160 0-719-425-1154-425-434-1131-434-810 0-1238 620-428 621-428 1799 0 1106 525 1764t1409 658q238 0 480-47t505-140z\"/></defs><use xlink:href=\"#DejaVuSans-32\"/><use x=\"63.623047\" xlink:href=\"#DejaVuSans-2e\"/><use x=\"95.410156\" xlink:href=\"#DejaVuSans-33\"/><use x=\"159.033203\" xlink:href=\"#DejaVuSans-36\"/></g></g><g clip-path=\"url(#pfb3ea22285)\"><g transform=\"translate(262.19 42.717) scale(.13 -.13)\" fill=\"#ffffff\"><use transform=\"translate(0 .09375)\" xlink:href=\"#DejaVuSans-52\"/><use transform=\"translate(70.439 -16.312) scale(.7)\" xlink:href=\"#DejaVuSans-59\"/></g></g><defs><clipPath id=\"pfb3ea22285\"><rect x=\"7.2\" y=\"7.2\" width=\"292.53\" height=\"154.53\"/></clipPath></defs></svg>"
      ],
      "text/plain": [
       "<Figure size 387.452x204.68 with 1 Axes>"
      ]
     },
     "execution_count": 32,
     "metadata": {},
     "output_type": "execute_result"
    }
   ],
   "source": [
    "qc_charlie = QuantumCircuit(2,2)\n",
    "qc_charlie.ry(1.911,1)\n",
    "qc_charlie.cx(1,0)\n",
    "qc_charlie.ry(0.785,0)\n",
    "qc_charlie.cx(1,0)\n",
    "qc_charlie.ry(2.356,0)\n",
    "\n",
    "qc_charlie.draw()"
   ]
  },
  {
   "cell_type": "markdown",
   "id": "ef711180",
   "metadata": {},
   "source": [
    "First Alice and Bob try making z measurements of their qubits."
   ]
  },
  {
   "cell_type": "code",
   "execution_count": 33,
   "id": "fe0fbe7a",
   "metadata": {},
   "outputs": [],
   "source": [
    "meas_zz = QuantumCircuit(2,2)\n",
    "meas_zz.measure([0,1],[0,1])"
   ]
  },
  {
   "cell_type": "markdown",
   "id": "0e85814e",
   "metadata": {},
   "source": [
    "From many samples, they find the following results."
   ]
  },
  {
   "cell_type": "code",
   "execution_count": 34,
   "id": "b0ebf1ea",
   "metadata": {},
   "outputs": [
    {
     "name": "stdout",
     "output_type": "stream",
     "text": [
      "Results for z measurements:\n"
     ]
    },
    {
     "data": {
      "image/svg+xml": [
       "<?xml version=\"1.0\" encoding=\"UTF-8\"?><!DOCTYPE svg  PUBLIC '-//W3C//DTD SVG 1.1//EN'  'http://www.w3.org/Graphics/SVG/1.1/DTD/svg11.dtd'><svg width=\"451.81pt\" height=\"314.57pt\" version=\"1.1\" viewBox=\"0 0 451.81 314.57\" xmlns=\"http://www.w3.org/2000/svg\" xmlns:xlink=\"http://www.w3.org/1999/xlink\"><defs><style type=\"text/css\">*{stroke-linecap:butt;stroke-linejoin:round;}</style></defs><path d=\"m0 314.57h451.81v-314.57h-451.81z\" fill=\"none\"/><path d=\"m54.014 279h390.6v-271.8h-390.6z\" fill=\"#ffffff\"/><defs><path id=\"m12556afc03\" d=\"m0 0v3.5\" stroke=\"#000000\" stroke-width=\".8\"/></defs><use x=\"107.277386\" y=\"279\" stroke=\"#000000\" stroke-width=\".8\" xlink:href=\"#m12556afc03\"/><g transform=\"translate(107.86 306.38) rotate(-70) scale(.14 -.14)\"><defs><path id=\"DejaVuSans-30\" transform=\"scale(.015625)\" d=\"m2034 4250q-487 0-733-480-245-479-245-1442 0-959 245-1439 246-480 733-480 491 0 736 480 246 480 246 1439 0 963-246 1442-245 480-736 480zm0 500q785 0 1199-621 414-620 414-1801 0-1178-414-1799-414-620-1199-620-784 0-1198 620-414 621-414 1799 0 1181 414 1801 414 621 1198 621z\"/><path id=\"DejaVuSans-31\" transform=\"scale(.015625)\" d=\"m794 531h1031v3560l-1122-225v575l1116 225h631v-4135h1031v-531h-2687v531z\"/></defs><use xlink:href=\"#DejaVuSans-30\"/><use x=\"63.623047\" xlink:href=\"#DejaVuSans-31\"/></g><use x=\"249.31375\" y=\"279\" stroke=\"#000000\" stroke-width=\".8\" xlink:href=\"#m12556afc03\"/><g transform=\"translate(249.9 306.38) rotate(-70) scale(.14 -.14)\"><use xlink:href=\"#DejaVuSans-31\"/><use x=\"63.623047\" xlink:href=\"#DejaVuSans-30\"/></g><use x=\"391.350114\" y=\"279\" stroke=\"#000000\" stroke-width=\".8\" xlink:href=\"#m12556afc03\"/><g transform=\"translate(391.93 306.38) rotate(-70) scale(.14 -.14)\"><use xlink:href=\"#DejaVuSans-31\"/><use x=\"63.623047\" xlink:href=\"#DejaVuSans-31\"/></g><path d=\"m54.014 279h390.6\" clip-path=\"url(#pea606302a6)\" fill=\"none\" stroke=\"#b0b0b0\" stroke-dasharray=\"2.96,1.28\" stroke-width=\".8\"/><defs><path id=\"m7e295cd1f7\" d=\"m0 0h-3.5\" stroke=\"#000000\" stroke-width=\".8\"/></defs><use x=\"54.01375\" y=\"279\" stroke=\"#000000\" stroke-width=\".8\" xlink:href=\"#m7e295cd1f7\"/><g transform=\"translate(24.749 284.32) scale(.14 -.14)\"><defs><path id=\"DejaVuSans-2e\" transform=\"scale(.015625)\" d=\"m684 794h660v-794h-660v794z\"/></defs><use xlink:href=\"#DejaVuSans-30\"/><use x=\"63.623047\" xlink:href=\"#DejaVuSans-2e\"/><use x=\"95.410156\" xlink:href=\"#DejaVuSans-30\"/></g><path d=\"m54.014 212.92h390.6\" clip-path=\"url(#pea606302a6)\" fill=\"none\" stroke=\"#b0b0b0\" stroke-dasharray=\"2.96,1.28\" stroke-width=\".8\"/><use x=\"54.01375\" y=\"212.921368\" stroke=\"#000000\" stroke-width=\".8\" xlink:href=\"#m7e295cd1f7\"/><g transform=\"translate(24.749 218.24) scale(.14 -.14)\"><use xlink:href=\"#DejaVuSans-30\"/><use x=\"63.623047\" xlink:href=\"#DejaVuSans-2e\"/><use x=\"95.410156\" xlink:href=\"#DejaVuSans-31\"/></g><path d=\"m54.014 146.84h390.6\" clip-path=\"url(#pea606302a6)\" fill=\"none\" stroke=\"#b0b0b0\" stroke-dasharray=\"2.96,1.28\" stroke-width=\".8\"/><use x=\"54.01375\" y=\"146.842735\" stroke=\"#000000\" stroke-width=\".8\" xlink:href=\"#m7e295cd1f7\"/><g transform=\"translate(24.749 152.16) scale(.14 -.14)\"><defs><path id=\"DejaVuSans-32\" transform=\"scale(.015625)\" d=\"m1228 531h2203v-531h-2962v531q359 372 979 998 621 627 780 809 303 340 423 576 121 236 121 464 0 372-261 606-261 235-680 235-297 0-627-103-329-103-704-313v638q381 153 712 231 332 78 607 78 725 0 1156-363 431-362 431-968 0-288-108-546-107-257-392-607-78-91-497-524-418-433-1181-1211z\"/></defs><use xlink:href=\"#DejaVuSans-30\"/><use x=\"63.623047\" xlink:href=\"#DejaVuSans-2e\"/><use x=\"95.410156\" xlink:href=\"#DejaVuSans-32\"/></g><path d=\"m54.014 80.764h390.6\" clip-path=\"url(#pea606302a6)\" fill=\"none\" stroke=\"#b0b0b0\" stroke-dasharray=\"2.96,1.28\" stroke-width=\".8\"/><use x=\"54.01375\" y=\"80.764103\" stroke=\"#000000\" stroke-width=\".8\" xlink:href=\"#m7e295cd1f7\"/><g transform=\"translate(24.749 86.083) scale(.14 -.14)\"><defs><path id=\"DejaVuSans-33\" transform=\"scale(.015625)\" d=\"m2597 2516q453-97 707-404 255-306 255-756 0-690-475-1069-475-378-1350-378-293 0-604 58t-642 174v609q262-153 574-231 313-78 654-78 593 0 904 234t311 681q0 413-289 645-289 233-804 233h-544v519h569q465 0 712 186t247 536q0 359-255 551-254 193-729 193-260 0-557-57-297-56-653-174v562q360 100 674 150t592 50q719 0 1137-327 419-326 419-882 0-388-222-655t-631-370z\"/></defs><use xlink:href=\"#DejaVuSans-30\"/><use x=\"63.623047\" xlink:href=\"#DejaVuSans-2e\"/><use x=\"95.410156\" xlink:href=\"#DejaVuSans-33\"/></g><path d=\"m54.014 14.685h390.6\" clip-path=\"url(#pea606302a6)\" fill=\"none\" stroke=\"#b0b0b0\" stroke-dasharray=\"2.96,1.28\" stroke-width=\".8\"/><use x=\"54.01375\" y=\"14.68547\" stroke=\"#000000\" stroke-width=\".8\" xlink:href=\"#m7e295cd1f7\"/><g transform=\"translate(24.749 20.004) scale(.14 -.14)\"><defs><path id=\"DejaVuSans-34\" transform=\"scale(.015625)\" d=\"m2419 4116-1594-2491h1594v2491zm-166 550h794v-3041h666v-525h-666v-1100h-628v1100h-2106v609l1940 2957z\"/></defs><use xlink:href=\"#DejaVuSans-30\"/><use x=\"63.623047\" xlink:href=\"#DejaVuSans-2e\"/><use x=\"95.410156\" xlink:href=\"#DejaVuSans-34\"/></g><g transform=\"translate(17.838 185.86) rotate(-90) scale(.14 -.14)\"><defs><path id=\"DejaVuSans-50\" transform=\"scale(.015625)\" d=\"m1259 4147v-1753h794q441 0 681 228 241 228 241 650 0 419-241 647-240 228-681 228h-794zm-631 519h1425q785 0 1186-355 402-355 402-1039 0-691-402-1044-401-353-1186-353h-794v-1875h-631v4666z\"/><path id=\"DejaVuSans-72\" transform=\"scale(.015625)\" d=\"m2631 2963q-97 56-211 82-114 27-251 27-488 0-749-317t-261-911v-1844h-578v3500h578v-544q182 319 472 473 291 155 707 155 59 0 131-8 72-7 159-23l3-590z\"/><path id=\"DejaVuSans-6f\" transform=\"scale(.015625)\" d=\"m1959 3097q-462 0-731-361t-269-989 267-989q268-361 733-361 460 0 728 362 269 363 269 988 0 622-269 986-268 364-728 364zm0 487q750 0 1178-488 429-487 429-1349 0-859-429-1349-428-489-1178-489-753 0-1180 489-426 490-426 1349 0 862 426 1349 427 488 1180 488z\"/><path id=\"DejaVuSans-62\" transform=\"scale(.015625)\" d=\"m3116 1747q0 634-261 995t-717 361q-457 0-718-361t-261-995 261-995 718-361q456 0 717 361t261 995zm-1957 1222q182 312 458 463 277 152 661 152 638 0 1036-506 399-506 399-1331t-399-1332q-398-506-1036-506-384 0-661 152-276 152-458 464v-525h-578v4863h578v-1894z\"/><path id=\"DejaVuSans-61\" transform=\"scale(.015625)\" d=\"m2194 1759q-697 0-966-159t-269-544q0-306 202-486 202-179 548-179 479 0 768 339t289 901v128h-572zm1147 238v-1997h-575v531q-197-318-491-470t-719-152q-537 0-855 302-317 302-317 808 0 590 395 890 396 300 1180 300h807v57q0 397-261 614t-733 217q-300 0-585-72-284-72-546-216v532q315 122 612 182 297 61 578 61 760 0 1135-394 375-393 375-1193z\"/><path id=\"DejaVuSans-69\" transform=\"scale(.015625)\" d=\"m603 3500h575v-3500h-575v3500zm0 1363h575v-729h-575v729z\"/><path id=\"DejaVuSans-6c\" transform=\"scale(.015625)\" d=\"m603 4863h575v-4863h-575v4863z\"/><path id=\"DejaVuSans-74\" transform=\"scale(.015625)\" d=\"m1172 4494v-994h1184v-447h-1184v-1900q0-428 117-550t477-122h590v-481h-590q-666 0-919 248-253 249-253 905v1900h-422v447h422v994h578z\"/><path id=\"DejaVuSans-65\" transform=\"scale(.015625)\" d=\"m3597 1894v-281h-2644q38-594 358-905t892-311q331 0 642 81t618 244v-544q-310-131-635-200t-659-69q-838 0-1327 487-489 488-489 1320 0 859 464 1363 464 505 1252 505 706 0 1117-455 411-454 411-1235zm-575 169q-6 471-264 752-258 282-683 282-481 0-770-272t-333-766l2050 4z\"/><path id=\"DejaVuSans-73\" transform=\"scale(.015625)\" d=\"m2834 3397v-544q-243 125-506 187-262 63-544 63-428 0-642-131t-214-394q0-200 153-314t616-217l197-44q612-131 870-370t258-667q0-488-386-773-386-284-1061-284-281 0-586 55t-642 164v594q319-166 628-249 309-82 613-82 406 0 624 139 219 139 219 392 0 234-158 359-157 125-692 241l-200 47q-534 112-772 345-237 233-237 639 0 494 350 762 350 269 994 269 318 0 599-47 282-46 519-140z\"/></defs><use xlink:href=\"#DejaVuSans-50\"/><use x=\"58.552734\" xlink:href=\"#DejaVuSans-72\"/><use x=\"97.416016\" xlink:href=\"#DejaVuSans-6f\"/><use x=\"158.597656\" xlink:href=\"#DejaVuSans-62\"/><use x=\"222.074219\" xlink:href=\"#DejaVuSans-61\"/><use x=\"283.353516\" xlink:href=\"#DejaVuSans-62\"/><use x=\"346.830078\" xlink:href=\"#DejaVuSans-69\"/><use x=\"374.613281\" xlink:href=\"#DejaVuSans-6c\"/><use x=\"402.396484\" xlink:href=\"#DejaVuSans-69\"/><use x=\"430.179688\" xlink:href=\"#DejaVuSans-74\"/><use x=\"469.388672\" xlink:href=\"#DejaVuSans-69\"/><use x=\"497.171875\" xlink:href=\"#DejaVuSans-65\"/><use x=\"558.695312\" xlink:href=\"#DejaVuSans-73\"/></g><path d=\"m71.768 279h71.018v-225.21h-71.018z\" clip-path=\"url(#pea606302a6)\" fill=\"#648fff\"/><path d=\"m213.8 279h71.018v-226.5h-71.018z\" clip-path=\"url(#pea606302a6)\" fill=\"#648fff\"/><path d=\"m355.84 279h71.018v-209.08h-71.018z\" clip-path=\"url(#pea606302a6)\" fill=\"#648fff\"/><path d=\"m54.014 279v-271.8\" fill=\"none\" stroke=\"#000000\" stroke-linecap=\"square\" stroke-width=\".8\"/><path d=\"m444.61 279v-271.8\" fill=\"none\" stroke=\"#000000\" stroke-linecap=\"square\" stroke-width=\".8\"/><path d=\"m54.014 279h390.6\" fill=\"none\" stroke=\"#000000\" stroke-linecap=\"square\" stroke-width=\".8\"/><path d=\"m54.014 7.2h390.6\" fill=\"none\" stroke=\"#000000\" stroke-linecap=\"square\" stroke-width=\".8\"/><g transform=\"translate(92.963 40.45) scale(.1 -.1)\"><use xlink:href=\"#DejaVuSans-30\"/><use x=\"63.623047\" xlink:href=\"#DejaVuSans-2e\"/><use x=\"95.410156\" xlink:href=\"#DejaVuSans-33\"/><use x=\"159.033203\" xlink:href=\"#DejaVuSans-34\"/><use x=\"222.65625\" xlink:href=\"#DejaVuSans-31\"/></g><g transform=\"translate(235 39.095) scale(.1 -.1)\"><use xlink:href=\"#DejaVuSans-30\"/><use x=\"63.623047\" xlink:href=\"#DejaVuSans-2e\"/><use x=\"95.410156\" xlink:href=\"#DejaVuSans-33\"/><use x=\"159.033203\" xlink:href=\"#DejaVuSans-34\"/><use x=\"222.65625\" xlink:href=\"#DejaVuSans-33\"/></g><g transform=\"translate(377.04 57.39) scale(.1 -.1)\"><defs><path id=\"DejaVuSans-36\" transform=\"scale(.015625)\" d=\"m2113 2584q-425 0-674-291-248-290-248-796 0-503 248-796 249-292 674-292t673 292q248 293 248 796 0 506-248 796-248 291-673 291zm1253 1979v-575q-238 112-480 171-242 60-480 60-625 0-955-422-329-422-376-1275 184 272 462 417 279 145 613 145 703 0 1111-427 408-426 408-1160 0-719-425-1154-425-434-1131-434-810 0-1238 620-428 621-428 1799 0 1106 525 1764t1409 658q238 0 480-47t505-140z\"/></defs><use xlink:href=\"#DejaVuSans-30\"/><use x=\"63.623047\" xlink:href=\"#DejaVuSans-2e\"/><use x=\"95.410156\" xlink:href=\"#DejaVuSans-33\"/><use x=\"159.033203\" xlink:href=\"#DejaVuSans-31\"/><use x=\"222.65625\" xlink:href=\"#DejaVuSans-36\"/></g><defs><clipPath id=\"pea606302a6\"><rect x=\"54.014\" y=\"7.2\" width=\"390.6\" height=\"271.8\"/></clipPath></defs></svg>"
      ],
      "text/plain": [
       "<Figure size 504x360 with 1 Axes>"
      ]
     },
     "execution_count": 34,
     "metadata": {},
     "output_type": "execute_result"
    }
   ],
   "source": [
    "from qiskit.visualization import plot_histogram\n",
    "\n",
    "print('Results for z measurements:')\n",
    "counts = backend.run(qc_charlie.compose(meas_zz)).result().get_counts()\n",
    "plot_histogram(counts)"
   ]
  },
  {
   "cell_type": "markdown",
   "id": "fc5f4384",
   "metadata": {},
   "source": [
    "From this they make the observation that the qubits never both output `0` for z measurements.\n",
    "\n",
    "Next, let's see the results of an when Bob perfoms an x measurement and Alice performs a z measurement."
   ]
  },
  {
   "cell_type": "code",
   "execution_count": 35,
   "id": "3dc83a1e",
   "metadata": {},
   "outputs": [
    {
     "name": "stdout",
     "output_type": "stream",
     "text": [
      "Results for a z and an x measurement:\n"
     ]
    },
    {
     "data": {
      "image/svg+xml": [
       "<?xml version=\"1.0\" encoding=\"UTF-8\"?><!DOCTYPE svg  PUBLIC '-//W3C//DTD SVG 1.1//EN'  'http://www.w3.org/Graphics/SVG/1.1/DTD/svg11.dtd'><svg width=\"451.81pt\" height=\"319.76pt\" version=\"1.1\" viewBox=\"0 0 451.81 319.76\" xmlns=\"http://www.w3.org/2000/svg\" xmlns:xlink=\"http://www.w3.org/1999/xlink\"><defs><style type=\"text/css\">*{stroke-linecap:butt;stroke-linejoin:round;}</style></defs><path d=\"m0 319.76h451.81v-319.76h-451.81z\" fill=\"none\"/><path d=\"m54.014 284.19h390.6v-271.8h-390.6z\" fill=\"#ffffff\"/><defs><path id=\"mbd82507d4a\" d=\"m0 0v3.5\" stroke=\"#000000\" stroke-width=\".8\"/></defs><use x=\"107.277386\" y=\"284.186256\" stroke=\"#000000\" stroke-width=\".8\" xlink:href=\"#mbd82507d4a\"/><g transform=\"translate(107.86 311.57) rotate(-70) scale(.14 -.14)\"><defs><path id=\"DejaVuSans-30\" transform=\"scale(.015625)\" d=\"m2034 4250q-487 0-733-480-245-479-245-1442 0-959 245-1439 246-480 733-480 491 0 736 480 246 480 246 1439 0 963-246 1442-245 480-736 480zm0 500q785 0 1199-621 414-620 414-1801 0-1178-414-1799-414-620-1199-620-784 0-1198 620-414 621-414 1799 0 1181 414 1801 414 621 1198 621z\"/></defs><use xlink:href=\"#DejaVuSans-30\"/><use x=\"63.623047\" xlink:href=\"#DejaVuSans-30\"/></g><use x=\"249.31375\" y=\"284.186256\" stroke=\"#000000\" stroke-width=\".8\" xlink:href=\"#mbd82507d4a\"/><g transform=\"translate(249.9 311.57) rotate(-70) scale(.14 -.14)\"><defs><path id=\"DejaVuSans-31\" transform=\"scale(.015625)\" d=\"m794 531h1031v3560l-1122-225v575l1116 225h631v-4135h1031v-531h-2687v531z\"/></defs><use xlink:href=\"#DejaVuSans-30\"/><use x=\"63.623047\" xlink:href=\"#DejaVuSans-31\"/></g><use x=\"391.350114\" y=\"284.186256\" stroke=\"#000000\" stroke-width=\".8\" xlink:href=\"#mbd82507d4a\"/><g transform=\"translate(391.93 311.57) rotate(-70) scale(.14 -.14)\"><use xlink:href=\"#DejaVuSans-31\"/><use x=\"63.623047\" xlink:href=\"#DejaVuSans-30\"/></g><path d=\"m54.014 284.19h390.6\" clip-path=\"url(#p98b46e8d1d)\" fill=\"none\" stroke=\"#b0b0b0\" stroke-dasharray=\"2.96,1.28\" stroke-width=\".8\"/><defs><path id=\"m7081580c1e\" d=\"m0 0h-3.5\" stroke=\"#000000\" stroke-width=\".8\"/></defs><use x=\"54.01375\" y=\"284.186256\" stroke=\"#000000\" stroke-width=\".8\" xlink:href=\"#m7081580c1e\"/><g transform=\"translate(24.749 289.51) scale(.14 -.14)\"><defs><path id=\"DejaVuSans-2e\" transform=\"scale(.015625)\" d=\"m684 794h660v-794h-660v794z\"/></defs><use xlink:href=\"#DejaVuSans-30\"/><use x=\"63.623047\" xlink:href=\"#DejaVuSans-2e\"/><use x=\"95.410156\" xlink:href=\"#DejaVuSans-30\"/></g><path d=\"m54.014 216.27h390.6\" clip-path=\"url(#p98b46e8d1d)\" fill=\"none\" stroke=\"#b0b0b0\" stroke-dasharray=\"2.96,1.28\" stroke-width=\".8\"/><use x=\"54.01375\" y=\"216.269419\" stroke=\"#000000\" stroke-width=\".8\" xlink:href=\"#m7081580c1e\"/><g transform=\"translate(24.749 221.59) scale(.14 -.14)\"><defs><path id=\"DejaVuSans-32\" transform=\"scale(.015625)\" d=\"m1228 531h2203v-531h-2962v531q359 372 979 998 621 627 780 809 303 340 423 576 121 236 121 464 0 372-261 606-261 235-680 235-297 0-627-103-329-103-704-313v638q381 153 712 231 332 78 607 78 725 0 1156-363 431-362 431-968 0-288-108-546-107-257-392-607-78-91-497-524-418-433-1181-1211z\"/></defs><use xlink:href=\"#DejaVuSans-30\"/><use x=\"63.623047\" xlink:href=\"#DejaVuSans-2e\"/><use x=\"95.410156\" xlink:href=\"#DejaVuSans-32\"/></g><path d=\"m54.014 148.35h390.6\" clip-path=\"url(#p98b46e8d1d)\" fill=\"none\" stroke=\"#b0b0b0\" stroke-dasharray=\"2.96,1.28\" stroke-width=\".8\"/><use x=\"54.01375\" y=\"148.352581\" stroke=\"#000000\" stroke-width=\".8\" xlink:href=\"#m7081580c1e\"/><g transform=\"translate(24.749 153.67) scale(.14 -.14)\"><defs><path id=\"DejaVuSans-34\" transform=\"scale(.015625)\" d=\"m2419 4116-1594-2491h1594v2491zm-166 550h794v-3041h666v-525h-666v-1100h-628v1100h-2106v609l1940 2957z\"/></defs><use xlink:href=\"#DejaVuSans-30\"/><use x=\"63.623047\" xlink:href=\"#DejaVuSans-2e\"/><use x=\"95.410156\" xlink:href=\"#DejaVuSans-34\"/></g><path d=\"m54.014 80.436h390.6\" clip-path=\"url(#p98b46e8d1d)\" fill=\"none\" stroke=\"#b0b0b0\" stroke-dasharray=\"2.96,1.28\" stroke-width=\".8\"/><use x=\"54.01375\" y=\"80.435744\" stroke=\"#000000\" stroke-width=\".8\" xlink:href=\"#m7081580c1e\"/><g transform=\"translate(24.749 85.755) scale(.14 -.14)\"><defs><path id=\"DejaVuSans-36\" transform=\"scale(.015625)\" d=\"m2113 2584q-425 0-674-291-248-290-248-796 0-503 248-796 249-292 674-292t673 292q248 293 248 796 0 506-248 796-248 291-673 291zm1253 1979v-575q-238 112-480 171-242 60-480 60-625 0-955-422-329-422-376-1275 184 272 462 417 279 145 613 145 703 0 1111-427 408-426 408-1160 0-719-425-1154-425-434-1131-434-810 0-1238 620-428 621-428 1799 0 1106 525 1764t1409 658q238 0 480-47t505-140z\"/></defs><use xlink:href=\"#DejaVuSans-30\"/><use x=\"63.623047\" xlink:href=\"#DejaVuSans-2e\"/><use x=\"95.410156\" xlink:href=\"#DejaVuSans-36\"/></g><path d=\"m54.014 12.519h390.6\" clip-path=\"url(#p98b46e8d1d)\" fill=\"none\" stroke=\"#b0b0b0\" stroke-dasharray=\"2.96,1.28\" stroke-width=\".8\"/><use x=\"54.01375\" y=\"12.518906\" stroke=\"#000000\" stroke-width=\".8\" xlink:href=\"#m7081580c1e\"/><g transform=\"translate(24.749 17.838) scale(.14 -.14)\"><defs><path id=\"DejaVuSans-38\" transform=\"scale(.015625)\" d=\"m2034 2216q-450 0-708-241-257-241-257-662 0-422 257-663 258-241 708-241t709 242q260 243 260 662 0 421-258 662-257 241-711 241zm-631 268q-406 100-633 378-226 279-226 679 0 559 398 884 399 325 1092 325 697 0 1094-325t397-884q0-400-227-679-226-278-629-378 456-106 710-416 255-309 255-755 0-679-414-1042-414-362-1186-362-771 0-1186 362-414 363-414 1042 0 446 256 755 257 310 713 416zm-231 997q0-362 226-565 227-203 636-203 407 0 636 203 230 203 230 565 0 363-230 566-229 203-636 203-409 0-636-203-226-203-226-566z\"/></defs><use xlink:href=\"#DejaVuSans-30\"/><use x=\"63.623047\" xlink:href=\"#DejaVuSans-2e\"/><use x=\"95.410156\" xlink:href=\"#DejaVuSans-38\"/></g><g transform=\"translate(17.838 191.04) rotate(-90) scale(.14 -.14)\"><defs><path id=\"DejaVuSans-50\" transform=\"scale(.015625)\" d=\"m1259 4147v-1753h794q441 0 681 228 241 228 241 650 0 419-241 647-240 228-681 228h-794zm-631 519h1425q785 0 1186-355 402-355 402-1039 0-691-402-1044-401-353-1186-353h-794v-1875h-631v4666z\"/><path id=\"DejaVuSans-72\" transform=\"scale(.015625)\" d=\"m2631 2963q-97 56-211 82-114 27-251 27-488 0-749-317t-261-911v-1844h-578v3500h578v-544q182 319 472 473 291 155 707 155 59 0 131-8 72-7 159-23l3-590z\"/><path id=\"DejaVuSans-6f\" transform=\"scale(.015625)\" d=\"m1959 3097q-462 0-731-361t-269-989 267-989q268-361 733-361 460 0 728 362 269 363 269 988 0 622-269 986-268 364-728 364zm0 487q750 0 1178-488 429-487 429-1349 0-859-429-1349-428-489-1178-489-753 0-1180 489-426 490-426 1349 0 862 426 1349 427 488 1180 488z\"/><path id=\"DejaVuSans-62\" transform=\"scale(.015625)\" d=\"m3116 1747q0 634-261 995t-717 361q-457 0-718-361t-261-995 261-995 718-361q456 0 717 361t261 995zm-1957 1222q182 312 458 463 277 152 661 152 638 0 1036-506 399-506 399-1331t-399-1332q-398-506-1036-506-384 0-661 152-276 152-458 464v-525h-578v4863h578v-1894z\"/><path id=\"DejaVuSans-61\" transform=\"scale(.015625)\" d=\"m2194 1759q-697 0-966-159t-269-544q0-306 202-486 202-179 548-179 479 0 768 339t289 901v128h-572zm1147 238v-1997h-575v531q-197-318-491-470t-719-152q-537 0-855 302-317 302-317 808 0 590 395 890 396 300 1180 300h807v57q0 397-261 614t-733 217q-300 0-585-72-284-72-546-216v532q315 122 612 182 297 61 578 61 760 0 1135-394 375-393 375-1193z\"/><path id=\"DejaVuSans-69\" transform=\"scale(.015625)\" d=\"m603 3500h575v-3500h-575v3500zm0 1363h575v-729h-575v729z\"/><path id=\"DejaVuSans-6c\" transform=\"scale(.015625)\" d=\"m603 4863h575v-4863h-575v4863z\"/><path id=\"DejaVuSans-74\" transform=\"scale(.015625)\" d=\"m1172 4494v-994h1184v-447h-1184v-1900q0-428 117-550t477-122h590v-481h-590q-666 0-919 248-253 249-253 905v1900h-422v447h422v994h578z\"/><path id=\"DejaVuSans-65\" transform=\"scale(.015625)\" d=\"m3597 1894v-281h-2644q38-594 358-905t892-311q331 0 642 81t618 244v-544q-310-131-635-200t-659-69q-838 0-1327 487-489 488-489 1320 0 859 464 1363 464 505 1252 505 706 0 1117-455 411-454 411-1235zm-575 169q-6 471-264 752-258 282-683 282-481 0-770-272t-333-766l2050 4z\"/><path id=\"DejaVuSans-73\" transform=\"scale(.015625)\" d=\"m2834 3397v-544q-243 125-506 187-262 63-544 63-428 0-642-131t-214-394q0-200 153-314t616-217l197-44q612-131 870-370t258-667q0-488-386-773-386-284-1061-284-281 0-586 55t-642 164v594q319-166 628-249 309-82 613-82 406 0 624 139 219 139 219 392 0 234-158 359-157 125-692 241l-200 47q-534 112-772 345-237 233-237 639 0 494 350 762 350 269 994 269 318 0 599-47 282-46 519-140z\"/></defs><use xlink:href=\"#DejaVuSans-50\"/><use x=\"58.552734\" xlink:href=\"#DejaVuSans-72\"/><use x=\"97.416016\" xlink:href=\"#DejaVuSans-6f\"/><use x=\"158.597656\" xlink:href=\"#DejaVuSans-62\"/><use x=\"222.074219\" xlink:href=\"#DejaVuSans-61\"/><use x=\"283.353516\" xlink:href=\"#DejaVuSans-62\"/><use x=\"346.830078\" xlink:href=\"#DejaVuSans-69\"/><use x=\"374.613281\" xlink:href=\"#DejaVuSans-6c\"/><use x=\"402.396484\" xlink:href=\"#DejaVuSans-69\"/><use x=\"430.179688\" xlink:href=\"#DejaVuSans-74\"/><use x=\"469.388672\" xlink:href=\"#DejaVuSans-69\"/><use x=\"497.171875\" xlink:href=\"#DejaVuSans-65\"/><use x=\"558.695312\" xlink:href=\"#DejaVuSans-73\"/></g><path d=\"m71.768 284.19h71.018v-60.356h-71.018z\" clip-path=\"url(#p98b46e8d1d)\" fill=\"#648fff\"/><path d=\"m213.8 284.19h71.018v-52.728h-71.018z\" clip-path=\"url(#p98b46e8d1d)\" fill=\"#648fff\"/><path d=\"m355.84 284.19h71.018v-226.5h-71.018z\" clip-path=\"url(#p98b46e8d1d)\" fill=\"#648fff\"/><path d=\"m54.014 284.19v-271.8\" fill=\"none\" stroke=\"#000000\" stroke-linecap=\"square\" stroke-width=\".8\"/><path d=\"m444.61 284.19v-271.8\" fill=\"none\" stroke=\"#000000\" stroke-linecap=\"square\" stroke-width=\".8\"/><path d=\"m54.014 284.19h390.6\" fill=\"none\" stroke=\"#000000\" stroke-linecap=\"square\" stroke-width=\".8\"/><path d=\"m54.014 12.386h390.6\" fill=\"none\" stroke=\"#000000\" stroke-linecap=\"square\" stroke-width=\".8\"/><g transform=\"translate(92.963 218.73) scale(.1 -.1)\"><defs><path id=\"DejaVuSans-37\" transform=\"scale(.015625)\" d=\"m525 4666h3e3v-269l-1694-4397h-659l1594 4134h-2241v532z\"/></defs><use xlink:href=\"#DejaVuSans-30\"/><use x=\"63.623047\" xlink:href=\"#DejaVuSans-2e\"/><use x=\"95.410156\" xlink:href=\"#DejaVuSans-31\"/><use x=\"159.033203\" xlink:href=\"#DejaVuSans-37\"/><use x=\"222.65625\" xlink:href=\"#DejaVuSans-38\"/></g><g transform=\"translate(235 226.74) scale(.1 -.1)\"><defs><path id=\"DejaVuSans-35\" transform=\"scale(.015625)\" d=\"m691 4666h2478v-532h-1900v-1143q137 47 274 70 138 23 276 23 781 0 1237-428 457-428 457-1159 0-753-469-1171-469-417-1322-417-294 0-599 50-304 50-629 150v635q281-153 581-228t634-75q541 0 856 284 316 284 316 772 0 487-316 771-315 285-856 285-253 0-505-56-251-56-513-175v2344z\"/></defs><use xlink:href=\"#DejaVuSans-30\"/><use x=\"63.623047\" xlink:href=\"#DejaVuSans-2e\"/><use x=\"95.410156\" xlink:href=\"#DejaVuSans-31\"/><use x=\"159.033203\" xlink:href=\"#DejaVuSans-35\"/><use x=\"222.65625\" xlink:href=\"#DejaVuSans-35\"/></g><g transform=\"translate(377.04 44.282) scale(.1 -.1)\"><use xlink:href=\"#DejaVuSans-30\"/><use x=\"63.623047\" xlink:href=\"#DejaVuSans-2e\"/><use x=\"95.410156\" xlink:href=\"#DejaVuSans-36\"/><use x=\"159.033203\" xlink:href=\"#DejaVuSans-36\"/><use x=\"222.65625\" xlink:href=\"#DejaVuSans-37\"/></g><defs><clipPath id=\"p98b46e8d1d\"><rect x=\"54.014\" y=\"12.386\" width=\"390.6\" height=\"271.8\"/></clipPath></defs></svg>"
      ],
      "text/plain": [
       "<Figure size 504x360 with 1 Axes>"
      ]
     },
     "execution_count": 35,
     "metadata": {},
     "output_type": "execute_result"
    }
   ],
   "source": [
    "meas_zx = QuantumCircuit(2,2)\n",
    "meas_zx.h(0)\n",
    "meas_zx.measure([0,1],[0,1])\n",
    "\n",
    "print('Results for a z and an x measurement:')\n",
    "counts = backend.run(qc_charlie.compose(meas_zx)).result().get_counts()\n",
    "plot_histogram(counts)"
   ]
  },
  {
   "cell_type": "markdown",
   "id": "cf1070b3",
   "metadata": {},
   "source": [
    "In this case we find that the qubits never both output `1`. The same is true when Bob makes the z measurement and Alice does the x."
   ]
  },
  {
   "cell_type": "code",
   "execution_count": 36,
   "id": "3892d57c",
   "metadata": {
    "scrolled": false
   },
   "outputs": [
    {
     "name": "stdout",
     "output_type": "stream",
     "text": [
      "Results for a z and an x measurement:\n"
     ]
    },
    {
     "data": {
      "image/svg+xml": [
       "<?xml version=\"1.0\" encoding=\"UTF-8\"?><!DOCTYPE svg  PUBLIC '-//W3C//DTD SVG 1.1//EN'  'http://www.w3.org/Graphics/SVG/1.1/DTD/svg11.dtd'><svg width=\"451.81pt\" height=\"314.57pt\" version=\"1.1\" viewBox=\"0 0 451.81 314.57\" xmlns=\"http://www.w3.org/2000/svg\" xmlns:xlink=\"http://www.w3.org/1999/xlink\"><defs><style type=\"text/css\">*{stroke-linecap:butt;stroke-linejoin:round;}</style></defs><path d=\"m0 314.57h451.81v-314.57h-451.81z\" fill=\"none\"/><path d=\"m54.014 279h390.6v-271.8h-390.6z\" fill=\"#ffffff\"/><defs><path id=\"m0ea5a52874\" d=\"m0 0v3.5\" stroke=\"#000000\" stroke-width=\".8\"/></defs><use x=\"107.277386\" y=\"279\" stroke=\"#000000\" stroke-width=\".8\" xlink:href=\"#m0ea5a52874\"/><g transform=\"translate(107.86 306.38) rotate(-70) scale(.14 -.14)\"><defs><path id=\"DejaVuSans-30\" transform=\"scale(.015625)\" d=\"m2034 4250q-487 0-733-480-245-479-245-1442 0-959 245-1439 246-480 733-480 491 0 736 480 246 480 246 1439 0 963-246 1442-245 480-736 480zm0 500q785 0 1199-621 414-620 414-1801 0-1178-414-1799-414-620-1199-620-784 0-1198 620-414 621-414 1799 0 1181 414 1801 414 621 1198 621z\"/></defs><use xlink:href=\"#DejaVuSans-30\"/><use x=\"63.623047\" xlink:href=\"#DejaVuSans-30\"/></g><use x=\"249.31375\" y=\"279\" stroke=\"#000000\" stroke-width=\".8\" xlink:href=\"#m0ea5a52874\"/><g transform=\"translate(249.9 306.38) rotate(-70) scale(.14 -.14)\"><defs><path id=\"DejaVuSans-31\" transform=\"scale(.015625)\" d=\"m794 531h1031v3560l-1122-225v575l1116 225h631v-4135h1031v-531h-2687v531z\"/></defs><use xlink:href=\"#DejaVuSans-30\"/><use x=\"63.623047\" xlink:href=\"#DejaVuSans-31\"/></g><use x=\"391.350114\" y=\"279\" stroke=\"#000000\" stroke-width=\".8\" xlink:href=\"#m0ea5a52874\"/><g transform=\"translate(391.93 306.38) rotate(-70) scale(.14 -.14)\"><use xlink:href=\"#DejaVuSans-31\"/><use x=\"63.623047\" xlink:href=\"#DejaVuSans-30\"/></g><path d=\"m54.014 279h390.6\" clip-path=\"url(#p4c6d04bdeb)\" fill=\"none\" stroke=\"#b0b0b0\" stroke-dasharray=\"2.96,1.28\" stroke-width=\".8\"/><defs><path id=\"mf65109dced\" d=\"m0 0h-3.5\" stroke=\"#000000\" stroke-width=\".8\"/></defs><use x=\"54.01375\" y=\"279\" stroke=\"#000000\" stroke-width=\".8\" xlink:href=\"#mf65109dced\"/><g transform=\"translate(24.749 284.32) scale(.14 -.14)\"><defs><path id=\"DejaVuSans-2e\" transform=\"scale(.015625)\" d=\"m684 794h660v-794h-660v794z\"/></defs><use xlink:href=\"#DejaVuSans-30\"/><use x=\"63.623047\" xlink:href=\"#DejaVuSans-2e\"/><use x=\"95.410156\" xlink:href=\"#DejaVuSans-30\"/></g><path d=\"m54.014 210.88h390.6\" clip-path=\"url(#p4c6d04bdeb)\" fill=\"none\" stroke=\"#b0b0b0\" stroke-dasharray=\"2.96,1.28\" stroke-width=\".8\"/><use x=\"54.01375\" y=\"210.8837\" stroke=\"#000000\" stroke-width=\".8\" xlink:href=\"#mf65109dced\"/><g transform=\"translate(24.749 216.2) scale(.14 -.14)\"><defs><path id=\"DejaVuSans-32\" transform=\"scale(.015625)\" d=\"m1228 531h2203v-531h-2962v531q359 372 979 998 621 627 780 809 303 340 423 576 121 236 121 464 0 372-261 606-261 235-680 235-297 0-627-103-329-103-704-313v638q381 153 712 231 332 78 607 78 725 0 1156-363 431-362 431-968 0-288-108-546-107-257-392-607-78-91-497-524-418-433-1181-1211z\"/></defs><use xlink:href=\"#DejaVuSans-30\"/><use x=\"63.623047\" xlink:href=\"#DejaVuSans-2e\"/><use x=\"95.410156\" xlink:href=\"#DejaVuSans-32\"/></g><path d=\"m54.014 142.77h390.6\" clip-path=\"url(#p4c6d04bdeb)\" fill=\"none\" stroke=\"#b0b0b0\" stroke-dasharray=\"2.96,1.28\" stroke-width=\".8\"/><use x=\"54.01375\" y=\"142.767401\" stroke=\"#000000\" stroke-width=\".8\" xlink:href=\"#mf65109dced\"/><g transform=\"translate(24.749 148.09) scale(.14 -.14)\"><defs><path id=\"DejaVuSans-34\" transform=\"scale(.015625)\" d=\"m2419 4116-1594-2491h1594v2491zm-166 550h794v-3041h666v-525h-666v-1100h-628v1100h-2106v609l1940 2957z\"/></defs><use xlink:href=\"#DejaVuSans-30\"/><use x=\"63.623047\" xlink:href=\"#DejaVuSans-2e\"/><use x=\"95.410156\" xlink:href=\"#DejaVuSans-34\"/></g><path d=\"m54.014 74.651h390.6\" clip-path=\"url(#p4c6d04bdeb)\" fill=\"none\" stroke=\"#b0b0b0\" stroke-dasharray=\"2.96,1.28\" stroke-width=\".8\"/><use x=\"54.01375\" y=\"74.651101\" stroke=\"#000000\" stroke-width=\".8\" xlink:href=\"#mf65109dced\"/><g transform=\"translate(24.749 79.97) scale(.14 -.14)\"><defs><path id=\"DejaVuSans-36\" transform=\"scale(.015625)\" d=\"m2113 2584q-425 0-674-291-248-290-248-796 0-503 248-796 249-292 674-292t673 292q248 293 248 796 0 506-248 796-248 291-673 291zm1253 1979v-575q-238 112-480 171-242 60-480 60-625 0-955-422-329-422-376-1275 184 272 462 417 279 145 613 145 703 0 1111-427 408-426 408-1160 0-719-425-1154-425-434-1131-434-810 0-1238 620-428 621-428 1799 0 1106 525 1764t1409 658q238 0 480-47t505-140z\"/></defs><use xlink:href=\"#DejaVuSans-30\"/><use x=\"63.623047\" xlink:href=\"#DejaVuSans-2e\"/><use x=\"95.410156\" xlink:href=\"#DejaVuSans-36\"/></g><g transform=\"translate(17.838 185.86) rotate(-90) scale(.14 -.14)\"><defs><path id=\"DejaVuSans-50\" transform=\"scale(.015625)\" d=\"m1259 4147v-1753h794q441 0 681 228 241 228 241 650 0 419-241 647-240 228-681 228h-794zm-631 519h1425q785 0 1186-355 402-355 402-1039 0-691-402-1044-401-353-1186-353h-794v-1875h-631v4666z\"/><path id=\"DejaVuSans-72\" transform=\"scale(.015625)\" d=\"m2631 2963q-97 56-211 82-114 27-251 27-488 0-749-317t-261-911v-1844h-578v3500h578v-544q182 319 472 473 291 155 707 155 59 0 131-8 72-7 159-23l3-590z\"/><path id=\"DejaVuSans-6f\" transform=\"scale(.015625)\" d=\"m1959 3097q-462 0-731-361t-269-989 267-989q268-361 733-361 460 0 728 362 269 363 269 988 0 622-269 986-268 364-728 364zm0 487q750 0 1178-488 429-487 429-1349 0-859-429-1349-428-489-1178-489-753 0-1180 489-426 490-426 1349 0 862 426 1349 427 488 1180 488z\"/><path id=\"DejaVuSans-62\" transform=\"scale(.015625)\" d=\"m3116 1747q0 634-261 995t-717 361q-457 0-718-361t-261-995 261-995 718-361q456 0 717 361t261 995zm-1957 1222q182 312 458 463 277 152 661 152 638 0 1036-506 399-506 399-1331t-399-1332q-398-506-1036-506-384 0-661 152-276 152-458 464v-525h-578v4863h578v-1894z\"/><path id=\"DejaVuSans-61\" transform=\"scale(.015625)\" d=\"m2194 1759q-697 0-966-159t-269-544q0-306 202-486 202-179 548-179 479 0 768 339t289 901v128h-572zm1147 238v-1997h-575v531q-197-318-491-470t-719-152q-537 0-855 302-317 302-317 808 0 590 395 890 396 300 1180 300h807v57q0 397-261 614t-733 217q-300 0-585-72-284-72-546-216v532q315 122 612 182 297 61 578 61 760 0 1135-394 375-393 375-1193z\"/><path id=\"DejaVuSans-69\" transform=\"scale(.015625)\" d=\"m603 3500h575v-3500h-575v3500zm0 1363h575v-729h-575v729z\"/><path id=\"DejaVuSans-6c\" transform=\"scale(.015625)\" d=\"m603 4863h575v-4863h-575v4863z\"/><path id=\"DejaVuSans-74\" transform=\"scale(.015625)\" d=\"m1172 4494v-994h1184v-447h-1184v-1900q0-428 117-550t477-122h590v-481h-590q-666 0-919 248-253 249-253 905v1900h-422v447h422v994h578z\"/><path id=\"DejaVuSans-65\" transform=\"scale(.015625)\" d=\"m3597 1894v-281h-2644q38-594 358-905t892-311q331 0 642 81t618 244v-544q-310-131-635-200t-659-69q-838 0-1327 487-489 488-489 1320 0 859 464 1363 464 505 1252 505 706 0 1117-455 411-454 411-1235zm-575 169q-6 471-264 752-258 282-683 282-481 0-770-272t-333-766l2050 4z\"/><path id=\"DejaVuSans-73\" transform=\"scale(.015625)\" d=\"m2834 3397v-544q-243 125-506 187-262 63-544 63-428 0-642-131t-214-394q0-200 153-314t616-217l197-44q612-131 870-370t258-667q0-488-386-773-386-284-1061-284-281 0-586 55t-642 164v594q319-166 628-249 309-82 613-82 406 0 624 139 219 139 219 392 0 234-158 359-157 125-692 241l-200 47q-534 112-772 345-237 233-237 639 0 494 350 762 350 269 994 269 318 0 599-47 282-46 519-140z\"/></defs><use xlink:href=\"#DejaVuSans-50\"/><use x=\"58.552734\" xlink:href=\"#DejaVuSans-72\"/><use x=\"97.416016\" xlink:href=\"#DejaVuSans-6f\"/><use x=\"158.597656\" xlink:href=\"#DejaVuSans-62\"/><use x=\"222.074219\" xlink:href=\"#DejaVuSans-61\"/><use x=\"283.353516\" xlink:href=\"#DejaVuSans-62\"/><use x=\"346.830078\" xlink:href=\"#DejaVuSans-69\"/><use x=\"374.613281\" xlink:href=\"#DejaVuSans-6c\"/><use x=\"402.396484\" xlink:href=\"#DejaVuSans-69\"/><use x=\"430.179688\" xlink:href=\"#DejaVuSans-74\"/><use x=\"469.388672\" xlink:href=\"#DejaVuSans-69\"/><use x=\"497.171875\" xlink:href=\"#DejaVuSans-65\"/><use x=\"558.695312\" xlink:href=\"#DejaVuSans-73\"/></g><path d=\"m71.768 279h71.018v-56.542h-71.018z\" clip-path=\"url(#p4c6d04bdeb)\" fill=\"#648fff\"/><path d=\"m213.8 279h71.018v-57.54h-71.018z\" clip-path=\"url(#p4c6d04bdeb)\" fill=\"#648fff\"/><path d=\"m355.84 279h71.018v-226.5h-71.018z\" clip-path=\"url(#p4c6d04bdeb)\" fill=\"#648fff\"/><path d=\"m54.014 279v-271.8\" fill=\"none\" stroke=\"#000000\" stroke-linecap=\"square\" stroke-width=\".8\"/><path d=\"m444.61 279v-271.8\" fill=\"none\" stroke=\"#000000\" stroke-linecap=\"square\" stroke-width=\".8\"/><path d=\"m54.014 279h390.6\" fill=\"none\" stroke=\"#000000\" stroke-linecap=\"square\" stroke-width=\".8\"/><path d=\"m54.014 7.2h390.6\" fill=\"none\" stroke=\"#000000\" stroke-linecap=\"square\" stroke-width=\".8\"/><g transform=\"translate(92.963 217.55) scale(.1 -.1)\"><use xlink:href=\"#DejaVuSans-30\"/><use x=\"63.623047\" xlink:href=\"#DejaVuSans-2e\"/><use x=\"95.410156\" xlink:href=\"#DejaVuSans-31\"/><use x=\"159.033203\" xlink:href=\"#DejaVuSans-36\"/><use x=\"222.65625\" xlink:href=\"#DejaVuSans-36\"/></g><g transform=\"translate(235 216.5) scale(.1 -.1)\"><defs><path id=\"DejaVuSans-39\" transform=\"scale(.015625)\" d=\"m703 97v575q238-113 481-172 244-59 479-59 625 0 954 420 330 420 377 1277-181-269-460-413-278-144-615-144-700 0-1108 423-408 424-408 1159 0 718 425 1152 425 435 1131 435 810 0 1236-621 427-620 427-1801 0-1103-524-1761-523-658-1407-658-238 0-482 47-243 47-506 141zm1256 1978q425 0 673 290 249 291 249 798 0 503-249 795-248 292-673 292t-673-292-248-795q0-507 248-798 248-290 673-290z\"/></defs><use xlink:href=\"#DejaVuSans-30\"/><use x=\"63.623047\" xlink:href=\"#DejaVuSans-2e\"/><use x=\"95.410156\" xlink:href=\"#DejaVuSans-31\"/><use x=\"159.033203\" xlink:href=\"#DejaVuSans-36\"/><use x=\"222.65625\" xlink:href=\"#DejaVuSans-39\"/></g><g transform=\"translate(377.04 39.095) scale(.1 -.1)\"><defs><path id=\"DejaVuSans-35\" transform=\"scale(.015625)\" d=\"m691 4666h2478v-532h-1900v-1143q137 47 274 70 138 23 276 23 781 0 1237-428 457-428 457-1159 0-753-469-1171-469-417-1322-417-294 0-599 50-304 50-629 150v635q281-153 581-228t634-75q541 0 856 284 316 284 316 772 0 487-316 771-315 285-856 285-253 0-505-56-251-56-513-175v2344z\"/></defs><use xlink:href=\"#DejaVuSans-30\"/><use x=\"63.623047\" xlink:href=\"#DejaVuSans-2e\"/><use x=\"95.410156\" xlink:href=\"#DejaVuSans-36\"/><use x=\"159.033203\" xlink:href=\"#DejaVuSans-36\"/><use x=\"222.65625\" xlink:href=\"#DejaVuSans-35\"/></g><defs><clipPath id=\"p4c6d04bdeb\"><rect x=\"54.014\" y=\"7.2\" width=\"390.6\" height=\"271.8\"/></clipPath></defs></svg>"
      ],
      "text/plain": [
       "<Figure size 504x360 with 1 Axes>"
      ]
     },
     "execution_count": 36,
     "metadata": {},
     "output_type": "execute_result"
    }
   ],
   "source": [
    "meas_xz = QuantumCircuit(2,2)\n",
    "meas_xz.h(1)\n",
    "meas_xz.measure([0,1],[0,1])\n",
    "\n",
    "print('Results for an x and a z measurement:')\n",
    "counts = backend.run(qc_charlie.compose(meas_xz)).result().get_counts()\n",
    "plot_histogram(counts)"
   ]
  },
  {
   "cell_type": "markdown",
   "id": "dbd51219",
   "metadata": {},
   "source": [
    "With this information, Alice and Bob can begin to speculate about what would happen if they both performed an x measurement.\n",
    "\n",
    "They can summarize their results so far in the following two observations:\n",
    "\n",
    "1. If z measurements are made on both qubits, they never both output `0`;\n",
    "2. If an x measurement of one qubit outputs `1`, a z measurement of the other will output `0` (because the `11` result never occurs in these cases).\n",
    "\n",
    "These correspond exactly to the observations made for the colored shapes in the classical scenario. If we apply the same logic as we did in that case, we can analyse the case where both Alice and Bob make an x measurement, and they both get the result `1`. Bob would then be able to apply observation 2 and infer that, Alice would certainly have gotten a `0` if she had instead done a z measurement. Alice can do the same, inferring that Bob would have gotten a `1` if he'd have made a z measurement. So together they conclude that, if they had both made z measurements, they would both have gotten the output `0`. Since observation 1 shows us that such a result would be impossible, Alice and Bob could predict that the `11` result will never occur.\n",
    "\n",
    "So let's see if they would be right."
   ]
  },
  {
   "cell_type": "code",
   "execution_count": 37,
   "id": "8005eb57",
   "metadata": {},
   "outputs": [
    {
     "name": "stdout",
     "output_type": "stream",
     "text": [
      "Results for a z and an x measurement:\n"
     ]
    },
    {
     "data": {
      "image/svg+xml": [
       "<?xml version=\"1.0\" encoding=\"UTF-8\"?><!DOCTYPE svg  PUBLIC '-//W3C//DTD SVG 1.1//EN'  'http://www.w3.org/Graphics/SVG/1.1/DTD/svg11.dtd'><svg width=\"451.81pt\" height=\"314.57pt\" version=\"1.1\" viewBox=\"0 0 451.81 314.57\" xmlns=\"http://www.w3.org/2000/svg\" xmlns:xlink=\"http://www.w3.org/1999/xlink\"><defs><style type=\"text/css\">*{stroke-linecap:butt;stroke-linejoin:round;}</style></defs><path d=\"m0 314.57h451.81v-314.57h-451.81z\" fill=\"none\"/><path d=\"m54.014 279h390.6v-271.8h-390.6z\" fill=\"#ffffff\"/><defs><path id=\"maa1bbeffba\" d=\"m0 0v3.5\" stroke=\"#000000\" stroke-width=\".8\"/></defs><use x=\"97.131932\" y=\"279\" stroke=\"#000000\" stroke-width=\".8\" xlink:href=\"#maa1bbeffba\"/><g transform=\"translate(97.716 306.38) rotate(-70) scale(.14 -.14)\"><defs><path id=\"DejaVuSans-30\" transform=\"scale(.015625)\" d=\"m2034 4250q-487 0-733-480-245-479-245-1442 0-959 245-1439 246-480 733-480 491 0 736 480 246 480 246 1439 0 963-246 1442-245 480-736 480zm0 500q785 0 1199-621 414-620 414-1801 0-1178-414-1799-414-620-1199-620-784 0-1198 620-414 621-414 1799 0 1181 414 1801 414 621 1198 621z\"/></defs><use xlink:href=\"#DejaVuSans-30\"/><use x=\"63.623047\" xlink:href=\"#DejaVuSans-30\"/></g><use x=\"198.586477\" y=\"279\" stroke=\"#000000\" stroke-width=\".8\" xlink:href=\"#maa1bbeffba\"/><g transform=\"translate(199.17 306.38) rotate(-70) scale(.14 -.14)\"><defs><path id=\"DejaVuSans-31\" transform=\"scale(.015625)\" d=\"m794 531h1031v3560l-1122-225v575l1116 225h631v-4135h1031v-531h-2687v531z\"/></defs><use xlink:href=\"#DejaVuSans-30\"/><use x=\"63.623047\" xlink:href=\"#DejaVuSans-31\"/></g><use x=\"300.041023\" y=\"279\" stroke=\"#000000\" stroke-width=\".8\" xlink:href=\"#maa1bbeffba\"/><g transform=\"translate(300.62 306.38) rotate(-70) scale(.14 -.14)\"><use xlink:href=\"#DejaVuSans-31\"/><use x=\"63.623047\" xlink:href=\"#DejaVuSans-30\"/></g><use x=\"401.495568\" y=\"279\" stroke=\"#000000\" stroke-width=\".8\" xlink:href=\"#maa1bbeffba\"/><g transform=\"translate(402.08 306.38) rotate(-70) scale(.14 -.14)\"><use xlink:href=\"#DejaVuSans-31\"/><use x=\"63.623047\" xlink:href=\"#DejaVuSans-31\"/></g><path d=\"m54.014 279h390.6\" clip-path=\"url(#p829939d965)\" fill=\"none\" stroke=\"#b0b0b0\" stroke-dasharray=\"2.96,1.28\" stroke-width=\".8\"/><defs><path id=\"me40ae19893\" d=\"m0 0h-3.5\" stroke=\"#000000\" stroke-width=\".8\"/></defs><use x=\"54.01375\" y=\"279\" stroke=\"#000000\" stroke-width=\".8\" xlink:href=\"#me40ae19893\"/><g transform=\"translate(24.749 284.32) scale(.14 -.14)\"><defs><path id=\"DejaVuSans-2e\" transform=\"scale(.015625)\" d=\"m684 794h660v-794h-660v794z\"/></defs><use xlink:href=\"#DejaVuSans-30\"/><use x=\"63.623047\" xlink:href=\"#DejaVuSans-2e\"/><use x=\"95.410156\" xlink:href=\"#DejaVuSans-30\"/></g><path d=\"m54.014 217.31h390.6\" clip-path=\"url(#p829939d965)\" fill=\"none\" stroke=\"#b0b0b0\" stroke-dasharray=\"2.96,1.28\" stroke-width=\".8\"/><use x=\"54.01375\" y=\"217.314894\" stroke=\"#000000\" stroke-width=\".8\" xlink:href=\"#me40ae19893\"/><g transform=\"translate(24.749 222.63) scale(.14 -.14)\"><defs><path id=\"DejaVuSans-32\" transform=\"scale(.015625)\" d=\"m1228 531h2203v-531h-2962v531q359 372 979 998 621 627 780 809 303 340 423 576 121 236 121 464 0 372-261 606-261 235-680 235-297 0-627-103-329-103-704-313v638q381 153 712 231 332 78 607 78 725 0 1156-363 431-362 431-968 0-288-108-546-107-257-392-607-78-91-497-524-418-433-1181-1211z\"/></defs><use xlink:href=\"#DejaVuSans-30\"/><use x=\"63.623047\" xlink:href=\"#DejaVuSans-2e\"/><use x=\"95.410156\" xlink:href=\"#DejaVuSans-32\"/></g><path d=\"m54.014 155.63h390.6\" clip-path=\"url(#p829939d965)\" fill=\"none\" stroke=\"#b0b0b0\" stroke-dasharray=\"2.96,1.28\" stroke-width=\".8\"/><use x=\"54.01375\" y=\"155.629787\" stroke=\"#000000\" stroke-width=\".8\" xlink:href=\"#me40ae19893\"/><g transform=\"translate(24.749 160.95) scale(.14 -.14)\"><defs><path id=\"DejaVuSans-34\" transform=\"scale(.015625)\" d=\"m2419 4116-1594-2491h1594v2491zm-166 550h794v-3041h666v-525h-666v-1100h-628v1100h-2106v609l1940 2957z\"/></defs><use xlink:href=\"#DejaVuSans-30\"/><use x=\"63.623047\" xlink:href=\"#DejaVuSans-2e\"/><use x=\"95.410156\" xlink:href=\"#DejaVuSans-34\"/></g><path d=\"m54.014 93.945h390.6\" clip-path=\"url(#p829939d965)\" fill=\"none\" stroke=\"#b0b0b0\" stroke-dasharray=\"2.96,1.28\" stroke-width=\".8\"/><use x=\"54.01375\" y=\"93.944681\" stroke=\"#000000\" stroke-width=\".8\" xlink:href=\"#me40ae19893\"/><g transform=\"translate(24.749 99.264) scale(.14 -.14)\"><defs><path id=\"DejaVuSans-36\" transform=\"scale(.015625)\" d=\"m2113 2584q-425 0-674-291-248-290-248-796 0-503 248-796 249-292 674-292t673 292q248 293 248 796 0 506-248 796-248 291-673 291zm1253 1979v-575q-238 112-480 171-242 60-480 60-625 0-955-422-329-422-376-1275 184 272 462 417 279 145 613 145 703 0 1111-427 408-426 408-1160 0-719-425-1154-425-434-1131-434-810 0-1238 620-428 621-428 1799 0 1106 525 1764t1409 658q238 0 480-47t505-140z\"/></defs><use xlink:href=\"#DejaVuSans-30\"/><use x=\"63.623047\" xlink:href=\"#DejaVuSans-2e\"/><use x=\"95.410156\" xlink:href=\"#DejaVuSans-36\"/></g><path d=\"m54.014 32.26h390.6\" clip-path=\"url(#p829939d965)\" fill=\"none\" stroke=\"#b0b0b0\" stroke-dasharray=\"2.96,1.28\" stroke-width=\".8\"/><use x=\"54.01375\" y=\"32.259574\" stroke=\"#000000\" stroke-width=\".8\" xlink:href=\"#me40ae19893\"/><g transform=\"translate(24.749 37.578) scale(.14 -.14)\"><defs><path id=\"DejaVuSans-38\" transform=\"scale(.015625)\" d=\"m2034 2216q-450 0-708-241-257-241-257-662 0-422 257-663 258-241 708-241t709 242q260 243 260 662 0 421-258 662-257 241-711 241zm-631 268q-406 100-633 378-226 279-226 679 0 559 398 884 399 325 1092 325 697 0 1094-325t397-884q0-400-227-679-226-278-629-378 456-106 710-416 255-309 255-755 0-679-414-1042-414-362-1186-362-771 0-1186 362-414 363-414 1042 0 446 256 755 257 310 713 416zm-231 997q0-362 226-565 227-203 636-203 407 0 636 203 230 203 230 565 0 363-230 566-229 203-636 203-409 0-636-203-226-203-226-566z\"/></defs><use xlink:href=\"#DejaVuSans-30\"/><use x=\"63.623047\" xlink:href=\"#DejaVuSans-2e\"/><use x=\"95.410156\" xlink:href=\"#DejaVuSans-38\"/></g><g transform=\"translate(17.838 185.86) rotate(-90) scale(.14 -.14)\"><defs><path id=\"DejaVuSans-50\" transform=\"scale(.015625)\" d=\"m1259 4147v-1753h794q441 0 681 228 241 228 241 650 0 419-241 647-240 228-681 228h-794zm-631 519h1425q785 0 1186-355 402-355 402-1039 0-691-402-1044-401-353-1186-353h-794v-1875h-631v4666z\"/><path id=\"DejaVuSans-72\" transform=\"scale(.015625)\" d=\"m2631 2963q-97 56-211 82-114 27-251 27-488 0-749-317t-261-911v-1844h-578v3500h578v-544q182 319 472 473 291 155 707 155 59 0 131-8 72-7 159-23l3-590z\"/><path id=\"DejaVuSans-6f\" transform=\"scale(.015625)\" d=\"m1959 3097q-462 0-731-361t-269-989 267-989q268-361 733-361 460 0 728 362 269 363 269 988 0 622-269 986-268 364-728 364zm0 487q750 0 1178-488 429-487 429-1349 0-859-429-1349-428-489-1178-489-753 0-1180 489-426 490-426 1349 0 862 426 1349 427 488 1180 488z\"/><path id=\"DejaVuSans-62\" transform=\"scale(.015625)\" d=\"m3116 1747q0 634-261 995t-717 361q-457 0-718-361t-261-995 261-995 718-361q456 0 717 361t261 995zm-1957 1222q182 312 458 463 277 152 661 152 638 0 1036-506 399-506 399-1331t-399-1332q-398-506-1036-506-384 0-661 152-276 152-458 464v-525h-578v4863h578v-1894z\"/><path id=\"DejaVuSans-61\" transform=\"scale(.015625)\" d=\"m2194 1759q-697 0-966-159t-269-544q0-306 202-486 202-179 548-179 479 0 768 339t289 901v128h-572zm1147 238v-1997h-575v531q-197-318-491-470t-719-152q-537 0-855 302-317 302-317 808 0 590 395 890 396 300 1180 300h807v57q0 397-261 614t-733 217q-300 0-585-72-284-72-546-216v532q315 122 612 182 297 61 578 61 760 0 1135-394 375-393 375-1193z\"/><path id=\"DejaVuSans-69\" transform=\"scale(.015625)\" d=\"m603 3500h575v-3500h-575v3500zm0 1363h575v-729h-575v729z\"/><path id=\"DejaVuSans-6c\" transform=\"scale(.015625)\" d=\"m603 4863h575v-4863h-575v4863z\"/><path id=\"DejaVuSans-74\" transform=\"scale(.015625)\" d=\"m1172 4494v-994h1184v-447h-1184v-1900q0-428 117-550t477-122h590v-481h-590q-666 0-919 248-253 249-253 905v1900h-422v447h422v994h578z\"/><path id=\"DejaVuSans-65\" transform=\"scale(.015625)\" d=\"m3597 1894v-281h-2644q38-594 358-905t892-311q331 0 642 81t618 244v-544q-310-131-635-200t-659-69q-838 0-1327 487-489 488-489 1320 0 859 464 1363 464 505 1252 505 706 0 1117-455 411-454 411-1235zm-575 169q-6 471-264 752-258 282-683 282-481 0-770-272t-333-766l2050 4z\"/><path id=\"DejaVuSans-73\" transform=\"scale(.015625)\" d=\"m2834 3397v-544q-243 125-506 187-262 63-544 63-428 0-642-131t-214-394q0-200 153-314t616-217l197-44q612-131 870-370t258-667q0-488-386-773-386-284-1061-284-281 0-586 55t-642 164v594q319-166 628-249 309-82 613-82 406 0 624 139 219 139 219 392 0 234-158 359-157 125-692 241l-200 47q-534 112-772 345-237 233-237 639 0 494 350 762 350 269 994 269 318 0 599-47 282-46 519-140z\"/></defs><use xlink:href=\"#DejaVuSans-50\"/><use x=\"58.552734\" xlink:href=\"#DejaVuSans-72\"/><use x=\"97.416016\" xlink:href=\"#DejaVuSans-6f\"/><use x=\"158.597656\" xlink:href=\"#DejaVuSans-62\"/><use x=\"222.074219\" xlink:href=\"#DejaVuSans-61\"/><use x=\"283.353516\" xlink:href=\"#DejaVuSans-62\"/><use x=\"346.830078\" xlink:href=\"#DejaVuSans-69\"/><use x=\"374.613281\" xlink:href=\"#DejaVuSans-6c\"/><use x=\"402.396484\" xlink:href=\"#DejaVuSans-69\"/><use x=\"430.179688\" xlink:href=\"#DejaVuSans-74\"/><use x=\"469.388672\" xlink:href=\"#DejaVuSans-69\"/><use x=\"497.171875\" xlink:href=\"#DejaVuSans-65\"/><use x=\"558.695312\" xlink:href=\"#DejaVuSans-73\"/></g><path d=\"m71.768 279h50.727v-226.5h-50.727z\" clip-path=\"url(#p829939d965)\" fill=\"#648fff\"/><path d=\"m173.22 279h50.727v-28.915h-50.727z\" clip-path=\"url(#p829939d965)\" fill=\"#648fff\"/><path d=\"m274.68 279h50.727v-24.397h-50.727z\" clip-path=\"url(#p829939d965)\" fill=\"#648fff\"/><path d=\"m376.13 279h50.727v-28.614h-50.727z\" clip-path=\"url(#p829939d965)\" fill=\"#648fff\"/><path d=\"m54.014 279v-271.8\" fill=\"none\" stroke=\"#000000\" stroke-linecap=\"square\" stroke-width=\".8\"/><path d=\"m444.61 279v-271.8\" fill=\"none\" stroke=\"#000000\" stroke-linecap=\"square\" stroke-width=\".8\"/><path d=\"m54.014 279h390.6\" fill=\"none\" stroke=\"#000000\" stroke-linecap=\"square\" stroke-width=\".8\"/><path d=\"m54.014 7.2h390.6\" fill=\"none\" stroke=\"#000000\" stroke-linecap=\"square\" stroke-width=\".8\"/><g transform=\"translate(82.818 39.095) scale(.1 -.1)\"><defs><path id=\"DejaVuSans-37\" transform=\"scale(.015625)\" d=\"m525 4666h3e3v-269l-1694-4397h-659l1594 4134h-2241v532z\"/><path id=\"DejaVuSans-33\" transform=\"scale(.015625)\" d=\"m2597 2516q453-97 707-404 255-306 255-756 0-690-475-1069-475-378-1350-378-293 0-604 58t-642 174v609q262-153 574-231 313-78 654-78 593 0 904 234t311 681q0 413-289 645-289 233-804 233h-544v519h569q465 0 712 186t247 536q0 359-255 551-254 193-729 193-260 0-557-57-297-56-653-174v562q360 100 674 150t592 50q719 0 1137-327 419-326 419-882 0-388-222-655t-631-370z\"/></defs><use xlink:href=\"#DejaVuSans-30\"/><use x=\"63.623047\" xlink:href=\"#DejaVuSans-2e\"/><use x=\"95.410156\" xlink:href=\"#DejaVuSans-37\"/><use x=\"159.033203\" xlink:href=\"#DejaVuSans-33\"/><use x=\"222.65625\" xlink:href=\"#DejaVuSans-34\"/></g><g transform=\"translate(184.27 246.56) scale(.1 -.1)\"><defs><path id=\"DejaVuSans-39\" transform=\"scale(.015625)\" d=\"m703 97v575q238-113 481-172 244-59 479-59 625 0 954 420 330 420 377 1277-181-269-460-413-278-144-615-144-700 0-1108 423-408 424-408 1159 0 718 425 1152 425 435 1131 435 810 0 1236-621 427-620 427-1801 0-1103-524-1761-523-658-1407-658-238 0-482 47-243 47-506 141zm1256 1978q425 0 673 290 249 291 249 798 0 503-249 795-248 292-673 292t-673-292-248-795q0-507 248-798 248-290 673-290z\"/></defs><use xlink:href=\"#DejaVuSans-30\"/><use x=\"63.623047\" xlink:href=\"#DejaVuSans-2e\"/><use x=\"95.410156\" xlink:href=\"#DejaVuSans-30\"/><use x=\"159.033203\" xlink:href=\"#DejaVuSans-39\"/><use x=\"222.65625\" xlink:href=\"#DejaVuSans-34\"/></g><g transform=\"translate(285.73 251.3) scale(.1 -.1)\"><use xlink:href=\"#DejaVuSans-30\"/><use x=\"63.623047\" xlink:href=\"#DejaVuSans-2e\"/><use x=\"95.410156\" xlink:href=\"#DejaVuSans-30\"/><use x=\"159.033203\" xlink:href=\"#DejaVuSans-37\"/><use x=\"222.65625\" xlink:href=\"#DejaVuSans-39\"/></g><g transform=\"translate(387.18 246.88) scale(.1 -.1)\"><use xlink:href=\"#DejaVuSans-30\"/><use x=\"63.623047\" xlink:href=\"#DejaVuSans-2e\"/><use x=\"95.410156\" xlink:href=\"#DejaVuSans-30\"/><use x=\"159.033203\" xlink:href=\"#DejaVuSans-39\"/><use x=\"222.65625\" xlink:href=\"#DejaVuSans-33\"/></g><defs><clipPath id=\"p829939d965\"><rect x=\"54.014\" y=\"7.2\" width=\"390.6\" height=\"271.8\"/></clipPath></defs></svg>"
      ],
      "text/plain": [
       "<Figure size 504x360 with 1 Axes>"
      ]
     },
     "execution_count": 37,
     "metadata": {},
     "output_type": "execute_result"
    }
   ],
   "source": [
    "meas_xx = QuantumCircuit(2,2)\n",
    "meas_xx.h([0,1])\n",
    "meas_xx.measure([0,1],[0,1])\n",
    "\n",
    "print('Results for an x and an x measurement:')\n",
    "counts = backend.run(qc_charlie.compose(meas_xx)).result().get_counts()\n",
    "plot_histogram(counts)"
   ]
  },
  {
   "cell_type": "markdown",
   "id": "b3cf90b9",
   "metadata": {},
   "source": [
    "They would not! The `11` result is not likely, but it is certainly not impossible.\n",
    "\n",
    "The results of qubits are not well-defined before measurement. Though this might seem like it means that qubits are more random that classical variables, it is not always a negative quality. It also means that restrictions applied to classical variables do not always apply to qubits, and that quantum correlations can have properties that would be impossible classically. These unique correlations are one of the signature properties of entangled states."
   ]
  }
 ],
 "metadata": {
  "kernelspec": {
   "display_name": "Python 3",
   "language": "python",
   "name": "python3"
  },
  "language_info": {
   "codemirror_mode": {
    "name": "ipython",
    "version": 3
   },
   "file_extension": ".py",
   "mimetype": "text/x-python",
   "name": "python",
   "nbconvert_exporter": "python",
   "pygments_lexer": "ipython3",
   "version": "3.9"
  }
 },
 "nbformat": 4,
 "nbformat_minor": 5
}
