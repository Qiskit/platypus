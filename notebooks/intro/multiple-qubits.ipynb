{
 "cells": [
  {
   "cell_type": "markdown",
   "metadata": {},
   "source": [
    "# Multiple qubits and entangled states"
   ]
  },
  {
   "cell_type": "markdown",
   "metadata": {},
   "source": [
    "## Product and entangled states\n",
    "\n",
    "In previous sections we've already seen how to express multi-qubit states as vectors. For example, here is the vector for two qubits,\n",
    "\n",
    "$$ |\\psi\\rangle = c_{00}|00\\rangle + c_{01}|01\\rangle + c_{10}|10\\rangle + c_{11}|11\\rangle = \\begin{bmatrix} c_{00} \\\\ c_{01} \\\\ c_{10} \\\\ c_{11} \\end{bmatrix}. $$\n",
    "\n",
    "What we haven't looked at so far is the structure of these superpositions, and how that affects their behavior and what they can be used for. For example, consider the following two states.\n",
    "\n",
    "$$ \n",
    "|{+}{0} \\rangle = \\frac{1}{\\sqrt{2}} \\begin{bmatrix} 1 \\\\ 0 \\\\ 1 \\\\ 0 \\end{bmatrix} = \\frac{1}{\\sqrt{2}}(|00\\rangle+|10\\rangle), \\quad |\\Phi^+ \\rangle = \\frac{1}{\\sqrt{2}} \\begin{bmatrix} 1 \\\\ 0 \\\\ 0 \\\\ 1 \\end{bmatrix} = \\frac{1}{\\sqrt{2}}(|00\\rangle+|11\\rangle).\n",
    "$$\n",
    "\n",
    "At a glance they may seem pretty similar. Both are an equally weighted superposition of two different bit strings. However, let's take a closer look.\n",
    "\n",
    "In particular, let us look at the the $|{+}{0} \\rangle$ state. This is made up of the two terms:\n",
    "\n",
    "* $|00\\rangle$: Both qubits are in the state $|0\\rangle$;\n",
    "* $|10\\rangle$: The qubit states are $|0\\rangle$ (on the right) and $|0\\rangle$ (on the left).\n",
    "\n",
    "Both these terms tell the same story for the qubit on the right: It is in the $|0\\rangle$ state. With this in mind, we see that all the superposition in this state belongs to the other qubit. Specifically, the qubit on the left can be described by the single qubit $|+\\rangle$ state.\n",
    "\n",
    "So the $|{+}0\\rangle$ state is a two qubit statevector that actually describes a pair of single qubit states: $|+\\rangle$ and $|0\\rangle$.\n",
    "\n",
    "![image showing how two single qubit states become one two qubit state](images/multi-qubit/tensor.svg)\n"
   ]
  },
  {
   "cell_type": "markdown",
   "metadata": {},
   "source": [
    "<!-- ::: q-block.reminder -->\n",
    "\n",
    "### Reminder\n",
    "\n",
    "<details>\n",
    "    <summary>Qubit ordering</summary>\n",
    "    In Qiskit code, qubits and bits are indexed from 0 and numbered from right to left.\n",
    "    So for a four qubit state like $|1000\\rangle$, the four qubits are numbered 0, 1, 2 and 3. It is qubit 3 that is in state $|1\\rangle$, while the rest are in state $|0\\rangle$.\n",
    "    \n",
    "</details>\n",
    "\n",
    "<!-- ::: -->\n",
    "\n",
    "<!-- ::: q-block.exercise -->\n",
    "\n",
    "### Quick quiz\n",
    "\n",
    "<!-- ::: q-quiz(goal=\"intro-multi-1\") -->\n",
    "\n",
    "<!-- ::: .question -->\n",
    "\n",
    "Suppose you had two qubits, with qubit 0 in state $|+\\rangle$, qubit 1 in state $|-\\rangle$. What two qubit state would represent this?\n",
    "\n",
    "<!-- ::: -->\n",
    "\n",
    "<!-- ::: .option -->\n",
    "\n",
    "1. $|{+}{-}\\rangle$\n",
    "\n",
    "<!-- ::: -->\n",
    "\n",
    "<!-- ::: .option(correct) -->\n",
    "\n",
    "2. $|{-}{+}\\rangle$\n",
    "\n",
    "<!-- ::: -->\n",
    "\n",
    "<!-- ::: .option -->\n",
    "\n",
    "3. $|0\\rangle$\n",
    "\n",
    "<!-- ::: -->\n",
    "\n",
    "<!-- ::: -->\n",
    "\n",
    "<!-- ::: -->"
   ]
  },
  {
   "cell_type": "markdown",
   "metadata": {},
   "source": [
    "### Product states\n",
    "\n",
    "The $|{+}0 \\rangle$ is an example of a kind of multi-qubit state known as a 'product state'. These represent cases that could alternatively be written as a sequence of single qubit states. \n",
    "\n",
    "For a general form of two-qubit product states, we need to start with two general single qubit states,\n",
    "\n",
    "$$ |a\\rangle = \\begin{bmatrix} a_0 \\\\ a_1 \\end{bmatrix}, \\quad |b\\rangle = \\begin{bmatrix} b_0 \\\\ b_1 \\end{bmatrix}.$$\n",
    "\n",
    "We'll use $|b a\\rangle$ to refer to product combined state of these, where $|a\\rangle$ represents the qubit on the right and $|b\\rangle$ is the one on the left. It can be shown that this can be written as\n",
    "\n",
    "$$ \n",
    "|b \\, a\\rangle = \\begin{bmatrix} b_0 a_0 \\\\ b_0 a_1 \\\\ b_1 a_0 \\\\ b_1 a_1 \\end{bmatrix} .\n",
    "$$\n",
    "\n",
    "To convince yourself that this equation is correct, you can verify that all the probabilities are what you expect from the single qubit states. For example, suppose both qubits are measured. What is the probability that the qubit on the right comes out `0`? This will be the sum of the probabilities for the two outcomes which have a `0` on the right, namely `00` and `10`,\n",
    "\n",
    "$$ p_{|b\\rangle}(|0\\rangle) = p(|00\\rangle) + p(|10\\rangle).$$\n",
    "\n",
    "Now we can subsitute in the calculations for these states given above and do simple algebra\n",
    "\n",
    "$$ p_{|b\\rangle}(|0\\rangle)  = |\\langle 00 | ba \\rangle |^2 + |\\langle 10 | ba\\rangle |^2 \\\\ = |b_0 a_0|^2 + |b_1 a_0|^2 = |b_0|^2 |a_0|^2 + |b_1|^2 |a_0|^2 \\\\ = (|b_0|^2 + |b_1|^2) \\, |a_0|^2 \\\\ = |a_0|^2$$\n",
    "\n",
    "This gives us exactly what we would get with just the single qubit calculation: $p_{|b\\rangle}(|0\\rangle) = |b_0|^2$.\n",
    "\n",
    "### Entangled states\n",
    "\n",
    "Now let's look again at the state $|\\Phi^+ \\rangle$,\n",
    "\n",
    "$$ \n",
    "|\\Phi^+ \\rangle = \\frac{1}{\\sqrt{2}} \\begin{bmatrix} 1 \\\\ 0 \\\\ 0 \\\\ 1 \\end{bmatrix} = \\frac{1}{\\sqrt{2}}(|00\\rangle+|11\\rangle).\n",
    "$$\n",
    "\n",
    "There is no pair of single qubit states $|a \\rangle$ and $b\\rangle$ whose product state would look like this. Try it for yourself by trying to find $b_0$, $b_1$, $c_0$ and $c_1$ values that would correspond to $|\\Phi^+ \\rangle$. You'll find that it is not possible!\n",
    "\n",
    "This represents a different kind of two-qubit state, distinct from the product states, which cannot be described as combination of simple single qubit states. These are known as *entangled* states.\n",
    "\n",
    "<!-- ::: q-block.exercise -->\n",
    "\n",
    "### Quick quiz\n",
    "\n",
    "<!-- ::: q-quiz(goal=\"intro-multi-2\") -->\n",
    "\n",
    "<!-- ::: .question -->\n",
    "\n",
    "Which of these product states does the following state correspond to?\n",
    "\n",
    "$$ \\frac{1}{2} \\begin{bmatrix} 1 \\\\ -1 \\\\ -1 \\\\ 1 \\end{bmatrix}$$\n",
    "\n",
    "<!-- ::: -->\n",
    "\n",
    "<!-- ::: .option -->\n",
    "\n",
    "1. $|{+}{-}\\rangle$\n",
    "\n",
    "<!-- ::: -->\n",
    "\n",
    "<!-- ::: .option(correct) -->\n",
    "\n",
    "2. $|{-}{-}\\rangle$\n",
    "\n",
    "<!-- ::: -->\n",
    "\n",
    "<!-- ::: .option -->\n",
    "\n",
    "3. $|{-}{+}\\rangle$\n",
    "\n",
    "<!-- ::: -->\n",
    "\n",
    "<!-- ::: -->\n",
    "\n",
    "<!-- ::: -->\n",
    "\n",
    "<!-- ::: q-block.exercise -->\n",
    "\n",
    "### Quick quiz\n",
    "\n",
    "<!-- ::: q-quiz(goal=\"intro-multi-3\") -->\n",
    "\n",
    "<!-- ::: .question -->\n",
    "\n",
    "Which of the following states is entangled?\n",
    "\n",
    "<!-- ::: -->\n",
    "\n",
    "<!-- ::: .option -->\n",
    "\n",
    "1. $ \\frac{1}{2} \\begin{bmatrix} 1 \\\\\\\\ -1 \\\\\\\\ -1 \\\\\\\\ 1 \\end{bmatrix}$\n",
    "\n",
    "<!-- ::: -->\n",
    "\n",
    "<!-- ::: .option -->\n",
    "\n",
    "2. $ \\frac{1}{\\sqrt{2}} \\begin{bmatrix} 1 \\\\\\\\ 1 \\\\\\\\ 0 \\\\\\\\ 0 \\end{bmatrix}$\n",
    "\n",
    "<!-- ::: -->\n",
    "\n",
    "<!-- ::: .option(correct) -->\n",
    "\n",
    "3. $ \\frac{1}{\\sqrt{2}} \\begin{bmatrix} 0 \\\\\\\\ 1 \\\\\\\\ 1 \\\\\\\\ 0 \\end{bmatrix}$\n",
    "\n",
    "<!-- ::: -->\n",
    "\n",
    "<!-- ::: -->\n",
    "\n",
    "<!-- ::: -->"
   ]
  },
  {
   "cell_type": "markdown",
   "metadata": {},
   "source": [
    "## Entangling gates\n",
    "\n",
    "Quantum computations typically start in a product state. Specifically, they start in the simplest product state of all, where all qubits are in the state $|0\\rangle$.\n",
    "\n",
    "If we then apply only single qubit states, we will manipulate these individual single qubit states. Some might be rotated to $|+\\rangle$ by a Hadamard, or a more complex superposition by a more general rotation. But nevertheless, they will remain in a product state.\n",
    "\n",
    "To create entanglement, we need to apply multi-qubit gates. The most prominent of these are controlled gates, with the `cx` and `cz` gates being the simplest examples.\n",
    "\n",
    "### The `cx` gate\n",
    "\n",
    "To see the `cx` in action, let's begin with the two qubit $|00\\rangle$ state."
   ]
  },
  {
   "cell_type": "code",
   "execution_count": 1,
   "metadata": {},
   "outputs": [
    {
     "data": {
      "text/plain": [
       "{'00': (1+0j)}"
      ]
     },
     "execution_count": 1,
     "metadata": {},
     "output_type": "execute_result"
    }
   ],
   "source": [
    "from qiskit import QuantumCircuit\n",
    "from qiskit.quantum_info import Statevector\n",
    "\n",
    "qc = QuantumCircuit(2)\n",
    "\n",
    "ket = Statevector(qc)\n",
    "ket.to_dict()"
   ]
  },
  {
   "cell_type": "markdown",
   "metadata": {},
   "source": [
    "The `cx` acts on two qubits, which are known as the 'control' and the 'target'. Let's first try using qubit 0 as control and qubit 1 as target and see what happens."
   ]
  },
  {
   "cell_type": "code",
   "execution_count": 2,
   "metadata": {},
   "outputs": [
    {
     "data": {
      "text/plain": [
       "{'00': (1+0j)}"
      ]
     },
     "execution_count": 2,
     "metadata": {},
     "output_type": "execute_result"
    }
   ],
   "source": [
    "qc.cx(0,1)\n",
    "\n",
    "ket = Statevector(qc)\n",
    "ket.to_dict()"
   ]
  },
  {
   "cell_type": "markdown",
   "metadata": {},
   "source": [
    "This `cx` had no effect. The state remains $|00\\rangle$.\n",
    "\n",
    "Now let's try it with the control and target reversed."
   ]
  },
  {
   "cell_type": "code",
   "execution_count": 3,
   "metadata": {},
   "outputs": [
    {
     "data": {
      "text/plain": [
       "{'00': (1+0j)}"
      ]
     },
     "execution_count": 3,
     "metadata": {},
     "output_type": "execute_result"
    }
   ],
   "source": [
    "qc.cx(1,0)\n",
    "\n",
    "ket = Statevector(qc)\n",
    "ket.to_dict()"
   ]
  },
  {
   "cell_type": "markdown",
   "metadata": {},
   "source": [
    "Again, no effect!\n",
    "\n",
    "This underwhelming performance from the `cx` is actually to be expected. We can interpreting its action as being conditional on the state of the control qubit: if the control is in state $|0\\rangle$, the `cx` does nothing. If the control is in state $|1\\rangle$, the `cx` peforms an `x` on the target qubit.\n",
    "\n",
    "![depiction of the effect of a cx gate](images/multi-qubit/cnot.svg)\n",
    "\n",
    "So if we want to see the `cx` do something, we need to flip the control qubit to the $|1\\rangle$ state."
   ]
  },
  {
   "cell_type": "code",
   "execution_count": 4,
   "metadata": {},
   "outputs": [
    {
     "data": {
      "text/plain": [
       "{'10': (1+0j)}"
      ]
     },
     "execution_count": 4,
     "metadata": {},
     "output_type": "execute_result"
    }
   ],
   "source": [
    "qc.x(1,0)\n",
    "\n",
    "ket = Statevector(qc)\n",
    "ket.to_dict()"
   ]
  },
  {
   "cell_type": "markdown",
   "metadata": {},
   "source": [
    "Now when we perform a `cx`, it will flip the target qubit as well."
   ]
  },
  {
   "cell_type": "code",
   "execution_count": 5,
   "metadata": {},
   "outputs": [
    {
     "data": {
      "text/plain": [
       "{'11': (1+0j)}"
      ]
     },
     "execution_count": 5,
     "metadata": {},
     "output_type": "execute_result"
    }
   ],
   "source": [
    "qc.cx(1,0)\n",
    "\n",
    "ket = Statevector(qc)\n",
    "ket.to_dict()"
   ]
  },
  {
   "cell_type": "markdown",
   "metadata": {},
   "source": [
    "So far, we have not yet seen any entanglement. That comes when the control qubit is not just a simple $|1\\rangle$ or $|1\\rangle$, but a superposition. For example, suppose we have the $|{+}{0}\\rangle$ state from before."
   ]
  },
  {
   "cell_type": "code",
   "execution_count": 6,
   "metadata": {},
   "outputs": [
    {
     "data": {
      "text/plain": [
       "{'00': (0.7071067811865475+0j), '10': (0.7071067811865475+0j)}"
      ]
     },
     "execution_count": 6,
     "metadata": {},
     "output_type": "execute_result"
    }
   ],
   "source": [
    "qc = QuantumCircuit(2)\n",
    "\n",
    "qc.h(1)\n",
    "\n",
    "ket = Statevector(qc)\n",
    "ket.to_dict()"
   ]
  },
  {
   "cell_type": "markdown",
   "metadata": {},
   "source": [
    "Now if we apply the `cx`, it will act in parallel on the two states. It will leave the $|00\\rangle$ state unchanged, since the control qubit there is in state $|0\\rangle$. But $|10\\rangle$ has the control in state $|1\\rangle$, so the target is flipped to make the $|11\\rangle$ state."
   ]
  },
  {
   "cell_type": "code",
   "execution_count": 7,
   "metadata": {},
   "outputs": [
    {
     "data": {
      "text/plain": [
       "{'00': (0.7071067811865475+0j), '11': (0.7071067811865475+0j)}"
      ]
     },
     "execution_count": 7,
     "metadata": {},
     "output_type": "execute_result"
    }
   ],
   "source": [
    "qc.cx(1,0)\n",
    "\n",
    "ket = Statevector(qc)\n",
    "ket.to_dict()"
   ]
  },
  {
   "cell_type": "markdown",
   "metadata": {},
   "source": [
    "The result is our favorite entangled state: $|\\Phi^+ \\rangle$. The `cx` gate has created entanglement!"
   ]
  },
  {
   "cell_type": "markdown",
   "metadata": {},
   "source": [
    "### The `cz` gate\n",
    "\n",
    "The `cz` is a gate whose effect is rather similar to the `cx`. It also acts on two qubits: the target and control. It also does nothing when the control qubit is in state $|0\\rangle$. But for the control state $|1\\rangle$, it performs a `z` to the target.\n",
    "\n",
    "Or at least, that is the standard interpretation of this gate. But if we think about it a little more, we can see that another interpretation is also possible.\n",
    "\n",
    "The `z` gate applied to a single qubit has the effect of doing nothing to $|0\\rangle$, and giving a phase of $-1$ to the state $|1\\rangle$. So for the `cz` gate, it only has any effect at all when both qubits are in state $|1\\rangle$. It doesn't matter which we decided to label and 'control' and 'target', the effect is the same. We could equally have defined it as the gate with does nothing when the *target* state is $|0\\rangle$, and otherwise performs a `z` on the *control*.\n",
    "\n",
    "The fact that the same gate can be interpreted in two seemingly contradictory ways is just one expression of the interesting effects that we will see with entangled states."
   ]
  },
  {
   "cell_type": "markdown",
   "metadata": {},
   "source": [
    "### The `cx` gate revisited\n",
    "\n",
    "The `cx` gate is also known as the controlled-`x` or controlled-NOT, due to its effect of flipping the target bit based on the state of the control. However, just as we saw with the `cx` gate, other interpretations are also possible.\n",
    "\n",
    "For example, let's start with the case where both qubits are in the $|+ \\rangle$ state."
   ]
  },
  {
   "cell_type": "code",
   "execution_count": 8,
   "metadata": {},
   "outputs": [
    {
     "data": {
      "text/plain": [
       "{'00': (0.4999999999999999+0j),\n",
       " '01': (0.4999999999999999+0j),\n",
       " '10': (0.4999999999999999+0j),\n",
       " '11': (0.4999999999999999+0j)}"
      ]
     },
     "execution_count": 8,
     "metadata": {},
     "output_type": "execute_result"
    }
   ],
   "source": [
    "qc = QuantumCircuit(2)\n",
    "\n",
    "qc.h(0)\n",
    "qc.h(1)\n",
    "\n",
    "ket = Statevector(qc)\n",
    "ket.to_dict()"
   ]
  },
  {
   "cell_type": "markdown",
   "metadata": {},
   "source": [
    "Here we will also find that the `cx` has no effect, no matter which way around we do it."
   ]
  },
  {
   "cell_type": "code",
   "execution_count": 9,
   "metadata": {},
   "outputs": [
    {
     "data": {
      "text/plain": [
       "{'00': (0.4999999999999999+0j),\n",
       " '01': (0.4999999999999999+0j),\n",
       " '10': (0.4999999999999999+0j),\n",
       " '11': (0.4999999999999999+0j)}"
      ]
     },
     "execution_count": 9,
     "metadata": {},
     "output_type": "execute_result"
    }
   ],
   "source": [
    "qc.cx(1,0)\n",
    "\n",
    "ket = Statevector(qc)\n",
    "ket.to_dict()"
   ]
  },
  {
   "cell_type": "markdown",
   "metadata": {},
   "source": [
    "However, let's now flip the *target* qubit from $|+\\rangle$ to $|-\\rangle$ using the single qubit `z` gate."
   ]
  },
  {
   "cell_type": "code",
   "execution_count": 10,
   "metadata": {},
   "outputs": [
    {
     "data": {
      "text/plain": [
       "{'00': (0.4999999999999999+0j),\n",
       " '01': (-0.4999999999999999+0j),\n",
       " '10': (0.4999999999999999+0j),\n",
       " '11': (-0.4999999999999999+0j)}"
      ]
     },
     "execution_count": 10,
     "metadata": {},
     "output_type": "execute_result"
    }
   ],
   "source": [
    "qc.z(0)\n",
    "\n",
    "ket = Statevector(qc)\n",
    "ket.to_dict()"
   ]
  },
  {
   "cell_type": "markdown",
   "metadata": {},
   "source": [
    "If we do the `cx` now, we will see an effect. It flips the *target* qubit to $|-\\rangle$ as well."
   ]
  },
  {
   "cell_type": "code",
   "execution_count": 11,
   "metadata": {},
   "outputs": [
    {
     "data": {
      "text/plain": [
       "{'00': (0.4999999999999999+0j),\n",
       " '01': (-0.4999999999999999+0j),\n",
       " '10': (-0.4999999999999999+0j),\n",
       " '11': (0.4999999999999999+0j)}"
      ]
     },
     "execution_count": 11,
     "metadata": {},
     "output_type": "execute_result"
    }
   ],
   "source": [
    "qc.cx(1,0)\n",
    "\n",
    "ket = Statevector(qc)\n",
    "ket.to_dict()"
   ]
  },
  {
   "cell_type": "markdown",
   "metadata": {},
   "source": [
    "This effect is sometimes known as 'phase kickback': When there is a superposition on both the control and target qubits, some features of the target superposition can feed back into the control.\n",
    "\n",
    "This effect can also motivate us to make an alternative interpretation of the `cx`. We can think of it as applying a `z` to the control if the target is in state $|-\\rangle$, and do nothing if it is in state $|+\\rangle$."
   ]
  },
  {
   "cell_type": "markdown",
   "metadata": {},
   "source": [
    "## The power of entanglement\n",
    "\n",
    "Entanglement is a key ingredient of many aspects of quantum computing. It powers the algorithms and methods that we use, and it is a neccessary part of any quantum advantage. To get some idea of why this is, we'll take a few specific examples of entanglement in action.\n",
    "\n",
    "## Entangled states and simulation\n",
    "\n",
    "To fully describe the state of $n$ qubits, we need to keep track of $2^n$ amplitudes. Since these vectors grow exponentially with the number of qubits, quantum computers with large numbers of qubits become very difficult to simulate. A modern laptop can easily simulate a general quantum state of around 20 qubits, but simulating 100 qubits is too difficult for the largest supercomputers.\n",
    "\n",
    "Though this statement is true in general, there are important exceptions. For example, suppose we begin in a product state. This means that each qubit can be independently described by a single qubit state with two amplitudes.\n",
    "\n",
    "Now suppose we perform a circuit with only single qubit gates. These manipulations can be easily described by modifying the single qubit states, which means making changes to the specific pairs of amplitudes affected. Then, when each qubit is measured, the probability of the outcome `0` or `1` for each qubit are determined by their respective amplitudes.\n",
    "\n",
    "During this while process, the states remained product states. As such there was never truly an $n$-qubit computation, but rather $n$ separate single qubit computations. This makes it possible to keep track of everything with a very managable $2 n$ amplitudes, rather than the full $2^n$. For such situations, simulating thousands of qubits would be easy even for your phone.\n",
    "\n",
    "Useful quantum algorithms will need to be able to do things that classical computers cannot simulate. They must therefore work in a way that prevents tricks like this from being found. They must involve more complex manipulations of the qubits, creating states for which there are no easy shortcuts. This means that they must use states for which the full $2^n$ amplitude description is needed, and so will need to involve more than just product states. And since anything that is not a product state is an entangled state, we find that entanglement is a neccessary ingredient of any quantum advantage."
   ]
  },
  {
   "cell_type": "markdown",
   "metadata": {},
   "source": [
    "## Qubits working together: Superdense coding\n",
    "\n",
    "We'll now look at an example of entanglement in action using a protcol for quantum *communication*. Like quantum computation, this is based on manipulating qubits with quantum gates. But it also incorporates the idea of qubits being transmitted between different parties, and explores applications based on sending information rather than processing it.\n",
    "\n",
    "For classical communication there is a fundamental limit on how much information we can send with a given number of bits. By definition, we can send no more than $n$ bits of information when we send $n$ bits. For quantum information, much the same rule applies: no more than $n$ bits of information can be reliably encoded and retrieved from $n$ qubits. However, there are ways that we can push the boundaries to do things that are not possibly classically, and for that we require entanglement. Here we will look at once such example, in which transferring one qubit can allow a two bit message to be sent.\n",
    "\n",
    "Suppose we have two people, Alice and Bob. Alice wishes to send a two bit message to Bob - `00`, `01`, `10` or `11` - and wants to do it by sending qubits.\n",
    "\n",
    "The simplest way to do this is with two qubits. Alice can simply use the qubits to encode the bit values, applying an `x` to flip them for a `1` state.\n",
    "\n"
   ]
  },
  {
   "cell_type": "code",
   "execution_count": 12,
   "metadata": {},
   "outputs": [],
   "source": [
    "# The message\n",
    "message = '00'\n",
    "\n",
    "# Alice encodes the message\n",
    "qc_alice = QuantumCircuit(2,2)\n",
    "if message[-1]=='1':\n",
    "    qc_alice.x(0)  \n",
    "if message[-2]=='1':\n",
    "    qc_alice.x(1)"
   ]
  },
  {
   "cell_type": "markdown",
   "metadata": {},
   "source": [
    "After Alice sends the qubits to Bob, all he needs to do is measure them."
   ]
  },
  {
   "cell_type": "code",
   "execution_count": 13,
   "metadata": {},
   "outputs": [
    {
     "data": {
      "text/plain": [
       "{'00': 1024}"
      ]
     },
     "execution_count": 13,
     "metadata": {},
     "output_type": "execute_result"
    }
   ],
   "source": [
    "from qiskit import Aer\n",
    "backend = Aer.get_backend('aer_simulator')\n",
    "\n",
    "# Bob measures\n",
    "qc_bob = QuantumCircuit(2,2)\n",
    "qc_bob.measure([0,1],[0,1])\n",
    "\n",
    "backend.run(qc_alice.compose(qc_bob)).result().get_counts()"
   ]
  },
  {
   "cell_type": "markdown",
   "metadata": {},
   "source": [
    "The result Bob gets out will be exactly what Alice put in.\n",
    "\n",
    "This protocol did not involve any entanglement. One way to insert it would be for Alice to add `h` and `cx` gates after encoding the information. Let's look at the states that are created by these gates."
   ]
  },
  {
   "cell_type": "code",
   "execution_count": 14,
   "metadata": {},
   "outputs": [
    {
     "data": {
      "text/plain": [
       "{'00': (0.7071067811865475+0j), '11': (0.7071067811865475+0j)}"
      ]
     },
     "execution_count": 14,
     "metadata": {},
     "output_type": "execute_result"
    }
   ],
   "source": [
    "message = '00'\n",
    "\n",
    "qc_alice = QuantumCircuit(2,2)\n",
    "\n",
    "# Alice encodes the message\n",
    "if message[-1]=='1':\n",
    "    qc_alice.x(0)  \n",
    "if message[-2]=='1':\n",
    "    qc_alice.x(1)\n",
    "\n",
    "# then she creates entangled states\n",
    "qc_alice.h(1)\n",
    "qc_alice.cx(1,0)\n",
    "\n",
    "ket = Statevector(qc_alice)\n",
    "ket.to_dict()"
   ]
  },
  {
   "cell_type": "markdown",
   "metadata": {},
   "source": [
    "For a message `00`, the state created by these gates is $|\\Phi^+ \\rangle$. For the other messages we get other entangled states, know as $|\\Phi^- \\rangle$, $|\\Psi^+ \\rangle$ and $|\\Psi^+ \\rangle$.\n",
    "\n",
    "$$ \\mathtt{00} \\rightarrow |\\Phi^+ \\rangle = \\frac{1}{\\sqrt{2}}(|00\\rangle+|11\\rangle) \\\\ \\mathtt{01} \\rightarrow |\\Psi^+ \\rangle = \\frac{1}{\\sqrt{2}}(|01\\rangle+|10\\rangle) \\\\ \\mathtt{10} \\rightarrow |\\Phi^- \\rangle = \\frac{1}{\\sqrt{2}}(|00\\rangle-|11\\rangle) \\\\ \\mathtt{11} \\rightarrow |\\Psi^+ \\rangle = \\frac{1}{\\sqrt{2}}(|01\\rangle-|10\\rangle)$$\n",
    "\n",
    "When Bob receives these states he needs to unentangle them, by undoing the `h` and `cx`. Then he can measure and retreive the message as before."
   ]
  },
  {
   "cell_type": "code",
   "execution_count": 15,
   "metadata": {},
   "outputs": [],
   "source": [
    "qc_bob = QuantumCircuit(2,2)\n",
    "# Bob unentangles \n",
    "qc_bob.cx(0,1) \n",
    "qc_bob.h(0)\n",
    "# Then measures\n",
    "qc_bob.measure([0,1],[0,1]);"
   ]
  },
  {
   "cell_type": "markdown",
   "metadata": {},
   "source": [
    "So here we used entangled states, but they didn't give us any advantages. For that we need to look at the relationship between these four entangled states.\n",
    "\n",
    "For example, the state $|\\Phi^+ \\rangle$ is a superposition of $|00\\rangle$ and $|11\\rangle$, whereas $|\\Psi^+ \\rangle$ is a superposition of $|01\\rangle$ and $|10\\rangle$. So a simple `x` gate on either qubit is sufficent to rotate a $|\\Phi^+ \\rangle$ into $|\\Psi^+ \\rangle$ and vice-versa. The same is true for rotating between $|\\Phi^- \\rangle$ into $|\\Psi^- \\rangle$. Similarly the different between $|\\Phi^+ \\rangle$ and $|\\Phi^- \\rangle$ is simply the relative phase, which can be changed by a `z` on either qubit, and the same with $|\\Psi^+ \\rangle$ and $|\\Psi^- \\rangle$. So Alice could sent her message by creating an entangled state first, and then changing it using `x` and `z` gates to encode the correct message."
   ]
  },
  {
   "cell_type": "code",
   "execution_count": 16,
   "metadata": {},
   "outputs": [
    {
     "data": {
      "text/plain": [
       "{'00': (0.7071067811865475+0j), '11': (0.7071067811865475+0j)}"
      ]
     },
     "execution_count": 16,
     "metadata": {},
     "output_type": "execute_result"
    }
   ],
   "source": [
    "message = '00'\n",
    "\n",
    "qc_alice = QuantumCircuit(2,2)\n",
    "\n",
    "qc_alice.h(1)\n",
    "qc_alice.cx(1,0)\n",
    "\n",
    "if message[-2]=='1':\n",
    "    qc_alice.x(1) \n",
    "if message[-1]=='1':\n",
    "    qc_alice.z(1)\n",
    "\n",
    "ket = Statevector(qc_alice)\n",
    "ket.to_dict()"
   ]
  },
  {
   "cell_type": "markdown",
   "metadata": {},
   "source": [
    "Since Bob is receiving the same states as before, he doesn't need to change his circuit at all."
   ]
  },
  {
   "cell_type": "code",
   "execution_count": 17,
   "metadata": {},
   "outputs": [
    {
     "data": {
      "text/plain": [
       "{'00': 1024}"
      ]
     },
     "execution_count": 17,
     "metadata": {},
     "output_type": "execute_result"
    }
   ],
   "source": [
    "backend.run(qc_alice.compose(qc_bob)).result().get_counts()"
   ]
  },
  {
   "cell_type": "markdown",
   "metadata": {},
   "source": [
    "The important thing to note here is  that the `x` and `z` gates can be applied to just a single qubit (qubit 1 in this case). This means that Alice could send qubit 0 to Bob as soon as she has created the entangled pair. In fact, she could sent it before she even knows what message she wants to send!\n",
    "\n",
    "This gets even more surprising if you imagine a third party, whos job is just to create $|\\Psi^+ \\rangle$ states and sent the qubits out."
   ]
  },
  {
   "cell_type": "code",
   "execution_count": 18,
   "metadata": {},
   "outputs": [],
   "source": [
    "qc_charlie = QuantumCircuit(2,2)\n",
    "\n",
    "qc_charlie.h(1)\n",
    "qc_charlie.cx(1,0);"
   ]
  },
  {
   "cell_type": "markdown",
   "metadata": {},
   "source": [
    "![](images/multi-qubit/superdense.jpg)\n",
    "\n",
    "This third party can directly send one qubit to Bob, and then the other to Alice. Alice can encode her two qubit message by manipulating just this single qubit, and send just this to Bob."
   ]
  },
  {
   "cell_type": "code",
   "execution_count": 19,
   "metadata": {},
   "outputs": [],
   "source": [
    "message = '01'\n",
    "\n",
    "qc_alice = QuantumCircuit(2,2)\n",
    "\n",
    "if message[-2]=='1':\n",
    "    qc_alice.x(1) \n",
    "if message[-1]=='1':\n",
    "    qc_alice.z(1)"
   ]
  },
  {
   "cell_type": "markdown",
   "metadata": {},
   "source": [
    "No with two qubits Bob can apply the same process as before and extract the message."
   ]
  },
  {
   "cell_type": "code",
   "execution_count": 20,
   "metadata": {},
   "outputs": [
    {
     "data": {
      "text/plain": [
       "{'01': 1024}"
      ]
     },
     "execution_count": 20,
     "metadata": {},
     "output_type": "execute_result"
    }
   ],
   "source": [
    "backend.run(qc_charlie.compose(qc_alice.compose(qc_bob))).result().get_counts()"
   ]
  },
  {
   "cell_type": "markdown",
   "metadata": {},
   "source": [
    "The end result of all this is that Alice sent two bits of information to Bob, and only had to send one qubit to do it. This was made possible by the fact that the qubit was part of an entangled pair. As such, while Alice just applying gates to one qubit, she was manipulating the larger set of four entangled pairs that it was a part of.\n",
    "\n",
    "This serves as a simple example of how qubits can allow us to do things that normal bits cannot, and how entanglement is a crucial resource for this."
   ]
  },
  {
   "cell_type": "markdown",
   "metadata": {},
   "source": [
    "## Unique correlations: The Hardy paradox\n",
    "\n",
    "### Some classical correlations\n",
    "\n",
    "Now let's consider another situation with our friends Alice, Bob and Charlie. First, we'll consider a completely classical case.\n",
    "\n",
    "Suppose Charlie is packages up a pair of colored shapes every day, sending one out to Alice and the other to Bob. Every day they look at their shape and compare what they have recieved. For each shape they look at one of two properties: whether it was a cube or not, and whether it was blue or not.\n",
    "\n",
    "After many days, and many choices of whether to look at the shape or color, they make two observations\n",
    "\n",
    "1. They are never both a cube.\n",
    "2. If one is not blue, the other will be a cube.\n",
    "\n",
    "Clearly Charlie is not just sending out random shapes. There is some degree of correlation between the objects that Charlie chooses to send.\n",
    "\n",
    "With these observations in mind, Alice and Bob imagine the case that they both look at the color, and they both find that their shape is not blue. Bob would then be able to apply observation 2 and infer that Alice's shape is certainly a cube. Alice could do the same and infer that Bob's shape is a cube. However, from observation 1 they know that this is impossible. So they conclude that there will never be a case that neither of their shapes is blue.\n",
    "\n",
    "This is a rather artifical scenario, but it shows that there are limits on the kind of correlations possible with classical systems (like colored shapes). The fact that the color and shape of each object is simulateously well-defined, we can apply chains of logic such as those above which use the results of one to deduce things about the other.\n",
    "\n",
    "For qubits, however, the results of a measurement is not well-defined before the measurement is made. So can we find different kinds of behaviour?"
   ]
  },
  {
   "cell_type": "markdown",
   "metadata": {},
   "source": [
    "### Measuring a qubit\n",
    "\n",
    "In the scenario above we look at two different properties of a classical object: shape and color. For a quantum counterpart we'll need to do the same for qubits.\n",
    "\n",
    "The only information we extract from a qubit is through measurement: We apply the measure operation and get back a `0` or a `1`. The way that this is physically implemented in a quantum computer depends on the details of how your qubit is built. For some types of qubit, it is possible to rotate the measurement device in order to do different kinds of measurement, and see different behavior from the results.\n",
    "\n",
    "For other kinds of qubit, rotating your measurement device will just break it. Nevertheless, there is a simple way to get the same effect: just rotate the qubit instead! By performing single qubit gates before making a standard measurement, we reproduce the effects of these alternative forms of measurement.\n",
    "\n",
    "The most common example of this is to simply perform an `h` gate immediately before measurement. This gives us what is known as an *x measurement*."
   ]
  },
  {
   "cell_type": "code",
   "execution_count": 21,
   "metadata": {},
   "outputs": [
    {
     "data": {
      "image/png": "[encoded data removed]",
      "text/plain": [
       "<Figure size 193.726x144.48 with 1 Axes>"
      ]
     },
     "execution_count": 21,
     "metadata": {},
     "output_type": "execute_result"
    }
   ],
   "source": [
    "meas_x = QuantumCircuit(1,1)\n",
    "meas_x.h(0)\n",
    "meas_x.measure(0,0)\n",
    "\n",
    "meas_x.draw(output='mpl')"
   ]
  },
  {
   "cell_type": "markdown",
   "metadata": {},
   "source": [
    "The standard form of measurement, which is done with just a `measure` gate, is known as a *z measurement* in this context."
   ]
  },
  {
   "cell_type": "code",
   "execution_count": 22,
   "metadata": {},
   "outputs": [
    {
     "data": {
      "image/png": "[encoded data removed]",
      "text/plain": [
       "<Figure size 133.526x144.48 with 1 Axes>"
      ]
     },
     "execution_count": 22,
     "metadata": {},
     "output_type": "execute_result"
    }
   ],
   "source": [
    "meas_z = QuantumCircuit(1,1)\n",
    "meas_z.measure(0,0)\n",
    "\n",
    "meas_z.draw(output='mpl')"
   ]
  },
  {
   "cell_type": "markdown",
   "metadata": {},
   "source": [
    "As you might be able to guess from the names, there is also something called a *y measurement*, but we won't need to use that here.\n",
    "\n",
    "Now let's look at what happens to certain states when we do these measurements. We'll start with the simple $|0\\rangle$ state."
   ]
  },
  {
   "cell_type": "code",
   "execution_count": 23,
   "metadata": {},
   "outputs": [
    {
     "data": {
      "image/png": "[encoded data removed]",
      "text/plain": [
       "<Figure size 103.426x144.48 with 1 Axes>"
      ]
     },
     "execution_count": 23,
     "metadata": {},
     "output_type": "execute_result"
    }
   ],
   "source": [
    "qc = QuantumCircuit(1,1)\n",
    "\n",
    "qc.draw(output='mpl')"
   ]
  },
  {
   "cell_type": "markdown",
   "metadata": {},
   "source": [
    "For the standard measurement, as we know, this is certain to output `0`."
   ]
  },
  {
   "cell_type": "code",
   "execution_count": 24,
   "metadata": {},
   "outputs": [
    {
     "name": "stdout",
     "output_type": "stream",
     "text": [
      "Results from z measurement: {'0': 1024}\n"
     ]
    }
   ],
   "source": [
    "print('Results from z measurement:',\n",
    "      backend.run(qc.compose(meas_z)).result().get_counts())"
   ]
  },
  {
   "cell_type": "markdown",
   "metadata": {},
   "source": [
    "For an x measurement, however, we'll get completely random results."
   ]
  },
  {
   "cell_type": "code",
   "execution_count": 25,
   "metadata": {},
   "outputs": [
    {
     "name": "stdout",
     "output_type": "stream",
     "text": [
      "Results from x measurement: {'1': 509, '0': 515}\n"
     ]
    }
   ],
   "source": [
    "print('Results from x measurement:',\n",
    "      backend.run(qc.compose(meas_x)).result().get_counts())"
   ]
  },
  {
   "cell_type": "markdown",
   "metadata": {},
   "source": [
    "A similar situation occurs for the $|1\\rangle$ state."
   ]
  },
  {
   "cell_type": "code",
   "execution_count": 26,
   "metadata": {},
   "outputs": [
    {
     "data": {
      "image/png": "[encoded data removed]",
      "text/plain": [
       "<Figure size 133.526x144.48 with 1 Axes>"
      ]
     },
     "execution_count": 26,
     "metadata": {},
     "output_type": "execute_result"
    }
   ],
   "source": [
    "qc = QuantumCircuit(1,1)\n",
    "qc.x(0)\n",
    "\n",
    "qc.draw(output='mpl')"
   ]
  },
  {
   "cell_type": "markdown",
   "metadata": {},
   "source": [
    "The z measurement outputs the expected result with certainty, but the x measurement gives random results."
   ]
  },
  {
   "cell_type": "code",
   "execution_count": 27,
   "metadata": {},
   "outputs": [
    {
     "name": "stdout",
     "output_type": "stream",
     "text": [
      "Results from z measurement: {'1': 1024}\n",
      "Results from x measurement: {'0': 496, '1': 528}\n"
     ]
    }
   ],
   "source": [
    "for basis,circ in [('z',meas_z), ('x', meas_x)]:\n",
    "    print('Results from '+basis+' measurement:',\n",
    "      backend.run(qc.compose(circ)).result().get_counts())"
   ]
  },
  {
   "cell_type": "markdown",
   "metadata": {},
   "source": [
    "The tables are turned for the $|+\\rangle$ state."
   ]
  },
  {
   "cell_type": "code",
   "execution_count": 28,
   "metadata": {},
   "outputs": [
    {
     "data": {
      "image/png": "[encoded data removed]",
      "text/plain": [
       "<Figure size 133.526x144.48 with 1 Axes>"
      ]
     },
     "execution_count": 28,
     "metadata": {},
     "output_type": "execute_result"
    }
   ],
   "source": [
    "qc = QuantumCircuit(1,1)\n",
    "qc.h(0)\n",
    "\n",
    "qc.draw(output='mpl')"
   ]
  },
  {
   "cell_type": "markdown",
   "metadata": {},
   "source": [
    "Though the results are random for a z measurement, they produce `0` with certainty for an x measurement."
   ]
  },
  {
   "cell_type": "code",
   "execution_count": 29,
   "metadata": {},
   "outputs": [
    {
     "name": "stdout",
     "output_type": "stream",
     "text": [
      "Results from z measurement: {'1': 531, '0': 493}\n",
      "Results from x measurement: {'0': 1024}\n"
     ]
    }
   ],
   "source": [
    "for basis,circ in [('z',meas_z), ('x', meas_x)]:\n",
    "    print('Results from '+basis+' measurement:',\n",
    "      backend.run(qc.compose(circ)).result().get_counts())"
   ]
  },
  {
   "cell_type": "markdown",
   "metadata": {},
   "source": [
    "<!-- ::: q-block.exercise -->\n",
    "\n",
    "### Quick quiz\n",
    "\n",
    "<!-- ::: q-quiz(goal=\"intro-multi-4\") -->\n",
    "\n",
    "<!-- ::: .question -->\n",
    "\n",
    "What would be the results for a $|-\\rangle$ state?\n",
    "\n",
    "<!-- ::: -->\n",
    "\n",
    "<!-- ::: .option -->\n",
    "\n",
    "1. Random for both z and x measurements.\n",
    "\n",
    "<!-- ::: -->\n",
    "\n",
    "<!-- ::: .option -->\n",
    "\n",
    "2. Random for a z measurement, `0` for an x measurement.\n",
    "\n",
    "<!-- ::: -->\n",
    "\n",
    "<!-- ::: .option -->\n",
    "\n",
    "3. Random for a z measurement, `1` for an x measurement.\n",
    "\n",
    "<!-- ::: -->\n",
    "\n",
    "<!-- ::: .option(correct) -->\n",
    "\n",
    "4. `0` for a z measurement, `1` for an x measurement.\n",
    "\n",
    "<!-- ::: -->\n",
    "\n",
    "<!-- ::: -->\n",
    "\n",
    "<!-- ::: -->"
   ]
  },
  {
   "cell_type": "markdown",
   "metadata": {},
   "source": [
    "For other states we can find a compromise between the two. For example, we can try out different angles for `ry` rotations."
   ]
  },
  {
   "cell_type": "code",
   "execution_count": 33,
   "metadata": {},
   "outputs": [],
   "source": [
    "import numpy as np\n",
    "\n",
    "qc = QuantumCircuit(1,1)\n",
    "qc.ry(-np.pi/4,0);"
   ]
  },
  {
   "cell_type": "markdown",
   "metadata": {},
   "source": [
    "For the angle $-\\pi/4$, we see both results are partly random, but not completely."
   ]
  },
  {
   "cell_type": "code",
   "execution_count": 34,
   "metadata": {},
   "outputs": [
    {
     "name": "stdout",
     "output_type": "stream",
     "text": [
      "Results from z measurement: {'1': 164, '0': 860}\n",
      "Results from x measurement: {'0': 148, '1': 876}\n"
     ]
    }
   ],
   "source": [
    "for basis,circ in [('z',meas_z), ('x', meas_x)]:\n",
    "    print('Results from '+basis+' measurement:',\n",
    "      backend.run(qc.compose(circ)).result().get_counts())"
   ]
  },
  {
   "cell_type": "markdown",
   "metadata": {},
   "source": [
    "### The uncertainty principle\n",
    "\n",
    "All these results are the consequence of the uncertainty principle discovered by Werner Heisenberg, which is one of the most important aspects of quantum mechanics. It states that for certain pairs of attributes of a quantum system, it is impossible to know both with certainty.\n",
    "\n",
    "This is not true of the color and shape of an object, as in our example before. As we know from everyday experience, knowing exactly what shape something is does not cause its color to become random.\n",
    "\n",
    "It is true, however, for the outcomes of z and x measurements. These are two different ways that we could choose to encode a bit of information in a qubit. We can do it the normal way, using the $|0\\rangle$ and $|1\\rangle$ states to encode the bit values `0` and `1` and using the z measurement to read it out. Or we could do it an alternative way, using the $|+\\rangle$ and $|-\\rangle$ states to encode the bit values and the x measurement for read out. But the uncertainty principle makes sure that we can't do both at once.\n",
    "\n",
    "Speficially, for the z measurements we can define a quantity\n",
    "\n",
    "$$\\langle Z \\rangle = p_z(0) - p_z(1),$$\n",
    "\n",
    "where $p_z(0)$ is the probability of the outcome `0`, and $p_z(1)$ is the probability of `1`. This quantity reaches its maximum value of $1$ for a state that is certain to output `0`, and its minimum value of $-1$ for a state certain to output `1`. Note that in both of these cases where the output is certain, $\\langle Z \\rangle^2 = 1$. For a completely random result, however, we would find $\\langle Z \\rangle = \\langle Z \\rangle^2 = 0$.\n",
    "\n",
    "We can similarly define the quantity $\\langle X \\rangle$ for the outcomes of x measurements. For these we can find that, for any valid statevector\n",
    "\n",
    "$$\\langle Z \\rangle^2 + \\langle X \\rangle^2 \\leq 1.$$\n",
    "\n",
    "This is the uncertainty principle for a qubit, specifically how much certainty can be shared between these kinds of measurement."
   ]
  },
  {
   "cell_type": "markdown",
   "metadata": {},
   "source": [
    "## 3.4 Unique quantum correlations\n",
    "\n",
    "With the notions of these different measurement bases, we can start to look at unique correlations that are possible for qubits.\n",
    "\n",
    "For example, let's again consider our friends Alice, Bob and Charlie. Charlie creates a particular entangled state and sends one qubit to Alice and the other to Bob. They make measurements and compare the results. Then Charlie sends another, identically prepared state. This repeats many times, so Alice and Bob can build up statistics on all the different measurement results.\n",
    "\n",
    "Let's consider the case where Charlie sends out the following entangled state."
   ]
  },
  {
   "cell_type": "code",
   "execution_count": 35,
   "metadata": {},
   "outputs": [
    {
     "data": {
      "image/png": "[encoded data removed]",
      "text/plain": [
       "<Figure size 387.452x204.68 with 1 Axes>"
      ]
     },
     "execution_count": 35,
     "metadata": {},
     "output_type": "execute_result"
    }
   ],
   "source": [
    "qc_charlie = QuantumCircuit(2,2)\n",
    "qc_charlie.ry(1.911,1)\n",
    "qc_charlie.cx(1,0)\n",
    "qc_charlie.ry(0.785,0)\n",
    "qc_charlie.cx(1,0)\n",
    "qc_charlie.ry(2.356,0)\n",
    "\n",
    "qc_charlie.draw(output='mpl')"
   ]
  },
  {
   "cell_type": "markdown",
   "metadata": {},
   "source": [
    "First Alice and Bob try making z measurements of their qubits."
   ]
  },
  {
   "cell_type": "code",
   "execution_count": 36,
   "metadata": {},
   "outputs": [
    {
     "data": {
      "text/plain": [
       "<qiskit.circuit.instructionset.InstructionSet at 0x7f916c49a820>"
      ]
     },
     "execution_count": 36,
     "metadata": {},
     "output_type": "execute_result"
    }
   ],
   "source": [
    "meas_zz = QuantumCircuit(2,2)\n",
    "meas_zz.measure([0,1],[0,1])"
   ]
  },
  {
   "cell_type": "markdown",
   "metadata": {},
   "source": [
    "From many samples, they find the following results."
   ]
  },
  {
   "cell_type": "code",
   "execution_count": 37,
   "metadata": {},
   "outputs": [
    {
     "name": "stdout",
     "output_type": "stream",
     "text": [
      "Results for z measurements:\n"
     ]
    },
    {
     "data": {
      "image/png": "[encoded data removed]",
      "text/plain": [
       "<Figure size 504x360 with 1 Axes>"
      ]
     },
     "execution_count": 37,
     "metadata": {},
     "output_type": "execute_result"
    }
   ],
   "source": [
    "from qiskit.visualization import plot_histogram\n",
    "\n",
    "print('Results for z measurements:')\n",
    "counts = backend.run(qc_charlie.compose(meas_zz)).result().get_counts()\n",
    "plot_histogram(counts)"
   ]
  },
  {
   "cell_type": "markdown",
   "metadata": {},
   "source": [
    "From this they make the observation that the qubits never both output `0` for z measurements.\n",
    "\n",
    "Next, let's see the results of an when Bob perfoms an x measurement and Alice persoms a z measurement."
   ]
  },
  {
   "cell_type": "code",
   "execution_count": 38,
   "metadata": {},
   "outputs": [
    {
     "name": "stdout",
     "output_type": "stream",
     "text": [
      "Results for a z and an x measurement:\n"
     ]
    },
    {
     "data": {
      "image/png": "[encoded data removed]",
      "text/plain": [
       "<Figure size 504x360 with 1 Axes>"
      ]
     },
     "execution_count": 38,
     "metadata": {},
     "output_type": "execute_result"
    }
   ],
   "source": [
    "meas_zx = QuantumCircuit(2,2)\n",
    "meas_zx.h(0)\n",
    "meas_zx.measure([0,1],[0,1])\n",
    "meas_zx.h(0)\n",
    "\n",
    "print('Results for a z and an x measurement:')\n",
    "counts = backend.run(qc_charlie.compose(meas_zx)).result().get_counts()\n",
    "plot_histogram(counts)"
   ]
  },
  {
   "cell_type": "markdown",
   "metadata": {},
   "source": [
    "In this case we find that the qubits never both output `1`. The same is true when Bob makes the z measurement and Alice does the x."
   ]
  },
  {
   "cell_type": "code",
   "execution_count": 39,
   "metadata": {
    "scrolled": true
   },
   "outputs": [
    {
     "name": "stdout",
     "output_type": "stream",
     "text": [
      "Results for a z and an x measurement:\n"
     ]
    },
    {
     "data": {
      "image/png": "[encoded data removed]",
      "text/plain": [
       "<Figure size 504x360 with 1 Axes>"
      ]
     },
     "execution_count": 39,
     "metadata": {},
     "output_type": "execute_result"
    }
   ],
   "source": [
    "meas_xz = QuantumCircuit(2,2)\n",
    "meas_xz.h(0)\n",
    "meas_xz.measure([0,1],[0,1])\n",
    "meas_xz.h(0)\n",
    "\n",
    "print('Results for a z and an x measurement:')\n",
    "counts = backend.run(qc_charlie.compose(meas_xz)).result().get_counts()\n",
    "plot_histogram(counts)"
   ]
  },
  {
   "cell_type": "markdown",
   "metadata": {},
   "source": [
    "With this information, Alice and Bob can begin to speculate about what would happen if they both performed an x measurement.\n",
    "\n",
    "They can summarize their results so far in the following two observations:\n",
    "\n",
    "1. If z measurements are made on both qubits, they never both output `0`;\n",
    "2. If an x measurement of one qubit outputs `1`, a z measurement of the other will output `0` (because the `11` result never occurs in these cases).\n",
    "\n",
    "These correspond exactly to the observations made for the colored shapes in the classical scenario. If we apply the same logic as we did in that case, we can analyse the case where both Alice and Bob make an x measurement, and they both get the result `1`. Bob would then be able to apply observation 2 and infer that, Alice would certainly have gotten a `0` if she had instead done a z measurement. Alice can do the same, inferring that Bob would have gotten a `1` if he'd have made a z measurement. So together they conclude that, if they had both made z measurements, they would both have gotten the output `0`. Since observation 1 shows us that such a result would be impossible, Alice and Bob could predict that the `11` result will never occur.\n",
    "\n",
    "So let's see if they would be right."
   ]
  },
  {
   "cell_type": "code",
   "execution_count": 40,
   "metadata": {},
   "outputs": [
    {
     "name": "stdout",
     "output_type": "stream",
     "text": [
      "Results for a z and an x measurement:\n"
     ]
    },
    {
     "data": {
      "image/png": "[encoded data removed]",
      "text/plain": [
       "<Figure size 504x360 with 1 Axes>"
      ]
     },
     "execution_count": 40,
     "metadata": {},
     "output_type": "execute_result"
    }
   ],
   "source": [
    "meas_xx = QuantumCircuit(2,2)\n",
    "meas_xx.h([0,1])\n",
    "meas_xx.measure([0,1],[0,1])\n",
    "meas_xx.h(0)\n",
    "\n",
    "print('Results for a z and an x measurement:')\n",
    "counts = backend.run(qc_charlie.compose(meas_xx)).result().get_counts()\n",
    "plot_histogram(counts)"
   ]
  },
  {
   "cell_type": "markdown",
   "metadata": {},
   "source": [
    "They would not! The `11` result is not likely, but it is certainly not impossible.\n",
    "\n",
    "The results of qubits are not well-defined before measurement. Though this might seem like it means that qubits are more random that classical variables, it is not always a negative quality. It also means that restrictions applied to classical variables do not always apply to qubits, and that quantum correlations can have properties that would be impossible classically. These unique correlations are one of the signature properties of entangled states."
   ]
  }
 ],
 "metadata": {
  "kernelspec": {
   "display_name": "Python 3",
   "language": "python",
   "name": "python3"
  },
  "language_info": {
   "codemirror_mode": {
    "name": "ipython",
    "version": 3
   },
   "file_extension": ".py",
   "mimetype": "text/x-python",
   "name": "python",
   "nbconvert_exporter": "python",
   "pygments_lexer": "ipython3",
   "version": "3.7.7"
  }
 },
 "nbformat": 4,
 "nbformat_minor": 5
}
