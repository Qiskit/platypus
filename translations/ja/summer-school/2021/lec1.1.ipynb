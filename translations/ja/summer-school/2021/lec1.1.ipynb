{
  "cells": [
    {
      "cell_type": "markdown",
      "metadata": {
      },
      "source": [
        "# ベクトル空間、テンソル積、量子ビット\n",
        "\n",
        "<div class=\"youtube-wrapper\">     <iframe src=\"https://www.youtube.com/embed/xgA4Dx_7q34\" title=\"YouTube video player\" frameborder=\"0\" allow=\"accelerometer; autoplay; clipboard-write; encrypted-media; gyroscope; picture-in-picture\" allowfullscreen=\"\"></iframe> </div>\n",
        "\n",
        "In this lecture, Elisa introduces some mathematical tools used to describe quantum systems and their interactions such as Dirac notation, density matrices, inner product, outer product, Born rule, and the geometrical representation of qubits; the Bloch sphere. She also introduces the basic building block in quantum computing: The qubit, which is analogous to the classical bit. She also briefly introduces quantum measurements.\n",
        "\n",
        "### おすすめリンク集\n",
        "\n",
        "- Download the lecturer's notes [here](/content/summer-school/2021/resources/lecture-notes/Lecture1.1.pdf)\n",
        "\n",
        "- Watch Michael Nielsen on [The controlled-NOT gate](https://www.youtube.com/watch?v=rLF-oHaXLtE&ab_channel=MichaelNielsen)\n",
        "\n",
        "- Wikipediaの[量子エンタングルメント](https://en.wikipedia.org/wiki/Quantum_entanglement)を読む。\n",
        "\n",
        "- Read Qiskis, IBM on [The density matrix and mixed states](/course/quantum-hardware/density-matrix)\n",
        "\n",
        "- Read [Hilbert-Spaces,-Orthonormality,-and-the-Inner-Product — Qiskit Handbook/Textbook](/course/ch-appendix/an-introduction-to-linear-algebra-for-quantum-computing)\n",
        "\n",
        "- [パウリ行列](https://en.wikipedia.org/wiki/Pauli_matrices)を読む。\n",
        "\n",
        "<!-- ::: q-block.reminder -->\n",
        "\n",
        "### FAQ\n",
        "\n",
        "<details>   <summary>What does it mean that a state is maximally entangled?</summary> A maximally entangled state is a quantum state (e.g. the Bell state) that has maximum von Neumann entropy; which is analogous to the, classical, Shannon entropy for a fair-coin flip. </details>\n",
        "\n",
        "<details>   <summary>For quantum teleportation, we need to send classical bits too and cannot just use entanglement to send information. Is this the reason we cannot send information faster than the speed of light?</summary> Yes. In fact, since the entangled state itself does not represent a probability distribution, but its inner product, one always has to measure the state to extract information from it. </details>\n",
        "\n",
        "<details>   <summary>Why did you use the outer product representation when applying a gate instead of using the spectral decomposition?</summary> The outer product representation in terms of 0 and 1 states (the so-called computational basis) is useful for a gate, because then you can easily how the gate acts on the 0 and 1 states. </details>\n",
        "\n",
        "<details>   <summary>How's teleportation useful in quantum computation compared to classical?</summary> It is useful when you want to encrypt the data (information) you are transferring (i.e., instead of cloning it, you are actually transferring it to the target party, which will include destroying the original information (data) from the source). </details>\n",
        "\n",
        "<!-- ::: -->\n",
        "\n",
        "### その他の資料\n",
        "\n",
        "- Read by Isaac Chuang and Michael Nielsen on [Quantum Computation and Quantum Information Textbook](https://www.amazon.com/Quantum-Computation-Information-10th-Anniversary/dp/1107002176)\n",
        "- Read IBM on [Qiskit textbook](https://qiskit.org/textbook/preface.html)\n",
        "- Watch [Linear Algebra - MIT OCW course by Gilbert Strang](https://www.youtube.com/playlist?list=PL221E2BBF13BECF6C)\n"
      ]
    }
  ],
  "metadata": {
    "kernelspec": {
      "display_name": "Python 3",
      "language": "python",
      "name": "python3"
    },
    "language_info": {
      "codemirror_mode": {
        "name": "ipython",
        "version": 3
      },
      "file_extension": ".py",
      "mimetype": "text/x-python",
      "name": "python",
      "nbconvert_exporter": "python",
      "pygments_lexer": "ipython3",
      "version": "3.9"
    }
  },
  "nbformat": 4,
  "nbformat_minor": 4
}
