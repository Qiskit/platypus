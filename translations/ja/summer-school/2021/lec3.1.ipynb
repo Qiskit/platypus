{
  "cells": [
    {
      "cell_type": "markdown",
      "metadata": {
      },
      "source": [
        "# 量子コンピューターのノイズ（パート1）\n",
        "\n",
        "<div class=\"youtube-wrapper\">     <iframe src=\"https://www.youtube.com/embed/kV0RsKXSqRg\" title=\"YouTube video player\" frameborder=\"0\" allow=\"accelerometer; autoplay; clipboard-write; encrypted-media; gyroscope; picture-in-picture\" allowfullscreen=\"\"></iframe> </div>\n",
        "\n",
        "In this lecture, Zlatko discusses the different types of noise involved in real quantum computers. He considers the simple example of the X gate and compares the results of the ideal and real experiments. To reach noiseless computers, we need to discuss types of quantum errors. In this lecture, Zlatko discusses common coherent error using ideal and noisy gates. We conclude that coherent error will build up in a quadratic way and will affect the performance, irrespective of the circuit depth.\n",
        "\n",
        "- 講師のメモをダウンロードします [こちら](/content/summer-school/2021/resources/lecture-notes/Lecture3-notes.pdf)\n",
        "- 講師のスライドをダウンロードします [こちら](/content/summer-school/2021/resources/lecture-notes/Lecture3-slides.pdf)\n",
        "\n",
        "### おすすめリンク集\n",
        "\n",
        "- Read Qiskit Textbook on [Measurement Error Mitigation](/course/quantum-hardware/measurement-error-mitigation)\n",
        "- Qiskit Textbook on [Calibrating Qubits with Qiskit Pulse](/course/quantum-hardware-pulses/calibrating-qubits-using-qiskit-pulse)\n",
        "- Read Qiskit Textbook on [Lab 2. Quantum Measurement](/course/ch-labs/lab-3-quantum-measurements)\n",
        "\n",
        "<!-- ::: q-block.reminder -->\n",
        "\n",
        "### FAQ\n",
        "\n",
        "<details>   <summary>コヒーレントノイズの定義とは何ですか？</summary> $X_\\epsilon$のようなユニタリーで記述することができます。</details>\n",
        "\n",
        "<details>   <summary>コヒーレントノイズの2次関数的な蓄積は、グローバーのアルゴリズムのようなものによる2次関数的な時間短縮を否定するのでしょうか？それとも、それほど単純な関係ではないのでしょうか？</summary> エラー振幅の2次関数であり、量子ビット数の2次関数とは異なります。もし、多くの量子ビットレジスターの中の1つだけがノイズを持っていると仮定するならば、おそらくそれほど悪くはないでしょう。しかし、もしすべての量子ビットが同じ量のノイズを持つ、あるいは似たようなレベルのノイズを持つと仮定すると、この講義の後半で見るように、特にボーナス資料で取り上げる状態準備エラーの場合、全体のノイズの量も指数関数的にスケールします。</details>\n",
        "\n",
        "<details>   <summary>Is it safe to say that the PMF of Bernoulli is a Gaussian?</summary> Bernoulli is for only 2 outcomes, Binomial limits to Gaussian in the limit of large N. </details>\n",
        "\n",
        "<details>   <summary>つまり、理論的には、サンプルやショットの数が多ければ多いほど、その結果は最大の確率を持つため、より正確な測定が可能になるということですね？ できるだけ少ないショット数で測定する理由はありますか？</summary> そうですね、理想は無限のショットを実行することですが、1回のショットに時間がかかるので、ショット数が多くなると待ち時間が長くなります。また、ゲートエラーが時間の経過とともに変化することもあるので、それは避けた方がいいかもしれません。 </details>\n",
        "\n",
        "<details>   <summary>「不本意な測定」はノイズの多いゲートで表現されますか？</summary> インコヒーレントノイズで議論します。</details>\n",
        "\n",
        "<details>   <summary>量子計算のエラーはすべて線形ですか？それとも、非線型の場合もあるのでしょうか？</summary> 量子状態に対する操作（エラーも含む）は、通常、状態に対する線形演算で記述できます。これらは期待値について非線形である可能性があります。</details>\n",
        "\n",
        "<details>   <summary>時々、状態 $|1\\rangle$ が状態 $|0\\rangle$ に崩壊するが、ごくまれにその逆が起こる（自然放出として表現できる）とします。このようなエラーはノイズの多いゲートで表現可能ですか？線形ではないような気がするのですが。</summary> 状態（密度行列）の平均的な発展は、決定論的で、滑らかで、密度行列に対して線形です。ショットごと（量子モンテカルロの軌跡）では、発展は確かに線形ではありません。平均的にはブロッホベクトルはただ縮んでいくだけです。 </details>\n",
        "\n",
        "<details>   <summary>We leave the factor of two in the definition of the rotation because the actual angle by which the Bloch sphere will rotate is the angle of theta. What does it mean? Why should we keep the factor two? What's the relation between theta/2 in Rx(theta) and the expectation values of X,Y, Z?[slice 18, Visualize: Evolution on the Bloch sphere]</summary> The factor of two there is needed if you want the angle theta to be the angle by which the Bloch vector of rotates. You can see it because the difference in the eigenvalues of any of the Pauli operators is two, so it’s not normalized to one. In other words, the plus state rotates at +1, and the # minus state rotates at -1, so the difference between the two states is rotating at two times </details>\n",
        "\n",
        "<details>   <summary>スライド18の、X、Y、Zに沿った期待値を、あまり計算せずに素早く求めるにはどうしたらよいでしょうか。</summary> $R_X(theta)$ が次のようになること(画像参照)と、$|0\\rangle$ または $|1\\rangle$ への適用が $|0\\rangle$ を与え、Xがそれらを反転することを利用します。もう1つの方法は、密度行列を使ってパウリ行列の言葉で書き、パウリ行列の直交性を使う方法ですが、これにはもう少し密度行列に慣れる必要があります。</details>\n",
        "\n",
        "<details>   <summary>ブロッホ球のY軸にσyを当てはめるとどうなりますか？</summary> sigma_yの周りを回転する作用を $R_Y(theta)$ と書くと、どの状態でも $\\langle Y\\rangle$ には触れず、$\\langle X\\rangle$ と $\\langle Z\\rangle$ を正弦波の速度で交換するだけであることがわかります。 </details>\n",
        "\n",
        "<!-- ::: -->"
      ]
    }
  ],
  "metadata": {
    "kernelspec": {
      "display_name": "Python 3",
      "language": "python",
      "name": "python3"
    },
    "language_info": {
      "codemirror_mode": {
        "name": "ipython",
        "version": 3
      },
      "file_extension": ".py",
      "mimetype": "text/x-python",
      "name": "python",
      "nbconvert_exporter": "python",
      "pygments_lexer": "ipython3",
      "version": "3.9"
    }
  },
  "nbformat": 4,
  "nbformat_minor": 4
}
