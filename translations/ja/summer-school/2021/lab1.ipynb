{
  "cells": [
    {
      "cell_type": "markdown",
      "metadata": {
      },
      "source": [
        "# ラボ1：量子コンピューティングの操作とアルゴリズム\n",
        "\n",
        "<div class=\"youtube-wrapper\">     <iframe src=\"https://www.youtube.com/embed/uI02dn7PsHI\" title=\"YouTube video player\" frameborder=\"0\" allow=\"accelerometer; autoplay; clipboard-write; encrypted-media; gyroscope; picture-in-picture\" allowfullscreen=\"\"></iframe> </div>\n",
        "\n",
        "- Download the notebook: <a href=\"/content/summer-school/2021/resources/lab-notebooks/lab-1.ipynb\">[en]</a> <a href=\"/content/summer-school/2021/resources/lab-notebooks/lab-1-ja.ipynb\">[ja]</a>\n",
        "\n",
        "このラボでは、量子状態と回路を構築する方法を学び、簡単な量子アルゴリズムを実行します。\n",
        "\n",
        "量子状態と回路：\n",
        "\n",
        "- 段階的演習1-1：ビットフリップ\n",
        "- 段階的演習1-2：プラス状態\n",
        "- Graded Exercise 1-3: Minus State\n",
        "- 段階的演習1-4：複雑な状態\n",
        "- 段階的演習1-5：ベル状態\n",
        "- 段階的演習1-6：GHZのような状態\n",
        "\n",
        "ドイチ-ジョサのアルゴリズム：\n",
        "\n",
        "- 段階的演習1-7：古典ドイチ-ジョサ\n",
        "- 段階的演習1-8：量子ドイチ-ジョサ\n",
        "\n",
        "### ラボのコツ/ヒント\n",
        "\n",
        "- For all the exercises with gates just add the gate(s) and only gates.\n",
        "\n",
        "- For Ex6, look at the example with GHZ state and how it will look if you add X gate.\n",
        "\n",
        "- 例7の場合、均一の場合は、出力の半分が「0」で、もう一方が「1」であるということです。したがって、最悪の場合、確率の半分に1を加えたものをテストする必要があります。\n",
        "\n",
        "- 例8の場合、アルゴリズムをパーツごとに考えてください。[D-Jアルゴリズムに関するQiskit教科書の章](https://learn.qiskit.org/course/ch-algorithms/deutsch-jozsa-algorithm#full_alg)はとても役に立つでしょう。\n",
        "\n",
        "- To test your gate, please go to IBM Composer [here](https://quantum-computing.ibm.com/composer/files/new). As per the docs, \"IBM Quantum Composer is a graphical quantum programming tool that lets you drag and drop operations to build quantum circuits and run them on real quantum hardware or simulators.\"\n",
        "\n",
        "- 例7の場合、式は講義ノート2.1の「ドイチ-ジョサのアルゴリズム&gt;古典的な解」に記載されています。\n",
        "\n",
        "- 例6の代わりの解き方として、2番目のキュービットに対してビットフリップと位相フリップを実行する「Y」ゲートを使用する、というものがあります。たとえば、$|000\\rangle + |111\\rangle$は$|010 \\rangle - |101\\rangle$に変換されます。\n",
        "\n",
        "<!-- ::: q-block.reminder -->\n",
        "\n",
        "### FAQ\n",
        "\n",
        "<details><summary>ラボを完了するには、最初の2つの講義を見る必要がありますか？</summary>推奨されますが、必須ではありません。</details>\n",
        "\n",
        "<!-- ::: -->\n",
        "\n",
        "### 推奨リソース\n",
        "\n",
        "- Watch daytonellwanger on [Introduction to Quantum Computing (14) - Quantum Circuits and Gates](https://www.youtube.com/watch?v=wLv20RHqlgw)\n",
        "- Watch sentdex on [Deutsch Jozsa Algorithm - Quantum Computer Programming w/ Qiskit p.3](https://www.youtube.com/watch?v=_BHvE_pwF6E)\n",
        "- Read Qiskit on [Single Qubit Gates](/course/ch-states/single-qubit-gates)\n",
        "- Read Qiskit on [Deutsch-Jozsa Algorithm](https://learn.qiskit.org/course/ch-algorithms/deutsch-jozsa-algorithm#full_alg)\n",
        "- Read StackExchange on [Implementing Four Bell States on IBMQ](https://quantumcomputing.stackexchange.com/questions/2258/how-to-implement-the-4-bell-states-on-the-ibm-q-composer)\n",
        "- Watch Dr. Hwajung Kang on [Quantum Computing with Qiskit Fundamentals](https://www.youtube.com/watch?v=A2ViFq0yhLI)\n",
        "- Watch Dr. Hwajung Kang on [Quantum Computing with Qiskit Introduction to Algorithms](https://www.youtube.com/watch?v=uuCUUW6Bu2g)\n",
        "- Read Analysis of Deutsch-Jozsa Quantum Algorithm on [Suggested Resources: Materials ](https://eprint.iacr.org/2018/249.pdf)\n",
        "- Read Krantz P. et al. on [Quantum Engineer’s Guide to Superconducting Qubits](https://arxiv.org/pdf/1904.06560.pdf)\n",
        "- Read Muthukrishnan A.  on [Classical and Quantum Logic Gates](http://www2.optics.rochester.edu/~stroud/presentations/muthukrishnan991/LogicGates.pdf)"
      ]
    },
    {
      "cell_type": "code",
      "execution_count": null,
      "metadata": {
      },
      "outputs": [

      ],
      "source": [

      ]
    }
  ],
  "metadata": {
    "kernelspec": {
      "display_name": "Python 3",
      "language": "python",
      "name": "python3"
    },
    "language_info": {
      "codemirror_mode": {
        "name": "ipython",
        "version": 3
      },
      "file_extension": ".py",
      "mimetype": "text/x-python",
      "name": "python",
      "nbconvert_exporter": "python",
      "pygments_lexer": "ipython3",
      "version": "3.9"
    }
  },
  "nbformat": 4,
  "nbformat_minor": 4
}
