{
  "cells": [
    {
      "cell_type": "markdown",
      "metadata": {
      },
      "source": [
        "# ラボ1：量子コンピューティングの操作とアルゴリズム\n",
        "\n",
        "<div class=\"youtube-wrapper\">     <iframe src=\"https://www.youtube.com/embed/uI02dn7PsHI\" title=\"YouTube video player\" frameborder=\"0\" allow=\"accelerometer; autoplay; clipboard-write; encrypted-media; gyroscope; picture-in-picture\" allowfullscreen=\"\"></iframe> </div>\n",
        "\n",
        "- Download the notebook: <a href=\"/content/summer-school/2021/resources/lab-notebooks/lab-1.ipynb\">[en]</a> <a href=\"/content/summer-school/2021/resources/lab-notebooks/lab-1-ja.ipynb\">[ja]</a>\n",
        "\n",
        "このラボでは、量子状態と回路を構築する方法を学び、簡単な量子アルゴリズムを実行します。\n",
        "\n",
        "量子状態と回路：\n",
        "\n",
        "- 段階的演習1-1：ビットフリップ\n",
        "- 段階的演習1-2：プラス状態\n",
        "- Graded Exercise 1-3: Minus State\n",
        "- 段階的演習1-4：複雑な状態\n",
        "- 段階的演習1-5：ベル状態\n",
        "- 段階的演習1-6：GHZのような状態\n",
        "\n",
        "The Deutsch-Jozsa Algorithm:\n",
        "\n",
        "- Graded Exercise 1-7: Classical Deutsch-Jozsa\n",
        "- Graded Exercise 1-8: Quantum Deutsch-Jozsa\n",
        "\n",
        "### Lab Tips / Hints\n",
        "\n",
        "- For all the exercises with gates just add the gate(s) and only gates.\n",
        "\n",
        "- For Ex6, look at the example with GHZ state and how it will look if you add X gate.\n",
        "\n",
        "- For the Ex7, the balanced aspect is related to fact that half of the output are '0' and the other one is ‘1'. So in the worst case you have to test half of possibilities plus 1.\n",
        "\n",
        "- For the Ex8, think of the algorithm by parts. A good help is the [Qiskit textbook chapter on D-J algorithm](https://learn.qiskit.org/course/ch-algorithms/deutsch-jozsa-algorithm#full_alg).\n",
        "\n",
        "- To test your gate, please go to IBM Composer [here](https://quantum-computing.ibm.com/composer/files/new). As per the docs, \"IBM Quantum Composer is a graphical quantum programming tool that lets you drag and drop operations to build quantum circuits and run them on real quantum hardware or simulators.\"\n",
        "\n",
        "- For Ex7, the formula is mentioned in the lecture 2.1 notes, under the Deutsch-Jozsa Algorithm&gt;Classical Solution\n",
        "\n",
        "- For an alternate solution to Ex6, one can use “Y” gate it performs a bit flip and phase flip on the second qubit for e.g, $|000\\rangle + |111\\rangle$ changes to $|010\\rangle - |101\\rangle$\n",
        "\n",
        "<!-- ::: q-block.reminder -->\n",
        "\n",
        "### FAQ\n",
        "\n",
        "<details><summary>ラボを完了するには、最初の2つの講義を見る必要がありますか？</summary>推奨されますが、必須ではありません。</details>\n",
        "\n",
        "<!-- ::: -->\n",
        "\n",
        "### 推奨リソース\n",
        "\n",
        "- Watch daytonellwanger on [Introduction to Quantum Computing (14) - Quantum Circuits and Gates](https://www.youtube.com/watch?v=wLv20RHqlgw)\n",
        "- Watch sentdex on [Deutsch Jozsa Algorithm - Quantum Computer Programming w/ Qiskit p.3](https://www.youtube.com/watch?v=_BHvE_pwF6E)\n",
        "- Read Qiskit on [Single Qubit Gates](/course/ch-states/single-qubit-gates)\n",
        "- Read Qiskit on [Deutsch-Jozsa Algorithm](https://learn.qiskit.org/course/ch-algorithms/deutsch-jozsa-algorithm#full_alg)\n",
        "- Read StackExchange on [Implementing Four Bell States on IBMQ](https://quantumcomputing.stackexchange.com/questions/2258/how-to-implement-the-4-bell-states-on-the-ibm-q-composer)\n",
        "- Watch Dr. Hwajung Kang on [Quantum Computing with Qiskit Fundamentals](https://www.youtube.com/watch?v=A2ViFq0yhLI)\n",
        "- Watch Dr. Hwajung Kang on [Quantum Computing with Qiskit Introduction to Algorithms](https://www.youtube.com/watch?v=uuCUUW6Bu2g)\n",
        "- Read Analysis of Deutsch-Jozsa Quantum Algorithm on [Suggested Resources: Materials ](https://eprint.iacr.org/2018/249.pdf)\n",
        "- Read Krantz P. et al. on [Quantum Engineer’s Guide to Superconducting Qubits](https://arxiv.org/pdf/1904.06560.pdf)\n",
        "- Read Muthukrishnan A.  on [Classical and Quantum Logic Gates](http://www2.optics.rochester.edu/~stroud/presentations/muthukrishnan991/LogicGates.pdf)"
      ]
    },
    {
      "cell_type": "code",
      "execution_count": null,
      "metadata": {
      },
      "outputs": [

      ],
      "source": [

      ]
    }
  ],
  "metadata": {
    "kernelspec": {
      "display_name": "Python 3",
      "language": "python",
      "name": "python3"
    },
    "language_info": {
      "codemirror_mode": {
        "name": "ipython",
        "version": 3
      },
      "file_extension": ".py",
      "mimetype": "text/x-python",
      "name": "python",
      "nbconvert_exporter": "python",
      "pygments_lexer": "ipython3",
      "version": "3.9"
    }
  },
  "nbformat": 4,
  "nbformat_minor": 4
}
