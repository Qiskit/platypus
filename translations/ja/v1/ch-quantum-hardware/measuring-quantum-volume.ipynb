{
 "cells": [
  {
   "cell_type": "markdown",
   "metadata": {
    "tags": [
     "remove_cell"
    ]
   },
   "source": [
    "# 量子ボリュームの測定"
   ]
  },
  {
   "cell_type": "markdown",
   "metadata": {},
   "source": [
    "## 前書き\n",
    "\n",
    "**量子ボリューム (QV)** は、適度なサイズで近い将来に実現されるの量子コンピューター(near-term quantum computers)で具体的なプロトコルを使って測定できる単一の数値のメトリックです。QVメソッドでは、その量子コンピューターが正常に実装できる最大のランダムな量子回路の幅(width)と深さ(depth)を定量化します。量子コンピューティングシステムが、より高い量子ボリュームを持つためには、操作の忠実度が高いこと、量子ビットの連結数が多いこと、ゲートセットのキャリブレーションがより正確にされていること、回路書き換えのツールチェインを持つことが必要となってきます。\n",
    "\n",
    "\n",
    "## 量子ボリュームのプロトコル\n",
    "\n",
    "QVプロトコル([1]を参照)は、次のステップで構成されます：\n",
    "\n",
    "(最初にデモに関連するqiskitのクラスをインポートする必要があります。)"
   ]
  },
  {
   "cell_type": "code",
   "execution_count": 1,
   "metadata": {},
   "outputs": [],
   "source": [
    "import matplotlib.pyplot as plt\n",
    "from IPython.display import clear_output\n",
    "\n",
    "#Import Qiskit classes\n",
    "import qiskit\n",
    "from qiskit import assemble, transpile\n",
    "from qiskit.providers.aer.noise import NoiseModel\n",
    "from qiskit.providers.aer.noise.errors.standard_errors import depolarizing_error, thermal_relaxation_error\n",
    "\n",
    "#QVの機能をインポート\n",
    "import qiskit.ignis.verification.quantum_volume as qv"
   ]
  },
  {
   "cell_type": "markdown",
   "metadata": {},
   "source": [
    "### ステップ 1: QVシークエンスを生成する\n",
    "\n",
    "量子アルゴリズムが、2量子ビットのユニタリーゲートで作られた多項式サイズの量子回路として表現できることはよく知られています。したがって、モデルとなる回路は、量子ビットの番号がランダムな並びとなる$d$個の層(layer)で構成され、その後にランダムな($SU(4)$による)2量子ビットゲートが続きます。回路の幅$m$が奇数の場合、各層で1つの量子ビットがアイドルになります。\n",
    "\n",
    "より正確には、**深さ$d$** 、 **幅$m$** の **QV回路** は、$d$個の層のシーケンス$U = U^{(d)}...U^{(2)}U^{(1)}$ です：\n",
    "\n",
    "\n",
    "$$ U^{(t)} = U^{(t)}_{\\pi_t(m'-1),\\pi_t(m)} \\otimes ... \\otimes U^{(t)}_{\\pi_t(1),\\pi_t(2)} $$\n",
    "\n",
    "\n",
    "それぞれ時間が$t = 1 ... d$でラベルづけされ、$m' = 2 \\lfloor n/2 \\rfloor$の量子ビットに作用します。各層は、一様にランダムな順列$\\pi_t \\in S_m$($m$は$m$量子ビットを表す)を選択し、$SU(4)$のHaar測定から、量子ビット$a$および$b$に作用する各$U^{(t)}_{a,b}$をサンプリングすることによって指定されます。\n",
    "\n",
    "次の例では、Q0、Q1、Q3、Q5、Q7、Q10の6つの量子ビットがあります。 フルセットまでのサブセットを調べます（各ボリューム回路の深さは、サブセットの量子ビットの数と同じです）。"
   ]
  },
  {
   "cell_type": "code",
   "execution_count": 2,
   "metadata": {},
   "outputs": [],
   "source": [
    "# qubit_lists: QV回路を生成するための量子ビットサブセットのリストのリスト\n",
    "qubit_lists = [[0,1,3],[0,1,3,5],[0,1,3,5,7],[0,1,3,5,7,10]]\n",
    "# ntrials: サブセットごとに作成するランダム回路の数\n",
    "ntrials = 100"
   ]
  },
  {
   "cell_type": "markdown",
   "metadata": {},
   "source": [
    "量子ボリュームシーケンスを生成します。 （実行に時間がかかりすぎないように）小さな例から始めます。"
   ]
  },
  {
   "cell_type": "code",
   "execution_count": 3,
   "metadata": {},
   "outputs": [],
   "source": [
    "import warnings\n",
    "warnings.filterwarnings('ignore')\n",
    "qv_circs, qv_circs_nomeas = qv.qv_circuits(qubit_lists, ntrials)"
   ]
  },
  {
   "cell_type": "markdown",
   "metadata": {},
   "source": [
    "例として、最初のQVシーケンスに対応する回路を表示します。 理想的な回路は最初のn量子ビットで実行されることに注意してください（nはサブセット内の量子ビットの数です）。"
   ]
  },
  {
   "cell_type": "code",
   "execution_count": 4,
   "metadata": {},
   "outputs": [],
   "source": [
    "#nomeasの最初の試行をtranspiler に通して回路を表示します\n",
    "qv_circs_nomeas[0] = qiskit.compiler.transpile(qv_circs_nomeas[0], basis_gates=['u1','u2','u3','cx'])"
   ]
  },
  {
   "cell_type": "code",
   "execution_count": 5,
   "metadata": {},
   "outputs": [
    {
     "name": "stdout",
     "output_type": "stream",
     "text": [
      "         ┌───────────────────────┐        ┌─────────────────────────┐     »\n",
      "qr_0: ───┤ U3(1.626,-2.616,3.53) ├─────■──┤ U3(0.74089,-pi/2,-pi/2) ├──■──»\n",
      "      ┌──┴───────────────────────┴──┐  │  └─────────────────────────┘  │  »\n",
      "qr_1: ┤ U3(1.2194,-0.082533,4.5009) ├──┼───────────────────────────────┼──»\n",
      "      └─┬──────────────────────────┬┘┌─┴─┐    ┌─────────────────┐    ┌─┴─┐»\n",
      "qr_2: ──┤ U3(1.9217,-2.201,2.0955) ├─┤ X ├────┤ U2(-pi,-3.1208) ├────┤ X ├»\n",
      "        └──────────────────────────┘ └───┘    └─────────────────┘    └───┘»\n",
      "cr_0: ════════════════════════════════════════════════════════════════════»\n",
      "                                                                          »\n",
      "cr_1: ════════════════════════════════════════════════════════════════════»\n",
      "                                                                          »\n",
      "cr_2: ════════════════════════════════════════════════════════════════════»\n",
      "                                                                          »\n",
      "«      ┌──────────────────────┐     ┌────────────────────────────┐     »\n",
      "«qr_0: ┤ U3(0.5738,-pi,-pi/2) ├──■──┤ U3(1.2658,-3.2174,-1.0694) ├─────»\n",
      "«      └──────────────────────┘  │  └────────────────────────────┘     »\n",
      "«qr_1: ──────────────────────────┼──────────────────────────────────■──»\n",
      "«          ┌──────────────┐    ┌─┴─┐┌───────────────────────────┐ ┌─┴─┐»\n",
      "«qr_2: ────┤ U2(0,-3pi/2) ├────┤ X ├┤ U3(1.9604,-2.8021,1.0745) ├─┤ X ├»\n",
      "«          └──────────────┘    └───┘└───────────────────────────┘ └───┘»\n",
      "«cr_0: ════════════════════════════════════════════════════════════════»\n",
      "«                                                                      »\n",
      "«cr_1: ════════════════════════════════════════════════════════════════»\n",
      "«                                                                      »\n",
      "«cr_2: ════════════════════════════════════════════════════════════════»\n",
      "«                                                                      »\n",
      "«                                                                  »\n",
      "«qr_0: ────────────────────────────────────────────────────────────»\n",
      "«      ┌────────────────────────┐     ┌──────────────────────┐     »\n",
      "«qr_1: ┤ U3(0.7952,-pi/2,-pi/2) ├──■──┤ U3(0.20257,0,-3pi/2) ├──■──»\n",
      "«      └──┬─────────────────┬───┘┌─┴─┐└───┬──────────────┬───┘┌─┴─┐»\n",
      "«qr_2: ───┤ U2(-pi,-3.0148) ├────┤ X ├────┤ U2(0,-3pi/2) ├────┤ X ├»\n",
      "«         └─────────────────┘    └───┘    └──────────────┘    └───┘»\n",
      "«cr_0: ════════════════════════════════════════════════════════════»\n",
      "«                                                                  »\n",
      "«cr_1: ════════════════════════════════════════════════════════════»\n",
      "«                                                                  »\n",
      "«cr_2: ════════════════════════════════════════════════════════════»\n",
      "«                                                                  »\n",
      "«                                         ┌─────────────────────────┐     »\n",
      "«qr_0: ────────────────────────────────■──┤ U3(0.80486,-pi/2,-pi/2) ├──■──»\n",
      "«      ┌───────────────────────────┐ ┌─┴─┐└───┬─────────────────┬───┘┌─┴─┐»\n",
      "«qr_1: ┤ U3(1.7937,-2.2026,8.6088) ├─┤ X ├────┤ U2(-pi,-3.0236) ├────┤ X ├»\n",
      "«      ├───────────────────────────┴┐└───┘    └─────────────────┘    └───┘»\n",
      "«qr_2: ┤ U3(1.1913,0.95012,0.10112) ├─────────────────────────────────────»\n",
      "«      └────────────────────────────┘                                     »\n",
      "«cr_0: ═══════════════════════════════════════════════════════════════════»\n",
      "«                                                                         »\n",
      "«cr_1: ═══════════════════════════════════════════════════════════════════»\n",
      "«                                                                         »\n",
      "«cr_2: ═══════════════════════════════════════════════════════════════════»\n",
      "«                                                                         »\n",
      "«      ┌────────────────────────┐     ┌───────────────────────────┐ \n",
      "«qr_0: ┤ U3(0.024692,-pi,-pi/2) ├──■──┤ U3(1.2056,1.9936,-3.2384) ├─\n",
      "«      └────┬──────────────┬────┘┌─┴─┐├───────────────────────────┴┐\n",
      "«qr_1: ─────┤ U2(0,-3pi/2) ├─────┤ X ├┤ U3(1.5572,0.17138,-5.7818) ├\n",
      "«           └──────────────┘     └───┘└────────────────────────────┘\n",
      "«qr_2: ─────────────────────────────────────────────────────────────\n",
      "«                                                                   \n",
      "«cr_0: ═════════════════════════════════════════════════════════════\n",
      "«                                                                   \n",
      "«cr_1: ═════════════════════════════════════════════════════════════\n",
      "«                                                                   \n",
      "«cr_2: ═════════════════════════════════════════════════════════════\n",
      "«                                                                   \n"
     ]
    }
   ],
   "source": [
    "qv_circs_nomeas[0][0].draw(fold=-1)"
   ]
  },
  {
   "cell_type": "markdown",
   "metadata": {},
   "source": [
    "### Step 2: ステップ 2: 理想的なQV回路をシミュレーションする\n",
    "\n",
    "量子ボリュームメソッドでは、各回路の理想的な出力がわかっている必要があるため、Aerの状態ベクトルシミュレーターを使用して理想的な結果を取得します。"
   ]
  },
  {
   "cell_type": "code",
   "execution_count": 6,
   "metadata": {},
   "outputs": [
    {
     "name": "stdout",
     "output_type": "stream",
     "text": [
      "Simulating trial 0\n",
      "Simulating trial 1\n",
      "Simulating trial 2\n",
      "Simulating trial 3\n",
      "Simulating trial 4\n",
      "Simulating trial 5\n",
      "Simulating trial 6\n",
      "Simulating trial 7\n",
      "Simulating trial 8\n",
      "Simulating trial 9\n",
      "Simulating trial 10\n",
      "Simulating trial 11\n",
      "Simulating trial 12\n",
      "Simulating trial 13\n",
      "Simulating trial 14\n",
      "Simulating trial 15\n",
      "Simulating trial 16\n",
      "Simulating trial 17\n",
      "Simulating trial 18\n",
      "Simulating trial 19\n",
      "Simulating trial 20\n",
      "Simulating trial 21\n",
      "Simulating trial 22\n",
      "Simulating trial 23\n",
      "Simulating trial 24\n",
      "Simulating trial 25\n",
      "Simulating trial 26\n",
      "Simulating trial 27\n",
      "Simulating trial 28\n",
      "Simulating trial 29\n",
      "Simulating trial 30\n",
      "Simulating trial 31\n",
      "Simulating trial 32\n",
      "Simulating trial 33\n",
      "Simulating trial 34\n",
      "Simulating trial 35\n",
      "Simulating trial 36\n",
      "Simulating trial 37\n",
      "Simulating trial 38\n",
      "Simulating trial 39\n",
      "Simulating trial 40\n",
      "Simulating trial 41\n",
      "Simulating trial 42\n",
      "Simulating trial 43\n",
      "Simulating trial 44\n",
      "Simulating trial 45\n",
      "Simulating trial 46\n",
      "Simulating trial 47\n",
      "Simulating trial 48\n",
      "Simulating trial 49\n"
     ]
    }
   ],
   "source": [
    "#ユニタリー行列はグローバルフェーズではidentity(単位行列)です\n",
    "sv_sim = qiskit.Aer.get_backend('aer_simulator')\n",
    "ideal_results = []\n",
    "for trial in range(ntrials):\n",
    "    clear_output(wait=True)\n",
    "    for qc in qv_circs_nomeas[trial]:\n",
    "        qc.save_statevector()\n",
    "    result = qiskit.execute(qv_circs_nomeas[trial], backend=sv_sim).result()\n",
    "    ideal_results.append(result)\n",
    "    print(f'Simulated trial {trial+1}/{ntrials}')"
   ]
  },
  {
   "cell_type": "markdown",
   "metadata": {},
   "source": [
    "次に、この理想的な結果を量子ボリューム・フィッターにロードします。"
   ]
  },
  {
   "cell_type": "code",
   "execution_count": 7,
   "metadata": {},
   "outputs": [],
   "source": [
    "qv_fitter = qv.QVFitter(qubit_lists=qubit_lists)\n",
    "qv_fitter.add_statevectors(ideal_results)"
   ]
  },
  {
   "cell_type": "markdown",
   "metadata": {},
   "source": [
    "### ステップ 3: ヘビー・アウトプットの計算をする\n",
    "\n",
    "モデル回路$U$が実際に正常に実装された時を定義するには、*ヘビー・アウトプット* (heavy output)を生成する問題を使います。理想的な出力分布は$p_U(x) = |\\langle x|U|0 \\rangle|^2$です。ここで、$x \\in \\{0,1\\}^m$は観測可能なビット文字列です。\n",
    "\n",
    "昇順$p_0 \\leq p_1 \\leq \\dots \\leq p_{2^m-1}$でソートされた$p_U(x)$の範囲によって与えられる出力確率のセットを考えます。確率のセットの中央値は$p_{med} = (p_{2^{m-1}} + p_{2^{m-1}-1})/2$で、*ヘビー・アウトプット* は以下です。\n",
    "\n",
    "$\\hspace{15pt} H_U = \\{ x \\in \\{0,1\\}^m$ここで$ p_U(x)>p_{med} \\}.$\n",
    "\n",
    "重い出力生成する問題は、3分の2以上がヘビー・アウトプットの文字列のセットを生成することです。\n",
    "\n",
    "例として、さまざまな深さからのヘビー・アウトプットとその確率を出力します(試行回数0の場合)："
   ]
  },
  {
   "cell_type": "code",
   "execution_count": 8,
   "metadata": {},
   "outputs": [
    {
     "name": "stdout",
     "output_type": "stream",
     "text": [
      "qv_depth_3_trial_0: ['001', '010', '101', '110']\n",
      "qv_depth_4_trial_0: ['0000', '0001', '0010', '0011', '0111', '1010', '1101', '1110']\n",
      "qv_depth_5_trial_0: ['00000', '00011', '00101', '01000', '01001', '10000', '10001', '10010', '10011', '10100', '10101', '10110', '11001', '11011', '11100', '11101']\n",
      "qv_depth_6_trial_0: ['000000', '000100', '001000', '001001', '001011', '001100', '001111', '010000', '010010', '010100', '010101', '010111', '011000', '011001', '011010', '011011', '100000', '100001', '100010', '100100', '100101', '101100', '101101', '101111', '110001', '110011', '110101', '110110', '110111', '111001', '111011', '111100']\n"
     ]
    }
   ],
   "source": [
    "for qubit_list in qubit_lists:\n",
    "    l = len(qubit_list)\n",
    "    print ('qv_depth_'+str(l)+'_trial_0:', qv_fitter._heavy_outputs['qv_depth_'+str(l)+'_trial_0'])"
   ]
  },
  {
   "cell_type": "code",
   "execution_count": 9,
   "metadata": {},
   "outputs": [
    {
     "name": "stdout",
     "output_type": "stream",
     "text": [
      "qv_depth_3_trial_0: 0.8767167718108534\n",
      "qv_depth_4_trial_0: 0.7579879384625499\n",
      "qv_depth_5_trial_0: 0.7494374821348169\n",
      "qv_depth_6_trial_0: 0.8363454481453244\n"
     ]
    }
   ],
   "source": [
    "for qubit_list in qubit_lists:\n",
    "    l = len(qubit_list)\n",
    "    print ('qv_depth_'+str(l)+'_trial_0:', qv_fitter._heavy_output_prob_ideal['qv_depth_'+str(l)+'_trial_0'])"
   ]
  },
  {
   "cell_type": "markdown",
   "metadata": {},
   "source": [
    "### ステップ 4: ノイズモデルを定義する\n",
    "\n",
    "シミュレーターのノイズモデルを定義します。減衰をシミュレートするために、CNOTおよびUゲートに脱分極エラー(depolarizing error)の確率を追加します。"
   ]
  },
  {
   "cell_type": "code",
   "execution_count": 10,
   "metadata": {},
   "outputs": [],
   "source": [
    "noise_model = NoiseModel()\n",
    "p1Q = 0.002\n",
    "p2Q = 0.02\n",
    "noise_model.add_all_qubit_quantum_error(depolarizing_error(p1Q, 1), 'u2')\n",
    "noise_model.add_all_qubit_quantum_error(depolarizing_error(2*p1Q, 1), 'u3')\n",
    "noise_model.add_all_qubit_quantum_error(depolarizing_error(p2Q, 2), 'cx')"
   ]
  },
  {
   "cell_type": "markdown",
   "metadata": {},
   "source": [
    "Qiskit Aerシミュレーター(ノイズモデルあり)またはIBMQプロバイダーを使用してQVシーケンスを実行し、exp_resultsのリストを取得することができます。"
   ]
  },
  {
   "cell_type": "code",
   "execution_count": 11,
   "metadata": {},
   "outputs": [
    {
     "name": "stdout",
     "output_type": "stream",
     "text": [
      "Running trial 0\n",
      "Running trial 1\n",
      "Running trial 2\n",
      "Running trial 3\n",
      "Running trial 4\n",
      "Running trial 5\n",
      "Running trial 6\n",
      "Running trial 7\n",
      "Running trial 8\n",
      "Running trial 9\n",
      "Running trial 10\n",
      "Running trial 11\n",
      "Running trial 12\n",
      "Running trial 13\n",
      "Running trial 14\n",
      "Running trial 15\n",
      "Running trial 16\n",
      "Running trial 17\n",
      "Running trial 18\n",
      "Running trial 19\n",
      "Running trial 20\n",
      "Running trial 21\n",
      "Running trial 22\n",
      "Running trial 23\n",
      "Running trial 24\n",
      "Running trial 25\n",
      "Running trial 26\n",
      "Running trial 27\n",
      "Running trial 28\n",
      "Running trial 29\n",
      "Running trial 30\n",
      "Running trial 31\n",
      "Running trial 32\n",
      "Running trial 33\n",
      "Running trial 34\n",
      "Running trial 35\n",
      "Running trial 36\n",
      "Running trial 37\n",
      "Running trial 38\n",
      "Running trial 39\n",
      "Running trial 40\n",
      "Running trial 41\n",
      "Running trial 42\n",
      "Running trial 43\n",
      "Running trial 44\n",
      "Running trial 45\n",
      "Running trial 46\n",
      "Running trial 47\n",
      "Running trial 48\n",
      "Running trial 49\n"
     ]
    }
   ],
   "source": [
    "aer_sim = qiskit.Aer.get_backend('aer_simulator')\n",
    "basis_gates = ['u1','u2','u3','cx'] # use U,CX for now\n",
    "shots = 1024\n",
    "exp_results = []\n",
    "for trial in range(ntrials):\n",
    "    clear_output(wait=True)\n",
    "    t_qcs = transpile(qv_circs[trial], basis_gates=basis_gates, optimization_level=3)\n",
    "    qobj = assemble(t_qcs)\n",
    "    result = aer_sim.run(qobj, noise_model=noise_model, max_parallel_experiments=0).result()\n",
    "    exp_results.append(result)\n",
    "    print(f'Completed trial {trial+1}/{ntrials}')"
   ]
  },
  {
   "cell_type": "markdown",
   "metadata": {},
   "source": [
    "### ステップ 5: 平均ゲート忠実度を計算する\n",
    "\n",
    "$m$-量子ビットの理想的なユニタリー$U$と実行された$U'$の間の*平均ゲート忠実度 (fidelity)* は次のとおりです：\n",
    "\n",
    "$$ F_{avg}(U,U') = \\frac{|Tr(U^{\\dagger}U')|^2/2^m+1}{2^m+1}$$\n",
    "\n",
    "モデル回路$U$の実装$U'$の観測された分布は$q_U(x)$であり、重い出力をサンプリングする確率は次のとおりです：\n",
    "\n",
    "$$ h_U = \\sum_{x \\in H_U} q_U(x)$$\n",
    "\n",
    "例として、さまざまな深さからの重い出力カウントを表示します(試行回数0の場合)："
   ]
  },
  {
   "cell_type": "code",
   "execution_count": 12,
   "metadata": {},
   "outputs": [
    {
     "name": "stdout",
     "output_type": "stream",
     "text": [
      "qv_depth_3_trial_0: 825\n",
      "qv_depth_4_trial_0: 684\n",
      "qv_depth_5_trial_0: 674\n",
      "qv_depth_6_trial_0: 631\n"
     ]
    }
   ],
   "source": [
    "qv_fitter.add_data(exp_results)\n",
    "for qubit_list in qubit_lists:\n",
    "    l = len(qubit_list)\n",
    "    #print (qv_fitter._heavy_output_counts)\n",
    "    print ('qv_depth_'+str(l)+'_trial_0:', qv_fitter._heavy_output_counts['qv_depth_'+str(l)+'_trial_0'])"
   ]
  },
  {
   "cell_type": "markdown",
   "metadata": {},
   "source": [
    "### ステップ 6: 達成可能な深さを計算する\n",
    "\n",
    "ランダムに選択された深さ$d$のモデル回路を実装することによって重い出力を観測する確率は、次のとおりです：\n",
    "\n",
    "$$h_d = \\int_U h_U dU$$\n",
    "\n",
    "*達成可能な深さ* $d(m)$は、$h_d > 2/3$であると確信できる最大の$d$です。 言い換えると、\n",
    "\n",
    "$$ h_1,h_2,\\dots,h_{d(m)}>2/3 \\text{ and } h_{d(m+1)} \\leq 2/3$$\n",
    "\n",
    "次に、さまざまな試行で重い出力を変換し、グラフをプロットするための平均$h_d$と誤差を計算します。"
   ]
  },
  {
   "cell_type": "code",
   "execution_count": 13,
   "metadata": {},
   "outputs": [
    {
     "data": {
      "image/svg+xml": [
       "<?xml version=\"1.0\" encoding=\"UTF-8\"?><!DOCTYPE svg  PUBLIC '-//W3C//DTD SVG 1.1//EN'  'http://www.w3.org/Graphics/SVG/1.1/DTD/svg11.dtd'><svg width=\"651.12pt\" height=\"499.74pt\" version=\"1.1\" viewBox=\"0 0 651.12 499.74\" xmlns=\"http://www.w3.org/2000/svg\" xmlns:xlink=\"http://www.w3.org/1999/xlink\"><defs><style type=\"text/css\">*{stroke-linecap:butt;stroke-linejoin:round;}</style></defs><path d=\"m0 499.74h651.12v-499.74h-651.12z\" fill=\"none\"/><path d=\"m64.857 373.19h558v-326.16h-558z\" fill=\"#ffffff\"/><path d=\"m90.221 373.19v-326.16\" clip-path=\"url(#pea94c56b86)\" fill=\"none\" stroke=\"#b0b0b0\" stroke-linecap=\"square\" stroke-width=\".8\"/><defs><path id=\"md7b51b5887\" d=\"m0 0v3.5\" stroke=\"#000000\" stroke-width=\".8\"/></defs><use x=\"90.220511\" y=\"373.19325\" stroke=\"#000000\" stroke-width=\".8\" xlink:href=\"#md7b51b5887\"/><defs><path id=\"DejaVuSans-91\" d=\"m8.5938 75.984h20.703v-6.9844h-11.719v-75.203h11.719v-6.9844h-20.703z\"/><path id=\"DejaVuSans-48\" d=\"m31.781 66.406q-7.6094 0-11.453-7.5-3.8281-7.4844-3.8281-22.531 0-14.984 3.8281-22.484 3.8438-7.5 11.453-7.5 7.6719 0 11.5 7.5 3.8438 7.5 3.8438 22.484 0 15.047-3.8438 22.531-3.8281 7.5-11.5 7.5zm0 7.8125q12.266 0 18.734-9.7031 6.4688-9.6875 6.4688-28.141 0-18.406-6.4688-28.109-6.4688-9.6875-18.734-9.6875-12.25 0-18.719 9.6875-6.4688 9.7031-6.4688 28.109 0 18.453 6.4688 28.141 6.4688 9.7031 18.719 9.7031z\"/><path id=\"DejaVuSans-44\" d=\"m11.719 12.406h10.297v-8.4062l-8-15.625h-6.2969l4 15.625z\"/><path id=\"DejaVuSans-49\" d=\"m12.406 8.2969h16.109v55.625l-17.531-3.5156v8.9844l17.438 3.5156h9.8594v-64.609h16.109v-8.2969h-41.984z\"/><path id=\"DejaVuSans-51\" d=\"m40.578 39.312q7.0781-1.5156 11.047-6.3125 3.9844-4.7812 3.9844-11.812 0-10.781-7.4219-16.703-7.4219-5.9062-21.094-5.9062-4.5781 0-9.4375 0.90625t-10.031 2.7188v9.5156q4.0938-2.3906 8.9688-3.6094 4.8906-1.2188 10.219-1.2188 9.2656 0 14.125 3.6562t4.8594 10.641q0 6.4531-4.5156 10.078-4.5156 3.6406-12.562 3.6406h-8.5v8.1094h8.8906q7.2656 0 11.125 2.9062t3.8594 8.375q0 5.6094-3.9844 8.6094-3.9688 3.0156-11.391 3.0156-4.0625 0-8.7031-0.89062-4.6406-0.875-10.203-2.7188v8.7812q5.625 1.5625 10.531 2.3438t9.25 0.78125q11.234 0 17.766-5.1094 6.5469-5.0938 6.5469-13.781 0-6.0625-3.4688-10.234t-9.8594-5.7812z\"/><path id=\"DejaVuSans-93\" d=\"m30.422 75.984v-89.172h-20.703v6.9844h11.672v75.203h-11.672v6.9844z\"/></defs><g transform=\"translate(73.35 426.92) rotate(-45) scale(.14 -.14)\"><use xlink:href=\"#DejaVuSans-91\"/><use x=\"39.013672\" xlink:href=\"#DejaVuSans-48\"/><use x=\"102.636719\" xlink:href=\"#DejaVuSans-44\"/><use x=\"134.423828\" xlink:href=\"#DejaVuSans-32\"/><use x=\"166.210938\" xlink:href=\"#DejaVuSans-49\"/><use x=\"229.833984\" xlink:href=\"#DejaVuSans-44\"/><use x=\"261.621094\" xlink:href=\"#DejaVuSans-32\"/><use x=\"293.408203\" xlink:href=\"#DejaVuSans-51\"/><use x=\"357.03125\" xlink:href=\"#DejaVuSans-93\"/></g><path d=\"m259.31 373.19v-326.16\" clip-path=\"url(#pea94c56b86)\" fill=\"none\" stroke=\"#b0b0b0\" stroke-linecap=\"square\" stroke-width=\".8\"/><use x=\"259.31142\" y=\"373.19325\" stroke=\"#000000\" stroke-width=\".8\" xlink:href=\"#md7b51b5887\"/><defs><path id=\"DejaVuSans-53\" d=\"m10.797 72.906h38.719v-8.3125h-29.688v-17.859q2.1406 0.73438 4.2812 1.0938 2.1562 0.35938 4.3125 0.35938 12.203 0 19.328-6.6875 7.1406-6.6875 7.1406-18.109 0-11.766-7.3281-18.297-7.3281-6.5156-20.656-6.5156-4.5938 0-9.3594 0.78125-4.75 0.78125-9.8281 2.3438v9.9219q4.3906-2.3906 9.0781-3.5625t9.9062-1.1719q8.4531 0 13.375 4.4375 4.9375 4.4375 4.9375 12.062 0 7.6094-4.9375 12.047-4.9219 4.4531-13.375 4.4531-3.9531 0-7.8906-0.875-3.9219-0.875-8.0156-2.7344z\"/></defs><g transform=\"translate(236.15 439.51) rotate(-45) scale(.14 -.14)\"><use xlink:href=\"#DejaVuSans-91\"/><use x=\"39.013672\" xlink:href=\"#DejaVuSans-48\"/><use x=\"102.636719\" xlink:href=\"#DejaVuSans-44\"/><use x=\"134.423828\" xlink:href=\"#DejaVuSans-32\"/><use x=\"166.210938\" xlink:href=\"#DejaVuSans-49\"/><use x=\"229.833984\" xlink:href=\"#DejaVuSans-44\"/><use x=\"261.621094\" xlink:href=\"#DejaVuSans-32\"/><use x=\"293.408203\" xlink:href=\"#DejaVuSans-51\"/><use x=\"357.03125\" xlink:href=\"#DejaVuSans-44\"/><use x=\"388.818359\" xlink:href=\"#DejaVuSans-32\"/><use x=\"420.605469\" xlink:href=\"#DejaVuSans-53\"/><use x=\"484.228516\" xlink:href=\"#DejaVuSans-93\"/></g><path d=\"m428.4 373.19v-326.16\" clip-path=\"url(#pea94c56b86)\" fill=\"none\" stroke=\"#b0b0b0\" stroke-linecap=\"square\" stroke-width=\".8\"/><use x=\"428.40233\" y=\"373.19325\" stroke=\"#000000\" stroke-width=\".8\" xlink:href=\"#md7b51b5887\"/><defs><path id=\"DejaVuSans-55\" d=\"m8.2031 72.906h46.875v-4.2031l-26.469-68.703h-10.297l24.906 64.594h-35.016z\"/></defs><g transform=\"translate(398.94 452.1) rotate(-45) scale(.14 -.14)\"><use xlink:href=\"#DejaVuSans-91\"/><use x=\"39.013672\" xlink:href=\"#DejaVuSans-48\"/><use x=\"102.636719\" xlink:href=\"#DejaVuSans-44\"/><use x=\"134.423828\" xlink:href=\"#DejaVuSans-32\"/><use x=\"166.210938\" xlink:href=\"#DejaVuSans-49\"/><use x=\"229.833984\" xlink:href=\"#DejaVuSans-44\"/><use x=\"261.621094\" xlink:href=\"#DejaVuSans-32\"/><use x=\"293.408203\" xlink:href=\"#DejaVuSans-51\"/><use x=\"357.03125\" xlink:href=\"#DejaVuSans-44\"/><use x=\"388.818359\" xlink:href=\"#DejaVuSans-32\"/><use x=\"420.605469\" xlink:href=\"#DejaVuSans-53\"/><use x=\"484.228516\" xlink:href=\"#DejaVuSans-44\"/><use x=\"516.015625\" xlink:href=\"#DejaVuSans-32\"/><use x=\"547.802734\" xlink:href=\"#DejaVuSans-55\"/><use x=\"611.425781\" xlink:href=\"#DejaVuSans-93\"/></g><path d=\"m597.49 373.19v-326.16\" clip-path=\"url(#pea94c56b86)\" fill=\"none\" stroke=\"#b0b0b0\" stroke-linecap=\"square\" stroke-width=\".8\"/><use x=\"597.493239\" y=\"373.19325\" stroke=\"#000000\" stroke-width=\".8\" xlink:href=\"#md7b51b5887\"/><g transform=\"translate(558.59 470.99) rotate(-45) scale(.14 -.14)\"><use xlink:href=\"#DejaVuSans-91\"/><use x=\"39.013672\" xlink:href=\"#DejaVuSans-48\"/><use x=\"102.636719\" xlink:href=\"#DejaVuSans-44\"/><use x=\"134.423828\" xlink:href=\"#DejaVuSans-32\"/><use x=\"166.210938\" xlink:href=\"#DejaVuSans-49\"/><use x=\"229.833984\" xlink:href=\"#DejaVuSans-44\"/><use x=\"261.621094\" xlink:href=\"#DejaVuSans-32\"/><use x=\"293.408203\" xlink:href=\"#DejaVuSans-51\"/><use x=\"357.03125\" xlink:href=\"#DejaVuSans-44\"/><use x=\"388.818359\" xlink:href=\"#DejaVuSans-32\"/><use x=\"420.605469\" xlink:href=\"#DejaVuSans-53\"/><use x=\"484.228516\" xlink:href=\"#DejaVuSans-44\"/><use x=\"516.015625\" xlink:href=\"#DejaVuSans-32\"/><use x=\"547.802734\" xlink:href=\"#DejaVuSans-55\"/><use x=\"611.425781\" xlink:href=\"#DejaVuSans-44\"/><use x=\"643.212891\" xlink:href=\"#DejaVuSans-32\"/><use x=\"675\" xlink:href=\"#DejaVuSans-49\"/><use x=\"738.623047\" xlink:href=\"#DejaVuSans-48\"/><use x=\"802.246094\" xlink:href=\"#DejaVuSans-93\"/></g><defs><path id=\"DejaVuSans-81\" d=\"m39.406 66.219q-10.75 0-17.078-8.0156-6.3125-8-6.3125-21.828 0-13.766 6.3125-21.781 6.3281-8 17.078-8 10.734 0 17.016 8 6.2812 8.0156 6.2812 21.781 0 13.828-6.2812 21.828-6.2812 8.0156-17.016 8.0156zm13.812-64.906 13-14.203h-11.922l-10.797 11.672q-1.6094-0.09375-2.4688-0.14062-0.84375-0.0625-1.625-0.0625-15.375 0-24.594 10.281-9.2031 10.281-9.2031 27.516 0 17.281 9.2031 27.562 9.2188 10.281 24.594 10.281 15.328 0 24.5-10.281 9.1875-10.281 9.1875-27.562 0-12.688-5.1094-21.734-5.0938-9.0312-14.766-13.328z\"/><path id=\"DejaVuSans-117\" d=\"m8.5 21.578v33.109h8.9844v-32.766q0-7.7656 3.0156-11.656 3.0312-3.875 9.0938-3.875 7.2656 0 11.484 4.6406 4.2344 4.6406 4.2344 12.656v31h8.9844v-54.688h-8.9844v8.4062q-3.2656-4.9844-7.5938-7.4062-4.3125-2.4219-10.031-2.4219-9.4219 0-14.312 5.8594-4.875 5.8594-4.875 17.141z\"/><path id=\"DejaVuSans-98\" d=\"m48.688 27.297q0 9.9062-4.0781 15.547t-11.203 5.6406q-7.1406 0-11.219-5.6406t-4.0781-15.547 4.0781-15.547 11.219-5.6406q7.125 0 11.203 5.6406t4.0781 15.547zm-30.578 19.094q2.8438 4.875 7.1562 7.2344 4.3281 2.375 10.328 2.375 9.9688 0 16.188-7.9062 6.2344-7.9062 6.2344-20.797t-6.2344-20.812q-6.2188-7.9062-16.188-7.9062-6 0-10.328 2.375-4.3125 2.375-7.1562 7.25v-8.2031h-9.0312v75.984h9.0312z\"/><path id=\"DejaVuSans-105\" d=\"m9.4219 54.688h8.9844v-54.688h-8.9844zm0 21.297h8.9844v-11.391h-8.9844z\"/><path id=\"DejaVuSans-116\" d=\"m18.312 70.219v-15.531h18.5v-6.9844h-18.5v-29.688q0-6.6875 1.8281-8.5938t7.4531-1.9062h9.2188v-7.5156h-9.2188q-10.406 0-14.359 3.875-3.9531 3.8906-3.9531 14.141v29.688h-6.5938v6.9844h6.5938v15.531z\"/><path id=\"DejaVuSans-83\" d=\"m53.516 70.516v-9.625q-5.6094 2.6875-10.594 4-4.9844 1.3281-9.625 1.3281-8.0469 0-12.422-3.125t-4.375-8.8906q0-4.8438 2.9062-7.3125 2.9062-2.4531 11.016-3.9688l5.9531-1.2188q11.031-2.1094 16.281-7.4062t5.25-14.172q0-10.609-7.1094-16.078-7.0938-5.4688-20.812-5.4688-5.1719 0-11.016 1.1719-5.8281 1.1719-12.078 3.4688v10.156q6-3.3594 11.766-5.0781 5.7656-1.7031 11.328-1.7031 8.4375 0 13.031 3.3125 4.5938 3.3281 4.5938 9.4844 0 5.3594-3.2969 8.3906t-10.812 4.5469l-6.0156 1.1719q-11.031 2.1875-15.969 6.875-4.9219 4.6875-4.9219 13.047 0 9.6719 6.8125 15.234t18.766 5.5625q5.1406 0 10.453-0.9375 5.3281-0.92188 10.891-2.7656z\"/><path id=\"DejaVuSans-115\" d=\"m44.281 53.078v-8.5q-3.7969 1.9531-7.9062 2.9219-4.0938 0.98438-8.5 0.98438-6.6875 0-10.031-2.0469t-3.3438-6.1562q0-3.125 2.3906-4.9062t9.625-3.3906l3.0781-0.6875q9.5625-2.0469 13.594-5.7812t4.0312-10.422q0-7.625-6.0312-12.078-6.0312-4.4375-16.578-4.4375-4.3906 0-9.1562 0.85938t-10.031 2.5625v9.2812q4.9844-2.5938 9.8125-3.8906 4.8281-1.2812 9.5781-1.2812 6.3438 0 9.75 2.1719 3.4219 2.1719 3.4219 6.125 0 3.6562-2.4688 5.6094-2.4531 1.9531-10.812 3.7656l-3.125 0.73438q-8.3438 1.75-12.062 5.3906-3.7031 3.6406-3.7031 9.9844 0 7.7188 5.4688 11.906 5.4688 4.2031 15.531 4.2031 4.9688 0 9.3594-0.73438 4.4062-0.71875 8.1094-2.1875z\"/><path id=\"DejaVuSans-101\" d=\"m56.203 29.594v-4.3906h-41.312q0.59375-9.2812 5.5938-14.141t13.938-4.8594q5.1719 0 10.031 1.2656t9.6562 3.8125v-8.5q-4.8438-2.0469-9.9219-3.125t-10.297-1.0781q-13.094 0-20.734 7.6094-7.6406 7.625-7.6406 20.625 0 13.422 7.25 21.297 7.25 7.8906 19.562 7.8906 11.031 0 17.453-7.1094 6.4219-7.0938 6.4219-19.297zm-8.9844 2.6406q-0.09375 7.3594-4.125 11.75-4.0312 4.4062-10.672 4.4062-7.5156 0-12.031-4.25t-5.2031-11.969z\"/></defs><g transform=\"translate(292.06 489.21) scale(.16 -.16)\"><use xlink:href=\"#DejaVuSans-81\"/><use x=\"78.710938\" xlink:href=\"#DejaVuSans-117\"/><use x=\"142.089844\" xlink:href=\"#DejaVuSans-98\"/><use x=\"205.566406\" xlink:href=\"#DejaVuSans-105\"/><use x=\"233.349609\" xlink:href=\"#DejaVuSans-116\"/><use x=\"272.558594\" xlink:href=\"#DejaVuSans-32\"/><use x=\"304.345703\" xlink:href=\"#DejaVuSans-83\"/><use x=\"367.822266\" xlink:href=\"#DejaVuSans-117\"/><use x=\"431.201172\" xlink:href=\"#DejaVuSans-98\"/><use x=\"494.677734\" xlink:href=\"#DejaVuSans-115\"/><use x=\"546.777344\" xlink:href=\"#DejaVuSans-101\"/><use x=\"608.300781\" xlink:href=\"#DejaVuSans-116\"/></g><path d=\"m64.857 369.17h558\" clip-path=\"url(#pea94c56b86)\" fill=\"none\" stroke=\"#b0b0b0\" stroke-linecap=\"square\" stroke-width=\".8\"/><defs><path id=\"m46675d39e2\" d=\"m0 0h-3.5\" stroke=\"#000000\" stroke-width=\".8\"/></defs><use x=\"64.856875\" y=\"369.168217\" stroke=\"#000000\" stroke-width=\".8\" xlink:href=\"#m46675d39e2\"/><defs><path id=\"DejaVuSans-46\" d=\"m10.688 12.406h10.312v-12.406h-10.312z\"/></defs><g transform=\"translate(26.685 374.49) scale(.14 -.14)\"><use xlink:href=\"#DejaVuSans-48\"/><use x=\"63.623047\" xlink:href=\"#DejaVuSans-46\"/><use x=\"95.410156\" xlink:href=\"#DejaVuSans-53\"/><use x=\"159.033203\" xlink:href=\"#DejaVuSans-53\"/></g><path d=\"m64.857 326.15h558\" clip-path=\"url(#pea94c56b86)\" fill=\"none\" stroke=\"#b0b0b0\" stroke-linecap=\"square\" stroke-width=\".8\"/><use x=\"64.856875\" y=\"326.14734\" stroke=\"#000000\" stroke-width=\".8\" xlink:href=\"#m46675d39e2\"/><defs><path id=\"DejaVuSans-54\" d=\"m33.016 40.375q-6.6406 0-10.531-4.5469-3.875-4.5312-3.875-12.438 0-7.8594 3.875-12.438 3.8906-4.5625 10.531-4.5625t10.516 4.5625q3.875 4.5781 3.875 12.438 0 7.9062-3.875 12.438-3.875 4.5469-10.516 4.5469zm19.578 30.922v-8.9844q-3.7188 1.75-7.5 2.6719-3.7812 0.9375-7.5 0.9375-9.7656 0-14.922-6.5938-5.1406-6.5938-5.875-19.922 2.875 4.25 7.2188 6.5156 4.3594 2.2656 9.5781 2.2656 10.984 0 17.359-6.6719 6.375-6.6562 6.375-18.125 0-11.234-6.6406-18.031-6.6406-6.7812-17.672-6.7812-12.656 0-19.344 9.6875-6.6875 9.7031-6.6875 28.109 0 17.281 8.2031 27.562t22.016 10.281q3.7188 0 7.5-0.73438t7.8906-2.1875z\"/></defs><g transform=\"translate(26.685 331.47) scale(.14 -.14)\"><use xlink:href=\"#DejaVuSans-48\"/><use x=\"63.623047\" xlink:href=\"#DejaVuSans-46\"/><use x=\"95.410156\" xlink:href=\"#DejaVuSans-54\"/><use x=\"159.033203\" xlink:href=\"#DejaVuSans-48\"/></g><path d=\"m64.857 283.13h558\" clip-path=\"url(#pea94c56b86)\" fill=\"none\" stroke=\"#b0b0b0\" stroke-linecap=\"square\" stroke-width=\".8\"/><use x=\"64.856875\" y=\"283.126463\" stroke=\"#000000\" stroke-width=\".8\" xlink:href=\"#m46675d39e2\"/><g transform=\"translate(26.685 288.45) scale(.14 -.14)\"><use xlink:href=\"#DejaVuSans-48\"/><use x=\"63.623047\" xlink:href=\"#DejaVuSans-46\"/><use x=\"95.410156\" xlink:href=\"#DejaVuSans-54\"/><use x=\"159.033203\" xlink:href=\"#DejaVuSans-53\"/></g><path d=\"m64.857 240.11h558\" clip-path=\"url(#pea94c56b86)\" fill=\"none\" stroke=\"#b0b0b0\" stroke-linecap=\"square\" stroke-width=\".8\"/><use x=\"64.856875\" y=\"240.105586\" stroke=\"#000000\" stroke-width=\".8\" xlink:href=\"#m46675d39e2\"/><g transform=\"translate(26.685 245.42) scale(.14 -.14)\"><use xlink:href=\"#DejaVuSans-48\"/><use x=\"63.623047\" xlink:href=\"#DejaVuSans-46\"/><use x=\"95.410156\" xlink:href=\"#DejaVuSans-55\"/><use x=\"159.033203\" xlink:href=\"#DejaVuSans-48\"/></g><path d=\"m64.857 197.08h558\" clip-path=\"url(#pea94c56b86)\" fill=\"none\" stroke=\"#b0b0b0\" stroke-linecap=\"square\" stroke-width=\".8\"/><use x=\"64.856875\" y=\"197.084709\" stroke=\"#000000\" stroke-width=\".8\" xlink:href=\"#m46675d39e2\"/><g transform=\"translate(26.685 202.4) scale(.14 -.14)\"><use xlink:href=\"#DejaVuSans-48\"/><use x=\"63.623047\" xlink:href=\"#DejaVuSans-46\"/><use x=\"95.410156\" xlink:href=\"#DejaVuSans-55\"/><use x=\"159.033203\" xlink:href=\"#DejaVuSans-53\"/></g><path d=\"m64.857 154.06h558\" clip-path=\"url(#pea94c56b86)\" fill=\"none\" stroke=\"#b0b0b0\" stroke-linecap=\"square\" stroke-width=\".8\"/><use x=\"64.856875\" y=\"154.063832\" stroke=\"#000000\" stroke-width=\".8\" xlink:href=\"#m46675d39e2\"/><defs><path id=\"DejaVuSans-56\" d=\"m31.781 34.625q-7.0312 0-11.062-3.7656-4.0156-3.7656-4.0156-10.344 0-6.5938 4.0156-10.359 4.0312-3.7656 11.062-3.7656t11.078 3.7812q4.0625 3.7969 4.0625 10.344 0 6.5781-4.0312 10.344-4.0156 3.7656-11.109 3.7656zm-9.8594 4.1875q-6.3438 1.5625-9.8906 5.9062-3.5312 4.3594-3.5312 10.609 0 8.7344 6.2188 13.812 6.2344 5.0781 17.062 5.0781 10.891 0 17.094-5.0781t6.2031-13.812q0-6.25-3.5469-10.609-3.5312-4.3438-9.8281-5.9062 7.125-1.6562 11.094-6.5 3.9844-4.8281 3.9844-11.797 0-10.609-6.4688-16.281-6.4688-5.6562-18.531-5.6562-12.047 0-18.531 5.6562-6.4688 5.6719-6.4688 16.281 0 6.9688 4 11.797 4.0156 4.8438 11.141 6.5zm-3.6094 15.578q0-5.6562 3.5312-8.8281 3.5469-3.1719 9.9375-3.1719 6.3594 0 9.9375 3.1719 3.5938 3.1719 3.5938 8.8281 0 5.6719-3.5938 8.8438-3.5781 3.1719-9.9375 3.1719-6.3906 0-9.9375-3.1719-3.5312-3.1719-3.5312-8.8438z\"/></defs><g transform=\"translate(26.685 159.38) scale(.14 -.14)\"><use xlink:href=\"#DejaVuSans-48\"/><use x=\"63.623047\" xlink:href=\"#DejaVuSans-46\"/><use x=\"95.410156\" xlink:href=\"#DejaVuSans-56\"/><use x=\"159.033203\" xlink:href=\"#DejaVuSans-48\"/></g><path d=\"m64.857 111.04h558\" clip-path=\"url(#pea94c56b86)\" fill=\"none\" stroke=\"#b0b0b0\" stroke-linecap=\"square\" stroke-width=\".8\"/><use x=\"64.856875\" y=\"111.042954\" stroke=\"#000000\" stroke-width=\".8\" xlink:href=\"#m46675d39e2\"/><g transform=\"translate(26.685 116.36) scale(.14 -.14)\"><use xlink:href=\"#DejaVuSans-48\"/><use x=\"63.623047\" xlink:href=\"#DejaVuSans-46\"/><use x=\"95.410156\" xlink:href=\"#DejaVuSans-56\"/><use x=\"159.033203\" xlink:href=\"#DejaVuSans-53\"/></g><path d=\"m64.857 68.022h558\" clip-path=\"url(#pea94c56b86)\" fill=\"none\" stroke=\"#b0b0b0\" stroke-linecap=\"square\" stroke-width=\".8\"/><use x=\"64.856875\" y=\"68.022077\" stroke=\"#000000\" stroke-width=\".8\" xlink:href=\"#m46675d39e2\"/><defs><path id=\"DejaVuSans-57\" d=\"m10.984 1.5156v8.9844q3.7188-1.7656 7.5156-2.6875 3.8125-0.92188 7.4844-0.92188 9.7656 0 14.906 6.5625 5.1562 6.5625 5.8906 19.953-2.8281-4.2031-7.1875-6.4531-4.3438-2.25-9.6094-2.25-10.938 0-17.312 6.6094-6.375 6.625-6.375 18.109 0 11.219 6.6406 18 6.6406 6.7969 17.672 6.7969 12.656 0 19.312-9.7031 6.6719-9.6875 6.6719-28.141 0-17.234-8.1875-27.516-8.1719-10.281-21.984-10.281-3.7188 0-7.5312 0.73438-3.7969 0.73438-7.9062 2.2031zm19.625 30.906q6.6406 0 10.516 4.5312 3.8906 4.5469 3.8906 12.469 0 7.8594-3.8906 12.422-3.875 4.5625-10.516 4.5625t-10.516-4.5625-3.875-12.422q0-7.9219 3.875-12.469 3.875-4.5312 10.516-4.5312z\"/></defs><g transform=\"translate(26.685 73.341) scale(.14 -.14)\"><use xlink:href=\"#DejaVuSans-48\"/><use x=\"63.623047\" xlink:href=\"#DejaVuSans-46\"/><use x=\"95.410156\" xlink:href=\"#DejaVuSans-57\"/><use x=\"159.033203\" xlink:href=\"#DejaVuSans-48\"/></g><defs><path id=\"DejaVuSans-72\" d=\"m9.8125 72.906h9.8594v-29.891h35.844v29.891h9.8594v-72.906h-9.8594v34.719h-35.844v-34.719h-9.8594z\"/><path id=\"DejaVuSans-97\" d=\"m34.281 27.484q-10.891 0-15.094-2.4844t-4.2031-8.5q0-4.7812 3.1562-7.5938 3.1562-2.7969 8.5625-2.7969 7.4844 0 12 5.2969t4.5156 14.078v2zm17.922 3.7188v-31.203h-8.9844v8.2969q-3.0781-4.9688-7.6719-7.3438t-11.234-2.375q-8.3906 0-13.359 4.7188-4.9531 4.7188-4.9531 12.625 0 9.2188 6.1719 13.906 6.1875 4.6875 18.438 4.6875h12.609v0.89062q0 6.2031-4.0781 9.5938t-11.453 3.3906q-4.6875 0-9.1406-1.125-4.4375-1.125-8.5312-3.375v8.3125q4.9219 1.9062 9.5625 2.8438 4.6406 0.95312 9.0312 0.95312 11.875 0 17.734-6.1562 5.8594-6.1406 5.8594-18.641z\"/><path id=\"DejaVuSans-118\" d=\"m2.9844 54.688h9.5156l17.094-45.891 17.094 45.891h9.5156l-20.516-54.688h-12.203z\"/><path id=\"DejaVuSans-121\" d=\"m32.172-5.0781q-3.7969-9.7656-7.4219-12.734-3.6094-2.9844-9.6562-2.9844h-7.1875v7.5156h5.2812q3.7031 0 5.75 1.7656 2.0625 1.75 4.5469 8.2969l1.6094 4.0938-22.109 53.812h9.5156l17.094-42.766 17.094 42.766h9.5156z\"/><path id=\"DejaVuSans-80\" d=\"m19.672 64.797v-27.391h12.406q6.8906 0 10.641 3.5625 3.7656 3.5625 3.7656 10.156 0 6.5469-3.7656 10.109-3.75 3.5625-10.641 3.5625zm-9.8594 8.1094h22.266q12.266 0 18.531-5.5469 6.2812-5.5469 6.2812-16.234 0-10.797-6.2812-16.312-6.2656-5.5156-18.531-5.5156h-12.406v-29.297h-9.8594z\"/><path id=\"DejaVuSans-114\" d=\"m41.109 46.297q-1.5156 0.875-3.2969 1.2812-1.7812 0.42188-3.9219 0.42188-7.625 0-11.703-4.9531t-4.0781-14.234v-28.812h-9.0312v54.688h9.0312v-8.5q2.8438 4.9844 7.375 7.3906 4.5469 2.4219 11.047 2.4219 0.92188 0 2.0469-0.125 1.125-0.10938 2.4844-0.35938z\"/><path id=\"DejaVuSans-111\" d=\"m30.609 48.391q-7.2188 0-11.422-5.6406t-4.2031-15.453 4.1719-15.453q4.1875-5.6406 11.453-5.6406 7.1875 0 11.375 5.6562 4.2031 5.6719 4.2031 15.438 0 9.7188-4.2031 15.406-4.1875 5.6875-11.375 5.6875zm0 7.6094q11.719 0 18.406-7.625 6.7031-7.6094 6.7031-21.078 0-13.422-6.7031-21.078-6.6875-7.6406-18.406-7.6406-11.766 0-18.438 7.6406-6.6562 7.6562-6.6562 21.078 0 13.469 6.6562 21.078 6.6719 7.625 18.438 7.625z\"/><path id=\"DejaVuSans-108\" d=\"m9.4219 75.984h8.9844v-75.984h-8.9844z\"/></defs><g transform=\"translate(19.358 280.25) rotate(-90) scale(.16 -.16)\"><use xlink:href=\"#DejaVuSans-72\"/><use x=\"75.195312\" xlink:href=\"#DejaVuSans-101\"/><use x=\"136.71875\" xlink:href=\"#DejaVuSans-97\"/><use x=\"197.998047\" xlink:href=\"#DejaVuSans-118\"/><use x=\"257.177734\" xlink:href=\"#DejaVuSans-121\"/><use x=\"316.357422\" xlink:href=\"#DejaVuSans-32\"/><use x=\"348.144531\" xlink:href=\"#DejaVuSans-80\"/><use x=\"406.697266\" xlink:href=\"#DejaVuSans-114\"/><use x=\"445.560547\" xlink:href=\"#DejaVuSans-111\"/><use x=\"506.742188\" xlink:href=\"#DejaVuSans-98\"/><use x=\"570.21875\" xlink:href=\"#DejaVuSans-97\"/><use x=\"631.498047\" xlink:href=\"#DejaVuSans-98\"/><use x=\"694.974609\" xlink:href=\"#DejaVuSans-105\"/><use x=\"722.757812\" xlink:href=\"#DejaVuSans-108\"/><use x=\"750.541016\" xlink:href=\"#DejaVuSans-105\"/><use x=\"778.324219\" xlink:href=\"#DejaVuSans-116\"/><use x=\"817.533203\" xlink:href=\"#DejaVuSans-121\"/></g><g fill=\"none\" stroke=\"#ff0000\" stroke-width=\"1.5\"><path d=\"m90.221 214.02v-99.45\" clip-path=\"url(#pea94c56b86)\"/><path d=\"m259.31 285.61v-110.29\" clip-path=\"url(#pea94c56b86)\"/><path d=\"m428.4 282.65v-109.92\" clip-path=\"url(#pea94c56b86)\"/><path d=\"m597.49 358.37v-117.44\" clip-path=\"url(#pea94c56b86)\"/></g><g fill=\"none\" stroke=\"#0000ff\" stroke-width=\"1.5\"><path d=\"m90.221 164.82v-89.349\" clip-path=\"url(#pea94c56b86)\"/><path d=\"m259.31 169.88v-90.505\" clip-path=\"url(#pea94c56b86)\"/><path d=\"m428.4 146.86v-85.004\" clip-path=\"url(#pea94c56b86)\"/><path d=\"m597.49 149.5v-85.668\" clip-path=\"url(#pea94c56b86)\"/></g><path d=\"m90.221 268.79h169.09 169.09 169.09\" clip-path=\"url(#pea94c56b86)\" fill=\"none\" stroke=\"#000000\" stroke-dasharray=\"7.4,3.2\" stroke-width=\"2\"/><path d=\"m90.221 164.3 169.09 66.161 169.09-2.7728 169.09 71.959\" clip-path=\"url(#pea94c56b86)\" fill=\"none\" stroke=\"#ff0000\" stroke-linecap=\"square\" stroke-width=\"1.5\"/><defs><path id=\"m45d93b37dc\" d=\"m0 2.5c0.66301 0 1.299-0.26342 1.7678-0.73223s0.73223-1.1048 0.73223-1.7678-0.26342-1.299-0.73223-1.7678-1.1048-0.73223-1.7678-0.73223-1.299 0.26342-1.7678 0.73223-0.73223 1.1048-0.73223 1.7678 0.26342 1.299 0.73223 1.7678 1.1048 0.73223 1.7678 0.73223z\" stroke=\"#ff0000\"/></defs><g clip-path=\"url(#pea94c56b86)\" fill=\"#ff0000\" stroke=\"#ff0000\"><use x=\"90.220511\" y=\"164.298095\" xlink:href=\"#m45d93b37dc\"/><use x=\"259.31142\" y=\"230.459498\" xlink:href=\"#m45d93b37dc\"/><use x=\"428.40233\" y=\"227.686668\" xlink:href=\"#m45d93b37dc\"/><use x=\"597.493239\" y=\"299.645807\" xlink:href=\"#m45d93b37dc\"/></g><path d=\"m90.221 120.15 169.09 4.4848 169.09-20.27 169.09 2.3101\" clip-path=\"url(#pea94c56b86)\" fill=\"none\" stroke=\"#0000ff\" stroke-linecap=\"square\" stroke-width=\"1.5\"/><defs><path id=\"m5cb6f4a3bb\" d=\"m0 2.5c0.66301 0 1.299-0.26342 1.7678-0.73223s0.73223-1.1048 0.73223-1.7678-0.26342-1.299-0.73223-1.7678-1.1048-0.73223-1.7678-0.73223-1.299 0.26342-1.7678 0.73223-0.73223 1.1048-0.73223 1.7678 0.26342 1.299 0.73223 1.7678 1.1048 0.73223 1.7678 0.73223z\" stroke=\"#0000ff\"/></defs><g clip-path=\"url(#pea94c56b86)\" fill=\"#0000ff\" stroke=\"#0000ff\"><use x=\"90.220511\" y=\"120.145997\" xlink:href=\"#m5cb6f4a3bb\"/><use x=\"259.31142\" y=\"124.630776\" xlink:href=\"#m5cb6f4a3bb\"/><use x=\"428.40233\" y=\"104.360778\" xlink:href=\"#m5cb6f4a3bb\"/><use x=\"597.493239\" y=\"106.670846\" xlink:href=\"#m5cb6f4a3bb\"/></g><path d=\"m64.857 373.19v-326.16\" fill=\"none\" stroke=\"#000000\" stroke-linecap=\"square\" stroke-width=\".8\"/><path d=\"m622.86 373.19v-326.16\" fill=\"none\" stroke=\"#000000\" stroke-linecap=\"square\" stroke-width=\".8\"/><path d=\"m64.857 373.19h558\" fill=\"none\" stroke=\"#000000\" stroke-linecap=\"square\" stroke-width=\".8\"/><path d=\"m64.857 47.033h558\" fill=\"none\" stroke=\"#000000\" stroke-linecap=\"square\" stroke-width=\".8\"/><defs><path id=\"DejaVuSans-110\" d=\"m54.891 33.016v-33.016h-8.9844v32.719q0 7.7656-3.0312 11.609-3.0312 3.8594-9.0781 3.8594-7.2812 0-11.484-4.6406-4.2031-4.625-4.2031-12.641v-30.906h-9.0312v54.688h9.0312v-8.5q3.2344 4.9375 7.5938 7.375 4.375 2.4375 10.094 2.4375 9.4219 0 14.25-5.8281 4.8438-5.8281 4.8438-17.156z\"/><path id=\"DejaVuSans-109\" d=\"m52 44.188q3.375 6.0625 8.0625 8.9375t11.031 2.875q8.5469 0 13.188-5.9844 4.6406-5.9688 4.6406-17v-33.016h-9.0312v32.719q0 7.8594-2.7969 11.656-2.7812 3.8125-8.4844 3.8125-6.9844 0-11.047-4.6406-4.0469-4.625-4.0469-12.641v-30.906h-9.0312v32.719q0 7.9062-2.7812 11.688t-8.5938 3.7812q-6.8906 0-10.953-4.6562-4.0469-4.6562-4.0469-12.625v-30.906h-9.0312v54.688h9.0312v-8.5q3.0781 5.0312 7.375 7.4219t10.203 2.3906q5.9688 0 10.141-3.0312 4.1719-3.0156 6.1719-8.7812z\"/><path id=\"DejaVuSans-86\" d=\"m28.609 0-27.828 72.906h10.297l23.109-61.375 23.141 61.375h10.25l-27.781-72.906z\"/><path id=\"DejaVuSans-102\" d=\"m37.109 75.984v-7.4844h-8.5938q-4.8281 0-6.7188-1.9531-1.875-1.9531-1.875-7.0312v-4.8281h14.797v-6.9844h-14.797v-47.703h-9.0312v47.703h-8.5938v6.9844h8.5938v3.8125q0 9.125 4.25 13.297 4.25 4.1875 13.469 4.1875z\"/><path id=\"DejaVuSans-112\" d=\"m18.109 8.2031v-29h-9.0312v75.484h9.0312v-8.2969q2.8438 4.875 7.1562 7.2344 4.3281 2.375 10.328 2.375 9.9688 0 16.188-7.9062 6.2344-7.9062 6.2344-20.797t-6.2344-20.812q-6.2188-7.9062-16.188-7.9062-6 0-10.328 2.375-4.3125 2.375-7.1562 7.25zm30.578 19.094q0 9.9062-4.0781 15.547t-11.203 5.6406q-7.1406 0-11.219-5.6406t-4.0781-15.547 4.0781-15.547 11.219-5.6406q7.125 0 11.203 5.6406t4.0781 15.547z\"/></defs><g transform=\"translate(180.58 20.877) scale(.18 -.18)\"><use xlink:href=\"#DejaVuSans-81\"/><use x=\"78.710938\" xlink:href=\"#DejaVuSans-117\"/><use x=\"142.089844\" xlink:href=\"#DejaVuSans-97\"/><use x=\"203.369141\" xlink:href=\"#DejaVuSans-110\"/><use x=\"266.748047\" xlink:href=\"#DejaVuSans-116\"/><use x=\"305.957031\" xlink:href=\"#DejaVuSans-117\"/><use x=\"369.335938\" xlink:href=\"#DejaVuSans-109\"/><use x=\"466.748047\" xlink:href=\"#DejaVuSans-32\"/><use x=\"498.535156\" xlink:href=\"#DejaVuSans-86\"/><use x=\"559.193359\" xlink:href=\"#DejaVuSans-111\"/><use x=\"620.375\" xlink:href=\"#DejaVuSans-108\"/><use x=\"648.158203\" xlink:href=\"#DejaVuSans-117\"/><use x=\"711.537109\" xlink:href=\"#DejaVuSans-109\"/><use x=\"808.949219\" xlink:href=\"#DejaVuSans-101\"/><use x=\"870.472656\" xlink:href=\"#DejaVuSans-32\"/><use x=\"902.259766\" xlink:href=\"#DejaVuSans-102\"/><use x=\"937.464844\" xlink:href=\"#DejaVuSans-111\"/><use x=\"998.646484\" xlink:href=\"#DejaVuSans-114\"/><use x=\"1039.759766\" xlink:href=\"#DejaVuSans-32\"/><use x=\"1071.546875\" xlink:href=\"#DejaVuSans-117\"/><use x=\"1134.925781\" xlink:href=\"#DejaVuSans-112\"/><use x=\"1198.402344\" xlink:href=\"#DejaVuSans-32\"/><use x=\"1230.189453\" xlink:href=\"#DejaVuSans-116\"/><use x=\"1269.398438\" xlink:href=\"#DejaVuSans-111\"/><use x=\"1330.580078\" xlink:href=\"#DejaVuSans-32\"/><use x=\"1362.367188\" xlink:href=\"#DejaVuSans-54\"/><use x=\"1425.990234\" xlink:href=\"#DejaVuSans-32\"/><use x=\"1457.777344\" xlink:href=\"#DejaVuSans-81\"/><use x=\"1536.488281\" xlink:href=\"#DejaVuSans-117\"/><use x=\"1599.867188\" xlink:href=\"#DejaVuSans-98\"/><use x=\"1663.34375\" xlink:href=\"#DejaVuSans-105\"/><use x=\"1691.126953\" xlink:href=\"#DejaVuSans-116\"/><use x=\"1730.335938\" xlink:href=\"#DejaVuSans-115\"/><use x=\"1782.435547\" xlink:href=\"#DejaVuSans-32\"/></g><defs><path id=\"DejaVuSans-100\" d=\"m45.406 46.391v29.594h8.9844v-75.984h-8.9844v8.2031q-2.8281-4.875-7.1562-7.25-4.3125-2.375-10.375-2.375-9.9062 0-16.141 7.9062-6.2188 7.9219-6.2188 20.812t6.2188 20.797q6.2344 7.9062 16.141 7.9062 6.0625 0 10.375-2.375 4.3281-2.3594 7.1562-7.2344zm-30.609-19.094q0-9.9062 4.0781-15.547t11.203-5.6406 11.219 5.6406q4.1094 5.6406 4.1094 15.547t-4.1094 15.547q-4.0938 5.6406-11.219 5.6406t-11.203-5.6406-4.0781-15.547z\"/><path id=\"DejaVuSans-84\" d=\"m-0.29688 72.906h61.672v-8.3125h-25.875v-64.594h-9.9062v64.594h-25.891z\"/></defs><g transform=\"translate(283.82 41.033) scale(.18 -.18)\"><use xlink:href=\"#DejaVuSans-32\"/><use x=\"31.787109\" xlink:href=\"#DejaVuSans-97\"/><use x=\"93.066406\" xlink:href=\"#DejaVuSans-110\"/><use x=\"156.445312\" xlink:href=\"#DejaVuSans-100\"/><use x=\"219.921875\" xlink:href=\"#DejaVuSans-32\"/><use x=\"251.708984\" xlink:href=\"#DejaVuSans-53\"/><use x=\"315.332031\" xlink:href=\"#DejaVuSans-48\"/><use x=\"378.955078\" xlink:href=\"#DejaVuSans-32\"/><use x=\"410.742188\" xlink:href=\"#DejaVuSans-84\"/><use x=\"457.076172\" xlink:href=\"#DejaVuSans-114\"/><use x=\"498.189453\" xlink:href=\"#DejaVuSans-105\"/><use x=\"525.972656\" xlink:href=\"#DejaVuSans-97\"/><use x=\"587.251953\" xlink:href=\"#DejaVuSans-108\"/><use x=\"615.035156\" xlink:href=\"#DejaVuSans-115\"/></g><path d=\"m534.58 99.068h81.277q2 0 2-2v-43.034q0-2-2-2h-81.277q-2 0-2 2v43.034q0 2 2 2z\" fill=\"#ffffff\" opacity=\".8\" stroke=\"#cccccc\"/><path d=\"m536.58 60.132h20\" fill=\"none\" stroke=\"#000000\" stroke-dasharray=\"7.4,3.2\" stroke-width=\"2\"/><defs><path id=\"DejaVuSans-104\" d=\"m54.891 33.016v-33.016h-8.9844v32.719q0 7.7656-3.0312 11.609-3.0312 3.8594-9.0781 3.8594-7.2812 0-11.484-4.6406-4.2031-4.625-4.2031-12.641v-30.906h-9.0312v75.984h9.0312v-29.797q3.2344 4.9375 7.5938 7.375 4.375 2.4375 10.094 2.4375 9.4219 0 14.25-5.8281 4.8438-5.8281 4.8438-17.156z\"/></defs><g transform=\"translate(564.58 63.632) scale(.1 -.1)\"><use xlink:href=\"#DejaVuSans-84\"/><use x=\"61.083984\" xlink:href=\"#DejaVuSans-104\"/><use x=\"124.462891\" xlink:href=\"#DejaVuSans-114\"/><use x=\"163.326172\" xlink:href=\"#DejaVuSans-101\"/><use x=\"224.849609\" xlink:href=\"#DejaVuSans-115\"/><use x=\"276.949219\" xlink:href=\"#DejaVuSans-104\"/><use x=\"340.328125\" xlink:href=\"#DejaVuSans-111\"/><use x=\"401.509766\" xlink:href=\"#DejaVuSans-108\"/><use x=\"429.292969\" xlink:href=\"#DejaVuSans-100\"/></g><path d=\"m546.58 79.81v-10\" fill=\"none\" stroke=\"#ff0000\" stroke-width=\"1.5\"/><path d=\"m536.58 74.81h20\" fill=\"none\" stroke=\"#ff0000\" stroke-linecap=\"square\" stroke-width=\"1.5\"/><use x=\"546.580312\" y=\"74.809812\" fill=\"#ff0000\" stroke=\"#ff0000\" xlink:href=\"#m45d93b37dc\"/><defs><path id=\"DejaVuSans-69\" d=\"m9.8125 72.906h46.094v-8.3125h-36.234v-21.578h34.719v-8.2969h-34.719v-26.422h37.109v-8.2969h-46.969z\"/><path id=\"DejaVuSans-120\" d=\"m54.891 54.688-19.781-26.609 20.797-28.078h-10.594l-15.922 21.484-15.906-21.484h-10.609l21.25 28.609-19.438 26.078h10.594l14.5-19.484 14.5 19.484z\"/></defs><g transform=\"translate(564.58 78.31) scale(.1 -.1)\"><use xlink:href=\"#DejaVuSans-69\"/><use x=\"63.183594\" xlink:href=\"#DejaVuSans-120\"/><use x=\"122.363281\" xlink:href=\"#DejaVuSans-112\"/></g><path d=\"m546.58 94.488v-10\" fill=\"none\" stroke=\"#0000ff\" stroke-width=\"1.5\"/><path d=\"m536.58 89.488h20\" fill=\"none\" stroke=\"#0000ff\" stroke-linecap=\"square\" stroke-width=\"1.5\"/><use x=\"546.580312\" y=\"89.487937\" fill=\"#0000ff\" stroke=\"#0000ff\" xlink:href=\"#m5cb6f4a3bb\"/><defs><path id=\"DejaVuSans-73\" d=\"m9.8125 72.906h9.8594v-72.906h-9.8594z\"/></defs><g transform=\"translate(564.58 92.988) scale(.1 -.1)\"><use xlink:href=\"#DejaVuSans-73\"/><use x=\"29.492188\" xlink:href=\"#DejaVuSans-100\"/><use x=\"92.96875\" xlink:href=\"#DejaVuSans-101\"/><use x=\"154.492188\" xlink:href=\"#DejaVuSans-97\"/><use x=\"215.771484\" xlink:href=\"#DejaVuSans-108\"/></g><defs><clipPath id=\"pea94c56b86\"><rect x=\"64.857\" y=\"47.033\" width=\"558\" height=\"326.16\"/></clipPath></defs></svg>"
      ],
      "text/plain": [
       "<Figure size 720x432 with 1 Axes>"
      ]
     },
     "metadata": {
      "needs_background": "light"
     },
     "output_type": "display_data"
    }
   ],
   "source": [
    "plt.figure(figsize=(10, 6))\n",
    "ax = plt.gca()\n",
    "\n",
    "# plot_rb_dataを呼び出して重要なポイントをプロットします\n",
    "qv_fitter.plot_qv_data(ax=ax, show_plt=False)\n",
    "\n",
    "# タイトルとラベルを追加\n",
    "ax.set_title('Quantum Volume for up to %d Qubits \\n and %d Trials'%(len(qubit_lists[-1]), ntrials), fontsize=18)\n",
    "\n",
    "plt.show()"
   ]
  },
  {
   "cell_type": "markdown",
   "metadata": {},
   "source": [
    "### ステップ 7: 量子ボリュームを計算する\n",
    "\n",
    "量子ボリュームは、モデル回路の幅と深さを同等な重要度で扱い、量子コンピューターが平均して正常に実装できる最大の正方形(つまり、$m = d$)のモデル回路を測定します。\n",
    "\n",
    "*量子ボリューム* $V_Q$は次のように定義されます\n",
    "\n",
    "$$\\log_2 V_Q = \\arg\\max_{m} \\min (m, d(m))$$"
   ]
  },
  {
   "cell_type": "markdown",
   "metadata": {},
   "source": [
    "それぞれの深さの統計をリストします。深さごとに、その深さに成功したかどうか、およびその信頼できる区間(confidence interval)をリストします。その深さが成功するためには、信頼できる区間が97.5％を超える必要があります。"
   ]
  },
  {
   "cell_type": "code",
   "execution_count": 14,
   "metadata": {},
   "outputs": [
    {
     "name": "stdout",
     "output_type": "stream",
     "text": [
      "Width/depth 3 greater than 2/3 (0.788105) with confidence 0.982193 (successful). Quantum volume 8\n",
      "Width/depth 4 greater than 2/3 (0.711211) with confidence 0.756474 (unsuccessful).\n",
      "Width/depth 5 greater than 2/3 (0.714434) with confidence 0.772706 (unsuccessful).\n",
      "Width/depth 6 less than 2/3 (unsuccessful).\n"
     ]
    }
   ],
   "source": [
    "qv_success_list = qv_fitter.qv_success()\n",
    "qv_list = qv_fitter.ydata\n",
    "QV = 1\n",
    "for qidx, qubit_list in enumerate(qubit_lists):\n",
    "    if qv_list[0][qidx]>2/3:\n",
    "        if qv_success_list[qidx][0]:\n",
    "            print(\"Width/depth %d greater than 2/3 (%f) with confidence %f (successful). Quantum volume %d\"%\n",
    "                  (len(qubit_list),qv_list[0][qidx],qv_success_list[qidx][1],qv_fitter.quantum_volume()[qidx]))\n",
    "            QV = qv_fitter.quantum_volume()[qidx]\n",
    "        else:\n",
    "            print(\"Width/depth %d greater than 2/3 (%f) with confidence %f (unsuccessful).\"%\n",
    "                  (len(qubit_list),qv_list[0][qidx],qv_success_list[qidx][1]))\n",
    "    else:\n",
    "        print(\"Width/depth %d less than 2/3 (unsuccessful).\"%len(qubit_list))"
   ]
  },
  {
   "cell_type": "code",
   "execution_count": 15,
   "metadata": {},
   "outputs": [
    {
     "name": "stdout",
     "output_type": "stream",
     "text": [
      "The Quantum Volume is: 8\n"
     ]
    }
   ],
   "source": [
    "print (\"The Quantum Volume is:\", QV) "
   ]
  },
  {
   "cell_type": "markdown",
   "metadata": {},
   "source": [
    "### 参考文献\n",
    "\n",
    "[1] Andrew W. Cross, Lev S. Bishop, Sarah Sheldon, Paul D. Nation, and Jay M. Gambetta, *Validating quantum computers using randomized model circuits*, Phys. Rev. A **100**, 032328 (2019). https://arxiv.org/pdf/1811.12926"
   ]
  },
  {
   "cell_type": "code",
   "execution_count": 16,
   "metadata": {},
   "outputs": [
    {
     "data": {
      "text/plain": [
       "{'qiskit-terra': '0.14.2',\n",
       " 'qiskit-aer': '0.5.2',\n",
       " 'qiskit-ignis': '0.3.3',\n",
       " 'qiskit-ibmq-provider': '0.7.2',\n",
       " 'qiskit-aqua': '0.7.3',\n",
       " 'qiskit': '0.19.6'}"
      ]
     },
     "execution_count": 16,
     "metadata": {},
     "output_type": "execute_result"
    }
   ],
   "source": [
    "import qiskit.tools.jupyter\n",
    "%qiskit_version_table"
   ]
  }
 ],
 "metadata": {
  "kernelspec": {
   "display_name": "Python 3",
   "language": "python",
   "name": "python3"
  },
  "language_info": {
   "codemirror_mode": {
    "name": "ipython",
    "version": 3
   },
   "file_extension": ".py",
   "mimetype": "text/x-python",
   "name": "python",
   "nbconvert_exporter": "python",
   "pygments_lexer": "ipython3",
   "version": "3.9"
  }
 },
 "nbformat": 4,
 "nbformat_minor": 2
}
