{
 "cells": [
  {
   "cell_type": "markdown",
   "metadata": {
    "ExecuteTime": {
     "end_time": "2019-07-16T15:49:49.128196Z",
     "start_time": "2019-07-16T15:49:49.125750Z"
    }
   },
   "source": [
    "# Transpiling Quantum Circuits"
   ]
  },
  {
   "cell_type": "markdown",
   "metadata": {},
   "source": [
    "In this chapter we will investigate how quantum circuits are transformed when run on quantum devices.  That we need to modify the circuits at all is a consequence of the limitations of current quantum computing hardware.  Namely, the limited connectivity inherent in most quantum hardware, restricted gate sets, as well as environmental noise and gate errors, all conspire to limit the effective computational power on today's quantum devices.  Fortunately, quantum circuit rewriting tool chains have been developed that directly address these issues, and return heavily optimized circuits mapped to targeted quantum devices.  Here we will explore the IBM Qiskit 'transpiler' circuit rewriting framework."
   ]
  },
  {
   "cell_type": "code",
   "execution_count": 1,
   "metadata": {
    "ExecuteTime": {
     "end_time": "2019-07-16T17:54:52.251525Z",
     "start_time": "2019-07-16T17:54:52.247658Z"
    }
   },
   "outputs": [],
   "source": [
    "import numpy as np\n",
    "from qiskit import *\n",
    "from qiskit.tools.jupyter import *\n",
    "from qiskit.providers.ibmq import least_busy\n",
    "%matplotlib inline\n",
    "%config InlineBackend.figure_format = 'svg' # Makes the images look nice"
   ]
  },
  {
   "cell_type": "code",
   "execution_count": 2,
   "metadata": {},
   "outputs": [
    {
     "data": {
      "text/plain": [
       "<AccountProvider for IBMQ(hub='ibm-q', group='open', project='main')>"
      ]
     },
     "execution_count": 2,
     "metadata": {},
     "output_type": "execute_result"
    }
   ],
   "source": [
    "IBMQ.load_account()"
   ]
  },
  {
   "cell_type": "markdown",
   "metadata": {},
   "source": [
    "## Core Steps in Circuit Rewriting"
   ]
  },
  {
   "cell_type": "markdown",
   "metadata": {},
   "source": [
    "As we will see, rewriting quantum circuits to match hardware constraints and optimize for performance can be far from trivial.  The flow of logic in the rewriting tool chain need not be linear, and can often have iterative sub-loops, conditional branches, and other complex behaviors.  That being said, the basic building blocks follow the structure given below."
   ]
  },
  {
   "cell_type": "markdown",
   "metadata": {},
   "source": [
    "<img src=\"images/transpiling_core_steps.png\" style=\"width=auto;\"/>"
   ]
  },
  {
   "cell_type": "markdown",
   "metadata": {},
   "source": [
    "Our goal in this section is to see what each of these \"passes\" does at a high-level, and then begin exploring their usage on a set of common circuits."
   ]
  },
  {
   "cell_type": "markdown",
   "metadata": {},
   "source": [
    "### Unrolling to Basis Gates"
   ]
  },
  {
   "cell_type": "markdown",
   "metadata": {},
   "source": [
    "When writing a quantum circuit you are free to use any quantum gate (unitary operator) that you like, along with a collection of non-gate operations such as qubit measurements and reset operations.  However, when running a circuit on a real quantum device one no longer has this flexibility.  Due to limitations in, for example, the physical interactions between qubits, difficulty in implementing multi-qubit gates, control electronics etc, a quantum computing device can only natively support a handful of quantum gates and non-gate operations. In the present case of IBM Q devices, the native gate set can be found by querying the devices themselves:"
   ]
  },
  {
   "cell_type": "code",
   "execution_count": 3,
   "metadata": {
    "ExecuteTime": {
     "end_time": "2019-07-16T17:20:59.864706Z",
     "start_time": "2019-07-16T17:20:59.861248Z"
    }
   },
   "outputs": [
    {
     "data": {
      "text/plain": [
       "[<IBMQBackend('ibmqx2') from IBMQ(hub='ibm-q', group='open', project='main')>,\n",
       " <IBMQBackend('ibmq_16_melbourne') from IBMQ(hub='ibm-q', group='open', project='main')>,\n",
       " <IBMQBackend('ibmq_vigo') from IBMQ(hub='ibm-q', group='open', project='main')>,\n",
       " <IBMQBackend('ibmq_ourense') from IBMQ(hub='ibm-q', group='open', project='main')>,\n",
       " <IBMQBackend('ibmq_london') from IBMQ(hub='ibm-q', group='open', project='main')>,\n",
       " <IBMQBackend('ibmq_burlington') from IBMQ(hub='ibm-q', group='open', project='main')>,\n",
       " <IBMQBackend('ibmq_essex') from IBMQ(hub='ibm-q', group='open', project='main')>,\n",
       " <IBMQBackend('ibmq_armonk') from IBMQ(hub='ibm-q', group='open', project='main')>]"
      ]
     },
     "execution_count": 3,
     "metadata": {},
     "output_type": "execute_result"
    }
   ],
   "source": [
    "provider = IBMQ.get_provider(group='open')\n",
    "provider.backends(simulator=False)"
   ]
  },
  {
   "cell_type": "code",
   "execution_count": 4,
   "metadata": {
    "ExecuteTime": {
     "end_time": "2019-07-16T17:21:19.477209Z",
     "start_time": "2019-07-16T17:21:19.471761Z"
    }
   },
   "outputs": [
    {
     "data": {
      "text/plain": [
       "['u1', 'u2', 'u3', 'cx', 'id']"
      ]
     },
     "execution_count": 4,
     "metadata": {},
     "output_type": "execute_result"
    }
   ],
   "source": [
    "backend = least_busy(provider.backends(filters=lambda x: x.configuration().n_qubits >= 5 and not x.configuration().simulator and x.status().operational==True))\n",
    "backend.configuration().basis_gates"
   ]
  },
  {
   "cell_type": "markdown",
   "metadata": {
    "ExecuteTime": {
     "end_time": "2019-07-16T17:21:52.409358Z",
     "start_time": "2019-07-16T17:21:52.405613Z"
    }
   },
   "source": [
    "We see that the our device supports five native gates: three single-qubit gates (`u1`, `u2`, `u3`, and `id`) and one two-qubit entangling gate `cx`.  In addition, the device supports qubit measurements (otherwise we can not read out an answer!).  Although we have queried only a single device, all IBM Q devices support this gate set.\n",
    "\n",
    "The `u*` gates represent arbitrary single-qubit rotations of one, two, and three angles.  The `u1` gates are single-parameter rotations that represent generalized phase gates of the form\n",
    "\n",
    "$$\n",
    "U_{1}(\\lambda) = \\begin{bmatrix}\n",
    "1 & 0 \\\\\n",
    "0 & e^{i\\lambda}\n",
    "\\end{bmatrix}\n",
    "$$\n",
    "\n",
    "This set includes common gates such as $Z$, $T$, $T^{\\dagger}$, $S$, and $S^{\\dagger}$.  It turns out that these gates do not actually need to be performed on hardware, but instead, can be implemented in software as \"virtual gates\".  These virtual gates are called \"frame changes\" and take zero time, and have no associated error; they are free gates on hardware.\n",
    "\n",
    "Two-angle rotations, $U_{2}(\\phi,\\lambda)$, are actually two frame changes with a single $X_{\\pi/2}$ gate in between them, and can be used to synthesize gates like the Hadamard ($U_{2}(0,\\pi)$) gate.  As the only actual gate performed is the $X_{\\pi/2}$ gate, the error and gate time associated with any $U_{2}$ gate is the same as an $X_{\\pi/2}$ gate.  Similarly, $U_{3}(\\theta,\\phi,\\lambda)$ gates are formed from three frame changes with two $X_{\\pi/2}$ gates in between them.  The errors and gate times are twice those of a single $X_{\\pi/2}$.  The identity gate, $id$, is straightforward, and is a placeholder gate with a fixed time-interval. \n",
    "\n",
    "The only entangling gate supported by the IBM Q devices is the CNOT gate (`cx`) that, in the computational basis, can be written as:\n",
    "\n",
    "$$\n",
    "\\mathrm{CNOT}(0,1) = \\begin{bmatrix}\n",
    "1 & 0 & 0 & 0 \\\\\n",
    "0 & 0 & 0 & 1 \\\\\n",
    "0 & 0 & 1 & 0 \\\\\n",
    "0 & 1 & 0 & 0\n",
    "\\end{bmatrix}\n",
    "$$,\n",
    "\n",
    "where we see that the matrix form follows from the specific bit-ordering convention used in Qiskit."
   ]
  },
  {
   "cell_type": "markdown",
   "metadata": {},
   "source": [
    "Every quantum circuit run on a IBM Q device must be expressed using only these basis gates.  For example, suppose one wants to run a simple phase estimation circuit:"
   ]
  },
  {
   "cell_type": "code",
   "execution_count": 5,
   "metadata": {
    "ExecuteTime": {
     "end_time": "2019-07-16T18:08:24.012244Z",
     "start_time": "2019-07-16T18:08:23.834412Z"
    }
   },
   "outputs": [
    {
     "data": {
      "image/svg+xml": [
       "<?xml version=\"1.0\" encoding=\"UTF-8\"?><!DOCTYPE svg  PUBLIC '-//W3C//DTD SVG 1.1//EN'  'http://www.w3.org/Graphics/SVG/1.1/DTD/svg11.dtd'><svg width=\"314.38pt\" height=\"168.93pt\" version=\"1.1\" viewBox=\"0 0 314.38 168.93\" xmlns=\"http://www.w3.org/2000/svg\" xmlns:xlink=\"http://www.w3.org/1999/xlink\"><defs><style type=\"text/css\">*{stroke-linecap:butt;stroke-linejoin:round;}</style></defs><path d=\"m0 168.93h314.38v-168.93h-314.38z\" fill=\"#ffffff\"/><path d=\"m251.27 124.12h11.817l-5.9086 10.34z\" clip-path=\"url(#pdec47cbf2f)\" fill=\"#778899\"/><path d=\"m98.102 43.561h204.53\" clip-path=\"url(#pdec47cbf2f)\" fill=\"none\" stroke=\"#000000\" stroke-linecap=\"square\" stroke-width=\"2\"/><path d=\"m98.102 89.012h204.53\" clip-path=\"url(#pdec47cbf2f)\" fill=\"none\" stroke=\"#000000\" stroke-linecap=\"square\" stroke-width=\"2\"/><path d=\"m98.102 132.99h204.53\" clip-path=\"url(#pdec47cbf2f)\" fill=\"none\" stroke=\"#778899\" stroke-linecap=\"square\" stroke-width=\"2\"/><path d=\"m98.102 135.94h204.53\" clip-path=\"url(#pdec47cbf2f)\" fill=\"none\" stroke=\"#778899\" stroke-linecap=\"square\" stroke-width=\"2\"/><path d=\"m166.28 89.012v-45.451\" clip-path=\"url(#pdec47cbf2f)\" fill=\"none\" stroke=\"#bb8bff\" stroke-linecap=\"square\" stroke-width=\"2\"/><path d=\"m258.66 43.561v80.562\" clip-path=\"url(#pdec47cbf2f)\" fill=\"none\" stroke=\"#778899\" stroke-linecap=\"square\" stroke-width=\"2\"/><path d=\"m255.7 43.561v80.562\" clip-path=\"url(#pdec47cbf2f)\" fill=\"none\" stroke=\"#778899\" stroke-linecap=\"square\" stroke-width=\"2\"/><path d=\"m106.06 58.332h29.543v-29.543h-29.543z\" clip-path=\"url(#pdec47cbf2f)\" fill=\"#6fa4ff\"/><path d=\"m106.06 103.78h29.543v-29.543h-29.543z\" clip-path=\"url(#pdec47cbf2f)\" fill=\"#05bab6\"/><path d=\"m166.28 47.992c1.1752 0 2.3025-0.46693 3.1335-1.2979 0.83102-0.83102 1.2979-1.9583 1.2979-3.1335s-0.46693-2.3025-1.2979-3.1335c-0.83102-0.83102-1.9583-1.2979-3.1335-1.2979s-2.3025 0.46693-3.1335 1.2979c-0.83102 0.83102-1.2979 1.9583-1.2979 3.1335s0.46693 2.3025 1.2979 3.1335c0.83102 0.83102 1.9583 1.2979 3.1335 1.2979z\" clip-path=\"url(#pdec47cbf2f)\" fill=\"#bb8bff\" stroke=\"#bb8bff\" stroke-width=\"1.5\"/><path d=\"m151.51 103.78h29.543v-29.543h-29.543z\" clip-path=\"url(#pdec47cbf2f)\" fill=\"#bb8bff\"/><path d=\"m196.96 58.332h29.543v-29.543h-29.543z\" clip-path=\"url(#pdec47cbf2f)\" fill=\"#6fa4ff\"/><path d=\"m242.41 58.332h29.543v-29.543h-29.543z\" clip-path=\"url(#pdec47cbf2f)\"/><path d=\"m267.52 47.992c0-2.7413-1.0901-5.3732-3.0285-7.3116-1.9384-1.9384-4.5702-3.0285-7.3116-3.0285s-5.3732 1.0901-7.3116 3.0285c-1.9384 1.9384-3.0285 4.5702-3.0285 7.3116\" clip-path=\"url(#pdec47cbf2f)\" fill=\"none\" stroke=\"#ffffff\" stroke-width=\"2\"/><path d=\"m257.18 47.992 10.34-10.34\" clip-path=\"url(#pdec47cbf2f)\" fill=\"none\" stroke=\"#ffffff\" stroke-linecap=\"square\" stroke-width=\"2\"/><g clip-path=\"url(#pdec47cbf2f)\"><defs><path id=\"DejaVuSans-Oblique-72\" d=\"m16.891 72.906h9.9219l-5.8125-29.891h35.781l5.8125 29.891h9.9219l-14.219-72.906h-9.9062l6.7812 34.719h-35.781l-6.7969-34.719h-9.9062z\"/></defs><g transform=\"translate(115.89 47.148) scale(.13 -.13)\"><use transform=\"translate(0 .09375)\" xlink:href=\"#DejaVuSans-Oblique-72\"/></g></g><g clip-path=\"url(#pdec47cbf2f)\"><defs><path id=\"DejaVuSans-Oblique-88\" d=\"m13.719 72.906h9.9688l12.5-26.328 22.609 26.328h11.516l-30.031-34.812 18.125-38.094h-9.9219l-14.688 30.719-26.625-30.719h-11.469l34.078 39.203z\"/></defs><g transform=\"translate(116.34 92.599) scale(.13 -.13)\"><use transform=\"translate(0 .09375)\" xlink:href=\"#DejaVuSans-Oblique-88\"/></g></g><g clip-path=\"url(#pdec47cbf2f)\"><defs><path id=\"DejaVuSans-Oblique-85\" d=\"m15.484 72.906h9.9062l-8.5938-44.297q-0.53125-2.9688-0.75-4.9062-0.21875-1.9219-0.21875-3.3906 0-6.7344 3.75-10.234 3.7656-3.4844 11.031-3.4844 9.4375 0 14.672 5.1719 5.25 5.1719 7.5 16.844l8.5938 44.297h9.9219l-8.7969-45.516q-2.875-14.75-10.938-21.781t-22.062-7.0312q-10.938 0-17.312 5.5t-6.375 14.922q0 1.7031 0.23438 3.8281 0.25 2.125 0.73438 4.5625z\"/><path id=\"DejaVuSans-49\" d=\"m12.406 8.2969h16.109v55.625l-17.531-3.5156v8.9844l17.438 3.5156h9.8594v-64.609h16.109v-8.2969h-41.984z\"/></defs><g transform=\"translate(158.41 88.168) scale(.13 -.13)\"><use transform=\"translate(0 .09375)\" xlink:href=\"#DejaVuSans-Oblique-85\"/><use transform=\"translate(73.193 -16.312) scale(.7)\" xlink:href=\"#DejaVuSans-49\"/></g></g><g clip-path=\"url(#pdec47cbf2f)\"><defs><path id=\"DejaVuSans-Oblique-960\" d=\"m9.125 54.688h52.406l-1.7656-8.9844h-6.8906l-6.5312-33.594q-0.6875-3.5156 0.23438-5.0781 0.89062-1.5156 3.5625-1.5156 0.73438 0 1.8125 0.15625 1.125 0.09375 1.4688 0.14062l-1.2656-6.5q-1.8125-0.625-3.6719-0.92188-1.9062-0.29688-3.7031-0.29688-5.8594 0-7.4688 3.1719-1.625 3.2344 0.046875 11.828l6.3438 32.609h-20.172l-8.875-45.703h-9.1875l8.8906 45.703h-6.9844z\"/><path id=\"DejaVuSans-47\" d=\"m25.391 72.906h8.2969l-25.391-82.188h-8.2969z\"/><path id=\"DejaVuSans-52\" d=\"m37.797 64.312-24.906-38.922h24.906zm-2.5938 8.5938h12.406v-47.516h10.406v-8.2031h-10.406v-17.188h-9.8125v17.188h-32.906v9.5156z\"/></defs><g transform=\"translate(159.96 100.08) scale(.08 -.08)\"><use transform=\"translate(0 .09375)\" xlink:href=\"#DejaVuSans-Oblique-960\"/><use transform=\"translate(60.205 .09375)\" xlink:href=\"#DejaVuSans-47\"/><use transform=\"translate(93.896 .09375)\" xlink:href=\"#DejaVuSans-52\"/></g></g><g clip-path=\"url(#pdec47cbf2f)\"><g transform=\"translate(206.79 47.148) scale(.13 -.13)\"><use transform=\"translate(0 .09375)\" xlink:href=\"#DejaVuSans-Oblique-72\"/></g></g><g clip-path=\"url(#pdec47cbf2f)\"><defs><path id=\"DejaVuSans-48\" d=\"m31.781 66.406q-7.6094 0-11.453-7.5-3.8281-7.4844-3.8281-22.531 0-14.984 3.8281-22.484 3.8438-7.5 11.453-7.5 7.6719 0 11.5 7.5 3.8438 7.5 3.8438 22.484 0 15.047-3.8438 22.531-3.8281 7.5-11.5 7.5zm0 7.8125q12.266 0 18.734-9.7031 6.4688-9.6875 6.4688-28.141 0-18.406-6.4688-28.109-6.4688-9.6875-18.734-9.6875-12.25 0-18.719 9.6875-6.4688 9.7031-6.4688 28.109 0 18.453 6.4688 28.141 6.4688 9.7031 18.719 9.7031z\"/></defs><g transform=\"translate(268.54 127.75) scale(.104 -.104)\"><use xlink:href=\"#DejaVuSans-48\"/></g></g><g clip-path=\"url(#pdec47cbf2f)\"><defs><path id=\"DejaVuSans-Oblique-113\" d=\"m41.703 8.2031q-3.6094-4.7344-8.5312-7.1875-4.9062-2.4375-10.859-2.4375-8.2969 0-13.016 5.5938-4.7031 5.5938-4.7031 15.406 0 7.9062 2.9062 15.281t8.3281 13.234q3.5156 3.8125 8.0781 5.8594t9.5938 2.0469q6.0469 0 9.9531-2.3906t5.6719-7.2188l1.5625 8.2031h9.0312l-14.594-75.203h-9.0469zm-27.781 12.703q0-7.2344 3.0156-11.016 3.0312-3.7812 8.75-3.7812 8.5 0 14.5 8.125t6 19.75q0 7.0312-3.1094 10.766-3.0938 3.7344-8.8906 3.7344-4.25 0-7.875-1.9844-3.6094-1.9688-6.2969-5.7812-2.8281-4-4.4688-9.375-1.625-5.3594-1.625-10.438z\"/></defs><g transform=\"translate(57.339 48.012) scale(.1625 -.1625)\"><use xlink:href=\"#DejaVuSans-Oblique-113\"/><use transform=\"translate(63.477 -16.406) scale(.7)\" xlink:href=\"#DejaVuSans-48\"/></g></g><g clip-path=\"url(#pdec47cbf2f)\"><g transform=\"translate(57.339 93.463) scale(.1625 -.1625)\"><use xlink:href=\"#DejaVuSans-Oblique-113\"/><use transform=\"translate(63.477 -16.406) scale(.7)\" xlink:href=\"#DejaVuSans-49\"/></g></g><g clip-path=\"url(#pdec47cbf2f)\"><defs><path id=\"DejaVuSans-Oblique-99\" d=\"m53.609 52.594-1.7969-8.8906q-3.2344 2.3438-6.875 3.5156-3.625 1.1719-7.5312 1.1719-4.2969 0-8.1875-1.5156-3.875-1.5156-6.5156-4.2969-4.2031-4.25-6.5-9.9688-2.2812-5.7031-2.2812-11.812 0-7.375 3.6875-10.984t11.203-3.6094q3.7031 0 7.875 1.125 4.1875 1.125 8.7188 3.3594l-1.7031-8.875q-3.9062-1.6094-8.0312-2.4219t-8.4688-0.8125q-10.891 0-16.75 5.4375-5.8594 5.4531-5.8594 15.562 0 8.5 3.0469 15.656t9.0625 12.859q4.0938 3.9062 9.6094 5.9062 5.5312 2 12.062 2 3.8125 0 7.5625-0.85938 3.7656-0.84375 7.6719-2.5469z\"/></defs><g transform=\"translate(64.652 139.84) scale(.195 -.195)\"><use xlink:href=\"#DejaVuSans-Oblique-99\"/></g></g><defs><clipPath id=\"pdec47cbf2f\"><rect x=\"7.2\" y=\"7.2\" width=\"299.98\" height=\"154.53\"/></clipPath></defs></svg>"
      ],
      "text/plain": [
       "<Figure size 397.32x204.68 with 1 Axes>"
      ]
     },
     "execution_count": 5,
     "metadata": {},
     "output_type": "execute_result"
    }
   ],
   "source": [
    "qr = QuantumRegister(2, 'q')\n",
    "cr = ClassicalRegister(1, 'c')\n",
    "qc = QuantumCircuit(qr, cr)\n",
    "\n",
    "qc.h(qr[0])\n",
    "qc.x(qr[1])\n",
    "qc.cu1(np.pi/4, qr[0], qr[1])\n",
    "qc.h(qr[0])\n",
    "qc.measure(qr[0], cr[0])\n",
    "qc.draw(output='mpl')"
   ]
  },
  {
   "cell_type": "markdown",
   "metadata": {},
   "source": [
    "We have $H$, $X$, and controlled-$U_{1}$ gates, all of which are not in our devices basis gate set, and must be expanded.  We will see that this expansion is taken care of for you, but for now let us just rewrite the circuit in the basis gate set:"
   ]
  },
  {
   "cell_type": "code",
   "execution_count": 6,
   "metadata": {
    "ExecuteTime": {
     "end_time": "2019-07-16T18:39:07.353160Z",
     "start_time": "2019-07-16T18:39:07.130830Z"
    }
   },
   "outputs": [
    {
     "data": {
      "image/svg+xml": [
       "<?xml version=\"1.0\" encoding=\"UTF-8\"?><!DOCTYPE svg  PUBLIC '-//W3C//DTD SVG 1.1//EN'  'http://www.w3.org/Graphics/SVG/1.1/DTD/svg11.dtd'><svg width=\"541.63pt\" height=\"168.93pt\" version=\"1.1\" viewBox=\"0 0 541.63 168.93\" xmlns=\"http://www.w3.org/2000/svg\" xmlns:xlink=\"http://www.w3.org/1999/xlink\"><defs><style type=\"text/css\">*{stroke-linecap:butt;stroke-linejoin:round;}</style></defs><path d=\"m0 168.93h541.63v-168.93h-541.63z\" fill=\"#ffffff\"/><path d=\"m478.53 124.12h11.817l-5.9086 10.34z\" clip-path=\"url(#p099a19f31e)\" fill=\"#778899\"/><path d=\"m98.102 43.561h431.78\" clip-path=\"url(#p099a19f31e)\" fill=\"none\" stroke=\"#000000\" stroke-linecap=\"square\" stroke-width=\"2\"/><path d=\"m98.102 89.012h431.78\" clip-path=\"url(#p099a19f31e)\" fill=\"none\" stroke=\"#000000\" stroke-linecap=\"square\" stroke-width=\"2\"/><path d=\"m98.102 132.99h431.78\" clip-path=\"url(#p099a19f31e)\" fill=\"none\" stroke=\"#778899\" stroke-linecap=\"square\" stroke-width=\"2\"/><path d=\"m98.102 135.94h431.78\" clip-path=\"url(#p099a19f31e)\" fill=\"none\" stroke=\"#778899\" stroke-linecap=\"square\" stroke-width=\"2\"/><path d=\"m257.18 89.012v-45.451\" clip-path=\"url(#p099a19f31e)\" fill=\"none\" stroke=\"#6fa4ff\" stroke-linecap=\"square\" stroke-width=\"2\"/><path d=\"m348.08 89.012v-45.451\" clip-path=\"url(#p099a19f31e)\" fill=\"none\" stroke=\"#6fa4ff\" stroke-linecap=\"square\" stroke-width=\"2\"/><path d=\"m485.91 43.561v80.562\" clip-path=\"url(#p099a19f31e)\" fill=\"none\" stroke=\"#778899\" stroke-linecap=\"square\" stroke-width=\"2\"/><path d=\"m482.96 43.561v80.562\" clip-path=\"url(#p099a19f31e)\" fill=\"none\" stroke=\"#778899\" stroke-linecap=\"square\" stroke-width=\"2\"/><path d=\"m128.78 58.332h29.543v-29.543h-29.543z\" clip-path=\"url(#p099a19f31e)\" fill=\"#fa74a6\"/><path d=\"m128.04 103.78h31.02v-29.543h-31.02z\" clip-path=\"url(#p099a19f31e)\" fill=\"#fa74a6\"/><path d=\"m196.96 58.332h29.543v-29.543h-29.543z\" clip-path=\"url(#p099a19f31e)\" fill=\"#fa74a6\"/><path d=\"m257.18 47.992c1.1752 0 2.3025-0.46693 3.1335-1.2979 0.83102-0.83102 1.2979-1.9583 1.2979-3.1335s-0.46693-2.3025-1.2979-3.1335c-0.83102-0.83102-1.9583-1.2979-3.1335-1.2979s-2.3025 0.46693-3.1335 1.2979c-0.83102 0.83102-1.2979 1.9583-1.2979 3.1335s0.46693 2.3025 1.2979 3.1335c0.83102 0.83102 1.9583 1.2979 3.1335 1.2979z\" clip-path=\"url(#p099a19f31e)\" fill=\"#6fa4ff\" stroke=\"#6fa4ff\" stroke-width=\"1.5\"/><path d=\"m257.18 99.352c2.7422 0 5.3725-1.0895 7.3116-3.0285 1.939-1.939 3.0285-4.5693 3.0285-7.3116s-1.0895-5.3725-3.0285-7.3116c-1.939-1.939-4.5693-3.0285-7.3116-3.0285s-5.3725 1.0895-7.3116 3.0285c-1.939 1.939-3.0285 4.5693-3.0285 7.3116s1.0895 5.3725 3.0285 7.3116c1.939 1.939 4.5693 3.0285 7.3116 3.0285z\" clip-path=\"url(#p099a19f31e)\" fill=\"#6fa4ff\" stroke=\"#6fa4ff\" stroke-width=\"2\"/><path d=\"m287.86 103.78h29.543v-29.543h-29.543z\" clip-path=\"url(#p099a19f31e)\" fill=\"#fa74a6\"/><path d=\"m348.08 47.992c1.1752 0 2.3025-0.46693 3.1335-1.2979 0.83102-0.83102 1.2979-1.9583 1.2979-3.1335s-0.46693-2.3025-1.2979-3.1335c-0.83102-0.83102-1.9583-1.2979-3.1335-1.2979s-2.3025 0.46693-3.1335 1.2979c-0.83102 0.83102-1.2979 1.9583-1.2979 3.1335s0.46693 2.3025 1.2979 3.1335c0.83102 0.83102 1.9583 1.2979 3.1335 1.2979z\" clip-path=\"url(#p099a19f31e)\" fill=\"#6fa4ff\" stroke=\"#6fa4ff\" stroke-width=\"1.5\"/><path d=\"m348.08 99.352c2.7422 0 5.3725-1.0895 7.3116-3.0285 1.939-1.939 3.0285-4.5693 3.0285-7.3116s-1.0895-5.3725-3.0285-7.3116c-1.939-1.939-4.5693-3.0285-7.3116-3.0285s-5.3725 1.0895-7.3116 3.0285c-1.939 1.939-3.0285 4.5693-3.0285 7.3116s1.0895 5.3725 3.0285 7.3116c1.939 1.939 4.5693 3.0285 7.3116 3.0285z\" clip-path=\"url(#p099a19f31e)\" fill=\"#6fa4ff\" stroke=\"#6fa4ff\" stroke-width=\"2\"/><path d=\"m401.49 103.78h29.543v-29.543h-29.543z\" clip-path=\"url(#p099a19f31e)\" fill=\"#fa74a6\"/><path d=\"m401.49 58.332h29.543v-29.543h-29.543z\" clip-path=\"url(#p099a19f31e)\" fill=\"#fa74a6\"/><path d=\"m469.66 58.332h29.543v-29.543h-29.543z\" clip-path=\"url(#p099a19f31e)\"/><path d=\"m494.78 47.992c0-2.7413-1.0901-5.3732-3.0285-7.3116-1.9384-1.9384-4.5702-3.0285-7.3116-3.0285s-5.3732 1.0901-7.3116 3.0285c-1.9384 1.9384-3.0285 4.5702-3.0285 7.3116\" clip-path=\"url(#p099a19f31e)\" fill=\"none\" stroke=\"#ffffff\" stroke-width=\"2\"/><path d=\"m484.44 47.992 10.34-10.34\" clip-path=\"url(#p099a19f31e)\" fill=\"none\" stroke=\"#ffffff\" stroke-linecap=\"square\" stroke-width=\"2\"/><path d=\"m257.18 94.92v-11.817\" clip-path=\"url(#p099a19f31e)\" fill=\"none\" stroke=\"#ffffff\" stroke-linecap=\"square\" stroke-width=\"2\"/><path d=\"m251.27 89.012h11.817\" clip-path=\"url(#p099a19f31e)\" fill=\"none\" stroke=\"#ffffff\" stroke-linecap=\"square\" stroke-width=\"2\"/><path d=\"m348.08 94.92v-11.817\" clip-path=\"url(#p099a19f31e)\" fill=\"none\" stroke=\"#ffffff\" stroke-linecap=\"square\" stroke-width=\"2\"/><path d=\"m342.17 89.012h11.817\" clip-path=\"url(#p099a19f31e)\" fill=\"none\" stroke=\"#ffffff\" stroke-linecap=\"square\" stroke-width=\"2\"/><g clip-path=\"url(#p099a19f31e)\"><defs><path id=\"DejaVuSans-Oblique-85\" d=\"m15.484 72.906h9.9062l-8.5938-44.297q-0.53125-2.9688-0.75-4.9062-0.21875-1.9219-0.21875-3.3906 0-6.7344 3.75-10.234 3.7656-3.4844 11.031-3.4844 9.4375 0 14.672 5.1719 5.25 5.1719 7.5 16.844l8.5938 44.297h9.9219l-8.7969-45.516q-2.875-14.75-10.938-21.781t-22.062-7.0312q-10.938 0-17.312 5.5t-6.375 14.922q0 1.7031 0.23438 3.8281 0.25 2.125 0.73438 4.5625z\"/><path id=\"DejaVuSans-50\" d=\"m19.188 8.2969h34.422v-8.2969h-46.281v8.2969q5.6094 5.8125 15.297 15.594 9.7031 9.7969 12.188 12.641 4.7344 5.3125 6.6094 9 1.8906 3.6875 1.8906 7.25 0 5.8125-4.0781 9.4688-4.0781 3.6719-10.625 3.6719-4.6406 0-9.7969-1.6094-5.1406-1.6094-11-4.8906v9.9688q5.9531 2.3906 11.125 3.6094 5.1875 1.2188 9.4844 1.2188 11.328 0 18.062-5.6719 6.7344-5.6562 6.7344-15.125 0-4.5-1.6875-8.5312-1.6719-4.0156-6.125-9.4844-1.2188-1.4219-7.7656-8.1875-6.5312-6.7656-18.453-18.922z\"/></defs><g transform=\"translate(135.69 42.717) scale(.13 -.13)\"><use transform=\"translate(0 .09375)\" xlink:href=\"#DejaVuSans-Oblique-85\"/><use transform=\"translate(73.193 -16.312) scale(.7)\" xlink:href=\"#DejaVuSans-50\"/></g></g><g clip-path=\"url(#p099a19f31e)\"><defs><path id=\"DejaVuSans-48\" d=\"m31.781 66.406q-7.6094 0-11.453-7.5-3.8281-7.4844-3.8281-22.531 0-14.984 3.8281-22.484 3.8438-7.5 11.453-7.5 7.6719 0 11.5 7.5 3.8438 7.5 3.8438 22.484 0 15.047-3.8438 22.531-3.8281 7.5-11.5 7.5zm0 7.8125q12.266 0 18.734-9.7031 6.4688-9.6875 6.4688-28.141 0-18.406-6.4688-28.109-6.4688-9.6875-18.734-9.6875-12.25 0-18.719 9.6875-6.4688 9.7031-6.4688 28.109 0 18.453 6.4688 28.141 6.4688 9.7031 18.719 9.7031z\"/><path id=\"DejaVuSans-44\" d=\"m11.719 12.406h10.297v-8.4062l-8-15.625h-6.2969l4 15.625z\"/><path id=\"DejaVuSans-Oblique-960\" d=\"m9.125 54.688h52.406l-1.7656-8.9844h-6.8906l-6.5312-33.594q-0.6875-3.5156 0.23438-5.0781 0.89062-1.5156 3.5625-1.5156 0.73438 0 1.8125 0.15625 1.125 0.09375 1.4688 0.14062l-1.2656-6.5q-1.8125-0.625-3.6719-0.92188-1.9062-0.29688-3.7031-0.29688-5.8594 0-7.4688 3.1719-1.625 3.2344 0.046875 11.828l6.3438 32.609h-20.172l-8.875-45.703h-9.1875l8.8906 45.703h-6.9844z\"/></defs><g transform=\"translate(136.03 54.631) scale(.08 -.08)\"><use transform=\"translate(0 .78125)\" xlink:href=\"#DejaVuSans-48\"/><use transform=\"translate(63.623 .78125)\" xlink:href=\"#DejaVuSans-44\"/><use transform=\"translate(95.41 .78125)\" xlink:href=\"#DejaVuSans-32\"/><use transform=\"translate(127.2 .78125)\" xlink:href=\"#DejaVuSans-Oblique-960\"/></g></g><g clip-path=\"url(#p099a19f31e)\"><defs><path id=\"DejaVuSans-51\" d=\"m40.578 39.312q7.0781-1.5156 11.047-6.3125 3.9844-4.7812 3.9844-11.812 0-10.781-7.4219-16.703-7.4219-5.9062-21.094-5.9062-4.5781 0-9.4375 0.90625t-10.031 2.7188v9.5156q4.0938-2.3906 8.9688-3.6094 4.8906-1.2188 10.219-1.2188 9.2656 0 14.125 3.6562t4.8594 10.641q0 6.4531-4.5156 10.078-4.5156 3.6406-12.562 3.6406h-8.5v8.1094h8.8906q7.2656 0 11.125 2.9062t3.8594 8.375q0 5.6094-3.9844 8.6094-3.9688 3.0156-11.391 3.0156-4.0625 0-8.7031-0.89062-4.6406-0.875-10.203-2.7188v8.7812q5.625 1.5625 10.531 2.3438t9.25 0.78125q11.234 0 17.766-5.1094 6.5469-5.0938 6.5469-13.781 0-6.0625-3.4688-10.234t-9.8594-5.7812z\"/></defs><g transform=\"translate(135.69 88.168) scale(.13 -.13)\"><use transform=\"translate(0 .09375)\" xlink:href=\"#DejaVuSans-Oblique-85\"/><use transform=\"translate(73.193 -16.312) scale(.7)\" xlink:href=\"#DejaVuSans-51\"/></g></g><g clip-path=\"url(#p099a19f31e)\"><g transform=\"translate(131.07 100.08) scale(.08 -.08)\"><use transform=\"translate(0 .78125)\" xlink:href=\"#DejaVuSans-Oblique-960\"/><use transform=\"translate(60.205 .78125)\" xlink:href=\"#DejaVuSans-44\"/><use transform=\"translate(91.992 .78125)\" xlink:href=\"#DejaVuSans-32\"/><use transform=\"translate(123.78 .78125)\" xlink:href=\"#DejaVuSans-48\"/><use transform=\"translate(187.4 .78125)\" xlink:href=\"#DejaVuSans-44\"/><use transform=\"translate(219.19 .78125)\" xlink:href=\"#DejaVuSans-32\"/><use transform=\"translate(250.98 .78125)\" xlink:href=\"#DejaVuSans-Oblique-960\"/></g></g><g clip-path=\"url(#p099a19f31e)\"><defs><path id=\"DejaVuSans-49\" d=\"m12.406 8.2969h16.109v55.625l-17.531-3.5156v8.9844l17.438 3.5156h9.8594v-64.609h16.109v-8.2969h-41.984z\"/></defs><g transform=\"translate(203.86 42.717) scale(.13 -.13)\"><use transform=\"translate(0 .09375)\" xlink:href=\"#DejaVuSans-Oblique-85\"/><use transform=\"translate(73.193 -16.312) scale(.7)\" xlink:href=\"#DejaVuSans-49\"/></g></g><g clip-path=\"url(#p099a19f31e)\"><defs><path id=\"DejaVuSans-47\" d=\"m25.391 72.906h8.2969l-25.391-82.188h-8.2969z\"/><path id=\"DejaVuSans-56\" d=\"m31.781 34.625q-7.0312 0-11.062-3.7656-4.0156-3.7656-4.0156-10.344 0-6.5938 4.0156-10.359 4.0312-3.7656 11.062-3.7656t11.078 3.7812q4.0625 3.7969 4.0625 10.344 0 6.5781-4.0312 10.344-4.0156 3.7656-11.109 3.7656zm-9.8594 4.1875q-6.3438 1.5625-9.8906 5.9062-3.5312 4.3594-3.5312 10.609 0 8.7344 6.2188 13.812 6.2344 5.0781 17.062 5.0781 10.891 0 17.094-5.0781t6.2031-13.812q0-6.25-3.5469-10.609-3.5312-4.3438-9.8281-5.9062 7.125-1.6562 11.094-6.5 3.9844-4.8281 3.9844-11.797 0-10.609-6.4688-16.281-6.4688-5.6562-18.531-5.6562-12.047 0-18.531 5.6562-6.4688 5.6719-6.4688 16.281 0 6.9688 4 11.797 4.0156 4.8438 11.141 6.5zm-3.6094 15.578q0-5.6562 3.5312-8.8281 3.5469-3.1719 9.9375-3.1719 6.3594 0 9.9375 3.1719 3.5938 3.1719 3.5938 8.8281 0 5.6719-3.5938 8.8438-3.5781 3.1719-9.9375 3.1719-6.3906 0-9.9375-3.1719-3.5312-3.1719-3.5312-8.8438z\"/></defs><g transform=\"translate(205.41 54.631) scale(.08 -.08)\"><use transform=\"translate(0 .78125)\" xlink:href=\"#DejaVuSans-Oblique-960\"/><use transform=\"translate(60.205 .78125)\" xlink:href=\"#DejaVuSans-47\"/><use transform=\"translate(93.818 .78125)\" xlink:href=\"#DejaVuSans-56\"/></g></g><g clip-path=\"url(#p099a19f31e)\"><g transform=\"translate(294.77 88.168) scale(.13 -.13)\"><use transform=\"translate(0 .09375)\" xlink:href=\"#DejaVuSans-Oblique-85\"/><use transform=\"translate(73.193 -16.312) scale(.7)\" xlink:href=\"#DejaVuSans-49\"/></g></g><g clip-path=\"url(#p099a19f31e)\"><defs><path id=\"DejaVuSans-8722\" d=\"m10.594 35.5h62.594v-8.2969h-62.594z\"/></defs><g transform=\"translate(292.95 100.08) scale(.08 -.08)\"><use transform=\"translate(0 .78125)\" xlink:href=\"#DejaVuSans-8722\"/><use transform=\"translate(83.789 .78125)\" xlink:href=\"#DejaVuSans-Oblique-960\"/><use transform=\"translate(143.99 .78125)\" xlink:href=\"#DejaVuSans-47\"/><use transform=\"translate(177.61 .78125)\" xlink:href=\"#DejaVuSans-56\"/></g></g><g clip-path=\"url(#p099a19f31e)\"><g transform=\"translate(408.39 88.168) scale(.13 -.13)\"><use transform=\"translate(0 .09375)\" xlink:href=\"#DejaVuSans-Oblique-85\"/><use transform=\"translate(73.193 -16.312) scale(.7)\" xlink:href=\"#DejaVuSans-49\"/></g></g><g clip-path=\"url(#p099a19f31e)\"><g transform=\"translate(409.94 100.08) scale(.08 -.08)\"><use transform=\"translate(0 .78125)\" xlink:href=\"#DejaVuSans-Oblique-960\"/><use transform=\"translate(60.205 .78125)\" xlink:href=\"#DejaVuSans-47\"/><use transform=\"translate(93.818 .78125)\" xlink:href=\"#DejaVuSans-56\"/></g></g><g clip-path=\"url(#p099a19f31e)\"><g transform=\"translate(408.39 42.717) scale(.13 -.13)\"><use transform=\"translate(0 .09375)\" xlink:href=\"#DejaVuSans-Oblique-85\"/><use transform=\"translate(73.193 -16.312) scale(.7)\" xlink:href=\"#DejaVuSans-50\"/></g></g><g clip-path=\"url(#p099a19f31e)\"><g transform=\"translate(408.74 54.631) scale(.08 -.08)\"><use transform=\"translate(0 .78125)\" xlink:href=\"#DejaVuSans-48\"/><use transform=\"translate(63.623 .78125)\" xlink:href=\"#DejaVuSans-44\"/><use transform=\"translate(95.41 .78125)\" xlink:href=\"#DejaVuSans-32\"/><use transform=\"translate(127.2 .78125)\" xlink:href=\"#DejaVuSans-Oblique-960\"/></g></g><g clip-path=\"url(#p099a19f31e)\"><g transform=\"translate(495.8 127.75) scale(.104 -.104)\"><use xlink:href=\"#DejaVuSans-48\"/></g></g><g clip-path=\"url(#p099a19f31e)\"><defs><path id=\"DejaVuSans-Oblique-113\" d=\"m41.703 8.2031q-3.6094-4.7344-8.5312-7.1875-4.9062-2.4375-10.859-2.4375-8.2969 0-13.016 5.5938-4.7031 5.5938-4.7031 15.406 0 7.9062 2.9062 15.281t8.3281 13.234q3.5156 3.8125 8.0781 5.8594t9.5938 2.0469q6.0469 0 9.9531-2.3906t5.6719-7.2188l1.5625 8.2031h9.0312l-14.594-75.203h-9.0469zm-27.781 12.703q0-7.2344 3.0156-11.016 3.0312-3.7812 8.75-3.7812 8.5 0 14.5 8.125t6 19.75q0 7.0312-3.1094 10.766-3.0938 3.7344-8.8906 3.7344-4.25 0-7.875-1.9844-3.6094-1.9688-6.2969-5.7812-2.8281-4-4.4688-9.375-1.625-5.3594-1.625-10.438z\"/></defs><g transform=\"translate(57.339 48.012) scale(.1625 -.1625)\"><use xlink:href=\"#DejaVuSans-Oblique-113\"/><use transform=\"translate(63.477 -16.406) scale(.7)\" xlink:href=\"#DejaVuSans-48\"/></g></g><g clip-path=\"url(#p099a19f31e)\"><g transform=\"translate(57.339 93.463) scale(.1625 -.1625)\"><use xlink:href=\"#DejaVuSans-Oblique-113\"/><use transform=\"translate(63.477 -16.406) scale(.7)\" xlink:href=\"#DejaVuSans-49\"/></g></g><g clip-path=\"url(#p099a19f31e)\"><defs><path id=\"DejaVuSans-Oblique-99\" d=\"m53.609 52.594-1.7969-8.8906q-3.2344 2.3438-6.875 3.5156-3.625 1.1719-7.5312 1.1719-4.2969 0-8.1875-1.5156-3.875-1.5156-6.5156-4.2969-4.2031-4.25-6.5-9.9688-2.2812-5.7031-2.2812-11.812 0-7.375 3.6875-10.984t11.203-3.6094q3.7031 0 7.875 1.125 4.1875 1.125 8.7188 3.3594l-1.7031-8.875q-3.9062-1.6094-8.0312-2.4219t-8.4688-0.8125q-10.891 0-16.75 5.4375-5.8594 5.4531-5.8594 15.562 0 8.5 3.0469 15.656t9.0625 12.859q4.0938 3.9062 9.6094 5.9062 5.5312 2 12.062 2 3.8125 0 7.5625-0.85938 3.7656-0.84375 7.6719-2.5469z\"/></defs><g transform=\"translate(64.652 139.84) scale(.195 -.195)\"><use xlink:href=\"#DejaVuSans-Oblique-99\"/></g></g><defs><clipPath id=\"p099a19f31e\"><rect x=\"7.2\" y=\"7.2\" width=\"527.23\" height=\"154.53\"/></clipPath></defs></svg>"
      ],
      "text/plain": [
       "<Figure size 698.32x204.68 with 1 Axes>"
      ]
     },
     "execution_count": 6,
     "metadata": {},
     "output_type": "execute_result"
    }
   ],
   "source": [
    "qr = QuantumRegister(2, 'q')\n",
    "cr = ClassicalRegister(1, 'c')\n",
    "qc_basis = QuantumCircuit(qr, cr)\n",
    "\n",
    "# Hadamard in U2 format\n",
    "qc_basis.u2(0, np.pi, qr[0])\n",
    "# X gate in U3 format\n",
    "qc_basis.u3(np.pi, 0, np.pi, qr[1])\n",
    "\n",
    "# Decomposition for controlled-U1 with lambda=pi/4\n",
    "qc_basis.u1(np.pi/8, qr[0]) \n",
    "qc_basis.cx(qr[0], qr[1]) \n",
    "qc_basis.u1(-np.pi/8, qr[1]) \n",
    "qc_basis.cx(qr[0], qr[1])\n",
    "qc_basis.u1(np.pi/8, qr[1])\n",
    "\n",
    "# Hadamard in U2 format\n",
    "qc_basis.u2(0, np.pi, qr[0]) \n",
    "\n",
    "qc_basis.measure(qr[0], cr[0])\n",
    "qc_basis.draw(output='mpl')"
   ]
  },
  {
   "cell_type": "markdown",
   "metadata": {},
   "source": [
    "A few things to highlight.  One, the circuit has gotten longer with respect to the initial one.  This can be verified by checking the depth of the circuits:"
   ]
  },
  {
   "cell_type": "code",
   "execution_count": 7,
   "metadata": {
    "ExecuteTime": {
     "end_time": "2019-07-16T18:09:31.690359Z",
     "start_time": "2019-07-16T18:09:31.685832Z"
    }
   },
   "outputs": [
    {
     "name": "stdout",
     "output_type": "stream",
     "text": [
      "4 , 7\n"
     ]
    }
   ],
   "source": [
    "print(qc.depth(), ',', qc_basis.depth())"
   ]
  },
  {
   "cell_type": "markdown",
   "metadata": {},
   "source": [
    "Second, although we had a single controlled gate, the fact that it was not in the basis set means that, when expanded, it requires more than a single `cx` gate to implement. All said, unrolling to the basis set of gates leads to an increase in the length of a quantum circuit and the number of gates.  Both of these increases lead to more errors from the environment and gate errors, respectively, and further circuit rewriting steps must try to mitigate this effect through circuit optimizations."
   ]
  },
  {
   "cell_type": "markdown",
   "metadata": {},
   "source": [
    "Finally, we will look at the particularly important example of a Toffoli, or controlled-controlled-not gate:"
   ]
  },
  {
   "cell_type": "code",
   "execution_count": 8,
   "metadata": {
    "ExecuteTime": {
     "end_time": "2019-07-16T18:22:00.558019Z",
     "start_time": "2019-07-16T18:22:00.400606Z"
    }
   },
   "outputs": [
    {
     "data": {
      "image/svg+xml": [
       "<?xml version=\"1.0\" encoding=\"UTF-8\"?><!DOCTYPE svg  PUBLIC '-//W3C//DTD SVG 1.1//EN'  'http://www.w3.org/Graphics/SVG/1.1/DTD/svg11.dtd'><svg width=\"178.02pt\" height=\"168.93pt\" version=\"1.1\" viewBox=\"0 0 178.02 168.93\" xmlns=\"http://www.w3.org/2000/svg\" xmlns:xlink=\"http://www.w3.org/1999/xlink\"><defs><style type=\"text/css\">*{stroke-linecap:butt;stroke-linejoin:round;}</style></defs><path d=\"m0 168.93h178.02v-168.93h-178.02z\" fill=\"#ffffff\"/><path d=\"m98.102 43.561h68.176\" clip-path=\"url(#p9f002c5176)\" fill=\"none\" stroke=\"#000000\" stroke-linecap=\"square\" stroke-width=\"2\"/><path d=\"m98.102 89.012h68.176\" clip-path=\"url(#p9f002c5176)\" fill=\"none\" stroke=\"#000000\" stroke-linecap=\"square\" stroke-width=\"2\"/><path d=\"m98.102 134.46h68.176\" clip-path=\"url(#p9f002c5176)\" fill=\"none\" stroke=\"#000000\" stroke-linecap=\"square\" stroke-width=\"2\"/><path d=\"m120.83 134.46v-90.902\" clip-path=\"url(#p9f002c5176)\" fill=\"none\" stroke=\"#bb8bff\" stroke-linecap=\"square\" stroke-width=\"2\"/><path d=\"m120.83 47.992c1.1752 0 2.3025-0.46693 3.1335-1.2979 0.83102-0.83102 1.2979-1.9583 1.2979-3.1335s-0.46693-2.3025-1.2979-3.1335c-0.83102-0.83102-1.9583-1.2979-3.1335-1.2979s-2.3025 0.46693-3.1335 1.2979c-0.83102 0.83102-1.2979 1.9583-1.2979 3.1335s0.46693 2.3025 1.2979 3.1335c0.83102 0.83102 1.9583 1.2979 3.1335 1.2979z\" clip-path=\"url(#p9f002c5176)\" fill=\"#bb8bff\" stroke=\"#bb8bff\" stroke-width=\"1.5\"/><path d=\"m120.83 93.443c1.1752 0 2.3025-0.46693 3.1335-1.2979 0.83102-0.83102 1.2979-1.9583 1.2979-3.1335s-0.46693-2.3025-1.2979-3.1335c-0.83102-0.83102-1.9583-1.2979-3.1335-1.2979s-2.3025 0.46693-3.1335 1.2979c-0.83102 0.83102-1.2979 1.9583-1.2979 3.1335s0.46693 2.3025 1.2979 3.1335c0.83102 0.83102 1.9583 1.2979 3.1335 1.2979z\" clip-path=\"url(#p9f002c5176)\" fill=\"#bb8bff\" stroke=\"#bb8bff\" stroke-width=\"1.5\"/><path d=\"m120.83 144.8c2.7422 0 5.3725-1.0895 7.3116-3.0285 1.939-1.939 3.0285-4.5693 3.0285-7.3116s-1.0895-5.3725-3.0285-7.3116c-1.939-1.939-4.5693-3.0285-7.3116-3.0285s-5.3725 1.0895-7.3116 3.0285c-1.939 1.939-3.0285 4.5693-3.0285 7.3116s1.0895 5.3725 3.0285 7.3116c1.939 1.939 4.5693 3.0285 7.3116 3.0285z\" clip-path=\"url(#p9f002c5176)\" fill=\"#bb8bff\" stroke=\"#bb8bff\" stroke-width=\"2\"/><path d=\"m120.83 140.37v-11.817\" clip-path=\"url(#p9f002c5176)\" fill=\"none\" stroke=\"#ffffff\" stroke-linecap=\"square\" stroke-width=\"2\"/><path d=\"m114.92 134.46h11.817\" clip-path=\"url(#p9f002c5176)\" fill=\"none\" stroke=\"#ffffff\" stroke-linecap=\"square\" stroke-width=\"2\"/><g clip-path=\"url(#p9f002c5176)\"><defs><path id=\"DejaVuSans-Oblique-113\" d=\"m41.703 8.2031q-3.6094-4.7344-8.5312-7.1875-4.9062-2.4375-10.859-2.4375-8.2969 0-13.016 5.5938-4.7031 5.5938-4.7031 15.406 0 7.9062 2.9062 15.281t8.3281 13.234q3.5156 3.8125 8.0781 5.8594t9.5938 2.0469q6.0469 0 9.9531-2.3906t5.6719-7.2188l1.5625 8.2031h9.0312l-14.594-75.203h-9.0469zm-27.781 12.703q0-7.2344 3.0156-11.016 3.0312-3.7812 8.75-3.7812 8.5 0 14.5 8.125t6 19.75q0 7.0312-3.1094 10.766-3.0938 3.7344-8.8906 3.7344-4.25 0-7.875-1.9844-3.6094-1.9688-6.2969-5.7812-2.8281-4-4.4688-9.375-1.625-5.3594-1.625-10.438z\"/><path id=\"DejaVuSans-48\" d=\"m31.781 66.406q-7.6094 0-11.453-7.5-3.8281-7.4844-3.8281-22.531 0-14.984 3.8281-22.484 3.8438-7.5 11.453-7.5 7.6719 0 11.5 7.5 3.8438 7.5 3.8438 22.484 0 15.047-3.8438 22.531-3.8281 7.5-11.5 7.5zm0 7.8125q12.266 0 18.734-9.7031 6.4688-9.6875 6.4688-28.141 0-18.406-6.4688-28.109-6.4688-9.6875-18.734-9.6875-12.25 0-18.719 9.6875-6.4688 9.7031-6.4688 28.109 0 18.453 6.4688 28.141 6.4688 9.7031 18.719 9.7031z\"/></defs><g transform=\"translate(57.339 48.012) scale(.1625 -.1625)\"><use xlink:href=\"#DejaVuSans-Oblique-113\"/><use transform=\"translate(63.477 -16.406) scale(.7)\" xlink:href=\"#DejaVuSans-48\"/></g></g><g clip-path=\"url(#p9f002c5176)\"><defs><path id=\"DejaVuSans-49\" d=\"m12.406 8.2969h16.109v55.625l-17.531-3.5156v8.9844l17.438 3.5156h9.8594v-64.609h16.109v-8.2969h-41.984z\"/></defs><g transform=\"translate(57.339 93.463) scale(.1625 -.1625)\"><use xlink:href=\"#DejaVuSans-Oblique-113\"/><use transform=\"translate(63.477 -16.406) scale(.7)\" xlink:href=\"#DejaVuSans-49\"/></g></g><g clip-path=\"url(#p9f002c5176)\"><defs><path id=\"DejaVuSans-50\" d=\"m19.188 8.2969h34.422v-8.2969h-46.281v8.2969q5.6094 5.8125 15.297 15.594 9.7031 9.7969 12.188 12.641 4.7344 5.3125 6.6094 9 1.8906 3.6875 1.8906 7.25 0 5.8125-4.0781 9.4688-4.0781 3.6719-10.625 3.6719-4.6406 0-9.7969-1.6094-5.1406-1.6094-11-4.8906v9.9688q5.9531 2.3906 11.125 3.6094 5.1875 1.2188 9.4844 1.2188 11.328 0 18.062-5.6719 6.7344-5.6562 6.7344-15.125 0-4.5-1.6875-8.5312-1.6719-4.0156-6.125-9.4844-1.2188-1.4219-7.7656-8.1875-6.5312-6.7656-18.453-18.922z\"/></defs><g transform=\"translate(57.339 138.91) scale(.1625 -.1625)\"><use xlink:href=\"#DejaVuSans-Oblique-113\"/><use transform=\"translate(63.477 -16.406) scale(.7)\" xlink:href=\"#DejaVuSans-50\"/></g></g><defs><clipPath id=\"p9f002c5176\"><rect x=\"7.2\" y=\"7.2\" width=\"163.62\" height=\"154.53\"/></clipPath></defs></svg>"
      ],
      "text/plain": [
       "<Figure size 216.72x204.68 with 1 Axes>"
      ]
     },
     "execution_count": 8,
     "metadata": {},
     "output_type": "execute_result"
    }
   ],
   "source": [
    "qr = QuantumRegister(3, 'q')\n",
    "qc = QuantumCircuit(qr)\n",
    "\n",
    "qc.ccx(qr[0], qr[1], qr[2])\n",
    "qc.draw(output='mpl')"
   ]
  },
  {
   "cell_type": "markdown",
   "metadata": {},
   "source": [
    "As a three-qubit gate, it should already be clear that this is not in the basis set of our devices.  We have already seen that controlled gates not in the basis set are typically decomposed into multiple CNOT gates.  This is doubly true for controlled gates with more than two qubits, where multiple CNOT gates are needed to implement the entangling across the multiple qubits.  In our basis set, the Toffoli gate can be written as:"
   ]
  },
  {
   "cell_type": "code",
   "execution_count": 9,
   "metadata": {
    "ExecuteTime": {
     "end_time": "2019-07-16T18:40:07.866923Z",
     "start_time": "2019-07-16T18:40:07.598417Z"
    }
   },
   "outputs": [
    {
     "data": {
      "image/svg+xml": [
       "<?xml version=\"1.0\" encoding=\"UTF-8\"?><!DOCTYPE svg  PUBLIC '-//W3C//DTD SVG 1.1//EN'  'http://www.w3.org/Graphics/SVG/1.1/DTD/svg11.dtd'><svg width=\"723.44pt\" height=\"168.93pt\" version=\"1.1\" viewBox=\"0 0 723.44 168.93\" xmlns=\"http://www.w3.org/2000/svg\" xmlns:xlink=\"http://www.w3.org/1999/xlink\"><defs><style type=\"text/css\">*{stroke-linecap:butt;stroke-linejoin:round;}</style></defs><path d=\"m-0 168.93h723.44v-168.93h-723.44z\" fill=\"#ffffff\"/><path d=\"m98.102 43.561h613.59\" clip-path=\"url(#p2a6c7f3b29)\" fill=\"none\" stroke=\"#000000\" stroke-linecap=\"square\" stroke-width=\"2\"/><path d=\"m98.102 89.012h613.59\" clip-path=\"url(#p2a6c7f3b29)\" fill=\"none\" stroke=\"#000000\" stroke-linecap=\"square\" stroke-width=\"2\"/><path d=\"m98.102 134.46h613.59\" clip-path=\"url(#p2a6c7f3b29)\" fill=\"none\" stroke=\"#000000\" stroke-linecap=\"square\" stroke-width=\"2\"/><path d=\"m211.73 134.46v-45.451\" clip-path=\"url(#p2a6c7f3b29)\" fill=\"none\" stroke=\"#6fa4ff\" stroke-linecap=\"square\" stroke-width=\"2\"/><path d=\"m302.63 134.46v-90.902\" clip-path=\"url(#p2a6c7f3b29)\" fill=\"none\" stroke=\"#6fa4ff\" stroke-linecap=\"square\" stroke-width=\"2\"/><path d=\"m393.53 134.46v-45.451\" clip-path=\"url(#p2a6c7f3b29)\" fill=\"none\" stroke=\"#6fa4ff\" stroke-linecap=\"square\" stroke-width=\"2\"/><path d=\"m484.44 134.46v-90.902\" clip-path=\"url(#p2a6c7f3b29)\" fill=\"none\" stroke=\"#6fa4ff\" stroke-linecap=\"square\" stroke-width=\"2\"/><path d=\"m529.89 89.012v-45.451\" clip-path=\"url(#p2a6c7f3b29)\" fill=\"none\" stroke=\"#6fa4ff\" stroke-linecap=\"square\" stroke-width=\"2\"/><path d=\"m666.24 89.012v-45.451\" clip-path=\"url(#p2a6c7f3b29)\" fill=\"none\" stroke=\"#6fa4ff\" stroke-linecap=\"square\" stroke-width=\"2\"/><path d=\"m128.78 149.23h29.543v-29.543h-29.543z\" clip-path=\"url(#p2a6c7f3b29)\" fill=\"#fa74a6\"/><path d=\"m211.73 93.443c1.1752 0 2.3025-0.46693 3.1335-1.2979 0.83102-0.83102 1.2979-1.9583 1.2979-3.1335s-0.46693-2.3025-1.2979-3.1335c-0.83102-0.83102-1.9583-1.2979-3.1335-1.2979s-2.3025 0.46693-3.1335 1.2979c-0.83102 0.83102-1.2979 1.9583-1.2979 3.1335s0.46693 2.3025 1.2979 3.1335c0.83102 0.83102 1.9583 1.2979 3.1335 1.2979z\" clip-path=\"url(#p2a6c7f3b29)\" fill=\"#6fa4ff\" stroke=\"#6fa4ff\" stroke-width=\"1.5\"/><path d=\"m211.73 144.8c2.7422 0 5.3725-1.0895 7.3116-3.0285 1.939-1.939 3.0285-4.5693 3.0285-7.3116s-1.0895-5.3725-3.0285-7.3116c-1.939-1.939-4.5693-3.0285-7.3116-3.0285s-5.3725 1.0895-7.3116 3.0285c-1.939 1.939-3.0285 4.5693-3.0285 7.3116s1.0895 5.3725 3.0285 7.3116c1.939 1.939 4.5693 3.0285 7.3116 3.0285z\" clip-path=\"url(#p2a6c7f3b29)\" fill=\"#6fa4ff\" stroke=\"#6fa4ff\" stroke-width=\"2\"/><path d=\"m242.41 149.23h29.543v-29.543h-29.543z\" clip-path=\"url(#p2a6c7f3b29)\" fill=\"#fa74a6\"/><path d=\"m302.63 47.992c1.1752 0 2.3025-0.46693 3.1335-1.2979 0.83102-0.83102 1.2979-1.9583 1.2979-3.1335s-0.46693-2.3025-1.2979-3.1335c-0.83102-0.83102-1.9583-1.2979-3.1335-1.2979s-2.3025 0.46693-3.1335 1.2979c-0.83102 0.83102-1.2979 1.9583-1.2979 3.1335s0.46693 2.3025 1.2979 3.1335c0.83102 0.83102 1.9583 1.2979 3.1335 1.2979z\" clip-path=\"url(#p2a6c7f3b29)\" fill=\"#6fa4ff\" stroke=\"#6fa4ff\" stroke-width=\"1.5\"/><path d=\"m302.63 144.8c2.7422 0 5.3725-1.0895 7.3116-3.0285 1.939-1.939 3.0285-4.5693 3.0285-7.3116s-1.0895-5.3725-3.0285-7.3116c-1.939-1.939-4.5693-3.0285-7.3116-3.0285s-5.3725 1.0895-7.3116 3.0285c-1.939 1.939-3.0285 4.5693-3.0285 7.3116s1.0895 5.3725 3.0285 7.3116c1.939 1.939 4.5693 3.0285 7.3116 3.0285z\" clip-path=\"url(#p2a6c7f3b29)\" fill=\"#6fa4ff\" stroke=\"#6fa4ff\" stroke-width=\"2\"/><path d=\"m333.31 149.23h29.543v-29.543h-29.543z\" clip-path=\"url(#p2a6c7f3b29)\" fill=\"#fa74a6\"/><path d=\"m393.53 93.443c1.1752 0 2.3025-0.46693 3.1335-1.2979 0.83102-0.83102 1.2979-1.9583 1.2979-3.1335s-0.46693-2.3025-1.2979-3.1335c-0.83102-0.83102-1.9583-1.2979-3.1335-1.2979s-2.3025 0.46693-3.1335 1.2979c-0.83102 0.83102-1.2979 1.9583-1.2979 3.1335s0.46693 2.3025 1.2979 3.1335c0.83102 0.83102 1.9583 1.2979 3.1335 1.2979z\" clip-path=\"url(#p2a6c7f3b29)\" fill=\"#6fa4ff\" stroke=\"#6fa4ff\" stroke-width=\"1.5\"/><path d=\"m393.53 144.8c2.7422 0 5.3725-1.0895 7.3116-3.0285 1.939-1.939 3.0285-4.5693 3.0285-7.3116s-1.0895-5.3725-3.0285-7.3116c-1.939-1.939-4.5693-3.0285-7.3116-3.0285s-5.3725 1.0895-7.3116 3.0285c-1.939 1.939-3.0285 4.5693-3.0285 7.3116s1.0895 5.3725 3.0285 7.3116c1.939 1.939 4.5693 3.0285 7.3116 3.0285z\" clip-path=\"url(#p2a6c7f3b29)\" fill=\"#6fa4ff\" stroke=\"#6fa4ff\" stroke-width=\"2\"/><path d=\"m424.21 103.78h29.543v-29.543h-29.543z\" clip-path=\"url(#p2a6c7f3b29)\" fill=\"#fa74a6\"/><path d=\"m424.21 149.23h29.543v-29.543h-29.543z\" clip-path=\"url(#p2a6c7f3b29)\" fill=\"#fa74a6\"/><path d=\"m484.44 47.992c1.1752 0 2.3025-0.46693 3.1335-1.2979 0.83102-0.83102 1.2979-1.9583 1.2979-3.1335s-0.46693-2.3025-1.2979-3.1335c-0.83102-0.83102-1.9583-1.2979-3.1335-1.2979s-2.3025 0.46693-3.1335 1.2979c-0.83102 0.83102-1.2979 1.9583-1.2979 3.1335s0.46693 2.3025 1.2979 3.1335c0.83102 0.83102 1.9583 1.2979 3.1335 1.2979z\" clip-path=\"url(#p2a6c7f3b29)\" fill=\"#6fa4ff\" stroke=\"#6fa4ff\" stroke-width=\"1.5\"/><path d=\"m484.44 144.8c2.7422 0 5.3725-1.0895 7.3116-3.0285 1.939-1.939 3.0285-4.5693 3.0285-7.3116s-1.0895-5.3725-3.0285-7.3116c-1.939-1.939-4.5693-3.0285-7.3116-3.0285s-5.3725 1.0895-7.3116 3.0285c-1.939 1.939-3.0285 4.5693-3.0285 7.3116s1.0895 5.3725 3.0285 7.3116c1.939 1.939 4.5693 3.0285 7.3116 3.0285z\" clip-path=\"url(#p2a6c7f3b29)\" fill=\"#6fa4ff\" stroke=\"#6fa4ff\" stroke-width=\"2\"/><path d=\"m529.89 47.992c1.1752 0 2.3025-0.46693 3.1335-1.2979 0.83102-0.83102 1.2979-1.9583 1.2979-3.1335s-0.46693-2.3025-1.2979-3.1335c-0.83102-0.83102-1.9583-1.2979-3.1335-1.2979s-2.3025 0.46693-3.1335 1.2979c-0.83102 0.83102-1.2979 1.9583-1.2979 3.1335s0.46693 2.3025 1.2979 3.1335c0.83102 0.83102 1.9583 1.2979 3.1335 1.2979z\" clip-path=\"url(#p2a6c7f3b29)\" fill=\"#6fa4ff\" stroke=\"#6fa4ff\" stroke-width=\"1.5\"/><path d=\"m529.89 99.352c2.7422 0 5.3725-1.0895 7.3116-3.0285 1.939-1.939 3.0285-4.5693 3.0285-7.3116s-1.0895-5.3725-3.0285-7.3116c-1.939-1.939-4.5693-3.0285-7.3116-3.0285s-5.3725 1.0895-7.3116 3.0285c-1.939 1.939-3.0285 4.5693-3.0285 7.3116s1.0895 5.3725 3.0285 7.3116c1.939 1.939 4.5693 3.0285 7.3116 3.0285z\" clip-path=\"url(#p2a6c7f3b29)\" fill=\"#6fa4ff\" stroke=\"#6fa4ff\" stroke-width=\"2\"/><path d=\"m515.11 149.23h29.543v-29.543h-29.543z\" clip-path=\"url(#p2a6c7f3b29)\" fill=\"#fa74a6\"/><path d=\"m583.29 58.332h29.543v-29.543h-29.543z\" clip-path=\"url(#p2a6c7f3b29)\" fill=\"#fa74a6\"/><path d=\"m583.29 103.78h29.543v-29.543h-29.543z\" clip-path=\"url(#p2a6c7f3b29)\" fill=\"#fa74a6\"/><path d=\"m583.29 149.23h29.543v-29.543h-29.543z\" clip-path=\"url(#p2a6c7f3b29)\" fill=\"#fa74a6\"/><path d=\"m666.24 47.992c1.1752 0 2.3025-0.46693 3.1335-1.2979 0.83102-0.83102 1.2979-1.9583 1.2979-3.1335s-0.46693-2.3025-1.2979-3.1335c-0.83102-0.83102-1.9583-1.2979-3.1335-1.2979s-2.3025 0.46693-3.1335 1.2979c-0.83102 0.83102-1.2979 1.9583-1.2979 3.1335s0.46693 2.3025 1.2979 3.1335c0.83102 0.83102 1.9583 1.2979 3.1335 1.2979z\" clip-path=\"url(#p2a6c7f3b29)\" fill=\"#6fa4ff\" stroke=\"#6fa4ff\" stroke-width=\"1.5\"/><path d=\"m666.24 99.352c2.7422 0 5.3725-1.0895 7.3116-3.0285 1.939-1.939 3.0285-4.5693 3.0285-7.3116s-1.0895-5.3725-3.0285-7.3116c-1.939-1.939-4.5693-3.0285-7.3116-3.0285s-5.3725 1.0895-7.3116 3.0285c-1.939 1.939-3.0285 4.5693-3.0285 7.3116s1.0895 5.3725 3.0285 7.3116c1.939 1.939 4.5693 3.0285 7.3116 3.0285z\" clip-path=\"url(#p2a6c7f3b29)\" fill=\"#6fa4ff\" stroke=\"#6fa4ff\" stroke-width=\"2\"/><path d=\"m211.73 140.37v-11.817\" clip-path=\"url(#p2a6c7f3b29)\" fill=\"none\" stroke=\"#ffffff\" stroke-linecap=\"square\" stroke-width=\"2\"/><path d=\"m205.82 134.46h11.817\" clip-path=\"url(#p2a6c7f3b29)\" fill=\"none\" stroke=\"#ffffff\" stroke-linecap=\"square\" stroke-width=\"2\"/><path d=\"m302.63 140.37v-11.817\" clip-path=\"url(#p2a6c7f3b29)\" fill=\"none\" stroke=\"#ffffff\" stroke-linecap=\"square\" stroke-width=\"2\"/><path d=\"m296.72 134.46h11.817\" clip-path=\"url(#p2a6c7f3b29)\" fill=\"none\" stroke=\"#ffffff\" stroke-linecap=\"square\" stroke-width=\"2\"/><path d=\"m393.53 140.37v-11.817\" clip-path=\"url(#p2a6c7f3b29)\" fill=\"none\" stroke=\"#ffffff\" stroke-linecap=\"square\" stroke-width=\"2\"/><path d=\"m387.62 134.46h11.817\" clip-path=\"url(#p2a6c7f3b29)\" fill=\"none\" stroke=\"#ffffff\" stroke-linecap=\"square\" stroke-width=\"2\"/><path d=\"m484.44 140.37v-11.817\" clip-path=\"url(#p2a6c7f3b29)\" fill=\"none\" stroke=\"#ffffff\" stroke-linecap=\"square\" stroke-width=\"2\"/><path d=\"m478.53 134.46h11.817\" clip-path=\"url(#p2a6c7f3b29)\" fill=\"none\" stroke=\"#ffffff\" stroke-linecap=\"square\" stroke-width=\"2\"/><path d=\"m529.89 94.92v-11.817\" clip-path=\"url(#p2a6c7f3b29)\" fill=\"none\" stroke=\"#ffffff\" stroke-linecap=\"square\" stroke-width=\"2\"/><path d=\"m523.98 89.012h11.817\" clip-path=\"url(#p2a6c7f3b29)\" fill=\"none\" stroke=\"#ffffff\" stroke-linecap=\"square\" stroke-width=\"2\"/><path d=\"m666.24 94.92v-11.817\" clip-path=\"url(#p2a6c7f3b29)\" fill=\"none\" stroke=\"#ffffff\" stroke-linecap=\"square\" stroke-width=\"2\"/><path d=\"m660.33 89.012h11.817\" clip-path=\"url(#p2a6c7f3b29)\" fill=\"none\" stroke=\"#ffffff\" stroke-linecap=\"square\" stroke-width=\"2\"/><g clip-path=\"url(#p2a6c7f3b29)\"><defs><path id=\"DejaVuSans-Oblique-85\" d=\"m15.484 72.906h9.9062l-8.5938-44.297q-0.53125-2.9688-0.75-4.9062-0.21875-1.9219-0.21875-3.3906 0-6.7344 3.75-10.234 3.7656-3.4844 11.031-3.4844 9.4375 0 14.672 5.1719 5.25 5.1719 7.5 16.844l8.5938 44.297h9.9219l-8.7969-45.516q-2.875-14.75-10.938-21.781t-22.062-7.0312q-10.938 0-17.312 5.5t-6.375 14.922q0 1.7031 0.23438 3.8281 0.25 2.125 0.73438 4.5625z\"/><path id=\"DejaVuSans-50\" d=\"m19.188 8.2969h34.422v-8.2969h-46.281v8.2969q5.6094 5.8125 15.297 15.594 9.7031 9.7969 12.188 12.641 4.7344 5.3125 6.6094 9 1.8906 3.6875 1.8906 7.25 0 5.8125-4.0781 9.4688-4.0781 3.6719-10.625 3.6719-4.6406 0-9.7969-1.6094-5.1406-1.6094-11-4.8906v9.9688q5.9531 2.3906 11.125 3.6094 5.1875 1.2188 9.4844 1.2188 11.328 0 18.062-5.6719 6.7344-5.6562 6.7344-15.125 0-4.5-1.6875-8.5312-1.6719-4.0156-6.125-9.4844-1.2188-1.4219-7.7656-8.1875-6.5312-6.7656-18.453-18.922z\"/></defs><g transform=\"translate(135.69 133.62) scale(.13 -.13)\"><use transform=\"translate(0 .09375)\" xlink:href=\"#DejaVuSans-Oblique-85\"/><use transform=\"translate(73.193 -16.312) scale(.7)\" xlink:href=\"#DejaVuSans-50\"/></g></g><g clip-path=\"url(#p2a6c7f3b29)\"><defs><path id=\"DejaVuSans-48\" d=\"m31.781 66.406q-7.6094 0-11.453-7.5-3.8281-7.4844-3.8281-22.531 0-14.984 3.8281-22.484 3.8438-7.5 11.453-7.5 7.6719 0 11.5 7.5 3.8438 7.5 3.8438 22.484 0 15.047-3.8438 22.531-3.8281 7.5-11.5 7.5zm0 7.8125q12.266 0 18.734-9.7031 6.4688-9.6875 6.4688-28.141 0-18.406-6.4688-28.109-6.4688-9.6875-18.734-9.6875-12.25 0-18.719 9.6875-6.4688 9.7031-6.4688 28.109 0 18.453 6.4688 28.141 6.4688 9.7031 18.719 9.7031z\"/><path id=\"DejaVuSans-44\" d=\"m11.719 12.406h10.297v-8.4062l-8-15.625h-6.2969l4 15.625z\"/><path id=\"DejaVuSans-Oblique-960\" d=\"m9.125 54.688h52.406l-1.7656-8.9844h-6.8906l-6.5312-33.594q-0.6875-3.5156 0.23438-5.0781 0.89062-1.5156 3.5625-1.5156 0.73438 0 1.8125 0.15625 1.125 0.09375 1.4688 0.14062l-1.2656-6.5q-1.8125-0.625-3.6719-0.92188-1.9062-0.29688-3.7031-0.29688-5.8594 0-7.4688 3.1719-1.625 3.2344 0.046875 11.828l6.3438 32.609h-20.172l-8.875-45.703h-9.1875l8.8906 45.703h-6.9844z\"/></defs><g transform=\"translate(136.03 145.53) scale(.08 -.08)\"><use transform=\"translate(0 .78125)\" xlink:href=\"#DejaVuSans-48\"/><use transform=\"translate(63.623 .78125)\" xlink:href=\"#DejaVuSans-44\"/><use transform=\"translate(95.41 .78125)\" xlink:href=\"#DejaVuSans-32\"/><use transform=\"translate(127.2 .78125)\" xlink:href=\"#DejaVuSans-Oblique-960\"/></g></g><g clip-path=\"url(#p2a6c7f3b29)\"><defs><path id=\"DejaVuSans-49\" d=\"m12.406 8.2969h16.109v55.625l-17.531-3.5156v8.9844l17.438 3.5156h9.8594v-64.609h16.109v-8.2969h-41.984z\"/></defs><g transform=\"translate(249.32 133.62) scale(.13 -.13)\"><use transform=\"translate(0 .09375)\" xlink:href=\"#DejaVuSans-Oblique-85\"/><use transform=\"translate(73.193 -16.312) scale(.7)\" xlink:href=\"#DejaVuSans-49\"/></g></g><g clip-path=\"url(#p2a6c7f3b29)\"><defs><path id=\"DejaVuSans-8722\" d=\"m10.594 35.5h62.594v-8.2969h-62.594z\"/><path id=\"DejaVuSans-47\" d=\"m25.391 72.906h8.2969l-25.391-82.188h-8.2969z\"/><path id=\"DejaVuSans-52\" d=\"m37.797 64.312-24.906-38.922h24.906zm-2.5938 8.5938h12.406v-47.516h10.406v-8.2031h-10.406v-17.188h-9.8125v17.188h-32.906v9.5156z\"/></defs><g transform=\"translate(247.5 145.53) scale(.08 -.08)\"><use transform=\"translate(0 .09375)\" xlink:href=\"#DejaVuSans-8722\"/><use transform=\"translate(83.789 .09375)\" xlink:href=\"#DejaVuSans-Oblique-960\"/><use transform=\"translate(143.99 .09375)\" xlink:href=\"#DejaVuSans-47\"/><use transform=\"translate(177.69 .09375)\" xlink:href=\"#DejaVuSans-52\"/></g></g><g clip-path=\"url(#p2a6c7f3b29)\"><g transform=\"translate(340.22 133.62) scale(.13 -.13)\"><use transform=\"translate(0 .09375)\" xlink:href=\"#DejaVuSans-Oblique-85\"/><use transform=\"translate(73.193 -16.312) scale(.7)\" xlink:href=\"#DejaVuSans-49\"/></g></g><g clip-path=\"url(#p2a6c7f3b29)\"><g transform=\"translate(341.76 145.53) scale(.08 -.08)\"><use transform=\"translate(0 .09375)\" xlink:href=\"#DejaVuSans-Oblique-960\"/><use transform=\"translate(60.205 .09375)\" xlink:href=\"#DejaVuSans-47\"/><use transform=\"translate(93.896 .09375)\" xlink:href=\"#DejaVuSans-52\"/></g></g><g clip-path=\"url(#p2a6c7f3b29)\"><g transform=\"translate(431.12 88.168) scale(.13 -.13)\"><use transform=\"translate(0 .09375)\" xlink:href=\"#DejaVuSans-Oblique-85\"/><use transform=\"translate(73.193 -16.312) scale(.7)\" xlink:href=\"#DejaVuSans-49\"/></g></g><g clip-path=\"url(#p2a6c7f3b29)\"><g transform=\"translate(432.66 100.08) scale(.08 -.08)\"><use transform=\"translate(0 .09375)\" xlink:href=\"#DejaVuSans-Oblique-960\"/><use transform=\"translate(60.205 .09375)\" xlink:href=\"#DejaVuSans-47\"/><use transform=\"translate(93.896 .09375)\" xlink:href=\"#DejaVuSans-52\"/></g></g><g clip-path=\"url(#p2a6c7f3b29)\"><g transform=\"translate(431.12 133.62) scale(.13 -.13)\"><use transform=\"translate(0 .09375)\" xlink:href=\"#DejaVuSans-Oblique-85\"/><use transform=\"translate(73.193 -16.312) scale(.7)\" xlink:href=\"#DejaVuSans-49\"/></g></g><g clip-path=\"url(#p2a6c7f3b29)\"><g transform=\"translate(429.3 145.53) scale(.08 -.08)\"><use transform=\"translate(0 .09375)\" xlink:href=\"#DejaVuSans-8722\"/><use transform=\"translate(83.789 .09375)\" xlink:href=\"#DejaVuSans-Oblique-960\"/><use transform=\"translate(143.99 .09375)\" xlink:href=\"#DejaVuSans-47\"/><use transform=\"translate(177.69 .09375)\" xlink:href=\"#DejaVuSans-52\"/></g></g><g clip-path=\"url(#p2a6c7f3b29)\"><g transform=\"translate(522.02 133.62) scale(.13 -.13)\"><use transform=\"translate(0 .09375)\" xlink:href=\"#DejaVuSans-Oblique-85\"/><use transform=\"translate(73.193 -16.312) scale(.7)\" xlink:href=\"#DejaVuSans-49\"/></g></g><g clip-path=\"url(#p2a6c7f3b29)\"><g transform=\"translate(523.57 145.53) scale(.08 -.08)\"><use transform=\"translate(0 .09375)\" xlink:href=\"#DejaVuSans-Oblique-960\"/><use transform=\"translate(60.205 .09375)\" xlink:href=\"#DejaVuSans-47\"/><use transform=\"translate(93.896 .09375)\" xlink:href=\"#DejaVuSans-52\"/></g></g><g clip-path=\"url(#p2a6c7f3b29)\"><g transform=\"translate(590.2 42.717) scale(.13 -.13)\"><use transform=\"translate(0 .09375)\" xlink:href=\"#DejaVuSans-Oblique-85\"/><use transform=\"translate(73.193 -16.312) scale(.7)\" xlink:href=\"#DejaVuSans-49\"/></g></g><g clip-path=\"url(#p2a6c7f3b29)\"><g transform=\"translate(591.74 54.631) scale(.08 -.08)\"><use transform=\"translate(0 .09375)\" xlink:href=\"#DejaVuSans-Oblique-960\"/><use transform=\"translate(60.205 .09375)\" xlink:href=\"#DejaVuSans-47\"/><use transform=\"translate(93.896 .09375)\" xlink:href=\"#DejaVuSans-52\"/></g></g><g clip-path=\"url(#p2a6c7f3b29)\"><g transform=\"translate(590.2 88.168) scale(.13 -.13)\"><use transform=\"translate(0 .09375)\" xlink:href=\"#DejaVuSans-Oblique-85\"/><use transform=\"translate(73.193 -16.312) scale(.7)\" xlink:href=\"#DejaVuSans-49\"/></g></g><g clip-path=\"url(#p2a6c7f3b29)\"><g transform=\"translate(588.38 100.08) scale(.08 -.08)\"><use transform=\"translate(0 .09375)\" xlink:href=\"#DejaVuSans-8722\"/><use transform=\"translate(83.789 .09375)\" xlink:href=\"#DejaVuSans-Oblique-960\"/><use transform=\"translate(143.99 .09375)\" xlink:href=\"#DejaVuSans-47\"/><use transform=\"translate(177.69 .09375)\" xlink:href=\"#DejaVuSans-52\"/></g></g><g clip-path=\"url(#p2a6c7f3b29)\"><g transform=\"translate(590.2 133.62) scale(.13 -.13)\"><use transform=\"translate(0 .09375)\" xlink:href=\"#DejaVuSans-Oblique-85\"/><use transform=\"translate(73.193 -16.312) scale(.7)\" xlink:href=\"#DejaVuSans-50\"/></g></g><g clip-path=\"url(#p2a6c7f3b29)\"><g transform=\"translate(590.54 145.53) scale(.08 -.08)\"><use transform=\"translate(0 .78125)\" xlink:href=\"#DejaVuSans-48\"/><use transform=\"translate(63.623 .78125)\" xlink:href=\"#DejaVuSans-44\"/><use transform=\"translate(95.41 .78125)\" xlink:href=\"#DejaVuSans-32\"/><use transform=\"translate(127.2 .78125)\" xlink:href=\"#DejaVuSans-Oblique-960\"/></g></g><g clip-path=\"url(#p2a6c7f3b29)\"><defs><path id=\"DejaVuSans-Oblique-113\" d=\"m41.703 8.2031q-3.6094-4.7344-8.5312-7.1875-4.9062-2.4375-10.859-2.4375-8.2969 0-13.016 5.5938-4.7031 5.5938-4.7031 15.406 0 7.9062 2.9062 15.281t8.3281 13.234q3.5156 3.8125 8.0781 5.8594t9.5938 2.0469q6.0469 0 9.9531-2.3906t5.6719-7.2188l1.5625 8.2031h9.0312l-14.594-75.203h-9.0469zm-27.781 12.703q0-7.2344 3.0156-11.016 3.0312-3.7812 8.75-3.7812 8.5 0 14.5 8.125t6 19.75q0 7.0312-3.1094 10.766-3.0938 3.7344-8.8906 3.7344-4.25 0-7.875-1.9844-3.6094-1.9688-6.2969-5.7812-2.8281-4-4.4688-9.375-1.625-5.3594-1.625-10.438z\"/></defs><g transform=\"translate(57.339 48.012) scale(.1625 -.1625)\"><use xlink:href=\"#DejaVuSans-Oblique-113\"/><use transform=\"translate(63.477 -16.406) scale(.7)\" xlink:href=\"#DejaVuSans-48\"/></g></g><g clip-path=\"url(#p2a6c7f3b29)\"><g transform=\"translate(57.339 93.463) scale(.1625 -.1625)\"><use xlink:href=\"#DejaVuSans-Oblique-113\"/><use transform=\"translate(63.477 -16.406) scale(.7)\" xlink:href=\"#DejaVuSans-49\"/></g></g><g clip-path=\"url(#p2a6c7f3b29)\"><g transform=\"translate(57.339 138.91) scale(.1625 -.1625)\"><use xlink:href=\"#DejaVuSans-Oblique-113\"/><use transform=\"translate(63.477 -16.406) scale(.7)\" xlink:href=\"#DejaVuSans-50\"/></g></g><defs><clipPath id=\"p2a6c7f3b29\"><rect x=\"7.2\" y=\"7.2\" width=\"709.04\" height=\"154.53\"/></clipPath></defs></svg>"
      ],
      "text/plain": [
       "<Figure size 939.12x204.68 with 1 Axes>"
      ]
     },
     "execution_count": 9,
     "metadata": {},
     "output_type": "execute_result"
    }
   ],
   "source": [
    "qr = QuantumRegister(3, 'q')\n",
    "qc_basis = QuantumCircuit(qr)\n",
    "\n",
    "qc_basis.u2(0,np.pi, qr[2])\n",
    "qc_basis.cx(qr[1], qr[2])\n",
    "qc_basis.u1(-np.pi/4, qr[2])\n",
    "qc_basis.cx(qr[0], qr[2])\n",
    "qc_basis.u1(np.pi/4, qr[2])\n",
    "qc_basis.cx(qr[1], qr[2])\n",
    "qc_basis.u1(np.pi/4, qr[1])\n",
    "qc_basis.u1(-np.pi/4, qr[2])\n",
    "qc_basis.cx(qr[0], qr[2])\n",
    "qc_basis.cx(qr[0], qr[1])\n",
    "qc_basis.u1(np.pi/4, qr[2])\n",
    "qc_basis.u1(np.pi/4, qr[0])\n",
    "qc_basis.u1(-np.pi/4, qr[1])\n",
    "qc_basis.u2(0,np.pi, qr[2])\n",
    "qc_basis.cx(qr[0], qr[1])\n",
    "qc_basis.draw(output='mpl')"
   ]
  },
  {
   "cell_type": "markdown",
   "metadata": {},
   "source": [
    "Therefore, for every Toffoli gate in a quantum circuit, the IBM Q hardware must execute six CNOT gates, and a handful of single-qubit gates.  From this example, it should be clear that any algorithm that makes use of multiple Toffoli gates will end up as a circuit with large depth and with therefore be appreciably affected by noise and gate errors."
   ]
  },
  {
   "cell_type": "markdown",
   "metadata": {},
   "source": [
    "### Initial Layout"
   ]
  },
  {
   "cell_type": "code",
   "execution_count": 10,
   "metadata": {
    "ExecuteTime": {
     "end_time": "2019-07-16T19:29:22.653101Z",
     "start_time": "2019-07-16T19:29:22.362485Z"
    }
   },
   "outputs": [
    {
     "data": {
      "image/svg+xml": [
       "<?xml version=\"1.0\" encoding=\"UTF-8\"?><!DOCTYPE svg  PUBLIC '-//W3C//DTD SVG 1.1//EN'  'http://www.w3.org/Graphics/SVG/1.1/DTD/svg11.dtd'><svg width=\"359.83pt\" height=\"305.29pt\" version=\"1.1\" viewBox=\"0 0 359.83 305.29\" xmlns=\"http://www.w3.org/2000/svg\" xmlns:xlink=\"http://www.w3.org/1999/xlink\"><defs><style type=\"text/css\">*{stroke-linecap:butt;stroke-linejoin:round;}</style></defs><path d=\"m0 305.29h359.83v-305.29h-359.83z\" fill=\"#ffffff\"/><path d=\"m98.102 43.561h249.98\" clip-path=\"url(#pa5493b57ba)\" fill=\"none\" stroke=\"#000000\" stroke-linecap=\"square\" stroke-width=\"2\"/><path d=\"m98.102 89.012h249.98\" clip-path=\"url(#pa5493b57ba)\" fill=\"none\" stroke=\"#000000\" stroke-linecap=\"square\" stroke-width=\"2\"/><path d=\"m98.102 134.46h249.98\" clip-path=\"url(#pa5493b57ba)\" fill=\"none\" stroke=\"#000000\" stroke-linecap=\"square\" stroke-width=\"2\"/><path d=\"m98.102 179.91h249.98\" clip-path=\"url(#pa5493b57ba)\" fill=\"none\" stroke=\"#000000\" stroke-linecap=\"square\" stroke-width=\"2\"/><path d=\"m98.102 225.36h249.98\" clip-path=\"url(#pa5493b57ba)\" fill=\"none\" stroke=\"#000000\" stroke-linecap=\"square\" stroke-width=\"2\"/><path d=\"m98.102 269.34h249.98\" clip-path=\"url(#pa5493b57ba)\" fill=\"none\" stroke=\"#778899\" stroke-linecap=\"square\" stroke-width=\"2\"/><path d=\"m98.102 272.29h249.98\" clip-path=\"url(#pa5493b57ba)\" fill=\"none\" stroke=\"#778899\" stroke-linecap=\"square\" stroke-width=\"2\"/><path d=\"m166.28 225.36v-181.8\" clip-path=\"url(#pa5493b57ba)\" fill=\"none\" stroke=\"#6fa4ff\" stroke-linecap=\"square\" stroke-width=\"2\"/><path d=\"m211.73 225.36v-45.451\" clip-path=\"url(#pa5493b57ba)\" fill=\"none\" stroke=\"#6fa4ff\" stroke-linecap=\"square\" stroke-width=\"2\"/><path d=\"m257.18 179.91v-90.902\" clip-path=\"url(#pa5493b57ba)\" fill=\"none\" stroke=\"#6fa4ff\" stroke-linecap=\"square\" stroke-width=\"2\"/><path d=\"m302.63 134.46v-45.451\" clip-path=\"url(#pa5493b57ba)\" fill=\"none\" stroke=\"#6fa4ff\" stroke-linecap=\"square\" stroke-width=\"2\"/><path d=\"m125.37 275.36 4.5451-9.0902\" clip-path=\"url(#pa5493b57ba)\" fill=\"none\" stroke=\"#778899\" stroke-linecap=\"square\" stroke-width=\"1.5\"/><path d=\"m106.06 58.332h29.543v-29.543h-29.543z\" clip-path=\"url(#pa5493b57ba)\" fill=\"#6fa4ff\"/><path d=\"m166.28 47.992c1.1752 0 2.3025-0.46693 3.1335-1.2979 0.83102-0.83102 1.2979-1.9583 1.2979-3.1335s-0.46693-2.3025-1.2979-3.1335c-0.83102-0.83102-1.9583-1.2979-3.1335-1.2979s-2.3025 0.46693-3.1335 1.2979c-0.83102 0.83102-1.2979 1.9583-1.2979 3.1335s0.46693 2.3025 1.2979 3.1335c0.83102 0.83102 1.9583 1.2979 3.1335 1.2979z\" clip-path=\"url(#pa5493b57ba)\" fill=\"#6fa4ff\" stroke=\"#6fa4ff\" stroke-width=\"1.5\"/><path d=\"m166.28 235.7c2.7422 0 5.3725-1.0895 7.3116-3.0285 1.939-1.939 3.0285-4.5693 3.0285-7.3116s-1.0895-5.3725-3.0285-7.3116c-1.939-1.939-4.5693-3.0285-7.3116-3.0285s-5.3725 1.0895-7.3116 3.0285c-1.939 1.939-3.0285 4.5693-3.0285 7.3116s1.0895 5.3725 3.0285 7.3116c1.939 1.939 4.5693 3.0285 7.3116 3.0285z\" clip-path=\"url(#pa5493b57ba)\" fill=\"#6fa4ff\" stroke=\"#6fa4ff\" stroke-width=\"2\"/><path d=\"m211.73 229.8c1.1752 0 2.3025-0.46693 3.1335-1.2979 0.83102-0.83102 1.2979-1.9583 1.2979-3.1335s-0.46693-2.3025-1.2979-3.1335c-0.83102-0.83102-1.9583-1.2979-3.1335-1.2979s-2.3025 0.46693-3.1335 1.2979c-0.83102 0.83102-1.2979 1.9583-1.2979 3.1335s0.46693 2.3025 1.2979 3.1335c0.83102 0.83102 1.9583 1.2979 3.1335 1.2979z\" clip-path=\"url(#pa5493b57ba)\" fill=\"#6fa4ff\" stroke=\"#6fa4ff\" stroke-width=\"1.5\"/><path d=\"m211.73 190.25c2.7422 0 5.3725-1.0895 7.3116-3.0285 1.939-1.939 3.0285-4.5693 3.0285-7.3116s-1.0895-5.3725-3.0285-7.3116c-1.939-1.939-4.5693-3.0285-7.3116-3.0285s-5.3725 1.0895-7.3116 3.0285c-1.939 1.939-3.0285 4.5693-3.0285 7.3116s1.0895 5.3725 3.0285 7.3116c1.939 1.939 4.5693 3.0285 7.3116 3.0285z\" clip-path=\"url(#pa5493b57ba)\" fill=\"#6fa4ff\" stroke=\"#6fa4ff\" stroke-width=\"2\"/><path d=\"m257.18 184.35c1.1752 0 2.3025-0.46693 3.1335-1.2979 0.83102-0.83102 1.2979-1.9583 1.2979-3.1335s-0.46693-2.3025-1.2979-3.1335c-0.83102-0.83102-1.9583-1.2979-3.1335-1.2979s-2.3025 0.46693-3.1335 1.2979c-0.83102 0.83102-1.2979 1.9583-1.2979 3.1335s0.46693 2.3025 1.2979 3.1335c0.83102 0.83102 1.9583 1.2979 3.1335 1.2979z\" clip-path=\"url(#pa5493b57ba)\" fill=\"#6fa4ff\" stroke=\"#6fa4ff\" stroke-width=\"1.5\"/><path d=\"m257.18 99.352c2.7422 0 5.3725-1.0895 7.3116-3.0285 1.939-1.939 3.0285-4.5693 3.0285-7.3116s-1.0895-5.3725-3.0285-7.3116c-1.939-1.939-4.5693-3.0285-7.3116-3.0285s-5.3725 1.0895-7.3116 3.0285c-1.939 1.939-3.0285 4.5693-3.0285 7.3116s1.0895 5.3725 3.0285 7.3116c1.939 1.939 4.5693 3.0285 7.3116 3.0285z\" clip-path=\"url(#pa5493b57ba)\" fill=\"#6fa4ff\" stroke=\"#6fa4ff\" stroke-width=\"2\"/><path d=\"m302.63 93.443c1.1752 0 2.3025-0.46693 3.1335-1.2979 0.83102-0.83102 1.2979-1.9583 1.2979-3.1335s-0.46693-2.3025-1.2979-3.1335c-0.83102-0.83102-1.9583-1.2979-3.1335-1.2979s-2.3025 0.46693-3.1335 1.2979c-0.83102 0.83102-1.2979 1.9583-1.2979 3.1335s0.46693 2.3025 1.2979 3.1335c0.83102 0.83102 1.9583 1.2979 3.1335 1.2979z\" clip-path=\"url(#pa5493b57ba)\" fill=\"#6fa4ff\" stroke=\"#6fa4ff\" stroke-width=\"1.5\"/><path d=\"m302.63 144.8c2.7422 0 5.3725-1.0895 7.3116-3.0285 1.939-1.939 3.0285-4.5693 3.0285-7.3116s-1.0895-5.3725-3.0285-7.3116c-1.939-1.939-4.5693-3.0285-7.3116-3.0285s-5.3725 1.0895-7.3116 3.0285c-1.939 1.939-3.0285 4.5693-3.0285 7.3116s1.0895 5.3725 3.0285 7.3116c1.939 1.939 4.5693 3.0285 7.3116 3.0285z\" clip-path=\"url(#pa5493b57ba)\" fill=\"#6fa4ff\" stroke=\"#6fa4ff\" stroke-width=\"2\"/><path d=\"m166.28 231.27v-11.817\" clip-path=\"url(#pa5493b57ba)\" fill=\"none\" stroke=\"#ffffff\" stroke-linecap=\"square\" stroke-width=\"2\"/><path d=\"m160.37 225.36h11.817\" clip-path=\"url(#pa5493b57ba)\" fill=\"none\" stroke=\"#ffffff\" stroke-linecap=\"square\" stroke-width=\"2\"/><path d=\"m211.73 185.82v-11.817\" clip-path=\"url(#pa5493b57ba)\" fill=\"none\" stroke=\"#ffffff\" stroke-linecap=\"square\" stroke-width=\"2\"/><path d=\"m205.82 179.91h11.817\" clip-path=\"url(#pa5493b57ba)\" fill=\"none\" stroke=\"#ffffff\" stroke-linecap=\"square\" stroke-width=\"2\"/><path d=\"m257.18 94.92v-11.817\" clip-path=\"url(#pa5493b57ba)\" fill=\"none\" stroke=\"#ffffff\" stroke-linecap=\"square\" stroke-width=\"2\"/><path d=\"m251.27 89.012h11.817\" clip-path=\"url(#pa5493b57ba)\" fill=\"none\" stroke=\"#ffffff\" stroke-linecap=\"square\" stroke-width=\"2\"/><path d=\"m302.63 140.37v-11.817\" clip-path=\"url(#pa5493b57ba)\" fill=\"none\" stroke=\"#ffffff\" stroke-linecap=\"square\" stroke-width=\"2\"/><path d=\"m296.72 134.46h11.817\" clip-path=\"url(#pa5493b57ba)\" fill=\"none\" stroke=\"#ffffff\" stroke-linecap=\"square\" stroke-width=\"2\"/><g clip-path=\"url(#pa5493b57ba)\"><defs><path id=\"DejaVuSans-Oblique-72\" d=\"m16.891 72.906h9.9219l-5.8125-29.891h35.781l5.8125 29.891h9.9219l-14.219-72.906h-9.9062l6.7812 34.719h-35.781l-6.7969-34.719h-9.9062z\"/></defs><g transform=\"translate(115.89 47.148) scale(.13 -.13)\"><use transform=\"translate(0 .09375)\" xlink:href=\"#DejaVuSans-Oblique-72\"/></g></g><g clip-path=\"url(#pa5493b57ba)\"><defs><path id=\"DejaVuSans-Oblique-113\" d=\"m41.703 8.2031q-3.6094-4.7344-8.5312-7.1875-4.9062-2.4375-10.859-2.4375-8.2969 0-13.016 5.5938-4.7031 5.5938-4.7031 15.406 0 7.9062 2.9062 15.281t8.3281 13.234q3.5156 3.8125 8.0781 5.8594t9.5938 2.0469q6.0469 0 9.9531-2.3906t5.6719-7.2188l1.5625 8.2031h9.0312l-14.594-75.203h-9.0469zm-27.781 12.703q0-7.2344 3.0156-11.016 3.0312-3.7812 8.75-3.7812 8.5 0 14.5 8.125t6 19.75q0 7.0312-3.1094 10.766-3.0938 3.7344-8.8906 3.7344-4.25 0-7.875-1.9844-3.6094-1.9688-6.2969-5.7812-2.8281-4-4.4688-9.375-1.625-5.3594-1.625-10.438z\"/><path id=\"DejaVuSans-48\" d=\"m31.781 66.406q-7.6094 0-11.453-7.5-3.8281-7.4844-3.8281-22.531 0-14.984 3.8281-22.484 3.8438-7.5 11.453-7.5 7.6719 0 11.5 7.5 3.8438 7.5 3.8438 22.484 0 15.047-3.8438 22.531-3.8281 7.5-11.5 7.5zm0 7.8125q12.266 0 18.734-9.7031 6.4688-9.6875 6.4688-28.141 0-18.406-6.4688-28.109-6.4688-9.6875-18.734-9.6875-12.25 0-18.719 9.6875-6.4688 9.7031-6.4688 28.109 0 18.453 6.4688 28.141 6.4688 9.7031 18.719 9.7031z\"/></defs><g transform=\"translate(57.339 48.012) scale(.1625 -.1625)\"><use xlink:href=\"#DejaVuSans-Oblique-113\"/><use transform=\"translate(63.477 -16.406) scale(.7)\" xlink:href=\"#DejaVuSans-48\"/></g></g><g clip-path=\"url(#pa5493b57ba)\"><defs><path id=\"DejaVuSans-49\" d=\"m12.406 8.2969h16.109v55.625l-17.531-3.5156v8.9844l17.438 3.5156h9.8594v-64.609h16.109v-8.2969h-41.984z\"/></defs><g transform=\"translate(57.339 93.463) scale(.1625 -.1625)\"><use xlink:href=\"#DejaVuSans-Oblique-113\"/><use transform=\"translate(63.477 -16.406) scale(.7)\" xlink:href=\"#DejaVuSans-49\"/></g></g><g clip-path=\"url(#pa5493b57ba)\"><defs><path id=\"DejaVuSans-50\" d=\"m19.188 8.2969h34.422v-8.2969h-46.281v8.2969q5.6094 5.8125 15.297 15.594 9.7031 9.7969 12.188 12.641 4.7344 5.3125 6.6094 9 1.8906 3.6875 1.8906 7.25 0 5.8125-4.0781 9.4688-4.0781 3.6719-10.625 3.6719-4.6406 0-9.7969-1.6094-5.1406-1.6094-11-4.8906v9.9688q5.9531 2.3906 11.125 3.6094 5.1875 1.2188 9.4844 1.2188 11.328 0 18.062-5.6719 6.7344-5.6562 6.7344-15.125 0-4.5-1.6875-8.5312-1.6719-4.0156-6.125-9.4844-1.2188-1.4219-7.7656-8.1875-6.5312-6.7656-18.453-18.922z\"/></defs><g transform=\"translate(57.339 138.91) scale(.1625 -.1625)\"><use xlink:href=\"#DejaVuSans-Oblique-113\"/><use transform=\"translate(63.477 -16.406) scale(.7)\" xlink:href=\"#DejaVuSans-50\"/></g></g><g clip-path=\"url(#pa5493b57ba)\"><defs><path id=\"DejaVuSans-51\" d=\"m40.578 39.312q7.0781-1.5156 11.047-6.3125 3.9844-4.7812 3.9844-11.812 0-10.781-7.4219-16.703-7.4219-5.9062-21.094-5.9062-4.5781 0-9.4375 0.90625t-10.031 2.7188v9.5156q4.0938-2.3906 8.9688-3.6094 4.8906-1.2188 10.219-1.2188 9.2656 0 14.125 3.6562t4.8594 10.641q0 6.4531-4.5156 10.078-4.5156 3.6406-12.562 3.6406h-8.5v8.1094h8.8906q7.2656 0 11.125 2.9062t3.8594 8.375q0 5.6094-3.9844 8.6094-3.9688 3.0156-11.391 3.0156-4.0625 0-8.7031-0.89062-4.6406-0.875-10.203-2.7188v8.7812q5.625 1.5625 10.531 2.3438t9.25 0.78125q11.234 0 17.766-5.1094 6.5469-5.0938 6.5469-13.781 0-6.0625-3.4688-10.234t-9.8594-5.7812z\"/></defs><g transform=\"translate(57.339 184.36) scale(.1625 -.1625)\"><use xlink:href=\"#DejaVuSans-Oblique-113\"/><use transform=\"translate(63.477 -16.406) scale(.7)\" xlink:href=\"#DejaVuSans-51\"/></g></g><g clip-path=\"url(#pa5493b57ba)\"><defs><path id=\"DejaVuSans-52\" d=\"m37.797 64.312-24.906-38.922h24.906zm-2.5938 8.5938h12.406v-47.516h10.406v-8.2031h-10.406v-17.188h-9.8125v17.188h-32.906v9.5156z\"/></defs><g transform=\"translate(57.339 229.82) scale(.1625 -.1625)\"><use xlink:href=\"#DejaVuSans-Oblique-113\"/><use transform=\"translate(63.477 -16.406) scale(.7)\" xlink:href=\"#DejaVuSans-52\"/></g></g><g clip-path=\"url(#pa5493b57ba)\"><defs><path id=\"DejaVuSans-53\" d=\"m10.797 72.906h38.719v-8.3125h-29.688v-17.859q2.1406 0.73438 4.2812 1.0938 2.1562 0.35938 4.3125 0.35938 12.203 0 19.328-6.6875 7.1406-6.6875 7.1406-18.109 0-11.766-7.3281-18.297-7.3281-6.5156-20.656-6.5156-4.5938 0-9.3594 0.78125-4.75 0.78125-9.8281 2.3438v9.9219q4.3906-2.3906 9.0781-3.5625t9.9062-1.1719q8.4531 0 13.375 4.4375 4.9375 4.4375 4.9375 12.062 0 7.6094-4.9375 12.047-4.9219 4.4531-13.375 4.4531-3.9531 0-7.8906-0.875-3.9219-0.875-8.0156-2.7344z\"/></defs><g transform=\"translate(120.83 264.11) scale(.104 -.104)\"><use xlink:href=\"#DejaVuSans-53\"/></g></g><g clip-path=\"url(#pa5493b57ba)\"><defs><path id=\"DejaVuSans-Oblique-99\" d=\"m53.609 52.594-1.7969-8.8906q-3.2344 2.3438-6.875 3.5156-3.625 1.1719-7.5312 1.1719-4.2969 0-8.1875-1.5156-3.875-1.5156-6.5156-4.2969-4.2031-4.25-6.5-9.9688-2.2812-5.7031-2.2812-11.812 0-7.375 3.6875-10.984t11.203-3.6094q3.7031 0 7.875 1.125 4.1875 1.125 8.7188 3.3594l-1.7031-8.875q-3.9062-1.6094-8.0312-2.4219t-8.4688-0.8125q-10.891 0-16.75 5.4375-5.8594 5.4531-5.8594 15.562 0 8.5 3.0469 15.656t9.0625 12.859q4.0938 3.9062 9.6094 5.9062 5.5312 2 12.062 2 3.8125 0 7.5625-0.85938 3.7656-0.84375 7.6719-2.5469z\"/></defs><g transform=\"translate(64.652 276.2) scale(.195 -.195)\"><use xlink:href=\"#DejaVuSans-Oblique-99\"/></g></g><defs><clipPath id=\"pa5493b57ba\"><rect x=\"7.2\" y=\"7.2\" width=\"345.43\" height=\"290.89\"/></clipPath></defs></svg>"
      ],
      "text/plain": [
       "<Figure size 457.52x385.28 with 1 Axes>"
      ]
     },
     "execution_count": 10,
     "metadata": {},
     "output_type": "execute_result"
    }
   ],
   "source": [
    "qr = QuantumRegister(5, 'q')\n",
    "cr = ClassicalRegister(5, 'c')\n",
    "qc = QuantumCircuit(qr, cr)\n",
    "\n",
    "qc.h(qr[0])\n",
    "qc.cx(qr[0], qr[4])\n",
    "qc.cx(qr[4], qr[3])\n",
    "qc.cx(qr[3], qr[1])\n",
    "qc.cx(qr[1], qr[2])\n",
    "\n",
    "qc.draw(output='mpl')"
   ]
  },
  {
   "cell_type": "code",
   "execution_count": 11,
   "metadata": {
    "ExecuteTime": {
     "end_time": "2019-07-16T16:31:21.089108Z",
     "start_time": "2019-07-16T16:31:21.013574Z"
    },
    "scrolled": false
   },
   "outputs": [
    {
     "data": {
      "image/svg+xml": [
       "<?xml version=\"1.0\" encoding=\"UTF-8\"?><!DOCTYPE svg  PUBLIC '-//W3C//DTD SVG 1.1//EN'  'http://www.w3.org/Graphics/SVG/1.1/DTD/svg11.dtd'><svg width=\"293.4pt\" height=\"286.2pt\" version=\"1.1\" viewBox=\"0 0 293.4 286.2\" xmlns=\"http://www.w3.org/2000/svg\" xmlns:xlink=\"http://www.w3.org/1999/xlink\"><defs><style type=\"text/css\">*{stroke-linecap:butt;stroke-linejoin:round;}</style></defs><path d=\"m0 286.2h293.4v-286.2h-293.4z\" fill=\"none\"/><path d=\"m76.95 143.1 34.875-33.975\" clip-path=\"url(#p3dfaa7247e)\" fill=\"none\" stroke=\"#648fff\" stroke-linecap=\"square\" stroke-width=\"4\"/><path d=\"m146.7 75.15-34.875 33.975\" clip-path=\"url(#p3dfaa7247e)\" fill=\"none\" stroke=\"#648fff\" stroke-linecap=\"square\" stroke-width=\"4\"/><path d=\"m146.7 75.15v33.975\" clip-path=\"url(#p3dfaa7247e)\" fill=\"none\" stroke=\"#648fff\" stroke-linecap=\"square\" stroke-width=\"4\"/><path d=\"m146.7 75.15 34.875 33.975\" clip-path=\"url(#p3dfaa7247e)\" fill=\"none\" stroke=\"#648fff\" stroke-linecap=\"square\" stroke-width=\"4\"/><path d=\"m146.7 143.1v-33.975\" clip-path=\"url(#p3dfaa7247e)\" fill=\"none\" stroke=\"#648fff\" stroke-linecap=\"square\" stroke-width=\"4\"/><path d=\"m216.45 143.1-34.875-33.975\" clip-path=\"url(#p3dfaa7247e)\" fill=\"none\" stroke=\"#648fff\" stroke-linecap=\"square\" stroke-width=\"4\"/><path d=\"m216.45 143.1-34.875 33.975\" clip-path=\"url(#p3dfaa7247e)\" fill=\"none\" stroke=\"#648fff\" stroke-linecap=\"square\" stroke-width=\"4\"/><path d=\"m146.7 211.05 34.875-33.975\" clip-path=\"url(#p3dfaa7247e)\" fill=\"none\" stroke=\"#648fff\" stroke-linecap=\"square\" stroke-width=\"4\"/><path d=\"m110.43 110.48-7.3981 14.414-3.6744-3.5796 10.748-10.471-0.04932-0.048048-10.748 10.471-3.6744-3.5796z\" clip-path=\"url(#p3dfaa7247e)\" fill=\"#648fff\"/><path d=\"m113.22 107.77 7.3981-14.414 3.6744 3.5796-10.748 10.471 0.04932 0.048048 10.748-10.471 3.6744 3.5796z\" clip-path=\"url(#p3dfaa7247e)\" fill=\"#648fff\"/><path d=\"m146.7 107.77-5.2312-15.289h5.1964v14.949h0.06975v-14.949h5.1964z\" clip-path=\"url(#p3dfaa7247e)\" fill=\"#648fff\"/><path d=\"m180.18 107.77-14.796-7.2072 3.6744-3.5796 10.748 10.471 0.04932-0.048048-10.748-10.471 3.6744-3.5796z\" clip-path=\"url(#p3dfaa7247e)\" fill=\"#648fff\"/><path d=\"m146.7 110.48 5.2312 15.289h-5.1964v-14.949h-0.06975v14.949h-5.1964z\" clip-path=\"url(#p3dfaa7247e)\" fill=\"#648fff\"/><path d=\"m182.97 110.48 14.796 7.2072-3.6744 3.5796-10.748-10.471-0.04932 0.048048 10.748 10.471-3.6744 3.5796z\" clip-path=\"url(#p3dfaa7247e)\" fill=\"#648fff\"/><path d=\"m182.97 175.72 7.3981-14.414 3.6744 3.5796-10.748 10.471 0.04932 0.048048 10.748-10.471 3.6744 3.5796z\" clip-path=\"url(#p3dfaa7247e)\" fill=\"#648fff\"/><path d=\"m180.18 178.43-7.3981 14.414-3.6744-3.5796 10.748-10.471-0.04932-0.048048-10.748 10.471-3.6744-3.5796z\" clip-path=\"url(#p3dfaa7247e)\" fill=\"#648fff\"/><path d=\"m76.95 131.1c-3.1824 0-6.235 1.2644-8.4853 3.5147s-3.5147 5.3028-3.5147 8.4853 1.2644 6.235 3.5147 8.4853 5.3028 3.5147 8.4853 3.5147 6.235-1.2644 8.4853-3.5147 3.5147-5.3028 3.5147-8.4853-1.2644-6.235-3.5147-8.4853-5.3028-3.5147-8.4853-3.5147z\" clip-path=\"url(#p3dfaa7247e)\" fill=\"#648fff\" stroke=\"#648fff\"/><path d=\"m146.7 63.15c-3.1824 0-6.235 1.2644-8.4853 3.5147s-3.5147 5.3028-3.5147 8.4853 1.2644 6.235 3.5147 8.4853 5.3028 3.5147 8.4853 3.5147 6.235-1.2644 8.4853-3.5147 3.5147-5.3028 3.5147-8.4853-1.2644-6.235-3.5147-8.4853-5.3028-3.5147-8.4853-3.5147z\" clip-path=\"url(#p3dfaa7247e)\" fill=\"#648fff\" stroke=\"#648fff\"/><path d=\"m146.7 131.1c-3.1824 0-6.235 1.2644-8.4853 3.5147s-3.5147 5.3028-3.5147 8.4853 1.2644 6.235 3.5147 8.4853 5.3028 3.5147 8.4853 3.5147 6.235-1.2644 8.4853-3.5147 3.5147-5.3028 3.5147-8.4853-1.2644-6.235-3.5147-8.4853-5.3028-3.5147-8.4853-3.5147z\" clip-path=\"url(#p3dfaa7247e)\" fill=\"#648fff\" stroke=\"#648fff\"/><path d=\"m216.45 131.1c-3.1824 0-6.235 1.2644-8.4853 3.5147s-3.5147 5.3028-3.5147 8.4853 1.2644 6.235 3.5147 8.4853 5.3028 3.5147 8.4853 3.5147 6.235-1.2644 8.4853-3.5147 3.5147-5.3028 3.5147-8.4853-1.2644-6.235-3.5147-8.4853-5.3028-3.5147-8.4853-3.5147z\" clip-path=\"url(#p3dfaa7247e)\" fill=\"#648fff\" stroke=\"#648fff\"/><path d=\"m146.7 199.05c-3.1824 0-6.235 1.2644-8.4853 3.5147s-3.5147 5.3028-3.5147 8.4853 1.2644 6.235 3.5147 8.4853 5.3028 3.5147 8.4853 3.5147 6.235-1.2644 8.4853-3.5147 3.5147-5.3028 3.5147-8.4853-1.2644-6.235-3.5147-8.4853-5.3028-3.5147-8.4853-3.5147z\" clip-path=\"url(#p3dfaa7247e)\" fill=\"#648fff\" stroke=\"#648fff\"/><defs><path id=\"DejaVuSans-Bold-48\" d=\"m46 36.531q0 13.672-2.5625 19.25-2.5625 5.5938-8.625 5.5938-6.0469 0-8.6406-5.5938-2.5938-5.5781-2.5938-19.25 0-13.828 2.5938-19.5 2.5938-5.6562 8.6406-5.6562 6.0156 0 8.5938 5.6562 2.5938 5.6719 2.5938 19.5zm18.797-0.15625q0-18.109-7.8125-27.953t-22.172-9.8438q-14.406 0-22.219 9.8438t-7.8125 27.953q0 18.172 7.8125 28 7.8125 9.8438 22.219 9.8438 14.359 0 22.172-9.8438 7.8125-9.8281 7.8125-28z\"/></defs><g transform=\"translate(72.775 146.41) scale(.12 -.12)\" fill=\"#ffffff\"><use xlink:href=\"#DejaVuSans-Bold-48\"/></g><defs><path id=\"DejaVuSans-Bold-49\" d=\"m11.719 12.984h16.609v47.125l-17.047-3.5156v12.797l16.938 3.5156h17.875v-59.922h16.609v-12.984h-50.984z\"/></defs><g transform=\"translate(142.53 78.461) scale(.12 -.12)\" fill=\"#ffffff\"><use xlink:href=\"#DejaVuSans-Bold-49\"/></g><defs><path id=\"DejaVuSans-Bold-50\" d=\"m28.812 13.812h32.078v-13.812h-52.984v13.812l26.609 23.5q3.5781 3.2188 5.2812 6.2969t1.7031 6.3906q0 5.125-3.4375 8.25t-9.1562 3.125q-4.3906 0-9.625-1.875-5.2188-1.875-11.172-5.5938v16.016q6.3438 2.0938 12.547 3.1875 6.2031 1.1094 12.156 1.1094 13.094 0 20.344-5.7656 7.25-5.75 7.25-16.062 0-5.9531-3.0781-11.109-3.0781-5.1406-12.938-13.797z\"/></defs><g transform=\"translate(142.53 146.41) scale(.12 -.12)\" fill=\"#ffffff\"><use xlink:href=\"#DejaVuSans-Bold-50\"/></g><defs><path id=\"DejaVuSans-Bold-51\" d=\"m46.578 39.312q7.375-1.9062 11.203-6.625 3.8438-4.7031 3.8438-11.984 0-10.844-8.3125-16.484-8.2969-5.6406-24.203-5.6406-5.625 0-11.266 0.90625t-11.156 2.7188v14.5q5.2812-2.6406 10.469-3.9844 5.2031-1.3438 10.234-1.3438 7.4688 0 11.453 2.5781 3.9844 2.5938 3.9844 7.4375 0 4.9844-4.0781 7.5469t-12.047 2.5625h-7.5156v12.109h7.9062q7.0938 0 10.547 2.2188 3.4688 2.2188 3.4688 6.7656 0 4.1875-3.375 6.4844-3.3594 2.2969-9.5156 2.2969-4.5312 0-9.1719-1.0312-4.6406-1.0156-9.2344-3.0156v13.766q5.5625 1.5625 11.031 2.3438t10.75 0.78125q14.203 0 21.25-4.6719 7.0625-4.6562 7.0625-14.031 0-6.3906-3.375-10.469-3.3594-4.0781-9.9531-5.7344z\"/></defs><g transform=\"translate(212.28 146.41) scale(.12 -.12)\" fill=\"#ffffff\"><use xlink:href=\"#DejaVuSans-Bold-51\"/></g><defs><path id=\"DejaVuSans-Bold-52\" d=\"m36.812 57.422-20.594-30.516h20.594zm-3.125 15.484h20.906v-46h10.391v-13.625h-10.391v-13.281h-17.781v13.281h-32.312v16.109z\"/></defs><g transform=\"translate(142.53 214.36) scale(.12 -.12)\" fill=\"#ffffff\"><use xlink:href=\"#DejaVuSans-Bold-52\"/></g><defs><clipPath id=\"p3dfaa7247e\"><rect x=\"7.2\" y=\"7.2\" width=\"279\" height=\"271.8\"/></clipPath></defs></svg>"
      ],
      "text/plain": [
       "<Figure size 360x360 with 1 Axes>"
      ]
     },
     "execution_count": 11,
     "metadata": {},
     "output_type": "execute_result"
    }
   ],
   "source": [
    "from qiskit.visualization.gate_map import plot_gate_map\n",
    "plot_gate_map(backend, plot_directed=True)"
   ]
  }
 ],
 "metadata": {
  "kernelspec": {
   "display_name": "Python 3",
   "language": "python",
   "name": "python3"
  },
  "language_info": {
   "codemirror_mode": {
    "name": "ipython",
    "version": 3
   },
   "file_extension": ".py",
   "mimetype": "text/x-python",
   "name": "python",
   "nbconvert_exporter": "python",
   "pygments_lexer": "ipython3",
   "version": "3.9"
  }
 },
 "nbformat": 4,
 "nbformat_minor": 2
}
