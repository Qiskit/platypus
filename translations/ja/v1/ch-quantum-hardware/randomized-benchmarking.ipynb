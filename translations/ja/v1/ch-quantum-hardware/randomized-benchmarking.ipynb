{
 "cells": [
  {
   "cell_type": "markdown",
   "metadata": {
    "tags": [
     "remove_cell"
    ]
   },
   "source": [
    "# ランダマイズド・ベンチマーキング"
   ]
  },
  {
   "cell_type": "markdown",
   "metadata": {},
   "source": [
    "## 目次\n",
    " \n",
    "1. [導入](#intro)     \n",
    "2. [ランダマイズド・ベンチマーキングのプロトコル](#protocol)     \n",
    "3. [RBの直観的理解](#intuition)     \n",
    "4. [同時ランダマイズド・ベンチマーキング](#simultaneousrb)     \n",
    "5. [ゲートフィデリティーの予測](#predicted-gate-fidelity)    \n",
    "6. [参考文献](#references)     \n",
    "\n",
    "## 1. 導入 <a id='intro'></a>\n",
    "\n",
    "量子情報プロセッサーを構築する上での主な課題の1つは、プロセストモグラフィーを介して発生する量子系へのノイズの完全な特徴評価はスケールできないことです。さらに、プロセストモグラフィーは、回転前および回転後のゲートノイズと測定ノイズ(SPAMエラー)に敏感です。ゲートセットトモグラフィーはこれらのエラーを考慮できますが、プロセストモグラフィーよりも更にスケールできません。完全なノイズの特徴評価ができると、適切なエラー訂正スキームの決定や、信頼できる量子情報伝送の可能性に繋がるので有用です。\n",
    "\n",
    "\n",
    "大規模な系では完全なプロセストモグラフィーは不可能であるため、量子系に影響を与えるノイズを部分的に特徴づけるスケーラブルな手法への関心が高まっています。ランダム化技術を利用した単一のパラメータでクリフォードゲートのフルセットをベンチマークするための、(システムを構成する量子ビットの数$n$で）スケーラブルで強固なアルゴリズムが[1]で発表されました。量子ゲートのベンチマークにランダム化手法を用いる概念は、一般に **ランダマイズド・ベンチマーキング(RB)**と呼ばれます。\n",
    "\n",
    "\n",
    "## 2. ランダマイズド・ベンチマーキングのプロトコル <a id='protocol'></a>\n",
    "\n",
    "まず、デモのために関連するqiskitクラスをインポートします。"
   ]
  },
  {
   "cell_type": "code",
   "execution_count": 1,
   "metadata": {},
   "outputs": [],
   "source": [
    "#Import general libraries (needed for functions)\n",
    "import numpy as np\n",
    "import matplotlib.pyplot as plt\n",
    "from IPython import display\n",
    "\n",
    "#Import the RB Functions\n",
    "import qiskit.ignis.verification.randomized_benchmarking as rb\n",
    "\n",
    "#Import Qiskit classes \n",
    "import qiskit\n",
    "from qiskit import assemble, transpile\n",
    "from qiskit.providers.aer.noise import NoiseModel\n",
    "from qiskit.providers.aer.noise.errors.standard_errors import depolarizing_error, thermal_relaxation_error"
   ]
  },
  {
   "cell_type": "markdown",
   "metadata": {},
   "source": [
    "RBプロトコル（[1,2]参照）は、以下のステップで構成されています。\n",
    "\n",
    "### ステップ1：RB配列の生成\n",
    "\n",
    "RB配列は、$n$量子ビット上のクリフォード群から一様に選ばれたランダムなクリフォード要素で構成されています。\n",
    "これには量子ビットを初期状態に戻す反転要素を含みます。\n",
    "\n",
    "より正確には、それぞれの長さ$m$に対して、$K_m$のRB配列を選びます。\n",
    "このような配列は、それぞれ $n$量子ビット上のクリフォード群から一様に選ばれた$m$のランダム要素$C_{i_j}$を含み、$m+1$の要素は次のように定義されます。$C_{i_{m+1}} = (C_{i_1}\\cdot ... \\cdot C_{i_m})^{-1}$. これはGottesmann-Knillの定理で効率よく求めることができます。\n",
    "\n",
    "例えば、2量子ビットのクリフォード回路の配列を以下に複数示します。"
   ]
  },
  {
   "cell_type": "code",
   "execution_count": 2,
   "metadata": {},
   "outputs": [],
   "source": [
    "#Generate RB circuits (2Q RB)\n",
    "\n",
    "#number of qubits\n",
    "nQ = 2 \n",
    "rb_opts = {}\n",
    "#Number of Cliffords in the sequence\n",
    "rb_opts['length_vector'] = [1, 10, 20, 50, 75, 100, 125, 150, 175, 200]\n",
    "#Number of seeds (random sequences)\n",
    "rb_opts['nseeds'] = 5\n",
    "#Default pattern\n",
    "rb_opts['rb_pattern'] = [[0, 1]]\n",
    "\n",
    "rb_circs, xdata = rb.randomized_benchmarking_seq(**rb_opts)"
   ]
  },
  {
   "cell_type": "markdown",
   "metadata": {},
   "source": [
    "一例として、1つ目のRB配列に対応する回路を表示します。"
   ]
  },
  {
   "cell_type": "code",
   "execution_count": 3,
   "metadata": {},
   "outputs": [
    {
     "data": {
      "image/svg+xml": [
       "<?xml version=\"1.0\" encoding=\"UTF-8\"?><!DOCTYPE svg  PUBLIC '-//W3C//DTD SVG 1.1//EN'  'http://www.w3.org/Graphics/SVG/1.1/DTD/svg11.dtd'><svg width=\"1020.7pt\" height=\"168.93pt\" version=\"1.1\" viewBox=\"0 0 1020.7 168.93\" xmlns=\"http://www.w3.org/2000/svg\" xmlns:xlink=\"http://www.w3.org/1999/xlink\"><defs><style type=\"text/css\">*{stroke-linecap:butt;stroke-linejoin:round;}</style></defs><path d=\"m0 168.93h1020.7v-168.93h-1020.7z\" fill=\"#ffffff\"/><path d=\"m912.13 124.12h11.817l-5.9086 10.34z\" clip-path=\"url(#p6589396009)\" fill=\"#778899\"/><path d=\"m957.58 124.12h11.817l-5.9086 10.34z\" clip-path=\"url(#p6589396009)\" fill=\"#778899\"/><path d=\"m109.01 43.561h899.93\" clip-path=\"url(#p6589396009)\" fill=\"none\" stroke=\"#000000\" stroke-linecap=\"square\" stroke-width=\"2\"/><path d=\"m109.01 89.012h899.93\" clip-path=\"url(#p6589396009)\" fill=\"none\" stroke=\"#000000\" stroke-linecap=\"square\" stroke-width=\"2\"/><path d=\"m109.01 132.99h899.93\" clip-path=\"url(#p6589396009)\" fill=\"none\" stroke=\"#778899\" stroke-linecap=\"square\" stroke-width=\"2\"/><path d=\"m109.01 135.94h899.93\" clip-path=\"url(#p6589396009)\" fill=\"none\" stroke=\"#778899\" stroke-linecap=\"square\" stroke-width=\"2\"/><path d=\"m500.12 111.74h17.726v-90.902h-17.726z\" clip-path=\"url(#p6589396009)\" fill=\"#bdbdbd\" opacity=\".6\"/><path d=\"m281.72 89.012v-45.451\" clip-path=\"url(#p6589396009)\" fill=\"none\" stroke=\"#6fa4ff\" stroke-linecap=\"square\" stroke-width=\"2\"/><path d=\"m327.18 89.012v-45.451\" clip-path=\"url(#p6589396009)\" fill=\"none\" stroke=\"#6fa4ff\" stroke-linecap=\"square\" stroke-width=\"2\"/><path d=\"m690.78 89.012v-45.451\" clip-path=\"url(#p6589396009)\" fill=\"none\" stroke=\"#6fa4ff\" stroke-linecap=\"square\" stroke-width=\"2\"/><path d=\"m736.23 89.012v-45.451\" clip-path=\"url(#p6589396009)\" fill=\"none\" stroke=\"#6fa4ff\" stroke-linecap=\"square\" stroke-width=\"2\"/><path d=\"m919.52 43.561v80.562\" clip-path=\"url(#p6589396009)\" fill=\"none\" stroke=\"#778899\" stroke-linecap=\"square\" stroke-width=\"2\"/><path d=\"m916.56 43.561v80.562\" clip-path=\"url(#p6589396009)\" fill=\"none\" stroke=\"#778899\" stroke-linecap=\"square\" stroke-width=\"2\"/><path d=\"m964.97 89.012v35.111\" clip-path=\"url(#p6589396009)\" fill=\"none\" stroke=\"#778899\" stroke-linecap=\"square\" stroke-width=\"2\"/><path d=\"m962.01 89.012v35.111\" clip-path=\"url(#p6589396009)\" fill=\"none\" stroke=\"#778899\" stroke-linecap=\"square\" stroke-width=\"2\"/><path d=\"m149.92 139.01 4.5451-9.0902\" clip-path=\"url(#p6589396009)\" fill=\"none\" stroke=\"#778899\" stroke-linecap=\"square\" stroke-width=\"1.5\"/><path d=\"m130.6 103.78h29.543v-29.543h-29.543z\" clip-path=\"url(#p6589396009)\" fill=\"#6fa4ff\"/><path d=\"m130.6 58.332h29.543v-29.543h-29.543z\" clip-path=\"url(#p6589396009)\" fill=\"#6fa4ff\"/><path d=\"m176.05 58.332h29.543v-29.543h-29.543z\" clip-path=\"url(#p6589396009)\" fill=\"#6fa4ff\"/><path d=\"m176.05 103.78h29.543v-29.543h-29.543z\" clip-path=\"url(#p6589396009)\" fill=\"#6fa4ff\"/><path d=\"m221.5 103.78h29.543v-29.543h-29.543z\" clip-path=\"url(#p6589396009)\" fill=\"#6fa4ff\"/><path d=\"m281.72 47.992c1.1752 0 2.3025-0.46693 3.1335-1.2979 0.83102-0.83102 1.2979-1.9583 1.2979-3.1335s-0.46693-2.3025-1.2979-3.1335c-0.83102-0.83102-1.9583-1.2979-3.1335-1.2979s-2.3025 0.46693-3.1335 1.2979c-0.83102 0.83102-1.2979 1.9583-1.2979 3.1335s0.46693 2.3025 1.2979 3.1335c0.83102 0.83102 1.9583 1.2979 3.1335 1.2979z\" clip-path=\"url(#p6589396009)\" fill=\"#6fa4ff\" stroke=\"#6fa4ff\" stroke-width=\"1.5\"/><path d=\"m281.72 99.352c2.7422 0 5.3725-1.0895 7.3116-3.0285 1.939-1.939 3.0285-4.5693 3.0285-7.3116s-1.0895-5.3725-3.0285-7.3116c-1.939-1.939-4.5693-3.0285-7.3116-3.0285s-5.3725 1.0895-7.3116 3.0285c-1.939 1.939-3.0285 4.5693-3.0285 7.3116s1.0895 5.3725 3.0285 7.3116c1.939 1.939 4.5693 3.0285 7.3116 3.0285z\" clip-path=\"url(#p6589396009)\" fill=\"#6fa4ff\" stroke=\"#6fa4ff\" stroke-width=\"2\"/><path d=\"m327.18 93.443c1.1752 0 2.3025-0.46693 3.1335-1.2979 0.83102-0.83102 1.2979-1.9583 1.2979-3.1335s-0.46693-2.3025-1.2979-3.1335c-0.83102-0.83102-1.9583-1.2979-3.1335-1.2979s-2.3025 0.46693-3.1335 1.2979c-0.83102 0.83102-1.2979 1.9583-1.2979 3.1335s0.46693 2.3025 1.2979 3.1335c0.83102 0.83102 1.9583 1.2979 3.1335 1.2979z\" clip-path=\"url(#p6589396009)\" fill=\"#6fa4ff\" stroke=\"#6fa4ff\" stroke-width=\"1.5\"/><path d=\"m327.18 53.901c2.7422 0 5.3725-1.0895 7.3116-3.0285 1.939-1.939 3.0285-4.5693 3.0285-7.3116s-1.0895-5.3725-3.0285-7.3116c-1.939-1.939-4.5693-3.0285-7.3116-3.0285s-5.3725 1.0895-7.3116 3.0285c-1.939 1.939-3.0285 4.5693-3.0285 7.3116s1.0895 5.3725 3.0285 7.3116c1.939 1.939 4.5693 3.0285 7.3116 3.0285z\" clip-path=\"url(#p6589396009)\" fill=\"#6fa4ff\" stroke=\"#6fa4ff\" stroke-width=\"2\"/><path d=\"m357.85 103.78h29.543v-29.543h-29.543z\" clip-path=\"url(#p6589396009)\" fill=\"#6fa4ff\"/><path d=\"m357.85 58.332h29.543v-29.543h-29.543z\" clip-path=\"url(#p6589396009)\" fill=\"#05bab6\"/><path d=\"m403.31 103.78h29.543v-29.543h-29.543z\" clip-path=\"url(#p6589396009)\" fill=\"#6fa4ff\"/><path d=\"m448.76 103.78h29.543v-29.543h-29.543z\" clip-path=\"url(#p6589396009)\" fill=\"#05bab6\"/><path d=\"m539.66 103.78h29.543v-29.543h-29.543z\" clip-path=\"url(#p6589396009)\" fill=\"#05bab6\"/><path d=\"m539.66 58.332h29.543v-29.543h-29.543z\" clip-path=\"url(#p6589396009)\" fill=\"#05bab6\"/><path d=\"m585.11 103.78h29.543v-29.543h-29.543z\" clip-path=\"url(#p6589396009)\" fill=\"#6fa4ff\"/><path d=\"m630.56 103.78h29.543v-29.543h-29.543z\" clip-path=\"url(#p6589396009)\" fill=\"#6fa4ff\"/><path d=\"m690.78 93.443c1.1752 0 2.3025-0.46693 3.1335-1.2979 0.83102-0.83102 1.2979-1.9583 1.2979-3.1335s-0.46693-2.3025-1.2979-3.1335c-0.83102-0.83102-1.9583-1.2979-3.1335-1.2979s-2.3025 0.46693-3.1335 1.2979c-0.83102 0.83102-1.2979 1.9583-1.2979 3.1335s0.46693 2.3025 1.2979 3.1335c0.83102 0.83102 1.9583 1.2979 3.1335 1.2979z\" clip-path=\"url(#p6589396009)\" fill=\"#6fa4ff\" stroke=\"#6fa4ff\" stroke-width=\"1.5\"/><path d=\"m690.78 53.901c2.7422 0 5.3725-1.0895 7.3116-3.0285 1.939-1.939 3.0285-4.5693 3.0285-7.3116s-1.0895-5.3725-3.0285-7.3116c-1.939-1.939-4.5693-3.0285-7.3116-3.0285s-5.3725 1.0895-7.3116 3.0285c-1.939 1.939-3.0285 4.5693-3.0285 7.3116s1.0895 5.3725 3.0285 7.3116c1.939 1.939 4.5693 3.0285 7.3116 3.0285z\" clip-path=\"url(#p6589396009)\" fill=\"#6fa4ff\" stroke=\"#6fa4ff\" stroke-width=\"2\"/><path d=\"m736.23 47.992c1.1752 0 2.3025-0.46693 3.1335-1.2979 0.83102-0.83102 1.2979-1.9583 1.2979-3.1335s-0.46693-2.3025-1.2979-3.1335c-0.83102-0.83102-1.9583-1.2979-3.1335-1.2979s-2.3025 0.46693-3.1335 1.2979c-0.83102 0.83102-1.2979 1.9583-1.2979 3.1335s0.46693 2.3025 1.2979 3.1335c0.83102 0.83102 1.9583 1.2979 3.1335 1.2979z\" clip-path=\"url(#p6589396009)\" fill=\"#6fa4ff\" stroke=\"#6fa4ff\" stroke-width=\"1.5\"/><path d=\"m736.23 99.352c2.7422 0 5.3725-1.0895 7.3116-3.0285 1.939-1.939 3.0285-4.5693 3.0285-7.3116s-1.0895-5.3725-3.0285-7.3116c-1.939-1.939-4.5693-3.0285-7.3116-3.0285s-5.3725 1.0895-7.3116 3.0285c-1.939 1.939-3.0285 4.5693-3.0285 7.3116s1.0895 5.3725 3.0285 7.3116c1.939 1.939 4.5693 3.0285 7.3116 3.0285z\" clip-path=\"url(#p6589396009)\" fill=\"#6fa4ff\" stroke=\"#6fa4ff\" stroke-width=\"2\"/><path d=\"m766.91 103.78h29.543v-29.543h-29.543z\" clip-path=\"url(#p6589396009)\" fill=\"#6fa4ff\"/><path d=\"m766.91 58.332h29.543v-29.543h-29.543z\" clip-path=\"url(#p6589396009)\" fill=\"#6fa4ff\"/><path d=\"m812.36 103.78h29.543v-29.543h-29.543z\" clip-path=\"url(#p6589396009)\" fill=\"#6fa4ff\"/><path d=\"m812.36 58.332h29.543v-29.543h-29.543z\" clip-path=\"url(#p6589396009)\" fill=\"#6fa4ff\"/><path d=\"m857.82 103.78h29.543v-29.543h-29.543z\" clip-path=\"url(#p6589396009)\" fill=\"#6fa4ff\"/><path d=\"m903.27 58.332h29.543v-29.543h-29.543z\" clip-path=\"url(#p6589396009)\"/><path d=\"m928.38 47.992c0-2.7413-1.0901-5.3732-3.0285-7.3116-1.9384-1.9384-4.5702-3.0285-7.3116-3.0285s-5.3732 1.0901-7.3116 3.0285c-1.9384 1.9384-3.0285 4.5702-3.0285 7.3116\" clip-path=\"url(#p6589396009)\" fill=\"none\" stroke=\"#ffffff\" stroke-width=\"2\"/><path d=\"m948.72 103.78h29.543v-29.543h-29.543z\" clip-path=\"url(#p6589396009)\"/><path d=\"m973.83 93.443c0-2.7413-1.0901-5.3732-3.0285-7.3116-1.9384-1.9384-4.5702-3.0285-7.3116-3.0285s-5.3732 1.0901-7.3116 3.0285c-1.9384 1.9384-3.0285 4.5702-3.0285 7.3116\" clip-path=\"url(#p6589396009)\" fill=\"none\" stroke=\"#ffffff\" stroke-width=\"2\"/><path d=\"m918.04 47.992 10.34-10.34\" clip-path=\"url(#p6589396009)\" fill=\"none\" stroke=\"#ffffff\" stroke-linecap=\"square\" stroke-width=\"2\"/><path d=\"m963.49 93.443 10.34-10.34\" clip-path=\"url(#p6589396009)\" fill=\"none\" stroke=\"#ffffff\" stroke-linecap=\"square\" stroke-width=\"2\"/><path d=\"m281.72 94.92v-11.817\" clip-path=\"url(#p6589396009)\" fill=\"none\" stroke=\"#ffffff\" stroke-linecap=\"square\" stroke-width=\"2\"/><path d=\"m275.82 89.012h11.817\" clip-path=\"url(#p6589396009)\" fill=\"none\" stroke=\"#ffffff\" stroke-linecap=\"square\" stroke-width=\"2\"/><path d=\"m327.18 49.469v-11.817\" clip-path=\"url(#p6589396009)\" fill=\"none\" stroke=\"#ffffff\" stroke-linecap=\"square\" stroke-width=\"2\"/><path d=\"m321.27 43.561h11.817\" clip-path=\"url(#p6589396009)\" fill=\"none\" stroke=\"#ffffff\" stroke-linecap=\"square\" stroke-width=\"2\"/><path d=\"m508.98 20.835v45.451\" clip-path=\"url(#p6589396009)\" fill=\"none\" stroke=\"#000000\" stroke-dasharray=\"3.7,1.6\"/><path d=\"m508.98 66.286v45.451\" clip-path=\"url(#p6589396009)\" fill=\"none\" stroke=\"#000000\" stroke-dasharray=\"3.7,1.6\"/><path d=\"m690.78 49.469v-11.817\" clip-path=\"url(#p6589396009)\" fill=\"none\" stroke=\"#ffffff\" stroke-linecap=\"square\" stroke-width=\"2\"/><path d=\"m684.87 43.561h11.817\" clip-path=\"url(#p6589396009)\" fill=\"none\" stroke=\"#ffffff\" stroke-linecap=\"square\" stroke-width=\"2\"/><path d=\"m736.23 94.92v-11.817\" clip-path=\"url(#p6589396009)\" fill=\"none\" stroke=\"#ffffff\" stroke-linecap=\"square\" stroke-width=\"2\"/><path d=\"m730.33 89.012h11.817\" clip-path=\"url(#p6589396009)\" fill=\"none\" stroke=\"#ffffff\" stroke-linecap=\"square\" stroke-width=\"2\"/><g clip-path=\"url(#p6589396009)\"><g transform=\"translate(140.43 92.599) scale(.13 -.13)\"><defs><path id=\"DejaVuSans-Oblique-72\" d=\"m16.891 72.906h9.9219l-5.8125-29.891h35.781l5.8125 29.891h9.9219l-14.219-72.906h-9.9062l6.7812 34.719h-35.781l-6.7969-34.719h-9.9062z\"/></defs><use transform=\"translate(0 .09375)\" xlink:href=\"#DejaVuSans-Oblique-72\"/></g></g><g clip-path=\"url(#p6589396009)\"><g transform=\"translate(136.53 47.148) scale(.13 -.13)\"><defs><path id=\"DejaVuSans-Oblique-83\" d=\"m60.297 70.516-1.8906-9.625q-4.9375 2.6406-9.7969 3.9844t-9.4062 1.3438q-8.8281 0-14.062-3.8594-5.2188-3.8594-5.2188-10.266 0-3.5156 1.9219-5.3906 1.9375-1.875 9.9375-4.0312l5.9219-1.4531q10-2.5938 13.906-6.5781 3.9062-3.9688 3.9062-11.156 0-11.031-8.6719-17.969-8.6562-6.9375-22.812-6.9375-5.8125 0-11.672 1.1562-5.8594 1.1406-11.766 3.4844l2 10.156q5.4219-3.3594 10.859-5.0781 5.4375-1.7031 10.859-1.7031 9.2344 0 14.797 4.0938 5.5625 4.1094 5.5625 10.703 0 4.3906-2.2188 6.6562-2.2188 2.2812-9.5469 4.125l-5.9062 1.5156q-10.109 2.6406-13.797 6.0781-3.6875 3.4531-3.6875 9.6562 0 10.875 8.375 17.828 8.375 6.9688 21.812 6.9688 5.2188 0 10.344-0.9375 5.125-0.92188 10.25-2.7656z\"/><path id=\"DejaVuSans-8224\" d=\"m20.703 72.906h8.5938v-20.516h17.922v-7.4688h-17.922v-54.547h-8.5938v54.547h-17.922v7.4688h17.922z\"/></defs><use transform=\"translate(0 .68438)\" xlink:href=\"#DejaVuSans-Oblique-83\"/><use transform=\"translate(84.315 38.966) scale(.7)\" xlink:href=\"#DejaVuSans-8224\"/></g></g><g clip-path=\"url(#p6589396009)\"><g transform=\"translate(185.88 47.148) scale(.13 -.13)\"><use transform=\"translate(0 .09375)\" xlink:href=\"#DejaVuSans-Oblique-72\"/></g></g><g clip-path=\"url(#p6589396009)\"><g transform=\"translate(185.88 92.599) scale(.13 -.13)\"><use transform=\"translate(0 .09375)\" xlink:href=\"#DejaVuSans-Oblique-72\"/></g></g><g clip-path=\"url(#p6589396009)\"><g transform=\"translate(232.11 92.599) scale(.13 -.13)\"><use transform=\"translate(0 .78125)\" xlink:href=\"#DejaVuSans-Oblique-83\"/></g></g><g clip-path=\"url(#p6589396009)\"><g transform=\"translate(367.69 92.599) scale(.13 -.13)\"><use transform=\"translate(0 .09375)\" xlink:href=\"#DejaVuSans-Oblique-72\"/></g></g><g clip-path=\"url(#p6589396009)\"><g transform=\"translate(368.6 47.148) scale(.13 -.13)\"><defs><path id=\"DejaVuSans-Oblique-89\" d=\"m6.2969 72.906h10.594l13.625-29.984 25.984 29.984h11.078l-33.062-38.188-6.7344-34.719h-9.8594l6.6875 34.719z\"/></defs><use transform=\"translate(0 .09375)\" xlink:href=\"#DejaVuSans-Oblique-89\"/></g></g><g clip-path=\"url(#p6589396009)\"><g transform=\"translate(413.92 92.599) scale(.13 -.13)\"><use transform=\"translate(0 .78125)\" xlink:href=\"#DejaVuSans-Oblique-83\"/></g></g><g clip-path=\"url(#p6589396009)\"><g transform=\"translate(459.04 92.599) scale(.13 -.13)\"><defs><path id=\"DejaVuSans-Oblique-90\" d=\"m13.094 72.906h57.219l-1.4219-7.5312-56.484-57.078h46.484l-1.5625-8.2969h-59.531l1.4219 7.5156 56.5 57.078h-44.188z\"/></defs><use transform=\"translate(0 .09375)\" xlink:href=\"#DejaVuSans-Oblique-90\"/></g></g><g clip-path=\"url(#p6589396009)\"><g transform=\"translate(549.95 92.599) scale(.13 -.13)\"><use transform=\"translate(0 .09375)\" xlink:href=\"#DejaVuSans-Oblique-90\"/></g></g><g clip-path=\"url(#p6589396009)\"><g transform=\"translate(550.4 47.148) scale(.13 -.13)\"><use transform=\"translate(0 .09375)\" xlink:href=\"#DejaVuSans-Oblique-89\"/></g></g><g clip-path=\"url(#p6589396009)\"><g transform=\"translate(591.04 92.599) scale(.13 -.13)\"><use transform=\"translate(0 .68438)\" xlink:href=\"#DejaVuSans-Oblique-83\"/><use transform=\"translate(84.315 38.966) scale(.7)\" xlink:href=\"#DejaVuSans-8224\"/></g></g><g clip-path=\"url(#p6589396009)\"><g transform=\"translate(640.39 92.599) scale(.13 -.13)\"><use transform=\"translate(0 .09375)\" xlink:href=\"#DejaVuSans-Oblique-72\"/></g></g><g clip-path=\"url(#p6589396009)\"><g transform=\"translate(772.85 92.599) scale(.13 -.13)\"><use transform=\"translate(0 .68438)\" xlink:href=\"#DejaVuSans-Oblique-83\"/><use transform=\"translate(84.315 38.966) scale(.7)\" xlink:href=\"#DejaVuSans-8224\"/></g></g><g clip-path=\"url(#p6589396009)\"><g transform=\"translate(776.75 47.148) scale(.13 -.13)\"><use transform=\"translate(0 .09375)\" xlink:href=\"#DejaVuSans-Oblique-72\"/></g></g><g clip-path=\"url(#p6589396009)\"><g transform=\"translate(822.2 92.599) scale(.13 -.13)\"><use transform=\"translate(0 .09375)\" xlink:href=\"#DejaVuSans-Oblique-72\"/></g></g><g clip-path=\"url(#p6589396009)\"><g transform=\"translate(822.98 47.148) scale(.13 -.13)\"><use transform=\"translate(0 .78125)\" xlink:href=\"#DejaVuSans-Oblique-83\"/></g></g><g clip-path=\"url(#p6589396009)\"><g transform=\"translate(867.65 92.599) scale(.13 -.13)\"><use transform=\"translate(0 .09375)\" xlink:href=\"#DejaVuSans-Oblique-72\"/></g></g><g clip-path=\"url(#p6589396009)\"><g transform=\"translate(929.4 127.75) scale(.104 -.104)\"><defs><path id=\"DejaVuSans-48\" d=\"m31.781 66.406q-7.6094 0-11.453-7.5-3.8281-7.4844-3.8281-22.531 0-14.984 3.8281-22.484 3.8438-7.5 11.453-7.5 7.6719 0 11.5 7.5 3.8438 7.5 3.8438 22.484 0 15.047-3.8438 22.531-3.8281 7.5-11.5 7.5zm0 7.8125q12.266 0 18.734-9.7031 6.4688-9.6875 6.4688-28.141 0-18.406-6.4688-28.109-6.4688-9.6875-18.734-9.6875-12.25 0-18.719 9.6875-6.4688 9.7031-6.4688 28.109 0 18.453 6.4688 28.141 6.4688 9.7031 18.719 9.7031z\"/></defs><use xlink:href=\"#DejaVuSans-48\"/></g></g><g clip-path=\"url(#p6589396009)\"><g transform=\"translate(974.85 127.75) scale(.104 -.104)\"><defs><path id=\"DejaVuSans-49\" d=\"m12.406 8.2969h16.109v55.625l-17.531-3.5156v8.9844l17.438 3.5156h9.8594v-64.609h16.109v-8.2969h-41.984z\"/></defs><use xlink:href=\"#DejaVuSans-49\"/></g></g><g clip-path=\"url(#p6589396009)\"><g transform=\"translate(66.13 48.012) scale(.1625 -.1625)\"><defs><path id=\"DejaVuSans-Oblique-113\" d=\"m41.703 8.2031q-3.6094-4.7344-8.5312-7.1875-4.9062-2.4375-10.859-2.4375-8.2969 0-13.016 5.5938-4.7031 5.5938-4.7031 15.406 0 7.9062 2.9062 15.281t8.3281 13.234q3.5156 3.8125 8.0781 5.8594t9.5938 2.0469q6.0469 0 9.9531-2.3906t5.6719-7.2188l1.5625 8.2031h9.0312l-14.594-75.203h-9.0469zm-27.781 12.703q0-7.2344 3.0156-11.016 3.0312-3.7812 8.75-3.7812 8.5 0 14.5 8.125t6 19.75q0 7.0312-3.1094 10.766-3.0938 3.7344-8.8906 3.7344-4.25 0-7.875-1.9844-3.6094-1.9688-6.2969-5.7812-2.8281-4-4.4688-9.375-1.625-5.3594-1.625-10.438z\"/><path id=\"DejaVuSans-Oblique-114\" d=\"m44.578 46.391q-1.3594 0.73438-3.125 1.125-1.75 0.39062-3.75 0.39062-7.1875 0-12.562-5.4531-5.3594-5.4375-7.125-14.578l-5.5156-27.875h-8.9844l10.688 54.688h8.9844l-1.7031-8.5q3.5625 4.7344 8.5156 7.2656 4.9688 2.5469 10.578 2.5469 1.4688 0 2.875-0.17188 1.4219-0.15625 2.8438-0.54688z\"/></defs><use xlink:href=\"#DejaVuSans-Oblique-113\"/><use transform=\"translate(63.477)\" xlink:href=\"#DejaVuSans-Oblique-114\"/><use transform=\"translate(104.59 -16.406) scale(.7)\" xlink:href=\"#DejaVuSans-48\"/></g></g><g clip-path=\"url(#p6589396009)\"><g transform=\"translate(66.13 93.463) scale(.1625 -.1625)\"><use xlink:href=\"#DejaVuSans-Oblique-113\"/><use transform=\"translate(63.477)\" xlink:href=\"#DejaVuSans-Oblique-114\"/><use transform=\"translate(104.59 -16.406) scale(.7)\" xlink:href=\"#DejaVuSans-49\"/></g></g><g clip-path=\"url(#p6589396009)\"><g transform=\"translate(145.37 127.75) scale(.104 -.104)\"><defs><path id=\"DejaVuSans-50\" d=\"m19.188 8.2969h34.422v-8.2969h-46.281v8.2969q5.6094 5.8125 15.297 15.594 9.7031 9.7969 12.188 12.641 4.7344 5.3125 6.6094 9 1.8906 3.6875 1.8906 7.25 0 5.8125-4.0781 9.4688-4.0781 3.6719-10.625 3.6719-4.6406 0-9.7969-1.6094-5.1406-1.6094-11-4.8906v9.9688q5.9531 2.3906 11.125 3.6094 5.1875 1.2188 9.4844 1.2188 11.328 0 18.062-5.6719 6.7344-5.6562 6.7344-15.125 0-4.5-1.6875-8.5312-1.6719-4.0156-6.125-9.4844-1.2188-1.4219-7.7656-8.1875-6.5312-6.7656-18.453-18.922z\"/></defs><use xlink:href=\"#DejaVuSans-50\"/></g></g><g clip-path=\"url(#p6589396009)\"><g transform=\"translate(71.915 139.84) scale(.195 -.195)\"><defs><path id=\"DejaVuSans-Oblique-99\" d=\"m53.609 52.594-1.7969-8.8906q-3.2344 2.3438-6.875 3.5156-3.625 1.1719-7.5312 1.1719-4.2969 0-8.1875-1.5156-3.875-1.5156-6.5156-4.2969-4.2031-4.25-6.5-9.9688-2.2812-5.7031-2.2812-11.812 0-7.375 3.6875-10.984t11.203-3.6094q3.7031 0 7.875 1.125 4.1875 1.125 8.7188 3.3594l-1.7031-8.875q-3.9062-1.6094-8.0312-2.4219t-8.4688-0.8125q-10.891 0-16.75 5.4375-5.8594 5.4531-5.8594 15.562 0 8.5 3.0469 15.656t9.0625 12.859q4.0938 3.9062 9.6094 5.9062 5.5312 2 12.062 2 3.8125 0 7.5625-0.85938 3.7656-0.84375 7.6719-2.5469z\"/></defs><use xlink:href=\"#DejaVuSans-Oblique-99\"/><use transform=\"translate(54.98)\" xlink:href=\"#DejaVuSans-Oblique-114\"/></g></g><defs><clipPath id=\"p6589396009\"><rect x=\"7.2\" y=\"7.2\" width=\"1006.3\" height=\"154.53\"/></clipPath></defs></svg>"
      ],
      "text/plain": [
       "<Figure size 1332.83x204.68 with 1 Axes>"
      ]
     },
     "execution_count": 3,
     "metadata": {},
     "output_type": "execute_result"
    }
   ],
   "source": [
    "rb_circs[0][0].draw()"
   ]
  },
  {
   "cell_type": "markdown",
   "metadata": {},
   "source": [
    "各RB回路を表すユニタリー行列が(グローバル位相を含めて)恒等変換であることを確認できます。\n",
    "これをAerユニタリーシミュレータを用いて再現します。"
   ]
  },
  {
   "cell_type": "code",
   "execution_count": 4,
   "metadata": {},
   "outputs": [],
   "source": [
    "# Create a new circuit without the measurement\n",
    "qregs = rb_circs[0][-1].qregs\n",
    "cregs = rb_circs[0][-1].cregs\n",
    "qc = qiskit.QuantumCircuit(*qregs, *cregs)\n",
    "for i in rb_circs[0][-1][0:-nQ]:\n",
    "    qc.data.append(i)"
   ]
  },
  {
   "cell_type": "code",
   "execution_count": 5,
   "metadata": {},
   "outputs": [
    {
     "data": {
      "text/latex": [
       "$\\displaystyle \n",
       "\\text{Unitary} = \\begin{bmatrix}\n",
       "0.707(-1 + i) & 0 & 0 & 0  \\\\\n",
       "0 & 0.707(-1 + i) & 0 & 0  \\\\\n",
       "0 & 0 & 0.707(-1 + i) & 0  \\\\\n",
       "0 & 0 & 0 & 0.707(-1 + i)  \\\\\n",
       "\\end{bmatrix}\n",
       "$$\n",
       "$"
      ],
      "text/plain": [
       "<IPython.core.display.Math object>"
      ]
     },
     "metadata": {},
     "output_type": "display_data"
    }
   ],
   "source": [
    "# The Unitary is an identity (with a global phase)\n",
    "sim = qiskit.Aer.get_backend('aer_simulator')\n",
    "basis_gates = ['u1','u2','u3','cx'] # use U,CX for now\n",
    "qc.save_unitary()\n",
    "unitary = sim.run(qc).result().get_unitary()\n",
    "from qiskit.visualization import array_to_latex\n",
    "array_to_latex(unitary, prefix=\"\\\\text{Unitary} = \")"
   ]
  },
  {
   "cell_type": "markdown",
   "metadata": {},
   "source": [
    "### ステップ2: RB配列を(ノイズを入れて)実行\n",
    "\n",
    "RB配列は、Qiskit Aer Simulator(ノイズモデル版)かIBMQプロバイダを用いて実行し、結果のリストを得ることができます。\n",
    "\n",
    "前提として、各演算$C_{i_j}$は、$\\Lambda_{i_j,j}$で表されるエラーを持つことができ、各配列は以下の演算によってモデル化することができます。\n",
    "\n",
    "$$\\textit{S}_{\\textbf{i}_\\textbf{m}} = \\bigcirc_{j=1}^{m+1} (\\Lambda_{i_j,j} \\circ C_{i_j})$$\n",
    "\n",
    "\n",
    "ここで${\\textbf{i}_\\textbf{m}} = (i_1,...,i_m)$で、$i_{m+1}$は${\\textbf{i}_\\textbf{m}}$によって一意に決定されます。"
   ]
  },
  {
   "cell_type": "code",
   "execution_count": 6,
   "metadata": {},
   "outputs": [],
   "source": [
    "# Run on a noisy simulator\n",
    "noise_model = NoiseModel()\n",
    "\n",
    "# Depolarizing error on the gates u2, u3 and cx (assuming the u1 is virtual-Z gate and no error)\n",
    "p1Q = 0.002\n",
    "p2Q = 0.01\n",
    "\n",
    "noise_model.add_all_qubit_quantum_error(depolarizing_error(p1Q, 1), 'u2')\n",
    "noise_model.add_all_qubit_quantum_error(depolarizing_error(2 * p1Q, 1), 'u3')\n",
    "noise_model.add_all_qubit_quantum_error(depolarizing_error(p2Q, 2), 'cx')\n",
    "\n",
    "backend = qiskit.Aer.get_backend('aer_simulator')"
   ]
  },
  {
   "cell_type": "markdown",
   "metadata": {},
   "source": [
    "### ステップ3: 生存確率の統計を取る\n",
    "\n",
    "各々の$K_m$配列で生存確率 $Tr[E_\\psi \\textit{S}_{\\textbf{i}_\\textbf{m}}(\\rho_\\psi)]$\n",
    "を測定します。\n",
    "ここで、$\\rho_\\psi$は状態生成時のエラーを考慮した初期状態であり、$E_\\psi$は\n",
    "測定エラーを考慮したPOVM要素です。\n",
    "理想的(ノイズフリー)な場合には$\\rho_\\psi = E_\\psi = | \\psi {\\rangle} {\\langle} \\psi |$となります。\n",
    "\n",
    "実際には、正確な初期状態(全量子ビットが基底状態$ {|} 00...0 {\\rangle}$にある状態)へ戻る確率、もしくはいずれか1つの量子ビットが基底状態に戻る確率を測定することができます。相関測定ができない場合は、独立して量子ビットを測定した方が便利です。両方の測定は、*twirl*の特性に応じて、同じ減衰パラメータでフィットされます。"
   ]
  },
  {
   "cell_type": "markdown",
   "metadata": {},
   "source": [
    "### Step 4: 配列のフィデリティー平均を求める\n",
    "\n",
    "$K_m$の配列のランダムな再現度を平均して，配列の**フィデリティー**平均を求めます．\n",
    "\n",
    "\n",
    "$$F_{seq}(m,|\\psi{\\rangle}) = Tr[E_\\psi \\textit{S}_{K_m}(\\rho_\\psi)]$$\n",
    "\n",
    "\n",
    "ここで\n",
    "\n",
    "\n",
    "$$\\textit{S}_{K_m} = \\frac{1}{K_m} \\sum_{\\textbf{i}_\\textbf{m}} \\textit{S}_{\\textbf{i}_\\textbf{m}}$$\n",
    "\n",
    "\n",
    "は配列の平均をとる演算です。"
   ]
  },
  {
   "cell_type": "markdown",
   "metadata": {},
   "source": [
    "### ステップ 5: 結果のフィッティング\n",
    "\n",
    "様々な$m$でステップ１から４を繰り返して、配列のフィデリティー平均の結果をモデルにフィットさせます。\n",
    "\n",
    "\n",
    "$$ \\textit{F}_{seq}^{(0)} \\big(m,{|}\\psi {\\rangle} \\big) = A_0 \\alpha^m +B_0$$\n",
    "\n",
    "\n",
    "ここで、 $A_0$ と $B_0$ は、初期状態生成時のエラーと測定エラー、および\n",
    "最終ゲートのエラーのエッジ効果を取り込みます。\n",
    "\n",
    "$\\alpha$は、平均エラー率$r$を決定します。これは、**クリフォード単位エラー(EPC)**　とも呼ばれ、次の関係が成り立ちます。\n",
    "\n",
    "$$ r = 1-\\alpha-\\frac{1-\\alpha}{2^n} = \\frac{2^n-1}{2^n}(1-\\alpha)$$\n",
    "\n",
    "\n",
    "(ここで、$n=nQ$は量子ビット数)。\n",
    "\n",
    "一例として、RB配列のそれぞれについて配列のフィデリティー平均を計算し、その結果を指数関数曲線に当てはめ、パラメータ$\\alpha$とEPCを計算します。\n",
    "\n"
   ]
  },
  {
   "cell_type": "code",
   "execution_count": 7,
   "metadata": {},
   "outputs": [
    {
     "name": "stdout",
     "output_type": "stream",
     "text": [
      "Compiling seed 0\n",
      "Simulating seed 0\n",
      "After seed 0, alpha: 0.981127, EPC: 0.014155\n",
      "Compiling seed 1\n",
      "Simulating seed 1\n",
      "After seed 1, alpha: 0.977603, EPC: 0.016798\n",
      "Compiling seed 2\n",
      "Simulating seed 2\n",
      "After seed 2, alpha: 0.980842, EPC: 0.014369\n",
      "Compiling seed 3\n",
      "Simulating seed 3\n",
      "After seed 3, alpha: 0.980397, EPC: 0.014702\n",
      "Compiling seed 4\n",
      "Simulating seed 4\n",
      "After seed 4, alpha: 0.980321, EPC: 0.014759\n"
     ]
    }
   ],
   "source": [
    "# Create the RB fitter\n",
    "backend = qiskit.Aer.get_backend('aer_simulator')\n",
    "basis_gates = ['u1','u2','u3','cx'] \n",
    "shots = 200\n",
    "transpiled_circs_list = []\n",
    "rb_fit = rb.RBFitter(None, xdata, rb_opts['rb_pattern'])\n",
    "for rb_seed, rb_circ_seed in enumerate(rb_circs):\n",
    "    print(f'Compiling seed {rb_seed}')\n",
    "    new_rb_circ_seed = qiskit.compiler.transpile(rb_circ_seed, basis_gates=basis_gates)\n",
    "    transpiled_circs_list.append(new_rb_circ_seed)\n",
    "    print(f'Simulating seed {rb_seed}')\n",
    "    qobj = assemble(new_rb_circ_seed, shots=shots)\n",
    "    job = backend.run(qobj,\n",
    "                      noise_model=noise_model,\n",
    "                      max_parallel_experiments=0)\n",
    "    # Add data to the fitter\n",
    "    rb_fit.add_data(job.result())\n",
    "    print('After seed %d, alpha: %f, EPC: %f'%(rb_seed,rb_fit.fit[0]['params'][1], rb_fit.fit[0]['epc']))"
   ]
  },
  {
   "cell_type": "markdown",
   "metadata": {},
   "source": [
    "### 追加ステップ: 結果のプロット"
   ]
  },
  {
   "cell_type": "code",
   "execution_count": 8,
   "metadata": {},
   "outputs": [
    {
     "data": {
      "image/svg+xml": [
       "<?xml version=\"1.0\" encoding=\"UTF-8\"?><!DOCTYPE svg  PUBLIC '-//W3C//DTD SVG 1.1//EN'  'http://www.w3.org/Graphics/SVG/1.1/DTD/svg11.dtd'><svg width=\"509.55pt\" height=\"400.27pt\" version=\"1.1\" viewBox=\"0 0 509.55 400.27\" xmlns=\"http://www.w3.org/2000/svg\" xmlns:xlink=\"http://www.w3.org/1999/xlink\"><defs><style type=\"text/css\">*{stroke-linecap:butt;stroke-linejoin:round;}</style></defs><path d=\"m0 400.27h509.55v-400.27h-509.55z\" fill=\"none\"/><path d=\"m55.949 353.04h446.4v-326.16h-446.4z\" fill=\"#ffffff\"/><path d=\"m74.201 353.04v-326.16\" clip-path=\"url(#p357ebbe9a1)\" fill=\"none\" stroke=\"#b0b0b0\" stroke-linecap=\"square\" stroke-width=\".8\"/><defs><path id=\"m63b1b07f1f\" d=\"m0 0v3.5\" stroke=\"#000000\" stroke-width=\".8\"/></defs><use x=\"74.200997\" y=\"353.037187\" stroke=\"#000000\" stroke-width=\".8\" xlink:href=\"#m63b1b07f1f\"/><g transform=\"translate(69.747 370.68) scale(.14 -.14)\"><defs><path id=\"DejaVuSans-48\" d=\"m31.781 66.406q-7.6094 0-11.453-7.5-3.8281-7.4844-3.8281-22.531 0-14.984 3.8281-22.484 3.8438-7.5 11.453-7.5 7.6719 0 11.5 7.5 3.8438 7.5 3.8438 22.484 0 15.047-3.8438 22.531-3.8281 7.5-11.5 7.5zm0 7.8125q12.266 0 18.734-9.7031 6.4688-9.6875 6.4688-28.141 0-18.406-6.4688-28.109-6.4688-9.6875-18.734-9.6875-12.25 0-18.719 9.6875-6.4688 9.7031-6.4688 28.109 0 18.453 6.4688 28.141 6.4688 9.7031 18.719 9.7031z\"/></defs><use xlink:href=\"#DejaVuSans-48\"/></g><path d=\"m125.18 353.04v-326.16\" clip-path=\"url(#p357ebbe9a1)\" fill=\"none\" stroke=\"#b0b0b0\" stroke-linecap=\"square\" stroke-width=\".8\"/><use x=\"125.18318\" y=\"353.037187\" stroke=\"#000000\" stroke-width=\".8\" xlink:href=\"#m63b1b07f1f\"/><g transform=\"translate(116.28 370.68) scale(.14 -.14)\"><defs><path id=\"DejaVuSans-50\" d=\"m19.188 8.2969h34.422v-8.2969h-46.281v8.2969q5.6094 5.8125 15.297 15.594 9.7031 9.7969 12.188 12.641 4.7344 5.3125 6.6094 9 1.8906 3.6875 1.8906 7.25 0 5.8125-4.0781 9.4688-4.0781 3.6719-10.625 3.6719-4.6406 0-9.7969-1.6094-5.1406-1.6094-11-4.8906v9.9688q5.9531 2.3906 11.125 3.6094 5.1875 1.2188 9.4844 1.2188 11.328 0 18.062-5.6719 6.7344-5.6562 6.7344-15.125 0-4.5-1.6875-8.5312-1.6719-4.0156-6.125-9.4844-1.2188-1.4219-7.7656-8.1875-6.5312-6.7656-18.453-18.922z\"/><path id=\"DejaVuSans-53\" d=\"m10.797 72.906h38.719v-8.3125h-29.688v-17.859q2.1406 0.73438 4.2812 1.0938 2.1562 0.35938 4.3125 0.35938 12.203 0 19.328-6.6875 7.1406-6.6875 7.1406-18.109 0-11.766-7.3281-18.297-7.3281-6.5156-20.656-6.5156-4.5938 0-9.3594 0.78125-4.75 0.78125-9.8281 2.3438v9.9219q4.3906-2.3906 9.0781-3.5625t9.9062-1.1719q8.4531 0 13.375 4.4375 4.9375 4.4375 4.9375 12.062 0 7.6094-4.9375 12.047-4.9219 4.4531-13.375 4.4531-3.9531 0-7.8906-0.875-3.9219-0.875-8.0156-2.7344z\"/></defs><use xlink:href=\"#DejaVuSans-50\"/><use x=\"63.623047\" xlink:href=\"#DejaVuSans-53\"/></g><path d=\"m176.17 353.04v-326.16\" clip-path=\"url(#p357ebbe9a1)\" fill=\"none\" stroke=\"#b0b0b0\" stroke-linecap=\"square\" stroke-width=\".8\"/><use x=\"176.165364\" y=\"353.037187\" stroke=\"#000000\" stroke-width=\".8\" xlink:href=\"#m63b1b07f1f\"/><g transform=\"translate(167.26 370.68) scale(.14 -.14)\"><use xlink:href=\"#DejaVuSans-53\"/><use x=\"63.623047\" xlink:href=\"#DejaVuSans-48\"/></g><path d=\"m227.15 353.04v-326.16\" clip-path=\"url(#p357ebbe9a1)\" fill=\"none\" stroke=\"#b0b0b0\" stroke-linecap=\"square\" stroke-width=\".8\"/><use x=\"227.147548\" y=\"353.037187\" stroke=\"#000000\" stroke-width=\".8\" xlink:href=\"#m63b1b07f1f\"/><g transform=\"translate(218.24 370.68) scale(.14 -.14)\"><defs><path id=\"DejaVuSans-55\" d=\"m8.2031 72.906h46.875v-4.2031l-26.469-68.703h-10.297l24.906 64.594h-35.016z\"/></defs><use xlink:href=\"#DejaVuSans-55\"/><use x=\"63.623047\" xlink:href=\"#DejaVuSans-53\"/></g><path d=\"m278.13 353.04v-326.16\" clip-path=\"url(#p357ebbe9a1)\" fill=\"none\" stroke=\"#b0b0b0\" stroke-linecap=\"square\" stroke-width=\".8\"/><use x=\"278.129731\" y=\"353.037187\" stroke=\"#000000\" stroke-width=\".8\" xlink:href=\"#m63b1b07f1f\"/><g transform=\"translate(264.77 370.68) scale(.14 -.14)\"><defs><path id=\"DejaVuSans-49\" d=\"m12.406 8.2969h16.109v55.625l-17.531-3.5156v8.9844l17.438 3.5156h9.8594v-64.609h16.109v-8.2969h-41.984z\"/></defs><use xlink:href=\"#DejaVuSans-49\"/><use x=\"63.623047\" xlink:href=\"#DejaVuSans-48\"/><use x=\"127.246094\" xlink:href=\"#DejaVuSans-48\"/></g><path d=\"m329.11 353.04v-326.16\" clip-path=\"url(#p357ebbe9a1)\" fill=\"none\" stroke=\"#b0b0b0\" stroke-linecap=\"square\" stroke-width=\".8\"/><use x=\"329.111915\" y=\"353.037187\" stroke=\"#000000\" stroke-width=\".8\" xlink:href=\"#m63b1b07f1f\"/><g transform=\"translate(315.75 370.68) scale(.14 -.14)\"><use xlink:href=\"#DejaVuSans-49\"/><use x=\"63.623047\" xlink:href=\"#DejaVuSans-50\"/><use x=\"127.246094\" xlink:href=\"#DejaVuSans-53\"/></g><path d=\"m380.09 353.04v-326.16\" clip-path=\"url(#p357ebbe9a1)\" fill=\"none\" stroke=\"#b0b0b0\" stroke-linecap=\"square\" stroke-width=\".8\"/><use x=\"380.094099\" y=\"353.037187\" stroke=\"#000000\" stroke-width=\".8\" xlink:href=\"#m63b1b07f1f\"/><g transform=\"translate(366.73 370.68) scale(.14 -.14)\"><use xlink:href=\"#DejaVuSans-49\"/><use x=\"63.623047\" xlink:href=\"#DejaVuSans-53\"/><use x=\"127.246094\" xlink:href=\"#DejaVuSans-48\"/></g><path d=\"m431.08 353.04v-326.16\" clip-path=\"url(#p357ebbe9a1)\" fill=\"none\" stroke=\"#b0b0b0\" stroke-linecap=\"square\" stroke-width=\".8\"/><use x=\"431.076282\" y=\"353.037187\" stroke=\"#000000\" stroke-width=\".8\" xlink:href=\"#m63b1b07f1f\"/><g transform=\"translate(417.72 370.68) scale(.14 -.14)\"><use xlink:href=\"#DejaVuSans-49\"/><use x=\"63.623047\" xlink:href=\"#DejaVuSans-55\"/><use x=\"127.246094\" xlink:href=\"#DejaVuSans-53\"/></g><path d=\"m482.06 353.04v-326.16\" clip-path=\"url(#p357ebbe9a1)\" fill=\"none\" stroke=\"#b0b0b0\" stroke-linecap=\"square\" stroke-width=\".8\"/><use x=\"482.058466\" y=\"353.037187\" stroke=\"#000000\" stroke-width=\".8\" xlink:href=\"#m63b1b07f1f\"/><g transform=\"translate(468.7 370.68) scale(.14 -.14)\"><use xlink:href=\"#DejaVuSans-50\"/><use x=\"63.623047\" xlink:href=\"#DejaVuSans-48\"/><use x=\"127.246094\" xlink:href=\"#DejaVuSans-48\"/></g><g transform=\"translate(220.23 389.74) scale(.16 -.16)\"><defs><path id=\"DejaVuSans-67\" d=\"m64.406 67.281v-10.391q-4.9844 4.6406-10.625 6.9219-5.6406 2.2969-11.984 2.2969-12.5 0-19.141-7.6406t-6.6406-22.094q0-14.406 6.6406-22.047t19.141-7.6406q6.3438 0 11.984 2.2969t10.625 6.9375v-10.312q-5.1719-3.5156-10.969-5.2812-5.7812-1.75-12.219-1.75-16.562 0-26.094 10.125-9.5156 10.141-9.5156 27.672 0 17.578 9.5156 27.703 9.5312 10.141 26.094 10.141 6.5312 0 12.312-1.7344 5.7969-1.7344 10.875-5.2031z\"/><path id=\"DejaVuSans-108\" d=\"m9.4219 75.984h8.9844v-75.984h-8.9844z\"/><path id=\"DejaVuSans-105\" d=\"m9.4219 54.688h8.9844v-54.688h-8.9844zm0 21.297h8.9844v-11.391h-8.9844z\"/><path id=\"DejaVuSans-102\" d=\"m37.109 75.984v-7.4844h-8.5938q-4.8281 0-6.7188-1.9531-1.875-1.9531-1.875-7.0312v-4.8281h14.797v-6.9844h-14.797v-47.703h-9.0312v47.703h-8.5938v6.9844h8.5938v3.8125q0 9.125 4.25 13.297 4.25 4.1875 13.469 4.1875z\"/><path id=\"DejaVuSans-111\" d=\"m30.609 48.391q-7.2188 0-11.422-5.6406t-4.2031-15.453 4.1719-15.453q4.1875-5.6406 11.453-5.6406 7.1875 0 11.375 5.6562 4.2031 5.6719 4.2031 15.438 0 9.7188-4.2031 15.406-4.1875 5.6875-11.375 5.6875zm0 7.6094q11.719 0 18.406-7.625 6.7031-7.6094 6.7031-21.078 0-13.422-6.7031-21.078-6.6875-7.6406-18.406-7.6406-11.766 0-18.438 7.6406-6.6562 7.6562-6.6562 21.078 0 13.469 6.6562 21.078 6.6719 7.625 18.438 7.625z\"/><path id=\"DejaVuSans-114\" d=\"m41.109 46.297q-1.5156 0.875-3.2969 1.2812-1.7812 0.42188-3.9219 0.42188-7.625 0-11.703-4.9531t-4.0781-14.234v-28.812h-9.0312v54.688h9.0312v-8.5q2.8438 4.9844 7.375 7.3906 4.5469 2.4219 11.047 2.4219 0.92188 0 2.0469-0.125 1.125-0.10938 2.4844-0.35938z\"/><path id=\"DejaVuSans-100\" d=\"m45.406 46.391v29.594h8.9844v-75.984h-8.9844v8.2031q-2.8281-4.875-7.1562-7.25-4.3125-2.375-10.375-2.375-9.9062 0-16.141 7.9062-6.2188 7.9219-6.2188 20.812t6.2188 20.797q6.2344 7.9062 16.141 7.9062 6.0625 0 10.375-2.375 4.3281-2.3594 7.1562-7.2344zm-30.609-19.094q0-9.9062 4.0781-15.547t11.203-5.6406 11.219 5.6406q4.1094 5.6406 4.1094 15.547t-4.1094 15.547q-4.0938 5.6406-11.219 5.6406t-11.203-5.6406-4.0781-15.547z\"/><path id=\"DejaVuSans-76\" d=\"m9.8125 72.906h9.8594v-64.609h35.5v-8.2969h-45.359z\"/><path id=\"DejaVuSans-101\" d=\"m56.203 29.594v-4.3906h-41.312q0.59375-9.2812 5.5938-14.141t13.938-4.8594q5.1719 0 10.031 1.2656t9.6562 3.8125v-8.5q-4.8438-2.0469-9.9219-3.125t-10.297-1.0781q-13.094 0-20.734 7.6094-7.6406 7.625-7.6406 20.625 0 13.422 7.25 21.297 7.25 7.8906 19.562 7.8906 11.031 0 17.453-7.1094 6.4219-7.0938 6.4219-19.297zm-8.9844 2.6406q-0.09375 7.3594-4.125 11.75-4.0312 4.4062-10.672 4.4062-7.5156 0-12.031-4.25t-5.2031-11.969z\"/><path id=\"DejaVuSans-110\" d=\"m54.891 33.016v-33.016h-8.9844v32.719q0 7.7656-3.0312 11.609-3.0312 3.8594-9.0781 3.8594-7.2812 0-11.484-4.6406-4.2031-4.625-4.2031-12.641v-30.906h-9.0312v54.688h9.0312v-8.5q3.2344 4.9375 7.5938 7.375 4.375 2.4375 10.094 2.4375 9.4219 0 14.25-5.8281 4.8438-5.8281 4.8438-17.156z\"/><path id=\"DejaVuSans-103\" d=\"m45.406 27.984q0 9.7656-4.0312 15.125-4.0156 5.375-11.297 5.375-7.2188 0-11.25-5.375-4.0312-5.3594-4.0312-15.125 0-9.7188 4.0312-15.094t11.25-5.375q7.2812 0 11.297 5.375 4.0312 5.375 4.0312 15.094zm8.9844-21.203q0-13.953-6.2031-20.766-6.1875-6.8125-18.984-6.8125-4.7344 0-8.9375 0.70312t-8.1562 2.1719v8.7344q3.9531-2.1406 7.8125-3.1562 3.8594-1.0312 7.8594-1.0312 8.8438 0 13.234 4.6094t4.3906 13.938v4.4531q-2.7812-4.8438-7.125-7.2344t-10.406-2.3906q-10.047 0-16.203 7.6562-6.1562 7.6719-6.1562 20.328 0 12.688 6.1562 20.344 6.1562 7.6719 16.203 7.6719 6.0625 0 10.406-2.3906t7.125-7.2188v8.2969h8.9844z\"/><path id=\"DejaVuSans-116\" d=\"m18.312 70.219v-15.531h18.5v-6.9844h-18.5v-29.688q0-6.6875 1.8281-8.5938t7.4531-1.9062h9.2188v-7.5156h-9.2188q-10.406 0-14.359 3.875-3.9531 3.8906-3.9531 14.141v29.688h-6.5938v6.9844h6.5938v15.531z\"/><path id=\"DejaVuSans-104\" d=\"m54.891 33.016v-33.016h-8.9844v32.719q0 7.7656-3.0312 11.609-3.0312 3.8594-9.0781 3.8594-7.2812 0-11.484-4.6406-4.2031-4.625-4.2031-12.641v-30.906h-9.0312v75.984h9.0312v-29.797q3.2344 4.9375 7.5938 7.375 4.375 2.4375 10.094 2.4375 9.4219 0 14.25-5.8281 4.8438-5.8281 4.8438-17.156z\"/></defs><use xlink:href=\"#DejaVuSans-67\"/><use x=\"69.824219\" xlink:href=\"#DejaVuSans-108\"/><use x=\"97.607422\" xlink:href=\"#DejaVuSans-105\"/><use x=\"125.390625\" xlink:href=\"#DejaVuSans-102\"/><use x=\"160.595703\" xlink:href=\"#DejaVuSans-102\"/><use x=\"195.800781\" xlink:href=\"#DejaVuSans-111\"/><use x=\"256.982422\" xlink:href=\"#DejaVuSans-114\"/><use x=\"296.345703\" xlink:href=\"#DejaVuSans-100\"/><use x=\"359.822266\" xlink:href=\"#DejaVuSans-32\"/><use x=\"391.609375\" xlink:href=\"#DejaVuSans-76\"/><use x=\"445.572266\" xlink:href=\"#DejaVuSans-101\"/><use x=\"507.095703\" xlink:href=\"#DejaVuSans-110\"/><use x=\"570.474609\" xlink:href=\"#DejaVuSans-103\"/><use x=\"633.951172\" xlink:href=\"#DejaVuSans-116\"/><use x=\"673.160156\" xlink:href=\"#DejaVuSans-104\"/></g><path d=\"m55.949 347.97h446.4\" clip-path=\"url(#p357ebbe9a1)\" fill=\"none\" stroke=\"#b0b0b0\" stroke-linecap=\"square\" stroke-width=\".8\"/><defs><path id=\"m99eda5f566\" d=\"m0 0h-3.5\" stroke=\"#000000\" stroke-width=\".8\"/></defs><use x=\"55.949375\" y=\"347.965321\" stroke=\"#000000\" stroke-width=\".8\" xlink:href=\"#m99eda5f566\"/><g transform=\"translate(26.685 353.28) scale(.14 -.14)\"><defs><path id=\"DejaVuSans-46\" d=\"m10.688 12.406h10.312v-12.406h-10.312z\"/></defs><use xlink:href=\"#DejaVuSans-48\"/><use x=\"63.623047\" xlink:href=\"#DejaVuSans-46\"/><use x=\"95.410156\" xlink:href=\"#DejaVuSans-50\"/></g><path d=\"m55.949 308.95h446.4\" clip-path=\"url(#p357ebbe9a1)\" fill=\"none\" stroke=\"#b0b0b0\" stroke-linecap=\"square\" stroke-width=\".8\"/><use x=\"55.949375\" y=\"308.950967\" stroke=\"#000000\" stroke-width=\".8\" xlink:href=\"#m99eda5f566\"/><g transform=\"translate(26.685 314.27) scale(.14 -.14)\"><defs><path id=\"DejaVuSans-51\" d=\"m40.578 39.312q7.0781-1.5156 11.047-6.3125 3.9844-4.7812 3.9844-11.812 0-10.781-7.4219-16.703-7.4219-5.9062-21.094-5.9062-4.5781 0-9.4375 0.90625t-10.031 2.7188v9.5156q4.0938-2.3906 8.9688-3.6094 4.8906-1.2188 10.219-1.2188 9.2656 0 14.125 3.6562t4.8594 10.641q0 6.4531-4.5156 10.078-4.5156 3.6406-12.562 3.6406h-8.5v8.1094h8.8906q7.2656 0 11.125 2.9062t3.8594 8.375q0 5.6094-3.9844 8.6094-3.9688 3.0156-11.391 3.0156-4.0625 0-8.7031-0.89062-4.6406-0.875-10.203-2.7188v8.7812q5.625 1.5625 10.531 2.3438t9.25 0.78125q11.234 0 17.766-5.1094 6.5469-5.0938 6.5469-13.781 0-6.0625-3.4688-10.234t-9.8594-5.7812z\"/></defs><use xlink:href=\"#DejaVuSans-48\"/><use x=\"63.623047\" xlink:href=\"#DejaVuSans-46\"/><use x=\"95.410156\" xlink:href=\"#DejaVuSans-51\"/></g><path d=\"m55.949 269.94h446.4\" clip-path=\"url(#p357ebbe9a1)\" fill=\"none\" stroke=\"#b0b0b0\" stroke-linecap=\"square\" stroke-width=\".8\"/><use x=\"55.949375\" y=\"269.936613\" stroke=\"#000000\" stroke-width=\".8\" xlink:href=\"#m99eda5f566\"/><g transform=\"translate(26.685 275.26) scale(.14 -.14)\"><defs><path id=\"DejaVuSans-52\" d=\"m37.797 64.312-24.906-38.922h24.906zm-2.5938 8.5938h12.406v-47.516h10.406v-8.2031h-10.406v-17.188h-9.8125v17.188h-32.906v9.5156z\"/></defs><use xlink:href=\"#DejaVuSans-48\"/><use x=\"63.623047\" xlink:href=\"#DejaVuSans-46\"/><use x=\"95.410156\" xlink:href=\"#DejaVuSans-52\"/></g><path d=\"m55.949 230.92h446.4\" clip-path=\"url(#p357ebbe9a1)\" fill=\"none\" stroke=\"#b0b0b0\" stroke-linecap=\"square\" stroke-width=\".8\"/><use x=\"55.949375\" y=\"230.922259\" stroke=\"#000000\" stroke-width=\".8\" xlink:href=\"#m99eda5f566\"/><g transform=\"translate(26.685 236.24) scale(.14 -.14)\"><use xlink:href=\"#DejaVuSans-48\"/><use x=\"63.623047\" xlink:href=\"#DejaVuSans-46\"/><use x=\"95.410156\" xlink:href=\"#DejaVuSans-53\"/></g><path d=\"m55.949 191.91h446.4\" clip-path=\"url(#p357ebbe9a1)\" fill=\"none\" stroke=\"#b0b0b0\" stroke-linecap=\"square\" stroke-width=\".8\"/><use x=\"55.949375\" y=\"191.907905\" stroke=\"#000000\" stroke-width=\".8\" xlink:href=\"#m99eda5f566\"/><g transform=\"translate(26.685 197.23) scale(.14 -.14)\"><defs><path id=\"DejaVuSans-54\" d=\"m33.016 40.375q-6.6406 0-10.531-4.5469-3.875-4.5312-3.875-12.438 0-7.8594 3.875-12.438 3.8906-4.5625 10.531-4.5625t10.516 4.5625q3.875 4.5781 3.875 12.438 0 7.9062-3.875 12.438-3.875 4.5469-10.516 4.5469zm19.578 30.922v-8.9844q-3.7188 1.75-7.5 2.6719-3.7812 0.9375-7.5 0.9375-9.7656 0-14.922-6.5938-5.1406-6.5938-5.875-19.922 2.875 4.25 7.2188 6.5156 4.3594 2.2656 9.5781 2.2656 10.984 0 17.359-6.6719 6.375-6.6562 6.375-18.125 0-11.234-6.6406-18.031-6.6406-6.7812-17.672-6.7812-12.656 0-19.344 9.6875-6.6875 9.7031-6.6875 28.109 0 17.281 8.2031 27.562t22.016 10.281q3.7188 0 7.5-0.73438t7.8906-2.1875z\"/></defs><use xlink:href=\"#DejaVuSans-48\"/><use x=\"63.623047\" xlink:href=\"#DejaVuSans-46\"/><use x=\"95.410156\" xlink:href=\"#DejaVuSans-54\"/></g><path d=\"m55.949 152.89h446.4\" clip-path=\"url(#p357ebbe9a1)\" fill=\"none\" stroke=\"#b0b0b0\" stroke-linecap=\"square\" stroke-width=\".8\"/><use x=\"55.949375\" y=\"152.893551\" stroke=\"#000000\" stroke-width=\".8\" xlink:href=\"#m99eda5f566\"/><g transform=\"translate(26.685 158.21) scale(.14 -.14)\"><use xlink:href=\"#DejaVuSans-48\"/><use x=\"63.623047\" xlink:href=\"#DejaVuSans-46\"/><use x=\"95.410156\" xlink:href=\"#DejaVuSans-55\"/></g><path d=\"m55.949 113.88h446.4\" clip-path=\"url(#p357ebbe9a1)\" fill=\"none\" stroke=\"#b0b0b0\" stroke-linecap=\"square\" stroke-width=\".8\"/><use x=\"55.949375\" y=\"113.879197\" stroke=\"#000000\" stroke-width=\".8\" xlink:href=\"#m99eda5f566\"/><g transform=\"translate(26.685 119.2) scale(.14 -.14)\"><defs><path id=\"DejaVuSans-56\" d=\"m31.781 34.625q-7.0312 0-11.062-3.7656-4.0156-3.7656-4.0156-10.344 0-6.5938 4.0156-10.359 4.0312-3.7656 11.062-3.7656t11.078 3.7812q4.0625 3.7969 4.0625 10.344 0 6.5781-4.0312 10.344-4.0156 3.7656-11.109 3.7656zm-9.8594 4.1875q-6.3438 1.5625-9.8906 5.9062-3.5312 4.3594-3.5312 10.609 0 8.7344 6.2188 13.812 6.2344 5.0781 17.062 5.0781 10.891 0 17.094-5.0781t6.2031-13.812q0-6.25-3.5469-10.609-3.5312-4.3438-9.8281-5.9062 7.125-1.6562 11.094-6.5 3.9844-4.8281 3.9844-11.797 0-10.609-6.4688-16.281-6.4688-5.6562-18.531-5.6562-12.047 0-18.531 5.6562-6.4688 5.6719-6.4688 16.281 0 6.9688 4 11.797 4.0156 4.8438 11.141 6.5zm-3.6094 15.578q0-5.6562 3.5312-8.8281 3.5469-3.1719 9.9375-3.1719 6.3594 0 9.9375 3.1719 3.5938 3.1719 3.5938 8.8281 0 5.6719-3.5938 8.8438-3.5781 3.1719-9.9375 3.1719-6.3906 0-9.9375-3.1719-3.5312-3.1719-3.5312-8.8438z\"/></defs><use xlink:href=\"#DejaVuSans-48\"/><use x=\"63.623047\" xlink:href=\"#DejaVuSans-46\"/><use x=\"95.410156\" xlink:href=\"#DejaVuSans-56\"/></g><path d=\"m55.949 74.865h446.4\" clip-path=\"url(#p357ebbe9a1)\" fill=\"none\" stroke=\"#b0b0b0\" stroke-linecap=\"square\" stroke-width=\".8\"/><use x=\"55.949375\" y=\"74.864843\" stroke=\"#000000\" stroke-width=\".8\" xlink:href=\"#m99eda5f566\"/><g transform=\"translate(26.685 80.184) scale(.14 -.14)\"><defs><path id=\"DejaVuSans-57\" d=\"m10.984 1.5156v8.9844q3.7188-1.7656 7.5156-2.6875 3.8125-0.92188 7.4844-0.92188 9.7656 0 14.906 6.5625 5.1562 6.5625 5.8906 19.953-2.8281-4.2031-7.1875-6.4531-4.3438-2.25-9.6094-2.25-10.938 0-17.312 6.6094-6.375 6.625-6.375 18.109 0 11.219 6.6406 18 6.6406 6.7969 17.672 6.7969 12.656 0 19.312-9.7031 6.6719-9.6875 6.6719-28.141 0-17.234-8.1875-27.516-8.1719-10.281-21.984-10.281-3.7188 0-7.5312 0.73438-3.7969 0.73438-7.9062 2.2031zm19.625 30.906q6.6406 0 10.516 4.5312 3.8906 4.5469 3.8906 12.469 0 7.8594-3.8906 12.422-3.875 4.5625-10.516 4.5625t-10.516-4.5625-3.875-12.422q0-7.9219 3.875-12.469 3.875-4.5312 10.516-4.5312z\"/></defs><use xlink:href=\"#DejaVuSans-48\"/><use x=\"63.623047\" xlink:href=\"#DejaVuSans-46\"/><use x=\"95.410156\" xlink:href=\"#DejaVuSans-57\"/></g><path d=\"m55.949 35.85h446.4\" clip-path=\"url(#p357ebbe9a1)\" fill=\"none\" stroke=\"#b0b0b0\" stroke-linecap=\"square\" stroke-width=\".8\"/><use x=\"55.949375\" y=\"35.850489\" stroke=\"#000000\" stroke-width=\".8\" xlink:href=\"#m99eda5f566\"/><g transform=\"translate(26.685 41.169) scale(.14 -.14)\"><use xlink:href=\"#DejaVuSans-49\"/><use x=\"63.623047\" xlink:href=\"#DejaVuSans-46\"/><use x=\"95.410156\" xlink:href=\"#DejaVuSans-48\"/></g><g transform=\"translate(19.358 287.67) rotate(-90) scale(.16 -.16)\"><defs><path id=\"DejaVuSans-71\" d=\"m59.516 10.406v19.578h-16.109v8.1094h25.875v-31.312q-5.7031-4.0469-12.594-6.125-6.875-2.0781-14.688-2.0781-17.094 0-26.75 9.9844-9.6406 10-9.6406 27.812 0 17.875 9.6406 27.859 9.6562 9.9844 26.75 9.9844 7.125 0 13.547-1.7656 6.4219-1.75 11.844-5.1719v-10.5q-5.4688 4.6406-11.625 6.9844t-12.938 2.3438q-13.391 0-20.109-7.4688-6.7031-7.4688-6.7031-22.266 0-14.75 6.7031-22.219 6.7188-7.4688 20.109-7.4688 5.2188 0 9.3125 0.90625 4.1094 0.90625 7.375 2.8125z\"/><path id=\"DejaVuSans-117\" d=\"m8.5 21.578v33.109h8.9844v-32.766q0-7.7656 3.0156-11.656 3.0312-3.875 9.0938-3.875 7.2656 0 11.484 4.6406 4.2344 4.6406 4.2344 12.656v31h8.9844v-54.688h-8.9844v8.4062q-3.2656-4.9844-7.5938-7.4062-4.3125-2.4219-10.031-2.4219-9.4219 0-14.312 5.8594-4.875 5.8594-4.875 17.141z\"/><path id=\"DejaVuSans-83\" d=\"m53.516 70.516v-9.625q-5.6094 2.6875-10.594 4-4.9844 1.3281-9.625 1.3281-8.0469 0-12.422-3.125t-4.375-8.8906q0-4.8438 2.9062-7.3125 2.9062-2.4531 11.016-3.9688l5.9531-1.2188q11.031-2.1094 16.281-7.4062t5.25-14.172q0-10.609-7.1094-16.078-7.0938-5.4688-20.812-5.4688-5.1719 0-11.016 1.1719-5.8281 1.1719-12.078 3.4688v10.156q6-3.3594 11.766-5.0781 5.7656-1.7031 11.328-1.7031 8.4375 0 13.031 3.3125 4.5938 3.3281 4.5938 9.4844 0 5.3594-3.2969 8.3906t-10.812 4.5469l-6.0156 1.1719q-11.031 2.1875-15.969 6.875-4.9219 4.6875-4.9219 13.047 0 9.6719 6.8125 15.234t18.766 5.5625q5.1406 0 10.453-0.9375 5.3281-0.92188 10.891-2.7656z\"/><path id=\"DejaVuSans-97\" d=\"m34.281 27.484q-10.891 0-15.094-2.4844t-4.2031-8.5q0-4.7812 3.1562-7.5938 3.1562-2.7969 8.5625-2.7969 7.4844 0 12 5.2969t4.5156 14.078v2zm17.922 3.7188v-31.203h-8.9844v8.2969q-3.0781-4.9688-7.6719-7.3438t-11.234-2.375q-8.3906 0-13.359 4.7188-4.9531 4.7188-4.9531 12.625 0 9.2188 6.1719 13.906 6.1875 4.6875 18.438 4.6875h12.609v0.89062q0 6.2031-4.0781 9.5938t-11.453 3.3906q-4.6875 0-9.1406-1.125-4.4375-1.125-8.5312-3.375v8.3125q4.9219 1.9062 9.5625 2.8438 4.6406 0.95312 9.0312 0.95312 11.875 0 17.734-6.1562 5.8594-6.1406 5.8594-18.641z\"/><path id=\"DejaVuSans-80\" d=\"m19.672 64.797v-27.391h12.406q6.8906 0 10.641 3.5625 3.7656 3.5625 3.7656 10.156 0 6.5469-3.7656 10.109-3.75 3.5625-10.641 3.5625zm-9.8594 8.1094h22.266q12.266 0 18.531-5.5469 6.2812-5.5469 6.2812-16.234 0-10.797-6.2812-16.312-6.2656-5.5156-18.531-5.5156h-12.406v-29.297h-9.8594z\"/><path id=\"DejaVuSans-112\" d=\"m18.109 8.2031v-29h-9.0312v75.484h9.0312v-8.2969q2.8438 4.875 7.1562 7.2344 4.3281 2.375 10.328 2.375 9.9688 0 16.188-7.9062 6.2344-7.9062 6.2344-20.797t-6.2344-20.812q-6.2188-7.9062-16.188-7.9062-6 0-10.328 2.375-4.3125 2.375-7.1562 7.25zm30.578 19.094q0 9.9062-4.0781 15.547t-11.203 5.6406q-7.1406 0-11.219-5.6406t-4.0781-15.547 4.0781-15.547 11.219-5.6406q7.125 0 11.203 5.6406t4.0781 15.547z\"/></defs><use xlink:href=\"#DejaVuSans-71\"/><use x=\"77.490234\" xlink:href=\"#DejaVuSans-114\"/><use x=\"116.353516\" xlink:href=\"#DejaVuSans-111\"/><use x=\"177.535156\" xlink:href=\"#DejaVuSans-117\"/><use x=\"240.914062\" xlink:href=\"#DejaVuSans-110\"/><use x=\"304.292969\" xlink:href=\"#DejaVuSans-100\"/><use x=\"367.769531\" xlink:href=\"#DejaVuSans-32\"/><use x=\"399.556641\" xlink:href=\"#DejaVuSans-83\"/><use x=\"463.033203\" xlink:href=\"#DejaVuSans-116\"/><use x=\"502.242188\" xlink:href=\"#DejaVuSans-97\"/><use x=\"563.521484\" xlink:href=\"#DejaVuSans-116\"/><use x=\"602.730469\" xlink:href=\"#DejaVuSans-101\"/><use x=\"664.253906\" xlink:href=\"#DejaVuSans-32\"/><use x=\"696.041016\" xlink:href=\"#DejaVuSans-80\"/><use x=\"752.71875\" xlink:href=\"#DejaVuSans-111\"/><use x=\"813.900391\" xlink:href=\"#DejaVuSans-112\"/><use x=\"877.376953\" xlink:href=\"#DejaVuSans-117\"/><use x=\"940.755859\" xlink:href=\"#DejaVuSans-108\"/><use x=\"968.539062\" xlink:href=\"#DejaVuSans-97\"/><use x=\"1029.818359\" xlink:href=\"#DejaVuSans-116\"/><use x=\"1069.027344\" xlink:href=\"#DejaVuSans-105\"/><use x=\"1096.810547\" xlink:href=\"#DejaVuSans-111\"/><use x=\"1157.992188\" xlink:href=\"#DejaVuSans-110\"/></g><g fill=\"none\" stroke=\"#ff0000\" stroke-width=\"3\"><path d=\"m76.24 56.485v-13.958\" clip-path=\"url(#p357ebbe9a1)\"/><path d=\"m94.594 105.7v-17.202\" clip-path=\"url(#p357ebbe9a1)\"/><path d=\"m114.99 166.66v-36.897\" clip-path=\"url(#p357ebbe9a1)\"/><path d=\"m176.17 232.86v-34.315\" clip-path=\"url(#p357ebbe9a1)\"/><path d=\"m227.15 281.74v-26.736\" clip-path=\"url(#p357ebbe9a1)\"/><path d=\"m278.13 304.82v-27.631\" clip-path=\"url(#p357ebbe9a1)\"/><path d=\"m329.11 320.23v-23.33\" clip-path=\"url(#p357ebbe9a1)\"/><path d=\"m380.09 320.27v-14.045\" clip-path=\"url(#p357ebbe9a1)\"/><path d=\"m431.08 334.18v-26.276\" clip-path=\"url(#p357ebbe9a1)\"/><path d=\"m482.06 335.34v-16.105\" clip-path=\"url(#p357ebbe9a1)\"/></g><defs><path id=\"mc75923f989\" d=\"m-3 3 6-6m-6 0 6 6\" stroke=\"#808080\"/></defs><g clip-path=\"url(#p357ebbe9a1)\" fill=\"#808080\" stroke=\"#808080\"><use x=\"76.240284\" y=\"61.209819\" xlink:href=\"#mc75923f989\"/><use x=\"94.59387\" y=\"98.273455\" xlink:href=\"#mc75923f989\"/><use x=\"114.986744\" y=\"162.64714\" xlink:href=\"#mc75923f989\"/><use x=\"176.165364\" y=\"203.612211\" xlink:href=\"#mc75923f989\"/><use x=\"227.147548\" y=\"260.183025\" xlink:href=\"#mc75923f989\"/><use x=\"278.129731\" y=\"279.690202\" xlink:href=\"#mc75923f989\"/><use x=\"329.111915\" y=\"316.753838\" xlink:href=\"#mc75923f989\"/><use x=\"380.094099\" y=\"312.852403\" xlink:href=\"#mc75923f989\"/><use x=\"431.076282\" y=\"301.148097\" xlink:href=\"#mc75923f989\"/><use x=\"482.058466\" y=\"316.753838\" xlink:href=\"#mc75923f989\"/></g><g clip-path=\"url(#p357ebbe9a1)\" fill=\"#808080\" stroke=\"#808080\"><use x=\"76.240284\" y=\"45.604077\" xlink:href=\"#mc75923f989\"/><use x=\"94.59387\" y=\"104.125609\" xlink:href=\"#mc75923f989\"/><use x=\"114.986744\" y=\"170.45001\" xlink:href=\"#mc75923f989\"/><use x=\"176.165364\" y=\"234.823695\" xlink:href=\"#mc75923f989\"/><use x=\"227.147548\" y=\"266.035178\" xlink:href=\"#mc75923f989\"/><use x=\"278.129731\" y=\"305.049532\" xlink:href=\"#mc75923f989\"/><use x=\"329.111915\" y=\"303.098814\" xlink:href=\"#mc75923f989\"/><use x=\"380.094099\" y=\"307.00025\" xlink:href=\"#mc75923f989\"/><use x=\"431.076282\" y=\"332.35958\" xlink:href=\"#mc75923f989\"/><use x=\"482.058466\" y=\"334.310298\" xlink:href=\"#mc75923f989\"/></g><g clip-path=\"url(#p357ebbe9a1)\" fill=\"#808080\" stroke=\"#808080\"><use x=\"76.240284\" y=\"53.406948\" xlink:href=\"#mc75923f989\"/><use x=\"94.59387\" y=\"108.027044\" xlink:href=\"#mc75923f989\"/><use x=\"114.986744\" y=\"129.484939\" xlink:href=\"#mc75923f989\"/><use x=\"176.165364\" y=\"189.957187\" xlink:href=\"#mc75923f989\"/><use x=\"227.147548\" y=\"254.330872\" xlink:href=\"#mc75923f989\"/><use x=\"278.129731\" y=\"287.493073\" xlink:href=\"#mc75923f989\"/><use x=\"329.111915\" y=\"326.507427\" xlink:href=\"#mc75923f989\"/><use x=\"380.094099\" y=\"305.049532\" xlink:href=\"#mc75923f989\"/><use x=\"431.076282\" y=\"338.211733\" xlink:href=\"#mc75923f989\"/><use x=\"482.058466\" y=\"330.408862\" xlink:href=\"#mc75923f989\"/></g><g clip-path=\"url(#p357ebbe9a1)\" fill=\"#808080\" stroke=\"#808080\"><use x=\"76.240284\" y=\"45.604077\" xlink:href=\"#mc75923f989\"/><use x=\"94.59387\" y=\"90.470585\" xlink:href=\"#mc75923f989\"/><use x=\"114.986744\" y=\"123.632786\" xlink:href=\"#mc75923f989\"/><use x=\"176.165364\" y=\"217.267235\" xlink:href=\"#mc75923f989\"/><use x=\"227.147548\" y=\"293.345226\" xlink:href=\"#mc75923f989\"/><use x=\"278.129731\" y=\"273.838049\" xlink:href=\"#mc75923f989\"/><use x=\"329.111915\" y=\"303.098814\" xlink:href=\"#mc75923f989\"/><use x=\"380.094099\" y=\"316.753838\" xlink:href=\"#mc75923f989\"/><use x=\"431.076282\" y=\"318.704556\" xlink:href=\"#mc75923f989\"/><use x=\"482.058466\" y=\"318.704556\" xlink:href=\"#mc75923f989\"/></g><g clip-path=\"url(#p357ebbe9a1)\" fill=\"#808080\" stroke=\"#808080\"><use x=\"76.240284\" y=\"41.702642\" xlink:href=\"#mc75923f989\"/><use x=\"94.59387\" y=\"84.618432\" xlink:href=\"#mc75923f989\"/><use x=\"114.986744\" y=\"154.844269\" xlink:href=\"#mc75923f989\"/><use x=\"176.165364\" y=\"232.872977\" xlink:href=\"#mc75923f989\"/><use x=\"227.147548\" y=\"267.985896\" xlink:href=\"#mc75923f989\"/><use x=\"278.129731\" y=\"308.950967\" xlink:href=\"#mc75923f989\"/><use x=\"329.111915\" y=\"293.345226\" xlink:href=\"#mc75923f989\"/><use x=\"380.094099\" y=\"324.556709\" xlink:href=\"#mc75923f989\"/><use x=\"431.076282\" y=\"314.803121\" xlink:href=\"#mc75923f989\"/><use x=\"482.058466\" y=\"336.261015\" xlink:href=\"#mc75923f989\"/></g><path d=\"m76.24 50.46 18.354 45.831 20.393 42.175 61.179 86.147 50.982 41.375 50.982 25.173 50.982 15.316 50.982 9.3187 50.982 5.6698 50.982 3.4496\" clip-path=\"url(#p357ebbe9a1)\" fill=\"none\" stroke=\"#0000ff\" stroke-linecap=\"square\" stroke-width=\"2\"/><path d=\"m76.24 49.506 18.354 47.598 20.393 51.109 61.179 67.495 50.982 52.669 50.982 22.628 50.982 17.556 50.982 4.6817 50.982 7.8029 50.982 6.2423\" clip-path=\"url(#p357ebbe9a1)\" fill=\"none\" stroke=\"#ff0000\" stroke-dasharray=\"11.1,4.8\" stroke-width=\"3\"/><path d=\"m55.949 353.04v-326.16\" fill=\"none\" stroke=\"#000000\" stroke-linecap=\"square\" stroke-width=\".8\"/><path d=\"m502.35 353.04v-326.16\" fill=\"none\" stroke=\"#000000\" stroke-linecap=\"square\" stroke-width=\".8\"/><path d=\"m55.949 353.04h446.4\" fill=\"none\" stroke=\"#000000\" stroke-linecap=\"square\" stroke-width=\".8\"/><path d=\"m55.949 26.877h446.4\" fill=\"none\" stroke=\"#000000\" stroke-linecap=\"square\" stroke-width=\".8\"/><path d=\"m158.97 70.468h329.63q4.2 0 4.2-4.2v-13.549q0-4.2-4.2-4.2h-329.63q-4.2 0-4.2 4.2v13.549q0 4.2 4.2 4.2z\" fill=\"#ffffff\" stroke=\"#000000\" stroke-width=\"2\"/><g transform=\"translate(158.97 63.356) scale(.14 -.14)\"><defs><path id=\"DejaVuSans-58\" d=\"m11.719 12.406h10.297v-12.406h-10.297zm0 39.297h10.297v-12.391h-10.297z\"/><path id=\"DejaVuSans-40\" d=\"m31 75.875q-6.5312-11.219-9.7188-22.219-3.1719-10.984-3.1719-22.266 0-11.266 3.2031-22.328t9.6875-22.25h-7.8125q-7.3125 11.484-10.953 22.562t-3.6406 22.016q0 10.891 3.6094 21.922 3.625 11.047 10.984 22.562z\"/><path id=\"DejaVuSans-45\" d=\"m4.8906 31.391h26.312v-8h-26.312z\"/><path id=\"DejaVuSans-41\" d=\"m8.0156 75.875h7.8125q7.3125-11.516 10.953-22.562 3.6406-11.031 3.6406-21.922 0-10.938-3.6406-22.016t-10.953-22.562h-7.8125q6.4844 11.188 9.6875 22.25t3.2031 22.328q0 11.281-3.2031 22.266-3.2031 11-9.6875 22.219z\"/><path id=\"DejaVuSans-69\" d=\"m9.8125 72.906h46.094v-8.3125h-36.234v-21.578h34.719v-8.2969h-34.719v-26.422h37.109v-8.2969h-46.969z\"/></defs><use xlink:href=\"#DejaVuSans-97\"/><use x=\"61.279297\" xlink:href=\"#DejaVuSans-108\"/><use x=\"89.0625\" xlink:href=\"#DejaVuSans-112\"/><use x=\"152.539062\" xlink:href=\"#DejaVuSans-104\"/><use x=\"215.917969\" xlink:href=\"#DejaVuSans-97\"/><use x=\"277.197266\" xlink:href=\"#DejaVuSans-58\"/><use x=\"310.888672\" xlink:href=\"#DejaVuSans-32\"/><use x=\"342.675781\" xlink:href=\"#DejaVuSans-48\"/><use x=\"406.298828\" xlink:href=\"#DejaVuSans-46\"/><use x=\"438.085938\" xlink:href=\"#DejaVuSans-57\"/><use x=\"501.708984\" xlink:href=\"#DejaVuSans-56\"/><use x=\"565.332031\" xlink:href=\"#DejaVuSans-48\"/><use x=\"628.955078\" xlink:href=\"#DejaVuSans-40\"/><use x=\"667.96875\" xlink:href=\"#DejaVuSans-56\"/><use x=\"731.591797\" xlink:href=\"#DejaVuSans-46\"/><use x=\"763.378906\" xlink:href=\"#DejaVuSans-51\"/><use x=\"827.001953\" xlink:href=\"#DejaVuSans-101\"/><use x=\"888.525391\" xlink:href=\"#DejaVuSans-45\"/><use x=\"924.609375\" xlink:href=\"#DejaVuSans-48\"/><use x=\"988.232422\" xlink:href=\"#DejaVuSans-52\"/><use x=\"1051.855469\" xlink:href=\"#DejaVuSans-41\"/><use x=\"1090.869141\" xlink:href=\"#DejaVuSans-32\"/><use x=\"1122.65625\" xlink:href=\"#DejaVuSans-69\"/><use x=\"1185.839844\" xlink:href=\"#DejaVuSans-80\"/><use x=\"1246.142578\" xlink:href=\"#DejaVuSans-67\"/><use x=\"1315.966797\" xlink:href=\"#DejaVuSans-58\"/><use x=\"1349.658203\" xlink:href=\"#DejaVuSans-32\"/><use x=\"1381.445312\" xlink:href=\"#DejaVuSans-49\"/><use x=\"1445.068359\" xlink:href=\"#DejaVuSans-46\"/><use x=\"1476.855469\" xlink:href=\"#DejaVuSans-52\"/><use x=\"1540.478516\" xlink:href=\"#DejaVuSans-55\"/><use x=\"1604.101562\" xlink:href=\"#DejaVuSans-54\"/><use x=\"1667.724609\" xlink:href=\"#DejaVuSans-101\"/><use x=\"1729.248047\" xlink:href=\"#DejaVuSans-45\"/><use x=\"1765.332031\" xlink:href=\"#DejaVuSans-48\"/><use x=\"1828.955078\" xlink:href=\"#DejaVuSans-50\"/><use x=\"1892.578125\" xlink:href=\"#DejaVuSans-40\"/><use x=\"1931.591797\" xlink:href=\"#DejaVuSans-54\"/><use x=\"1995.214844\" xlink:href=\"#DejaVuSans-46\"/><use x=\"2027.001953\" xlink:href=\"#DejaVuSans-52\"/><use x=\"2090.625\" xlink:href=\"#DejaVuSans-101\"/><use x=\"2152.148438\" xlink:href=\"#DejaVuSans-45\"/><use x=\"2188.232422\" xlink:href=\"#DejaVuSans-48\"/><use x=\"2251.855469\" xlink:href=\"#DejaVuSans-52\"/><use x=\"2315.478516\" xlink:href=\"#DejaVuSans-41\"/></g><g transform=\"translate(230.74 20.877) scale(.18 -.18)\"><defs><path id=\"DejaVuSans-81\" d=\"m39.406 66.219q-10.75 0-17.078-8.0156-6.3125-8-6.3125-21.828 0-13.766 6.3125-21.781 6.3281-8 17.078-8 10.734 0 17.016 8 6.2812 8.0156 6.2812 21.781 0 13.828-6.2812 21.828-6.2812 8.0156-17.016 8.0156zm13.812-64.906 13-14.203h-11.922l-10.797 11.672q-1.6094-0.09375-2.4688-0.14062-0.84375-0.0625-1.625-0.0625-15.375 0-24.594 10.281-9.2031 10.281-9.2031 27.516 0 17.281 9.2031 27.562 9.2188 10.281 24.594 10.281 15.328 0 24.5-10.281 9.1875-10.281 9.1875-27.562 0-12.688-5.1094-21.734-5.0938-9.0312-14.766-13.328z\"/><path id=\"DejaVuSans-98\" d=\"m48.688 27.297q0 9.9062-4.0781 15.547t-11.203 5.6406q-7.1406 0-11.219-5.6406t-4.0781-15.547 4.0781-15.547 11.219-5.6406q7.125 0 11.203 5.6406t4.0781 15.547zm-30.578 19.094q2.8438 4.875 7.1562 7.2344 4.3281 2.375 10.328 2.375 9.9688 0 16.188-7.9062 6.2344-7.9062 6.2344-20.797t-6.2344-20.812q-6.2188-7.9062-16.188-7.9062-6 0-10.328 2.375-4.3125 2.375-7.1562 7.25v-8.2031h-9.0312v75.984h9.0312z\"/><path id=\"DejaVuSans-82\" d=\"m44.391 34.188q3.1719-1.0781 6.1719-4.5938t6.0312-9.6719l10.016-19.922h-10.609l-9.3125 18.703q-3.625 7.3281-7.0156 9.7188t-9.25 2.3906h-10.75v-30.812h-9.8594v72.906h22.266q12.5 0 18.656-5.2344 6.1562-5.2188 6.1562-15.766 0-6.8906-3.2031-11.438-3.2031-4.5312-9.2969-6.2812zm-24.719 30.609v-25.875h12.406q7.125 0 10.766 3.2969t3.6406 9.6875-3.6406 9.6406-10.766 3.25z\"/><path id=\"DejaVuSans-66\" d=\"m19.672 34.812v-26.703h15.828q7.9531 0 11.781 3.2969 3.8438 3.2969 3.8438 10.078 0 6.8438-3.8438 10.078-3.8281 3.25-11.781 3.25zm0 29.984v-21.969h14.609q7.2188 0 10.75 2.7031 3.5469 2.7188 3.5469 8.2812 0 5.5156-3.5469 8.25-3.5312 2.7344-10.75 2.7344zm-9.8594 8.1094h25.203q11.281 0 17.375-4.6875 6.1094-4.6875 6.1094-13.328 0-6.7031-3.125-10.656t-9.1875-4.9219q7.2812-1.5625 11.312-6.5312 4.0312-4.9531 4.0312-12.375 0-9.7656-6.6406-15.094-6.6406-5.3125-18.906-5.3125h-26.172z\"/></defs><use xlink:href=\"#DejaVuSans-50\"/><use x=\"63.623047\" xlink:href=\"#DejaVuSans-32\"/><use x=\"95.410156\" xlink:href=\"#DejaVuSans-81\"/><use x=\"174.121094\" xlink:href=\"#DejaVuSans-117\"/><use x=\"237.5\" xlink:href=\"#DejaVuSans-98\"/><use x=\"300.976562\" xlink:href=\"#DejaVuSans-105\"/><use x=\"328.759766\" xlink:href=\"#DejaVuSans-116\"/><use x=\"367.96875\" xlink:href=\"#DejaVuSans-32\"/><use x=\"399.755859\" xlink:href=\"#DejaVuSans-82\"/><use x=\"469.238281\" xlink:href=\"#DejaVuSans-66\"/></g><defs><clipPath id=\"p357ebbe9a1\"><rect x=\"55.949\" y=\"26.877\" width=\"446.4\" height=\"326.16\"/></clipPath></defs></svg>"
      ],
      "text/plain": [
       "<Figure size 576x432 with 1 Axes>"
      ]
     },
     "metadata": {
      "needs_background": "light"
     },
     "output_type": "display_data"
    }
   ],
   "source": [
    "plt.figure(figsize=(8, 6))\n",
    "ax = plt.subplot(1, 1, 1)\n",
    "\n",
    "# Plot the essence by calling plot_rb_data\n",
    "rb_fit.plot_rb_data(0, ax=ax, add_label=True, show_plt=False)\n",
    "    \n",
    "# Add title and label\n",
    "ax.set_title('%d Qubit RB'%(nQ), fontsize=18)\n",
    "\n",
    "plt.show()"
   ]
  },
  {
   "cell_type": "markdown",
   "metadata": {},
   "source": [
    "## 3. RBの直観的理解 <a id='intuition'></a>\n",
    "\n",
    "脱分極した量子チャンネルはパラメータ$\\alpha$を持っており、次のように動作します。確率$\\alpha$で状態は以前と変わらず、確率$1-\\alpha$で状態は完全に混合状態になります。すなわち、\n",
    "\n",
    "\n",
    "\n",
    "$$\\rho_f = \\alpha \\rho_i + \\frac{1-\\alpha}{2^n} * \\mathbf{I}$$\n",
    "\n",
    "\n",
    "クリフォードゲートとは限らず、$m$ゲートの配列があるとします。ここでゲートのエラーチャンネルはパラメータ$\\alpha$を持つ脱分極チャンネルです($\\alpha$ は全てのゲートで共通)。このとき、確率$\\alpha^m$で状態は最後の配列で正しく、確率$1-\\alpha^m$で完全な混合状態になります。そのため、\n",
    "\n",
    "\n",
    "$$\\rho_f^m = \\alpha^m \\rho_i + \\frac{1-\\alpha^m}{2^n} * \\mathbf{I}$$\n",
    "\n",
    "\n",
    "\n",
    "今、我々は基底状態から始めることに加え以下を仮定します。\n",
    "配列全体として恒等変換になるとします。\n",
    "配列の最後の状態を標準基底で測定するとします。\n",
    "このとき、配列の最後での成功確率は次のように求まります。\n",
    "\n",
    "\n",
    "\n",
    "$$\\alpha^m + \\frac{1-\\alpha^m}{2^n} = \\frac{2^n-1}{2^n}\\alpha^m + \\frac{1}{2^n} =  A_0\\alpha^m + B_0$$\n",
    "\n",
    "\n",
    "\n",
    "成功確率、言い換えるとフィデリティーは、$\\alpha$を底として配列の長さに応じ指数関数的に減衰します。\n",
    "\n",
    "直前の主張は、チャンネルが脱分極チャネル以外の場合には必ずしも正しいと言えません。しかし、ゲートが一様にランダム化されたクリフォードゲートである場合、チャネルから計算することができるいくつかのパラメータを用いると、各ゲートのノイズは脱分極チャネルであるかのように平均的に振る舞い、フィデリティーの指数関数的な減衰を得られるということが分かります。\n",
    "\n",
    "形式的には、量子チャネル$\\bar \\Lambda$の有限群$G$ (クリフォード群など)の平均をとることは、*twirl*とも呼ばれます。\n",
    "\n",
    "\n",
    "$$ W_G(\\bar \\Lambda) \\frac{1}{|G|} \\sum_{u \\in G} U^{\\dagger} \\circ  \\bar \\Lambda \\circ U$$\n",
    "\n",
    "\n",
    "ユニタリー群上をtwirlすると、クリフォード群と全く同じ結果が得られます。クリフォード群は、ユニタリー群の*2-design*です。"
   ]
  },
  {
   "cell_type": "markdown",
   "metadata": {},
   "source": [
    "## 4. 同時ランダマイズド・ベンチマーキング <a id='simultaneousrb'></a>\n",
    "\n",
    "\n",
    "RBは、2つの方法で多量子ビット系のフィデリティー計算に対応できるように設計されています。第一に、$n$量子ビット空間全体でのRBは、$n$量子ビットクリフォード群から配列を構築することで実行できます。第二に、$n$量子ビット空間\n",
    "は$n_i$量子ビットの集合と細分化することができ、$n_i$量子ビットRBは各部分集合で同時に実行可能です[4]。\n",
    "どちらの方法も、$n$量子ビット空間におけるフィデリティーの指標を与えます。\n",
    "\n",
    "例えば、他の量子ビットが使われていなくても、CNOTゲートを定義する2量子ビットの部分集合に対して2Q RBを実行するのが一般的です。[4]で説明したように、このRBデータは、他の量子部分空間をtwirlしていないため、必ずしも指数関数的に減衰するとは限りません。すべての量子ビットが活性であるので、一定レベルのクロストークエラーも測定する同時RBによって部分空間はより厳密に特徴づけられます。\n",
    "\n",
    "同時RBの例(1量子RBと2量子RB)は以下にあります。  \n",
    "https://github.com/Qiskit/qiskit-tutorials/blob/master/tutorials/noise/4_randomized_benchmarking.ipynb"
   ]
  },
  {
   "cell_type": "markdown",
   "metadata": {},
   "source": [
    "## 5. ゲートフィデリティーの予測 <a id='predicted-gate-fidelity'></a>\n",
    "\n",
    "使用されているゲート(ゲートセット)のエラーがわかれば、RB実験を行わなくてもEPCを予測することができます。この計算は、RB実験に続いてフィッティングを行うと正しいEPC値が得られることを確認するものです。まず、クリフォードあたりのゲートの数を数える必要があります。\n",
    "\n",
    "\n",
    "まず、2量子ビットのクリフォードゲートエラー関数 ``calculate_2q_epc`` が、2量子クリフォードあたりのエラーを与えます。この関数は、使用されているゲートのエラーが脱分極していることを前提としています。そしてこの関数は[5]の補足部分で導出されています。"
   ]
  },
  {
   "cell_type": "code",
   "execution_count": 9,
   "metadata": {},
   "outputs": [
    {
     "name": "stdout",
     "output_type": "stream",
     "text": [
      "Number of u1 gates per Clifford: 0.254694\n",
      "Number of u2 gates per Clifford: 1.282751\n",
      "Number of u3 gates per Clifford: 0.180022\n",
      "Number of cx gates per Clifford: 1.498253\n"
     ]
    }
   ],
   "source": [
    "# count the number of single and 2Q gates in the 2Q Cliffords\n",
    "qubits = rb_opts['rb_pattern'][0]\n",
    "\n",
    "gate_per_cliff = rb.rb_utils.gates_per_clifford(\n",
    "    transpiled_circuits_list=transpiled_circs_list,\n",
    "    clifford_lengths=xdata[0],\n",
    "    basis=basis_gates,\n",
    "    qubits=qubits)\n",
    "\n",
    "for basis_gate in basis_gates:\n",
    "    print(\"Number of %s gates per Clifford: %f\"%(\n",
    "        basis_gate,\n",
    "        np.mean([gate_per_cliff[qubit][basis_gate] for qubit in qubits])))"
   ]
  },
  {
   "cell_type": "code",
   "execution_count": 10,
   "metadata": {},
   "outputs": [
    {
     "name": "stdout",
     "output_type": "stream",
     "text": [
      "Predicted 2Q Error per Clifford: 1.508622e-02 (qasm simulator result: 1.475925e-02)\n"
     ]
    }
   ],
   "source": [
    "# convert from depolarizing error to epg (1Q)\n",
    "epg_q0 = {'u1': 0, 'u2': p1Q/2, 'u3': 2 * p1Q/2}\n",
    "epg_q1 = {'u1': 0, 'u2': p1Q/2, 'u3': 2 * p1Q/2}\n",
    "\n",
    "# convert from depolarizing error to epg (2Q)\n",
    "epg_q01 = 3/4 * p2Q\n",
    "\n",
    "# calculate the predicted epc from underlying gate errors \n",
    "pred_epc = rb.rb_utils.calculate_2q_epc(\n",
    "    gate_per_cliff=gate_per_cliff,\n",
    "    epg_2q=epg_q01,\n",
    "    qubit_pair=qubits,\n",
    "    list_epgs_1q=[epg_q0, epg_q1])\n",
    "\n",
    "print(\"Predicted 2Q Error per Clifford: %e (qasm simulator result: %e)\" % (pred_epc, rb_fit.fit[0]['epc']))"
   ]
  },
  {
   "cell_type": "markdown",
   "metadata": {},
   "source": [
    "一方、実験で得られたEPCから、使われたゲート(ゲートセット)のエラーを計算することができる。RB配列に含まれる各単一量子ビットゲートのエラーがわかっていることから、2量子ビットRB実験のEPCから2量子ビットゲートエラーを予測することができます。\n",
    "\n",
    "\n",
    "2量子ビットゲートエラー関数 ``calculate_2q_epg`` は、2量子ビットゲートあたりのエラーの推定値を与えます。ここでは、脱分極エラーモデルを用いて1量子ビットのエラーを用意します。エラーモデルが不明な場合、それらのゲートのEPG(例えば [``u1``, ``u2``, ``u3``])はユーティリティ関数 ``calculate_1q_epg``を用いて、別の1量子RB実験で推定することができます。"
   ]
  },
  {
   "cell_type": "code",
   "execution_count": 11,
   "metadata": {},
   "outputs": [
    {
     "name": "stdout",
     "output_type": "stream",
     "text": [
      "Predicted 2Q Error per gate: 7.261899e-03 (gate error model: 7.500000e-03)\n"
     ]
    }
   ],
   "source": [
    "# use 2Q EPC from qasm simulator result and 1Q EPGs from depolarizing error model\n",
    "pred_epg = rb.rb_utils.calculate_2q_epg(\n",
    "    gate_per_cliff=gate_per_cliff,\n",
    "    epc_2q=rb_fit.fit[0]['epc'],\n",
    "    qubit_pair=qubits,\n",
    "    list_epgs_1q=[epg_q0, epg_q1])\n",
    "\n",
    "print(\"Predicted 2Q Error per gate: %e (gate error model: %e)\" % (pred_epg, epg_q01))"
   ]
  },
  {
   "cell_type": "markdown",
   "metadata": {},
   "source": [
    "## 6. 参考文献 <a id='references'></a>\n",
    "\n",
    "1. Easwar Magesan, J. M. Gambetta, and Joseph Emerson, *Robust randomized benchmarking of quantum processes*,\n",
    "https://arxiv.org/pdf/1009.3639\n",
    "\n",
    "2. Easwar Magesan, Jay M. Gambetta, and Joseph Emerson, *Characterizing Quantum Gates via Randomized Benchmarking*,\n",
    "https://arxiv.org/pdf/1109.6887\n",
    "\n",
    "3. A. D. C'orcoles, Jay M. Gambetta, Jerry M. Chow, John A. Smolin, Matthew Ware, J. D. Strand, B. L. T. Plourde, and M. Steffen, *Process verification of two-qubit quantum gates by randomized benchmarking*, https://arxiv.org/pdf/1210.7011\n",
    "\n",
    "4. Jay M. Gambetta, A. D. C´orcoles, S. T. Merkel, B. R. Johnson, John A. Smolin, Jerry M. Chow,\n",
    "Colm A. Ryan, Chad Rigetti, S. Poletto, Thomas A. Ohki, Mark B. Ketchen, and M. Steffen,\n",
    "*Characterization of addressability by simultaneous randomized benchmarking*, https://arxiv.org/pdf/1204.6308\n",
    "\n",
    "5. David C. McKay, Sarah Sheldon, John A. Smolin, Jerry M. Chow, and Jay M. Gambetta, *Three Qubit Randomized Benchmarking*, https://arxiv.org/pdf/1712.06550"
   ]
  },
  {
   "cell_type": "code",
   "execution_count": 12,
   "metadata": {},
   "outputs": [
    {
     "data": {
      "text/plain": [
       "{'qiskit-terra': '0.14.2',\n",
       " 'qiskit-aer': '0.5.2',\n",
       " 'qiskit-ignis': '0.3.3',\n",
       " 'qiskit-ibmq-provider': '0.7.2',\n",
       " 'qiskit-aqua': '0.7.3',\n",
       " 'qiskit': '0.19.6'}"
      ]
     },
     "execution_count": 12,
     "metadata": {},
     "output_type": "execute_result"
    }
   ],
   "source": [
    "import qiskit.tools.jupyter\n",
    "%qiskit_version_table"
   ]
  }
 ],
 "metadata": {
  "kernelspec": {
   "display_name": "Python 3",
   "language": "python",
   "name": "python3"
  },
  "language_info": {
   "codemirror_mode": {
    "name": "ipython",
    "version": 3
   },
   "file_extension": ".py",
   "mimetype": "text/x-python",
   "name": "python",
   "nbconvert_exporter": "python",
   "pygments_lexer": "ipython3",
   "version": "3.9"
  }
 },
 "nbformat": 4,
 "nbformat_minor": 2
}
