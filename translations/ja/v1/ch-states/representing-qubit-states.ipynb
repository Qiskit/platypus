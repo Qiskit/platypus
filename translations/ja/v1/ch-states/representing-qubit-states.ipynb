{
 "cells": [
  {
   "cell_type": "markdown",
   "metadata": {
    "tags": [
     "remove_cell"
    ]
   },
   "source": [
    "# 量子ビット状態を表現する"
   ]
  },
  {
   "cell_type": "markdown",
   "metadata": {},
   "source": [
    "このコースをさらに進めるには、量子ビットの状態を書き留める方法が必要です。第2章の終わりまでに、ベクトルと行列のみを使用して、任意の量子ビットのセットと任意の量子演算の状態を書き留めることができることがわかります。 **続行する前に**、複素数に慣れる必要があります。線形代数の知識は役立ちますが、複素数の重要な概念が点在していることに注意してください。さらに詳しい説明や復習が必要な場合は、ここで数学の前提条件を確認できます。[こちら](../ch-prerequisites/linear_algebra.html)\n",
    "\n",
    "## 目次\n",
    "\n",
    "1. [古典ビット vs 量子ビット](#cvsq)    \n",
    "    1.1 [状態ベクトル](#statevectors)      \n",
    "    1.2 [量子ビット表記](#notation)    \n",
    "    1.3 [Qiskitを使って量子ビットを探索する](#exploring-qubits)    \n",
    "2. [測定のルール](#rules-measurement)    \n",
    "    2.1 [非常に重要なルール](#important-rule)    \n",
    "    2.2 [測定のルールの意味](#implications)\n",
    "3. [ブロッホ球](#bloch-sphere)    \n",
    "    3.1 [制限された量子ビット状態の説明](#bloch-sphere-1)     \n",
    "    3.2 [量子ビットの状態を視覚的に表現する](#bloch-sphere-2)     \n"
   ]
  },
  {
   "cell_type": "markdown",
   "metadata": {},
   "source": [
    "## 1. 古典ビット vs 量子ビット <a id=\"cvsq\"></a>\n",
    "\n",
    "### 1.1 状態ベクトル<a id=\"statevectors\"></a>\n",
    "\n",
    "量子物理学では、_状態ベクトル_ を使用してシステムの状態を記述します。これは、一般的に数値のみを使用する古典的な物理学とは異なります。たとえば、道路に沿った車の位置を記述したい場合、これは古典的なシステムであるため、数$x$を使用できます。\n",
    "\n",
    "![tracking a car with scalars](images/car_track_1.jpg)\n",
    "\n",
    "$$ x=4 $$\n",
    "\n",
    "代わりに、_状態ベクトル_ と呼ばれるベクトルで数値のコレクションを使用することもできます。状態ベクトルの各要素には、特定の場所で自動車を見つける確率が含まれています。\n",
    "\n",
    "![tracking a car with vectors](images/car_track_2.jpg)\n",
    "\n",
    "$$\n",
    "|x\\rangle = \\begin{bmatrix} 0\\\\ \\vdots \\\\ 0 \\\\ 1 \\\\ 0 \\\\ \\vdots \\\\ 0 \\end{bmatrix} \n",
    "            \\begin{matrix} \\\\  \\\\  \\\\ \\leftarrow \\\\  \\\\  \\\\  \\\\ \\end{matrix}\n",
    "             \\begin{matrix} \\\\  \\\\ \\text{車が} \\\\ \\text{位置4にある} \\\\ \\text{確率} \\\\  \\\\  \\\\ \\end{matrix}   \n",
    "$$\n",
    "\n",
    "このことは位置に限定されず、車が持つ可能性のあるすべての速度と、車が持つ可能性のあるすべての色の状態ベクトルを保持することもできます。ただ（上記の自動車の例のような）古典的なシステムでは、実際に1つの数値しか必要としないときに巨大なベクトルを維持する必要があるため、これは愚かなことです。しかし、この章で見るように、状態ベクトルは、量子コンピュータを含む量子システムを追跡するための非常に良い方法です。\n",
    "\n",
    "### 1.2 量子ビット表記 <a id=\"notation\"></a>\n",
    "\n",
    "\n",
    "古典的なビット（`c`）の状態を書き留めたいとしましょう。数字の` 0`と `1`を使います。\n",
    "\n",
    "    c = 0\n",
    "\n",
    "古典的なビットは常に明確な状態を持っているので、この表記は問題ありません。ただし、量子ビットには、さまざまな状態が測定される可能性があります。 量子ビットが測定される各状態には、 _振幅_ （複素数）があり、この複素数をみていく必要があります。量子ビットは2つのエネルギーレベルを持つシステムであるため、測定する* と、次の2つの状態のいずれかが検出されます。\n",
    "\n",
    "$$ |0\\rangle \\quad \\&  \\quad |1\\rangle $$\n",
    "\n",
    "<div style=\"font-size: .75em\"> *これはある種類の測定にのみ当てはまりますが、今は心配する必要はありません。これについては、この後のセクションで説明します。</div>\n",
    "\n",
    "つまり、2つの複素数をみていく必要があります。 ベクトルはこれを表現する素晴らしい方法です。\n",
    "\n",
    "$$ |q_0\\rangle = \\begin{bmatrix} \\tfrac{1}{\\sqrt{2}} \\\\ \\tfrac{i}{\\sqrt{2}} \\end{bmatrix} $$\n",
    "\n",
    "ここでは、ベクトル($|q_0\\rangle$)の要素を使用して、状態$|0\\rangle$および$|1\\rangle$の複素振幅の「リスト」を格納します。この場合、$|0\\rangle$の振幅は$\\tfrac{1}{\\sqrt{2}}$で、$|1\\rangle$の振幅は$\\tfrac{i}{\\sqrt{2}}$です。$|$ と $\\rangle$ の記号で囲んで列ベクトルを表すことに注意してください。状態の振幅は、その状態で量子ビットを測定する確率に関連しています。量子ビットの状態が$|0\\rangle$である場合、$|0\\rangle$の振幅は1で、$|1\\rangle$の振幅は0です。したがって、次のように記述できます。\n",
    "\n",
    "$$ |0\\rangle = \\begin{bmatrix} 1 \\\\ 0 \\end{bmatrix} $$\n",
    "\n",
    "そして同様に\n",
    "\n",
    "$$ |1\\rangle = \\begin{bmatrix} 0 \\\\ 1 \\end{bmatrix} $$\n",
    "\n",
    "$|0\\rangle$と$|1\\rangle$は正規直交基底を形成し、$|0\\rangle$と$|1\\rangle$の組み合わせで任意の2次元ベクトルを表すことができることに注意してください。このことを知っておくと、量子ビットの状態を別の形で書くことができます。\n",
    "\n",
    "$$ |q_0\\rangle = \\tfrac{1}{\\sqrt{2}}|0\\rangle + \\tfrac{i}{\\sqrt{2}}|1\\rangle $$\n",
    "\n",
    "\n",
    "<p>\n",
    " <details>\n",
    "  <summary>備忘：行列の加算とスカラーによる乗算（ここをクリックして展開してください）</summary>\n",
    "  <p>2つのベクトルを加算するには、それらの要素を一緒に加算します。\n",
    "    $$|a\\rangle = \\begin{bmatrix}a_0 \\\\ a_1 \\\\ \\vdots \\\\ a_n \\end{bmatrix}, \\quad\n",
    "    |b\\rangle = \\begin{bmatrix}b_0 \\\\ b_1 \\\\ \\vdots \\\\ b_n \\end{bmatrix}$$\n",
    "    $$|a\\rangle + |b\\rangle = \\begin{bmatrix}a_0 + b_0 \\\\ a_1 + b_1 \\\\ \\vdots \\\\ a_n + b_n \\end{bmatrix} $$\n",
    "    </p>\n",
    "  <p>そして、ベクトルにスカラーを掛けるには、各要素にスカラーを掛けます。\n",
    "    $$x|a\\rangle = \\begin{bmatrix}x \\times a_0 \\\\ x \\times  a_1 \\\\ \\vdots \\\\ x \\times  a_n \\end{bmatrix}$$\n",
    "    </p>\n",
    "  <p>これらの2つのルールは、ベクトル$|q_0\\rangle$を書き換えるために使用されます。（上記を参照）\n",
    "      $$\n",
    "      \\begin{aligned} \n",
    "      |q_0\\rangle & = \\tfrac{1}{\\sqrt{2}}|0\\rangle + \\tfrac{i}{\\sqrt{2}}|1\\rangle \\\\\n",
    "                  & = \\tfrac{1}{\\sqrt{2}}\\begin{bmatrix}1\\\\0\\end{bmatrix} + \\tfrac{i}{\\sqrt{2}}\\begin{bmatrix}0\\\\1\\end{bmatrix}\\\\\n",
    "                  & = \\begin{bmatrix}\\tfrac{1}{\\sqrt{2}}\\\\0\\end{bmatrix} + \\begin{bmatrix}0\\\\\\tfrac{i}{\\sqrt{2}}\\end{bmatrix}\\\\\n",
    "                  & = \\begin{bmatrix}\\tfrac{1}{\\sqrt{2}} \\\\ \\tfrac{i}{\\sqrt{2}} \\end{bmatrix}\\\\\n",
    "      \\end{aligned}\n",
    "      $$\n",
    " </details>\n",
    "</p>\n",
    "<p>\n",
    " <details>\n",
    "  <summary>備忘：正規直交基底（ここをクリックして展開してください）</summary>\n",
    "  <p>前に、2つのベクトル$|0\\rangle$と$|1\\rangle$は直交であると述べました。つまり、これらは両方とも<i>直交</i>で<i>正規化</i>されています。 直交とは、ベクトルが直角であることを意味します。\n",
    "  </p><p><img src=\"images/basis.svg\"></p>\n",
    "  <p>正規化とは、その大きさ（矢印の長さ）が1に等しいことを意味します。2つのベクトル$|0\\rangle$と$|1\\rangle$は<i>線形独立</i>です。つまり、$|0\\rangle$を$|1\\rangle$で表すことはできず、逆も同様です。ただし、ベクトル$|0\\rangle$と$|1\\rangle$の両方、およびスカラーによる加算と乗算の規則を使用すると、2次元空間で可能なすべてのベクトルを記述できます。\n",
    "    </p><p><img src=\"images/basis2.svg\"></p>\n",
    "  <p>ベクトル$|0\\rangle$と$|1\\rangle$は線形独立であり、ベクトルの加算とスカラー倍算を使用して2次元空間で任意のベクトルを記述するのに使用できるため、ベクトル$|0\\rangle$と$|1\\rangle$は<i>基底</i>を形成します。 この場合、それらは直交であり、正規化されているため、これを<i>正規直交基底</i>と呼びます。</p>\n",
    " </details>\n",
    "</p>\n",
    "\n",
    "このベクトル$|q_0\\rangle$は、量子ビットの _状態ベクトル_ と呼ばれます。これは、この量子ビットについておそらく知ることができるすべてのことを示しています。$|0\\rangle$と$|1\\rangle$の振幅がゼロではないため、量子ビットは$|0\\rangle$と$|1\\rangle$の状態の _重ね合わせ_ にあると言われます。\n",
    "\n",
    "### 1.3 Qiskitを使って量子ビットを探索する<a id=\"exploring-qubits\"></a>\n",
    "\n",
    "まず、必要なすべてのツールをインポートする必要があります。"
   ]
  },
  {
   "cell_type": "code",
   "execution_count": 1,
   "metadata": {},
   "outputs": [],
   "source": [
    "from qiskit import QuantumCircuit, execute, Aer\n",
    "from qiskit.visualization import plot_histogram, plot_bloch_vector\n",
    "from math import sqrt, pi"
   ]
  },
  {
   "cell_type": "markdown",
   "metadata": {},
   "source": [
    "さらに、画像出力を改善するために設定を変更します。（IPython環境で実行していない場合は、この行を無視してください。）"
   ]
  },
  {
   "cell_type": "code",
   "execution_count": 2,
   "metadata": {},
   "outputs": [],
   "source": [
    "%config InlineBackend.figure_format = 'svg' # 画像を美しく見せます。"
   ]
  },
  {
   "cell_type": "markdown",
   "metadata": {},
   "source": [
    "Qiskitでは、`QuantumCircuit`オブジェクトを使用して回路を格納します。これは基本的に、回路内の量子ゲートとそれらが適用される量子ビットのリストです。"
   ]
  },
  {
   "cell_type": "code",
   "execution_count": 3,
   "metadata": {},
   "outputs": [],
   "source": [
    "qc = QuantumCircuit(1) # 1量子ビットで量子回路を作成します。"
   ]
  },
  {
   "cell_type": "markdown",
   "metadata": {},
   "source": [
    "私たちの量子回路では、量子ビットは常に$|0\\rangle$の状態で始まります。`initialize()`メソッドを使用して、これを任意の状態に変換できます。`initialize()`にリストの形式で必要なベクトルを与え、この状態でどの量子ビットを初期化したいかを伝えます。"
   ]
  },
  {
   "cell_type": "code",
   "execution_count": 4,
   "metadata": {},
   "outputs": [
    {
     "data": {
      "text/html": [
       "<pre style=\"word-wrap: normal;white-space: pre;background: #fff0;line-height: 1.1;font-family: &quot;Courier New&quot;,Courier,monospace\">     ┌─────────────────┐\n",
       "q_0: ┤ Initialize(0,1) ├\n",
       "     └─────────────────┘</pre>"
      ],
      "text/plain": [
       "     ┌─────────────────┐\n",
       "q_0: ┤ Initialize(0,1) ├\n",
       "     └─────────────────┘"
      ]
     },
     "execution_count": 4,
     "metadata": {},
     "output_type": "execute_result"
    }
   ],
   "source": [
    "initial_state = [0,1]   # 初期状態を|1>と定義します。\n",
    "qc.initialize(initial_state, 0) # 初期化操作を0番目の量子ビットに適用します。\n",
    "qc.draw()              # 回路を見てみましょう。"
   ]
  },
  {
   "cell_type": "markdown",
   "metadata": {},
   "source": [
    "次に、Qiskitのシミュレーターの1つを使用して、量子ビットの結果の状態を表示できます。 最初に、statevectorシミュレーターを使用しますが、さまざまなシミュレーターとその使用法については後で説明します。"
   ]
  },
  {
   "cell_type": "code",
   "execution_count": 5,
   "metadata": {},
   "outputs": [],
   "source": [
    "backend = Aer.get_backend('statevector_simulator') # Qiskitに回路のシミュレーション方法を伝えます。"
   ]
  },
  {
   "cell_type": "markdown",
   "metadata": {},
   "source": [
    "回路から結果を取得するには、`execute`を使用して回路を実行し、circuitとbackendを引数として指定します。 次に、`.result()`を使用して、この結果を取得します。"
   ]
  },
  {
   "cell_type": "code",
   "execution_count": 6,
   "metadata": {},
   "outputs": [],
   "source": [
    "result = execute(qc,backend).result() # シミュレーションを行い、結果を返します。"
   ]
  },
  {
   "cell_type": "markdown",
   "metadata": {},
   "source": [
    "`result`から、`.get_statevector()`を使用して最終的な状態ベクトルを取得できます。"
   ]
  },
  {
   "cell_type": "code",
   "execution_count": 7,
   "metadata": {},
   "outputs": [
    {
     "name": "stdout",
     "output_type": "stream",
     "text": [
      "[0.+0.j 1.+0.j]\n"
     ]
    }
   ],
   "source": [
    "out_state = result.get_statevector()\n",
    "print(out_state) # 出力状態ベクトルを表示します。"
   ]
  },
  {
   "cell_type": "markdown",
   "metadata": {},
   "source": [
    "**注意** Pythonは`j`を使用して複素数の$i$を表します。2つの複素数の要素を持つベクトルが表示されます。`0.+0.j` = 0と `1.+0.j` = 1です。\n",
    "\n",
    "実際の量子コンピューターと同じように量子ビットを測定して、結果を見てみましょう。"
   ]
  },
  {
   "cell_type": "code",
   "execution_count": 8,
   "metadata": {},
   "outputs": [
    {
     "data": {
      "text/html": [
       "<pre style=\"word-wrap: normal;white-space: pre;background: #fff0;line-height: 1.1;font-family: &quot;Courier New&quot;,Courier,monospace\">        ┌─────────────────┐ ░ ┌─┐\n",
       "   q_0: ┤ Initialize(0,1) ├─░─┤M├\n",
       "        └─────────────────┘ ░ └╥┘\n",
       "meas_0: ═══════════════════════╩═\n",
       "                                 </pre>"
      ],
      "text/plain": [
       "        ┌─────────────────┐ ░ ┌─┐\n",
       "   q_0: ┤ Initialize(0,1) ├─░─┤M├\n",
       "        └─────────────────┘ ░ └╥┘\n",
       "meas_0: ═══════════════════════╩═\n",
       "                                 "
      ]
     },
     "execution_count": 8,
     "metadata": {},
     "output_type": "execute_result"
    }
   ],
   "source": [
    "qc.measure_all()\n",
    "qc.draw()"
   ]
  },
  {
   "cell_type": "markdown",
   "metadata": {},
   "source": [
    "今回は、statevectorの代わりに、`.get_counts()`を使用して `0`と`1`の結果のカウントを取得します。"
   ]
  },
  {
   "cell_type": "code",
   "execution_count": 9,
   "metadata": {},
   "outputs": [
    {
     "data": {
      "image/svg+xml": [
       "<?xml version=\"1.0\" encoding=\"UTF-8\"?><!DOCTYPE svg  PUBLIC '-//W3C//DTD SVG 1.1//EN'  'http://www.w3.org/Graphics/SVG/1.1/DTD/svg11.dtd'><svg width=\"460.72pt\" height=\"306.2pt\" version=\"1.1\" viewBox=\"0 0 460.72 306.2\" xmlns=\"http://www.w3.org/2000/svg\" xmlns:xlink=\"http://www.w3.org/1999/xlink\"><defs><style type=\"text/css\">*{stroke-linecap:butt;stroke-linejoin:round;}</style></defs><path d=\"m0 306.2h460.72v-306.2h-460.72z\" fill=\"none\"/><path d=\"m62.921 279h390.6v-271.8h-390.6z\" fill=\"#ffffff\"/><defs><path id=\"m134f5a0f93\" d=\"m0 0v3.5\" stroke=\"#000000\" stroke-width=\".8\"/></defs><use x=\"258.22125\" y=\"279\" stroke=\"#000000\" stroke-width=\".8\" xlink:href=\"#m134f5a0f93\"/><defs><path id=\"DejaVuSans-49\" d=\"m12.406 8.2969h16.109v55.625l-17.531-3.5156v8.9844l17.438 3.5156h9.8594v-64.609h16.109v-8.2969h-41.984z\"/></defs><g transform=\"translate(260.33 298.01) rotate(-70) scale(.14 -.14)\"><use xlink:href=\"#DejaVuSans-49\"/></g><path d=\"m62.921 279h390.6\" clip-path=\"url(#p4d5d618bb1)\" fill=\"none\" stroke=\"#b0b0b0\" stroke-dasharray=\"2.96,1.28\" stroke-width=\".8\"/><defs><path id=\"m73d8448a7b\" d=\"m0 0h-3.5\" stroke=\"#000000\" stroke-width=\".8\"/></defs><use x=\"62.92125\" y=\"279\" stroke=\"#000000\" stroke-width=\".8\" xlink:href=\"#m73d8448a7b\"/><defs><path id=\"DejaVuSans-48\" d=\"m31.781 66.406q-7.6094 0-11.453-7.5-3.8281-7.4844-3.8281-22.531 0-14.984 3.8281-22.484 3.8438-7.5 11.453-7.5 7.6719 0 11.5 7.5 3.8438 7.5 3.8438 22.484 0 15.047-3.8438 22.531-3.8281 7.5-11.5 7.5zm0 7.8125q12.266 0 18.734-9.7031 6.4688-9.6875 6.4688-28.141 0-18.406-6.4688-28.109-6.4688-9.6875-18.734-9.6875-12.25 0-18.719 9.6875-6.4688 9.7031-6.4688 28.109 0 18.453 6.4688 28.141 6.4688 9.7031 18.719 9.7031z\"/><path id=\"DejaVuSans-46\" d=\"m10.688 12.406h10.312v-12.406h-10.312z\"/></defs><g transform=\"translate(24.749 284.32) scale(.14 -.14)\"><use xlink:href=\"#DejaVuSans-48\"/><use x=\"63.623047\" xlink:href=\"#DejaVuSans-46\"/><use x=\"95.410156\" xlink:href=\"#DejaVuSans-48\"/><use x=\"159.033203\" xlink:href=\"#DejaVuSans-48\"/></g><path d=\"m62.921 222.38h390.6\" clip-path=\"url(#p4d5d618bb1)\" fill=\"none\" stroke=\"#b0b0b0\" stroke-dasharray=\"2.96,1.28\" stroke-width=\".8\"/><use x=\"62.92125\" y=\"222.375\" stroke=\"#000000\" stroke-width=\".8\" xlink:href=\"#m73d8448a7b\"/><defs><path id=\"DejaVuSans-50\" d=\"m19.188 8.2969h34.422v-8.2969h-46.281v8.2969q5.6094 5.8125 15.297 15.594 9.7031 9.7969 12.188 12.641 4.7344 5.3125 6.6094 9 1.8906 3.6875 1.8906 7.25 0 5.8125-4.0781 9.4688-4.0781 3.6719-10.625 3.6719-4.6406 0-9.7969-1.6094-5.1406-1.6094-11-4.8906v9.9688q5.9531 2.3906 11.125 3.6094 5.1875 1.2188 9.4844 1.2188 11.328 0 18.062-5.6719 6.7344-5.6562 6.7344-15.125 0-4.5-1.6875-8.5312-1.6719-4.0156-6.125-9.4844-1.2188-1.4219-7.7656-8.1875-6.5312-6.7656-18.453-18.922z\"/><path id=\"DejaVuSans-53\" d=\"m10.797 72.906h38.719v-8.3125h-29.688v-17.859q2.1406 0.73438 4.2812 1.0938 2.1562 0.35938 4.3125 0.35938 12.203 0 19.328-6.6875 7.1406-6.6875 7.1406-18.109 0-11.766-7.3281-18.297-7.3281-6.5156-20.656-6.5156-4.5938 0-9.3594 0.78125-4.75 0.78125-9.8281 2.3438v9.9219q4.3906-2.3906 9.0781-3.5625t9.9062-1.1719q8.4531 0 13.375 4.4375 4.9375 4.4375 4.9375 12.062 0 7.6094-4.9375 12.047-4.9219 4.4531-13.375 4.4531-3.9531 0-7.8906-0.875-3.9219-0.875-8.0156-2.7344z\"/></defs><g transform=\"translate(24.749 227.69) scale(.14 -.14)\"><use xlink:href=\"#DejaVuSans-48\"/><use x=\"63.623047\" xlink:href=\"#DejaVuSans-46\"/><use x=\"95.410156\" xlink:href=\"#DejaVuSans-50\"/><use x=\"159.033203\" xlink:href=\"#DejaVuSans-53\"/></g><path d=\"m62.921 165.75h390.6\" clip-path=\"url(#p4d5d618bb1)\" fill=\"none\" stroke=\"#b0b0b0\" stroke-dasharray=\"2.96,1.28\" stroke-width=\".8\"/><use x=\"62.92125\" y=\"165.75\" stroke=\"#000000\" stroke-width=\".8\" xlink:href=\"#m73d8448a7b\"/><g transform=\"translate(24.749 171.07) scale(.14 -.14)\"><use xlink:href=\"#DejaVuSans-48\"/><use x=\"63.623047\" xlink:href=\"#DejaVuSans-46\"/><use x=\"95.410156\" xlink:href=\"#DejaVuSans-53\"/><use x=\"159.033203\" xlink:href=\"#DejaVuSans-48\"/></g><path d=\"m62.921 109.12h390.6\" clip-path=\"url(#p4d5d618bb1)\" fill=\"none\" stroke=\"#b0b0b0\" stroke-dasharray=\"2.96,1.28\" stroke-width=\".8\"/><use x=\"62.92125\" y=\"109.125\" stroke=\"#000000\" stroke-width=\".8\" xlink:href=\"#m73d8448a7b\"/><defs><path id=\"DejaVuSans-55\" d=\"m8.2031 72.906h46.875v-4.2031l-26.469-68.703h-10.297l24.906 64.594h-35.016z\"/></defs><g transform=\"translate(24.749 114.44) scale(.14 -.14)\"><use xlink:href=\"#DejaVuSans-48\"/><use x=\"63.623047\" xlink:href=\"#DejaVuSans-46\"/><use x=\"95.410156\" xlink:href=\"#DejaVuSans-55\"/><use x=\"159.033203\" xlink:href=\"#DejaVuSans-53\"/></g><path d=\"m62.921 52.5h390.6\" clip-path=\"url(#p4d5d618bb1)\" fill=\"none\" stroke=\"#b0b0b0\" stroke-dasharray=\"2.96,1.28\" stroke-width=\".8\"/><use x=\"62.92125\" y=\"52.5\" stroke=\"#000000\" stroke-width=\".8\" xlink:href=\"#m73d8448a7b\"/><g transform=\"translate(24.749 57.819) scale(.14 -.14)\"><use xlink:href=\"#DejaVuSans-49\"/><use x=\"63.623047\" xlink:href=\"#DejaVuSans-46\"/><use x=\"95.410156\" xlink:href=\"#DejaVuSans-48\"/><use x=\"159.033203\" xlink:href=\"#DejaVuSans-48\"/></g><defs><path id=\"DejaVuSans-80\" d=\"m19.672 64.797v-27.391h12.406q6.8906 0 10.641 3.5625 3.7656 3.5625 3.7656 10.156 0 6.5469-3.7656 10.109-3.75 3.5625-10.641 3.5625zm-9.8594 8.1094h22.266q12.266 0 18.531-5.5469 6.2812-5.5469 6.2812-16.234 0-10.797-6.2812-16.312-6.2656-5.5156-18.531-5.5156h-12.406v-29.297h-9.8594z\"/><path id=\"DejaVuSans-114\" d=\"m41.109 46.297q-1.5156 0.875-3.2969 1.2812-1.7812 0.42188-3.9219 0.42188-7.625 0-11.703-4.9531t-4.0781-14.234v-28.812h-9.0312v54.688h9.0312v-8.5q2.8438 4.9844 7.375 7.3906 4.5469 2.4219 11.047 2.4219 0.92188 0 2.0469-0.125 1.125-0.10938 2.4844-0.35938z\"/><path id=\"DejaVuSans-111\" d=\"m30.609 48.391q-7.2188 0-11.422-5.6406t-4.2031-15.453 4.1719-15.453q4.1875-5.6406 11.453-5.6406 7.1875 0 11.375 5.6562 4.2031 5.6719 4.2031 15.438 0 9.7188-4.2031 15.406-4.1875 5.6875-11.375 5.6875zm0 7.6094q11.719 0 18.406-7.625 6.7031-7.6094 6.7031-21.078 0-13.422-6.7031-21.078-6.6875-7.6406-18.406-7.6406-11.766 0-18.438 7.6406-6.6562 7.6562-6.6562 21.078 0 13.469 6.6562 21.078 6.6719 7.625 18.438 7.625z\"/><path id=\"DejaVuSans-98\" d=\"m48.688 27.297q0 9.9062-4.0781 15.547t-11.203 5.6406q-7.1406 0-11.219-5.6406t-4.0781-15.547 4.0781-15.547 11.219-5.6406q7.125 0 11.203 5.6406t4.0781 15.547zm-30.578 19.094q2.8438 4.875 7.1562 7.2344 4.3281 2.375 10.328 2.375 9.9688 0 16.188-7.9062 6.2344-7.9062 6.2344-20.797t-6.2344-20.812q-6.2188-7.9062-16.188-7.9062-6 0-10.328 2.375-4.3125 2.375-7.1562 7.25v-8.2031h-9.0312v75.984h9.0312z\"/><path id=\"DejaVuSans-97\" d=\"m34.281 27.484q-10.891 0-15.094-2.4844t-4.2031-8.5q0-4.7812 3.1562-7.5938 3.1562-2.7969 8.5625-2.7969 7.4844 0 12 5.2969t4.5156 14.078v2zm17.922 3.7188v-31.203h-8.9844v8.2969q-3.0781-4.9688-7.6719-7.3438t-11.234-2.375q-8.3906 0-13.359 4.7188-4.9531 4.7188-4.9531 12.625 0 9.2188 6.1719 13.906 6.1875 4.6875 18.438 4.6875h12.609v0.89062q0 6.2031-4.0781 9.5938t-11.453 3.3906q-4.6875 0-9.1406-1.125-4.4375-1.125-8.5312-3.375v8.3125q4.9219 1.9062 9.5625 2.8438 4.6406 0.95312 9.0312 0.95312 11.875 0 17.734-6.1562 5.8594-6.1406 5.8594-18.641z\"/><path id=\"DejaVuSans-105\" d=\"m9.4219 54.688h8.9844v-54.688h-8.9844zm0 21.297h8.9844v-11.391h-8.9844z\"/><path id=\"DejaVuSans-108\" d=\"m9.4219 75.984h8.9844v-75.984h-8.9844z\"/><path id=\"DejaVuSans-116\" d=\"m18.312 70.219v-15.531h18.5v-6.9844h-18.5v-29.688q0-6.6875 1.8281-8.5938t7.4531-1.9062h9.2188v-7.5156h-9.2188q-10.406 0-14.359 3.875-3.9531 3.8906-3.9531 14.141v29.688h-6.5938v6.9844h6.5938v15.531z\"/><path id=\"DejaVuSans-101\" d=\"m56.203 29.594v-4.3906h-41.312q0.59375-9.2812 5.5938-14.141t13.938-4.8594q5.1719 0 10.031 1.2656t9.6562 3.8125v-8.5q-4.8438-2.0469-9.9219-3.125t-10.297-1.0781q-13.094 0-20.734 7.6094-7.6406 7.625-7.6406 20.625 0 13.422 7.25 21.297 7.25 7.8906 19.562 7.8906 11.031 0 17.453-7.1094 6.4219-7.0938 6.4219-19.297zm-8.9844 2.6406q-0.09375 7.3594-4.125 11.75-4.0312 4.4062-10.672 4.4062-7.5156 0-12.031-4.25t-5.2031-11.969z\"/><path id=\"DejaVuSans-115\" d=\"m44.281 53.078v-8.5q-3.7969 1.9531-7.9062 2.9219-4.0938 0.98438-8.5 0.98438-6.6875 0-10.031-2.0469t-3.3438-6.1562q0-3.125 2.3906-4.9062t9.625-3.3906l3.0781-0.6875q9.5625-2.0469 13.594-5.7812t4.0312-10.422q0-7.625-6.0312-12.078-6.0312-4.4375-16.578-4.4375-4.3906 0-9.1562 0.85938t-10.031 2.5625v9.2812q4.9844-2.5938 9.8125-3.8906 4.8281-1.2812 9.5781-1.2812 6.3438 0 9.75 2.1719 3.4219 2.1719 3.4219 6.125 0 3.6562-2.4688 5.6094-2.4531 1.9531-10.812 3.7656l-3.125 0.73438q-8.3438 1.75-12.062 5.3906-3.7031 3.6406-3.7031 9.9844 0 7.7188 5.4688 11.906 5.4688 4.2031 15.531 4.2031 4.9688 0 9.3594-0.73438 4.4062-0.71875 8.1094-2.1875z\"/></defs><g transform=\"translate(17.838 185.86) rotate(-90) scale(.14 -.14)\"><use xlink:href=\"#DejaVuSans-80\"/><use x=\"58.552734\" xlink:href=\"#DejaVuSans-114\"/><use x=\"97.416016\" xlink:href=\"#DejaVuSans-111\"/><use x=\"158.597656\" xlink:href=\"#DejaVuSans-98\"/><use x=\"222.074219\" xlink:href=\"#DejaVuSans-97\"/><use x=\"283.353516\" xlink:href=\"#DejaVuSans-98\"/><use x=\"346.830078\" xlink:href=\"#DejaVuSans-105\"/><use x=\"374.613281\" xlink:href=\"#DejaVuSans-108\"/><use x=\"402.396484\" xlink:href=\"#DejaVuSans-105\"/><use x=\"430.179688\" xlink:href=\"#DejaVuSans-116\"/><use x=\"469.388672\" xlink:href=\"#DejaVuSans-105\"/><use x=\"497.171875\" xlink:href=\"#DejaVuSans-101\"/><use x=\"558.695312\" xlink:href=\"#DejaVuSans-115\"/></g><path d=\"m80.676 279h355.09v-226.5h-355.09z\" clip-path=\"url(#p4d5d618bb1)\" fill=\"#648fff\"/><path d=\"m62.921 279v-271.8\" fill=\"none\" stroke=\"#000000\" stroke-linecap=\"square\" stroke-width=\".8\"/><path d=\"m453.52 279v-271.8\" fill=\"none\" stroke=\"#000000\" stroke-linecap=\"square\" stroke-width=\".8\"/><path d=\"m62.921 279h390.6\" fill=\"none\" stroke=\"#000000\" stroke-linecap=\"square\" stroke-width=\".8\"/><path d=\"m62.921 7.2h390.6\" fill=\"none\" stroke=\"#000000\" stroke-linecap=\"square\" stroke-width=\".8\"/><g transform=\"translate(243.91 39.095) scale(.1 -.1)\"><use xlink:href=\"#DejaVuSans-49\"/><use x=\"63.623047\" xlink:href=\"#DejaVuSans-46\"/><use x=\"95.410156\" xlink:href=\"#DejaVuSans-48\"/><use x=\"159.033203\" xlink:href=\"#DejaVuSans-48\"/><use x=\"222.65625\" xlink:href=\"#DejaVuSans-48\"/></g><defs><clipPath id=\"p4d5d618bb1\"><rect x=\"62.921\" y=\"7.2\" width=\"390.6\" height=\"271.8\"/></clipPath></defs></svg>"
      ],
      "text/plain": [
       "<Figure size 504x360 with 1 Axes>"
      ]
     },
     "execution_count": 9,
     "metadata": {},
     "output_type": "execute_result"
    }
   ],
   "source": [
    "result = execute(qc,backend).result()\n",
    "counts = result.get_counts()\n",
    "plot_histogram(counts)"
   ]
  },
  {
   "cell_type": "markdown",
   "metadata": {},
   "source": [
    "（当然のことながら）$|1\\rangle$を測定する可能性が100％あることがわかります。 では、代わりに量子ビットを重ね合わせて、何が起こるか見てみましょう。 このセクションの前半の状態$|q_0\\rangle$を使用します。\n",
    "\n",
    "$$ |q_0\\rangle = \\tfrac{1}{\\sqrt{2}}|0\\rangle + \\tfrac{i}{\\sqrt{2}}|1\\rangle $$\n",
    "\n",
    "これらの振幅をpythonリストに追加する必要があります。 複素振幅を追加するには、 `complex`を使用して、実数部と虚数部を引数として指定します。"
   ]
  },
  {
   "cell_type": "code",
   "execution_count": 10,
   "metadata": {},
   "outputs": [],
   "source": [
    "initial_state = [1/sqrt(2), complex(0,1/sqrt(2))] # 状態|q>を定義します。"
   ]
  },
  {
   "cell_type": "markdown",
   "metadata": {},
   "source": [
    "次に、以前と同じように量子ビットを初期化するための手順を繰り返します。"
   ]
  },
  {
   "cell_type": "code",
   "execution_count": 11,
   "metadata": {},
   "outputs": [
    {
     "name": "stdout",
     "output_type": "stream",
     "text": [
      "[0.70710678+0.j         0.        +0.70710678j]\n"
     ]
    }
   ],
   "source": [
    "qc = QuantumCircuit(1) # qcを再定義する必要があります。\n",
    "qc.initialize(initial_state, 0) # `initial_state`状態の0番目の量子ビットを初期化します。\n",
    "state = execute(qc,backend).result().get_statevector() # 回路を実行します。\n",
    "print(state)           # 結果を表示します。"
   ]
  },
  {
   "cell_type": "code",
   "execution_count": 12,
   "metadata": {},
   "outputs": [
    {
     "data": {
      "image/svg+xml": [
       "<?xml version=\"1.0\" encoding=\"UTF-8\"?><!DOCTYPE svg  PUBLIC '-//W3C//DTD SVG 1.1//EN'  'http://www.w3.org/Graphics/SVG/1.1/DTD/svg11.dtd'><svg width=\"460.72pt\" height=\"311.52pt\" version=\"1.1\" viewBox=\"0 0 460.72 311.52\" xmlns=\"http://www.w3.org/2000/svg\" xmlns:xlink=\"http://www.w3.org/1999/xlink\"><defs><style type=\"text/css\">*{stroke-linecap:butt;stroke-linejoin:round;}</style></defs><path d=\"m0 311.52h460.72v-311.52h-460.72z\" fill=\"none\"/><path d=\"m62.921 284.32h390.6v-271.8h-390.6z\" fill=\"#ffffff\"/><defs><path id=\"m62847e59df\" d=\"m0 0v3.5\" stroke=\"#000000\" stroke-width=\".8\"/></defs><use x=\"139.857614\" y=\"284.318906\" stroke=\"#000000\" stroke-width=\".8\" xlink:href=\"#m62847e59df\"/><defs><path id=\"DejaVuSans-48\" d=\"m31.781 66.406q-7.6094 0-11.453-7.5-3.8281-7.4844-3.8281-22.531 0-14.984 3.8281-22.484 3.8438-7.5 11.453-7.5 7.6719 0 11.5 7.5 3.8438 7.5 3.8438 22.484 0 15.047-3.8438 22.531-3.8281 7.5-11.5 7.5zm0 7.8125q12.266 0 18.734-9.7031 6.4688-9.6875 6.4688-28.141 0-18.406-6.4688-28.109-6.4688-9.6875-18.734-9.6875-12.25 0-18.719 9.6875-6.4688 9.7031-6.4688 28.109 0 18.453 6.4688 28.141 6.4688 9.7031 18.719 9.7031z\"/></defs><g transform=\"translate(141.96 303.33) rotate(-70) scale(.14 -.14)\"><use xlink:href=\"#DejaVuSans-48\"/></g><use x=\"376.584886\" y=\"284.318906\" stroke=\"#000000\" stroke-width=\".8\" xlink:href=\"#m62847e59df\"/><defs><path id=\"DejaVuSans-49\" d=\"m12.406 8.2969h16.109v55.625l-17.531-3.5156v8.9844l17.438 3.5156h9.8594v-64.609h16.109v-8.2969h-41.984z\"/></defs><g transform=\"translate(378.69 303.33) rotate(-70) scale(.14 -.14)\"><use xlink:href=\"#DejaVuSans-49\"/></g><path d=\"m62.921 284.32h390.6\" clip-path=\"url(#pf4df0363f5)\" fill=\"none\" stroke=\"#b0b0b0\" stroke-dasharray=\"2.96,1.28\" stroke-width=\".8\"/><defs><path id=\"md1796136c2\" d=\"m0 0h-3.5\" stroke=\"#000000\" stroke-width=\".8\"/></defs><use x=\"62.92125\" y=\"284.318906\" stroke=\"#000000\" stroke-width=\".8\" xlink:href=\"#md1796136c2\"/><defs><path id=\"DejaVuSans-46\" d=\"m10.688 12.406h10.312v-12.406h-10.312z\"/></defs><g transform=\"translate(24.749 289.64) scale(.14 -.14)\"><use xlink:href=\"#DejaVuSans-48\"/><use x=\"63.623047\" xlink:href=\"#DejaVuSans-46\"/><use x=\"95.410156\" xlink:href=\"#DejaVuSans-48\"/><use x=\"159.033203\" xlink:href=\"#DejaVuSans-48\"/></g><path d=\"m62.921 216.37h390.6\" clip-path=\"url(#pf4df0363f5)\" fill=\"none\" stroke=\"#b0b0b0\" stroke-dasharray=\"2.96,1.28\" stroke-width=\".8\"/><use x=\"62.92125\" y=\"216.368906\" stroke=\"#000000\" stroke-width=\".8\" xlink:href=\"#md1796136c2\"/><defs><path id=\"DejaVuSans-53\" d=\"m10.797 72.906h38.719v-8.3125h-29.688v-17.859q2.1406 0.73438 4.2812 1.0938 2.1562 0.35938 4.3125 0.35938 12.203 0 19.328-6.6875 7.1406-6.6875 7.1406-18.109 0-11.766-7.3281-18.297-7.3281-6.5156-20.656-6.5156-4.5938 0-9.3594 0.78125-4.75 0.78125-9.8281 2.3438v9.9219q4.3906-2.3906 9.0781-3.5625t9.9062-1.1719q8.4531 0 13.375 4.4375 4.9375 4.4375 4.9375 12.062 0 7.6094-4.9375 12.047-4.9219 4.4531-13.375 4.4531-3.9531 0-7.8906-0.875-3.9219-0.875-8.0156-2.7344z\"/></defs><g transform=\"translate(24.749 221.69) scale(.14 -.14)\"><use xlink:href=\"#DejaVuSans-48\"/><use x=\"63.623047\" xlink:href=\"#DejaVuSans-46\"/><use x=\"95.410156\" xlink:href=\"#DejaVuSans-49\"/><use x=\"159.033203\" xlink:href=\"#DejaVuSans-53\"/></g><path d=\"m62.921 148.42h390.6\" clip-path=\"url(#pf4df0363f5)\" fill=\"none\" stroke=\"#b0b0b0\" stroke-dasharray=\"2.96,1.28\" stroke-width=\".8\"/><use x=\"62.92125\" y=\"148.418906\" stroke=\"#000000\" stroke-width=\".8\" xlink:href=\"#md1796136c2\"/><defs><path id=\"DejaVuSans-51\" d=\"m40.578 39.312q7.0781-1.5156 11.047-6.3125 3.9844-4.7812 3.9844-11.812 0-10.781-7.4219-16.703-7.4219-5.9062-21.094-5.9062-4.5781 0-9.4375 0.90625t-10.031 2.7188v9.5156q4.0938-2.3906 8.9688-3.6094 4.8906-1.2188 10.219-1.2188 9.2656 0 14.125 3.6562t4.8594 10.641q0 6.4531-4.5156 10.078-4.5156 3.6406-12.562 3.6406h-8.5v8.1094h8.8906q7.2656 0 11.125 2.9062t3.8594 8.375q0 5.6094-3.9844 8.6094-3.9688 3.0156-11.391 3.0156-4.0625 0-8.7031-0.89062-4.6406-0.875-10.203-2.7188v8.7812q5.625 1.5625 10.531 2.3438t9.25 0.78125q11.234 0 17.766-5.1094 6.5469-5.0938 6.5469-13.781 0-6.0625-3.4688-10.234t-9.8594-5.7812z\"/></defs><g transform=\"translate(24.749 153.74) scale(.14 -.14)\"><use xlink:href=\"#DejaVuSans-48\"/><use x=\"63.623047\" xlink:href=\"#DejaVuSans-46\"/><use x=\"95.410156\" xlink:href=\"#DejaVuSans-51\"/><use x=\"159.033203\" xlink:href=\"#DejaVuSans-48\"/></g><path d=\"m62.921 80.469h390.6\" clip-path=\"url(#pf4df0363f5)\" fill=\"none\" stroke=\"#b0b0b0\" stroke-dasharray=\"2.96,1.28\" stroke-width=\".8\"/><use x=\"62.92125\" y=\"80.468906\" stroke=\"#000000\" stroke-width=\".8\" xlink:href=\"#md1796136c2\"/><defs><path id=\"DejaVuSans-52\" d=\"m37.797 64.312-24.906-38.922h24.906zm-2.5938 8.5938h12.406v-47.516h10.406v-8.2031h-10.406v-17.188h-9.8125v17.188h-32.906v9.5156z\"/></defs><g transform=\"translate(24.749 85.788) scale(.14 -.14)\"><use xlink:href=\"#DejaVuSans-48\"/><use x=\"63.623047\" xlink:href=\"#DejaVuSans-46\"/><use x=\"95.410156\" xlink:href=\"#DejaVuSans-52\"/><use x=\"159.033203\" xlink:href=\"#DejaVuSans-53\"/></g><path d=\"m62.921 12.519h390.6\" clip-path=\"url(#pf4df0363f5)\" fill=\"none\" stroke=\"#b0b0b0\" stroke-dasharray=\"2.96,1.28\" stroke-width=\".8\"/><use x=\"62.92125\" y=\"12.518906\" stroke=\"#000000\" stroke-width=\".8\" xlink:href=\"#md1796136c2\"/><defs><path id=\"DejaVuSans-54\" d=\"m33.016 40.375q-6.6406 0-10.531-4.5469-3.875-4.5312-3.875-12.438 0-7.8594 3.875-12.438 3.8906-4.5625 10.531-4.5625t10.516 4.5625q3.875 4.5781 3.875 12.438 0 7.9062-3.875 12.438-3.875 4.5469-10.516 4.5469zm19.578 30.922v-8.9844q-3.7188 1.75-7.5 2.6719-3.7812 0.9375-7.5 0.9375-9.7656 0-14.922-6.5938-5.1406-6.5938-5.875-19.922 2.875 4.25 7.2188 6.5156 4.3594 2.2656 9.5781 2.2656 10.984 0 17.359-6.6719 6.375-6.6562 6.375-18.125 0-11.234-6.6406-18.031-6.6406-6.7812-17.672-6.7812-12.656 0-19.344 9.6875-6.6875 9.7031-6.6875 28.109 0 17.281 8.2031 27.562t22.016 10.281q3.7188 0 7.5-0.73438t7.8906-2.1875z\"/></defs><g transform=\"translate(24.749 17.838) scale(.14 -.14)\"><use xlink:href=\"#DejaVuSans-48\"/><use x=\"63.623047\" xlink:href=\"#DejaVuSans-46\"/><use x=\"95.410156\" xlink:href=\"#DejaVuSans-54\"/><use x=\"159.033203\" xlink:href=\"#DejaVuSans-48\"/></g><defs><path id=\"DejaVuSans-80\" d=\"m19.672 64.797v-27.391h12.406q6.8906 0 10.641 3.5625 3.7656 3.5625 3.7656 10.156 0 6.5469-3.7656 10.109-3.75 3.5625-10.641 3.5625zm-9.8594 8.1094h22.266q12.266 0 18.531-5.5469 6.2812-5.5469 6.2812-16.234 0-10.797-6.2812-16.312-6.2656-5.5156-18.531-5.5156h-12.406v-29.297h-9.8594z\"/><path id=\"DejaVuSans-114\" d=\"m41.109 46.297q-1.5156 0.875-3.2969 1.2812-1.7812 0.42188-3.9219 0.42188-7.625 0-11.703-4.9531t-4.0781-14.234v-28.812h-9.0312v54.688h9.0312v-8.5q2.8438 4.9844 7.375 7.3906 4.5469 2.4219 11.047 2.4219 0.92188 0 2.0469-0.125 1.125-0.10938 2.4844-0.35938z\"/><path id=\"DejaVuSans-111\" d=\"m30.609 48.391q-7.2188 0-11.422-5.6406t-4.2031-15.453 4.1719-15.453q4.1875-5.6406 11.453-5.6406 7.1875 0 11.375 5.6562 4.2031 5.6719 4.2031 15.438 0 9.7188-4.2031 15.406-4.1875 5.6875-11.375 5.6875zm0 7.6094q11.719 0 18.406-7.625 6.7031-7.6094 6.7031-21.078 0-13.422-6.7031-21.078-6.6875-7.6406-18.406-7.6406-11.766 0-18.438 7.6406-6.6562 7.6562-6.6562 21.078 0 13.469 6.6562 21.078 6.6719 7.625 18.438 7.625z\"/><path id=\"DejaVuSans-98\" d=\"m48.688 27.297q0 9.9062-4.0781 15.547t-11.203 5.6406q-7.1406 0-11.219-5.6406t-4.0781-15.547 4.0781-15.547 11.219-5.6406q7.125 0 11.203 5.6406t4.0781 15.547zm-30.578 19.094q2.8438 4.875 7.1562 7.2344 4.3281 2.375 10.328 2.375 9.9688 0 16.188-7.9062 6.2344-7.9062 6.2344-20.797t-6.2344-20.812q-6.2188-7.9062-16.188-7.9062-6 0-10.328 2.375-4.3125 2.375-7.1562 7.25v-8.2031h-9.0312v75.984h9.0312z\"/><path id=\"DejaVuSans-97\" d=\"m34.281 27.484q-10.891 0-15.094-2.4844t-4.2031-8.5q0-4.7812 3.1562-7.5938 3.1562-2.7969 8.5625-2.7969 7.4844 0 12 5.2969t4.5156 14.078v2zm17.922 3.7188v-31.203h-8.9844v8.2969q-3.0781-4.9688-7.6719-7.3438t-11.234-2.375q-8.3906 0-13.359 4.7188-4.9531 4.7188-4.9531 12.625 0 9.2188 6.1719 13.906 6.1875 4.6875 18.438 4.6875h12.609v0.89062q0 6.2031-4.0781 9.5938t-11.453 3.3906q-4.6875 0-9.1406-1.125-4.4375-1.125-8.5312-3.375v8.3125q4.9219 1.9062 9.5625 2.8438 4.6406 0.95312 9.0312 0.95312 11.875 0 17.734-6.1562 5.8594-6.1406 5.8594-18.641z\"/><path id=\"DejaVuSans-105\" d=\"m9.4219 54.688h8.9844v-54.688h-8.9844zm0 21.297h8.9844v-11.391h-8.9844z\"/><path id=\"DejaVuSans-108\" d=\"m9.4219 75.984h8.9844v-75.984h-8.9844z\"/><path id=\"DejaVuSans-116\" d=\"m18.312 70.219v-15.531h18.5v-6.9844h-18.5v-29.688q0-6.6875 1.8281-8.5938t7.4531-1.9062h9.2188v-7.5156h-9.2188q-10.406 0-14.359 3.875-3.9531 3.8906-3.9531 14.141v29.688h-6.5938v6.9844h6.5938v15.531z\"/><path id=\"DejaVuSans-101\" d=\"m56.203 29.594v-4.3906h-41.312q0.59375-9.2812 5.5938-14.141t13.938-4.8594q5.1719 0 10.031 1.2656t9.6562 3.8125v-8.5q-4.8438-2.0469-9.9219-3.125t-10.297-1.0781q-13.094 0-20.734 7.6094-7.6406 7.625-7.6406 20.625 0 13.422 7.25 21.297 7.25 7.8906 19.562 7.8906 11.031 0 17.453-7.1094 6.4219-7.0938 6.4219-19.297zm-8.9844 2.6406q-0.09375 7.3594-4.125 11.75-4.0312 4.4062-10.672 4.4062-7.5156 0-12.031-4.25t-5.2031-11.969z\"/><path id=\"DejaVuSans-115\" d=\"m44.281 53.078v-8.5q-3.7969 1.9531-7.9062 2.9219-4.0938 0.98438-8.5 0.98438-6.6875 0-10.031-2.0469t-3.3438-6.1562q0-3.125 2.3906-4.9062t9.625-3.3906l3.0781-0.6875q9.5625-2.0469 13.594-5.7812t4.0312-10.422q0-7.625-6.0312-12.078-6.0312-4.4375-16.578-4.4375-4.3906 0-9.1562 0.85938t-10.031 2.5625v9.2812q4.9844-2.5938 9.8125-3.8906 4.8281-1.2812 9.5781-1.2812 6.3438 0 9.75 2.1719 3.4219 2.1719 3.4219 6.125 0 3.6562-2.4688 5.6094-2.4531 1.9531-10.812 3.7656l-3.125 0.73438q-8.3438 1.75-12.062 5.3906-3.7031 3.6406-3.7031 9.9844 0 7.7188 5.4688 11.906 5.4688 4.2031 15.531 4.2031 4.9688 0 9.3594-0.73438 4.4062-0.71875 8.1094-2.1875z\"/></defs><g transform=\"translate(17.838 191.17) rotate(-90) scale(.14 -.14)\"><use xlink:href=\"#DejaVuSans-80\"/><use x=\"58.552734\" xlink:href=\"#DejaVuSans-114\"/><use x=\"97.416016\" xlink:href=\"#DejaVuSans-111\"/><use x=\"158.597656\" xlink:href=\"#DejaVuSans-98\"/><use x=\"222.074219\" xlink:href=\"#DejaVuSans-97\"/><use x=\"283.353516\" xlink:href=\"#DejaVuSans-98\"/><use x=\"346.830078\" xlink:href=\"#DejaVuSans-105\"/><use x=\"374.613281\" xlink:href=\"#DejaVuSans-108\"/><use x=\"402.396484\" xlink:href=\"#DejaVuSans-105\"/><use x=\"430.179688\" xlink:href=\"#DejaVuSans-116\"/><use x=\"469.388672\" xlink:href=\"#DejaVuSans-105\"/><use x=\"497.171875\" xlink:href=\"#DejaVuSans-101\"/><use x=\"558.695312\" xlink:href=\"#DejaVuSans-115\"/></g><path d=\"m80.676 284.32h118.36v-226.5h-118.36z\" clip-path=\"url(#pf4df0363f5)\" fill=\"#648fff\"/><path d=\"m317.4 284.32h118.36v-226.5h-118.36z\" clip-path=\"url(#pf4df0363f5)\" fill=\"#648fff\"/><path d=\"m62.921 284.32v-271.8\" fill=\"none\" stroke=\"#000000\" stroke-linecap=\"square\" stroke-width=\".8\"/><path d=\"m453.52 284.32v-271.8\" fill=\"none\" stroke=\"#000000\" stroke-linecap=\"square\" stroke-width=\".8\"/><path d=\"m62.921 284.32h390.6\" fill=\"none\" stroke=\"#000000\" stroke-linecap=\"square\" stroke-width=\".8\"/><path d=\"m62.921 12.519h390.6\" fill=\"none\" stroke=\"#000000\" stroke-linecap=\"square\" stroke-width=\".8\"/><g transform=\"translate(125.54 44.414) scale(.1 -.1)\"><use xlink:href=\"#DejaVuSans-48\"/><use x=\"63.623047\" xlink:href=\"#DejaVuSans-46\"/><use x=\"95.410156\" xlink:href=\"#DejaVuSans-53\"/><use x=\"159.033203\" xlink:href=\"#DejaVuSans-48\"/><use x=\"222.65625\" xlink:href=\"#DejaVuSans-48\"/></g><g transform=\"translate(362.27 44.414) scale(.1 -.1)\"><use xlink:href=\"#DejaVuSans-48\"/><use x=\"63.623047\" xlink:href=\"#DejaVuSans-46\"/><use x=\"95.410156\" xlink:href=\"#DejaVuSans-53\"/><use x=\"159.033203\" xlink:href=\"#DejaVuSans-48\"/><use x=\"222.65625\" xlink:href=\"#DejaVuSans-48\"/></g><defs><clipPath id=\"pf4df0363f5\"><rect x=\"62.921\" y=\"12.519\" width=\"390.6\" height=\"271.8\"/></clipPath></defs></svg>"
      ],
      "text/plain": [
       "<Figure size 504x360 with 1 Axes>"
      ]
     },
     "execution_count": 12,
     "metadata": {},
     "output_type": "execute_result"
    }
   ],
   "source": [
    "results = execute(qc,backend).result().get_counts()\n",
    "plot_histogram(results)"
   ]
  },
  {
   "cell_type": "markdown",
   "metadata": {},
   "source": [
    "$|0\\rangle$または$|1\\rangle$を測定する確率が等しいことがわかります。 これを説明するには、測定について話す必要があります。\n",
    "\n",
    "## 2. 測定のルール <a id=\"rules-measurement\"></a>\n",
    "### 2.1 非常に重要なルール <a id=\"important-rule\"></a>\n",
    "\n",
    "測定には簡単なルールがあります。 状態$|\\psi \\rangle$を状態$|x\\rangle$で測定する確率を見つけるには、\n",
    "\n",
    "$$p(|x\\rangle) = | \\langle x | \\psi \\rangle|^2$$\n",
    "\n",
    "記号$\\langle$および$|$は、$\\langle x |$が行ベクトルであることを示します。 量子力学では、列ベクトルを _ケット_ 、行ベクトルを _ブラ_ と呼びます。これらを合わせて _ブラケット_ 表記を構成します。 すべてのケット$|a\\rangle$には対応するブラ$\\langle a|$があり、共役転置を使用してそれらの間で変換します。\n",
    "\n",
    "\n",
    "<details>\n",
    "  <summary>備忘: 内積（ここをクリックして展開してください。）</summary>\n",
    "    <p>ベクトルを乗算する方法はいくつかあります。ここでは、<i>内積</i>を使用します。 内積は、すでにおなじみの<i>ドット積</i>を一般化したものです。 このガイドでは、ブラ（行ベクトル）とケット（列ベクトル）の間の内積を使用しており、このルールに従います。\n",
    "        \n",
    "$$\\langle a| = \\begin{bmatrix}a_0^*, & a_1^*, & \\dots & a_n^* \\end{bmatrix}, \\quad\n",
    "    |b\\rangle = \\begin{bmatrix}b_0 \\\\ b_1 \\\\ \\vdots \\\\ b_n \\end{bmatrix}$$\n",
    "    $$\\langle a|b\\rangle = a_0^* b_0 + a_1^* b_1 \\dots a_n^* b_n$$\n",
    "    </p>\n",
    "  <p>2つのベクトルの内積は常にスカラーを与えることがわかります。 覚えておくと便利なことは、2つの直交ベクトルの内積は0であることです。たとえば、直交ベクトル$|0\\rangle$と$|1\\rangle$がある場合、\n",
    "    $$\\langle1|0\\rangle = \\begin{bmatrix} 0 , & 1\\end{bmatrix}\\begin{bmatrix}1 \\\\ 0\\end{bmatrix} = 0$$\n",
    "    </p>\n",
    "  <p>さらに、ベクトル$|0\\rangle$および$|1\\rangle$も正規化されていることを覚えておいてください。（大きさが1に等しい）\n",
    "\n",
    "$$\n",
    "      \\begin{aligned} \n",
    "      \\langle0|0\\rangle & = \\begin{bmatrix} 1 , & 0\\end{bmatrix}\\begin{bmatrix}1 \\\\ 0\\end{bmatrix} = 1 \\\\\n",
    "      \\langle1|1\\rangle & = \\begin{bmatrix} 0 , & 1\\end{bmatrix}\\begin{bmatrix}0 \\\\ 1\\end{bmatrix} = 1\n",
    "      \\end{aligned}\n",
    "$$\n",
    "   </p>\n",
    "</details>\n",
    "\n",
    "上記の方程式では、$|x\\rangle$は任意の量子ビット状態にすることができます。 $|x\\rangle$を測定する確率を見つけるには、$|x\\rangle$と測定している状態（この場合は$|\\psi\\rangle$）の内積を取り、その大きさを二乗します。 これは少し複雑に見えるかもしれませんが、すぐに慣れます。\n",
    "\n",
    "状態$|q_0\\rangle$を見ると、$|0\\rangle$を測定する確率は確かに$0.5$であることがわかります。\n",
    "\n",
    "$$\n",
    "\\begin{aligned}\n",
    "|q_0\\rangle & = \\tfrac{1}{\\sqrt{2}}|0\\rangle + \\tfrac{i}{\\sqrt{2}}|1\\rangle \\\\\n",
    "\\langle 0| q_0 \\rangle  & = \\tfrac{1}{\\sqrt{2}}\\langle 0|0\\rangle + \\tfrac{i}{\\sqrt{2}}\\langle 0|1\\rangle \\\\\n",
    "& = \\tfrac{1}{\\sqrt{2}}\\cdot 1 +  \\tfrac{i}{\\sqrt{2}} \\cdot 0\\\\\n",
    "& = \\tfrac{1}{\\sqrt{2}}\\\\\n",
    "|\\langle 0| q_0 \\rangle|^2 & = \\tfrac{1}{2}\n",
    "\\end{aligned}\n",
    "$$\n",
    "\n",
    "演習として$|1\\rangle$を測定する確率を確認してみてください。\n",
    "\n",
    "### 2.2 測定のルールの意味 <a id=\"implications\"></a>\n",
    "### #1 正規化\n",
    "\n",
    "測定のルールは3つのことを意味します。1つ目は、状態ベクトルを1に正規化する必要があることです。\n",
    "\n",
    "確率を合計して1にしたい場合（合計する必要があります！）、状態ベクトルの大きさを1にする必要があります。\n",
    "\n",
    "$$ \\langle\\psi|\\psi\\rangle = 1 \\\\ $$\n",
    "\n",
    "したがって\n",
    "\n",
    "$$ |\\psi\\rangle = \\alpha|0\\rangle + \\beta|1\\rangle $$\n",
    "\n",
    "このとき\n",
    "\n",
    "$$ \\sqrt{|\\alpha|^2 + |\\beta|^2} = 1 $$\n",
    "\n",
    "これは、この章を通して見た$\\sqrt{2}$の要因を説明しています。 実際、正規化されていないベクトルを `initialize()`に与えようとすると、エラーが発生します。\n"
   ]
  },
  {
   "cell_type": "code",
   "execution_count": 13,
   "metadata": {
    "tags": [
     "raises-exception"
    ]
   },
   "outputs": [
    {
     "ename": "QiskitError",
     "evalue": "'Sum of amplitudes-squared does not equal one.'",
     "output_type": "error",
     "traceback": [
      "\u001b[1;31m---------------------------------------------------------------------------\u001b[0m",
      "\u001b[1;31mQiskitError\u001b[0m                               Traceback (most recent call last)",
      "\u001b[1;32m<ipython-input-13-ddc73828b990>\u001b[0m in \u001b[0;36m<module>\u001b[1;34m\u001b[0m\n\u001b[0;32m      1\u001b[0m \u001b[0mvector\u001b[0m \u001b[1;33m=\u001b[0m \u001b[1;33m[\u001b[0m\u001b[1;36m1\u001b[0m\u001b[1;33m,\u001b[0m\u001b[1;36m1\u001b[0m\u001b[1;33m]\u001b[0m\u001b[1;33m\u001b[0m\u001b[1;33m\u001b[0m\u001b[0m\n\u001b[1;32m----> 2\u001b[1;33m \u001b[0mqc\u001b[0m\u001b[1;33m.\u001b[0m\u001b[0minitialize\u001b[0m\u001b[1;33m(\u001b[0m\u001b[0mvector\u001b[0m\u001b[1;33m,\u001b[0m \u001b[1;36m0\u001b[0m\u001b[1;33m)\u001b[0m\u001b[1;33m\u001b[0m\u001b[1;33m\u001b[0m\u001b[0m\n\u001b[0m",
      "\u001b[1;32m~\\Anaconda3\\envs\\qiskit_Ver18\\lib\\site-packages\\qiskit\\extensions\\quantum_initializer\\initializer.py\u001b[0m in \u001b[0;36minitialize\u001b[1;34m(self, params, qubits)\u001b[0m\n\u001b[0;32m    252\u001b[0m     \u001b[1;32mif\u001b[0m \u001b[1;32mnot\u001b[0m \u001b[0misinstance\u001b[0m\u001b[1;33m(\u001b[0m\u001b[0mqubits\u001b[0m\u001b[1;33m,\u001b[0m \u001b[0mlist\u001b[0m\u001b[1;33m)\u001b[0m\u001b[1;33m:\u001b[0m\u001b[1;33m\u001b[0m\u001b[1;33m\u001b[0m\u001b[0m\n\u001b[0;32m    253\u001b[0m         \u001b[0mqubits\u001b[0m \u001b[1;33m=\u001b[0m \u001b[1;33m[\u001b[0m\u001b[0mqubits\u001b[0m\u001b[1;33m]\u001b[0m\u001b[1;33m\u001b[0m\u001b[1;33m\u001b[0m\u001b[0m\n\u001b[1;32m--> 254\u001b[1;33m     \u001b[1;32mreturn\u001b[0m \u001b[0mself\u001b[0m\u001b[1;33m.\u001b[0m\u001b[0mappend\u001b[0m\u001b[1;33m(\u001b[0m\u001b[0mInitialize\u001b[0m\u001b[1;33m(\u001b[0m\u001b[0mparams\u001b[0m\u001b[1;33m)\u001b[0m\u001b[1;33m,\u001b[0m \u001b[0mqubits\u001b[0m\u001b[1;33m)\u001b[0m\u001b[1;33m\u001b[0m\u001b[1;33m\u001b[0m\u001b[0m\n\u001b[0m\u001b[0;32m    255\u001b[0m \u001b[1;33m\u001b[0m\u001b[0m\n\u001b[0;32m    256\u001b[0m \u001b[1;33m\u001b[0m\u001b[0m\n",
      "\u001b[1;32m~\\Anaconda3\\envs\\qiskit_Ver18\\lib\\site-packages\\qiskit\\extensions\\quantum_initializer\\initializer.py\u001b[0m in \u001b[0;36m__init__\u001b[1;34m(self, params)\u001b[0m\n\u001b[0;32m     56\u001b[0m         if not math.isclose(sum(np.absolute(params) ** 2), 1.0,\n\u001b[0;32m     57\u001b[0m                             abs_tol=_EPS):\n\u001b[1;32m---> 58\u001b[1;33m             \u001b[1;32mraise\u001b[0m \u001b[0mQiskitError\u001b[0m\u001b[1;33m(\u001b[0m\u001b[1;34m\"Sum of amplitudes-squared does not equal one.\"\u001b[0m\u001b[1;33m)\u001b[0m\u001b[1;33m\u001b[0m\u001b[1;33m\u001b[0m\u001b[0m\n\u001b[0m\u001b[0;32m     59\u001b[0m \u001b[1;33m\u001b[0m\u001b[0m\n\u001b[0;32m     60\u001b[0m         \u001b[0mnum_qubits\u001b[0m \u001b[1;33m=\u001b[0m \u001b[0mint\u001b[0m\u001b[1;33m(\u001b[0m\u001b[0mnum_qubits\u001b[0m\u001b[1;33m)\u001b[0m\u001b[1;33m\u001b[0m\u001b[1;33m\u001b[0m\u001b[0m\n",
      "\u001b[1;31mQiskitError\u001b[0m: 'Sum of amplitudes-squared does not equal one.'"
     ]
    }
   ],
   "source": [
    "vector = [1,1]\n",
    "qc.initialize(vector, 0)"
   ]
  },
  {
   "cell_type": "markdown",
   "metadata": {},
   "source": [
    "#### 練習問題\n",
    "1. $|0\\rangle$を測定する確率が$1/3$になる状態ベクトルを作成してください。\n",
    "2. 同じ測定確率を与える別の状態ベクトルを作成してください。\n",
    "3. これら2つの状態の$|1\\rangle$を測定する確率が$2/3$であることを確認します。"
   ]
  },
  {
   "cell_type": "markdown",
   "metadata": {},
   "source": [
    "以下のウィジェットで答えを確認できます（ベクトルで「pi」と「sqrt」を使用できます）。"
   ]
  },
  {
   "cell_type": "code",
   "execution_count": 14,
   "metadata": {
    "scrolled": true
   },
   "outputs": [
    {
     "data": {
      "application/vnd.jupyter.widget-view+json": {
       "model_id": "28d76a5164074f16aad49c4c0aceae2c",
       "version_major": 2,
       "version_minor": 0
      },
      "text/plain": [
       "VBox(children=(Label(value='State Vector:'), HBox(children=(Text(value='[1, 0]', placeholder='Type something')…"
      ]
     },
     "metadata": {},
     "output_type": "display_data"
    },
    {
     "data": {
      "application/vnd.jupyter.widget-view+json": {
       "model_id": "d5bb2088529b4646aba181ac145e1f1f",
       "version_major": 2,
       "version_minor": 0
      },
      "text/plain": [
       "HTML(value='<pre></pre>')"
      ]
     },
     "metadata": {},
     "output_type": "display_data"
    }
   ],
   "source": [
    "# このセルのコードを実行してウィジェットとやり取りします。\n",
    "from qiskit_textbook.widgets import state_vector_exercise\n",
    "state_vector_exercise(target=1/3)"
   ]
  },
  {
   "cell_type": "markdown",
   "metadata": {},
   "source": [
    "### #2 グローバルフェーズ\n",
    "\n",
    "2番目は、量子ビットの全体の位相（グローバルフェーズ）は重要ではなく、$|0\\rangle$と$|1\\rangle$（相対位相）の間の位相の違いのみが重要です。 これは、測定確率を計算するとグローバルフェーズが消えるためです。 たとえば、2つの状態は、\n",
    "\n",
    "$$|a\\rangle = \\tfrac{1}{\\sqrt{2}}\\begin{bmatrix}1 \\\\ i\\end{bmatrix} \\quad \\& \\quad |b\\rangle = \\tfrac{1}{\\sqrt{2}}\\begin{bmatrix}i \\\\ -1\\end{bmatrix}$$\n",
    "\n",
    "一方に$i$を掛けてもう片方を取得できるため、これらは同等です。\n",
    "\n",
    "$$ \n",
    "\\begin{aligned} \n",
    "i\\times\\tfrac{1}{\\sqrt{2}}\\begin{bmatrix}1 \\\\ i\\end{bmatrix} & = \\tfrac{1}{\\sqrt{2}}\\begin{bmatrix}i \\\\ -1\\end{bmatrix}\\\\\n",
    "\\\\\n",
    "i|a\\rangle & = |b\\rangle\n",
    "\\end{aligned}\n",
    "$$\n",
    "\n",
    "そして、測定確率を計算します。\n",
    "\n",
    "$$ |\\langle x|a\\rangle|^2 = |\\langle x|i|a\\rangle|^2 = |\\langle x|b\\rangle|^2 $$\n",
    "\n",
    "### #3 オブザーバー効果\n",
    "\n",
    "振幅には、特定の状態の量子ビットを見つける確率に関する情報が含まれていますが、量子ビットを測定すると、量子ビットの状態が確実にわかります。 たとえば、ある状態の量子ビットを測定し、\n",
    "\n",
    "$$ |q\\rangle = \\alpha|0\\rangle + \\beta|1\\rangle$$\n",
    "\n",
    "状態$|0\\rangle$だと判明します。もう一度測定すると、状態$|0\\rangle$で量子ビットを見つける確率は100％です。 これは、量子ビットの状態の _変化_ を測定する行為を意味します。\n",
    "\n",
    "$$ |q\\rangle = \\begin{bmatrix} \\alpha \\\\ \\beta \\end{bmatrix} \\xrightarrow{\\text{Measure }|0\\rangle} |q\\rangle = |0\\rangle = \\begin{bmatrix} 1 \\\\ 0 \\end{bmatrix}$$\n",
    "\n",
    "実際、測定は量子ビットの状態を変更するだけでなく、量子ビットの重ね合わせを _破壊_ し、2つの明確な状態のいずれかに置き換えます。 その結果、ほとんどの場合、測定は回路の最後に配置されます。 この破壊的な測定は、量子ビットの状態を _崩壊する_ と呼ぶこともあります。\n",
    "\n",
    "Qiskitのstatevectorシミュレーターを使用してこれを実証できます。 重ね合わせで量子ビットを初期化しましょう。"
   ]
  },
  {
   "cell_type": "code",
   "execution_count": 15,
   "metadata": {},
   "outputs": [
    {
     "data": {
      "text/html": [
       "<pre style=\"word-wrap: normal;white-space: pre;background: #fff0;line-height: 1.1;font-family: &quot;Courier New&quot;,Courier,monospace\">     ┌──────────────────────────────┐\n",
       "q_0: ┤ Initialize(0.70711j,0.70711) ├\n",
       "     └──────────────────────────────┘</pre>"
      ],
      "text/plain": [
       "     ┌──────────────────────────────┐\n",
       "q_0: ┤ Initialize(0.70711j,0.70711) ├\n",
       "     └──────────────────────────────┘"
      ]
     },
     "execution_count": 15,
     "metadata": {},
     "output_type": "execute_result"
    }
   ],
   "source": [
    "qc = QuantumCircuit(1) # qcを再定義します。\n",
    "initial_state = [0.+1.j/sqrt(2),1/sqrt(2)+0.j]\n",
    "qc.initialize(initial_state, [0])\n",
    "qc.draw()"
   ]
  },
  {
   "cell_type": "markdown",
   "metadata": {},
   "source": [
    "これにより、量子ビットが次の状態で初期化されます。\n",
    "\n",
    "$$ |q\\rangle = \\tfrac{i}{\\sqrt{2}}|0\\rangle + \\tfrac{1}{\\sqrt{2}}|1\\rangle $$\n",
    "\n",
    "これはシミュレーターを使用して確認できます。"
   ]
  },
  {
   "cell_type": "code",
   "execution_count": 16,
   "metadata": {},
   "outputs": [
    {
     "name": "stdout",
     "output_type": "stream",
     "text": [
      "Qubit State = [0.        +0.70710678j 0.70710678+0.j        ]\n"
     ]
    }
   ],
   "source": [
    "state = execute(qc,backend).result().get_statevector()\n",
    "print(\"Qubit State = \" + str(state))"
   ]
  },
  {
   "cell_type": "markdown",
   "metadata": {},
   "source": [
    "ここで、量子ビットが期待した状態である`[0. + 0.70710678j 0.70710678 + 0.j]`の状態で初期化されていることがわかります。\n",
    "\n",
    "では、この量子ビットを測定してみましょう。"
   ]
  },
  {
   "cell_type": "code",
   "execution_count": 17,
   "metadata": {},
   "outputs": [
    {
     "data": {
      "text/html": [
       "<pre style=\"word-wrap: normal;white-space: pre;background: #fff0;line-height: 1.1;font-family: &quot;Courier New&quot;,Courier,monospace\">        ┌──────────────────────────────┐ ░ ┌─┐\n",
       "   q_0: ┤ Initialize(0.70711j,0.70711) ├─░─┤M├\n",
       "        └──────────────────────────────┘ ░ └╥┘\n",
       "meas_0: ════════════════════════════════════╩═\n",
       "                                              </pre>"
      ],
      "text/plain": [
       "        ┌──────────────────────────────┐ ░ ┌─┐\n",
       "   q_0: ┤ Initialize(0.70711j,0.70711) ├─░─┤M├\n",
       "        └──────────────────────────────┘ ░ └╥┘\n",
       "meas_0: ════════════════════════════════════╩═\n",
       "                                              "
      ]
     },
     "execution_count": 17,
     "metadata": {},
     "output_type": "execute_result"
    }
   ],
   "source": [
    "qc.measure_all()\n",
    "qc.draw()"
   ]
  },
  {
   "cell_type": "markdown",
   "metadata": {},
   "source": [
    "この回路全体をシミュレートすると、振幅の1つが _常に_ 0であることがわかります。"
   ]
  },
  {
   "cell_type": "code",
   "execution_count": 18,
   "metadata": {},
   "outputs": [
    {
     "name": "stdout",
     "output_type": "stream",
     "text": [
      "State of Measured Qubit = [0.+0.j 1.+0.j]\n"
     ]
    }
   ],
   "source": [
    "state = execute(qc,backend).result().get_statevector()\n",
    "print(\"State of Measured Qubit = \" + str(state))"
   ]
  },
  {
   "cell_type": "markdown",
   "metadata": {},
   "source": [
    "このセルを数回再実行して、量子ビットを再初期化して再度測定できます。どちらの結果も同様にでる可能性がありますが、量子ビットの状態が$|0\\rangle$と$|1\\rangle$の重ね合わせになることはありません。興味深いことに、$|0\\rangle$状態のグローバルフェーズは存続しますが、これはグローバルフェーズであるため、実際の量子コンピューターでは測定できません。\n",
    "\n",
    "### 量子シミュレーターに関する注意\n",
    "\n",
    "量子ビットの状態を書き留めるには、2つの複素数を追跡する必要があることがわかりますが、実際の量子コンピューターを使用する場合、各量子ビットについて、「はい」または「いいえ」（ `0`または`1`）の回答しか受け取りません。 10量子ビット量子コンピューターの出力は次のようになります。\n",
    "\n",
    "`0110111110`\n",
    "\n",
    "わずか10桁で、重ね合わせや複雑な振幅はありません。 実際の量子コンピューターを使用する場合、計算の途中で量子ビットの状態を見ると、状態を破壊してしまうため、見ることができません。 この動作は学習に理想的ではないため、Qiskitはさまざまな量子シミュレーターを提供します。`qasm_simulator`は、実際の量子コンピューターと対話しているように動作し、 `.get_statevector()`を使用できません。 別の方法として、（この章で使用してきた）`statevector_simulator`では、これまでに説明したように、測定前の量子状態をみることができます。"
   ]
  },
  {
   "cell_type": "markdown",
   "metadata": {},
   "source": [
    "## 3. ブロッホ球 <a id=\"bloch-sphere\"></a>\n",
    "### 3.1 制限された量子ビット状態の説明 <a id=\"bloch-sphere-1\"></a>\n",
    "\n",
    "この章の前半で、量子ビット（$|q\\rangle$）の一般的な状態は次のとおりであることを確認しました。\n",
    "\n",
    "$$\n",
    "|q\\rangle = \\alpha|0\\rangle + \\beta|1\\rangle\n",
    "$$\n",
    "\n",
    "$$\n",
    "\\alpha, \\beta \\in \\mathbb{C}\n",
    "$$\n",
    "\n",
    "（2行目は、$\\alpha$と$\\beta$が複素数であることを示しています）。 セクション2の最初の2つの意味は、これらの状態のいくつかを区別できないことを示しています。 これは、量子ビットの説明をより具体的にできることを意味します。\n",
    "\n",
    "まず、グローバルな位相を測定できないため、状態$|0\\rangle$と$|1\\rangle$の間の位相の差しか測定できません。 $\\alpha$と$\\beta$を複素数にする代わりに、それらを実数に制限し、それらの間の相対的な位相を示す項を追加することができます。\n",
    "\n",
    "$$\n",
    "|q\\rangle = \\alpha|0\\rangle + e^{i\\phi}\\beta|1\\rangle\n",
    "$$\n",
    "\n",
    "$$\n",
    "\\alpha, \\beta, \\phi \\in \\mathbb{R}\n",
    "$$\n",
    "\n",
    "最後に、量子ビット状態は正規化する必要があるため、\n",
    "\n",
    "$$\n",
    "\\sqrt{\\alpha^2 + \\beta^2} = 1\n",
    "$$\n",
    "\n",
    "三角関数の性質を使用できます。\n",
    "\n",
    "$$\n",
    "\\sqrt{\\sin^2{x} + \\cos^2{x}} = 1\n",
    "$$\n",
    "\n",
    "実際の$\\alpha$と$\\beta$を1つの変数$\\theta$で説明すると、\n",
    "\n",
    "$$\n",
    "\\alpha = \\cos{\\tfrac{\\theta}{2}}, \\quad \\beta=\\sin{\\tfrac{\\theta}{2}}\n",
    "$$\n",
    "\n",
    "これから、2つの変数$\\phi$と$\\theta$を使用して、量子ビットの状態を説明できます。\n",
    "\n",
    "$$\n",
    "|q\\rangle = \\cos{\\tfrac{\\theta}{2}}|0\\rangle + e^{i\\phi}\\sin{\\tfrac{\\theta}{2}}|1\\rangle\n",
    "$$\n",
    "\n",
    "$$\n",
    "\\theta, \\phi \\in \\mathbb{R}\n",
    "$$\n",
    "\n",
    "### 3.2 量子ビットの状態を視覚的に表現する <a id=\"bloch-sphere-2\"></a>\n",
    "\n",
    "一般的な量子ビット状態をプロットします。\n",
    "\n",
    "$$\n",
    "|q\\rangle = \\cos{\\tfrac{\\theta}{2}}|0\\rangle + e^{i\\phi}\\sin{\\tfrac{\\theta}{2}}|1\\rangle\n",
    "$$\n",
    "\n",
    "$\\theta$と$\\phi$を球面座標として解釈すると（$r=1$、量子ビット状態の大きさは$1$であるため）、_ブロッホ球_ として知られる球の表面に任意の量子ビット状態をプロットできます。 \n",
    "\n",
    "以下では、状態$|{+}\\rangle$の量子ビットをプロットしました。 この場合、$\\theta = \\pi/2$および$\\phi = 0$です。\n",
    "\n",
    "（Qiskitにはブロッホ球をプロットする関数 `plot_bloch_vector()`がありますが、これを書いている時点では、デカルト座標しかとっていません。自動的に変換を行う関数が含まれています。）"
   ]
  },
  {
   "cell_type": "code",
   "execution_count": 19,
   "metadata": {},
   "outputs": [
    {
     "data": {
      "image/svg+xml": [
       "<?xml version=\"1.0\" encoding=\"UTF-8\"?><!DOCTYPE svg  PUBLIC '-//W3C//DTD SVG 1.1//EN'  'http://www.w3.org/Graphics/SVG/1.1/DTD/svg11.dtd'><svg width=\"374.4pt\" height=\"374.4pt\" version=\"1.1\" viewBox=\"0 0 374.4 374.4\" xmlns=\"http://www.w3.org/2000/svg\" xmlns:xlink=\"http://www.w3.org/1999/xlink\"><defs><style type=\"text/css\">*{stroke-linecap:butt;stroke-linejoin:round;}</style></defs><path d=\"m0 374.4h374.4v-374.4h-374.4z\" fill=\"none\"/><path d=\"m7.2 367.2h360v-360h-360z\" fill=\"#ffffff\"/><g stroke=\"#dc267f\" stroke-linecap=\"round\" stroke-width=\"5\"><path d=\"m190.55 183.65q-35.204 30.487-66.181 57.315\" clip-path=\"url(#pf4477786ed)\" fill=\"none\"/><path d=\"m133.04 238.75-8.666 2.2135 3.4288-8.2609 5.2372 6.0474z\" clip-path=\"url(#pf4477786ed)\" fill=\"#dc267f\"/></g><path d=\"m75.302 148.63 240.98 69.565\" clip-path=\"url(#pf4477786ed)\" fill=\"none\" stroke=\"#808080\" stroke-linecap=\"square\"/><path d=\"m118.63 245.93 139.4-120.72\" clip-path=\"url(#pf4477786ed)\" fill=\"none\" stroke=\"#808080\" stroke-linecap=\"square\"/><path d=\"m192.06 298.56v-241.06\" clip-path=\"url(#pf4477786ed)\" fill=\"none\" stroke=\"#808080\" stroke-linecap=\"square\"/><path d=\"m316.28 218.19 7.3132-8.6175 4.9152-8.9605 2.4843-9.1349 0.067391-9.1452-2.2929-8.9987-4.5589-8.7053-6.6982-8.2768-8.6833-7.7258-10.492-7.0659-12.105-6.3107-13.509-5.4741-14.693-4.5695-15.648-3.61-16.369-2.6083-16.852-1.5768-17.094-0.52757-17.094 0.52757-16.852 1.5768-16.369 2.6083-15.648 3.61-14.693 4.5695-13.509 5.4741-12.105 6.3107-10.492 7.0659\" clip-path=\"url(#pf4477786ed)\" fill=\"none\" stroke=\"#808080\" stroke-linecap=\"square\"/><path d=\"m258.03 125.21-0.24496-14.774-1.3262-13.751-2.406-12.503-3.4699-11.04-4.502-9.3728-5.4854-7.5167-6.4023-5.4919-7.2339-3.3237-7.9614-1.0428-8.5659 1.3147-9.0297 3.7071-9.3366 6.0881-9.473 8.4076-9.4286 10.613-9.1974 12.65-8.7785 14.467-8.1762 16.016-7.4006 17.253-6.4676 18.144-5.3979 18.665-4.217 18.801-2.9535 18.55-1.6384 17.922-0.30344 16.938\" clip-path=\"url(#pf4477786ed)\" fill=\"none\" stroke=\"#808080\" stroke-linecap=\"square\"/><path d=\"m75.302 148.63-8.6833 7.7258-6.6982 8.2768-4.5589 8.7053-2.2929 8.9987 0.067391 9.1452 2.4843 9.1349 4.9152 8.9605 7.3132 8.6175 9.628 8.1052 11.807 7.4271 13.798 6.5916 15.55 5.6119 17.016 4.5059 18.155 3.2962 18.933 2.0095 19.328 0.67518 19.328-0.67518 18.933-2.0095 18.155-3.2962 17.016-4.5059 15.55-5.6119 13.798-6.5916 11.807-7.4271 9.628-8.1052\" clip-path=\"url(#pf4477786ed)\" fill=\"none\" stroke=\"#808080\" stroke-linecap=\"square\"/><path d=\"m118.63 245.93 1.02 15.629 2.3021 14.032 3.5162 12.194 4.6385 10.161 5.6497 7.9848 6.5344 5.7143 7.2815 3.3977 7.8839 1.0797 8.3381-1.1991 8.6437-3.4024 8.8031-5.4991 8.8207-7.4623 8.7023-9.2699 8.4553-10.904 8.0876-12.349 7.6077-13.594 7.0244-14.629 6.3468-15.447 5.584-16.043 4.7452-16.412 3.8399-16.55 2.8778-16.457 1.8689-16.129 0.82422-15.568\" clip-path=\"url(#pf4477786ed)\" fill=\"none\" stroke=\"#808080\" stroke-linecap=\"square\"/><g fill-opacity=\".2\"><path d=\"m192.06 182.34v16.943 16.71l-12.005 0.40521-11.824 1.2104-2.8655-16.542-2.4328-16.809 14.457-1.4366z\" clip-path=\"url(#pf4477786ed)\" fill=\"#887575\"/><path d=\"m221.19 184.25-2.4328 16.809-2.8655 16.542-11.824-1.2104-12.005-0.40521v-16.71-16.943l14.671 0.48079z\" clip-path=\"url(#pf4477786ed)\" fill=\"#776767\"/><path d=\"m224.63 150.76-1.4734 16.647-1.9672 16.844-14.457-1.4366-14.671-0.48079v-16.943-16.71l16.401 0.5214z\" clip-path=\"url(#pf4477786ed)\" fill=\"#7a6a6a\"/><path d=\"m192.06 148.68v16.71 16.943l-14.671 0.48079-14.457 1.4366-1.9672-16.844-1.4734-16.647 16.167-1.5582z\" clip-path=\"url(#pf4477786ed)\" fill=\"#8d7a7a\"/><path d=\"m248.62 189.91-4.7452 16.412-5.584 16.043-10.93-2.763-11.465-1.9998 2.8655-16.542 2.4328-16.809 14.031 2.375z\" clip-path=\"url(#pf4477786ed)\" fill=\"#685a5a\"/><path d=\"m162.94 184.25 2.4328 16.809 2.8655 16.542-11.465 1.9998-10.93 2.763-5.584-16.043-4.7452-16.412 13.395-3.2844z\" clip-path=\"url(#pf4477786ed)\" fill=\"#998585\"/><path d=\"m255.34 156.9-2.8778 16.457-3.8399 16.55-13.395-3.2844-14.031-2.375 1.9672-16.844 1.4734-16.647 15.7 2.5772z\" clip-path=\"url(#pf4477786ed)\" fill=\"#695b5b\"/><path d=\"m159.5 150.76 1.4734 16.647 1.9672 16.844-14.031 2.375-13.395 3.2844-3.8399-16.55-2.8778-16.457 15.003-3.566z\" clip-path=\"url(#pf4477786ed)\" fill=\"#a28c8c\"/><path d=\"m215.89 217.6-3.2604 16.044-3.6127 15.318-8.4114-0.88485-8.545-0.29635v-15.551-16.246l12.005 0.40521z\" clip-path=\"url(#pf4477786ed)\" fill=\"#766767\"/><path d=\"m192.06 215.99v16.246 15.551l-8.545 0.29635-8.4114 0.88485-3.6127-15.318-3.2604-16.044 11.824-1.2104z\" clip-path=\"url(#pf4477786ed)\" fill=\"#837272\"/><path d=\"m226.01 118.99-0.42172 15.555-0.95649 16.217-16.167-1.5582-16.401-0.5214v-16.246-15.551l17.094 0.52757z\" clip-path=\"url(#pf4477786ed)\" fill=\"#7f6e6e\"/><path d=\"m192.06 116.89v15.551 16.246l-16.401 0.5214-16.167 1.5582-0.95649-16.217-0.42172-15.555 16.852-1.5768z\" clip-path=\"url(#pf4477786ed)\" fill=\"#948080\"/><path d=\"m238.29 222.37-6.3468 15.447-7.0244 14.629-7.7509-2.0159-8.1457-1.4608 3.6127-15.318 3.2604-16.044 11.465 1.9998z\" clip-path=\"url(#pf4477786ed)\" fill=\"#6b5d5d\"/><path d=\"m168.24 217.6 3.2604 16.044 3.6127 15.318-8.1457 1.4608-7.7509 2.0159-7.0244-14.629-6.3468-15.447 10.93-2.763z\" clip-path=\"url(#pf4477786ed)\" fill=\"#907d7d\"/><path d=\"m258.03 125.21-0.82422 15.568-1.8689 16.129-15.003-3.566-15.7-2.5772 0.95649-16.217 0.42172-15.555 16.369 2.6083z\" clip-path=\"url(#pf4477786ed)\" fill=\"#6d5e5e\"/><path d=\"m158.12 118.99 0.42172 15.555 0.95649 16.217-15.7 2.5772-15.003 3.566-1.869-16.129-0.82422-15.568 15.648-3.61z\" clip-path=\"url(#pf4477786ed)\" fill=\"#aa9393\"/><path d=\"m135.51 189.91 4.7452 16.412 5.584 16.043-10.224 3.4893-9.3533 4.1684-8.0077-15.229-6.8148-15.762 11.516-4.9682z\" clip-path=\"url(#pf4477786ed)\" fill=\"#aa9393\"/><path d=\"m272.69 199.03-6.8148 15.762-8.0077 15.229-9.3533-4.1684-10.224-3.4893 5.584-16.043 4.7452-16.412 12.554 4.1528z\" clip-path=\"url(#pf4477786ed)\" fill=\"#5d5050\"/><path d=\"m282.35 166.82-4.1419 16.143-5.5214 16.068-11.516-4.9682-12.554-4.1528 3.8399-16.55 2.8778-16.457 14.079 4.5124z\" clip-path=\"url(#pf4477786ed)\" fill=\"#5b4f4f\"/><path d=\"m128.79 156.9 2.8778 16.457 3.8399 16.55-12.554 4.1528-11.516 4.9682-5.5214-16.068-4.1419-16.143 12.936-5.4037z\" clip-path=\"url(#pf4477786ed)\" fill=\"#b59d9d\"/><path d=\"m145.84 222.37 6.3468 15.447 7.0244 14.629-7.2314 2.5419-6.5936 3.0308-10.037-13.514-9.0861-14.477 9.3533-4.1684z\" clip-path=\"url(#pf4477786ed)\" fill=\"#9e8989\"/><path d=\"m257.87 230.02-9.0861 14.477-10.037 13.514-6.5936-3.0308-7.2314-2.5419 7.0244-14.629 6.3468-15.447 10.224 3.4893z\" clip-path=\"url(#pf4477786ed)\" fill=\"#635656\"/><path d=\"m209.02 248.97-3.9178 14.366-4.1707 13.195-4.3974-0.47365-4.4705-0.15871v-13.482-14.628l8.545 0.29635z\" clip-path=\"url(#pf4477786ed)\" fill=\"#786868\"/><path d=\"m192.06 247.78v14.628 13.482l-4.4705 0.15871-4.3974 0.47365-4.1707-13.195-3.9178-14.366 8.4114-0.88485z\" clip-path=\"url(#pf4477786ed)\" fill=\"#7f6e6e\"/><path d=\"m225.21 90.775 0.67862 13.55 0.12533 14.665-16.852-1.5768-17.094-0.52757v-14.628-13.482l16.69 0.50141z\" clip-path=\"url(#pf4477786ed)\" fill=\"#877575\"/><path d=\"m192.06 88.775v13.482 14.628l-17.094 0.52757-16.852 1.5768 0.12533-14.665 0.67862-13.55 16.453-1.4986z\" clip-path=\"url(#pf4477786ed)\" fill=\"#9c8787\"/><path d=\"m224.92 252.44-7.6077 13.594-8.0876 12.349-4.0373-1.0766-4.2524-0.78121 4.1707-13.195 3.9178-14.366 8.1457 1.4608z\" clip-path=\"url(#pf4477786ed)\" fill=\"#716262\"/><path d=\"m175.11 248.97 3.9178 14.366 4.1707 13.195-4.2524 0.78121-4.0373 1.0766-8.0876-12.349-7.6077-13.594 7.7509-2.0159z\" clip-path=\"url(#pf4477786ed)\" fill=\"#877575\"/><path d=\"m286.23 135.25-1.1875 15.586-2.6918 15.983-12.936-5.4037-14.079-4.5124 1.8689-16.129 0.82422-15.568 14.693 4.5695z\" clip-path=\"url(#pf4477786ed)\" fill=\"#5e5252\"/><path d=\"m126.1 125.21 0.82422 15.568 1.869 16.129-14.079 4.5124-12.936 5.4037-2.6918-15.983-1.1875-15.586 13.509-5.4741z\" clip-path=\"url(#pf4477786ed)\" fill=\"#bfa6a6\"/><path d=\"m238.74 258.02-10.848 12.347-11.506 10.99-3.4106-1.612-3.7554-1.355 8.0876-12.349 7.6077-13.594 7.2314 2.5419z\" clip-path=\"url(#pf4477786ed)\" fill=\"#6d5e5e\"/><path d=\"m159.21 252.44 7.6077 13.594 8.0876 12.349-3.7554 1.355-3.4106 1.612-11.506-10.99-10.848-12.347 6.5936-3.0308z\" clip-path=\"url(#pf4477786ed)\" fill=\"#907d7d\"/><path d=\"m256.46 96.684 1.3262 13.751 0.24496 14.774-15.648-3.61-16.369-2.6083-0.12533-14.665-0.67862-13.55 15.979 2.4786z\" clip-path=\"url(#pf4477786ed)\" fill=\"#756565\"/><path d=\"m158.92 90.775-0.67862 13.55-0.12533 14.665-16.369 2.6083-15.648 3.61 0.24496-14.774 1.3262-13.751 15.272-3.43z\" clip-path=\"url(#pf4477786ed)\" fill=\"#b29a9a\"/><path d=\"m291.86 211.14-8.517 14.881-9.9883 14.132-7.1579-5.3427-8.3278-4.7896 8.0077-15.229 6.8148-15.762 10.287 5.7185z\" clip-path=\"url(#pf4477786ed)\" fill=\"#554949\"/><path d=\"m111.44 199.03 6.8148 15.762 8.0077 15.229-8.3278 4.7896-7.1579 5.3427-9.9883-14.132-8.517-14.881 8.8811-6.3913z\" clip-path=\"url(#pf4477786ed)\" fill=\"#baa1a1\"/><path d=\"m273.35 240.16-11.308 13.176-12.46 12.024-4.9955-3.8663-5.8451-3.4747 10.037-13.514 9.0861-14.477 8.3278 4.7896z\" clip-path=\"url(#pf4477786ed)\" fill=\"#5d5151\"/><path d=\"m126.26 230.02 9.0861 14.477 10.037 13.514-5.8451 3.4747-4.9955 3.8663-12.46-12.024-11.308-13.176 7.1579-5.3427z\" clip-path=\"url(#pf4477786ed)\" fill=\"#aa9393\"/><path d=\"m303.96 180.02-5.1915 15.715-6.9117 15.412-8.8811-6.3913-10.287-5.7185 5.5214-16.068 4.1419-16.143 11.582 6.2267z\" clip-path=\"url(#pf4477786ed)\" fill=\"#514747\"/><path d=\"m101.78 166.82 4.1419 16.143 5.5214 16.068-10.287 5.7185-8.8811 6.3913-6.9117-15.412-5.1915-15.715 10.027-6.9682z\" clip-path=\"url(#pf4477786ed)\" fill=\"#c7adad\"/><path d=\"m249.58 265.36-13.43 10.691-14.204 9.193-2.5534-2.045-3.0079-1.8433 11.506-10.99 10.848-12.347 5.8451 3.4747z\" clip-path=\"url(#pf4477786ed)\" fill=\"#6a5c5c\"/><path d=\"m145.39 258.02 10.848 12.347 11.506 10.99-3.0079 1.8433-2.5534 2.045-14.204-9.193-13.43-10.691 4.9955-3.8663z\" clip-path=\"url(#pf4477786ed)\" fill=\"#988484\"/><path d=\"m127.67 96.684-1.3262 13.751-0.24496 14.774-14.693 4.5695-13.509 5.4741 0.35297-14.95 1.9105-14.078 13.175-5.1991z\" clip-path=\"url(#pf4477786ed)\" fill=\"#c7acac\"/><path d=\"m283.97 106.22 1.9105 14.078 0.35297 14.95-13.509-5.4741-14.693-4.5695-0.24496-14.774-1.3262-13.751 14.335 4.3409z\" clip-path=\"url(#pf4477786ed)\" fill=\"#665858\"/><path d=\"m200.93 276.53-4.3667 11.81-4.5012 10.221v-10.545-12.118l4.4705 0.15871z\" clip-path=\"url(#pf4477786ed)\" fill=\"#736464\"/><path d=\"m192.06 275.89v12.118 10.545l-4.5012-10.221-4.3667-11.81 4.3974-0.47365z\" clip-path=\"url(#pf4477786ed)\" fill=\"#746464\"/><path d=\"m183.2 276.53 4.3667 11.81 4.5012 10.221-8.7023-9.2699-8.4553-10.904 4.0373-1.0766z\" clip-path=\"url(#pf4477786ed)\" fill=\"#766666\"/><path d=\"m209.22 278.38-8.4553 10.904-8.7023 9.2699 4.5012-10.221 4.3667-11.81 4.2524 0.78121z\" clip-path=\"url(#pf4477786ed)\" fill=\"#746464\"/><path d=\"m283.65 252.18-12.852 11.604-14.12 10.236-3.0397-4.4645-4.056-4.1983 12.46-12.024 11.308-13.176 5.8574 5.8176z\" clip-path=\"url(#pf4477786ed)\" fill=\"#5b4f4f\"/><path d=\"m222.2 67.89 1.7771 10.67 1.2316 12.215-16.453-1.4986-16.69-0.50141v-12.118-10.545l15.177 0.44592z\" clip-path=\"url(#pf4477786ed)\" fill=\"#917d7d\"/><path d=\"m192.06 66.112v10.545 12.118l-16.69 0.50141-16.453 1.4986 1.2316-12.215 1.7771-10.67 14.957-1.3325z\" clip-path=\"url(#pf4477786ed)\" fill=\"#a48e8e\"/><path d=\"m256.68 274.02-15.17 8.7161-15.988 7.0646-1.5173-2.3458-2.054-2.2136 14.204-9.193 13.43-10.691 4.056 4.1983z\" clip-path=\"url(#pf4477786ed)\" fill=\"#6a5c5c\"/><path d=\"m216.39 281.35-12.001 9.4532-12.322 7.7534 8.7023-9.2699 8.4553-10.904 3.7554 1.355z\" clip-path=\"url(#pf4477786ed)\" fill=\"#766666\"/><path d=\"m174.91 278.38 8.4553 10.904 8.7023 9.2699-12.322-7.7534-12.001-9.4532 3.4106-1.612z\" clip-path=\"url(#pf4477786ed)\" fill=\"#796969\"/><path d=\"m97.899 135.25 1.1875 15.586 2.6918 15.983-11.582 6.2267-10.027 6.9682-3.3769-15.781-1.4906-15.606 10.492-7.0659z\" clip-path=\"url(#pf4477786ed)\" fill=\"#d2b6b6\"/><path d=\"m308.83 148.63-1.4906 15.606-3.3769 15.781-10.027-6.9682-11.582-6.2267 2.6918-15.983 1.1875-15.586 12.105 6.3107z\" clip-path=\"url(#pf4477786ed)\" fill=\"#544949\"/><path d=\"m304.76 225.57-9.7285 13.806-11.383 12.8-4.4422-6.2049-5.8574-5.8176 9.9883-14.132 8.517-14.881 7.3109 6.9745z\" clip-path=\"url(#pf4477786ed)\" fill=\"#514646\"/><path d=\"m221.95 285.24-14.769 7.5467-15.116 5.7715 12.322-7.7534 12.001-9.4532 3.0079 1.8433z\" clip-path=\"url(#pf4477786ed)\" fill=\"#7a6969\"/><path d=\"m167.74 281.35 12.001 9.4532 12.322 7.7534-15.116-5.7715-14.769-7.5467 2.5534-2.045z\" clip-path=\"url(#pf4477786ed)\" fill=\"#7e6d6d\"/><path d=\"m250.58 73.141 3.4699 11.04 2.406 12.503-15.272-3.43-15.979-2.4786-1.2316-12.215-1.7771-10.67 14.519 2.2032z\" clip-path=\"url(#pf4477786ed)\" fill=\"#7f6e6e\"/><path d=\"m161.93 67.89-1.7771 10.67-1.2316 12.215-15.979 2.4786-15.272 3.43 2.406-12.503 3.4699-11.04 13.865-3.0472z\" clip-path=\"url(#pf4477786ed)\" fill=\"#b8a0a0\"/><path d=\"m225.52 289.8-16.565 5.3034-16.891 3.4554 15.116-5.7715 14.769-7.5467 2.054 2.2136z\" clip-path=\"url(#pf4477786ed)\" fill=\"#7e6e6e\"/><path d=\"m226.84 294.73-17.253 2.8678-17.522 0.9603 16.891-3.4554 16.565-5.3034 0.95193 2.4391z\" clip-path=\"url(#pf4477786ed)\" fill=\"#847272\"/><path d=\"m259.48 283.45-15.921 6.5394-16.717 4.7362-0.36701-2.4916-0.95193-2.4391 15.988-7.0646 15.17-8.7161 1.9613 4.6589z\" clip-path=\"url(#pf4477786ed)\" fill=\"#6c5e5e\"/><path d=\"m318.62 195.78-5.9505 15.184-7.9102 14.606-5.5945-7.456-7.3109-6.9745 6.9117-15.412 5.1915-15.715 8.2858 7.6147z\" clip-path=\"url(#pf4477786ed)\" fill=\"#4d4343\"/><path d=\"m225.79 299.7-16.766 0.40272-16.959-1.5449 17.522-0.9603 17.253-2.8678-0.22772 2.5016z\" clip-path=\"url(#pf4477786ed)\" fill=\"#897777\"/><path d=\"m287.93 265.36-13.58 9.8471-14.871 8.2516-0.83744-4.7769-1.9613-4.6589 14.12-10.236 12.852-11.604 2.9313 6.4955z\" clip-path=\"url(#pf4477786ed)\" fill=\"#5c5050\"/><path d=\"m305.99 118.92 2.3976 14.519 0.44309 15.186-10.492-7.0659-12.105-6.3107-0.35297-14.95-1.9105-14.078 11.799 5.9921z\" clip-path=\"url(#pf4477786ed)\" fill=\"#5c4f4f\"/><path d=\"m100.16 106.22-1.9105 14.078-0.35297 14.95-12.105 6.3107-10.492 7.0659 0.44309-15.186 2.3976-14.519 10.22-6.7071z\" clip-path=\"url(#pf4477786ed)\" fill=\"#dabdbd\"/><path d=\"m222.42 304.37-15.117-1.9214-15.234-3.8886 16.959 1.5449 16.766-0.40272-1.4058 2.3929z\" clip-path=\"url(#pf4477786ed)\" fill=\"#8f7c7c\"/><path d=\"m275.51 81.606 4.9919 11.644 3.4643 12.974-13.175-5.1991-14.335-4.3409-2.406-12.503-3.4699-11.04 13 3.8538z\" clip-path=\"url(#pf4477786ed)\" fill=\"#726262\"/><path d=\"m133.55 73.141-3.4699 11.04-2.406 12.503-14.335 4.3409-13.175 5.1991 3.4643-12.974 4.9919-11.644 11.93-4.6119z\" clip-path=\"url(#pf4477786ed)\" fill=\"#ccb1b1\"/><path d=\"m257.69 293.04-15.591 4.3017-16.309 2.3609 0.82213-2.4687 0.22772-2.5016 16.717-4.7362 15.921-6.5394-0.31397 4.8144z\" clip-path=\"url(#pf4477786ed)\" fill=\"#706161\"/><path d=\"m310.33 241.47-10.336 12.589-12.062 11.301-1.3465-6.6815-2.9313-6.4955 11.383-12.8 9.7285-13.806 3.7531 7.8243z\" clip-path=\"url(#pf4477786ed)\" fill=\"#524747\"/><path d=\"m324.21 164.63-1.7114 15.625-3.8748 15.527-6.377-8.1528-8.2858-7.6147 3.3769-15.781 1.4906-15.606 8.6833 7.7258z\" clip-path=\"url(#pf4477786ed)\" fill=\"#4f4444\"/><path d=\"m217.08 51.966 2.8137 6.9986 2.3073 8.926-14.957-1.3325-15.177-0.44592v-8.7755-6.824l12.601 0.36449z\" clip-path=\"url(#pf4477786ed)\" fill=\"#9b8686\"/><path d=\"m192.06 50.512v6.824 8.7755l-15.177 0.44592-14.957 1.3325 2.3073-8.926 2.8137-6.9986 12.412-1.0888z\" clip-path=\"url(#pf4477786ed)\" fill=\"#ac9595\"/><path d=\"m251.34 302.1-14.16 2.1597-14.76 0.10415 1.9684-2.2749 1.4058-2.3929 16.309-2.3609 15.591-4.3017-2.6207 4.6397z\" clip-path=\"url(#pf4477786ed)\" fill=\"#766666\"/><path d=\"m285.7 278.83-13.391 8.0148-14.615 6.1962 1.4735-4.7691 0.31397-4.8144 14.871-8.2516 13.58-9.8471-0.2879 6.7563z\" clip-path=\"url(#pf4477786ed)\" fill=\"#615454\"/><path d=\"m240.59 56.251 5.4854 7.5167 4.502 9.3728-13.865-3.0472-14.519-2.2032-2.3073-8.926-2.8137-6.9986 12.038 1.7992z\" clip-path=\"url(#pf4477786ed)\" fill=\"#8c7a7a\"/><path d=\"m167.05 51.966-2.8137 6.9986-2.3073 8.926-14.519 2.2032-13.865 3.0472 4.502-9.3728 5.4854-7.5167 11.479-2.4863z\" clip-path=\"url(#pf4477786ed)\" fill=\"#bda4a4\"/><path d=\"m325.1 213.2-6.346 14.574-8.4219 13.687-1.8117-8.069-3.7531-7.8243 7.9102-14.606 5.9505-15.184 4.3227 8.5693z\" clip-path=\"url(#pf4477786ed)\" fill=\"#4e4343\"/><path d=\"m108.62 81.606-4.9919 11.644-3.4643 12.974-11.799 5.9921-10.22 6.7071 4.3444-13.609 6.2531-12.461 9.2139-5.9371z\" clip-path=\"url(#pf4477786ed)\" fill=\"#dec0c0\"/><path d=\"m295.39 92.853 6.2531 12.461 4.3444 13.609-10.22-6.7071-11.799-5.9921-3.4643-12.974-4.9919-11.644 10.664 5.3101z\" clip-path=\"url(#pf4477786ed)\" fill=\"#685a5a\"/><path d=\"m320.95 134.11 2.7521 15.056 0.5088 15.47-6.6982-8.2768-8.6833-7.7258-0.44309-15.186-2.3976-14.519 8.4509 7.3311z\" clip-path=\"url(#pf4477786ed)\" fill=\"#574b4b\"/><path d=\"m143.54 56.251-5.4854 7.5167-4.502 9.3728-13 3.8538-11.93 4.6119 6.4693-10.101 7.8713-8.3598 9.8337-3.7533z\" clip-path=\"url(#pf4477786ed)\" fill=\"#ceb3b3\"/><path d=\"m261.17 63.145 7.8713 8.3598 6.4693 10.101-11.93-4.6119-13-3.8538-4.502-9.3728-5.4854-7.5167 10.742 3.1408z\" clip-path=\"url(#pf4477786ed)\" fill=\"#817070\"/><path d=\"m307.88 257.8-10.249 11.302-11.93 9.7268 1.9447-6.7149 0.2879-6.7563 12.062-11.301 10.336-12.589-0.20069 8.1806z\" clip-path=\"url(#pf4477786ed)\" fill=\"#574c4c\"/><path d=\"m276.9 291.65-12.241 6.2359-13.319 4.2147 3.7344-4.4267 2.6207-4.6397 14.615-6.1962 13.391-8.0148-3.5946 6.554z\" clip-path=\"url(#pf4477786ed)\" fill=\"#685a5a\"/><path d=\"m331.06 182.34-1.8286 15.639-4.1373 15.231-2.1495-8.8521-4.3227-8.5693 3.8748-15.527 1.7114-15.625 4.5589 8.7053z\" clip-path=\"url(#pf4477786ed)\" fill=\"#504545\"/><path d=\"m210.07 44.378 3.719 2.6797 3.2875 4.9081-12.412-1.0888-12.601-0.36449v-4.7111-2.4621l9.0737 0.26057z\" clip-path=\"url(#pf4477786ed)\" fill=\"#a69090\"/><path d=\"m192.06 43.339v2.4621 4.7111l-12.601 0.36449-12.412 1.0888 3.2875-4.9081 3.719-2.6797 8.9327-0.77808z\" clip-path=\"url(#pf4477786ed)\" fill=\"#b29a9a\"/><path d=\"m308.8 106.27 7.1622 13.455 4.9826 14.383-6.5103-7.8511-8.4509-7.3311-4.3444-13.609-6.2531-12.461 7.5934 6.4814z\" clip-path=\"url(#pf4477786ed)\" fill=\"#645656\"/><path d=\"m122.96 63.145-7.8713 8.3598-6.4693 10.101-10.664 5.3101-9.2139 5.9371 8.0916-11.084 9.8266-9.4949 7.5385-4.8146z\" clip-path=\"url(#pf4477786ed)\" fill=\"#dec0c0\"/><path d=\"m277.47 72.274 9.8266 9.4949 8.0916 11.084-9.2139-5.9371-10.664-5.3101-6.4693-10.101-7.8713-8.3598 8.762 4.3143z\" clip-path=\"url(#pf4477786ed)\" fill=\"#796969\"/><path d=\"m322.56 231.17-6.3174 13.921-8.3694 12.709 2.2514-8.1517 0.20069-8.1806 8.4219-13.687 6.346-14.574-0.11094 8.99z\" clip-path=\"url(#pf4477786ed)\" fill=\"#544949\"/><path d=\"m226.96 47.435 7.2339 3.3237 6.4023 5.4919-11.479-2.4863-12.038-1.7992-3.2875-4.9081-3.719-2.6797 8.6521 1.2847z\" clip-path=\"url(#pf4477786ed)\" fill=\"#9b8686\"/><path d=\"m174.06 44.378-3.719 2.6797-3.2875 4.9081-12.038 1.7992-11.479 2.4863 6.4023-5.4919 7.2339-3.3237 8.2351-1.7732z\" clip-path=\"url(#pf4477786ed)\" fill=\"#c0a6a6\"/><path d=\"m327.58 150.89 2.9398 15.66 0.54372 15.786-2.2929-8.9987-4.5589-8.7053-0.5088-15.47-2.7521-15.056 4.4205 8.2545z\" clip-path=\"url(#pf4477786ed)\" fill=\"#574c4c\"/><path d=\"m297.25 273.43-9.4192 10.036-10.937 8.1886 5.2066-6.2728 3.5946-6.554 11.93-9.7268 10.249-11.302-4.3042 7.9769z\" clip-path=\"url(#pf4477786ed)\" fill=\"#615454\"/><path d=\"m241.66 52.339 10.343 4.3663 9.1714 6.4398-9.8337-3.7533-10.742-3.1408-6.4023-5.4919-7.2339-3.3237 7.6863 2.2364z\" clip-path=\"url(#pf4477786ed)\" fill=\"#927f7f\"/><path d=\"m157.17 47.435-7.2339 3.3237-6.4023 5.4919-10.742 3.1408-9.8337 3.7533 9.1714-6.4398 10.343-4.3663 7.0119-2.6673z\" clip-path=\"url(#pf4477786ed)\" fill=\"#cdb1b1\"/><path d=\"m288.34 83.116 11.21 10.871 9.2513 12.28-5.8205-6.932-7.5934-6.4814-8.0916-11.084-9.8266-9.4949 6.1771 5.2451z\" clip-path=\"url(#pf4477786ed)\" fill=\"#756666\"/><path d=\"m328.51 200.62-1.8238 15.646-4.1237 14.908 2.4223-8.9737 0.11094-8.99 4.1373-15.231 1.8286-15.639-0.067391 9.1452z\" clip-path=\"url(#pf4477786ed)\" fill=\"#564a4a\"/><path d=\"m142.47 52.339-10.343 4.3663-9.1714 6.4398-8.762 4.3143-7.5385 4.8146 11.424-7.7115 12.85-5.7594 5.3206-3.405z\" clip-path=\"url(#pf4477786ed)\" fill=\"#d9bcbc\"/><path d=\"m253.2 58.803 12.85 5.7594 11.424 7.7115-7.5385-4.8146-8.762-4.3143-9.1714-6.4398-10.343-4.3663 6.2201 3.059z\" clip-path=\"url(#pf4477786ed)\" fill=\"#8c7a7a\"/><path d=\"m314.63 121.05 7.6323 14.578 5.3175 15.258-2.2087-8.5293-4.4205-8.2545-4.9826-14.383-7.1622-13.455 3.9167 7.2778z\" clip-path=\"url(#pf4477786ed)\" fill=\"#645757\"/><path d=\"m310.79 248.42-5.8278 13.269-7.708 11.742 6.3198-7.6537 4.3042-7.9769 8.3694-12.709 6.3174-13.921-4.7439 8.7963z\" clip-path=\"url(#pf4477786ed)\" fill=\"#5f5252\"/><path d=\"m201.56 46.095 4.4162-2.0617 4.0985 0.34428-8.9327-0.77808-9.0737-0.26057v-0.10778 2.3151l4.7848 0.13771z\" clip-path=\"url(#pf4477786ed)\" fill=\"#af9797\"/><path d=\"m192.06 45.546v-2.3151 0.10778l-9.0737 0.26057-8.9327 0.77808 4.0985-0.34428 4.4162 2.0617 4.7069-0.41101z\" clip-path=\"url(#pf4477786ed)\" fill=\"#b69e9e\"/><path d=\"m210.43 47.707 8.5659-1.3147 7.9614 1.0428-8.2351-1.7732-8.6521-1.2847-4.0985-0.34428-4.4162 2.0617 4.5521 0.67795z\" clip-path=\"url(#pf4477786ed)\" fill=\"#a89292\"/><path d=\"m182.57 46.095-4.4162-2.0617-4.0985 0.34428-8.6521 1.2847-8.2351 1.7732 7.9614-1.0428 8.5659 1.3147 4.3226-0.93436z\" clip-path=\"url(#pf4477786ed)\" fill=\"#bea5a5\"/><path d=\"m325.04 168.21 2.9315 16.296 0.54238 16.114 2.4843-9.1349 0.067391-9.1452-0.54372-15.786-2.9398-15.66-0.093328 8.6646z\" clip-path=\"url(#pf4477786ed)\" fill=\"#5e5151\"/><path d=\"m260.77 66.437 14.575 7.4323 12.997 9.2466-4.6941-5.5971-6.1771-5.2451-11.424-7.7115-12.85-5.7594 4.3252 3.699z\" clip-path=\"url(#pf4477786ed)\" fill=\"#8a7878\"/><path d=\"m173.7 47.707-8.5659-1.3147-7.9614 1.0428-7.6863 2.2364-7.0119 2.6673 11.358-2.1699 12.192 0.11383 3.6535-1.3995z\" clip-path=\"url(#pf4477786ed)\" fill=\"#c7acac\"/><path d=\"m218.11 50.283 12.192-0.11383 11.358 2.1699-7.0119-2.6673-7.6863-2.2364-7.9614-1.0428-8.5659 1.3147 4.0217 1.1762z\" clip-path=\"url(#pf4477786ed)\" fill=\"#a48e8e\"/><path d=\"m292.9 95.013 11.892 12.415 9.839 13.626-1.9076-7.5091-3.9167-7.2778-9.2513-12.28-11.21-10.871 3.1092 5.8624z\" clip-path=\"url(#pf4477786ed)\" fill=\"#766666\"/><path d=\"m224.07 53.66 15.058 1.4745 14.071 3.6686-5.3206-3.405-6.2201-3.059-11.358-2.1699-12.192 0.11383 3.2235 1.6007z\" clip-path=\"url(#pf4477786ed)\" fill=\"#a18c8c\"/><path d=\"m166.02 50.283-12.192-0.11383-11.358 2.1699-6.2201 3.059-5.3206 3.405 14.071-3.6686 15.058-1.4745 2.7379-1.7762z\" clip-path=\"url(#pf4477786ed)\" fill=\"#cfb3b3\"/><path d=\"m316.28 218.19-1.6856 15.645-3.8085 14.581 7.0311-8.4539 4.7439-8.7963 4.1237-14.908 1.8238-15.646-4.9152 8.9605z\" clip-path=\"url(#pf4477786ed)\" fill=\"#615454\"/><path d=\"m312.15 136.26 7.5916 15.761 5.2972 16.18 2.4486-8.6514 0.093328-8.6646-5.3175-15.258-7.6323-14.578-0.1772 7.6168z\" clip-path=\"url(#pf4477786ed)\" fill=\"#6a5c5c\"/><path d=\"m263.78 74.761 15.367 9.2903 13.749 10.961-1.4448-6.0338-3.1092-5.8624-12.997-9.2466-14.575-7.4323 2.1027 4.1087z\" clip-path=\"url(#pf4477786ed)\" fill=\"#8b7979\"/><path d=\"m227.9 57.622 16.961 3.3581 15.907 5.4577-3.2474-3.9353-4.3252-3.699-14.071-3.6686-15.058-1.4745 2.2039 1.9231z\" clip-path=\"url(#pf4477786ed)\" fill=\"#a18c8c\"/><path d=\"m192.06 57.503 4.829-6.9115 4.6626-4.4961-4.7069-0.41101-4.7848-0.13771v4.7643 7.192z\" clip-path=\"url(#pf4477786ed)\" fill=\"#ac9595\"/><path d=\"m192.06 57.503v-7.192-4.7643l-4.7848 0.13771-4.7069 0.41101 4.6626 4.4961 4.829 6.9115z\" clip-path=\"url(#pf4477786ed)\" fill=\"#ad9696\"/><path d=\"m313.07 184.84 2.7086 16.918 0.50134 16.432 7.3132-8.6175 4.9152-8.9605-0.54238-16.114-2.9315-16.296-4.8156 8.4828z\" clip-path=\"url(#pf4477786ed)\" fill=\"#695b5b\"/><path d=\"m192.06 57.503 9.3366-6.0881 9.0297-3.7071-4.3226-0.93436-4.5521-0.67795-4.6626 4.4961-4.829 6.9115z\" clip-path=\"url(#pf4477786ed)\" fill=\"#ad9696\"/><path d=\"m192.06 57.503-4.829-6.9115-4.6626-4.4961-4.5521 0.67795-4.3226 0.93436 9.0297 3.7071 9.3366 6.0881z\" clip-path=\"url(#pf4477786ed)\" fill=\"#af9898\"/><path d=\"m290.61 107.19 11.775 14.033 9.7666 15.043 2.3038-7.5936 0.1772-7.6168-9.839-13.626-11.892-12.415-0.27364 6.1049z\" clip-path=\"url(#pf4477786ed)\" fill=\"#7b6b6b\"/><path d=\"m192.06 57.503 13.221-4.7756 12.82-2.444-3.6535-1.3995-4.0217-1.1762-9.0297 3.7071-9.3366 6.0881z\" clip-path=\"url(#pf4477786ed)\" fill=\"#b09898\"/><path d=\"m192.06 57.503-9.3366-6.0881-9.0297-3.7071-4.0217 1.1762-3.6535 1.3995 12.82 2.444 13.221 4.7756z\" clip-path=\"url(#pf4477786ed)\" fill=\"#b39b9b\"/><path d=\"m229.33 61.908 17.746 5.421 16.71 7.4316-0.90852-4.2147-2.1027-4.1087-15.907-5.4577-16.961-3.3581 1.0249 2.1202z\" clip-path=\"url(#pf4477786ed)\" fill=\"#a38d8d\"/><path d=\"m192.06 57.503-13.221-4.7756-12.82-2.444-3.2235 1.6007-2.7379 1.7762 15.782 0.78292 16.221 3.0597z\" clip-path=\"url(#pf4477786ed)\" fill=\"#b79f9f\"/><path d=\"m192.06 57.503 16.221-3.0597 15.782-0.78292-2.7379-1.7762-3.2235-1.6007-12.82 2.444-13.221 4.7756z\" clip-path=\"url(#pf4477786ed)\" fill=\"#b39b9b\"/><path d=\"m192.06 57.503 18.128-1.0541 17.708 1.1731-1.6299-2.0385-2.2039-1.9231-15.782 0.78292-16.221 3.0597z\" clip-path=\"url(#pf4477786ed)\" fill=\"#b89f9f\"/><path d=\"m261.91 83.223 15.118 11.216 13.572 12.749 2.0176-6.0709 0.27364-6.1049-13.749-10.961-15.367-9.2903-0.31609 4.25z\" clip-path=\"url(#pf4477786ed)\" fill=\"#907d7d\"/><path d=\"m192.06 57.503 18.809 1.1072 18.452 3.2984-0.39855-2.1664-1.0249-2.1202-17.708-1.1731-18.128 1.0541z\" clip-path=\"url(#pf4477786ed)\" fill=\"#bda4a4\"/><path d=\"m301.18 150.84 6.9978 16.923 4.8899 17.085 7.1488-8.1549 4.8156-8.4828-5.2972-16.18-7.5916-15.761-4.4346 7.4345z\" clip-path=\"url(#pf4477786ed)\" fill=\"#756666\"/><path d=\"m228.21 66.232 17.325 7.5279 16.379 9.4632 1.5506-4.2121 0.31609-4.25-16.71-7.4316-17.746-5.421-0.23864 2.1758z\" clip-path=\"url(#pf4477786ed)\" fill=\"#a79191\"/><path d=\"m192.06 57.503 18.207 3.2778 17.939 5.4512 0.87584-2.1478 0.23864-2.1758-18.452-3.2984-18.809-1.1072z\" clip-path=\"url(#pf4477786ed)\" fill=\"#c3a9a9\"/><path d=\"m192.06 57.503 16.357 5.3091 16.181 7.4826 2.1057-1.9802 1.5019-2.0824-17.939-5.4512-18.207-3.2778z\" clip-path=\"url(#pf4477786ed)\" fill=\"#c9aeae\"/><path d=\"m281.39 118.79 10.807 15.611 8.9851 16.429 6.5288-7.1367 4.4346-7.4345-9.7666-15.043-11.775-14.033-3.7564 5.9288z\" clip-path=\"url(#pf4477786ed)\" fill=\"#857373\"/><path d=\"m224.6 70.294 15.689 9.5318 14.888 11.41 3.9611-3.9134 2.7731-4.0998-16.379-9.4632-17.325-7.5279-1.5019 2.0824z\" clip-path=\"url(#pf4477786ed)\" fill=\"#ad9696\"/><path d=\"m255.18 91.236 13.791 13.074 12.421 14.485 5.457-5.6776 3.7564-5.9288-13.572-12.749-15.118-11.216-2.7731 4.0998z\" clip-path=\"url(#pf4477786ed)\" fill=\"#988383\"/></g><defs><path id=\"DejaVuSans-Oblique-120\" d=\"m60.016 54.688-25.109-26.812 15.391-27.875h-10.312l-11.562 21.688-20.125-21.688h-10.891l26.906 28.812-14.297 25.875h10.297l10.5-19.781 18.312 19.781z\"/></defs><g transform=\"translate(96.938 265.04) scale(.2 -.2)\"><use transform=\"translate(0 .3125)\" xlink:href=\"#DejaVuSans-Oblique-120\"/></g><defs><path id=\"DejaVuSans-Oblique-121\" d=\"m24.812-5.0781q-6.25-10.5-10.188-13.109t-10.031-2.6094h-7.0781l1.5 7.5156h5.1875q3.75 0 6.3906 2.0469t5.9062 8.0156l2.7812 5.2188-12.109 52.688h9.5312l9.0781-41.891 25.094 41.891h9.4219z\"/></defs><g transform=\"translate(336.08 231.12) scale(.2 -.2)\"><use transform=\"translate(0 .3125)\" xlink:href=\"#DejaVuSans-Oblique-121\"/></g><defs><path id=\"DejaVuSans-124\" d=\"m21 76.422v-100h-8.2969v100z\"/><path id=\"DejaVuSans-48\" d=\"m31.781 66.406q-7.6094 0-11.453-7.5-3.8281-7.4844-3.8281-22.531 0-14.984 3.8281-22.484 3.8438-7.5 11.453-7.5 7.6719 0 11.5 7.5 3.8438 7.5 3.8438 22.484 0 15.047-3.8438 22.531-3.8281 7.5-11.5 7.5zm0 7.8125q12.266 0 18.734-9.7031 6.4688-9.6875 6.4688-28.141 0-18.406-6.4688-28.109-6.4688-9.6875-18.734-9.6875-12.25 0-18.719 9.6875-6.4688 9.7031-6.4688 28.109 0 18.453 6.4688 28.141 6.4688 9.7031 18.719 9.7031z\"/><path id=\"DejaVuSans-10217\" d=\"m30.078 31.344-13.766-44.531h-8.2969l13.766 44.531-13.766 44.531h8.2969z\"/></defs><g transform=\"translate(178.36 36.718) scale(.2 -.2)\"><use transform=\"translate(0 .57812)\" xlink:href=\"#DejaVuSans-124\"/><use transform=\"translate(33.691 .57812)\" xlink:href=\"#DejaVuSans-48\"/><use transform=\"translate(97.314 .57812)\" xlink:href=\"#DejaVuSans-10217\"/></g><defs><path id=\"DejaVuSans-49\" d=\"m12.406 8.2969h16.109v55.625l-17.531-3.5156v8.9844l17.438 3.5156h9.8594v-64.609h16.109v-8.2969h-41.984z\"/></defs><g transform=\"translate(178.36 326.15) scale(.2 -.2)\"><use transform=\"translate(0 .57812)\" xlink:href=\"#DejaVuSans-124\"/><use transform=\"translate(33.691 .57812)\" xlink:href=\"#DejaVuSans-49\"/><use transform=\"translate(97.314 .57812)\" xlink:href=\"#DejaVuSans-10217\"/></g><g fill=\"none\" stroke=\"#808080\" stroke-opacity=\".2\" stroke-width=\"1.5\"><path d=\"m192.06 57.503 16.357 5.3091 16.181 7.4826 15.689 9.5318 14.888 11.41 13.791 13.074 12.421 14.485 10.807 15.611 8.9851 16.429 6.9978 16.923 4.8899 17.085 2.7086 16.918 0.50134 16.432-1.6856 15.645-3.8085 14.581-5.8278 13.269-7.708 11.742-9.4192 10.036-10.937 8.1886-12.241 6.2359-13.319 4.2147-14.16 2.1597-14.76 0.10415-15.117-1.9214-15.234-3.8886\" clip-path=\"url(#pf4477786ed)\"/><path d=\"m192.06 57.503 18.627 0.016026 18.234 2.2231 17.501 4.3752 16.445 6.4291 15.096 8.345 13.483 10.088 11.646 11.627 9.6228 12.939 7.4571 14.004 5.1915 14.811 2.8689 15.352 0.53048 15.625-1.7842 15.633-4.0383 15.383-6.1979 14.887-8.2323 14.158-10.114 13.211-11.819 12.066-13.326 10.742-14.616 9.2611-15.676 7.6447-16.492 5.9163-17.054 4.0998-17.355 2.2199\" clip-path=\"url(#pf4477786ed)\"/><path d=\"m192.06 57.503 13.221-4.7756 12.82-2.444 12.192-0.11383 11.358 2.1699 10.343 4.3663 9.1714 6.4398 7.8713 8.3598 6.4693 10.101 4.9919 11.644 3.4643 12.974 1.9105 14.078 0.35297 14.95-1.1875 15.586-2.6918 15.983-4.1419 16.143-5.5214 16.068-6.8148 15.762-8.0077 15.229-9.0861 14.477-10.037 13.514-10.848 12.347-11.506 10.99-12.001 9.4532-12.322 7.7534\" clip-path=\"url(#pf4477786ed)\"/><path d=\"m192.06 57.503 2.4348-7.1216 2.35-4.697 2.2249-2.2516 2.0641 0.16707 1.8723 2.5166 1.6545 4.7605 1.4157 6.8678 1.1606 8.8132 0.89376 10.577 0.61933 12.143 0.34123 13.499 0.063019 14.637-0.21205 15.552-0.48098 16.238-0.74098 16.694-0.98945 16.918-1.2239 16.909-1.4419 16.668-1.641 16.195-1.819 15.492-1.9732 14.563-2.1013 13.41-2.2009 12.041-2.2696 10.464\" clip-path=\"url(#pf4477786ed)\"/><path d=\"m192.06 57.503-9.3366-6.0881-9.0297-3.7071-8.5659-1.3147-7.9614 1.0428-7.2339 3.3237-6.4023 5.4919-5.4854 7.5167-4.502 9.3728-3.4699 11.04-2.406 12.503-1.3262 13.751-0.24496 14.774 0.82422 15.568 1.869 16.129 2.8778 16.457 3.8399 16.55 4.7452 16.412 5.584 16.043 6.3468 15.447 7.0244 14.629 7.6077 13.594 8.0876 12.349 8.4553 10.904 8.7023 9.2699\" clip-path=\"url(#pf4477786ed)\"/><path d=\"m192.06 57.503-16.221-3.0597-15.782-0.78292-15.058 1.4745-14.071 3.6686-12.85 5.7594-11.424 7.7115-9.8266 9.4949-8.0916 11.084-6.2531 12.461-4.3444 13.609-2.3976 14.519-0.44309 15.186 1.4906 15.606 3.3769 15.781 5.1915 15.715 6.9117 15.412 8.517 14.881 9.9883 14.132 11.308 13.176 12.46 12.024 13.43 10.691 14.204 9.193 14.769 7.5467 15.116 5.7715\" clip-path=\"url(#pf4477786ed)\"/><path d=\"m192.06 57.503\" clip-path=\"url(#pf4477786ed)\"/><path d=\"m268.97 104.31 4.759-4.8249 3.3026-5.0461 1.809-5.1752 0.30604-5.2125-1.1796-5.16-2.6231-5.0214-4.0019-4.8013-5.2959-4.5058-6.4873-4.1415-7.5607-3.7156-8.5031-3.2359-9.3038-2.7103-9.9543-2.1472-10.448-1.5547-10.779-0.94118-10.946-0.31513-10.946 0.31513-10.779 0.94118-10.448 1.5547-9.9543 2.1472-9.3038 2.7103-8.5031 3.2359-7.5607 3.7156-6.4873 4.1415\" clip-path=\"url(#pf4477786ed)\"/><path d=\"m313.07 184.84 7.1488-8.1549 4.8156-8.4828 2.4486-8.6514 0.093328-8.6646-2.2087-8.5293-4.4205-8.2545-6.5103-7.8511-8.4509-7.3311-10.22-6.7071-11.799-5.9921-13.175-5.1991-14.335-4.3409-15.272-3.43-15.979-2.4786-16.453-1.4986-16.69-0.50141-16.69 0.50141-16.453 1.4986-15.979 2.4786-15.272 3.43-14.335 4.3409-13.175 5.1991-11.799 5.9921-10.22 6.7071\" clip-path=\"url(#pf4477786ed)\"/><path d=\"m304.96 261.69 6.7276-8.1314 4.5577-8.4667 2.352-8.6439 0.15265-8.666-2.0013-8.5394-4.0752-8.2726-6.0386-7.8759-7.8653-7.3609-9.5335-6.74-11.025-6.0261-12.326-5.2321-13.425-4.3709-14.314-3.4554-14.985-2.4978-15.435-1.5105-15.66-0.50547-15.66 0.50547-15.435 1.5105-14.985 2.4978-14.314 3.4554-13.425 4.3709-12.326 5.2321-11.025 6.0261-9.5335 6.74\" clip-path=\"url(#pf4477786ed)\"/><path d=\"m251.34 302.1 3.7344-4.4267 2.6207-4.6397 1.4735-4.7691 0.31397-4.8144-0.83744-4.7769-1.9613-4.6589-3.0397-4.4645-4.056-4.1983-4.9955-3.8663-5.8451-3.4747-6.5936-3.0308-7.2314-2.5419-7.7509-2.0159-8.1457-1.4608-8.4114-0.88485-8.545-0.29635-8.545 0.29635-8.4114 0.88485-8.1457 1.4608-7.7509 2.0159-7.2314 2.5419-6.5936 3.0308-5.8451 3.4747-4.9955 3.8663\" clip-path=\"url(#pf4477786ed)\"/><path d=\"m192.06 298.56\" clip-path=\"url(#pf4477786ed)\"/></g><g fill=\"none\" stroke=\"#808080\" stroke-opacity=\".2\" stroke-width=\"1.5\"><path d=\"m192.06 57.503-16.221-3.0597-15.782-0.78292-15.058 1.4745-14.071 3.6686-12.85 5.7594-11.424 7.7115-9.8266 9.4949-8.0916 11.084-6.2531 12.461-4.3444 13.609-2.3976 14.519-0.44309 15.186 1.4906 15.606 3.3769 15.781 5.1915 15.715 6.9117 15.412 8.517 14.881 9.9883 14.132 11.308 13.176 12.46 12.024 13.43 10.691 14.204 9.193 14.769 7.5467 15.116 5.7715\" clip-path=\"url(#pf4477786ed)\"/><path d=\"m192.06 57.503-18.668 2.2007-18.353 4.3806-17.689 6.478-16.689 8.4489-15.377 10.253-13.781 11.854-11.938 13.221-9.8895 14.332-7.6793 15.167-5.3543 15.717-2.9616 15.977-0.54786 15.95 1.8424 15.643 4.167 15.071 6.3877 14.25 8.4699 13.202 10.383 11.949 12.102 10.517 13.604 8.9327 14.873 7.2241 15.894 5.4187 16.658 3.5442 17.157 1.6284 17.39-0.30186\" clip-path=\"url(#pf4477786ed)\"/><path d=\"m192.06 57.503-13.379 7.0599-13.281 9.2466-12.921 11.285-12.301 13.124-11.43 14.72-10.323 16.031-9.0041 17.024-7.5024 17.674-5.8532 17.968-4.0953 17.9-2.2703 17.477-0.42037 16.715 1.4131 15.638 3.1911 14.278 4.8778 12.674 6.4422 10.865 7.8579 8.8955 9.1039 6.8099 10.164 4.6511 11.029 2.4602 11.691 0.27555 12.149-1.8677 12.403-3.9382 12.459-5.9082\" clip-path=\"url(#pf4477786ed)\"/><path d=\"m192.06 57.503-2.4756 9.4737-2.4692 11.698-2.4137 13.74-2.3084 15.544-2.1541 17.059-1.9532 18.241-1.7096 19.053-1.4287 19.47-1.1174 19.478-0.7832 19.079-0.43468 18.284-0.080525 17.118 0.27065 15.619 0.61066 13.829 0.93208 11.8 1.2285 9.5863 1.4945 7.2433 1.7262 4.8257 1.9206 2.385 2.0759-0.031293 2.1915-2.3809 2.2676-4.6271 2.3049-6.7392 2.3049-8.6916\" clip-path=\"url(#pf4477786ed)\"/><path d=\"m192.06 57.503 9.473 8.4076 9.4286 10.613 9.1974 12.65 8.7785 14.467 8.1762 16.016 7.4006 17.253 6.4676 18.144 5.3979 18.665 4.217 18.801 2.9535 18.55 1.6384 17.922 0.30344 16.938-1.02 15.629-2.3021 14.032-3.5162 12.194-4.6385 10.161-5.6497 7.9848-6.5344 5.7143-7.2815 3.3977-7.8839 1.0797-8.3381-1.1991-8.6437-3.4024-8.8031-5.4991-8.8207-7.4623\" clip-path=\"url(#pf4477786ed)\"/><path d=\"m192.06 57.503 16.357 5.3091 16.181 7.4826 15.689 9.5318 14.888 11.41 13.791 13.074 12.421 14.485 10.807 15.611 8.9851 16.429 6.9978 16.923 4.8899 17.085 2.7086 16.918 0.50134 16.432-1.6856 15.645-3.8085 14.581-5.8278 13.269-7.708 11.742-9.4192 10.036-10.937 8.1886-12.241 6.2359-13.319 4.2147-14.16 2.1597-14.76 0.10415-15.117-1.9214-15.234-3.8886\" clip-path=\"url(#pf4477786ed)\"/><path d=\"m192.06 57.503\" clip-path=\"url(#pf4477786ed)\"/><path d=\"m118.08 64.563-5.2959 4.5058-4.0019 4.8013-2.6231 5.0214-1.1796 5.16 0.30604 5.2125 1.809 5.1752 3.3026 5.0461 4.759 4.8249 6.1494 4.5132 7.4449 4.1147 8.6175 3.6351 9.6408 3.0825 10.491 2.4668 11.147 1.8 11.594 1.0955 11.821 0.36775 11.821-0.36775 11.594-1.0955 11.147-1.8 10.491-2.4668 9.6408-3.0825 8.6175-3.6351 7.4449-4.1147 6.1494-4.5132\" clip-path=\"url(#pf4477786ed)\"/><path d=\"m78.143 118.92-8.4509 7.3311-6.5103 7.8511-4.4205 8.2545-2.2087 8.5293 0.093328 8.6646 2.4486 8.6514 4.8156 8.4828 7.1488 8.1549 9.3994 7.6672 11.517 7.0234 13.45 6.2313 15.15 5.3037 16.572 4.2575 17.676 3.114 18.43 1.8981 18.813 0.63773 18.813-0.63773 18.43-1.8981 17.676-3.114 16.572-4.2575 15.15-5.3037 13.45-6.2313 11.517-7.0234 9.3994-7.6672\" clip-path=\"url(#pf4477786ed)\"/><path d=\"m85.361 195.73-7.8653 7.3609-6.0386 7.8759-4.0752 8.2726-2.0013 8.5394 0.15265 8.666 2.352 8.6439 4.5577 8.4667 6.7276 8.1314 8.8168 7.6379 10.779 6.9904 12.567 6.1972 14.138 5.271 15.45 4.2288 16.467 3.0917 17.162 1.884 17.515 0.63288 17.515-0.63288 17.162-1.884 16.467-3.0917 15.45-4.2288 14.138-5.271 12.567-6.1972 10.779-6.9904 8.8168-7.6379\" clip-path=\"url(#pf4477786ed)\"/><path d=\"m134.55 265.36-4.056 4.1983-3.0397 4.4645-1.9613 4.6589-0.83744 4.7769 0.31397 4.8144 1.4735 4.7691 2.6207 4.6397 3.7344 4.4267 4.7932 4.1322 5.7759 3.7602 6.6623 3.3163 7.4334 2.808 8.0723 2.2445 8.5648 1.6362 8.8996 0.99516 9.0689 0.33397 9.0689-0.33397 8.8996-0.99516 8.5648-1.6362 8.0723-2.2445 7.4334-2.808 6.6623-3.3163 5.7759-3.7602 4.7932-4.1322\" clip-path=\"url(#pf4477786ed)\"/><path d=\"m192.06 298.56\" clip-path=\"url(#pf4477786ed)\"/></g><g fill-opacity=\".2\"><path d=\"m110.78 240.16 11.308 13.176 12.46 12.024-4.056 4.1983-3.0397 4.4645-14.12-10.236-12.852-11.604 4.4422-6.2049z\" clip-path=\"url(#pf4477786ed)\" fill=\"#b49c9c\"/><path d=\"m134.55 265.36 13.43 10.691 14.204 9.193-2.054 2.2136-1.5173 2.3458-15.988-7.0646-15.17-8.7161 3.0397-4.4645z\" clip-path=\"url(#pf4477786ed)\" fill=\"#9f8a8a\"/><path d=\"m92.273 211.14 8.517 14.881 9.9883 14.132-5.8574 5.8176-4.4422 6.2049-11.383-12.8-9.7285-13.806 5.5945-7.456z\" clip-path=\"url(#pf4477786ed)\" fill=\"#c7acac\"/><path d=\"m162.18 285.24 14.769 7.5467 15.116 5.7715-16.891-3.4554-16.565-5.3034 1.5173-2.3458z\" clip-path=\"url(#pf4477786ed)\" fill=\"#837171\"/><path d=\"m158.61 289.8 16.565 5.3034 16.891 3.4554-17.522-0.9603-17.253-2.8678 0.36701-2.4916z\" clip-path=\"url(#pf4477786ed)\" fill=\"#897676\"/><path d=\"m127.45 274.02 15.17 8.7161 15.988 7.0646-0.95193 2.4391-0.36701 2.4916-16.717-4.7362-15.921-6.5394 0.83744-4.7769z\" clip-path=\"url(#pf4477786ed)\" fill=\"#a58f8f\"/><path d=\"m80.17 180.02 5.1915 15.715 6.9117 15.412-7.3109 6.9745-5.5945 7.456-7.9102-14.606-5.9505-15.184 6.377-8.1528z\" clip-path=\"url(#pf4477786ed)\" fill=\"#d6baba\"/><path d=\"m157.29 294.73 17.253 2.8678 17.522 0.9603-16.959 1.5449-16.766-0.40272-0.82213-2.4687z\" clip-path=\"url(#pf4477786ed)\" fill=\"#8e7b7b\"/><path d=\"m100.48 252.18 12.852 11.604 14.12 10.236-1.9613 4.6589-0.83744 4.7769-14.871-8.2516-13.58-9.8471 1.3465-6.6815z\" clip-path=\"url(#pf4477786ed)\" fill=\"#bca3a3\"/><path d=\"m158.34 299.7 16.766 0.40272 16.959-1.5449-15.234 3.8886-15.117 1.9214-1.9684-2.2749z\" clip-path=\"url(#pf4477786ed)\" fill=\"#948080\"/><path d=\"m161.71 304.37 15.117-1.9214 15.234-3.8886-12.459 5.9082-12.403 3.9382-2.9896-1.92z\" clip-path=\"url(#pf4477786ed)\" fill=\"#988484\"/><path d=\"m216.93 308.4-12.403-3.9382-12.459-5.9082 15.234 3.8886 15.117 1.9214-2.4996 2.1165z\" clip-path=\"url(#pf4477786ed)\" fill=\"#948181\"/><path d=\"m124.65 283.45 15.921 6.5394 16.717 4.7362 0.22772 2.5016 0.82213 2.4687-16.309-2.3609-15.591-4.3017-1.4735-4.7691z\" clip-path=\"url(#pf4477786ed)\" fill=\"#a99292\"/><path d=\"m167.2 308.4 12.403-3.9382 12.459-5.9082-8.8207 7.4623-8.8031 5.4991-3.8091-1.4264z\" clip-path=\"url(#pf4477786ed)\" fill=\"#9c8787\"/><path d=\"m209.69 311.52-8.8031-5.4991-8.8207-7.4623 12.459 5.9082 12.403 3.9382-3.4289 1.6886z\" clip-path=\"url(#pf4477786ed)\" fill=\"#998585\"/><path d=\"m79.367 225.57 9.7285 13.806 11.383 12.8-2.9313 6.4955-1.3465 6.6815-12.062-11.301-10.336-12.589 1.8117-8.069z\" clip-path=\"url(#pf4477786ed)\" fill=\"#d0b4b4\"/><path d=\"m174.44 311.52 8.8031-5.4991 8.8207-7.4623-4.5695 8.4413-4.5676 6.4863-4.3639-0.82827z\" clip-path=\"url(#pf4477786ed)\" fill=\"#9e8989\"/><path d=\"m201.2 313.49-4.5676-6.4863-4.5695-8.4413 8.8207 7.4623 8.8031 5.4991-4.1229 1.1379z\" clip-path=\"url(#pf4477786ed)\" fill=\"#9c8888\"/><path d=\"m75.302 148.63 1.4906 15.606 3.3769 15.781-8.2858 7.6147-6.377 8.1528-3.8748-15.527-1.7114-15.625 6.6982-8.2768z\" clip-path=\"url(#pf4477786ed)\" fill=\"#e2c4c4\"/><path d=\"m182.93 313.49 4.5676-6.4863 4.5695-8.4413v8.7755 6.824l-4.6098-0.1688z\" clip-path=\"url(#pf4477786ed)\" fill=\"#9f8a8a\"/><path d=\"m192.06 314.16v-6.824-8.7755l4.5695 8.4413 4.5676 6.4863-4.5273 0.50323z\" clip-path=\"url(#pf4477786ed)\" fill=\"#9e8989\"/><path d=\"m126.44 293.04 15.591 4.3017 16.309 2.3609 1.4058 2.3929 1.9684 2.2749-14.76-0.10415-14.16-2.1597-3.7344-4.4267z\" clip-path=\"url(#pf4477786ed)\" fill=\"#aa9494\"/><path d=\"m96.201 265.36 13.58 9.8471 14.871 8.2516 0.31397 4.8144 1.4735 4.7691-14.615-6.1962-13.391-8.0148-1.9447-6.7149z\" clip-path=\"url(#pf4477786ed)\" fill=\"#c0a7a7\"/><path d=\"m65.507 195.78 5.9505 15.184 7.9102 14.606-3.7531 7.8243-1.8117 8.069-8.4219-13.687-6.346-14.574 2.1495-8.8521z\" clip-path=\"url(#pf4477786ed)\" fill=\"#e1c3c3\"/><path d=\"m132.79 302.1 14.16 2.1597 14.76 0.10415 2.4996 2.1165 2.9896 1.92-12.149 1.8677-11.691-0.27555-5.7759-3.7602z\" clip-path=\"url(#pf4477786ed)\" fill=\"#aa9393\"/><path d=\"m240.77 310-11.691 0.27555-12.149-1.8677 2.9896-1.92 2.4996-2.1165 14.76-0.10415 14.16-2.1597-4.7932 4.1322z\" clip-path=\"url(#pf4477786ed)\" fill=\"#7d6c6c\"/><path d=\"m78.143 118.92-2.3976 14.519-0.44309 15.186-8.6833 7.7258-6.6982 8.2768 0.5088-15.47 2.7521-15.056 6.5103-7.8511z\" clip-path=\"url(#pf4477786ed)\" fill=\"#eacbcb\"/><path d=\"m73.803 241.47 10.336 12.589 12.062 11.301 0.2879 6.7563 1.9447 6.7149-11.93-9.7268-10.249-11.302-2.2514-8.1517z\" clip-path=\"url(#pf4477786ed)\" fill=\"#d5b9b9\"/><path d=\"m143.36 310 11.691 0.27555 12.149-1.8677 3.4289 1.6886 3.8091 1.4264-8.6437 3.4024-8.3381 1.1991-7.4334-2.808z\" clip-path=\"url(#pf4477786ed)\" fill=\"#a89191\"/><path d=\"m226.67 316.12-8.3381-1.1991-8.6437-3.4024 3.8091-1.4264 3.4289-1.6886 12.149 1.8677 11.691-0.27555-6.6623 3.3163z\" clip-path=\"url(#pf4477786ed)\" fill=\"#857373\"/><path d=\"m98.433 278.83 13.391 8.0148 14.615 6.1962 2.6207 4.6397 3.7344 4.4267-13.319-4.2147-12.241-6.2359-5.2066-6.2728z\" clip-path=\"url(#pf4477786ed)\" fill=\"#c1a8a8\"/><path d=\"m59.921 164.63 1.7114 15.625 3.8748 15.527-4.3227 8.5693-2.1495 8.8521-4.1373-15.231-1.8286-15.639 2.2929-8.9987z\" clip-path=\"url(#pf4477786ed)\" fill=\"#eecece\"/><path d=\"m157.46 316.12 8.3381-1.1991 8.6437-3.4024 4.1229 1.1379 4.3639 0.82827-4.4918 4.377-4.3396 2.1391-8.5648-1.6362z\" clip-path=\"url(#pf4477786ed)\" fill=\"#a38d8d\"/><path d=\"m210.03 320-4.3396-2.1391-4.4918-4.377 4.3639-0.82827 4.1229-1.1379 8.6437 3.4024 8.3381 1.1991-8.0723 2.2445z\" clip-path=\"url(#pf4477786ed)\" fill=\"#8d7a7a\"/><path d=\"m174.1 320 4.3396-2.1391 4.4918-4.377 4.5273 0.50323 4.6098 0.1688v4.7111 2.4621l-9.0689-0.33397z\" clip-path=\"url(#pf4477786ed)\" fill=\"#9d8888\"/><path d=\"m192.06 321.33v-2.4621-4.7111l4.6098-0.1688 4.5273-0.50323 4.4918 4.377 4.3396 2.1391-8.8996 0.99516z\" clip-path=\"url(#pf4477786ed)\" fill=\"#968282\"/><path d=\"m88.74 92.853-6.2531 12.461-4.3444 13.609-8.4509 7.3311-6.5103 7.8511 4.9826-14.383 7.1622-13.455 5.8205-6.932z\" clip-path=\"url(#pf4477786ed)\" fill=\"#edcdcd\"/><path d=\"m59.035 213.2 6.346 14.574 8.4219 13.687 0.20069 8.1806 2.2514 8.1517-8.3694-12.709-6.3174-13.921-2.4223-8.9737z\" clip-path=\"url(#pf4477786ed)\" fill=\"#e7c8c8\"/><path d=\"m107.23 291.65 12.241 6.2359 13.319 4.2147 4.7932 4.1322 5.7759 3.7602-11.029-2.4602-10.164-4.6511-8.1873-5.3589z\" clip-path=\"url(#pf4477786ed)\" fill=\"#bfa6a6\"/><path d=\"m261.96 302.89-10.164 4.6511-11.029 2.4602 5.7759-3.7602 4.7932-4.1322 13.319-4.2147 12.241-6.2359-6.7483 5.8729z\" clip-path=\"url(#pf4477786ed)\" fill=\"#736363\"/><path d=\"m63.182 134.11-2.7521 15.056-0.5088 15.47-4.5589 8.7053-2.2929 8.9987 0.54371-15.786 2.9398-15.66 2.2087-8.5293z\" clip-path=\"url(#pf4477786ed)\" fill=\"#f6d5d5\"/><path d=\"m76.255 257.8 10.249 11.302 11.93 9.7268 3.5946 6.554 5.2066 6.2728-10.937-8.1886-9.4192-10.036-6.3198-7.6537z\" clip-path=\"url(#pf4477786ed)\" fill=\"#d6baba\"/><path d=\"m122.17 302.89 10.164 4.6511 11.029 2.4602 6.6623 3.3163 7.4334 2.808-7.8839-1.0797-7.2815-3.3977-10.632-4.0203z\" clip-path=\"url(#pf4477786ed)\" fill=\"#b9a1a1\"/><path d=\"m241.84 311.64-7.2815 3.3977-7.8839 1.0797 7.4334-2.808 6.6623-3.3163 11.029-2.4602 10.164-4.6511-9.4919 4.7379z\" clip-path=\"url(#pf4477786ed)\" fill=\"#7f6e6e\"/><path d=\"m106.66 72.274-9.8266 9.4949-8.0916 11.084-7.5934 6.4814-5.8205 6.932 9.2513-12.28 11.21-10.871 4.6941-5.5971z\" clip-path=\"url(#pf4477786ed)\" fill=\"#ebcbcb\"/><path d=\"m53.069 182.34 1.8286 15.639 4.1373 15.231 0.11094 8.99 2.4223 8.9737-4.1237-14.908-1.8238-15.646-2.4843-9.1349z\" clip-path=\"url(#pf4477786ed)\" fill=\"#f4d4d4\"/><path d=\"m142.29 311.64 7.2815 3.3977 7.8839 1.0797 8.0723 2.2445 8.5648 1.6362-4.1091-0.19632-3.8003-2.5928-12.313-2.3499z\" clip-path=\"url(#pf4477786ed)\" fill=\"#b19999\"/><path d=\"m217.94 317.21-3.8003 2.5928-4.1091 0.19632 8.5648-1.6362 8.0723-2.2445 7.8839-1.0797 7.2815-3.3977-11.58 3.2191z\" clip-path=\"url(#pf4477786ed)\" fill=\"#8c7979\"/><path d=\"m75.326 106.27-7.1622 13.455-4.9826 14.383-4.4205 8.2545-2.2087 8.5293 5.3175-15.258 7.6323-14.578 1.9076-7.5091z\" clip-path=\"url(#pf4477786ed)\" fill=\"#f8d7d7\"/><path d=\"m86.879 273.43 9.4192 10.036 10.937 8.1886 6.7483 5.8729 8.1873 5.3589-9.1039-6.8099-7.8579-8.8955-10.073-6.5684z\" clip-path=\"url(#pf4477786ed)\" fill=\"#d3b7b7\"/><path d=\"m278.92 287.18-7.8579 8.8955-9.1039 6.8099 8.1873-5.3589 6.7483-5.8729 10.937-8.1886 9.4192-10.036-8.2568 7.1828z\" clip-path=\"url(#pf4477786ed)\" fill=\"#6e5f5f\"/><path d=\"m61.568 231.17 6.3174 13.921 8.3694 12.709 4.3042 7.9769 6.3198 7.6537-7.708-11.742-5.8278-13.269-7.0311-8.4539z\" clip-path=\"url(#pf4477786ed)\" fill=\"#e8c9c9\"/><path d=\"m166.19 317.21 3.8003 2.5928 4.1091 0.19632 8.8996 0.99516 9.0689 0.33397v0.10778-2.3151l-13.065-0.48031z\" clip-path=\"url(#pf4477786ed)\" fill=\"#a69090\"/><path d=\"m192.06 319.12v2.3151-0.10778l9.0689-0.33397 8.8996-0.99516 4.1091-0.19632 3.8003-2.5928-12.812 1.4305z\" clip-path=\"url(#pf4477786ed)\" fill=\"#998585\"/><path d=\"m56.552 150.89-2.9398 15.66-0.54371 15.786 0.067391 9.1452 2.4843 9.1349 0.54238-16.114 2.9315-16.296-2.4486-8.6514z\" clip-path=\"url(#pf4477786ed)\" fill=\"#fcdada\"/><path d=\"m130.93 58.803-12.85 5.7594-11.424 7.7115-6.1771 5.2451-4.6941 5.5971 12.997-9.2466 14.575-7.4323 3.2474-3.9353z\" clip-path=\"url(#pf4477786ed)\" fill=\"#e3c5c5\"/><path d=\"m95.787 83.116-11.21 10.871-9.2513 12.28-3.9167 7.2778-1.9076 7.5091 9.839-13.626 11.892-12.415 1.4448-6.0338z\" clip-path=\"url(#pf4477786ed)\" fill=\"#f4d4d4\"/><path d=\"m105.21 287.18 7.8579 8.8955 9.1039 6.8099 9.4919 4.7379 10.632 4.0203-6.5344-5.7143-5.6497-7.9848-13.176-4.9459z\" clip-path=\"url(#pf4477786ed)\" fill=\"#cbb0b0\"/><path d=\"m254.02 297.94-5.6497 7.9848-6.5344 5.7143 10.632-4.0203 9.4919-4.7379 9.1039-6.8099 7.8579-8.8955-11.726 5.8187z\" clip-path=\"url(#pf4477786ed)\" fill=\"#7d6d6d\"/><path d=\"m55.62 200.62 1.8238 15.646 4.1237 14.908 4.7439 8.7963 7.0311 8.4539-3.8085-14.581-1.6856-15.645-7.3132-8.6175z\" clip-path=\"url(#pf4477786ed)\" fill=\"#f5d4d4\"/><path d=\"m73.343 248.42 5.8278 13.269 7.708 11.742 8.2568 7.1828 10.073 6.5684-6.4422-10.865-4.8778-12.674-11.309-7.2771z\" clip-path=\"url(#pf4477786ed)\" fill=\"#e3c5c5\"/><path d=\"m290.24 263.64-4.8778 12.674-6.4422 10.865 10.073-6.5684 8.2568-7.1828 7.708-11.742 5.8278-13.269-9.236 7.9462z\" clip-path=\"url(#pf4477786ed)\" fill=\"#6d5f5f\"/><path d=\"m69.502 121.05-7.6323 14.578-5.3175 15.258 0.093328 8.6646 2.4486 8.6514 5.2972-16.18 7.5916-15.761-2.3038-7.5936z\" clip-path=\"url(#pf4477786ed)\" fill=\"#fedcdc\"/><path d=\"m224.31 304.81-2.9555 7.3958-3.4146 5.0082 12.313-2.3499 11.58-3.2191 6.5344-5.7143 5.6497-7.9848-14.385 3.9658z\" clip-path=\"url(#pf4477786ed)\" fill=\"#8e7b7b\"/><path d=\"m130.11 297.94 5.6497 7.9848 6.5344 5.7143 11.58 3.2191 12.313 2.3499-3.4146-5.0082-2.9555-7.3958-15.322-2.8982z\" clip-path=\"url(#pf4477786ed)\" fill=\"#bfa6a6\"/><path d=\"m123.36 66.437-14.575 7.4323-12.997 9.2466-3.1092 5.8624-1.4448 6.0338 13.749-10.961 15.367-9.2903 0.90852-4.2147z\" clip-path=\"url(#pf4477786ed)\" fill=\"#ebcbcb\"/><path d=\"m160.06 53.66-15.058 1.4745-14.071 3.6686-4.3252 3.699-3.2474 3.9353 15.907-5.4577 16.961-3.3581 1.6299-2.0385z\" clip-path=\"url(#pf4477786ed)\" fill=\"#d6b9b9\"/><path d=\"m159.82 304.81 2.9555 7.3958 3.4146 5.0082 12.812 1.4305 13.065 0.48031v-4.7643-7.192l-16.286-0.59303z\" clip-path=\"url(#pf4477786ed)\" fill=\"#b09999\"/><path d=\"m192.06 307.17v7.192 4.7643l13.065-0.48031 12.812-1.4305 3.4146-5.0082 2.9555-7.3958-15.962 1.7656z\" clip-path=\"url(#pf4477786ed)\" fill=\"#a08b8b\"/><path d=\"m59.094 168.21-2.9315 16.296-0.54238 16.114 4.9152 8.9605 7.3132 8.6175 0.50134-16.432 2.7086-16.918-7.1488-8.1549z\" clip-path=\"url(#pf4477786ed)\" fill=\"#fddbdb\"/><path d=\"m91.233 95.013-11.892 12.415-9.839 13.626 0.1772 7.6168 2.3038 7.5936 9.7666-15.043 11.775-14.033-2.0176-6.0709z\" clip-path=\"url(#pf4477786ed)\" fill=\"#fad8d8\"/><path d=\"m156.23 57.622-16.961 3.3581-15.907 5.4577-2.1027 4.1087-0.90852 4.2147 16.71-7.4316 17.746-5.421 0.39855-2.1664z\" clip-path=\"url(#pf4477786ed)\" fill=\"#dcbebe\"/><path d=\"m93.888 263.64 4.8778 12.674 6.4422 10.865 11.726 5.8187 13.176 4.9459-4.6385-10.161-3.5162-12.194-14.865-5.493z\" clip-path=\"url(#pf4477786ed)\" fill=\"#dabdbd\"/><path d=\"m262.17 275.59-3.5162 12.194-4.6385 10.161 13.176-4.9459 11.726-5.8187 6.4422-10.865 4.8778-12.674-13.202 6.4551z\" clip-path=\"url(#pf4477786ed)\" fill=\"#7f6e6e\"/><path d=\"m192.06 57.503-16.221-3.0597-15.782-0.78292-2.2039 1.9231-1.6299 2.0385 17.708-1.1731 18.128 1.0541z\" clip-path=\"url(#pf4477786ed)\" fill=\"#bca3a3\"/><path d=\"m67.849 218.19 1.6856 15.645 3.8085 14.581 9.236 7.9462 11.309 7.2771-3.1911-14.278-1.4131-15.638-11.807-7.4271z\" clip-path=\"url(#pf4477786ed)\" fill=\"#f0d0d0\"/><path d=\"m294.85 233.73-1.4131 15.638-3.1911 14.278 11.309-7.2771 9.236-7.9462 3.8085-14.581 1.6856-15.645-9.628 8.1052z\" clip-path=\"url(#pf4477786ed)\" fill=\"#716262\"/><path d=\"m120.35 74.761-15.367 9.2903-13.749 10.961 0.27364 6.1049 2.0176 6.0709 13.572-12.749 15.118-11.216-1.5506-4.2121z\" clip-path=\"url(#pf4477786ed)\" fill=\"#efcfcf\"/><path d=\"m192.06 57.503-18.128-1.0541-17.708 1.1731-1.0249 2.1202-0.39855 2.1664 18.452-3.2984 18.809-1.1072z\" clip-path=\"url(#pf4477786ed)\" fill=\"#c2a8a8\"/><path d=\"m71.983 136.26-7.5916 15.761-5.2972 16.18 4.8156 8.4828 7.1488 8.1549 4.8899-17.085 6.9978-16.923-6.5288-7.1367z\" clip-path=\"url(#pf4477786ed)\" fill=\"#ffdddd\"/><path d=\"m154.8 61.908-17.746 5.421-16.71 7.4316 0.31609 4.25 1.5506 4.2121 16.379-9.4632 17.325-7.5279-0.87584-2.1478z\" clip-path=\"url(#pf4477786ed)\" fill=\"#e0c2c2\"/><path d=\"m192.06 57.503-18.809 1.1072-18.452 3.2984 0.23864 2.1758 0.87584 2.1478 17.939-5.4512 18.207-3.2778z\" clip-path=\"url(#pf4477786ed)\" fill=\"#c8adad\"/><path d=\"m192.06 57.503-18.207 3.2778-17.939 5.4512 1.5019 2.0824 2.1057 1.9802 16.181-7.4826 16.357-5.3091z\" clip-path=\"url(#pf4477786ed)\" fill=\"#cdb2b2\"/><path d=\"m121.96 275.59 3.5162 12.194 4.6385 10.161 14.385 3.9658 15.322 2.8982-2.4288-9.7047-1.8424-11.881-17.335-3.2242z\" clip-path=\"url(#pf4477786ed)\" fill=\"#ccb1b1\"/><path d=\"m228.58 283.22-1.8424 11.881-2.4288 9.7047 15.322-2.8982 14.385-3.9658 4.6385-10.161 3.5162-12.194-16.256 4.4087z\" clip-path=\"url(#pf4477786ed)\" fill=\"#938080\"/><path d=\"m192.06 57.503-16.357 5.3091-16.181 7.4826 2.6761 1.8428 3.2024 1.6721 13.281-9.2466 13.379-7.0599z\" clip-path=\"url(#pf4477786ed)\" fill=\"#d2b6b6\"/><path d=\"m192.06 57.503 13.379 7.0599 13.281 9.2466 3.2024-1.6721 2.6761-1.8428-16.181-7.4826-16.357-5.3091z\" clip-path=\"url(#pf4477786ed)\" fill=\"#ceb2b2\"/><path d=\"m93.525 107.19-11.775 14.033-9.7666 15.043 4.4346 7.4345 6.5288 7.1367 8.9851-16.429 10.807-15.611-5.457-5.6776z\" clip-path=\"url(#pf4477786ed)\" fill=\"#fad9d9\"/><path d=\"m192.06 57.503-13.379 7.0599-13.281 9.2466 3.6746 1.4709 4.0834 1.2427 9.4286-10.613 9.473-8.4076z\" clip-path=\"url(#pf4477786ed)\" fill=\"#d5b9b9\"/><path d=\"m192.06 57.503 9.473 8.4076 9.4286 10.613 4.0834-1.2427 3.6746-1.4709-13.281-9.2466-13.379-7.0599z\" clip-path=\"url(#pf4477786ed)\" fill=\"#d2b6b6\"/><path d=\"m71.059 184.84-2.7086 16.918-0.50134 16.432 9.628 8.1052 11.807 7.4271 0.42037-16.715 2.2703-17.477-11.517-7.0234z\" clip-path=\"url(#pf4477786ed)\" fill=\"#f8d7d7\"/><path d=\"m292.16 199.53 2.2703 17.477 0.42036 16.715 11.807-7.4271 9.628-8.1052-0.50134-16.432-2.7086-16.918-9.3994 7.6672z\" clip-path=\"url(#pf4477786ed)\" fill=\"#796969\"/><path d=\"m155.92 66.232-17.325 7.5279-16.379 9.4632 2.7731 4.0998 3.9611 3.9134 14.888-11.41 15.689-9.5318-2.1057-1.9802z\" clip-path=\"url(#pf4477786ed)\" fill=\"#e1c3c3\"/><path d=\"m122.22 83.223-15.118 11.216-13.572 12.749 3.7564 5.9288 5.457 5.6776 12.421-14.485 13.791-13.074-3.9611-3.9134z\" clip-path=\"url(#pf4477786ed)\" fill=\"#f1d0d0\"/><path d=\"m155.55 283.22 1.8424 11.881 2.4288 9.7047 15.962 1.7656 16.286 0.59303v-9.5465-11.773l-18.447-0.66023z\" clip-path=\"url(#pf4477786ed)\" fill=\"#bba2a2\"/><path d=\"m192.06 285.85v11.773 9.5465l16.286-0.59303 15.962-1.7656 2.4288-9.7047 1.8424-11.881-18.072 1.9652z\" clip-path=\"url(#pf4477786ed)\" fill=\"#a89191\"/><path d=\"m192.06 57.503 4.9077 9.2566 4.8929 11.477 4.6801-0.7218 4.4208-0.99151-9.4286-10.613-9.473-8.4076z\" clip-path=\"url(#pf4477786ed)\" fill=\"#d6b9b9\"/><path d=\"m192.06 57.503-9.473 8.4076-9.4286 10.613 4.4208 0.99151 4.6801 0.7218 4.8929-11.477 4.9077-9.2566z\" clip-path=\"url(#pf4477786ed)\" fill=\"#d8bbbb\"/><path d=\"m192.06 57.503-4.9077 9.2566-4.8929 11.477 4.8559 0.43858 4.9447 0.14712v-11.773-9.5465z\" clip-path=\"url(#pf4477786ed)\" fill=\"#d9bcbc\"/><path d=\"m192.06 57.503v9.5465 11.773l4.9447-0.14712 4.8559-0.43858-4.8929-11.477-4.9077-9.2566z\" clip-path=\"url(#pf4477786ed)\" fill=\"#d8bbbb\"/><path d=\"m89.284 233.73 1.4131 15.638 3.1911 14.278 13.202 6.4551 14.865 5.493-2.3021-14.032-1.02-15.629-15.55-5.6119z\" clip-path=\"url(#pf4477786ed)\" fill=\"#e6c7c7\"/><path d=\"m265.5 245.93-1.02 15.629-2.3021 14.032 14.865-5.493 13.202-6.4551 3.1911-14.278 1.4131-15.638-13.798 6.5916z\" clip-path=\"url(#pf4477786ed)\" fill=\"#857373\"/><path d=\"m159.53 70.294-15.689 9.5318-14.888 11.41 5.0916 3.6548 6.1418 3.3271 12.301-13.124 12.921-11.285-3.2024-1.6721z\" clip-path=\"url(#pf4477786ed)\" fill=\"#e1c3c3\"/><path d=\"m218.72 73.809 12.921 11.285 12.301 13.124 6.1418-3.3271 5.0916-3.6548-14.888-11.41-15.689-9.5318-2.6761 1.8428z\" clip-path=\"url(#pf4477786ed)\" fill=\"#b49c9c\"/><path d=\"m82.946 150.84-6.9978 16.923-4.8899 17.085 9.3994 7.6672 11.517 7.0234 4.0953-17.9 5.8532-17.968-10.434-6.1301z\" clip-path=\"url(#pf4477786ed)\" fill=\"#fad9d9\"/><path d=\"m282.21 163.67 5.8532 17.968 4.0953 17.9 11.517-7.0234 9.3994-7.6672-4.8899-17.085-6.9978-16.923-8.5432 6.7007z\" clip-path=\"url(#pf4477786ed)\" fill=\"#847373\"/><path d=\"m243.95 98.218 11.43 14.72 10.323 16.031 8.6065-4.8553 7.0852-5.3185-12.421-14.485-13.791-13.074-5.0916 3.6548z\" clip-path=\"url(#pf4477786ed)\" fill=\"#a28c8c\"/><path d=\"m128.95 91.236-13.791 13.074-12.421 14.485 7.0852 5.3185 8.6065 4.8553 10.323-16.031 11.43-14.72-6.1418-3.3271z\" clip-path=\"url(#pf4477786ed)\" fill=\"#eecece\"/><path d=\"m102.74 118.79-10.807 15.611-8.9851 16.429 8.5432 6.7007 10.434 6.1301 7.5024-17.674 9.0041-17.024-8.6065-4.8553z\" clip-path=\"url(#pf4477786ed)\" fill=\"#f7d6d6\"/><path d=\"m265.7 128.97 9.0041 17.024 7.5024 17.674 10.434-6.1301 8.5432-6.7007-8.9851-16.429-10.807-15.611-7.0852 5.3185z\" clip-path=\"url(#pf4477786ed)\" fill=\"#927e7e\"/><path d=\"m118.63 245.93 1.02 15.629 2.3021 14.032 16.256 4.4087 17.335 3.2242-1.2069-13.871-0.53488-15.621-18.155-3.2962z\" clip-path=\"url(#pf4477786ed)\" fill=\"#d7baba\"/><path d=\"m230.33 253.73-0.53488 15.621-1.2069 13.871 17.335-3.2242 16.256-4.4087 2.3021-14.032 1.02-15.629-17.016 4.5059z\" clip-path=\"url(#pf4477786ed)\" fill=\"#9a8585\"/><path d=\"m165.41 73.809-12.921 11.285-12.301 13.124 7.0897 2.9354 7.9148 2.4863 8.7785-14.467 9.1974-12.65-4.0834-1.2427z\" clip-path=\"url(#pf4477786ed)\" fill=\"#dfc1c1\"/><path d=\"m210.97 76.523 9.1974 12.65 8.7785 14.467 7.9148-2.4863 7.0897-2.9354-12.301-13.124-12.921-11.285-3.6746 1.4709z\" clip-path=\"url(#pf4477786ed)\" fill=\"#bca3a3\"/><path d=\"m91.975 199.53-2.2703 17.477-0.42037 16.715 13.798 6.5916 15.55 5.6119 0.30344-16.938 1.6384-17.922-15.15-5.3037z\" clip-path=\"url(#pf4477786ed)\" fill=\"#edcece\"/><path d=\"m263.55 211.07 1.6384 17.922 0.30344 16.938 15.55-5.6119 13.798-6.5916-0.42036-16.715-2.2703-17.477-13.45 6.2313z\" clip-path=\"url(#pf4477786ed)\" fill=\"#8c7a7a\"/><path d=\"m173.16 76.523-9.1974 12.65-8.7785 14.467 8.599 1.9878 9.1265 1.4494 4.5704-15.324 4.7809-13.517-4.6801-0.7218z\" clip-path=\"url(#pf4477786ed)\" fill=\"#dabdbd\"/><path d=\"m201.87 78.236 4.7809 13.517 4.5704 15.324 9.1265-1.4494 8.599-1.9878-8.7785-14.467-9.1974-12.65-4.4208 0.99151z\" clip-path=\"url(#pf4477786ed)\" fill=\"#c4aaaa\"/><path d=\"m192.06 256.42v15.618 13.815l18.447-0.66023 18.072-1.9652 1.2069-13.871 0.53488-15.621-18.933 2.0095z\" clip-path=\"url(#pf4477786ed)\" fill=\"#b09898\"/><path d=\"m153.8 253.73 0.53488 15.621 1.2069 13.871 18.072 1.9652 18.447 0.66023v-13.815-15.618l-19.328-0.67518z\" clip-path=\"url(#pf4477786ed)\" fill=\"#c4aaaa\"/><path d=\"m192.06 78.822v13.815 15.618l9.6667-0.29591 9.4852-0.88167-4.5704-15.324-4.7809-13.517-4.8559 0.43858z\" clip-path=\"url(#pf4477786ed)\" fill=\"#ccb1b1\"/><path d=\"m182.26 78.236-4.7809 13.517-4.5704 15.324 9.4852 0.88167 9.6667 0.29591v-15.618-13.815l-4.9447-0.14712z\" clip-path=\"url(#pf4477786ed)\" fill=\"#d4b8b8\"/><path d=\"m140.18 98.218-11.43 14.72-10.323 16.031 9.9869 4.2945 11.194 3.6455 7.4006-17.253 8.1762-16.016-7.9148-2.4863z\" clip-path=\"url(#pf4477786ed)\" fill=\"#e9caca\"/><path d=\"m228.94 103.64 8.1762 16.016 7.4006 17.253 11.194-3.6455 9.9869-4.2945-10.323-16.031-11.43-14.72-7.0897 2.9354z\" clip-path=\"url(#pf4477786ed)\" fill=\"#ae9797\"/><path d=\"m101.92 163.67-5.8532 17.968-4.0953 17.9 13.45 6.2313 15.15 5.3037 2.9535-18.55 4.217-18.801-13.667-4.6192z\" clip-path=\"url(#pf4477786ed)\" fill=\"#f1d0d0\"/><path d=\"m256.38 173.72 4.217 18.801 2.9535 18.55 15.15-5.3037 13.45-6.2313-4.0953-17.9-5.8532-17.968-12.155 5.4326z\" clip-path=\"url(#pf4477786ed)\" fill=\"#968282\"/><path d=\"m118.43 128.97-9.0041 17.024-7.5024 17.674 12.155 5.4326 13.667 4.6192 5.3979-18.665 6.4676-18.144-11.194-3.6455z\" clip-path=\"url(#pf4477786ed)\" fill=\"#efcfcf\"/><path d=\"m244.52 136.91 6.4676 18.144 5.3979 18.665 13.667-4.6192 12.155-5.4326-7.5024-17.674-9.0041-17.024-9.9869 4.2945z\" clip-path=\"url(#pf4477786ed)\" fill=\"#a18c8c\"/><path d=\"m120.57 211.07-1.6384 17.922-0.30344 16.938 17.016 4.5059 18.155 3.2962 0.15914-17.082 0.85909-18.209-17.676-3.114z\" clip-path=\"url(#pf4477786ed)\" fill=\"#dfc1c1\"/><path d=\"m229.31 218.44 0.85908 18.209 0.15914 17.082 18.155-3.2962 17.016-4.5059-0.30344-16.938-1.6384-17.922-16.572 4.2575z\" clip-path=\"url(#pf4477786ed)\" fill=\"#a18c8c\"/><path d=\"m155.19 103.64-8.1762 16.016-7.4006 17.253 12.199 2.9199 12.976 2.132 3.8643-18.038 4.2633-16.845-9.1265-1.4494z\" clip-path=\"url(#pf4477786ed)\" fill=\"#e0c2c2\"/><path d=\"m211.22 107.08 4.2633 16.845 3.8643 18.038 12.976-2.132 12.199-2.9199-7.4006-17.253-8.1762-16.016-8.599 1.9878z\" clip-path=\"url(#pf4477786ed)\" fill=\"#bba2a2\"/><path d=\"m192.06 220.98v18.309 17.131l19.328-0.67518 18.933-2.0095-0.15914-17.082-0.85908-18.209-18.43 1.8981z\" clip-path=\"url(#pf4477786ed)\" fill=\"#b79f9f\"/><path d=\"m154.82 218.44-0.85909 18.209-0.15914 17.082 18.933 2.0095 19.328 0.67518v-17.131-18.309l-18.813-0.63773z\" clip-path=\"url(#pf4477786ed)\" fill=\"#ccb1b1\"/><path d=\"m172.91 107.08-4.2633 16.845-3.8643 18.038 13.506 1.2981 13.774 0.43587v-18.309-17.131l-9.6667-0.29591z\" clip-path=\"url(#pf4477786ed)\" fill=\"#d5b9b9\"/><path d=\"m192.06 108.25v17.131 18.309l13.774-0.43587 13.506-1.2981-3.8643-18.038-4.2633-16.845-9.4852 0.88167z\" clip-path=\"url(#pf4477786ed)\" fill=\"#c8aeae\"/><path d=\"m127.75 173.72-4.217 18.801-2.9535 18.55 16.572 4.2575 17.676 3.114 1.548-18.97 2.2089-19.339-15.906-2.7081z\" clip-path=\"url(#pf4477786ed)\" fill=\"#e3c5c5\"/><path d=\"m225.55 180.13 2.2089 19.339 1.548 18.97 17.676-3.114 16.572-4.2575-2.9535-18.55-4.217-18.801-14.928 3.7049z\" clip-path=\"url(#pf4477786ed)\" fill=\"#aa9393\"/><path d=\"m139.61 136.91-6.4676 18.144-5.3979 18.665 14.928 3.7049 15.906 2.7081 2.825-19.304 3.3813-18.866-12.976-2.132z\" clip-path=\"url(#pf4477786ed)\" fill=\"#e3c5c5\"/><path d=\"m219.34 141.96 3.3813 18.866 2.825 19.304 15.906-2.7081 14.928-3.7049-5.3979-18.665-6.4676-18.144-12.199 2.9199z\" clip-path=\"url(#pf4477786ed)\" fill=\"#b39b9b\"/><path d=\"m158.58 180.13-2.2089 19.339-1.548 18.97 18.43 1.8981 18.813 0.63773v-19.115-19.525l-16.912-0.55424z\" clip-path=\"url(#pf4477786ed)\" fill=\"#d2b6b6\"/><path d=\"m192.06 182.34v19.525 19.115l18.813-0.63773 18.43-1.8981-1.548-18.97-2.2089-19.339-16.574 1.65z\" clip-path=\"url(#pf4477786ed)\" fill=\"#bea5a5\"/><path d=\"m164.79 141.96-3.3813 18.866-2.825 19.304 16.574 1.65 16.912 0.55424v-19.525-19.115l-13.774-0.43587z\" clip-path=\"url(#pf4477786ed)\" fill=\"#d5b8b8\"/><path d=\"m192.06 143.69v19.115 19.525l16.912-0.55424 16.574-1.65-2.825-19.304-3.3813-18.866-13.506 1.2981z\" clip-path=\"url(#pf4477786ed)\" fill=\"#c4aaaa\"/></g><defs><clipPath id=\"pf4477786ed\"><rect x=\"7.2\" y=\"7.2\" width=\"360\" height=\"360\"/></clipPath></defs></svg>"
      ],
      "text/plain": [
       "<Figure size 360x360 with 1 Axes>"
      ]
     },
     "execution_count": 19,
     "metadata": {},
     "output_type": "execute_result"
    }
   ],
   "source": [
    "from qiskit_textbook.widgets import plot_bloch_vector_spherical\n",
    "coords = [pi/2,0,1] # [Theta, Phi, Radius]\n",
    "plot_bloch_vector_spherical(coords) # 球面座標を持つブロッホベクトル"
   ]
  },
  {
   "cell_type": "markdown",
   "metadata": {},
   "source": [
    "#### 注意!\n",
    "量子ビットの状態について初めて学習するとき、量子ビットの _状態ベクトル_ と _ブロッホベクトル_ を混同しやすいです。 状態ベクトルは [1.1](＃notation) で解かれたベクトルであり、量子ビットが存在できる2つの状態の振幅を保持します。ブロッホベクトルは、2次元の複素数の状態ベクトルを実際の3次元空間にマッピングする視覚化ツールです。"
   ]
  },
  {
   "cell_type": "markdown",
   "metadata": {},
   "source": [
    "#### 練習問題\n",
    "\n",
    "`plot_bloch_sphere_spherical()`を使って以下の状態の量子ビットをプロットしてください。\n",
    "1. $|0\\rangle$\n",
    "2. $|1\\rangle$\n",
    "3. $\\tfrac{1}{\\sqrt{2}}(|0\\rangle + |1\\rangle)$\n",
    "4. $\\tfrac{1}{\\sqrt{2}}(|0\\rangle - i|1\\rangle)$\n",
    "5. $\\tfrac{1}{\\sqrt{2}}\\begin{bmatrix}i\\\\1\\end{bmatrix}$"
   ]
  },
  {
   "cell_type": "markdown",
   "metadata": {},
   "source": [
    "`plot_bloch_vector()`で使用するために、球座標からデカルト座標に変換するウィジェットも以下に含めました。"
   ]
  },
  {
   "cell_type": "code",
   "execution_count": 20,
   "metadata": {
    "scrolled": true
   },
   "outputs": [
    {
     "data": {
      "application/vnd.jupyter.widget-view+json": {
       "model_id": "27de9ed023d6465d9a2b33d52a6ba63d",
       "version_major": 2,
       "version_minor": 0
      },
      "text/plain": [
       "VBox(children=(Label(value='Define a qubit state using $\\\\theta$ and $\\\\phi$:'), Text(value='', placeholder='T…"
      ]
     },
     "metadata": {},
     "output_type": "display_data"
    },
    {
     "data": {
      "application/vnd.jupyter.widget-view+json": {
       "model_id": "9cc58cbedeb741a8a3078bdad9edcf97",
       "version_major": 2,
       "version_minor": 0
      },
      "text/plain": [
       "HTML(value='<pre></pre>')"
      ]
     },
     "metadata": {},
     "output_type": "display_data"
    },
    {
     "data": {
      "application/vnd.jupyter.widget-view+json": {
       "model_id": "624a34e38a204b008f893012b37470a2",
       "version_major": 2,
       "version_minor": 0
      },
      "text/plain": [
       "Image(value=b'\\x89PNG\\r\\n\\x1a\\n\\x00\\x00\\x00\\rIHDR\\x00\\x00\\x01h\\x00\\x00\\x01h\\x08\\x06\\x00\\x00\\x00z\\xe5a\\xd5\\x00\\…"
      ]
     },
     "metadata": {},
     "output_type": "display_data"
    }
   ],
   "source": [
    "from qiskit_textbook.widgets import bloch_calc\n",
    "bloch_calc()"
   ]
  },
  {
   "cell_type": "code",
   "execution_count": 21,
   "metadata": {},
   "outputs": [
    {
     "data": {
      "text/plain": [
       "{'qiskit-terra': '0.13.0',\n",
       " 'qiskit-aer': '0.5.1',\n",
       " 'qiskit-ignis': '0.3.0',\n",
       " 'qiskit-ibmq-provider': '0.6.1',\n",
       " 'qiskit-aqua': '0.6.6',\n",
       " 'qiskit': '0.18.3'}"
      ]
     },
     "execution_count": 21,
     "metadata": {},
     "output_type": "execute_result"
    }
   ],
   "source": [
    "import qiskit\n",
    "qiskit.__qiskit_version__"
   ]
  }
 ],
 "metadata": {
  "kernelspec": {
   "display_name": "Python 3",
   "language": "python",
   "name": "python3"
  },
  "language_info": {
   "codemirror_mode": {
    "name": "ipython",
    "version": 3
   },
   "file_extension": ".py",
   "mimetype": "text/x-python",
   "name": "python",
   "nbconvert_exporter": "python",
   "pygments_lexer": "ipython3",
   "version": "3.9"
  }
 },
 "nbformat": 4,
 "nbformat_minor": 2
}
