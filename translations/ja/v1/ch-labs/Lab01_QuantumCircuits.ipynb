{
 "cells": [
  {
   "cell_type": "markdown",
   "metadata": {
    "tags": [
     "remove_cell"
    ]
   },
   "source": [
    "# 実験 1 量子回路"
   ]
  },
  {
   "cell_type": "markdown",
   "metadata": {},
   "source": [
    "前提知識\n",
    "- [Qiskitの基礎](https://qiskit.org/documentation/tutorials/circuits/1_getting_started_with_qiskit.html)\n",
    "- [Ch.1.2 計算の原子](https://qiskit.org/textbook/ch-states/atoms-computation.html)\n",
    "\n",
    "そのほかの関連教材\n",
    "- [IBM Quantum Systemへのアクセス](https://qiskit.org/documentation/install.html#access-ibm-quantum-systems)\n",
    "- [IBM Quantum Systemの構成](https://quantum-computing.ibm.com/docs/manage/backends/configuration)\n",
    "- [トランスパイル](https://qiskit.org/documentation/apidoc/transpiler.html)\n",
    "- [IBM Quantumアカウント](https://quantum-computing.ibm.com/docs/manage/account/ibmq)\n",
    "- [量子回路](https://qiskit.org/documentation/apidoc/circuit.html)  "
   ]
  },
  {
   "cell_type": "code",
   "execution_count": 1,
   "metadata": {},
   "outputs": [],
   "source": [
    "from qiskit import *\n",
    "from qiskit.visualization import plot_histogram\n",
    "import numpy as np"
   ]
  },
  {
   "cell_type": "markdown",
   "metadata": {},
   "source": [
    "パート 1: 量子回路による古典ロジックゲート\n",
    "\n",
    "<!-- ::: q-block.exercise -->\n",
    "\n",
    "### 目標\n",
    "\n",
    "XORゲート、ANDゲート、NANDゲート、ORゲートの機能を持つ量子回路をNOTゲート（Qiskitではxと表す）、CNOTゲート（Qiskitではcx）、Toffoliゲート（Qiskitではccx）で作ります。\n",
    "\n",
    "<!-- ::: -->\n",
    "\n",
    "`NOT`ゲートの実装を例として示します。"
   ]
  },
  {
   "cell_type": "code",
   "execution_count": 2,
   "metadata": {},
   "outputs": [],
   "source": [
    "def NOT(inp):\n",
    "    \"\"\" NOT ゲート\n",
    "    \n",
    "    パラメーター:\n",
    "        inp (str): Input, encoded in qubit 0.\n",
    "        \n",
    "    戻り値:\n",
    "        QuantumCircuit: Output NOT circuit.\n",
    "        str: Output value measured from qubit 0.\n",
    "    \"\"\"\n",
    "\n",
    "    qc = QuantumCircuit(1, 1) # 単一量子ビットと単一古典ビットによる量子回路\n",
    "    qc.reset(0)\n",
    "    \n",
    "    # '0'を量子状態|0⟩、'1'を量子状態|1⟩としてエンコードする\n",
    "    # 量子ビットは初期状態|0⟩なので、'0'の入力に関しては何もしなくて良い\n",
    "    # 入力'1'に関しては、xを適用して|0⟩から|1⟩へ回転させる\n",
    "    if inp=='1':\n",
    "        qc.x(0)\n",
    "        \n",
    "    # 入力状態とゲート操作の間にバリアをセットします\n",
    "    qc.barrier()\n",
    "    \n",
    "    # すでに入力をエンコードしているので、xを使ってNOTを実行できます\n",
    "    qc.x(0)\n",
    "    \n",
    "    # ゲート操作と測定の間にバリアをセットします\n",
    "    qc.barrier()\n",
    "    \n",
    "    # 最後に、量子ビットの|0⟩/|1⟩の出力を抽出し、ビットc[0]にエンコードします\n",
    "    qc.measure(0,0)\n",
    "    qc.draw('mpl')\n",
    "    \n",
    "    # シミュレーター上でプログラムを実行します\n",
    "    backend = Aer.get_backend('qasm_simulator')\n",
    "    # 出力は決定論的なので、1回のショットで取得できます\n",
    "    job = execute(qc, backend, shots=1, memory=True)\n",
    "    output = job.result().get_memory()[0]\n",
    "    \n",
    "    return qc, output"
   ]
  },
  {
   "cell_type": "code",
   "execution_count": 3,
   "metadata": {},
   "outputs": [
    {
     "name": "stdout",
     "output_type": "stream",
     "text": [
      "入力 0 に対するNOTの出力は 1\n"
     ]
    },
    {
     "data": {
      "text/html": [
       "<pre style=\"word-wrap: normal;white-space: pre;background: #fff0;line-height: 1.1;font-family: &quot;Courier New&quot;,Courier,monospace\">           ░ ┌───┐ ░ ┌─┐\n",
       "q_0: ─|0>──░─┤ X ├─░─┤M├\n",
       "           ░ └───┘ ░ └╥┘\n",
       "c: 1/═════════════════╩═\n",
       "                      0 </pre>"
      ],
      "text/plain": [
       "           ░ ┌───┐ ░ ┌─┐\n",
       "q_0: ─|0>──░─┤ X ├─░─┤M├\n",
       "           ░ └───┘ ░ └╥┘\n",
       "c: 1/═════════════════╩═\n",
       "                      0 "
      ]
     },
     "metadata": {},
     "output_type": "display_data"
    },
    {
     "name": "stdout",
     "output_type": "stream",
     "text": [
      "\n",
      "\n",
      "入力 1 に対するNOTの出力は 0\n"
     ]
    },
    {
     "data": {
      "text/html": [
       "<pre style=\"word-wrap: normal;white-space: pre;background: #fff0;line-height: 1.1;font-family: &quot;Courier New&quot;,Courier,monospace\">          ┌───┐ ░ ┌───┐ ░ ┌─┐\n",
       "q_0: ─|0>─┤ X ├─░─┤ X ├─░─┤M├\n",
       "          └───┘ ░ └───┘ ░ └╥┘\n",
       "c: 1/══════════════════════╩═\n",
       "                           0 </pre>"
      ],
      "text/plain": [
       "          ┌───┐ ░ ┌───┐ ░ ┌─┐\n",
       "q_0: ─|0>─┤ X ├─░─┤ X ├─░─┤M├\n",
       "          └───┘ ░ └───┘ ░ └╥┘\n",
       "c: 1/══════════════════════╩═\n",
       "                           0 "
      ]
     },
     "metadata": {},
     "output_type": "display_data"
    },
    {
     "name": "stdout",
     "output_type": "stream",
     "text": [
      "\n",
      "\n"
     ]
    }
   ],
   "source": [
    "## 関数をテストします\n",
    "for inp in ['0', '1']:\n",
    "    qc, out = NOT(inp)\n",
    "    print('入力',inp,'に対するNOTの出力は',out)\n",
    "    display(qc.draw())\n",
    "    print('\\n')"
   ]
  },
  {
   "cell_type": "markdown",
   "metadata": {},
   "source": [
    "### &#128211; XOR ゲート\n",
    "\n",
    "2つのバイナリー文字列を入力として受け取り、出力を１つします。\n",
    "\n",
    "入力が等しいとき、出力は'0'となり、入力が等しくない場合は、'1'になります。"
   ]
  },
  {
   "cell_type": "code",
   "execution_count": 2,
   "metadata": {},
   "outputs": [],
   "source": [
    "def XOR(inp1,inp2):\n",
    "    \"\"\"XORゲート\n",
    "    \n",
    "    パラメーター:\n",
    "        inpt1 (str): Input 1, encoded in qubit 0.\n",
    "        inpt2 (str): Input 2, encoded in qubit 1.\n",
    "        \n",
    "    戻り値:\n",
    "        QuantumCircuit: Output XOR circuit.\n",
    "        str: Output value measured from qubit 1.\n",
    "    \"\"\"\n",
    "  \n",
    "    qc = QuantumCircuit(2, 1) \n",
    "    qc.reset(range(2))\n",
    "    \n",
    "    if inp1=='1':\n",
    "        qc.x(0)\n",
    "    if inp2=='1':\n",
    "        qc.x(1)\n",
    "    \n",
    "    # 入力状態とゲート操作の間にバリアをセットします\n",
    "    qc.barrier()\n",
    "    \n",
    "    # ここにプログラミングして量子回路でXORゲートを作ってください\n",
    "    \n",
    "    \n",
    "    \n",
    "    \n",
    "    \n",
    "    \n",
    "    \n",
    "    \n",
    "    # 入力状態とゲート操作の間にバリアをセットします\n",
    "    qc.barrier()\n",
    "    \n",
    "    qc.measure(1,0) # 量子ビット1の出力を測定\n",
    "  \n",
    "    # シミュレーター上でプログラムを実行します\n",
    "    backend = Aer.get_backend('qasm_simulator')\n",
    "    # 出力は決定論的なので、1回のショットで取得できます\n",
    "    job = execute(qc, backend, shots=1, memory=True)\n",
    "    output = job.result().get_memory()[0]\n",
    "  \n",
    "    return qc, output"
   ]
  },
  {
   "cell_type": "code",
   "execution_count": 1,
   "metadata": {},
   "outputs": [],
   "source": [
    "## 関数をテストします\n",
    "for inp1 in ['0', '1']:\n",
    "    for inp2 in ['0', '1']:\n",
    "        qc, output = XOR(inp1, inp2)\n",
    "        print('入力',inp1,inp2,'に対するXORの出力は',output)\n",
    "        display(qc.draw())\n",
    "        print('\\n')"
   ]
  },
  {
   "cell_type": "markdown",
   "metadata": {},
   "source": [
    "### &#128211; ANDゲート\n",
    "\n",
    "2つのバイナリー文字列を入力として受け取り、出力を１つします。\n",
    "\n",
    "入力が両方とも`'1'`だったときのみ出力が`'1'`になります。"
   ]
  },
  {
   "cell_type": "code",
   "execution_count": 6,
   "metadata": {},
   "outputs": [],
   "source": [
    "def AND(inp1,inp2):\n",
    "    \"\"\"ANDゲート\n",
    "    \n",
    "    パラメーター:\n",
    "        inpt1 (str): Input 1, encoded in qubit 0.\n",
    "        inpt2 (str): Input 2, encoded in qubit 1.\n",
    "        \n",
    "    戻り値:\n",
    "        QuantumCircuit: Output XOR circuit.\n",
    "        str: Output value measured from qubit 2.\n",
    "    \"\"\"\n",
    "    qc = QuantumCircuit(3, 1) \n",
    "    qc.reset(range(2))\n",
    "  \n",
    "    if inp1=='1':\n",
    "        qc.x(0)\n",
    "    if inp2=='1':\n",
    "        qc.x(1)\n",
    "        \n",
    "    qc.barrier()\n",
    "\n",
    "    # ここにプログラミングして量子回路でANDゲートを作ってください\n",
    "\n",
    "    \n",
    "    \n",
    "    \n",
    "    \n",
    "    \n",
    "\n",
    "    qc.barrier()\n",
    "    qc.measure(2, 0) # 量子ビット2からの出力を測定します\n",
    "  \n",
    "    # シミュレーター上でプログラムを実行します\n",
    "    backend = Aer.get_backend('qasm_simulator')\n",
    "    # 出力は決定論的なので、1回のショットで取得できます\n",
    "    job = execute(qc, backend, shots=1, memory=True)\n",
    "    output = job.result().get_memory()[0]\n",
    "  \n",
    "    return qc, output"
   ]
  },
  {
   "cell_type": "code",
   "execution_count": 2,
   "metadata": {},
   "outputs": [],
   "source": [
    "## 関数をテストします\n",
    "for inp1 in ['0', '1']:\n",
    "    for inp2 in ['0', '1']:\n",
    "        qc, output = AND(inp1, inp2)\n",
    "        print('入力',inp1,inp2,'に対するANDの出力は',output)\n",
    "        display(qc.draw())\n",
    "        print('\\n')"
   ]
  },
  {
   "cell_type": "markdown",
   "metadata": {},
   "source": [
    "### &#128211; NANDゲート\n",
    "\n",
    "2つのバイナリー文字列を入力として受け取り、出力を１つします。\n",
    "\n",
    "両方の入力が`'1'`の場合のみ、出力は`'0'` になります。"
   ]
  },
  {
   "cell_type": "code",
   "execution_count": 8,
   "metadata": {},
   "outputs": [],
   "source": [
    "def NAND(inp1,inp2):\n",
    "    \"\"\"NANDゲート\n",
    "    \n",
    "    パラメーター:\n",
    "        inpt1 (str): Input 1, encoded in qubit 0.\n",
    "        inpt2 (str): Input 2, encoded in qubit 1.\n",
    "        \n",
    "    戻り値:\n",
    "        QuantumCircuit: Output NAND circuit.\n",
    "        str: Output value measured from qubit 2.\n",
    "    \"\"\"\n",
    "    qc = QuantumCircuit(3, 1) \n",
    "    qc.reset(range(3))\n",
    "    \n",
    "    if inp1=='1':\n",
    "        qc.x(0)\n",
    "    if inp2=='1':\n",
    "        qc.x(1)\n",
    "    \n",
    "    qc.barrier()\n",
    "    \n",
    "    # ここにプログラミングして量子回路でNANDゲートを作ってください\n",
    "\n",
    "\n",
    "    \n",
    "    \n",
    "    \n",
    "    \n",
    "    \n",
    "    qc.barrier()\n",
    "    qc.measure(2, 0) # 量子ビット2からの出力を測定します\n",
    "  \n",
    "    # シミュレーター上でプログラムを実行します\n",
    "    backend = Aer.get_backend('qasm_simulator')\n",
    "    # 出力は決定論的なので、1回のショットで取得できます\n",
    "    job = execute(qc,backend,shots=1,memory=True)\n",
    "    output = job.result().get_memory()[0]\n",
    "  \n",
    "    return qc, output"
   ]
  },
  {
   "cell_type": "code",
   "execution_count": 3,
   "metadata": {},
   "outputs": [],
   "source": [
    "## 関数をテストします\n",
    "for inp1 in ['0', '1']:\n",
    "    for inp2 in ['0', '1']:\n",
    "        qc, output = NAND(inp1, inp2)\n",
    "        print('入力',inp1,inp2,'に対するNANDの出力は',output)\n",
    "        display(qc.draw())\n",
    "        print('\\n')"
   ]
  },
  {
   "cell_type": "markdown",
   "metadata": {},
   "source": [
    "### &#128211; ORゲート\n",
    "\n",
    "2つのバイナリー文字列を入力として受け取り、出力を1つします。\n",
    "\n",
    "入力のうちどちらかが`'1'`のとき、`'1'` が出力されます。"
   ]
  },
  {
   "cell_type": "code",
   "execution_count": 10,
   "metadata": {},
   "outputs": [],
   "source": [
    "def OR(inp1,inp2):\n",
    "    \"\"\"ORゲート\n",
    "    \n",
    "    パラメーター:\n",
    "        inpt1 (str): Input 1, encoded in qubit 0.\n",
    "        inpt2 (str): Input 2, encoded in qubit 1.\n",
    "        \n",
    "    戻り値:\n",
    "        QuantumCircuit: Output XOR circuit.\n",
    "        str: Output value measured from qubit 2.\n",
    "    \"\"\"\n",
    "\n",
    "    qc = QuantumCircuit(3, 1) \n",
    "    qc.reset(range(3))\n",
    "    \n",
    "    if inp1=='1':\n",
    "        qc.x(0)\n",
    "    if inp2=='1':\n",
    "        qc.x(1)\n",
    "    \n",
    "    qc.barrier()\n",
    "   \n",
    "    # ここにプログラミングして量子回路でORゲートを作ってください\n",
    "\n",
    "\n",
    "    \n",
    "    \n",
    "    \n",
    "    \n",
    "    \n",
    "    qc.barrier()\n",
    "    qc.measure(2, 0) # 量子ビット2からの出力を測定します\n",
    "  \n",
    "    # シミュレーター上でプログラムを実行します\n",
    "    backend = Aer.get_backend('qasm_simulator')\n",
    "    # 出力は決定論的なので、1回のショットで取得できます\n",
    "    job = execute(qc,backend,shots=1,memory=True)\n",
    "    output = job.result().get_memory()[0]\n",
    "  \n",
    "    return qc, output"
   ]
  },
  {
   "cell_type": "code",
   "execution_count": 4,
   "metadata": {},
   "outputs": [],
   "source": [
    "## 関数をテストします\n",
    "for inp1 in ['0', '1']:\n",
    "    for inp2 in ['0', '1']:\n",
    "        qc, output = OR(inp1, inp2)\n",
    "        print('入力',inp1,inp2,'に対するORの出力は',output)\n",
    "        display(qc.draw())\n",
    "        print('\\n')"
   ]
  },
  {
   "cell_type": "markdown",
   "metadata": {},
   "source": [
    "## パート2: 量子コンピューター上のANDゲート\n",
    "\n",
    "<!-- ::: q-block.exercise -->\n",
    "\n",
    "### 目標\n",
    "\n",
    "ANDゲートを2つの量子システム上で実行し、異なる回路特性が結果に与える影響を学びます。\n",
    "\n",
    "<!-- ::: -->\n",
    "\n",
    "パート１では、量子ゲートで`AND`ゲートを作り、シミュレーター上で実行しました。パート２では、再び`AND`ゲートを作りますが、実際の量子コンピューターで実行します。実際の量子システムを使う際には、今日の量子コンピューターがフォールトトレラントではなく、ノイズがあるということを認識しておかなければいけません。\n",
    "\n",
    "量子システムにおける「ノイズ」は、起きてはならないが起こってしまうもの、すべての影響の集合です。ノイズが発生すると、出力が必ずしも期待どおりの結果になるとは限りません。量子回路のすべてのプロセス（初期状態の準備、ゲートの適用、出力の測定）に関連してノイズが発生します。ゲートのノイズは、ゲートの種類や量子ビットの違いによって異なります。`cx`ゲートは通常、単一の量子ビットゲートよりもノイズが多くなります。\n",
    "\n",
    "ここでは、IBM Quantum Experienceから量子システムを使います。アクセス権がない方は、[こちら](https://qiskit.org/documentation/install.html#access-ibm-quantum-systems)からアクセス権を得ることができます。\n",
    "\n",
    "実際の量子コンピューターを使う準備ができたので、始めましょう。"
   ]
  },
  {
   "cell_type": "markdown",
   "metadata": {},
   "source": [
    "### ステップ1. デバイスの選択"
   ]
  },
  {
   "cell_type": "markdown",
   "metadata": {},
   "source": [
    "以下のセルを実行してディスクに保存されている資格情報からアカウントをロードします："
   ]
  },
  {
   "cell_type": "code",
   "execution_count": 17,
   "metadata": {},
   "outputs": [],
   "source": [
    "IBMQ.load_account()"
   ]
  },
  {
   "cell_type": "markdown",
   "metadata": {},
   "source": [
    "あなたのアカウントが読み込まれた後、以下のセルを実行することであなたがアクセス可能なプロバイダーのリストを見ることができます。各プロバイダーでは、利用できるシステムが異なります。オープン・ユーザーの場合は、一般的には`ibm-q/open/main`という名のプロバイダーが1つ表示されます："
   ]
  },
  {
   "cell_type": "code",
   "execution_count": 16,
   "metadata": {},
   "outputs": [],
   "source": [
    "IBMQ.providers()"
   ]
  },
  {
   "cell_type": "markdown",
   "metadata": {},
   "source": [
    "`get_provider`を使ってプロバイダーを取得してみましょう。`provider.backends( )`というコマンドは、選択したプロバイダーから利用可能なバックエンドのリストを表示します。"
   ]
  },
  {
   "cell_type": "code",
   "execution_count": 15,
   "metadata": {},
   "outputs": [],
   "source": [
    "provider = IBMQ.get_provider('ibm-q')\n",
    "provider.backends()"
   ]
  },
  {
   "cell_type": "markdown",
   "metadata": {},
   "source": [
    "これらのオプションの中から、回路を実行するシステムを1つ選択します。`ibmq_qasm_simulator`以外は、全て、あなたが使用することのできる実際の量子コンピューターです。システム間の違いは、量子ビット数、接続性、エラー率です。\n",
    "\n",
    "次のセルを実行すると、選択したバックエンドに関する全ての情報を表示するウィジェットが表示されます。タブをクリックすると必要な情報を得ることができます。例えば、`configuration` タブでは、バックエンドの現在の状況、量子ビット数、接続性が表示され、`Error Map`タブでは、そのシステムの最新のノイズ情報が表示されます。"
   ]
  },
  {
   "cell_type": "code",
   "execution_count": 9,
   "metadata": {},
   "outputs": [],
   "source": [
    "import qiskit.tools.jupyter\n",
    "\n",
    "backend_ex = provider.get_backend('ibmq_16_melbourne')\n",
    "backend_ex"
   ]
  },
  {
   "cell_type": "markdown",
   "metadata": {},
   "source": [
    "ANDゲートの回路のためには、3量子ビット以上のバックエンドが必要となり、`ibmq_armonk`以外の全ての実システムが該当します。以下はバックエンドをフィルタリングする例です。ここでは、量子ビット数でフィルタリングし、シミュレーターを取り除いています："
   ]
  },
  {
   "cell_type": "code",
   "execution_count": 8,
   "metadata": {},
   "outputs": [],
   "source": [
    "backends = provider.backends(filters = lambda x:x.configuration().n_qubits >= 2 and not x.configuration().simulator\n",
    "                             and x.status().operational==True)\n",
    "backends"
   ]
  },
  {
   "cell_type": "markdown",
   "metadata": {},
   "source": [
    "システムを選択する便利な方法の一つは、`least_busy`関数を使ってキュー内のジョブ数の最も少ないバックエンドを選ぶことです。この方法の欠点は実行結果の精度が比較的悪くなる可能性があることです。当然のことながら、エラー率の最も少ないシステムが最も人気があるからです。"
   ]
  },
  {
   "cell_type": "code",
   "execution_count": 17,
   "metadata": {},
   "outputs": [],
   "source": [
    "from qiskit.providers.ibmq import least_busy\n",
    "backend = least_busy(provider.backends(filters=lambda x: x.configuration().n_qubits >= 2 and \n",
    "                                        not x.configuration().simulator and x.status().operational==True))\n",
    "backend"
   ]
  },
  {
   "cell_type": "markdown",
   "metadata": {},
   "source": [
    "実際の量子コンピューターは定期的に再較正する必要があり、特定の量子ビットやゲートの忠実度は時間と共に変化します。よって、どのシステムが、よりエラーの少ない結果を出力するかは変化します。`ibmq_athens`は比較的低いエラー率を示す傾向があります。\n",
    "\n",
    "この演習では、2つのシステムを選択します：`ibmq_athens`を低いエラー率のものとして選択します。また、`ibmqx2`を特別な接続性、特に三角形の接続性があるために選択します。この接続性はトフォリゲートの回路において役立ちます。"
   ]
  },
  {
   "cell_type": "code",
   "execution_count": 5,
   "metadata": {},
   "outputs": [],
   "source": [
    "# run this cell\n",
    "backend1 = provider.get_backend('ibmqx2')\n",
    "backend2 = provider.get_backend('ibmq_athens')"
   ]
  },
  {
   "cell_type": "markdown",
   "metadata": {},
   "source": [
    "### ステップ2. 実デバイスのためのAND関数の定義\n",
    "\n",
    "次にAND関数を定義します。ショット数としてオープンなIBMシステムの最大ショット数である8192を選択して、最終結果のばらつきを減らします。関連情報は[ここ](https://quantum-computing.ibm.com/docs/manage/backends/configuration)でよく説明されています。"
   ]
  },
  {
   "cell_type": "markdown",
   "metadata": {},
   "source": [
    "#### Qiskitトランスパイラー"
   ]
  },
  {
   "cell_type": "markdown",
   "metadata": {},
   "source": [
    "実際の量子コンピューターで回路が実行される時、通常、選択したバックエンド用に回路をトランスパイルする必要があることを知っておくことが重要です。つまり、量子コンピューターが実際に実行できるゲートのみが回路に含まれるようにします。主に、スワップゲートが追加され、回路内の2量子ビットゲートがデバイス上の量子ビットペアにマップされて、実際にそのゲートが実行できるようにします。次のセルでは、トフォリゲートで表されたANDゲートが、IBMハードウェアで実行可能な種類のみの単一量子ゲートと2量子ビットゲートに分解されます。CNOTゲートが、３量子ビットの全てで、つまり三角トポロジー間で実行可能な場合、他のゲートは必要ありません。"
   ]
  },
  {
   "cell_type": "code",
   "execution_count": 4,
   "metadata": {},
   "outputs": [
    {
     "name": "stdout",
     "output_type": "stream",
     "text": [
      "AND gate\n"
     ]
    },
    {
     "data": {
      "image/svg+xml": [
       "<?xml version=\"1.0\" encoding=\"UTF-8\"?><!DOCTYPE svg  PUBLIC '-//W3C//DTD SVG 1.1//EN'  'http://www.w3.org/Graphics/SVG/1.1/DTD/svg11.dtd'><svg width=\"125.23pt\" height=\"168.93pt\" version=\"1.1\" viewBox=\"0 0 125.23 168.93\" xmlns=\"http://www.w3.org/2000/svg\" xmlns:xlink=\"http://www.w3.org/1999/xlink\"><defs><style type=\"text/css\">*{stroke-linecap:butt;stroke-linejoin:round;}</style></defs><path d=\"m0 168.93h125.23v-168.93h-125.23z\" fill=\"#ffffff\"/><path d=\"m63.491 43.561h49.996\" clip-path=\"url(#pf9a6b12631)\" fill=\"none\" stroke=\"#000000\" stroke-linecap=\"square\" stroke-width=\"2\"/><path d=\"m63.491 89.012h49.996\" clip-path=\"url(#pf9a6b12631)\" fill=\"none\" stroke=\"#000000\" stroke-linecap=\"square\" stroke-width=\"2\"/><path d=\"m63.491 134.46h49.996\" clip-path=\"url(#pf9a6b12631)\" fill=\"none\" stroke=\"#000000\" stroke-linecap=\"square\" stroke-width=\"2\"/><path d=\"m88.034 134.46v-90.902\" clip-path=\"url(#pf9a6b12631)\" fill=\"none\" stroke=\"#bb8bff\" stroke-linecap=\"square\" stroke-width=\"2\"/><path d=\"m88.034 47.992c1.1752 0 2.3025-0.46693 3.1335-1.2979 0.83102-0.83102 1.2979-1.9583 1.2979-3.1335s-0.46693-2.3025-1.2979-3.1335c-0.83102-0.83102-1.9583-1.2979-3.1335-1.2979s-2.3025 0.46693-3.1335 1.2979c-0.83102 0.83102-1.2979 1.9583-1.2979 3.1335s0.46693 2.3025 1.2979 3.1335c0.83102 0.83102 1.9583 1.2979 3.1335 1.2979z\" clip-path=\"url(#pf9a6b12631)\" fill=\"#bb8bff\" stroke=\"#bb8bff\" stroke-width=\"1.5\"/><path d=\"m88.034 93.443c1.1752 0 2.3025-0.46693 3.1335-1.2979 0.83102-0.83102 1.2979-1.9583 1.2979-3.1335s-0.46693-2.3025-1.2979-3.1335c-0.83102-0.83102-1.9583-1.2979-3.1335-1.2979s-2.3025 0.46693-3.1335 1.2979c-0.83102 0.83102-1.2979 1.9583-1.2979 3.1335s0.46693 2.3025 1.2979 3.1335c0.83102 0.83102 1.9583 1.2979 3.1335 1.2979z\" clip-path=\"url(#pf9a6b12631)\" fill=\"#bb8bff\" stroke=\"#bb8bff\" stroke-width=\"1.5\"/><path d=\"m88.034 144.8c2.7422 0 5.3725-1.0895 7.3116-3.0285 1.939-1.939 3.0285-4.5693 3.0285-7.3116s-1.0895-5.3725-3.0285-7.3116c-1.939-1.939-4.5693-3.0285-7.3116-3.0285s-5.3725 1.0895-7.3116 3.0285c-1.939 1.939-3.0285 4.5693-3.0285 7.3116s1.0895 5.3725 3.0285 7.3116c1.939 1.939 4.5693 3.0285 7.3116 3.0285z\" clip-path=\"url(#pf9a6b12631)\" fill=\"#bb8bff\" stroke=\"#bb8bff\" stroke-width=\"2\"/><path d=\"m88.034 140.37v-11.817\" clip-path=\"url(#pf9a6b12631)\" fill=\"none\" stroke=\"#ffffff\" stroke-linecap=\"square\" stroke-width=\"2\"/><path d=\"m82.126 134.46h11.817\" clip-path=\"url(#pf9a6b12631)\" fill=\"none\" stroke=\"#ffffff\" stroke-linecap=\"square\" stroke-width=\"2\"/><g clip-path=\"url(#pf9a6b12631)\"><defs><path id=\"DejaVuSans-Oblique-113\" d=\"m41.703 8.2031q-3.6094-4.7344-8.5312-7.1875-4.9062-2.4375-10.859-2.4375-8.2969 0-13.016 5.5938-4.7031 5.5938-4.7031 15.406 0 7.9062 2.9062 15.281t8.3281 13.234q3.5156 3.8125 8.0781 5.8594t9.5938 2.0469q6.0469 0 9.9531-2.3906t5.6719-7.2188l1.5625 8.2031h9.0312l-14.594-75.203h-9.0469zm-27.781 12.703q0-7.2344 3.0156-11.016 3.0312-3.7812 8.75-3.7812 8.5 0 14.5 8.125t6 19.75q0 7.0312-3.1094 10.766-3.0938 3.7344-8.8906 3.7344-4.25 0-7.875-1.9844-3.6094-1.9688-6.2969-5.7812-2.8281-4-4.4688-9.375-1.625-5.3594-1.625-10.438z\"/><path id=\"DejaVuSans-48\" d=\"m31.781 66.406q-7.6094 0-11.453-7.5-3.8281-7.4844-3.8281-22.531 0-14.984 3.8281-22.484 3.8438-7.5 11.453-7.5 7.6719 0 11.5 7.5 3.8438 7.5 3.8438 22.484 0 15.047-3.8438 22.531-3.8281 7.5-11.5 7.5zm0 7.8125q12.266 0 18.734-9.7031 6.4688-9.6875 6.4688-28.141 0-18.406-6.4688-28.109-6.4688-9.6875-18.734-9.6875-12.25 0-18.719 9.6875-6.4688 9.7031-6.4688 28.109 0 18.453 6.4688 28.141 6.4688 9.7031 18.719 9.7031z\"/></defs><g transform=\"translate(36.363 48.012) scale(.1625 -.1625)\"><use xlink:href=\"#DejaVuSans-Oblique-113\"/><use transform=\"translate(63.477 -16.406) scale(.7)\" xlink:href=\"#DejaVuSans-48\"/></g></g><g clip-path=\"url(#pf9a6b12631)\"><defs><path id=\"DejaVuSans-49\" d=\"m12.406 8.2969h16.109v55.625l-17.531-3.5156v8.9844l17.438 3.5156h9.8594v-64.609h16.109v-8.2969h-41.984z\"/></defs><g transform=\"translate(36.363 93.463) scale(.1625 -.1625)\"><use xlink:href=\"#DejaVuSans-Oblique-113\"/><use transform=\"translate(63.477 -16.406) scale(.7)\" xlink:href=\"#DejaVuSans-49\"/></g></g><g clip-path=\"url(#pf9a6b12631)\"><defs><path id=\"DejaVuSans-50\" d=\"m19.188 8.2969h34.422v-8.2969h-46.281v8.2969q5.6094 5.8125 15.297 15.594 9.7031 9.7969 12.188 12.641 4.7344 5.3125 6.6094 9 1.8906 3.6875 1.8906 7.25 0 5.8125-4.0781 9.4688-4.0781 3.6719-10.625 3.6719-4.6406 0-9.7969-1.6094-5.1406-1.6094-11-4.8906v9.9688q5.9531 2.3906 11.125 3.6094 5.1875 1.2188 9.4844 1.2188 11.328 0 18.062-5.6719 6.7344-5.6562 6.7344-15.125 0-4.5-1.6875-8.5312-1.6719-4.0156-6.125-9.4844-1.2188-1.4219-7.7656-8.1875-6.5312-6.7656-18.453-18.922z\"/></defs><g transform=\"translate(36.363 138.91) scale(.1625 -.1625)\"><use xlink:href=\"#DejaVuSans-Oblique-113\"/><use transform=\"translate(63.477 -16.406) scale(.7)\" xlink:href=\"#DejaVuSans-50\"/></g></g><defs><clipPath id=\"pf9a6b12631\"><rect x=\"7.2\" y=\"7.2\" width=\"110.83\" height=\"154.53\"/></clipPath></defs></svg>"
      ],
      "text/plain": [
       "<Figure size 146.797x204.68 with 1 Axes>"
      ]
     },
     "metadata": {},
     "output_type": "display_data"
    },
    {
     "name": "stdout",
     "output_type": "stream",
     "text": [
      "\n",
      "\n",
      "Transpiled AND gate with all the reqiured connectiviy\n"
     ]
    },
    {
     "data": {
      "image/svg+xml": [
       "<?xml version=\"1.0\" encoding=\"UTF-8\"?><!DOCTYPE svg  PUBLIC '-//W3C//DTD SVG 1.1//EN'  'http://www.w3.org/Graphics/SVG/1.1/DTD/svg11.dtd'><svg width=\"579.74pt\" height=\"168.93pt\" version=\"1.1\" viewBox=\"0 0 579.74 168.93\" xmlns=\"http://www.w3.org/2000/svg\" xmlns:xlink=\"http://www.w3.org/1999/xlink\"><defs><style type=\"text/css\">*{stroke-linecap:butt;stroke-linejoin:round;}</style></defs><path d=\"m0 168.93h579.74v-168.93h-579.74z\" fill=\"#ffffff\"/><path d=\"m63.491 43.561h504.51\" clip-path=\"url(#p989a34590e)\" fill=\"none\" stroke=\"#000000\" stroke-linecap=\"square\" stroke-width=\"2\"/><path d=\"m63.491 89.012h504.51\" clip-path=\"url(#p989a34590e)\" fill=\"none\" stroke=\"#000000\" stroke-linecap=\"square\" stroke-width=\"2\"/><path d=\"m63.491 134.46h504.51\" clip-path=\"url(#p989a34590e)\" fill=\"none\" stroke=\"#000000\" stroke-linecap=\"square\" stroke-width=\"2\"/><path d=\"m133.49 134.46v-45.451\" clip-path=\"url(#p989a34590e)\" fill=\"none\" stroke=\"#6fa4ff\" stroke-linecap=\"square\" stroke-width=\"2\"/><path d=\"m224.39 134.46v-90.902\" clip-path=\"url(#p989a34590e)\" fill=\"none\" stroke=\"#6fa4ff\" stroke-linecap=\"square\" stroke-width=\"2\"/><path d=\"m315.29 134.46v-45.451\" clip-path=\"url(#p989a34590e)\" fill=\"none\" stroke=\"#6fa4ff\" stroke-linecap=\"square\" stroke-width=\"2\"/><path d=\"m406.19 134.46v-90.902\" clip-path=\"url(#p989a34590e)\" fill=\"none\" stroke=\"#6fa4ff\" stroke-linecap=\"square\" stroke-width=\"2\"/><path d=\"m451.64 89.012v-45.451\" clip-path=\"url(#p989a34590e)\" fill=\"none\" stroke=\"#6fa4ff\" stroke-linecap=\"square\" stroke-width=\"2\"/><path d=\"m542.54 89.012v-45.451\" clip-path=\"url(#p989a34590e)\" fill=\"none\" stroke=\"#6fa4ff\" stroke-linecap=\"square\" stroke-width=\"2\"/><path d=\"m73.263 149.23h29.543v-29.543h-29.543z\" clip-path=\"url(#p989a34590e)\" fill=\"#6fa4ff\" stroke=\"#6fa4ff\" stroke-width=\"1.5\"/><path d=\"m133.49 93.443c1.1752 0 2.3025-0.46693 3.1335-1.2979 0.83102-0.83102 1.2979-1.9583 1.2979-3.1335s-0.46693-2.3025-1.2979-3.1335c-0.83102-0.83102-1.9583-1.2979-3.1335-1.2979s-2.3025 0.46693-3.1335 1.2979c-0.83102 0.83102-1.2979 1.9583-1.2979 3.1335s0.46693 2.3025 1.2979 3.1335c0.83102 0.83102 1.9583 1.2979 3.1335 1.2979z\" clip-path=\"url(#p989a34590e)\" fill=\"#6fa4ff\" stroke=\"#6fa4ff\" stroke-width=\"1.5\"/><path d=\"m133.49 144.8c2.7422 0 5.3725-1.0895 7.3116-3.0285 1.939-1.939 3.0285-4.5693 3.0285-7.3116s-1.0895-5.3725-3.0285-7.3116c-1.939-1.939-4.5693-3.0285-7.3116-3.0285s-5.3725 1.0895-7.3116 3.0285c-1.939 1.939-3.0285 4.5693-3.0285 7.3116s1.0895 5.3725 3.0285 7.3116c1.939 1.939 4.5693 3.0285 7.3116 3.0285z\" clip-path=\"url(#p989a34590e)\" fill=\"#6fa4ff\" stroke=\"#6fa4ff\" stroke-width=\"2\"/><path d=\"m164.16 149.23h29.543v-29.543h-29.543z\" clip-path=\"url(#p989a34590e)\" fill=\"#bb8bff\" stroke=\"#bb8bff\" stroke-width=\"1.5\"/><path d=\"m224.39 47.992c1.1752 0 2.3025-0.46693 3.1335-1.2979 0.83102-0.83102 1.2979-1.9583 1.2979-3.1335s-0.46693-2.3025-1.2979-3.1335c-0.83102-0.83102-1.9583-1.2979-3.1335-1.2979s-2.3025 0.46693-3.1335 1.2979c-0.83102 0.83102-1.2979 1.9583-1.2979 3.1335s0.46693 2.3025 1.2979 3.1335c0.83102 0.83102 1.9583 1.2979 3.1335 1.2979z\" clip-path=\"url(#p989a34590e)\" fill=\"#6fa4ff\" stroke=\"#6fa4ff\" stroke-width=\"1.5\"/><path d=\"m224.39 144.8c2.7422 0 5.3725-1.0895 7.3116-3.0285 1.939-1.939 3.0285-4.5693 3.0285-7.3116s-1.0895-5.3725-3.0285-7.3116c-1.939-1.939-4.5693-3.0285-7.3116-3.0285s-5.3725 1.0895-7.3116 3.0285c-1.939 1.939-3.0285 4.5693-3.0285 7.3116s1.0895 5.3725 3.0285 7.3116c1.939 1.939 4.5693 3.0285 7.3116 3.0285z\" clip-path=\"url(#p989a34590e)\" fill=\"#6fa4ff\" stroke=\"#6fa4ff\" stroke-width=\"2\"/><path d=\"m255.07 149.23h29.543v-29.543h-29.543z\" clip-path=\"url(#p989a34590e)\" fill=\"#bb8bff\" stroke=\"#bb8bff\" stroke-width=\"1.5\"/><path d=\"m315.29 93.443c1.1752 0 2.3025-0.46693 3.1335-1.2979 0.83102-0.83102 1.2979-1.9583 1.2979-3.1335s-0.46693-2.3025-1.2979-3.1335c-0.83102-0.83102-1.9583-1.2979-3.1335-1.2979s-2.3025 0.46693-3.1335 1.2979c-0.83102 0.83102-1.2979 1.9583-1.2979 3.1335s0.46693 2.3025 1.2979 3.1335c0.83102 0.83102 1.9583 1.2979 3.1335 1.2979z\" clip-path=\"url(#p989a34590e)\" fill=\"#6fa4ff\" stroke=\"#6fa4ff\" stroke-width=\"1.5\"/><path d=\"m315.29 144.8c2.7422 0 5.3725-1.0895 7.3116-3.0285 1.939-1.939 3.0285-4.5693 3.0285-7.3116s-1.0895-5.3725-3.0285-7.3116c-1.939-1.939-4.5693-3.0285-7.3116-3.0285s-5.3725 1.0895-7.3116 3.0285c-1.939 1.939-3.0285 4.5693-3.0285 7.3116s1.0895 5.3725 3.0285 7.3116c1.939 1.939 4.5693 3.0285 7.3116 3.0285z\" clip-path=\"url(#p989a34590e)\" fill=\"#6fa4ff\" stroke=\"#6fa4ff\" stroke-width=\"2\"/><path d=\"m345.97 103.78h29.543v-29.543h-29.543z\" clip-path=\"url(#p989a34590e)\" fill=\"#bb8bff\" stroke=\"#bb8bff\" stroke-width=\"1.5\"/><path d=\"m345.97 149.23h29.543v-29.543h-29.543z\" clip-path=\"url(#p989a34590e)\" fill=\"#bb8bff\" stroke=\"#bb8bff\" stroke-width=\"1.5\"/><path d=\"m406.19 47.992c1.1752 0 2.3025-0.46693 3.1335-1.2979 0.83102-0.83102 1.2979-1.9583 1.2979-3.1335s-0.46693-2.3025-1.2979-3.1335c-0.83102-0.83102-1.9583-1.2979-3.1335-1.2979s-2.3025 0.46693-3.1335 1.2979c-0.83102 0.83102-1.2979 1.9583-1.2979 3.1335s0.46693 2.3025 1.2979 3.1335c0.83102 0.83102 1.9583 1.2979 3.1335 1.2979z\" clip-path=\"url(#p989a34590e)\" fill=\"#6fa4ff\" stroke=\"#6fa4ff\" stroke-width=\"1.5\"/><path d=\"m406.19 144.8c2.7422 0 5.3725-1.0895 7.3116-3.0285 1.939-1.939 3.0285-4.5693 3.0285-7.3116s-1.0895-5.3725-3.0285-7.3116c-1.939-1.939-4.5693-3.0285-7.3116-3.0285s-5.3725 1.0895-7.3116 3.0285c-1.939 1.939-3.0285 4.5693-3.0285 7.3116s1.0895 5.3725 3.0285 7.3116c1.939 1.939 4.5693 3.0285 7.3116 3.0285z\" clip-path=\"url(#p989a34590e)\" fill=\"#6fa4ff\" stroke=\"#6fa4ff\" stroke-width=\"2\"/><path d=\"m451.64 47.992c1.1752 0 2.3025-0.46693 3.1335-1.2979 0.83102-0.83102 1.2979-1.9583 1.2979-3.1335s-0.46693-2.3025-1.2979-3.1335c-0.83102-0.83102-1.9583-1.2979-3.1335-1.2979s-2.3025 0.46693-3.1335 1.2979c-0.83102 0.83102-1.2979 1.9583-1.2979 3.1335s0.46693 2.3025 1.2979 3.1335c0.83102 0.83102 1.9583 1.2979 3.1335 1.2979z\" clip-path=\"url(#p989a34590e)\" fill=\"#6fa4ff\" stroke=\"#6fa4ff\" stroke-width=\"1.5\"/><path d=\"m451.64 99.352c2.7422 0 5.3725-1.0895 7.3116-3.0285 1.939-1.939 3.0285-4.5693 3.0285-7.3116s-1.0895-5.3725-3.0285-7.3116c-1.939-1.939-4.5693-3.0285-7.3116-3.0285s-5.3725 1.0895-7.3116 3.0285c-1.939 1.939-3.0285 4.5693-3.0285 7.3116s1.0895 5.3725 3.0285 7.3116c1.939 1.939 4.5693 3.0285 7.3116 3.0285z\" clip-path=\"url(#p989a34590e)\" fill=\"#6fa4ff\" stroke=\"#6fa4ff\" stroke-width=\"2\"/><path d=\"m436.87 149.23h29.543v-29.543h-29.543z\" clip-path=\"url(#p989a34590e)\" fill=\"#bb8bff\" stroke=\"#bb8bff\" stroke-width=\"1.5\"/><path d=\"m482.32 58.332h29.543v-29.543h-29.543z\" clip-path=\"url(#p989a34590e)\" fill=\"#bb8bff\" stroke=\"#bb8bff\" stroke-width=\"1.5\"/><path d=\"m482.32 103.78h29.543v-29.543h-29.543z\" clip-path=\"url(#p989a34590e)\" fill=\"#bb8bff\" stroke=\"#bb8bff\" stroke-width=\"1.5\"/><path d=\"m482.32 149.23h29.543v-29.543h-29.543z\" clip-path=\"url(#p989a34590e)\" fill=\"#6fa4ff\" stroke=\"#6fa4ff\" stroke-width=\"1.5\"/><path d=\"m542.54 47.992c1.1752 0 2.3025-0.46693 3.1335-1.2979 0.83102-0.83102 1.2979-1.9583 1.2979-3.1335s-0.46693-2.3025-1.2979-3.1335c-0.83102-0.83102-1.9583-1.2979-3.1335-1.2979s-2.3025 0.46693-3.1335 1.2979c-0.83102 0.83102-1.2979 1.9583-1.2979 3.1335s0.46693 2.3025 1.2979 3.1335c0.83102 0.83102 1.9583 1.2979 3.1335 1.2979z\" clip-path=\"url(#p989a34590e)\" fill=\"#6fa4ff\" stroke=\"#6fa4ff\" stroke-width=\"1.5\"/><path d=\"m542.54 99.352c2.7422 0 5.3725-1.0895 7.3116-3.0285 1.939-1.939 3.0285-4.5693 3.0285-7.3116s-1.0895-5.3725-3.0285-7.3116c-1.939-1.939-4.5693-3.0285-7.3116-3.0285s-5.3725 1.0895-7.3116 3.0285c-1.939 1.939-3.0285 4.5693-3.0285 7.3116s1.0895 5.3725 3.0285 7.3116c1.939 1.939 4.5693 3.0285 7.3116 3.0285z\" clip-path=\"url(#p989a34590e)\" fill=\"#6fa4ff\" stroke=\"#6fa4ff\" stroke-width=\"2\"/><path d=\"m133.49 140.37v-11.817\" clip-path=\"url(#p989a34590e)\" fill=\"none\" stroke=\"#ffffff\" stroke-linecap=\"square\" stroke-width=\"2\"/><path d=\"m127.58 134.46h11.817\" clip-path=\"url(#p989a34590e)\" fill=\"none\" stroke=\"#ffffff\" stroke-linecap=\"square\" stroke-width=\"2\"/><path d=\"m224.39 140.37v-11.817\" clip-path=\"url(#p989a34590e)\" fill=\"none\" stroke=\"#ffffff\" stroke-linecap=\"square\" stroke-width=\"2\"/><path d=\"m218.48 134.46h11.817\" clip-path=\"url(#p989a34590e)\" fill=\"none\" stroke=\"#ffffff\" stroke-linecap=\"square\" stroke-width=\"2\"/><path d=\"m315.29 140.37v-11.817\" clip-path=\"url(#p989a34590e)\" fill=\"none\" stroke=\"#ffffff\" stroke-linecap=\"square\" stroke-width=\"2\"/><path d=\"m309.38 134.46h11.817\" clip-path=\"url(#p989a34590e)\" fill=\"none\" stroke=\"#ffffff\" stroke-linecap=\"square\" stroke-width=\"2\"/><path d=\"m406.19 140.37v-11.817\" clip-path=\"url(#p989a34590e)\" fill=\"none\" stroke=\"#ffffff\" stroke-linecap=\"square\" stroke-width=\"2\"/><path d=\"m400.28 134.46h11.817\" clip-path=\"url(#p989a34590e)\" fill=\"none\" stroke=\"#ffffff\" stroke-linecap=\"square\" stroke-width=\"2\"/><path d=\"m451.64 94.92v-11.817\" clip-path=\"url(#p989a34590e)\" fill=\"none\" stroke=\"#ffffff\" stroke-linecap=\"square\" stroke-width=\"2\"/><path d=\"m445.73 89.012h11.817\" clip-path=\"url(#p989a34590e)\" fill=\"none\" stroke=\"#ffffff\" stroke-linecap=\"square\" stroke-width=\"2\"/><path d=\"m542.54 94.92v-11.817\" clip-path=\"url(#p989a34590e)\" fill=\"none\" stroke=\"#ffffff\" stroke-linecap=\"square\" stroke-width=\"2\"/><path d=\"m536.64 89.012h11.817\" clip-path=\"url(#p989a34590e)\" fill=\"none\" stroke=\"#ffffff\" stroke-linecap=\"square\" stroke-width=\"2\"/><g clip-path=\"url(#p989a34590e)\"><defs><path id=\"DejaVuSans-72\" d=\"m9.8125 72.906h9.8594v-29.891h35.844v29.891h9.8594v-72.906h-9.8594v34.719h-35.844v-34.719h-9.8594z\"/></defs><g transform=\"translate(83.146 138.05) scale(.13 -.13)\"><use xlink:href=\"#DejaVuSans-72\"/></g></g><g clip-path=\"url(#p989a34590e)\"><defs><path id=\"DejaVuSans-84\" d=\"m-0.29688 72.906h61.672v-8.3125h-25.875v-64.594h-9.9062v64.594h-25.891z\"/><path id=\"DejaVuSans-8224\" d=\"m20.703 72.906h8.5938v-20.516h17.922v-7.4688h-17.922v-54.547h-8.5938v54.547h-17.922v7.4688h17.922z\"/></defs><g transform=\"translate(170.62 138.05) scale(.13 -.13)\"><use transform=\"translate(0 .68438)\" xlink:href=\"#DejaVuSans-84\"/><use transform=\"translate(75.679 38.966) scale(.7)\" xlink:href=\"#DejaVuSans-8224\"/></g></g><g clip-path=\"url(#p989a34590e)\"><g transform=\"translate(265.87 138.05) scale(.13 -.13)\"><use xlink:href=\"#DejaVuSans-84\"/></g></g><g clip-path=\"url(#p989a34590e)\"><g transform=\"translate(356.77 92.599) scale(.13 -.13)\"><use xlink:href=\"#DejaVuSans-84\"/></g></g><g clip-path=\"url(#p989a34590e)\"><g transform=\"translate(352.42 138.05) scale(.13 -.13)\"><use transform=\"translate(0 .68438)\" xlink:href=\"#DejaVuSans-84\"/><use transform=\"translate(75.679 38.966) scale(.7)\" xlink:href=\"#DejaVuSans-8224\"/></g></g><g clip-path=\"url(#p989a34590e)\"><g transform=\"translate(447.67 138.05) scale(.13 -.13)\"><use xlink:href=\"#DejaVuSans-84\"/></g></g><g clip-path=\"url(#p989a34590e)\"><g transform=\"translate(493.12 47.148) scale(.13 -.13)\"><use xlink:href=\"#DejaVuSans-84\"/></g></g><g clip-path=\"url(#p989a34590e)\"><g transform=\"translate(488.77 92.599) scale(.13 -.13)\"><use transform=\"translate(0 .68438)\" xlink:href=\"#DejaVuSans-84\"/><use transform=\"translate(75.679 38.966) scale(.7)\" xlink:href=\"#DejaVuSans-8224\"/></g></g><g clip-path=\"url(#p989a34590e)\"><g transform=\"translate(492.21 138.05) scale(.13 -.13)\"><use xlink:href=\"#DejaVuSans-72\"/></g></g><g clip-path=\"url(#p989a34590e)\"><defs><path id=\"DejaVuSans-Oblique-113\" d=\"m41.703 8.2031q-3.6094-4.7344-8.5312-7.1875-4.9062-2.4375-10.859-2.4375-8.2969 0-13.016 5.5938-4.7031 5.5938-4.7031 15.406 0 7.9062 2.9062 15.281t8.3281 13.234q3.5156 3.8125 8.0781 5.8594t9.5938 2.0469q6.0469 0 9.9531-2.3906t5.6719-7.2188l1.5625 8.2031h9.0312l-14.594-75.203h-9.0469zm-27.781 12.703q0-7.2344 3.0156-11.016 3.0312-3.7812 8.75-3.7812 8.5 0 14.5 8.125t6 19.75q0 7.0312-3.1094 10.766-3.0938 3.7344-8.8906 3.7344-4.25 0-7.875-1.9844-3.6094-1.9688-6.2969-5.7812-2.8281-4-4.4688-9.375-1.625-5.3594-1.625-10.438z\"/><path id=\"DejaVuSans-48\" d=\"m31.781 66.406q-7.6094 0-11.453-7.5-3.8281-7.4844-3.8281-22.531 0-14.984 3.8281-22.484 3.8438-7.5 11.453-7.5 7.6719 0 11.5 7.5 3.8438 7.5 3.8438 22.484 0 15.047-3.8438 22.531-3.8281 7.5-11.5 7.5zm0 7.8125q12.266 0 18.734-9.7031 6.4688-9.6875 6.4688-28.141 0-18.406-6.4688-28.109-6.4688-9.6875-18.734-9.6875-12.25 0-18.719 9.6875-6.4688 9.7031-6.4688 28.109 0 18.453 6.4688 28.141 6.4688 9.7031 18.719 9.7031z\"/></defs><g transform=\"translate(36.363 48.012) scale(.1625 -.1625)\"><use xlink:href=\"#DejaVuSans-Oblique-113\"/><use transform=\"translate(63.477 -16.406) scale(.7)\" xlink:href=\"#DejaVuSans-48\"/></g></g><g clip-path=\"url(#p989a34590e)\"><defs><path id=\"DejaVuSans-49\" d=\"m12.406 8.2969h16.109v55.625l-17.531-3.5156v8.9844l17.438 3.5156h9.8594v-64.609h16.109v-8.2969h-41.984z\"/></defs><g transform=\"translate(36.363 93.463) scale(.1625 -.1625)\"><use xlink:href=\"#DejaVuSans-Oblique-113\"/><use transform=\"translate(63.477 -16.406) scale(.7)\" xlink:href=\"#DejaVuSans-49\"/></g></g><g clip-path=\"url(#p989a34590e)\"><defs><path id=\"DejaVuSans-50\" d=\"m19.188 8.2969h34.422v-8.2969h-46.281v8.2969q5.6094 5.8125 15.297 15.594 9.7031 9.7969 12.188 12.641 4.7344 5.3125 6.6094 9 1.8906 3.6875 1.8906 7.25 0 5.8125-4.0781 9.4688-4.0781 3.6719-10.625 3.6719-4.6406 0-9.7969-1.6094-5.1406-1.6094-11-4.8906v9.9688q5.9531 2.3906 11.125 3.6094 5.1875 1.2188 9.4844 1.2188 11.328 0 18.062-5.6719 6.7344-5.6562 6.7344-15.125 0-4.5-1.6875-8.5312-1.6719-4.0156-6.125-9.4844-1.2188-1.4219-7.7656-8.1875-6.5312-6.7656-18.453-18.922z\"/></defs><g transform=\"translate(36.363 138.91) scale(.1625 -.1625)\"><use xlink:href=\"#DejaVuSans-Oblique-113\"/><use transform=\"translate(63.477 -16.406) scale(.7)\" xlink:href=\"#DejaVuSans-50\"/></g></g><defs><clipPath id=\"p989a34590e\"><rect x=\"7.2\" y=\"7.2\" width=\"565.34\" height=\"154.53\"/></clipPath></defs></svg>"
      ],
      "text/plain": [
       "<Figure size 748.797x204.68 with 1 Axes>"
      ]
     },
     "execution_count": 4,
     "metadata": {},
     "output_type": "execute_result"
    }
   ],
   "source": [
    "qc_and = QuantumCircuit(3)\n",
    "qc_and.ccx(0,1,2)\n",
    "print('AND gate')\n",
    "display(qc_and.draw())\n",
    "print('\\n\\n全ての接続性を満たすようにトランスパイルされたANDゲート')\n",
    "qc_and.decompose().draw()"
   ]
  },
  {
   "cell_type": "markdown",
   "metadata": {},
   "source": [
    "さらに、全体のゲート数、つまり、入力回路のトータルの長さを削減するためにトランスパイラーが最適化を実行します。「デバイスのトポロジーに合わせてSWAPを追加すること」と「回路の長さを削減するための最適化」は、互いに相反していることに注意してください。以下では、計算に使われるデバイス上の量子ビット数を選択できる`initial_layout`と、回路SWAPマッピングと最適化メソッドを実行するために内部デフォルトで選択する引数`optimization_level`を使用します。\n",
    "\n",
    "回路の深さについてのトランスパイル関数は[ここ](https://qiskit.org/documentation/apidoc/transpiler.html)でより詳しく学ぶことができます。"
   ]
  },
  {
   "cell_type": "markdown",
   "metadata": {},
   "source": [
    "トランスパイルのステップが含まれた実際のシステム用に、パート1のAND関数を適切に変更してみましょう。"
   ]
  },
  {
   "cell_type": "code",
   "execution_count": null,
   "metadata": {},
   "outputs": [],
   "source": [
    "from qiskit.tools.monitor import job_monitor"
   ]
  },
  {
   "cell_type": "code",
   "execution_count": 6,
   "metadata": {},
   "outputs": [],
   "source": [
    "# セルを実行して、実際の量子システムのANDゲートを定義します\n",
    "\n",
    "def AND(inp1, inp2, backend, layout):\n",
    "    \n",
    "    qc = QuantumCircuit(3, 1) \n",
    "    qc.reset(range(3))\n",
    "    \n",
    "    if inp1=='1':\n",
    "        qc.x(0)\n",
    "    if inp2=='1':\n",
    "        qc.x(1)\n",
    "        \n",
    "    qc.barrier()\n",
    "    qc.ccx(0, 1, 2) \n",
    "    qc.barrier()\n",
    "    qc.measure(2, 0) \n",
    "  \n",
    "    qc_trans = transpile(qc, backend, initial_layout=layout, optimization_level=3)\n",
    "    job = execute(qc_trans, backend, shots=8192)\n",
    "    print(job.job_id())\n",
    "    job_monitor(job)\n",
    "    \n",
    "    output = job.result().get_counts()\n",
    "    \n",
    "    return qc_trans, output"
   ]
  },
  {
   "cell_type": "markdown",
   "metadata": {},
   "source": [
    "量子システムにジョブを投げると、`job_monitor`が、ジョブ待ちラインのどこに送信されたジョブがいるかトラッキングを始めます。"
   ]
  },
  {
   "cell_type": "markdown",
   "metadata": {},
   "source": [
    "#### ケースA) 三角形の接続性を持った<code>ibmqx2</code>における３量子ビット\n",
    "\n",
    "最初に、先ほど紹介したウィジェットを使って`ibmqx2`を調べます。三角形の接続性を持った３量子ビットのグループを見つけ、最初のレイアウトを決定します。"
   ]
  },
  {
   "cell_type": "code",
   "execution_count": 61,
   "metadata": {},
   "outputs": [],
   "source": [
    "# このセルを実行してウィジェットを開始します\n",
    "backend1"
   ]
  },
  {
   "cell_type": "markdown",
   "metadata": {},
   "source": [
    "<p>&#128211; 以下のセルのリスト変数<code>layout1</code>に選択したレイアウトを割り当てます。</p>"
   ]
  },
  {
   "cell_type": "code",
   "execution_count": 11,
   "metadata": {},
   "outputs": [],
   "source": [
    "# 選択したinitial_layoutを変数layout1にリストとして割り当てます\n",
    "# 例) layout1 = [0,2,4]\n",
    "layout1 = "
   ]
  },
  {
   "cell_type": "markdown",
   "metadata": {},
   "source": [
    "<p>&#128211; 初期レイアウトをどうしてそのように選択したか説明してください。</p>"
   ]
  },
  {
   "cell_type": "markdown",
   "metadata": {},
   "source": [
    " 以下のセルを実行して`ibmqx2`上で`AND`ゲートを実行します。"
   ]
  },
  {
   "cell_type": "code",
   "execution_count": 13,
   "metadata": {},
   "outputs": [],
   "source": [
    "output1_all = []\n",
    "qc_trans1_all = []\n",
    "prob1_all = []\n",
    "\n",
    "worst = 1\n",
    "best = 0\n",
    "for input1 in ['0','1']:\n",
    "    for input2 in ['0','1']:\n",
    "        qc_trans1, output1 = AND(input1, input2, backend1, layout1)\n",
    "        \n",
    "        output1_all.append(output1)\n",
    "        qc_trans1_all.append(qc_trans1)\n",
    "        \n",
    "        prob = output1[str(int( input1=='1' and input2=='1' ))]/8192\n",
    "        prob1_all.append(prob)\n",
    "        \n",
    "        print('\\n入力',input1,input2,'に対する正解の確率は')\n",
    "        print( '{:.2f}'.format(prob) )\n",
    "        print('---------------------------------')\n",
    "        \n",
    "        worst = min(worst,prob)\n",
    "        best = max(best, prob)\n",
    "        \n",
    "print('')\n",
    "print('\\n確率の最高値は {:.2f}'.format(best))\n",
    "print('確率の最低値は {:.2f}'.format(worst))"
   ]
  },
  {
   "cell_type": "markdown",
   "metadata": {},
   "source": [
    "ジョブの実行が完了すると、以下のようにして結果に簡単にアクセス可能です：\n",
    "\n",
    "\n",
    "```python\n",
    "results = backend.retrieve_job('JOB_ID').result().\n",
    "```\n",
    "\n",
    "\n",
    "job_ids は上記で定義した`AND`関数によって出力されます。また、job_idsは、あなたの`IQX`アカウントの結果にも載っています。より詳しい情報は[ここ](https://quantum-computing.ibm.com/docs/manage/account/ibmq)で確認できます。"
   ]
  },
  {
   "cell_type": "markdown",
   "metadata": {},
   "source": [
    "#### ケースB) 線形最近傍接続を持つ<code>ibmq_athens</code>における３量子ビット\n",
    "\n",
    "以下のセルを実行して、ウィジェットを使って`ibmq_athens`を調べます。"
   ]
  },
  {
   "cell_type": "code",
   "execution_count": 64,
   "metadata": {},
   "outputs": [],
   "source": [
    "backend2"
   ]
  },
  {
   "cell_type": "markdown",
   "metadata": {},
   "source": [
    "<p>&#128211; 線形最近傍接続を持つ３量子ビットを探します。エラーマップを考慮して、初期レイアウトを決定し、それをリスト変数layout2に割り当てます。</p>\n"
   ]
  },
  {
   "cell_type": "code",
   "execution_count": 65,
   "metadata": {},
   "outputs": [],
   "source": [
    "layout2 = []"
   ]
  },
  {
   "cell_type": "markdown",
   "metadata": {},
   "source": [
    "<p>&#128211; 初期レイアウトをどうしてそのように選択したか説明してください。</p>"
   ]
  },
  {
   "cell_type": "markdown",
   "metadata": {},
   "source": [
    "以下のセルを実行して`ibmq_athens`上で`AND`ゲートを実行します。"
   ]
  },
  {
   "cell_type": "code",
   "execution_count": 12,
   "metadata": {},
   "outputs": [],
   "source": [
    "output2_all = []\n",
    "qc_trans2_all = []\n",
    "prob2_all = []\n",
    "\n",
    "worst = 1\n",
    "best = 0\n",
    "for input1 in ['0','1']:\n",
    "    for input2 in ['0','1']:\n",
    "        qc_trans2, output2 = AND(input1, input2, backend2, layout2)\n",
    "        \n",
    "        output2_all.append(output2)\n",
    "        qc_trans2_all.append(qc_trans2)\n",
    "        \n",
    "        prob = output2[str(int( input1=='1' and input2=='1' ))]/8192\n",
    "        prob2_all.append(prob)\n",
    "        \n",
    "        print('\\n入力',input1,input2,'に対する正解の確率は')\n",
    "        print('{:.2f}'.format(prob) )\n",
    "        print('---------------------------------')\n",
    "        \n",
    "        worst = min(worst,prob)\n",
    "        best = max(best, prob)\n",
    "        \n",
    "print('')\n",
    "print('\\n確率の最高値は {:.2f}'.format(best))\n",
    "print('確率の最低値は {:.2f}'.format(worst))"
   ]
  },
  {
   "cell_type": "markdown",
   "metadata": {},
   "source": [
    "### ステップ3. 結果の解釈"
   ]
  },
  {
   "cell_type": "markdown",
   "metadata": {},
   "source": [
    "回路を区別するための量がいくつかあります。その中で最も重要なのは**回路の深さ**です。 回路の深さは[ここ](https://qiskit.org/documentation/apidoc/circuit.html) で詳細に定義されています（Supplementary Information(補足情報)を参照し、Quantum Circuit Properties(量子回路のプロパティ)のタブをクリックしてください）。回路の深さは、回路内のゲートの数に比例し、ハードウェア上の回路の実行時間におおよそ比例します。したがって、回路の深さは、実行された回路の忠実度の推定のために簡単に使えるメトリックです。\n",
    "\n",
    "2番目に重要な値は、回路内の**非ローカル（複数量子ビット）ゲート**の数です。IBM Quantumシステムで、物理的に実行できる非ローカル・ゲートはCNOTゲートのみです。CNOTゲートは実行するのに最も価値の高いゲートであるため、このゲートの総数は、最終的な出力の精度のベンチマークとしてもよく機能することを覚えておいてください。"
   ]
  },
  {
   "cell_type": "markdown",
   "metadata": {},
   "source": [
    "#### A) 回路の深さと結果の精度"
   ]
  },
  {
   "cell_type": "markdown",
   "metadata": {},
   "source": [
    "以下のセルを実行すると、`ibmq_athens`で実行された４つのトランスパイルされたANDゲートの回路図が、入力、正解の確率、回路の深さと共に表示されます。"
   ]
  },
  {
   "cell_type": "code",
   "execution_count": 14,
   "metadata": {},
   "outputs": [],
   "source": [
    "print('入力 0 0 の場合のibmq_athensでのトランスパイルされたANDゲート回路')\n",
    "print('\\n回路の深さ : {}'.format (qc_trans2_all[0].depth()))\n",
    "print('非ローカル・ゲートの数 : {}'.format (qc_trans2_all[0].num_nonlocal_gates()))\n",
    "print('正解の確率 : {:.2f}'.format(prob2_all[0]) )\n",
    "qc_trans2_all[0].draw()"
   ]
  },
  {
   "cell_type": "code",
   "execution_count": 15,
   "metadata": {},
   "outputs": [],
   "source": [
    "print('入力 0 1 の場合のibmq_athensでのトランスパイルされたANDゲート回路')\n",
    "print('\\n回路の深さ : {}'.format (qc_trans2_all[1].depth()))\n",
    "print('非ローカル・ゲートの数 : {}'.format (qc_trans2_all[1].num_nonlocal_gates()))\n",
    "print('正解の確率 : {:.2f}'.format(prob2_all[1]) )\n",
    "qc_trans2_all[1].draw()"
   ]
  },
  {
   "cell_type": "code",
   "execution_count": 16,
   "metadata": {},
   "outputs": [],
   "source": [
    "print('入力 1 0 の場合のibmq_athensでのトランスパイルされたANDゲート回路')\n",
    "print('\\n回路の深さ : {}'.format (qc_trans2_all[2].depth()))\n",
    "print('非ローカル・ゲートの数 : {}'.format (qc_trans2_all[2].num_nonlocal_gates()))\n",
    "print('正解の確率 : {:.2f}'.format(prob2_all[2]) )\n",
    "qc_trans2_all[2].draw()"
   ]
  },
  {
   "cell_type": "code",
   "execution_count": 17,
   "metadata": {},
   "outputs": [],
   "source": [
    "print('入力 1 1 の場合のibmq_athensでのトランスパイルされたANDゲート回路')\n",
    "print('\\n回路の深さ : {}'.format (qc_trans2_all[3].depth()))\n",
    "print('非ローカル・ゲートの数 : {}'.format (qc_trans2_all[3].num_nonlocal_gates()))\n",
    "print('正解の確率 : {:.2f}'.format(prob2_all[3]) )\n",
    "qc_trans2_all[3].draw()"
   ]
  },
  {
   "cell_type": "markdown",
   "metadata": {},
   "source": [
    "<p>&#128211; 回路が似ていない理由を説明してください。回路の特性と結果の精度との関係を説明してください。</p>\n"
   ]
  },
  {
   "cell_type": "markdown",
   "metadata": {},
   "source": [
    "#### B) 量子ビットの接続性と回路の深さ"
   ]
  },
  {
   "cell_type": "markdown",
   "metadata": {},
   "source": [
    "以下のセルを実行して、`ibmqx2`のトランスパイルされた回路を調べます。"
   ]
  },
  {
   "cell_type": "code",
   "execution_count": 18,
   "metadata": {},
   "outputs": [],
   "source": [
    "print('入力 0 0 の場合のibmqx2でのトランスパイルされたANDゲート回路')\n",
    "print('\\nT回路の深さ : {}'.format (qc_trans1_all[0].depth()))\n",
    "print('非ローカル・ゲートの数 : {}'.format (qc_trans1_all[0].num_nonlocal_gates()))\n",
    "print('正解の確率 : {:.2f}'.format(prob1_all[0]) )\n",
    "qc_trans1_all[0].draw()"
   ]
  },
  {
   "cell_type": "code",
   "execution_count": 19,
   "metadata": {},
   "outputs": [],
   "source": [
    "print('入力 0 1 の場合のibmqx2でのトランスパイルされたANDゲート回路')\n",
    "print('\\n回路の深さ : {}'.format (qc_trans1_all[1].depth()))\n",
    "print('非ローカル・ゲートの数 : {}'.format (qc_trans1_all[1].num_nonlocal_gates()))\n",
    "print('正解の確率 : {:.2f}'.format(prob1_all[1]) )\n",
    "qc_trans1_all[1].draw()"
   ]
  },
  {
   "cell_type": "code",
   "execution_count": 20,
   "metadata": {},
   "outputs": [],
   "source": [
    "print('入力 1 0 の場合のibmqx2でのトランスパイルされたANDゲート回路 1 0')\n",
    "print('\\n回路の深さ : {}'.format (qc_trans1_all[2].depth()))\n",
    "print('非ローカル・ゲートの数 : {}'.format (qc_trans1_all[2].num_nonlocal_gates()))\n",
    "print('正解の確率 : {:.2f}'.format(prob1_all[2]) )\n",
    "qc_trans1_all[2].draw()"
   ]
  },
  {
   "cell_type": "code",
   "execution_count": 21,
   "metadata": {},
   "outputs": [],
   "source": [
    "print('入力 1 1 の場合のibmqx2でのトランスパイルされたANDゲート回路 1 1')\n",
    "print('\\n回路の深さ : {}'.format (qc_trans1_all[3].depth()))\n",
    "print('非ローカル・ゲートの数 : {}'.format (qc_trans1_all[3].num_nonlocal_gates()))\n",
    "print('正解の確率 : {:.2f}'.format(prob1_all[3]) )\n",
    "qc_trans1_all[3].draw()"
   ]
  },
  {
   "cell_type": "markdown",
   "metadata": {},
   "source": [
    "<p>&#128211; 回路が似ている理由を説明してください。回路の特性と結果の精度との関係を説明してください。</p>\n",
    "\n"
   ]
  },
  {
   "cell_type": "markdown",
   "metadata": {},
   "source": [
    "#### C) エラー率と結果の精度"
   ]
  },
  {
   "cell_type": "markdown",
   "metadata": {},
   "source": [
    "<p>&#128211; これまで、実際のデバイスでの回路性能の指標として、回路の深さと非ローカル・ゲート数を使ってきました。しかし、上記の結果には興味深いものがあります。<code>ibmq_athens</code>のANDゲートは、回路ごとに~8-15の<code>cx</code>ゲートがありますが、6個の<code>cx</code>ゲートのみの<code>ibmqx2</code>と同等またはそれ以上の成功率です。これはどうしてでしょうか？ </p>\n"
   ]
  },
  {
   "cell_type": "code",
   "execution_count": null,
   "metadata": {},
   "outputs": [],
   "source": []
  }
 ],
 "metadata": {
  "kernelspec": {
   "display_name": "Python 3",
   "language": "python",
   "name": "python3"
  },
  "language_info": {
   "codemirror_mode": {
    "name": "ipython",
    "version": 3
   },
   "file_extension": ".py",
   "mimetype": "text/x-python",
   "name": "python",
   "nbconvert_exporter": "python",
   "pygments_lexer": "ipython3",
   "version": "3.9"
  }
 },
 "nbformat": 4,
 "nbformat_minor": 4
}
