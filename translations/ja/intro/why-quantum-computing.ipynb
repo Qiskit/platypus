{
  "cells": [
    {
      "cell_type": "markdown",
      "metadata": {
      },
      "source": [
        "# なぜ量子コンピューティングなのか？"
      ]
    },
    {
      "cell_type": "markdown",
      "metadata": {
      },
      "source": [
        "## コンピューターとは何か？\n",
        "\n",
        "このページにアクセスされた方は、コンピューターがどのようなものかをご存知でしょう。今日、コンピューターは、ノートパソコンや携帯電話から、信号機を制御するシステムまで、様々な形で利用されています。コンピューターは何でもできるようです。これらのシステムは非常に複雑で特殊なものですが、共通しているのは、コンピューターがある入力情報に対して一連の命令を実行し、何らかの新しい（出力）情報を与えてくれることです。\n",
        "\n",
        "コンピューターに与える命令は、非常に具体的で曖昧さのないものである必要があります。このような命令の集合を「アルゴリズム」と呼び、コンピュータの研究の多くは、異なるアルゴリズムの挙動を研究しています。このコースでは、キーボードやマウス、画面は使わず、情報とアルゴリズムだけで構成される、最も単純なコンピューターについて考えます。\n",
        "\n",
        "![基本的にすべてのコンピューターをレンダリングするアーティスト](images/why-qc/basically_all_computers.png)"
      ]
    },
    {
      "cell_type": "markdown",
      "metadata": {
        "formulas": {
          "T": {
            "meaning": "This is the average time our search algorithm takes to run.",
            "type": "Locally defined variable"
          },
          "exp": {
            "meaning": "This is the number of digits in our secret number. Because this is a superscript, this means we are doing 10 to the power of d.",
            "type": "Locally defined variable"
          },
          "prop_to": {
            "meaning": "'Proportional to': Everything to the left of this symbol is <a href='https://en.wikipedia.org/wiki/Proportionality_(mathematics)'>proportional to</a> the things on the right.",
            "type": "Universal notation"
          }
        },
        "gloss": {
          "resources": {
            "text": "A resource is anything the algorithm needs to run. In computer science, this usually means either the time needed by the algorithm, or the space (e.g. computer memory).",
            "title": "Resources"
          }
        }
      },
      "source": [
        "## コンピューターのアルゴリズムの分類\n",
        "\n",
        "従来のコンピューターの中で量子コンピューターが果たす役割を理解するためには、まず、さまざまなアルゴリズムの性能をどのように測定するかを知る必要があります。\n",
        "\n",
        "コンピューターサイエンスでは、入力の大きさに応じて使用する[リソース](gloss:resources)がどのように大きくなるかでアルゴリズムを分類します。これをアルゴリズムの*複雑さ*と呼びます。例えば、ある数字が偶数かどうかを判断するアルゴリズムは、その数字の最後の一桁を見るだけでよいわけです。この場合、「入力」は数字で、「出力」は「偶数」か「奇数」のどちらかです。アルゴリズムが完了するまでの時間は、入力された数の大きさに依存しないので、これを*定数時間*アルゴリズムと呼びます。コンピューターによってこの結果を得るのにかかる時間は異なるかもしれませんが、それは他の要因によるもので、入力の長さによるものではありません。\n",
        "\n",
        "![数字が偶数か奇数かを計算するアルゴリズムの手順](images/why-qc/odd-even-algo.svg)\n",
        "\n",
        "別の例を見てみましょう。今回は、入力は同じ長さの2つの数で、問題はそれらを足すことです。この場合、出力は新しい数字になります。2つの複数桁の数字を足す場合、学校で習ったであろう一般的なアルゴリズムでは、それぞれの数字の右端の桁から始めて、それらを足し合わせます。そして、1桁左に移動して（結果が9より大きい場合は「1」を繰り越す）、この処理を繰り返します。コンピューターは、足すべき桁がなくなるまでこれを繰り返し、アルゴリズムを終了します。\n",
        "\n",
        "![足し算アルゴリズムの手順を示すアニメーション](images/why-qc/adding-algo.svg)\n",
        "\n",
        "<!-- ::: q-block.exercise -->\n",
        "\n",
        "### 足し算はどのくらい複雑なのか？\n",
        "\n",
        "<!-- ::: q-quiz(goal=\"intro-why-qc-0\") -->\n",
        "\n",
        "<!-- ::: .question -->\n",
        "\n",
        "この足し算アルゴリズムが完了するまでにかかる時間は...\n",
        "\n",
        "<!-- ::: -->\n",
        "\n",
        "<!-- ::: .option(correct) -->\n",
        "\n",
        "1. ...入力された数値の長さに線形に（比例して）増大する（線形時間）。\n",
        "\n",
        "<!-- ::: -->\n",
        "\n",
        "<!-- ::: .option -->\n",
        "\n",
        "1. ...入力された数値の長さに影響されない（定数時間）\n",
        "\n",
        "<!-- ::: -->\n",
        "\n",
        "<!-- ::: .option -->\n",
        "\n",
        "1. ...入力数の長さの2乗で大きくなる（2次時間）\n",
        "\n",
        "<!-- ::: -->\n",
        "\n",
        "<!-- ::: -->\n",
        "\n",
        "<!-- ::: -->\n",
        "\n",
        "繰り返しになりますが、コンピューターによってこのアルゴリズムの実行速度は異なります。ノートパソコンでは、人間の何百万倍もの速さで足し算を実行できます。しかし、1秒間に100万回の演算ができても、1回しかできなくても、増加率は同じです。\n",
        "\n",
        "![定数および線形実行時間と入力サイズとのグラフ（実行時間別）](images/why-qc/graph-linear-constant.svg)\n",
        "\n",
        "ここで最後に、私たちにとって非常に興味深い例を一つ紹介しましょう。秘密の番号（暗証番号など）を持っていて、それを当てるという問題があるとします。この場合、問題の大きさは番号の長さです。\n",
        "\n",
        "答えが正しいかどうかを確認する唯一の方法が、キーパッドに数字を打ち込むことだとしましょう。その数字が何であるかについての情報はないので、この秘密の数字を見つけるための最適なアルゴリズムは「総当り」方式を使用します。つまり、巧妙なことは何もせず、単に可能な限りの数字を試してみるということです。\n",
        "\n",
        "どれくらいの時間がかかるのでしょうか？さて、理論的には運が良ければ一回で答えを当てることができますが、これは非常に低い確率です。平均すると、可能な入力の約半分を試さなければならないので、アルゴリズムの実行時間は可能な組み合わせの数に比例します。そこで問題です。可能な組み合わせの数は、秘密番号の長さに応じてどのように増加するのでしょうか？\n",
        "\n",
        "![ブルートフォース検索アルゴリズムの手順を示すアニメーション](images/why-qc/search-algo.svg)\n",
        "\n",
        "秘密の番号に桁を追加するごとに、可能な組み合わせの数が10倍されます。例えば、1桁の秘密の数字には10の可能性があり (0, 1, 2, 3, 4, 5, 6, 7, 8, 9)、2桁の秘密の数字には100の可能性があるのです。各桁を当てるのにかかる時間が（長さに関係なく）同じだと仮定すると、次のように数学的に表すことができます。\n",
        "\n",
        "$$ \\cssId{T}{T} \\cssId{prop_to}{\\propto} 10^\\cssId{exp}{d}$$\n",
        "\n",
        "この式では桁数(d)が指数であることにお気づきでしょう。このように、これは*指数時間*アルゴリズムであり、実行時間は入力の長さに対して指数関数的に増加する、と言います。\n",
        "\n",
        "![定数、線形、および指数関数的な実行時間と入力サイズのグラフ（実行時間別）](images/why-qc/graph-all.svg)"
      ]
    },
    {
      "cell_type": "markdown",
      "metadata": {
        "gloss": {
          "intractable": {
            "text": "An intractable problem is one which can be solved in theory, but requires too many resources in practice.",
            "title": "Intractable"
          }
        }
      },
      "source": [
        "## なぜ、このようにアルゴリズムを測定するのか？\n",
        "\n",
        "コンピューターによって得意分野が異なるため、あるコンピューター上では別のコンピューター上よりもある演算が速くなることがあります。入力サイズに対する時間の増加を研究することによって、アルゴリズムとコンピューターの特定の組み合わせではなく、デバイス固有の詳細を無視し、実際に「アルゴリズム」を測定することができます。重要なことは、アルゴリズムが入力サイズに対してどのように変化するかを知ることで、アルゴリズムが管理可能な大きさになるかどうかもわかるということです。\n",
        "\n",
        "上で見た線形時間足し算のアルゴリズムについて考えてみましょう。10桁の数字を1秒につき2つ足すことができたとしたら、直線的な伸び率から、20桁の数字を2秒で足すことができるはずです。10桁増えるごとに、計算時間はおよそ1秒ずつ増えていくはずです。\n",
        "\n",
        "一方、上記の指数時間探索アルゴリズムを使って、10桁の暗証番号を1秒で見つけることができたとします。これは、あなたのコンピューターが1秒間に~5,000,000,000の組み合わせを試せるほど高速であることを意味します。このアルゴリズムを使ったコンピューターが20桁の暗証番号を見つけるには、およそ5,000,000,000秒（~150 年）かかると予想されます。さらに10桁増えると、約150,000,000,000年（宇宙の年齢の120倍）にもなります。指数関数時間のアルゴリズムは、わずかな入力桁数（この場合は~30桁）でも、実行するのが難しいどころか、文字通り不可能になってしまうのです。\n",
        "\n",
        "この暗証番号探索問題は、できるだけ単純にするための人工的な例ですが、コンピューターサイエンスには、非効率なアルゴリズムしかない現実の問題が数多く存在します。今日のコンピューターは驚くほど高速ですが、これらの[困難な](gloss:intractable)問題は、最大のスーパーコンピューターでも難しすぎることがあります。\n",
        "\n",
        "しかし、より効率的に時間増加するアルゴリズムが見つかれば、比較的遅いコンピューターや信頼性の低いコンピューターでも、これらの困難な問題を突然処理できるようになるかもしれません。そこで登場するのが、量子コンピューターです。\n",
        "\n",
        "## 量子コンピューターはどのように役立つのか？\n",
        "\n",
        "これまで、アルゴリズムというものを非常に抽象的に考えてきましたが、そのアルゴリズムを実行するコンピューターは現実の世界に存在しなければなりません。そのコンピューターが高性能なマイクロチップであろうと、紙とペンを持った人間であろうと、すべてのコンピューターは最終的に物理法則に支配されており、その演算によって私たちが作れるアルゴリズムが限定されてしまうのです。\n",
        "\n",
        "物理学は、宇宙に存在するすべてのものが従う一連のルールを解明しようとするものです。20世紀初頭、実験室での繊細な実験を通して、物理学者たちは、現在の物理学では説明できないような奇妙な振る舞いを目にしました。このことは、物理法則が正確でないことを意味します。そこで彼らは、より完全な「量子」物理学を開発し、この挙動を非常にうまく説明することに成功しました。\n",
        "\n",
        "物理学者は、これまで見たこともないような振る舞いを説明するために量子物理学を生み出し、コンピューター科学者は、新しく発見されたこの振る舞いを利用することで、より効率的なアルゴリズムが作成することが（理論的には）できることを発見したのです。その結果、従来のコンピューターでは解決不可能な問題でも、この振る舞いを利用できる「量子」コンピューターであれば解決できると考えられるものがあります。そのひとつが*整数の因数分解*です。\n",
        "\n",
        "「$x$」と呼ぶ整数があるとします。因数分解アルゴリズムでは、$p×q = x$となるような整数 $p$ と $q$ を求めます。これは簡単な場合もあります。$2000 = 2 × 1000$と一目でわかりますが、$x$が2つの大きな素数の積の場合はこの問題は非常に難しくなります。整数の因数分解について語るとき、最も困難な（最悪の）シナリオを想定することになります。下のコードセルでは、変数<code>x</code>に250桁の数字を代入しています。"
      ]
    },
    {
      "cell_type": "code",
      "execution_count": 1,
      "metadata": {
      },
      "outputs": [

      ],
      "source": [
        "# pylint: disable=line-too-long, invalid-name\n",
        "x = 2140324650240744961264423072839333563008614715144755017797754920881418023447140136643345519095804679610992851872470914587687396261921557363047454770520805119056493106687691590019759405693457452230589325976697471681738069364894699871578494975937497937"
      ]
    },
    {
      "cell_type": "markdown",
      "metadata": {
        "gloss": {
          "coreyears": {
            "text": "Conventional computer chips are often made from processors called <a href=\"https://en.wikipedia.org/wiki/Multi-core_processor\">\"cores\"</a>. A <i>core-year</i> is the equivalent of using one of these cores continuously for a year. For reference, a modern laptops have around 2-4 cores. The meaning of this number depends on how powerful the core is, but this should give you a rough idea of the computing power involved.",
            "title": "Core Year"
          }
        }
      },
      "source": [
        "2020年に、研究者は古典的なスーパーコンピューターと~2700[コア年](gloss:coreyears)の処理能力を用いてこの数を因数分解しました。これは大規模な作業であり、本稿執筆時点では記録破りである。彼らの結果は、以下のコードセルで確認することができます（幸運なことに、私たちには乗算の効率的なアルゴリズムがあります！）。"
      ]
    },
    {
      "cell_type": "code",
      "execution_count": 2,
      "metadata": {
      },
      "outputs": [
        {
          "data": {
            "text/plain": [
              "True"
            ]
          },
          "execution_count": 2,
          "metadata": {
          },
          "output_type": "execute_result"
        }
      ],
      "source": [
        "p = 64135289477071580278790190170577389084825014742943447208116859632024532344630238623598752668347708737661925585694639798853367\n",
        "q = 33372027594978156556226010605355114227940760344767554666784520987023841729210037080257448673296881877565718986258036932062711\n",
        "\n",
        "p*q == x  # 「True」と評価される"
      ]
    },
    {
      "cell_type": "markdown",
      "metadata": {
        "gloss": {
          "RSA": {
            "text": "RSA numbers are numbers taken from the RSA factoring challenge. These numbers are intentionally chosen to be difficult to factor.<p>'RSA' are the initials of three of the people that invented the protocol that uses these large numbers to encrypt information.",
            "title": "RSA Number"
          }
        }
      },
      "source": [
        "表示される出力は、セルの最終行の値です。この場合、<code>p*q == x</code>は<code>True</code>と評価されることがわかります。数学的に証明されているわけではありませんが、従来のコンピューターでこのような数の因数分解を行う効率的なアルゴリズムが存在しないことは確かです。実際、インターネットの暗号化の多くは、この問題が解決不可能であるという仮定に依存しており、617桁の[RSA](gloss:RSA)数の因数分解は不可能であるとされています。一方、量子コンピューターでは、十分な大きさの量子コンピューターができれば、1日以内にこれらの数字を因数分解することができると推定される効率的な因数分解アルゴリズムがわかっています。"
      ]
    },
    {
      "cell_type": "markdown",
      "metadata": {
        "gloss": {
          "noise": {
            "text": "Noise is useless information that's difficult to distinguish from useful information. For example, it's hard to hear someone talking to you if there are lots of other people talking loudly nearby.",
            "title": "Noise"
          },
          "qiskit": {
            "text": "Qiskit is a software development kit for working with quantum computers.",
            "title": "Qiskit"
          },
          "qubits": {
            "text": "A 'qubit' is a 'quantum bit'. We will study these later in this course.",
            "title": "Qubit"
          },
          "transistor": {
            "text": "A transistor is an electronic device. They can be used to switch electric currents on and off, and can be used to build a computer processor.",
            "title": "Transistor"
          }
        }
      },
      "source": [
        "## 今、私たちはどこにいるのか？\n",
        "\n",
        "量子コンピューターは、より効率的なアルゴリズムを実行できることが分かっていますが、現在ある量子コンピューターは小さくて不安定なため、従来のコンピューターと比較して優位性を発揮することはできません。\n",
        "\n",
        "量子コンピューターが解決できる問題の大きさを制限する要因は、ごく単純に考えても2つあります。1つ目は、量子コンピューターが保存・処理できるデータの量です。これは通常、[*量子ビット*](gloss:qubits)で測定されます。もし十分な量子ビットがなければ、あるサイズ以上の問題を保存・処理することはできません。2つ目は、量子コンピューターのエラーレートです。量子的な振る舞いは、実験室での繊細な実験でしか見ることができないため、量子コンピューターを作るのは繊細な作業です。今ある量子コンピューターはノイズが多いので、よく間違いますし、結果に「[ノイズ](gloss:noise)」が入ります。ノイズが多すぎると、結果が意味のないものになってしまうのです！\n",
        "\n",
        "今のところ、量子コンピューターは実験的なものです。量子ビットの数やエラーレートに制限があるため、現在解決できる最大の問題は、従来のコンピューターでも容易に解決できるものです。\n",
        "\n",
        "未来のある時点で、これは変わるでしょう。量子コンピューターを使った方が、従来のコンピューターよりも経済的に有利に問題を解決できるという「量子アドバンテージ」に到達するのです。なぜそれがわかるのでしょうか？*なぜなら、私たちはアルゴリズムをその増加率で測っているからです！*量子コンピューターが順調に発展し続ける限り、いずれは古典的なコンピューターを追い抜くことが分かっているのです。\n",
        "\n",
        "![(予測された)古典的因数分解能力と量子因数分解能力の経時的な比較](images/why-qc/q-vs-c.svg)\n",
        "\n",
        "617桁のRSA数を1日以内に因数分解するには、~2,000万のノイズのある量子ビットが必要であるとされています。本稿執筆時点で、IBMは現在65量子ビットの量子コンピューターを保有しており、2023年までに1000量子ビットを超えるシステムの構築を目指しています。このマイルストーンのずっと前に、量子アドバンテージをもたらすと思われるアルゴリズムが他にもありますが、まだまだ先の話と思われるかもしれません。\n",
        "\n",
        "以下のコードを使用すると、単純な量子プログラムを作成し、IBM Quantum に送信して、実際の量子コンピューターで実行できます。 IBM Quantum は、このプログラムを 4000 回実行します。このプログラムは確率論的であり、結果は半分が`000` 、残りの半分が `111` になるはずです。ご覧のとおり、これらは唯一の結果ではありません。ノイズのために他の出力を測定する可能性がわずかにあります。"
      ]
    },
    {
      "cell_type": "code",
      "execution_count": 1,
      "metadata": {
        "tags": [
          "uses-hardware"
        ]
      },
      "outputs": [
        {
          "name": "stdout",
          "output_type": "stream",
          "text": [
            "Running on ibm_geneva\n",
            "Job Status: job has successfully run\n"
          ]
        },
        {
          "data": {
            "image/svg+xml": [
              "<?xml version=\"1.0\" encoding=\"UTF-8\"?><!DOCTYPE svg  PUBLIC '-//W3C//DTD SVG 1.1//EN'  'http://www.w3.org/Graphics/SVG/1.1/DTD/svg11.dtd'><svg width=\"460.72pt\" height=\"322.95pt\" version=\"1.1\" viewBox=\"0 0 460.72 322.95\" xmlns=\"http://www.w3.org/2000/svg\" xmlns:xlink=\"http://www.w3.org/1999/xlink\"><defs><style type=\"text/css\">*{stroke-linejoin: round; stroke-linecap: butt}</style></defs><path d=\"m0 322.95h460.72v-322.95h-460.72v322.95z\" fill=\"none\"/><path d=\"m62.921 279h390.6v-271.8h-390.6z\" fill=\"#ffffff\"/><defs><path id=\"mff37cc3539\" d=\"m0 0v3.5\" stroke=\"#343a3f\" stroke-width=\".8\"/></defs><use x=\"92.512159\" y=\"279\" fill=\"#343a3f\" stroke=\"#343a3f\" stroke-width=\".8\" xlink:href=\"#mff37cc3539\"/><g transform=\"translate(91.572 314.75) rotate(-70) scale(.14 -.14)\" fill=\"#343a3f\"><defs><path id=\"DejaVuSans-30\" transform=\"scale(.015625)\" d=\"m2034 4250q-487 0-733-480-245-479-245-1442 0-959 245-1439 246-480 733-480 491 0 736 480 246 480 246 1439 0 963-246 1442-245 480-736 480zm0 500q785 0 1199-621 414-620 414-1801 0-1178-414-1799-414-620-1199-620-784 0-1198 620-414 621-414 1799 0 1181 414 1801 414 621 1198 621z\"/></defs><use xlink:href=\"#DejaVuSans-30\"/><use x=\"63.623047\" xlink:href=\"#DejaVuSans-30\"/><use x=\"127.246094\" xlink:href=\"#DejaVuSans-30\"/></g><use x=\"139.857614\" y=\"279\" fill=\"#343a3f\" stroke=\"#343a3f\" stroke-width=\".8\" xlink:href=\"#mff37cc3539\"/><g transform=\"translate(138.92 314.75) rotate(-70) scale(.14 -.14)\" fill=\"#343a3f\"><defs><path id=\"DejaVuSans-31\" transform=\"scale(.015625)\" d=\"m794 531h1031v3560l-1122-225v575l1116 225h631v-4135h1031v-531h-2687v531z\"/></defs><use xlink:href=\"#DejaVuSans-30\"/><use x=\"63.623047\" xlink:href=\"#DejaVuSans-30\"/><use x=\"127.246094\" xlink:href=\"#DejaVuSans-31\"/></g><use x=\"187.203068\" y=\"279\" fill=\"#343a3f\" stroke=\"#343a3f\" stroke-width=\".8\" xlink:href=\"#mff37cc3539\"/><g transform=\"translate(186.26 314.75) rotate(-70) scale(.14 -.14)\" fill=\"#343a3f\"><use xlink:href=\"#DejaVuSans-30\"/><use x=\"63.623047\" xlink:href=\"#DejaVuSans-31\"/><use x=\"127.246094\" xlink:href=\"#DejaVuSans-30\"/></g><use x=\"234.548523\" y=\"279\" fill=\"#343a3f\" stroke=\"#343a3f\" stroke-width=\".8\" xlink:href=\"#mff37cc3539\"/><g transform=\"translate(233.61 314.75) rotate(-70) scale(.14 -.14)\" fill=\"#343a3f\"><use xlink:href=\"#DejaVuSans-30\"/><use x=\"63.623047\" xlink:href=\"#DejaVuSans-31\"/><use x=\"127.246094\" xlink:href=\"#DejaVuSans-31\"/></g><use x=\"281.893977\" y=\"279\" fill=\"#343a3f\" stroke=\"#343a3f\" stroke-width=\".8\" xlink:href=\"#mff37cc3539\"/><g transform=\"translate(280.95 314.75) rotate(-70) scale(.14 -.14)\" fill=\"#343a3f\"><use xlink:href=\"#DejaVuSans-31\"/><use x=\"63.623047\" xlink:href=\"#DejaVuSans-30\"/><use x=\"127.246094\" xlink:href=\"#DejaVuSans-30\"/></g><use x=\"329.239432\" y=\"279\" fill=\"#343a3f\" stroke=\"#343a3f\" stroke-width=\".8\" xlink:href=\"#mff37cc3539\"/><g transform=\"translate(328.3 314.75) rotate(-70) scale(.14 -.14)\" fill=\"#343a3f\"><use xlink:href=\"#DejaVuSans-31\"/><use x=\"63.623047\" xlink:href=\"#DejaVuSans-30\"/><use x=\"127.246094\" xlink:href=\"#DejaVuSans-31\"/></g><use x=\"376.584886\" y=\"279\" fill=\"#343a3f\" stroke=\"#343a3f\" stroke-width=\".8\" xlink:href=\"#mff37cc3539\"/><g transform=\"translate(375.65 314.75) rotate(-70) scale(.14 -.14)\" fill=\"#343a3f\"><use xlink:href=\"#DejaVuSans-31\"/><use x=\"63.623047\" xlink:href=\"#DejaVuSans-31\"/><use x=\"127.246094\" xlink:href=\"#DejaVuSans-30\"/></g><use x=\"423.930341\" y=\"279\" fill=\"#343a3f\" stroke=\"#343a3f\" stroke-width=\".8\" xlink:href=\"#mff37cc3539\"/><g transform=\"translate(422.99 314.75) rotate(-70) scale(.14 -.14)\" fill=\"#343a3f\"><use xlink:href=\"#DejaVuSans-31\"/><use x=\"63.623047\" xlink:href=\"#DejaVuSans-31\"/><use x=\"127.246094\" xlink:href=\"#DejaVuSans-31\"/></g><path d=\"m62.921 279h390.6\" clip-path=\"url(#p287b9538ba)\" fill=\"none\" stroke=\"#dde1e6\" stroke-dasharray=\"2.96,1.28\" stroke-width=\".8\"/><defs><path id=\"m13ab3288d2\" d=\"m0 0h-3.5\" stroke=\"#343a3f\" stroke-width=\".8\"/></defs><use x=\"62.92125\" y=\"279\" fill=\"#343a3f\" stroke=\"#343a3f\" stroke-width=\".8\" xlink:href=\"#m13ab3288d2\"/><g transform=\"translate(24.749 284.32) scale(.14 -.14)\" fill=\"#343a3f\"><defs><path id=\"DejaVuSans-2e\" transform=\"scale(.015625)\" d=\"m684 794h660v-794h-660v794z\"/></defs><use xlink:href=\"#DejaVuSans-30\"/><use x=\"63.623047\" xlink:href=\"#DejaVuSans-2e\"/><use x=\"95.410156\" xlink:href=\"#DejaVuSans-30\"/><use x=\"159.033203\" xlink:href=\"#DejaVuSans-30\"/></g><path d=\"m62.921 208.62h390.6\" clip-path=\"url(#p287b9538ba)\" fill=\"none\" stroke=\"#dde1e6\" stroke-dasharray=\"2.96,1.28\" stroke-width=\".8\"/><use x=\"62.92125\" y=\"208.621958\" fill=\"#343a3f\" stroke=\"#343a3f\" stroke-width=\".8\" xlink:href=\"#m13ab3288d2\"/><g transform=\"translate(24.749 213.94) scale(.14 -.14)\" fill=\"#343a3f\"><defs><path id=\"DejaVuSans-35\" transform=\"scale(.015625)\" d=\"m691 4666h2478v-532h-1900v-1143q137 47 274 70 138 23 276 23 781 0 1237-428 457-428 457-1159 0-753-469-1171-469-417-1322-417-294 0-599 50-304 50-629 150v635q281-153 581-228t634-75q541 0 856 284 316 284 316 772 0 487-316 771-315 285-856 285-253 0-505-56-251-56-513-175v2344z\"/></defs><use xlink:href=\"#DejaVuSans-30\"/><use x=\"63.623047\" xlink:href=\"#DejaVuSans-2e\"/><use x=\"95.410156\" xlink:href=\"#DejaVuSans-31\"/><use x=\"159.033203\" xlink:href=\"#DejaVuSans-35\"/></g><path d=\"m62.921 138.24h390.6\" clip-path=\"url(#p287b9538ba)\" fill=\"none\" stroke=\"#dde1e6\" stroke-dasharray=\"2.96,1.28\" stroke-width=\".8\"/><use x=\"62.92125\" y=\"138.243915\" fill=\"#343a3f\" stroke=\"#343a3f\" stroke-width=\".8\" xlink:href=\"#m13ab3288d2\"/><g transform=\"translate(24.749 143.56) scale(.14 -.14)\" fill=\"#343a3f\"><defs><path id=\"DejaVuSans-33\" transform=\"scale(.015625)\" d=\"m2597 2516q453-97 707-404 255-306 255-756 0-690-475-1069-475-378-1350-378-293 0-604 58t-642 174v609q262-153 574-231 313-78 654-78 593 0 904 234t311 681q0 413-289 645-289 233-804 233h-544v519h569q465 0 712 186t247 536q0 359-255 551-254 193-729 193-260 0-557-57-297-56-653-174v562q360 100 674 150t592 50q719 0 1137-327 419-326 419-882 0-388-222-655t-631-370z\"/></defs><use xlink:href=\"#DejaVuSans-30\"/><use x=\"63.623047\" xlink:href=\"#DejaVuSans-2e\"/><use x=\"95.410156\" xlink:href=\"#DejaVuSans-33\"/><use x=\"159.033203\" xlink:href=\"#DejaVuSans-30\"/></g><path d=\"m62.921 67.866h390.6\" clip-path=\"url(#p287b9538ba)\" fill=\"none\" stroke=\"#dde1e6\" stroke-dasharray=\"2.96,1.28\" stroke-width=\".8\"/><use x=\"62.92125\" y=\"67.865873\" fill=\"#343a3f\" stroke=\"#343a3f\" stroke-width=\".8\" xlink:href=\"#m13ab3288d2\"/><g transform=\"translate(24.749 73.185) scale(.14 -.14)\" fill=\"#343a3f\"><defs><path id=\"DejaVuSans-34\" transform=\"scale(.015625)\" d=\"m2419 4116-1594-2491h1594v2491zm-166 550h794v-3041h666v-525h-666v-1100h-628v1100h-2106v609l1940 2957z\"/></defs><use xlink:href=\"#DejaVuSans-30\"/><use x=\"63.623047\" xlink:href=\"#DejaVuSans-2e\"/><use x=\"95.410156\" xlink:href=\"#DejaVuSans-34\"/><use x=\"159.033203\" xlink:href=\"#DejaVuSans-35\"/></g><g transform=\"translate(17.838 185.86) rotate(-90) scale(.14 -.14)\" fill=\"#343a3f\"><defs><path id=\"DejaVuSans-50\" transform=\"scale(.015625)\" d=\"m1259 4147v-1753h794q441 0 681 228 241 228 241 650 0 419-241 647-240 228-681 228h-794zm-631 519h1425q785 0 1186-355 402-355 402-1039 0-691-402-1044-401-353-1186-353h-794v-1875h-631v4666z\"/><path id=\"DejaVuSans-72\" transform=\"scale(.015625)\" d=\"m2631 2963q-97 56-211 82-114 27-251 27-488 0-749-317t-261-911v-1844h-578v3500h578v-544q182 319 472 473 291 155 707 155 59 0 131-8 72-7 159-23l3-590z\"/><path id=\"DejaVuSans-6f\" transform=\"scale(.015625)\" d=\"m1959 3097q-462 0-731-361t-269-989 267-989q268-361 733-361 460 0 728 362 269 363 269 988 0 622-269 986-268 364-728 364zm0 487q750 0 1178-488 429-487 429-1349 0-859-429-1349-428-489-1178-489-753 0-1180 489-426 490-426 1349 0 862 426 1349 427 488 1180 488z\"/><path id=\"DejaVuSans-62\" transform=\"scale(.015625)\" d=\"m3116 1747q0 634-261 995t-717 361q-457 0-718-361t-261-995 261-995 718-361q456 0 717 361t261 995zm-1957 1222q182 312 458 463 277 152 661 152 638 0 1036-506 399-506 399-1331t-399-1332q-398-506-1036-506-384 0-661 152-276 152-458 464v-525h-578v4863h578v-1894z\"/><path id=\"DejaVuSans-61\" transform=\"scale(.015625)\" d=\"m2194 1759q-697 0-966-159t-269-544q0-306 202-486 202-179 548-179 479 0 768 339t289 901v128h-572zm1147 238v-1997h-575v531q-197-318-491-470t-719-152q-537 0-855 302-317 302-317 808 0 590 395 890 396 300 1180 300h807v57q0 397-261 614t-733 217q-300 0-585-72-284-72-546-216v532q315 122 612 182 297 61 578 61 760 0 1135-394 375-393 375-1193z\"/><path id=\"DejaVuSans-69\" transform=\"scale(.015625)\" d=\"m603 3500h575v-3500h-575v3500zm0 1363h575v-729h-575v729z\"/><path id=\"DejaVuSans-6c\" transform=\"scale(.015625)\" d=\"m603 4863h575v-4863h-575v4863z\"/><path id=\"DejaVuSans-74\" transform=\"scale(.015625)\" d=\"m1172 4494v-994h1184v-447h-1184v-1900q0-428 117-550t477-122h590v-481h-590q-666 0-919 248-253 249-253 905v1900h-422v447h422v994h578z\"/><path id=\"DejaVuSans-65\" transform=\"scale(.015625)\" d=\"m3597 1894v-281h-2644q38-594 358-905t892-311q331 0 642 81t618 244v-544q-310-131-635-200t-659-69q-838 0-1327 487-489 488-489 1320 0 859 464 1363 464 505 1252 505 706 0 1117-455 411-454 411-1235zm-575 169q-6 471-264 752-258 282-683 282-481 0-770-272t-333-766l2050 4z\"/><path id=\"DejaVuSans-73\" transform=\"scale(.015625)\" d=\"m2834 3397v-544q-243 125-506 187-262 63-544 63-428 0-642-131t-214-394q0-200 153-314t616-217l197-44q612-131 870-370t258-667q0-488-386-773-386-284-1061-284-281 0-586 55t-642 164v594q319-166 628-249 309-82 613-82 406 0 624 139 219 139 219 392 0 234-158 359-157 125-692 241l-200 47q-534 112-772 345-237 233-237 639 0 494 350 762 350 269 994 269 318 0 599-47 282-46 519-140z\"/></defs><use xlink:href=\"#DejaVuSans-50\"/><use x=\"58.552734\" xlink:href=\"#DejaVuSans-72\"/><use x=\"97.416016\" xlink:href=\"#DejaVuSans-6f\"/><use x=\"158.597656\" xlink:href=\"#DejaVuSans-62\"/><use x=\"222.074219\" xlink:href=\"#DejaVuSans-61\"/><use x=\"283.353516\" xlink:href=\"#DejaVuSans-62\"/><use x=\"346.830078\" xlink:href=\"#DejaVuSans-69\"/><use x=\"374.613281\" xlink:href=\"#DejaVuSans-6c\"/><use x=\"402.396484\" xlink:href=\"#DejaVuSans-69\"/><use x=\"430.179688\" xlink:href=\"#DejaVuSans-74\"/><use x=\"469.388672\" xlink:href=\"#DejaVuSans-69\"/><use x=\"497.171875\" xlink:href=\"#DejaVuSans-65\"/><use x=\"558.695312\" xlink:href=\"#DejaVuSans-73\"/></g><path d=\"m80.676 279h23.673v-226.5h-23.673z\" clip-path=\"url(#p287b9538ba)\" fill=\"#648fff\"/><path d=\"m128.02 279h23.673v-2.1113h-23.673z\" clip-path=\"url(#p287b9538ba)\" fill=\"#648fff\"/><path d=\"m175.37 279h23.673v-6.0994h-23.673z\" clip-path=\"url(#p287b9538ba)\" fill=\"#648fff\"/><path d=\"m222.71 279h23.673v-6.334h-23.673z\" clip-path=\"url(#p287b9538ba)\" fill=\"#648fff\"/><path d=\"m270.06 279h23.673v-6.2167h-23.673z\" clip-path=\"url(#p287b9538ba)\" fill=\"#648fff\"/><path d=\"m317.4 279h23.673v-8.0935h-23.673z\" clip-path=\"url(#p287b9538ba)\" fill=\"#648fff\"/><path d=\"m364.75 279h23.673v-3.5189h-23.673z\" clip-path=\"url(#p287b9538ba)\" fill=\"#648fff\"/><path d=\"m412.09 279h23.673v-210.31h-23.673z\" clip-path=\"url(#p287b9538ba)\" fill=\"#648fff\"/><path d=\"m62.921 279v-271.8\" fill=\"none\" stroke=\"#343a3f\" stroke-linecap=\"square\" stroke-width=\".8\"/><path d=\"m62.921 279h390.6\" fill=\"none\" stroke=\"#343a3f\" stroke-linecap=\"square\" stroke-width=\".8\"/><g transform=\"translate(78.198 39.095) scale(.1 -.1)\" fill=\"#343a3f\"><defs><path id=\"DejaVuSans-38\" transform=\"scale(.015625)\" d=\"m2034 2216q-450 0-708-241-257-241-257-662 0-422 257-663 258-241 708-241t709 242q260 243 260 662 0 421-258 662-257 241-711 241zm-631 268q-406 100-633 378-226 279-226 679 0 559 398 884 399 325 1092 325 697 0 1094-325t397-884q0-400-227-679-226-278-629-378 456-106 710-416 255-309 255-755 0-679-414-1042-414-362-1186-362-771 0-1186 362-414 363-414 1042 0 446 256 755 257 310 713 416zm-231 997q0-362 226-565 227-203 636-203 407 0 636 203 230 203 230 565 0 363-230 566-229 203-636 203-409 0-636-203-226-203-226-566z\"/></defs><use xlink:href=\"#DejaVuSans-30\"/><use x=\"63.623047\" xlink:href=\"#DejaVuSans-2e\"/><use x=\"95.410156\" xlink:href=\"#DejaVuSans-34\"/><use x=\"159.033203\" xlink:href=\"#DejaVuSans-38\"/><use x=\"222.65625\" xlink:href=\"#DejaVuSans-33\"/></g><g transform=\"translate(125.54 274.7) scale(.1 -.1)\" fill=\"#343a3f\"><use xlink:href=\"#DejaVuSans-30\"/><use x=\"63.623047\" xlink:href=\"#DejaVuSans-2e\"/><use x=\"95.410156\" xlink:href=\"#DejaVuSans-30\"/><use x=\"159.033203\" xlink:href=\"#DejaVuSans-30\"/><use x=\"222.65625\" xlink:href=\"#DejaVuSans-34\"/></g><g transform=\"translate(172.89 270.52) scale(.1 -.1)\" fill=\"#343a3f\"><use xlink:href=\"#DejaVuSans-30\"/><use x=\"63.623047\" xlink:href=\"#DejaVuSans-2e\"/><use x=\"95.410156\" xlink:href=\"#DejaVuSans-30\"/><use x=\"159.033203\" xlink:href=\"#DejaVuSans-31\"/><use x=\"222.65625\" xlink:href=\"#DejaVuSans-33\"/></g><g transform=\"translate(220.23 270.27) scale(.1 -.1)\" fill=\"#343a3f\"><use xlink:href=\"#DejaVuSans-30\"/><use x=\"63.623047\" xlink:href=\"#DejaVuSans-2e\"/><use x=\"95.410156\" xlink:href=\"#DejaVuSans-30\"/><use x=\"159.033203\" xlink:href=\"#DejaVuSans-31\"/><use x=\"222.65625\" xlink:href=\"#DejaVuSans-33\"/></g><g transform=\"translate(267.58 270.39) scale(.1 -.1)\" fill=\"#343a3f\"><use xlink:href=\"#DejaVuSans-30\"/><use x=\"63.623047\" xlink:href=\"#DejaVuSans-2e\"/><use x=\"95.410156\" xlink:href=\"#DejaVuSans-30\"/><use x=\"159.033203\" xlink:href=\"#DejaVuSans-31\"/><use x=\"222.65625\" xlink:href=\"#DejaVuSans-33\"/></g><g transform=\"translate(314.93 268.42) scale(.1 -.1)\" fill=\"#343a3f\"><defs><path id=\"DejaVuSans-37\" transform=\"scale(.015625)\" d=\"m525 4666h3e3v-269l-1694-4397h-659l1594 4134h-2241v532z\"/></defs><use xlink:href=\"#DejaVuSans-30\"/><use x=\"63.623047\" xlink:href=\"#DejaVuSans-2e\"/><use x=\"95.410156\" xlink:href=\"#DejaVuSans-30\"/><use x=\"159.033203\" xlink:href=\"#DejaVuSans-31\"/><use x=\"222.65625\" xlink:href=\"#DejaVuSans-37\"/></g><g transform=\"translate(362.27 273.23) scale(.1 -.1)\" fill=\"#343a3f\"><use xlink:href=\"#DejaVuSans-30\"/><use x=\"63.623047\" xlink:href=\"#DejaVuSans-2e\"/><use x=\"95.410156\" xlink:href=\"#DejaVuSans-30\"/><use x=\"159.033203\" xlink:href=\"#DejaVuSans-30\"/><use x=\"222.65625\" xlink:href=\"#DejaVuSans-37\"/></g><g transform=\"translate(409.62 56.092) scale(.1 -.1)\" fill=\"#343a3f\"><use xlink:href=\"#DejaVuSans-30\"/><use x=\"63.623047\" xlink:href=\"#DejaVuSans-2e\"/><use x=\"95.410156\" xlink:href=\"#DejaVuSans-34\"/><use x=\"159.033203\" xlink:href=\"#DejaVuSans-34\"/><use x=\"222.65625\" xlink:href=\"#DejaVuSans-38\"/></g><defs><clipPath id=\"p287b9538ba\"><rect x=\"62.921\" y=\"7.2\" width=\"390.6\" height=\"271.8\"/></clipPath></defs></svg>"
            ],
            "text/plain": [
              "<Figure size 504x360 with 1 Axes>"
            ]
          },
          "execution_count": 1,
          "metadata": {
          },
          "output_type": "execute_result"
        }
      ],
      "source": [
        "# 1. '量子回路' と呼ばれるシンプルな量子プログラムを作成する\n",
        "from qiskit import QuantumCircuit\n",
        "qc = QuantumCircuit(3)\n",
        "qc.h(0)\n",
        "qc.cx(0, [1, 2])\n",
        "qc.measure_all()\n",
        "\n",
        "# 2. IBM Quantumに一番空いていてシミュレーターではないデバイスを問い合わせる\n",
        "#    この例をローカルで実行している場合は、自分のIBM Quantumの\n",
        "#    APIトークンを使って、アカウントをロードする必要がある\n",
        "# IBMQ.save_account(token=\"XYZ\")\n",
        "# IBMQ.load_account()\n",
        "from qiskit.providers.ibmq import IBMQ, least_busy\n",
        "provider = IBMQ.get_provider('ibm-q')\n",
        "device = least_busy(\n",
        "            provider.backends(\n",
        "                filters= lambda x: not x.configuration().simulator\n",
        "            )\n",
        "        )\n",
        "print(f'Running on {device.name()}')\n",
        "\n",
        "# 3. プログラムをデバイスで実行できる形に変換する\n",
        "#    これは'トランスパイル'として知られている\n",
        "from qiskit import transpile\n",
        "transpiled_qc = transpile(qc, device)\n",
        "\n",
        "# 4. 実機で実行しそのステータスをモニターするよう、\n",
        "#    プログラムをIBM Quantumに送信する\n",
        "from qiskit.tools import job_monitor\n",
        "job = device.run(transpiled_qc)\n",
        "job_monitor(job)\n",
        "\n",
        "# 5. 結果をヒストグラムにプロットする\n",
        "from qiskit.visualization import plot_histogram\n",
        "plot_histogram(job.result().get_counts())"
      ]
    },
    {
      "cell_type": "markdown",
      "metadata": {
        "gloss": {
          "noise": {
            "text": "Noise is useless information that's difficult to distinguish from useful information. For example, it's hard to hear someone talking to you if there are lots of other people talking loudly nearby.",
            "title": "Noise"
          },
          "qiskit": {
            "text": "Qiskit is a software development kit for working with quantum computers.",
            "title": "Qiskit"
          },
          "qubits": {
            "text": "A 'qubit' is a 'quantum bit'. We will study these later in this course.",
            "title": "Qubit"
          },
          "transistor": {
            "text": "A transistor is an electronic device. They can be used to switch electric currents on and off, and can be used to build a computer processor.",
            "title": "Transistor"
          }
        }
      },
      "source": [
        "従来のコンピューターがどこから来たのか、思い起こしてみる必要があります。下の写真は、1947年に作られた最初の[トランジスター](gloss:transistor)の写真です。トランジスターは、現代のコンピュータープロセッサーの構成要素です。\n",
        "\n",
        "![（予測された）古典的素因数分解能力と量子素因数分解能力の経時的な比較](images/why-qc/first-transistor.jpg)画像クレジット: 連邦職員<a href=\"https://clintonwhitehouse4.archives.gov/Initiatives/Millennium/capsule/mayo.html\">リンク</a>、<a href=\"https://commons.wikimedia.org/w/index.php?curid=554340\">パブリックドメイン</a>。\n",
        "\n",
        "それから70年、現代のコンピューターチップには、何十億というトランジスターが搭載されています。\n",
        "\n",
        "このコースの残りの部分では、より効率的なアルゴリズムを作成することを可能にする量子効果を探ります。このコースの終わりには、ソフトウェアパッケージである[Qiskit](gloss:qiskit)を使って、これらのアルゴリズムの1つを実行する量子コンピューターをプログラムすることができるようになるはずです。"
      ]
    },
    {
      "cell_type": "markdown",
      "metadata": {
      },
      "source": [
        "<!-- ::: q-block.exercise -->\n",
        "\n",
        "### クイッククイズ\n",
        "\n",
        "<!-- ::: q-quiz(goal=\"intro-why-qc-1\") -->\n",
        "\n",
        "<!-- ::: .question -->\n",
        "\n",
        "量子コンピューターは、いずれ...\n",
        "\n",
        "<!-- ::: -->\n",
        "\n",
        "<!-- ::: .option(correct) -->\n",
        "\n",
        "1. ...従来のコンピューターでは困難な計算を行うことができます。\n",
        "\n",
        "<!-- ::: -->\n",
        "\n",
        "<!-- ::: .option -->\n",
        "\n",
        "1. ...従来のコンピューターに置き換わります。\n",
        "\n",
        "<!-- ::: -->\n",
        "\n",
        "<!-- ::: .option -->\n",
        "\n",
        "1. ...従来のコンピューターの速度を向上させます。\n",
        "\n",
        "<!-- ::: -->\n",
        "\n",
        "<!-- ::: -->\n",
        "\n",
        "<!-- ::: -->"
      ]
    }
  ],
  "metadata": {
    "kernelspec": {
      "display_name": "Python 3",
      "language": "python",
      "name": "python3"
    },
    "language_info": {
      "codemirror_mode": {
        "name": "ipython",
        "version": 3
      },
      "file_extension": ".py",
      "mimetype": "text/x-python",
      "name": "python",
      "nbconvert_exporter": "python",
      "pygments_lexer": "ipython3",
      "version": "3.9"
    }
  },
  "nbformat": 4,
  "nbformat_minor": 4
}
