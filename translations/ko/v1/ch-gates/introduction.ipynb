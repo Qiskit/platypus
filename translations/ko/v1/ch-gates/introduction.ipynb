{
  "cells": [
    {
      "cell_type": "markdown",
      "metadata": {
        "tags": [
          "remove_cell"
        ]
      },
      "source": [
        "# 소개"
      ]
    },
    {
      "cell_type": "markdown",
      "metadata": {
      },
      "source": [
        "단일 큐비트와 단일 큐비트 게이트로 몇가지 흥미로운 효과들을 보았으나, 양자 컴퓨팅의 진정한 힘은 큐비트들 사이에 상호작용으로 실현됩니다. 이 섹션에서 다중 큐비트 게이트를 소개하고 다중 큐비트 시스템의 흥미로운 동작을 살펴볼 것입니다.\n",
        "\n",
        "일반적으로, 하드웨어에서 직접 구현할 수 있는 게이트들은 하나 혹은 두 개의 큐비트들에서 동작합니다. 회로에서, 우리는 많은 큐비트에서 동작하는 복잡한 게이트를 사용하는 것을 좋아합니다. 다행히도, 이것은 문제가 되지 않을 것입니다. 하드웨어로 부터 우리가 받은 하나의 큐비트 게이트와 두 개의 큐비트 게이트로, 다른 어떤 게이트도 만들 수 있습니다.\n",
        "\n",
        "이 장에서는 먼저 가장 기본적인 다중-큐비트 게이트와 이를 설명하고 분석하는데 사용하는 수학을 소개합니다. 그런 다음 이러한 게이트가 양자 알고리즘을 만드는데 사용될 수 있다는 것을 증명하는 방법을 보여줄 예정입니다. 그런 다음 이 장은 양자 게이트의 소규모 사용을 보는 것으로 마무리됩니다. 예를 들어, 단일 큐비트 및 2개의 큐비트 연산으로 부터 토폴리 같은 3개의 큐비트 게이트를 구축하는 방법을 봅니다.\n",
        "\n",
        "![A Toffoli made from single- and two-qubit gates](https://github.com/Qiskit/platypus/blob/main/translations/ko/ch-gates/images/basic3.png?raw=true)\n",
        "\n",
        "이것은 3개의 큐비트(q0, q1, q2)를 가진 토폴리입니다. 이 회로 예제에서, q0는 q2와 연결되지만, q1과는 연결되지 않습니다."
      ]
    }
  ],
  "metadata": {
    "kernelspec": {
      "display_name": "Python 3",
      "language": "python",
      "name": "python3"
    },
    "language_info": {
      "codemirror_mode": {
        "name": "ipython",
        "version": 3
      },
      "file_extension": ".py",
      "mimetype": "text/x-python",
      "name": "python",
      "nbconvert_exporter": "python",
      "pygments_lexer": "ipython3",
      "version": "3.9"
    }
  },
  "nbformat": 4,
  "nbformat_minor": 2
}
