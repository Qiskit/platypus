{
  "cells": [
    {
      "cell_type": "markdown",
      "metadata": {
        "tags": [
          "remove_cell"
        ]
      },
      "source": [
        "# QAOA로 조합 최적화 문제 풀기"
      ]
    },
    {
      "cell_type": "markdown",
      "metadata": {
      },
      "source": [
        "이 튜토리얼에서는 다음을 수행합니다.\n",
        "\n",
        "- 조합 최적화 문제 도입,\n",
        "- 근사 최적화 알고리즘을 설명,\n",
        "- 양자 근사 최적화 알고리즘(Quantum Approximate Optimization Algorithm, QAOA)이 어떻게 작동하는지 설명,\n",
        "- 시뮬레이터 또는 실제 양자 시스템에서 간단한 예제를 실행."
      ]
    },
    {
      "cell_type": "markdown",
      "metadata": {
      },
      "source": [
        "## 조합 최적화 문제\n",
        "\n",
        "조합 최적화 문제는 유한한 개체 집합에서 최적의 개체를 찾는 것과 관련됩니다. 우리는 유한한 비트 스트링 세트 중에서 0과 1로 구성된 \"최적\" 비트 스트링을 찾는 문제에 초점을 맞출 것입니다. 그래프에 해당하는 이러한 문제 중 하나는 Max-Cut 문제입니다.\n",
        "\n",
        "### Max-Cut 문제\n",
        "\n",
        "Max-Cut 문제는 그래프의 노드를 집합 간 간선의 수가 최대가 되도록 두 집합으로 묶는 것을 포함합니다. 아래의 예제에는 4개의 노드를 가진 그래프와 아래에 보인 \"빨강\" 및 \"파랑\" 처럼 두 집합으로 묶을 수 있는 방법이 있습니다.\n",
        "\n",
        "![](images/qaoa_maxcut.svg)"
      ]
    },
    {
      "cell_type": "markdown",
      "metadata": {
      },
      "source": [
        "노드가 4개인 경우 각각의 노드를 \"빨강\" 또는 \"파랑\" 집합으로 할당할 수 있습니다.  집합은 $2^4=16$ 개가 가능하며, 이 중에서 집합 \"빨강\" 및 \"파랑\" 사이에 간선의 수가 가장 많은 집합을 찾아야 합니다. 그림에 있는 두 집합 간에 이러한 간선의 수는 왼쪽에서 오른쪽으로 0, 2, 2, 4 개 입니다. 확인할 수 있는 것처럼 모든 $2^4=16$ 개의 경우를 나열해 보면 가장 우측 그림이 두 집합 간의 간선의 수가 최대인 경우입니다. 따라서 \"빨강\"을 0 으로 \"파랑\"을 1로 부호화하면 두 집합으로 노드의 할당을 나타내는 비트열 \"0101\" 및 \"1010\" 은 정답이 됩니다. "
      ]
    },
    {
      "cell_type": "markdown",
      "metadata": {
      },
      "source": [
        "눈치채셨을 수도 있지만, 그래프의 꼭짓점 수가 증가하면 솔루션을 찾기 위해 검사해야 하는 가능한 할당의 수가 기하급수적으로 증가합니다."
      ]
    },
    {
      "cell_type": "markdown",
      "metadata": {
      },
      "source": [
        "## QAOA\n",
        "\n",
        "Farhi 외 3인[1]이 도입한 QAOA(Quantum Approximate Optimization Algorithm)는 위에 소개한 것과 같은 조합 문제를 해결하기 위해 제시된 양자 알고리즘입니다.<br>\n",
        "\n",
        "QAOA는 $(\\boldsymbol{\\beta}, \\boldsymbol{\\gamma})$ 라는 매개변수를 갖는 유니타리 행렬 $U(\\boldsymbol{\\beta}, \\boldsymbol{\\gamma})$ 을 이용해 $\\lvert \\psi(\\boldsymbol{\\beta}, \\boldsymbol{\\gamma}) \\rangle$ 라는 양자 상태를 만드는 변분(variational) 알고리즘입니다. 이 알고리즘의 목표는 양자 상태 `{latex} \\lvert \\psi(\\boldsymbol{\\beta}_{\\text{opt}}, \\boldsymbol{\\gamma}_{\\text{opt}}) \\rangle` 가 문제에 대한 해답을 표현하게 만드는 최적의 파라미터 `{latex} (\\boldsymbol{\\beta}_{\\text{opt}} 와 <code data-md-type=\"codespan\">{latex} \\lvert \\psi(\\boldsymbol{\\beta}_{\\text{opt}}, \\boldsymbol{\\gamma}_{\\text{opt}}) \\rangle` 를 찾는 것입니다.\n",
        "\n",
        "유니타리 행렬 $U(\\boldsymbol{\\beta}, \\boldsymbol{\\gamma})$ 는 특수한 형태를 가지고 있으며 $U(\\boldsymbol{\\beta}) = e^{-i \\boldsymbol{\\beta} H_B}$ 와 $U(\\boldsymbol{\\gamma}) = e^{-i \\boldsymbol{\\gamma} H_P}$ 라는 두 부분으로 나눠집니다. 여기서 $H_B$ 는 혼합 해밀토니안이고 $H_P$ 는 문제 해밀토니안입니다. 유니타리 행렬의 이러한 형태는 양자 어닐링이라는 또 하나의 양자 알고리즘에서 유래한 것입니다.\n",
        "\n",
        "초기 양자 상태 $\\lvert \\psi_0 \\rangle$ 에 위에 설명한 두 유니타리 행렬을 $p$ 번 번갈아 적용하여 아래와 같은 양자 상태를 생성합니다.\n",
        "\n",
        "$$\\lvert \\psi(\\boldsymbol{\\beta}, \\boldsymbol{\\gamma}) \\rangle = \\underbrace{U(\\boldsymbol{\\beta}) U(\\boldsymbol{\\gamma}) \n",
        "                                            \\cdots U(\\boldsymbol{\\beta}) U(\\boldsymbol{\\gamma})}_{p \\; \\text{times}} \n",
        "\\lvert \\psi_0 \\rangle$$\n",
        "\n",
        "**빈칸**. (이 내용을 윗칸에 함께 쓰는 것이 더 자연스러운 것 같습니다.)\n",
        "\n",
        "이 방식을 위에서 다루었던 Max-Cut 문제에 적용해 보겠습니다. 그러기 위해서는 우선 위 그림의 그래프를 코드의 형태로 정의해야 합니다."
      ]
    },
    {
      "cell_type": "code",
      "execution_count": 1,
      "metadata": {
      },
      "outputs": [
        {
          "data": {
            "image/svg+xml": [
              "<?xml version=\"1.0\" encoding=\"UTF-8\"?><!DOCTYPE svg  PUBLIC '-//W3C//DTD SVG 1.1//EN'  'http://www.w3.org/Graphics/SVG/1.1/DTD/svg11.dtd'><svg width=\"475.2pt\" height=\"360pt\" version=\"1.1\" viewBox=\"0 0 475.2 360\" xmlns=\"http://www.w3.org/2000/svg\" xmlns:xlink=\"http://www.w3.org/1999/xlink\"><defs><style type=\"text/css\">*{stroke-linejoin: round; stroke-linecap: butt}</style></defs><path d=\"m0 360h475.2v-360h-475.2z\" fill=\"#ffffff\"/><g fill=\"none\" stroke=\"#000000\" stroke-opacity=\".8\"><path d=\"m47.187 166.3 172.19 156.51\" clip-path=\"url(#p2910b5b9b5)\"/><path d=\"m47.187 166.3 208.07-129.11\" clip-path=\"url(#p2910b5b9b5)\"/><path d=\"m219.37 322.81 208.64-129.29\" clip-path=\"url(#p2910b5b9b5)\"/><path d=\"m428.01 193.52-172.76-156.33\" clip-path=\"url(#p2910b5b9b5)\"/></g><defs><path id=\"m471223f1f0\" d=\"m0 11.18c2.9651 0 5.8091-1.178 7.9057-3.2746 2.0966-2.0966 3.2746-4.9406 3.2746-7.9057s-1.178-5.8091-3.2746-7.9057c-2.0966-2.0966-4.9406-3.2746-7.9057-3.2746s-5.8091 1.178-7.9057 3.2746c-2.0966 2.0966-3.2746 4.9406-3.2746 7.9057s1.178 5.8091 3.2746 7.9057c2.0966 2.0966 4.9406 3.2746 7.9057 3.2746z\" stroke=\"#1f78b4\" stroke-opacity=\".8\"/></defs><g clip-path=\"url(#p2910b5b9b5)\" fill=\"#1f78b4\" fill-opacity=\".8\" stroke=\"#1f78b4\" stroke-opacity=\".8\"><use x=\"47.186777\" y=\"166.295243\" xlink:href=\"#m471223f1f0\"/><use x=\"219.373206\" y=\"322.809917\" xlink:href=\"#m471223f1f0\"/><use x=\"428.013223\" y=\"193.518625\" xlink:href=\"#m471223f1f0\"/><use x=\"255.257217\" y=\"37.190083\" xlink:href=\"#m471223f1f0\"/></g><g clip-path=\"url(#p2910b5b9b5)\"><g transform=\"translate(43.369 169.61) scale(.12 -.12)\" opacity=\".8\"><defs><path id=\"DejaVuSans-30\" transform=\"scale(.015625)\" d=\"m2034 4250q-487 0-733-480-245-479-245-1442 0-959 245-1439 246-480 733-480 491 0 736 480 246 480 246 1439 0 963-246 1442-245 480-736 480zm0 500q785 0 1199-621 414-620 414-1801 0-1178-414-1799-414-620-1199-620-784 0-1198 620-414 621-414 1799 0 1181 414 1801 414 621 1198 621z\"/></defs><use xlink:href=\"#DejaVuSans-30\"/></g></g><g clip-path=\"url(#p2910b5b9b5)\"><g transform=\"translate(215.56 326.12) scale(.12 -.12)\" opacity=\".8\"><defs><path id=\"DejaVuSans-31\" transform=\"scale(.015625)\" d=\"m794 531h1031v3560l-1122-225v575l1116 225h631v-4135h1031v-531h-2687v531z\"/></defs><use xlink:href=\"#DejaVuSans-31\"/></g></g><g clip-path=\"url(#p2910b5b9b5)\"><g transform=\"translate(424.2 196.83) scale(.12 -.12)\" opacity=\".8\"><defs><path id=\"DejaVuSans-32\" transform=\"scale(.015625)\" d=\"m1228 531h2203v-531h-2962v531q359 372 979 998 621 627 780 809 303 340 423 576 121 236 121 464 0 372-261 606-261 235-680 235-297 0-627-103-329-103-704-313v638q381 153 712 231 332 78 607 78 725 0 1156-363 431-362 431-968 0-288-108-546-107-257-392-607-78-91-497-524-418-433-1181-1211z\"/></defs><use xlink:href=\"#DejaVuSans-32\"/></g></g><g clip-path=\"url(#p2910b5b9b5)\"><g transform=\"translate(251.44 40.501) scale(.12 -.12)\" opacity=\".8\"><defs><path id=\"DejaVuSans-33\" transform=\"scale(.015625)\" d=\"m2597 2516q453-97 707-404 255-306 255-756 0-690-475-1069-475-378-1350-378-293 0-604 58t-642 174v609q262-153 574-231 313-78 654-78 593 0 904 234t311 681q0 413-289 645-289 233-804 233h-544v519h569q465 0 712 186t247 536q0 359-255 551-254 193-729 193-260 0-557-57-297-56-653-174v562q360 100 674 150t592 50q719 0 1137-327 419-326 419-882 0-388-222-655t-631-370z\"/></defs><use xlink:href=\"#DejaVuSans-33\"/></g></g><defs><clipPath id=\"p2910b5b9b5\"><rect x=\"7.2\" y=\"7.2\" width=\"460.8\" height=\"345.6\"/></clipPath></defs></svg>"
            ],
            "text/plain": [
              "<Figure size 640x480 with 1 Axes>"
            ]
          },
          "metadata": {
          },
          "output_type": "display_data"
        }
      ],
      "source": [
        "import networkx as nx\n",
        "graph = nx.Graph()\n",
        "graph.add_nodes_from([0, 1, 2, 3])\n",
        "graph.add_edges_from([(0, 1), (1, 2), (2, 3), (3, 0)])\n",
        "nx.draw(graph, with_labels=True, alpha=0.8, node_size=500)"
      ]
    },
    {
      "cell_type": "markdown",
      "metadata": {
      },
      "source": [
        "Max-Cut 문제에 해당하는 \"문제 해밀토니안\"은 아래와 같습니다. 상수항은 생략하였습니다.\n",
        "\n",
        "$$\n",
        "H_P = \\frac{1}{2}\\big(Z_0 \\otimes Z_1 \\otimes I_2 \\otimes I_3\\big) + \n",
        "        \\frac{1}{2}\\big(I_0 \\otimes Z_1 \\otimes Z_2 \\otimes I_3\\big) +\n",
        "        \\frac{1}{2}\\big(Z_0 \\otimes I_1 \\otimes I_2 \\otimes Z_3\\big) +\n",
        "        \\frac{1}{2}\\big(I_0 \\otimes I_1 \\otimes Z_2 \\otimes Z_3\\big)\n",
        "$$\n",
        "\n",
        "문제에 맞는 해밀토니안을 만들기 위해서 다음과 같은 몇 단계를 따릅니다. 자세한건 나중에 설명합니다.\n",
        "\n",
        "혼합 해밀토니안 $H_B$ 는 대개 아래와 같은 형태를 가집니다.\n",
        "\n",
        "$$\n",
        "H_B = \\big(X_0 \\otimes I_1 \\otimes I_2 \\otimes I_3 \\big) + \n",
        "      \\big(I_0 \\otimes X_1 \\otimes I_2 \\otimes I_3 \\big) +\n",
        "      \\big(I_0 \\otimes I_1 \\otimes X_2 \\otimes I_3 \\big) +\n",
        "      \\big(I_0 \\otimes I_1 \\otimes I_2 \\otimes X_3 \\big)\n",
        "$$\n",
        "\n",
        "$H_P$ 와 $H_B$ 의 각 항들이 서로 교환 가능하므로 $U(H_B)는 아래와 같이 쓸 수 있습니다.\n",
        "\n",
        "```\n",
        "$$ U(H_B) = e^{-i \\beta H_B} = e^{-i \\beta X_0}e^{-i \\beta X_1}e^{-i \\beta X_2}e^{-i \\beta X_3}.$$\n",
        "```\n",
        "\n",
        "위 표현의 각 항은 각 큐빗에 대한 X축 회전을 의미합니다. 또한 $U(H_P)$ 는 다음과 같이 쓸 수 있습니다.\n",
        "\n",
        "```\n",
        "$$ U(H_P) = e^{-i \\gamma H_P} = e^{-i \\gamma Z_0 Z_1}e^{-i \\gamma Z_1 Z_2}e^{-i \\gamma Z_2 Z_3}e^{-i \\gamma Z_0 Z_3}$$\n",
        "```\n",
        "\n",
        "이제 각 유니타리 행렬을 구현하는 양자 회로가 어떻게 생겼는지 살펴봅시다. "
      ]
    },
    {
      "cell_type": "markdown",
      "metadata": {
      },
      "source": [
        "### 혼합 유니타리"
      ]
    },
    {
      "cell_type": "code",
      "execution_count": 2,
      "metadata": {
        "tags": [
          "ignore-warning"
        ]
      },
      "outputs": [
        {
          "name": "stderr",
          "output_type": "stream",
          "text": [
            "/var/folders/z_/6s4ntyps5lsb232v7f82201r0000gn/T/ipykernel_64520/2153888928.py:7: FutureWarning: adjacency_matrix will return a scipy.sparse array instead of a matrix in Networkx 3.0.\n",
            "  adjacency = nx.adjacency_matrix(graph).todense()\n"
          ]
        },
        {
          "data": {
            "image/svg+xml": [
              "<?xml version=\"1.0\" encoding=\"UTF-8\"?><!DOCTYPE svg  PUBLIC '-//W3C//DTD SVG 1.1//EN'  'http://www.w3.org/Graphics/SVG/1.1/DTD/svg11.dtd'><svg width=\"127.43pt\" height=\"218.36pt\" version=\"1.1\" viewBox=\"0 0 127.43 218.36\" xmlns=\"http://www.w3.org/2000/svg\" xmlns:xlink=\"http://www.w3.org/1999/xlink\"><defs><style type=\"text/css\">*{stroke-linejoin: round; stroke-linecap: butt}</style></defs><path d=\"m0 218.36h127.43v-218.36h-127.43z\" fill=\"#ffffff\"/><path d=\"m64.609 44.283h50.989\" clip-path=\"url(#p87e4655996)\" fill=\"none\" stroke=\"#000000\" stroke-linecap=\"square\" stroke-width=\"2\"/><path d=\"m64.609 90.637h50.989\" clip-path=\"url(#p87e4655996)\" fill=\"none\" stroke=\"#000000\" stroke-linecap=\"square\" stroke-width=\"2\"/><path d=\"m64.609 136.99h50.989\" clip-path=\"url(#p87e4655996)\" fill=\"none\" stroke=\"#000000\" stroke-linecap=\"square\" stroke-width=\"2\"/><path d=\"m64.609 183.35h50.989\" clip-path=\"url(#p87e4655996)\" fill=\"none\" stroke=\"#000000\" stroke-linecap=\"square\" stroke-width=\"2\"/><path d=\"m74.575 59.348h30.13v-30.13h-30.13z\" clip-path=\"url(#p87e4655996)\" fill=\"#6929c4\" stroke=\"#6929c4\" stroke-width=\"1.5\"/><path d=\"m74.575 105.7h30.13v-30.13h-30.13z\" clip-path=\"url(#p87e4655996)\" fill=\"#6929c4\" stroke=\"#6929c4\" stroke-width=\"1.5\"/><path d=\"m74.575 152.06h30.13v-30.13h-30.13z\" clip-path=\"url(#p87e4655996)\" fill=\"#6929c4\" stroke=\"#6929c4\" stroke-width=\"1.5\"/><path d=\"m74.575 198.41h30.13v-30.13h-30.13z\" clip-path=\"url(#p87e4655996)\" fill=\"#6929c4\" stroke=\"#6929c4\" stroke-width=\"1.5\"/><g clip-path=\"url(#p87e4655996)\"><g transform=\"translate(37.301 48.734) scale(.1625 -.1625)\"><defs><path id=\"DejaVuSans-Oblique-71\" transform=\"scale(.015625)\" d=\"m2669 525q-231-303-546-460-314-156-695-156-531 0-833 358-301 358-301 986 0 506 186 978t533 847q225 244 517 375t614 131q387 0 637-153t363-462l100 525h578l-934-4813h-579l360 1844zm-1778 813q0-463 193-705 194-242 560-242 544 0 928 520t384 1264q0 450-199 689-198 239-569 239-272 0-504-127-231-126-403-370-181-256-286-600-104-343-104-668z\"/><path id=\"DejaVuSans-30\" transform=\"scale(.015625)\" d=\"m2034 4250q-487 0-733-480-245-479-245-1442 0-959 245-1439 246-480 733-480 491 0 736 480 246 480 246 1439 0 963-246 1442-245 480-736 480zm0 500q785 0 1199-621 414-620 414-1801 0-1178-414-1799-414-620-1199-620-784 0-1198 620-414 621-414 1799 0 1181 414 1801 414 621 1198 621z\"/></defs><use xlink:href=\"#DejaVuSans-Oblique-71\"/><use transform=\"translate(63.477 -16.406) scale(.7)\" xlink:href=\"#DejaVuSans-30\"/></g></g><g clip-path=\"url(#p87e4655996)\"><g transform=\"translate(37.301 95.088) scale(.1625 -.1625)\"><defs><path id=\"DejaVuSans-31\" transform=\"scale(.015625)\" d=\"m794 531h1031v3560l-1122-225v575l1116 225h631v-4135h1031v-531h-2687v531z\"/></defs><use xlink:href=\"#DejaVuSans-Oblique-71\"/><use transform=\"translate(63.477 -16.406) scale(.7)\" xlink:href=\"#DejaVuSans-31\"/></g></g><g clip-path=\"url(#p87e4655996)\"><g transform=\"translate(37.301 141.44) scale(.1625 -.1625)\"><defs><path id=\"DejaVuSans-32\" transform=\"scale(.015625)\" d=\"m1228 531h2203v-531h-2962v531q359 372 979 998 621 627 780 809 303 340 423 576 121 236 121 464 0 372-261 606-261 235-680 235-297 0-627-103-329-103-704-313v638q381 153 712 231 332 78 607 78 725 0 1156-363 431-362 431-968 0-288-108-546-107-257-392-607-78-91-497-524-418-433-1181-1211z\"/></defs><use xlink:href=\"#DejaVuSans-Oblique-71\"/><use transform=\"translate(63.477 -16.406) scale(.7)\" xlink:href=\"#DejaVuSans-32\"/></g></g><g clip-path=\"url(#p87e4655996)\"><g transform=\"translate(37.301 187.8) scale(.1625 -.1625)\"><defs><path id=\"DejaVuSans-33\" transform=\"scale(.015625)\" d=\"m2597 2516q453-97 707-404 255-306 255-756 0-690-475-1069-475-378-1350-378-293 0-604 58t-642 174v609q262-153 574-231 313-78 654-78 593 0 904 234t311 681q0 413-289 645-289 233-804 233h-544v519h569q465 0 712 186t247 536q0 359-255 551-254 193-729 193-260 0-557-57-297-56-653-174v562q360 100 674 150t592 50q719 0 1137-327 419-326 419-882 0-388-222-655t-631-370z\"/></defs><use xlink:href=\"#DejaVuSans-Oblique-71\"/><use transform=\"translate(63.477 -16.406) scale(.7)\" xlink:href=\"#DejaVuSans-33\"/></g></g><g clip-path=\"url(#p87e4655996)\"><g transform=\"translate(82.52 55.562) scale(.08 -.08)\" fill=\"#ffffff\"><defs><path id=\"DejaVuSans-2a\" transform=\"scale(.015625)\" d=\"m3009 3897-1121-606 1121-610-181-306-1050 634v-1178h-356v1178l-1050-634-181 306 1122 610-1122 606 181 309 1050-634v1178h356v-1178l1050 634 181-309z\"/><path id=\"DejaVuSans-Oblique-3b2\" transform=\"scale(.015625)\" d=\"m872 216-300-1547h-578l934 4809q278 1425 1610 1425 1350 0 1121-1203-156-856-765-1169 819-281 659-1115-281-1485-1794-1482-662 3-887 282zm147 750q240-544 856-541 900 0 1091 981 172 882-1291 813l103 531q1131-19 1328 1e3 135 688-597 684-818 0-1006-975l-484-2493z\"/></defs><use transform=\"translate(0 .39062)\" xlink:href=\"#DejaVuSans-32\"/><use transform=\"translate(63.623 .39062)\" xlink:href=\"#DejaVuSans-2a\"/><use transform=\"translate(113.62 .39062)\" xlink:href=\"#DejaVuSans-Oblique-3b2\"/></g></g><g clip-path=\"url(#p87e4655996)\"><g transform=\"translate(81.71 43.351) scale(.13 -.13)\" fill=\"#ffffff\"><defs><path id=\"DejaVuSans-52\" transform=\"scale(.015625)\" d=\"m2841 2188q203-69 395-294t386-619l641-1275h-679l-596 1197q-232 469-449 622t-592 153h-688v-1972h-631v4666h1425q800 0 1194-335 394-334 394-1009 0-441-205-732-205-290-595-402zm-1582 1959v-1656h794q456 0 689 211t233 620-233 617-689 208h-794z\"/><path id=\"DejaVuSans-58\" transform=\"scale(.015625)\" d=\"m403 4666h678l1160-1735 1165 1735h678l-1500-2241 1600-2425h-678l-1312 1984-1322-1984h-681l1665 2491-1453 2175z\"/></defs><use transform=\"translate(0 .09375)\" xlink:href=\"#DejaVuSans-52\"/><use transform=\"translate(70.439 -16.312) scale(.7)\" xlink:href=\"#DejaVuSans-58\"/></g></g><g clip-path=\"url(#p87e4655996)\"><g transform=\"translate(82.52 101.92) scale(.08 -.08)\" fill=\"#ffffff\"><use transform=\"translate(0 .39062)\" xlink:href=\"#DejaVuSans-32\"/><use transform=\"translate(63.623 .39062)\" xlink:href=\"#DejaVuSans-2a\"/><use transform=\"translate(113.62 .39062)\" xlink:href=\"#DejaVuSans-Oblique-3b2\"/></g></g><g clip-path=\"url(#p87e4655996)\"><g transform=\"translate(81.71 89.705) scale(.13 -.13)\" fill=\"#ffffff\"><use transform=\"translate(0 .09375)\" xlink:href=\"#DejaVuSans-52\"/><use transform=\"translate(70.439 -16.312) scale(.7)\" xlink:href=\"#DejaVuSans-58\"/></g></g><g clip-path=\"url(#p87e4655996)\"><g transform=\"translate(82.52 148.27) scale(.08 -.08)\" fill=\"#ffffff\"><use transform=\"translate(0 .39062)\" xlink:href=\"#DejaVuSans-32\"/><use transform=\"translate(63.623 .39062)\" xlink:href=\"#DejaVuSans-2a\"/><use transform=\"translate(113.62 .39062)\" xlink:href=\"#DejaVuSans-Oblique-3b2\"/></g></g><g clip-path=\"url(#p87e4655996)\"><g transform=\"translate(81.71 136.06) scale(.13 -.13)\" fill=\"#ffffff\"><use transform=\"translate(0 .09375)\" xlink:href=\"#DejaVuSans-52\"/><use transform=\"translate(70.439 -16.312) scale(.7)\" xlink:href=\"#DejaVuSans-58\"/></g></g><g clip-path=\"url(#p87e4655996)\"><g transform=\"translate(82.52 194.62) scale(.08 -.08)\" fill=\"#ffffff\"><use transform=\"translate(0 .39062)\" xlink:href=\"#DejaVuSans-32\"/><use transform=\"translate(63.623 .39062)\" xlink:href=\"#DejaVuSans-2a\"/><use transform=\"translate(113.62 .39062)\" xlink:href=\"#DejaVuSans-Oblique-3b2\"/></g></g><g clip-path=\"url(#p87e4655996)\"><g transform=\"translate(81.71 182.41) scale(.13 -.13)\" fill=\"#ffffff\"><use transform=\"translate(0 .09375)\" xlink:href=\"#DejaVuSans-52\"/><use transform=\"translate(70.439 -16.312) scale(.7)\" xlink:href=\"#DejaVuSans-58\"/></g></g><defs><clipPath id=\"p87e4655996\"><rect x=\"7.2\" y=\"7.2\" width=\"113.03\" height=\"203.96\"/></clipPath></defs></svg>"
            ],
            "text/plain": [
              "<Figure size 203.885x367.889 with 1 Axes>"
            ]
          },
          "execution_count": 2,
          "metadata": {
          },
          "output_type": "execute_result"
        }
      ],
      "source": [
        "from qiskit import QuantumCircuit, Aer\n",
        "from qiskit.circuit import Parameter\n",
        "\n",
        "# Adjacency is essentially a matrix which tells you which nodes are\n",
        "# connected. This matrix is given as a sparse matrix, so we need to\n",
        "# convert it to a dense matrix\n",
        "adjacency = nx.adjacency_matrix(graph).todense()\n",
        "\n",
        "N_QUBITS = 4\n",
        "\n",
        "beta = Parameter(\"$\\\\beta$\")\n",
        "qc_mix = QuantumCircuit(N_QUBITS)\n",
        "for i in range(N_QUBITS):\n",
        "    qc_mix.rx(2 * beta, i)\n",
        "\n",
        "qc_mix.draw()"
      ]
    },
    {
      "cell_type": "markdown",
      "metadata": {
      },
      "source": [
        "### 문제 유니타리"
      ]
    },
    {
      "cell_type": "code",
      "execution_count": 3,
      "metadata": {
      },
      "outputs": [
        {
          "data": {
            "image/svg+xml": [
              "<?xml version=\"1.0\" encoding=\"UTF-8\"?><!DOCTYPE svg  PUBLIC '-//W3C//DTD SVG 1.1//EN'  'http://www.w3.org/Graphics/SVG/1.1/DTD/svg11.dtd'><svg width=\"822.74pt\" height=\"218.36pt\" version=\"1.1\" viewBox=\"0 0 822.74 218.36\" xmlns=\"http://www.w3.org/2000/svg\" xmlns:xlink=\"http://www.w3.org/1999/xlink\"><defs><style type=\"text/css\">*{stroke-linejoin: round; stroke-linecap: butt}</style></defs><path d=\"m0 218.36h822.74v-218.36h-822.74z\" fill=\"#ffffff\"/><path d=\"m64.609 44.283h746.3\" clip-path=\"url(#p22789b5c7d)\" fill=\"none\" stroke=\"#000000\" stroke-linecap=\"square\" stroke-width=\"2\"/><path d=\"m64.609 90.637h746.3\" clip-path=\"url(#p22789b5c7d)\" fill=\"none\" stroke=\"#000000\" stroke-linecap=\"square\" stroke-width=\"2\"/><path d=\"m64.609 136.99h746.3\" clip-path=\"url(#p22789b5c7d)\" fill=\"none\" stroke=\"#000000\" stroke-linecap=\"square\" stroke-width=\"2\"/><path d=\"m64.609 183.35h746.3\" clip-path=\"url(#p22789b5c7d)\" fill=\"none\" stroke=\"#000000\" stroke-linecap=\"square\" stroke-width=\"2\"/><path d=\"m89.64 90.637v-46.354\" clip-path=\"url(#p22789b5c7d)\" fill=\"none\" stroke=\"#1192e8\" stroke-linecap=\"square\" stroke-width=\"2\"/><path d=\"m182.35 90.637v-46.354\" clip-path=\"url(#p22789b5c7d)\" fill=\"none\" stroke=\"#1192e8\" stroke-linecap=\"square\" stroke-width=\"2\"/><path d=\"m219.66 67.46h18.078v-46.354h-18.078z\" clip-path=\"url(#p22789b5c7d)\" fill=\"#bdbdbd\" opacity=\".6\"/><path d=\"m219.66 113.81h18.078v-46.354h-18.078z\" clip-path=\"url(#p22789b5c7d)\" fill=\"#bdbdbd\" opacity=\".6\"/><path d=\"m219.66 160.17h18.078v-46.354h-18.078z\" clip-path=\"url(#p22789b5c7d)\" fill=\"#bdbdbd\" opacity=\".6\"/><path d=\"m219.66 206.52h18.078v-46.354h-18.078z\" clip-path=\"url(#p22789b5c7d)\" fill=\"#bdbdbd\" opacity=\".6\"/><path d=\"m275.06 183.35v-139.06\" clip-path=\"url(#p22789b5c7d)\" fill=\"none\" stroke=\"#1192e8\" stroke-linecap=\"square\" stroke-width=\"2\"/><path d=\"m367.76 183.35v-139.06\" clip-path=\"url(#p22789b5c7d)\" fill=\"none\" stroke=\"#1192e8\" stroke-linecap=\"square\" stroke-width=\"2\"/><path d=\"m405.08 67.46h18.078v-46.354h-18.078z\" clip-path=\"url(#p22789b5c7d)\" fill=\"#bdbdbd\" opacity=\".6\"/><path d=\"m405.08 113.81h18.078v-46.354h-18.078z\" clip-path=\"url(#p22789b5c7d)\" fill=\"#bdbdbd\" opacity=\".6\"/><path d=\"m405.08 160.17h18.078v-46.354h-18.078z\" clip-path=\"url(#p22789b5c7d)\" fill=\"#bdbdbd\" opacity=\".6\"/><path d=\"m405.08 206.52h18.078v-46.354h-18.078z\" clip-path=\"url(#p22789b5c7d)\" fill=\"#bdbdbd\" opacity=\".6\"/><path d=\"m460.47 136.99v-46.354\" clip-path=\"url(#p22789b5c7d)\" fill=\"none\" stroke=\"#1192e8\" stroke-linecap=\"square\" stroke-width=\"2\"/><path d=\"m553.18 136.99v-46.354\" clip-path=\"url(#p22789b5c7d)\" fill=\"none\" stroke=\"#1192e8\" stroke-linecap=\"square\" stroke-width=\"2\"/><path d=\"m590.5 67.46h18.078v-46.354h-18.078z\" clip-path=\"url(#p22789b5c7d)\" fill=\"#bdbdbd\" opacity=\".6\"/><path d=\"m590.5 113.81h18.078v-46.354h-18.078z\" clip-path=\"url(#p22789b5c7d)\" fill=\"#bdbdbd\" opacity=\".6\"/><path d=\"m590.5 160.17h18.078v-46.354h-18.078z\" clip-path=\"url(#p22789b5c7d)\" fill=\"#bdbdbd\" opacity=\".6\"/><path d=\"m590.5 206.52h18.078v-46.354h-18.078z\" clip-path=\"url(#p22789b5c7d)\" fill=\"#bdbdbd\" opacity=\".6\"/><path d=\"m645.89 183.35v-46.354\" clip-path=\"url(#p22789b5c7d)\" fill=\"none\" stroke=\"#1192e8\" stroke-linecap=\"square\" stroke-width=\"2\"/><path d=\"m738.6 183.35v-46.354\" clip-path=\"url(#p22789b5c7d)\" fill=\"none\" stroke=\"#1192e8\" stroke-linecap=\"square\" stroke-width=\"2\"/><path d=\"m775.91 67.46h18.078v-46.354h-18.078z\" clip-path=\"url(#p22789b5c7d)\" fill=\"#bdbdbd\" opacity=\".6\"/><path d=\"m775.91 113.81h18.078v-46.354h-18.078z\" clip-path=\"url(#p22789b5c7d)\" fill=\"#bdbdbd\" opacity=\".6\"/><path d=\"m775.91 160.17h18.078v-46.354h-18.078z\" clip-path=\"url(#p22789b5c7d)\" fill=\"#bdbdbd\" opacity=\".6\"/><path d=\"m775.91 206.52h18.078v-46.354h-18.078z\" clip-path=\"url(#p22789b5c7d)\" fill=\"#bdbdbd\" opacity=\".6\"/><path d=\"m89.64 48.803c1.1986 0 2.3482-0.4762 3.1958-1.3237 0.84753-0.84753 1.3237-1.9972 1.3237-3.1958 0-1.1986-0.4762-2.3482-1.3237-3.1958-0.84753-0.84753-1.9972-1.3237-3.1958-1.3237-1.1986 0-2.3482 0.4762-3.1958 1.3237-0.84753 0.84753-1.3237 1.9972-1.3237 3.1958 0 1.1986 0.4762 2.3482 1.3237 3.1958 0.84753 0.84753 1.9972 1.3237 3.1958 1.3237z\" clip-path=\"url(#p22789b5c7d)\" fill=\"#1192e8\" stroke=\"#1192e8\" stroke-width=\"1.5\"/><path d=\"m89.64 101.18c2.7967 0 5.4792-1.1111 7.4568-3.0887 1.9776-1.9776 3.0887-4.6601 3.0887-7.4568 0-2.7967-1.1111-5.4792-3.0887-7.4568-1.9776-1.9776-4.6601-3.0887-7.4568-3.0887-2.7967 0-5.4792 1.1111-7.4568 3.0887-1.9776 1.9776-3.0887 4.6601-3.0887 7.4568 0 2.7967 1.1111 5.4792 3.0887 7.4568 1.9776 1.9776 4.6601 3.0887 7.4568 3.0887z\" clip-path=\"url(#p22789b5c7d)\" fill=\"#1192e8\" stroke=\"#1192e8\" stroke-width=\"2\"/><path d=\"m120.93 105.7h30.13v-30.13h-30.13z\" clip-path=\"url(#p22789b5c7d)\" fill=\"#6929c4\" stroke=\"#6929c4\" stroke-width=\"1.5\"/><path d=\"m182.35 48.803c1.1986 0 2.3482-0.4762 3.1958-1.3237 0.84753-0.84753 1.3237-1.9972 1.3237-3.1958 0-1.1986-0.4762-2.3482-1.3237-3.1958-0.84753-0.84753-1.9972-1.3237-3.1958-1.3237s-2.3482 0.4762-3.1958 1.3237c-0.84753 0.84753-1.3237 1.9972-1.3237 3.1958 0 1.1986 0.4762 2.3482 1.3237 3.1958 0.84753 0.84753 1.9972 1.3237 3.1958 1.3237z\" clip-path=\"url(#p22789b5c7d)\" fill=\"#1192e8\" stroke=\"#1192e8\" stroke-width=\"1.5\"/><path d=\"m182.35 101.18c2.7967 0 5.4792-1.1111 7.4568-3.0887 1.9776-1.9776 3.0887-4.6601 3.0887-7.4568 0-2.7967-1.1111-5.4792-3.0887-7.4568-1.9776-1.9776-4.6601-3.0887-7.4568-3.0887-2.7967 0-5.4792 1.1111-7.4568 3.0887-1.9776 1.9776-3.0887 4.6601-3.0887 7.4568 0 2.7967 1.1111 5.4792 3.0887 7.4568 1.9776 1.9776 4.6601 3.0887 7.4568 3.0887z\" clip-path=\"url(#p22789b5c7d)\" fill=\"#1192e8\" stroke=\"#1192e8\" stroke-width=\"2\"/><path d=\"m275.06 48.803c1.1986 0 2.3482-0.4762 3.1958-1.3237 0.84753-0.84753 1.3237-1.9972 1.3237-3.1958 0-1.1986-0.4762-2.3482-1.3237-3.1958-0.84753-0.84753-1.9972-1.3237-3.1958-1.3237-1.1986 0-2.3482 0.4762-3.1958 1.3237s-1.3237 1.9972-1.3237 3.1958c0 1.1986 0.4762 2.3482 1.3237 3.1958s1.9972 1.3237 3.1958 1.3237z\" clip-path=\"url(#p22789b5c7d)\" fill=\"#1192e8\" stroke=\"#1192e8\" stroke-width=\"1.5\"/><path d=\"m275.06 193.89c2.7967 0 5.4792-1.1111 7.4568-3.0887 1.9776-1.9776 3.0887-4.6601 3.0887-7.4568 0-2.7967-1.1111-5.4792-3.0887-7.4568-1.9776-1.9776-4.6601-3.0887-7.4568-3.0887-2.7967 0-5.4792 1.1111-7.4568 3.0887-1.9776 1.9776-3.0887 4.6601-3.0887 7.4568 0 2.7967 1.1111 5.4792 3.0887 7.4568 1.9776 1.9776 4.6601 3.0887 7.4568 3.0887z\" clip-path=\"url(#p22789b5c7d)\" fill=\"#1192e8\" stroke=\"#1192e8\" stroke-width=\"2\"/><path d=\"m306.35 198.41h30.13v-30.13h-30.13z\" clip-path=\"url(#p22789b5c7d)\" fill=\"#6929c4\" stroke=\"#6929c4\" stroke-width=\"1.5\"/><path d=\"m367.76 48.803c1.1986 0 2.3482-0.4762 3.1958-1.3237s1.3237-1.9972 1.3237-3.1958c0-1.1986-0.4762-2.3482-1.3237-3.1958s-1.9972-1.3237-3.1958-1.3237c-1.1986 0-2.3482 0.4762-3.1958 1.3237-0.84753 0.84753-1.3237 1.9972-1.3237 3.1958 0 1.1986 0.4762 2.3482 1.3237 3.1958 0.84753 0.84753 1.9972 1.3237 3.1958 1.3237z\" clip-path=\"url(#p22789b5c7d)\" fill=\"#1192e8\" stroke=\"#1192e8\" stroke-width=\"1.5\"/><path d=\"m367.76 193.89c2.7967 0 5.4792-1.1111 7.4568-3.0887 1.9776-1.9776 3.0887-4.6601 3.0887-7.4568 0-2.7967-1.1111-5.4792-3.0887-7.4568-1.9776-1.9776-4.6601-3.0887-7.4568-3.0887-2.7967 0-5.4792 1.1111-7.4568 3.0887-1.9776 1.9776-3.0887 4.6601-3.0887 7.4568 0 2.7967 1.1111 5.4792 3.0887 7.4568 1.9776 1.9776 4.6601 3.0887 7.4568 3.0887z\" clip-path=\"url(#p22789b5c7d)\" fill=\"#1192e8\" stroke=\"#1192e8\" stroke-width=\"2\"/><path d=\"m460.47 95.157c1.1986 0 2.3482-0.4762 3.1958-1.3237 0.84753-0.84753 1.3237-1.9972 1.3237-3.1958s-0.4762-2.3482-1.3237-3.1958c-0.84753-0.84753-1.9972-1.3237-3.1958-1.3237-1.1986 0-2.3482 0.4762-3.1958 1.3237-0.84753 0.84753-1.3237 1.9972-1.3237 3.1958s0.4762 2.3482 1.3237 3.1958c0.84753 0.84753 1.9972 1.3237 3.1958 1.3237z\" clip-path=\"url(#p22789b5c7d)\" fill=\"#1192e8\" stroke=\"#1192e8\" stroke-width=\"1.5\"/><path d=\"m460.47 147.54c2.7967 0 5.4792-1.1111 7.4568-3.0887 1.9776-1.9776 3.0887-4.6601 3.0887-7.4568 0-2.7967-1.1111-5.4792-3.0887-7.4568-1.9776-1.9776-4.6601-3.0887-7.4568-3.0887-2.7967 0-5.4792 1.1111-7.4568 3.0887s-3.0887 4.6601-3.0887 7.4568c0 2.7967 1.1111 5.4792 3.0887 7.4568 1.9776 1.9776 4.6601 3.0887 7.4568 3.0887z\" clip-path=\"url(#p22789b5c7d)\" fill=\"#1192e8\" stroke=\"#1192e8\" stroke-width=\"2\"/><path d=\"m491.76 152.06h30.13v-30.13h-30.13z\" clip-path=\"url(#p22789b5c7d)\" fill=\"#6929c4\" stroke=\"#6929c4\" stroke-width=\"1.5\"/><path d=\"m553.18 95.157c1.1986 0 2.3482-0.4762 3.1958-1.3237 0.84753-0.84753 1.3237-1.9972 1.3237-3.1958s-0.4762-2.3482-1.3237-3.1958c-0.84753-0.84753-1.9972-1.3237-3.1958-1.3237s-2.3482 0.4762-3.1958 1.3237c-0.84753 0.84753-1.3237 1.9972-1.3237 3.1958s0.4762 2.3482 1.3237 3.1958c0.84753 0.84753 1.9972 1.3237 3.1958 1.3237z\" clip-path=\"url(#p22789b5c7d)\" fill=\"#1192e8\" stroke=\"#1192e8\" stroke-width=\"1.5\"/><path d=\"m553.18 147.54c2.7967 0 5.4792-1.1111 7.4568-3.0887 1.9776-1.9776 3.0887-4.6601 3.0887-7.4568 0-2.7967-1.1111-5.4792-3.0887-7.4568-1.9776-1.9776-4.6601-3.0887-7.4568-3.0887s-5.4792 1.1111-7.4568 3.0887c-1.9776 1.9776-3.0887 4.6601-3.0887 7.4568 0 2.7967 1.1111 5.4792 3.0887 7.4568 1.9776 1.9776 4.6601 3.0887 7.4568 3.0887z\" clip-path=\"url(#p22789b5c7d)\" fill=\"#1192e8\" stroke=\"#1192e8\" stroke-width=\"2\"/><path d=\"m645.89 141.51c1.1986 0 2.3482-0.4762 3.1958-1.3237 0.84753-0.84753 1.3237-1.9972 1.3237-3.1958 0-1.1986-0.4762-2.3482-1.3237-3.1958-0.84753-0.84753-1.9972-1.3237-3.1958-1.3237-1.1986 0-2.3482 0.4762-3.1958 1.3237-0.84753 0.84753-1.3237 1.9972-1.3237 3.1958 0 1.1986 0.4762 2.3482 1.3237 3.1958s1.9972 1.3237 3.1958 1.3237z\" clip-path=\"url(#p22789b5c7d)\" fill=\"#1192e8\" stroke=\"#1192e8\" stroke-width=\"1.5\"/><path d=\"m645.89 193.89c2.7967 0 5.4792-1.1111 7.4568-3.0887 1.9776-1.9776 3.0887-4.6601 3.0887-7.4568 0-2.7967-1.1111-5.4792-3.0887-7.4568-1.9776-1.9776-4.6601-3.0887-7.4568-3.0887-2.7967 0-5.4792 1.1111-7.4568 3.0887-1.9776 1.9776-3.0887 4.6601-3.0887 7.4568 0 2.7967 1.1111 5.4792 3.0887 7.4568 1.9776 1.9776 4.6601 3.0887 7.4568 3.0887z\" clip-path=\"url(#p22789b5c7d)\" fill=\"#1192e8\" stroke=\"#1192e8\" stroke-width=\"2\"/><path d=\"m677.18 198.41h30.13v-30.13h-30.13z\" clip-path=\"url(#p22789b5c7d)\" fill=\"#6929c4\" stroke=\"#6929c4\" stroke-width=\"1.5\"/><path d=\"m738.6 141.51c1.1986 0 2.3482-0.4762 3.1958-1.3237s1.3237-1.9972 1.3237-3.1958c0-1.1986-0.4762-2.3482-1.3237-3.1958-0.84753-0.84753-1.9972-1.3237-3.1958-1.3237-1.1986 0-2.3482 0.4762-3.1958 1.3237-0.84753 0.84753-1.3237 1.9972-1.3237 3.1958 0 1.1986 0.4762 2.3482 1.3237 3.1958s1.9972 1.3237 3.1958 1.3237z\" clip-path=\"url(#p22789b5c7d)\" fill=\"#1192e8\" stroke=\"#1192e8\" stroke-width=\"1.5\"/><path d=\"m738.6 193.89c2.7967 0 5.4792-1.1111 7.4568-3.0887 1.9776-1.9776 3.0887-4.6601 3.0887-7.4568 0-2.7967-1.1111-5.4792-3.0887-7.4568-1.9776-1.9776-4.6601-3.0887-7.4568-3.0887-2.7967 0-5.4792 1.1111-7.4568 3.0887-1.9776 1.9776-3.0887 4.6601-3.0887 7.4568 0 2.7967 1.1111 5.4792 3.0887 7.4568 1.9776 1.9776 4.6601 3.0887 7.4568 3.0887z\" clip-path=\"url(#p22789b5c7d)\" fill=\"#1192e8\" stroke=\"#1192e8\" stroke-width=\"2\"/><g clip-path=\"url(#p22789b5c7d)\"><g transform=\"translate(37.301 48.734) scale(.1625 -.1625)\"><defs><path id=\"DejaVuSans-Oblique-71\" transform=\"scale(.015625)\" d=\"m2669 525q-231-303-546-460-314-156-695-156-531 0-833 358-301 358-301 986 0 506 186 978t533 847q225 244 517 375t614 131q387 0 637-153t363-462l100 525h578l-934-4813h-579l360 1844zm-1778 813q0-463 193-705 194-242 560-242 544 0 928 520t384 1264q0 450-199 689-198 239-569 239-272 0-504-127-231-126-403-370-181-256-286-600-104-343-104-668z\"/><path id=\"DejaVuSans-30\" transform=\"scale(.015625)\" d=\"m2034 4250q-487 0-733-480-245-479-245-1442 0-959 245-1439 246-480 733-480 491 0 736 480 246 480 246 1439 0 963-246 1442-245 480-736 480zm0 500q785 0 1199-621 414-620 414-1801 0-1178-414-1799-414-620-1199-620-784 0-1198 620-414 621-414 1799 0 1181 414 1801 414 621 1198 621z\"/></defs><use xlink:href=\"#DejaVuSans-Oblique-71\"/><use transform=\"translate(63.477 -16.406) scale(.7)\" xlink:href=\"#DejaVuSans-30\"/></g></g><g clip-path=\"url(#p22789b5c7d)\"><g transform=\"translate(37.301 95.088) scale(.1625 -.1625)\"><defs><path id=\"DejaVuSans-31\" transform=\"scale(.015625)\" d=\"m794 531h1031v3560l-1122-225v575l1116 225h631v-4135h1031v-531h-2687v531z\"/></defs><use xlink:href=\"#DejaVuSans-Oblique-71\"/><use transform=\"translate(63.477 -16.406) scale(.7)\" xlink:href=\"#DejaVuSans-31\"/></g></g><g clip-path=\"url(#p22789b5c7d)\"><g transform=\"translate(37.301 141.44) scale(.1625 -.1625)\"><defs><path id=\"DejaVuSans-32\" transform=\"scale(.015625)\" d=\"m1228 531h2203v-531h-2962v531q359 372 979 998 621 627 780 809 303 340 423 576 121 236 121 464 0 372-261 606-261 235-680 235-297 0-627-103-329-103-704-313v638q381 153 712 231 332 78 607 78 725 0 1156-363 431-362 431-968 0-288-108-546-107-257-392-607-78-91-497-524-418-433-1181-1211z\"/></defs><use xlink:href=\"#DejaVuSans-Oblique-71\"/><use transform=\"translate(63.477 -16.406) scale(.7)\" xlink:href=\"#DejaVuSans-32\"/></g></g><g clip-path=\"url(#p22789b5c7d)\"><g transform=\"translate(37.301 187.8) scale(.1625 -.1625)\"><defs><path id=\"DejaVuSans-33\" transform=\"scale(.015625)\" d=\"m2597 2516q453-97 707-404 255-306 255-756 0-690-475-1069-475-378-1350-378-293 0-604 58t-642 174v609q262-153 574-231 313-78 654-78 593 0 904 234t311 681q0 413-289 645-289 233-804 233h-544v519h569q465 0 712 186t247 536q0 359-255 551-254 193-729 193-260 0-557-57-297-56-653-174v562q360 100 674 150t592 50q719 0 1137-327 419-326 419-882 0-388-222-655t-631-370z\"/></defs><use xlink:href=\"#DejaVuSans-Oblique-71\"/><use transform=\"translate(63.477 -16.406) scale(.7)\" xlink:href=\"#DejaVuSans-33\"/></g></g><path d=\"m89.64 96.663v-12.052\" clip-path=\"url(#p22789b5c7d)\" fill=\"none\" stroke=\"#ffffff\" stroke-linecap=\"square\" stroke-width=\"2\"/><path d=\"m83.614 90.637h12.052\" clip-path=\"url(#p22789b5c7d)\" fill=\"none\" stroke=\"#ffffff\" stroke-linecap=\"square\" stroke-width=\"2\"/><g clip-path=\"url(#p22789b5c7d)\"><g transform=\"translate(129.07 101.87) scale(.08 -.08)\" fill=\"#ffffff\"><defs><path id=\"DejaVuSans-2a\" transform=\"scale(.015625)\" d=\"m3009 3897-1121-606 1121-610-181-306-1050 634v-1178h-356v1178l-1050-634-181 306 1122 610-1122 606 181 309 1050-634v1178h356v-1178l1050 634 181-309z\"/><path id=\"DejaVuSans-Oblique-3b3\" transform=\"scale(.015625)\" d=\"m1491 2950 347-2162 1618 2712h610l-2094-3500-259-1331h-575l259 1331-409 2613q-63 393-360 393h-153l94 494h219q615 0 703-550z\"/></defs><use transform=\"translate(0 .78125)\" xlink:href=\"#DejaVuSans-32\"/><use transform=\"translate(63.623 .78125)\" xlink:href=\"#DejaVuSans-2a\"/><use transform=\"translate(113.62 .78125)\" xlink:href=\"#DejaVuSans-Oblique-3b3\"/></g></g><g clip-path=\"url(#p22789b5c7d)\"><g transform=\"translate(128.06 89.705) scale(.13 -.13)\" fill=\"#ffffff\"><defs><path id=\"DejaVuSans-52\" transform=\"scale(.015625)\" d=\"m2841 2188q203-69 395-294t386-619l641-1275h-679l-596 1197q-232 469-449 622t-592 153h-688v-1972h-631v4666h1425q800 0 1194-335 394-334 394-1009 0-441-205-732-205-290-595-402zm-1582 1959v-1656h794q456 0 689 211t233 620-233 617-689 208h-794z\"/><path id=\"DejaVuSans-5a\" transform=\"scale(.015625)\" d=\"m359 4666h3666v-482l-2950-3653h3022v-531h-3809v481l2950 3653h-2879v532z\"/></defs><use transform=\"translate(0 .09375)\" xlink:href=\"#DejaVuSans-52\"/><use transform=\"translate(70.439 -16.312) scale(.7)\" xlink:href=\"#DejaVuSans-5a\"/></g></g><path d=\"m182.35 96.663v-12.052\" clip-path=\"url(#p22789b5c7d)\" fill=\"none\" stroke=\"#ffffff\" stroke-linecap=\"square\" stroke-width=\"2\"/><path d=\"m176.32 90.637h12.052\" clip-path=\"url(#p22789b5c7d)\" fill=\"none\" stroke=\"#ffffff\" stroke-linecap=\"square\" stroke-width=\"2\"/><path d=\"m228.7 21.106v46.354\" clip-path=\"url(#p22789b5c7d)\" fill=\"none\" stroke=\"#000000\" stroke-dasharray=\"3.7,1.6\"/><path d=\"m228.7 67.46v46.354\" clip-path=\"url(#p22789b5c7d)\" fill=\"none\" stroke=\"#000000\" stroke-dasharray=\"3.7,1.6\"/><path d=\"m228.7 113.81v46.354\" clip-path=\"url(#p22789b5c7d)\" fill=\"none\" stroke=\"#000000\" stroke-dasharray=\"3.7,1.6\"/><path d=\"m228.7 160.17v46.354\" clip-path=\"url(#p22789b5c7d)\" fill=\"none\" stroke=\"#000000\" stroke-dasharray=\"3.7,1.6\"/><path d=\"m275.06 189.37v-12.052\" clip-path=\"url(#p22789b5c7d)\" fill=\"none\" stroke=\"#ffffff\" stroke-linecap=\"square\" stroke-width=\"2\"/><path d=\"m269.03 183.35h12.052\" clip-path=\"url(#p22789b5c7d)\" fill=\"none\" stroke=\"#ffffff\" stroke-linecap=\"square\" stroke-width=\"2\"/><g clip-path=\"url(#p22789b5c7d)\"><g transform=\"translate(314.49 194.58) scale(.08 -.08)\" fill=\"#ffffff\"><use transform=\"translate(0 .78125)\" xlink:href=\"#DejaVuSans-32\"/><use transform=\"translate(63.623 .78125)\" xlink:href=\"#DejaVuSans-2a\"/><use transform=\"translate(113.62 .78125)\" xlink:href=\"#DejaVuSans-Oblique-3b3\"/></g></g><g clip-path=\"url(#p22789b5c7d)\"><g transform=\"translate(313.48 182.41) scale(.13 -.13)\" fill=\"#ffffff\"><use transform=\"translate(0 .09375)\" xlink:href=\"#DejaVuSans-52\"/><use transform=\"translate(70.439 -16.312) scale(.7)\" xlink:href=\"#DejaVuSans-5a\"/></g></g><path d=\"m367.76 189.37v-12.052\" clip-path=\"url(#p22789b5c7d)\" fill=\"none\" stroke=\"#ffffff\" stroke-linecap=\"square\" stroke-width=\"2\"/><path d=\"m361.74 183.35h12.052\" clip-path=\"url(#p22789b5c7d)\" fill=\"none\" stroke=\"#ffffff\" stroke-linecap=\"square\" stroke-width=\"2\"/><path d=\"m414.12 21.106v46.354\" clip-path=\"url(#p22789b5c7d)\" fill=\"none\" stroke=\"#000000\" stroke-dasharray=\"3.7,1.6\"/><path d=\"m414.12 67.46v46.354\" clip-path=\"url(#p22789b5c7d)\" fill=\"none\" stroke=\"#000000\" stroke-dasharray=\"3.7,1.6\"/><path d=\"m414.12 113.81v46.354\" clip-path=\"url(#p22789b5c7d)\" fill=\"none\" stroke=\"#000000\" stroke-dasharray=\"3.7,1.6\"/><path d=\"m414.12 160.17v46.354\" clip-path=\"url(#p22789b5c7d)\" fill=\"none\" stroke=\"#000000\" stroke-dasharray=\"3.7,1.6\"/><path d=\"m460.47 143.02v-12.052\" clip-path=\"url(#p22789b5c7d)\" fill=\"none\" stroke=\"#ffffff\" stroke-linecap=\"square\" stroke-width=\"2\"/><path d=\"m454.45 136.99h12.052\" clip-path=\"url(#p22789b5c7d)\" fill=\"none\" stroke=\"#ffffff\" stroke-linecap=\"square\" stroke-width=\"2\"/><g clip-path=\"url(#p22789b5c7d)\"><g transform=\"translate(499.91 148.22) scale(.08 -.08)\" fill=\"#ffffff\"><use transform=\"translate(0 .78125)\" xlink:href=\"#DejaVuSans-32\"/><use transform=\"translate(63.623 .78125)\" xlink:href=\"#DejaVuSans-2a\"/><use transform=\"translate(113.62 .78125)\" xlink:href=\"#DejaVuSans-Oblique-3b3\"/></g></g><g clip-path=\"url(#p22789b5c7d)\"><g transform=\"translate(498.9 136.06) scale(.13 -.13)\" fill=\"#ffffff\"><use transform=\"translate(0 .09375)\" xlink:href=\"#DejaVuSans-52\"/><use transform=\"translate(70.439 -16.312) scale(.7)\" xlink:href=\"#DejaVuSans-5a\"/></g></g><path d=\"m553.18 143.02v-12.052\" clip-path=\"url(#p22789b5c7d)\" fill=\"none\" stroke=\"#ffffff\" stroke-linecap=\"square\" stroke-width=\"2\"/><path d=\"m547.15 136.99h12.052\" clip-path=\"url(#p22789b5c7d)\" fill=\"none\" stroke=\"#ffffff\" stroke-linecap=\"square\" stroke-width=\"2\"/><path d=\"m599.53 21.106v46.354\" clip-path=\"url(#p22789b5c7d)\" fill=\"none\" stroke=\"#000000\" stroke-dasharray=\"3.7,1.6\"/><path d=\"m599.53 67.46v46.354\" clip-path=\"url(#p22789b5c7d)\" fill=\"none\" stroke=\"#000000\" stroke-dasharray=\"3.7,1.6\"/><path d=\"m599.53 113.81v46.354\" clip-path=\"url(#p22789b5c7d)\" fill=\"none\" stroke=\"#000000\" stroke-dasharray=\"3.7,1.6\"/><path d=\"m599.53 160.17v46.354\" clip-path=\"url(#p22789b5c7d)\" fill=\"none\" stroke=\"#000000\" stroke-dasharray=\"3.7,1.6\"/><path d=\"m645.89 189.37v-12.052\" clip-path=\"url(#p22789b5c7d)\" fill=\"none\" stroke=\"#ffffff\" stroke-linecap=\"square\" stroke-width=\"2\"/><path d=\"m639.86 183.35h12.052\" clip-path=\"url(#p22789b5c7d)\" fill=\"none\" stroke=\"#ffffff\" stroke-linecap=\"square\" stroke-width=\"2\"/><g clip-path=\"url(#p22789b5c7d)\"><g transform=\"translate(685.32 194.58) scale(.08 -.08)\" fill=\"#ffffff\"><use transform=\"translate(0 .78125)\" xlink:href=\"#DejaVuSans-32\"/><use transform=\"translate(63.623 .78125)\" xlink:href=\"#DejaVuSans-2a\"/><use transform=\"translate(113.62 .78125)\" xlink:href=\"#DejaVuSans-Oblique-3b3\"/></g></g><g clip-path=\"url(#p22789b5c7d)\"><g transform=\"translate(684.31 182.41) scale(.13 -.13)\" fill=\"#ffffff\"><use transform=\"translate(0 .09375)\" xlink:href=\"#DejaVuSans-52\"/><use transform=\"translate(70.439 -16.312) scale(.7)\" xlink:href=\"#DejaVuSans-5a\"/></g></g><path d=\"m738.6 189.37v-12.052\" clip-path=\"url(#p22789b5c7d)\" fill=\"none\" stroke=\"#ffffff\" stroke-linecap=\"square\" stroke-width=\"2\"/><path d=\"m732.57 183.35h12.052\" clip-path=\"url(#p22789b5c7d)\" fill=\"none\" stroke=\"#ffffff\" stroke-linecap=\"square\" stroke-width=\"2\"/><path d=\"m784.95 21.106v46.354\" clip-path=\"url(#p22789b5c7d)\" fill=\"none\" stroke=\"#000000\" stroke-dasharray=\"3.7,1.6\"/><path d=\"m784.95 67.46v46.354\" clip-path=\"url(#p22789b5c7d)\" fill=\"none\" stroke=\"#000000\" stroke-dasharray=\"3.7,1.6\"/><path d=\"m784.95 113.81v46.354\" clip-path=\"url(#p22789b5c7d)\" fill=\"none\" stroke=\"#000000\" stroke-dasharray=\"3.7,1.6\"/><path d=\"m784.95 160.17v46.354\" clip-path=\"url(#p22789b5c7d)\" fill=\"none\" stroke=\"#000000\" stroke-dasharray=\"3.7,1.6\"/><defs><clipPath id=\"p22789b5c7d\"><rect x=\"7.2\" y=\"7.2\" width=\"808.34\" height=\"203.96\"/></clipPath></defs></svg>"
            ],
            "text/plain": [
              "<Figure size 1458.05x367.889 with 1 Axes>"
            ]
          },
          "execution_count": 3,
          "metadata": {
          },
          "output_type": "execute_result"
        }
      ],
      "source": [
        "gamma = Parameter(\"$\\\\gamma$\")\n",
        "qc_p = QuantumCircuit(N_QUBITS)\n",
        "for pair in list(graph.edges()):  # pairs of nodes\n",
        "    qc_p.rzz(2 * gamma, pair[0], pair[1])\n",
        "    qc_p.barrier()\n",
        "\n",
        "qc_p.decompose().draw()"
      ]
    },
    {
      "cell_type": "markdown",
      "metadata": {
      },
      "source": [
        "### 시작 상태\n",
        "\n",
        "QAOA에서는 대개 모든 기저 상태의 균일한 중첩 상태를 시작 상태로 사용합니다.\n",
        "\n",
        "```\n",
        "$$\\lvert \\psi_0 \\rangle = \\bigg(\\frac{1}{\\sqrt{2}}\\big(\\lvert 0 \\rangle + \\lvert 1 \\rangle\\big)\\bigg)^{\\otimes n}$$\n",
        "```\n",
        "\n",
        "모든 기저 상태의 균일한 중첩 상태를 만들기 위해서는 아래 회로와 같이 전부 0인 상태에서 하다마드 게이트를 적용하면 됩니다. "
      ]
    },
    {
      "cell_type": "code",
      "execution_count": 4,
      "metadata": {
      },
      "outputs": [
        {
          "data": {
            "image/svg+xml": [
              "<?xml version=\"1.0\" encoding=\"UTF-8\"?><!DOCTYPE svg  PUBLIC '-//W3C//DTD SVG 1.1//EN'  'http://www.w3.org/Graphics/SVG/1.1/DTD/svg11.dtd'><svg width=\"127.43pt\" height=\"218.36pt\" version=\"1.1\" viewBox=\"0 0 127.43 218.36\" xmlns=\"http://www.w3.org/2000/svg\" xmlns:xlink=\"http://www.w3.org/1999/xlink\"><defs><style type=\"text/css\">*{stroke-linejoin: round; stroke-linecap: butt}</style></defs><path d=\"m0 218.36h127.43v-218.36h-127.43z\" fill=\"#ffffff\"/><path d=\"m64.609 44.283h50.989\" clip-path=\"url(#p87dc5e1ab9)\" fill=\"none\" stroke=\"#000000\" stroke-linecap=\"square\" stroke-width=\"2\"/><path d=\"m64.609 90.637h50.989\" clip-path=\"url(#p87dc5e1ab9)\" fill=\"none\" stroke=\"#000000\" stroke-linecap=\"square\" stroke-width=\"2\"/><path d=\"m64.609 136.99h50.989\" clip-path=\"url(#p87dc5e1ab9)\" fill=\"none\" stroke=\"#000000\" stroke-linecap=\"square\" stroke-width=\"2\"/><path d=\"m64.609 183.35h50.989\" clip-path=\"url(#p87dc5e1ab9)\" fill=\"none\" stroke=\"#000000\" stroke-linecap=\"square\" stroke-width=\"2\"/><path d=\"m74.575 59.348h30.13v-30.13h-30.13z\" clip-path=\"url(#p87dc5e1ab9)\" fill=\"#1192e8\" stroke=\"#1192e8\" stroke-width=\"1.5\"/><path d=\"m74.575 105.7h30.13v-30.13h-30.13z\" clip-path=\"url(#p87dc5e1ab9)\" fill=\"#1192e8\" stroke=\"#1192e8\" stroke-width=\"1.5\"/><path d=\"m74.575 152.06h30.13v-30.13h-30.13z\" clip-path=\"url(#p87dc5e1ab9)\" fill=\"#1192e8\" stroke=\"#1192e8\" stroke-width=\"1.5\"/><path d=\"m74.575 198.41h30.13v-30.13h-30.13z\" clip-path=\"url(#p87dc5e1ab9)\" fill=\"#1192e8\" stroke=\"#1192e8\" stroke-width=\"1.5\"/><g clip-path=\"url(#p87dc5e1ab9)\"><g transform=\"translate(37.301 48.734) scale(.1625 -.1625)\"><defs><path id=\"DejaVuSans-Oblique-71\" transform=\"scale(.015625)\" d=\"m2669 525q-231-303-546-460-314-156-695-156-531 0-833 358-301 358-301 986 0 506 186 978t533 847q225 244 517 375t614 131q387 0 637-153t363-462l100 525h578l-934-4813h-579l360 1844zm-1778 813q0-463 193-705 194-242 560-242 544 0 928 520t384 1264q0 450-199 689-198 239-569 239-272 0-504-127-231-126-403-370-181-256-286-600-104-343-104-668z\"/><path id=\"DejaVuSans-30\" transform=\"scale(.015625)\" d=\"m2034 4250q-487 0-733-480-245-479-245-1442 0-959 245-1439 246-480 733-480 491 0 736 480 246 480 246 1439 0 963-246 1442-245 480-736 480zm0 500q785 0 1199-621 414-620 414-1801 0-1178-414-1799-414-620-1199-620-784 0-1198 620-414 621-414 1799 0 1181 414 1801 414 621 1198 621z\"/></defs><use xlink:href=\"#DejaVuSans-Oblique-71\"/><use transform=\"translate(63.477 -16.406) scale(.7)\" xlink:href=\"#DejaVuSans-30\"/></g></g><g clip-path=\"url(#p87dc5e1ab9)\"><g transform=\"translate(37.301 95.088) scale(.1625 -.1625)\"><defs><path id=\"DejaVuSans-31\" transform=\"scale(.015625)\" d=\"m794 531h1031v3560l-1122-225v575l1116 225h631v-4135h1031v-531h-2687v531z\"/></defs><use xlink:href=\"#DejaVuSans-Oblique-71\"/><use transform=\"translate(63.477 -16.406) scale(.7)\" xlink:href=\"#DejaVuSans-31\"/></g></g><g clip-path=\"url(#p87dc5e1ab9)\"><g transform=\"translate(37.301 141.44) scale(.1625 -.1625)\"><defs><path id=\"DejaVuSans-32\" transform=\"scale(.015625)\" d=\"m1228 531h2203v-531h-2962v531q359 372 979 998 621 627 780 809 303 340 423 576 121 236 121 464 0 372-261 606-261 235-680 235-297 0-627-103-329-103-704-313v638q381 153 712 231 332 78 607 78 725 0 1156-363 431-362 431-968 0-288-108-546-107-257-392-607-78-91-497-524-418-433-1181-1211z\"/></defs><use xlink:href=\"#DejaVuSans-Oblique-71\"/><use transform=\"translate(63.477 -16.406) scale(.7)\" xlink:href=\"#DejaVuSans-32\"/></g></g><g clip-path=\"url(#p87dc5e1ab9)\"><g transform=\"translate(37.301 187.8) scale(.1625 -.1625)\"><defs><path id=\"DejaVuSans-33\" transform=\"scale(.015625)\" d=\"m2597 2516q453-97 707-404 255-306 255-756 0-690-475-1069-475-378-1350-378-293 0-604 58t-642 174v609q262-153 574-231 313-78 654-78 593 0 904 234t311 681q0 413-289 645-289 233-804 233h-544v519h569q465 0 712 186t247 536q0 359-255 551-254 193-729 193-260 0-557-57-297-56-653-174v562q360 100 674 150t592 50q719 0 1137-327 419-326 419-882 0-388-222-655t-631-370z\"/></defs><use xlink:href=\"#DejaVuSans-Oblique-71\"/><use transform=\"translate(63.477 -16.406) scale(.7)\" xlink:href=\"#DejaVuSans-33\"/></g></g><g clip-path=\"url(#p87dc5e1ab9)\"><g transform=\"translate(84.752 47.87) scale(.13 -.13)\" fill=\"#ffffff\"><defs><path id=\"DejaVuSans-48\" transform=\"scale(.015625)\" d=\"m628 4666h631v-1913h2294v1913h631v-4666h-631v2222h-2294v-2222h-631v4666z\"/></defs><use xlink:href=\"#DejaVuSans-48\"/></g></g><g clip-path=\"url(#p87dc5e1ab9)\"><g transform=\"translate(84.752 94.224) scale(.13 -.13)\" fill=\"#ffffff\"><use xlink:href=\"#DejaVuSans-48\"/></g></g><g clip-path=\"url(#p87dc5e1ab9)\"><g transform=\"translate(84.752 140.58) scale(.13 -.13)\" fill=\"#ffffff\"><use xlink:href=\"#DejaVuSans-48\"/></g></g><g clip-path=\"url(#p87dc5e1ab9)\"><g transform=\"translate(84.752 186.93) scale(.13 -.13)\" fill=\"#ffffff\"><use xlink:href=\"#DejaVuSans-48\"/></g></g><defs><clipPath id=\"p87dc5e1ab9\"><rect x=\"7.2\" y=\"7.2\" width=\"113.03\" height=\"203.96\"/></clipPath></defs></svg>"
            ],
            "text/plain": [
              "<Figure size 203.885x367.889 with 1 Axes>"
            ]
          },
          "execution_count": 4,
          "metadata": {
          },
          "output_type": "execute_result"
        }
      ],
      "source": [
        "qc_0 = QuantumCircuit(N_QUBITS)\n",
        "for i in range(N_QUBITS):\n",
        "    qc_0.h(i)\n",
        "\n",
        "qc_0.draw()"
      ]
    },
    {
      "cell_type": "markdown",
      "metadata": {
      },
      "source": [
        "### QAOA 회로\n",
        "\n",
        "지금까지 우리는 QAOA에서 양자 상태를 준비하는 것이 다음의 세 단계로 이루어져 있음을 배웠습니다.\n",
        "\n",
        "- 시작 상태 준비하기\n",
        "- 문제 해밀토니안에 해당하는 유니타리 행렬 `{latex} U(H_P) = e^{-i \\gamma H_P}` 적용하기\n",
        "- 혼합 유니타리 행렬 `{latex} U(H_B) = e^{-i \\beta H_B}` 적용하기\n",
        "\n",
        "이 과정을 위 예제에 적용하면 이렇게 됩니다."
      ]
    },
    {
      "cell_type": "code",
      "execution_count": 5,
      "metadata": {
      },
      "outputs": [
        {
          "data": {
            "image/svg+xml": [
              "<?xml version=\"1.0\" encoding=\"UTF-8\"?><!DOCTYPE svg  PUBLIC '-//W3C//DTD SVG 1.1//EN'  'http://www.w3.org/Graphics/SVG/1.1/DTD/svg11.dtd'><svg width=\"915.45pt\" height=\"218.36pt\" version=\"1.1\" viewBox=\"0 0 915.45 218.36\" xmlns=\"http://www.w3.org/2000/svg\" xmlns:xlink=\"http://www.w3.org/1999/xlink\"><defs><style type=\"text/css\">*{stroke-linejoin: round; stroke-linecap: butt}</style></defs><path d=\"m0 218.36h915.45v-218.36h-915.45z\" fill=\"#ffffff\"/><path d=\"m64.609 44.283h839.01\" clip-path=\"url(#pd6274460c1)\" fill=\"none\" stroke=\"#000000\" stroke-linecap=\"square\" stroke-width=\"2\"/><path d=\"m64.609 90.637h839.01\" clip-path=\"url(#pd6274460c1)\" fill=\"none\" stroke=\"#000000\" stroke-linecap=\"square\" stroke-width=\"2\"/><path d=\"m64.609 136.99h839.01\" clip-path=\"url(#pd6274460c1)\" fill=\"none\" stroke=\"#000000\" stroke-linecap=\"square\" stroke-width=\"2\"/><path d=\"m64.609 183.35h839.01\" clip-path=\"url(#pd6274460c1)\" fill=\"none\" stroke=\"#000000\" stroke-linecap=\"square\" stroke-width=\"2\"/><path d=\"m135.99 90.637v-46.354\" clip-path=\"url(#pd6274460c1)\" fill=\"none\" stroke=\"#1192e8\" stroke-linecap=\"square\" stroke-width=\"2\"/><path d=\"m228.7 90.637v-46.354\" clip-path=\"url(#pd6274460c1)\" fill=\"none\" stroke=\"#1192e8\" stroke-linecap=\"square\" stroke-width=\"2\"/><path d=\"m266.02 67.46h18.078v-46.354h-18.078z\" clip-path=\"url(#pd6274460c1)\" fill=\"#bdbdbd\" opacity=\".6\"/><path d=\"m266.02 113.81h18.078v-46.354h-18.078z\" clip-path=\"url(#pd6274460c1)\" fill=\"#bdbdbd\" opacity=\".6\"/><path d=\"m266.02 160.17h18.078v-46.354h-18.078z\" clip-path=\"url(#pd6274460c1)\" fill=\"#bdbdbd\" opacity=\".6\"/><path d=\"m266.02 206.52h18.078v-46.354h-18.078z\" clip-path=\"url(#pd6274460c1)\" fill=\"#bdbdbd\" opacity=\".6\"/><path d=\"m321.41 183.35v-139.06\" clip-path=\"url(#pd6274460c1)\" fill=\"none\" stroke=\"#1192e8\" stroke-linecap=\"square\" stroke-width=\"2\"/><path d=\"m414.12 183.35v-139.06\" clip-path=\"url(#pd6274460c1)\" fill=\"none\" stroke=\"#1192e8\" stroke-linecap=\"square\" stroke-width=\"2\"/><path d=\"m451.43 67.46h18.078v-46.354h-18.078z\" clip-path=\"url(#pd6274460c1)\" fill=\"#bdbdbd\" opacity=\".6\"/><path d=\"m451.43 113.81h18.078v-46.354h-18.078z\" clip-path=\"url(#pd6274460c1)\" fill=\"#bdbdbd\" opacity=\".6\"/><path d=\"m451.43 160.17h18.078v-46.354h-18.078z\" clip-path=\"url(#pd6274460c1)\" fill=\"#bdbdbd\" opacity=\".6\"/><path d=\"m451.43 206.52h18.078v-46.354h-18.078z\" clip-path=\"url(#pd6274460c1)\" fill=\"#bdbdbd\" opacity=\".6\"/><path d=\"m506.83 136.99v-46.354\" clip-path=\"url(#pd6274460c1)\" fill=\"none\" stroke=\"#1192e8\" stroke-linecap=\"square\" stroke-width=\"2\"/><path d=\"m599.53 136.99v-46.354\" clip-path=\"url(#pd6274460c1)\" fill=\"none\" stroke=\"#1192e8\" stroke-linecap=\"square\" stroke-width=\"2\"/><path d=\"m636.85 67.46h18.078v-46.354h-18.078z\" clip-path=\"url(#pd6274460c1)\" fill=\"#bdbdbd\" opacity=\".6\"/><path d=\"m636.85 113.81h18.078v-46.354h-18.078z\" clip-path=\"url(#pd6274460c1)\" fill=\"#bdbdbd\" opacity=\".6\"/><path d=\"m636.85 160.17h18.078v-46.354h-18.078z\" clip-path=\"url(#pd6274460c1)\" fill=\"#bdbdbd\" opacity=\".6\"/><path d=\"m636.85 206.52h18.078v-46.354h-18.078z\" clip-path=\"url(#pd6274460c1)\" fill=\"#bdbdbd\" opacity=\".6\"/><path d=\"m692.24 183.35v-46.354\" clip-path=\"url(#pd6274460c1)\" fill=\"none\" stroke=\"#1192e8\" stroke-linecap=\"square\" stroke-width=\"2\"/><path d=\"m784.95 183.35v-46.354\" clip-path=\"url(#pd6274460c1)\" fill=\"none\" stroke=\"#1192e8\" stroke-linecap=\"square\" stroke-width=\"2\"/><path d=\"m822.27 67.46h18.078v-46.354h-18.078z\" clip-path=\"url(#pd6274460c1)\" fill=\"#bdbdbd\" opacity=\".6\"/><path d=\"m822.27 113.81h18.078v-46.354h-18.078z\" clip-path=\"url(#pd6274460c1)\" fill=\"#bdbdbd\" opacity=\".6\"/><path d=\"m822.27 160.17h18.078v-46.354h-18.078z\" clip-path=\"url(#pd6274460c1)\" fill=\"#bdbdbd\" opacity=\".6\"/><path d=\"m822.27 206.52h18.078v-46.354h-18.078z\" clip-path=\"url(#pd6274460c1)\" fill=\"#bdbdbd\" opacity=\".6\"/><path d=\"m74.575 59.348h30.13v-30.13h-30.13z\" clip-path=\"url(#pd6274460c1)\" fill=\"#9f1853\" stroke=\"#9f1853\" stroke-width=\"1.5\"/><path d=\"m74.575 105.7h30.13v-30.13h-30.13z\" clip-path=\"url(#pd6274460c1)\" fill=\"#9f1853\" stroke=\"#9f1853\" stroke-width=\"1.5\"/><path d=\"m74.575 152.06h30.13v-30.13h-30.13z\" clip-path=\"url(#pd6274460c1)\" fill=\"#9f1853\" stroke=\"#9f1853\" stroke-width=\"1.5\"/><path d=\"m74.575 198.41h30.13v-30.13h-30.13z\" clip-path=\"url(#pd6274460c1)\" fill=\"#9f1853\" stroke=\"#9f1853\" stroke-width=\"1.5\"/><path d=\"m135.99 48.803c1.1986 0 2.3482-0.4762 3.1958-1.3237 0.84753-0.84753 1.3237-1.9972 1.3237-3.1958 0-1.1986-0.4762-2.3482-1.3237-3.1958-0.84753-0.84753-1.9972-1.3237-3.1958-1.3237-1.1986 0-2.3482 0.4762-3.1958 1.3237s-1.3237 1.9972-1.3237 3.1958c0 1.1986 0.4762 2.3482 1.3237 3.1958s1.9972 1.3237 3.1958 1.3237z\" clip-path=\"url(#pd6274460c1)\" fill=\"#1192e8\" stroke=\"#1192e8\" stroke-width=\"1.5\"/><path d=\"m135.99 101.18c2.7967 0 5.4792-1.1111 7.4568-3.0887 1.9776-1.9776 3.0887-4.6601 3.0887-7.4568 0-2.7967-1.1111-5.4792-3.0887-7.4568-1.9776-1.9776-4.6601-3.0887-7.4568-3.0887-2.7967 0-5.4792 1.1111-7.4568 3.0887-1.9776 1.9776-3.0887 4.6601-3.0887 7.4568 0 2.7967 1.1111 5.4792 3.0887 7.4568 1.9776 1.9776 4.6601 3.0887 7.4568 3.0887z\" clip-path=\"url(#pd6274460c1)\" fill=\"#1192e8\" stroke=\"#1192e8\" stroke-width=\"2\"/><path d=\"m167.28 105.7h30.13v-30.13h-30.13z\" clip-path=\"url(#pd6274460c1)\" fill=\"#6929c4\" stroke=\"#6929c4\" stroke-width=\"1.5\"/><path d=\"m228.7 48.803c1.1986 0 2.3482-0.4762 3.1958-1.3237s1.3237-1.9972 1.3237-3.1958c0-1.1986-0.4762-2.3482-1.3237-3.1958s-1.9972-1.3237-3.1958-1.3237c-1.1986 0-2.3482 0.4762-3.1958 1.3237-0.84753 0.84753-1.3237 1.9972-1.3237 3.1958 0 1.1986 0.4762 2.3482 1.3237 3.1958 0.84753 0.84753 1.9972 1.3237 3.1958 1.3237z\" clip-path=\"url(#pd6274460c1)\" fill=\"#1192e8\" stroke=\"#1192e8\" stroke-width=\"1.5\"/><path d=\"m228.7 101.18c2.7967 0 5.4792-1.1111 7.4568-3.0887 1.9776-1.9776 3.0887-4.6601 3.0887-7.4568 0-2.7967-1.1111-5.4792-3.0887-7.4568-1.9776-1.9776-4.6601-3.0887-7.4568-3.0887-2.7967 0-5.4792 1.1111-7.4568 3.0887-1.9776 1.9776-3.0887 4.6601-3.0887 7.4568 0 2.7967 1.1111 5.4792 3.0887 7.4568 1.9776 1.9776 4.6601 3.0887 7.4568 3.0887z\" clip-path=\"url(#pd6274460c1)\" fill=\"#1192e8\" stroke=\"#1192e8\" stroke-width=\"2\"/><path d=\"m321.41 48.803c1.1986 0 2.3482-0.4762 3.1958-1.3237 0.84753-0.84753 1.3237-1.9972 1.3237-3.1958 0-1.1986-0.4762-2.3482-1.3237-3.1958-0.84753-0.84753-1.9972-1.3237-3.1958-1.3237s-2.3482 0.4762-3.1958 1.3237c-0.84753 0.84753-1.3237 1.9972-1.3237 3.1958 0 1.1986 0.4762 2.3482 1.3237 3.1958 0.84753 0.84753 1.9972 1.3237 3.1958 1.3237z\" clip-path=\"url(#pd6274460c1)\" fill=\"#1192e8\" stroke=\"#1192e8\" stroke-width=\"1.5\"/><path d=\"m321.41 193.89c2.7967 0 5.4792-1.1111 7.4568-3.0887 1.9776-1.9776 3.0887-4.6601 3.0887-7.4568 0-2.7967-1.1111-5.4792-3.0887-7.4568-1.9776-1.9776-4.6601-3.0887-7.4568-3.0887-2.7967 0-5.4792 1.1111-7.4568 3.0887-1.9776 1.9776-3.0887 4.6601-3.0887 7.4568 0 2.7967 1.1111 5.4792 3.0887 7.4568 1.9776 1.9776 4.6601 3.0887 7.4568 3.0887z\" clip-path=\"url(#pd6274460c1)\" fill=\"#1192e8\" stroke=\"#1192e8\" stroke-width=\"2\"/><path d=\"m352.7 198.41h30.13v-30.13h-30.13z\" clip-path=\"url(#pd6274460c1)\" fill=\"#6929c4\" stroke=\"#6929c4\" stroke-width=\"1.5\"/><path d=\"m414.12 48.803c1.1986 0 2.3482-0.4762 3.1958-1.3237 0.84753-0.84753 1.3237-1.9972 1.3237-3.1958 0-1.1986-0.4762-2.3482-1.3237-3.1958-0.84753-0.84753-1.9972-1.3237-3.1958-1.3237-1.1986 0-2.3482 0.4762-3.1958 1.3237s-1.3237 1.9972-1.3237 3.1958c0 1.1986 0.4762 2.3482 1.3237 3.1958s1.9972 1.3237 3.1958 1.3237z\" clip-path=\"url(#pd6274460c1)\" fill=\"#1192e8\" stroke=\"#1192e8\" stroke-width=\"1.5\"/><path d=\"m414.12 193.89c2.7967 0 5.4792-1.1111 7.4568-3.0887 1.9776-1.9776 3.0887-4.6601 3.0887-7.4568 0-2.7967-1.1111-5.4792-3.0887-7.4568-1.9776-1.9776-4.6601-3.0887-7.4568-3.0887-2.7967 0-5.4792 1.1111-7.4568 3.0887-1.9776 1.9776-3.0887 4.6601-3.0887 7.4568 0 2.7967 1.1111 5.4792 3.0887 7.4568 1.9776 1.9776 4.6601 3.0887 7.4568 3.0887z\" clip-path=\"url(#pd6274460c1)\" fill=\"#1192e8\" stroke=\"#1192e8\" stroke-width=\"2\"/><path d=\"m506.83 95.157c1.1986 0 2.3482-0.4762 3.1958-1.3237 0.84753-0.84753 1.3237-1.9972 1.3237-3.1958s-0.4762-2.3482-1.3237-3.1958c-0.84753-0.84753-1.9972-1.3237-3.1958-1.3237-1.1986 0-2.3482 0.4762-3.1958 1.3237-0.84753 0.84753-1.3237 1.9972-1.3237 3.1958s0.4762 2.3482 1.3237 3.1958c0.84753 0.84753 1.9972 1.3237 3.1958 1.3237z\" clip-path=\"url(#pd6274460c1)\" fill=\"#1192e8\" stroke=\"#1192e8\" stroke-width=\"1.5\"/><path d=\"m506.83 147.54c2.7967 0 5.4792-1.1111 7.4568-3.0887 1.9776-1.9776 3.0887-4.6601 3.0887-7.4568 0-2.7967-1.1111-5.4792-3.0887-7.4568-1.9776-1.9776-4.6601-3.0887-7.4568-3.0887-2.7967 0-5.4792 1.1111-7.4568 3.0887-1.9776 1.9776-3.0887 4.6601-3.0887 7.4568 0 2.7967 1.1111 5.4792 3.0887 7.4568 1.9776 1.9776 4.6601 3.0887 7.4568 3.0887z\" clip-path=\"url(#pd6274460c1)\" fill=\"#1192e8\" stroke=\"#1192e8\" stroke-width=\"2\"/><path d=\"m538.12 152.06h30.13v-30.13h-30.13z\" clip-path=\"url(#pd6274460c1)\" fill=\"#6929c4\" stroke=\"#6929c4\" stroke-width=\"1.5\"/><path d=\"m599.53 95.157c1.1986 0 2.3482-0.4762 3.1958-1.3237 0.84753-0.84753 1.3237-1.9972 1.3237-3.1958s-0.4762-2.3482-1.3237-3.1958c-0.84753-0.84753-1.9972-1.3237-3.1958-1.3237-1.1986 0-2.3482 0.4762-3.1958 1.3237-0.84753 0.84753-1.3237 1.9972-1.3237 3.1958s0.4762 2.3482 1.3237 3.1958c0.84753 0.84753 1.9972 1.3237 3.1958 1.3237z\" clip-path=\"url(#pd6274460c1)\" fill=\"#1192e8\" stroke=\"#1192e8\" stroke-width=\"1.5\"/><path d=\"m599.53 147.54c2.7967 0 5.4792-1.1111 7.4568-3.0887 1.9776-1.9776 3.0887-4.6601 3.0887-7.4568 0-2.7967-1.1111-5.4792-3.0887-7.4568-1.9776-1.9776-4.6601-3.0887-7.4568-3.0887-2.7967 0-5.4792 1.1111-7.4568 3.0887-1.9776 1.9776-3.0887 4.6601-3.0887 7.4568 0 2.7967 1.1111 5.4792 3.0887 7.4568 1.9776 1.9776 4.6601 3.0887 7.4568 3.0887z\" clip-path=\"url(#pd6274460c1)\" fill=\"#1192e8\" stroke=\"#1192e8\" stroke-width=\"2\"/><path d=\"m692.24 141.51c1.1986 0 2.3482-0.4762 3.1958-1.3237 0.84753-0.84753 1.3237-1.9972 1.3237-3.1958 0-1.1986-0.4762-2.3482-1.3237-3.1958-0.84753-0.84753-1.9972-1.3237-3.1958-1.3237s-2.3482 0.4762-3.1958 1.3237c-0.84753 0.84753-1.3237 1.9972-1.3237 3.1958 0 1.1986 0.4762 2.3482 1.3237 3.1958 0.84753 0.84753 1.9972 1.3237 3.1958 1.3237z\" clip-path=\"url(#pd6274460c1)\" fill=\"#1192e8\" stroke=\"#1192e8\" stroke-width=\"1.5\"/><path d=\"m692.24 193.89c2.7967 0 5.4792-1.1111 7.4568-3.0887 1.9776-1.9776 3.0887-4.6601 3.0887-7.4568 0-2.7967-1.1111-5.4792-3.0887-7.4568-1.9776-1.9776-4.6601-3.0887-7.4568-3.0887-2.7967 0-5.4792 1.1111-7.4568 3.0887-1.9776 1.9776-3.0887 4.6601-3.0887 7.4568 0 2.7967 1.1111 5.4792 3.0887 7.4568 1.9776 1.9776 4.6601 3.0887 7.4568 3.0887z\" clip-path=\"url(#pd6274460c1)\" fill=\"#1192e8\" stroke=\"#1192e8\" stroke-width=\"2\"/><path d=\"m723.53 198.41h30.13v-30.13h-30.13z\" clip-path=\"url(#pd6274460c1)\" fill=\"#6929c4\" stroke=\"#6929c4\" stroke-width=\"1.5\"/><path d=\"m784.95 141.51c1.1986 0 2.3482-0.4762 3.1958-1.3237 0.84753-0.84753 1.3237-1.9972 1.3237-3.1958 0-1.1986-0.4762-2.3482-1.3237-3.1958-0.84753-0.84753-1.9972-1.3237-3.1958-1.3237s-2.3482 0.4762-3.1958 1.3237c-0.84753 0.84753-1.3237 1.9972-1.3237 3.1958 0 1.1986 0.4762 2.3482 1.3237 3.1958 0.84753 0.84753 1.9972 1.3237 3.1958 1.3237z\" clip-path=\"url(#pd6274460c1)\" fill=\"#1192e8\" stroke=\"#1192e8\" stroke-width=\"1.5\"/><path d=\"m784.95 193.89c2.7967 0 5.4792-1.1111 7.4568-3.0887 1.9776-1.9776 3.0887-4.6601 3.0887-7.4568 0-2.7967-1.1111-5.4792-3.0887-7.4568-1.9776-1.9776-4.6601-3.0887-7.4568-3.0887-2.7967 0-5.4792 1.1111-7.4568 3.0887-1.9776 1.9776-3.0887 4.6601-3.0887 7.4568 0 2.7967 1.1111 5.4792 3.0887 7.4568 1.9776 1.9776 4.6601 3.0887 7.4568 3.0887z\" clip-path=\"url(#pd6274460c1)\" fill=\"#1192e8\" stroke=\"#1192e8\" stroke-width=\"2\"/><path d=\"m862.59 59.348h30.13v-30.13h-30.13z\" clip-path=\"url(#pd6274460c1)\" fill=\"#6929c4\" stroke=\"#6929c4\" stroke-width=\"1.5\"/><path d=\"m862.59 105.7h30.13v-30.13h-30.13z\" clip-path=\"url(#pd6274460c1)\" fill=\"#6929c4\" stroke=\"#6929c4\" stroke-width=\"1.5\"/><path d=\"m862.59 152.06h30.13v-30.13h-30.13z\" clip-path=\"url(#pd6274460c1)\" fill=\"#6929c4\" stroke=\"#6929c4\" stroke-width=\"1.5\"/><path d=\"m862.59 198.41h30.13v-30.13h-30.13z\" clip-path=\"url(#pd6274460c1)\" fill=\"#6929c4\" stroke=\"#6929c4\" stroke-width=\"1.5\"/><g clip-path=\"url(#pd6274460c1)\"><g transform=\"translate(37.301 48.734) scale(.1625 -.1625)\"><defs><path id=\"DejaVuSans-Oblique-71\" transform=\"scale(.015625)\" d=\"m2669 525q-231-303-546-460-314-156-695-156-531 0-833 358-301 358-301 986 0 506 186 978t533 847q225 244 517 375t614 131q387 0 637-153t363-462l100 525h578l-934-4813h-579l360 1844zm-1778 813q0-463 193-705 194-242 560-242 544 0 928 520t384 1264q0 450-199 689-198 239-569 239-272 0-504-127-231-126-403-370-181-256-286-600-104-343-104-668z\"/><path id=\"DejaVuSans-30\" transform=\"scale(.015625)\" d=\"m2034 4250q-487 0-733-480-245-479-245-1442 0-959 245-1439 246-480 733-480 491 0 736 480 246 480 246 1439 0 963-246 1442-245 480-736 480zm0 500q785 0 1199-621 414-620 414-1801 0-1178-414-1799-414-620-1199-620-784 0-1198 620-414 621-414 1799 0 1181 414 1801 414 621 1198 621z\"/></defs><use xlink:href=\"#DejaVuSans-Oblique-71\"/><use transform=\"translate(63.477 -16.406) scale(.7)\" xlink:href=\"#DejaVuSans-30\"/></g></g><g clip-path=\"url(#pd6274460c1)\"><g transform=\"translate(37.301 95.088) scale(.1625 -.1625)\"><defs><path id=\"DejaVuSans-31\" transform=\"scale(.015625)\" d=\"m794 531h1031v3560l-1122-225v575l1116 225h631v-4135h1031v-531h-2687v531z\"/></defs><use xlink:href=\"#DejaVuSans-Oblique-71\"/><use transform=\"translate(63.477 -16.406) scale(.7)\" xlink:href=\"#DejaVuSans-31\"/></g></g><g clip-path=\"url(#pd6274460c1)\"><g transform=\"translate(37.301 141.44) scale(.1625 -.1625)\"><defs><path id=\"DejaVuSans-32\" transform=\"scale(.015625)\" d=\"m1228 531h2203v-531h-2962v531q359 372 979 998 621 627 780 809 303 340 423 576 121 236 121 464 0 372-261 606-261 235-680 235-297 0-627-103-329-103-704-313v638q381 153 712 231 332 78 607 78 725 0 1156-363 431-362 431-968 0-288-108-546-107-257-392-607-78-91-497-524-418-433-1181-1211z\"/></defs><use xlink:href=\"#DejaVuSans-Oblique-71\"/><use transform=\"translate(63.477 -16.406) scale(.7)\" xlink:href=\"#DejaVuSans-32\"/></g></g><g clip-path=\"url(#pd6274460c1)\"><g transform=\"translate(37.301 187.8) scale(.1625 -.1625)\"><defs><path id=\"DejaVuSans-33\" transform=\"scale(.015625)\" d=\"m2597 2516q453-97 707-404 255-306 255-756 0-690-475-1069-475-378-1350-378-293 0-604 58t-642 174v609q262-153 574-231 313-78 654-78 593 0 904 234t311 681q0 413-289 645-289 233-804 233h-544v519h569q465 0 712 186t247 536q0 359-255 551-254 193-729 193-260 0-557-57-297-56-653-174v562q360 100 674 150t592 50q719 0 1137-327 419-326 419-882 0-388-222-655t-631-370z\"/></defs><use xlink:href=\"#DejaVuSans-Oblique-71\"/><use transform=\"translate(63.477 -16.406) scale(.7)\" xlink:href=\"#DejaVuSans-33\"/></g></g><g clip-path=\"url(#pd6274460c1)\"><g transform=\"translate(82.12 55.53) scale(.08 -.08)\" fill=\"#ffffff\"><defs><path id=\"DejaVuSans-2c\" transform=\"scale(.015625)\" d=\"m750 794h659v-538l-512-1e3h-403l256 1e3v538z\"/><path id=\"DejaVuSans-Oblique-3c0\" transform=\"scale(.015625)\" d=\"m584 3500h3354l-113-575h-441l-418-2150q-44-225 15-325 57-97 228-97 47 0 116 10 72 6 94 9l-81-416q-116-40-235-59-122-19-237-19-375 0-478 203-104 207 3 757l406 2087h-1291l-568-2925h-588l569 2925h-447l112 575z\"/></defs><use transform=\"translate(0 .78125)\" xlink:href=\"#DejaVuSans-30\"/><use transform=\"translate(63.623 .78125)\" xlink:href=\"#DejaVuSans-2c\"/><use transform=\"translate(95.41 .78125)\" xlink:href=\"#DejaVuSans-20\"/><use transform=\"translate(127.2 .78125)\" xlink:href=\"#DejaVuSans-Oblique-3c0\"/></g></g><g clip-path=\"url(#pd6274460c1)\"><g transform=\"translate(81.71 43.351) scale(.13 -.13)\" fill=\"#ffffff\"><defs><path id=\"DejaVuSans-55\" transform=\"scale(.015625)\" d=\"m556 4666h635v-2835q0-750 271-1080 272-329 882-329 606 0 878 329 272 330 272 1080v2835h634v-2913q0-912-452-1378-451-466-1332-466-885 0-1337 466-451 466-451 1378v2913z\"/></defs><use transform=\"translate(0 .09375)\" xlink:href=\"#DejaVuSans-55\"/><use transform=\"translate(74.15 -16.312) scale(.7)\" xlink:href=\"#DejaVuSans-32\"/></g></g><g clip-path=\"url(#pd6274460c1)\"><g transform=\"translate(82.12 101.88) scale(.08 -.08)\" fill=\"#ffffff\"><use transform=\"translate(0 .78125)\" xlink:href=\"#DejaVuSans-30\"/><use transform=\"translate(63.623 .78125)\" xlink:href=\"#DejaVuSans-2c\"/><use transform=\"translate(95.41 .78125)\" xlink:href=\"#DejaVuSans-20\"/><use transform=\"translate(127.2 .78125)\" xlink:href=\"#DejaVuSans-Oblique-3c0\"/></g></g><g clip-path=\"url(#pd6274460c1)\"><g transform=\"translate(81.71 89.705) scale(.13 -.13)\" fill=\"#ffffff\"><use transform=\"translate(0 .09375)\" xlink:href=\"#DejaVuSans-55\"/><use transform=\"translate(74.15 -16.312) scale(.7)\" xlink:href=\"#DejaVuSans-32\"/></g></g><g clip-path=\"url(#pd6274460c1)\"><g transform=\"translate(82.12 148.24) scale(.08 -.08)\" fill=\"#ffffff\"><use transform=\"translate(0 .78125)\" xlink:href=\"#DejaVuSans-30\"/><use transform=\"translate(63.623 .78125)\" xlink:href=\"#DejaVuSans-2c\"/><use transform=\"translate(95.41 .78125)\" xlink:href=\"#DejaVuSans-20\"/><use transform=\"translate(127.2 .78125)\" xlink:href=\"#DejaVuSans-Oblique-3c0\"/></g></g><g clip-path=\"url(#pd6274460c1)\"><g transform=\"translate(81.71 136.06) scale(.13 -.13)\" fill=\"#ffffff\"><use transform=\"translate(0 .09375)\" xlink:href=\"#DejaVuSans-55\"/><use transform=\"translate(74.15 -16.312) scale(.7)\" xlink:href=\"#DejaVuSans-32\"/></g></g><g clip-path=\"url(#pd6274460c1)\"><g transform=\"translate(82.12 194.59) scale(.08 -.08)\" fill=\"#ffffff\"><use transform=\"translate(0 .78125)\" xlink:href=\"#DejaVuSans-30\"/><use transform=\"translate(63.623 .78125)\" xlink:href=\"#DejaVuSans-2c\"/><use transform=\"translate(95.41 .78125)\" xlink:href=\"#DejaVuSans-20\"/><use transform=\"translate(127.2 .78125)\" xlink:href=\"#DejaVuSans-Oblique-3c0\"/></g></g><g clip-path=\"url(#pd6274460c1)\"><g transform=\"translate(81.71 182.41) scale(.13 -.13)\" fill=\"#ffffff\"><use transform=\"translate(0 .09375)\" xlink:href=\"#DejaVuSans-55\"/><use transform=\"translate(74.15 -16.312) scale(.7)\" xlink:href=\"#DejaVuSans-32\"/></g></g><path d=\"m135.99 96.663v-12.052\" clip-path=\"url(#pd6274460c1)\" fill=\"none\" stroke=\"#ffffff\" stroke-linecap=\"square\" stroke-width=\"2\"/><path d=\"m129.97 90.637h12.052\" clip-path=\"url(#pd6274460c1)\" fill=\"none\" stroke=\"#ffffff\" stroke-linecap=\"square\" stroke-width=\"2\"/><g clip-path=\"url(#pd6274460c1)\"><g transform=\"translate(175.43 101.87) scale(.08 -.08)\" fill=\"#ffffff\"><defs><path id=\"DejaVuSans-2a\" transform=\"scale(.015625)\" d=\"m3009 3897-1121-606 1121-610-181-306-1050 634v-1178h-356v1178l-1050-634-181 306 1122 610-1122 606 181 309 1050-634v1178h356v-1178l1050 634 181-309z\"/><path id=\"DejaVuSans-Oblique-3b3\" transform=\"scale(.015625)\" d=\"m1491 2950 347-2162 1618 2712h610l-2094-3500-259-1331h-575l259 1331-409 2613q-63 393-360 393h-153l94 494h219q615 0 703-550z\"/></defs><use transform=\"translate(0 .78125)\" xlink:href=\"#DejaVuSans-32\"/><use transform=\"translate(63.623 .78125)\" xlink:href=\"#DejaVuSans-2a\"/><use transform=\"translate(113.62 .78125)\" xlink:href=\"#DejaVuSans-Oblique-3b3\"/></g></g><g clip-path=\"url(#pd6274460c1)\"><g transform=\"translate(174.42 89.705) scale(.13 -.13)\" fill=\"#ffffff\"><defs><path id=\"DejaVuSans-52\" transform=\"scale(.015625)\" d=\"m2841 2188q203-69 395-294t386-619l641-1275h-679l-596 1197q-232 469-449 622t-592 153h-688v-1972h-631v4666h1425q800 0 1194-335 394-334 394-1009 0-441-205-732-205-290-595-402zm-1582 1959v-1656h794q456 0 689 211t233 620-233 617-689 208h-794z\"/><path id=\"DejaVuSans-5a\" transform=\"scale(.015625)\" d=\"m359 4666h3666v-482l-2950-3653h3022v-531h-3809v481l2950 3653h-2879v532z\"/></defs><use transform=\"translate(0 .09375)\" xlink:href=\"#DejaVuSans-52\"/><use transform=\"translate(70.439 -16.312) scale(.7)\" xlink:href=\"#DejaVuSans-5a\"/></g></g><path d=\"m228.7 96.663v-12.052\" clip-path=\"url(#pd6274460c1)\" fill=\"none\" stroke=\"#ffffff\" stroke-linecap=\"square\" stroke-width=\"2\"/><path d=\"m222.68 90.637h12.052\" clip-path=\"url(#pd6274460c1)\" fill=\"none\" stroke=\"#ffffff\" stroke-linecap=\"square\" stroke-width=\"2\"/><path d=\"m275.06 21.106v46.354\" clip-path=\"url(#pd6274460c1)\" fill=\"none\" stroke=\"#000000\" stroke-dasharray=\"3.7,1.6\"/><path d=\"m275.06 67.46v46.354\" clip-path=\"url(#pd6274460c1)\" fill=\"none\" stroke=\"#000000\" stroke-dasharray=\"3.7,1.6\"/><path d=\"m275.06 113.81v46.354\" clip-path=\"url(#pd6274460c1)\" fill=\"none\" stroke=\"#000000\" stroke-dasharray=\"3.7,1.6\"/><path d=\"m275.06 160.17v46.354\" clip-path=\"url(#pd6274460c1)\" fill=\"none\" stroke=\"#000000\" stroke-dasharray=\"3.7,1.6\"/><path d=\"m321.41 189.37v-12.052\" clip-path=\"url(#pd6274460c1)\" fill=\"none\" stroke=\"#ffffff\" stroke-linecap=\"square\" stroke-width=\"2\"/><path d=\"m315.38 183.35h12.052\" clip-path=\"url(#pd6274460c1)\" fill=\"none\" stroke=\"#ffffff\" stroke-linecap=\"square\" stroke-width=\"2\"/><g clip-path=\"url(#pd6274460c1)\"><g transform=\"translate(360.84 194.58) scale(.08 -.08)\" fill=\"#ffffff\"><use transform=\"translate(0 .78125)\" xlink:href=\"#DejaVuSans-32\"/><use transform=\"translate(63.623 .78125)\" xlink:href=\"#DejaVuSans-2a\"/><use transform=\"translate(113.62 .78125)\" xlink:href=\"#DejaVuSans-Oblique-3b3\"/></g></g><g clip-path=\"url(#pd6274460c1)\"><g transform=\"translate(359.83 182.41) scale(.13 -.13)\" fill=\"#ffffff\"><use transform=\"translate(0 .09375)\" xlink:href=\"#DejaVuSans-52\"/><use transform=\"translate(70.439 -16.312) scale(.7)\" xlink:href=\"#DejaVuSans-5a\"/></g></g><path d=\"m414.12 189.37v-12.052\" clip-path=\"url(#pd6274460c1)\" fill=\"none\" stroke=\"#ffffff\" stroke-linecap=\"square\" stroke-width=\"2\"/><path d=\"m408.09 183.35h12.052\" clip-path=\"url(#pd6274460c1)\" fill=\"none\" stroke=\"#ffffff\" stroke-linecap=\"square\" stroke-width=\"2\"/><path d=\"m460.47 21.106v46.354\" clip-path=\"url(#pd6274460c1)\" fill=\"none\" stroke=\"#000000\" stroke-dasharray=\"3.7,1.6\"/><path d=\"m460.47 67.46v46.354\" clip-path=\"url(#pd6274460c1)\" fill=\"none\" stroke=\"#000000\" stroke-dasharray=\"3.7,1.6\"/><path d=\"m460.47 113.81v46.354\" clip-path=\"url(#pd6274460c1)\" fill=\"none\" stroke=\"#000000\" stroke-dasharray=\"3.7,1.6\"/><path d=\"m460.47 160.17v46.354\" clip-path=\"url(#pd6274460c1)\" fill=\"none\" stroke=\"#000000\" stroke-dasharray=\"3.7,1.6\"/><path d=\"m506.83 143.02v-12.052\" clip-path=\"url(#pd6274460c1)\" fill=\"none\" stroke=\"#ffffff\" stroke-linecap=\"square\" stroke-width=\"2\"/><path d=\"m500.8 136.99h12.052\" clip-path=\"url(#pd6274460c1)\" fill=\"none\" stroke=\"#ffffff\" stroke-linecap=\"square\" stroke-width=\"2\"/><g clip-path=\"url(#pd6274460c1)\"><g transform=\"translate(546.26 148.22) scale(.08 -.08)\" fill=\"#ffffff\"><use transform=\"translate(0 .78125)\" xlink:href=\"#DejaVuSans-32\"/><use transform=\"translate(63.623 .78125)\" xlink:href=\"#DejaVuSans-2a\"/><use transform=\"translate(113.62 .78125)\" xlink:href=\"#DejaVuSans-Oblique-3b3\"/></g></g><g clip-path=\"url(#pd6274460c1)\"><g transform=\"translate(545.25 136.06) scale(.13 -.13)\" fill=\"#ffffff\"><use transform=\"translate(0 .09375)\" xlink:href=\"#DejaVuSans-52\"/><use transform=\"translate(70.439 -16.312) scale(.7)\" xlink:href=\"#DejaVuSans-5a\"/></g></g><path d=\"m599.53 143.02v-12.052\" clip-path=\"url(#pd6274460c1)\" fill=\"none\" stroke=\"#ffffff\" stroke-linecap=\"square\" stroke-width=\"2\"/><path d=\"m593.51 136.99h12.052\" clip-path=\"url(#pd6274460c1)\" fill=\"none\" stroke=\"#ffffff\" stroke-linecap=\"square\" stroke-width=\"2\"/><path d=\"m645.89 21.106v46.354\" clip-path=\"url(#pd6274460c1)\" fill=\"none\" stroke=\"#000000\" stroke-dasharray=\"3.7,1.6\"/><path d=\"m645.89 67.46v46.354\" clip-path=\"url(#pd6274460c1)\" fill=\"none\" stroke=\"#000000\" stroke-dasharray=\"3.7,1.6\"/><path d=\"m645.89 113.81v46.354\" clip-path=\"url(#pd6274460c1)\" fill=\"none\" stroke=\"#000000\" stroke-dasharray=\"3.7,1.6\"/><path d=\"m645.89 160.17v46.354\" clip-path=\"url(#pd6274460c1)\" fill=\"none\" stroke=\"#000000\" stroke-dasharray=\"3.7,1.6\"/><path d=\"m692.24 189.37v-12.052\" clip-path=\"url(#pd6274460c1)\" fill=\"none\" stroke=\"#ffffff\" stroke-linecap=\"square\" stroke-width=\"2\"/><path d=\"m686.22 183.35h12.052\" clip-path=\"url(#pd6274460c1)\" fill=\"none\" stroke=\"#ffffff\" stroke-linecap=\"square\" stroke-width=\"2\"/><g clip-path=\"url(#pd6274460c1)\"><g transform=\"translate(731.68 194.58) scale(.08 -.08)\" fill=\"#ffffff\"><use transform=\"translate(0 .78125)\" xlink:href=\"#DejaVuSans-32\"/><use transform=\"translate(63.623 .78125)\" xlink:href=\"#DejaVuSans-2a\"/><use transform=\"translate(113.62 .78125)\" xlink:href=\"#DejaVuSans-Oblique-3b3\"/></g></g><g clip-path=\"url(#pd6274460c1)\"><g transform=\"translate(730.67 182.41) scale(.13 -.13)\" fill=\"#ffffff\"><use transform=\"translate(0 .09375)\" xlink:href=\"#DejaVuSans-52\"/><use transform=\"translate(70.439 -16.312) scale(.7)\" xlink:href=\"#DejaVuSans-5a\"/></g></g><path d=\"m784.95 189.37v-12.052\" clip-path=\"url(#pd6274460c1)\" fill=\"none\" stroke=\"#ffffff\" stroke-linecap=\"square\" stroke-width=\"2\"/><path d=\"m778.92 183.35h12.052\" clip-path=\"url(#pd6274460c1)\" fill=\"none\" stroke=\"#ffffff\" stroke-linecap=\"square\" stroke-width=\"2\"/><path d=\"m831.3 21.106v46.354\" clip-path=\"url(#pd6274460c1)\" fill=\"none\" stroke=\"#000000\" stroke-dasharray=\"3.7,1.6\"/><path d=\"m831.3 67.46v46.354\" clip-path=\"url(#pd6274460c1)\" fill=\"none\" stroke=\"#000000\" stroke-dasharray=\"3.7,1.6\"/><path d=\"m831.3 113.81v46.354\" clip-path=\"url(#pd6274460c1)\" fill=\"none\" stroke=\"#000000\" stroke-dasharray=\"3.7,1.6\"/><path d=\"m831.3 160.17v46.354\" clip-path=\"url(#pd6274460c1)\" fill=\"none\" stroke=\"#000000\" stroke-dasharray=\"3.7,1.6\"/><g clip-path=\"url(#pd6274460c1)\"><g transform=\"translate(865.46 55.562) scale(.08 -.08)\" fill=\"#ffffff\"><defs><path id=\"DejaVuSans-Oblique-3b2\" transform=\"scale(.015625)\" d=\"m872 216-300-1547h-578l934 4809q278 1425 1610 1425 1350 0 1121-1203-156-856-765-1169 819-281 659-1115-281-1485-1794-1482-662 3-887 282zm147 750q240-544 856-541 900 0 1091 981 172 882-1291 813l103 531q1131-19 1328 1e3 135 688-597 684-818 0-1006-975l-484-2493z\"/></defs><use transform=\"translate(0 .39062)\" xlink:href=\"#DejaVuSans-32\"/><use transform=\"translate(63.623 .39062)\" xlink:href=\"#DejaVuSans-2a\"/><use transform=\"translate(113.62 .39062)\" xlink:href=\"#DejaVuSans-Oblique-3b2\"/><use transform=\"translate(177.44 .39062)\" xlink:href=\"#DejaVuSans-2c\"/><use transform=\"translate(209.23 .39062)\" xlink:href=\"#DejaVuSans-20\"/><use transform=\"translate(241.02 .39062)\" xlink:href=\"#DejaVuSans-30\"/></g></g><g clip-path=\"url(#pd6274460c1)\"><g transform=\"translate(873.14 43.351) scale(.13 -.13)\" fill=\"#ffffff\"><use xlink:href=\"#DejaVuSans-52\"/></g></g><g clip-path=\"url(#pd6274460c1)\"><g transform=\"translate(865.46 101.92) scale(.08 -.08)\" fill=\"#ffffff\"><use transform=\"translate(0 .39062)\" xlink:href=\"#DejaVuSans-32\"/><use transform=\"translate(63.623 .39062)\" xlink:href=\"#DejaVuSans-2a\"/><use transform=\"translate(113.62 .39062)\" xlink:href=\"#DejaVuSans-Oblique-3b2\"/><use transform=\"translate(177.44 .39062)\" xlink:href=\"#DejaVuSans-2c\"/><use transform=\"translate(209.23 .39062)\" xlink:href=\"#DejaVuSans-20\"/><use transform=\"translate(241.02 .39062)\" xlink:href=\"#DejaVuSans-30\"/></g></g><g clip-path=\"url(#pd6274460c1)\"><g transform=\"translate(873.14 89.705) scale(.13 -.13)\" fill=\"#ffffff\"><use xlink:href=\"#DejaVuSans-52\"/></g></g><g clip-path=\"url(#pd6274460c1)\"><g transform=\"translate(865.46 148.27) scale(.08 -.08)\" fill=\"#ffffff\"><use transform=\"translate(0 .39062)\" xlink:href=\"#DejaVuSans-32\"/><use transform=\"translate(63.623 .39062)\" xlink:href=\"#DejaVuSans-2a\"/><use transform=\"translate(113.62 .39062)\" xlink:href=\"#DejaVuSans-Oblique-3b2\"/><use transform=\"translate(177.44 .39062)\" xlink:href=\"#DejaVuSans-2c\"/><use transform=\"translate(209.23 .39062)\" xlink:href=\"#DejaVuSans-20\"/><use transform=\"translate(241.02 .39062)\" xlink:href=\"#DejaVuSans-30\"/></g></g><g clip-path=\"url(#pd6274460c1)\"><g transform=\"translate(873.14 136.06) scale(.13 -.13)\" fill=\"#ffffff\"><use xlink:href=\"#DejaVuSans-52\"/></g></g><g clip-path=\"url(#pd6274460c1)\"><g transform=\"translate(865.46 194.62) scale(.08 -.08)\" fill=\"#ffffff\"><use transform=\"translate(0 .39062)\" xlink:href=\"#DejaVuSans-32\"/><use transform=\"translate(63.623 .39062)\" xlink:href=\"#DejaVuSans-2a\"/><use transform=\"translate(113.62 .39062)\" xlink:href=\"#DejaVuSans-Oblique-3b2\"/><use transform=\"translate(177.44 .39062)\" xlink:href=\"#DejaVuSans-2c\"/><use transform=\"translate(209.23 .39062)\" xlink:href=\"#DejaVuSans-20\"/><use transform=\"translate(241.02 .39062)\" xlink:href=\"#DejaVuSans-30\"/></g></g><g clip-path=\"url(#pd6274460c1)\"><g transform=\"translate(873.14 182.41) scale(.13 -.13)\" fill=\"#ffffff\"><use xlink:href=\"#DejaVuSans-52\"/></g></g><defs><clipPath id=\"pd6274460c1\"><rect x=\"7.2\" y=\"7.2\" width=\"901.05\" height=\"203.96\"/></clipPath></defs></svg>"
            ],
            "text/plain": [
              "<Figure size 1625.27x367.889 with 1 Axes>"
            ]
          },
          "execution_count": 5,
          "metadata": {
          },
          "output_type": "execute_result"
        }
      ],
      "source": [
        "qc_qaoa = QuantumCircuit(N_QUBITS)\n",
        "qc_qaoa.append(qc_0, range(N_QUBITS))\n",
        "qc_qaoa.append(qc_p, range(N_QUBITS))\n",
        "qc_qaoa.append(qc_mix, range(N_QUBITS))\n",
        "\n",
        "qc_qaoa.decompose().decompose().draw()"
      ]
    },
    {
      "cell_type": "markdown",
      "metadata": {
      },
      "source": [
        "다음 과정은 아래의 기댓값을 최소화하는 최적의 매개변수 `{latex} (\\boldsymbol{\\beta_{\\text{opt}}}, \\boldsymbol{\\gamma_{\\text{opt}}})` 를 찾는 것입니다.\n",
        "\n",
        "$$ \\langle \\psi(\\boldsymbol{\\beta}_{\\text{opt}}, \\boldsymbol{\\gamma}_{\\text{opt}}) \\rvert H_P \\lvert \n",
        "\\psi(\\boldsymbol{\\beta}_{\\text{opt}}, \\boldsymbol{\\gamma}_{\\text{opt}}) \\rangle $$\n",
        "\n",
        "위와 같은 기댓값은 Z-기저에서 측정함으로써 얻을 수 있습니다. 우리는 최적의 매개변수를 찾기 위해 고전 최적화 알고리즘을 사용하겠습니다. 앞으로의 과정은 아래 개념도로 표현되어 있습니다.\n",
        "\n",
        "<img src=\"images/QAOA_schematic.png\" width=\"400\" height=\"200\" class=\"center\">\n",
        "\n",
        "1. $\\boldsymbol{\\beta}$ 및 $\\boldsymbol{\\gamma}$ 를 적절한 실수 값으로 초기화\n",
        "2. 적절한 수렴 조건이 만족할 때 까지 반복\n",
        "    1. QAOA 회로를 사용하여 $\\lvert \\psi(\\boldsymbol{\\beta}, \\boldsymbol{\\gamma}) \\rangle$ 상태 준비\n",
        "    2. 표준 기저로 상태 측정\n",
        "    3. $ \\langle \\psi(\\boldsymbol{\\beta}, \\boldsymbol{\\gamma}) \\rvert H_P \\lvert \\psi(\\boldsymbol{\\beta}, \\boldsymbol{\\gamma}) \\rangle $ 계산\n",
        "    4. 고전 최적화 알고리즘을 이용하여 새로운 매개변수 집합 `{latex} (\\boldsymbol{\\beta}_{new}, \\boldsymbol{\\gamma}_{new})` 찾기\n",
        "    5. 현재 매개변수$(\\boldsymbol{\\beta}, \\boldsymbol{\\gamma})$를 새로운 매개변수 `{latex} (\\boldsymbol{\\beta}_{new}, \\boldsymbol{\\gamma}_{new})` 로 설정\n",
        "\n",
        "아래 코드는 위에 언급한 단계를 구현한 것입니다."
      ]
    },
    {
      "cell_type": "code",
      "execution_count": 6,
      "metadata": {
      },
      "outputs": [

      ],
      "source": [
        "def maxcut_obj(solution, graph):\n",
        "    \"\"\"Given a bit string as a solution, this function returns\n",
        "    the number of edges shared between the two partitions\n",
        "    of the graph.\n",
        "    Args:\n",
        "        solution: (str) solution bit string\n",
        "        graph: networkx graph\n",
        "    Returns:\n",
        "        obj: (float) Objective\n",
        "    \"\"\"\n",
        "    # pylint: disable=invalid-name\n",
        "    obj = 0\n",
        "    for i, j in graph.edges():\n",
        "        if solution[i] != solution[j]:\n",
        "            obj -= 1\n",
        "    return obj\n",
        "\n",
        "\n",
        "def compute_expectation(counts, graph):\n",
        "    \"\"\"Computes expectation value based on measurement results\n",
        "    Args:\n",
        "        counts: (dict) key as bit string, val as count\n",
        "        graph: networkx graph\n",
        "    Returns:\n",
        "        avg: float\n",
        "             expectation value\n",
        "    \"\"\"\n",
        "    avg = 0\n",
        "    sum_count = 0\n",
        "    for bit_string, count in counts.items():\n",
        "        obj = maxcut_obj(bit_string, graph)\n",
        "        avg += obj * count\n",
        "        sum_count += count\n",
        "    return avg/sum_count\n",
        "\n",
        "\n",
        "# We will also bring the different circuit components that\n",
        "# build the qaoa circuit under a single function\n",
        "def create_qaoa_circ(graph, theta):\n",
        "    \"\"\"Creates a parametrized qaoa circuit\n",
        "    Args:\n",
        "        graph: networkx graph\n",
        "        theta: (list) unitary parameters\n",
        "    Returns:\n",
        "        (QuantumCircuit) qiskit circuit\n",
        "    \"\"\"\n",
        "    nqubits = len(graph.nodes())\n",
        "    n_layers = len(theta)//2  # number of alternating unitaries\n",
        "    beta = theta[:n_layers]\n",
        "    gamma = theta[n_layers:]\n",
        "\n",
        "    qc = QuantumCircuit(nqubits)\n",
        "\n",
        "    # initial_state\n",
        "    qc.h(range(nqubits))\n",
        "\n",
        "    for layer_index in range(n_layers):\n",
        "        # problem unitary\n",
        "        for pair in list(graph.edges()):\n",
        "            qc.rzz(2 * gamma[layer_index], pair[0], pair[1])\n",
        "        # mixer unitary\n",
        "        for qubit in range(nqubits):\n",
        "            qc.rx(2 * beta[layer_index], qubit)\n",
        "\n",
        "    qc.measure_all()\n",
        "    return qc\n",
        "\n",
        "\n",
        "# Finally we write a function that executes the circuit\n",
        "# on the chosen backend\n",
        "def get_expectation(graph, shots=512):\n",
        "    \"\"\"Runs parametrized circuit\n",
        "    Args:\n",
        "        graph: networkx graph\n",
        "    \"\"\"\n",
        "    backend = Aer.get_backend('qasm_simulator')\n",
        "    backend.shots = shots\n",
        "\n",
        "    def execute_circ(theta):\n",
        "        qc = create_qaoa_circ(graph, theta)\n",
        "        counts = backend.run(qc, seed_simulator=10,\n",
        "                             nshots=512).result().get_counts()\n",
        "        return compute_expectation(counts, graph)\n",
        "\n",
        "    return execute_circ"
      ]
    },
    {
      "cell_type": "code",
      "execution_count": 7,
      "metadata": {
      },
      "outputs": [
        {
          "data": {
            "text/plain": [
              "     fun: -2.994140625\n",
              "   maxcv: 0.0\n",
              " message: 'Optimization terminated successfully.'\n",
              "    nfev: 30\n",
              "  status: 1\n",
              " success: True\n",
              "       x: array([1.9793337 , 1.16663483])"
            ]
          },
          "execution_count": 7,
          "metadata": {
          },
          "output_type": "execute_result"
        }
      ],
      "source": [
        "from scipy.optimize import minimize\n",
        "expectation = get_expectation(graph)\n",
        "res = minimize(expectation,\n",
        "               [1.0, 1.0],\n",
        "               method='COBYLA')\n",
        "res"
      ]
    },
    {
      "cell_type": "markdown",
      "metadata": {
      },
      "source": [
        "Qiskit에는 다양한 클래식 옵티마이저가 있습니다. 여기서는 기존 최적화 알고리즘으로 [COBYLA](https://github.com/Qiskit/qiskit-terra/blob/main/qiskit/algorithms/optimizers/cobyla.py) 를 선택합니다."
      ]
    },
    {
      "cell_type": "markdown",
      "metadata": {
      },
      "source": [
        "### 결과 분석"
      ]
    },
    {
      "cell_type": "code",
      "execution_count": 8,
      "metadata": {
        "tags": [

        ]
      },
      "outputs": [
        {
          "data": {
            "image/svg+xml": [
              "<?xml version=\"1.0\" encoding=\"UTF-8\"?><!DOCTYPE svg  PUBLIC '-//W3C//DTD SVG 1.1//EN'  'http://www.w3.org/Graphics/SVG/1.1/DTD/svg11.dtd'><svg width=\"460.72pt\" height=\"336.72pt\" version=\"1.1\" viewBox=\"0 0 460.72 336.72\" xmlns=\"http://www.w3.org/2000/svg\" xmlns:xlink=\"http://www.w3.org/1999/xlink\"><defs><style type=\"text/css\">*{stroke-linejoin: round; stroke-linecap: butt}</style></defs><path d=\"m0 336.72h460.72v-336.72h-460.72z\" fill=\"#ffffff\"/><path d=\"m62.921 284.4h390.6v-277.2h-390.6z\" fill=\"#ffffff\"/><defs><path id=\"mdf3aa2e4e7\" d=\"m0 0v3.5\" stroke=\"#343a3f\" stroke-width=\".8\"/></defs><use x=\"86.403068\" y=\"284.4\" fill=\"#343a3f\" stroke=\"#343a3f\" stroke-width=\".8\" xlink:href=\"#mdf3aa2e4e7\"/><g transform=\"translate(83.94 328.52) rotate(-70) scale(.14 -.14)\" fill=\"#343a3f\"><defs><path id=\"DejaVuSans-30\" transform=\"scale(.015625)\" d=\"m2034 4250q-487 0-733-480-245-479-245-1442 0-959 245-1439 246-480 733-480 491 0 736 480 246 480 246 1439 0 963-246 1442-245 480-736 480zm0 500q785 0 1199-621 414-620 414-1801 0-1178-414-1799-414-620-1199-620-784 0-1198 620-414 621-414 1799 0 1181 414 1801 414 621 1198 621z\"/></defs><use xlink:href=\"#DejaVuSans-30\"/><use x=\"63.623047\" xlink:href=\"#DejaVuSans-30\"/><use x=\"127.246094\" xlink:href=\"#DejaVuSans-30\"/><use x=\"190.869141\" xlink:href=\"#DejaVuSans-30\"/></g><use x=\"109.312159\" y=\"284.4\" fill=\"#343a3f\" stroke=\"#343a3f\" stroke-width=\".8\" xlink:href=\"#mdf3aa2e4e7\"/><g transform=\"translate(106.85 328.52) rotate(-70) scale(.14 -.14)\" fill=\"#343a3f\"><defs><path id=\"DejaVuSans-31\" transform=\"scale(.015625)\" d=\"m794 531h1031v3560l-1122-225v575l1116 225h631v-4135h1031v-531h-2687v531z\"/></defs><use xlink:href=\"#DejaVuSans-30\"/><use x=\"63.623047\" xlink:href=\"#DejaVuSans-30\"/><use x=\"127.246094\" xlink:href=\"#DejaVuSans-30\"/><use x=\"190.869141\" xlink:href=\"#DejaVuSans-31\"/></g><use x=\"132.22125\" y=\"284.4\" fill=\"#343a3f\" stroke=\"#343a3f\" stroke-width=\".8\" xlink:href=\"#mdf3aa2e4e7\"/><g transform=\"translate(129.76 328.52) rotate(-70) scale(.14 -.14)\" fill=\"#343a3f\"><use xlink:href=\"#DejaVuSans-30\"/><use x=\"63.623047\" xlink:href=\"#DejaVuSans-30\"/><use x=\"127.246094\" xlink:href=\"#DejaVuSans-31\"/><use x=\"190.869141\" xlink:href=\"#DejaVuSans-30\"/></g><use x=\"155.130341\" y=\"284.4\" fill=\"#343a3f\" stroke=\"#343a3f\" stroke-width=\".8\" xlink:href=\"#mdf3aa2e4e7\"/><g transform=\"translate(152.67 328.52) rotate(-70) scale(.14 -.14)\" fill=\"#343a3f\"><use xlink:href=\"#DejaVuSans-30\"/><use x=\"63.623047\" xlink:href=\"#DejaVuSans-30\"/><use x=\"127.246094\" xlink:href=\"#DejaVuSans-31\"/><use x=\"190.869141\" xlink:href=\"#DejaVuSans-31\"/></g><use x=\"178.039432\" y=\"284.4\" fill=\"#343a3f\" stroke=\"#343a3f\" stroke-width=\".8\" xlink:href=\"#mdf3aa2e4e7\"/><g transform=\"translate(175.58 328.52) rotate(-70) scale(.14 -.14)\" fill=\"#343a3f\"><use xlink:href=\"#DejaVuSans-30\"/><use x=\"63.623047\" xlink:href=\"#DejaVuSans-31\"/><use x=\"127.246094\" xlink:href=\"#DejaVuSans-30\"/><use x=\"190.869141\" xlink:href=\"#DejaVuSans-30\"/></g><use x=\"200.948523\" y=\"284.4\" fill=\"#343a3f\" stroke=\"#343a3f\" stroke-width=\".8\" xlink:href=\"#mdf3aa2e4e7\"/><g transform=\"translate(198.49 328.52) rotate(-70) scale(.14 -.14)\" fill=\"#343a3f\"><use xlink:href=\"#DejaVuSans-30\"/><use x=\"63.623047\" xlink:href=\"#DejaVuSans-31\"/><use x=\"127.246094\" xlink:href=\"#DejaVuSans-30\"/><use x=\"190.869141\" xlink:href=\"#DejaVuSans-31\"/></g><use x=\"223.857614\" y=\"284.4\" fill=\"#343a3f\" stroke=\"#343a3f\" stroke-width=\".8\" xlink:href=\"#mdf3aa2e4e7\"/><g transform=\"translate(221.39 328.52) rotate(-70) scale(.14 -.14)\" fill=\"#343a3f\"><use xlink:href=\"#DejaVuSans-30\"/><use x=\"63.623047\" xlink:href=\"#DejaVuSans-31\"/><use x=\"127.246094\" xlink:href=\"#DejaVuSans-31\"/><use x=\"190.869141\" xlink:href=\"#DejaVuSans-30\"/></g><use x=\"246.766705\" y=\"284.4\" fill=\"#343a3f\" stroke=\"#343a3f\" stroke-width=\".8\" xlink:href=\"#mdf3aa2e4e7\"/><g transform=\"translate(244.3 328.52) rotate(-70) scale(.14 -.14)\" fill=\"#343a3f\"><use xlink:href=\"#DejaVuSans-30\"/><use x=\"63.623047\" xlink:href=\"#DejaVuSans-31\"/><use x=\"127.246094\" xlink:href=\"#DejaVuSans-31\"/><use x=\"190.869141\" xlink:href=\"#DejaVuSans-31\"/></g><use x=\"269.675795\" y=\"284.4\" fill=\"#343a3f\" stroke=\"#343a3f\" stroke-width=\".8\" xlink:href=\"#mdf3aa2e4e7\"/><g transform=\"translate(267.21 328.52) rotate(-70) scale(.14 -.14)\" fill=\"#343a3f\"><use xlink:href=\"#DejaVuSans-31\"/><use x=\"63.623047\" xlink:href=\"#DejaVuSans-30\"/><use x=\"127.246094\" xlink:href=\"#DejaVuSans-30\"/><use x=\"190.869141\" xlink:href=\"#DejaVuSans-30\"/></g><use x=\"292.584886\" y=\"284.4\" fill=\"#343a3f\" stroke=\"#343a3f\" stroke-width=\".8\" xlink:href=\"#mdf3aa2e4e7\"/><g transform=\"translate(290.12 328.52) rotate(-70) scale(.14 -.14)\" fill=\"#343a3f\"><use xlink:href=\"#DejaVuSans-31\"/><use x=\"63.623047\" xlink:href=\"#DejaVuSans-30\"/><use x=\"127.246094\" xlink:href=\"#DejaVuSans-30\"/><use x=\"190.869141\" xlink:href=\"#DejaVuSans-31\"/></g><use x=\"315.493977\" y=\"284.4\" fill=\"#343a3f\" stroke=\"#343a3f\" stroke-width=\".8\" xlink:href=\"#mdf3aa2e4e7\"/><g transform=\"translate(313.03 328.52) rotate(-70) scale(.14 -.14)\" fill=\"#343a3f\"><use xlink:href=\"#DejaVuSans-31\"/><use x=\"63.623047\" xlink:href=\"#DejaVuSans-30\"/><use x=\"127.246094\" xlink:href=\"#DejaVuSans-31\"/><use x=\"190.869141\" xlink:href=\"#DejaVuSans-30\"/></g><use x=\"338.403068\" y=\"284.4\" fill=\"#343a3f\" stroke=\"#343a3f\" stroke-width=\".8\" xlink:href=\"#mdf3aa2e4e7\"/><g transform=\"translate(335.94 328.52) rotate(-70) scale(.14 -.14)\" fill=\"#343a3f\"><use xlink:href=\"#DejaVuSans-31\"/><use x=\"63.623047\" xlink:href=\"#DejaVuSans-30\"/><use x=\"127.246094\" xlink:href=\"#DejaVuSans-31\"/><use x=\"190.869141\" xlink:href=\"#DejaVuSans-31\"/></g><use x=\"361.312159\" y=\"284.4\" fill=\"#343a3f\" stroke=\"#343a3f\" stroke-width=\".8\" xlink:href=\"#mdf3aa2e4e7\"/><g transform=\"translate(358.85 328.52) rotate(-70) scale(.14 -.14)\" fill=\"#343a3f\"><use xlink:href=\"#DejaVuSans-31\"/><use x=\"63.623047\" xlink:href=\"#DejaVuSans-31\"/><use x=\"127.246094\" xlink:href=\"#DejaVuSans-30\"/><use x=\"190.869141\" xlink:href=\"#DejaVuSans-30\"/></g><use x=\"384.22125\" y=\"284.4\" fill=\"#343a3f\" stroke=\"#343a3f\" stroke-width=\".8\" xlink:href=\"#mdf3aa2e4e7\"/><g transform=\"translate(381.76 328.52) rotate(-70) scale(.14 -.14)\" fill=\"#343a3f\"><use xlink:href=\"#DejaVuSans-31\"/><use x=\"63.623047\" xlink:href=\"#DejaVuSans-31\"/><use x=\"127.246094\" xlink:href=\"#DejaVuSans-30\"/><use x=\"190.869141\" xlink:href=\"#DejaVuSans-31\"/></g><use x=\"407.130341\" y=\"284.4\" fill=\"#343a3f\" stroke=\"#343a3f\" stroke-width=\".8\" xlink:href=\"#mdf3aa2e4e7\"/><g transform=\"translate(404.67 328.52) rotate(-70) scale(.14 -.14)\" fill=\"#343a3f\"><use xlink:href=\"#DejaVuSans-31\"/><use x=\"63.623047\" xlink:href=\"#DejaVuSans-31\"/><use x=\"127.246094\" xlink:href=\"#DejaVuSans-31\"/><use x=\"190.869141\" xlink:href=\"#DejaVuSans-30\"/></g><use x=\"430.039432\" y=\"284.4\" fill=\"#343a3f\" stroke=\"#343a3f\" stroke-width=\".8\" xlink:href=\"#mdf3aa2e4e7\"/><g transform=\"translate(427.58 328.52) rotate(-70) scale(.14 -.14)\" fill=\"#343a3f\"><use xlink:href=\"#DejaVuSans-31\"/><use x=\"63.623047\" xlink:href=\"#DejaVuSans-31\"/><use x=\"127.246094\" xlink:href=\"#DejaVuSans-31\"/><use x=\"190.869141\" xlink:href=\"#DejaVuSans-31\"/></g><path d=\"m62.921 284.4h390.6\" clip-path=\"url(#pb59ad08d21)\" fill=\"none\" stroke=\"#dde1e6\" stroke-dasharray=\"2.96,1.28\" stroke-width=\".8\"/><defs><path id=\"m4b6d912832\" d=\"m0 0h-3.5\" stroke=\"#343a3f\" stroke-width=\".8\"/></defs><use x=\"62.92125\" y=\"284.4\" fill=\"#343a3f\" stroke=\"#343a3f\" stroke-width=\".8\" xlink:href=\"#m4b6d912832\"/><g transform=\"translate(24.749 289.72) scale(.14 -.14)\" fill=\"#343a3f\"><defs><path id=\"DejaVuSans-2e\" transform=\"scale(.015625)\" d=\"m684 794h660v-794h-660v794z\"/></defs><use xlink:href=\"#DejaVuSans-30\"/><use x=\"63.623047\" xlink:href=\"#DejaVuSans-2e\"/><use x=\"95.410156\" xlink:href=\"#DejaVuSans-30\"/><use x=\"159.033203\" xlink:href=\"#DejaVuSans-30\"/></g><path d=\"m62.921 217.06h390.6\" clip-path=\"url(#pb59ad08d21)\" fill=\"none\" stroke=\"#dde1e6\" stroke-dasharray=\"2.96,1.28\" stroke-width=\".8\"/><use x=\"62.92125\" y=\"217.056512\" fill=\"#343a3f\" stroke=\"#343a3f\" stroke-width=\".8\" xlink:href=\"#m4b6d912832\"/><g transform=\"translate(24.749 222.38) scale(.14 -.14)\" fill=\"#343a3f\"><defs><path id=\"DejaVuSans-38\" transform=\"scale(.015625)\" d=\"m2034 2216q-450 0-708-241-257-241-257-662 0-422 257-663 258-241 708-241t709 242q260 243 260 662 0 421-258 662-257 241-711 241zm-631 268q-406 100-633 378-226 279-226 679 0 559 398 884 399 325 1092 325 697 0 1094-325t397-884q0-400-227-679-226-278-629-378 456-106 710-416 255-309 255-755 0-679-414-1042-414-362-1186-362-771 0-1186 362-414 363-414 1042 0 446 256 755 257 310 713 416zm-231 997q0-362 226-565 227-203 636-203 407 0 636 203 230 203 230 565 0 363-230 566-229 203-636 203-409 0-636-203-226-203-226-566z\"/></defs><use xlink:href=\"#DejaVuSans-30\"/><use x=\"63.623047\" xlink:href=\"#DejaVuSans-2e\"/><use x=\"95.410156\" xlink:href=\"#DejaVuSans-30\"/><use x=\"159.033203\" xlink:href=\"#DejaVuSans-38\"/></g><path d=\"m62.921 149.71h390.6\" clip-path=\"url(#pb59ad08d21)\" fill=\"none\" stroke=\"#dde1e6\" stroke-dasharray=\"2.96,1.28\" stroke-width=\".8\"/><use x=\"62.92125\" y=\"149.713025\" fill=\"#343a3f\" stroke=\"#343a3f\" stroke-width=\".8\" xlink:href=\"#m4b6d912832\"/><g transform=\"translate(24.749 155.03) scale(.14 -.14)\" fill=\"#343a3f\"><defs><path id=\"DejaVuSans-36\" transform=\"scale(.015625)\" d=\"m2113 2584q-425 0-674-291-248-290-248-796 0-503 248-796 249-292 674-292t673 292q248 293 248 796 0 506-248 796-248 291-673 291zm1253 1979v-575q-238 112-480 171-242 60-480 60-625 0-955-422-329-422-376-1275 184 272 462 417 279 145 613 145 703 0 1111-427 408-426 408-1160 0-719-425-1154-425-434-1131-434-810 0-1238 620-428 621-428 1799 0 1106 525 1764t1409 658q238 0 480-47t505-140z\"/></defs><use xlink:href=\"#DejaVuSans-30\"/><use x=\"63.623047\" xlink:href=\"#DejaVuSans-2e\"/><use x=\"95.410156\" xlink:href=\"#DejaVuSans-31\"/><use x=\"159.033203\" xlink:href=\"#DejaVuSans-36\"/></g><path d=\"m62.921 82.37h390.6\" clip-path=\"url(#pb59ad08d21)\" fill=\"none\" stroke=\"#dde1e6\" stroke-dasharray=\"2.96,1.28\" stroke-width=\".8\"/><use x=\"62.92125\" y=\"82.369537\" fill=\"#343a3f\" stroke=\"#343a3f\" stroke-width=\".8\" xlink:href=\"#m4b6d912832\"/><g transform=\"translate(24.749 87.688) scale(.14 -.14)\" fill=\"#343a3f\"><defs><path id=\"DejaVuSans-32\" transform=\"scale(.015625)\" d=\"m1228 531h2203v-531h-2962v531q359 372 979 998 621 627 780 809 303 340 423 576 121 236 121 464 0 372-261 606-261 235-680 235-297 0-627-103-329-103-704-313v638q381 153 712 231 332 78 607 78 725 0 1156-363 431-362 431-968 0-288-108-546-107-257-392-607-78-91-497-524-418-433-1181-1211z\"/><path id=\"DejaVuSans-34\" transform=\"scale(.015625)\" d=\"m2419 4116-1594-2491h1594v2491zm-166 550h794v-3041h666v-525h-666v-1100h-628v1100h-2106v609l1940 2957z\"/></defs><use xlink:href=\"#DejaVuSans-30\"/><use x=\"63.623047\" xlink:href=\"#DejaVuSans-2e\"/><use x=\"95.410156\" xlink:href=\"#DejaVuSans-32\"/><use x=\"159.033203\" xlink:href=\"#DejaVuSans-34\"/></g><path d=\"m62.921 15.026h390.6\" clip-path=\"url(#pb59ad08d21)\" fill=\"none\" stroke=\"#dde1e6\" stroke-dasharray=\"2.96,1.28\" stroke-width=\".8\"/><use x=\"62.92125\" y=\"15.02605\" fill=\"#343a3f\" stroke=\"#343a3f\" stroke-width=\".8\" xlink:href=\"#m4b6d912832\"/><g transform=\"translate(24.749 20.345) scale(.14 -.14)\" fill=\"#343a3f\"><defs><path id=\"DejaVuSans-33\" transform=\"scale(.015625)\" d=\"m2597 2516q453-97 707-404 255-306 255-756 0-690-475-1069-475-378-1350-378-293 0-604 58t-642 174v609q262-153 574-231 313-78 654-78 593 0 904 234t311 681q0 413-289 645-289 233-804 233h-544v519h569q465 0 712 186t247 536q0 359-255 551-254 193-729 193-260 0-557-57-297-56-653-174v562q360 100 674 150t592 50q719 0 1137-327 419-326 419-882 0-388-222-655t-631-370z\"/></defs><use xlink:href=\"#DejaVuSans-30\"/><use x=\"63.623047\" xlink:href=\"#DejaVuSans-2e\"/><use x=\"95.410156\" xlink:href=\"#DejaVuSans-33\"/><use x=\"159.033203\" xlink:href=\"#DejaVuSans-32\"/></g><g transform=\"translate(17.838 188.56) rotate(-90) scale(.14 -.14)\" fill=\"#343a3f\"><defs><path id=\"DejaVuSans-50\" transform=\"scale(.015625)\" d=\"m1259 4147v-1753h794q441 0 681 228 241 228 241 650 0 419-241 647-240 228-681 228h-794zm-631 519h1425q785 0 1186-355 402-355 402-1039 0-691-402-1044-401-353-1186-353h-794v-1875h-631v4666z\"/><path id=\"DejaVuSans-72\" transform=\"scale(.015625)\" d=\"m2631 2963q-97 56-211 82-114 27-251 27-488 0-749-317t-261-911v-1844h-578v3500h578v-544q182 319 472 473 291 155 707 155 59 0 131-8 72-7 159-23l3-590z\"/><path id=\"DejaVuSans-6f\" transform=\"scale(.015625)\" d=\"m1959 3097q-462 0-731-361t-269-989 267-989q268-361 733-361 460 0 728 362 269 363 269 988 0 622-269 986-268 364-728 364zm0 487q750 0 1178-488 429-487 429-1349 0-859-429-1349-428-489-1178-489-753 0-1180 489-426 490-426 1349 0 862 426 1349 427 488 1180 488z\"/><path id=\"DejaVuSans-62\" transform=\"scale(.015625)\" d=\"m3116 1747q0 634-261 995t-717 361q-457 0-718-361t-261-995 261-995 718-361q456 0 717 361t261 995zm-1957 1222q182 312 458 463 277 152 661 152 638 0 1036-506 399-506 399-1331t-399-1332q-398-506-1036-506-384 0-661 152-276 152-458 464v-525h-578v4863h578v-1894z\"/><path id=\"DejaVuSans-61\" transform=\"scale(.015625)\" d=\"m2194 1759q-697 0-966-159t-269-544q0-306 202-486 202-179 548-179 479 0 768 339t289 901v128h-572zm1147 238v-1997h-575v531q-197-318-491-470t-719-152q-537 0-855 302-317 302-317 808 0 590 395 890 396 300 1180 300h807v57q0 397-261 614t-733 217q-300 0-585-72-284-72-546-216v532q315 122 612 182 297 61 578 61 760 0 1135-394 375-393 375-1193z\"/><path id=\"DejaVuSans-69\" transform=\"scale(.015625)\" d=\"m603 3500h575v-3500h-575v3500zm0 1363h575v-729h-575v729z\"/><path id=\"DejaVuSans-6c\" transform=\"scale(.015625)\" d=\"m603 4863h575v-4863h-575v4863z\"/><path id=\"DejaVuSans-74\" transform=\"scale(.015625)\" d=\"m1172 4494v-994h1184v-447h-1184v-1900q0-428 117-550t477-122h590v-481h-590q-666 0-919 248-253 249-253 905v1900h-422v447h422v994h578z\"/><path id=\"DejaVuSans-65\" transform=\"scale(.015625)\" d=\"m3597 1894v-281h-2644q38-594 358-905t892-311q331 0 642 81t618 244v-544q-310-131-635-200t-659-69q-838 0-1327 487-489 488-489 1320 0 859 464 1363 464 505 1252 505 706 0 1117-455 411-454 411-1235zm-575 169q-6 471-264 752-258 282-683 282-481 0-770-272t-333-766l2050 4z\"/><path id=\"DejaVuSans-73\" transform=\"scale(.015625)\" d=\"m2834 3397v-544q-243 125-506 187-262 63-544 63-428 0-642-131t-214-394q0-200 153-314t616-217l197-44q612-131 870-370t258-667q0-488-386-773-386-284-1061-284-281 0-586 55t-642 164v594q319-166 628-249 309-82 613-82 406 0 624 139 219 139 219 392 0 234-158 359-157 125-692 241l-200 47q-534 112-772 345-237 233-237 639 0 494 350 762 350 269 994 269 318 0 599-47 282-46 519-140z\"/></defs><use xlink:href=\"#DejaVuSans-50\"/><use x=\"58.552734\" xlink:href=\"#DejaVuSans-72\"/><use x=\"97.416016\" xlink:href=\"#DejaVuSans-6f\"/><use x=\"158.597656\" xlink:href=\"#DejaVuSans-62\"/><use x=\"222.074219\" xlink:href=\"#DejaVuSans-61\"/><use x=\"283.353516\" xlink:href=\"#DejaVuSans-62\"/><use x=\"346.830078\" xlink:href=\"#DejaVuSans-69\"/><use x=\"374.613281\" xlink:href=\"#DejaVuSans-6c\"/><use x=\"402.396484\" xlink:href=\"#DejaVuSans-69\"/><use x=\"430.179688\" xlink:href=\"#DejaVuSans-74\"/><use x=\"469.388672\" xlink:href=\"#DejaVuSans-69\"/><use x=\"497.171875\" xlink:href=\"#DejaVuSans-65\"/><use x=\"558.695312\" xlink:href=\"#DejaVuSans-73\"/></g><path d=\"m80.676 284.4h11.455v-14.797h-11.455z\" clip-path=\"url(#pb59ad08d21)\" fill=\"#648fff\"/><path d=\"m103.58 284.4h11.455v-10.687h-11.455z\" clip-path=\"url(#pb59ad08d21)\" fill=\"#648fff\"/><path d=\"m126.49 284.4h11.455v-9.8648h-11.455z\" clip-path=\"url(#pb59ad08d21)\" fill=\"#648fff\"/><path d=\"m149.4 284.4h11.455v-68.231h-11.455z\" clip-path=\"url(#pb59ad08d21)\" fill=\"#648fff\"/><path d=\"m172.31 284.4h11.455v-7.3986h-11.455z\" clip-path=\"url(#pb59ad08d21)\" fill=\"#648fff\"/><path d=\"m195.22 284.4h11.455v-212.91h-11.455z\" clip-path=\"url(#pb59ad08d21)\" fill=\"#648fff\"/><path d=\"m218.13 284.4h11.455v-65.765h-11.455z\" clip-path=\"url(#pb59ad08d21)\" fill=\"#648fff\"/><path d=\"m241.04 284.4h11.455v-16.441h-11.455z\" clip-path=\"url(#pb59ad08d21)\" fill=\"#648fff\"/><path d=\"m263.95 284.4h11.455v-15.619h-11.455z\" clip-path=\"url(#pb59ad08d21)\" fill=\"#648fff\"/><path d=\"m286.86 284.4h11.455v-64.121h-11.455z\" clip-path=\"url(#pb59ad08d21)\" fill=\"#648fff\"/><path d=\"m309.77 284.4h11.455v-231h-11.455z\" clip-path=\"url(#pb59ad08d21)\" fill=\"#648fff\"/><path d=\"m332.68 284.4h11.455v-9.8648h-11.455z\" clip-path=\"url(#pb59ad08d21)\" fill=\"#648fff\"/><path d=\"m355.58 284.4h11.455v-75.63h-11.455z\" clip-path=\"url(#pb59ad08d21)\" fill=\"#648fff\"/><path d=\"m378.49 284.4h11.455v-14.797h-11.455z\" clip-path=\"url(#pb59ad08d21)\" fill=\"#648fff\"/><path d=\"m401.4 284.4h11.455v-13.975h-11.455z\" clip-path=\"url(#pb59ad08d21)\" fill=\"#648fff\"/><path d=\"m424.31 284.4h11.455v-10.687h-11.455z\" clip-path=\"url(#pb59ad08d21)\" fill=\"#648fff\"/><path d=\"m62.921 284.4v-277.2\" fill=\"none\" stroke=\"#343a3f\" stroke-linecap=\"square\" stroke-width=\".8\"/><path d=\"m62.921 284.4h390.6\" fill=\"none\" stroke=\"#343a3f\" stroke-linecap=\"square\" stroke-width=\".8\"/><g transform=\"translate(72.089 266.78) scale(.1 -.1)\" fill=\"#343a3f\"><use xlink:href=\"#DejaVuSans-30\"/><use x=\"63.623047\" xlink:href=\"#DejaVuSans-2e\"/><use x=\"95.410156\" xlink:href=\"#DejaVuSans-30\"/><use x=\"159.033203\" xlink:href=\"#DejaVuSans-31\"/><use x=\"222.65625\" xlink:href=\"#DejaVuSans-38\"/></g><g transform=\"translate(94.998 271.1) scale(.1 -.1)\" fill=\"#343a3f\"><use xlink:href=\"#DejaVuSans-30\"/><use x=\"63.623047\" xlink:href=\"#DejaVuSans-2e\"/><use x=\"95.410156\" xlink:href=\"#DejaVuSans-30\"/><use x=\"159.033203\" xlink:href=\"#DejaVuSans-31\"/><use x=\"222.65625\" xlink:href=\"#DejaVuSans-33\"/></g><g transform=\"translate(117.91 271.96) scale(.1 -.1)\" fill=\"#343a3f\"><use xlink:href=\"#DejaVuSans-30\"/><use x=\"63.623047\" xlink:href=\"#DejaVuSans-2e\"/><use x=\"95.410156\" xlink:href=\"#DejaVuSans-30\"/><use x=\"159.033203\" xlink:href=\"#DejaVuSans-31\"/><use x=\"222.65625\" xlink:href=\"#DejaVuSans-32\"/></g><g transform=\"translate(140.82 210.68) scale(.1 -.1)\" fill=\"#343a3f\"><use xlink:href=\"#DejaVuSans-30\"/><use x=\"63.623047\" xlink:href=\"#DejaVuSans-2e\"/><use x=\"95.410156\" xlink:href=\"#DejaVuSans-30\"/><use x=\"159.033203\" xlink:href=\"#DejaVuSans-38\"/><use x=\"222.65625\" xlink:href=\"#DejaVuSans-31\"/></g><g transform=\"translate(163.73 274.55) scale(.1 -.1)\" fill=\"#343a3f\"><defs><path id=\"DejaVuSans-39\" transform=\"scale(.015625)\" d=\"m703 97v575q238-113 481-172 244-59 479-59 625 0 954 420 330 420 377 1277-181-269-460-413-278-144-615-144-700 0-1108 423-408 424-408 1159 0 718 425 1152 425 435 1131 435 810 0 1236-621 427-620 427-1801 0-1103-524-1761-523-658-1407-658-238 0-482 47-243 47-506 141zm1256 1978q425 0 673 290 249 291 249 798 0 503-249 795-248 292-673 292t-673-292-248-795q0-507 248-798 248-290 673-290z\"/></defs><use xlink:href=\"#DejaVuSans-30\"/><use x=\"63.623047\" xlink:href=\"#DejaVuSans-2e\"/><use x=\"95.410156\" xlink:href=\"#DejaVuSans-30\"/><use x=\"159.033203\" xlink:href=\"#DejaVuSans-30\"/><use x=\"222.65625\" xlink:href=\"#DejaVuSans-39\"/></g><g transform=\"translate(186.63 58.76) scale(.1 -.1)\" fill=\"#343a3f\"><defs><path id=\"DejaVuSans-35\" transform=\"scale(.015625)\" d=\"m691 4666h2478v-532h-1900v-1143q137 47 274 70 138 23 276 23 781 0 1237-428 457-428 457-1159 0-753-469-1171-469-417-1322-417-294 0-599 50-304 50-629 150v635q281-153 581-228t634-75q541 0 856 284 316 284 316 772 0 487-316 771-315 285-856 285-253 0-505-56-251-56-513-175v2344z\"/></defs><use xlink:href=\"#DejaVuSans-30\"/><use x=\"63.623047\" xlink:href=\"#DejaVuSans-2e\"/><use x=\"95.410156\" xlink:href=\"#DejaVuSans-32\"/><use x=\"159.033203\" xlink:href=\"#DejaVuSans-35\"/><use x=\"222.65625\" xlink:href=\"#DejaVuSans-33\"/></g><g transform=\"translate(209.54 213.27) scale(.1 -.1)\" fill=\"#343a3f\"><defs><path id=\"DejaVuSans-37\" transform=\"scale(.015625)\" d=\"m525 4666h3e3v-269l-1694-4397h-659l1594 4134h-2241v532z\"/></defs><use xlink:href=\"#DejaVuSans-30\"/><use x=\"63.623047\" xlink:href=\"#DejaVuSans-2e\"/><use x=\"95.410156\" xlink:href=\"#DejaVuSans-30\"/><use x=\"159.033203\" xlink:href=\"#DejaVuSans-37\"/><use x=\"222.65625\" xlink:href=\"#DejaVuSans-38\"/></g><g transform=\"translate(232.45 265.06) scale(.1 -.1)\" fill=\"#343a3f\"><use xlink:href=\"#DejaVuSans-30\"/><use x=\"63.623047\" xlink:href=\"#DejaVuSans-2e\"/><use x=\"95.410156\" xlink:href=\"#DejaVuSans-30\"/><use x=\"159.033203\" xlink:href=\"#DejaVuSans-32\"/><use x=\"222.65625\" xlink:href=\"#DejaVuSans-30\"/></g><g transform=\"translate(255.36 265.92) scale(.1 -.1)\" fill=\"#343a3f\"><use xlink:href=\"#DejaVuSans-30\"/><use x=\"63.623047\" xlink:href=\"#DejaVuSans-2e\"/><use x=\"95.410156\" xlink:href=\"#DejaVuSans-30\"/><use x=\"159.033203\" xlink:href=\"#DejaVuSans-31\"/><use x=\"222.65625\" xlink:href=\"#DejaVuSans-39\"/></g><g transform=\"translate(278.27 214.99) scale(.1 -.1)\" fill=\"#343a3f\"><use xlink:href=\"#DejaVuSans-30\"/><use x=\"63.623047\" xlink:href=\"#DejaVuSans-2e\"/><use x=\"95.410156\" xlink:href=\"#DejaVuSans-30\"/><use x=\"159.033203\" xlink:href=\"#DejaVuSans-37\"/><use x=\"222.65625\" xlink:href=\"#DejaVuSans-36\"/></g><g transform=\"translate(301.18 39.77) scale(.1 -.1)\" fill=\"#343a3f\"><use xlink:href=\"#DejaVuSans-30\"/><use x=\"63.623047\" xlink:href=\"#DejaVuSans-2e\"/><use x=\"95.410156\" xlink:href=\"#DejaVuSans-32\"/><use x=\"159.033203\" xlink:href=\"#DejaVuSans-37\"/><use x=\"222.65625\" xlink:href=\"#DejaVuSans-34\"/></g><g transform=\"translate(324.09 271.96) scale(.1 -.1)\" fill=\"#343a3f\"><use xlink:href=\"#DejaVuSans-30\"/><use x=\"63.623047\" xlink:href=\"#DejaVuSans-2e\"/><use x=\"95.410156\" xlink:href=\"#DejaVuSans-30\"/><use x=\"159.033203\" xlink:href=\"#DejaVuSans-31\"/><use x=\"222.65625\" xlink:href=\"#DejaVuSans-32\"/></g><g transform=\"translate(347 202.91) scale(.1 -.1)\" fill=\"#343a3f\"><use xlink:href=\"#DejaVuSans-30\"/><use x=\"63.623047\" xlink:href=\"#DejaVuSans-2e\"/><use x=\"95.410156\" xlink:href=\"#DejaVuSans-30\"/><use x=\"159.033203\" xlink:href=\"#DejaVuSans-39\"/><use x=\"222.65625\" xlink:href=\"#DejaVuSans-30\"/></g><g transform=\"translate(369.91 266.78) scale(.1 -.1)\" fill=\"#343a3f\"><use xlink:href=\"#DejaVuSans-30\"/><use x=\"63.623047\" xlink:href=\"#DejaVuSans-2e\"/><use x=\"95.410156\" xlink:href=\"#DejaVuSans-30\"/><use x=\"159.033203\" xlink:href=\"#DejaVuSans-31\"/><use x=\"222.65625\" xlink:href=\"#DejaVuSans-38\"/></g><g transform=\"translate(392.82 267.65) scale(.1 -.1)\" fill=\"#343a3f\"><use xlink:href=\"#DejaVuSans-30\"/><use x=\"63.623047\" xlink:href=\"#DejaVuSans-2e\"/><use x=\"95.410156\" xlink:href=\"#DejaVuSans-30\"/><use x=\"159.033203\" xlink:href=\"#DejaVuSans-31\"/><use x=\"222.65625\" xlink:href=\"#DejaVuSans-37\"/></g><g transform=\"translate(415.73 271.1) scale(.1 -.1)\" fill=\"#343a3f\"><use xlink:href=\"#DejaVuSans-30\"/><use x=\"63.623047\" xlink:href=\"#DejaVuSans-2e\"/><use x=\"95.410156\" xlink:href=\"#DejaVuSans-30\"/><use x=\"159.033203\" xlink:href=\"#DejaVuSans-31\"/><use x=\"222.65625\" xlink:href=\"#DejaVuSans-33\"/></g><defs><clipPath id=\"pb59ad08d21\"><rect x=\"62.921\" y=\"7.2\" width=\"390.6\" height=\"277.2\"/></clipPath></defs></svg>"
            ],
            "text/plain": [
              "<Figure size 700x500 with 1 Axes>"
            ]
          },
          "execution_count": 8,
          "metadata": {
          },
          "output_type": "execute_result"
        }
      ],
      "source": [
        "backend = Aer.get_backend('aer_simulator')\n",
        "backend.shots = 512\n",
        "\n",
        "from qiskit.visualization import plot_histogram\n",
        "qc_res = create_qaoa_circ(graph, res.x)\n",
        "counts = backend.run(qc_res, seed_simulator=10).result().get_counts()\n",
        "plot_histogram(counts)"
      ]
    },
    {
      "cell_type": "markdown",
      "metadata": {
      },
      "source": [
        "비트열 \"0101\" 및 \"1010\"이 가장 높은 확률을 가지며 실제로 두 묶음 사이에 4개의 간선이 있는 그래프의 할당임을 알 수 있습니다. "
      ]
    },
    {
      "cell_type": "markdown",
      "metadata": {
      },
      "source": [
        "## 부록"
      ]
    },
    {
      "cell_type": "markdown",
      "metadata": {
      },
      "source": [
        "### 1. 문제 해밀토니안 만들기<a id=\"Constructing Hamiltonian\"></a>\n",
        "\n",
        "모든 최대화 문제는 최소화 문제로 나타낼 수 있으며, 그 반대도 유효합니다. 따라서 조합 최적화 문제의 일반적인 형태는 다음과 같습니다.\n",
        "\n",
        "$$ \\text{maximize } \\;\\;      C(x)$$\n",
        "\n",
        "$$ \\text{subject to } \\;\\; x \\in S $$\n",
        "\n",
        "여기서 $x \\in S$는 이산 변수이고 $C : D \\rightarrow \\mathbb{R}$는 일부 도메인 $S$에서 실수 $\\mathbb{R}$로 매핑되는 비용 함수입니다. 변수 $x$는 제약조건을 따를 수 있으며 가능한 점들의 집합 $S \\subset D$ 안에 있습니다.\n",
        "\n",
        "이진 조합 최적화 문제에서 비용 함수 $C$는 일반적으로 문자열 $x \\in {0,1}^n$ 에 있는 $n$ 비트의 부분집합 $Q \\subset[n]$만 포함하는 항의 합으로 표현할 수 있으며 다음과 같은 정규형(canonical form)으로 쓸 수 있습니다.\n",
        "\n",
        "$$ C(x) = \\sum_{(Q,\\overline{Q}) \\subset [n]} w_{(Q,\\overline{Q})} \\; \\prod_{i\\in Q} x_i \\; \\prod_{j\\in \\overline{Q}} (1- x_j), $$\n",
        "\n",
        "여기서 $x_i \\in {0,1}$ 와 $w_{(Q,\\overline{Q})}\\in \\mathbb{R}$ 입니다. $C(x)$가 최대로 되는 n 비트열 $x$를 찾고자 합니다."
      ]
    },
    {
      "cell_type": "markdown",
      "metadata": {
      },
      "source": [
        "#### 1.1 대각 해밀토니안\n",
        "\n",
        "이 비용함수는 계산 기저에서 대각인 헤밀토니안으로 매핑할 수 있습니다. 비용함수 $C$에 대한 헤밀토니안은 다음과 같이 쓸 수 있습니다.\n",
        "\n",
        "$$ H = \\sum_{x \\in \\{0,1\\}^n} C(x) |x \\rangle\\langle x| $$\n",
        "\n",
        "여기서 $x \\in {0,1}^n$은 계산 기저 상태 $|x \\rangle \\in \\mathbb{C}^{2^n}$에 라벨을 붙입니다(??). 비용 함수가 최대 가중치 $k$ 항만 갖는 경우 즉, 최대 $Q \\leq k$ 비트를 포함하는 $Q$만 기여하는 경우 이 대각 헤밀토니안은 또한 가중치 $k$ 파울리 Z 연산자의 합일 뿐입니다.\n",
        "\n",
        "파울리 $Z$ 연산자로 $H$를 확장하는 것은 모든 이진 변수 $x_i \\in {0,1}$ 행렬 `{latex} x_i \\rightarrow 2^{-1}(1 - Z_i)`를 대체하여 비용 함수 $C$의 정규표현에서 얻을 수 있습니다. 여기서 $Z_i$는 파울리 $Z$ 연산자가 되며 큐비트 $i$에 작용하고 다른 것에는 당연합니다. 즉,\n",
        "\n",
        "$$ Z_i = \\left(\\begin{array}{cc} 1 &amp; 0 \\\\ 0 &amp; -1 \\end{array}\\right). $$\n",
        "\n",
        "이는 고전 비용 함수를 부호화하는 스핀 헤밀토니안을 파울리 $Z$만 포함하는 국부 양자 스핀 헤밀토니안 $|Q|$ 연산자로 표현할 수 있음을 의미합니다.\n",
        "\n",
        "$$ H = \\sum_{(Q,\\overline{Q}) \\subset [n]} w_{(Q,\\overline{Q})} \\; \\frac{1}{2^{|Q| + |\\overline{Q}|}}\\prod_{i\\in Q} \\left(1 - Z_i\\right) \\; \\prod_{j\\in \\overline{Q}} \\left(1 + Z_j\\right).$$\n",
        "\n",
        "이제 소수의 ($n$에서 다항식으로 다수) $w_{(Q,\\overline{Q})}$는 0이 아닌 것으로 가정합니다. 게다가 집합 $|(Q,\\overline{Q})|$는 경계가 있고 너무 크지 않다고 가정합니다. 이는 $m$ 국부 항 $\\hat{C}_k$의 합으로 헤밀토니안 $H$와 비용함수를 표현할 수 있음을 의미합니다.\n",
        "\n",
        "```\n",
        "$$ H = \\sum_{k = 1}^m \\hat{C}_k, $$\n",
        "```\n",
        "\n",
        "여기서 $m$과 $\\hat{C}_k$는 경계가 있습니다."
      ]
    },
    {
      "cell_type": "markdown",
      "metadata": {
      },
      "source": [
        "### 2 예제: <a id=\"examples\"></a>\n",
        "\n",
        "조합 최적화 문제를 설명하기 위해 두 가지 예를 듭니다. Qiskit으로 첫 번째 예제만 구현하지만 일련의 연습을 통해 두 번째 예제를 구현하는데 도움이 되는 지침을 얻을 수 있습니다.\n",
        "\n",
        "#### 2.1 (가중치가 있는) $MAXCUT$\n",
        "\n",
        "$n$ 노드가 있는 무방향 그래프  *G = (V, E)*를 고려합니다. 여기서 *|V| = n*은 $(i,j)\\in E$에 대해 ` $w_{ij}=w_{ji}$ `, $w_{ij}&gt;0$인 간선 가중치를 갖습니다. 컷은 원래 집합 V를 두 부분 집합으로 나누는 것으로 정의합니다. 이 경우 최적화할 비용 함수는 컷을 *교차하는* 서로 다른 두 하위 집합의 점을 연견=결하는 간선의 가중치의 합이 됩니다. $x_i=0$ 또는 $x_i=1$를 각 노드 $i$에 할당함으로써 전체 이익 함수(여기와 다음 합은 번호 1,2,...,n에 대해 수행됨)를 최대화합니다.\n",
        "\n",
        "```\n",
        "$$C(\\textbf{x}) = \\sum_{i,j = 1}^n w_{ij} x_i (1-x_j).$$\n",
        "```\n",
        "\n",
        "표기법을 단순화하기 위해 $(i,j) \\in E$에 대해 균일 가중치 $ w_{ij} = 1$로 가정합니다. 양자 컴퓨터에서 이 문제에 대한 해결책을 찾으려면 먼저 위에서 설명한 것처럼 위 식을 대각 해밀토니안으로 매핑해야 합니다. 집합 $E$의 간선에 대한 합으로 합을 적습니다.\n",
        "\n",
        "```\n",
        "$$C(\\textbf{x}) = \\sum_{i,j = 1}^n w_{ij} x_i (1-x_j)  = \\sum_{(i,j) \\in E} \\left( x_i (1-x_j) + x_j (1-x_i)\\right)$$\n",
        "```\n",
        "\n",
        "이 식을 스핀 해밀토니안으로 매핑하기 위해 `{latex} x_i\\rightarrow (1-Z_i)/2` 를 할당합니다. 여기서 $Z_i$는 고유값이 $\\pm 1$인 파울리 Z 연산자이고 $C(\\textbf {x}) \\rightarrow H$ 입니다.\n",
        "\n",
        "```\n",
        "$$ H = \\sum_{(j,k) \\in E} \\frac{1}{2}\\left(1 - Z_j Z_k \\right).$$\n",
        "```\n",
        "\n",
        "이는 해밀토니안을 $m = |E|$ 국소 항의 합으로 나타낼 수 있음을 의미합니다.\n",
        "\n",
        "$$\\hat{C}_e = \\frac{1}{2}\\left(1 - Z_&lt;e&gt;Z_&lt;e&gt;\\right)$$\n",
        "\n",
        "여기서 $e = (e1,e2) \\in E$ 입니다.\n",
        "\n",
        "#### 2.2 제약 충족 문제와 $\\text{MAX 3-SAT}$.\n",
        "\n",
        "조합 최적화 문제의 또 다른 예는 $\\text{3-SAT}$입니다. 여기서 비용 함수 `{latex} C(\\textbf{x}) = \\sum_{k = 1}^m c_k(\\textbf{x})` 는 절 $c_k(\\textbf{x})$의 합입니다. 절은 일부 $\\textbf{x} \\in {0,1}^n$의 3비트 값을 제한합니다. $\\text{3-SAT}$ 절의 예를 고려합니다.\n",
        "\n",
        "$$ c_1(\\textbf{x}) = (1-x_1)(1-x_3)x_{132} $$\n",
        "\n",
        "위 식은 비트열 $\\textbf{x} \\in {0,1}^{133}$에 관한 것입니다. $x_1 = 0$, $x_3 = 0$, $x_{132} = 1$ 비트를 설정하면 이 절은 충족됩니다. $\\text{3-SAT}$ 문제는 이제 모든 $m$ 절을 만족하는 비트열이 있는지 또는 그러한 문자열이 존재하지 않는지를 구합니다. 이러한 결정 문제는 $NP$ 완전 문제의 대표적인 예 입니다.\n",
        "\n",
        "가장 비슷한 최적화 문제 $\\text{MAX 3-SAT}$는 $C(\\textbf{x})$에서 절의 최대 수를 만족하는 비트열 $\\textbf{x}$를 찾도록 합니다. 물론 이것은 $m$ 절의 $\\tilde{m}$ 이상을 만족하는 비트열이 어디에 있는지 요청하면 다시 $NP$ 완전한 결정 문제가 됩니다."
      ]
    },
    {
      "cell_type": "markdown",
      "metadata": {
      },
      "source": [
        "### 3. 최적화 알고리즘 근사화 <a id=\"approximateOPT\"></a>\n",
        "\n",
        "전에 고려한 $MAXCUT$ 및 $\\text{MAX 3-SAT}$ 문제는 실제로 NP 난해 문제입니다 [3](#references). 실제로 많은 조합 최적화 문제는 일반적으로 계산적으로 해결하기 어렵다는 것이 밝혀졌습니다. 이러한 사실에 비추어 볼 때 이러한 문제를 다항식 실행 시간내에 해결하는 효율적인 알고리즘을 찾을 수 없을 것입니다. 이것은 양자 알고리즘에도 적용됩니다. 이러한 문제를 처리하는 데는 두 가지 주요 접근 방식이 있습니다. 첫 번째 방식은 다항식 시간에 지정된 품질의 해결책을 찾는 근사 알고리즘입니다. 두 번째 방식은 다항식 시간을 보장하지 못하지만 이와 비슷한 문제에서 잘 수행되는 휴리스틱 알고리즘입니다.\n",
        "\n",
        "근사 최적화 알고리즘은 효율적이며 근사 솔루션이 문제의 실제 최적해에 얼마나 가까운지 보장할 수 있습니다. 이러한 보장은 일반적으로 근사 비율 $\\alpha \\leq 1$의 형태입니다. 확률적 근사 최적화 알고리즘은 비트열 $\\textbf{x}^* \\in {0,1}^n$을 생성하여 *높은 확률*로 양의 `{latex} C_\\text{max} = \\max_{\\textbf{x}}C(\\textbf{x})` 를 갖습니다.\n",
        "\n",
        "$$ C_\\text{max} \\geq C(\\textbf{x}^*) \\geq \\alpha C_\\text{max}. $$\n",
        "\n",
        "$MAXCUT$ 문제의 경우 Goemans 및 Williamson [2](#references)이 발명한 유명한 근사 알고리즘이 있습니다. 이 알고리즘은 $\\alpha \\approx 0.878$의 근사 비율을 갖는 높은 확률의 근사 해법 $\\textbf{x}^*$을 만드는 확률 반올림 기술과 결합된 원래 문제의 SDP 완화를 기반으로 합니다. 이 근사 비율은 실제로 최적이므로 양자 알고리즘을 활용해도 개선되지 않습니다."
      ]
    },
    {
      "cell_type": "markdown",
      "metadata": {
      },
      "source": [
        "<!-- vale QiskitTextbook.SentenceLengthErr = NO -->\n",
        "\n",
        "### 4. QAOA 알고리즘 <a id=\"QAOA\"></a>\n",
        "\n",
        "Farhi, Goldstone, Gutmann [1](#references) 가 제안한 양자 근사 최적화 알고리즘(Quantum Approximate Optimization Algorithm, QAOA)는 휴리스틱 알고리즘의 한 예입니다. Goemans-Williamson 알고리즘과 달리 QAOA는 성능을 보장하지 않습니다. QAOA는 고전 근사 알고리즘의 접근 방식을 취하고 높은 확률로 좋은 근사 비율 $\\alpha$를 가질 것으로 예상되는 고전적인 비트열 $x^*$를 생성하는 양자 아날로그를 찾습니다. 세부 사항을 논의하기 전에 먼저 이 접근 방식의 일반적인 아이디어를 제시하겠습니다.\n",
        "\n",
        "#### 4.1 개요:\n",
        "\n",
        "우리는 몇몇 실수 매개변수 $\\vec{\\gamma},\\vec{\\beta}를 따르는 양자 상태 $|\\psi_p(\\vec{\\gamma},\\vec{\\beta})\\rangle$를 찾고자 합니다. 양자 상태는 문제 헤밀토니안 $H$에 대해 기대값을 최대화하는 속성이 있습니다. 이 시험 상태에 대해  `{latex} F_p(\\vec{\\gamma},\\vec{\\beta}) = \\langle \\psi_p(\\vec{\\gamma},\\vec{\\beta})|H|\\psi_p(\\vec{\\gamma},\\vec{\\beta})\\rangle`를 최대화 하는 파라미터 $\\vec{\\gamma}^*,\\vec{\\beta}^*$ 를 구하고자 합니다.\n",
        "\n",
        "이러한 상태와 이에 상응하는 매개 변수가 있으면 양자 컴퓨터에서 $|\\psi_p(\\vec{\\gamma}^ *,\\vec{\\beta}^* )\\rangle$ 상태를 준비하고 $Z$ 기저 `{latex} |x \\rangle = |x_1,\\ldots x_n \\rangle` 로 상태를 측정하여 임의의 결과 $x^*$를 구합니다.\n",
        "\n",
        "우리는 이 임의의 $x^*$가 높을 확률로 기대값 `{latex} M_p = F_p(\\vec{\\gamma}^*,\\vec{\\beta}^*)` 에 가까운 비트열이 됩니다. 따라서 $M_p$가 $C_\\text{max}$에 가깝다면 $C(x^*)$도 마찬가지입니다.\n",
        "\n",
        "#### 4.2 QAOA 알고리즘 구성 요소\n",
        "\n",
        "#### 4.2.1 QAOA 시험 상태 <a id=\"section_421\"></a>\n",
        "\n",
        "QAOA의 핵심은 양자 컴퓨터에서 준비하는 시험 상태 $|\\psi_p(\\vec{\\gamma},\\vec{\\beta})\\rangle$입니다. 이상적으로 우리는 이 상태가 문제 헤밀토니안 $H$에 대해 큰 기대값 `{latex} F_p(\\vec{\\gamma},\\vec{\\beta}) = \\langle \\psi_p(\\vec{\\gamma},\\vec{\\beta})|H|\\psi_p(\\vec{\\gamma},\\vec{\\beta})\\rangle`을 갖기를 바랍니다. Farhi [1](#references) 에서 시도 상태 $|\\psi_p(\\vec{\\gamma},\\vec{\\beta})\\rangle$는 단일 큐비트 파울리 $X$ 회전과 함께 문제 헤밀토니안 $H$로 구성됩니다. 즉, 다음과 같은 문제 헤밀토니안에 대해\n",
        "\n",
        "$$ H = \\sum_{k = 1}^m \\hat{C}_k $$\n",
        "\n",
        "계산 기저에서 대각과 횡단 필드 헤밀토니안\n",
        "\n",
        "$$ B = \\sum_{i = 1}^n X_i $$\n",
        "\n",
        "시도 상태는 $p$ 교대 유니타리를 적용하여 준비합니다.\n",
        "\n",
        "$$ |\\psi_p(\\vec{\\gamma},\\vec{\\beta})\\rangle = e^{ -i\\beta_p B } e^{ -i\\gamma_p H } \\ldots e^{ -i\\beta_1 B } e^{ -i\\gamma_1 H } |+\\rangle^n $$\n",
        "\n",
        "X |+\\rangle = |+\\rangle$ 에 대해 곱 상태 $|+\\rangle^n$에 적용하여 준비합니다.\n",
        "\n",
        "이 특정 가설풀이(ansatz)는 극한 `{latex} \\lim_{p \\rightarrow \\infty} M_p = C_\\text{max}` 를 취할 때 `{latex} M_p = F_p(\\vec{\\gamma}^*,\\vec{\\beta}^*)` 에 대해 벡터 $\\vec{\\gamma}^ *,\\vec{\\beta}^* $에 대한 명시적 선택이 존재한다는 장점이 있습니다. 이는 시험 상태 $|\\psi_p(\\vec{\\gamma},\\vec{\\beta}) \\rangle$를 $H$와 횡단 필드 헤밀토니안  B$에 대한 단열 (adiabatic) 시간 변화를 Trotterizing 다음 상태로 보는 것입니다. 참조 [1](#references).\n",
        "\n",
        "반대로 이 시험 상태의 단점은 일반적으로 너무 깊지 않은 양자 회로에서 생성된 상태가 필요하다는 것입니다. 여기서 깊이는 양자 칩에 직접 적용할 수 있는 게이트 수로 측정합니다. 따라서 참조 [4](#references), [5](#references)에서는 양자 칩의 하드웨어에 더 잘 맞는 가설풀이(ansatz) 시험 상태 사용을 제안합니다.\n",
        "\n",
        "#### 4.2.2 기대값 계산<a id=\"section_422\"></a>\n",
        "\n",
        "이 접근 방식의 중요한 구성 요소는 기대값을 계산하거나 추정해야 한다는 것입니다.\n",
        "\n",
        "$$\n",
        "F_p(\\vec{\\gamma},\\vec{\\beta}) = \\langle \\psi_p(\\vec{\\gamma},\\vec{\\beta})|H|\\psi_p(\\vec{\\gamma},\\vec{\\beta})\\rangle \n",
        "$$\n",
        "\n",
        "$\\vec{\\gamma},\\vec{\\beta}$ 매개변수를 최적화할 수 있습니다. 여기서는 두 가지 시나리오를 고려할 것입니다.\n",
        "\n",
        "#### 고전적인 계산\n",
        "\n",
        "$|\\psi_p(\\vec{\\gamma},\\vec{\\beta})\\rangle$을 준비하는 회로가 너무 깊지 않은 경우 기대값 $F_p$를 고전적으로 계산할 수 있습니다.\n",
        "\n",
        "이것은 예를 들어 경계 차수가 있는 그래프에 대해 $MAXCUT$을 고려하고 $p=1$인 회로를 고려할 때 발생합니다. 아래의 Qiskit 구현(섹션 5.2)에서 이에 대한 예를 들고 기대값을 계산하는 연습문제가 있습니다.\n",
        "\n",
        "아이디어를 설명하기 위해 해밀토니안은 개별 항 `{latex} H = \\sum_{k = 1}^m \\hat{C}_k` 의 합으로 표현할 수 있음을 다시금 생각하십시오. 기대값의 선형성으로 인해 개별 합인자(summands)의 기대값을 고려하는 것으로 충분합니다. $p = 1$인 경우 기대값은 다음과 같습니다.\n",
        "\n",
        "$$ \\langle \\psi_1(\\vec{\\gamma},\\vec{\\beta})|\\hat{C}_k|\\psi_1(\\vec{\\gamma},\\vec{\\beta})\\rangle =  \\langle +^n | e^{ i\\gamma_1 H } e^{   i\\beta_1 B } | \\hat{C}_k |  e^{ -i\\beta_1 B } e^{ -i\\gamma_1 H } |+^n\\rangle.$$\n",
        "\n",
        "`{latex} B = \\sum_{i = 1}^n X_i` 에 대해 유니타리 $e^{ -i\\beta_1 B }$는 실제로 각도가 $\\beta$인 $X$에 대한 단일 큐비트 회전의 곱임을 관찰할 수 있습니다. 단일 큐비트 회전은 `{latex} X(\\beta)_k = \\exp(i\\beta X_k)` 로 쓸 수 있습니다.\n",
        "\n",
        "$\\hat{C}_k$가 지원되는 큐비트에서 작동하지 않는 모든 개별 회전은 $\\hat{C}_k$로 이동하므로 취소됩니다. 이것은 연산자 $\\hat{C}_k$의 지원을 증가시키지 않습니다. 이는 단일 게이트의 두 번째 세트 `{latex} e^{ -i\\gamma_1 H } = \\prod_{l=1}^m U_l(\\gamma)` 큰 게이트 세트 `{latex} U_l(\\gamma) = e^{ -i\\gamma_1 \\hat{C}_l }` 를 가짐을 의미합니다. `{latex} U_l(\\gamma) = e^{ -i\\gamma_1 \\hat{C}_l }` 연산자 `{latex} e^{ i\\beta_1 B } \\hat{C}_k e^{ -i\\beta_1 B }` 포함합니다. 기대값에 기여하는 유일한 게이트 <code>{latex} U_l(\\gamma) = e^{ -i\\gamma_1 \\hat{C}_l }</code>는 원래 $\\hat{C}_k$를 지원하는 큐비트를 포함하는 게이트입니다.\n",
        "\n",
        "따라서 제한된 정도의 상호작용을 위해 `{latex} e^{ i\\gamma_1 H } e^{   i\\beta_1 B } \\hat{C}_k e^{ -i\\beta_1 B } e^{ -i\\gamma_1 H }`의 지원은 $H$의 상호 작용 정도에 따라 확장되는 시스템의 크기와는 무관합니다. 이는 이러한 더 작은 하위 문제의 경우 기대값이 $N$과 독립적이며 고전저으로 계산될 수 있음을 의미합니다. 참고문헌 [1](#references)에서는 일반적인 정도 $3$의 경우를 고려합니다.\n",
        "\n",
        "이것은 일반적인 관찰입니다. 즉, 시험 상태를  준비하는 회로가 해밀턴의 각 항의 지원을 일정한 양만큼만 증가시키는 문제에 대해서는 비용 함수를 직접 계산할 수 있습니다.\n",
        "\n",
        "시험 상태 준비에 몇 가지 매개 변수 $\\beta, \\gamma$만 필요한 경우 간단한 격자 검색으로 쉽게 찾을 수 있습니다. 또한 $\\alpha$의 추정치를 얻기 위해 $M_p$의 정확한 최적 값을 사용하여 근사 비율을 제한할 수 있습니다.\n",
        "\n",
        "$$ \\frac{M_p}{C_\\text{max}} \\geq \\alpha $$\n",
        "\n",
        "이 경우 문제 크기따라 다항식 효율성으로 얻을 수 있는 근사 비율을 보장하는 기존의 근사 최적화 알고리즘과 QAOA 알고리즘은 동일한 특성을 갖습니다.\n",
        "\n",
        "#### 양자 컴퓨터에서 계산\n",
        "\n",
        "양자 회로가 고전적으로 계산하기에 너무 깊어지거나, 문제 헤밀토니안의 연결성이 너무 높을 때 우리는 기대값을 추정하는 다른 방법을 고려할 수 있습니다. 양자 컴퓨터에서 $F_p(\\vec{\\gamma},\\vec{\\beta})$를 직접 추정하는 방법이 있습니다. 여기서 접근 방식은 VQE (참고문헌 [4](#references)) 에서 사용되는 기존 기대값 추정의 과정을 따릅니다. 여기서 양자 컴퓨터에서 시험 상태 $| \\psi_p(\\vec{\\gamma},\\vec{\\beta}) \\rangle$를 직접 준비하고 표본화하여 기대값을 구합니다.\n",
        "\n",
        "QAOA에는 대각 해밀토니안 $H$이 있으므로 간단히 기대값을 추정할 수 있습니다. 계산 기저에 있는 시험 상태에서 표본을 구하기만 하면 됩니다. $H = \\sum_{x \\in {0,1}^n} C(x) |x \\rangle\\langle x|$를 기억하면 $Z$ 기저에 있는 $|\\psi_p(\\vec{\\gamma},\\vec{\\beta}) \\rangle$ 상태의 단일 큐비트 측정을 반복하여 다음과 같은 표본화 추정치를 얻을 수 있습니다.\n",
        "\n",
        "$$ \\langle \\psi_p(\\vec{\\gamma},\\vec{\\beta})|H|\\psi_p(\\vec{\\gamma},\\vec{\\beta})\\rangle = \\sum_{x \\in \\{0,1\\}^n} C(x) |\\langle x| \\psi_p(\\vec{\\gamma},\\vec{\\beta}) \\rangle |^2$$\n",
        "\n",
        "분포 $|\\langle x|\\psi_p(\\vec{\\gamma},\\vec{\\beta}) \\rangle |^2$ 에서 얻은 모든 비트열 $x$에 대해 비용 함수 $C(x)$를 계산하고 총 표본 수에 대해 평균을 냅니다. 경험적 평균 결과는 상태의 분산 내에 있는 부가성 표본화 오류치까지 기대값을 근사화합니다. 그 차이는 아래에서 논의할 것입니다.\n",
        "\n",
        "기대값에 접근할 수 있으므로 이제 참고문헌 [6](#references) 과 같은 기존 최적화 알고리즘을 실행하여 $F_p$를 최적화할 수 있습니다.\n",
        "\n",
        "이 접근 방식은 $x^*$에 대한 선험적 근사치 보장으로 이어지지 않지만 나중에 최적화된 함수 값을 사용하여 근사 비율 $\\alpha$에 대한 추정치를 구할 수 있습니다.\n",
        "\n",
        "#### 4.3.3 높은 확률로 주어진 근사 비율의 해법 구하기\n",
        "\n",
        "이 알고리즘은 본질적으로 확률적이며 분포 $|\\langle x| \\psi_p(\\vec{\\gamma},\\vec{\\beta}) \\rangle |^2$에 대해 무작위 비트열을 생성합니다. 그렇다면 최적화된 기대값 $M_p$에 가까운 근사값 $x^*$를 표본화할 것이라고 어떻게 확신할 수 있습니까? 이 질문은 애초에 양자 컴퓨터에서 $M_p$를 추정하는 것과도 관련이 있습니다. $|\\langle x| \\psi_p(\\vec{\\gamma},\\vec{\\beta}) \\rangle |^2$에서 구한 표본의 분산이 너무 크면 평균을 결정하는 데 많은 표본이 필요합니다.\n",
        "\n",
        "변수로서 에너지의 분산이 작을때 높은 확률로 평균 $M_p$에 가까운 비트열 $x^*$를 구할 것입니다.\n",
        "\n",
        "헤밀토니안 `{latex} H = \\sum_{k=1}^m \\hat{C}_k`에 있는 항의 수는 $m$으로 제한됩니다. 각각의 개별 합인자 $\\hat{C}_k$가 모든 $k = 1\\ldots m$에 대해 범용 상수 $|\\hat{C}_k|  \\leq \\tilde{C}$로 제한되는 연산자 노름을 갖습니다.\n",
        "\n",
        "$$\n",
        "\\begin{aligned}\n",
        "\\langle \\psi_p(\\vec{\\gamma},\\vec{\\beta})|H^2|\\psi_p(\\vec{\\gamma},\\vec{\\beta})\\rangle - \\langle \\psi_p(\\vec{\\gamma},\\vec{\\beta})|H|\\psi_p(\\vec{\\gamma},\\vec{\\beta})\\rangle^2 &amp;\\leq  \\langle \\psi_p(\\vec{\\gamma},\\vec{\\beta})|H^2|\\psi_p(\\vec{\\gamma},\\vec{\\beta})\\rangle \\\\\n",
        "&amp;= \\sum_{k,l =1}^m  \\langle \\psi_p(\\vec{\\gamma},\\vec{\\beta})|\\hat{C}_k \\hat{C}_l |\\psi_p(\\vec{\\gamma},\\vec{\\beta})\\rangle \\\\\n",
        "&amp;\\leq m^2 \\tilde{C}^2 \\\\\n",
        "\\end{aligned}\n",
        "$$\n",
        "\n",
        "여기서 `{latex} \\langle \\psi_p(\\vec{\\gamma},\\vec{\\beta})|\\hat{C}_k \\hat{C}_l |\\psi_p(\\vec{\\gamma},\\vec{\\beta})\\rangle \\leq \\tilde{C}^2`인 관계를 적용합니다.\n",
        "\n",
        "이는 모든 기대값 $F_p(\\vec{\\gamma},\\vec{\\beta})$의 분산이 $m^2 \\tilde{C}^2$로 제한됨을 의미합니다. 따라서 이것은 특히 $M_p$에 적용됩니다. 또한 $m$이 큐비트 $n$의 수에서 다항적으로만 증가하는 경우 다항적으로 증가하는 표본의 수 $|\\langle x| \\psi_p(\\vec{\\gamma},\\vec{\\beta}) \\rangle |^2$ 로 부터 $s = O\\left(\\frac{\\tilde{C}^2 m^2}{\\epsilon ^2}\\right)$는 $M_p$에 가까운 $C(x^*)$에 이르는 $x^*$를 얻기에 충분합니다."
      ]
    },
    {
      "cell_type": "markdown",
      "metadata": {
      },
      "source": [
        "### 5. 연습문제<a id=\"problems\"></a>\n",
        "\n",
        "1. QAOA 알고리즘은 비트을 생성합니다. 이것이 이 그래프에 대한 최적의 해입니까? 초전도 칩의 실험 결과와 로컬 QASM 시뮬레이션의 결과를 비교하십시오.\n",
        "\n",
        "2. [5.2 절](#implementation_sec52) 에서 분석적으로 비용 함수 $F_1$를 계산했습니다. 단계를 확인하고 $f_A(\\gamma,\\beta)$와 $f_B(\\gamma,\\beta)$를 계산합니다.\n",
        "\n",
        "3. Qiskit 구현에서 $F_1$에 대한 정확한 표현이 있습니다.\n",
        "\n",
        "    - 결과에서 얻은 표본에서 기대값 $F_1(\\gamma,\\beta)$를 추정하는 루틴을 작성하십시오.\n",
        "    - 이 글의 VQE 예제에서 SPSA와 같은 최적화 루틴을 사용하여 표본화된 $F_1(\\gamma,\\beta)$의 매개변수를 수치적으로 최적화합니다. $\\gamma^*,\\beta^*$ 에 대해 동일한 값을 찾았습니까?\n",
        "\n",
        "4. [5.3 절](#implementation_sec53) 의 시험 회로는 깊이 $p=1$에 해당하며 직접적으로 하드웨어와 호환되는 것을 목표로 했습니다.\n",
        "\n",
        "    - 연습문제 2의 루틴을 사용하여 $p=2,3$에 대한 비용 함수 $F_p(\\gamma,\\beta)$를 계산합니다. 실제 하드웨어에서 무엇을 기대합니까?\n",
        "    - 이 시험 상태 클래스를 참고문헌 [4](#references)의 하드웨어 효율적인 ansatz와 같은 다른 파동 함수로 일반화하십시오. "
      ]
    },
    {
      "cell_type": "markdown",
      "metadata": {
      },
      "source": [
        "## 참고문헌<a id=\"references\"></a>\n",
        "\n",
        "1. Farhi, Edward, Jeffrey Goldstone, and Sam Gutmann. \"A quantum approximate optimization algorithm.\" arXiv preprint [arXiv:1411.4028 (2014)](https://arxiv.org/abs/1411.4028).\n",
        "2. Goemans, Michel X., and David P. Williamson. [Journal of the ACM (JACM) 42.6 (1995): 1115-1145](http://www-math.mit.edu/~goemans/PAPERS/maxcut-jacm.pdf).\n",
        "3. Garey, Michael R.; David S. Johnson (1979). Computers and Intractability: A Guide to the Theory of NP-Completeness. W. H. Freeman. ISBN 0-7167-1045-5\n",
        "4. Kandala, Abhinav, et al. \"Hardware-efficient variational quantum eigensolver for small molecules and quantum magnets.\" [Nature 549.7671 (2017): 242](https://www.nature.com/articles/nature23879).\n",
        "5. Farhi, Edward, et al. \"Quantum algorithms for fixed qubit architectures.\" arXiv preprint [arXiv:1703.06199 (2017)](https://arxiv.org/abs/1703.06199).\n",
        "6. Spall, J. C. (1992), [IEEE Transactions on Automatic Control, vol. 37(3), pp. 332–341](https://ieeexplore.ieee.org/document/119632).\n",
        "7. Michael Streif and Martin Leib \"Training the quantum approximate optimization algorithm without access to a quantum processing unit\" (2020) [Quantum Sci. Technol. 5 034008](https://doi.org/10.1088/2058-9565/ab8c2b)"
      ]
    },
    {
      "cell_type": "code",
      "execution_count": 9,
      "metadata": {
      },
      "outputs": [
        {
          "data": {
            "text/html": [
              "<h3>Version Information</h3><table><tr><th>Qiskit Software</th><th>Version</th></tr><tr><td><code>qiskit-terra</code></td><td>0.21.2</td></tr><tr><td><code>qiskit-aer</code></td><td>0.10.4</td></tr><tr><td><code>qiskit-ibmq-provider</code></td><td>0.19.2</td></tr><tr><td><code>qiskit</code></td><td>0.37.2</td></tr><tr><td><code>qiskit-nature</code></td><td>0.4.1</td></tr><tr><td><code>qiskit-finance</code></td><td>0.3.2</td></tr><tr><td><code>qiskit-optimization</code></td><td>0.4.0</td></tr><tr><td><code>qiskit-machine-learning</code></td><td>0.4.0</td></tr><tr><th>System information</th></tr><tr><td>Python version</td><td>3.8.13</td></tr><tr><td>Python compiler</td><td>Clang 13.1.6 (clang-1316.0.21.2.5)</td></tr><tr><td>Python build</td><td>default, Aug 29 2022 05:17:23</td></tr><tr><td>OS</td><td>Darwin</td></tr><tr><td>CPUs</td><td>8</td></tr><tr><td>Memory (Gb)</td><td>32.0</td></tr><tr><td colspan='2'>Thu Sep 01 16:50:42 2022 BST</td></tr></table>"
            ],
            "text/plain": [
              "<IPython.core.display.HTML object>"
            ]
          },
          "metadata": {
          },
          "output_type": "display_data"
        }
      ],
      "source": [
        "# pylint: disable=unused-import\n",
        "import qiskit.tools.jupyter\n",
        "%qiskit_version_table"
      ]
    }
  ],
  "metadata": {
    "kernelspec": {
      "display_name": "Python 3",
      "language": "python",
      "name": "python3"
    },
    "language_info": {
      "codemirror_mode": {
        "name": "ipython",
        "version": 3
      },
      "file_extension": ".py",
      "mimetype": "text/x-python",
      "name": "python",
      "nbconvert_exporter": "python",
      "pygments_lexer": "ipython3",
      "version": "3.9"
    }
  },
  "nbformat": 4,
  "nbformat_minor": 4
}
