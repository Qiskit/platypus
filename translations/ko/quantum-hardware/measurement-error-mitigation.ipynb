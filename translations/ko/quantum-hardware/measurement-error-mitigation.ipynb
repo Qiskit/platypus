{
  "cells": [
    {
      "cell_type": "markdown",
      "metadata": {
        "tags": [
          "remove_cell"
        ]
      },
      "source": [
        "# 측정 오류 완화"
      ]
    },
    {
      "cell_type": "code",
      "execution_count": 1,
      "metadata": {
      },
      "outputs": [

      ],
      "source": [
        "from qiskit import QuantumCircuit, QuantumRegister, Aer, execute"
      ]
    },
    {
      "cell_type": "markdown",
      "metadata": {
      },
      "source": [
        "### 소개\n",
        "\n",
        "잡음의 영향으로 인해 출력이 정확하지 않습니다. 각 게이트가 각 오류의 영향을 어떻게 변환하는지 고려해야 하므로 계산 전체에서 발생하는 잡음의 영향은 일반적으로 매우 복잡합니다.\n",
        "\n",
        "더 단순한 형태의 잡음은 마지막 측정 중에 발생하는 노이즈입니다. 이 시점에서 회로에 남아 있는 유일한 작업은 비트열을 출력으로 얻는 것입니다. $n$ 큐비트 마지막 측정의 경우 이는 $2^n$ 가능한 $n$ 비트열 중 하나를 얻는 것을 의미합니다. 이 과정에서 간단한 잡음의 모델로, 완벽히 잡음이 없는 상태에서 측정을 구한 다음 잡음으로 인해 이 출력이 무작위로 교란된다고 생각할 수 있습니다.\n",
        "\n",
        "이 잡음 모델에 대해 측정 오류의 영향이 무엇인지 정확히 결정하는 것은 매우 쉽습니다. $2^n$ 개의 가능한 기저 상태를 각각 준비한 다음 즉시 측정하고 각 결과에 대한 확률을 확인할 수 있습니다.\n",
        "\n",
        "예를 들어 우선 확률 $p$로 출력의 각 비트를 무작위로 뒤집는 간단한 잡음 모델을 생성합니다."
      ]
    },
    {
      "cell_type": "code",
      "execution_count": 2,
      "metadata": {
      },
      "outputs": [

      ],
      "source": [
        "from qiskit.providers.aer.noise import NoiseModel\n",
        "from qiskit.providers.aer.noise.errors import pauli_error, depolarizing_error\n",
        "\n",
        "def get_noise(p):\n",
        "    error_meas = pauli_error([('X',p), ('I', 1 - p)])\n",
        "\n",
        "    noise_model = NoiseModel()\n",
        "    noise_model.add_all_qubit_quantum_error(error_meas, \"measure\") # measurement error is applied to measurements\n",
        "        \n",
        "    return noise_model"
      ]
    },
    {
      "cell_type": "markdown",
      "metadata": {
      },
      "source": [
        "측정 횟수의 $1%$ 만큼 각 비트를 뒤집히는 예부터 시작하겠습니다."
      ]
    },
    {
      "cell_type": "code",
      "execution_count": 3,
      "metadata": {
      },
      "outputs": [

      ],
      "source": [
        "noise_model = get_noise(0.01)"
      ]
    },
    {
      "cell_type": "markdown",
      "metadata": {
      },
      "source": [
        "이제 그 효과를 실험할 수 있습니다. 구체적으로 2 큐비트 회로를 정의하고 $\\left|00\\right\\rangle$, $\\left|01\\right\\rangle$, $\\left|10\\right\\rangle$, $\\left|11\\right\\rangle$ 상태를 준비합니다. 잡음이 없으면 이들은 각각 명확한 출력 `'00'` , `'01'` , `'10'`, `'11'` 이 됩니다. 잡음에 어떤 일이 일어나는지 봅시다. 여기와 이 글의 나머지 부분에서 각 회로를 `shots=10000`번 실행하여 표본을 얻습니다."
      ]
    },
    {
      "cell_type": "code",
      "execution_count": 4,
      "metadata": {
      },
      "outputs": [
        {
          "name": "stdout",
          "output_type": "stream",
          "text": [
            "00 becomes {'01': 108, '11': 1, '10': 110, '00': 9781}\n",
            "01 becomes {'10': 1, '11': 106, '00': 88, '01': 9805}\n",
            "10 becomes {'01': 2, '00': 90, '11': 86, '10': 9822}\n",
            "11 becomes {'01': 91, '10': 84, '11': 9825}\n"
          ]
        }
      ],
      "source": [
        "for state in ['00','01','10','11']:\n",
        "    qc = QuantumCircuit(2,2)\n",
        "    if state[0]=='1':\n",
        "        qc.x(1)\n",
        "    if state[1]=='1':\n",
        "        qc.x(0)  \n",
        "    qc.measure(qc.qregs[0],qc.cregs[0])\n",
        "    print(state +' becomes',\n",
        "          execute(qc, Aer.get_backend('qasm_simulator'),\n",
        "                  noise_model=noise_model,shots=10000).result().get_counts())"
      ]
    },
    {
      "cell_type": "markdown",
      "metadata": {
      },
      "source": [
        "여기서 올바른 출력이 확실히 가장 우세하다는 것을 알 수 있습니다. 단일 비트만 다른 것(예: 올바른 출력이 `'00'` 또는 `'11'` 인 경우 `'01'` , `'10'`)은 약 $1%$ 번 발생합니다. 2비트 차이가 나는 경우는 10000개 표본에서 몇 번만 발생합니다.\n",
        "\n",
        "그렇다면 동일한 잡음 모델로 회로를 실행하고 다음과 같은 결과를 얻는다면 어떨까요?\n",
        "\n",
        "`{'10': 98, '11': 4884, '01': 111, '00': 4907}`\n",
        "\n",
        "여기서 `'01'` 과 `'10'` 은 모든 표본의 약 $1%$ 만큼 발생합니다. 초기 상태에 대한 분석을 통해 이러한 결과가 실제로는 발생하지 않아야 할 때 그러한 결과가 예상될 수 있다는 것을 알고 있지만 대신 결과는 `'00'` 또는 `'11'` 과 같이 그들과 단 한 비트만 다른 무언가여야 합니다. 이 두 결과에 대한 결과를 보면 거의 동일한 확률로 발생한다는 것을 알 수 있습니다. 따라서 우리는 초기 상태가 단순히 $\\left|00\\right\\rangle$ 또는 $\\left|11\\right\\rangle$이 아니라 둘의 동일한 중첩이라는 결론을 내릴 수 있습니다. true인 경우 결과가 다음과 같아야 함을 의미합니다.\n",
        "\n",
        "`{'11': 4977, '00': 5023}`\n",
        "\n",
        "다음은 이와 같은 결과를 생성하는 회로입니다(통계적 변동까지)."
      ]
    },
    {
      "cell_type": "code",
      "execution_count": 5,
      "metadata": {
      },
      "outputs": [
        {
          "name": "stdout",
          "output_type": "stream",
          "text": [
            "{'01': 83, '10': 102, '11': 5006, '00': 4809}\n"
          ]
        }
      ],
      "source": [
        "qc = QuantumCircuit(2,2)\n",
        "qc.h(0)\n",
        "qc.cx(0,1)  \n",
        "qc.measure(qc.qregs[0],qc.cregs[0])\n",
        "print(execute(qc, Aer.get_backend('qasm_simulator'),\n",
        "              noise_model=noise_model,shots=10000).result().get_counts())"
      ]
    },
    {
      "cell_type": "markdown",
      "metadata": {
      },
      "source": [
        "이 예에서 우리는 먼저 각 한정된 기저 상태에 대한 결과를 살펴보고 이러한 결과를 사용하여 보다 일반적인 형태의 상태에 대한 오류의 영향을 완화했습니다. 이것이 측정 오류 완화의 기본 원리입니다.\n",
        "\n",
        "### 선형 대수를 사용한 오류 완화\n",
        "\n",
        "이제 수동이 아닌 알고리즘으로 오류를 완화하는 방법을 찾아야 합니다. 행렬을 이용한 무작위 프로세스를 활용해서 이를 수행할 것입니다. 이를 위해 카운트 딕셔너리를 열 벡터로 다시 작성해야 합니다. 예를 들어 딕셔너리 `{'10': 96, '11': 1, '01': 95, '00': 9808}`은 다음과 같이 쓸 수 있습니다.\n",
        "\n",
        "$$ C = \\begin{pmatrix} 9808 \\ 95 \\ 96 \\ 1 \\end{pmatrix}. $$\n",
        "\n",
        "여기서 첫 번째 요소는 `'00'` 에 대한 것이고 다음 요소는 `'01'` 에 대한 것 입니다.\n",
        "\n",
        "기본 상태 $\\left|00\\right\\rangle$, $\\left|01\\right\\rangle$, $\\left|10\\right\\rangle$, $\\left|11\\right\\rangle$에서 수집한 정보로 이상적인 카운트 집합에서 측정 잡음의 영향을 받은 집합으로 만드는 행렬을 정의할 수 있습니다. 이것은 단순히 $\\left|00\\right\\rangle$에 대한 카운트 딕셔너리를 가져와 모든 요소의 합이 1이 되도록 정규화한 다음 이를 행렬의 첫 번째 열로 사용하여 수행됩니다. 다음 열은 $\\left|01\\right\\rangle$에 대해 얻은 카운트 딕셔너리로 유사하게 정의합니다.\n",
        "\n",
        "각 기저 상태에 대해 회로를 실행할 때 마다 통계적 변화가 있습니다. 다음에서는 이 글을 작성할 때 구한 다음과 같은 데이터를 사용합니다.\n",
        "\n",
        "```code\n",
        "00 becomes {'10': 96, '11': 1, '01': 95, '00': 9808}\n",
        "01 becomes {'10': 2, '11': 103, '01': 9788, '00': 107}\n",
        "10 becomes {'10': 9814, '11': 90, '01': 1, '00': 95}\n",
        "11 becomes {'10': 87, '11': 9805, '01': 107, '00': 1}\n",
        "```\n",
        "\n",
        "이것으로 다음 행렬을 만들 수 있습니다.\n",
        "\n",
        "$$ M = \\begin{pmatrix} 0.9808&amp;0.0107&amp;0.0095&amp;0.0001 \\ 0.0095&amp;0.9788&amp;0.0001&amp;0.0107 \\ 0.0096&amp;0.0002&amp;0.9814&amp;0.0087 \\ 0.0001&amp;0.0103&amp;0.0090&amp;0.9805 \\end{pmatrix} $$\n",
        "\n",
        "이제 이상적인 결과 벡터에 이 매트릭스를 적용하면 측정 잡음이 있는 근사적인 결과를 얻을 수 있습니다.\n",
        "\n",
        "$$ C_\\text{noisy} = M ~ C_\\text{ideal}$$\n",
        "\n",
        "예를 들어 $(\\left|00\\right\\rangle+\\left|11\\right\\rangle)/\\sqrt{2}$ 상태에 대해 이 과정을 적용해 보겠습니다.\n",
        "\n",
        "# $$ \\begin{pmatrix} 0.9808&amp;0.0107&amp;0.0095&amp;0.0001 \\ 0.0095&amp;0.9788&amp;0.0001&amp;0.0107 \\ 0.0096&amp;0.0002&amp;0.9814&amp;0.0087 \\ 0.0001&amp;0.0103&amp;0.0090&amp;0.9805 \\end{pmatrix} \\begin{pmatrix} 5000 \\ 0 \\ 0 \\ 5000 \\end{pmatrix}\n",
        "\n",
        "이를 코드로 표현하면 다음과 같습니다."
      ]
    },
    {
      "cell_type": "code",
      "execution_count": 6,
      "metadata": {
      },
      "outputs": [
        {
          "name": "stdout",
          "output_type": "stream",
          "text": [
            "C_noisy =\n",
            " [[4904.5]\n",
            " [ 101. ]\n",
            " [  91.5]\n",
            " [4903. ]]\n"
          ]
        }
      ],
      "source": [
        "import numpy as np\n",
        "\n",
        "M = [[0.9808,0.0107,0.0095,0.0001],\n",
        "    [0.0095,0.9788,0.0001,0.0107],\n",
        "    [0.0096,0.0002,0.9814,0.0087],\n",
        "    [0.0001,0.0103,0.0090,0.9805]]\n",
        "\n",
        "Cideal = [[5000],\n",
        "          [0],\n",
        "          [0],\n",
        "          [5000]]\n",
        "\n",
        "Cnoisy = np.dot(M, Cideal)\n",
        "print('C_noisy =\\n', Cnoisy)"
      ]
    },
    {
      "cell_type": "markdown",
      "metadata": {
      },
      "source": [
        "어느 쪽이든, 측정 잡음이 있는 경우  $(\\left|00\\right\\rangle+\\left|11\\right\\rangle)/\\sqrt{2}$를 측정한 결과 카운트 $C_\\text{noisy}$는 이전에 구한 실제 데이터와 매우 근접합니다. 따라서 이 매트릭스 방법은 실제로 결과에 대한 정보가 있는 경우 잡음이 있는 결과를 예측하는 좋은 방법입니다.\n",
        "\n",
        "불행히도 이것은 필요로 하는 것과 정반대입니다. 이상적인 카운트 데이터를 잡음 데이터로 변환하는 방법 대신 잡음 데이터를 이상적인 데이터로 변환하는 방법이 필요합니다. 선형 대수학에서는 역행렬 $M^{-1}$를 찾아 행렬 $M$에 대해 이 작업을 수행합니다.\n",
        "\n",
        "$$C_\\text{ideal} = M^{-1} C_\\text{noisy}.$$\n"
      ]
    },
    {
      "cell_type": "code",
      "execution_count": 7,
      "metadata": {
      },
      "outputs": [
        {
          "name": "stdout",
          "output_type": "stream",
          "text": [
            "[[ 1.01978044e+00 -1.11470783e-02 -9.87135367e-03  1.05228426e-04]\n",
            " [-9.89772783e-03  1.02188470e+00  9.39504466e-05 -1.11514471e-02]\n",
            " [-9.97422955e-03 -4.05845410e-06  1.01913199e+00 -9.04172099e-03]\n",
            " [ 9.15212840e-05 -1.07335657e-02 -9.35458279e-03  1.02008794e+00]]\n"
          ]
        }
      ],
      "source": [
        "import scipy.linalg as la\n",
        "\n",
        "M = [[0.9808,0.0107,0.0095,0.0001],\n",
        "    [0.0095,0.9788,0.0001,0.0107],\n",
        "    [0.0096,0.0002,0.9814,0.0087],\n",
        "    [0.0001,0.0103,0.0090,0.9805]]\n",
        "\n",
        "Minv = la.inv(M)\n",
        "\n",
        "print(Minv)"
      ]
    },
    {
      "cell_type": "markdown",
      "metadata": {
      },
      "source": [
        "이 역을 $C_\\text{noisy}$에 적용하면 실제 카운트의 근사치를 얻을 수 있습니다."
      ]
    },
    {
      "cell_type": "code",
      "execution_count": 8,
      "metadata": {
      },
      "outputs": [
        {
          "name": "stdout",
          "output_type": "stream",
          "text": [
            "C_mitigated =\n",
            " [[5.00000000e+03]\n",
            " [0.00000000e+00]\n",
            " [1.42108547e-14]\n",
            " [5.00000000e+03]]\n"
          ]
        }
      ],
      "source": [
        "Cmitigated = np.dot(Minv, Cnoisy)\n",
        "print('C_mitigated =\\n', Cmitigated)"
      ]
    },
    {
      "cell_type": "markdown",
      "metadata": {
      },
      "source": [
        "물론 개수는 정수여야 하므로 이 값을 반올림해야 합니다. 결과는 매우 좋습니다. $$ C_\\text{mitigated} = \\begin{pmatrix} 5000 \\ 0 \\ 0 \\ 5000 \\end{pmatrix} $$\n",
        "\n",
        "이것은 올바른 결과입니다. 오류 완화가 잘 되었습니다!"
      ]
    },
    {
      "cell_type": "markdown",
      "metadata": {
      },
      "source": [
        "### Qiskit의 오류 완화"
      ]
    },
    {
      "cell_type": "code",
      "execution_count": 9,
      "metadata": {
      },
      "outputs": [

      ],
      "source": [
        "from qiskit.utils.mitigation import complete_meas_cal, CompleteMeasFitter"
      ]
    },
    {
      "cell_type": "markdown",
      "metadata": {
      },
      "source": [
        "측정 오류 완화 프로세스는 Qiskit의 도구를 사용하여 수행할 수도 있습니다. 이는 기본 상태에 대한 데이터 수집, 행렬 구성, 역 계산을 처리합니다. 역 계산은 위에서 본 것처럼 의사 역을 사용하여 수행할 수 있습니다. 그러나 최소 제곱 피팅을 사용하는 훨씬 더 정교한 방법이 기본으로 되어있습니다.\n",
        "\n",
        "예를 들어 큐비트 쌍에 대한 오류 완화를 계속 수행해 보겠습니다. 이를 위해 우리는 2큐비트 양자 레지스터를 정의하고 이를 `complete_meas_cal` 함수에 입력합니다."
      ]
    },
    {
      "cell_type": "code",
      "execution_count": 10,
      "metadata": {
      },
      "outputs": [

      ],
      "source": [
        "qr = QuantumRegister(2)\n",
        "meas_calibs, state_labels = complete_meas_cal(qr=qr, circlabel='mcal')"
      ]
    },
    {
      "cell_type": "markdown",
      "metadata": {
      },
      "source": [
        "이것은 두 큐비트 네 가지 기본 상태 $\\left|00\\right\\rangle$, $\\left|01\\right\\rangle$, $\\left|10\\right\\rangle$, $\\left|11\\right\\rangle$ 각각을 측정하는 회로 집합을 생성합니다."
      ]
    },
    {
      "cell_type": "code",
      "execution_count": 11,
      "metadata": {
      },
      "outputs": [
        {
          "name": "stdout",
          "output_type": "stream",
          "text": [
            "Circuit mcalcal_00\n",
            "        ░ ┌─┐   \n",
            "q20_0: ─░─┤M├───\n",
            "        ░ └╥┘┌─┐\n",
            "q20_1: ─░──╫─┤M├\n",
            "        ░  ║ └╥┘\n",
            " c0: 2/════╩══╩═\n",
            "           0  1 \n",
            "\n",
            "Circuit mcalcal_01\n",
            "       ┌───┐ ░ ┌─┐   \n",
            "q20_0: ┤ X ├─░─┤M├───\n",
            "       └───┘ ░ └╥┘┌─┐\n",
            "q20_1: ──────░──╫─┤M├\n",
            "             ░  ║ └╥┘\n",
            " c0: 2/═════════╩══╩═\n",
            "                0  1 \n",
            "\n",
            "Circuit mcalcal_10\n",
            "             ░ ┌─┐   \n",
            "q20_0: ──────░─┤M├───\n",
            "       ┌───┐ ░ └╥┘┌─┐\n",
            "q20_1: ┤ X ├─░──╫─┤M├\n",
            "       └───┘ ░  ║ └╥┘\n",
            " c0: 2/═════════╩══╩═\n",
            "                0  1 \n",
            "\n",
            "Circuit mcalcal_11\n",
            "       ┌───┐ ░ ┌─┐   \n",
            "q20_0: ┤ X ├─░─┤M├───\n",
            "       ├───┤ ░ └╥┘┌─┐\n",
            "q20_1: ┤ X ├─░──╫─┤M├\n",
            "       └───┘ ░  ║ └╥┘\n",
            " c0: 2/═════════╩══╩═\n",
            "                0  1 \n",
            "\n"
          ]
        }
      ],
      "source": [
        "for circuit in meas_calibs:\n",
        "    print('Circuit', circuit.name)\n",
        "    print(circuit)\n",
        "    print()"
      ]
    },
    {
      "cell_type": "markdown",
      "metadata": {
      },
      "source": [
        "이제 잡음 없이 이 회로를 실행해 보겠습니다."
      ]
    },
    {
      "cell_type": "code",
      "execution_count": 12,
      "metadata": {
      },
      "outputs": [

      ],
      "source": [
        "# Execute the calibration circuits without noise\n",
        "backend = Aer.get_backend('qasm_simulator')\n",
        "job = execute(meas_calibs, backend=backend, shots=1000)\n",
        "cal_results = job.result()"
      ]
    },
    {
      "cell_type": "markdown",
      "metadata": {
      },
      "source": [
        "그 결과로 보정 행렬 $M$을 구성할 수 있습니다."
      ]
    },
    {
      "cell_type": "code",
      "execution_count": 13,
      "metadata": {
      },
      "outputs": [
        {
          "name": "stdout",
          "output_type": "stream",
          "text": [
            "[[1. 0. 0. 0.]\n",
            " [0. 1. 0. 0.]\n",
            " [0. 0. 1. 0.]\n",
            " [0. 0. 0. 1.]]\n"
          ]
        }
      ],
      "source": [
        "meas_fitter = CompleteMeasFitter(cal_results, state_labels, circlabel='mcal')\n",
        "print(meas_fitter.cal_matrix)"
      ]
    },
    {
      "cell_type": "markdown",
      "metadata": {
      },
      "source": [
        "잡음이 없으면 이것은 단순히 항등 행렬입니다.\n",
        "\n",
        "이제 잡음 모델을 만들어 보겠습니다. 그리고 이전보다 더 흥미롭게 오류가 10배 더 발생하도록 만듭니다."
      ]
    },
    {
      "cell_type": "code",
      "execution_count": 14,
      "metadata": {
      },
      "outputs": [

      ],
      "source": [
        "noise_model = get_noise(0.1)"
      ]
    },
    {
      "cell_type": "markdown",
      "metadata": {
      },
      "source": [
        "다시 회로를 실행하고 보정 행렬 $M$를 볼 수 있습니다."
      ]
    },
    {
      "cell_type": "code",
      "execution_count": 15,
      "metadata": {
      },
      "outputs": [
        {
          "name": "stdout",
          "output_type": "stream",
          "text": [
            "[[0.8   0.086 0.095 0.008]\n",
            " [0.091 0.817 0.01  0.087]\n",
            " [0.099 0.014 0.805 0.095]\n",
            " [0.01  0.083 0.09  0.81 ]]\n"
          ]
        }
      ],
      "source": [
        "backend = Aer.get_backend('qasm_simulator')\n",
        "job = execute(meas_calibs, backend=backend, shots=1000, noise_model=noise_model)\n",
        "cal_results = job.result()\n",
        "\n",
        "meas_fitter = CompleteMeasFitter(cal_results, state_labels, circlabel='mcal')\n",
        "print(meas_fitter.cal_matrix)"
      ]
    },
    {
      "cell_type": "markdown",
      "metadata": {
      },
      "source": [
        "이번에는 좀 더 흥미로운 행렬을 찾았고 이전에 설명한 접근 방식에서는 사용할 수 없는 행렬을 찾았습니다. 이 잡음을 얼마나 잘 완화할 수 있는지 봅시다. 다시 한 번 실험에 벨 상태 $(\\left|00\\right\\rangle+\\left|11\\right\\rangle)/\\sqrt{2}$를 사용하겠습니다."
      ]
    },
    {
      "cell_type": "code",
      "execution_count": 16,
      "metadata": {
      },
      "outputs": [
        {
          "name": "stdout",
          "output_type": "stream",
          "text": [
            "{'01': 910, '10': 889, '11': 4048, '00': 4153}\n"
          ]
        }
      ],
      "source": [
        "qc = QuantumCircuit(2,2)\n",
        "qc.h(0)\n",
        "qc.cx(0,1)  \n",
        "qc.measure(qc.qregs[0],qc.cregs[0])\n",
        "\n",
        "results = execute(qc, backend=backend, shots=10000, noise_model=noise_model).result()\n",
        "\n",
        "noisy_counts = results.get_counts()\n",
        "print(noisy_counts)"
      ]
    },
    {
      "cell_type": "markdown",
      "metadata": {
      },
      "source": [
        "Qiskit에서는 측정 필터 객체를 생성하여 잡음을 완화합니다. 그런 다음 위의 결과를 사용하여 완화된 카운트 집합을 계산합니다. Qiskit은 이것을 딕셔너리로 반환하므로 사용자는 결과를 얻기 위해 벡터 자체를 사용할 필요가 없습니다."
      ]
    },
    {
      "cell_type": "code",
      "execution_count": 17,
      "metadata": {
      },
      "outputs": [

      ],
      "source": [
        "# Get the filter object\n",
        "meas_filter = meas_fitter.filter\n",
        "\n",
        "# Results with mitigation\n",
        "mitigated_results = meas_filter.apply(results)\n",
        "mitigated_counts = mitigated_results.get_counts(0)"
      ]
    },
    {
      "cell_type": "markdown",
      "metadata": {
      },
      "source": [
        "결과를 가장 명확하게 보기 위해 잡음이 있는 결과와 완화된 결과를 모두 그려 보겠습니다."
      ]
    },
    {
      "cell_type": "code",
      "execution_count": 18,
      "metadata": {
      },
      "outputs": [
        {
          "data": {
            "image/svg+xml": [
              "<?xml version=\"1.0\" encoding=\"UTF-8\"?><!DOCTYPE svg  PUBLIC '-//W3C//DTD SVG 1.1//EN'  'http://www.w3.org/Graphics/SVG/1.1/DTD/svg11.dtd'><svg width=\"565.57pt\" height=\"319.97pt\" version=\"1.1\" viewBox=\"0 0 565.57 319.97\" xmlns=\"http://www.w3.org/2000/svg\" xmlns:xlink=\"http://www.w3.org/1999/xlink\"><defs><style type=\"text/css\">*{stroke-linejoin: round; stroke-linecap: butt}</style></defs><path d=\"m0 319.97h565.57v-319.97h-565.57z\" fill=\"#ffffff\"/><path d=\"m62.921 284.4h390.6v-277.2h-390.6z\" fill=\"#ffffff\"/><defs><path id=\"md1ddd3ba98\" d=\"m0 0v3.5\" stroke=\"#343a3f\" stroke-width=\".8\"/></defs><use x=\"112.956787\" y=\"284.4\" fill=\"#343a3f\" stroke=\"#343a3f\" stroke-width=\".8\" xlink:href=\"#md1ddd3ba98\"/><g transform=\"translate(113.54 311.78) rotate(-70) scale(.14 -.14)\" fill=\"#343a3f\"><defs><path id=\"DejaVuSans-30\" transform=\"scale(.015625)\" d=\"m2034 4250q-487 0-733-480-245-479-245-1442 0-959 245-1439 246-480 733-480 491 0 736 480 246 480 246 1439 0 963-246 1442-245 480-736 480zm0 500q785 0 1199-621 414-620 414-1801 0-1178-414-1799-414-620-1199-620-784 0-1198 620-414 621-414 1799 0 1181 414 1801 414 621 1198 621z\"/></defs><use xlink:href=\"#DejaVuSans-30\"/><use x=\"63.623047\" xlink:href=\"#DejaVuSans-30\"/></g><use x=\"209.799762\" y=\"284.4\" fill=\"#343a3f\" stroke=\"#343a3f\" stroke-width=\".8\" xlink:href=\"#md1ddd3ba98\"/><g transform=\"translate(210.38 311.78) rotate(-70) scale(.14 -.14)\" fill=\"#343a3f\"><defs><path id=\"DejaVuSans-31\" transform=\"scale(.015625)\" d=\"m794 531h1031v3560l-1122-225v575l1116 225h631v-4135h1031v-531h-2687v531z\"/></defs><use xlink:href=\"#DejaVuSans-30\"/><use x=\"63.623047\" xlink:href=\"#DejaVuSans-31\"/></g><use x=\"306.642738\" y=\"284.4\" fill=\"#343a3f\" stroke=\"#343a3f\" stroke-width=\".8\" xlink:href=\"#md1ddd3ba98\"/><g transform=\"translate(307.23 311.78) rotate(-70) scale(.14 -.14)\" fill=\"#343a3f\"><use xlink:href=\"#DejaVuSans-31\"/><use x=\"63.623047\" xlink:href=\"#DejaVuSans-30\"/></g><use x=\"403.485713\" y=\"284.4\" fill=\"#343a3f\" stroke=\"#343a3f\" stroke-width=\".8\" xlink:href=\"#md1ddd3ba98\"/><g transform=\"translate(404.07 311.78) rotate(-70) scale(.14 -.14)\" fill=\"#343a3f\"><use xlink:href=\"#DejaVuSans-31\"/><use x=\"63.623047\" xlink:href=\"#DejaVuSans-31\"/></g><path d=\"m62.921 284.4h390.6\" clip-path=\"url(#p8e7c5a3491)\" fill=\"none\" stroke=\"#dde1e6\" stroke-dasharray=\"2.96,1.28\" stroke-width=\".8\"/><defs><path id=\"mcfd2d10c15\" d=\"m0 0h-3.5\" stroke=\"#343a3f\" stroke-width=\".8\"/></defs><use x=\"62.92125\" y=\"284.4\" fill=\"#343a3f\" stroke=\"#343a3f\" stroke-width=\".8\" xlink:href=\"#mcfd2d10c15\"/><g transform=\"translate(24.749 289.72) scale(.14 -.14)\" fill=\"#343a3f\"><defs><path id=\"DejaVuSans-2e\" transform=\"scale(.015625)\" d=\"m684 794h660v-794h-660v794z\"/></defs><use xlink:href=\"#DejaVuSans-30\"/><use x=\"63.623047\" xlink:href=\"#DejaVuSans-2e\"/><use x=\"95.410156\" xlink:href=\"#DejaVuSans-30\"/><use x=\"159.033203\" xlink:href=\"#DejaVuSans-30\"/></g><path d=\"m62.921 216.49h390.6\" clip-path=\"url(#p8e7c5a3491)\" fill=\"none\" stroke=\"#dde1e6\" stroke-dasharray=\"2.96,1.28\" stroke-width=\".8\"/><use x=\"62.92125\" y=\"216.492278\" fill=\"#343a3f\" stroke=\"#343a3f\" stroke-width=\".8\" xlink:href=\"#mcfd2d10c15\"/><g transform=\"translate(24.749 221.81) scale(.14 -.14)\" fill=\"#343a3f\"><defs><path id=\"DejaVuSans-35\" transform=\"scale(.015625)\" d=\"m691 4666h2478v-532h-1900v-1143q137 47 274 70 138 23 276 23 781 0 1237-428 457-428 457-1159 0-753-469-1171-469-417-1322-417-294 0-599 50-304 50-629 150v635q281-153 581-228t634-75q541 0 856 284 316 284 316 772 0 487-316 771-315 285-856 285-253 0-505-56-251-56-513-175v2344z\"/></defs><use xlink:href=\"#DejaVuSans-30\"/><use x=\"63.623047\" xlink:href=\"#DejaVuSans-2e\"/><use x=\"95.410156\" xlink:href=\"#DejaVuSans-31\"/><use x=\"159.033203\" xlink:href=\"#DejaVuSans-35\"/></g><path d=\"m62.921 148.58h390.6\" clip-path=\"url(#p8e7c5a3491)\" fill=\"none\" stroke=\"#dde1e6\" stroke-dasharray=\"2.96,1.28\" stroke-width=\".8\"/><use x=\"62.92125\" y=\"148.584555\" fill=\"#343a3f\" stroke=\"#343a3f\" stroke-width=\".8\" xlink:href=\"#mcfd2d10c15\"/><g transform=\"translate(24.749 153.9) scale(.14 -.14)\" fill=\"#343a3f\"><defs><path id=\"DejaVuSans-33\" transform=\"scale(.015625)\" d=\"m2597 2516q453-97 707-404 255-306 255-756 0-690-475-1069-475-378-1350-378-293 0-604 58t-642 174v609q262-153 574-231 313-78 654-78 593 0 904 234t311 681q0 413-289 645-289 233-804 233h-544v519h569q465 0 712 186t247 536q0 359-255 551-254 193-729 193-260 0-557-57-297-56-653-174v562q360 100 674 150t592 50q719 0 1137-327 419-326 419-882 0-388-222-655t-631-370z\"/></defs><use xlink:href=\"#DejaVuSans-30\"/><use x=\"63.623047\" xlink:href=\"#DejaVuSans-2e\"/><use x=\"95.410156\" xlink:href=\"#DejaVuSans-33\"/><use x=\"159.033203\" xlink:href=\"#DejaVuSans-30\"/></g><path d=\"m62.921 80.677h390.6\" clip-path=\"url(#p8e7c5a3491)\" fill=\"none\" stroke=\"#dde1e6\" stroke-dasharray=\"2.96,1.28\" stroke-width=\".8\"/><use x=\"62.92125\" y=\"80.676833\" fill=\"#343a3f\" stroke=\"#343a3f\" stroke-width=\".8\" xlink:href=\"#mcfd2d10c15\"/><g transform=\"translate(24.749 85.996) scale(.14 -.14)\" fill=\"#343a3f\"><defs><path id=\"DejaVuSans-34\" transform=\"scale(.015625)\" d=\"m2419 4116-1594-2491h1594v2491zm-166 550h794v-3041h666v-525h-666v-1100h-628v1100h-2106v609l1940 2957z\"/></defs><use xlink:href=\"#DejaVuSans-30\"/><use x=\"63.623047\" xlink:href=\"#DejaVuSans-2e\"/><use x=\"95.410156\" xlink:href=\"#DejaVuSans-34\"/><use x=\"159.033203\" xlink:href=\"#DejaVuSans-35\"/></g><path d=\"m62.921 12.769h390.6\" clip-path=\"url(#p8e7c5a3491)\" fill=\"none\" stroke=\"#dde1e6\" stroke-dasharray=\"2.96,1.28\" stroke-width=\".8\"/><use x=\"62.92125\" y=\"12.769111\" fill=\"#343a3f\" stroke=\"#343a3f\" stroke-width=\".8\" xlink:href=\"#mcfd2d10c15\"/><g transform=\"translate(24.749 18.088) scale(.14 -.14)\" fill=\"#343a3f\"><defs><path id=\"DejaVuSans-36\" transform=\"scale(.015625)\" d=\"m2113 2584q-425 0-674-291-248-290-248-796 0-503 248-796 249-292 674-292t673 292q248 293 248 796 0 506-248 796-248 291-673 291zm1253 1979v-575q-238 112-480 171-242 60-480 60-625 0-955-422-329-422-376-1275 184 272 462 417 279 145 613 145 703 0 1111-427 408-426 408-1160 0-719-425-1154-425-434-1131-434-810 0-1238 620-428 621-428 1799 0 1106 525 1764t1409 658q238 0 480-47t505-140z\"/></defs><use xlink:href=\"#DejaVuSans-30\"/><use x=\"63.623047\" xlink:href=\"#DejaVuSans-2e\"/><use x=\"95.410156\" xlink:href=\"#DejaVuSans-36\"/><use x=\"159.033203\" xlink:href=\"#DejaVuSans-30\"/></g><g transform=\"translate(17.838 188.56) rotate(-90) scale(.14 -.14)\" fill=\"#343a3f\"><defs><path id=\"DejaVuSans-50\" transform=\"scale(.015625)\" d=\"m1259 4147v-1753h794q441 0 681 228 241 228 241 650 0 419-241 647-240 228-681 228h-794zm-631 519h1425q785 0 1186-355 402-355 402-1039 0-691-402-1044-401-353-1186-353h-794v-1875h-631v4666z\"/><path id=\"DejaVuSans-72\" transform=\"scale(.015625)\" d=\"m2631 2963q-97 56-211 82-114 27-251 27-488 0-749-317t-261-911v-1844h-578v3500h578v-544q182 319 472 473 291 155 707 155 59 0 131-8 72-7 159-23l3-590z\"/><path id=\"DejaVuSans-6f\" transform=\"scale(.015625)\" d=\"m1959 3097q-462 0-731-361t-269-989 267-989q268-361 733-361 460 0 728 362 269 363 269 988 0 622-269 986-268 364-728 364zm0 487q750 0 1178-488 429-487 429-1349 0-859-429-1349-428-489-1178-489-753 0-1180 489-426 490-426 1349 0 862 426 1349 427 488 1180 488z\"/><path id=\"DejaVuSans-62\" transform=\"scale(.015625)\" d=\"m3116 1747q0 634-261 995t-717 361q-457 0-718-361t-261-995 261-995 718-361q456 0 717 361t261 995zm-1957 1222q182 312 458 463 277 152 661 152 638 0 1036-506 399-506 399-1331t-399-1332q-398-506-1036-506-384 0-661 152-276 152-458 464v-525h-578v4863h578v-1894z\"/><path id=\"DejaVuSans-61\" transform=\"scale(.015625)\" d=\"m2194 1759q-697 0-966-159t-269-544q0-306 202-486 202-179 548-179 479 0 768 339t289 901v128h-572zm1147 238v-1997h-575v531q-197-318-491-470t-719-152q-537 0-855 302-317 302-317 808 0 590 395 890 396 300 1180 300h807v57q0 397-261 614t-733 217q-300 0-585-72-284-72-546-216v532q315 122 612 182 297 61 578 61 760 0 1135-394 375-393 375-1193z\"/><path id=\"DejaVuSans-69\" transform=\"scale(.015625)\" d=\"m603 3500h575v-3500h-575v3500zm0 1363h575v-729h-575v729z\"/><path id=\"DejaVuSans-6c\" transform=\"scale(.015625)\" d=\"m603 4863h575v-4863h-575v4863z\"/><path id=\"DejaVuSans-74\" transform=\"scale(.015625)\" d=\"m1172 4494v-994h1184v-447h-1184v-1900q0-428 117-550t477-122h590v-481h-590q-666 0-919 248-253 249-253 905v1900h-422v447h422v994h578z\"/><path id=\"DejaVuSans-65\" transform=\"scale(.015625)\" d=\"m3597 1894v-281h-2644q38-594 358-905t892-311q331 0 642 81t618 244v-544q-310-131-635-200t-659-69q-838 0-1327 487-489 488-489 1320 0 859 464 1363 464 505 1252 505 706 0 1117-455 411-454 411-1235zm-575 169q-6 471-264 752-258 282-683 282-481 0-770-272t-333-766l2050 4z\"/><path id=\"DejaVuSans-73\" transform=\"scale(.015625)\" d=\"m2834 3397v-544q-243 125-506 187-262 63-544 63-428 0-642-131t-214-394q0-200 153-314t616-217l197-44q612-131 870-370t258-667q0-488-386-773-386-284-1061-284-281 0-586 55t-642 164v594q319-166 628-249 309-82 613-82 406 0 624 139 219 139 219 392 0 234-158 359-157 125-692 241l-200 47q-534 112-772 345-237 233-237 639 0 494 350 762 350 269 994 269 318 0 599-47 282-46 519-140z\"/></defs><use xlink:href=\"#DejaVuSans-50\"/><use x=\"58.552734\" xlink:href=\"#DejaVuSans-72\"/><use x=\"97.416016\" xlink:href=\"#DejaVuSans-6f\"/><use x=\"158.597656\" xlink:href=\"#DejaVuSans-62\"/><use x=\"222.074219\" xlink:href=\"#DejaVuSans-61\"/><use x=\"283.353516\" xlink:href=\"#DejaVuSans-62\"/><use x=\"346.830078\" xlink:href=\"#DejaVuSans-69\"/><use x=\"374.613281\" xlink:href=\"#DejaVuSans-6c\"/><use x=\"402.396484\" xlink:href=\"#DejaVuSans-69\"/><use x=\"430.179688\" xlink:href=\"#DejaVuSans-74\"/><use x=\"469.388672\" xlink:href=\"#DejaVuSans-69\"/><use x=\"497.171875\" xlink:href=\"#DejaVuSans-65\"/><use x=\"558.695312\" xlink:href=\"#DejaVuSans-73\"/></g><path d=\"m80.676 284.4h32.281v-188.01h-32.281z\" clip-path=\"url(#p8e7c5a3491)\" fill=\"#648fff\"/><path d=\"m177.52 284.4h32.281v-41.197h-32.281z\" clip-path=\"url(#p8e7c5a3491)\" fill=\"#648fff\"/><path d=\"m274.36 284.4h32.281v-40.247h-32.281z\" clip-path=\"url(#p8e7c5a3491)\" fill=\"#648fff\"/><path d=\"m371.2 284.4h32.281v-183.26h-32.281z\" clip-path=\"url(#p8e7c5a3491)\" fill=\"#648fff\"/><path d=\"m112.96 284.4h32.281v-231h-32.281z\" clip-path=\"url(#p8e7c5a3491)\" fill=\"#dc267f\"/><path d=\"m209.8 284.4h32.281v-0.065681h-32.281z\" clip-path=\"url(#p8e7c5a3491)\" fill=\"#dc267f\"/><path d=\"m306.64 284.4h32.281-32.281z\" clip-path=\"url(#p8e7c5a3491)\" fill=\"#dc267f\"/><path d=\"m403.49 284.4h32.281v-221.65h-32.281z\" clip-path=\"url(#p8e7c5a3491)\" fill=\"#dc267f\"/><path d=\"m62.921 284.4v-277.2\" fill=\"none\" stroke=\"#343a3f\" stroke-linecap=\"square\" stroke-width=\".8\"/><path d=\"m62.921 284.4h390.6\" fill=\"none\" stroke=\"#343a3f\" stroke-linecap=\"square\" stroke-width=\".8\"/><g transform=\"translate(82.502 84.906) scale(.1 -.1)\" fill=\"#343a3f\"><use xlink:href=\"#DejaVuSans-30\"/><use x=\"63.623047\" xlink:href=\"#DejaVuSans-2e\"/><use x=\"95.410156\" xlink:href=\"#DejaVuSans-34\"/><use x=\"159.033203\" xlink:href=\"#DejaVuSans-31\"/><use x=\"222.65625\" xlink:href=\"#DejaVuSans-35\"/></g><g transform=\"translate(179.35 239.06) scale(.1 -.1)\" fill=\"#343a3f\"><defs><path id=\"DejaVuSans-39\" transform=\"scale(.015625)\" d=\"m703 97v575q238-113 481-172 244-59 479-59 625 0 954 420 330 420 377 1277-181-269-460-413-278-144-615-144-700 0-1108 423-408 424-408 1159 0 718 425 1152 425 435 1131 435 810 0 1236-621 427-620 427-1801 0-1103-524-1761-523-658-1407-658-238 0-482 47-243 47-506 141zm1256 1978q425 0 673 290 249 291 249 798 0 503-249 795-248 292-673 292t-673-292-248-795q0-507 248-798 248-290 673-290z\"/></defs><use xlink:href=\"#DejaVuSans-30\"/><use x=\"63.623047\" xlink:href=\"#DejaVuSans-2e\"/><use x=\"95.410156\" xlink:href=\"#DejaVuSans-30\"/><use x=\"159.033203\" xlink:href=\"#DejaVuSans-39\"/><use x=\"222.65625\" xlink:href=\"#DejaVuSans-31\"/></g><g transform=\"translate(276.19 240.06) scale(.1 -.1)\" fill=\"#343a3f\"><defs><path id=\"DejaVuSans-38\" transform=\"scale(.015625)\" d=\"m2034 2216q-450 0-708-241-257-241-257-662 0-422 257-663 258-241 708-241t709 242q260 243 260 662 0 421-258 662-257 241-711 241zm-631 268q-406 100-633 378-226 279-226 679 0 559 398 884 399 325 1092 325 697 0 1094-325t397-884q0-400-227-679-226-278-629-378 456-106 710-416 255-309 255-755 0-679-414-1042-414-362-1186-362-771 0-1186 362-414 363-414 1042 0 446 256 755 257 310 713 416zm-231 997q0-362 226-565 227-203 636-203 407 0 636 203 230 203 230 565 0 363-230 566-229 203-636 203-409 0-636-203-226-203-226-566z\"/></defs><use xlink:href=\"#DejaVuSans-30\"/><use x=\"63.623047\" xlink:href=\"#DejaVuSans-2e\"/><use x=\"95.410156\" xlink:href=\"#DejaVuSans-30\"/><use x=\"159.033203\" xlink:href=\"#DejaVuSans-38\"/><use x=\"222.65625\" xlink:href=\"#DejaVuSans-39\"/></g><g transform=\"translate(373.03 89.897) scale(.1 -.1)\" fill=\"#343a3f\"><use xlink:href=\"#DejaVuSans-30\"/><use x=\"63.623047\" xlink:href=\"#DejaVuSans-2e\"/><use x=\"95.410156\" xlink:href=\"#DejaVuSans-34\"/><use x=\"159.033203\" xlink:href=\"#DejaVuSans-30\"/><use x=\"222.65625\" xlink:href=\"#DejaVuSans-35\"/></g><g transform=\"translate(82.502 84.906) scale(.1 -.1)\" fill=\"#343a3f\"><use xlink:href=\"#DejaVuSans-30\"/><use x=\"63.623047\" xlink:href=\"#DejaVuSans-2e\"/><use x=\"95.410156\" xlink:href=\"#DejaVuSans-34\"/><use x=\"159.033203\" xlink:href=\"#DejaVuSans-31\"/><use x=\"222.65625\" xlink:href=\"#DejaVuSans-35\"/></g><g transform=\"translate(179.35 239.06) scale(.1 -.1)\" fill=\"#343a3f\"><use xlink:href=\"#DejaVuSans-30\"/><use x=\"63.623047\" xlink:href=\"#DejaVuSans-2e\"/><use x=\"95.410156\" xlink:href=\"#DejaVuSans-30\"/><use x=\"159.033203\" xlink:href=\"#DejaVuSans-39\"/><use x=\"222.65625\" xlink:href=\"#DejaVuSans-31\"/></g><g transform=\"translate(276.19 240.06) scale(.1 -.1)\" fill=\"#343a3f\"><use xlink:href=\"#DejaVuSans-30\"/><use x=\"63.623047\" xlink:href=\"#DejaVuSans-2e\"/><use x=\"95.410156\" xlink:href=\"#DejaVuSans-30\"/><use x=\"159.033203\" xlink:href=\"#DejaVuSans-38\"/><use x=\"222.65625\" xlink:href=\"#DejaVuSans-39\"/></g><g transform=\"translate(373.03 89.897) scale(.1 -.1)\" fill=\"#343a3f\"><use xlink:href=\"#DejaVuSans-30\"/><use x=\"63.623047\" xlink:href=\"#DejaVuSans-2e\"/><use x=\"95.410156\" xlink:href=\"#DejaVuSans-34\"/><use x=\"159.033203\" xlink:href=\"#DejaVuSans-30\"/><use x=\"222.65625\" xlink:href=\"#DejaVuSans-35\"/></g><g transform=\"translate(114.78 39.77) scale(.1 -.1)\" fill=\"#343a3f\"><use xlink:href=\"#DejaVuSans-30\"/><use x=\"63.623047\" xlink:href=\"#DejaVuSans-2e\"/><use x=\"95.410156\" xlink:href=\"#DejaVuSans-35\"/><use x=\"159.033203\" xlink:href=\"#DejaVuSans-31\"/><use x=\"222.65625\" xlink:href=\"#DejaVuSans-30\"/></g><g transform=\"translate(222.76 282.25) scale(.1 -.1)\" fill=\"#343a3f\"><use xlink:href=\"#DejaVuSans-30\"/></g><g transform=\"translate(319.6 282.32) scale(.1 -.1)\" fill=\"#343a3f\"><use xlink:href=\"#DejaVuSans-30\"/></g><g transform=\"translate(405.31 49.585) scale(.1 -.1)\" fill=\"#343a3f\"><use xlink:href=\"#DejaVuSans-30\"/><use x=\"63.623047\" xlink:href=\"#DejaVuSans-2e\"/><use x=\"95.410156\" xlink:href=\"#DejaVuSans-34\"/><use x=\"159.033203\" xlink:href=\"#DejaVuSans-39\"/><use x=\"222.65625\" xlink:href=\"#DejaVuSans-30\"/></g><path d=\"m457.43 46.028h100.94v-38.828h-100.94z\" fill=\"#ffffff\" opacity=\".8\" stroke=\"#cccccc\"/><path d=\"m462.23 21.118h24v-8.4h-24z\" fill=\"#648fff\"/><g transform=\"translate(495.83 21.118) scale(.12 -.12)\" fill=\"#343a3f\"><defs><path id=\"DejaVuSans-6e\" transform=\"scale(.015625)\" d=\"m3513 2113v-2113h-575v2094q0 497-194 743-194 247-581 247-466 0-735-297-269-296-269-809v-1978h-578v3500h578v-544q207 316 486 472 280 156 646 156 603 0 912-373 310-373 310-1098z\"/><path id=\"DejaVuSans-79\" transform=\"scale(.015625)\" d=\"m2059-325q-243-625-475-815-231-191-618-191h-460v481h338q237 0 368 113 132 112 291 531l103 262-1415 3444h609l1094-2737 1094 2737h609l-1538-3825z\"/></defs><use xlink:href=\"#DejaVuSans-6e\"/><use x=\"63.378906\" xlink:href=\"#DejaVuSans-6f\"/><use x=\"124.560547\" xlink:href=\"#DejaVuSans-69\"/><use x=\"152.34375\" xlink:href=\"#DejaVuSans-73\"/><use x=\"204.443359\" xlink:href=\"#DejaVuSans-79\"/></g><path d=\"m462.23 38.732h24v-8.4h-24z\" fill=\"#dc267f\"/><g transform=\"translate(495.83 38.732) scale(.12 -.12)\" fill=\"#343a3f\"><defs><path id=\"DejaVuSans-6d\" transform=\"scale(.015625)\" d=\"m3328 2828q216 388 516 572t706 184q547 0 844-383 297-382 297-1088v-2113h-578v2094q0 503-179 746-178 244-543 244-447 0-707-297-259-296-259-809v-1978h-578v2094q0 506-178 748t-550 242q-441 0-701-298-259-298-259-808v-1978h-578v3500h578v-544q197 322 472 475t653 153q382 0 649-194 267-193 395-562z\"/><path id=\"DejaVuSans-67\" transform=\"scale(.015625)\" d=\"m2906 1791q0 625-258 968-257 344-723 344-462 0-720-344-258-343-258-968 0-622 258-966t720-344q466 0 723 344 258 344 258 966zm575-1357q0-893-397-1329-396-436-1215-436-303 0-572 45t-522 139v559q253-137 500-202 247-66 503-66 566 0 847 295t281 892v285q-178-310-456-463t-666-153q-643 0-1037 490-394 491-394 1301 0 812 394 1302 394 491 1037 491 388 0 666-153t456-462v531h575v-3066z\"/><path id=\"DejaVuSans-64\" transform=\"scale(.015625)\" d=\"m2906 2969v1894h575v-4863h-575v525q-181-312-458-464-276-152-664-152-634 0-1033 506-398 507-398 1332t398 1331q399 506 1033 506 388 0 664-152 277-151 458-463zm-1959-1222q0-634 261-995t717-361 718 361q263 361 263 995t-263 995q-262 361-718 361t-717-361-261-995z\"/></defs><use xlink:href=\"#DejaVuSans-6d\"/><use x=\"97.412109\" xlink:href=\"#DejaVuSans-69\"/><use x=\"125.195312\" xlink:href=\"#DejaVuSans-74\"/><use x=\"164.404297\" xlink:href=\"#DejaVuSans-69\"/><use x=\"192.1875\" xlink:href=\"#DejaVuSans-67\"/><use x=\"255.664062\" xlink:href=\"#DejaVuSans-61\"/><use x=\"316.943359\" xlink:href=\"#DejaVuSans-74\"/><use x=\"356.152344\" xlink:href=\"#DejaVuSans-65\"/><use x=\"417.675781\" xlink:href=\"#DejaVuSans-64\"/></g><defs><clipPath id=\"p8e7c5a3491\"><rect x=\"62.921\" y=\"7.2\" width=\"390.6\" height=\"277.2\"/></clipPath></defs></svg>"
            ],
            "text/plain": [
              "<Figure size 700x500 with 1 Axes>"
            ]
          },
          "execution_count": 18,
          "metadata": {
          },
          "output_type": "execute_result"
        }
      ],
      "source": [
        "from qiskit.visualization import plot_histogram \n",
        "plot_histogram([noisy_counts, mitigated_counts], legend=['noisy', 'mitigated'])"
      ]
    },
    {
      "cell_type": "markdown",
      "metadata": {
      },
      "source": [
        "여기서 표본의 거의 $20%$가 잘못된 결과와 이를 올바르게 바꾼 참 결과를 표현했습니다. 그러나 이 예에는 간단한 잡음 모델이 있는 큐비트가 두 개뿐입니다. 더 많은 큐비트와 더 복잡한 잡음 모델 또는 실제 장치의 데이터의 경우 완화에 더 많은 어려움이 있습니다. Qiskit이 사용하는 방법보다 더 나은 방법을 찾을 수도 있습니다!"
      ]
    },
    {
      "cell_type": "code",
      "execution_count": 19,
      "metadata": {
      },
      "outputs": [
        {
          "data": {
            "text/plain": [
              "{'qiskit-terra': '0.21.2', 'qiskit-aer': '0.10.4', 'qiskit-ignis': None, 'qiskit-ibmq-provider': '0.19.2', 'qiskit': '0.37.2', 'qiskit-nature': '0.4.1', 'qiskit-finance': '0.3.2', 'qiskit-optimization': '0.4.0', 'qiskit-machine-learning': '0.4.0'}"
            ]
          },
          "execution_count": 19,
          "metadata": {
          },
          "output_type": "execute_result"
        }
      ],
      "source": [
        "import qiskit\n",
        "qiskit.__qiskit_version__"
      ]
    }
  ],
  "metadata": {
    "kernelspec": {
      "display_name": "Python 3",
      "language": "python",
      "name": "python3"
    },
    "language_info": {
      "codemirror_mode": {
        "name": "ipython",
        "version": 3
      },
      "file_extension": ".py",
      "mimetype": "text/x-python",
      "name": "python",
      "nbconvert_exporter": "python",
      "pygments_lexer": "ipython3",
      "version": "3.9"
    }
  },
  "nbformat": 4,
  "nbformat_minor": 2
}
